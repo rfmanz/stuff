{
 "cells": [
  {
   "cell_type": "markdown",
   "id": "e047a07a",
   "metadata": {},
   "source": [
    "### Measure PSI with current prod data and past dev\n",
    "---"
   ]
  },
  {
   "cell_type": "code",
   "execution_count": 1,
   "id": "951b3b46",
   "metadata": {
    "execution": {
     "iopub.execute_input": "2021-09-30T22:43:42.291807Z",
     "iopub.status.busy": "2021-09-30T22:43:42.291323Z",
     "iopub.status.idle": "2021-09-30T22:43:43.627944Z",
     "shell.execute_reply": "2021-09-30T22:43:43.627484Z"
    }
   },
   "outputs": [],
   "source": [
    "import sys, os, json\n",
    "sys.path.insert(1, \"../../\")\n",
    "from src.combine import combine_data\n",
    "import pandas as pd\n",
    "import numpy as np\n",
    "from tqdm import tqdm\n",
    "import matplotlib.pyplot as plt\n",
    "from collections import OrderedDict\n",
    "import src.monitoring.refit as refit\n",
    "import src.monitoring.governance as gvrn\n",
    "import src.monitoring.monitoring as mntr\n",
    "import src.monitoring.utils as mu\n",
    "from smart_open import open\n",
    "import pickle as pkl\n",
    "\n",
    "%matplotlib inline\n",
    "plt.style.use('seaborn')\n",
    "\n",
    "%load_ext autoreload\n",
    "%autoreload 2\n",
    "\n",
    "import warnings\n",
    "warnings.filterwarnings(\"ignore\")"
   ]
  },
  {
   "cell_type": "code",
   "execution_count": 2,
   "id": "bfc00fcc",
   "metadata": {
    "execution": {
     "iopub.execute_input": "2021-09-30T22:43:43.631340Z",
     "iopub.status.busy": "2021-09-30T22:43:43.630936Z",
     "iopub.status.idle": "2021-09-30T22:43:43.647747Z",
     "shell.execute_reply": "2021-09-30T22:43:43.648028Z"
    }
   },
   "outputs": [
    {
     "name": "stdout",
     "output_type": "stream",
     "text": [
      "dict_keys(['mmonth', 'dev_df_path', 'monitoring_dates', 'prod_data_dates', 'data_output_path', 'artifact_path', 'date_sample_start', 'date_sample_end', 'model_paths', 'prev_test_df_path', 'modeling_df_path', 'test_df_path', 'prod_dfs_path'])\n"
     ]
    }
   ],
   "source": [
    "# load config and set local variables with config[\"mconfig\"]\n",
    "with open(\"../../config.json\", \"r\") as f:\n",
    "    config = json.load(f)\n",
    "    \n",
    "mconfig = config[\"monitoring_config\"]\n",
    "locals().update(mconfig)   # this would set k-v pairs in mconfig as local variables\n",
    "print(mconfig.keys())"
   ]
  },
  {
   "cell_type": "code",
   "execution_count": 3,
   "id": "7462f7f9",
   "metadata": {
    "execution": {
     "iopub.execute_input": "2021-09-30T22:43:43.651197Z",
     "iopub.status.busy": "2021-09-30T22:43:43.650810Z",
     "iopub.status.idle": "2021-09-30T22:43:58.191625Z",
     "shell.execute_reply": "2021-09-30T22:43:58.191975Z"
    }
   },
   "outputs": [],
   "source": [
    "# load data\n",
    "\n",
    "prev_df = pd.read_parquet(prev_test_df_path)\n",
    "prev_df = mu.preprocess(prev_df)\n",
    "prev_date = str(prev_df.sample_date.min()).split(\" \")[0]\n",
    "\n",
    "assert(len(prod_dfs_path)) == 1\n",
    "for cur_date, pdf_path in prod_dfs_path.items():\n",
    "    prod_df = pd.read_parquet(pdf_path)"
   ]
  },
  {
   "cell_type": "code",
   "execution_count": 4,
   "id": "05030e6c",
   "metadata": {
    "execution": {
     "iopub.execute_input": "2021-09-30T22:43:58.195855Z",
     "iopub.status.busy": "2021-09-30T22:43:58.195466Z",
     "iopub.status.idle": "2021-09-30T22:43:58.957272Z",
     "shell.execute_reply": "2021-09-30T22:43:58.957784Z"
    }
   },
   "outputs": [],
   "source": [
    "# load models\n",
    "models = {}\n",
    "for mname, mpath in model_paths.items():\n",
    "    with open(mpath, \"rb\") as f:\n",
    "        models[mname] = pkl.load(f)"
   ]
  },
  {
   "cell_type": "code",
   "execution_count": 5,
   "id": "e3869b2d",
   "metadata": {
    "execution": {
     "iopub.execute_input": "2021-09-30T22:43:58.960416Z",
     "iopub.status.busy": "2021-09-30T22:43:58.959861Z",
     "iopub.status.idle": "2021-09-30T22:44:00.965854Z",
     "shell.execute_reply": "2021-09-30T22:44:00.965459Z"
    }
   },
   "outputs": [
    {
     "data": {
      "image/png": "[encoded data removed]",
      "text/plain": [
       "<Figure size 576x396 with 1 Axes>"
      ]
     },
     "metadata": {},
     "output_type": "display_data"
    },
    {
     "data": {
      "image/png": "[encoded data removed]",
      "text/plain": [
       "<Figure size 576x396 with 1 Axes>"
      ]
     },
     "metadata": {},
     "output_type": "display_data"
    }
   ],
   "source": [
    "# get all the snapshots\n",
    "for mname, model in models.items(): \n",
    "    # set folder:\n",
    "    mntr_path = os.path.join(artifact_path, \"psi\", f\"psi_{mname}_{prev_date}-{cur_date}\")\n",
    "    os.makedirs(mntr_path, exist_ok=True)\n",
    "\n",
    "\n",
    "    prev_df[\"model_pred\"] = model.predict_proba(prev_df[model.feature_name_])[:,1]\n",
    "    prev_df[\"model_score\"] = mu.scale_scores(prev_df[\"model_pred\"])\n",
    "\n",
    "    # save plot\n",
    "    fig = plt.figure()\n",
    "    prod_df.model_score.hist(bins=10, alpha=0.4, density=True, label=\"production\")\n",
    "    prev_df.model_score.hist(bins=10, alpha=0.4, density=True, label=\"development\")\n",
    "    plt.legend()\n",
    "    plt.show()\n",
    "    fig.savefig(os.path.join(mntr_path, \"score_psi.png\"))\n",
    "    \n",
    "    # save psi df\n",
    "    psi_df = mntr.get_psi(prev_df.model_score.to_frame(), \n",
    "                          prod_df.model_score.to_frame()).round(5)\n",
    "    psi_df.to_csv(os.path.join(mntr_path, f\"psi.csv\"), index=False)\n",
    "    psi_df"
   ]
  },
  {
   "cell_type": "code",
   "execution_count": null,
   "id": "51112be5",
   "metadata": {},
   "outputs": [],
   "source": []
  },
  {
   "cell_type": "markdown",
   "id": "85ccc2f3",
   "metadata": {},
   "source": [
    "### Additional Analysis, if required"
   ]
  },
  {
   "cell_type": "code",
   "execution_count": 6,
   "id": "b9e7a157",
   "metadata": {
    "execution": {
     "iopub.execute_input": "2021-09-30T22:44:00.972795Z",
     "iopub.status.busy": "2021-09-30T22:44:00.972354Z",
     "iopub.status.idle": "2021-09-30T22:44:39.885901Z",
     "shell.execute_reply": "2021-09-30T22:44:39.885414Z"
    }
   },
   "outputs": [],
   "source": [
    "prev_df = pd.read_parquet(test_df_path)\n",
    "prev_df = mu.preprocess(prev_df)\n",
    "prev_date = \"2021-01-01\"\n",
    "\n",
    "assert(len(prod_dfs_path)) == 1\n",
    "for cur_date, pdf_path in prod_dfs_path.items():\n",
    "    prod_df = pd.read_parquet(pdf_path)"
   ]
  },
  {
   "cell_type": "code",
   "execution_count": 7,
   "id": "f74e4161",
   "metadata": {
    "execution": {
     "iopub.execute_input": "2021-09-30T22:44:39.889530Z",
     "iopub.status.busy": "2021-09-30T22:44:39.889128Z",
     "iopub.status.idle": "2021-09-30T22:44:39.910452Z",
     "shell.execute_reply": "2021-09-30T22:44:39.910110Z"
    }
   },
   "outputs": [
    {
     "data": {
      "text/plain": [
       "(5688272, 94)"
      ]
     },
     "execution_count": 1,
     "metadata": {},
     "output_type": "execute_result"
    }
   ],
   "source": [
    "prev_df.shape"
   ]
  },
  {
   "cell_type": "code",
   "execution_count": 8,
   "id": "e16bde48",
   "metadata": {
    "execution": {
     "iopub.execute_input": "2021-09-30T22:44:39.913755Z",
     "iopub.status.busy": "2021-09-30T22:44:39.913337Z",
     "iopub.status.idle": "2021-09-30T22:44:40.482855Z",
     "shell.execute_reply": "2021-09-30T22:44:40.483978Z"
    }
   },
   "outputs": [],
   "source": [
    "# load models\n",
    "models = {}\n",
    "for mname, mpath in model_paths.items():\n",
    "    with open(mpath, \"rb\") as f:\n",
    "        models[mname] = pkl.load(f)"
   ]
  },
  {
   "cell_type": "code",
   "execution_count": 9,
   "id": "5791a98a",
   "metadata": {
    "execution": {
     "iopub.execute_input": "2021-09-30T22:44:40.519246Z",
     "iopub.status.busy": "2021-09-30T22:44:40.518477Z",
     "iopub.status.idle": "2021-09-30T22:44:40.545215Z",
     "shell.execute_reply": "2021-09-30T22:44:40.546073Z"
    }
   },
   "outputs": [],
   "source": [
    "del models[\"incumbent_model\"]  # we only want to look at customer_refitted_2021Q1 here"
   ]
  },
  {
   "cell_type": "code",
   "execution_count": 10,
   "id": "b14f7ef0",
   "metadata": {
    "execution": {
     "iopub.execute_input": "2021-09-30T22:44:40.549815Z",
     "iopub.status.busy": "2021-09-30T22:44:40.548852Z",
     "iopub.status.idle": "2021-09-30T22:44:57.490667Z",
     "shell.execute_reply": "2021-09-30T22:44:57.491009Z"
    }
   },
   "outputs": [
    {
     "data": {
      "image/png": "[encoded data removed]",
      "text/plain": [
       "<Figure size 576x396 with 1 Axes>"
      ]
     },
     "metadata": {},
     "output_type": "display_data"
    },
    {
     "data": {
      "text/html": [
       "<div>\n",
       "<style scoped>\n",
       "    .dataframe tbody tr th:only-of-type {\n",
       "        vertical-align: middle;\n",
       "    }\n",
       "\n",
       "    .dataframe tbody tr th {\n",
       "        vertical-align: top;\n",
       "    }\n",
       "\n",
       "    .dataframe thead th {\n",
       "        text-align: right;\n",
       "    }\n",
       "</style>\n",
       "<table border=\"1\" class=\"dataframe\">\n",
       "  <thead>\n",
       "    <tr style=\"text-align: right;\">\n",
       "      <th></th>\n",
       "      <th>feature</th>\n",
       "      <th>psi</th>\n",
       "    </tr>\n",
       "  </thead>\n",
       "  <tbody>\n",
       "    <tr>\n",
       "      <th>0</th>\n",
       "      <td>model_score</td>\n",
       "      <td>0.09501</td>\n",
       "    </tr>\n",
       "  </tbody>\n",
       "</table>\n",
       "</div>"
      ],
      "text/plain": [
       "       feature      psi\n",
       "0  model_score  0.09501"
      ]
     },
     "execution_count": 1,
     "metadata": {},
     "output_type": "execute_result"
    }
   ],
   "source": [
    "mntr_path = os.path.join(artifact_path, \"psi\", f\"psi_{mname}_{prev_date}-{cur_date}\")\n",
    "os.makedirs(mntr_path, exist_ok=True)\n",
    "\n",
    "\n",
    "prev_df[\"model_pred\"] = model.predict_proba(prev_df[model.feature_name_])[:,1]\n",
    "prev_df[\"model_score\"] = mu.scale_scores(prev_df[\"model_pred\"])\n",
    "\n",
    "# save plot\n",
    "fig = plt.figure()\n",
    "prod_df.model_score.hist(bins=10, alpha=0.4, density=True, label=\"production\")\n",
    "prev_df.model_score.hist(bins=10, alpha=0.4, density=True, label=\"development\")\n",
    "plt.legend()\n",
    "plt.show()\n",
    "fig.savefig(os.path.join(mntr_path, \"score_psi.png\"))\n",
    "\n",
    "# save psi df\n",
    "psi_df = mntr.get_psi(prev_df.model_score.to_frame(), \n",
    "                      prod_df.model_score.to_frame()).round(5)\n",
    "psi_df.to_csv(os.path.join(mntr_path, f\"psi.csv\"), index=False)\n",
    "psi_df"
   ]
  },
  {
   "cell_type": "code",
   "execution_count": null,
   "id": "5d3311c4",
   "metadata": {},
   "outputs": [],
   "source": []
  }
 ],
 "metadata": {
  "kernelspec": {
   "display_name": "conda_customer_risk",
   "language": "python",
   "name": "conda_customer_risk"
  },
  "language_info": {
   "codemirror_mode": {
    "name": "ipython",
    "version": 3
   },
   "file_extension": ".py",
   "mimetype": "text/x-python",
   "name": "python",
   "nbconvert_exporter": "python",
   "pygments_lexer": "ipython3",
   "version": "3.7.10"
  }
 },
 "nbformat": 4,
 "nbformat_minor": 5
}
