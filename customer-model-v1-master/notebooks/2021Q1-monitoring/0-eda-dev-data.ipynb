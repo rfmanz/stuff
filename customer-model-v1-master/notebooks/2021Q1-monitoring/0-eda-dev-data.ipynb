{
 "cells": [
  {
   "cell_type": "markdown",
   "metadata": {},
   "source": [
    "### We managed to get the data to run. Let's see if the pipeline works"
   ]
  },
  {
   "cell_type": "markdown",
   "metadata": {},
   "source": [
    "#### Get Dev Data"
   ]
  },
  {
   "cell_type": "code",
   "execution_count": 1,
   "metadata": {},
   "outputs": [],
   "source": [
    "import sys\n",
    "sys.path.insert(1, \"../../\")\n",
    "from src.combine import combine_data\n",
    "import pandas as pd\n",
    "import numpy as np\n",
    "import matplotlib.pyplot as plt\n",
    "\n",
    "%matplotlib inline\n",
    "plt.style.use('seaborn')\n",
    "\n",
    "%load_ext autoreload\n",
    "%autoreload 2\n",
    "\n",
    "import warnings\n",
    "warnings.filterwarnings(\"ignore\")"
   ]
  },
  {
   "cell_type": "code",
   "execution_count": 12,
   "metadata": {},
   "outputs": [],
   "source": [
    "mmonth = \"2021-02\""
   ]
  },
  {
   "cell_type": "code",
   "execution_count": 2,
   "metadata": {},
   "outputs": [],
   "source": [
    "df = pd.read_feather(\"../../data/combined_all_features/combined_1615694251.feather\")"
   ]
  },
  {
   "cell_type": "code",
   "execution_count": 3,
   "metadata": {},
   "outputs": [],
   "source": [
    "# dev data\n",
    "# df = pd.read_feather(\"s3://sofi-data-science/jxu/monitoring/customer-risk-v1/2021-01/dev-data.feather\")"
   ]
  },
  {
   "cell_type": "code",
   "execution_count": 3,
   "metadata": {},
   "outputs": [
    {
     "data": {
      "text/plain": [
       "(8966302, 91)"
      ]
     },
     "execution_count": 3,
     "metadata": {},
     "output_type": "execute_result"
    }
   ],
   "source": [
    "df.shape"
   ]
  },
  {
   "cell_type": "code",
   "execution_count": 4,
   "metadata": {},
   "outputs": [
    {
     "data": {
      "text/plain": [
       "<AxesSubplot:>"
      ]
     },
     "execution_count": 4,
     "metadata": {},
     "output_type": "execute_result"
    },
    {
     "data": {
      "image/png": "[encoded data removed]",
      "text/plain": [
       "<Figure size 864x576 with 1 Axes>"
      ]
     },
     "metadata": {},
     "output_type": "display_data"
    }
   ],
   "source": [
    "fig = plt.figure(figsize=(12,8))\n",
    "df.sample_date.hist(bins=100)"
   ]
  },
  {
   "cell_type": "code",
   "execution_count": 6,
   "metadata": {},
   "outputs": [
    {
     "data": {
      "text/plain": [
       "Timestamp('2021-03-12 00:00:00')"
      ]
     },
     "execution_count": 6,
     "metadata": {},
     "output_type": "execute_result"
    }
   ],
   "source": [
    "df.sample_date.max()"
   ]
  },
  {
   "cell_type": "code",
   "execution_count": 7,
   "metadata": {},
   "outputs": [],
   "source": [
    "import json\n",
    "with open(\"../../config.json\", \"r\") as f:\n",
    "    config = json.load(f)\n",
    "    \n",
    "with open(\"../../config-transactional.json\", \"r\") as f:\n",
    "    config_trans = json.load(f)"
   ]
  },
  {
   "cell_type": "code",
   "execution_count": 8,
   "metadata": {},
   "outputs": [
    {
     "name": "stdout",
     "output_type": "stream",
     "text": [
      "static snapshot sampled dates\n"
     ]
    },
    {
     "data": {
      "text/plain": [
       "['2019-03-15',\n",
       " '2019-05-27',\n",
       " '2019-08-08',\n",
       " '2019-10-20',\n",
       " '2020-01-01',\n",
       " '2020-03-14',\n",
       " '2020-05-26',\n",
       " '2020-07-01',\n",
       " '2020-08-01',\n",
       " '2020-09-01',\n",
       " '2020-10-01',\n",
       " '2020-11-01',\n",
       " '2020-12-01',\n",
       " '2021-01-01',\n",
       " '2021-02-01',\n",
       " '2021-02-19',\n",
       " '2021-03-01',\n",
       " '2021-03-12']"
      ]
     },
     "execution_count": 8,
     "metadata": {},
     "output_type": "execute_result"
    }
   ],
   "source": [
    "print(\"static snapshot sampled dates\"), \n",
    "config[\"static_sample_dates\"]"
   ]
  },
  {
   "cell_type": "code",
   "execution_count": 9,
   "metadata": {},
   "outputs": [
    {
     "name": "stdout",
     "output_type": "stream",
     "text": [
      "dynamic sampling end date: make sure they align\n"
     ]
    },
    {
     "data": {
      "text/plain": [
       "('2020-10-31', Timestamp('2020-10-31 00:00:00'))"
      ]
     },
     "execution_count": 9,
     "metadata": {},
     "output_type": "execute_result"
    }
   ],
   "source": [
    "print(\"dynamic sampling end date: make sure they align\")\n",
    "config[\"date_sample_end\"], df[~df.is_static].sample_date.max()"
   ]
  },
  {
   "cell_type": "code",
   "execution_count": 10,
   "metadata": {},
   "outputs": [],
   "source": [
    "# split to train test set\n",
    "date_sample_end = pd.to_datetime(config[\"date_sample_end\"])\n",
    "modeling_df = df[df.sample_date <= date_sample_end]\n",
    "test_df = df[(df.sample_date > date_sample_end) \n",
    "             & (df.sample_date != pd.to_datetime('2021-02-19'))]"
   ]
  },
  {
   "cell_type": "code",
   "execution_count": 13,
   "metadata": {},
   "outputs": [],
   "source": [
    "from rdsutils.aws import pandas_df_to_s3\n",
    "bucket = \"sofi-data-science\"\n",
    "\n",
    "modeling_df_path = f\"jxu/monitoring/customer-risk-v1/{mmonth}/modeling_df_2021-02.parquet\"\n",
    "pandas_df_to_s3(modeling_df, bucket, modeling_df_path, file_format=\"parquet\")\n",
    "\n",
    "test_df_path = f\"jxu/monitoring/customer-risk-v1/{mmonth}/test_df_2021-02.parquet\"\n",
    "pandas_df_to_s3(test_df, bucket, test_df_path, file_format=\"parquet\")"
   ]
  },
  {
   "cell_type": "code",
   "execution_count": 14,
   "metadata": {},
   "outputs": [],
   "source": [
    "# upload prev modeling_df\n",
    "prev_modeling_df = pd.read_feather('s3://sofi-data-science/jxu/money-risk-models/customer-risk-model/data/dev_data/modeling_df_final_with_oof_preds_replication.feather')\n",
    "prev_mdf_path = f\"jxu/monitoring/customer-risk-v1/{mmonth}/modeling_df_final_with_oof_preds_replication.parquet\"\n",
    "pandas_df_to_s3(modeling_df, bucket, prev_mdf_path, file_format=\"parquet\")"
   ]
  },
  {
   "cell_type": "code",
   "execution_count": 15,
   "metadata": {},
   "outputs": [],
   "source": [
    "# to s3\n",
    "# from rdsutils.aws import pandas_df_to_s3\n",
    "bucket = \"sofi-data-science\"\n",
    "path = f\"jxu/monitoring/customer-risk-v1/{mmonth}/dev-data.parquet\"\n",
    "pandas_df_to_s3(df, bucket, path, file_format=\"parquet\")"
   ]
  },
  {
   "cell_type": "markdown",
   "metadata": {},
   "source": [
    "#### Get Prod Data"
   ]
  },
  {
   "cell_type": "code",
   "execution_count": 16,
   "metadata": {},
   "outputs": [
    {
     "name": "stdout",
     "output_type": "stream",
     "text": [
      "Looking in indexes: https://build.sofi.com/artifactory/api/pypi/pypi/simple\n",
      "Collecting sofiproto==release-1703\n",
      "  Downloading https://build.sofi.com/artifactory/api/pypi/pypi/sofiproto/release-1703/sofiproto-release-1703.tar.gz (24 kB)\n",
      "Requirement already satisfied: protobuf>=3.8.0 in /home/ec2-user/anaconda3/envs/ml_basic_py37/lib/python3.7/site-packages (from sofiproto==release-1703) (3.15.6)\n",
      "Requirement already satisfied: six>=1.9 in /home/ec2-user/anaconda3/envs/ml_basic_py37/lib/python3.7/site-packages (from protobuf>=3.8.0->sofiproto==release-1703) (1.15.0)\n",
      "Building wheels for collected packages: sofiproto\n",
      "  Building wheel for sofiproto (setup.py) ... \u001b[?25ldone\n",
      "\u001b[?25h  Created wheel for sofiproto: filename=sofiproto-release_1703-py3-none-any.whl size=44913 sha256=d29d1528766c7b759ade52d7b585b12c6df7cde06f1c9dc54130d6a1b2239a9f\n",
      "  Stored in directory: /home/ec2-user/.cache/pip/wheels/5e/2b/1c/6d591bb65f7c7ada6aa3fdfbce652d637566adb0ab2d289ef5\n",
      "\u001b[33m  WARNING: Built wheel for sofiproto is invalid: Metadata 1.2 mandates PEP 440 version, but 'release-1703' is not\u001b[0m\n",
      "Failed to build sofiproto\n",
      "Installing collected packages: sofiproto\n",
      "    Running setup.py install for sofiproto ... \u001b[?25ldone\n",
      "\u001b[33m  DEPRECATION: sofiproto was installed using the legacy 'setup.py install' method, because a wheel could not be built for it. A possible replacement is to fix the wheel build issue reported above. You can find discussion regarding this at https://github.com/pypa/pip/issues/8368.\u001b[0m\n",
      "\u001b[?25hSuccessfully installed sofiproto-release-1703\n",
      "Collecting read_protobuf\n",
      "  Downloading read_protobuf-0.1.1-py3-none-any.whl (7.3 kB)\n",
      "Requirement already satisfied: pandas>=0.16 in /home/ec2-user/anaconda3/envs/ml_basic_py37/lib/python3.7/site-packages (from read_protobuf) (1.2.3)\n",
      "Requirement already satisfied: protobuf>=3.5 in /home/ec2-user/anaconda3/envs/ml_basic_py37/lib/python3.7/site-packages (from read_protobuf) (3.15.6)\n",
      "Requirement already satisfied: pytz>=2017.3 in /home/ec2-user/anaconda3/envs/ml_basic_py37/lib/python3.7/site-packages (from pandas>=0.16->read_protobuf) (2021.1)\n",
      "Requirement already satisfied: python-dateutil>=2.7.3 in /home/ec2-user/anaconda3/envs/ml_basic_py37/lib/python3.7/site-packages (from pandas>=0.16->read_protobuf) (2.8.1)\n",
      "Requirement already satisfied: numpy>=1.16.5 in /home/ec2-user/anaconda3/envs/ml_basic_py37/lib/python3.7/site-packages (from pandas>=0.16->read_protobuf) (1.20.1)\n",
      "Requirement already satisfied: six>=1.9 in /home/ec2-user/anaconda3/envs/ml_basic_py37/lib/python3.7/site-packages (from protobuf>=3.5->read_protobuf) (1.15.0)\n",
      "Installing collected packages: read-protobuf\n",
      "Successfully installed read-protobuf-0.1.1\n"
     ]
    }
   ],
   "source": [
    "!pip install --index-url https://build.sofi.com/artifactory/api/pypi/pypi/simple sofiproto==release-1703\n",
    "!pip install read_protobuf"
   ]
  },
  {
   "cell_type": "code",
   "execution_count": 17,
   "metadata": {},
   "outputs": [],
   "source": [
    "sys.path.insert(1, \"../..\")\n",
    "from src.monitoring.download_customer_prod import download_customer_prod_data\n",
    "\n",
    "s3_folder = \"2021-03\""
   ]
  },
  {
   "cell_type": "code",
   "execution_count": 18,
   "metadata": {},
   "outputs": [
    {
     "name": "stdout",
     "output_type": "stream",
     "text": [
      "2021-03-12\n",
      "querying money user data...\n",
      "some data processing...\n",
      "CPU times: user 2min 22s, sys: 12.7 s, total: 2min 35s\n",
      "Wall time: 24min 52s\n"
     ]
    }
   ],
   "source": [
    "%%time \n",
    "\n",
    "dates = [\n",
    "#      '2020-09-01',\n",
    "#      '2020-10-01',\n",
    "#      '2020-11-01',\n",
    "#      '2020-12-01',\n",
    "#      '2021-01-01', \n",
    "     '2021-03-12'\n",
    "]\n",
    "for last_monitoring_date in dates:\n",
    "    print(last_monitoring_date)\n",
    "    output_path = f\"s3://sofi-data-science/jxu/monitoring/customer-risk-v1/{s3_folder}/prod-data-{last_monitoring_date}.parquet\"\n",
    "    download_customer_prod_data(output_path)\n",
    "    "
   ]
  },
  {
   "cell_type": "code",
   "execution_count": 19,
   "metadata": {},
   "outputs": [
    {
     "data": {
      "text/plain": [
       "'s3://sofi-data-science/jxu/monitoring/customer-risk-v1/2021-03/prod-data-2021-03-12.parquet'"
      ]
     },
     "execution_count": 19,
     "metadata": {},
     "output_type": "execute_result"
    }
   ],
   "source": [
    "output_path"
   ]
  },
  {
   "cell_type": "code",
   "execution_count": 21,
   "metadata": {},
   "outputs": [
    {
     "name": "stdout",
     "output_type": "stream",
     "text": [
      "Looking in indexes: https://build.sofi.com/artifactory/api/pypi/pypi/simple\n",
      "Collecting ml4risk\n",
      "  Downloading https://build.sofi.com/artifactory/api/pypi/pypi/ml4risk/0.0.4/ml4risk-0.0.4-py3-none-any.whl (2.5 kB)\n",
      "Requirement already satisfied: s3fs>=0.3.1 in /home/ec2-user/anaconda3/envs/ml_basic_py37/lib/python3.7/site-packages (from ml4risk) (0.5.2)\n",
      "Collecting twine>=1.13.0\n",
      "  Downloading https://build.sofi.com/artifactory/api/pypi/pypi/packages/packages/eb/d7/a46b7eb07b491a9295c3581f86ad68f97df83e000dc9a4c6e3c710c432dd/twine-3.3.0-py3-none-any.whl (34 kB)\n",
      "Requirement already satisfied: seaborn>=0.9.0 in /home/ec2-user/anaconda3/envs/ml_basic_py37/lib/python3.7/site-packages (from ml4risk) (0.11.1)\n",
      "Requirement already satisfied: lightgbm>=2.2.3 in /home/ec2-user/anaconda3/envs/ml_basic_py37/lib/python3.7/site-packages (from ml4risk) (3.1.1)\n",
      "Collecting plotly>=2.7.0\n",
      "  Downloading https://build.sofi.com/artifactory/api/pypi/pypi/packages/packages/1f/f6/bd3c17c8003b6641df1228e80e1acac97ed8402635e46c2571f8e1ef63af/plotly-4.14.3-py2.py3-none-any.whl (13.2 MB)\n",
      "\u001b[K     |████████████████████████████████| 13.2 MB 71.5 MB/s eta 0:00:01\n",
      "\u001b[?25hCollecting dill>=0.3.0\n",
      "  Downloading https://build.sofi.com/artifactory/api/pypi/pypi/packages/packages/52/d6/79f40d230895fa1ce3b6af0d22e0ac79c65175dc069c194b79cc8e05a033/dill-0.3.3-py2.py3-none-any.whl (81 kB)\n",
      "\u001b[K     |████████████████████████████████| 81 kB 13.4 MB/s eta 0:00:01\n",
      "\u001b[?25hRequirement already satisfied: pandas>=0.24.2 in /home/ec2-user/anaconda3/envs/ml_basic_py37/lib/python3.7/site-packages (from ml4risk) (1.2.3)\n",
      "Requirement already satisfied: scipy>=1.1.0 in /home/ec2-user/anaconda3/envs/ml_basic_py37/lib/python3.7/site-packages (from ml4risk) (1.6.1)\n",
      "Requirement already satisfied: SQLAlchemy>=1.2.11 in /home/ec2-user/anaconda3/envs/ml_basic_py37/lib/python3.7/site-packages (from ml4risk) (1.3.23)\n",
      "Requirement already satisfied: numpy>=1.15.4 in /home/ec2-user/anaconda3/envs/ml_basic_py37/lib/python3.7/site-packages (from ml4risk) (1.20.1)\n",
      "Collecting boto>=2.48.0\n",
      "  Downloading https://build.sofi.com/artifactory/api/pypi/pypi/packages/packages/23/10/c0b78c27298029e4454a472a1919bde20cb182dab1662cec7f2ca1dcc523/boto-2.49.0-py2.py3-none-any.whl (1.4 MB)\n",
      "\u001b[K     |████████████████████████████████| 1.4 MB 60.8 MB/s eta 0:00:01\n",
      "\u001b[?25hRequirement already satisfied: psycopg2-binary in /home/ec2-user/anaconda3/envs/ml_basic_py37/lib/python3.7/site-packages (from ml4risk) (2.8.6)\n",
      "Requirement already satisfied: statsmodels>=0.9.0 in /home/ec2-user/anaconda3/envs/ml_basic_py37/lib/python3.7/site-packages (from ml4risk) (0.12.2)\n",
      "Requirement already satisfied: boto3>=1.9.188 in /home/ec2-user/anaconda3/envs/ml_basic_py37/lib/python3.7/site-packages (from ml4risk) (1.17.27)\n",
      "Requirement already satisfied: pyarrow>=0.14.1 in /home/ec2-user/anaconda3/envs/ml_basic_py37/lib/python3.7/site-packages (from ml4risk) (3.0.0)\n",
      "Requirement already satisfied: matplotlib>=3.0.3 in /home/ec2-user/anaconda3/envs/ml_basic_py37/lib/python3.7/site-packages (from ml4risk) (3.3.4)\n",
      "Requirement already satisfied: bokeh>=2.0.1 in /home/ec2-user/anaconda3/envs/ml_basic_py37/lib/python3.7/site-packages (from ml4risk) (2.3.0)\n",
      "Requirement already satisfied: dask>=0.17.5 in /home/ec2-user/anaconda3/envs/ml_basic_py37/lib/python3.7/site-packages (from ml4risk) (2021.3.0)\n",
      "Collecting scikit-image>=0.13.1\n",
      "  Downloading https://build.sofi.com/artifactory/api/pypi/pypi/packages/packages/fe/01/3a830f3df578ea3ed94ee7fd9f91e85c3dec2431d8548ab1c91869e51450/scikit_image-0.18.1-cp37-cp37m-manylinux1_x86_64.whl (29.2 MB)\n",
      "\u001b[K     |████████████████████████████████| 29.2 MB 58.7 MB/s eta 0:00:01\n",
      "\u001b[?25hRequirement already satisfied: pandas-profiling>=2.8.0 in /home/ec2-user/anaconda3/envs/ml_basic_py37/lib/python3.7/site-packages (from ml4risk) (2.11.0)\n",
      "Requirement already satisfied: networkx>=2.5 in /home/ec2-user/anaconda3/envs/ml_basic_py37/lib/python3.7/site-packages (from ml4risk) (2.5)\n",
      "Requirement already satisfied: botocore>=1.12.188 in /home/ec2-user/anaconda3/envs/ml_basic_py37/lib/python3.7/site-packages (from ml4risk) (1.20.27)\n",
      "Requirement already satisfied: tqdm>=4.32.2 in /home/ec2-user/anaconda3/envs/ml_basic_py37/lib/python3.7/site-packages (from ml4risk) (4.59.0)\n",
      "Requirement already satisfied: scikit-learn>=0.20.3 in /home/ec2-user/anaconda3/envs/ml_basic_py37/lib/python3.7/site-packages (from ml4risk) (0.24.1)\n",
      "Requirement already satisfied: colorama in /home/ec2-user/anaconda3/envs/ml_basic_py37/lib/python3.7/site-packages (from ml4risk) (0.4.4)\n",
      "Requirement already satisfied: python-dateutil>=2.1 in /home/ec2-user/anaconda3/envs/ml_basic_py37/lib/python3.7/site-packages (from bokeh>=2.0.1->ml4risk) (2.8.1)\n",
      "Requirement already satisfied: PyYAML>=3.10 in /home/ec2-user/anaconda3/envs/ml_basic_py37/lib/python3.7/site-packages (from bokeh>=2.0.1->ml4risk) (5.4.1)\n",
      "Requirement already satisfied: Jinja2>=2.7 in /home/ec2-user/anaconda3/envs/ml_basic_py37/lib/python3.7/site-packages (from bokeh>=2.0.1->ml4risk) (2.11.3)\n",
      "Requirement already satisfied: pillow>=7.1.0 in /home/ec2-user/anaconda3/envs/ml_basic_py37/lib/python3.7/site-packages (from bokeh>=2.0.1->ml4risk) (8.1.2)\n",
      "Requirement already satisfied: typing-extensions>=3.7.4 in /home/ec2-user/anaconda3/envs/ml_basic_py37/lib/python3.7/site-packages (from bokeh>=2.0.1->ml4risk) (3.7.4.3)\n",
      "Requirement already satisfied: packaging>=16.8 in /home/ec2-user/anaconda3/envs/ml_basic_py37/lib/python3.7/site-packages (from bokeh>=2.0.1->ml4risk) (20.9)\n",
      "Requirement already satisfied: tornado>=5.1 in /home/ec2-user/anaconda3/envs/ml_basic_py37/lib/python3.7/site-packages (from bokeh>=2.0.1->ml4risk) (6.1)\n",
      "Requirement already satisfied: s3transfer<0.4.0,>=0.3.0 in /home/ec2-user/anaconda3/envs/ml_basic_py37/lib/python3.7/site-packages (from boto3>=1.9.188->ml4risk) (0.3.4)\n",
      "Requirement already satisfied: jmespath<1.0.0,>=0.7.1 in /home/ec2-user/anaconda3/envs/ml_basic_py37/lib/python3.7/site-packages (from boto3>=1.9.188->ml4risk) (0.10.0)\n",
      "Requirement already satisfied: urllib3<1.27,>=1.25.4 in /home/ec2-user/anaconda3/envs/ml_basic_py37/lib/python3.7/site-packages (from botocore>=1.12.188->ml4risk) (1.26.3)\n",
      "Requirement already satisfied: MarkupSafe>=0.23 in /home/ec2-user/anaconda3/envs/ml_basic_py37/lib/python3.7/site-packages (from Jinja2>=2.7->bokeh>=2.0.1->ml4risk) (1.1.1)\n",
      "Requirement already satisfied: wheel in /home/ec2-user/anaconda3/envs/ml_basic_py37/lib/python3.7/site-packages (from lightgbm>=2.2.3->ml4risk) (0.36.2)\n",
      "Requirement already satisfied: kiwisolver>=1.0.1 in /home/ec2-user/anaconda3/envs/ml_basic_py37/lib/python3.7/site-packages (from matplotlib>=3.0.3->ml4risk) (1.3.1)\n",
      "Requirement already satisfied: cycler>=0.10 in /home/ec2-user/anaconda3/envs/ml_basic_py37/lib/python3.7/site-packages (from matplotlib>=3.0.3->ml4risk) (0.10.0)\n",
      "Requirement already satisfied: pyparsing!=2.0.4,!=2.1.2,!=2.1.6,>=2.0.3 in /home/ec2-user/anaconda3/envs/ml_basic_py37/lib/python3.7/site-packages (from matplotlib>=3.0.3->ml4risk) (2.4.7)\n",
      "Requirement already satisfied: six in /home/ec2-user/anaconda3/envs/ml_basic_py37/lib/python3.7/site-packages (from cycler>=0.10->matplotlib>=3.0.3->ml4risk) (1.15.0)\n",
      "Requirement already satisfied: decorator>=4.3.0 in /home/ec2-user/anaconda3/envs/ml_basic_py37/lib/python3.7/site-packages (from networkx>=2.5->ml4risk) (4.4.2)\n",
      "Requirement already satisfied: pytz>=2017.3 in /home/ec2-user/anaconda3/envs/ml_basic_py37/lib/python3.7/site-packages (from pandas>=0.24.2->ml4risk) (2021.1)\n",
      "Requirement already satisfied: tangled-up-in-unicode>=0.0.6 in /home/ec2-user/anaconda3/envs/ml_basic_py37/lib/python3.7/site-packages (from pandas-profiling>=2.8.0->ml4risk) (0.0.7)\n",
      "Requirement already satisfied: htmlmin>=0.1.12 in /home/ec2-user/anaconda3/envs/ml_basic_py37/lib/python3.7/site-packages (from pandas-profiling>=2.8.0->ml4risk) (0.1.12)\n",
      "Requirement already satisfied: requests>=2.24.0 in /home/ec2-user/anaconda3/envs/ml_basic_py37/lib/python3.7/site-packages (from pandas-profiling>=2.8.0->ml4risk) (2.25.1)\n",
      "Requirement already satisfied: ipywidgets>=7.5.1 in /home/ec2-user/anaconda3/envs/ml_basic_py37/lib/python3.7/site-packages (from pandas-profiling>=2.8.0->ml4risk) (7.6.3)\n",
      "Requirement already satisfied: confuse>=1.0.0 in /home/ec2-user/anaconda3/envs/ml_basic_py37/lib/python3.7/site-packages (from pandas-profiling>=2.8.0->ml4risk) (1.4.0)\n",
      "Requirement already satisfied: visions[type_image_path]==0.6.0 in /home/ec2-user/anaconda3/envs/ml_basic_py37/lib/python3.7/site-packages (from pandas-profiling>=2.8.0->ml4risk) (0.6.0)\n",
      "Requirement already satisfied: phik>=0.10.0 in /home/ec2-user/anaconda3/envs/ml_basic_py37/lib/python3.7/site-packages (from pandas-profiling>=2.8.0->ml4risk) (0.11.2)\n",
      "Requirement already satisfied: missingno>=0.4.2 in /home/ec2-user/anaconda3/envs/ml_basic_py37/lib/python3.7/site-packages (from pandas-profiling>=2.8.0->ml4risk) (0.4.2)\n",
      "Requirement already satisfied: attrs>=19.3.0 in /home/ec2-user/anaconda3/envs/ml_basic_py37/lib/python3.7/site-packages (from pandas-profiling>=2.8.0->ml4risk) (20.3.0)\n",
      "Requirement already satisfied: joblib in /home/ec2-user/anaconda3/envs/ml_basic_py37/lib/python3.7/site-packages (from pandas-profiling>=2.8.0->ml4risk) (1.0.1)\n",
      "Requirement already satisfied: imagehash in /home/ec2-user/anaconda3/envs/ml_basic_py37/lib/python3.7/site-packages (from visions[type_image_path]==0.6.0->pandas-profiling>=2.8.0->ml4risk) (4.2.0)\n",
      "Requirement already satisfied: jupyterlab-widgets>=1.0.0 in /home/ec2-user/anaconda3/envs/ml_basic_py37/lib/python3.7/site-packages (from ipywidgets>=7.5.1->pandas-profiling>=2.8.0->ml4risk) (1.0.0)\n",
      "Requirement already satisfied: traitlets>=4.3.1 in /home/ec2-user/anaconda3/envs/ml_basic_py37/lib/python3.7/site-packages (from ipywidgets>=7.5.1->pandas-profiling>=2.8.0->ml4risk) (5.0.5)\n",
      "Requirement already satisfied: ipykernel>=4.5.1 in /home/ec2-user/anaconda3/envs/ml_basic_py37/lib/python3.7/site-packages (from ipywidgets>=7.5.1->pandas-profiling>=2.8.0->ml4risk) (5.5.0)\n",
      "Requirement already satisfied: widgetsnbextension~=3.5.0 in /home/ec2-user/anaconda3/envs/ml_basic_py37/lib/python3.7/site-packages (from ipywidgets>=7.5.1->pandas-profiling>=2.8.0->ml4risk) (3.5.1)\n",
      "Requirement already satisfied: ipython>=4.0.0 in /home/ec2-user/anaconda3/envs/ml_basic_py37/lib/python3.7/site-packages (from ipywidgets>=7.5.1->pandas-profiling>=2.8.0->ml4risk) (7.21.0)\n",
      "Requirement already satisfied: nbformat>=4.2.0 in /home/ec2-user/anaconda3/envs/ml_basic_py37/lib/python3.7/site-packages (from ipywidgets>=7.5.1->pandas-profiling>=2.8.0->ml4risk) (5.1.2)\n",
      "Requirement already satisfied: jupyter-client in /home/ec2-user/anaconda3/envs/ml_basic_py37/lib/python3.7/site-packages (from ipykernel>=4.5.1->ipywidgets>=7.5.1->pandas-profiling>=2.8.0->ml4risk) (6.1.11)\n",
      "Requirement already satisfied: pygments in /home/ec2-user/anaconda3/envs/ml_basic_py37/lib/python3.7/site-packages (from ipython>=4.0.0->ipywidgets>=7.5.1->pandas-profiling>=2.8.0->ml4risk) (2.8.1)\n",
      "Requirement already satisfied: pexpect>4.3 in /home/ec2-user/anaconda3/envs/ml_basic_py37/lib/python3.7/site-packages (from ipython>=4.0.0->ipywidgets>=7.5.1->pandas-profiling>=2.8.0->ml4risk) (4.8.0)\n",
      "Requirement already satisfied: prompt-toolkit!=3.0.0,!=3.0.1,<3.1.0,>=2.0.0 in /home/ec2-user/anaconda3/envs/ml_basic_py37/lib/python3.7/site-packages (from ipython>=4.0.0->ipywidgets>=7.5.1->pandas-profiling>=2.8.0->ml4risk) (3.0.17)\n",
      "Requirement already satisfied: setuptools>=18.5 in /home/ec2-user/anaconda3/envs/ml_basic_py37/lib/python3.7/site-packages (from ipython>=4.0.0->ipywidgets>=7.5.1->pandas-profiling>=2.8.0->ml4risk) (49.6.0.post20210108)\n",
      "Requirement already satisfied: pickleshare in /home/ec2-user/anaconda3/envs/ml_basic_py37/lib/python3.7/site-packages (from ipython>=4.0.0->ipywidgets>=7.5.1->pandas-profiling>=2.8.0->ml4risk) (0.7.5)\n",
      "Requirement already satisfied: backcall in /home/ec2-user/anaconda3/envs/ml_basic_py37/lib/python3.7/site-packages (from ipython>=4.0.0->ipywidgets>=7.5.1->pandas-profiling>=2.8.0->ml4risk) (0.2.0)\n",
      "Requirement already satisfied: jedi>=0.16 in /home/ec2-user/anaconda3/envs/ml_basic_py37/lib/python3.7/site-packages (from ipython>=4.0.0->ipywidgets>=7.5.1->pandas-profiling>=2.8.0->ml4risk) (0.18.0)\n",
      "Requirement already satisfied: parso<0.9.0,>=0.8.0 in /home/ec2-user/anaconda3/envs/ml_basic_py37/lib/python3.7/site-packages (from jedi>=0.16->ipython>=4.0.0->ipywidgets>=7.5.1->pandas-profiling>=2.8.0->ml4risk) (0.8.1)\n",
      "Requirement already satisfied: jsonschema!=2.5.0,>=2.4 in /home/ec2-user/anaconda3/envs/ml_basic_py37/lib/python3.7/site-packages (from nbformat>=4.2.0->ipywidgets>=7.5.1->pandas-profiling>=2.8.0->ml4risk) (3.2.0)\n",
      "Requirement already satisfied: jupyter-core in /home/ec2-user/anaconda3/envs/ml_basic_py37/lib/python3.7/site-packages (from nbformat>=4.2.0->ipywidgets>=7.5.1->pandas-profiling>=2.8.0->ml4risk) (4.7.1)\n",
      "Requirement already satisfied: ipython-genutils in /home/ec2-user/anaconda3/envs/ml_basic_py37/lib/python3.7/site-packages (from nbformat>=4.2.0->ipywidgets>=7.5.1->pandas-profiling>=2.8.0->ml4risk) (0.2.0)\n",
      "Requirement already satisfied: importlib-metadata in /home/ec2-user/anaconda3/envs/ml_basic_py37/lib/python3.7/site-packages (from jsonschema!=2.5.0,>=2.4->nbformat>=4.2.0->ipywidgets>=7.5.1->pandas-profiling>=2.8.0->ml4risk) (3.7.2)\n",
      "Requirement already satisfied: pyrsistent>=0.14.0 in /home/ec2-user/anaconda3/envs/ml_basic_py37/lib/python3.7/site-packages (from jsonschema!=2.5.0,>=2.4->nbformat>=4.2.0->ipywidgets>=7.5.1->pandas-profiling>=2.8.0->ml4risk) (0.17.3)\n",
      "Requirement already satisfied: ptyprocess>=0.5 in /home/ec2-user/anaconda3/envs/ml_basic_py37/lib/python3.7/site-packages (from pexpect>4.3->ipython>=4.0.0->ipywidgets>=7.5.1->pandas-profiling>=2.8.0->ml4risk) (0.7.0)\n",
      "Collecting retrying>=1.3.3\n",
      "  Downloading https://build.sofi.com/artifactory/api/pypi/pypi/packages/packages/44/ef/beae4b4ef80902f22e3af073397f079c96969c69b2c7d52a57ea9ae61c9d/retrying-1.3.3.tar.gz (10 kB)\n",
      "Requirement already satisfied: wcwidth in /home/ec2-user/anaconda3/envs/ml_basic_py37/lib/python3.7/site-packages (from prompt-toolkit!=3.0.0,!=3.0.1,<3.1.0,>=2.0.0->ipython>=4.0.0->ipywidgets>=7.5.1->pandas-profiling>=2.8.0->ml4risk) (0.2.5)\n",
      "Requirement already satisfied: chardet<5,>=3.0.2 in /home/ec2-user/anaconda3/envs/ml_basic_py37/lib/python3.7/site-packages (from requests>=2.24.0->pandas-profiling>=2.8.0->ml4risk) (4.0.0)\n",
      "Requirement already satisfied: idna<3,>=2.5 in /home/ec2-user/anaconda3/envs/ml_basic_py37/lib/python3.7/site-packages (from requests>=2.24.0->pandas-profiling>=2.8.0->ml4risk) (2.10)\n",
      "Requirement already satisfied: certifi>=2017.4.17 in /home/ec2-user/anaconda3/envs/ml_basic_py37/lib/python3.7/site-packages (from requests>=2.24.0->pandas-profiling>=2.8.0->ml4risk) (2020.12.5)\n",
      "Requirement already satisfied: aiobotocore>=1.0.1 in /home/ec2-user/anaconda3/envs/ml_basic_py37/lib/python3.7/site-packages (from s3fs>=0.3.1->ml4risk) (1.2.2)\n",
      "Requirement already satisfied: fsspec>=0.8.0 in /home/ec2-user/anaconda3/envs/ml_basic_py37/lib/python3.7/site-packages (from s3fs>=0.3.1->ml4risk) (0.8.7)\n",
      "Requirement already satisfied: aioitertools>=0.5.1 in /home/ec2-user/anaconda3/envs/ml_basic_py37/lib/python3.7/site-packages (from aiobotocore>=1.0.1->s3fs>=0.3.1->ml4risk) (0.7.1)\n",
      "Requirement already satisfied: aiohttp>=3.3.1 in /home/ec2-user/anaconda3/envs/ml_basic_py37/lib/python3.7/site-packages (from aiobotocore>=1.0.1->s3fs>=0.3.1->ml4risk) (3.7.4.post0)\n",
      "Requirement already satisfied: wrapt>=1.10.10 in /home/ec2-user/anaconda3/envs/ml_basic_py37/lib/python3.7/site-packages (from aiobotocore>=1.0.1->s3fs>=0.3.1->ml4risk) (1.12.1)\n",
      "Collecting aiobotocore>=1.0.1\n",
      "  Using cached https://build.sofi.com/artifactory/api/pypi/pypi/packages/packages/f9/a4/6c6687571b79fe792c627b6fbc31f3437eaf255388f384b5c4853b2b781c/aiobotocore-1.2.1.tar.gz (48 kB)\n",
      "  Using cached https://build.sofi.com/artifactory/api/pypi/pypi/packages/packages/8e/5c/9caca95a49f66729cf9cf9e295f2cbbb1b58bc638fd80d41b91f32b5189a/aiobotocore-1.2.0.tar.gz (47 kB)\n",
      "  Using cached https://build.sofi.com/artifactory/api/pypi/pypi/packages/packages/73/25/a81b015035012131056a6b7a339eec052f86f33e35fd91f160e961ea2a5e/aiobotocore-1.1.2-py3-none-any.whl (45 kB)\n",
      "  Using cached https://build.sofi.com/artifactory/api/pypi/pypi/packages/packages/a8/a6/3d032b308fa546a5223daf0ae5e414af3ddea33678fff2834d99bb0dd909/aiobotocore-1.1.1-py3-none-any.whl (45 kB)\n",
      "  Using cached https://build.sofi.com/artifactory/api/pypi/pypi/packages/packages/a2/4f/35015ed7d820eb540771bf7518a0892a5cdaf79cc112e37b129fad24bc0c/aiobotocore-1.1.0-py3-none-any.whl (43 kB)\n",
      "  Using cached https://build.sofi.com/artifactory/api/pypi/pypi/packages/packages/a8/91/deb864d92c5ca332d897b521072f6078992b46e2c67da8365a4ee5b9cd47/aiobotocore-1.0.7-py3-none-any.whl (42 kB)\n",
      "  Using cached https://build.sofi.com/artifactory/api/pypi/pypi/packages/packages/73/28/168cd3db4cb7ecf26030bf3f2c1d951f8d2f743d7d04daeabfa70f353d9f/aiobotocore-1.0.6-py3-none-any.whl (42 kB)\n",
      "  Using cached https://build.sofi.com/artifactory/api/pypi/pypi/packages/packages/09/c1/122be0103b0b549eba610f8769893669c5da435542614a33f3e1fcdc78ef/aiobotocore-1.0.5-py3-none-any.whl (42 kB)\n",
      "  Using cached https://build.sofi.com/artifactory/api/pypi/pypi/packages/packages/b2/82/7914c3e3db9d18e893ac0d6e60e7bfea597435e519b367c67f94602a6984/aiobotocore-1.0.4-py3-none-any.whl (41 kB)\n",
      "  Using cached https://build.sofi.com/artifactory/api/pypi/pypi/packages/packages/96/cf/a16938f5e0f46a1815661a44db62db36d2b45082d1772273160e443f544d/aiobotocore-1.0.3-py3-none-any.whl (40 kB)\n",
      "  Using cached https://build.sofi.com/artifactory/api/pypi/pypi/packages/packages/94/36/86ced69acce67787c0445d45b6733a3194567a973cd344bcab9eed4a2dae/aiobotocore-1.0.2-py3-none-any.whl (40 kB)\n",
      "  Using cached https://build.sofi.com/artifactory/api/pypi/pypi/packages/packages/8c/eb/53443d088023f016ba076d23b8aa7d223bed7938e2eba4d1c06f52b3c0eb/aiobotocore-1.0.1-py3-none-any.whl (40 kB)\n",
      "INFO: pip is looking at multiple versions of s3fs to determine which version is compatible with other requirements. This could take a while.\n",
      "Collecting s3fs>=0.3.1\n",
      "  Using cached https://build.sofi.com/artifactory/api/pypi/pypi/packages/packages/a7/58/732ea1c735d725b1cc4cf365ae6326c22569a5e88c8502d13844e91f08ef/s3fs-0.5.1-py3-none-any.whl (21 kB)\n",
      "  Using cached https://build.sofi.com/artifactory/api/pypi/pypi/packages/packages/92/15/792d40668bd63acc8f816188ed3c3a27f393717122c8bed5fe8f550616da/s3fs-0.5.0-py3-none-any.whl (21 kB)\n",
      "  Using cached https://build.sofi.com/artifactory/api/pypi/pypi/packages/packages/b8/e4/b8fc59248399d2482b39340ec9be4bb2493846ac23641b43115a7e5cd675/s3fs-0.4.2-py3-none-any.whl (19 kB)\n",
      "  Using cached https://build.sofi.com/artifactory/api/pypi/pypi/packages/packages/cb/58/2965a4852735a174e92cf62212afdffdf9f72aec564f8d971b6cb24f87bc/s3fs-0.4.1-py3-none-any.whl (19 kB)\n",
      "  Using cached https://build.sofi.com/artifactory/api/pypi/pypi/packages/packages/72/5c/ec84c7ec49fde2c3b0d885ecae4504fa40fc77fef7684e9f2939c50f9b94/s3fs-0.4.0-py3-none-any.whl (18 kB)\n",
      "  Using cached https://build.sofi.com/artifactory/api/pypi/pypi/packages/packages/3e/0d/d5f7ef4a3c2237b71e7e406ed6f512815874bfc5c042ebd680bd29d7d06e/s3fs-0.3.5.tar.gz (46 kB)\n",
      "  Using cached https://build.sofi.com/artifactory/api/pypi/pypi/packages/packages/01/5c/5899c874ac3a00c4b99be983eae22c8a3800c3d5fc3d22f6f1e5058aacf2/s3fs-0.3.4-py3-none-any.whl (18 kB)\n",
      "  Using cached https://build.sofi.com/artifactory/api/pypi/pypi/packages/packages/b5/ab/73a1a04442e480ba8830f9751fa6c438691cbf34a1ebb16267e47eb90984/s3fs-0.3.3.tar.gz (45 kB)\n",
      "  Using cached https://build.sofi.com/artifactory/api/pypi/pypi/packages/packages/e1/8c/2aff798ae39105eb638bca0e6d64d151313f19c6d0feaa82d9daef4c5ffb/s3fs-0.3.2.tar.gz (45 kB)\n",
      "  Using cached https://build.sofi.com/artifactory/api/pypi/pypi/packages/packages/65/c9/6749902a288036e54c15ac7f100815516aea3880f5a6ec6babed13f440d5/s3fs-0.3.1.tar.gz (44 kB)\n",
      "Collecting imageio>=2.3.0\n",
      "  Downloading https://build.sofi.com/artifactory/api/pypi/pypi/packages/packages/6e/57/5d899fae74c1752f52869b613a8210a2480e1a69688e65df6cb26117d45d/imageio-2.9.0-py3-none-any.whl (3.3 MB)\n",
      "\u001b[K     |████████████████████████████████| 3.3 MB 56.7 MB/s eta 0:00:01\n",
      "\u001b[?25hRequirement already satisfied: PyWavelets>=1.1.1 in /home/ec2-user/anaconda3/envs/ml_basic_py37/lib/python3.7/site-packages (from scikit-image>=0.13.1->ml4risk) (1.1.1)\n",
      "Collecting tifffile>=2019.7.26\n",
      "  Downloading https://build.sofi.com/artifactory/api/pypi/pypi/packages/packages/b6/4a/b3bb4552f840cd7a902babdb8919b51ba12843ca787289813809cec4a8ce/tifffile-2021.3.5-py3-none-any.whl (162 kB)\n",
      "\u001b[K     |████████████████████████████████| 162 kB 78.2 MB/s eta 0:00:01\n",
      "\u001b[?25hRequirement already satisfied: threadpoolctl>=2.0.0 in /home/ec2-user/anaconda3/envs/ml_basic_py37/lib/python3.7/site-packages (from scikit-learn>=0.20.3->ml4risk) (2.1.0)\n",
      "Requirement already satisfied: patsy>=0.5 in /home/ec2-user/anaconda3/envs/ml_basic_py37/lib/python3.7/site-packages (from statsmodels>=0.9.0->ml4risk) (0.5.1)\n",
      "Collecting keyring>=15.1\n",
      "  Downloading https://build.sofi.com/artifactory/api/pypi/pypi/packages/packages/4a/4f/a63f284d26eac29a29e24657d12f17bddac58b12673ca39b53ae5f20c1a3/keyring-23.0.0-py3-none-any.whl (32 kB)\n",
      "Collecting readme-renderer>=21.0\n",
      "  Downloading https://build.sofi.com/artifactory/api/pypi/pypi/packages/packages/39/a5/459adfa22ea237f6e8d0fa95ad29d7369579a5eec26f016ab34bb7f8359c/readme_renderer-29.0-py2.py3-none-any.whl (15 kB)\n",
      "Collecting pkginfo>=1.4.2\n",
      "  Downloading https://build.sofi.com/artifactory/api/pypi/pypi/packages/packages/b0/9a/d78e7c299eb5659bc3a036e5a968a399c62bfe0b2aa18baf7d13f43373ba/pkginfo-1.7.0-py2.py3-none-any.whl (25 kB)\n",
      "Collecting rfc3986>=1.4.0\n",
      "  Downloading https://build.sofi.com/artifactory/api/pypi/pypi/packages/packages/78/be/7b8b99fd74ff5684225f50dd0e865393d2265656ef3b4ba9eaaaffe622b8/rfc3986-1.4.0-py2.py3-none-any.whl (31 kB)\n",
      "Collecting requests-toolbelt!=0.9.0,>=0.8.0\n",
      "  Downloading https://build.sofi.com/artifactory/api/pypi/pypi/packages/packages/60/ef/7681134338fc097acef8d9b2f8abe0458e4d87559c689a8c306d0957ece5/requests_toolbelt-0.9.1-py2.py3-none-any.whl (54 kB)\n",
      "\u001b[K     |████████████████████████████████| 54 kB 4.4 MB/s  eta 0:00:01\n",
      "\u001b[?25hCollecting SecretStorage>=3.2\n",
      "  Downloading https://build.sofi.com/artifactory/api/pypi/pypi/packages/packages/d9/1e/29cd69fdac7391aa51510dfd42aa70b4e6a826c8cd019ee2a8ab9ec0777f/SecretStorage-3.3.1-py3-none-any.whl (15 kB)\n",
      "Collecting jeepney>=0.4.2\n",
      "  Downloading https://build.sofi.com/artifactory/api/pypi/pypi/packages/packages/51/b0/a6ea72741aaac3f37fb96d195e4ee576a103c4c04e279bc6b446a70960e1/jeepney-0.6.0-py3-none-any.whl (45 kB)\n",
      "\u001b[K     |████████████████████████████████| 45 kB 5.2 MB/s  eta 0:00:01\n",
      "\u001b[?25hRequirement already satisfied: zipp>=0.5 in /home/ec2-user/anaconda3/envs/ml_basic_py37/lib/python3.7/site-packages (from importlib-metadata->jsonschema!=2.5.0,>=2.4->nbformat>=4.2.0->ipywidgets>=7.5.1->pandas-profiling>=2.8.0->ml4risk) (3.4.1)\n",
      "Collecting docutils>=0.13.1\n",
      "  Downloading https://build.sofi.com/artifactory/api/pypi/pypi/packages/packages/81/44/8a15e45ffa96e6cf82956dd8d7af9e666357e16b0d93b253903475ee947f/docutils-0.16-py2.py3-none-any.whl (548 kB)\n",
      "\u001b[K     |████████████████████████████████| 548 kB 49.8 MB/s eta 0:00:01\n",
      "\u001b[?25hRequirement already satisfied: bleach>=2.1.0 in /home/ec2-user/anaconda3/envs/ml_basic_py37/lib/python3.7/site-packages (from readme-renderer>=21.0->twine>=1.13.0->ml4risk) (3.3.0)\n",
      "Requirement already satisfied: webencodings in /home/ec2-user/anaconda3/envs/ml_basic_py37/lib/python3.7/site-packages (from bleach>=2.1.0->readme-renderer>=21.0->twine>=1.13.0->ml4risk) (0.5.1)\n",
      "Collecting cryptography>=2.0\n",
      "  Downloading https://build.sofi.com/artifactory/api/pypi/pypi/packages/packages/f8/1f/acde6ff69864c5e78b56488e3afd93c1ccc8c2651186e2a5f93d93f64859/cryptography-3.4.6-cp36-abi3-manylinux2014_x86_64.whl (3.2 MB)\n",
      "\u001b[K     |████████████████████████████████| 3.2 MB 36.9 MB/s eta 0:00:01\n",
      "\u001b[?25hRequirement already satisfied: cffi>=1.12 in /home/ec2-user/anaconda3/envs/ml_basic_py37/lib/python3.7/site-packages (from cryptography>=2.0->SecretStorage>=3.2->keyring>=15.1->twine>=1.13.0->ml4risk) (1.14.5)\n",
      "Requirement already satisfied: pycparser in /home/ec2-user/anaconda3/envs/ml_basic_py37/lib/python3.7/site-packages (from cffi>=1.12->cryptography>=2.0->SecretStorage>=3.2->keyring>=15.1->twine>=1.13.0->ml4risk) (2.20)\n",
      "Requirement already satisfied: notebook>=4.4.1 in /home/ec2-user/anaconda3/envs/ml_basic_py37/lib/python3.7/site-packages (from widgetsnbextension~=3.5.0->ipywidgets>=7.5.1->pandas-profiling>=2.8.0->ml4risk) (6.2.0)\n",
      "Requirement already satisfied: terminado>=0.8.3 in /home/ec2-user/anaconda3/envs/ml_basic_py37/lib/python3.7/site-packages (from notebook>=4.4.1->widgetsnbextension~=3.5.0->ipywidgets>=7.5.1->pandas-profiling>=2.8.0->ml4risk) (0.9.2)\n",
      "Requirement already satisfied: Send2Trash>=1.5.0 in /home/ec2-user/anaconda3/envs/ml_basic_py37/lib/python3.7/site-packages (from notebook>=4.4.1->widgetsnbextension~=3.5.0->ipywidgets>=7.5.1->pandas-profiling>=2.8.0->ml4risk) (1.5.0)\n",
      "Requirement already satisfied: nbconvert in /home/ec2-user/anaconda3/envs/ml_basic_py37/lib/python3.7/site-packages (from notebook>=4.4.1->widgetsnbextension~=3.5.0->ipywidgets>=7.5.1->pandas-profiling>=2.8.0->ml4risk) (6.0.7)\n",
      "Requirement already satisfied: pyzmq>=17 in /home/ec2-user/anaconda3/envs/ml_basic_py37/lib/python3.7/site-packages (from notebook>=4.4.1->widgetsnbextension~=3.5.0->ipywidgets>=7.5.1->pandas-profiling>=2.8.0->ml4risk) (22.0.3)\n",
      "Requirement already satisfied: prometheus-client in /home/ec2-user/anaconda3/envs/ml_basic_py37/lib/python3.7/site-packages (from notebook>=4.4.1->widgetsnbextension~=3.5.0->ipywidgets>=7.5.1->pandas-profiling>=2.8.0->ml4risk) (0.9.0)\n",
      "Requirement already satisfied: argon2-cffi in /home/ec2-user/anaconda3/envs/ml_basic_py37/lib/python3.7/site-packages (from notebook>=4.4.1->widgetsnbextension~=3.5.0->ipywidgets>=7.5.1->pandas-profiling>=2.8.0->ml4risk) (20.1.0)\n",
      "Requirement already satisfied: jupyterlab-pygments in /home/ec2-user/anaconda3/envs/ml_basic_py37/lib/python3.7/site-packages (from nbconvert->notebook>=4.4.1->widgetsnbextension~=3.5.0->ipywidgets>=7.5.1->pandas-profiling>=2.8.0->ml4risk) (0.1.2)\n",
      "Requirement already satisfied: testpath in /home/ec2-user/anaconda3/envs/ml_basic_py37/lib/python3.7/site-packages (from nbconvert->notebook>=4.4.1->widgetsnbextension~=3.5.0->ipywidgets>=7.5.1->pandas-profiling>=2.8.0->ml4risk) (0.4.4)\n",
      "Requirement already satisfied: defusedxml in /home/ec2-user/anaconda3/envs/ml_basic_py37/lib/python3.7/site-packages (from nbconvert->notebook>=4.4.1->widgetsnbextension~=3.5.0->ipywidgets>=7.5.1->pandas-profiling>=2.8.0->ml4risk) (0.7.1)\n",
      "Requirement already satisfied: entrypoints>=0.2.2 in /home/ec2-user/anaconda3/envs/ml_basic_py37/lib/python3.7/site-packages (from nbconvert->notebook>=4.4.1->widgetsnbextension~=3.5.0->ipywidgets>=7.5.1->pandas-profiling>=2.8.0->ml4risk) (0.3)\n",
      "Requirement already satisfied: mistune<2,>=0.8.1 in /home/ec2-user/anaconda3/envs/ml_basic_py37/lib/python3.7/site-packages (from nbconvert->notebook>=4.4.1->widgetsnbextension~=3.5.0->ipywidgets>=7.5.1->pandas-profiling>=2.8.0->ml4risk) (0.8.4)\n",
      "Requirement already satisfied: pandocfilters>=1.4.1 in /home/ec2-user/anaconda3/envs/ml_basic_py37/lib/python3.7/site-packages (from nbconvert->notebook>=4.4.1->widgetsnbextension~=3.5.0->ipywidgets>=7.5.1->pandas-profiling>=2.8.0->ml4risk) (1.4.3)\n",
      "Requirement already satisfied: nbclient<0.6.0,>=0.5.0 in /home/ec2-user/anaconda3/envs/ml_basic_py37/lib/python3.7/site-packages (from nbconvert->notebook>=4.4.1->widgetsnbextension~=3.5.0->ipywidgets>=7.5.1->pandas-profiling>=2.8.0->ml4risk) (0.5.3)\n",
      "Requirement already satisfied: async-generator in /home/ec2-user/anaconda3/envs/ml_basic_py37/lib/python3.7/site-packages (from nbclient<0.6.0,>=0.5.0->nbconvert->notebook>=4.4.1->widgetsnbextension~=3.5.0->ipywidgets>=7.5.1->pandas-profiling>=2.8.0->ml4risk) (1.10)\n",
      "Requirement already satisfied: nest-asyncio in /home/ec2-user/anaconda3/envs/ml_basic_py37/lib/python3.7/site-packages (from nbclient<0.6.0,>=0.5.0->nbconvert->notebook>=4.4.1->widgetsnbextension~=3.5.0->ipywidgets>=7.5.1->pandas-profiling>=2.8.0->ml4risk) (1.5.1)\n",
      "Building wheels for collected packages: retrying\n",
      "  Building wheel for retrying (setup.py) ... \u001b[?25ldone\n",
      "\u001b[?25h  Created wheel for retrying: filename=retrying-1.3.3-py3-none-any.whl size=11429 sha256=82330fad0b4e7d18daa72a001541150910781c510849c1eaaee779b0e98d0a80\n",
      "  Stored in directory: /home/ec2-user/.cache/pip/wheels/bd/9c/45/519d3b1ae0971186a2f22f8766e75df6d69c86693c5dc6ccf2\n",
      "Successfully built retrying\n",
      "Installing collected packages: jeepney, cryptography, SecretStorage, docutils, tifffile, rfc3986, retrying, requests-toolbelt, readme-renderer, pkginfo, keyring, imageio, twine, scikit-image, s3fs, plotly, dill, boto, ml4risk\n",
      "  Attempting uninstall: s3fs\n",
      "    Found existing installation: s3fs 0.5.2\n",
      "    Uninstalling s3fs-0.5.2:\n",
      "      Successfully uninstalled s3fs-0.5.2\n",
      "Successfully installed SecretStorage-3.3.1 boto-2.49.0 cryptography-3.4.6 dill-0.3.3 docutils-0.16 imageio-2.9.0 jeepney-0.6.0 keyring-23.0.0 ml4risk-0.0.4 pkginfo-1.7.0 plotly-4.14.3 readme-renderer-29.0 requests-toolbelt-0.9.1 retrying-1.3.3 rfc3986-1.4.0 s3fs-0.4.2 scikit-image-0.18.1 tifffile-2021.3.5 twine-3.3.0\n"
     ]
    }
   ],
   "source": [
    "!pip install --index-url https://build.sofi.com/artifactory/api/pypi/pypi/simple ml4risk"
   ]
  },
  {
   "cell_type": "code",
   "execution_count": null,
   "metadata": {},
   "outputs": [],
   "source": []
  }
 ],
 "metadata": {
  "kernelspec": {
   "display_name": "conda_amazonei_mxnet_p27",
   "language": "python",
   "name": "conda_amazonei_mxnet_p27"
  },
  "language_info": {
   "codemirror_mode": {
    "name": "ipython",
    "version": 2
   },
   "file_extension": ".py",
   "mimetype": "text/x-python",
   "name": "python",
   "nbconvert_exporter": "python",
   "pygments_lexer": "ipython2",
   "version": "2.7.16"
  }
 },
 "nbformat": 4,
 "nbformat_minor": 4
}
