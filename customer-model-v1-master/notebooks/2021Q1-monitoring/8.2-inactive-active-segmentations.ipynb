{
 "cells": [
  {
   "cell_type": "markdown",
   "id": "5c8df84b",
   "metadata": {},
   "source": [
    "## Inactive vs. Active Accounts\n",
    "---\n",
    "\n",
    "As Dan suggested, the refitted model penalizes inactive account much LESS than the old one, which may be the cause behind the performance lift.\n",
    "\n",
    "Let's take a look how do the models measure up against one another.\n",
    "\n",
    "Maybe we should keep the customer model fitting option if it outperforms on the active accounts.\n",
    "\n",
    "Let's define activeness potentially as ` (df_dev.nr_past_transactions > 0) & (df_dev.nr_transactions_30d > 0)`\n",
    "\n",
    "Maybe just `df_dev.nr_past_transactions > 0`\n"
   ]
  },
  {
   "cell_type": "code",
   "execution_count": 20,
   "id": "f6134694",
   "metadata": {},
   "outputs": [
    {
     "name": "stdout",
     "output_type": "stream",
     "text": [
      "The autoreload extension is already loaded. To reload it, use:\n",
      "  %reload_ext autoreload\n"
     ]
    }
   ],
   "source": [
    "import sys, os, json\n",
    "sys.path.insert(1, \"../../\")\n",
    "from src.combine import combine_data\n",
    "import pandas as pd\n",
    "import numpy as np\n",
    "from tqdm import tqdm\n",
    "import matplotlib.pyplot as plt\n",
    "import seaborn as sns\n",
    "from collections import OrderedDict\n",
    "import src.monitoring.refit as refit\n",
    "import src.monitoring.governance as gvrn\n",
    "import src.monitoring.monitoring as mntr\n",
    "import src.monitoring.utils as mu\n",
    "\n",
    "%matplotlib inline\n",
    "plt.style.use('seaborn')\n",
    "\n",
    "%load_ext autoreload\n",
    "%autoreload 2\n",
    "\n",
    "import warnings\n",
    "warnings.filterwarnings(\"ignore\")"
   ]
  },
  {
   "cell_type": "markdown",
   "id": "2bc40032",
   "metadata": {},
   "source": [
    "### Load test data and models"
   ]
  },
  {
   "cell_type": "code",
   "execution_count": null,
   "id": "ab4ab1b5",
   "metadata": {},
   "outputs": [],
   "source": [
    "# load modeling_df\n",
    "dev_path = \"../../data/combined_all_features/combined_1616138792.feather\"\n",
    "df = pd.read_feather(dev_path)\n",
    "df = mu.preprocess(df)"
   ]
  },
  {
   "cell_type": "code",
   "execution_count": null,
   "id": "cca3c3a1",
   "metadata": {},
   "outputs": [],
   "source": [
    "start = pd.to_datetime(\"2019-01-01\")\n",
    "end = pd.to_datetime(\"2020-11-30\")  # 1 m\n",
    "modeling_df = df[df.sample_date.between(start, end)]\n",
    "valid_df_dec = df[(df.is_static==True) &\n",
    "              (df.sample_date==pd.to_datetime(\"2020-12-01\"))]"
   ]
  },
  {
   "cell_type": "markdown",
   "id": "f6535ae7",
   "metadata": {},
   "source": [
    "### Refitted Model\n",
    "---"
   ]
  },
  {
   "cell_type": "code",
   "execution_count": null,
   "id": "363ecf42",
   "metadata": {},
   "outputs": [],
   "source": [
    "# prev model\n",
    "prev_model_s3_key = \"jxu/money-risk-models/customer-risk-model/models/customer_risk_target_no_giact_time_since_last_link.pkl\"\n",
    "old_model = mu.read_pickle_from_s3(\"sofi-data-science\", prev_model_s3_key)\n",
    "\n",
    "new_model_booster_w_ind = lgb.Booster(model_file=\"artifacts/model_20200630.txt\")\n",
    "new_model_booster = lgb.Booster(model_file=\"artifacts/model_20201130.txt\")"
   ]
  },
  {
   "cell_type": "code",
   "execution_count": null,
   "id": "09152290",
   "metadata": {},
   "outputs": [],
   "source": [
    "# old model\n",
    "valid_df_dec[\"pred_20200101\"] = old_model.predict_proba(valid_df_dec[old_model.feature_name_])[:,1]\n",
    "valid_df_dec[\"score_20200101\"] = mu.scale_scores(valid_df_dec[\"pred_20200101\"])\n",
    "\n",
    "# new model with indeterminant\n",
    "valid_df_dec[\"pred_200630\"]\n",
    "\n",
    "# new model without indeterminant\n",
    "valid_df_dec[\"pred_20201130\"] = new_model_booster.predict(valid_df_dec[old_model.feature_name_])\n",
    "valid_df_dec[\"score_20201130\"] = mu.scale_scores(valid_df_dec[\"pred_20201130\"])"
   ]
  }
 ],
 "metadata": {
  "kernelspec": {
   "display_name": "conda_customer_risk",
   "language": "python",
   "name": "conda_customer_risk"
  },
  "language_info": {
   "codemirror_mode": {
    "name": "ipython",
    "version": 3
   },
   "file_extension": ".py",
   "mimetype": "text/x-python",
   "name": "python",
   "nbconvert_exporter": "python",
   "pygments_lexer": "ipython3",
   "version": "3.7.12"
  }
 },
 "nbformat": 4,
 "nbformat_minor": 5
}
