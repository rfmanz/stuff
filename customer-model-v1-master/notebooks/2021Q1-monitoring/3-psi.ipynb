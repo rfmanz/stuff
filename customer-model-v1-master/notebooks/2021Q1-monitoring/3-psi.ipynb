{
 "cells": [
  {
   "cell_type": "markdown",
   "id": "d4409104",
   "metadata": {},
   "source": [
    "### Measure PSI with current prod data and past dev\n",
    "---"
   ]
  },
  {
   "cell_type": "code",
   "execution_count": 1,
   "id": "c913f0a8",
   "metadata": {},
   "outputs": [],
   "source": [
    "import sys, os, json\n",
    "sys.path.insert(1, \"../../\")\n",
    "from src.combine import combine_data\n",
    "import pandas as pd\n",
    "import numpy as np\n",
    "from tqdm import tqdm\n",
    "import matplotlib.pyplot as plt\n",
    "from collections import OrderedDict\n",
    "import src.monitoring.refit as refit\n",
    "import src.monitoring.governance as gvrn\n",
    "import src.monitoring.monitoring as mntr\n",
    "import src.monitoring.utils as mu\n",
    "\n",
    "%matplotlib inline\n",
    "plt.style.use('seaborn')\n",
    "\n",
    "%load_ext autoreload\n",
    "%autoreload 2\n",
    "\n",
    "import warnings\n",
    "warnings.filterwarnings(\"ignore\")"
   ]
  },
  {
   "cell_type": "code",
   "execution_count": 2,
   "id": "2fb73e48",
   "metadata": {},
   "outputs": [
    {
     "data": {
      "text/plain": [
       "(2019-12-31 00:00:00    61131\n",
       " 2019-10-19 00:00:00    49524\n",
       " 2019-08-07 00:00:00    40206\n",
       " 2019-05-26 00:00:00    26006\n",
       " 2019-03-15 00:00:00    20671\n",
       "                        ...  \n",
       " 2019-01-23 17:51:04        1\n",
       " 2019-08-30 07:43:54        1\n",
       " 2019-12-26 11:13:59        1\n",
       " 2019-11-14 08:53:56        1\n",
       " 2019-08-30 11:29:08        1\n",
       " Name: sample_date, Length: 389036, dtype: int64,\n",
       " (1086183, 47))"
      ]
     },
     "execution_count": 2,
     "metadata": {},
     "output_type": "execute_result"
    }
   ],
   "source": [
    "# load final data computed locally\n",
    "# df = pd.read_feather(\"../../data/combined_all_features/combined_1613851268.feather\") \n",
    "# we've previous sent combined_1613851268.feather to s3, let's download it\n",
    "# dev_path = \"s3://sofi-data-science/jxu/monitoring/customer-risk-v1/2021-02/dev-data.parquet\"\n",
    "dev_path = \"s3://sofi-data-science/jxu/money-risk-models/customer-risk-model/data/tb-dev/modeling_df_final_2020-05-14.feather\"\n",
    "df = pd.read_feather(dev_path)\n",
    "df = mu.preprocess(df)\n",
    "df.sample_date.value_counts(), df.shape"
   ]
  },
  {
   "cell_type": "code",
   "execution_count": 3,
   "id": "0629deaf",
   "metadata": {},
   "outputs": [
    {
     "data": {
      "text/plain": [
       "<AxesSubplot:>"
      ]
     },
     "execution_count": 3,
     "metadata": {},
     "output_type": "execute_result"
    },
    {
     "data": {
      "image/png": "[encoded data removed]",
      "text/plain": [
       "<Figure size 576x396 with 1 Axes>"
      ]
     },
     "metadata": {},
     "output_type": "display_data"
    }
   ],
   "source": [
    "df.sample_date.hist(bins=100)"
   ]
  },
  {
   "cell_type": "code",
   "execution_count": 4,
   "id": "063b5f5b",
   "metadata": {},
   "outputs": [
    {
     "data": {
      "text/plain": [
       "(2019-12-31    61131\n",
       " Name: sample_date, dtype: int64,\n",
       " (61131, 47))"
      ]
     },
     "execution_count": 4,
     "metadata": {},
     "output_type": "execute_result"
    }
   ],
   "source": [
    "dev_snapshot_date = str(df.sample_date.max()).split()[0]\n",
    "prod_snapshot_date = \"2021-02-19\"\n",
    "df_dev = df[df.sample_date == df.sample_date.max()]\n",
    "df_dev.sample_date.value_counts(), df_dev.shape"
   ]
  },
  {
   "cell_type": "code",
   "execution_count": 5,
   "id": "84ed0757",
   "metadata": {},
   "outputs": [],
   "source": [
    "df_prod = pd.read_parquet(f's3://sofi-data-science/jxu/monitoring/customer-risk-v1/2021-02/prod-data-{prod_snapshot_date}.parquet')"
   ]
  },
  {
   "cell_type": "code",
   "execution_count": 6,
   "id": "26837c21",
   "metadata": {},
   "outputs": [],
   "source": [
    "# preprocess\n",
    "df_dev = mu.preprocess(df_dev)"
   ]
  },
  {
   "cell_type": "code",
   "execution_count": 7,
   "id": "8d46b282",
   "metadata": {},
   "outputs": [],
   "source": [
    "# load model from s3\n",
    "prev_model_s3_key = \"jxu/money-risk-models/customer-risk-model/models/customer_risk_target_no_giact_time_since_last_link.pkl\"\n",
    "model = mu.read_pickle_from_s3(\"sofi-data-science\", prev_model_s3_key)"
   ]
  },
  {
   "cell_type": "code",
   "execution_count": 11,
   "id": "702f0e6e",
   "metadata": {},
   "outputs": [],
   "source": [
    "artifact_dir = \"../../artifacts/monitoring-2021Q1/psi\" "
   ]
  },
  {
   "cell_type": "code",
   "execution_count": null,
   "id": "0be7d980",
   "metadata": {},
   "outputs": [],
   "source": []
  },
  {
   "cell_type": "markdown",
   "id": "66719d6f",
   "metadata": {},
   "source": [
    "### Score Level\n",
    "---\n",
    "\n",
    "Reload data from dev in 2020-01 after the dev period for development"
   ]
  },
  {
   "cell_type": "code",
   "execution_count": 16,
   "id": "e08411f6",
   "metadata": {},
   "outputs": [
    {
     "name": "stdout",
     "output_type": "stream",
     "text": [
      "The autoreload extension is already loaded. To reload it, use:\n",
      "  %reload_ext autoreload\n"
     ]
    }
   ],
   "source": [
    "import sys, os, json\n",
    "sys.path.insert(1, \"../../\")\n",
    "from src.combine import combine_data\n",
    "import pandas as pd\n",
    "import numpy as np\n",
    "from tqdm import tqdm\n",
    "import matplotlib.pyplot as plt\n",
    "from collections import OrderedDict\n",
    "import src.monitoring.refit as refit\n",
    "import src.monitoring.governance as gvrn\n",
    "import src.monitoring.monitoring as mntr\n",
    "import src.monitoring.utils as mu\n",
    "\n",
    "%matplotlib inline\n",
    "plt.style.use('seaborn')\n",
    "\n",
    "%load_ext autoreload\n",
    "%autoreload 2\n",
    "\n",
    "import warnings\n",
    "warnings.filterwarnings(\"ignore\")"
   ]
  },
  {
   "cell_type": "code",
   "execution_count": 17,
   "id": "80360d32",
   "metadata": {},
   "outputs": [
    {
     "data": {
      "text/plain": [
       "2020-01-01    165849\n",
       "Name: sample_date, dtype: int64"
      ]
     },
     "metadata": {},
     "output_type": "display_data"
    },
    {
     "data": {
      "text/plain": [
       "(165849, 98)"
      ]
     },
     "metadata": {},
     "output_type": "display_data"
    }
   ],
   "source": [
    "# artifacts path\n",
    "artifact_path = \"../../artifacts/monitoring-2021Q1/psi\" \n",
    "os.makedirs(artifact_path, exist_ok=True)\n",
    "\n",
    "# load configs\n",
    "with open(\"../../config.json\", \"r\") as f:\n",
    "    config = json.load(f)\n",
    "\n",
    "# dev data get and process\n",
    "dev_path = \"s3://sofi-data-science/jxu/monitoring/customer-risk-v1/2021-02/dev-data.parquet\"\n",
    "df = pd.read_parquet(dev_path)\n",
    "df = mu.prep_customer_data(df)\n",
    "    \n",
    "# find the first day to start monitoring\n",
    "dev_snapshot_date = pd.to_datetime(\"2020-01-01\")\n",
    "prod_snapshot_date = \"2021-02-19\"\n",
    "df_dev = df[df.sample_date == dev_snapshot_date]\n",
    "display(df_dev.sample_date.value_counts(), df_dev.shape)\n",
    "\n",
    "# prod data\n",
    "df_prod = pd.read_parquet(f's3://sofi-data-science/jxu/monitoring/customer-risk-v1/2021-02/prod-data-{prod_snapshot_date}.parquet')\n",
    "\n",
    "# load model from s3\n",
    "prev_model_s3_key = \"jxu/money-risk-models/customer-risk-model/models/customer_risk_target_no_giact_time_since_last_link.pkl\"\n",
    "model = mu.read_pickle_from_s3(\"sofi-data-science\", prev_model_s3_key)"
   ]
  },
  {
   "cell_type": "code",
   "execution_count": 18,
   "id": "b1399016",
   "metadata": {},
   "outputs": [],
   "source": [
    "df_dev[\"model_pred\"] = model.predict_proba(df_dev[model.feature_name_])[:,1]\n",
    "df_dev[\"model_score\"] = mu.scale_scores(df_dev[\"model_pred\"])"
   ]
  },
  {
   "cell_type": "code",
   "execution_count": 19,
   "id": "d1cfba02",
   "metadata": {},
   "outputs": [
    {
     "data": {
      "text/plain": [
       "<matplotlib.legend.Legend at 0x7fa88d8eb890>"
      ]
     },
     "execution_count": 19,
     "metadata": {},
     "output_type": "execute_result"
    },
    {
     "data": {
      "image/png": "[encoded data removed]",
      "text/plain": [
       "<Figure size 576x396 with 1 Axes>"
      ]
     },
     "metadata": {},
     "output_type": "display_data"
    }
   ],
   "source": [
    "df_prod.model_score.hist(bins=10, alpha=0.4, density=True, label=\"production\")\n",
    "df_dev.model_score.hist(bins=10, alpha=0.4, density=True, label=\"development\")\n",
    "plt.legend()"
   ]
  },
  {
   "cell_type": "code",
   "execution_count": 20,
   "id": "ba56ee2d",
   "metadata": {},
   "outputs": [
    {
     "data": {
      "text/html": [
       "<div>\n",
       "<style scoped>\n",
       "    .dataframe tbody tr th:only-of-type {\n",
       "        vertical-align: middle;\n",
       "    }\n",
       "\n",
       "    .dataframe tbody tr th {\n",
       "        vertical-align: top;\n",
       "    }\n",
       "\n",
       "    .dataframe thead th {\n",
       "        text-align: right;\n",
       "    }\n",
       "</style>\n",
       "<table border=\"1\" class=\"dataframe\">\n",
       "  <thead>\n",
       "    <tr style=\"text-align: right;\">\n",
       "      <th></th>\n",
       "      <th>feature</th>\n",
       "      <th>psi</th>\n",
       "    </tr>\n",
       "  </thead>\n",
       "  <tbody>\n",
       "    <tr>\n",
       "      <th>0</th>\n",
       "      <td>model_score</td>\n",
       "      <td>0.5422</td>\n",
       "    </tr>\n",
       "  </tbody>\n",
       "</table>\n",
       "</div>"
      ],
      "text/plain": [
       "       feature     psi\n",
       "0  model_score  0.5422"
      ]
     },
     "execution_count": 20,
     "metadata": {},
     "output_type": "execute_result"
    }
   ],
   "source": [
    "psi_df = mntr.get_psi(df_dev.model_score.to_frame(), \n",
    "                      df_prod.model_score.to_frame()).round(5)\n",
    "psi_df.to_csv(os.path.join(artifact_dir, f\"score-psi-dev{dev_snapshot_date}-prod{prod_snapshot_date}.csv\"), index=False)\n",
    "psi_df"
   ]
  },
  {
   "cell_type": "code",
   "execution_count": null,
   "id": "a70f383b",
   "metadata": {},
   "outputs": [],
   "source": []
  }
 ],
 "metadata": {
  "kernelspec": {
   "display_name": "conda_customer_risk",
   "language": "python",
   "name": "conda_customer_risk"
  },
  "language_info": {
   "codemirror_mode": {
    "name": "ipython",
    "version": 3
   },
   "file_extension": ".py",
   "mimetype": "text/x-python",
   "name": "python",
   "nbconvert_exporter": "python",
   "pygments_lexer": "ipython3",
   "version": "3.7.10"
  }
 },
 "nbformat": 4,
 "nbformat_minor": 5
}
