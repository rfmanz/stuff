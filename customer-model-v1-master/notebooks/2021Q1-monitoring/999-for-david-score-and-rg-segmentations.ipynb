{
 "cells": [
  {
   "cell_type": "code",
   "execution_count": 1,
   "id": "collect-purchase",
   "metadata": {},
   "outputs": [
    {
     "name": "stdout",
     "output_type": "stream",
     "text": [
      "Requirement already satisfied: pandas in /home/ec2-user/anaconda3/envs/customer_risk/lib/python3.7/site-packages (1.2.3)\n",
      "Requirement already satisfied: matplotlib in /home/ec2-user/anaconda3/envs/customer_risk/lib/python3.7/site-packages (3.3.4)\n",
      "Requirement already satisfied: cycler>=0.10 in /home/ec2-user/anaconda3/envs/customer_risk/lib/python3.7/site-packages (from matplotlib) (0.10.0)\n",
      "Requirement already satisfied: pillow>=6.2.0 in /home/ec2-user/anaconda3/envs/customer_risk/lib/python3.7/site-packages (from matplotlib) (8.1.2)\n",
      "Requirement already satisfied: pyparsing!=2.0.4,!=2.1.2,!=2.1.6,>=2.0.3 in /home/ec2-user/anaconda3/envs/customer_risk/lib/python3.7/site-packages (from matplotlib) (2.4.7)\n",
      "Requirement already satisfied: python-dateutil>=2.1 in /home/ec2-user/anaconda3/envs/customer_risk/lib/python3.7/site-packages (from matplotlib) (2.8.1)\n",
      "Requirement already satisfied: kiwisolver>=1.0.1 in /home/ec2-user/anaconda3/envs/customer_risk/lib/python3.7/site-packages (from matplotlib) (1.3.1)\n",
      "Requirement already satisfied: numpy>=1.15 in /home/ec2-user/anaconda3/envs/customer_risk/lib/python3.7/site-packages (from matplotlib) (1.20.1)\n",
      "Requirement already satisfied: six in /home/ec2-user/anaconda3/envs/customer_risk/lib/python3.7/site-packages (from cycler>=0.10->matplotlib) (1.15.0)\n",
      "Requirement already satisfied: pytz>=2017.3 in /home/ec2-user/anaconda3/envs/customer_risk/lib/python3.7/site-packages (from pandas) (2021.1)\n"
     ]
    }
   ],
   "source": [
    "!pip install pandas matplotlib"
   ]
  },
  {
   "cell_type": "code",
   "execution_count": 2,
   "id": "smaller-klein",
   "metadata": {},
   "outputs": [],
   "source": [
    "import pandas as pd\n",
    "import matplotlib.pyplot as plt\n",
    "\n",
    "%matplotlib inline\n",
    "plt.style.use('seaborn')\n",
    "\n",
    "%load_ext autoreload\n",
    "%autoreload 2"
   ]
  },
  {
   "cell_type": "markdown",
   "id": "pleasant-static",
   "metadata": {},
   "source": [
    "### Manual\n",
    "---\n",
    "\n",
    "Please load the dataframe from S3 as shown below using pandas. The loaded df contains data, predictions and scores produced by both the old customer model (currently in production) and the new model (refitted) using data from 20190101 to 20201130.\n",
    "\n",
    "Important columns:\n",
    "* pred_20200101: predictions of the old model\n",
    "* score_20200101: score of the old model\n",
    "* pred_20201130: predictions of the new model\n",
    "* score_rescaled: rescaled score of the new model\n",
    "\n",
    "Note:\n",
    "* there is a column with name `score_20201130`. The column contains scores produced by the refitted model but with the old score scaling parameters. I aligned the new model score with respect to the old score distribution as much as possible using the same scoring mechanism by changing parameters. Please let me know if there is any suggestions or comments."
   ]
  },
  {
   "cell_type": "code",
   "execution_count": 3,
   "id": "harmful-university",
   "metadata": {},
   "outputs": [],
   "source": [
    "s3_path = \"s3://sofi-data-science/jxu/monitoring/customer-risk-v1/2021-03/validation_df_dec.parquet\"\n",
    "df = pd.read_parquet(s3_path)"
   ]
  },
  {
   "cell_type": "code",
   "execution_count": 4,
   "id": "cooked-selling",
   "metadata": {},
   "outputs": [
    {
     "data": {
      "text/plain": [
       "(568715, 99)"
      ]
     },
     "execution_count": 4,
     "metadata": {},
     "output_type": "execute_result"
    }
   ],
   "source": [
    "df.shape"
   ]
  },
  {
   "cell_type": "code",
   "execution_count": 6,
   "id": "beautiful-variation",
   "metadata": {},
   "outputs": [
    {
     "data": {
      "text/plain": [
       "Index(['pred_20200101', 'pred_20201130'], dtype='object')"
      ]
     },
     "execution_count": 6,
     "metadata": {},
     "output_type": "execute_result"
    }
   ],
   "source": [
    "# prediction columns\n",
    "df.columns[df.columns.str.contains(\"pred\")]"
   ]
  },
  {
   "cell_type": "code",
   "execution_count": 9,
   "id": "female-filter",
   "metadata": {},
   "outputs": [
    {
     "data": {
      "text/plain": [
       "Index(['score_20200101', 'score_20201130', 'score_rescaled'], dtype='object')"
      ]
     },
     "execution_count": 9,
     "metadata": {},
     "output_type": "execute_result"
    }
   ],
   "source": [
    "# score columns\n",
    "df.columns[df.columns.str.startswith(\"score_\")]"
   ]
  },
  {
   "cell_type": "code",
   "execution_count": 5,
   "id": "stunning-silence",
   "metadata": {},
   "outputs": [
    {
     "data": {
      "text/plain": [
       "<matplotlib.legend.Legend at 0x7f86481bb590>"
      ]
     },
     "execution_count": 5,
     "metadata": {},
     "output_type": "execute_result"
    },
    {
     "data": {
      "image/png": "[encoded data removed]",
      "text/plain": [
       "<Figure size 576x396 with 1 Axes>"
      ]
     },
     "metadata": {},
     "output_type": "display_data"
    }
   ],
   "source": [
    "bins = 100\n",
    "density = True\n",
    "df.score_20200101.hist(bins=bins, alpha=0.4, density=density, label=\"score_20200101\") # immediately after training\n",
    "df.score_rescaled.hist(bins=bins, alpha=0.4, density=density, label=\"rescaled_score\")\n",
    "plt.legend()"
   ]
  },
  {
   "cell_type": "code",
   "execution_count": 25,
   "id": "minor-nashville",
   "metadata": {},
   "outputs": [],
   "source": [
    "cols = ['business_account_number', 'user_id', 'borrower_id', 'sample_date', \n",
    "        'pred_20200101', 'pred_20201130',\n",
    "        'score_20200101', 'score_20201130', 'score_rescaled']"
   ]
  },
  {
   "cell_type": "code",
   "execution_count": 26,
   "id": "driving-wrist",
   "metadata": {},
   "outputs": [
    {
     "data": {
      "text/html": [
       "<div>\n",
       "<style scoped>\n",
       "    .dataframe tbody tr th:only-of-type {\n",
       "        vertical-align: middle;\n",
       "    }\n",
       "\n",
       "    .dataframe tbody tr th {\n",
       "        vertical-align: top;\n",
       "    }\n",
       "\n",
       "    .dataframe thead th {\n",
       "        text-align: right;\n",
       "    }\n",
       "</style>\n",
       "<table border=\"1\" class=\"dataframe\">\n",
       "  <thead>\n",
       "    <tr style=\"text-align: right;\">\n",
       "      <th></th>\n",
       "      <th>business_account_number</th>\n",
       "      <th>user_id</th>\n",
       "      <th>borrower_id</th>\n",
       "      <th>sample_date</th>\n",
       "      <th>pred_20200101</th>\n",
       "      <th>pred_20201130</th>\n",
       "      <th>score_20200101</th>\n",
       "      <th>score_20201130</th>\n",
       "      <th>score_rescaled</th>\n",
       "    </tr>\n",
       "  </thead>\n",
       "  <tbody>\n",
       "    <tr>\n",
       "      <th>5038328</th>\n",
       "      <td>410002729647</td>\n",
       "      <td>299</td>\n",
       "      <td>103.0</td>\n",
       "      <td>2020-12-01</td>\n",
       "      <td>0.000493</td>\n",
       "      <td>0.012754</td>\n",
       "      <td>397.307481</td>\n",
       "      <td>497.940787</td>\n",
       "      <td>485.269051</td>\n",
       "    </tr>\n",
       "    <tr>\n",
       "      <th>5038329</th>\n",
       "      <td>410000276182</td>\n",
       "      <td>305</td>\n",
       "      <td>107.0</td>\n",
       "      <td>2020-12-01</td>\n",
       "      <td>0.133862</td>\n",
       "      <td>0.010992</td>\n",
       "      <td>574.411334</td>\n",
       "      <td>493.303528</td>\n",
       "      <td>476.344136</td>\n",
       "    </tr>\n",
       "    <tr>\n",
       "      <th>5038330</th>\n",
       "      <td>410000345005</td>\n",
       "      <td>361</td>\n",
       "      <td>135.0</td>\n",
       "      <td>2020-12-01</td>\n",
       "      <td>0.003632</td>\n",
       "      <td>0.041214</td>\n",
       "      <td>458.952770</td>\n",
       "      <td>534.981621</td>\n",
       "      <td>556.558202</td>\n",
       "    </tr>\n",
       "    <tr>\n",
       "      <th>5038331</th>\n",
       "      <td>410004685311</td>\n",
       "      <td>558</td>\n",
       "      <td>4150909.0</td>\n",
       "      <td>2020-12-01</td>\n",
       "      <td>0.291634</td>\n",
       "      <td>0.019811</td>\n",
       "      <td>604.600579</td>\n",
       "      <td>511.730527</td>\n",
       "      <td>511.808920</td>\n",
       "    </tr>\n",
       "    <tr>\n",
       "      <th>5038332</th>\n",
       "      <td>410000136769</td>\n",
       "      <td>1303</td>\n",
       "      <td>343.0</td>\n",
       "      <td>2020-12-01</td>\n",
       "      <td>0.000711</td>\n",
       "      <td>0.014762</td>\n",
       "      <td>408.595816</td>\n",
       "      <td>502.506478</td>\n",
       "      <td>494.056224</td>\n",
       "    </tr>\n",
       "  </tbody>\n",
       "</table>\n",
       "</div>"
      ],
      "text/plain": [
       "         business_account_number  user_id  borrower_id sample_date  \\\n",
       "5038328             410002729647      299        103.0  2020-12-01   \n",
       "5038329             410000276182      305        107.0  2020-12-01   \n",
       "5038330             410000345005      361        135.0  2020-12-01   \n",
       "5038331             410004685311      558    4150909.0  2020-12-01   \n",
       "5038332             410000136769     1303        343.0  2020-12-01   \n",
       "\n",
       "         pred_20200101  pred_20201130  score_20200101  score_20201130  \\\n",
       "5038328       0.000493       0.012754      397.307481      497.940787   \n",
       "5038329       0.133862       0.010992      574.411334      493.303528   \n",
       "5038330       0.003632       0.041214      458.952770      534.981621   \n",
       "5038331       0.291634       0.019811      604.600579      511.730527   \n",
       "5038332       0.000711       0.014762      408.595816      502.506478   \n",
       "\n",
       "         score_rescaled  \n",
       "5038328      485.269051  \n",
       "5038329      476.344136  \n",
       "5038330      556.558202  \n",
       "5038331      511.808920  \n",
       "5038332      494.056224  "
      ]
     },
     "execution_count": 26,
     "metadata": {},
     "output_type": "execute_result"
    }
   ],
   "source": [
    "df[cols].head()"
   ]
  },
  {
   "cell_type": "code",
   "execution_count": null,
   "id": "tough-monitoring",
   "metadata": {},
   "outputs": [],
   "source": []
  }
 ],
 "metadata": {
  "kernelspec": {
   "display_name": "conda_customer_risk",
   "language": "python",
   "name": "conda_customer_risk"
  },
  "language_info": {
   "codemirror_mode": {
    "name": "ipython",
    "version": 3
   },
   "file_extension": ".py",
   "mimetype": "text/x-python",
   "name": "python",
   "nbconvert_exporter": "python",
   "pygments_lexer": "ipython3",
   "version": "3.7.10"
  }
 },
 "nbformat": 4,
 "nbformat_minor": 5
}
