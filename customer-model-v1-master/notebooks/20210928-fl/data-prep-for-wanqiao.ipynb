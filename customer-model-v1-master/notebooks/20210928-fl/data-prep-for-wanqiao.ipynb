{
 "cells": [
  {
   "cell_type": "code",
   "execution_count": 1,
   "id": "c0a3b67c",
   "metadata": {},
   "outputs": [],
   "source": [
    "import pandas as pd"
   ]
  },
  {
   "cell_type": "markdown",
   "id": "94b39629",
   "metadata": {},
   "source": [
    "#### PII"
   ]
  },
  {
   "cell_type": "code",
   "execution_count": 2,
   "id": "e6d58464",
   "metadata": {},
   "outputs": [],
   "source": [
    "df = pd.read_feather(\"../../data/raw/raw_1632854535/user_metadata_dw_1632854535.feather\")"
   ]
  },
  {
   "cell_type": "code",
   "execution_count": 3,
   "id": "66e18cee",
   "metadata": {},
   "outputs": [
    {
     "data": {
      "text/html": [
       "<div>\n",
       "<style scoped>\n",
       "    .dataframe tbody tr th:only-of-type {\n",
       "        vertical-align: middle;\n",
       "    }\n",
       "\n",
       "    .dataframe tbody tr th {\n",
       "        vertical-align: top;\n",
       "    }\n",
       "\n",
       "    .dataframe thead th {\n",
       "        text-align: right;\n",
       "    }\n",
       "</style>\n",
       "<table border=\"1\" class=\"dataframe\">\n",
       "  <thead>\n",
       "    <tr style=\"text-align: right;\">\n",
       "      <th></th>\n",
       "      <th>borrower_id</th>\n",
       "      <th>user_id</th>\n",
       "      <th>date_of_birth</th>\n",
       "      <th>sofi_employee_ind</th>\n",
       "      <th>first_name</th>\n",
       "      <th>last_name</th>\n",
       "      <th>current_addr_line_1</th>\n",
       "    </tr>\n",
       "  </thead>\n",
       "  <tbody>\n",
       "    <tr>\n",
       "      <th>0</th>\n",
       "      <td>10297041</td>\n",
       "      <td>16466266</td>\n",
       "      <td>1987-09-11</td>\n",
       "      <td>False</td>\n",
       "      <td>Leigh</td>\n",
       "      <td>Davis</td>\n",
       "      <td>355 N Jonna Ave</td>\n",
       "    </tr>\n",
       "    <tr>\n",
       "      <th>1</th>\n",
       "      <td>9645261</td>\n",
       "      <td>15824054</td>\n",
       "      <td>1976-11-01</td>\n",
       "      <td>False</td>\n",
       "      <td>Budsada</td>\n",
       "      <td>Gauthier</td>\n",
       "      <td>602 Papermill Rd</td>\n",
       "    </tr>\n",
       "    <tr>\n",
       "      <th>2</th>\n",
       "      <td>13247876</td>\n",
       "      <td>19427512</td>\n",
       "      <td>1997-04-14</td>\n",
       "      <td>False</td>\n",
       "      <td>Tela</td>\n",
       "      <td>Harding</td>\n",
       "      <td>3751 Davis St</td>\n",
       "    </tr>\n",
       "    <tr>\n",
       "      <th>3</th>\n",
       "      <td>10935495</td>\n",
       "      <td>17112761</td>\n",
       "      <td>1977-08-25</td>\n",
       "      <td>False</td>\n",
       "      <td>Scott</td>\n",
       "      <td>Jones</td>\n",
       "      <td>45 Hunter Ridge Cove</td>\n",
       "    </tr>\n",
       "    <tr>\n",
       "      <th>4</th>\n",
       "      <td>10870804</td>\n",
       "      <td>17048092</td>\n",
       "      <td>1980-08-06</td>\n",
       "      <td>False</td>\n",
       "      <td>Theodore</td>\n",
       "      <td>Baker</td>\n",
       "      <td>1904 Orleans Road</td>\n",
       "    </tr>\n",
       "  </tbody>\n",
       "</table>\n",
       "</div>"
      ],
      "text/plain": [
       "   borrower_id   user_id date_of_birth  sofi_employee_ind first_name  \\\n",
       "0     10297041  16466266    1987-09-11              False      Leigh   \n",
       "1      9645261  15824054    1976-11-01              False    Budsada   \n",
       "2     13247876  19427512    1997-04-14              False       Tela   \n",
       "3     10935495  17112761    1977-08-25              False      Scott   \n",
       "4     10870804  17048092    1980-08-06              False   Theodore   \n",
       "\n",
       "  last_name   current_addr_line_1  \n",
       "0     Davis       355 N Jonna Ave  \n",
       "1  Gauthier      602 Papermill Rd  \n",
       "2   Harding         3751 Davis St  \n",
       "3     Jones  45 Hunter Ridge Cove  \n",
       "4     Baker     1904 Orleans Road  "
      ]
     },
     "execution_count": 3,
     "metadata": {},
     "output_type": "execute_result"
    }
   ],
   "source": [
    "df.head()"
   ]
  },
  {
   "cell_type": "markdown",
   "id": "2801fd90",
   "metadata": {},
   "source": [
    "#### Data snapshot for Wanqiao"
   ]
  },
  {
   "cell_type": "code",
   "execution_count": 24,
   "id": "24b3f9dd",
   "metadata": {},
   "outputs": [],
   "source": [
    "incumbent_train_path = \"s3://sofi-data-science/jxu/money-risk-models/customer-risk-model/data/dev_data/modeling_df_replication_for_governance.feather\"\n",
    "df_train_incumbent = pd.read_feather(incumbent_train_path)"
   ]
  },
  {
   "cell_type": "code",
   "execution_count": 25,
   "id": "7e49372c",
   "metadata": {},
   "outputs": [
    {
     "data": {
      "text/plain": [
       "<AxesSubplot:>"
      ]
     },
     "execution_count": 25,
     "metadata": {},
     "output_type": "execute_result"
    },
    {
     "data": {
      "image/png": "[encoded data removed]",
      "text/plain": [
       "<Figure size 432x288 with 1 Axes>"
      ]
     },
     "metadata": {
      "needs_background": "light"
     },
     "output_type": "display_data"
    }
   ],
   "source": [
    "df_train_incumbent.sample_date.hist(bins=100)"
   ]
  },
  {
   "cell_type": "code",
   "execution_count": 27,
   "id": "34204ef9",
   "metadata": {},
   "outputs": [
    {
     "data": {
      "text/plain": [
       "Index(['transaction_datetime', 'borrower_id', 'business_account_number',\n",
       "       'transaction_code', 'transaction_amount', 'external_account_number',\n",
       "       'real_ending_balance', 'user_id', 'sofi_employee_ind', 'dtc',\n",
       "       ...\n",
       "       'latest_acc_bal', 'is_chg_wrt_off_in_90d', 'nr_returns_in_next_90d',\n",
       "       'bal_after_90d', 'target', 'target_with_restriction', 'indeterminate',\n",
       "       'sample_date', 'is_static', 'customer-risk-id'],\n",
       "      dtype='object', length=107)"
      ]
     },
     "execution_count": 27,
     "metadata": {},
     "output_type": "execute_result"
    }
   ],
   "source": [
    "df_train_incumbent.columns"
   ]
  },
  {
   "cell_type": "code",
   "execution_count": 18,
   "id": "5c684488",
   "metadata": {},
   "outputs": [],
   "source": [
    "refit_train_path = \"s3://sofi-data-science/jxu/monitoring/customer-risk-v1/2021-06/modeling_df_2020-12-31.parquet\"\n",
    "df_train = pd.read_parquet(refit_train_path)"
   ]
  },
  {
   "cell_type": "code",
   "execution_count": 23,
   "id": "ed108ae3",
   "metadata": {},
   "outputs": [
    {
     "data": {
      "text/plain": [
       "(4430837, 91)"
      ]
     },
     "execution_count": 23,
     "metadata": {},
     "output_type": "execute_result"
    }
   ],
   "source": [
    "df_train.shape"
   ]
  },
  {
   "cell_type": "code",
   "execution_count": 21,
   "id": "2afc85fc",
   "metadata": {},
   "outputs": [
    {
     "data": {
      "text/plain": [
       "<AxesSubplot:>"
      ]
     },
     "execution_count": 21,
     "metadata": {},
     "output_type": "execute_result"
    },
    {
     "data": {
      "image/png": "[encoded data removed]",
      "text/plain": [
       "<Figure size 432x288 with 1 Axes>"
      ]
     },
     "metadata": {
      "needs_background": "light"
     },
     "output_type": "display_data"
    }
   ],
   "source": [
    "df_train.sample_date.hist(bins=100)"
   ]
  },
  {
   "cell_type": "code",
   "execution_count": null,
   "id": "ff52772d",
   "metadata": {},
   "outputs": [],
   "source": []
  },
  {
   "cell_type": "code",
   "execution_count": null,
   "id": "f5e0b0d4",
   "metadata": {},
   "outputs": [],
   "source": []
  },
  {
   "cell_type": "code",
   "execution_count": null,
   "id": "5b9b66af",
   "metadata": {},
   "outputs": [],
   "source": []
  },
  {
   "cell_type": "code",
   "execution_count": null,
   "id": "dade9223",
   "metadata": {},
   "outputs": [],
   "source": []
  },
  {
   "cell_type": "markdown",
   "id": "0d91c620",
   "metadata": {},
   "source": [
    "### test"
   ]
  },
  {
   "cell_type": "code",
   "execution_count": 4,
   "id": "333a42bf",
   "metadata": {},
   "outputs": [],
   "source": [
    "dev_path = \"../../data/combined_all_features/combined_1632521410.feather\"\n",
    "df = pd.read_feather(dev_path)"
   ]
  },
  {
   "cell_type": "code",
   "execution_count": 5,
   "id": "29735765",
   "metadata": {},
   "outputs": [
    {
     "data": {
      "text/plain": [
       "<AxesSubplot:>"
      ]
     },
     "execution_count": 5,
     "metadata": {},
     "output_type": "execute_result"
    },
    {
     "data": {
      "image/png": "[encoded data removed]",
      "text/plain": [
       "<Figure size 432x288 with 1 Axes>"
      ]
     },
     "metadata": {
      "needs_background": "light"
     },
     "output_type": "display_data"
    }
   ],
   "source": [
    "df.sample_date.hist(bins=100)"
   ]
  },
  {
   "cell_type": "code",
   "execution_count": 7,
   "id": "c05746ee",
   "metadata": {},
   "outputs": [
    {
     "data": {
      "text/plain": [
       "<AxesSubplot:>"
      ]
     },
     "execution_count": 7,
     "metadata": {},
     "output_type": "execute_result"
    },
    {
     "data": {
      "image/png": "[encoded data removed]",
      "text/plain": [
       "<Figure size 432x288 with 1 Axes>"
      ]
     },
     "metadata": {
      "needs_background": "light"
     },
     "output_type": "display_data"
    }
   ],
   "source": [
    "df[df.sample_date==pd.to_datetime(\"2021-09-15\")].sample_date.hist(bins=100)"
   ]
  },
  {
   "cell_type": "code",
   "execution_count": 10,
   "id": "907975ec",
   "metadata": {},
   "outputs": [
    {
     "data": {
      "text/plain": [
       "(1119646, 91)"
      ]
     },
     "execution_count": 10,
     "metadata": {},
     "output_type": "execute_result"
    }
   ],
   "source": [
    "df = df[df.sample_date==pd.to_datetime(\"2021-09-15\")]\n",
    "df.shape"
   ]
  },
  {
   "cell_type": "code",
   "execution_count": 11,
   "id": "4ef70c74",
   "metadata": {},
   "outputs": [],
   "source": [
    "df.to_parquet(\"s3://sofi-data-science/jxu/data_dump/money_customer_risk/20210928-fl-analysis/customer-risk-dev-20210915-static.parquet\")"
   ]
  }
 ],
 "metadata": {
  "kernelspec": {
   "display_name": "conda_customer_risk",
   "language": "python",
   "name": "conda_customer_risk"
  },
  "language_info": {
   "codemirror_mode": {
    "name": "ipython",
    "version": 3
   },
   "file_extension": ".py",
   "mimetype": "text/x-python",
   "name": "python",
   "nbconvert_exporter": "python",
   "pygments_lexer": "ipython3",
   "version": "3.7.10"
  }
 },
 "nbformat": 4,
 "nbformat_minor": 5
}
