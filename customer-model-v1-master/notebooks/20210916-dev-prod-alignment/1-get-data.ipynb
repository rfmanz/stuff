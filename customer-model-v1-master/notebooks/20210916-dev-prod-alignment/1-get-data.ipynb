{
 "cells": [
  {
   "cell_type": "code",
   "execution_count": 1,
   "id": "c309930c",
   "metadata": {},
   "outputs": [],
   "source": [
    "import sys, os, json\n",
    "sys.path.insert(1, \"../../\")\n",
    "from src.combine import combine_data\n",
    "import pandas as pd\n",
    "import numpy as np\n",
    "import matplotlib.pyplot as plt\n",
    "import warnings\n",
    "warnings.filterwarnings(\"ignore\")\n",
    "\n",
    "from src.monitoring.download_customer_prod import download_customer_prod_data\n",
    "\n",
    "%matplotlib inline\n",
    "plt.style.use('seaborn')\n",
    "\n",
    "%load_ext autoreload\n",
    "%autoreload 2"
   ]
  },
  {
   "cell_type": "code",
   "execution_count": 2,
   "id": "1c6eeaf2",
   "metadata": {},
   "outputs": [
    {
     "name": "stdout",
     "output_type": "stream",
     "text": [
      "Looking in indexes: https://build.sofi.com/artifactory/api/pypi/pypi/simple\n",
      "Requirement already satisfied: sofiproto==release-1703 in /home/ec2-user/anaconda3/envs/customer_risk/lib/python3.7/site-packages (release-1703)\n",
      "Requirement already satisfied: protobuf>=3.8.0 in /home/ec2-user/anaconda3/envs/customer_risk/lib/python3.7/site-packages (from sofiproto==release-1703) (3.18.0)\n",
      "Requirement already satisfied: read_protobuf in /home/ec2-user/anaconda3/envs/customer_risk/lib/python3.7/site-packages (0.1.1)\n",
      "Requirement already satisfied: pandas>=0.16 in /home/ec2-user/anaconda3/envs/customer_risk/lib/python3.7/site-packages (from read_protobuf) (1.3.3)\n",
      "Requirement already satisfied: protobuf>=3.5 in /home/ec2-user/anaconda3/envs/customer_risk/lib/python3.7/site-packages (from read_protobuf) (3.18.0)\n",
      "Requirement already satisfied: pytz>=2017.3 in /home/ec2-user/anaconda3/envs/customer_risk/lib/python3.7/site-packages (from pandas>=0.16->read_protobuf) (2021.1)\n",
      "Requirement already satisfied: numpy>=1.17.3 in /home/ec2-user/anaconda3/envs/customer_risk/lib/python3.7/site-packages (from pandas>=0.16->read_protobuf) (1.21.2)\n",
      "Requirement already satisfied: python-dateutil>=2.7.3 in /home/ec2-user/anaconda3/envs/customer_risk/lib/python3.7/site-packages (from pandas>=0.16->read_protobuf) (2.8.2)\n",
      "Requirement already satisfied: six>=1.5 in /home/ec2-user/anaconda3/envs/customer_risk/lib/python3.7/site-packages (from python-dateutil>=2.7.3->pandas>=0.16->read_protobuf) (1.16.0)\n"
     ]
    }
   ],
   "source": [
    "!pip install --index-url https://build.sofi.com/artifactory/api/pypi/pypi/simple sofiproto==release-1703\n",
    "!pip install read_protobuf"
   ]
  },
  {
   "cell_type": "code",
   "execution_count": 3,
   "id": "ffbbe7b2",
   "metadata": {},
   "outputs": [
    {
     "name": "stdout",
     "output_type": "stream",
     "text": [
      "querying money user data...\n",
      "some data processing...\n"
     ]
    }
   ],
   "source": [
    "output_path = f\"s3://sofi-data-science/jxu/data_dump/money_customer_risk/20210916-dev-prod-alignment/prod.parquet\"\n",
    "download_customer_prod_data(output_path)"
   ]
  },
  {
   "cell_type": "code",
   "execution_count": 4,
   "id": "b884d7dd",
   "metadata": {},
   "outputs": [
    {
     "data": {
      "text/plain": [
       "(1409835, 56)"
      ]
     },
     "execution_count": 4,
     "metadata": {},
     "output_type": "execute_result"
    }
   ],
   "source": [
    "prod_df = pd.read_parquet(output_path)\n",
    "prod_df.shape"
   ]
  },
  {
   "cell_type": "code",
   "execution_count": 5,
   "id": "696480e7",
   "metadata": {},
   "outputs": [
    {
     "data": {
      "text/html": [
       "<div>\n",
       "<style scoped>\n",
       "    .dataframe tbody tr th:only-of-type {\n",
       "        vertical-align: middle;\n",
       "    }\n",
       "\n",
       "    .dataframe tbody tr th {\n",
       "        vertical-align: top;\n",
       "    }\n",
       "\n",
       "    .dataframe thead th {\n",
       "        text-align: right;\n",
       "    }\n",
       "</style>\n",
       "<table border=\"1\" class=\"dataframe\">\n",
       "  <thead>\n",
       "    <tr style=\"text-align: right;\">\n",
       "      <th></th>\n",
       "      <th>party_id</th>\n",
       "      <th>created_dt</th>\n",
       "      <th>updated_dt</th>\n",
       "      <th>last_checked_date</th>\n",
       "      <th>last_checked_date_max</th>\n",
       "      <th>risk_group</th>\n",
       "      <th>request_source</th>\n",
       "      <th>model_score</th>\n",
       "      <th>model_decision_rule_details</th>\n",
       "      <th>mcustomer_model_risk_groupodel_score</th>\n",
       "      <th>...</th>\n",
       "      <th>iqt9413</th>\n",
       "      <th>dollar_val_returns_3d</th>\n",
       "      <th>nr_returns_30d</th>\n",
       "      <th>credit_card_loan_amount</th>\n",
       "      <th>transaction_code</th>\n",
       "      <th>age_money_account</th>\n",
       "      <th>fraud_score_1</th>\n",
       "      <th>transaction_code_encoded</th>\n",
       "      <th>all7120_default_encoded</th>\n",
       "      <th>bcc7120_default_encoded</th>\n",
       "    </tr>\n",
       "  </thead>\n",
       "  <tbody>\n",
       "    <tr>\n",
       "      <th>0</th>\n",
       "      <td>3749</td>\n",
       "      <td>2021-08-25 03:36:51.838</td>\n",
       "      <td>2021-09-15 03:47:17.171</td>\n",
       "      <td>2021-09-15 03:47:17.170</td>\n",
       "      <td>2021-09-15 03:47:17.170</td>\n",
       "      <td>\"RG1\"</td>\n",
       "      <td>\"scheduled\"</td>\n",
       "      <td>415.193050</td>\n",
       "      <td>[{\"ruleName\":\"isMember\",\"rulePassed\":true,\"ris...</td>\n",
       "      <td>\"RG1\"</td>\n",
       "      <td>...</td>\n",
       "      <td>0.0</td>\n",
       "      <td>0.0</td>\n",
       "      <td>0.0</td>\n",
       "      <td>4199.0</td>\n",
       "      <td>ACHDW</td>\n",
       "      <td>30.0</td>\n",
       "      <td>NaN</td>\n",
       "      <td>5</td>\n",
       "      <td>-1.0</td>\n",
       "      <td>-1.0</td>\n",
       "    </tr>\n",
       "    <tr>\n",
       "      <th>1</th>\n",
       "      <td>13317</td>\n",
       "      <td>2021-06-09 02:28:21.787</td>\n",
       "      <td>2021-09-15 02:28:10.880</td>\n",
       "      <td>2021-09-15 02:28:10.879</td>\n",
       "      <td>2021-09-15 02:28:10.879</td>\n",
       "      <td>\"RG1\"</td>\n",
       "      <td>\"scheduled\"</td>\n",
       "      <td>404.635070</td>\n",
       "      <td>[{\"ruleName\":\"isMember\",\"rulePassed\":true,\"ris...</td>\n",
       "      <td>\"RG1\"</td>\n",
       "      <td>...</td>\n",
       "      <td>NaN</td>\n",
       "      <td>0.0</td>\n",
       "      <td>0.0</td>\n",
       "      <td>NaN</td>\n",
       "      <td>ACHDW</td>\n",
       "      <td>449.0</td>\n",
       "      <td>0.0300</td>\n",
       "      <td>5</td>\n",
       "      <td>-1.0</td>\n",
       "      <td>-1.0</td>\n",
       "    </tr>\n",
       "    <tr>\n",
       "      <th>2</th>\n",
       "      <td>14192</td>\n",
       "      <td>2020-12-16 03:23:56.753</td>\n",
       "      <td>2021-09-15 02:14:11.971</td>\n",
       "      <td>2021-09-15 02:14:11.970</td>\n",
       "      <td>2021-09-15 02:14:11.970</td>\n",
       "      <td>\"RG2B\"</td>\n",
       "      <td>\"scheduled\"</td>\n",
       "      <td>499.297733</td>\n",
       "      <td>[{\"ruleName\":\"isMember\",\"rulePassed\":false,\"ri...</td>\n",
       "      <td>\"RG2B\"</td>\n",
       "      <td>...</td>\n",
       "      <td>0.0</td>\n",
       "      <td>0.0</td>\n",
       "      <td>0.0</td>\n",
       "      <td>19353.0</td>\n",
       "      <td>NONE</td>\n",
       "      <td>686.0</td>\n",
       "      <td>0.1243</td>\n",
       "      <td>0</td>\n",
       "      <td>-1.0</td>\n",
       "      <td>-1.0</td>\n",
       "    </tr>\n",
       "    <tr>\n",
       "      <th>3</th>\n",
       "      <td>16311</td>\n",
       "      <td>2020-11-18 03:24:05.318</td>\n",
       "      <td>2021-01-27 03:18:52.640</td>\n",
       "      <td>2021-01-20 03:11:26.565</td>\n",
       "      <td>2021-01-20 03:11:26.565</td>\n",
       "      <td>\"RG1\"</td>\n",
       "      <td>\"scheduled\"</td>\n",
       "      <td>505.632059</td>\n",
       "      <td>[{\"ruleName\":\"isMember\",\"rulePassed\":true,\"ris...</td>\n",
       "      <td>\"RG1\"</td>\n",
       "      <td>...</td>\n",
       "      <td>NaN</td>\n",
       "      <td>0.0</td>\n",
       "      <td>0.0</td>\n",
       "      <td>NaN</td>\n",
       "      <td>None</td>\n",
       "      <td>NaN</td>\n",
       "      <td>NaN</td>\n",
       "      <td>0</td>\n",
       "      <td>-1.0</td>\n",
       "      <td>-1.0</td>\n",
       "    </tr>\n",
       "    <tr>\n",
       "      <th>4</th>\n",
       "      <td>32516</td>\n",
       "      <td>2020-11-11 03:46:29.313</td>\n",
       "      <td>2021-09-15 02:16:28.784</td>\n",
       "      <td>2021-09-15 02:16:28.783</td>\n",
       "      <td>2021-09-15 02:16:28.783</td>\n",
       "      <td>\"RG1\"</td>\n",
       "      <td>\"scheduled\"</td>\n",
       "      <td>507.394183</td>\n",
       "      <td>[{\"ruleName\":\"isMember\",\"rulePassed\":true,\"ris...</td>\n",
       "      <td>\"RG1\"</td>\n",
       "      <td>...</td>\n",
       "      <td>0.0</td>\n",
       "      <td>0.0</td>\n",
       "      <td>0.0</td>\n",
       "      <td>673.0</td>\n",
       "      <td>NONE</td>\n",
       "      <td>745.0</td>\n",
       "      <td>0.0708</td>\n",
       "      <td>0</td>\n",
       "      <td>-1.0</td>\n",
       "      <td>-1.0</td>\n",
       "    </tr>\n",
       "  </tbody>\n",
       "</table>\n",
       "<p>5 rows × 56 columns</p>\n",
       "</div>"
      ],
      "text/plain": [
       "   party_id               created_dt               updated_dt  \\\n",
       "0      3749  2021-08-25 03:36:51.838  2021-09-15 03:47:17.171   \n",
       "1     13317  2021-06-09 02:28:21.787  2021-09-15 02:28:10.880   \n",
       "2     14192  2020-12-16 03:23:56.753  2021-09-15 02:14:11.971   \n",
       "3     16311  2020-11-18 03:24:05.318  2021-01-27 03:18:52.640   \n",
       "4     32516  2020-11-11 03:46:29.313  2021-09-15 02:16:28.784   \n",
       "\n",
       "         last_checked_date    last_checked_date_max risk_group request_source  \\\n",
       "0  2021-09-15 03:47:17.170  2021-09-15 03:47:17.170      \"RG1\"    \"scheduled\"   \n",
       "1  2021-09-15 02:28:10.879  2021-09-15 02:28:10.879      \"RG1\"    \"scheduled\"   \n",
       "2  2021-09-15 02:14:11.970  2021-09-15 02:14:11.970     \"RG2B\"    \"scheduled\"   \n",
       "3  2021-01-20 03:11:26.565  2021-01-20 03:11:26.565      \"RG1\"    \"scheduled\"   \n",
       "4  2021-09-15 02:16:28.783  2021-09-15 02:16:28.783      \"RG1\"    \"scheduled\"   \n",
       "\n",
       "   model_score                        model_decision_rule_details  \\\n",
       "0   415.193050  [{\"ruleName\":\"isMember\",\"rulePassed\":true,\"ris...   \n",
       "1   404.635070  [{\"ruleName\":\"isMember\",\"rulePassed\":true,\"ris...   \n",
       "2   499.297733  [{\"ruleName\":\"isMember\",\"rulePassed\":false,\"ri...   \n",
       "3   505.632059  [{\"ruleName\":\"isMember\",\"rulePassed\":true,\"ris...   \n",
       "4   507.394183  [{\"ruleName\":\"isMember\",\"rulePassed\":true,\"ris...   \n",
       "\n",
       "  mcustomer_model_risk_groupodel_score  ... iqt9413 dollar_val_returns_3d  \\\n",
       "0                                \"RG1\"  ...     0.0                   0.0   \n",
       "1                                \"RG1\"  ...     NaN                   0.0   \n",
       "2                               \"RG2B\"  ...     0.0                   0.0   \n",
       "3                                \"RG1\"  ...     NaN                   0.0   \n",
       "4                                \"RG1\"  ...     0.0                   0.0   \n",
       "\n",
       "  nr_returns_30d  credit_card_loan_amount  transaction_code  \\\n",
       "0            0.0                   4199.0             ACHDW   \n",
       "1            0.0                      NaN             ACHDW   \n",
       "2            0.0                  19353.0              NONE   \n",
       "3            0.0                      NaN              None   \n",
       "4            0.0                    673.0              NONE   \n",
       "\n",
       "   age_money_account  fraud_score_1  transaction_code_encoded  \\\n",
       "0               30.0            NaN                         5   \n",
       "1              449.0         0.0300                         5   \n",
       "2              686.0         0.1243                         0   \n",
       "3                NaN            NaN                         0   \n",
       "4              745.0         0.0708                         0   \n",
       "\n",
       "   all7120_default_encoded  bcc7120_default_encoded  \n",
       "0                     -1.0                     -1.0  \n",
       "1                     -1.0                     -1.0  \n",
       "2                     -1.0                     -1.0  \n",
       "3                     -1.0                     -1.0  \n",
       "4                     -1.0                     -1.0  \n",
       "\n",
       "[5 rows x 56 columns]"
      ]
     },
     "execution_count": 5,
     "metadata": {},
     "output_type": "execute_result"
    }
   ],
   "source": [
    "prod_df.head()"
   ]
  },
  {
   "cell_type": "code",
   "execution_count": 6,
   "id": "5579f7ca",
   "metadata": {},
   "outputs": [],
   "source": [
    "# plot date and find the most recent date"
   ]
  },
  {
   "cell_type": "code",
   "execution_count": 9,
   "id": "c332ab99",
   "metadata": {},
   "outputs": [],
   "source": [
    "prod_df[\"last_checked_date\"] = pd.to_datetime(prod_df[\"last_checked_date\"])"
   ]
  },
  {
   "cell_type": "code",
   "execution_count": 10,
   "id": "cc484a86",
   "metadata": {},
   "outputs": [
    {
     "data": {
      "text/plain": [
       "<AxesSubplot:>"
      ]
     },
     "execution_count": 10,
     "metadata": {},
     "output_type": "execute_result"
    },
    {
     "data": {
      "image/png": "[encoded data removed]",
      "text/plain": [
       "<Figure size 576x396 with 1 Axes>"
      ]
     },
     "metadata": {},
     "output_type": "display_data"
    }
   ],
   "source": [
    "prod_df.last_checked_date.hist(bins=100)"
   ]
  },
  {
   "cell_type": "code",
   "execution_count": 15,
   "id": "cfc34c44",
   "metadata": {},
   "outputs": [
    {
     "data": {
      "text/plain": [
       "2021-09-15    1129952\n",
       "2021-08-09       6066\n",
       "2021-07-23       5250\n",
       "2021-08-10       2970\n",
       "2021-07-24       2772\n",
       "Name: last_checked_date, dtype: int64"
      ]
     },
     "execution_count": 15,
     "metadata": {},
     "output_type": "execute_result"
    }
   ],
   "source": [
    "prod_df[\"last_checked_date\"].dt.date.value_counts().head()"
   ]
  },
  {
   "cell_type": "code",
   "execution_count": 16,
   "id": "a64f5bec",
   "metadata": {},
   "outputs": [
    {
     "data": {
      "text/plain": [
       "Index(['party_id', 'created_dt', 'updated_dt', 'last_checked_date',\n",
       "       'last_checked_date_max', 'risk_group', 'request_source', 'model_score',\n",
       "       'model_decision_rule_details', 'mcustomer_model_risk_groupodel_score',\n",
       "       'proxy_id', 'risk_group_evaluation_method', 'partner_name',\n",
       "       'first_deposit_amount', 'vantage_score', 'bcc7120', 'email_risk_score',\n",
       "       'fraud_score_2', 'name_email_correlation',\n",
       "       'transaction_as_pct_of_balance', 'mean_account_balance_30d',\n",
       "       'giact_time_since_last_link', 'phone_risk_score',\n",
       "       'name_address_correlation', 'all8220', 'lag_acc_open_first_transaction',\n",
       "       'dollar_val_dd', 'all7120', 'sum_deposits_10d', 'nr_past_transactions',\n",
       "       'total_tradelines_open', 'education_loan_amount', 'address_risk_score',\n",
       "       'iqt9415', 'max_withdrawals_30d', 'iln5520', 'max_deposits_30d',\n",
       "       'pct_returned_deposits', 'giact_nr_decline', 'nr_direct_deposits',\n",
       "       'time_since_last_transaction', 'bal_ratio', 'name_phone_correlation',\n",
       "       'giact_nr_other', 'dollar_val_returns', 'nr_trans_ratio', 'iqt9413',\n",
       "       'dollar_val_returns_3d', 'nr_returns_30d', 'credit_card_loan_amount',\n",
       "       'transaction_code', 'age_money_account', 'fraud_score_1',\n",
       "       'transaction_code_encoded', 'all7120_default_encoded',\n",
       "       'bcc7120_default_encoded'],\n",
       "      dtype='object')"
      ]
     },
     "execution_count": 16,
     "metadata": {},
     "output_type": "execute_result"
    }
   ],
   "source": [
    "prod_df.columns"
   ]
  },
  {
   "cell_type": "code",
   "execution_count": 18,
   "id": "ed649bef",
   "metadata": {},
   "outputs": [
    {
     "data": {
      "text/plain": [
       "'[{\"ruleName\":\"isMember\",\"rulePassed\":true,\"riskGroupCode\":\"RG1\"},{\"ruleName\":\"noRecentAch\",\"rulePassed\":true,\"riskGroupCode\":\"RG1\"},{\"ruleName\":\"notHighRisk\",\"rulePassed\":true,\"riskGroupCode\":\"RG1\"},{\"ruleName\":\"isPlMoneyBundle\",\"rulePassed\":false,\"riskGroupCode\":\"RG1\"},{\"ruleName\":\"allPass\",\"rulePassed\":true,\"riskGroupCode\":\"RG1\"}]'"
      ]
     },
     "execution_count": 18,
     "metadata": {},
     "output_type": "execute_result"
    }
   ],
   "source": [
    "prod_df.model_decision_rule_details.iloc[0]"
   ]
  },
  {
   "cell_type": "code",
   "execution_count": 19,
   "id": "30e29a1d",
   "metadata": {},
   "outputs": [
    {
     "data": {
      "text/plain": [
       "0          \"CUSTOMER_MODEL\"\n",
       "1          \"CUSTOMER_MODEL\"\n",
       "2          \"CUSTOMER_MODEL\"\n",
       "3          \"CUSTOMER_MODEL\"\n",
       "4          \"CUSTOMER_MODEL\"\n",
       "                 ...       \n",
       "1409830    \"CUSTOMER_MODEL\"\n",
       "1409831    \"CUSTOMER_MODEL\"\n",
       "1409832    \"CUSTOMER_MODEL\"\n",
       "1409833    \"CUSTOMER_MODEL\"\n",
       "1409834    \"CUSTOMER_MODEL\"\n",
       "Name: risk_group_evaluation_method, Length: 1409835, dtype: object"
      ]
     },
     "execution_count": 19,
     "metadata": {},
     "output_type": "execute_result"
    }
   ],
   "source": [
    "prod_df.risk_group_evaluation_method"
   ]
  },
  {
   "cell_type": "code",
   "execution_count": 21,
   "id": "e2e2ca5e",
   "metadata": {},
   "outputs": [
    {
     "data": {
      "text/plain": [
       "array(['\"CUSTOMER_MODEL\"', None, '\"CLASSIC\"'], dtype=object)"
      ]
     },
     "execution_count": 21,
     "metadata": {},
     "output_type": "execute_result"
    }
   ],
   "source": [
    "prod_df.risk_group_evaluation_method.unique()"
   ]
  },
  {
   "cell_type": "code",
   "execution_count": null,
   "id": "7cb0951e",
   "metadata": {},
   "outputs": [],
   "source": []
  },
  {
   "cell_type": "code",
   "execution_count": null,
   "id": "addc6454",
   "metadata": {},
   "outputs": [],
   "source": []
  },
  {
   "cell_type": "code",
   "execution_count": 13,
   "id": "f45f61c5",
   "metadata": {},
   "outputs": [],
   "source": [
    "# try querying 2020 10 01 prod data\n",
    "\n",
    "def download_user_input(proxy_id):\n",
    "    if not isinstance(proxy_id, str): return \n",
    "    req_path = 'data-science-engineering-machine-learning-customer-risk-v2/' + proxy_id + '/request'\n",
    "\n",
    "    try:\n",
    "        prbf = s3.get_object(Bucket='machine-learning-proxy.sofi.com', Key=req_path)[\"Body\"].read()\n",
    "        df_row = read_protobuf(prbf, customer_risk_v2_pb2.CustomerRiskInputV2())\n",
    "        row_dict = df_row.to_dict('records')[0]\n",
    "        row_dict[\"proxy_id\"] = proxy_id\n",
    "        return row_dict\n",
    "\n",
    "    except botocore.exceptions.ClientError:\n",
    "        pass\n",
    "        \n",
    "def download_customer_prod_data_by_date(output_path, date, debug=False): \n",
    "    \n",
    "    # last record\n",
    "    money_user_query = f\"\"\"\n",
    "    with df_tmp as\n",
    "        (select party_id, created_dt, updated_dt, last_checked_date,\n",
    "            max(last_checked_date) over (partition by party_id) last_checked_date_max,\n",
    "            json_extract(risk_group_decision_info, '$.newRiskGroup') as risk_group,\n",
    "            json_extract(json_extract(risk_group_decision_info, '$.decisionContext'), '$.requestSource') as request_source,\n",
    "            json_extract(json_extract(json_extract(risk_group_decision_info, '$.decisionContext'), '$.customerModelResult'), '$.modelScore') as model_score,\n",
    "            json_extract(json_extract(json_extract(risk_group_decision_info, '$.decisionContext'), '$.customerModelResult'), '$.decisionRuleDetails') as model_decision_rule_details,\n",
    "            json_extract(json_extract(json_extract(risk_group_decision_info, '$.decisionContext'), '$.customerModelResult'), '$.customerModelRiskGroup') as mcustomer_model_risk_groupodel_score,\n",
    "            json_extract(json_extract(json_extract(risk_group_decision_info, '$.decisionContext'), '$.customerModelResult'), '$.machineLearningProxyId') as proxy_id,\n",
    "            json_extract(json_extract(risk_group_decision_info, '$.decisionContext'), '$.riskGroupEvaluationMethod') as risk_group_evaluation_method,\n",
    "            COALESCE (CAST(json_extract(json_extract(risk_group_decision_info, '$.decisionContext'), '$.partnerName') as VARCHAR), 'SOFI') as partner_name\n",
    "        from datalake_production_money_users.risk_group_history)  -- if wanna debug, set limit here\n",
    "    select * from df_tmp\n",
    "    where last_checked_date <= date '{date}';\n",
    "    \"\"\"\n",
    "        \n",
    "    athena = mdsutils.AthenaClient(database='datalake_production_money_users')\n",
    "    print(\"querying money user data...\")\n",
    "    money_users_df = athena.query_to_df(money_user_query)\n",
    "    \n",
    "    if debug:\n",
    "        print(\"debugging mode on\")\n",
    "        money_users_df = money_users_df.head(1000)\n",
    "    \n",
    "    print(\"some data processing...\")\n",
    "    money_users_df.dropna(axis = 0, subset = ['proxy_id'], inplace = True)\n",
    "    money_users_df['proxy_id'] = money_users_df['proxy_id'].apply(lambda x: x[59:].strip('/').strip('\"'))\n",
    "    money_users_df.dropna(axis = 0, subset = ['proxy_id'], inplace = True)\n",
    "\n",
    "    # filter by date? If we are only monitoring new account, need to filter by created_dt\n",
    "#     money_users_df.created_dt = pd.to_datetime(money_users_df.created_dt)\n",
    "#     money_users_df = money_users_df[money_users_df.created_dt > pd.to_datetime(last_monitoring_date)]\n",
    "\n",
    "    num_cores = cpu_count()\n",
    "    with Pool(cpu_count()) as p:\n",
    "        ret_list = p.map(download_user_input, \n",
    "                         [row[\"proxy_id\"] \n",
    "                          for _, row in money_users_df.iterrows()])\n",
    "\n",
    "    # this was breaking the pipeline\n",
    "    ret_list = list(filter(lambda x: x is not None, ret_list))\n",
    "    ret_df = pd.DataFrame(ret_list)\n",
    "    import pdb; pdb.set_trace()\n",
    "    ret_df = ret_df[~ret_df.proxy_id.isna()]\n",
    "    full_df = money_users_df.merge(ret_df, how = 'left', on = 'proxy_id')\n",
    "    full_df = preprocess(full_df)\n",
    "    \n",
    "    full_df.to_parquet(output_path)"
   ]
  },
  {
   "cell_type": "code",
   "execution_count": null,
   "id": "596682e7",
   "metadata": {},
   "outputs": [],
   "source": [
    "# we don't have anything"
   ]
  },
  {
   "cell_type": "code",
   "execution_count": 14,
   "id": "8ae8ffb3",
   "metadata": {},
   "outputs": [
    {
     "name": "stdout",
     "output_type": "stream",
     "text": [
      "querying money user data...\n",
      "some data processing...\n",
      "> \u001b[0;32m/tmp/ipykernel_59073/144946158.py\u001b[0m(64)\u001b[0;36mdownload_customer_prod_data_by_date\u001b[0;34m()\u001b[0m\n",
      "\u001b[0;32m     62 \u001b[0;31m    \u001b[0mret_df\u001b[0m \u001b[0;34m=\u001b[0m \u001b[0mpd\u001b[0m\u001b[0;34m.\u001b[0m\u001b[0mDataFrame\u001b[0m\u001b[0;34m(\u001b[0m\u001b[0mret_list\u001b[0m\u001b[0;34m)\u001b[0m\u001b[0;34m\u001b[0m\u001b[0;34m\u001b[0m\u001b[0m\n",
      "\u001b[0m\u001b[0;32m     63 \u001b[0;31m    \u001b[0;32mimport\u001b[0m \u001b[0mpdb\u001b[0m\u001b[0;34m;\u001b[0m \u001b[0mpdb\u001b[0m\u001b[0;34m.\u001b[0m\u001b[0mset_trace\u001b[0m\u001b[0;34m(\u001b[0m\u001b[0;34m)\u001b[0m\u001b[0;34m\u001b[0m\u001b[0;34m\u001b[0m\u001b[0m\n",
      "\u001b[0m\u001b[0;32m---> 64 \u001b[0;31m    \u001b[0mret_df\u001b[0m \u001b[0;34m=\u001b[0m \u001b[0mret_df\u001b[0m\u001b[0;34m[\u001b[0m\u001b[0;34m~\u001b[0m\u001b[0mret_df\u001b[0m\u001b[0;34m.\u001b[0m\u001b[0mproxy_id\u001b[0m\u001b[0;34m.\u001b[0m\u001b[0misna\u001b[0m\u001b[0;34m(\u001b[0m\u001b[0;34m)\u001b[0m\u001b[0;34m]\u001b[0m\u001b[0;34m\u001b[0m\u001b[0;34m\u001b[0m\u001b[0m\n",
      "\u001b[0m\u001b[0;32m     65 \u001b[0;31m    \u001b[0mfull_df\u001b[0m \u001b[0;34m=\u001b[0m \u001b[0mmoney_users_df\u001b[0m\u001b[0;34m.\u001b[0m\u001b[0mmerge\u001b[0m\u001b[0;34m(\u001b[0m\u001b[0mret_df\u001b[0m\u001b[0;34m,\u001b[0m \u001b[0mhow\u001b[0m \u001b[0;34m=\u001b[0m \u001b[0;34m'left'\u001b[0m\u001b[0;34m,\u001b[0m \u001b[0mon\u001b[0m \u001b[0;34m=\u001b[0m \u001b[0;34m'proxy_id'\u001b[0m\u001b[0;34m)\u001b[0m\u001b[0;34m\u001b[0m\u001b[0;34m\u001b[0m\u001b[0m\n",
      "\u001b[0m\u001b[0;32m     66 \u001b[0;31m    \u001b[0mfull_df\u001b[0m \u001b[0;34m=\u001b[0m \u001b[0mpreprocess\u001b[0m\u001b[0;34m(\u001b[0m\u001b[0mfull_df\u001b[0m\u001b[0;34m)\u001b[0m\u001b[0;34m\u001b[0m\u001b[0;34m\u001b[0m\u001b[0m\n",
      "\u001b[0m\n"
     ]
    },
    {
     "name": "stdin",
     "output_type": "stream",
     "text": [
      "ipdb>  ret_df\n"
     ]
    },
    {
     "name": "stdout",
     "output_type": "stream",
     "text": [
      "Empty DataFrame\n",
      "Columns: []\n",
      "Index: []\n"
     ]
    },
    {
     "name": "stdin",
     "output_type": "stream",
     "text": [
      "ipdb>  q\n"
     ]
    },
    {
     "ename": "BdbQuit",
     "evalue": "",
     "output_type": "error",
     "traceback": [
      "\u001b[0;31m---------------------------------------------------------------------------\u001b[0m",
      "\u001b[0;31mBdbQuit\u001b[0m                                   Traceback (most recent call last)",
      "\u001b[0;32m<timed exec>\u001b[0m in \u001b[0;36m<module>\u001b[0;34m\u001b[0m\n",
      "\u001b[0;32m/tmp/ipykernel_59073/144946158.py\u001b[0m in \u001b[0;36mdownload_customer_prod_data_by_date\u001b[0;34m(output_path, date, debug)\u001b[0m\n\u001b[1;32m     62\u001b[0m     \u001b[0mret_df\u001b[0m \u001b[0;34m=\u001b[0m \u001b[0mpd\u001b[0m\u001b[0;34m.\u001b[0m\u001b[0mDataFrame\u001b[0m\u001b[0;34m(\u001b[0m\u001b[0mret_list\u001b[0m\u001b[0;34m)\u001b[0m\u001b[0;34m\u001b[0m\u001b[0;34m\u001b[0m\u001b[0m\n\u001b[1;32m     63\u001b[0m     \u001b[0;32mimport\u001b[0m \u001b[0mpdb\u001b[0m\u001b[0;34m;\u001b[0m \u001b[0mpdb\u001b[0m\u001b[0;34m.\u001b[0m\u001b[0mset_trace\u001b[0m\u001b[0;34m(\u001b[0m\u001b[0;34m)\u001b[0m\u001b[0;34m\u001b[0m\u001b[0;34m\u001b[0m\u001b[0m\n\u001b[0;32m---> 64\u001b[0;31m     \u001b[0mret_df\u001b[0m \u001b[0;34m=\u001b[0m \u001b[0mret_df\u001b[0m\u001b[0;34m[\u001b[0m\u001b[0;34m~\u001b[0m\u001b[0mret_df\u001b[0m\u001b[0;34m.\u001b[0m\u001b[0mproxy_id\u001b[0m\u001b[0;34m.\u001b[0m\u001b[0misna\u001b[0m\u001b[0;34m(\u001b[0m\u001b[0;34m)\u001b[0m\u001b[0;34m]\u001b[0m\u001b[0;34m\u001b[0m\u001b[0;34m\u001b[0m\u001b[0m\n\u001b[0m\u001b[1;32m     65\u001b[0m     \u001b[0mfull_df\u001b[0m \u001b[0;34m=\u001b[0m \u001b[0mmoney_users_df\u001b[0m\u001b[0;34m.\u001b[0m\u001b[0mmerge\u001b[0m\u001b[0;34m(\u001b[0m\u001b[0mret_df\u001b[0m\u001b[0;34m,\u001b[0m \u001b[0mhow\u001b[0m \u001b[0;34m=\u001b[0m \u001b[0;34m'left'\u001b[0m\u001b[0;34m,\u001b[0m \u001b[0mon\u001b[0m \u001b[0;34m=\u001b[0m \u001b[0;34m'proxy_id'\u001b[0m\u001b[0;34m)\u001b[0m\u001b[0;34m\u001b[0m\u001b[0;34m\u001b[0m\u001b[0m\n\u001b[1;32m     66\u001b[0m     \u001b[0mfull_df\u001b[0m \u001b[0;34m=\u001b[0m \u001b[0mpreprocess\u001b[0m\u001b[0;34m(\u001b[0m\u001b[0mfull_df\u001b[0m\u001b[0;34m)\u001b[0m\u001b[0;34m\u001b[0m\u001b[0;34m\u001b[0m\u001b[0m\n",
      "\u001b[0;32m/tmp/ipykernel_59073/144946158.py\u001b[0m in \u001b[0;36mdownload_customer_prod_data_by_date\u001b[0;34m(output_path, date, debug)\u001b[0m\n\u001b[1;32m     62\u001b[0m     \u001b[0mret_df\u001b[0m \u001b[0;34m=\u001b[0m \u001b[0mpd\u001b[0m\u001b[0;34m.\u001b[0m\u001b[0mDataFrame\u001b[0m\u001b[0;34m(\u001b[0m\u001b[0mret_list\u001b[0m\u001b[0;34m)\u001b[0m\u001b[0;34m\u001b[0m\u001b[0;34m\u001b[0m\u001b[0m\n\u001b[1;32m     63\u001b[0m     \u001b[0;32mimport\u001b[0m \u001b[0mpdb\u001b[0m\u001b[0;34m;\u001b[0m \u001b[0mpdb\u001b[0m\u001b[0;34m.\u001b[0m\u001b[0mset_trace\u001b[0m\u001b[0;34m(\u001b[0m\u001b[0;34m)\u001b[0m\u001b[0;34m\u001b[0m\u001b[0;34m\u001b[0m\u001b[0m\n\u001b[0;32m---> 64\u001b[0;31m     \u001b[0mret_df\u001b[0m \u001b[0;34m=\u001b[0m \u001b[0mret_df\u001b[0m\u001b[0;34m[\u001b[0m\u001b[0;34m~\u001b[0m\u001b[0mret_df\u001b[0m\u001b[0;34m.\u001b[0m\u001b[0mproxy_id\u001b[0m\u001b[0;34m.\u001b[0m\u001b[0misna\u001b[0m\u001b[0;34m(\u001b[0m\u001b[0;34m)\u001b[0m\u001b[0;34m]\u001b[0m\u001b[0;34m\u001b[0m\u001b[0;34m\u001b[0m\u001b[0m\n\u001b[0m\u001b[1;32m     65\u001b[0m     \u001b[0mfull_df\u001b[0m \u001b[0;34m=\u001b[0m \u001b[0mmoney_users_df\u001b[0m\u001b[0;34m.\u001b[0m\u001b[0mmerge\u001b[0m\u001b[0;34m(\u001b[0m\u001b[0mret_df\u001b[0m\u001b[0;34m,\u001b[0m \u001b[0mhow\u001b[0m \u001b[0;34m=\u001b[0m \u001b[0;34m'left'\u001b[0m\u001b[0;34m,\u001b[0m \u001b[0mon\u001b[0m \u001b[0;34m=\u001b[0m \u001b[0;34m'proxy_id'\u001b[0m\u001b[0;34m)\u001b[0m\u001b[0;34m\u001b[0m\u001b[0;34m\u001b[0m\u001b[0m\n\u001b[1;32m     66\u001b[0m     \u001b[0mfull_df\u001b[0m \u001b[0;34m=\u001b[0m \u001b[0mpreprocess\u001b[0m\u001b[0;34m(\u001b[0m\u001b[0mfull_df\u001b[0m\u001b[0;34m)\u001b[0m\u001b[0;34m\u001b[0m\u001b[0;34m\u001b[0m\u001b[0m\n",
      "\u001b[0;32m~/anaconda3/envs/customer_risk/lib/python3.7/bdb.py\u001b[0m in \u001b[0;36mtrace_dispatch\u001b[0;34m(self, frame, event, arg)\u001b[0m\n\u001b[1;32m     86\u001b[0m             \u001b[0;32mreturn\u001b[0m \u001b[0;31m# None\u001b[0m\u001b[0;34m\u001b[0m\u001b[0;34m\u001b[0m\u001b[0m\n\u001b[1;32m     87\u001b[0m         \u001b[0;32mif\u001b[0m \u001b[0mevent\u001b[0m \u001b[0;34m==\u001b[0m \u001b[0;34m'line'\u001b[0m\u001b[0;34m:\u001b[0m\u001b[0;34m\u001b[0m\u001b[0;34m\u001b[0m\u001b[0m\n\u001b[0;32m---> 88\u001b[0;31m             \u001b[0;32mreturn\u001b[0m \u001b[0mself\u001b[0m\u001b[0;34m.\u001b[0m\u001b[0mdispatch_line\u001b[0m\u001b[0;34m(\u001b[0m\u001b[0mframe\u001b[0m\u001b[0;34m)\u001b[0m\u001b[0;34m\u001b[0m\u001b[0;34m\u001b[0m\u001b[0m\n\u001b[0m\u001b[1;32m     89\u001b[0m         \u001b[0;32mif\u001b[0m \u001b[0mevent\u001b[0m \u001b[0;34m==\u001b[0m \u001b[0;34m'call'\u001b[0m\u001b[0;34m:\u001b[0m\u001b[0;34m\u001b[0m\u001b[0;34m\u001b[0m\u001b[0m\n\u001b[1;32m     90\u001b[0m             \u001b[0;32mreturn\u001b[0m \u001b[0mself\u001b[0m\u001b[0;34m.\u001b[0m\u001b[0mdispatch_call\u001b[0m\u001b[0;34m(\u001b[0m\u001b[0mframe\u001b[0m\u001b[0;34m,\u001b[0m \u001b[0marg\u001b[0m\u001b[0;34m)\u001b[0m\u001b[0;34m\u001b[0m\u001b[0;34m\u001b[0m\u001b[0m\n",
      "\u001b[0;32m~/anaconda3/envs/customer_risk/lib/python3.7/bdb.py\u001b[0m in \u001b[0;36mdispatch_line\u001b[0;34m(self, frame)\u001b[0m\n\u001b[1;32m    111\u001b[0m         \u001b[0;32mif\u001b[0m \u001b[0mself\u001b[0m\u001b[0;34m.\u001b[0m\u001b[0mstop_here\u001b[0m\u001b[0;34m(\u001b[0m\u001b[0mframe\u001b[0m\u001b[0;34m)\u001b[0m \u001b[0;32mor\u001b[0m \u001b[0mself\u001b[0m\u001b[0;34m.\u001b[0m\u001b[0mbreak_here\u001b[0m\u001b[0;34m(\u001b[0m\u001b[0mframe\u001b[0m\u001b[0;34m)\u001b[0m\u001b[0;34m:\u001b[0m\u001b[0;34m\u001b[0m\u001b[0;34m\u001b[0m\u001b[0m\n\u001b[1;32m    112\u001b[0m             \u001b[0mself\u001b[0m\u001b[0;34m.\u001b[0m\u001b[0muser_line\u001b[0m\u001b[0;34m(\u001b[0m\u001b[0mframe\u001b[0m\u001b[0;34m)\u001b[0m\u001b[0;34m\u001b[0m\u001b[0;34m\u001b[0m\u001b[0m\n\u001b[0;32m--> 113\u001b[0;31m             \u001b[0;32mif\u001b[0m \u001b[0mself\u001b[0m\u001b[0;34m.\u001b[0m\u001b[0mquitting\u001b[0m\u001b[0;34m:\u001b[0m \u001b[0;32mraise\u001b[0m \u001b[0mBdbQuit\u001b[0m\u001b[0;34m\u001b[0m\u001b[0;34m\u001b[0m\u001b[0m\n\u001b[0m\u001b[1;32m    114\u001b[0m         \u001b[0;32mreturn\u001b[0m \u001b[0mself\u001b[0m\u001b[0;34m.\u001b[0m\u001b[0mtrace_dispatch\u001b[0m\u001b[0;34m\u001b[0m\u001b[0;34m\u001b[0m\u001b[0m\n\u001b[1;32m    115\u001b[0m \u001b[0;34m\u001b[0m\u001b[0m\n",
      "\u001b[0;31mBdbQuit\u001b[0m: "
     ]
    }
   ],
   "source": [
    "%%time\n",
    "import mdsutils\n",
    "import pickle, sys, os, boto3, botocore\n",
    "from sofiproto.moneyfraud import customer_risk_v2_pb2\n",
    "from read_protobuf import read_protobuf\n",
    "from multiprocessing import Pool, cpu_count\n",
    "from collections import defaultdict\n",
    "\n",
    "s3 = boto3.client('s3')\n",
    "\n",
    "output_path2 = f\"s3://sofi-data-science/jxu/data_dump/money_customer_risk/20210916-dev-prod-alignment/prod_by_20201001.parquet\"\n",
    "download_customer_prod_data_by_date(output_path2, \"2020-10-01\")"
   ]
  },
  {
   "cell_type": "code",
   "execution_count": null,
   "id": "04b87a82",
   "metadata": {},
   "outputs": [],
   "source": []
  }
 ],
 "metadata": {
  "kernelspec": {
   "display_name": "conda_customer_risk",
   "language": "python",
   "name": "conda_customer_risk"
  },
  "language_info": {
   "codemirror_mode": {
    "name": "ipython",
    "version": 3
   },
   "file_extension": ".py",
   "mimetype": "text/x-python",
   "name": "python",
   "nbconvert_exporter": "python",
   "pygments_lexer": "ipython3",
   "version": "3.7.12"
  }
 },
 "nbformat": 4,
 "nbformat_minor": 5
}
