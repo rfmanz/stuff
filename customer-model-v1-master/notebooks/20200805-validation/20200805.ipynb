{
 "cells": [
  {
   "cell_type": "code",
   "execution_count": 1,
   "metadata": {},
   "outputs": [],
   "source": [
    "import pickle as pkl\n",
    "import numpy as np\n",
    "import pandas as pd\n",
    "\n",
    "import sys\n",
    "sys.path.append('../..')\n",
    "import warnings\n",
    "warnings.filterwarnings(action='ignore')\n",
    "from train import features, preprocess\n",
    "from src.utils import scale_scores\n",
    "import math\n",
    "from sklearn.metrics import mean_squared_error, mean_absolute_error"
   ]
  },
  {
   "cell_type": "code",
   "execution_count": 2,
   "metadata": {},
   "outputs": [],
   "source": [
    "production_df = pkl.load(open('../../data/production-results/2020-08-05_full-customer-model-data.pickle', 'rb')) #pd.read_csv('../../data/production-results/risk_group_run_20200805.csv')"
   ]
  },
  {
   "cell_type": "code",
   "execution_count": 3,
   "metadata": {},
   "outputs": [
    {
     "data": {
      "text/html": [
       "<div>\n",
       "<style scoped>\n",
       "    .dataframe tbody tr th:only-of-type {\n",
       "        vertical-align: middle;\n",
       "    }\n",
       "\n",
       "    .dataframe tbody tr th {\n",
       "        vertical-align: top;\n",
       "    }\n",
       "\n",
       "    .dataframe thead th {\n",
       "        text-align: right;\n",
       "    }\n",
       "</style>\n",
       "<table border=\"1\" class=\"dataframe\">\n",
       "  <thead>\n",
       "    <tr style=\"text-align: right;\">\n",
       "      <th></th>\n",
       "      <th>party_id</th>\n",
       "      <th>request_source</th>\n",
       "      <th>model_score</th>\n",
       "      <th>model_decision_rule_details</th>\n",
       "      <th>customer_model_risk_group</th>\n",
       "      <th>proxy_id</th>\n",
       "      <th>old_rules_risk_group</th>\n",
       "      <th>created_dt</th>\n",
       "      <th>updated_dt</th>\n",
       "      <th>first_deposit_amount</th>\n",
       "      <th>...</th>\n",
       "      <th>nr_trans_ratio</th>\n",
       "      <th>iqt9413</th>\n",
       "      <th>dollar_val_returns_3d</th>\n",
       "      <th>nr_returns_30d</th>\n",
       "      <th>credit_card_loan_amount</th>\n",
       "      <th>fraud_score_1</th>\n",
       "      <th>age_money_account</th>\n",
       "      <th>transaction_code_encoded</th>\n",
       "      <th>all7120_default_encoded</th>\n",
       "      <th>bcc7120_default_encoded</th>\n",
       "    </tr>\n",
       "  </thead>\n",
       "  <tbody>\n",
       "    <tr>\n",
       "      <th>0</th>\n",
       "      <td>14430639</td>\n",
       "      <td>scheduled</td>\n",
       "      <td>622.6139380865663</td>\n",
       "      <td>[{'ruleName': 'isMember', 'rulePassed': False,...</td>\n",
       "      <td>RG5</td>\n",
       "      <td>20200805071117_68f3fc94-3ff4-4b39-892c-4dc3446...</td>\n",
       "      <td>RG4</td>\n",
       "      <td>2020-08-05 07:11:18.039863+00:00</td>\n",
       "      <td>NaT</td>\n",
       "      <td>50.0</td>\n",
       "      <td>...</td>\n",
       "      <td>0.0</td>\n",
       "      <td>1.0</td>\n",
       "      <td>0.0</td>\n",
       "      <td>0.0</td>\n",
       "      <td>150.0</td>\n",
       "      <td>0.0409</td>\n",
       "      <td>28.0</td>\n",
       "      <td>1</td>\n",
       "      <td>-1.0</td>\n",
       "      <td>-1.0</td>\n",
       "    </tr>\n",
       "    <tr>\n",
       "      <th>1</th>\n",
       "      <td>15964134</td>\n",
       "      <td>scheduled</td>\n",
       "      <td>652.0024132746818</td>\n",
       "      <td>[{'ruleName': 'isMember', 'rulePassed': False,...</td>\n",
       "      <td>RG5</td>\n",
       "      <td>20200805071117_2a3091f6-d098-4b0b-9641-0c795e4...</td>\n",
       "      <td>RG5</td>\n",
       "      <td>2020-08-05 07:11:18.062526+00:00</td>\n",
       "      <td>NaT</td>\n",
       "      <td>-1.0</td>\n",
       "      <td>...</td>\n",
       "      <td>-1.0</td>\n",
       "      <td>0.0</td>\n",
       "      <td>0.0</td>\n",
       "      <td>0.0</td>\n",
       "      <td>2497.0</td>\n",
       "      <td>0.0833</td>\n",
       "      <td>NaN</td>\n",
       "      <td>0</td>\n",
       "      <td>-1.0</td>\n",
       "      <td>-1.0</td>\n",
       "    </tr>\n",
       "    <tr>\n",
       "      <th>2</th>\n",
       "      <td>16162300</td>\n",
       "      <td>scheduled</td>\n",
       "      <td>595.8207655584088</td>\n",
       "      <td>[{'ruleName': 'isMember', 'rulePassed': False,...</td>\n",
       "      <td>RG4</td>\n",
       "      <td>20200805071118_493daba9-b63f-422a-9b59-482c33c...</td>\n",
       "      <td>RG3</td>\n",
       "      <td>2020-08-05 07:11:18.289105+00:00</td>\n",
       "      <td>NaT</td>\n",
       "      <td>-1.0</td>\n",
       "      <td>...</td>\n",
       "      <td>-1.0</td>\n",
       "      <td>0.0</td>\n",
       "      <td>0.0</td>\n",
       "      <td>0.0</td>\n",
       "      <td>7574.0</td>\n",
       "      <td>0.0354</td>\n",
       "      <td>39.0</td>\n",
       "      <td>0</td>\n",
       "      <td>-1.0</td>\n",
       "      <td>-1.0</td>\n",
       "    </tr>\n",
       "    <tr>\n",
       "      <th>3</th>\n",
       "      <td>16377895</td>\n",
       "      <td>scheduled</td>\n",
       "      <td>631.3250223505131</td>\n",
       "      <td>[{'ruleName': 'isMember', 'rulePassed': False,...</td>\n",
       "      <td>RG5</td>\n",
       "      <td>20200805071117_96922fef-0514-4fb4-ae69-56b432a...</td>\n",
       "      <td>RG5</td>\n",
       "      <td>2020-08-05 07:11:18.065103+00:00</td>\n",
       "      <td>NaT</td>\n",
       "      <td>-1.0</td>\n",
       "      <td>...</td>\n",
       "      <td>-1.0</td>\n",
       "      <td>0.0</td>\n",
       "      <td>0.0</td>\n",
       "      <td>0.0</td>\n",
       "      <td>2866.0</td>\n",
       "      <td>0.0212</td>\n",
       "      <td>11.0</td>\n",
       "      <td>0</td>\n",
       "      <td>-1.0</td>\n",
       "      <td>-1.0</td>\n",
       "    </tr>\n",
       "    <tr>\n",
       "      <th>4</th>\n",
       "      <td>16419612</td>\n",
       "      <td>scheduled</td>\n",
       "      <td>660.1678061261076</td>\n",
       "      <td>[{'ruleName': 'isMember', 'rulePassed': False,...</td>\n",
       "      <td>RG5</td>\n",
       "      <td>20200805071118_a94c95af-3c6a-4aa7-8367-c8ae485...</td>\n",
       "      <td>RG5</td>\n",
       "      <td>2020-08-05 07:11:18.197627+00:00</td>\n",
       "      <td>NaT</td>\n",
       "      <td>-1.0</td>\n",
       "      <td>...</td>\n",
       "      <td>-1.0</td>\n",
       "      <td>0.0</td>\n",
       "      <td>0.0</td>\n",
       "      <td>0.0</td>\n",
       "      <td>0.0</td>\n",
       "      <td>0.0367</td>\n",
       "      <td>6.0</td>\n",
       "      <td>0</td>\n",
       "      <td>-1.0</td>\n",
       "      <td>997.0</td>\n",
       "    </tr>\n",
       "  </tbody>\n",
       "</table>\n",
       "<p>5 rows × 51 columns</p>\n",
       "</div>"
      ],
      "text/plain": [
       "   party_id request_source        model_score  \\\n",
       "0  14430639      scheduled  622.6139380865663   \n",
       "1  15964134      scheduled  652.0024132746818   \n",
       "2  16162300      scheduled  595.8207655584088   \n",
       "3  16377895      scheduled  631.3250223505131   \n",
       "4  16419612      scheduled  660.1678061261076   \n",
       "\n",
       "                         model_decision_rule_details  \\\n",
       "0  [{'ruleName': 'isMember', 'rulePassed': False,...   \n",
       "1  [{'ruleName': 'isMember', 'rulePassed': False,...   \n",
       "2  [{'ruleName': 'isMember', 'rulePassed': False,...   \n",
       "3  [{'ruleName': 'isMember', 'rulePassed': False,...   \n",
       "4  [{'ruleName': 'isMember', 'rulePassed': False,...   \n",
       "\n",
       "  customer_model_risk_group  \\\n",
       "0                       RG5   \n",
       "1                       RG5   \n",
       "2                       RG4   \n",
       "3                       RG5   \n",
       "4                       RG5   \n",
       "\n",
       "                                            proxy_id old_rules_risk_group  \\\n",
       "0  20200805071117_68f3fc94-3ff4-4b39-892c-4dc3446...                  RG4   \n",
       "1  20200805071117_2a3091f6-d098-4b0b-9641-0c795e4...                  RG5   \n",
       "2  20200805071118_493daba9-b63f-422a-9b59-482c33c...                  RG3   \n",
       "3  20200805071117_96922fef-0514-4fb4-ae69-56b432a...                  RG5   \n",
       "4  20200805071118_a94c95af-3c6a-4aa7-8367-c8ae485...                  RG5   \n",
       "\n",
       "                        created_dt updated_dt  first_deposit_amount  ...  \\\n",
       "0 2020-08-05 07:11:18.039863+00:00        NaT                  50.0  ...   \n",
       "1 2020-08-05 07:11:18.062526+00:00        NaT                  -1.0  ...   \n",
       "2 2020-08-05 07:11:18.289105+00:00        NaT                  -1.0  ...   \n",
       "3 2020-08-05 07:11:18.065103+00:00        NaT                  -1.0  ...   \n",
       "4 2020-08-05 07:11:18.197627+00:00        NaT                  -1.0  ...   \n",
       "\n",
       "   nr_trans_ratio  iqt9413  dollar_val_returns_3d  nr_returns_30d  \\\n",
       "0             0.0      1.0                    0.0             0.0   \n",
       "1            -1.0      0.0                    0.0             0.0   \n",
       "2            -1.0      0.0                    0.0             0.0   \n",
       "3            -1.0      0.0                    0.0             0.0   \n",
       "4            -1.0      0.0                    0.0             0.0   \n",
       "\n",
       "   credit_card_loan_amount  fraud_score_1  age_money_account  \\\n",
       "0                    150.0         0.0409               28.0   \n",
       "1                   2497.0         0.0833                NaN   \n",
       "2                   7574.0         0.0354               39.0   \n",
       "3                   2866.0         0.0212               11.0   \n",
       "4                      0.0         0.0367                6.0   \n",
       "\n",
       "   transaction_code_encoded  all7120_default_encoded  bcc7120_default_encoded  \n",
       "0                         1                     -1.0                     -1.0  \n",
       "1                         0                     -1.0                     -1.0  \n",
       "2                         0                     -1.0                     -1.0  \n",
       "3                         0                     -1.0                     -1.0  \n",
       "4                         0                     -1.0                    997.0  \n",
       "\n",
       "[5 rows x 51 columns]"
      ]
     },
     "execution_count": 3,
     "metadata": {},
     "output_type": "execute_result"
    }
   ],
   "source": [
    "production_df.head()"
   ]
  },
  {
   "cell_type": "code",
   "execution_count": 4,
   "metadata": {},
   "outputs": [
    {
     "data": {
      "text/plain": [
       "<AxesSubplot:>"
      ]
     },
     "execution_count": 4,
     "metadata": {},
     "output_type": "execute_result"
    },
    {
     "data": {
      "image/png": "[encoded data removed]",
      "text/plain": [
       "<Figure size 432x288 with 1 Axes>"
      ]
     },
     "metadata": {
      "needs_background": "light"
     },
     "output_type": "display_data"
    }
   ],
   "source": [
    "production_df['created_dt'] = pd.to_datetime(production_df.created_dt)\n",
    "production_df.created_dt.hist(bins=100)"
   ]
  },
  {
   "cell_type": "code",
   "execution_count": null,
   "metadata": {},
   "outputs": [],
   "source": []
  },
  {
   "cell_type": "code",
   "execution_count": 5,
   "metadata": {},
   "outputs": [],
   "source": [
    "validation_df = pd.read_feather('../../data/combined_all_features/combined_1598485606.feather')\n",
    "banking_df = pd.read_feather('../../data/processed/processed_1597860707/banking_accounts_1597860707.feather')"
   ]
  },
  {
   "cell_type": "code",
   "execution_count": 6,
   "metadata": {},
   "outputs": [],
   "source": [
    "full_uid = banking_df.user_id.unique()\n",
    "val_uid = validation_df.user_id.unique()\n",
    "prd_uid = production_df.party_id.unique()\n",
    "shared_uid = set(val_uid).intersection(set(prd_uid))"
   ]
  },
  {
   "cell_type": "code",
   "execution_count": 7,
   "metadata": {},
   "outputs": [],
   "source": [
    "static_df = pd.read_feather('../../data/labeled/labeled_1597868133.feather')\n",
    "dynamic_df = pd.read_feather('../../data-transactional/labeled/labeled_1597867828.feather')"
   ]
  },
  {
   "cell_type": "code",
   "execution_count": 8,
   "metadata": {},
   "outputs": [],
   "source": [
    "unfilter_uid = np.concatenate([static_df.user_id.unique(), dynamic_df.user_id.unique()])\n",
    "unfilter_uid = list(set(unfilter_uid))"
   ]
  },
  {
   "cell_type": "code",
   "execution_count": 9,
   "metadata": {},
   "outputs": [
    {
     "data": {
      "text/plain": [
       "(278075, 294626, 220697, 294570)"
      ]
     },
     "execution_count": 9,
     "metadata": {},
     "output_type": "execute_result"
    }
   ],
   "source": [
    "len(unfilter_uid), len(prd_uid), len(set(unfilter_uid).intersection(set(prd_uid))), len(set(full_uid).intersection(set(prd_uid)))"
   ]
  },
  {
   "cell_type": "markdown",
   "metadata": {},
   "source": [
    "---\n",
    "Checkout on data. We used party_id as the unique idenitifier in production, which is equivalent to user_id in our data pipeline. Just rerun the pipeline to carry out static sampling method on 8/5/2020."
   ]
  },
  {
   "cell_type": "code",
   "execution_count": 10,
   "metadata": {},
   "outputs": [],
   "source": [
    "df = pd.read_feather('../../data/combined_all_features/combined_1598485606.feather')\n",
    "production_df = pd.read_csv('../../data/production-results/risk_group_run_20200805.csv')"
   ]
  },
  {
   "cell_type": "code",
   "execution_count": 11,
   "metadata": {},
   "outputs": [
    {
     "data": {
      "text/plain": [
       "((1834871, 106),\n",
       " 304131,\n",
       " 2020-08-06 00:00:00    292047\n",
       " 2020-08-05 00:00:00    289191\n",
       " 2020-08-04 00:00:00    286387\n",
       " 2019-11-29 05:57:03      1962\n",
       " 2019-12-27 06:15:33      1844\n",
       " Name: sample_date, dtype: int64)"
      ]
     },
     "execution_count": 11,
     "metadata": {},
     "output_type": "execute_result"
    }
   ],
   "source": [
    "df.shape, df.user_id.nunique(), df.sample_date.value_counts().head()"
   ]
  },
  {
   "cell_type": "code",
   "execution_count": 12,
   "metadata": {},
   "outputs": [
    {
     "data": {
      "text/plain": [
       "<AxesSubplot:>"
      ]
     },
     "execution_count": 12,
     "metadata": {},
     "output_type": "execute_result"
    },
    {
     "data": {
      "image/png": "[encoded data removed]",
      "text/plain": [
       "<Figure size 432x288 with 1 Axes>"
      ]
     },
     "metadata": {
      "needs_background": "light"
     },
     "output_type": "display_data"
    }
   ],
   "source": [
    "df.sample_date.hist(bins=100)"
   ]
  },
  {
   "cell_type": "code",
   "execution_count": 13,
   "metadata": {},
   "outputs": [],
   "source": [
    "modeling_df = df[df.sample_date > pd.to_datetime('2020-08-02')]\n",
    "modeling_df.loc[:, 'party_id'] = modeling_df['user_id']"
   ]
  },
  {
   "cell_type": "code",
   "execution_count": 14,
   "metadata": {},
   "outputs": [
    {
     "data": {
      "text/plain": [
       "((867625, 107), 292174)"
      ]
     },
     "execution_count": 14,
     "metadata": {},
     "output_type": "execute_result"
    }
   ],
   "source": [
    "# data from db\n",
    "modeling_df.shape, modeling_df.user_id.nunique()"
   ]
  },
  {
   "cell_type": "code",
   "execution_count": 15,
   "metadata": {},
   "outputs": [
    {
     "data": {
      "text/plain": [
       "((294626, 7), 294626)"
      ]
     },
     "execution_count": 15,
     "metadata": {},
     "output_type": "execute_result"
    }
   ],
   "source": [
    "# data from production\n",
    "production_df.shape, production_df.party_id.nunique()"
   ]
  },
  {
   "cell_type": "code",
   "execution_count": 16,
   "metadata": {},
   "outputs": [
    {
     "data": {
      "text/plain": [
       "(284613, 0.9660145404682546, 0.9741215850828616)"
      ]
     },
     "execution_count": 16,
     "metadata": {},
     "output_type": "execute_result"
    }
   ],
   "source": [
    "shared_ids = set(modeling_df.party_id).intersection(set(production_df.party_id))\n",
    "n_ids = len(shared_ids)\n",
    "n_ids, n_ids/production_df.party_id.nunique(), n_ids/modeling_df.party_id.nunique()"
   ]
  },
  {
   "cell_type": "code",
   "execution_count": null,
   "metadata": {},
   "outputs": [],
   "source": []
  },
  {
   "cell_type": "markdown",
   "metadata": {},
   "source": [
    "A small group of data is missing, since it is such a percentage, lets move onto generating scores first\n",
    "\n",
    "---\n",
    "### Get model and predict on shared data\n",
    "- [ ] pull data on surrounding days and check ids"
   ]
  },
  {
   "cell_type": "code",
   "execution_count": 31,
   "metadata": {},
   "outputs": [],
   "source": [
    "import pickle as pkl\n",
    "\n"
   ]
  },
  {
   "cell_type": "code",
   "execution_count": 32,
   "metadata": {},
   "outputs": [],
   "source": [
    "import sys\n",
    "sys.path.append('../..')\n",
    "import warnings\n",
    "warnings.filterwarnings(action='ignore')\n",
    "from train import features, preprocess\n",
    "from src.utils import scale_scores\n",
    "import math\n",
    "from sklearn.metrics import mean_squared_error, mean_absolute_error"
   ]
  },
  {
   "cell_type": "code",
   "execution_count": 34,
   "metadata": {},
   "outputs": [
    {
     "data": {
      "text/plain": [
       "(286387, 111)"
      ]
     },
     "metadata": {},
     "output_type": "display_data"
    }
   ],
   "source": [
    "modeling_df = df[df.sample_date == pd.to_datetime('2020-08-04')]\n",
    "modeling_df = preprocess(modeling_df)\n",
    "modeling_df['pred'] = model.predict_proba(modeling_df[features])[:, 1]\n",
    "modeling_df['score'] = scale_scores(modeling_df['pred'])\n",
    "display(modeling_df.shape)\n",
    "pkl.dump(modeling_df, open('modeling_df_with_pred_and_score.pkl', 'wb'))"
   ]
  },
  {
   "cell_type": "code",
   "execution_count": 14,
   "metadata": {},
   "outputs": [],
   "source": [
    "df_ = modeling_df[features]\n",
    "df_['nr_na'] = df_.isna().sum(axis=1)\n",
    "modeling_df['party_id'] = modeling_df['user_id']"
   ]
  },
  {
   "cell_type": "code",
   "execution_count": 15,
   "metadata": {},
   "outputs": [
    {
     "data": {
      "text/plain": [
       "((286387, 110),\n",
       " array(['2020-08-04T00:00:00.000000000'], dtype='datetime64[ns]'))"
      ]
     },
     "execution_count": 15,
     "metadata": {},
     "output_type": "execute_result"
    }
   ],
   "source": [
    "modeling_df.shape, modeling_df.sample_date.unique()"
   ]
  },
  {
   "cell_type": "code",
   "execution_count": 16,
   "metadata": {},
   "outputs": [],
   "source": [
    "modeling_df['valid_pred'] = model.predict_proba(modeling_df[features])[:, 1]\n",
    "modeling_df['valid_score'] = scale_scores(modeling_df['valid_pred'])"
   ]
  },
  {
   "cell_type": "code",
   "execution_count": 17,
   "metadata": {},
   "outputs": [],
   "source": [
    "prd_cols = ['party_id', 'model_score']\n",
    "val_cols = ['party_id', 'valid_pred', 'valid_score', 'nr_past_transactions']\n",
    "result_df = pd.merge(production_df[prd_cols], modeling_df[val_cols], left_on='party_id', right_on='party_id', how='inner')"
   ]
  },
  {
   "cell_type": "code",
   "execution_count": 18,
   "metadata": {},
   "outputs": [
    {
     "data": {
      "text/plain": [
       "(   party_id  model_score  valid_pred  valid_score  nr_past_transactions\n",
       " 0  14430639   622.613938    0.353013   613.278685                   2.0\n",
       " 1  15964134   652.002413    0.635422   649.063422                   0.0\n",
       " 2  16377895   631.325022    0.437646   624.220222                   0.0\n",
       " 3  16419612   660.167806    0.715426   660.351206                   0.0\n",
       " 4  16418214   668.854514    0.685361   655.933628                   0.0,\n",
       " (284443, 5))"
      ]
     },
     "execution_count": 18,
     "metadata": {},
     "output_type": "execute_result"
    }
   ],
   "source": [
    "result_df.head(), result_df.shape"
   ]
  },
  {
   "cell_type": "code",
   "execution_count": 19,
   "metadata": {},
   "outputs": [
    {
     "data": {
      "text/plain": [
       "Index(['account_closed_by_risk_in_next_90d',\n",
       "       'last_unrestricted_date_in_next_90d', 'nr_returns_in_next_90d'],\n",
       "      dtype='object')"
      ]
     },
     "execution_count": 19,
     "metadata": {},
     "output_type": "execute_result"
    }
   ],
   "source": [
    "modeling_df.columns[modeling_df.columns.str.contains('next')]"
   ]
  },
  {
   "cell_type": "code",
   "execution_count": 20,
   "metadata": {},
   "outputs": [],
   "source": [
    "result_df = result_df[result_df.nr_past_transactions>0]"
   ]
  },
  {
   "cell_type": "code",
   "execution_count": 21,
   "metadata": {},
   "outputs": [
    {
     "data": {
      "image/png": "[encoded data removed]",
      "text/plain": [
       "<Figure size 432x288 with 1 Axes>"
      ]
     },
     "metadata": {
      "needs_background": "light"
     },
     "output_type": "display_data"
    }
   ],
   "source": [
    "import matplotlib.pyplot as plt\n",
    "\n",
    "plt.hist(result_df.model_score, alpha=0.6, bins=100, label='production')\n",
    "plt.hist(result_df.valid_score, alpha=0.6, bins=100, label='development')\n",
    "plt.legend()\n",
    "plt.savefig('score_distribution.png')"
   ]
  },
  {
   "cell_type": "code",
   "execution_count": 23,
   "metadata": {},
   "outputs": [
    {
     "data": {
      "text/plain": [
       "(93.60834631232203, 39.851950626477, 30.722764647377296)"
      ]
     },
     "execution_count": 23,
     "metadata": {},
     "output_type": "execute_result"
    }
   ],
   "source": [
    "from scipy.stats import iqr\n",
    "\n",
    "result_df['score_diff'] = result_df.model_score - result_df.valid_score\n",
    "(iqr(result_df.score_diff, rng=(5,95)), \n",
    " math.sqrt(mean_squared_error(result_df.model_score, result_df.valid_score)),\n",
    " mean_absolute_error(result_df.model_score, result_df.valid_score))"
   ]
  },
  {
   "cell_type": "code",
   "execution_count": 90,
   "metadata": {},
   "outputs": [
    {
     "data": {
      "text/plain": [
       "661.184667    227\n",
       "660.680477     13\n",
       "661.528707      5\n",
       "672.436254      3\n",
       "670.216053      2\n",
       "             ... \n",
       "648.967889      1\n",
       "654.650467      1\n",
       "651.167872      1\n",
       "647.800670      1\n",
       "654.571012      1\n",
       "Name: model_score, Length: 7975, dtype: int64"
      ]
     },
     "execution_count": 90,
     "metadata": {},
     "output_type": "execute_result"
    }
   ],
   "source": [
    "result_df[result_df.model_score.between(640,680)].model_score.value_counts()"
   ]
  },
  {
   "cell_type": "code",
   "execution_count": null,
   "metadata": {},
   "outputs": [],
   "source": []
  },
  {
   "cell_type": "markdown",
   "metadata": {},
   "source": [
    "### Investigations\n",
    "---\n",
    "look into \n",
    "- [ ] What ids are missing\n",
    "- [ ] Measure data drifts by PSI\n",
    "- [ ] what caused the prediction gap"
   ]
  },
  {
   "cell_type": "code",
   "execution_count": 2,
   "metadata": {},
   "outputs": [],
   "source": [
    "import pandas_profiling\n",
    "import pickle as pkl\n",
    "from rdsutils.validation.psi import calculate_psi"
   ]
  },
  {
   "cell_type": "code",
   "execution_count": 3,
   "metadata": {},
   "outputs": [],
   "source": [
    "df = pd.read_feather('../../data/combined_all_features/combined_1598485606.feather')\n",
    "production_df = pkl.load(open('../../data/production-results/2020-08-05_full-customer-model-data.pickle', 'rb'))"
   ]
  },
  {
   "cell_type": "code",
   "execution_count": 32,
   "metadata": {},
   "outputs": [
    {
     "data": {
      "text/plain": [
       "(51, 42, 106)"
      ]
     },
     "execution_count": 32,
     "metadata": {},
     "output_type": "execute_result"
    }
   ],
   "source": [
    "len(production_df.columns), len(features), len(df.columns)"
   ]
  },
  {
   "cell_type": "code",
   "execution_count": 59,
   "metadata": {},
   "outputs": [],
   "source": [
    "from collections import defaultdict\n",
    "\n",
    "default_values = {\n",
    "    'vantage_score': [pd.Interval(300, 850), False],\n",
    "    'all7120': [pd.Interval(0, 990), True],\n",
    "    'all8220': [pd.Interval(0, 9990), False],\n",
    "    'bcc7120': [pd.Interval(0, 990), True],\n",
    "    'iln5520': [pd.Interval(0, 999999990), False],\n",
    "    'iqt9413': [pd.Interval(0, 90), False]\n",
    "}\n",
    "\n",
    "def encode_defaults(df, default_values):\n",
    "    \"\"\"Replace default values with NaN, int encode them\"\"\"\n",
    "    default_encoded_cols = []\n",
    "    for k, (v, encode) in default_values.items():\n",
    "        cname = k + '_default_encoded'\n",
    "\n",
    "        if isinstance(v, pd.Interval):\n",
    "            is_default = ~df[k].between(v.left, v.right) & ~df[k].isna()\n",
    "        elif isinstance(v, list):\n",
    "            is_default = df[k].isin(k)\n",
    "        else:\n",
    "            raise RuntimeError('Data type {} not supported'.format(str(type(v))))\n",
    "        \n",
    "        if ~is_default.isna().all():\n",
    "            if encode:\n",
    "                default_encoded_cols.append(cname)\n",
    "                df.loc[is_default, cname] = is_default * df[k]\n",
    "            df.loc[is_default, k] = np.nan #set default values to NaN\n",
    "        \n",
    "    return df, default_encoded_cols\n",
    "\n",
    "\n",
    "def preprocess(df):\n",
    "    \"\"\"\n",
    "    Code to preprocess model.\n",
    "    \"\"\"\n",
    "    # mapping from transaction code to integer\n",
    "    tcode_map = defaultdict(int,\n",
    "                            {'POSDW': 1,\n",
    "                             'ACHDD': 2,\n",
    "                             'ACHDWIN': 3,\n",
    "                             'ACHDDIN': 4,\n",
    "                             'ACHDW': 5,\n",
    "                             'ACHINDD': 6,\n",
    "                             'DDATMREFUND': 7,\n",
    "                             'DWATM': 8,\n",
    "                             'DDRAFNEW':9,\n",
    "                             'DDCK': 10})\n",
    "\n",
    "    if 'transaction_code' in df.columns:\n",
    "        df['transaction_code_encoded'] = df['transaction_code'].map(tcode_map)\n",
    "    \n",
    "    # clip to handle infinite values and outliers\n",
    "    df['transaction_as_pct_of_balance'] = df['transaction_as_pct_of_balance'].clip(-750, 750)\n",
    "    df['bal_ratio'] = df['bal_ratio'].clip(-750, 750)\n",
    "    df['pct_returned_deposits'] = df['pct_returned_deposits'].clip(0, 100)\n",
    "\n",
    "    # fill na here with 0, can't be NaN just indicates lack of data\n",
    "    df['transaction_as_pct_of_balance'] = df['transaction_as_pct_of_balance'].fillna(0)\n",
    "    df['max_withdrawals_30d'] = df['max_withdrawals_30d'].fillna(0)\n",
    "    df['max_deposits_30d'] = df['max_deposits_30d'].fillna(0)\n",
    "    df['pct_returned_deposits'] = df['pct_returned_deposits'].fillna(0)\n",
    "    df['bal_ratio'] = df['bal_ratio'].fillna(0)\n",
    "    df['sum_deposits_10d'] = df['sum_deposits_10d'].fillna(0)\n",
    "    df['mean_account_balance_30d'] = df['mean_account_balance_30d'].fillna(0)\n",
    "    df['dollar_val_dd'] = df['dollar_val_dd'].fillna(0) \n",
    "    df['nr_direct_deposits'] = df['nr_direct_deposits'].fillna(0)\n",
    "    df['nr_past_transactions'] = df['nr_past_transactions'].fillna(0)\n",
    "    df['dollar_val_returns'] = df['dollar_val_returns'].fillna(0)\n",
    "    df['dollar_val_returns_3d'] = df['dollar_val_returns_3d'].fillna(0)\n",
    "    df['nr_returns_30d'] = df['nr_returns_30d'].fillna(0)\n",
    "\n",
    "    # fill na here with -1 indicating that this is the first ever transaction/giact never linked\n",
    "    df['time_since_last_transaction'] = df['time_since_last_transaction'].fillna(-1)\n",
    "    df['giact_time_since_last_link'] = df['giact_time_since_last_link'].fillna(-1)\n",
    "    df['giact_nr_decline'] = df['giact_nr_decline'].fillna(-1)\n",
    "    df['giact_nr_other'] = df['giact_nr_other'].fillna(-1)\n",
    "    df['nr_trans_ratio'] = df['nr_trans_ratio'].fillna(-1)\n",
    "    df['first_deposit_amount'] = df['first_deposit_amount'].fillna(-1)\n",
    "    df['lag_acc_open_first_transaction'] = df['lag_acc_open_first_transaction'].fillna(-1)\n",
    "    \n",
    "    df, _ = encode_defaults(df, default_values)\n",
    "    \n",
    "    df['all7120_default_encoded'] = df['all7120_default_encoded'].fillna(-1)\n",
    "    df['bcc7120_default_encoded'] = df['bcc7120_default_encoded'].fillna(-1)\n",
    "    \n",
    "    return df"
   ]
  },
  {
   "cell_type": "code",
   "execution_count": 61,
   "metadata": {},
   "outputs": [
    {
     "data": {
      "text/plain": [
       "((284396, 110), (284372, 51), (284396, 86), 86)"
      ]
     },
     "execution_count": 61,
     "metadata": {},
     "output_type": "execute_result"
    }
   ],
   "source": [
    "modeling_df = df[df.sample_date == pd.to_datetime('2020-08-04')]\n",
    "modeling_df.loc[:, 'party_id'] = modeling_df['user_id']\n",
    "shared_ids = set(modeling_df.party_id).intersection(set(production_df.party_id))\n",
    "\n",
    "# filter by party ids\n",
    "modeling_df = modeling_df[modeling_df.party_id.isin(shared_ids)]\n",
    "production_df = production_df[production_df.party_id.isin(shared_ids)]\n",
    "\n",
    "# preprocessing, no need for production data\n",
    "modeling_df = preprocess(modeling_df)\n",
    "production_df = preprocess(production_df)\n",
    "\n",
    "# combine tables\n",
    "modeling_df_ = modeling_df[features + ['party_id']]\n",
    "modeling_df_.columns = [f+'_dev' for f in modeling_df_.columns]\n",
    "production_df_ = production_df[features + ['party_id']]\n",
    "production_df_.columns = [f+'_prod' for f in production_df_.columns]\n",
    "combined_df = pd.merge(modeling_df_, production_df_, left_on='party_id_dev', right_on='party_id_prod', how='inner')\n",
    "modeling_df.shape, production_df.shape, combined_df.shape, len(features)*2+2"
   ]
  },
  {
   "cell_type": "code",
   "execution_count": 62,
   "metadata": {},
   "outputs": [
    {
     "data": {
      "text/plain": [
       "giact_time_since_last_link       0.546568\n",
       "transaction_as_pct_of_balance    0.172534\n",
       "time_since_last_transaction      0.154787\n",
       "nr_trans_ratio                   0.131221\n",
       "age_money_account                0.116802\n",
       "transaction_code_encoded         0.103458\n",
       "name_phone_correlation           0.080297\n",
       "name_address_correlation         0.080246\n",
       "name_email_correlation           0.078914\n",
       "iqt9413                          0.076941\n",
       "address_risk_score               0.022412\n",
       "fraud_score_1                    0.013755\n",
       "phone_risk_score                 0.012970\n",
       "credit_card_loan_amount          0.011003\n",
       "email_risk_score                 0.010595\n",
       "Name: psi, dtype: float64"
      ]
     },
     "execution_count": 62,
     "metadata": {},
     "output_type": "execute_result"
    }
   ],
   "source": [
    "psi_df = pd.Series(psis).rename('psi').sort_values(ascending=False)\n",
    "psi_df.head(15)"
   ]
  },
  {
   "cell_type": "code",
   "execution_count": 86,
   "metadata": {},
   "outputs": [],
   "source": [
    "shifted_df = psi_df[psi_df>0.05].to_frame()\n",
    "# for i in shifted_df.index:\n",
    "#     print(f\"shifted_df.loc['{i}', 'source'] = ''\")\n",
    "shifted_df['source'] = ''\n",
    "shifted_df.loc['giact_time_since_last_link', 'source'] = 'giact'\n",
    "shifted_df.loc['transaction_as_pct_of_balance', 'source'] = 'transactions'\n",
    "shifted_df.loc['time_since_last_transaction', 'source'] = 'transactions'\n",
    "shifted_df.loc['nr_trans_ratio', 'source'] = 'transactions'\n",
    "shifted_df.loc['age_money_account', 'source'] = 'profile_reporting.dep'\n",
    "shifted_df.loc['transaction_code_encoded', 'source'] = 'transactions'\n",
    "shifted_df.loc['name_phone_correlation', 'source'] = 'socure'\n",
    "shifted_df.loc['name_address_correlation', 'source'] = 'socure'\n",
    "shifted_df.loc['name_email_correlation', 'source'] = 'socure'\n",
    "shifted_df.loc['iqt9413', 'source'] = 'credit'\n",
    "shifted_df.to_csv('high_psi_features.csv')"
   ]
  },
  {
   "cell_type": "code",
   "execution_count": 63,
   "metadata": {},
   "outputs": [],
   "source": [
    "shifted_features = psi_df[psi_df>0.05].index\n",
    "shifted_features = sorted([f+'_dev' for f in shifted_features] + [f+'_prod' for f in shifted_features])"
   ]
  },
  {
   "cell_type": "code",
   "execution_count": 64,
   "metadata": {},
   "outputs": [
    {
     "data": {
      "application/vnd.jupyter.widget-view+json": {
       "model_id": "ccbeb7eca23443d6ad959a1c7d773f1b",
       "version_major": 2,
       "version_minor": 0
      },
      "text/plain": [
       "HBox(children=(FloatProgress(value=0.0, description='Summarize dataset', max=34.0, style=ProgressStyle(descrip…"
      ]
     },
     "metadata": {},
     "output_type": "display_data"
    },
    {
     "name": "stdout",
     "output_type": "stream",
     "text": [
      "\n"
     ]
    },
    {
     "data": {
      "application/vnd.jupyter.widget-view+json": {
       "model_id": "0bfb07ff0ce04b97af09887deefc7d79",
       "version_major": 2,
       "version_minor": 0
      },
      "text/plain": [
       "HBox(children=(FloatProgress(value=0.0, description='Generate report structure', max=1.0, style=ProgressStyle(…"
      ]
     },
     "metadata": {},
     "output_type": "display_data"
    },
    {
     "name": "stdout",
     "output_type": "stream",
     "text": [
      "\n"
     ]
    },
    {
     "data": {
      "application/vnd.jupyter.widget-view+json": {
       "model_id": "d61b98426b33443dabae977430d1771c",
       "version_major": 2,
       "version_minor": 0
      },
      "text/plain": [
       "HBox(children=(FloatProgress(value=0.0, description='Render HTML', max=1.0, style=ProgressStyle(description_wi…"
      ]
     },
     "metadata": {},
     "output_type": "display_data"
    },
    {
     "name": "stdout",
     "output_type": "stream",
     "text": [
      "\n"
     ]
    },
    {
     "data": {
      "application/vnd.jupyter.widget-view+json": {
       "model_id": "1282074084924513b106c45fa874c4bb",
       "version_major": 2,
       "version_minor": 0
      },
      "text/plain": [
       "HBox(children=(FloatProgress(value=0.0, description='Export report to file', max=1.0, style=ProgressStyle(desc…"
      ]
     },
     "metadata": {},
     "output_type": "display_data"
    },
    {
     "name": "stdout",
     "output_type": "stream",
     "text": [
      "\n",
      "CPU times: user 2min 26s, sys: 12 s, total: 2min 38s\n",
      "Wall time: 2min 25s\n"
     ]
    }
   ],
   "source": [
    "profile = pandas_profiling.ProfileReport(combined_df[shifted_features], title='customer-risk-model-20200804', explorative=True)\n",
    "%time profile.to_file('customer-risk-model-20200804.html')"
   ]
  },
  {
   "cell_type": "code",
   "execution_count": null,
   "metadata": {},
   "outputs": [],
   "source": []
  },
  {
   "cell_type": "markdown",
   "metadata": {},
   "source": [
    "### 20200805"
   ]
  },
  {
   "cell_type": "code",
   "execution_count": 65,
   "metadata": {},
   "outputs": [
    {
     "data": {
      "text/plain": [
       "((284392, 110), (284372, 51), (284392, 86), 86)"
      ]
     },
     "execution_count": 65,
     "metadata": {},
     "output_type": "execute_result"
    }
   ],
   "source": [
    "modeling_df = df[df.sample_date == pd.to_datetime('2020-08-05')]\n",
    "modeling_df.loc[:, 'party_id'] = modeling_df['user_id']\n",
    "shared_ids = set(modeling_df.party_id).intersection(set(production_df.party_id))\n",
    "\n",
    "# filter by party ids\n",
    "modeling_df = modeling_df[modeling_df.party_id.isin(shared_ids)]\n",
    "production_df = production_df[production_df.party_id.isin(shared_ids)]\n",
    "\n",
    "# preprocessing, no need for production data\n",
    "modeling_df = preprocess(modeling_df)\n",
    "production_df = preprocess(production_df)\n",
    "\n",
    "# combine tables\n",
    "modeling_df_ = modeling_df[features + ['party_id']]\n",
    "modeling_df_.columns = [f+'_dev' for f in modeling_df_.columns]\n",
    "production_df_ = production_df[features + ['party_id']]\n",
    "production_df_.columns = [f+'_prod' for f in production_df_.columns]\n",
    "combined_df = pd.merge(modeling_df_, production_df_, left_on='party_id_dev', right_on='party_id_prod', how='inner')\n",
    "modeling_df.shape, production_df.shape, combined_df.shape, len(features)*2+2"
   ]
  },
  {
   "cell_type": "code",
   "execution_count": 66,
   "metadata": {},
   "outputs": [
    {
     "data": {
      "text/plain": [
       "giact_time_since_last_link       0.546568\n",
       "transaction_as_pct_of_balance    0.172534\n",
       "time_since_last_transaction      0.154787\n",
       "nr_trans_ratio                   0.131221\n",
       "age_money_account                0.116802\n",
       "transaction_code_encoded         0.103458\n",
       "name_phone_correlation           0.080297\n",
       "name_address_correlation         0.080246\n",
       "name_email_correlation           0.078914\n",
       "iqt9413                          0.076941\n",
       "Name: psi, dtype: float64"
      ]
     },
     "execution_count": 66,
     "metadata": {},
     "output_type": "execute_result"
    }
   ],
   "source": [
    "psi_df = pd.Series(psis).rename('psi').sort_values(ascending=False)\n",
    "psi_df.head(10)"
   ]
  },
  {
   "cell_type": "code",
   "execution_count": 67,
   "metadata": {},
   "outputs": [],
   "source": [
    "shifted_features = psi_df[psi_df>0.05].index\n",
    "shifted_features = sorted([f+'_dev' for f in shifted_features] + [f+'_prod' for f in shifted_features])"
   ]
  },
  {
   "cell_type": "code",
   "execution_count": 68,
   "metadata": {},
   "outputs": [
    {
     "data": {
      "application/vnd.jupyter.widget-view+json": {
       "model_id": "386805c70c9d4cfabfbbd6049af77d4c",
       "version_major": 2,
       "version_minor": 0
      },
      "text/plain": [
       "HBox(children=(FloatProgress(value=0.0, description='Summarize dataset', max=34.0, style=ProgressStyle(descrip…"
      ]
     },
     "metadata": {},
     "output_type": "display_data"
    },
    {
     "name": "stdout",
     "output_type": "stream",
     "text": [
      "\n"
     ]
    },
    {
     "data": {
      "application/vnd.jupyter.widget-view+json": {
       "model_id": "6c83c28b732946578367b86d1b87a608",
       "version_major": 2,
       "version_minor": 0
      },
      "text/plain": [
       "HBox(children=(FloatProgress(value=0.0, description='Generate report structure', max=1.0, style=ProgressStyle(…"
      ]
     },
     "metadata": {},
     "output_type": "display_data"
    },
    {
     "name": "stdout",
     "output_type": "stream",
     "text": [
      "\n"
     ]
    },
    {
     "data": {
      "application/vnd.jupyter.widget-view+json": {
       "model_id": "49bf140e0fe5473da54ca7150dcfe64a",
       "version_major": 2,
       "version_minor": 0
      },
      "text/plain": [
       "HBox(children=(FloatProgress(value=0.0, description='Render HTML', max=1.0, style=ProgressStyle(description_wi…"
      ]
     },
     "metadata": {},
     "output_type": "display_data"
    },
    {
     "name": "stdout",
     "output_type": "stream",
     "text": [
      "\n"
     ]
    },
    {
     "data": {
      "application/vnd.jupyter.widget-view+json": {
       "model_id": "8d887e3e5a4849e5942c35d98574cbef",
       "version_major": 2,
       "version_minor": 0
      },
      "text/plain": [
       "HBox(children=(FloatProgress(value=0.0, description='Export report to file', max=1.0, style=ProgressStyle(desc…"
      ]
     },
     "metadata": {},
     "output_type": "display_data"
    },
    {
     "name": "stdout",
     "output_type": "stream",
     "text": [
      "\n"
     ]
    }
   ],
   "source": [
    "profile = pandas_profiling.ProfileReport(combined_df[shifted_features], title='customer-risk-model-20200805', explorative=True)\n",
    "profile.to_file('customer-risk-model-20200805.html')"
   ]
  },
  {
   "cell_type": "code",
   "execution_count": null,
   "metadata": {},
   "outputs": [],
   "source": []
  }
 ],
 "metadata": {
  "kernelspec": {
   "display_name": "conda_ml_basic_py37",
   "language": "python",
   "name": "conda_ml_basic_py37"
  },
  "language_info": {
   "codemirror_mode": {
    "name": "ipython",
    "version": 3
   },
   "file_extension": ".py",
   "mimetype": "text/x-python",
   "name": "python",
   "nbconvert_exporter": "python",
   "pygments_lexer": "ipython3",
   "version": "3.7.9"
  }
 },
 "nbformat": 4,
 "nbformat_minor": 4
}
