{
 "cells": [
  {
   "cell_type": "markdown",
   "id": "b990936f",
   "metadata": {},
   "source": [
    "## Initial Setup Before Monitoring\n",
    "---\n",
    "\n",
    "* [ ] Update config\n",
    "    * \"static_sample_dates\", \"date_sample_start\", \"date_sample_end\", \"number_periods_in_sample\"\n",
    "* [ ] Query data\n",
    "    * [ ] Production\n",
    "    * [ ] Development\n",
    "    * [ ] Previous refitting/validation data"
   ]
  },
  {
   "cell_type": "code",
   "execution_count": 1,
   "id": "77310340",
   "metadata": {
    "execution": {
     "iopub.execute_input": "2021-06-29T16:07:00.509674Z",
     "iopub.status.busy": "2021-06-29T16:07:00.509188Z",
     "iopub.status.idle": "2021-06-29T16:07:01.198552Z",
     "shell.execute_reply": "2021-06-29T16:07:01.198872Z"
    }
   },
   "outputs": [],
   "source": [
    "# Helper 1 - get sample_dates\n",
    "import numpy as np\n",
    "import pandas as pd\n",
    "import matplotlib.pyplot as plt\n",
    "import seaborn as sns\n",
    "import json\n",
    "\n",
    "from smart_open import open"
   ]
  },
  {
   "cell_type": "code",
   "execution_count": 2,
   "id": "03658445",
   "metadata": {
    "execution": {
     "iopub.execute_input": "2021-06-29T16:07:01.202879Z",
     "iopub.status.busy": "2021-06-29T16:07:01.202472Z",
     "iopub.status.idle": "2021-06-29T16:07:01.204441Z",
     "shell.execute_reply": "2021-06-29T16:07:01.204057Z"
    }
   },
   "outputs": [],
   "source": [
    "mmonth = \"2021-06\"  # monitoring month\n",
    "dev_df_path = \"../../data/combined_all_features/combined_1624302456.feather\"  # produce using the data pipeline\n",
    "prev_test_df_path = \"s3://sofi-data-science/jxu/monitoring/customer-risk-v1/2021-06/test_df_2020-01-01.parquet\"\n",
    "date_sample_start = \"2019-01-16\"\n",
    "date_sample_end = \"2020-12-31\"\n",
    "monitor_start_date = \"2021-01-01\"\n",
    "monitor_end_date = \"2021-06-30\"\n",
    "prod_data_dates = [\"2021-06-01\"]\n",
    "data_output_path = f\"s3://sofi-data-science/jxu/monitoring/customer-risk-v1/{mmonth}/\"\n",
    "artifact_path = f\"../../artifacts/monitoring-2021Q2/\"\n",
    "\n",
    "model_paths = {\"incumbent_model\": \"s3://sofi-data-science/jxu/money-risk-models/customer-risk-model/models/customer_risk_target_no_giact_time_since_last_link.pkl\",\n",
    "               \"customer_refitted_2021Q1\": \"s3://sofi-data-science/jxu/money-risk-models/models/customer_risk_refit_20201231_wo_ind.pkl\"}"
   ]
  },
  {
   "cell_type": "markdown",
   "id": "9ffcdd7e",
   "metadata": {},
   "source": [
    "### config[\"static_sample_dates\"]"
   ]
  },
  {
   "cell_type": "code",
   "execution_count": 3,
   "id": "646ce1e5",
   "metadata": {
    "execution": {
     "iopub.execute_input": "2021-06-29T16:07:01.207844Z",
     "iopub.status.busy": "2021-06-29T16:07:01.207413Z",
     "iopub.status.idle": "2021-06-29T16:07:01.212362Z",
     "shell.execute_reply": "2021-06-29T16:07:01.212718Z"
    }
   },
   "outputs": [
    {
     "data": {
      "text/plain": [
       "['2019-03-15',\n",
       " '2019-05-27',\n",
       " '2019-08-08',\n",
       " '2019-10-20',\n",
       " '2020-01-01',\n",
       " '2020-03-14',\n",
       " '2020-05-26',\n",
       " '2020-08-07',\n",
       " '2020-10-19',\n",
       " '2020-12-31',\n",
       " '2021-01-01',\n",
       " '2021-02-01',\n",
       " '2021-03-01',\n",
       " '2021-04-01',\n",
       " '2021-05-01',\n",
       " '2021-06-01']"
      ]
     },
     "execution_count": 1,
     "metadata": {},
     "output_type": "execute_result"
    }
   ],
   "source": [
    "with open(\"../../config.json\", \"r\") as f:\n",
    "    config = json.load(f)\n",
    "    \n",
    "config[\"static_sample_dates\"]"
   ]
  },
  {
   "cell_type": "code",
   "execution_count": 4,
   "id": "bfe880b7",
   "metadata": {
    "execution": {
     "iopub.execute_input": "2021-06-29T16:07:01.215849Z",
     "iopub.status.busy": "2021-06-29T16:07:01.215444Z",
     "iopub.status.idle": "2021-06-29T16:07:01.217643Z",
     "shell.execute_reply": "2021-06-29T16:07:01.217280Z"
    }
   },
   "outputs": [],
   "source": [
    "dates = config[\"static_sample_dates\"]"
   ]
  },
  {
   "cell_type": "code",
   "execution_count": 5,
   "id": "41bad143",
   "metadata": {
    "execution": {
     "iopub.execute_input": "2021-06-29T16:07:01.223564Z",
     "iopub.status.busy": "2021-06-29T16:07:01.223166Z",
     "iopub.status.idle": "2021-06-29T16:07:01.224970Z",
     "shell.execute_reply": "2021-06-29T16:07:01.224560Z"
    }
   },
   "outputs": [],
   "source": [
    "def get_spacing(dates):\n",
    "    \"\"\" Use this to find the spacing of previous sampling methods \"\"\"\n",
    "    dates = pd.to_datetime(dates)\n",
    "    dates = pd.Series(dates).diff().value_counts()\n",
    "    return dates\n",
    "\n",
    "def get_sampling_dates(start, end, freq):\n",
    "    \"\"\" Get static sampling dates from start to end with period in between \"\"\"\n",
    "    start = pd.to_datetime(start)\n",
    "    end = pd.to_datetime(end).normalize()\n",
    "    \n",
    "    result = list(pd.date_range(start, end, freq=freq))\n",
    "    result = list(map(lambda d: str(d).split(\" \")[0], result))\n",
    "    return result\n",
    "\n",
    "def get_monitoring_dates(start, end=\"today\"):\n",
    "    \"\"\" We get monitoring dfs by looking at first day of every month \"\"\" \n",
    "    start = pd.to_datetime(start)\n",
    "    end = pd.to_datetime(end).normalize()\n",
    "    \n",
    "    # 365/28 about 13, so set 15 to include every month\n",
    "    dates = pd.date_range(start, end, freq=\"15D\")\n",
    "    dates = sorted(list(set(map(lambda d: d.replace(day=1), dates))))\n",
    "    dates = list(map(lambda d: str(d).split(\" \")[0], dates))\n",
    "    \n",
    "    return dates"
   ]
  },
  {
   "cell_type": "code",
   "execution_count": 6,
   "id": "e76483bc",
   "metadata": {
    "execution": {
     "iopub.execute_input": "2021-06-29T16:07:01.230705Z",
     "iopub.status.busy": "2021-06-29T16:07:01.230310Z",
     "iopub.status.idle": "2021-06-29T16:07:01.232154Z",
     "shell.execute_reply": "2021-06-29T16:07:01.232465Z"
    }
   },
   "outputs": [
    {
     "data": {
      "text/plain": [
       "73 days    9\n",
       "31 days    3\n",
       "30 days    1\n",
       "1 days     1\n",
       "28 days    1\n",
       "dtype: int64"
      ]
     },
     "execution_count": 1,
     "metadata": {},
     "output_type": "execute_result"
    }
   ],
   "source": [
    "dates = config[\"static_sample_dates\"]\n",
    "get_spacing(dates)"
   ]
  },
  {
   "cell_type": "code",
   "execution_count": 7,
   "id": "f64bac24",
   "metadata": {
    "execution": {
     "iopub.execute_input": "2021-06-29T16:07:01.236633Z",
     "iopub.status.busy": "2021-06-29T16:07:01.236176Z",
     "iopub.status.idle": "2021-06-29T16:07:01.237602Z",
     "shell.execute_reply": "2021-06-29T16:07:01.237938Z"
    }
   },
   "outputs": [],
   "source": [
    "sample_dates = get_sampling_dates(\"2019-03-15\", date_sample_end, \"73D\")\n",
    "monitoring_dates = get_monitoring_dates(monitor_start_date, monitor_end_date)\n",
    "static_sample_dates = sorted(list(set(sample_dates + monitoring_dates)))"
   ]
  },
  {
   "cell_type": "code",
   "execution_count": 8,
   "id": "557dcc68",
   "metadata": {
    "execution": {
     "iopub.execute_input": "2021-06-29T16:07:01.241585Z",
     "iopub.status.busy": "2021-06-29T16:07:01.241154Z",
     "iopub.status.idle": "2021-06-29T16:07:01.243393Z",
     "shell.execute_reply": "2021-06-29T16:07:01.243046Z"
    }
   },
   "outputs": [
    {
     "data": {
      "text/plain": [
       "['2019-03-15',\n",
       " '2019-05-27',\n",
       " '2019-08-08',\n",
       " '2019-10-20',\n",
       " '2020-01-01',\n",
       " '2020-03-14',\n",
       " '2020-05-26',\n",
       " '2020-08-07',\n",
       " '2020-10-19',\n",
       " '2020-12-31']"
      ]
     },
     "execution_count": 1,
     "metadata": {},
     "output_type": "execute_result"
    }
   ],
   "source": [
    "sample_dates"
   ]
  },
  {
   "cell_type": "code",
   "execution_count": 9,
   "id": "66c990fe",
   "metadata": {
    "execution": {
     "iopub.execute_input": "2021-06-29T16:07:01.246748Z",
     "iopub.status.busy": "2021-06-29T16:07:01.246313Z",
     "iopub.status.idle": "2021-06-29T16:07:01.248367Z",
     "shell.execute_reply": "2021-06-29T16:07:01.248030Z"
    }
   },
   "outputs": [
    {
     "data": {
      "text/plain": [
       "['2021-01-01',\n",
       " '2021-02-01',\n",
       " '2021-03-01',\n",
       " '2021-04-01',\n",
       " '2021-05-01',\n",
       " '2021-06-01']"
      ]
     },
     "execution_count": 1,
     "metadata": {},
     "output_type": "execute_result"
    }
   ],
   "source": [
    "monitoring_dates"
   ]
  },
  {
   "cell_type": "code",
   "execution_count": 10,
   "id": "e59752a5",
   "metadata": {
    "execution": {
     "iopub.execute_input": "2021-06-29T16:07:01.251664Z",
     "iopub.status.busy": "2021-06-29T16:07:01.251267Z",
     "iopub.status.idle": "2021-06-29T16:07:01.253690Z",
     "shell.execute_reply": "2021-06-29T16:07:01.253317Z"
    }
   },
   "outputs": [
    {
     "data": {
      "text/plain": [
       "['2019-03-15',\n",
       " '2019-05-27',\n",
       " '2019-08-08',\n",
       " '2019-10-20',\n",
       " '2020-01-01',\n",
       " '2020-03-14',\n",
       " '2020-05-26',\n",
       " '2020-08-07',\n",
       " '2020-10-19',\n",
       " '2020-12-31',\n",
       " '2021-01-01',\n",
       " '2021-02-01',\n",
       " '2021-03-01',\n",
       " '2021-04-01',\n",
       " '2021-05-01',\n",
       " '2021-06-01']"
      ]
     },
     "execution_count": 1,
     "metadata": {},
     "output_type": "execute_result"
    }
   ],
   "source": [
    "static_sample_dates"
   ]
  },
  {
   "cell_type": "markdown",
   "id": "83e95aeb",
   "metadata": {},
   "source": [
    "### config[\"number_periods_in_sample\"]\n",
    "---\n",
    "during development we sampled about 15 records for dynamic sampling over one year worth of data.\n",
    "\n",
    "If we'd like to main the same ratio, config[\"number_periods_in_sample\"] needs to be scaled."
   ]
  },
  {
   "cell_type": "code",
   "execution_count": 11,
   "id": "92be5bd9",
   "metadata": {
    "execution": {
     "iopub.execute_input": "2021-06-29T16:07:01.256914Z",
     "iopub.status.busy": "2021-06-29T16:07:01.256487Z",
     "iopub.status.idle": "2021-06-29T16:07:01.258201Z",
     "shell.execute_reply": "2021-06-29T16:07:01.257849Z"
    }
   },
   "outputs": [],
   "source": [
    "def get_updated_number_periods_in_sample(start, end, n_start):\n",
    "    ndays = (pd.to_datetime(end) - pd.to_datetime(start)).days / 365 * n_start\n",
    "    return int(ndays)"
   ]
  },
  {
   "cell_type": "code",
   "execution_count": 12,
   "id": "79a09e51",
   "metadata": {
    "execution": {
     "iopub.execute_input": "2021-06-29T16:07:01.260953Z",
     "iopub.status.busy": "2021-06-29T16:07:01.260548Z",
     "iopub.status.idle": "2021-06-29T16:07:01.263695Z",
     "shell.execute_reply": "2021-06-29T16:07:01.263303Z"
    }
   },
   "outputs": [
    {
     "data": {
      "text/plain": [
       "'2019-01-16'"
      ]
     },
     "metadata": {},
     "output_type": "display_data"
    },
    {
     "data": {
      "text/plain": [
       "'2020-12-31'"
      ]
     },
     "metadata": {},
     "output_type": "display_data"
    }
   ],
   "source": [
    "display(date_sample_start, date_sample_end)\n",
    "\n",
    "\n",
    "n_start = 15\n",
    "ndays = get_updated_number_periods_in_sample(date_sample_start, date_sample_end, n_start)"
   ]
  },
  {
   "cell_type": "code",
   "execution_count": 13,
   "id": "eac34472",
   "metadata": {
    "execution": {
     "iopub.execute_input": "2021-06-29T16:07:01.266742Z",
     "iopub.status.busy": "2021-06-29T16:07:01.266303Z",
     "iopub.status.idle": "2021-06-29T16:07:01.268549Z",
     "shell.execute_reply": "2021-06-29T16:07:01.268125Z"
    }
   },
   "outputs": [],
   "source": [
    "config[\"date_sample_end\"] = date_sample_end\n",
    "config[\"number_periods_in_sample\"] = ndays"
   ]
  },
  {
   "cell_type": "code",
   "execution_count": 14,
   "id": "9e011489",
   "metadata": {
    "execution": {
     "iopub.execute_input": "2021-06-29T16:07:01.271466Z",
     "iopub.status.busy": "2021-06-29T16:07:01.271065Z",
     "iopub.status.idle": "2021-06-29T16:07:01.272513Z",
     "shell.execute_reply": "2021-06-29T16:07:01.272843Z"
    }
   },
   "outputs": [],
   "source": [
    "# monitoring config file. Will be used in later nbs\n",
    "mconfig = {\"mmonth\": mmonth,\n",
    "           \"dev_df_path\": dev_df_path,\n",
    "           \"monitoring_dates\": monitoring_dates,\n",
    "           \"prod_data_dates\": prod_data_dates,\n",
    "           \"data_output_path\": data_output_path,\n",
    "           \"artifact_path\": artifact_path,\n",
    "           \"date_sample_start\": date_sample_start,\n",
    "           \"date_sample_end\": date_sample_end,\n",
    "           \"model_paths\": model_paths,\n",
    "           \"prev_test_df_path\": prev_test_df_path\n",
    "          }  \n"
   ]
  },
  {
   "cell_type": "code",
   "execution_count": 15,
   "id": "504f170c",
   "metadata": {
    "execution": {
     "iopub.execute_input": "2021-06-29T16:07:01.275265Z",
     "iopub.status.busy": "2021-06-29T16:07:01.274886Z",
     "iopub.status.idle": "2021-06-29T16:07:01.277587Z",
     "shell.execute_reply": "2021-06-29T16:07:01.277204Z"
    }
   },
   "outputs": [],
   "source": [
    "config[\"monitoring_config\"] = mconfig"
   ]
  },
  {
   "cell_type": "markdown",
   "id": "fa566108",
   "metadata": {},
   "source": [
    "### Output to Config\n",
    "---\n",
    "\n",
    "Last check the important values"
   ]
  },
  {
   "cell_type": "code",
   "execution_count": 16,
   "id": "4b86ac8f",
   "metadata": {
    "execution": {
     "iopub.execute_input": "2021-06-29T16:07:01.281196Z",
     "iopub.status.busy": "2021-06-29T16:07:01.280761Z",
     "iopub.status.idle": "2021-06-29T16:07:01.284514Z",
     "shell.execute_reply": "2021-06-29T16:07:01.284148Z"
    }
   },
   "outputs": [
    {
     "name": "stdout",
     "output_type": "stream",
     "text": [
      "('static_sample_dates',\n",
      " ['2019-03-15',\n",
      "  '2019-05-27',\n",
      "  '2019-08-08',\n",
      "  '2019-10-20',\n",
      "  '2020-01-01',\n",
      "  '2020-03-14',\n",
      "  '2020-05-26',\n",
      "  '2020-08-07',\n",
      "  '2020-10-19',\n",
      "  '2020-12-31',\n",
      "  '2021-01-01',\n",
      "  '2021-02-01',\n",
      "  '2021-03-01',\n",
      "  '2021-04-01',\n",
      "  '2021-05-01',\n",
      "  '2021-06-01'])\n",
      "('date_sample_start', '2019-01-16')\n",
      "('date_sample_end', '2020-12-31')\n",
      "('number_periods_in_sample', 29)\n"
     ]
    }
   ],
   "source": [
    "from pprint import pprint\n",
    "for c in [\"static_sample_dates\", \"date_sample_start\", \"date_sample_end\", \"number_periods_in_sample\"]:\n",
    "    \n",
    "    pprint((c, config[c]))"
   ]
  },
  {
   "cell_type": "code",
   "execution_count": 17,
   "id": "9760c589",
   "metadata": {
    "execution": {
     "iopub.execute_input": "2021-06-29T16:07:01.287875Z",
     "iopub.status.busy": "2021-06-29T16:07:01.287457Z",
     "iopub.status.idle": "2021-06-29T16:07:01.289453Z",
     "shell.execute_reply": "2021-06-29T16:07:01.288962Z"
    }
   },
   "outputs": [],
   "source": [
    "# if sampling dates makes sense, output to config\n",
    "\n",
    "config[\"static_sample_dates\"] = static_sample_dates\n",
    "with open(\"../../config.json\", \"w\") as f:\n",
    "    json.dump(config, f, indent=4)"
   ]
  },
  {
   "cell_type": "markdown",
   "id": "579a48fa",
   "metadata": {},
   "source": [
    "### Install the following packages to get production data"
   ]
  },
  {
   "cell_type": "code",
   "execution_count": 18,
   "id": "a74b1711",
   "metadata": {
    "execution": {
     "iopub.execute_input": "2021-06-29T16:07:01.296530Z",
     "iopub.status.busy": "2021-06-29T16:07:01.292299Z",
     "iopub.status.idle": "2021-06-29T16:07:04.398815Z",
     "shell.execute_reply": "2021-06-29T16:07:04.398420Z"
    }
   },
   "outputs": [
    {
     "name": "stdout",
     "output_type": "stream",
     "text": [
      "Looking in indexes: https://build.sofi.com/artifactory/api/pypi/pypi/simple\n",
      "Requirement already satisfied: sofiproto==release-1703 in /home/ec2-user/anaconda3/lib/python3.7/site-packages (release-1703)\n",
      "Requirement already satisfied: protobuf>=3.8.0 in /home/ec2-user/anaconda3/lib/python3.7/site-packages (from sofiproto==release-1703) (3.15.2)\n",
      "Requirement already satisfied: six>=1.9 in /home/ec2-user/anaconda3/lib/python3.7/site-packages (from protobuf>=3.8.0->sofiproto==release-1703) (1.14.0)\n",
      "Requirement already satisfied: read_protobuf in /home/ec2-user/anaconda3/lib/python3.7/site-packages (0.1.1)\n",
      "Requirement already satisfied: pandas>=0.16 in /home/ec2-user/anaconda3/lib/python3.7/site-packages (from read_protobuf) (1.2.2)\n",
      "Requirement already satisfied: protobuf>=3.5 in /home/ec2-user/anaconda3/lib/python3.7/site-packages (from read_protobuf) (3.15.2)\n",
      "Requirement already satisfied: python-dateutil>=2.7.3 in /home/ec2-user/anaconda3/lib/python3.7/site-packages (from pandas>=0.16->read_protobuf) (2.8.1)\n",
      "Requirement already satisfied: pytz>=2017.3 in /home/ec2-user/anaconda3/lib/python3.7/site-packages (from pandas>=0.16->read_protobuf) (2021.1)\n",
      "Requirement already satisfied: numpy>=1.16.5 in /home/ec2-user/anaconda3/lib/python3.7/site-packages (from pandas>=0.16->read_protobuf) (1.19.2)\n",
      "Requirement already satisfied: six>=1.9 in /home/ec2-user/anaconda3/lib/python3.7/site-packages (from protobuf>=3.5->read_protobuf) (1.14.0)\n"
     ]
    }
   ],
   "source": [
    "!pip install --index-url https://build.sofi.com/artifactory/api/pypi/pypi/simple sofiproto==release-1703\n",
    "!pip install read_protobuf"
   ]
  },
  {
   "cell_type": "code",
   "execution_count": null,
   "id": "72bca86a",
   "metadata": {},
   "outputs": [],
   "source": []
  }
 ],
 "metadata": {
  "kernelspec": {
   "display_name": "conda_python3",
   "language": "python",
   "name": "conda_python3"
  },
  "language_info": {
   "codemirror_mode": {
    "name": "ipython",
    "version": 3
   },
   "file_extension": ".py",
   "mimetype": "text/x-python",
   "name": "python",
   "nbconvert_exporter": "python",
   "pygments_lexer": "ipython3",
   "version": "3.6.13"
  }
 },
 "nbformat": 4,
 "nbformat_minor": 5
}
