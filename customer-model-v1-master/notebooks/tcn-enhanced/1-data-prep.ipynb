{
 "cells": [
  {
   "cell_type": "markdown",
   "id": "977b93ea",
   "metadata": {},
   "source": [
    "## The Money Customer Model - TCN\n",
    "---"
   ]
  },
  {
   "cell_type": "code",
   "execution_count": 1,
   "id": "abb59e03",
   "metadata": {},
   "outputs": [],
   "source": [
    "# pip install --index-url https://build.sofi.com/artifactory/api/pypi/pypi/simple -r requirements.txt --use-deprecated=legacy-resolver\n",
    "# pip install s3fs\n",
    "# pip install sidetable"
   ]
  },
  {
   "cell_type": "code",
   "execution_count": 2,
   "id": "11f6ed9c",
   "metadata": {},
   "outputs": [],
   "source": [
    "import sys, os, json\n",
    "import torch\n",
    "import pandas as pd\n",
    "import numpy as np\n",
    "import rdsutils.datagen as datagen\n",
    "import sidetable\n",
    "\n",
    "# sys.path.insert(1, \"/home/ec2-user/SageMaker/projects-framework/sequential-models/TCN_v2\")\n",
    "# sys.path.insert(1, \"../..\")\n",
    "\n",
    "%load_ext autoreload\n",
    "%autoreload 2"
   ]
  },
  {
   "cell_type": "code",
   "execution_count": 3,
   "id": "59c25b69",
   "metadata": {},
   "outputs": [],
   "source": [
    "with open(\"../../config-transactional.json\", \"r\") as f:\n",
    "    config_trnx = json.load(f)\n",
    "    \n",
    "with open(\"../../config.json\", \"r\") as f:\n",
    "    config = json.load(f)"
   ]
  },
  {
   "cell_type": "code",
   "execution_count": 4,
   "id": "7bfd2e68",
   "metadata": {},
   "outputs": [],
   "source": [
    "trnx_path = \"../../data-transactional/features/features_1624300759.feather\"\n",
    "stnry_path = \"../../data/combined_all_features/combined_1624302456.feather\""
   ]
  },
  {
   "cell_type": "code",
   "execution_count": 5,
   "id": "c1037eba",
   "metadata": {},
   "outputs": [],
   "source": [
    "modeling_df_trans = pd.read_feather(trnx_path)\n",
    "modeling_df_acct = pd.read_feather(stnry_path)"
   ]
  },
  {
   "cell_type": "markdown",
   "id": "c9d4cc05",
   "metadata": {},
   "source": [
    "#### data size"
   ]
  },
  {
   "cell_type": "code",
   "execution_count": 6,
   "id": "11ef4899",
   "metadata": {},
   "outputs": [
    {
     "data": {
      "text/plain": [
       "((32224682, 122), (11512325, 91))"
      ]
     },
     "execution_count": 6,
     "metadata": {},
     "output_type": "execute_result"
    }
   ],
   "source": [
    "modeling_df_trans.shape, modeling_df_acct.shape"
   ]
  },
  {
   "cell_type": "code",
   "execution_count": 7,
   "id": "070e6f78",
   "metadata": {},
   "outputs": [
    {
     "data": {
      "text/plain": [
       "44    14\n",
       "45    14\n",
       "46    42\n",
       "47    23\n",
       "48    61\n",
       "Name: business_account_number, dtype: int64"
      ]
     },
     "execution_count": 7,
     "metadata": {},
     "output_type": "execute_result"
    }
   ],
   "source": [
    "modeling_df_acct.business_account_number.value_counts().value_counts().sort_index().tail()"
   ]
  },
  {
   "cell_type": "code",
   "execution_count": 8,
   "id": "ff672a6e",
   "metadata": {},
   "outputs": [
    {
     "data": {
      "text/plain": [
       "5434    1\n",
       "5594    1\n",
       "6098    1\n",
       "6799    1\n",
       "7007    1\n",
       "Name: business_account_number, dtype: int64"
      ]
     },
     "execution_count": 8,
     "metadata": {},
     "output_type": "execute_result"
    }
   ],
   "source": [
    "modeling_df_trans.business_account_number.value_counts().value_counts().sort_index().tail()"
   ]
  },
  {
   "cell_type": "code",
   "execution_count": 10,
   "id": "9bcc1c53",
   "metadata": {},
   "outputs": [],
   "source": [
    "modeling_df_trans[\"hr_of_transaction\"] = modeling_df_trans.transaction_datetime.dt.hour\n",
    "modeling_df_trans[\"has_transaction_comment\"] = ~modeling_df_trans[\"transaction_comment\"].isna()\n",
    "modeling_df_trans[\"card_present_ind\"] = modeling_df_trans[\"card_present_ind\"].astype(float)"
   ]
  },
  {
   "cell_type": "code",
   "execution_count": 11,
   "id": "24f01c48",
   "metadata": {},
   "outputs": [
    {
     "name": "stdout",
     "output_type": "stream",
     "text": [
      "CPU times: user 3min 35s, sys: 1min 44s, total: 5min 19s\n",
      "Wall time: 5min 18s\n"
     ]
    },
    {
     "data": {
      "text/html": [
       "<div>\n",
       "<style scoped>\n",
       "    .dataframe tbody tr th:only-of-type {\n",
       "        vertical-align: middle;\n",
       "    }\n",
       "\n",
       "    .dataframe tbody tr th {\n",
       "        vertical-align: top;\n",
       "    }\n",
       "\n",
       "    .dataframe thead th {\n",
       "        text-align: right;\n",
       "    }\n",
       "</style>\n",
       "<table border=\"1\" class=\"dataframe\">\n",
       "  <thead>\n",
       "    <tr style=\"text-align: right;\">\n",
       "      <th></th>\n",
       "      <th>business_account_number</th>\n",
       "      <th>transaction_datetime</th>\n",
       "      <th>sample_date</th>\n",
       "    </tr>\n",
       "  </thead>\n",
       "  <tbody>\n",
       "    <tr>\n",
       "      <th>0</th>\n",
       "      <td>410000007044</td>\n",
       "      <td>2017-12-13 16:26:35</td>\n",
       "      <td>2019-02-09 12:03:02</td>\n",
       "    </tr>\n",
       "    <tr>\n",
       "      <th>1</th>\n",
       "      <td>410000007044</td>\n",
       "      <td>2017-12-19 23:55:21</td>\n",
       "      <td>2019-02-09 12:03:02</td>\n",
       "    </tr>\n",
       "    <tr>\n",
       "      <th>2</th>\n",
       "      <td>410000007044</td>\n",
       "      <td>2017-12-19 23:55:21</td>\n",
       "      <td>2019-02-09 12:03:02</td>\n",
       "    </tr>\n",
       "    <tr>\n",
       "      <th>3</th>\n",
       "      <td>410000007044</td>\n",
       "      <td>2017-12-19 23:55:21</td>\n",
       "      <td>2019-02-09 12:03:02</td>\n",
       "    </tr>\n",
       "    <tr>\n",
       "      <th>4</th>\n",
       "      <td>410000007044</td>\n",
       "      <td>2017-12-19 23:55:21</td>\n",
       "      <td>2019-02-09 12:03:02</td>\n",
       "    </tr>\n",
       "  </tbody>\n",
       "</table>\n",
       "</div>"
      ],
      "text/plain": [
       "   business_account_number transaction_datetime         sample_date\n",
       "0             410000007044  2017-12-13 16:26:35 2019-02-09 12:03:02\n",
       "1             410000007044  2017-12-19 23:55:21 2019-02-09 12:03:02\n",
       "2             410000007044  2017-12-19 23:55:21 2019-02-09 12:03:02\n",
       "3             410000007044  2017-12-19 23:55:21 2019-02-09 12:03:02\n",
       "4             410000007044  2017-12-19 23:55:21 2019-02-09 12:03:02"
      ]
     },
     "execution_count": 11,
     "metadata": {},
     "output_type": "execute_result"
    }
   ],
   "source": [
    "%%time \n",
    "modeling_df_trans.sort_values([\"transaction_datetime\", \"business_account_number\"],\n",
    "                              inplace=True)\n",
    "modeling_df_acct.sort_values([\"sample_date\", \"business_account_number\"],\n",
    "                             inplace=True)\n",
    "modeling_df_trans = pd.merge_asof(modeling_df_trans, \n",
    "                                  modeling_df_acct[[\"target\", \n",
    "                                                    \"sample_date\", \n",
    "                                                    \"business_account_number\"]],\n",
    "                                  left_on=\"transaction_datetime\",\n",
    "                                  right_on=\"sample_date\",\n",
    "                                  by=\"business_account_number\",\n",
    "                                  direction=\"forward\",\n",
    "                                  suffixes=(\"\", \"_dup\"))\n",
    "modeling_df_trans[[\"business_account_number\", \"transaction_datetime\", \"sample_date\"]].head()"
   ]
  },
  {
   "cell_type": "code",
   "execution_count": 12,
   "id": "b3ab4e05",
   "metadata": {},
   "outputs": [
    {
     "data": {
      "text/plain": [
       "<AxesSubplot:>"
      ]
     },
     "execution_count": 12,
     "metadata": {},
     "output_type": "execute_result"
    },
    {
     "data": {
      "image/png": "[encoded data removed]",
      "text/plain": [
       "<Figure size 432x288 with 1 Axes>"
      ]
     },
     "metadata": {
      "needs_background": "light"
     },
     "output_type": "display_data"
    }
   ],
   "source": [
    "modeling_df_acct.sample_date.hist(bins=100)"
   ]
  },
  {
   "cell_type": "markdown",
   "id": "2ee3f6ef",
   "metadata": {},
   "source": [
    "### Process and sent to s3"
   ]
  },
  {
   "cell_type": "code",
   "execution_count": 13,
   "id": "1d11131b",
   "metadata": {},
   "outputs": [],
   "source": [
    "start = pd.to_datetime(config[\"date_sample_start\"])\n",
    "end = pd.to_datetime(config[\"date_sample_end\"])"
   ]
  },
  {
   "cell_type": "code",
   "execution_count": 14,
   "id": "e13c50a9",
   "metadata": {},
   "outputs": [],
   "source": [
    "train_static = modeling_df_acct[modeling_df_acct.sample_date.between(start, end)]\n",
    "train_dynamic = modeling_df_trans[modeling_df_trans.transaction_datetime.between(start, end)]"
   ]
  },
  {
   "cell_type": "code",
   "execution_count": 16,
   "id": "8b2b7536",
   "metadata": {},
   "outputs": [],
   "source": [
    "test_static = modeling_df_acct[(modeling_df_acct.sample_date > end) & (modeling_df_acct.is_static)]\n",
    "test_dynamic = modeling_df_trans"
   ]
  },
  {
   "cell_type": "code",
   "execution_count": 17,
   "id": "e9ee17dd",
   "metadata": {},
   "outputs": [
    {
     "data": {
      "text/plain": [
       "((19606777, 126), (6456260, 91))"
      ]
     },
     "execution_count": 17,
     "metadata": {},
     "output_type": "execute_result"
    }
   ],
   "source": [
    "train_dynamic.shape, test_static.shape"
   ]
  },
  {
   "cell_type": "code",
   "execution_count": 18,
   "id": "e8721959",
   "metadata": {},
   "outputs": [],
   "source": [
    "from utils import preprocess, features\n",
    "\n",
    "import warnings\n",
    "warnings.filterwarnings(\"ignore\")"
   ]
  },
  {
   "cell_type": "code",
   "execution_count": 41,
   "id": "82a725b5",
   "metadata": {},
   "outputs": [],
   "source": [
    "static_features = features\n",
    "dynamic_features = ['nr_past_transactions', 'card_present_ind', \n",
    "                'hr_of_transaction', 'transaction_code',\n",
    "                'transaction_as_pct_of_balance', 'transaction_amount']\n",
    "stnry_features = ['all7120', 'vantage_score', 'mtf5820', 'fico_score', 'fraud_score_1', \n",
    "                  'iln5520', 'bcc7120', 'phone_risk_score', 'email_risk_score', 'address_risk_score', \n",
    "                  'stu5031', 'bcx3423', 'fraud_score_2', 'iqt9415']\n",
    "target_col=['target']\n",
    "meta_cols=['borrower_id', 'sample_date', 'transaction_datetime', 'business_account_number']\n",
    "\n",
    "static_cols = static_features + target_col + meta_cols + [\"indeterminate\"]\n",
    "dynamic_cols = dynamic_features + stnry_features + target_col + meta_cols"
   ]
  },
  {
   "cell_type": "code",
   "execution_count": 20,
   "id": "b3d3156e",
   "metadata": {},
   "outputs": [
    {
     "name": "stdout",
     "output_type": "stream",
     "text": [
      "CPU times: user 1min 7s, sys: 39.2 s, total: 1min 46s\n",
      "Wall time: 1min 43s\n"
     ]
    }
   ],
   "source": [
    "%%time\n",
    "train_static = preprocess(train_static)\n",
    "train_dynamic = preprocess(train_dynamic)\n",
    "\n",
    "test_static = preprocess(test_static)\n",
    "test_dynamic = preprocess(test_dynamic)"
   ]
  },
  {
   "cell_type": "code",
   "execution_count": 42,
   "id": "71181051",
   "metadata": {},
   "outputs": [
    {
     "data": {
      "text/html": [
       "<div>\n",
       "<style scoped>\n",
       "    .dataframe tbody tr th:only-of-type {\n",
       "        vertical-align: middle;\n",
       "    }\n",
       "\n",
       "    .dataframe tbody tr th {\n",
       "        vertical-align: top;\n",
       "    }\n",
       "\n",
       "    .dataframe thead th {\n",
       "        text-align: right;\n",
       "    }\n",
       "</style>\n",
       "<table border=\"1\" class=\"dataframe\">\n",
       "  <thead>\n",
       "    <tr style=\"text-align: right;\">\n",
       "      <th></th>\n",
       "      <th>first_deposit_amount</th>\n",
       "      <th>vantage_score</th>\n",
       "      <th>bcc7120</th>\n",
       "      <th>email_risk_score</th>\n",
       "      <th>fraud_score_2</th>\n",
       "      <th>name_email_correlation</th>\n",
       "      <th>transaction_as_pct_of_balance</th>\n",
       "      <th>mean_account_balance_30d</th>\n",
       "      <th>phone_risk_score</th>\n",
       "      <th>name_address_correlation</th>\n",
       "      <th>...</th>\n",
       "      <th>age_money_account</th>\n",
       "      <th>transaction_code_encoded</th>\n",
       "      <th>all7120_default_encoded</th>\n",
       "      <th>bcc7120_default_encoded</th>\n",
       "      <th>target</th>\n",
       "      <th>borrower_id</th>\n",
       "      <th>sample_date</th>\n",
       "      <th>transaction_datetime</th>\n",
       "      <th>business_account_number</th>\n",
       "      <th>indeterminate</th>\n",
       "    </tr>\n",
       "  </thead>\n",
       "  <tbody>\n",
       "    <tr>\n",
       "      <th>1966359</th>\n",
       "      <td>10.0</td>\n",
       "      <td>NaN</td>\n",
       "      <td>NaN</td>\n",
       "      <td>0.0179</td>\n",
       "      <td>NaN</td>\n",
       "      <td>0.9999</td>\n",
       "      <td>0.098912</td>\n",
       "      <td>11.110</td>\n",
       "      <td>0.0000</td>\n",
       "      <td>0.1596</td>\n",
       "      <td>...</td>\n",
       "      <td>316</td>\n",
       "      <td>0</td>\n",
       "      <td>-1.0</td>\n",
       "      <td>-1.0</td>\n",
       "      <td>False</td>\n",
       "      <td>5134631.0</td>\n",
       "      <td>2019-01-16</td>\n",
       "      <td>2019-01-16</td>\n",
       "      <td>410000075041</td>\n",
       "      <td>False</td>\n",
       "    </tr>\n",
       "    <tr>\n",
       "      <th>1085775</th>\n",
       "      <td>500.0</td>\n",
       "      <td>NaN</td>\n",
       "      <td>NaN</td>\n",
       "      <td>0.0071</td>\n",
       "      <td>NaN</td>\n",
       "      <td>0.9992</td>\n",
       "      <td>0.026787</td>\n",
       "      <td>479.280</td>\n",
       "      <td>0.0000</td>\n",
       "      <td>0.9916</td>\n",
       "      <td>...</td>\n",
       "      <td>153</td>\n",
       "      <td>0</td>\n",
       "      <td>-1.0</td>\n",
       "      <td>-1.0</td>\n",
       "      <td>False</td>\n",
       "      <td>3070002.0</td>\n",
       "      <td>2019-01-16</td>\n",
       "      <td>2019-01-16</td>\n",
       "      <td>410000132492</td>\n",
       "      <td>False</td>\n",
       "    </tr>\n",
       "    <tr>\n",
       "      <th>2197095</th>\n",
       "      <td>12.0</td>\n",
       "      <td>NaN</td>\n",
       "      <td>NaN</td>\n",
       "      <td>0.0143</td>\n",
       "      <td>NaN</td>\n",
       "      <td>0.9994</td>\n",
       "      <td>750.000000</td>\n",
       "      <td>1.000</td>\n",
       "      <td>0.0193</td>\n",
       "      <td>0.4305</td>\n",
       "      <td>...</td>\n",
       "      <td>124</td>\n",
       "      <td>0</td>\n",
       "      <td>-1.0</td>\n",
       "      <td>-1.0</td>\n",
       "      <td>False</td>\n",
       "      <td>4442475.0</td>\n",
       "      <td>2019-01-16</td>\n",
       "      <td>2019-01-16</td>\n",
       "      <td>410000189170</td>\n",
       "      <td>False</td>\n",
       "    </tr>\n",
       "    <tr>\n",
       "      <th>1080918</th>\n",
       "      <td>2000.0</td>\n",
       "      <td>NaN</td>\n",
       "      <td>NaN</td>\n",
       "      <td>0.0077</td>\n",
       "      <td>NaN</td>\n",
       "      <td>0.9999</td>\n",
       "      <td>0.000453</td>\n",
       "      <td>2205.930</td>\n",
       "      <td>0.0000</td>\n",
       "      <td>0.6341</td>\n",
       "      <td>...</td>\n",
       "      <td>124</td>\n",
       "      <td>0</td>\n",
       "      <td>-1.0</td>\n",
       "      <td>-1.0</td>\n",
       "      <td>False</td>\n",
       "      <td>4261518.0</td>\n",
       "      <td>2019-01-16</td>\n",
       "      <td>2019-01-16</td>\n",
       "      <td>410000189524</td>\n",
       "      <td>False</td>\n",
       "    </tr>\n",
       "    <tr>\n",
       "      <th>305397</th>\n",
       "      <td>250.0</td>\n",
       "      <td>NaN</td>\n",
       "      <td>NaN</td>\n",
       "      <td>0.0190</td>\n",
       "      <td>NaN</td>\n",
       "      <td>0.9999</td>\n",
       "      <td>-0.049856</td>\n",
       "      <td>1582.616</td>\n",
       "      <td>0.0000</td>\n",
       "      <td>0.9737</td>\n",
       "      <td>...</td>\n",
       "      <td>111</td>\n",
       "      <td>0</td>\n",
       "      <td>-1.0</td>\n",
       "      <td>-1.0</td>\n",
       "      <td>False</td>\n",
       "      <td>6181442.0</td>\n",
       "      <td>2019-01-16</td>\n",
       "      <td>2019-01-16</td>\n",
       "      <td>410000208665</td>\n",
       "      <td>False</td>\n",
       "    </tr>\n",
       "  </tbody>\n",
       "</table>\n",
       "<p>5 rows × 47 columns</p>\n",
       "</div>"
      ],
      "text/plain": [
       "         first_deposit_amount  vantage_score  bcc7120  email_risk_score  \\\n",
       "1966359                  10.0            NaN      NaN            0.0179   \n",
       "1085775                 500.0            NaN      NaN            0.0071   \n",
       "2197095                  12.0            NaN      NaN            0.0143   \n",
       "1080918                2000.0            NaN      NaN            0.0077   \n",
       "305397                  250.0            NaN      NaN            0.0190   \n",
       "\n",
       "         fraud_score_2  name_email_correlation  transaction_as_pct_of_balance  \\\n",
       "1966359            NaN                  0.9999                       0.098912   \n",
       "1085775            NaN                  0.9992                       0.026787   \n",
       "2197095            NaN                  0.9994                     750.000000   \n",
       "1080918            NaN                  0.9999                       0.000453   \n",
       "305397             NaN                  0.9999                      -0.049856   \n",
       "\n",
       "         mean_account_balance_30d  phone_risk_score  name_address_correlation  \\\n",
       "1966359                    11.110            0.0000                    0.1596   \n",
       "1085775                   479.280            0.0000                    0.9916   \n",
       "2197095                     1.000            0.0193                    0.4305   \n",
       "1080918                  2205.930            0.0000                    0.6341   \n",
       "305397                   1582.616            0.0000                    0.9737   \n",
       "\n",
       "         ...  age_money_account  transaction_code_encoded  \\\n",
       "1966359  ...                316                         0   \n",
       "1085775  ...                153                         0   \n",
       "2197095  ...                124                         0   \n",
       "1080918  ...                124                         0   \n",
       "305397   ...                111                         0   \n",
       "\n",
       "         all7120_default_encoded  bcc7120_default_encoded  target  \\\n",
       "1966359                     -1.0                     -1.0   False   \n",
       "1085775                     -1.0                     -1.0   False   \n",
       "2197095                     -1.0                     -1.0   False   \n",
       "1080918                     -1.0                     -1.0   False   \n",
       "305397                      -1.0                     -1.0   False   \n",
       "\n",
       "         borrower_id  sample_date  transaction_datetime  \\\n",
       "1966359    5134631.0   2019-01-16            2019-01-16   \n",
       "1085775    3070002.0   2019-01-16            2019-01-16   \n",
       "2197095    4442475.0   2019-01-16            2019-01-16   \n",
       "1080918    4261518.0   2019-01-16            2019-01-16   \n",
       "305397     6181442.0   2019-01-16            2019-01-16   \n",
       "\n",
       "         business_account_number  indeterminate  \n",
       "1966359             410000075041          False  \n",
       "1085775             410000132492          False  \n",
       "2197095             410000189170          False  \n",
       "1080918             410000189524          False  \n",
       "305397              410000208665          False  \n",
       "\n",
       "[5 rows x 47 columns]"
      ]
     },
     "execution_count": 42,
     "metadata": {},
     "output_type": "execute_result"
    }
   ],
   "source": [
    "train_static[static_cols].head()"
   ]
  },
  {
   "cell_type": "code",
   "execution_count": 43,
   "id": "fc4685aa",
   "metadata": {},
   "outputs": [
    {
     "data": {
      "text/html": [
       "<div>\n",
       "<style scoped>\n",
       "    .dataframe tbody tr th:only-of-type {\n",
       "        vertical-align: middle;\n",
       "    }\n",
       "\n",
       "    .dataframe tbody tr th {\n",
       "        vertical-align: top;\n",
       "    }\n",
       "\n",
       "    .dataframe thead th {\n",
       "        text-align: right;\n",
       "    }\n",
       "</style>\n",
       "<table border=\"1\" class=\"dataframe\">\n",
       "  <thead>\n",
       "    <tr style=\"text-align: right;\">\n",
       "      <th></th>\n",
       "      <th>nr_past_transactions</th>\n",
       "      <th>card_present_ind</th>\n",
       "      <th>hr_of_transaction</th>\n",
       "      <th>transaction_code</th>\n",
       "      <th>transaction_as_pct_of_balance</th>\n",
       "      <th>transaction_amount</th>\n",
       "      <th>all7120</th>\n",
       "      <th>vantage_score</th>\n",
       "      <th>mtf5820</th>\n",
       "      <th>fico_score</th>\n",
       "      <th>...</th>\n",
       "      <th>address_risk_score</th>\n",
       "      <th>stu5031</th>\n",
       "      <th>bcx3423</th>\n",
       "      <th>fraud_score_2</th>\n",
       "      <th>iqt9415</th>\n",
       "      <th>target</th>\n",
       "      <th>borrower_id</th>\n",
       "      <th>sample_date</th>\n",
       "      <th>transaction_datetime</th>\n",
       "      <th>business_account_number</th>\n",
       "    </tr>\n",
       "  </thead>\n",
       "  <tbody>\n",
       "    <tr>\n",
       "      <th>390349</th>\n",
       "      <td>482</td>\n",
       "      <td>0.0</td>\n",
       "      <td>0</td>\n",
       "      <td>DWMBR</td>\n",
       "      <td>-0.000224</td>\n",
       "      <td>-25.0</td>\n",
       "      <td>NaN</td>\n",
       "      <td>NaN</td>\n",
       "      <td>NaN</td>\n",
       "      <td>NaN</td>\n",
       "      <td>...</td>\n",
       "      <td>0.0013</td>\n",
       "      <td>NaN</td>\n",
       "      <td>NaN</td>\n",
       "      <td>NaN</td>\n",
       "      <td>NaN</td>\n",
       "      <td>False</td>\n",
       "      <td>4294603</td>\n",
       "      <td>2019-02-12 00:00:00</td>\n",
       "      <td>2019-01-16</td>\n",
       "      <td>410000072255</td>\n",
       "    </tr>\n",
       "    <tr>\n",
       "      <th>390350</th>\n",
       "      <td>483</td>\n",
       "      <td>0.0</td>\n",
       "      <td>0</td>\n",
       "      <td>DWMBR</td>\n",
       "      <td>-0.000224</td>\n",
       "      <td>-25.0</td>\n",
       "      <td>NaN</td>\n",
       "      <td>NaN</td>\n",
       "      <td>NaN</td>\n",
       "      <td>NaN</td>\n",
       "      <td>...</td>\n",
       "      <td>0.0013</td>\n",
       "      <td>NaN</td>\n",
       "      <td>NaN</td>\n",
       "      <td>NaN</td>\n",
       "      <td>NaN</td>\n",
       "      <td>False</td>\n",
       "      <td>4294603</td>\n",
       "      <td>2019-02-12 00:00:00</td>\n",
       "      <td>2019-01-16</td>\n",
       "      <td>410000072255</td>\n",
       "    </tr>\n",
       "    <tr>\n",
       "      <th>390351</th>\n",
       "      <td>709</td>\n",
       "      <td>0.0</td>\n",
       "      <td>0</td>\n",
       "      <td>DWMBR</td>\n",
       "      <td>-0.111375</td>\n",
       "      <td>-15.0</td>\n",
       "      <td>NaN</td>\n",
       "      <td>NaN</td>\n",
       "      <td>NaN</td>\n",
       "      <td>NaN</td>\n",
       "      <td>...</td>\n",
       "      <td>0.0008</td>\n",
       "      <td>NaN</td>\n",
       "      <td>NaN</td>\n",
       "      <td>NaN</td>\n",
       "      <td>NaN</td>\n",
       "      <td>False</td>\n",
       "      <td>4329485</td>\n",
       "      <td>2019-01-22 05:56:55</td>\n",
       "      <td>2019-01-16</td>\n",
       "      <td>410000073178</td>\n",
       "    </tr>\n",
       "    <tr>\n",
       "      <th>390352</th>\n",
       "      <td>124</td>\n",
       "      <td>0.0</td>\n",
       "      <td>0</td>\n",
       "      <td>DWBILLPAY</td>\n",
       "      <td>-0.074307</td>\n",
       "      <td>-500.0</td>\n",
       "      <td>NaN</td>\n",
       "      <td>NaN</td>\n",
       "      <td>NaN</td>\n",
       "      <td>NaN</td>\n",
       "      <td>...</td>\n",
       "      <td>0.0008</td>\n",
       "      <td>NaN</td>\n",
       "      <td>NaN</td>\n",
       "      <td>NaN</td>\n",
       "      <td>NaN</td>\n",
       "      <td>False</td>\n",
       "      <td>3960586</td>\n",
       "      <td>2019-02-15 00:00:00</td>\n",
       "      <td>2019-01-16</td>\n",
       "      <td>410000073225</td>\n",
       "    </tr>\n",
       "    <tr>\n",
       "      <th>390353</th>\n",
       "      <td>254</td>\n",
       "      <td>0.0</td>\n",
       "      <td>0</td>\n",
       "      <td>ACHDWP2P</td>\n",
       "      <td>-0.019542</td>\n",
       "      <td>-100.0</td>\n",
       "      <td>NaN</td>\n",
       "      <td>NaN</td>\n",
       "      <td>NaN</td>\n",
       "      <td>NaN</td>\n",
       "      <td>...</td>\n",
       "      <td>0.0010</td>\n",
       "      <td>NaN</td>\n",
       "      <td>NaN</td>\n",
       "      <td>NaN</td>\n",
       "      <td>NaN</td>\n",
       "      <td>False</td>\n",
       "      <td>2214308</td>\n",
       "      <td>2019-02-19 00:00:00</td>\n",
       "      <td>2019-01-16</td>\n",
       "      <td>410000074564</td>\n",
       "    </tr>\n",
       "  </tbody>\n",
       "</table>\n",
       "<p>5 rows × 25 columns</p>\n",
       "</div>"
      ],
      "text/plain": [
       "        nr_past_transactions  card_present_ind  hr_of_transaction  \\\n",
       "390349                   482               0.0                  0   \n",
       "390350                   483               0.0                  0   \n",
       "390351                   709               0.0                  0   \n",
       "390352                   124               0.0                  0   \n",
       "390353                   254               0.0                  0   \n",
       "\n",
       "       transaction_code  transaction_as_pct_of_balance  transaction_amount  \\\n",
       "390349            DWMBR                      -0.000224               -25.0   \n",
       "390350            DWMBR                      -0.000224               -25.0   \n",
       "390351            DWMBR                      -0.111375               -15.0   \n",
       "390352        DWBILLPAY                      -0.074307              -500.0   \n",
       "390353         ACHDWP2P                      -0.019542              -100.0   \n",
       "\n",
       "        all7120  vantage_score  mtf5820  fico_score  ...  address_risk_score  \\\n",
       "390349      NaN            NaN      NaN         NaN  ...              0.0013   \n",
       "390350      NaN            NaN      NaN         NaN  ...              0.0013   \n",
       "390351      NaN            NaN      NaN         NaN  ...              0.0008   \n",
       "390352      NaN            NaN      NaN         NaN  ...              0.0008   \n",
       "390353      NaN            NaN      NaN         NaN  ...              0.0010   \n",
       "\n",
       "        stu5031  bcx3423  fraud_score_2  iqt9415  target  borrower_id  \\\n",
       "390349      NaN      NaN            NaN      NaN   False      4294603   \n",
       "390350      NaN      NaN            NaN      NaN   False      4294603   \n",
       "390351      NaN      NaN            NaN      NaN   False      4329485   \n",
       "390352      NaN      NaN            NaN      NaN   False      3960586   \n",
       "390353      NaN      NaN            NaN      NaN   False      2214308   \n",
       "\n",
       "               sample_date  transaction_datetime  business_account_number  \n",
       "390349 2019-02-12 00:00:00            2019-01-16             410000072255  \n",
       "390350 2019-02-12 00:00:00            2019-01-16             410000072255  \n",
       "390351 2019-01-22 05:56:55            2019-01-16             410000073178  \n",
       "390352 2019-02-15 00:00:00            2019-01-16             410000073225  \n",
       "390353 2019-02-19 00:00:00            2019-01-16             410000074564  \n",
       "\n",
       "[5 rows x 25 columns]"
      ]
     },
     "execution_count": 43,
     "metadata": {},
     "output_type": "execute_result"
    }
   ],
   "source": [
    "train_dynamic[dynamic_cols].head()"
   ]
  },
  {
   "cell_type": "code",
   "execution_count": null,
   "id": "bd3f9dc4",
   "metadata": {},
   "outputs": [],
   "source": []
  },
  {
   "cell_type": "markdown",
   "id": "c10798af",
   "metadata": {},
   "source": [
    "### Upload"
   ]
  },
  {
   "cell_type": "code",
   "execution_count": 44,
   "id": "bb86e862",
   "metadata": {},
   "outputs": [],
   "source": [
    "# save to: s3://sofi-data-science/jxu/money-risk-models/customer-risk-model/data/with-tcn/\n",
    "s3_path = \"s3://sofi-data-science/jxu/money-risk-models/customer-risk-model/data/with-tcn/\""
   ]
  },
  {
   "cell_type": "markdown",
   "id": "4202762d",
   "metadata": {},
   "source": [
    "#### Upload full"
   ]
  },
  {
   "cell_type": "code",
   "execution_count": 49,
   "id": "781ec9d6",
   "metadata": {},
   "outputs": [
    {
     "name": "stdout",
     "output_type": "stream",
     "text": [
      "CPU times: user 1min 15s, sys: 8.78 s, total: 1min 24s\n",
      "Wall time: 3min 18s\n"
     ]
    }
   ],
   "source": [
    "%%time\n",
    "train_static[static_cols].to_parquet(os.path.join(s3_path, \"train_static.parquet\"))\n",
    "train_dynamic[dynamic_cols].to_parquet(os.path.join(s3_path, \"train_dynamic.parquet\"))\n",
    "\n",
    "test_static[static_cols].to_parquet(os.path.join(s3_path, \"test_static.parquet\"))\n",
    "test_dynamic[dynamic_cols].to_parquet(os.path.join(s3_path, \"test_dynamic.parquet\"))"
   ]
  },
  {
   "cell_type": "markdown",
   "id": "089b517f",
   "metadata": {},
   "source": [
    "#### Upload debug"
   ]
  },
  {
   "cell_type": "code",
   "execution_count": 45,
   "id": "ee5de3e1",
   "metadata": {},
   "outputs": [],
   "source": [
    "cols = [set(train_static.business_account_number.unique()),\n",
    "        set(train_dynamic.business_account_number.unique()),\n",
    "        set(test_static.business_account_number.unique()),\n",
    "        set(test_dynamic.business_account_number.unique())]\n",
    "\n",
    "c = cols[0]\n",
    "for c_ in cols:\n",
    "    c = c.intersection(c_)"
   ]
  },
  {
   "cell_type": "code",
   "execution_count": 46,
   "id": "603a6998",
   "metadata": {},
   "outputs": [
    {
     "data": {
      "text/plain": [
       "410000115263    48\n",
       "410000616234    48\n",
       "410000254997    48\n",
       "410007115890    48\n",
       "410000746260    48\n",
       "410000395706    48\n",
       "410000184082    48\n",
       "410000450577    48\n",
       "410000413962    48\n",
       "410000104174    48\n",
       "410000528289    48\n",
       "410000435498    48\n",
       "410000597407    48\n",
       "410000488874    48\n",
       "410000155352    48\n",
       "410000383305    48\n",
       "410000595320    48\n",
       "410001055161    48\n",
       "410000770007    48\n",
       "410000420561    48\n",
       "Name: business_account_number, dtype: int64"
      ]
     },
     "execution_count": 46,
     "metadata": {},
     "output_type": "execute_result"
    }
   ],
   "source": [
    "modeling_df_acct.business_account_number.value_counts().sort_values().tail(20)"
   ]
  },
  {
   "cell_type": "code",
   "execution_count": 47,
   "id": "92d22707",
   "metadata": {},
   "outputs": [],
   "source": [
    "df_ = modeling_df_acct\n",
    "df_ = df_[df_.target]\n",
    "pos_ids = list(df_.business_account_number.value_counts().sort_values().tail(20).index)\n",
    "\n",
    "df_ = modeling_df_acct\n",
    "df_ = df_[~df_.target]\n",
    "neg_ids = list(df_.business_account_number.value_counts().sort_values().tail(20).index)\n",
    "\n",
    "debug_ids = pos_ids + neg_ids"
   ]
  },
  {
   "cell_type": "code",
   "execution_count": 48,
   "id": "96666f71",
   "metadata": {},
   "outputs": [
    {
     "name": "stdout",
     "output_type": "stream",
     "text": [
      "CPU times: user 2.31 s, sys: 10.1 ms, total: 2.32 s\n",
      "Wall time: 2.96 s\n"
     ]
    }
   ],
   "source": [
    "%%time\n",
    "train_static[train_static.business_account_number.isin(debug_ids)][static_cols].to_parquet(os.path.join(s3_path, \"debug_train_static.parquet\"))\n",
    "train_dynamic[train_dynamic.business_account_number.isin(debug_ids)][dynamic_cols].to_parquet(os.path.join(s3_path, \"debug_train_dynamic.parquet\"))\n",
    "\n",
    "test_static[test_static.business_account_number.isin(debug_ids)][static_cols].to_parquet(os.path.join(s3_path, \"debug_test_static.parquet\"))\n",
    "test_dynamic[test_dynamic.business_account_number.isin(debug_ids)][dynamic_cols].to_parquet(os.path.join(s3_path, \"debug_test_dynamic.parquet\"))"
   ]
  },
  {
   "cell_type": "code",
   "execution_count": null,
   "id": "f5a40cf3",
   "metadata": {},
   "outputs": [],
   "source": []
  },
  {
   "cell_type": "code",
   "execution_count": null,
   "id": "9a6576fa",
   "metadata": {},
   "outputs": [],
   "source": []
  }
 ],
 "metadata": {
  "kernelspec": {
   "display_name": "conda_pytorch_p36",
   "language": "python",
   "name": "conda_pytorch_p36"
  },
  "language_info": {
   "codemirror_mode": {
    "name": "ipython",
    "version": 3
   },
   "file_extension": ".py",
   "mimetype": "text/x-python",
   "name": "python",
   "nbconvert_exporter": "python",
   "pygments_lexer": "ipython3",
   "version": "3.6.13"
  }
 },
 "nbformat": 4,
 "nbformat_minor": 5
}
