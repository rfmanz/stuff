{
 "cells": [
  {
   "cell_type": "code",
   "execution_count": 1,
   "id": "d067d425",
   "metadata": {},
   "outputs": [
    {
     "name": "stdout",
     "output_type": "stream",
     "text": [
      "Collecting duckdb\n",
      "  Downloading duckdb-0.2.9-cp37-cp37m-manylinux_2_12_x86_64.manylinux2010_x86_64.whl (11.2 MB)\n",
      "\u001b[K     |████████████████████████████████| 11.2 MB 8.7 MB/s eta 0:00:01\n",
      "\u001b[?25hRequirement already satisfied: numpy>=1.14 in /home/ec2-user/anaconda3/envs/customer_risk/lib/python3.7/site-packages (from duckdb) (1.21.2)\n",
      "Installing collected packages: duckdb\n",
      "Successfully installed duckdb-0.2.9\n"
     ]
    }
   ],
   "source": [
    "!pip install duckdb"
   ]
  },
  {
   "cell_type": "code",
   "execution_count": 1,
   "id": "49c379b6",
   "metadata": {},
   "outputs": [],
   "source": [
    "import mdsutils\n",
    "import pandas as pd\n",
    "\n",
    "athena = mdsutils.AthenaClient(database='datalake_production_money_monitoring')"
   ]
  },
  {
   "cell_type": "code",
   "execution_count": 67,
   "id": "b42f8510",
   "metadata": {},
   "outputs": [],
   "source": [
    "query = \"\"\"\n",
    "select\n",
    "    created_dt, \n",
    "    updated_dt,\n",
    "    json_extract(money_cache_snapshot_v2, '$.giactData[\"version\"]') as giactData_version,\n",
    "    json_extract(money_cache_snapshot_v2, '$.giactData[\"lastModifiedDate\"]') as giactData_lastModifiedDate,\n",
    "    json_extract(money_cache_snapshot_v2, '$.giactData[\"customerDeniedCount\"]') as giactData_customerDeniedCount,\n",
    "    json_extract(money_cache_snapshot_v2, '$.giactData[\"giactAccountDetails\"]') as giactData_giactAccountDetails,\n",
    "    json_extract(money_cache_snapshot_v2, '$.giactData[\"failedMicroDepositCount\"]') as giactData_failedMicroDepositCount,\n",
    "    json_extract(money_cache_snapshot_v2, '$.giactData[\"totalGiactResponseCount\"]') as giactData_totalGiactResponseCount,\n",
    "    json_extract(money_cache_snapshot_v2, '$.giactData[\"passedGiactResponseCount\"]') as giactData_passedGiactResponseCount,\n",
    "    json_extract(money_cache_snapshot_v2, '$.giactData[\"failedLinkingAccountCount\"]') as giactData_failedLinkingAccountCount,\n",
    "    json_extract(money_cache_snapshot_v2, '$.giactData[\"declinedGiactResponseCount\"]') as giactData_declinedGiactResponseCount,\n",
    "    json_extract(money_cache_snapshot_v2, '$.creditData[\"fico\"]') as creditData_fico,\n",
    "    json_extract(money_cache_snapshot_v2, '$.creditData[\"all0300\"]') as creditData_all0300,\n",
    "    json_extract(money_cache_snapshot_v2, '$.creditData[\"all7120\"]') as creditData_all7120,\n",
    "    json_extract(money_cache_snapshot_v2, '$.creditData[\"all8220\"]') as creditData_all8220,\n",
    "    json_extract(money_cache_snapshot_v2, '$.creditData[\"bcc2800\"]') as creditData_bcc2800,\n",
    "    json_extract(money_cache_snapshot_v2, '$.creditData[\"bcc7120\"]') as creditData_bcc7120,\n",
    "    json_extract(money_cache_snapshot_v2, '$.creditData[\"bcx3423\"]') as creditData_bcx3423,\n",
    "    json_extract(money_cache_snapshot_v2, '$.creditData[\"iln5520\"]') as creditData_iln5520,\n",
    "    json_extract(money_cache_snapshot_v2, '$.creditData[\"iqt9413\"]') as creditData_iqt9413,\n",
    "    json_extract(money_cache_snapshot_v2, '$.creditData[\"iqt9415\"]') as creditData_iqt9415,\n",
    "    json_extract(money_cache_snapshot_v2, '$.creditData[\"iqt9846\"]') as creditData_iqt9846,\n",
    "    json_extract(money_cache_snapshot_v2, '$.creditData[\"mtf5820\"]') as creditData_mtf5820,\n",
    "    json_extract(money_cache_snapshot_v2, '$.creditData[\"stu5031\"]') as creditData_stu5031,\n",
    "    json_extract(money_cache_snapshot_v2, '$.creditData[\"vantage\"]') as creditData_vantage,\n",
    "    json_extract(money_cache_snapshot_v2, '$.creditData[\"version\"]') as creditData_version,\n",
    "    json_extract(money_cache_snapshot_v2, '$.creditData[\"creditScoreId\"]') as creditData_creditScoreId,\n",
    "    json_extract(money_cache_snapshot_v2, '$.creditData[\"autoLoanAmount\"]') as creditData_autoLoanAmount,\n",
    "    json_extract(money_cache_snapshot_v2, '$.creditData[\"lastModifiedDate\"]') as creditData_lastModifiedDate,\n",
    "    json_extract(money_cache_snapshot_v2, '$.creditData[\"securedLoanAmount\"]') as creditData_securedLoanAmount,\n",
    "    json_extract(money_cache_snapshot_v2, '$.creditData[\"creditPullDateTime\"]') as creditData_creditPullDateTime,\n",
    "    json_extract(money_cache_snapshot_v2, '$.creditData[\"mortgageLoanAmount\"]') as creditData_mortgageLoanAmount,\n",
    "    json_extract(money_cache_snapshot_v2, '$.creditData[\"educationLoanAmount\"]') as creditData_educationLoanAmount,\n",
    "    json_extract(money_cache_snapshot_v2, '$.creditData[\"totalTradelinesOpen\"]') as creditData_totalTradelinesOpen,\n",
    "    json_extract(money_cache_snapshot_v2, '$.creditData[\"unsecuredLoanAmount\"]') as creditData_unsecuredLoanAmount,\n",
    "    json_extract(money_cache_snapshot_v2, '$.creditData[\"creditCardLoanAmount\"]') as creditData_creditCardLoanAmount,\n",
    "    json_extract(money_cache_snapshot_v2, '$.creditData[\"delinquenciesNinetyDays\"]') as creditData_delinquenciesNinetyDays,\n",
    "    json_extract(money_cache_snapshot_v2, '$.creditData[\"totalOutstandingBalance\"]') as creditData_totalOutstandingBalance,\n",
    "    json_extract(money_cache_snapshot_v2, '$.creditData[\"experianIdentityVerifications\"]') as creditData_experianIdentityVerifications,\n",
    "    json_extract(money_cache_snapshot_v2, '$.socureData[\"date\"]') as socureData_date,\n",
    "    json_extract(money_cache_snapshot_v2, '$.socureData[\"version\"]') as socureData_version,\n",
    "    json_extract(money_cache_snapshot_v2, '$.socureData[\"emailRisk\"]') as socureData_emailRisk,\n",
    "    json_extract(money_cache_snapshot_v2, '$.socureData[\"phoneRisk\"]') as socureData_phoneRisk,\n",
    "    json_extract(money_cache_snapshot_v2, '$.socureData[\"sigmaScore\"]') as socureData_sigmaScore,\n",
    "    json_extract(money_cache_snapshot_v2, '$.socureData[\"genericScore\"]') as socureData_genericScore,\n",
    "    json_extract(money_cache_snapshot_v2, '$.socureData[\"thirdPartyRawId\"]') as socureData_thirdPartyRawId,\n",
    "    json_extract(money_cache_snapshot_v2, '$.socureData[\"addressRiskScore\"]') as socureData_addressRiskScore,\n",
    "    json_extract(money_cache_snapshot_v2, '$.socureData[\"lastModifiedDate\"]') as socureData_lastModifiedDate,\n",
    "    json_extract(money_cache_snapshot_v2, '$.socureData[\"allSocureReasonCodes\"]') as socureData_allSocureReasonCodes,\n",
    "    json_extract(money_cache_snapshot_v2, '$.socureData[\"nameEmailCorrelation\"]') as socureData_nameEmailCorrelation,\n",
    "    json_extract(money_cache_snapshot_v2, '$.socureData[\"namePhoneCorrelation\"]') as socureData_namePhoneCorrelation,\n",
    "    json_extract(money_cache_snapshot_v2, '$.socureData[\"nameAddressCorrelation\"]') as socureData_nameAddressCorrelation,\n",
    "    json_extract(money_cache_snapshot_v2, '$.transactionRollupDataV2[\"version\"]') as transactionRollupDataV2_version,\n",
    "    json_extract(money_cache_snapshot_v2, '$.transactionRollupDataV2[\"accountMap\"]') as transactionRollupDataV2_accountMap,\n",
    "    json_extract(money_cache_snapshot_v2, '$.transactionRollupDataV2[\"lastModifiedDate\"]') as transactionRollupDataV2_lastModifiedDate,\n",
    "    json_extract(money_cache_snapshot_v2, '$.transactionReturnRollupDataV2[\"version\"]') as transactionReturnRollupDataV2_version,\n",
    "    json_extract(money_cache_snapshot_v2, '$.transactionReturnRollupDataV2[\"accountMap\"]') as transactionReturnRollupDataV2_accountMap,\n",
    "    json_extract(money_cache_snapshot_v2, '$.transactionReturnRollupDataV2[\"lastModifiedDate\"]') as transactionReturnRollupDataV2_lastModifiedDate\n",
    "from datalake_production_money_monitoring.money_cache_snapshot_v2\n",
    "\"\"\"\n",
    "# df = athena.query_to_df(query)"
   ]
  },
  {
   "cell_type": "code",
   "execution_count": 68,
   "id": "8e3b52b8",
   "metadata": {},
   "outputs": [],
   "source": [
    "# df.to_parquet(\"../../artifacts/money_cache_snapshot_full.parquet\")"
   ]
  },
  {
   "cell_type": "code",
   "execution_count": null,
   "id": "db5a4641",
   "metadata": {},
   "outputs": [],
   "source": []
  },
  {
   "cell_type": "code",
   "execution_count": 13,
   "id": "5e677f84",
   "metadata": {},
   "outputs": [],
   "source": [
    "df = pd.read_parquet(\"../../artifacts/money_cache_snapshot_full.parquet\", columns=[\"created_dt\", \"transactionReturnRollupDataV2_accountMap\"])"
   ]
  },
  {
   "cell_type": "code",
   "execution_count": 14,
   "id": "fc7afe16",
   "metadata": {},
   "outputs": [
    {
     "data": {
      "text/plain": [
       "((11820918, 2),\n",
       " created_dt                                  object\n",
       " transactionReturnRollupDataV2_accountMap    object\n",
       " dtype: object)"
      ]
     },
     "execution_count": 14,
     "metadata": {},
     "output_type": "execute_result"
    }
   ],
   "source": [
    "df.shape, df.dtypes"
   ]
  },
  {
   "cell_type": "code",
   "execution_count": 20,
   "id": "6f2b6f9d",
   "metadata": {},
   "outputs": [],
   "source": [
    "def jsonfy(j):\n",
    "    if j is None:\n",
    "        return {}\n",
    "    return json.loads(str(j))\n",
    "\n",
    "df[\"transactionReturnRollupDataV2_accountMap\"] = df[\"transactionReturnRollupDataV2_accountMap\"].apply(jsonfy)"
   ]
  },
  {
   "cell_type": "code",
   "execution_count": 25,
   "id": "15dbbd85",
   "metadata": {},
   "outputs": [],
   "source": [
    "def get_bid(d):\n",
    "    l = list(d.keys())\n",
    "    if len(l) > 0:\n",
    "        return l[0]\n",
    "    return None\n",
    "\n",
    "df[\"business_account_number\"] = df[\"transactionReturnRollupDataV2_accountMap\"].apply(get_bid)"
   ]
  },
  {
   "cell_type": "code",
   "execution_count": 27,
   "id": "56aa20e7",
   "metadata": {},
   "outputs": [
    {
     "data": {
      "text/plain": [
       "290077"
      ]
     },
     "execution_count": 27,
     "metadata": {},
     "output_type": "execute_result"
    }
   ],
   "source": [
    "df[\"business_account_number\"].nunique()"
   ]
  },
  {
   "cell_type": "code",
   "execution_count": 26,
   "id": "8f8280b7",
   "metadata": {},
   "outputs": [
    {
     "data": {
      "text/plain": [
       "null            186421\n",
       "410005119171      3679\n",
       "410000329662      3064\n",
       "410014552320      2240\n",
       "410004777047      2195\n",
       "                 ...  \n",
       "410013917404         1\n",
       "410011484372         1\n",
       "410008442344         1\n",
       "410003980891         1\n",
       "410006652084         1\n",
       "Name: business_account_number, Length: 290077, dtype: int64"
      ]
     },
     "execution_count": 26,
     "metadata": {},
     "output_type": "execute_result"
    }
   ],
   "source": [
    "df[\"business_account_number\"].value_counts()"
   ]
  },
  {
   "cell_type": "code",
   "execution_count": 9,
   "id": "a3744211",
   "metadata": {},
   "outputs": [
    {
     "data": {
      "text/plain": [
       "<AxesSubplot:>"
      ]
     },
     "execution_count": 9,
     "metadata": {},
     "output_type": "execute_result"
    },
    {
     "data": {
      "image/png": "[encoded data removed]",
      "text/plain": [
       "<Figure size 432x288 with 1 Axes>"
      ]
     },
     "metadata": {
      "needs_background": "light"
     },
     "output_type": "display_data"
    }
   ],
   "source": [
    "df[\"created_dt\"] = pd.to_datetime(df[\"created_dt\"])\n",
    "df.created_dt.hist(bins=100)"
   ]
  },
  {
   "cell_type": "code",
   "execution_count": 12,
   "id": "177579b3",
   "metadata": {},
   "outputs": [
    {
     "data": {
      "text/plain": [
       "{'@type': 'MoneyCacheDataV2',\n",
       " 'tmxData': {'version': \"'ZtrhMFCtWORH0DPS18fubiBH0unZcbgxZz8+6wL5Irc='\",\n",
       "  'dnsIpLatitude': 39.99558,\n",
       "  'dnsIpLongitude': -82.99946,\n",
       "  'trueIpLatitude': 38.01602,\n",
       "  'trueIpLongitude': -84.48788,\n",
       "  'lastModifiedDate': '2021-08-16T22:03:28.45194Z',\n",
       "  'summaryRiskScore': 0.0,\n",
       "  'trueIpWorstScore': 0.0,\n",
       "  'digitalIdTrustScore': 79.0,\n",
       "  'accountAddressZipLatitude': 38.001,\n",
       "  'accountAddressZipLongitude': -84.5282},\n",
       " 'giactData': {'version': \"'F5VWWeQTIijw0i7l17WG43TCOJRkLnveyqSVZ3Oj6ao='\",\n",
       "  'lastModifiedDate': '2021-08-05T11:55:27.242435Z',\n",
       "  'customerDeniedCount': 0,\n",
       "  'giactAccountDetails': [{'@type': 'GiactAccountDetailsV3',\n",
       "    'decisionDate': '2020-12-01T15:36:53.847216',\n",
       "    'linkedAccountId': '3031054451',\n",
       "    'linkingDecision': 'PASS',\n",
       "    'linkingResultId': 'b2b5e905-2222-4f8d-8fe4-bd1f9f880f9e',\n",
       "    'giactDetailsSource': {'@type': '.GiactDetailsSource$MoneyLinking',\n",
       "     'linkingResultId': 'b2b5e905-2222-4f8d-8fe4-bd1f9f880f9e'},\n",
       "    'giactResponseCreatedDt': '2020-12-01T15:36:53.847216Z',\n",
       "    'linkedAccountRoutingNumber': '083000108'}],\n",
       "  'lastLinkAttemptDate': '2020-12-01',\n",
       "  'failedMicroDepositCount': 0,\n",
       "  'totalGiactResponseCount': 1,\n",
       "  'passedGiactResponseCount': 0,\n",
       "  'failedLinkingAccountCount': 0,\n",
       "  'declinedGiactResponseCount': 0,\n",
       "  'thirdPartyNameMismatchCount': 0,\n",
       "  'failedMicroDepositCount30Days': 0,\n",
       "  'failedLinkingAccountCount30Days': 0,\n",
       "  'nameMismatchOrGiactCustomerFailedCount': 0},\n",
       " 'partyData': {'version': \"'JAQs51zCUM1tXNtdmbol85gM7uNIbsmV/Vuk9MC18to='\",\n",
       "  'lastModifiedDate': '2021-08-05T11:55:27.249954Z',\n",
       "  'citizenshipStatus': 'CITIZEN'},\n",
       " 'creditData': {'fico': 690,\n",
       "  'all0300': 14,\n",
       "  'all7120': 114,\n",
       "  'all8220': 193,\n",
       "  'bcc2800': 0,\n",
       "  'bcc7120': 12,\n",
       "  'bcx3423': 0,\n",
       "  'iln5520': 61155,\n",
       "  'iqt9413': 1,\n",
       "  'iqt9415': 1,\n",
       "  'iqt9846': 400,\n",
       "  'mtf5820': 999999998,\n",
       "  'stu5031': 69441,\n",
       "  'vantage': 725,\n",
       "  'version': \"'dAMP0GKWd4ZzikV+TB67EgSuqcuczRlxYxsf4fh3mqc='\",\n",
       "  'creditScoreId': 15912305,\n",
       "  'autoLoanAmount': 0,\n",
       "  'lastModifiedDate': '2021-08-19T12:33:34.015012Z',\n",
       "  'securedLoanAmount': 0,\n",
       "  'creditPullDateTime': '2020-11-17T02:26:45Z',\n",
       "  'mortgageLoanAmount': 0,\n",
       "  'educationLoanAmount': 69441,\n",
       "  'totalTradelinesOpen': 7,\n",
       "  'unsecuredLoanAmount': 0,\n",
       "  'creditCardLoanAmount': 345,\n",
       "  'delinquenciesNinetyDays': 12,\n",
       "  'totalOutstandingBalance': 70766,\n",
       "  'experianIdentityVerifications': {'dobVerified': False,\n",
       "   'ssnVerified': True,\n",
       "   'nameVerified': True,\n",
       "   'addressVerified': True}},\n",
       " 'investData': {'@type': 'InvestData',\n",
       "  'version': \"'Co4Pyd7SkEfdTEBO+IaFTrlOf0jGHhOxLPE4zztNxQ8='\",\n",
       "  'investData': [],\n",
       "  'lastModifiedDate': '2021-08-16T22:03:28.44091Z'},\n",
       " 'socureData': {'date': '2020-11-17T02:26:47.684913Z',\n",
       "  'version': \"'0OxNhgZWaEesa9nWQscH+m6DDsKUDCqynOAWQAieCFs='\",\n",
       "  'emailRisk': 0.295,\n",
       "  'phoneRisk': 0.424,\n",
       "  'sigmaScore': 0.009,\n",
       "  'kycDobScore': 0.99,\n",
       "  'kycSsnScore': 0.99,\n",
       "  'kycZipScore': 0.99,\n",
       "  'genericScore': 0.0297,\n",
       "  'kycCityScore': 0.99,\n",
       "  'kycStateScore': 0.99,\n",
       "  'kycSurnameScore': 0.99,\n",
       "  'thirdPartyRawId': '8014a600-aff0-4ed8-855b-22356313c3c5',\n",
       "  'addressRiskScore': 0.995,\n",
       "  'lastModifiedDate': '2021-08-16T22:03:28.433031Z',\n",
       "  'kycFirstnameScore': 0.99,\n",
       "  'allSocureReasonCodes': ['I196',\n",
       "   'R720',\n",
       "   'I351',\n",
       "   'I630',\n",
       "   'I553',\n",
       "   'I711',\n",
       "   'R705',\n",
       "   'I556',\n",
       "   'I611',\n",
       "   'R607',\n",
       "   'I555',\n",
       "   'I558',\n",
       "   'I557',\n",
       "   'I614',\n",
       "   'I618',\n",
       "   'R610',\n",
       "   'I121',\n",
       "   'R919',\n",
       "   'I620',\n",
       "   'I520',\n",
       "   'I127',\n",
       "   'I602',\n",
       "   'I621',\n",
       "   'I622',\n",
       "   'I705',\n",
       "   'I626',\n",
       "   'I707'],\n",
       "  'kycMobileNumberScore': 0.01,\n",
       "  'nameEmailCorrelation': 0.9999,\n",
       "  'namePhoneCorrelation': 0.9999,\n",
       "  'kycStreetAddressScore': 0.01,\n",
       "  'nameAddressCorrelation': 0.1843},\n",
       " 'fundedPLData': {'version': \"'tSpxZd6Hsyhksy42JGca3wn/qwr9tEcHtnSJvHYuWPM='\",\n",
       "  'lastModifiedDate': '2021-08-16T22:03:28.418168Z'},\n",
       " 'accountDataV2': {'version': \"'cGb6+ie9ulUI3wPwwxEj+Go6DKrDwwt/tnGQpDkcZRM='\",\n",
       "  'accountMap': {'410009697215': {'status': 'ACTIVE',\n",
       "    'isRestricted': False,\n",
       "    'accountNumber': 410009697215,\n",
       "    'isPrimaryParty': True,\n",
       "    'accountOpenedDate': '2020-11-16'}},\n",
       "  'lastModifiedDate': '2021-08-13T12:44:45.56326Z'},\n",
       " 'riskGroupData': {'version': \"'MYoXQQVgfw+4RgOkR5LuYv5tSsQBO1EhU88tj8TbuOc='\",\n",
       "  'riskGroup': 'RG1',\n",
       "  'lastModifiedDate': '2021-08-18T03:05:43.172777Z'},\n",
       " 'employmentData': {'version': \"'dLH+d3rmYUcU4f5oA2E3KnQxMfdedVuE5XK9N6QbSwA='\",\n",
       "  'employmentDatum': {'selfEmployed': False,\n",
       "   'employmentStartDate': '2021-05-01',\n",
       "   'compensationSourceId': 16760334},\n",
       "  'lastModifiedDate': '2021-08-05T11:55:27.237289Z'},\n",
       " 'fundedREFIData': {'version': \"'VsYVvT+ZsPNpjM8P0k2GQNh3S6ByDl/mRANkStNIFE4='\",\n",
       "  'lastModifiedDate': '2021-08-16T22:03:28.422453Z'},\n",
       " 'transactionRollupDataV2': {'version': \"'pLjd0mn6HnqdSx6Ee8REPe49dM6LCKaWGLitT/xsFF8='\",\n",
       "  'accountMap': {'410009697215': {'lifetimeDebits': 4485.86,\n",
       "    'allReturnsCount': 0,\n",
       "    'lifetimeCredits': 4650.68,\n",
       "    'returnCodeCount': 0,\n",
       "    'initialDepositDate': '2020-12-01T16:01:53Z',\n",
       "    'number1KWithdrawal': 0,\n",
       "    'chargeBackCodeCount': 0,\n",
       "    'accountEndingBalance': 140.85,\n",
       "    'firstUserDepositDate': '2020-12-01T16:01:53Z',\n",
       "    'directDepositCodeCount': 0,\n",
       "    'firstUserDepositAmount': 235.0,\n",
       "    'mostRecentTransactionCode': 'DDTRF',\n",
       "    'mostRecentTransactionDate': '2021-08-24T12:08:18-04:00',\n",
       "    'lifetimeDollarValueReturns': 0,\n",
       "    'qualifyingTransactionCount': 864,\n",
       "    'customerModelDepositCodeCount': 33,\n",
       "    'customerModelFirstDepositAmount': 235.0,\n",
       "    'lifetimeDollarValueDirectDeposits': 0,\n",
       "    'signedMostRecentTransactionAmount': 0.36,\n",
       "    'mostRecentQualifyingTransactionCode': 'DDTRF',\n",
       "    'mostRecentQualifyingTransactionDate': '2021-08-24T12:08:18-04:00',\n",
       "    'previousMostRecentQualifyingTransactionDate': '2021-08-24T16:08:18Z',\n",
       "    'signedMostRecentQualifyingTransactionAmount': 0.36}},\n",
       "  'lastModifiedDate': '2021-07-21T17:01:25.508095Z'},\n",
       " 'investBalanceHistoryData': {'lastModifiedDate': '2021-08-24T00:00:12.910402Z',\n",
       "  'recentAverageBalance': 0.0,\n",
       "  'investBalanceHistoryMap': {'2021-08-14': 0,\n",
       "   '2021-08-15': 0,\n",
       "   '2021-08-16': 0,\n",
       "   '2021-08-17': 0,\n",
       "   '2021-08-18': 0,\n",
       "   '2021-08-19': 0,\n",
       "   '2021-08-20': 0,\n",
       "   '2021-08-21': 0,\n",
       "   '2021-08-22': 0,\n",
       "   '2021-08-23': 0,\n",
       "   '2021-08-24': 0}},\n",
       " 'pendingDepositRollupDataV2': {'version': \"'UXlBMEPdIzjipGePZTxav2AZKjMLm41/kHsQwYJHcZ0='\",\n",
       "  'accountMap': {'410009697215': {'linkedAccountDeposits': [{'linkedAccountId': '3031054451',\n",
       "      'numPendingDepositsLast24Hours': 2}]}},\n",
       "  'lastModifiedDate': '2021-08-24T16:33:58.223777Z'},\n",
       " 'transactionReturnRollupDataV2': {'version': 'default',\n",
       "  'accountMap': {'410009697215': {'last30DaysReturnRollup': []}},\n",
       "  'lastModifiedDate': '2021-07-21T17:01:25.508099Z'}}"
      ]
     },
     "execution_count": 12,
     "metadata": {},
     "output_type": "execute_result"
    }
   ],
   "source": [
    "import json\n",
    "\n",
    "j = \"\"\"\n",
    "{\"@type\": \"MoneyCacheDataV2\", \"tmxData\": {\"version\": \"'ZtrhMFCtWORH0DPS18fubiBH0unZcbgxZz8+6wL5Irc='\", \"dnsIpLatitude\": 39.99558, \"dnsIpLongitude\": -82.99946, \"trueIpLatitude\": 38.01602, \"trueIpLongitude\": -84.48788, \"lastModifiedDate\": \"2021-08-16T22:03:28.45194Z\", \"summaryRiskScore\": 0.0, \"trueIpWorstScore\": 0.0, \"digitalIdTrustScore\": 79.0, \"accountAddressZipLatitude\": 38.001, \"accountAddressZipLongitude\": -84.5282}, \"giactData\": {\"version\": \"'F5VWWeQTIijw0i7l17WG43TCOJRkLnveyqSVZ3Oj6ao='\", \"lastModifiedDate\": \"2021-08-05T11:55:27.242435Z\", \"customerDeniedCount\": 0, \"giactAccountDetails\": [{\"@type\": \"GiactAccountDetailsV3\", \"decisionDate\": \"2020-12-01T15:36:53.847216\", \"linkedAccountId\": \"3031054451\", \"linkingDecision\": \"PASS\", \"linkingResultId\": \"b2b5e905-2222-4f8d-8fe4-bd1f9f880f9e\", \"giactDetailsSource\": {\"@type\": \".GiactDetailsSource$MoneyLinking\", \"linkingResultId\": \"b2b5e905-2222-4f8d-8fe4-bd1f9f880f9e\"}, \"giactResponseCreatedDt\": \"2020-12-01T15:36:53.847216Z\", \"linkedAccountRoutingNumber\": \"083000108\"}], \"lastLinkAttemptDate\": \"2020-12-01\", \"failedMicroDepositCount\": 0, \"totalGiactResponseCount\": 1, \"passedGiactResponseCount\": 0, \"failedLinkingAccountCount\": 0, \"declinedGiactResponseCount\": 0, \"thirdPartyNameMismatchCount\": 0, \"failedMicroDepositCount30Days\": 0, \"failedLinkingAccountCount30Days\": 0, \"nameMismatchOrGiactCustomerFailedCount\": 0}, \"partyData\": {\"version\": \"'JAQs51zCUM1tXNtdmbol85gM7uNIbsmV/Vuk9MC18to='\", \"lastModifiedDate\": \"2021-08-05T11:55:27.249954Z\", \"citizenshipStatus\": \"CITIZEN\"}, \"creditData\": {\"fico\": 690, \"all0300\": 14, \"all7120\": 114, \"all8220\": 193, \"bcc2800\": 0, \"bcc7120\": 12, \"bcx3423\": 0, \"iln5520\": 61155, \"iqt9413\": 1, \"iqt9415\": 1, \"iqt9846\": 400, \"mtf5820\": 999999998, \"stu5031\": 69441, \"vantage\": 725, \"version\": \"'dAMP0GKWd4ZzikV+TB67EgSuqcuczRlxYxsf4fh3mqc='\", \"creditScoreId\": 15912305, \"autoLoanAmount\": 0, \"lastModifiedDate\": \"2021-08-19T12:33:34.015012Z\", \"securedLoanAmount\": 0, \"creditPullDateTime\": \"2020-11-17T02:26:45Z\", \"mortgageLoanAmount\": 0, \"educationLoanAmount\": 69441, \"totalTradelinesOpen\": 7, \"unsecuredLoanAmount\": 0, \"creditCardLoanAmount\": 345, \"delinquenciesNinetyDays\": 12, \"totalOutstandingBalance\": 70766, \"experianIdentityVerifications\": {\"dobVerified\": false, \"ssnVerified\": true, \"nameVerified\": true, \"addressVerified\": true}}, \"investData\": {\"@type\": \"InvestData\", \"version\": \"'Co4Pyd7SkEfdTEBO+IaFTrlOf0jGHhOxLPE4zztNxQ8='\", \"investData\": [], \"lastModifiedDate\": \"2021-08-16T22:03:28.44091Z\"}, \"socureData\": {\"date\": \"2020-11-17T02:26:47.684913Z\", \"version\": \"'0OxNhgZWaEesa9nWQscH+m6DDsKUDCqynOAWQAieCFs='\", \"emailRisk\": 0.295, \"phoneRisk\": 0.424, \"sigmaScore\": 0.009, \"kycDobScore\": 0.99, \"kycSsnScore\": 0.99, \"kycZipScore\": 0.99, \"genericScore\": 0.0297, \"kycCityScore\": 0.99, \"kycStateScore\": 0.99, \"kycSurnameScore\": 0.99, \"thirdPartyRawId\": \"8014a600-aff0-4ed8-855b-22356313c3c5\", \"addressRiskScore\": 0.995, \"lastModifiedDate\": \"2021-08-16T22:03:28.433031Z\", \"kycFirstnameScore\": 0.99, \"allSocureReasonCodes\": [\"I196\", \"R720\", \"I351\", \"I630\", \"I553\", \"I711\", \"R705\", \"I556\", \"I611\", \"R607\", \"I555\", \"I558\", \"I557\", \"I614\", \"I618\", \"R610\", \"I121\", \"R919\", \"I620\", \"I520\", \"I127\", \"I602\", \"I621\", \"I622\", \"I705\", \"I626\", \"I707\"], \"kycMobileNumberScore\": 0.01, \"nameEmailCorrelation\": 0.9999, \"namePhoneCorrelation\": 0.9999, \"kycStreetAddressScore\": 0.01, \"nameAddressCorrelation\": 0.1843}, \"fundedPLData\": {\"version\": \"'tSpxZd6Hsyhksy42JGca3wn/qwr9tEcHtnSJvHYuWPM='\", \"lastModifiedDate\": \"2021-08-16T22:03:28.418168Z\"}, \"accountDataV2\": {\"version\": \"'cGb6+ie9ulUI3wPwwxEj+Go6DKrDwwt/tnGQpDkcZRM='\", \"accountMap\": {\"410009697215\": {\"status\": \"ACTIVE\", \"isRestricted\": false, \"accountNumber\": 410009697215, \"isPrimaryParty\": true, \"accountOpenedDate\": \"2020-11-16\"}}, \"lastModifiedDate\": \"2021-08-13T12:44:45.56326Z\"}, \"riskGroupData\": {\"version\": \"'MYoXQQVgfw+4RgOkR5LuYv5tSsQBO1EhU88tj8TbuOc='\", \"riskGroup\": \"RG1\", \"lastModifiedDate\": \"2021-08-18T03:05:43.172777Z\"}, \"employmentData\": {\"version\": \"'dLH+d3rmYUcU4f5oA2E3KnQxMfdedVuE5XK9N6QbSwA='\", \"employmentDatum\": {\"selfEmployed\": false, \"employmentStartDate\": \"2021-05-01\", \"compensationSourceId\": 16760334}, \"lastModifiedDate\": \"2021-08-05T11:55:27.237289Z\"}, \"fundedREFIData\": {\"version\": \"'VsYVvT+ZsPNpjM8P0k2GQNh3S6ByDl/mRANkStNIFE4='\", \"lastModifiedDate\": \"2021-08-16T22:03:28.422453Z\"}, \"transactionRollupDataV2\": {\"version\": \"'pLjd0mn6HnqdSx6Ee8REPe49dM6LCKaWGLitT/xsFF8='\", \"accountMap\": {\"410009697215\": {\"lifetimeDebits\": 4485.86, \"allReturnsCount\": 0, \"lifetimeCredits\": 4650.68, \"returnCodeCount\": 0, \"initialDepositDate\": \"2020-12-01T16:01:53Z\", \"number1KWithdrawal\": 0, \"chargeBackCodeCount\": 0, \"accountEndingBalance\": 140.85, \"firstUserDepositDate\": \"2020-12-01T16:01:53Z\", \"directDepositCodeCount\": 0, \"firstUserDepositAmount\": 235.0, \"mostRecentTransactionCode\": \"DDTRF\", \"mostRecentTransactionDate\": \"2021-08-24T12:08:18-04:00\", \"lifetimeDollarValueReturns\": 0, \"qualifyingTransactionCount\": 864, \"customerModelDepositCodeCount\": 33, \"customerModelFirstDepositAmount\": 235.0, \"lifetimeDollarValueDirectDeposits\": 0, \"signedMostRecentTransactionAmount\": 0.36, \"mostRecentQualifyingTransactionCode\": \"DDTRF\", \"mostRecentQualifyingTransactionDate\": \"2021-08-24T12:08:18-04:00\", \"previousMostRecentQualifyingTransactionDate\": \"2021-08-24T16:08:18Z\", \"signedMostRecentQualifyingTransactionAmount\": 0.36}}, \"lastModifiedDate\": \"2021-07-21T17:01:25.508095Z\"}, \"investBalanceHistoryData\": {\"lastModifiedDate\": \"2021-08-24T00:00:12.910402Z\", \"recentAverageBalance\": 0.00, \"investBalanceHistoryMap\": {\"2021-08-14\": 0, \"2021-08-15\": 0, \"2021-08-16\": 0, \"2021-08-17\": 0, \"2021-08-18\": 0, \"2021-08-19\": 0, \"2021-08-20\": 0, \"2021-08-21\": 0, \"2021-08-22\": 0, \"2021-08-23\": 0, \"2021-08-24\": 0}}, \"pendingDepositRollupDataV2\": {\"version\": \"'UXlBMEPdIzjipGePZTxav2AZKjMLm41/kHsQwYJHcZ0='\", \"accountMap\": {\"410009697215\": {\"linkedAccountDeposits\": [{\"linkedAccountId\": \"3031054451\", \"numPendingDepositsLast24Hours\": 2}]}}, \"lastModifiedDate\": \"2021-08-24T16:33:58.223777Z\"}, \"transactionReturnRollupDataV2\": {\"version\": \"default\", \"accountMap\": {\"410009697215\": {\"last30DaysReturnRollup\": []}}, \"lastModifiedDate\": \"2021-07-21T17:01:25.508099Z\"}}\n",
    "\"\"\"\n",
    "json.loads(j)"
   ]
  },
  {
   "cell_type": "code",
   "execution_count": null,
   "id": "1f9aa935",
   "metadata": {},
   "outputs": [],
   "source": []
  }
 ],
 "metadata": {
  "kernelspec": {
   "display_name": "conda_customer_risk",
   "language": "python",
   "name": "conda_customer_risk"
  },
  "language_info": {
   "codemirror_mode": {
    "name": "ipython",
    "version": 3
   },
   "file_extension": ".py",
   "mimetype": "text/x-python",
   "name": "python",
   "nbconvert_exporter": "python",
   "pygments_lexer": "ipython3",
   "version": "3.7.10"
  }
 },
 "nbformat": 4,
 "nbformat_minor": 5
}
