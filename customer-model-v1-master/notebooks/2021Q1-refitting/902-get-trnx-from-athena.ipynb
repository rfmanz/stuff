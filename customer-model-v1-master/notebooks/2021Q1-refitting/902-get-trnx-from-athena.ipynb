{
 "cells": [
  {
   "cell_type": "markdown",
   "metadata": {},
   "source": [
    "### Athena\n",
    "---\n",
    "query from db\n",
    "\n",
    "#### Map mct.transaction_sequence = dtj.tseq"
   ]
  },
  {
   "cell_type": "code",
   "execution_count": 12,
   "metadata": {},
   "outputs": [],
   "source": [
    "profile_db = 'datalake_production_profile_reporting'\n",
    "profile_db_query = f\"\"\"\n",
    "SELECT tjd,\n",
    "         dtj.time,\n",
    "         dtj.cid AS business_account_number,\n",
    "         cdt AS created_dt,\n",
    "         endbal,\n",
    "         dtj.etc AS transaction_code,\n",
    "         dtj.tcmt AS transaction_comment,\n",
    "         tamt AS transaction_amount,\n",
    "         trn.dc AS is_credit,\n",
    "         cif.zsofiid AS user_id,\n",
    "         split_part(split_part(tso, 'RCID#', 2), '~', 1) AS external_account_number, \n",
    "         split_part(split_part(dtj.tso, 'RINS#', 2), '~', 1) AS external_institution_id, \n",
    "         split_part(split_part(dtj.tso, 'ACHCOID#', 2), '~', 1) AS originating_company_id, \n",
    "         split_part(split_part(dtj.tso, 'ACHID#', 2), '~', 1) AS external_institution_trans_id, \n",
    "         split_part(split_part(dtj.tso, 'ACHODFI#', 2), '~', 1) AS originator_dfi_id, \n",
    "         auth.merchnm AS merchant_name\n",
    "FROM {profile_db}.dtj\n",
    "LEFT JOIN {profile_db}.authdtl auth\n",
    "    ON auth.authid = split_part(split_part(dtj.tso, 'AUTHID#', 2), '~', 1)\n",
    "        AND dtj.tso LIKE '%AUTHID#%'\n",
    "JOIN {profile_db}.dep\n",
    "    ON dep.cid = dtj.cid\n",
    "JOIN {profile_db}.cif\n",
    "    ON cif.acn = dep.acn\n",
    "LEFT JOIN {profile_db}.trn\n",
    "    ON dtj.etc = trn.etc\n",
    "WHERE endbal is NOT Null\n",
    "        AND tamt is NOT Null\n",
    "        AND tamt NOT LIKE '%#%'\n",
    "\"\"\""
   ]
  },
  {
   "cell_type": "code",
   "execution_count": null,
   "metadata": {},
   "outputs": [],
   "source": []
  },
  {
   "cell_type": "code",
   "execution_count": 2,
   "metadata": {},
   "outputs": [],
   "source": [
    "!pip install -q pyathena[pandas]"
   ]
  },
  {
   "cell_type": "code",
   "execution_count": 78,
   "metadata": {},
   "outputs": [],
   "source": [
    "from pyathena import connect\n",
    "import pandas as pd"
   ]
  },
  {
   "cell_type": "code",
   "execution_count": 80,
   "metadata": {},
   "outputs": [],
   "source": [
    "conn = connect(s3_staging_dir='s3://sofi-data-science/jxu/data_dump/ach_risk_transactions_profile_db')\n",
    "df = pd.read_sql(profile_db_query, conn)"
   ]
  },
  {
   "cell_type": "code",
   "execution_count": 81,
   "metadata": {},
   "outputs": [],
   "source": [
    "mm_db = 'datalake_production_money_monitoring'\n",
    "mm_query = f'''SELECT mct.transaction_date AS transaction_datetime,\n",
    "         mct.money_account_id AS business_account_number,\n",
    "         mct.created_dt,\n",
    "         mct.transaction_current_balance as endbal,\n",
    "         mct.transaction_code,\n",
    "         mct.transaction_amount,\n",
    "         not CAST(mct.debit AS boolean) AS is_credit,\n",
    "         cif.zsofiid AS user_id\n",
    "FROM datalake_production_money_monitoring.money_cache_transaction as mct\n",
    "JOIN datalake_production_profile_reporting.dep\n",
    "   ON CAST(dep.cid AS varchar) = mct.money_account_id\n",
    "JOIN datalake_production_profile_reporting.cif\n",
    "    ON cif.acn = dep.acn\n",
    "LEFT JOIN datalake_production_profile_reporting.trn\n",
    "    ON mct.transaction_code = trn.etc\n",
    "WHERE mct.transaction_current_balance is NOT Null\n",
    "        AND mct.transaction_amount is NOT Null'''\n",
    "\n",
    "conn = connect(s3_staging_dir='s3://sofi-data-science/jxu/data_dump/ach_risk_transactions_mm')\n",
    "df_mm = pd.read_sql(mm_query, conn)"
   ]
  },
  {
   "cell_type": "code",
   "execution_count": 21,
   "metadata": {},
   "outputs": [],
   "source": [
    "df.to_parquet('../data/transaction_data/dl_profile_reporting_db.parque')"
   ]
  },
  {
   "cell_type": "code",
   "execution_count": 82,
   "metadata": {},
   "outputs": [],
   "source": [
    "df_mm.to_parquet('../data/transaction_data/dl_transaction_data_from_mm.parquet')"
   ]
  },
  {
   "cell_type": "code",
   "execution_count": null,
   "metadata": {},
   "outputs": [],
   "source": []
  },
  {
   "cell_type": "markdown",
   "metadata": {},
   "source": [
    "### Check differences across three datasets\n",
    "---\n"
   ]
  },
  {
   "cell_type": "code",
   "execution_count": 2,
   "metadata": {},
   "outputs": [],
   "source": [
    "import numpy as np\n",
    "import pandas as pd\n",
    "import seaborn as sns\n",
    "import warnings\n",
    "\n",
    "warnings.filterwarnings(action='ignore')"
   ]
  },
  {
   "cell_type": "code",
   "execution_count": 3,
   "metadata": {},
   "outputs": [],
   "source": [
    "df_mmc = pd.read_parquet('../data/transaction_data/dl_money_monitoring_cache.parquet')\n",
    "df_athena_pr = pd.read_parquet('../data/transaction_data/dl_profile_reporting_db.parquet')\n",
    "df_psql_pr = pd.read_parquet('../data/transaction_data/psql_profile_reporting_db.parquet')\n",
    "dfs = [df_mmc, df_athena_pr, df_psql_pr]"
   ]
  },
  {
   "cell_type": "markdown",
   "metadata": {},
   "source": [
    "#### set datetime"
   ]
  },
  {
   "cell_type": "code",
   "execution_count": 4,
   "metadata": {},
   "outputs": [],
   "source": [
    "df_psql_pr['transaction_datetime'] = pd.to_datetime((df_psql_pr['tjd'].astype(str) + ' ' + \\\n",
    "                                                          df_psql_pr['time']), \n",
    "                                                          format='%Y-%m-%d %H:%M:%S', \n",
    "                                                          errors='coerce').dt.tz_localize(None)\n",
    "# THIS MAY BE WRONG!\n",
    "df_athena_pr['time'] = df_athena_pr.time.dt.strftime('%H:%M:%S') \n",
    "df_athena_pr['transaction_datetime'] = pd.to_datetime((df_athena_pr['tjd'].astype(str) + ' ' + \\\n",
    "                                                          df_athena_pr['time']), \n",
    "                                                          format='%Y-%m-%d %H:%M:%S', \n",
    "                                                          errors='coerce').dt.tz_localize(None)\n",
    "df_mmc['transaction_datetime'] = df_mmc['transaction_date']"
   ]
  },
  {
   "cell_type": "markdown",
   "metadata": {},
   "source": [
    "#### Clip dates"
   ]
  },
  {
   "cell_type": "code",
   "execution_count": 5,
   "metadata": {},
   "outputs": [],
   "source": [
    "df_psql_pr = df_psql_pr[df_psql_pr.transaction_datetime.between(pd.to_datetime('2019-01-01'),\n",
    "                                                                pd.to_datetime('2020-05-31'))]\n",
    "df_athena_pr = df_athena_pr[df_athena_pr.transaction_datetime.between(pd.to_datetime('2019-01-01'),\n",
    "                                                                pd.to_datetime('2020-05-31'))]\n",
    "df_mmc = df_mmc[df_mmc.transaction_datetime.between(pd.to_datetime('2019-01-01'),\n",
    "                                                                pd.to_datetime('2020-05-31'))]"
   ]
  },
  {
   "cell_type": "markdown",
   "metadata": {},
   "source": [
    "#### checkout columns we have"
   ]
  },
  {
   "cell_type": "code",
   "execution_count": 6,
   "metadata": {},
   "outputs": [
    {
     "data": {
      "text/plain": [
       "Index(['dms_export_timestamp', 'money_cache_transaction_id', 'money_cache_id',\n",
       "       'money_account_id', 'money_message_hash', 'transaction_amount',\n",
       "       'transaction_date', 'transaction_type', 'transaction_code',\n",
       "       'transaction_current_balance', 'transaction_category', 'debit',\n",
       "       'created_by', 'created_dt', 'updated_by', 'updated_dt',\n",
       "       'transaction_sequence', 'transaction_datetime'],\n",
       "      dtype='object')"
      ]
     },
     "execution_count": 6,
     "metadata": {},
     "output_type": "execute_result"
    }
   ],
   "source": [
    "df_mmc.columns"
   ]
  },
  {
   "cell_type": "code",
   "execution_count": 7,
   "metadata": {},
   "outputs": [
    {
     "data": {
      "text/plain": [
       "Index(['tjd', 'time', 'business_account_number', 'created_dt', 'endbal',\n",
       "       'transaction_code', 'transaction_comment', 'transaction_amount',\n",
       "       'is_credit', 'user_id', 'external_account_number',\n",
       "       'external_institution_id', 'originating_company_id',\n",
       "       'external_institution_trans_id', 'originator_dfi_id', 'merchant_name',\n",
       "       'transaction_datetime'],\n",
       "      dtype='object')"
      ]
     },
     "execution_count": 7,
     "metadata": {},
     "output_type": "execute_result"
    }
   ],
   "source": [
    "# df_***_pr should have the same columns and data\n",
    "\n",
    "df_athena_pr.columns"
   ]
  },
  {
   "cell_type": "code",
   "execution_count": 8,
   "metadata": {},
   "outputs": [
    {
     "data": {
      "text/plain": [
       "Index(['tjd', 'time', 'business_account_number', 'created_dt', 'endbal',\n",
       "       'transaction_code', 'transaction_comment', 'transaction_amount',\n",
       "       'is_credit', 'user_id', 'external_account_number',\n",
       "       'external_institution_id', 'originating_company_id',\n",
       "       'external_institution_trans_id', 'originator_dfi_id', 'merchant_name',\n",
       "       'transaction_datetime'],\n",
       "      dtype='object')"
      ]
     },
     "execution_count": 8,
     "metadata": {},
     "output_type": "execute_result"
    }
   ],
   "source": [
    "df_psql_pr.columns"
   ]
  },
  {
   "cell_type": "markdown",
   "metadata": {},
   "source": [
    "#### Compare df_mmc and df_psql_pr"
   ]
  },
  {
   "cell_type": "code",
   "execution_count": 9,
   "metadata": {},
   "outputs": [],
   "source": [
    "mmc_ids = sorted(df_mmc.money_account_id.unique())\n",
    "psql_pr_ids = sorted(df_psql_pr.business_account_number.unique())"
   ]
  },
  {
   "cell_type": "code",
   "execution_count": 10,
   "metadata": {},
   "outputs": [],
   "source": [
    "df_mmc['money_account_id'] = df_mmc.money_account_id.astype(int)"
   ]
  },
  {
   "cell_type": "code",
   "execution_count": 11,
   "metadata": {},
   "outputs": [
    {
     "data": {
      "text/plain": [
       "Index(['dms_export_timestamp', 'money_cache_transaction_id', 'money_cache_id',\n",
       "       'money_account_id', 'money_message_hash', 'transaction_amount',\n",
       "       'transaction_date', 'transaction_type', 'transaction_code',\n",
       "       'transaction_current_balance', 'transaction_category', 'debit',\n",
       "       'created_by', 'created_dt', 'updated_by', 'updated_dt',\n",
       "       'transaction_sequence', 'transaction_datetime'],\n",
       "      dtype='object')"
      ]
     },
     "execution_count": 11,
     "metadata": {},
     "output_type": "execute_result"
    }
   ],
   "source": [
    "df_mmc.columns"
   ]
  },
  {
   "cell_type": "code",
   "execution_count": 12,
   "metadata": {},
   "outputs": [
    {
     "name": "stdout",
     "output_type": "stream",
     "text": [
      "<class 'pandas.core.frame.DataFrame'>\n",
      "Int64Index: 10650251 entries, 0 to 13162923\n",
      "Data columns (total 17 columns):\n",
      " #   Column                         Dtype         \n",
      "---  ------                         -----         \n",
      " 0   tjd                            object        \n",
      " 1   time                           object        \n",
      " 2   business_account_number        int64         \n",
      " 3   created_dt                     object        \n",
      " 4   endbal                         float64       \n",
      " 5   transaction_code               object        \n",
      " 6   transaction_comment            object        \n",
      " 7   transaction_amount             object        \n",
      " 8   is_credit                      int64         \n",
      " 9   user_id                        int64         \n",
      " 10  external_account_number        object        \n",
      " 11  external_institution_id        object        \n",
      " 12  originating_company_id         object        \n",
      " 13  external_institution_trans_id  object        \n",
      " 14  originator_dfi_id              object        \n",
      " 15  merchant_name                  object        \n",
      " 16  transaction_datetime           datetime64[ns]\n",
      "dtypes: datetime64[ns](1), float64(1), int64(3), object(12)\n",
      "memory usage: 1.4+ GB\n"
     ]
    }
   ],
   "source": [
    "df_psql_pr.info()"
   ]
  },
  {
   "cell_type": "code",
   "execution_count": 17,
   "metadata": {},
   "outputs": [
    {
     "data": {
      "text/plain": [
       "Index(['dms_export_timestamp', 'money_cache_transaction_id', 'money_cache_id',\n",
       "       'money_account_id', 'money_message_hash', 'transaction_amount',\n",
       "       'transaction_date', 'transaction_type', 'transaction_code',\n",
       "       'transaction_current_balance', 'transaction_category', 'debit',\n",
       "       'created_by', 'created_dt', 'updated_by', 'updated_dt',\n",
       "       'transaction_sequence', 'transaction_datetime'],\n",
       "      dtype='object')"
      ]
     },
     "execution_count": 17,
     "metadata": {},
     "output_type": "execute_result"
    }
   ],
   "source": [
    "df_mmc.columns"
   ]
  },
  {
   "cell_type": "code",
   "execution_count": 20,
   "metadata": {},
   "outputs": [
    {
     "data": {
      "text/html": [
       "<div>\n",
       "<style scoped>\n",
       "    .dataframe tbody tr th:only-of-type {\n",
       "        vertical-align: middle;\n",
       "    }\n",
       "\n",
       "    .dataframe tbody tr th {\n",
       "        vertical-align: top;\n",
       "    }\n",
       "\n",
       "    .dataframe thead th {\n",
       "        text-align: right;\n",
       "    }\n",
       "</style>\n",
       "<table border=\"1\" class=\"dataframe\">\n",
       "  <thead>\n",
       "    <tr style=\"text-align: right;\">\n",
       "      <th></th>\n",
       "      <th>transaction_current_balance</th>\n",
       "      <th>transaction_amount</th>\n",
       "      <th>transaction_code</th>\n",
       "    </tr>\n",
       "  </thead>\n",
       "  <tbody>\n",
       "    <tr>\n",
       "      <th>0</th>\n",
       "      <td>6.10</td>\n",
       "      <td>4.00</td>\n",
       "      <td>DDATMREFUND</td>\n",
       "    </tr>\n",
       "    <tr>\n",
       "      <th>1</th>\n",
       "      <td>1260.58</td>\n",
       "      <td>18.91</td>\n",
       "      <td>POSDW</td>\n",
       "    </tr>\n",
       "    <tr>\n",
       "      <th>2</th>\n",
       "      <td>69.98</td>\n",
       "      <td>64.98</td>\n",
       "      <td>DWCRDBILLPAY</td>\n",
       "    </tr>\n",
       "    <tr>\n",
       "      <th>3</th>\n",
       "      <td>3473.40</td>\n",
       "      <td>6.37</td>\n",
       "      <td>DWCRDBILLPAY</td>\n",
       "    </tr>\n",
       "    <tr>\n",
       "      <th>4</th>\n",
       "      <td>69.44</td>\n",
       "      <td>11.67</td>\n",
       "      <td>POSDW</td>\n",
       "    </tr>\n",
       "  </tbody>\n",
       "</table>\n",
       "</div>"
      ],
      "text/plain": [
       "   transaction_current_balance  transaction_amount transaction_code\n",
       "0                         6.10                4.00      DDATMREFUND\n",
       "1                      1260.58               18.91            POSDW\n",
       "2                        69.98               64.98     DWCRDBILLPAY\n",
       "3                      3473.40                6.37     DWCRDBILLPAY\n",
       "4                        69.44               11.67            POSDW"
      ]
     },
     "execution_count": 20,
     "metadata": {},
     "output_type": "execute_result"
    }
   ],
   "source": [
    "df_mmc[['transaction_current_balance', 'transaction_amount', 'transaction_code']].head()"
   ]
  },
  {
   "cell_type": "code",
   "execution_count": 70,
   "metadata": {},
   "outputs": [],
   "source": [
    "id_ = 410001985020\n",
    "mmc_cols = ['transaction_datetime', 'money_account_id', 'transaction_type', 'transaction_current_balance', 'transaction_amount', 'transaction_code', 'debit']\n",
    "mmc_sample = df_mmc[df_mmc.money_account_id == id_]\n",
    "mmc_sample = mmc_sample[mmc_cols]\n",
    "mmc_sample = mmc_sample[mmc_sample.transaction_code != 'IIPD']\n",
    "mmc_sample = mmc_sample[~mmc_sample.transaction_type.isna()]\n",
    "\n",
    "pr_cols = ['transaction_datetime', 'business_account_number', 'endbal', 'transaction_amount', 'transaction_code', 'transaction_comment', 'is_credit', 'external_account_number']\n",
    "pr_sample = df_psql_pr[df_psql_pr.business_account_number == id_]\n",
    "pr_sample = pr_sample[pr_cols]"
   ]
  },
  {
   "cell_type": "code",
   "execution_count": 76,
   "metadata": {},
   "outputs": [
    {
     "data": {
      "text/html": [
       "<div>\n",
       "<style scoped>\n",
       "    .dataframe tbody tr th:only-of-type {\n",
       "        vertical-align: middle;\n",
       "    }\n",
       "\n",
       "    .dataframe tbody tr th {\n",
       "        vertical-align: top;\n",
       "    }\n",
       "\n",
       "    .dataframe thead th {\n",
       "        text-align: right;\n",
       "    }\n",
       "</style>\n",
       "<table border=\"1\" class=\"dataframe\">\n",
       "  <thead>\n",
       "    <tr style=\"text-align: right;\">\n",
       "      <th></th>\n",
       "      <th>transaction_datetime</th>\n",
       "      <th>business_account_number</th>\n",
       "      <th>endbal</th>\n",
       "      <th>transaction_amount</th>\n",
       "      <th>transaction_code</th>\n",
       "      <th>transaction_comment</th>\n",
       "      <th>is_credit</th>\n",
       "      <th>external_account_number</th>\n",
       "    </tr>\n",
       "  </thead>\n",
       "  <tbody>\n",
       "    <tr>\n",
       "      <th>5791761</th>\n",
       "      <td>2020-05-11 18:01:08</td>\n",
       "      <td>410001985020</td>\n",
       "      <td>27541.01</td>\n",
       "      <td>2200</td>\n",
       "      <td>ACHDW</td>\n",
       "      <td>PO</td>\n",
       "      <td>0</td>\n",
       "      <td>0049611886</td>\n",
       "    </tr>\n",
       "    <tr>\n",
       "      <th>6038548</th>\n",
       "      <td>2020-05-26 18:01:11</td>\n",
       "      <td>410001985020</td>\n",
       "      <td>4098.73</td>\n",
       "      <td>800</td>\n",
       "      <td>ACHDW</td>\n",
       "      <td>PO</td>\n",
       "      <td>0</td>\n",
       "      <td>0049611886</td>\n",
       "    </tr>\n",
       "    <tr>\n",
       "      <th>6038550</th>\n",
       "      <td>2020-05-26 18:01:11</td>\n",
       "      <td>410001985020</td>\n",
       "      <td>3498.73</td>\n",
       "      <td>600</td>\n",
       "      <td>ACHDW</td>\n",
       "      <td>PO</td>\n",
       "      <td>0</td>\n",
       "      <td>0049611886</td>\n",
       "    </tr>\n",
       "    <tr>\n",
       "      <th>6038552</th>\n",
       "      <td>2020-05-26 18:01:11</td>\n",
       "      <td>410001985020</td>\n",
       "      <td>3298.73</td>\n",
       "      <td>200</td>\n",
       "      <td>ACHDW</td>\n",
       "      <td>PO</td>\n",
       "      <td>0</td>\n",
       "      <td>0049611886</td>\n",
       "    </tr>\n",
       "    <tr>\n",
       "      <th>6759183</th>\n",
       "      <td>2020-05-18 18:01:09</td>\n",
       "      <td>410001985020</td>\n",
       "      <td>5150.58</td>\n",
       "      <td>100</td>\n",
       "      <td>ACHDW</td>\n",
       "      <td>PO</td>\n",
       "      <td>0</td>\n",
       "      <td>104792076911</td>\n",
       "    </tr>\n",
       "    <tr>\n",
       "      <th>...</th>\n",
       "      <td>...</td>\n",
       "      <td>...</td>\n",
       "      <td>...</td>\n",
       "      <td>...</td>\n",
       "      <td>...</td>\n",
       "      <td>...</td>\n",
       "      <td>...</td>\n",
       "      <td>...</td>\n",
       "    </tr>\n",
       "    <tr>\n",
       "      <th>12907809</th>\n",
       "      <td>2020-03-30 18:01:08</td>\n",
       "      <td>410001985020</td>\n",
       "      <td>20519.60</td>\n",
       "      <td>4750</td>\n",
       "      <td>ACHDD</td>\n",
       "      <td>CO</td>\n",
       "      <td>1</td>\n",
       "      <td>0049611886</td>\n",
       "    </tr>\n",
       "    <tr>\n",
       "      <th>12941168</th>\n",
       "      <td>2020-04-01 18:01:07</td>\n",
       "      <td>410001985020</td>\n",
       "      <td>19490.79</td>\n",
       "      <td>1000</td>\n",
       "      <td>ACHDD</td>\n",
       "      <td>CO</td>\n",
       "      <td>1</td>\n",
       "      <td>0049611886</td>\n",
       "    </tr>\n",
       "    <tr>\n",
       "      <th>13150826</th>\n",
       "      <td>2020-05-04 18:01:12</td>\n",
       "      <td>410001985020</td>\n",
       "      <td>27724.46</td>\n",
       "      <td>23200</td>\n",
       "      <td>ACHDD</td>\n",
       "      <td>CO</td>\n",
       "      <td>1</td>\n",
       "      <td>0049611886</td>\n",
       "    </tr>\n",
       "    <tr>\n",
       "      <th>13150828</th>\n",
       "      <td>2020-05-04 18:01:12</td>\n",
       "      <td>410001985020</td>\n",
       "      <td>26974.46</td>\n",
       "      <td>750</td>\n",
       "      <td>ACHDW</td>\n",
       "      <td>PO</td>\n",
       "      <td>0</td>\n",
       "      <td>0049611886</td>\n",
       "    </tr>\n",
       "    <tr>\n",
       "      <th>13150829</th>\n",
       "      <td>2020-05-04 18:01:12</td>\n",
       "      <td>410001985020</td>\n",
       "      <td>26434.46</td>\n",
       "      <td>540</td>\n",
       "      <td>ACHDW</td>\n",
       "      <td>PO</td>\n",
       "      <td>0</td>\n",
       "      <td>0049611886</td>\n",
       "    </tr>\n",
       "  </tbody>\n",
       "</table>\n",
       "<p>65 rows × 8 columns</p>\n",
       "</div>"
      ],
      "text/plain": [
       "         transaction_datetime  business_account_number    endbal  \\\n",
       "5791761   2020-05-11 18:01:08             410001985020  27541.01   \n",
       "6038548   2020-05-26 18:01:11             410001985020   4098.73   \n",
       "6038550   2020-05-26 18:01:11             410001985020   3498.73   \n",
       "6038552   2020-05-26 18:01:11             410001985020   3298.73   \n",
       "6759183   2020-05-18 18:01:09             410001985020   5150.58   \n",
       "...                       ...                      ...       ...   \n",
       "12907809  2020-03-30 18:01:08             410001985020  20519.60   \n",
       "12941168  2020-04-01 18:01:07             410001985020  19490.79   \n",
       "13150826  2020-05-04 18:01:12             410001985020  27724.46   \n",
       "13150828  2020-05-04 18:01:12             410001985020  26974.46   \n",
       "13150829  2020-05-04 18:01:12             410001985020  26434.46   \n",
       "\n",
       "         transaction_amount transaction_code transaction_comment  is_credit  \\\n",
       "5791761                2200            ACHDW                  PO          0   \n",
       "6038548                 800            ACHDW                  PO          0   \n",
       "6038550                 600            ACHDW                  PO          0   \n",
       "6038552                 200            ACHDW                  PO          0   \n",
       "6759183                 100            ACHDW                  PO          0   \n",
       "...                     ...              ...                 ...        ...   \n",
       "12907809               4750            ACHDD                  CO          1   \n",
       "12941168               1000            ACHDD                  CO          1   \n",
       "13150826              23200            ACHDD                  CO          1   \n",
       "13150828                750            ACHDW                  PO          0   \n",
       "13150829                540            ACHDW                  PO          0   \n",
       "\n",
       "         external_account_number  \n",
       "5791761               0049611886  \n",
       "6038548               0049611886  \n",
       "6038550               0049611886  \n",
       "6038552               0049611886  \n",
       "6759183             104792076911  \n",
       "...                          ...  \n",
       "12907809              0049611886  \n",
       "12941168              0049611886  \n",
       "13150826              0049611886  \n",
       "13150828              0049611886  \n",
       "13150829              0049611886  \n",
       "\n",
       "[65 rows x 8 columns]"
      ]
     },
     "execution_count": 76,
     "metadata": {},
     "output_type": "execute_result"
    }
   ],
   "source": [
    "pr_sample[pr_sample.external_account_number != '']"
   ]
  },
  {
   "cell_type": "code",
   "execution_count": 59,
   "metadata": {},
   "outputs": [],
   "source": [
    "def export_samples(sample1, sample2):\n",
    "    sample1.sort_values(by=['transaction_datetime', 'transaction_amount'], inplace=True)\n",
    "    sample2.sort_values(by=['transaction_datetime', 'transaction_amount'], inplace=True)\n",
    "    sample1.to_csv('../artifacts/sample1.csv')\n",
    "    sample2.to_csv('../artifacts/sample2.csv')\n",
    "    \n",
    "\n",
    "export_samples(mmc_sample, pr_sample)"
   ]
  },
  {
   "cell_type": "code",
   "execution_count": 57,
   "metadata": {},
   "outputs": [
    {
     "data": {
      "text/plain": [
       "0                    None\n",
       "1    purchasefromchecking\n",
       "2      internalwithdrawal\n",
       "3      internalwithdrawal\n",
       "4    purchasefromchecking\n",
       "Name: transaction_category, dtype: object"
      ]
     },
     "execution_count": 57,
     "metadata": {},
     "output_type": "execute_result"
    }
   ],
   "source": [
    "df_mmc.transaction_category.head()"
   ]
  },
  {
   "cell_type": "code",
   "execution_count": 53,
   "metadata": {},
   "outputs": [
    {
     "data": {
      "text/plain": [
       "0    KILROY'S PACKAGE STORE COLLEGE PARK, GA, US\n",
       "1                      GREENDOT PASADENA, CA, US\n",
       "2        DOORDASH*TERIYAKI MADN 6506819470, C, A\n",
       "3                 Microsoft*Xbox msbill.info, WA\n",
       "4           CASH APP*KJ PRINE*ADD 8774174551, CA\n",
       "Name: transaction_comment, dtype: object"
      ]
     },
     "execution_count": 53,
     "metadata": {},
     "output_type": "execute_result"
    }
   ],
   "source": [
    "df_psql_pr.transaction_comment.head()"
   ]
  },
  {
   "cell_type": "code",
   "execution_count": 54,
   "metadata": {},
   "outputs": [
    {
     "data": {
      "text/plain": [
       "0    dedb6973-dfb8-4dfb-b72b-a0665c4e532f\n",
       "1    c12c3398-5f0b-4c1b-8acd-750bc4a2eae3\n",
       "2    559bab8d-f63a-4442-9944-ac8b22bdd9c0\n",
       "3    f14b1ccc-da8c-41a5-ac3d-e9a3ef03dc81\n",
       "4    86496056-5f48-4d7a-9dad-b7264b72efad\n",
       "Name: money_cache_transaction_id, dtype: object"
      ]
     },
     "execution_count": 54,
     "metadata": {},
     "output_type": "execute_result"
    }
   ],
   "source": [
    "df_mmc.money_cache_transaction_id.head()"
   ]
  },
  {
   "cell_type": "code",
   "execution_count": null,
   "metadata": {},
   "outputs": [],
   "source": [
    "df_psql_pr"
   ]
  },
  {
   "cell_type": "code",
   "execution_count": 50,
   "metadata": {},
   "outputs": [
    {
     "data": {
      "text/plain": [
       "Index(['dms_export_timestamp', 'money_cache_transaction_id', 'money_cache_id',\n",
       "       'money_account_id', 'money_message_hash', 'transaction_amount',\n",
       "       'transaction_date', 'transaction_type', 'transaction_code',\n",
       "       'transaction_current_balance', 'transaction_category', 'debit',\n",
       "       'created_by', 'created_dt', 'updated_by', 'updated_dt',\n",
       "       'transaction_sequence', 'transaction_datetime'],\n",
       "      dtype='object')"
      ]
     },
     "execution_count": 50,
     "metadata": {},
     "output_type": "execute_result"
    }
   ],
   "source": [
    "df_mmc.columns"
   ]
  },
  {
   "cell_type": "code",
   "execution_count": 22,
   "metadata": {},
   "outputs": [
    {
     "data": {
      "text/html": [
       "<div>\n",
       "<style scoped>\n",
       "    .dataframe tbody tr th:only-of-type {\n",
       "        vertical-align: middle;\n",
       "    }\n",
       "\n",
       "    .dataframe tbody tr th {\n",
       "        vertical-align: top;\n",
       "    }\n",
       "\n",
       "    .dataframe thead th {\n",
       "        text-align: right;\n",
       "    }\n",
       "</style>\n",
       "<table border=\"1\" class=\"dataframe\">\n",
       "  <thead>\n",
       "    <tr style=\"text-align: right;\">\n",
       "      <th></th>\n",
       "      <th>dms_export_timestamp</th>\n",
       "      <th>money_cache_transaction_id</th>\n",
       "      <th>money_cache_id</th>\n",
       "      <th>money_account_id</th>\n",
       "      <th>money_message_hash</th>\n",
       "      <th>transaction_amount</th>\n",
       "      <th>transaction_date</th>\n",
       "      <th>transaction_type</th>\n",
       "      <th>transaction_code</th>\n",
       "      <th>transaction_current_balance</th>\n",
       "      <th>transaction_category</th>\n",
       "      <th>debit</th>\n",
       "      <th>created_by</th>\n",
       "      <th>created_dt</th>\n",
       "      <th>updated_by</th>\n",
       "      <th>updated_dt</th>\n",
       "      <th>transaction_sequence</th>\n",
       "      <th>transaction_datetime</th>\n",
       "    </tr>\n",
       "  </thead>\n",
       "  <tbody>\n",
       "    <tr>\n",
       "      <th>5805</th>\n",
       "      <td>2020-08-24 04:20:34.854956</td>\n",
       "      <td>c1a4a734-9bce-4148-821a-d22fb1f3c927</td>\n",
       "      <td>11b62f4b-ad5d-4d72-8562-77d527902dda</td>\n",
       "      <td>410001526181</td>\n",
       "      <td>11:462498</td>\n",
       "      <td>4.37</td>\n",
       "      <td>2020-01-23 22:20:40</td>\n",
       "      <td>Debit Card</td>\n",
       "      <td>POSDW</td>\n",
       "      <td>7.60</td>\n",
       "      <td>purchasefromchecking</td>\n",
       "      <td>true</td>\n",
       "      <td>automation@sofi.org</td>\n",
       "      <td>2020-01-23 22:20:42.237</td>\n",
       "      <td>None</td>\n",
       "      <td>NaT</td>\n",
       "      <td>1332.0</td>\n",
       "      <td>2020-01-23 22:20:40</td>\n",
       "    </tr>\n",
       "    <tr>\n",
       "      <th>13244</th>\n",
       "      <td>2020-08-24 04:20:05.989364</td>\n",
       "      <td>f72e4bdd-01b9-4abd-b018-bc2f66ebea04</td>\n",
       "      <td>11b62f4b-ad5d-4d72-8562-77d527902dda</td>\n",
       "      <td>410001526181</td>\n",
       "      <td>14:411354</td>\n",
       "      <td>19.75</td>\n",
       "      <td>2019-12-30 17:41:14</td>\n",
       "      <td>Debit Card</td>\n",
       "      <td>DDCRDBILLREF</td>\n",
       "      <td>24.65</td>\n",
       "      <td>internaldeposit</td>\n",
       "      <td>false</td>\n",
       "      <td>automation@sofi.org</td>\n",
       "      <td>2019-12-30 17:41:17.498</td>\n",
       "      <td>None</td>\n",
       "      <td>NaT</td>\n",
       "      <td>1192.0</td>\n",
       "      <td>2019-12-30 17:41:14</td>\n",
       "    </tr>\n",
       "    <tr>\n",
       "      <th>13389</th>\n",
       "      <td>2020-08-24 04:20:05.994662</td>\n",
       "      <td>fbdaedda-11a3-47a3-834f-23ea8a3bfc0a</td>\n",
       "      <td>11b62f4b-ad5d-4d72-8562-77d527902dda</td>\n",
       "      <td>410001526181</td>\n",
       "      <td>14:411359</td>\n",
       "      <td>23.00</td>\n",
       "      <td>2019-12-30 17:50:27</td>\n",
       "      <td>ATM</td>\n",
       "      <td>DWATM</td>\n",
       "      <td>1.65</td>\n",
       "      <td>atmus</td>\n",
       "      <td>true</td>\n",
       "      <td>automation@sofi.org</td>\n",
       "      <td>2019-12-30 17:50:37.968</td>\n",
       "      <td>None</td>\n",
       "      <td>NaT</td>\n",
       "      <td>1193.0</td>\n",
       "      <td>2019-12-30 17:50:27</td>\n",
       "    </tr>\n",
       "    <tr>\n",
       "      <th>13436</th>\n",
       "      <td>2020-08-24 04:20:05.996492</td>\n",
       "      <td>736d91f9-d171-49bc-bea9-0bbb58996ba6</td>\n",
       "      <td>11b62f4b-ad5d-4d72-8562-77d527902dda</td>\n",
       "      <td>410001526181</td>\n",
       "      <td>9:411396</td>\n",
       "      <td>3.00</td>\n",
       "      <td>2019-12-30 17:50:27</td>\n",
       "      <td>ATM</td>\n",
       "      <td>DDATMREFUND</td>\n",
       "      <td>4.65</td>\n",
       "      <td>None</td>\n",
       "      <td>false</td>\n",
       "      <td>automation@sofi.org</td>\n",
       "      <td>2019-12-30 17:50:37.791</td>\n",
       "      <td>None</td>\n",
       "      <td>NaT</td>\n",
       "      <td>1194.0</td>\n",
       "      <td>2019-12-30 17:50:27</td>\n",
       "    </tr>\n",
       "    <tr>\n",
       "      <th>33551</th>\n",
       "      <td>2020-08-24 04:16:44.128731</td>\n",
       "      <td>23477908-d74d-4ebe-817e-deff25a90bf5</td>\n",
       "      <td>11b62f4b-ad5d-4d72-8562-77d527902dda</td>\n",
       "      <td>410001526181</td>\n",
       "      <td>4:158083</td>\n",
       "      <td>403.00</td>\n",
       "      <td>2019-07-23 12:37:33</td>\n",
       "      <td>ATM</td>\n",
       "      <td>DWATM</td>\n",
       "      <td>196.24</td>\n",
       "      <td>atmus</td>\n",
       "      <td>true</td>\n",
       "      <td>automation@sofi.org</td>\n",
       "      <td>2019-08-04 01:34:39.311</td>\n",
       "      <td>None</td>\n",
       "      <td>NaT</td>\n",
       "      <td>NaN</td>\n",
       "      <td>2019-07-23 12:37:33</td>\n",
       "    </tr>\n",
       "  </tbody>\n",
       "</table>\n",
       "</div>"
      ],
      "text/plain": [
       "             dms_export_timestamp            money_cache_transaction_id  \\\n",
       "5805   2020-08-24 04:20:34.854956  c1a4a734-9bce-4148-821a-d22fb1f3c927   \n",
       "13244  2020-08-24 04:20:05.989364  f72e4bdd-01b9-4abd-b018-bc2f66ebea04   \n",
       "13389  2020-08-24 04:20:05.994662  fbdaedda-11a3-47a3-834f-23ea8a3bfc0a   \n",
       "13436  2020-08-24 04:20:05.996492  736d91f9-d171-49bc-bea9-0bbb58996ba6   \n",
       "33551  2020-08-24 04:16:44.128731  23477908-d74d-4ebe-817e-deff25a90bf5   \n",
       "\n",
       "                             money_cache_id  money_account_id  \\\n",
       "5805   11b62f4b-ad5d-4d72-8562-77d527902dda      410001526181   \n",
       "13244  11b62f4b-ad5d-4d72-8562-77d527902dda      410001526181   \n",
       "13389  11b62f4b-ad5d-4d72-8562-77d527902dda      410001526181   \n",
       "13436  11b62f4b-ad5d-4d72-8562-77d527902dda      410001526181   \n",
       "33551  11b62f4b-ad5d-4d72-8562-77d527902dda      410001526181   \n",
       "\n",
       "      money_message_hash  transaction_amount    transaction_date  \\\n",
       "5805           11:462498                4.37 2020-01-23 22:20:40   \n",
       "13244          14:411354               19.75 2019-12-30 17:41:14   \n",
       "13389          14:411359               23.00 2019-12-30 17:50:27   \n",
       "13436           9:411396                3.00 2019-12-30 17:50:27   \n",
       "33551           4:158083              403.00 2019-07-23 12:37:33   \n",
       "\n",
       "      transaction_type transaction_code  transaction_current_balance  \\\n",
       "5805        Debit Card            POSDW                         7.60   \n",
       "13244       Debit Card     DDCRDBILLREF                        24.65   \n",
       "13389              ATM            DWATM                         1.65   \n",
       "13436              ATM      DDATMREFUND                         4.65   \n",
       "33551              ATM            DWATM                       196.24   \n",
       "\n",
       "       transaction_category  debit           created_by  \\\n",
       "5805   purchasefromchecking   true  automation@sofi.org   \n",
       "13244       internaldeposit  false  automation@sofi.org   \n",
       "13389                 atmus   true  automation@sofi.org   \n",
       "13436                  None  false  automation@sofi.org   \n",
       "33551                 atmus   true  automation@sofi.org   \n",
       "\n",
       "                   created_dt updated_by updated_dt  transaction_sequence  \\\n",
       "5805  2020-01-23 22:20:42.237       None        NaT                1332.0   \n",
       "13244 2019-12-30 17:41:17.498       None        NaT                1192.0   \n",
       "13389 2019-12-30 17:50:37.968       None        NaT                1193.0   \n",
       "13436 2019-12-30 17:50:37.791       None        NaT                1194.0   \n",
       "33551 2019-08-04 01:34:39.311       None        NaT                   NaN   \n",
       "\n",
       "      transaction_datetime  \n",
       "5805   2020-01-23 22:20:40  \n",
       "13244  2019-12-30 17:41:14  \n",
       "13389  2019-12-30 17:50:27  \n",
       "13436  2019-12-30 17:50:27  \n",
       "33551  2019-07-23 12:37:33  "
      ]
     },
     "execution_count": 22,
     "metadata": {},
     "output_type": "execute_result"
    }
   ],
   "source": [
    "mmc_sample.head()"
   ]
  },
  {
   "cell_type": "code",
   "execution_count": 23,
   "metadata": {},
   "outputs": [
    {
     "data": {
      "text/html": [
       "<div>\n",
       "<style scoped>\n",
       "    .dataframe tbody tr th:only-of-type {\n",
       "        vertical-align: middle;\n",
       "    }\n",
       "\n",
       "    .dataframe tbody tr th {\n",
       "        vertical-align: top;\n",
       "    }\n",
       "\n",
       "    .dataframe thead th {\n",
       "        text-align: right;\n",
       "    }\n",
       "</style>\n",
       "<table border=\"1\" class=\"dataframe\">\n",
       "  <thead>\n",
       "    <tr style=\"text-align: right;\">\n",
       "      <th></th>\n",
       "      <th>tjd</th>\n",
       "      <th>time</th>\n",
       "      <th>business_account_number</th>\n",
       "      <th>created_dt</th>\n",
       "      <th>endbal</th>\n",
       "      <th>transaction_code</th>\n",
       "      <th>transaction_comment</th>\n",
       "      <th>transaction_amount</th>\n",
       "      <th>is_credit</th>\n",
       "      <th>user_id</th>\n",
       "      <th>external_account_number</th>\n",
       "      <th>external_institution_id</th>\n",
       "      <th>originating_company_id</th>\n",
       "      <th>external_institution_trans_id</th>\n",
       "      <th>originator_dfi_id</th>\n",
       "      <th>merchant_name</th>\n",
       "      <th>transaction_datetime</th>\n",
       "    </tr>\n",
       "  </thead>\n",
       "  <tbody>\n",
       "    <tr>\n",
       "      <th>8118</th>\n",
       "      <td>2020-05-24</td>\n",
       "      <td>08:10:26</td>\n",
       "      <td>410001526181</td>\n",
       "      <td>2020-05-24</td>\n",
       "      <td>42.17</td>\n",
       "      <td>POSDW</td>\n",
       "      <td>DOMINO'S 5172 MARGATE, FL</td>\n",
       "      <td>8.55</td>\n",
       "      <td>0</td>\n",
       "      <td>13587166</td>\n",
       "      <td></td>\n",
       "      <td></td>\n",
       "      <td></td>\n",
       "      <td></td>\n",
       "      <td></td>\n",
       "      <td>DOMINO'S 5172</td>\n",
       "      <td>2020-05-24 08:10:26</td>\n",
       "    </tr>\n",
       "    <tr>\n",
       "      <th>73002</th>\n",
       "      <td>2019-06-25</td>\n",
       "      <td>16:14:40</td>\n",
       "      <td>410001526181</td>\n",
       "      <td>2019-06-25</td>\n",
       "      <td>7.87</td>\n",
       "      <td>POSDW</td>\n",
       "      <td>WENDYS 8179 7115 WEST MCNAB ROAD N.LAUDERDALE,...</td>\n",
       "      <td>4.28</td>\n",
       "      <td>0</td>\n",
       "      <td>13587166</td>\n",
       "      <td></td>\n",
       "      <td></td>\n",
       "      <td></td>\n",
       "      <td></td>\n",
       "      <td></td>\n",
       "      <td>WENDYS 8179</td>\n",
       "      <td>2019-06-25 16:14:40</td>\n",
       "    </tr>\n",
       "    <tr>\n",
       "      <th>74764</th>\n",
       "      <td>2019-05-16</td>\n",
       "      <td>03:32:20</td>\n",
       "      <td>410001526181</td>\n",
       "      <td>2019-05-16</td>\n",
       "      <td>0.66</td>\n",
       "      <td>POSDW</td>\n",
       "      <td>CHEVRON 0303196 MARGATE, FL, US</td>\n",
       "      <td>0.92</td>\n",
       "      <td>0</td>\n",
       "      <td>13587166</td>\n",
       "      <td></td>\n",
       "      <td></td>\n",
       "      <td></td>\n",
       "      <td></td>\n",
       "      <td></td>\n",
       "      <td>CHEVRON 0303196</td>\n",
       "      <td>2019-05-16 03:32:20</td>\n",
       "    </tr>\n",
       "    <tr>\n",
       "      <th>87430</th>\n",
       "      <td>2019-07-05</td>\n",
       "      <td>08:41:35</td>\n",
       "      <td>410001526181</td>\n",
       "      <td>2019-07-05</td>\n",
       "      <td>865.80</td>\n",
       "      <td>DWATM</td>\n",
       "      <td>PAI ISO 590 S ST RD 7 MARGATE, FL, US</td>\n",
       "      <td>42.50</td>\n",
       "      <td>0</td>\n",
       "      <td>13587166</td>\n",
       "      <td></td>\n",
       "      <td></td>\n",
       "      <td></td>\n",
       "      <td></td>\n",
       "      <td></td>\n",
       "      <td>PAI ISO</td>\n",
       "      <td>2019-07-05 08:41:35</td>\n",
       "    </tr>\n",
       "    <tr>\n",
       "      <th>87432</th>\n",
       "      <td>2019-07-05</td>\n",
       "      <td>08:41:35</td>\n",
       "      <td>410001526181</td>\n",
       "      <td>2019-07-05</td>\n",
       "      <td>868.30</td>\n",
       "      <td>DDATMREFUND</td>\n",
       "      <td>PAI ISO 590 S ST RD 7 MARGATE, FL, US</td>\n",
       "      <td>2.50</td>\n",
       "      <td>1</td>\n",
       "      <td>13587166</td>\n",
       "      <td></td>\n",
       "      <td></td>\n",
       "      <td></td>\n",
       "      <td></td>\n",
       "      <td></td>\n",
       "      <td>PAI ISO</td>\n",
       "      <td>2019-07-05 08:41:35</td>\n",
       "    </tr>\n",
       "  </tbody>\n",
       "</table>\n",
       "</div>"
      ],
      "text/plain": [
       "              tjd      time  business_account_number  created_dt  endbal  \\\n",
       "8118   2020-05-24  08:10:26             410001526181  2020-05-24   42.17   \n",
       "73002  2019-06-25  16:14:40             410001526181  2019-06-25    7.87   \n",
       "74764  2019-05-16  03:32:20             410001526181  2019-05-16    0.66   \n",
       "87430  2019-07-05  08:41:35             410001526181  2019-07-05  865.80   \n",
       "87432  2019-07-05  08:41:35             410001526181  2019-07-05  868.30   \n",
       "\n",
       "      transaction_code                                transaction_comment  \\\n",
       "8118             POSDW                          DOMINO'S 5172 MARGATE, FL   \n",
       "73002            POSDW  WENDYS 8179 7115 WEST MCNAB ROAD N.LAUDERDALE,...   \n",
       "74764            POSDW                    CHEVRON 0303196 MARGATE, FL, US   \n",
       "87430            DWATM              PAI ISO 590 S ST RD 7 MARGATE, FL, US   \n",
       "87432      DDATMREFUND              PAI ISO 590 S ST RD 7 MARGATE, FL, US   \n",
       "\n",
       "      transaction_amount  is_credit   user_id external_account_number  \\\n",
       "8118                8.55          0  13587166                           \n",
       "73002               4.28          0  13587166                           \n",
       "74764               0.92          0  13587166                           \n",
       "87430              42.50          0  13587166                           \n",
       "87432               2.50          1  13587166                           \n",
       "\n",
       "      external_institution_id originating_company_id  \\\n",
       "8118                                                   \n",
       "73002                                                  \n",
       "74764                                                  \n",
       "87430                                                  \n",
       "87432                                                  \n",
       "\n",
       "      external_institution_trans_id originator_dfi_id  \\\n",
       "8118                                                    \n",
       "73002                                                   \n",
       "74764                                                   \n",
       "87430                                                   \n",
       "87432                                                   \n",
       "\n",
       "                 merchant_name transaction_datetime  \n",
       "8118   DOMINO'S 5172            2020-05-24 08:10:26  \n",
       "73002              WENDYS 8179  2019-06-25 16:14:40  \n",
       "74764          CHEVRON 0303196  2019-05-16 03:32:20  \n",
       "87430                  PAI ISO  2019-07-05 08:41:35  \n",
       "87432                  PAI ISO  2019-07-05 08:41:35  "
      ]
     },
     "execution_count": 23,
     "metadata": {},
     "output_type": "execute_result"
    }
   ],
   "source": [
    "pr_sample.head()"
   ]
  },
  {
   "cell_type": "code",
   "execution_count": 25,
   "metadata": {},
   "outputs": [
    {
     "data": {
      "text/plain": [
       "410000375873    3531\n",
       "410000307504    3061\n",
       "410000259612    2960\n",
       "410001659933    2878\n",
       "410000158103    2812\n",
       "Name: money_account_id, dtype: int64"
      ]
     },
     "execution_count": 25,
     "metadata": {},
     "output_type": "execute_result"
    }
   ],
   "source": [
    "df_tmp = df_mmc.money_account_id.value_counts()\n",
    "df_tmp.head()"
   ]
  },
  {
   "cell_type": "code",
   "execution_count": 26,
   "metadata": {},
   "outputs": [
    {
     "data": {
      "text/plain": [
       "450002628848    20\n",
       "450003966260    20\n",
       "410003018093    20\n",
       "410001998845    20\n",
       "410001837098    20\n",
       "                ..\n",
       "410001886136    20\n",
       "410003326291    20\n",
       "410001965392    20\n",
       "410004106499    20\n",
       "410002716080    20\n",
       "Name: money_account_id, Length: 2223, dtype: int64"
      ]
     },
     "execution_count": 26,
     "metadata": {},
     "output_type": "execute_result"
    }
   ],
   "source": [
    "df_tmp[df_tmp == 20]"
   ]
  },
  {
   "cell_type": "code",
   "execution_count": null,
   "metadata": {},
   "outputs": [],
   "source": []
  },
  {
   "cell_type": "code",
   "execution_count": null,
   "metadata": {},
   "outputs": [],
   "source": []
  },
  {
   "cell_type": "code",
   "execution_count": 65,
   "metadata": {},
   "outputs": [],
   "source": [
    "profile_db = 'datalake_production_profile_reporting'\n",
    "mm_db = 'datalake_production_money_monitoring'\n",
    "mm_transaction_query = f\"\"\"\n",
    "SELECT mct.transaction_date AS transaction_datetime,\n",
    "         mct.money_account_id AS business_account_number,\n",
    "         mct.created_dt,\n",
    "         mct.account_current_balance as endbal,\n",
    "         mct.transaction_code,\n",
    "         mct.transaction_amount,\n",
    "         mct.debit AS is_debit,\n",
    "         cif.zsofiid AS user_id,\n",
    "FROM {mm_db}.money_cache_transaction as mct\n",
    "JOIN {profile_db}.dep\n",
    "    ON dep.cid = dtj.cid\n",
    "JOIN {profile_db}.cif\n",
    "    ON cif.acn = dep.acn\n",
    "LEFT JOIN {profile_db}.trn\n",
    "    ON mct.transaction_code = trn.etc\n",
    "WHERE endbal is NOT Null\n",
    "        AND tamt is NOT Null\n",
    "        AND tamt NOT LIKE '%#%'\n",
    "LIMIT 10\n",
    "\"\"\""
   ]
  },
  {
   "cell_type": "code",
   "execution_count": 66,
   "metadata": {},
   "outputs": [
    {
     "name": "stdout",
     "output_type": "stream",
     "text": [
      "\n",
      "SELECT mct.transaction_date AS transaction_datetime,\n",
      "         mct.money_account_id AS business_account_number,\n",
      "         mct.created_dt,\n",
      "         mct.account_current_balance as endbal,\n",
      "         mct.transaction_code,\n",
      "         mct.transaction_amount,\n",
      "         mct.debit AS is_debit,\n",
      "         cif.zsofiid AS user_id,\n",
      "FROM datalake_production_money_monitoring.money_cache_transaction as mct\n",
      "JOIN datalake_production_profile_reporting.dep\n",
      "    ON dep.cid = dtj.cid\n",
      "JOIN datalake_production_profile_reporting.cif\n",
      "    ON cif.acn = dep.acn\n",
      "LEFT JOIN datalake_production_profile_reporting.trn\n",
      "    ON mct.transaction_code = trn.etc\n",
      "WHERE endbal is NOT Null\n",
      "        AND tamt is NOT Null\n",
      "        AND tamt NOT LIKE '%#%'\n",
      "LIMIT 10\n",
      "\n"
     ]
    }
   ],
   "source": [
    "print(mm_transaction_query)"
   ]
  },
  {
   "cell_type": "code",
   "execution_count": null,
   "metadata": {},
   "outputs": [],
   "source": [
    "SELECT mct.transaction_date AS transaction_datetime,\n",
    "         mct.money_account_id AS business_account_number,\n",
    "         mct.created_dt,\n",
    "         mct.transaction_current_balance as endbal,\n",
    "         mct.transaction_code,\n",
    "         mct.transaction_amount,\n",
    "         mct.debit AS is_debit,\n",
    "         cif.zsofiid AS user_id\n",
    "FROM datalake_production_money_monitoring.money_cache_transaction as mct\n",
    "JOIN datalake_production_profile_reporting.dep\n",
    "    ON dep.cid = dtj.cid\n",
    "JOIN datalake_production_profile_reporting.cif\n",
    "    ON cif.acn = dep.acn\n",
    "LEFT JOIN datalake_production_profile_reporting.trn\n",
    "    ON mct.transaction_code = trn.etc\n",
    "WHERE endbal is NOT Null\n",
    "        AND tamt is NOT Null\n",
    "        AND tamt NOT LIKE '%#%'\n",
    "LIMIT 10"
   ]
  },
  {
   "cell_type": "code",
   "execution_count": 3,
   "metadata": {},
   "outputs": [],
   "source": [
    "# working version\n",
    "query = '''\n",
    "SELECT mct.transaction_date AS transaction_datetime,\n",
    "         mct.money_account_id AS business_account_number,\n",
    "         mct.created_dt,\n",
    "         mct.transaction_current_balance as endbal,\n",
    "         mct.transaction_code,\n",
    "         mct.transaction_amount,\n",
    "         not CAST(mct.debit AS boolean) AS is_credit,\n",
    "         cif.zsofiid AS user_id\n",
    "FROM datalake_production_money_monitoring.money_cache_transaction as mct\n",
    "JOIN datalake_production_profile_reporting.dep\n",
    "   ON CAST(dep.cid AS varchar) = mct.money_account_id\n",
    "JOIN datalake_production_profile_reporting.cif\n",
    "    ON cif.acn = dep.acn\n",
    "LEFT JOIN datalake_production_profile_reporting.trn\n",
    "    ON mct.transaction_code = trn.etc\n",
    "WHERE mct.transaction_current_balance is NOT Null\n",
    "        AND mct.transaction_amount is NOT Null\n",
    "'''"
   ]
  },
  {
   "cell_type": "code",
   "execution_count": 4,
   "metadata": {},
   "outputs": [],
   "source": [
    "import pandas as pd\n",
    "import mdsutils"
   ]
  },
  {
   "cell_type": "code",
   "execution_count": null,
   "metadata": {},
   "outputs": [
    {
     "name": "stdout",
     "output_type": "stream",
     "text": [
      "CPU times: user 1min 53s, sys: 18.8 s, total: 2min 12s\n",
      "Wall time: 8min 31s\n"
     ]
    }
   ],
   "source": [
    "%%time\n",
    "\n",
    "athena = mdsutils.AthenaClient(database='datalake_production_money_monitoring')\n",
    "df = athena.query_to_df(query)"
   ]
  },
  {
   "cell_type": "code",
   "execution_count": null,
   "metadata": {},
   "outputs": [],
   "source": [
    "df.to_parquet(\"../../artifacts/dev-prod-data-alignment/tdf_mm.parquet\")"
   ]
  },
  {
   "cell_type": "code",
   "execution_count": 10,
   "metadata": {},
   "outputs": [
    {
     "data": {
      "text/html": [
       "<div>\n",
       "<style scoped>\n",
       "    .dataframe tbody tr th:only-of-type {\n",
       "        vertical-align: middle;\n",
       "    }\n",
       "\n",
       "    .dataframe tbody tr th {\n",
       "        vertical-align: top;\n",
       "    }\n",
       "\n",
       "    .dataframe thead th {\n",
       "        text-align: right;\n",
       "    }\n",
       "</style>\n",
       "<table border=\"1\" class=\"dataframe\">\n",
       "  <thead>\n",
       "    <tr style=\"text-align: right;\">\n",
       "      <th></th>\n",
       "      <th>transaction_datetime</th>\n",
       "      <th>business_account_number</th>\n",
       "      <th>created_dt</th>\n",
       "      <th>endbal</th>\n",
       "      <th>transaction_code</th>\n",
       "      <th>transaction_amount</th>\n",
       "      <th>is_credit</th>\n",
       "      <th>user_id</th>\n",
       "    </tr>\n",
       "  </thead>\n",
       "  <tbody>\n",
       "    <tr>\n",
       "      <th>40592890</th>\n",
       "      <td>2018-09-01 04:03:42.000</td>\n",
       "      <td>410000157616</td>\n",
       "      <td>2019-08-02 20:12:26.380</td>\n",
       "      <td>10.00</td>\n",
       "      <td>IIPD</td>\n",
       "      <td>0.00</td>\n",
       "      <td>True</td>\n",
       "      <td>12447</td>\n",
       "    </tr>\n",
       "    <tr>\n",
       "      <th>46650936</th>\n",
       "      <td>2018-09-14 09:47:31.000</td>\n",
       "      <td>410000157616</td>\n",
       "      <td>2019-08-02 20:14:23.166</td>\n",
       "      <td>510.00</td>\n",
       "      <td>ACHDDIN</td>\n",
       "      <td>500.00</td>\n",
       "      <td>True</td>\n",
       "      <td>12447</td>\n",
       "    </tr>\n",
       "    <tr>\n",
       "      <th>46650943</th>\n",
       "      <td>2018-09-16 18:53:06.000</td>\n",
       "      <td>410000157616</td>\n",
       "      <td>2019-08-02 20:14:31.010</td>\n",
       "      <td>310.00</td>\n",
       "      <td>DDATMREFUND</td>\n",
       "      <td>5.00</td>\n",
       "      <td>True</td>\n",
       "      <td>12447</td>\n",
       "    </tr>\n",
       "    <tr>\n",
       "      <th>46650844</th>\n",
       "      <td>2018-09-16 18:53:06.000</td>\n",
       "      <td>410000157616</td>\n",
       "      <td>2019-08-02 20:10:12.168</td>\n",
       "      <td>305.00</td>\n",
       "      <td>DWATM</td>\n",
       "      <td>205.00</td>\n",
       "      <td>False</td>\n",
       "      <td>12447</td>\n",
       "    </tr>\n",
       "    <tr>\n",
       "      <th>46650945</th>\n",
       "      <td>2018-09-17 02:43:27.000</td>\n",
       "      <td>410000157616</td>\n",
       "      <td>2019-08-02 20:14:31.643</td>\n",
       "      <td>288.50</td>\n",
       "      <td>POSDW</td>\n",
       "      <td>21.50</td>\n",
       "      <td>False</td>\n",
       "      <td>12447</td>\n",
       "    </tr>\n",
       "    <tr>\n",
       "      <th>...</th>\n",
       "      <td>...</td>\n",
       "      <td>...</td>\n",
       "      <td>...</td>\n",
       "      <td>...</td>\n",
       "      <td>...</td>\n",
       "      <td>...</td>\n",
       "      <td>...</td>\n",
       "      <td>...</td>\n",
       "    </tr>\n",
       "    <tr>\n",
       "      <th>33615285</th>\n",
       "      <td>2020-10-16 22:01:06.000</td>\n",
       "      <td>410000157616</td>\n",
       "      <td>2020-10-16 22:01:12.969</td>\n",
       "      <td>600.15</td>\n",
       "      <td>ACHDD</td>\n",
       "      <td>100.00</td>\n",
       "      <td>True</td>\n",
       "      <td>12447</td>\n",
       "    </tr>\n",
       "    <tr>\n",
       "      <th>9121575</th>\n",
       "      <td>2020-11-01 04:03:26.000</td>\n",
       "      <td>410000157616</td>\n",
       "      <td>2020-11-01 04:05:41.582</td>\n",
       "      <td>600.26</td>\n",
       "      <td>IIPD</td>\n",
       "      <td>0.11</td>\n",
       "      <td>True</td>\n",
       "      <td>12447</td>\n",
       "    </tr>\n",
       "    <tr>\n",
       "      <th>43759885</th>\n",
       "      <td>2020-11-16 23:01:12.000</td>\n",
       "      <td>410000157616</td>\n",
       "      <td>2020-11-16 23:02:33.085</td>\n",
       "      <td>0.00</td>\n",
       "      <td>ACHDW</td>\n",
       "      <td>600.26</td>\n",
       "      <td>False</td>\n",
       "      <td>12447</td>\n",
       "    </tr>\n",
       "    <tr>\n",
       "      <th>53079334</th>\n",
       "      <td>2020-12-01 05:03:26.000</td>\n",
       "      <td>410000157616</td>\n",
       "      <td>2020-12-01 05:05:19.136</td>\n",
       "      <td>0.06</td>\n",
       "      <td>IIPD</td>\n",
       "      <td>0.06</td>\n",
       "      <td>True</td>\n",
       "      <td>12447</td>\n",
       "    </tr>\n",
       "    <tr>\n",
       "      <th>19602146</th>\n",
       "      <td>2020-12-09 23:01:11.000</td>\n",
       "      <td>410000157616</td>\n",
       "      <td>2020-12-10 00:02:40.789</td>\n",
       "      <td>0.00</td>\n",
       "      <td>ACHDW</td>\n",
       "      <td>0.06</td>\n",
       "      <td>False</td>\n",
       "      <td>12447</td>\n",
       "    </tr>\n",
       "  </tbody>\n",
       "</table>\n",
       "<p>288 rows × 8 columns</p>\n",
       "</div>"
      ],
      "text/plain": [
       "             transaction_datetime  business_account_number  \\\n",
       "40592890  2018-09-01 04:03:42.000             410000157616   \n",
       "46650936  2018-09-14 09:47:31.000             410000157616   \n",
       "46650943  2018-09-16 18:53:06.000             410000157616   \n",
       "46650844  2018-09-16 18:53:06.000             410000157616   \n",
       "46650945  2018-09-17 02:43:27.000             410000157616   \n",
       "...                           ...                      ...   \n",
       "33615285  2020-10-16 22:01:06.000             410000157616   \n",
       "9121575   2020-11-01 04:03:26.000             410000157616   \n",
       "43759885  2020-11-16 23:01:12.000             410000157616   \n",
       "53079334  2020-12-01 05:03:26.000             410000157616   \n",
       "19602146  2020-12-09 23:01:11.000             410000157616   \n",
       "\n",
       "                       created_dt  endbal transaction_code  \\\n",
       "40592890  2019-08-02 20:12:26.380   10.00             IIPD   \n",
       "46650936  2019-08-02 20:14:23.166  510.00          ACHDDIN   \n",
       "46650943  2019-08-02 20:14:31.010  310.00      DDATMREFUND   \n",
       "46650844  2019-08-02 20:10:12.168  305.00            DWATM   \n",
       "46650945  2019-08-02 20:14:31.643  288.50            POSDW   \n",
       "...                           ...     ...              ...   \n",
       "33615285  2020-10-16 22:01:12.969  600.15            ACHDD   \n",
       "9121575   2020-11-01 04:05:41.582  600.26             IIPD   \n",
       "43759885  2020-11-16 23:02:33.085    0.00            ACHDW   \n",
       "53079334  2020-12-01 05:05:19.136    0.06             IIPD   \n",
       "19602146  2020-12-10 00:02:40.789    0.00            ACHDW   \n",
       "\n",
       "          transaction_amount  is_credit  user_id  \n",
       "40592890                0.00       True    12447  \n",
       "46650936              500.00       True    12447  \n",
       "46650943                5.00       True    12447  \n",
       "46650844              205.00      False    12447  \n",
       "46650945               21.50      False    12447  \n",
       "...                      ...        ...      ...  \n",
       "33615285              100.00       True    12447  \n",
       "9121575                 0.11       True    12447  \n",
       "43759885              600.26      False    12447  \n",
       "53079334                0.06       True    12447  \n",
       "19602146                0.06      False    12447  \n",
       "\n",
       "[288 rows x 8 columns]"
      ]
     },
     "execution_count": 10,
     "metadata": {},
     "output_type": "execute_result"
    }
   ],
   "source": [
    "df[df.user_id == 12447].sort_values(\"transaction_datetime\")"
   ]
  },
  {
   "cell_type": "code",
   "execution_count": null,
   "metadata": {},
   "outputs": [],
   "source": []
  }
 ],
 "metadata": {
  "kernelspec": {
   "display_name": "conda_customer_risk",
   "language": "python",
   "name": "conda_customer_risk"
  },
  "language_info": {
   "codemirror_mode": {
    "name": "ipython",
    "version": 3
   },
   "file_extension": ".py",
   "mimetype": "text/x-python",
   "name": "python",
   "nbconvert_exporter": "python",
   "pygments_lexer": "ipython3",
   "version": "3.7.12"
  }
 },
 "nbformat": 4,
 "nbformat_minor": 4
}
