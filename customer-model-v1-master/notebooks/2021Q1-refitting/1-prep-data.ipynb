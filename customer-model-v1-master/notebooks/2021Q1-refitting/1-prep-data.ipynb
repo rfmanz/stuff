{
 "cells": [
  {
   "cell_type": "markdown",
   "metadata": {},
   "source": [
    "#### Get Produced Data\n",
    "---"
   ]
  },
  {
   "cell_type": "code",
   "execution_count": 1,
   "metadata": {},
   "outputs": [],
   "source": [
    "import sys, os, json\n",
    "sys.path.insert(1, \"../../\")\n",
    "from src.combine import combine_data\n",
    "import pandas as pd\n",
    "import numpy as np\n",
    "import matplotlib.pyplot as plt\n",
    "\n",
    "%matplotlib inline\n",
    "plt.style.use('seaborn')\n",
    "\n",
    "%load_ext autoreload\n",
    "%autoreload 2\n",
    "\n",
    "import warnings\n",
    "warnings.filterwarnings(\"ignore\")"
   ]
  },
  {
   "cell_type": "code",
   "execution_count": 2,
   "metadata": {},
   "outputs": [
    {
     "name": "stdout",
     "output_type": "stream",
     "text": [
      "CPU times: user 7.28 s, sys: 23.9 s, total: 31.2 s\n",
      "Wall time: 1.74 s\n"
     ]
    }
   ],
   "source": [
    "%%time\n",
    "# df = pd.read_feather(\"../../data/combined_all_features/combined_1620601578.feather\")\n",
    "df = pd.read_feather(\"../../data/combined_all_features/combined_1620855093.feather\")"
   ]
  },
  {
   "cell_type": "code",
   "execution_count": 3,
   "metadata": {},
   "outputs": [],
   "source": [
    "# def build_indeterminate(df):\n",
    "#     return ((pd.to_datetime(df[\"dtc\"]) <= df[\"sample_date\"])\n",
    "#             | (df[\"last_unrestricted_date\"] <= df[\"sample_date\"])\n",
    "#             | (df[\"chg_wrt_off_date\"] <= df[\"sample_date\"])\n",
    "#             | (df[\"target\"] & (df[\"latest_acc_bal\"] > 0))\n",
    "#             | (\n",
    "#                 ~df[\"target\"] & (~df[\"chg_wrt_off_date\"].isna())\n",
    "#                 | (df[\"latest_acc_bal\"] < 0)\n",
    "#                 | (\n",
    "#                     df[\"closed_reason\"].isin(\n",
    "#                         [\n",
    "#                             \"Closed by SoFi - Risk Request\",\n",
    "#                             \"Closed by SoFi - Charge-Off / Write-Off\",\n",
    "#                         ]\n",
    "#                     )\n",
    "#                 )\n",
    "#                 | (df[\"restricted_reason\"].str.startswith(\"No\"))\n",
    "#             ))\n",
    "\n",
    "# df[\"indeterminate\"] = build_indeterminate(df)"
   ]
  },
  {
   "cell_type": "code",
   "execution_count": 4,
   "metadata": {},
   "outputs": [],
   "source": [
    "with open(\"../../config.json\", \"r\") as f:\n",
    "    config = json.load(f)\n",
    "\n",
    "sample_start = config[\"date_sample_start\"]\n",
    "sample_end = config[\"date_sample_end\"]\n",
    "static_sample_dates = config[\"static_sample_dates\"]"
   ]
  },
  {
   "cell_type": "code",
   "execution_count": 5,
   "metadata": {},
   "outputs": [
    {
     "data": {
      "text/plain": [
       "<AxesSubplot:>"
      ]
     },
     "execution_count": 5,
     "metadata": {},
     "output_type": "execute_result"
    },
    {
     "data": {
      "image/png": "[encoded data removed]",
      "text/plain": [
       "<Figure size 576x396 with 1 Axes>"
      ]
     },
     "metadata": {},
     "output_type": "display_data"
    }
   ],
   "source": [
    "df[df.sample_date.between(pd.to_datetime(sample_start),\n",
    "                          pd.to_datetime(sample_end))].sample_date.hist(bins=100, alpha=0.4)\n",
    "\n",
    "df[df.sample_date > pd.to_datetime(sample_end)].sample_date.hist(bins=10, alpha=0.4)"
   ]
  },
  {
   "cell_type": "code",
   "execution_count": 6,
   "metadata": {},
   "outputs": [
    {
     "data": {
      "text/plain": [
       "['2019-03-15',\n",
       " '2019-05-27',\n",
       " '2019-08-08',\n",
       " '2019-10-20',\n",
       " '2020-01-01',\n",
       " '2020-03-14',\n",
       " '2020-05-26',\n",
       " '2020-08-07',\n",
       " '2020-10-19',\n",
       " '2020-12-31',\n",
       " '2021-01-01',\n",
       " '2021-02-01',\n",
       " '2021-03-14']"
      ]
     },
     "execution_count": 6,
     "metadata": {},
     "output_type": "execute_result"
    }
   ],
   "source": [
    "static_sample_dates"
   ]
  },
  {
   "cell_type": "code",
   "execution_count": 7,
   "metadata": {},
   "outputs": [
    {
     "data": {
      "text/plain": [
       "(Timestamp('2019-02-01 00:00:00'), Timestamp('2021-03-14 00:00:00'))"
      ]
     },
     "execution_count": 7,
     "metadata": {},
     "output_type": "execute_result"
    }
   ],
   "source": [
    "df.sample_date.min(), df.sample_date.max()"
   ]
  },
  {
   "cell_type": "code",
   "execution_count": 8,
   "metadata": {},
   "outputs": [],
   "source": [
    "mmonth = \"202104\"\n",
    "s3_base_path = f\"s3://sofi-data-science/jxu/money-risk-models/customer-risk-model/monitor/{mmonth}\"\n",
    "\n",
    "train_start = pd.to_datetime(\"2019-01-16\")\n",
    "train_end = pd.to_datetime(\"2020-12-31\")\n",
    "valid_dates = [pd.to_datetime(d) for d in [\"2021-01-01\", \"2021-02-01\"]]"
   ]
  },
  {
   "cell_type": "code",
   "execution_count": 9,
   "metadata": {},
   "outputs": [
    {
     "data": {
      "text/plain": [
       "((4656758, 91), (1381296, 91))"
      ]
     },
     "execution_count": 9,
     "metadata": {},
     "output_type": "execute_result"
    }
   ],
   "source": [
    "train_df = df[df.sample_date.between(train_start, train_end)]\n",
    "test_df = df[df.sample_date.isin(valid_dates)]\n",
    "train_df.shape, test_df.shape"
   ]
  },
  {
   "cell_type": "code",
   "execution_count": 10,
   "metadata": {},
   "outputs": [
    {
     "data": {
      "text/plain": [
       "<AxesSubplot:>"
      ]
     },
     "execution_count": 10,
     "metadata": {},
     "output_type": "execute_result"
    },
    {
     "data": {
      "image/png": "[encoded data removed]",
      "text/plain": [
       "<Figure size 576x396 with 1 Axes>"
      ]
     },
     "metadata": {},
     "output_type": "display_data"
    }
   ],
   "source": [
    "train_df.sample_date.hist(bins=100)\n",
    "test_df.sample_date.hist(bins=10)"
   ]
  },
  {
   "cell_type": "code",
   "execution_count": 11,
   "metadata": {},
   "outputs": [],
   "source": [
    "train_df.to_parquet(os.path.join(s3_base_path, \"dev_train_20201231.parquet\"))\n",
    "test_df.to_parquet(os.path.join(s3_base_path, \"dev_test_20210101_20210201.parquet\"))"
   ]
  },
  {
   "cell_type": "markdown",
   "metadata": {},
   "source": [
    "### Target and Inde statistics\n",
    "---"
   ]
  },
  {
   "cell_type": "code",
   "execution_count": 12,
   "metadata": {},
   "outputs": [
    {
     "data": {
      "text/plain": [
       "target  indeterminate\n",
       "False   False            0.598379\n",
       "        True             0.364380\n",
       "True    False            0.028351\n",
       "        True             0.008890\n",
       "dtype: float64"
      ]
     },
     "execution_count": 12,
     "metadata": {},
     "output_type": "execute_result"
    }
   ],
   "source": [
    "train_df[[\"target\", \"indeterminate\"]].value_counts(normalize=True).sort_index()"
   ]
  },
  {
   "cell_type": "code",
   "execution_count": 13,
   "metadata": {},
   "outputs": [
    {
     "data": {
      "text/plain": [
       "is_static  target\n",
       "False      False     0.469048\n",
       "           True      0.031609\n",
       "True       False     0.493711\n",
       "           True      0.005632\n",
       "dtype: float64"
      ]
     },
     "execution_count": 13,
     "metadata": {},
     "output_type": "execute_result"
    }
   ],
   "source": [
    "train_df[[\"is_static\", \"target\"]].value_counts(normalize=True).sort_index()"
   ]
  },
  {
   "cell_type": "markdown",
   "metadata": {},
   "source": [
    "Dynamic sampling contributes a large number of true targets, which is among the purposes of employing this method -> we would like to capture such behaviors around transactional actions."
   ]
  },
  {
   "cell_type": "code",
   "execution_count": 14,
   "metadata": {},
   "outputs": [
    {
     "data": {
      "text/plain": [
       "target  indeterminate\n",
       "False   False            0.189162\n",
       "        True             0.803561\n",
       "True    False            0.004209\n",
       "        True             0.003067\n",
       "dtype: float64"
      ]
     },
     "execution_count": 14,
     "metadata": {},
     "output_type": "execute_result"
    }
   ],
   "source": [
    "test_df[[\"target\", \"indeterminate\"]].value_counts(normalize=True).sort_index()"
   ]
  },
  {
   "cell_type": "code",
   "execution_count": null,
   "metadata": {},
   "outputs": [],
   "source": []
  },
  {
   "cell_type": "code",
   "execution_count": null,
   "metadata": {},
   "outputs": [],
   "source": []
  },
  {
   "cell_type": "code",
   "execution_count": null,
   "metadata": {},
   "outputs": [],
   "source": []
  }
 ],
 "metadata": {
  "kernelspec": {
   "display_name": "conda_python3",
   "language": "python",
   "name": "conda_python3"
  },
  "language_info": {
   "codemirror_mode": {
    "name": "ipython",
    "version": 3
   },
   "file_extension": ".py",
   "mimetype": "text/x-python",
   "name": "python",
   "nbconvert_exporter": "python",
   "pygments_lexer": "ipython3",
   "version": "3.6.13"
  }
 },
 "nbformat": 4,
 "nbformat_minor": 4
}
