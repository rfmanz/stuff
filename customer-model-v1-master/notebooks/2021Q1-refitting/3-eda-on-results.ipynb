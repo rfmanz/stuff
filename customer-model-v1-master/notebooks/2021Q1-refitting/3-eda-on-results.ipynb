{
 "cells": [
  {
   "cell_type": "markdown",
   "id": "49e3e3e3",
   "metadata": {},
   "source": [
    "## EDA on Model Behaviors\n",
    "---\n",
    "\n",
    "In this refit we uncoverred a lot of...behavioral differences of the model. We will use this notebook to find out why and iterate on improving the model.\n",
    "\n",
    "\n",
    "### Goal\n",
    "We need to create a model that:\n",
    "1. have good performance metrics\n",
    "2. have similar scoring performance with respect to the incumbent model\n",
    "    * by preserving users in the same bin\n",
    "    * and/or similar score distribution for active and in-active users\n",
    "3. reduced features used\n",
    "\n",
    "### Currently experimenting: TODO\n",
    "---\n",
    "Some thoughts: with experience I have now, two directions stand out from the rest:\n",
    "0. Observe score distribution at the point of model development\n",
    "1. modify the train-validate time range. \n",
    "2. reweigh active, inactive, and indeterminates\n",
    "\n",
    "Most of our headache comes from when the model being lenient on in-active accounts. It would be made worse, of course, if the model penalizes good users.\n",
    "\n",
    "If I have superpower, the 4x4 active score distribution plot will shift in the way such that:\n",
    "* top-left: new score shifts right \n",
    "* top-right: new score shifts right\n",
    "* bottom-left: new score shifts left\n",
    "* bottom-right: new score shifts right\n",
    "\n",
    "**Consider treating inactive as some kind of bad? give it less weight maybe?**\n",
    "\n",
    "**TODO**\n",
    "- [ ] study model behavior if trained over different train data range\n",
    "    - see if we can rediscover the originally train model\n",
    "    - study the behavior with and without dropping indeterminate from a historical perspective\n",
    "    - also the effect of dropping the active accounts from the static data\n",
    "- [ ] continuing bullet 3 in the last todo, consider broader reweighing mechanism\n",
    "\n",
    "\n",
    "#### Notebook 4.1\n",
    "* Method 1: new ind def, drop during training\n",
    "    * result similar to new ind def, refitted - not good enough\n",
    "* Method 2: old ind def, drop during training\n",
    "    * result similar to old ind def, refitted - not good enough\n",
    "* **Promising** Method 3: kept ind during training\n",
    "    * performance metric similar to the our score_20201130_w_ind_bad_rate option. The score distribution is better as the score_distribution is closer to the original model than the\n",
    "* Method 4: kept ind during training, scaled by bad rate\n",
    "    * no significant out-performance w.r.t. Method 3\n",
    "* Method 5: kept ind during training, with 200 trees instead of 1400\n",
    "    * Same as 5.1\n",
    "* Method 5.1: kept ind during training, with 200 trees instead of 1400, scaled by bad rate\n",
    "    * Slightly underperformed Method 3, and performance segmented by activeness does not behave well\n",
    "\n",
    "\n",
    "* Method 6: dropped ind during training, with WOE monotonic constraints\n",
    "* Method 7: dropped ind during training\n",
    "\n",
    "\n",
    "### In addition, we can \n",
    "* [ ] reduce the range of date used for training. This may allow closer relation with respect to the original dataset used.\n",
    "* [x] measure psi of indeterminates\n",
    "    * [ ] change to multi-class classification, with indeterminates as its individual class\n",
    "* [ ] rescale by indeterminates"
   ]
  },
  {
   "cell_type": "markdown",
   "id": "5ba85997",
   "metadata": {},
   "source": [
    "#### PSI of Indeterminates\n",
    "---"
   ]
  },
  {
   "cell_type": "code",
   "execution_count": 1,
   "id": "dc220079",
   "metadata": {},
   "outputs": [],
   "source": [
    "import sys, os, json\n",
    "sys.path.insert(1, \"../../\")\n",
    "import pandas as pd\n",
    "import numpy as np\n",
    "from tqdm import tqdm\n",
    "import matplotlib.pyplot as plt\n",
    "import pickle as pkl\n",
    "import seaborn as sns\n",
    "import lightgbm as lgb\n",
    "import src.monitoring.utils as mu\n",
    "import src.monitoring.monitoring as mntr\n",
    "import rdsutils.score_alignment as sa\n",
    "import rdsutils\n",
    "\n",
    "%matplotlib inline\n",
    "plt.style.use('seaborn')\n",
    "\n",
    "%load_ext autoreload\n",
    "%autoreload 2\n",
    "\n",
    "import warnings\n",
    "warnings.filterwarnings(\"ignore\")"
   ]
  },
  {
   "cell_type": "code",
   "execution_count": 2,
   "id": "035f604e",
   "metadata": {},
   "outputs": [],
   "source": [
    "# prev data\n",
    "# dev_path = \"s3://sofi-data-science/jxu/money-risk-models/customer-risk-model/data/tb-dev/modeling_df_final_2020-05-14.feather\"\n",
    "# df = pd.read_feather(dev_path)\n",
    "# df = mu.preprocess(df)\n",
    "# df.shape, \"indeterminate\" in df.columns\n",
    "\n",
    "# we do not have indeterminate in the old df, need to segment the current df"
   ]
  },
  {
   "cell_type": "code",
   "execution_count": 3,
   "id": "34f6f8b6",
   "metadata": {},
   "outputs": [],
   "source": [
    "# train valid data\n",
    "mmonth = \"202104\"\n",
    "s3_base_path = f\"s3://sofi-data-science/jxu/money-risk-models/customer-risk-model/monitor/{mmonth}\"\n",
    "train_df = pd.read_parquet(os.path.join(s3_base_path, \"dev_train_scored.parquet\"))\n",
    "test_df = pd.read_parquet(os.path.join(s3_base_path, \"dev_test_scored.parquet\"))"
   ]
  },
  {
   "cell_type": "code",
   "execution_count": 20,
   "id": "82a5a54f",
   "metadata": {},
   "outputs": [],
   "source": [
    "def build_indeterminate(df):\n",
    "    return ((pd.to_datetime(df[\"dtc\"]) <= df[\"sample_date\"])\n",
    "            | (df[\"last_unrestricted_date\"] <= df[\"sample_date\"])\n",
    "            | (df[\"chg_wrt_off_date\"] <= df[\"sample_date\"])\n",
    "            | (df[\"target\"] & (df[\"latest_acc_bal\"] > 0))\n",
    "            | (\n",
    "                ~df[\"target\"] & (~df[\"chg_wrt_off_date\"].isna())\n",
    "                | (df[\"latest_acc_bal\"] < 0)\n",
    "                | (\n",
    "                    df[\"closed_reason\"].isin(\n",
    "                        [\n",
    "                            \"Closed by SoFi - Risk Request\",\n",
    "                            \"Closed by SoFi - Charge-Off / Write-Off\",\n",
    "                        ]\n",
    "                    )\n",
    "                )\n",
    "                | (df[\"restricted_reason\"].str.startswith(\"No\"))\n",
    "            ))\n",
    "\n",
    "train_df[\"indeterminate_prev\"] = build_indeterminate(train_df)  \n",
    "test_df[\"indeterminate_prev\"] = build_indeterminate(test_df)"
   ]
  },
  {
   "cell_type": "markdown",
   "id": "ba4cbd71",
   "metadata": {},
   "source": [
    "### Test data indeterminate PSI"
   ]
  },
  {
   "cell_type": "code",
   "execution_count": 21,
   "id": "0ada272c",
   "metadata": {},
   "outputs": [
    {
     "data": {
      "text/plain": [
       "((166781, 96), (653852, 107))"
      ]
     },
     "execution_count": 21,
     "metadata": {},
     "output_type": "execute_result"
    }
   ],
   "source": [
    "df_past = train_df[train_df.sample_date == pd.to_datetime(\"2020-01-01\")]\n",
    "df_now = test_df[test_df.sample_date == pd.to_datetime(\"2021-01-01\")]\n",
    "df_past.shape, df_now.shape"
   ]
  },
  {
   "cell_type": "code",
   "execution_count": 22,
   "id": "25bd4703",
   "metadata": {},
   "outputs": [
    {
     "data": {
      "text/plain": [
       "False    0.97023\n",
       "True     0.02977\n",
       "Name: indeterminate_prev, dtype: float64"
      ]
     },
     "execution_count": 22,
     "metadata": {},
     "output_type": "execute_result"
    }
   ],
   "source": [
    "df_past.indeterminate_prev.value_counts(normalize=True)"
   ]
  },
  {
   "cell_type": "code",
   "execution_count": 25,
   "id": "dd2444ca",
   "metadata": {},
   "outputs": [
    {
     "data": {
      "text/plain": [
       "True     0.622865\n",
       "False    0.377135\n",
       "Name: indeterminate, dtype: float64"
      ]
     },
     "execution_count": 25,
     "metadata": {},
     "output_type": "execute_result"
    }
   ],
   "source": [
    "df_past.indeterminate.value_counts(normalize=True)"
   ]
  },
  {
   "cell_type": "code",
   "execution_count": 26,
   "id": "702a97a8",
   "metadata": {},
   "outputs": [
    {
     "data": {
      "text/plain": [
       "True     0.805106\n",
       "False    0.194894\n",
       "Name: indeterminate, dtype: float64"
      ]
     },
     "execution_count": 26,
     "metadata": {},
     "output_type": "execute_result"
    }
   ],
   "source": [
    "df_now.indeterminate.value_counts(normalize=True)"
   ]
  },
  {
   "cell_type": "code",
   "execution_count": 5,
   "id": "02935add",
   "metadata": {},
   "outputs": [
    {
     "data": {
      "text/html": [
       "<div>\n",
       "<style scoped>\n",
       "    .dataframe tbody tr th:only-of-type {\n",
       "        vertical-align: middle;\n",
       "    }\n",
       "\n",
       "    .dataframe tbody tr th {\n",
       "        vertical-align: top;\n",
       "    }\n",
       "\n",
       "    .dataframe thead th {\n",
       "        text-align: right;\n",
       "    }\n",
       "</style>\n",
       "<table border=\"1\" class=\"dataframe\">\n",
       "  <thead>\n",
       "    <tr style=\"text-align: right;\">\n",
       "      <th></th>\n",
       "      <th>feature</th>\n",
       "      <th>psi</th>\n",
       "    </tr>\n",
       "  </thead>\n",
       "  <tbody>\n",
       "    <tr>\n",
       "      <th>0</th>\n",
       "      <td>indeterminate</td>\n",
       "      <td>0.16708</td>\n",
       "    </tr>\n",
       "  </tbody>\n",
       "</table>\n",
       "</div>"
      ],
      "text/plain": [
       "         feature      psi\n",
       "0  indeterminate  0.16708"
      ]
     },
     "execution_count": 5,
     "metadata": {},
     "output_type": "execute_result"
    }
   ],
   "source": [
    "from rdsutils.post_implementation_testing import (\n",
    "    get_psi\n",
    ")\n",
    "\n",
    "psi_df = get_psi(df_past.indeterminate.to_frame().astype(int), \n",
    "                 df_now.indeterminate.to_frame().astype(int),\n",
    "                 buckets=2).round(5)\n",
    "psi_df"
   ]
  },
  {
   "cell_type": "code",
   "execution_count": 6,
   "id": "a1bb894c",
   "metadata": {},
   "outputs": [
    {
     "data": {
      "text/plain": [
       "True     0.622865\n",
       "False    0.377135\n",
       "Name: indeterminate, dtype: float64"
      ]
     },
     "execution_count": 6,
     "metadata": {},
     "output_type": "execute_result"
    }
   ],
   "source": [
    "df_past.indeterminate.value_counts(normalize=True)"
   ]
  },
  {
   "cell_type": "code",
   "execution_count": 7,
   "id": "617ceef5",
   "metadata": {},
   "outputs": [
    {
     "data": {
      "text/plain": [
       "True     0.805106\n",
       "False    0.194894\n",
       "Name: indeterminate, dtype: float64"
      ]
     },
     "execution_count": 7,
     "metadata": {},
     "output_type": "execute_result"
    }
   ],
   "source": [
    "df_now.indeterminate.value_counts(normalize=True)"
   ]
  },
  {
   "cell_type": "markdown",
   "id": "1eba9899",
   "metadata": {},
   "source": [
    "### Justify how does dropping inactive bads make such a huge difference now\n",
    "\n",
    "#### Compare the historical training data with and without that indeterminate feature"
   ]
  },
  {
   "cell_type": "code",
   "execution_count": 8,
   "id": "92b13411",
   "metadata": {},
   "outputs": [
    {
     "data": {
      "text/plain": [
       "<AxesSubplot:>"
      ]
     },
     "execution_count": 8,
     "metadata": {},
     "output_type": "execute_result"
    },
    {
     "data": {
      "image/png": "[encoded data removed]",
      "text/plain": [
       "<Figure size 576x396 with 1 Axes>"
      ]
     },
     "metadata": {},
     "output_type": "display_data"
    }
   ],
   "source": [
    "train_df.sample_date.hist(bins=100)"
   ]
  },
  {
   "cell_type": "code",
   "execution_count": 13,
   "id": "10d13a68",
   "metadata": {},
   "outputs": [],
   "source": [
    "df_past = train_df[train_df.sample_date <= pd.to_datetime(\"2020-01-01\")]\n",
    "df_now = train_df"
   ]
  },
  {
   "cell_type": "code",
   "execution_count": 16,
   "id": "18af9d2a",
   "metadata": {},
   "outputs": [
    {
     "data": {
      "text/plain": [
       "False    0.930807\n",
       "True     0.069193\n",
       "Name: indeterminate_prev, dtype: float64"
      ]
     },
     "execution_count": 16,
     "metadata": {},
     "output_type": "execute_result"
    }
   ],
   "source": [
    "df_past.indeterminate_prev.value_counts(normalize=True)"
   ]
  },
  {
   "cell_type": "code",
   "execution_count": 18,
   "id": "555b1ca5",
   "metadata": {},
   "outputs": [
    {
     "data": {
      "text/plain": [
       "indeterminate  indeterminate_prev\n",
       "False          False                 0.674662\n",
       "True           False                 0.256144\n",
       "False          True                  0.047928\n",
       "True           True                  0.021265\n",
       "dtype: float64"
      ]
     },
     "execution_count": 18,
     "metadata": {},
     "output_type": "execute_result"
    }
   ],
   "source": [
    "df_past[[\"indeterminate\", \"indeterminate_prev\"]].value_counts(normalize=True)"
   ]
  },
  {
   "cell_type": "code",
   "execution_count": 14,
   "id": "59072768",
   "metadata": {},
   "outputs": [
    {
     "data": {
      "text/plain": [
       "False    0.72259\n",
       "True     0.27741\n",
       "Name: indeterminate, dtype: float64"
      ]
     },
     "execution_count": 14,
     "metadata": {},
     "output_type": "execute_result"
    }
   ],
   "source": [
    "df_past.indeterminate.value_counts(normalize=True)"
   ]
  },
  {
   "cell_type": "code",
   "execution_count": 15,
   "id": "b45ffd0e",
   "metadata": {},
   "outputs": [
    {
     "data": {
      "text/plain": [
       "False    0.62673\n",
       "True     0.37327\n",
       "Name: indeterminate, dtype: float64"
      ]
     },
     "execution_count": 15,
     "metadata": {},
     "output_type": "execute_result"
    }
   ],
   "source": [
    "df_now.indeterminate.value_counts(normalize=True)"
   ]
  },
  {
   "cell_type": "markdown",
   "id": "27b9db7e",
   "metadata": {},
   "source": [
    "#### Those are statistics on training data\n",
    "\n",
    "In terms of training data, we are able to replicate it by dropped the inactive accounts. "
   ]
  },
  {
   "cell_type": "code",
   "execution_count": null,
   "id": "d5cd184d",
   "metadata": {},
   "outputs": [],
   "source": []
  }
 ],
 "metadata": {
  "kernelspec": {
   "display_name": "conda_customer_risk",
   "language": "python",
   "name": "conda_customer_risk"
  },
  "language_info": {
   "codemirror_mode": {
    "name": "ipython",
    "version": 3
   },
   "file_extension": ".py",
   "mimetype": "text/x-python",
   "name": "python",
   "nbconvert_exporter": "python",
   "pygments_lexer": "ipython3",
   "version": "3.7.10"
  }
 },
 "nbformat": 4,
 "nbformat_minor": 5
}
