{
 "cells": [
  {
   "cell_type": "markdown",
   "id": "3dbb1f53",
   "metadata": {},
   "source": [
    "## Before Productionizing\n",
    "---\n",
    "\n",
    "- [ ] Verify Model: Make sure we stored the correct model to be put into production.\n",
    "- [ ] Create/Get tests"
   ]
  },
  {
   "cell_type": "markdown",
   "id": "7af1edea",
   "metadata": {},
   "source": [
    "#### Verify Model"
   ]
  },
  {
   "cell_type": "code",
   "execution_count": 1,
   "id": "8d25cafd",
   "metadata": {},
   "outputs": [
    {
     "name": "stdout",
     "output_type": "stream",
     "text": [
      "Looking in indexes: https://repository.sofi.com/artifactory/api/pypi/pypi/simple\n",
      "Collecting proto-utils\n",
      "  Downloading https://repository.sofi.com/artifactory/api/pypi/pypi/proto-utils/0.0.0/proto_utils-0.0.0-py3-none-any.whl (7.2 kB)\n",
      "Requirement already satisfied: protobuf>=3.9.1 in /home/ec2-user/anaconda3/envs/customer_risk/lib/python3.7/site-packages (from proto-utils) (3.18.0)\n",
      "Requirement already satisfied: numpy>=1.17.2 in /home/ec2-user/anaconda3/envs/customer_risk/lib/python3.7/site-packages (from proto-utils) (1.21.2)\n",
      "Requirement already satisfied: pandas>=0.24.2 in /home/ec2-user/anaconda3/envs/customer_risk/lib/python3.7/site-packages (from proto-utils) (1.3.3)\n",
      "Requirement already satisfied: pytz>=2017.3 in /home/ec2-user/anaconda3/envs/customer_risk/lib/python3.7/site-packages (from pandas>=0.24.2->proto-utils) (2021.3)\n",
      "Requirement already satisfied: python-dateutil>=2.7.3 in /home/ec2-user/anaconda3/envs/customer_risk/lib/python3.7/site-packages (from pandas>=0.24.2->proto-utils) (2.8.2)\n",
      "Requirement already satisfied: six>=1.5 in /home/ec2-user/anaconda3/envs/customer_risk/lib/python3.7/site-packages (from python-dateutil>=2.7.3->pandas>=0.24.2->proto-utils) (1.16.0)\n",
      "Installing collected packages: proto-utils\n",
      "Successfully installed proto-utils-0.0.0\n",
      "Note: you may need to restart the kernel to use updated packages.\n"
     ]
    }
   ],
   "source": [
    "pip install -i https://repository.sofi.com/artifactory/api/pypi/pypi/simple proto-utils"
   ]
  },
  {
   "cell_type": "code",
   "execution_count": 2,
   "id": "0d9f5565",
   "metadata": {},
   "outputs": [],
   "source": [
    "import sys, os, json\n",
    "sys.path.append('../..')\n",
    "import pandas as pd\n",
    "import pickle as pkl\n",
    "import lightgbm as lgb\n",
    "from tqdm import tqdm\n",
    "import src.monitoring.monitoring as mntr\n",
    "from smart_open import open\n",
    "import src.monitoring.utils as mu\n",
    "\n",
    "import matplotlib.pyplot as plt\n",
    "plt.style.use(\"seaborn\")"
   ]
  },
  {
   "cell_type": "code",
   "execution_count": 3,
   "id": "a85fefe5",
   "metadata": {},
   "outputs": [],
   "source": [
    "import warnings\n",
    "import math\n",
    "from tqdm import tqdm\n",
    "import boto3\n",
    "warnings.simplefilter(action='ignore', category=FutureWarning)\n",
    "pd.options.mode.chained_assignment = None ## pd warning\n",
    "\n",
    "from proto_utils import nested_proto_to_dict\n",
    "from sofiproto.moneyfraud import customer_risk_v2_pb2\n",
    "from read_protobuf import read_protobuf\n",
    "from google.protobuf.json_format import MessageToDict, ParseDict \n",
    "\n",
    "from smart_open import open\n",
    "import pickle as pkl\n",
    "from rdsutils.post_implementation_testing import plot_score_dist, get_psi, get_overlap_and_diff\n",
    "from rdsutils.post_implementation_testing import plot_difference, get_combined_dfs, get_feature_comparison_report"
   ]
  },
  {
   "cell_type": "code",
   "execution_count": 4,
   "id": "9f9d228b",
   "metadata": {},
   "outputs": [],
   "source": [
    "def get_risk_groups(serie):\n",
    "    return pd.cut(serie.round(), [300, 474, 510, 560, 600, 850], \n",
    "                  right=True, labels=[f'RG{i}' for i in range(1, 6)],\n",
    "                  include_lowest=True)\n",
    "\n",
    "def get_risk_groups_refitted(serie):\n",
    "    return pd.cut(serie.round(), [300, 520, 550, 570, 600, 850], \n",
    "                  right=True, labels=[f'RG{i}' for i in range(1, 6)],\n",
    "                  include_lowest=True)"
   ]
  },
  {
   "cell_type": "code",
   "execution_count": 5,
   "id": "f968538c",
   "metadata": {},
   "outputs": [
    {
     "name": "stderr",
     "output_type": "stream",
     "text": [
      "/home/ec2-user/anaconda3/envs/customer_risk/lib/python3.7/site-packages/sklearn/base.py:333: UserWarning: Trying to unpickle estimator LabelEncoder from version 0.23.2 when using version 1.0. This might lead to breaking code or invalid results. Use at your own risk. For more info please refer to:\n",
      "https://scikit-learn.org/stable/modules/model_persistence.html#security-maintainability-limitations\n",
      "  UserWarning,\n",
      "/home/ec2-user/anaconda3/envs/customer_risk/lib/python3.7/site-packages/sklearn/base.py:333: UserWarning: Trying to unpickle estimator LabelEncoder from version 0.24.2 when using version 1.0. This might lead to breaking code or invalid results. Use at your own risk. For more info please refer to:\n",
      "https://scikit-learn.org/stable/modules/model_persistence.html#security-maintainability-limitations\n",
      "  UserWarning,\n"
     ]
    }
   ],
   "source": [
    "incumbent_model_path = \"s3://sofi-data-science/jxu/money-risk-models/models/customer_risk_target_no_giact_time_since_last_link.pkl\"\n",
    "refitted_model_path = \"s3://sofi-data-science/jxu/money-risk-models/models/customer_risk_refit_20201231_wo_ind.pkl\"\n",
    "\n",
    "with open(incumbent_model_path, \"rb\") as f:\n",
    "    incumbent_model = pkl.load(f)\n",
    "    \n",
    "with open(refitted_model_path, \"rb\") as f:\n",
    "    refitted_model = pkl.load(f)"
   ]
  },
  {
   "cell_type": "code",
   "execution_count": 9,
   "id": "50ba69b0",
   "metadata": {},
   "outputs": [],
   "source": [
    "df = pd.read_feather(\"../../data/combined_all_features/combined_1629343029.feather\")"
   ]
  },
  {
   "cell_type": "code",
   "execution_count": 10,
   "id": "c816d91a",
   "metadata": {},
   "outputs": [],
   "source": [
    "df = df[df.is_static]"
   ]
  },
  {
   "cell_type": "code",
   "execution_count": 11,
   "id": "5c6631e8",
   "metadata": {},
   "outputs": [],
   "source": []
  },
  {
   "cell_type": "code",
   "execution_count": 37,
   "id": "5bfc854c",
   "metadata": {},
   "outputs": [
    {
     "name": "stdout",
     "output_type": "stream",
     "text": [
      "sample_date  is_active\n",
      "2021-07-01   False        794889\n",
      "2021-06-01   False        757037\n",
      "2021-07-01   True         163346\n",
      "2021-06-01   True         151935\n",
      "dtype: int64\n"
     ]
    }
   ],
   "source": [
    "# other setups\n",
    "features = incumbent_model.feature_name_\n",
    "\n",
    "df = mu.prep_customer_data(df)  # get is_active here\n",
    "print(df[[\"sample_date\", \"is_active\"]].value_counts())\n",
    "\n",
    "df[\"pred_incumbent\"] = incumbent_model.predict_proba(df[features])[:,1]\n",
    "df[\"pred_refitted\"] = refitted_model.predict_proba(df[features])[:,1]\n",
    "\n",
    "df[\"score_incumbent\"] = mu.scale_scores(df[\"pred_incumbent\"])\n",
    "df[\"score_refitted\"] = mu.scale_scores(df[\"pred_refitted\"])\n",
    "\n",
    "df[\"rg_incumbent\"] = get_risk_groups(df[\"score_incumbent\"])\n",
    "df[\"rg_refitted\"] = get_risk_groups_refitted(df[\"score_refitted\"])"
   ]
  },
  {
   "cell_type": "code",
   "execution_count": 16,
   "id": "033513eb",
   "metadata": {},
   "outputs": [],
   "source": [
    "june_df = df[df.sample_date==pd.to_datetime(\"2021-06-01\")]\n",
    "july_df = df[df.sample_date==pd.to_datetime(\"2021-07-01\")]"
   ]
  },
  {
   "cell_type": "markdown",
   "id": "d29f5594",
   "metadata": {},
   "source": [
    "#### Look at score distributions and RGs\n",
    "---\n",
    "\n",
    "new RG [deck](https://docs.google.com/presentation/d/1TEmUfvi7mJpm_ODxh2I0EClngfBRPWah54x5XzEB19g/edit#slide=id.g6d627d5dac_0_0)"
   ]
  },
  {
   "cell_type": "code",
   "execution_count": 17,
   "id": "edf356ce",
   "metadata": {},
   "outputs": [
    {
     "data": {
      "text/plain": [
       "<AxesSubplot:>"
      ]
     },
     "execution_count": 17,
     "metadata": {},
     "output_type": "execute_result"
    },
    {
     "data": {
      "image/png": "[encoded data removed]",
      "text/plain": [
       "<Figure size 432x288 with 1 Axes>"
      ]
     },
     "metadata": {
      "needs_background": "light"
     },
     "output_type": "display_data"
    }
   ],
   "source": [
    "june_df.score_incumbent.hist(bins=100, alpha=0.4)\n",
    "june_df.score_refitted.hist(bins=100, alpha=0.4)"
   ]
  },
  {
   "cell_type": "code",
   "execution_count": 18,
   "id": "ad1d6743",
   "metadata": {},
   "outputs": [
    {
     "data": {
      "text/plain": [
       "<AxesSubplot:>"
      ]
     },
     "execution_count": 18,
     "metadata": {},
     "output_type": "execute_result"
    },
    {
     "data": {
      "image/png": "[encoded data removed]",
      "text/plain": [
       "<Figure size 432x288 with 1 Axes>"
      ]
     },
     "metadata": {
      "needs_background": "light"
     },
     "output_type": "display_data"
    }
   ],
   "source": [
    "july_df.score_incumbent.hist(bins=100, alpha=0.4)\n",
    "july_df.score_refitted.hist(bins=100, alpha=0.4)"
   ]
  },
  {
   "cell_type": "markdown",
   "id": "88cc4883",
   "metadata": {},
   "source": [
    "### Make sure the score is correct\n",
    "---\n",
    "\n",
    "load 20210101 data for verification"
   ]
  },
  {
   "cell_type": "code",
   "execution_count": 27,
   "id": "4ba54280",
   "metadata": {},
   "outputs": [],
   "source": [
    "test_path = 's3://sofi-data-science/jxu/monitoring/customer-risk-v1/archive/2021-06/test_df_2021-06.parquet'\n",
    "test_df = pd.read_parquet(test_path)"
   ]
  },
  {
   "cell_type": "code",
   "execution_count": 28,
   "id": "e7fadb23",
   "metadata": {},
   "outputs": [
    {
     "data": {
      "text/plain": [
       "(4762099, 91)"
      ]
     },
     "execution_count": 28,
     "metadata": {},
     "output_type": "execute_result"
    }
   ],
   "source": [
    "test_df.shape"
   ]
  },
  {
   "cell_type": "code",
   "execution_count": 29,
   "id": "f4c3ea38",
   "metadata": {},
   "outputs": [
    {
     "data": {
      "text/plain": [
       "<AxesSubplot:>"
      ]
     },
     "execution_count": 29,
     "metadata": {},
     "output_type": "execute_result"
    },
    {
     "data": {
      "image/png": "[encoded data removed]",
      "text/plain": [
       "<Figure size 432x288 with 1 Axes>"
      ]
     },
     "metadata": {
      "needs_background": "light"
     },
     "output_type": "display_data"
    }
   ],
   "source": [
    "test_df.sample_date.hist(bins=100)"
   ]
  },
  {
   "cell_type": "code",
   "execution_count": 35,
   "id": "c36da074",
   "metadata": {},
   "outputs": [],
   "source": [
    "monitoring_dates = [\"2021-01-01\", \"2021-02-01\", \"2021-03-01\"]"
   ]
  },
  {
   "cell_type": "code",
   "execution_count": 32,
   "id": "3cb09c20",
   "metadata": {},
   "outputs": [],
   "source": [
    "test_df = mu.prep_customer_data(test_df)\n",
    "\n",
    "test_df[\"pred_incumbent\"] = incumbent_model.predict_proba(test_df[features])[:,1]\n",
    "test_df[\"pred_refitted\"] = refitted_model.predict_proba(test_df[features])[:,1]\n",
    "\n",
    "test_df[\"score_incumbent\"] = mu.scale_scores(test_df[\"pred_incumbent\"])\n",
    "test_df[\"score_refitted\"] = mu.scale_scores(test_df[\"pred_refitted\"])\n",
    "\n",
    "test_df[\"rg_incumbent\"] = get_risk_groups(test_df[\"score_incumbent\"])\n",
    "test_df[\"rg_refitted\"] = get_risk_groups_refitted(test_df[\"score_refitted\"])"
   ]
  },
  {
   "cell_type": "code",
   "execution_count": 36,
   "id": "54ff4519",
   "metadata": {},
   "outputs": [
    {
     "name": "stderr",
     "output_type": "stream",
     "text": [
      "  0%|          | 0/3 [00:00<?, ?it/s]"
     ]
    },
    {
     "data": {
      "text/plain": [
       "Timestamp('2021-01-01 00:00:00')"
      ]
     },
     "metadata": {},
     "output_type": "display_data"
    },
    {
     "data": {
      "text/html": [
       "<div>\n",
       "<style scoped>\n",
       "    .dataframe tbody tr th:only-of-type {\n",
       "        vertical-align: middle;\n",
       "    }\n",
       "\n",
       "    .dataframe tbody tr th {\n",
       "        vertical-align: top;\n",
       "    }\n",
       "\n",
       "    .dataframe thead th {\n",
       "        text-align: right;\n",
       "    }\n",
       "</style>\n",
       "<table border=\"1\" class=\"dataframe\">\n",
       "  <thead>\n",
       "    <tr style=\"text-align: right;\">\n",
       "      <th></th>\n",
       "      <th>auc</th>\n",
       "      <th>ap</th>\n",
       "      <th>ks</th>\n",
       "    </tr>\n",
       "  </thead>\n",
       "  <tbody>\n",
       "    <tr>\n",
       "      <th>fico_adjusted_pred</th>\n",
       "      <td>64.85</td>\n",
       "      <td>1.16</td>\n",
       "      <td>25.62</td>\n",
       "    </tr>\n",
       "    <tr>\n",
       "      <th>fraud_score_2</th>\n",
       "      <td>67.46</td>\n",
       "      <td>1.91</td>\n",
       "      <td>27.43</td>\n",
       "    </tr>\n",
       "    <tr>\n",
       "      <th>score_incumbent</th>\n",
       "      <td>68.60</td>\n",
       "      <td>10.03</td>\n",
       "      <td>23.52</td>\n",
       "    </tr>\n",
       "    <tr>\n",
       "      <th>score_refitted</th>\n",
       "      <td>77.82</td>\n",
       "      <td>18.33</td>\n",
       "      <td>39.22</td>\n",
       "    </tr>\n",
       "  </tbody>\n",
       "</table>\n",
       "</div>"
      ],
      "text/plain": [
       "                      auc     ap     ks\n",
       "fico_adjusted_pred  64.85   1.16  25.62\n",
       "fraud_score_2       67.46   1.91  27.43\n",
       "score_incumbent     68.60  10.03  23.52\n",
       "score_refitted      77.82  18.33  39.22"
      ]
     },
     "metadata": {},
     "output_type": "display_data"
    },
    {
     "name": "stderr",
     "output_type": "stream",
     "text": [
      " 33%|███▎      | 1/3 [00:04<00:08,  4.37s/it]"
     ]
    },
    {
     "data": {
      "text/plain": [
       "Timestamp('2021-02-01 00:00:00')"
      ]
     },
     "metadata": {},
     "output_type": "display_data"
    },
    {
     "data": {
      "text/html": [
       "<div>\n",
       "<style scoped>\n",
       "    .dataframe tbody tr th:only-of-type {\n",
       "        vertical-align: middle;\n",
       "    }\n",
       "\n",
       "    .dataframe tbody tr th {\n",
       "        vertical-align: top;\n",
       "    }\n",
       "\n",
       "    .dataframe thead th {\n",
       "        text-align: right;\n",
       "    }\n",
       "</style>\n",
       "<table border=\"1\" class=\"dataframe\">\n",
       "  <thead>\n",
       "    <tr style=\"text-align: right;\">\n",
       "      <th></th>\n",
       "      <th>auc</th>\n",
       "      <th>ap</th>\n",
       "      <th>ks</th>\n",
       "    </tr>\n",
       "  </thead>\n",
       "  <tbody>\n",
       "    <tr>\n",
       "      <th>fico_adjusted_pred</th>\n",
       "      <td>64.48</td>\n",
       "      <td>1.06</td>\n",
       "      <td>24.75</td>\n",
       "    </tr>\n",
       "    <tr>\n",
       "      <th>fraud_score_2</th>\n",
       "      <td>67.33</td>\n",
       "      <td>1.79</td>\n",
       "      <td>26.98</td>\n",
       "    </tr>\n",
       "    <tr>\n",
       "      <th>score_incumbent</th>\n",
       "      <td>67.09</td>\n",
       "      <td>10.21</td>\n",
       "      <td>21.66</td>\n",
       "    </tr>\n",
       "    <tr>\n",
       "      <th>score_refitted</th>\n",
       "      <td>75.42</td>\n",
       "      <td>16.02</td>\n",
       "      <td>35.87</td>\n",
       "    </tr>\n",
       "  </tbody>\n",
       "</table>\n",
       "</div>"
      ],
      "text/plain": [
       "                      auc     ap     ks\n",
       "fico_adjusted_pred  64.48   1.06  24.75\n",
       "fraud_score_2       67.33   1.79  26.98\n",
       "score_incumbent     67.09  10.21  21.66\n",
       "score_refitted      75.42  16.02  35.87"
      ]
     },
     "metadata": {},
     "output_type": "display_data"
    },
    {
     "name": "stderr",
     "output_type": "stream",
     "text": [
      " 67%|██████▋   | 2/3 [00:09<00:04,  4.64s/it]"
     ]
    },
    {
     "data": {
      "text/plain": [
       "Timestamp('2021-03-01 00:00:00')"
      ]
     },
     "metadata": {},
     "output_type": "display_data"
    },
    {
     "data": {
      "text/html": [
       "<div>\n",
       "<style scoped>\n",
       "    .dataframe tbody tr th:only-of-type {\n",
       "        vertical-align: middle;\n",
       "    }\n",
       "\n",
       "    .dataframe tbody tr th {\n",
       "        vertical-align: top;\n",
       "    }\n",
       "\n",
       "    .dataframe thead th {\n",
       "        text-align: right;\n",
       "    }\n",
       "</style>\n",
       "<table border=\"1\" class=\"dataframe\">\n",
       "  <thead>\n",
       "    <tr style=\"text-align: right;\">\n",
       "      <th></th>\n",
       "      <th>auc</th>\n",
       "      <th>ap</th>\n",
       "      <th>ks</th>\n",
       "    </tr>\n",
       "  </thead>\n",
       "  <tbody>\n",
       "    <tr>\n",
       "      <th>fico_adjusted_pred</th>\n",
       "      <td>65.10</td>\n",
       "      <td>0.96</td>\n",
       "      <td>25.20</td>\n",
       "    </tr>\n",
       "    <tr>\n",
       "      <th>fraud_score_2</th>\n",
       "      <td>66.54</td>\n",
       "      <td>1.33</td>\n",
       "      <td>25.56</td>\n",
       "    </tr>\n",
       "    <tr>\n",
       "      <th>score_incumbent</th>\n",
       "      <td>64.66</td>\n",
       "      <td>8.01</td>\n",
       "      <td>18.84</td>\n",
       "    </tr>\n",
       "    <tr>\n",
       "      <th>score_refitted</th>\n",
       "      <td>72.07</td>\n",
       "      <td>12.32</td>\n",
       "      <td>30.09</td>\n",
       "    </tr>\n",
       "  </tbody>\n",
       "</table>\n",
       "</div>"
      ],
      "text/plain": [
       "                      auc     ap     ks\n",
       "fico_adjusted_pred  65.10   0.96  25.20\n",
       "fraud_score_2       66.54   1.33  25.56\n",
       "score_incumbent     64.66   8.01  18.84\n",
       "score_refitted      72.07  12.32  30.09"
      ]
     },
     "metadata": {},
     "output_type": "display_data"
    },
    {
     "name": "stderr",
     "output_type": "stream",
     "text": [
      "100%|██████████| 3/3 [00:14<00:00,  4.78s/it]\n"
     ]
    }
   ],
   "source": [
    "for dt_str in tqdm(monitoring_dates):\n",
    "    dt = pd.to_datetime(dt_str)\n",
    "    df_ = test_df[test_df.is_static & (test_df.sample_date == dt)]\n",
    "    pred_cols = [\"fico_adjusted_pred\", \"fraud_score_2\", \"score_incumbent\", \"score_refitted\"]\n",
    "    report = mntr.get_pred_reports(df_, \"target\", pred_cols, dropna=True)\n",
    "    display(dt)\n",
    "    display(report)"
   ]
  },
  {
   "cell_type": "code",
   "execution_count": null,
   "id": "91bef470",
   "metadata": {},
   "outputs": [],
   "source": []
  },
  {
   "cell_type": "code",
   "execution_count": null,
   "id": "27d7a06b",
   "metadata": {},
   "outputs": [],
   "source": []
  },
  {
   "cell_type": "markdown",
   "id": "90289eac",
   "metadata": {},
   "source": [
    "### Build Tests\n",
    "---\n",
    "\n",
    "Three options\n",
    "* get data from staging and measure against dev env\n",
    "* ping endpoint with data and compare results\n",
    "* after model deployed, measure performance behavior"
   ]
  },
  {
   "cell_type": "markdown",
   "id": "c5cf1e5f",
   "metadata": {},
   "source": [
    "#### Get data from staging\n",
    "---"
   ]
  },
  {
   "cell_type": "code",
   "execution_count": 19,
   "id": "99a32ead",
   "metadata": {},
   "outputs": [],
   "source": [
    "import pickle, sys, os, boto3, botocore\n",
    "import numpy as np\n",
    "import pandas as pd\n",
    "import mdsutils\n",
    "\n",
    "sys.path.append('/home/ec2-user/SageMaker/machine-learning/ml-deploys/customer-risk-v2/web/')\n",
    "\n",
    "from sofiproto.moneyfraud import customer_risk_v2_pb2\n",
    "from read_protobuf import read_protobuf\n",
    "from multiprocessing import Pool, cpu_count\n",
    "from collections import defaultdict"
   ]
  },
  {
   "cell_type": "code",
   "execution_count": null,
   "id": "689e3706",
   "metadata": {},
   "outputs": [],
   "source": [
    "def download_user_input(proxy_id):\n",
    "    if not isinstance(proxy_id, str): return \n",
    "    req_path = 'data-science-engineering-machine-learning-customer-risk-v2/' + proxy_id + '/request'\n",
    "\n",
    "    try:\n",
    "        prbf = s3.get_object(Bucket='machine-learning-proxy.sofi.com', Key=req_path)[\"Body\"].read()\n",
    "        df_row = read_protobuf(prbf, customer_risk_v2_pb2.CustomerRiskInputV2())\n",
    "        row_dict = df_row.to_dict('records')[0]\n",
    "        row_dict[\"proxy_id\"] = proxy_id\n",
    "        return row_dict\n",
    "\n",
    "    except botocore.exceptions.ClientError:\n",
    "        pass\n",
    "        \n",
    "def download_customer_prod_data(output_path, debug=False): \n",
    "    \n",
    "    # last record\n",
    "    money_user_query = f\"\"\"\n",
    "    with df_tmp as\n",
    "        (select party_id, created_dt, updated_dt, last_checked_date,\n",
    "            max(last_checked_date) over (partition by party_id) last_checked_date_max,\n",
    "            json_extract(risk_group_decision_info, '$.newRiskGroup') as risk_group,\n",
    "            json_extract(json_extract(risk_group_decision_info, '$.decisionContext'), '$.requestSource') as request_source,\n",
    "            json_extract(json_extract(json_extract(risk_group_decision_info, '$.decisionContext'), '$.customerModelResult'), '$.modelScore') as model_score,\n",
    "            json_extract(json_extract(json_extract(risk_group_decision_info, '$.decisionContext'), '$.customerModelResult'), '$.decisionRuleDetails') as model_decision_rule_details,\n",
    "            json_extract(json_extract(json_extract(risk_group_decision_info, '$.decisionContext'), '$.customerModelResult'), '$.customerModelRiskGroup') as mcustomer_model_risk_groupodel_score,\n",
    "            json_extract(json_extract(json_extract(risk_group_decision_info, '$.decisionContext'), '$.customerModelResult'), '$.machineLearningProxyId') as proxy_id,\n",
    "            json_extract(json_extract(risk_group_decision_info, '$.decisionContext'), '$.riskGroupEvaluationMethod') as risk_group_evaluation_method,\n",
    "            COALESCE (CAST(json_extract(json_extract(risk_group_decision_info, '$.decisionContext'), '$.partnerName') as VARCHAR), 'SOFI') as partner_name\n",
    "        from datalake_production_money_users.risk_group_history)  -- if wanna debug, set limit here\n",
    "    select * from df_tmp\n",
    "    where last_checked_date_max = last_checked_date;\n",
    "    \"\"\"\n",
    "        \n",
    "    athena = mdsutils.AthenaClient(database='datalake_production_money_users')\n",
    "    print(\"querying money user data...\")\n",
    "    money_users_df = athena.query_to_df(money_user_query)\n",
    "    \n",
    "    if debug:\n",
    "        print(\"debugging mode on\")\n",
    "        money_users_df = money_users_df.head(1000)\n",
    "    \n",
    "    print(\"some data processing...\")\n",
    "    money_users_df.dropna(axis = 0, subset = ['proxy_id'], inplace = True)\n",
    "    money_users_df['proxy_id'] = money_users_df['proxy_id'].apply(lambda x: x[59:].strip('/').strip('\"'))\n",
    "    money_users_df.dropna(axis = 0, subset = ['proxy_id'], inplace = True)\n",
    "\n",
    "    # filter by date? If we are only monitoring new account, need to filter by created_dt\n",
    "#     money_users_df.created_dt = pd.to_datetime(money_users_df.created_dt)\n",
    "#     money_users_df = money_users_df[money_users_df.created_dt > pd.to_datetime(last_monitoring_date)]\n",
    "\n",
    "    num_cores = cpu_count()\n",
    "    with Pool(cpu_count()) as p:\n",
    "        ret_list = p.map(download_user_input, \n",
    "                         [row[\"proxy_id\"] \n",
    "                          for _, row in money_users_df.iterrows()])\n",
    "\n",
    "    # this was breaking the pipeline\n",
    "    ret_list = list(filter(lambda x: x is not None, ret_list))\n",
    "    ret_df = pd.DataFrame(ret_list)\n",
    "    ret_df = ret_df[~ret_df.proxy_id.isna()]\n",
    "    full_df = money_users_df.merge(ret_df, how = 'left', on = 'proxy_id')\n",
    "    full_df = preprocess(full_df)\n",
    "    \n",
    "    full_df.to_parquet(output_path)\n"
   ]
  },
  {
   "cell_type": "code",
   "execution_count": null,
   "id": "01afbf90",
   "metadata": {},
   "outputs": [],
   "source": [
    "query = f\"\"\"\n",
    "    with df_tmp as\n",
    "        (select party_id, created_dt, updated_dt, last_checked_date,\n",
    "            max(last_checked_date) over (partition by party_id) last_checked_date_max,\n",
    "            json_extract(risk_group_decision_info, '$.newRiskGroup') as risk_group,\n",
    "            json_extract(json_extract(risk_group_decision_info, '$.decisionContext'), '$.requestSource') as request_source,\n",
    "            json_extract(json_extract(json_extract(risk_group_decision_info, '$.decisionContext'), '$.customerModelResult'), '$.modelScore') as model_score,\n",
    "            json_extract(json_extract(json_extract(risk_group_decision_info, '$.decisionContext'), '$.customerModelResult'), '$.decisionRuleDetails') as model_decision_rule_details,\n",
    "            json_extract(json_extract(json_extract(risk_group_decision_info, '$.decisionContext'), '$.customerModelResult'), '$.customerModelRiskGroup') as mcustomer_model_risk_groupodel_score,\n",
    "            json_extract(json_extract(json_extract(risk_group_decision_info, '$.decisionContext'), '$.customerModelResult'), '$.machineLearningProxyId') as proxy_id,\n",
    "            json_extract(json_extract(risk_group_decision_info, '$.decisionContext'), '$.riskGroupEvaluationMethod') as risk_group_evaluation_method,\n",
    "            COALESCE (CAST(json_extract(json_extract(risk_group_decision_info, '$.decisionContext'), '$.partnerName') as VARCHAR), 'SOFI') as partner_name\n",
    "        from datalake_production_money_users.risk_group_history)  -- if wanna debug, set limit here\n",
    "    select * from df_tmp\n",
    "    where last_checked_date_max = last_checked_date;\n",
    "    \"\"\"\n",
    "\n",
    "athena = mdsutils.AthenaClient(database='datalake_production_money_users')\n",
    "print(\"querying money user data...\")\n",
    "money_users_df = athena.query_to_df(money_user_query)"
   ]
  },
  {
   "cell_type": "code",
   "execution_count": null,
   "id": "a5b851ba",
   "metadata": {},
   "outputs": [],
   "source": []
  },
  {
   "cell_type": "code",
   "execution_count": null,
   "id": "8bcf3230",
   "metadata": {},
   "outputs": [],
   "source": []
  },
  {
   "cell_type": "markdown",
   "id": "8d96f2b1",
   "metadata": {},
   "source": [
    "#### Ping Endpoint\n",
    "---"
   ]
  },
  {
   "cell_type": "code",
   "execution_count": 6,
   "id": "b492a0f5",
   "metadata": {},
   "outputs": [],
   "source": [
    "prod_path = f\"s3://sofi-data-science/jxu/data_dump/money_customer_risk/20210916-dev-prod-alignment/prod.parquet\"\n",
    "dev_path = \"s3://sofi-data-science/jxu/data_dump/money_customer_risk/20210928-fl-analysis/customer-risk-dev-20210915-static.parquet\"\n",
    "\n",
    "prod_df = pd.read_parquet(prod_path)\n",
    "dev_df = pd.read_parquet(dev_path)"
   ]
  },
  {
   "cell_type": "code",
   "execution_count": 7,
   "id": "237b730d",
   "metadata": {},
   "outputs": [],
   "source": [
    "sample_date = \"2021-09-15\"\n",
    "prod_df[\"last_checked_date\"] = pd.to_datetime(prod_df[\"last_checked_date\"])\n",
    "prod_df[\"sample_date\"] = prod_df[\"last_checked_date\"].dt.date\n",
    "prod_df = prod_df[prod_df[\"sample_date\"]==pd.Timestamp(sample_date)]\n",
    "dev_df = dev_df[dev_df.is_static & (dev_df[\"sample_date\"]==pd.Timestamp(sample_date))]"
   ]
  },
  {
   "cell_type": "code",
   "execution_count": 8,
   "id": "761cb06f",
   "metadata": {},
   "outputs": [
    {
     "data": {
      "text/plain": [
       "((1129952, 57), (1119646, 91))"
      ]
     },
     "execution_count": 8,
     "metadata": {},
     "output_type": "execute_result"
    }
   ],
   "source": [
    "prod_df.shape, dev_df.shape"
   ]
  },
  {
   "cell_type": "code",
   "execution_count": 9,
   "id": "9771ae19",
   "metadata": {},
   "outputs": [
    {
     "data": {
      "text/plain": [
       "(2021-09-15    1129952\n",
       " Name: sample_date, dtype: int64,\n",
       " 2021-09-15    1119646\n",
       " Name: sample_date, dtype: int64)"
      ]
     },
     "execution_count": 9,
     "metadata": {},
     "output_type": "execute_result"
    }
   ],
   "source": [
    "prod_df.sample_date.value_counts(), dev_df.sample_date.value_counts()"
   ]
  },
  {
   "cell_type": "code",
   "execution_count": 10,
   "id": "469be586",
   "metadata": {},
   "outputs": [],
   "source": [
    "def get_risk_groups(serie):\n",
    "    return pd.cut(serie.round(), [300, 474, 510, 560, 600, 850], \n",
    "                  right=True, labels=[f'RG{i}' for i in range(1, 6)],\n",
    "                  include_lowest=True)\n",
    "\n",
    "def get_risk_groups_refitted(serie):\n",
    "    return pd.cut(serie.round(), [300, 520, 550, 570, 600, 850],  # [300, 520, 550, 570, 590, 850]\n",
    "                  right=True, labels=[f'RG{i}' for i in range(1, 6)],\n",
    "                  include_lowest=True)"
   ]
  },
  {
   "cell_type": "code",
   "execution_count": null,
   "id": "cee3232d",
   "metadata": {},
   "outputs": [],
   "source": []
  },
  {
   "cell_type": "markdown",
   "id": "7deb4bc1",
   "metadata": {},
   "source": [
    "#### Protobuf"
   ]
  },
  {
   "cell_type": "code",
   "execution_count": 24,
   "id": "c2560d9a",
   "metadata": {},
   "outputs": [],
   "source": [
    "runtime_client = boto3.client('runtime.sagemaker')"
   ]
  },
  {
   "cell_type": "code",
   "execution_count": 11,
   "id": "c0add39c",
   "metadata": {},
   "outputs": [],
   "source": [
    "# encode to protobuf"
   ]
  },
  {
   "cell_type": "code",
   "execution_count": 46,
   "id": "774e2b55",
   "metadata": {},
   "outputs": [],
   "source": [
    "# setup\n",
    "features = incumbent_model.feature_name_\n",
    "exclude = ['transaction_code_encoded', 'all7120_default_encoded', 'bcc7120_default_encoded']\n",
    "cols = [col for col in features + [\"transaction_code\"] if col not in exclude]\n",
    "\n",
    "prod_df[\"user_id\"] = prod_df[\"party_id\"]\n",
    "# input\n",
    "dev_df_ = mu.preprocess(dev_df)\n",
    "prod_df_ = mu.preprocess(prod_df)"
   ]
  },
  {
   "cell_type": "code",
   "execution_count": 47,
   "id": "ba999952",
   "metadata": {},
   "outputs": [
    {
     "name": "stdout",
     "output_type": "stream",
     "text": [
      "CPU times: user 10min 57s, sys: 435 ms, total: 10min 57s\n",
      "Wall time: 10.5 s\n"
     ]
    }
   ],
   "source": [
    "%%time\n",
    "# dev\n",
    "dev_df_[\"pred_dev\"] = refitted_model.predict_proba(dev_df_[features])[:,1]\n",
    "dev_df_[\"score_dev\"] = mu.scale_scores(dev_df_[\"pred_dev\"])\n",
    "\n",
    "# prod\n",
    "prod_df_[\"pred_dev\"] = refitted_model.predict_proba(prod_df_[features])[:,1]\n",
    "prod_df_[\"score_dev\"] = mu.scale_scores(prod_df_[\"pred_dev\"])\n",
    "\n",
    "# incumbent\n",
    "dev_df_[\"incumbent_model_score_dev\"] = incumbent_model.predict_proba(dev_df_[features])[:,1]\n",
    "dev_df_[\"incumbent_model_score_dev\"] = mu.scale_scores(dev_df_[\"incumbent_model_score_dev\"])\n",
    "\n",
    "prod_df_[\"incumbent_model_score_dev\"] = incumbent_model.predict_proba(prod_df_[features])[:,1]\n",
    "prod_df_[\"incumbent_model_score_dev\"] = mu.scale_scores(prod_df_[\"incumbent_model_score_dev\"])"
   ]
  },
  {
   "cell_type": "code",
   "execution_count": 48,
   "id": "1e401af4",
   "metadata": {},
   "outputs": [
    {
     "name": "stderr",
     "output_type": "stream",
     "text": [
      "100%|██████████| 112/112 [04:49<00:00,  2.59s/it]\n"
     ]
    },
    {
     "name": "stdout",
     "output_type": "stream",
     "text": [
      "CPU times: user 2min 35s, sys: 139 ms, total: 2min 35s\n",
      "Wall time: 4min 50s\n"
     ]
    }
   ],
   "source": [
    "%%time\n",
    "\n",
    "# dev\n",
    "block_size = 10000\n",
    "n_blocks = math.ceil(len(dev_df_)//block_size)\n",
    "scores = []\n",
    "for i in tqdm(range(n_blocks+1)):\n",
    "    start = i*block_size\n",
    "    end = min(len(dev_df_), (i+1)*block_size)\n",
    "    df_block = dev_df_.iloc[start:end]\n",
    "    if len(df_block) == 0:\n",
    "        break\n",
    "    \n",
    "    # encode input\n",
    "    inp = {'input': df_block[cols]}\n",
    "    df_dict = {}\n",
    "    for name in inp:\n",
    "        df_dict[name] = [{k:v for k,v in m.items() if pd.notnull(v)} for m in inp[name].to_dict(orient='rows')]  \n",
    "\n",
    "    proto = ParseDict(df_dict, customer_risk_v2_pb2.CustomerRiskInputV2(), ignore_unknown_fields=True)\n",
    "\n",
    "\n",
    "    # get score\n",
    "    response = runtime_client.invoke_endpoint(EndpointName='enhanced-validation-machine-learning-customer-risk-v2',\n",
    "                                              ContentType='application/octet-stream', Accept='application/octet-stream',\n",
    "                                              Body=proto.SerializeToString())\n",
    "    scores_ = nested_proto_to_dict(response[\"Body\"].read(), customer_risk_v2_pb2.CustomerRiskOutputV2())[\"score\"]\n",
    "    scores.extend(scores_.values.flatten().tolist())\n",
    "    \n",
    "dev_df_[\"score_prod\"] = scores"
   ]
  },
  {
   "cell_type": "code",
   "execution_count": 49,
   "id": "862680c0",
   "metadata": {},
   "outputs": [
    {
     "name": "stderr",
     "output_type": "stream",
     "text": [
      "100%|██████████| 113/113 [04:52<00:00,  2.59s/it]\n"
     ]
    },
    {
     "name": "stdout",
     "output_type": "stream",
     "text": [
      "CPU times: user 2min 39s, sys: 252 ms, total: 2min 39s\n",
      "Wall time: 4min 52s\n"
     ]
    }
   ],
   "source": [
    "%%time\n",
    "\n",
    "# prod\n",
    "block_size = 10000\n",
    "n_blocks = math.ceil(len(prod_df_)//block_size)\n",
    "scores = []\n",
    "for i in tqdm(range(n_blocks+1)):\n",
    "    start = i*block_size\n",
    "    end = min(len(prod_df_), (i+1)*block_size)\n",
    "    df_block = prod_df_.iloc[start:end]\n",
    "    if len(df_block) == 0:\n",
    "        break\n",
    "    \n",
    "    # encode input\n",
    "    inp = {'input': df_block[cols]}\n",
    "    df_dict = {}\n",
    "    for name in inp:\n",
    "        df_dict[name] = [{k:v for k,v in m.items() if pd.notnull(v)} for m in inp[name].to_dict(orient='rows')]  \n",
    "\n",
    "    proto = ParseDict(df_dict, customer_risk_v2_pb2.CustomerRiskInputV2(), ignore_unknown_fields=True)\n",
    "\n",
    "\n",
    "    # get score\n",
    "    response = runtime_client.invoke_endpoint(EndpointName='enhanced-validation-machine-learning-customer-risk-v2',\n",
    "                                              ContentType='application/octet-stream', Accept='application/octet-stream',\n",
    "                                              Body=proto.SerializeToString())\n",
    "    scores_ = nested_proto_to_dict(response[\"Body\"].read(), customer_risk_v2_pb2.CustomerRiskOutputV2())[\"score\"]\n",
    "    scores.extend(scores_.values.flatten().tolist())\n",
    "    \n",
    "prod_df_[\"score_prod\"] = scores"
   ]
  },
  {
   "cell_type": "markdown",
   "id": "aaea6f05",
   "metadata": {},
   "source": [
    "##### Scores align at 5 decimal places between prod and dev"
   ]
  },
  {
   "cell_type": "code",
   "execution_count": 50,
   "id": "8ab1c80b",
   "metadata": {},
   "outputs": [],
   "source": [
    "# dev_df_[\"score_prod_rounded\"] = dev_df_[\"score_prod\"].round(5)\n",
    "# dev_df_[\"score_dev_rounded\"] = dev_df_[\"score_dev\"].round(5)"
   ]
  },
  {
   "cell_type": "code",
   "execution_count": 51,
   "id": "2ea33ab5",
   "metadata": {},
   "outputs": [
    {
     "data": {
      "text/plain": [
       "True    1119646\n",
       "dtype: int64"
      ]
     },
     "execution_count": 51,
     "metadata": {},
     "output_type": "execute_result"
    }
   ],
   "source": [
    "((dev_df_[\"score_prod\"] - dev_df_[\"score_dev\"]).abs() < 1e-5).value_counts()"
   ]
  },
  {
   "cell_type": "code",
   "execution_count": 52,
   "id": "88dc956e",
   "metadata": {},
   "outputs": [
    {
     "data": {
      "text/plain": [
       "True    1129952\n",
       "dtype: int64"
      ]
     },
     "execution_count": 52,
     "metadata": {},
     "output_type": "execute_result"
    }
   ],
   "source": [
    "((prod_df_[\"score_prod\"] - prod_df_[\"score_dev\"]).abs() < 1e-5).value_counts()"
   ]
  },
  {
   "cell_type": "code",
   "execution_count": 53,
   "id": "bf73427c",
   "metadata": {},
   "outputs": [],
   "source": [
    "# ((dev_df_[\"score_prod_rounded\"] - dev_df_[\"score_dev_rounded\"]).abs() < 1e-5).value_counts()"
   ]
  },
  {
   "cell_type": "code",
   "execution_count": 94,
   "id": "f30bce15",
   "metadata": {},
   "outputs": [
    {
     "data": {
      "image/png": "[encoded data removed]",
      "text/plain": [
       "<Figure size 576x396 with 1 Axes>"
      ]
     },
     "metadata": {},
     "output_type": "display_data"
    }
   ],
   "source": [
    "# 9/15\n",
    "dev_df_.score_dev.hist(bins=400, alpha=0.4, label=\"dev\")\n",
    "prod_df_.score_prod.hist(bins=400, alpha=0.4, label=\"prod\")\n",
    "plt.legend()\n",
    "plt.show()"
   ]
  },
  {
   "cell_type": "code",
   "execution_count": null,
   "id": "309b646c",
   "metadata": {},
   "outputs": [],
   "source": []
  },
  {
   "cell_type": "code",
   "execution_count": 55,
   "id": "da02e53c",
   "metadata": {},
   "outputs": [],
   "source": [
    "combined_df = get_combined_dfs(dev_df_, prod_df_, index_col=\"user_id\")  # dev-exp, prod->act\n",
    "df_ = combined_df[[\"user_id\", \"business_account_number_exp\", \n",
    "                   \"score_prod_exp\", \"score_prod_act\",\n",
    "                   \"score_dev_exp\", \"score_dev_act\",\n",
    "                   \"incumbent_model_score_dev_exp\",\n",
    "                   \"incumbent_model_score_dev_act\"]]\n",
    "df_[\"score_dev_data_prod_model\"] = df_[\"score_prod_exp\"]\n",
    "df_[\"score_dev_data_dev_model\"] = df_[\"score_dev_exp\"]\n",
    "df_[\"score_prod_data_prod_model\"] = df_[\"score_prod_act\"]\n",
    "df_[\"score_prod_data_dev_model\"] = df_[\"score_dev_act\"]\n",
    "df_[\"incumbent_model_dev_data\"] = df_[\"incumbent_model_score_dev_exp\"]\n",
    "df_[\"incumbent_model_prod_data\"] = df_[\"incumbent_model_score_dev_act\"]"
   ]
  },
  {
   "cell_type": "code",
   "execution_count": 56,
   "id": "77d9b439",
   "metadata": {},
   "outputs": [
    {
     "data": {
      "text/plain": [
       "((1119646, 98), (1129952, 62), (1109925, 14))"
      ]
     },
     "execution_count": 56,
     "metadata": {},
     "output_type": "execute_result"
    }
   ],
   "source": [
    "dev_df_.shape, prod_df_.shape, df_.shape"
   ]
  },
  {
   "cell_type": "markdown",
   "id": "d49b758a",
   "metadata": {},
   "source": [
    "#### Custom Tests"
   ]
  },
  {
   "cell_type": "code",
   "execution_count": 57,
   "id": "862976d0",
   "metadata": {},
   "outputs": [],
   "source": [
    "test_df = pd.read_csv(\"../../artifacts/archive-2020/post-implementation-testing/custom-tests/edge-case-performance.csv\",\n",
    "                      index_col=0)"
   ]
  },
  {
   "cell_type": "code",
   "execution_count": 58,
   "id": "b0fc5d45",
   "metadata": {},
   "outputs": [],
   "source": [
    "features = incumbent_model.feature_name_\n",
    "exclude = ['transaction_code_encoded', 'all7120_default_encoded', 'bcc7120_default_encoded']\n",
    "cols = [col for col in features + [\"transaction_code\"] if col not in exclude]"
   ]
  },
  {
   "cell_type": "code",
   "execution_count": 59,
   "id": "54b19fe8",
   "metadata": {},
   "outputs": [],
   "source": [
    "# encode input\n",
    "inp = {'input': mu.preprocess(test_df[cols])}\n",
    "df_dict = {}\n",
    "for name in inp:\n",
    "    df_dict[name] = [{k:v for k,v in m.items() if pd.notnull(v)} for m in inp[name].to_dict(orient='rows')]  \n",
    "\n",
    "proto = ParseDict(df_dict, customer_risk_v2_pb2.CustomerRiskInputV2(), ignore_unknown_fields=True)\n",
    "\n",
    "\n",
    "# get score\n",
    "response = runtime_client.invoke_endpoint(EndpointName='enhanced-validation-machine-learning-customer-risk-v2',\n",
    "                                          ContentType='application/octet-stream', Accept='application/octet-stream',\n",
    "                                          Body=proto.SerializeToString())\n",
    "scores = nested_proto_to_dict(response[\"Body\"].read(), customer_risk_v2_pb2.CustomerRiskOutputV2())[\"score\"]\n",
    "test_df[\"model_score\"] = scores.values.flatten()"
   ]
  },
  {
   "cell_type": "code",
   "execution_count": 60,
   "id": "6803b3a2",
   "metadata": {},
   "outputs": [],
   "source": [
    "# dev\n",
    "test_df[\"pred_dev\"] = refitted_model.predict_proba(mu.preprocess(test_df)[features])[:,1]\n",
    "test_df[\"dev_score\"] = mu.scale_scores(test_df[\"pred_dev\"])"
   ]
  },
  {
   "cell_type": "code",
   "execution_count": 61,
   "id": "11d7a16a",
   "metadata": {},
   "outputs": [
    {
     "data": {
      "text/plain": [
       "True"
      ]
     },
     "execution_count": 61,
     "metadata": {},
     "output_type": "execute_result"
    }
   ],
   "source": [
    "# custom tests\n",
    "test_df[\"dev_score\"].equals(test_df[\"model_score\"])"
   ]
  },
  {
   "cell_type": "code",
   "execution_count": 92,
   "id": "f44faa75",
   "metadata": {},
   "outputs": [
    {
     "data": {
      "text/html": [
       "<div>\n",
       "<style scoped>\n",
       "    .dataframe tbody tr th:only-of-type {\n",
       "        vertical-align: middle;\n",
       "    }\n",
       "\n",
       "    .dataframe tbody tr th {\n",
       "        vertical-align: top;\n",
       "    }\n",
       "\n",
       "    .dataframe thead th {\n",
       "        text-align: right;\n",
       "    }\n",
       "</style>\n",
       "<table border=\"1\" class=\"dataframe\">\n",
       "  <thead>\n",
       "    <tr style=\"text-align: right;\">\n",
       "      <th></th>\n",
       "      <th>model_score</th>\n",
       "      <th>dev_score</th>\n",
       "      <th>first_deposit_amount</th>\n",
       "      <th>vantage_score</th>\n",
       "      <th>bcc7120</th>\n",
       "      <th>email_risk_score</th>\n",
       "      <th>fraud_score_2</th>\n",
       "      <th>name_email_correlation</th>\n",
       "      <th>transaction_as_pct_of_balance</th>\n",
       "      <th>mean_account_balance_30d</th>\n",
       "      <th>...</th>\n",
       "      <th>credit_card_loan_amount</th>\n",
       "      <th>fraud_score_1</th>\n",
       "      <th>age_money_account</th>\n",
       "      <th>transaction_code</th>\n",
       "      <th>borrower_id</th>\n",
       "      <th>type</th>\n",
       "      <th>transaction_code_encoded</th>\n",
       "      <th>all7120_default_encoded</th>\n",
       "      <th>bcc7120_default_encoded</th>\n",
       "      <th>pred_dev</th>\n",
       "    </tr>\n",
       "  </thead>\n",
       "  <tbody>\n",
       "    <tr>\n",
       "      <th>0</th>\n",
       "      <td>510.800736</td>\n",
       "      <td>510.800736</td>\n",
       "      <td>100.0</td>\n",
       "      <td>709.0</td>\n",
       "      <td>86.0</td>\n",
       "      <td>0.113</td>\n",
       "      <td>0.190</td>\n",
       "      <td>0.9871</td>\n",
       "      <td>-0.000736</td>\n",
       "      <td>3526.250800</td>\n",
       "      <td>...</td>\n",
       "      <td>10298.0</td>\n",
       "      <td>0.0153</td>\n",
       "      <td>46.0</td>\n",
       "      <td>POSDW</td>\n",
       "      <td>8068974.0</td>\n",
       "      <td>regular</td>\n",
       "      <td>1</td>\n",
       "      <td>-1.0</td>\n",
       "      <td>-1.0</td>\n",
       "      <td>0.019234</td>\n",
       "    </tr>\n",
       "    <tr>\n",
       "      <th>1</th>\n",
       "      <td>536.880061</td>\n",
       "      <td>536.880061</td>\n",
       "      <td>100.0</td>\n",
       "      <td>768.0</td>\n",
       "      <td>8.0</td>\n",
       "      <td>0.043</td>\n",
       "      <td>0.288</td>\n",
       "      <td>0.9952</td>\n",
       "      <td>750.000000</td>\n",
       "      <td>0.310000</td>\n",
       "      <td>...</td>\n",
       "      <td>183631.0</td>\n",
       "      <td>0.0215</td>\n",
       "      <td>4.0</td>\n",
       "      <td>ACHDDIN</td>\n",
       "      <td>8800403.0</td>\n",
       "      <td>regular</td>\n",
       "      <td>4</td>\n",
       "      <td>-1.0</td>\n",
       "      <td>-1.0</td>\n",
       "      <td>0.043718</td>\n",
       "    </tr>\n",
       "    <tr>\n",
       "      <th>2</th>\n",
       "      <td>474.113651</td>\n",
       "      <td>474.113651</td>\n",
       "      <td>300.0</td>\n",
       "      <td>793.0</td>\n",
       "      <td>15.0</td>\n",
       "      <td>0.182</td>\n",
       "      <td>0.227</td>\n",
       "      <td>0.9959</td>\n",
       "      <td>-0.911184</td>\n",
       "      <td>789.780000</td>\n",
       "      <td>...</td>\n",
       "      <td>1805.0</td>\n",
       "      <td>0.0355</td>\n",
       "      <td>311.0</td>\n",
       "      <td>ACHDW</td>\n",
       "      <td>1511678.0</td>\n",
       "      <td>regular</td>\n",
       "      <td>5</td>\n",
       "      <td>-1.0</td>\n",
       "      <td>-1.0</td>\n",
       "      <td>0.005927</td>\n",
       "    </tr>\n",
       "    <tr>\n",
       "      <th>3</th>\n",
       "      <td>486.510391</td>\n",
       "      <td>486.510391</td>\n",
       "      <td>5000.0</td>\n",
       "      <td>726.0</td>\n",
       "      <td>68.0</td>\n",
       "      <td>0.467</td>\n",
       "      <td>0.163</td>\n",
       "      <td>0.9946</td>\n",
       "      <td>0.016916</td>\n",
       "      <td>8773.400000</td>\n",
       "      <td>...</td>\n",
       "      <td>16298.0</td>\n",
       "      <td>0.0221</td>\n",
       "      <td>72.0</td>\n",
       "      <td>DDCK</td>\n",
       "      <td>7627983.0</td>\n",
       "      <td>regular</td>\n",
       "      <td>10</td>\n",
       "      <td>-1.0</td>\n",
       "      <td>-1.0</td>\n",
       "      <td>0.008836</td>\n",
       "    </tr>\n",
       "    <tr>\n",
       "      <th>4</th>\n",
       "      <td>538.522072</td>\n",
       "      <td>538.522072</td>\n",
       "      <td>150.0</td>\n",
       "      <td>638.0</td>\n",
       "      <td>91.0</td>\n",
       "      <td>0.195</td>\n",
       "      <td>0.667</td>\n",
       "      <td>0.9525</td>\n",
       "      <td>-0.128694</td>\n",
       "      <td>318.542308</td>\n",
       "      <td>...</td>\n",
       "      <td>1365.0</td>\n",
       "      <td>0.0508</td>\n",
       "      <td>83.0</td>\n",
       "      <td>ACHDWIN</td>\n",
       "      <td>8234793.0</td>\n",
       "      <td>regular</td>\n",
       "      <td>3</td>\n",
       "      <td>-1.0</td>\n",
       "      <td>-1.0</td>\n",
       "      <td>0.046001</td>\n",
       "    </tr>\n",
       "  </tbody>\n",
       "</table>\n",
       "<p>5 rows × 47 columns</p>\n",
       "</div>"
      ],
      "text/plain": [
       "   model_score   dev_score  first_deposit_amount  vantage_score  bcc7120  \\\n",
       "0   510.800736  510.800736                 100.0          709.0     86.0   \n",
       "1   536.880061  536.880061                 100.0          768.0      8.0   \n",
       "2   474.113651  474.113651                 300.0          793.0     15.0   \n",
       "3   486.510391  486.510391                5000.0          726.0     68.0   \n",
       "4   538.522072  538.522072                 150.0          638.0     91.0   \n",
       "\n",
       "   email_risk_score  fraud_score_2  name_email_correlation  \\\n",
       "0             0.113          0.190                  0.9871   \n",
       "1             0.043          0.288                  0.9952   \n",
       "2             0.182          0.227                  0.9959   \n",
       "3             0.467          0.163                  0.9946   \n",
       "4             0.195          0.667                  0.9525   \n",
       "\n",
       "   transaction_as_pct_of_balance  mean_account_balance_30d  ...  \\\n",
       "0                      -0.000736               3526.250800  ...   \n",
       "1                     750.000000                  0.310000  ...   \n",
       "2                      -0.911184                789.780000  ...   \n",
       "3                       0.016916               8773.400000  ...   \n",
       "4                      -0.128694                318.542308  ...   \n",
       "\n",
       "   credit_card_loan_amount  fraud_score_1  age_money_account  \\\n",
       "0                  10298.0         0.0153               46.0   \n",
       "1                 183631.0         0.0215                4.0   \n",
       "2                   1805.0         0.0355              311.0   \n",
       "3                  16298.0         0.0221               72.0   \n",
       "4                   1365.0         0.0508               83.0   \n",
       "\n",
       "   transaction_code  borrower_id     type  transaction_code_encoded  \\\n",
       "0             POSDW    8068974.0  regular                         1   \n",
       "1           ACHDDIN    8800403.0  regular                         4   \n",
       "2             ACHDW    1511678.0  regular                         5   \n",
       "3              DDCK    7627983.0  regular                        10   \n",
       "4           ACHDWIN    8234793.0  regular                         3   \n",
       "\n",
       "   all7120_default_encoded  bcc7120_default_encoded  pred_dev  \n",
       "0                     -1.0                     -1.0  0.019234  \n",
       "1                     -1.0                     -1.0  0.043718  \n",
       "2                     -1.0                     -1.0  0.005927  \n",
       "3                     -1.0                     -1.0  0.008836  \n",
       "4                     -1.0                     -1.0  0.046001  \n",
       "\n",
       "[5 rows x 47 columns]"
      ]
     },
     "execution_count": 92,
     "metadata": {},
     "output_type": "execute_result"
    }
   ],
   "source": [
    "test_df.head()"
   ]
  },
  {
   "cell_type": "code",
   "execution_count": null,
   "id": "b1860d81",
   "metadata": {},
   "outputs": [],
   "source": []
  },
  {
   "cell_type": "code",
   "execution_count": null,
   "id": "7838f24b",
   "metadata": {},
   "outputs": [],
   "source": []
  },
  {
   "cell_type": "code",
   "execution_count": 62,
   "id": "1279d385",
   "metadata": {},
   "outputs": [],
   "source": [
    "s3_dir = \"s3://sofi-data-science/jxu/data_dump/money_customer_risk/20210931-refitted-model-to-prod-v2/\"\n",
    "dev_df_.to_parquet(os.path.join(s3_dir, \"dev-20210915-scored.parquet\"))\n",
    "prod_df_.to_parquet(os.path.join(s3_dir, \"prod-20210915-scored.parquet\"))\n",
    "combined_df.to_parquet(os.path.join(s3_dir, \"dev-prod-scored-combined_all_cols.parquet\"))\n",
    "df_.to_parquet(os.path.join(s3_dir, \"dev-prod-scored-combined.parquet\"))\n",
    "test_df.to_csv(os.path.join(s3_dir, \"custom-test.csv\"))"
   ]
  },
  {
   "cell_type": "markdown",
   "id": "1a6d913c",
   "metadata": {},
   "source": [
    "#### Checkpoint\n",
    "---"
   ]
  },
  {
   "cell_type": "code",
   "execution_count": 6,
   "id": "e29217b4",
   "metadata": {},
   "outputs": [],
   "source": [
    "s3_dir = \"s3://sofi-data-science/jxu/data_dump/money_customer_risk/20210931-refitted-model-to-prod-v2/\"\n",
    "dev_df_ = pd.read_parquet(os.path.join(s3_dir, \"dev-20210915-scored.parquet\"))\n",
    "prod_df_ = pd.read_parquet(os.path.join(s3_dir, \"prod-20210915-scored.parquet\"))\n",
    "df_ = pd.read_parquet(os.path.join(s3_dir, \"dev-prod-scored-combined.parquet\"))\n",
    "combined_df = pd.read_parquet(os.path.join(s3_dir, \"dev-prod-scored-combined_all_cols.parquet\"))\n",
    "test_df = pd.read_csv(os.path.join(s3_dir, \"custom-test.csv\"), index_col=0)"
   ]
  },
  {
   "cell_type": "code",
   "execution_count": 8,
   "id": "f4016218",
   "metadata": {},
   "outputs": [
    {
     "data": {
      "text/plain": [
       " 0.000000e+00    1109836\n",
       "-1.136868e-13         43\n",
       " 1.136868e-13         24\n",
       "-5.684342e-14         13\n",
       " 5.684342e-14          9\n",
       "dtype: int64"
      ]
     },
     "execution_count": 8,
     "metadata": {},
     "output_type": "execute_result"
    }
   ],
   "source": [
    "(df_.score_dev_data_prod_model - df_.score_dev_data_dev_model).value_counts()"
   ]
  },
  {
   "cell_type": "code",
   "execution_count": 9,
   "id": "c0340ae3",
   "metadata": {},
   "outputs": [
    {
     "data": {
      "image/png": "[encoded data removed]",
      "text/plain": [
       "<Figure size 648x504 with 1 Axes>"
      ]
     },
     "metadata": {},
     "output_type": "display_data"
    }
   ],
   "source": [
    "fig = plot_difference(df_.score_dev_data_prod_model, df_.score_dev_data_dev_model, bins=1000)\n",
    "plt.show()"
   ]
  },
  {
   "cell_type": "code",
   "execution_count": 10,
   "id": "d0bcd43f",
   "metadata": {},
   "outputs": [
    {
     "data": {
      "text/plain": [
       " 0.000000e+00    1109831\n",
       "-1.136868e-13         42\n",
       " 1.136868e-13         28\n",
       " 5.684342e-14         22\n",
       "-5.684342e-14          2\n",
       "dtype: int64"
      ]
     },
     "execution_count": 10,
     "metadata": {},
     "output_type": "execute_result"
    }
   ],
   "source": [
    "(df_.score_prod_data_prod_model - df_.score_prod_data_dev_model).value_counts()"
   ]
  },
  {
   "cell_type": "code",
   "execution_count": 11,
   "id": "793feb4f",
   "metadata": {},
   "outputs": [
    {
     "data": {
      "image/png": "[encoded data removed]",
      "text/plain": [
       "<Figure size 648x504 with 1 Axes>"
      ]
     },
     "metadata": {},
     "output_type": "display_data"
    }
   ],
   "source": [
    "fig = plot_difference(df_.score_prod_data_prod_model, df_.score_prod_data_dev_model, bins=1000)\n",
    "plt.show()"
   ]
  },
  {
   "cell_type": "markdown",
   "id": "dc0dfa55",
   "metadata": {},
   "source": [
    "the differences is on the scale of rounding error."
   ]
  },
  {
   "cell_type": "code",
   "execution_count": 12,
   "id": "d4185ffa",
   "metadata": {},
   "outputs": [
    {
     "data": {
      "image/png": "[encoded data removed]",
      "text/plain": [
       "<Figure size 576x396 with 1 Axes>"
      ]
     },
     "metadata": {},
     "output_type": "display_data"
    }
   ],
   "source": [
    "nbins = 1000\n",
    "(df_.score_dev_data_dev_model - df_.score_prod_data_prod_model).hist(bins=nbins, alpha=0.4, label=\"refit\")\n",
    "(df_.incumbent_model_dev_data - df_.incumbent_model_prod_data).hist(bins=nbins, alpha=0.4, label=\"incumbent\")\n",
    "plt.legend()\n",
    "plt.show()"
   ]
  },
  {
   "cell_type": "markdown",
   "id": "c998b1de",
   "metadata": {},
   "source": [
    "The score differences are calculated using dev - prod model scores, which mean a negative score indicates user obtains higher score in production than that in development. Does this result in a shift up in user scores?"
   ]
  },
  {
   "cell_type": "code",
   "execution_count": 13,
   "id": "7e561d97",
   "metadata": {},
   "outputs": [
    {
     "data": {
      "text/plain": [
       "16.60630507200601"
      ]
     },
     "metadata": {},
     "output_type": "display_data"
    },
    {
     "data": {
      "text/plain": [
       "17.905631182937572"
      ]
     },
     "metadata": {},
     "output_type": "display_data"
    }
   ],
   "source": [
    "# first take a look at rmse\n",
    "display(math.sqrt(((df_.score_dev_data_dev_model - df_.score_prod_data_prod_model)**2).mean()),\n",
    "       math.sqrt(((df_.incumbent_model_dev_data - df_.incumbent_model_prod_data)**2).mean()))"
   ]
  },
  {
   "cell_type": "code",
   "execution_count": 14,
   "id": "e73cba86",
   "metadata": {},
   "outputs": [],
   "source": [
    "features = refitted_model.feature_name_"
   ]
  },
  {
   "cell_type": "code",
   "execution_count": 15,
   "id": "5f2eaba6",
   "metadata": {},
   "outputs": [],
   "source": [
    "dev_df_[\"model_score\"] = dev_df_[\"score_dev\"]\n",
    "prod_df_[\"model_score\"] = prod_df_[\"score_prod\"]\n",
    "psi_cols = features + [\"model_score\"]"
   ]
  },
  {
   "cell_type": "code",
   "execution_count": 16,
   "id": "54c0868e",
   "metadata": {},
   "outputs": [],
   "source": [
    "# how about psi?\n",
    "# score on all users\n",
    "psi_tbl_all = get_psi(dev_df_[psi_cols], \n",
    "                       prod_df_[psi_cols]).round(3)\n",
    "\n",
    "# score on shared users\n",
    "col_dev = [f+\"_exp\" for f in features] + [\"score_dev_exp\"]\n",
    "col_prod = [f+\"_act\" for f in features] + [\"score_prod_act\"]\n",
    "\n",
    "def clean_df(df, cols):\n",
    "    df = df[cols]\n",
    "    df.columns = features + [\"model_score\"]\n",
    "    return df\n",
    "\n",
    "dev_df_aligned = clean_df(combined_df, col_dev)\n",
    "prod_df_aligned = clean_df(combined_df, col_prod)\n",
    "\n",
    "psi_tbl_shared = get_psi(dev_df_aligned,\n",
    "                         prod_df_aligned).round(3)"
   ]
  },
  {
   "cell_type": "code",
   "execution_count": 17,
   "id": "dca3c3d7",
   "metadata": {},
   "outputs": [
    {
     "data": {
      "text/html": [
       "<div>\n",
       "<style scoped>\n",
       "    .dataframe tbody tr th:only-of-type {\n",
       "        vertical-align: middle;\n",
       "    }\n",
       "\n",
       "    .dataframe tbody tr th {\n",
       "        vertical-align: top;\n",
       "    }\n",
       "\n",
       "    .dataframe thead th {\n",
       "        text-align: right;\n",
       "    }\n",
       "</style>\n",
       "<table border=\"1\" class=\"dataframe\">\n",
       "  <thead>\n",
       "    <tr style=\"text-align: right;\">\n",
       "      <th></th>\n",
       "      <th>feature</th>\n",
       "      <th>psi</th>\n",
       "    </tr>\n",
       "  </thead>\n",
       "  <tbody>\n",
       "    <tr>\n",
       "      <th>15</th>\n",
       "      <td>nr_past_transactions</td>\n",
       "      <td>0.559</td>\n",
       "    </tr>\n",
       "    <tr>\n",
       "      <th>6</th>\n",
       "      <td>transaction_as_pct_of_balance</td>\n",
       "      <td>0.111</td>\n",
       "    </tr>\n",
       "    <tr>\n",
       "      <th>38</th>\n",
       "      <td>transaction_code_encoded</td>\n",
       "      <td>0.059</td>\n",
       "    </tr>\n",
       "    <tr>\n",
       "      <th>26</th>\n",
       "      <td>time_since_last_transaction</td>\n",
       "      <td>0.028</td>\n",
       "    </tr>\n",
       "    <tr>\n",
       "      <th>41</th>\n",
       "      <td>model_score</td>\n",
       "      <td>0.023</td>\n",
       "    </tr>\n",
       "  </tbody>\n",
       "</table>\n",
       "</div>"
      ],
      "text/plain": [
       "                          feature    psi\n",
       "15           nr_past_transactions  0.559\n",
       "6   transaction_as_pct_of_balance  0.111\n",
       "38       transaction_code_encoded  0.059\n",
       "26    time_since_last_transaction  0.028\n",
       "41                    model_score  0.023"
      ]
     },
     "execution_count": 17,
     "metadata": {},
     "output_type": "execute_result"
    }
   ],
   "source": [
    "psi_tbl_all.head()"
   ]
  },
  {
   "cell_type": "code",
   "execution_count": 18,
   "id": "ee83277f",
   "metadata": {},
   "outputs": [
    {
     "data": {
      "text/html": [
       "<div>\n",
       "<style scoped>\n",
       "    .dataframe tbody tr th:only-of-type {\n",
       "        vertical-align: middle;\n",
       "    }\n",
       "\n",
       "    .dataframe tbody tr th {\n",
       "        vertical-align: top;\n",
       "    }\n",
       "\n",
       "    .dataframe thead th {\n",
       "        text-align: right;\n",
       "    }\n",
       "</style>\n",
       "<table border=\"1\" class=\"dataframe\">\n",
       "  <thead>\n",
       "    <tr style=\"text-align: right;\">\n",
       "      <th></th>\n",
       "      <th>feature</th>\n",
       "      <th>psi</th>\n",
       "    </tr>\n",
       "  </thead>\n",
       "  <tbody>\n",
       "    <tr>\n",
       "      <th>15</th>\n",
       "      <td>nr_past_transactions</td>\n",
       "      <td>0.547</td>\n",
       "    </tr>\n",
       "    <tr>\n",
       "      <th>6</th>\n",
       "      <td>transaction_as_pct_of_balance</td>\n",
       "      <td>0.106</td>\n",
       "    </tr>\n",
       "    <tr>\n",
       "      <th>38</th>\n",
       "      <td>transaction_code_encoded</td>\n",
       "      <td>0.065</td>\n",
       "    </tr>\n",
       "    <tr>\n",
       "      <th>26</th>\n",
       "      <td>time_since_last_transaction</td>\n",
       "      <td>0.028</td>\n",
       "    </tr>\n",
       "    <tr>\n",
       "      <th>41</th>\n",
       "      <td>model_score</td>\n",
       "      <td>0.024</td>\n",
       "    </tr>\n",
       "  </tbody>\n",
       "</table>\n",
       "</div>"
      ],
      "text/plain": [
       "                          feature    psi\n",
       "15           nr_past_transactions  0.547\n",
       "6   transaction_as_pct_of_balance  0.106\n",
       "38       transaction_code_encoded  0.065\n",
       "26    time_since_last_transaction  0.028\n",
       "41                    model_score  0.024"
      ]
     },
     "execution_count": 18,
     "metadata": {},
     "output_type": "execute_result"
    }
   ],
   "source": [
    "psi_tbl_shared.head()"
   ]
  },
  {
   "cell_type": "code",
   "execution_count": null,
   "id": "8eead134",
   "metadata": {},
   "outputs": [],
   "source": []
  },
  {
   "cell_type": "markdown",
   "id": "a871e9a3",
   "metadata": {},
   "source": [
    "#### Risk Group Distributions\n",
    "---"
   ]
  },
  {
   "cell_type": "code",
   "execution_count": null,
   "id": "ca8eed0b",
   "metadata": {},
   "outputs": [],
   "source": []
  },
  {
   "cell_type": "code",
   "execution_count": 19,
   "id": "0b428227",
   "metadata": {},
   "outputs": [
    {
     "data": {
      "image/png": "[encoded data removed]",
      "text/plain": [
       "<Figure size 576x396 with 1 Axes>"
      ]
     },
     "metadata": {},
     "output_type": "display_data"
    },
    {
     "data": {
      "image/png": "[encoded data removed]",
      "text/plain": [
       "<Figure size 576x396 with 1 Axes>"
      ]
     },
     "metadata": {},
     "output_type": "display_data"
    }
   ],
   "source": [
    "import seaborn as sns\n",
    "\n",
    "# dev vs prod\n",
    "dev_df_[\"rg_refitted\"] = get_risk_groups_refitted(dev_df_[\"model_score\"])\n",
    "prod_df_[\"rg_refitted\"] = get_risk_groups_refitted(prod_df_[\"model_score\"])\n",
    "\n",
    "freqs = dev_df_[\"rg_refitted\"].value_counts().sort_index()\n",
    "sns.barplot(freqs.index, freqs.values, alpha=0.4, label=\"dev\", color=\"b\")\n",
    "\n",
    "freqs = prod_df_[\"rg_refitted\"].value_counts().sort_index()\n",
    "sns.barplot(freqs.index, freqs.values, alpha=0.4, label=\"prod\", color=\"g\")\n",
    "\n",
    "plt.legend()\n",
    "plt.show()\n",
    "\n",
    "# how about the active group?\n",
    "\n",
    "active_ids = dev_df_[\n",
    "        (dev_df_.nr_past_transactions > 0) & (dev_df_.nr_transactions_30d > 0)\n",
    "    ].user_id.unique()\n",
    "\n",
    "freqs = dev_df_[dev_df_.user_id.isin(active_ids)][\"rg_refitted\"].value_counts().sort_index()\n",
    "sns.barplot(freqs.index, freqs.values, alpha=0.4, label=\"dev\", color=\"b\")\n",
    "\n",
    "freqs = prod_df_[prod_df_.user_id.isin(active_ids)][\"rg_refitted\"].value_counts().sort_index()\n",
    "sns.barplot(freqs.index, freqs.values, alpha=0.4, label=\"prod\", color=\"g\")\n",
    "\n",
    "plt.legend()\n",
    "plt.show()\n"
   ]
  },
  {
   "cell_type": "code",
   "execution_count": 20,
   "id": "4afdfb74",
   "metadata": {},
   "outputs": [
    {
     "data": {
      "image/png": "[encoded data removed]",
      "text/plain": [
       "<Figure size 576x396 with 1 Axes>"
      ]
     },
     "metadata": {},
     "output_type": "display_data"
    },
    {
     "data": {
      "image/png": "[encoded data removed]",
      "text/plain": [
       "<Figure size 576x396 with 1 Axes>"
      ]
     },
     "metadata": {},
     "output_type": "display_data"
    }
   ],
   "source": [
    "# current model\n",
    "dev_df_[\"rg_incumbent\"] = get_risk_groups(dev_df_[\"incumbent_model_score_dev\"])\n",
    "prod_df_[\"rg_incumbent\"] = get_risk_groups(prod_df_[\"incumbent_model_score_dev\"])\n",
    "\n",
    "freqs = dev_df_[\"rg_incumbent\"].value_counts().sort_index()\n",
    "sns.barplot(freqs.index, freqs.values, alpha=0.4, label=\"dev\", color=\"b\")\n",
    "\n",
    "freqs = prod_df_[\"rg_incumbent\"].value_counts().sort_index()\n",
    "sns.barplot(freqs.index, freqs.values, alpha=0.4, label=\"prod\", color=\"g\")\n",
    "\n",
    "plt.legend()\n",
    "plt.show()\n",
    "\n",
    "active_ids = dev_df_[\n",
    "        (dev_df_.nr_past_transactions > 0) & (dev_df_.nr_transactions_30d > 0)\n",
    "    ].user_id.unique()\n",
    "\n",
    "freqs = dev_df_[dev_df_.user_id.isin(active_ids)][\"rg_incumbent\"].value_counts().sort_index()\n",
    "sns.barplot(freqs.index, freqs.values, alpha=0.4, label=\"dev\", color=\"b\")\n",
    "\n",
    "freqs = prod_df_[prod_df_.user_id.isin(active_ids)][\"rg_incumbent\"].value_counts().sort_index()\n",
    "sns.barplot(freqs.index, freqs.values, alpha=0.4, label=\"prod\", color=\"g\")\n",
    "\n",
    "plt.legend()\n",
    "plt.show()"
   ]
  },
  {
   "cell_type": "code",
   "execution_count": 21,
   "id": "3166e88c",
   "metadata": {},
   "outputs": [
    {
     "name": "stdout",
     "output_type": "stream",
     "text": [
      "all population: dev vs prod\n"
     ]
    },
    {
     "data": {
      "text/plain": [
       "16.60630507200601"
      ]
     },
     "metadata": {},
     "output_type": "display_data"
    },
    {
     "name": "stdout",
     "output_type": "stream",
     "text": [
      "all population: incumbent dev vs prod\n"
     ]
    },
    {
     "data": {
      "text/plain": [
       "17.905631182937572"
      ]
     },
     "metadata": {},
     "output_type": "display_data"
    },
    {
     "name": "stdout",
     "output_type": "stream",
     "text": [
      "active population: dev vs. prod\n"
     ]
    },
    {
     "data": {
      "text/plain": [
       "26.931735920265247"
      ]
     },
     "metadata": {},
     "output_type": "display_data"
    },
    {
     "name": "stdout",
     "output_type": "stream",
     "text": [
      "active population: incumbent dev vs. prod\n"
     ]
    },
    {
     "data": {
      "text/plain": [
       "28.203691909993363"
      ]
     },
     "metadata": {},
     "output_type": "display_data"
    }
   ],
   "source": [
    "def get_rmse(s):\n",
    "    return math.sqrt((s**2).mean())\n",
    "\n",
    "print(\"all population: dev vs prod\")\n",
    "diff = df_.score_dev_data_dev_model - df_.score_prod_data_prod_model\n",
    "display(get_rmse(diff))\n",
    "\n",
    "print(\"all population: incumbent dev vs prod\")\n",
    "diff = df_.incumbent_model_dev_data - df_.incumbent_model_prod_data\n",
    "display(get_rmse(diff))\n",
    "\n",
    "# actigve: \n",
    "print(\"active population: dev vs. prod\")\n",
    "df__ = df_[df_.user_id.isin(active_ids)]\n",
    "diff = df__.score_dev_data_dev_model - df__.score_prod_data_prod_model\n",
    "display(get_rmse(diff))\n",
    "\n",
    "print(\"active population: incumbent dev vs. prod\")\n",
    "diff = df__.incumbent_model_dev_data - df__.incumbent_model_prod_data\n",
    "display(get_rmse(diff))\n"
   ]
  },
  {
   "cell_type": "markdown",
   "id": "0a3226cf",
   "metadata": {},
   "source": [
    "The risk group shift for the active group is rather large. Look into why"
   ]
  },
  {
   "cell_type": "code",
   "execution_count": 22,
   "id": "b9cd5ce8",
   "metadata": {},
   "outputs": [
    {
     "data": {
      "text/plain": [
       "<matplotlib.legend.Legend at 0x7f0e4a8b0810>"
      ]
     },
     "execution_count": 22,
     "metadata": {},
     "output_type": "execute_result"
    },
    {
     "data": {
      "image/png": "[encoded data removed]",
      "text/plain": [
       "<Figure size 576x396 with 1 Axes>"
      ]
     },
     "metadata": {},
     "output_type": "display_data"
    }
   ],
   "source": [
    "dev_df_.score_dev.hist(bins=1000, alpha=0.4, label=\"dev\")\n",
    "prod_df_.score_prod.hist(bins=1000, alpha=0.4, label=\"prod\")\n",
    "plt.legend()"
   ]
  },
  {
   "cell_type": "code",
   "execution_count": 23,
   "id": "569f16bb",
   "metadata": {},
   "outputs": [
    {
     "data": {
      "text/plain": [
       "<matplotlib.legend.Legend at 0x7f0e4aaf4ad0>"
      ]
     },
     "execution_count": 23,
     "metadata": {},
     "output_type": "execute_result"
    },
    {
     "data": {
      "image/png": "[encoded data removed]",
      "text/plain": [
       "<Figure size 576x396 with 1 Axes>"
      ]
     },
     "metadata": {},
     "output_type": "display_data"
    }
   ],
   "source": [
    "dev_df_[dev_df_.user_id.isin(active_ids)].score_dev.hist(bins=1000, alpha=0.4, label=\"dev\")\n",
    "prod_df_[prod_df_.user_id.isin(active_ids)].score_prod.hist(bins=1000, alpha=0.4, label=\"prod\")\n",
    "plt.legend()"
   ]
  },
  {
   "cell_type": "code",
   "execution_count": 24,
   "id": "3bcf1719",
   "metadata": {},
   "outputs": [],
   "source": [
    "df_[\"is_active\"] = df_.user_id.isin(active_ids)"
   ]
  },
  {
   "cell_type": "code",
   "execution_count": 25,
   "id": "9a5f4ed1",
   "metadata": {},
   "outputs": [
    {
     "data": {
      "text/plain": [
       "False    947934\n",
       "True     161991\n",
       "Name: is_active, dtype: int64"
      ]
     },
     "execution_count": 25,
     "metadata": {},
     "output_type": "execute_result"
    }
   ],
   "source": [
    "df_.is_active.value_counts()"
   ]
  },
  {
   "cell_type": "code",
   "execution_count": 26,
   "id": "725b82af",
   "metadata": {},
   "outputs": [
    {
     "data": {
      "image/png": "[encoded data removed]",
      "text/plain": [
       "<Figure size 576x396 with 1 Axes>"
      ]
     },
     "metadata": {},
     "output_type": "display_data"
    }
   ],
   "source": [
    "nbins = 1000\n",
    "(df_.score_dev_data_dev_model - df_.score_prod_data_prod_model).hist(bins=nbins, alpha=0.4, label=\"refit\")\n",
    "(df_.incumbent_model_dev_data - df_.incumbent_model_prod_data).hist(bins=nbins, alpha=0.4, label=\"incumbent\")\n",
    "plt.legend()\n",
    "plt.show()"
   ]
  },
  {
   "cell_type": "code",
   "execution_count": 27,
   "id": "836e37a8",
   "metadata": {},
   "outputs": [
    {
     "data": {
      "image/png": "[encoded data removed]",
      "text/plain": [
       "<Figure size 576x396 with 1 Axes>"
      ]
     },
     "metadata": {},
     "output_type": "display_data"
    }
   ],
   "source": [
    "nbins = 1000\n",
    "(df_[df_.is_active].score_dev_data_dev_model - df_[df_.is_active].score_prod_data_prod_model).hist(bins=nbins, alpha=0.4, label=\"refit\")\n",
    "(df_[df_.is_active].incumbent_model_dev_data - df_[df_.is_active].incumbent_model_prod_data).hist(bins=nbins, alpha=0.4, label=\"incumbent\")\n",
    "plt.legend()\n",
    "plt.show()"
   ]
  },
  {
   "cell_type": "code",
   "execution_count": 28,
   "id": "50941e6d",
   "metadata": {},
   "outputs": [
    {
     "data": {
      "text/plain": [
       "True     1409\n",
       "False     402\n",
       "Name: is_active, dtype: int64"
      ]
     },
     "execution_count": 28,
     "metadata": {},
     "output_type": "execute_result"
    }
   ],
   "source": [
    "df_[\"score_diff\"] = df_.score_dev_data_dev_model - df_.score_prod_data_prod_model\n",
    "df_tmp = df_[(df_.score_diff.abs() > 100)]\n",
    "df_tmp.is_active.value_counts()   # active users have more turbulent score differences - why?"
   ]
  },
  {
   "cell_type": "code",
   "execution_count": 29,
   "id": "e8f8f004",
   "metadata": {},
   "outputs": [],
   "source": [
    "df_tmp_wf = combined_df[combined_df.user_id.isin(df_tmp.user_id)]"
   ]
  },
  {
   "cell_type": "code",
   "execution_count": 30,
   "id": "83809693",
   "metadata": {},
   "outputs": [
    {
     "data": {
      "text/html": [
       "<div>\n",
       "<style scoped>\n",
       "    .dataframe tbody tr th:only-of-type {\n",
       "        vertical-align: middle;\n",
       "    }\n",
       "\n",
       "    .dataframe tbody tr th {\n",
       "        vertical-align: top;\n",
       "    }\n",
       "\n",
       "    .dataframe thead th {\n",
       "        text-align: right;\n",
       "    }\n",
       "</style>\n",
       "<table border=\"1\" class=\"dataframe\">\n",
       "  <thead>\n",
       "    <tr style=\"text-align: right;\">\n",
       "      <th></th>\n",
       "      <th>dev</th>\n",
       "      <th>prod</th>\n",
       "    </tr>\n",
       "  </thead>\n",
       "  <tbody>\n",
       "    <tr>\n",
       "      <th>user_id</th>\n",
       "      <td>12447.000000</td>\n",
       "      <td>12447.000000</td>\n",
       "    </tr>\n",
       "    <tr>\n",
       "      <th>first_deposit_amount</th>\n",
       "      <td>10.000000</td>\n",
       "      <td>500.000000</td>\n",
       "    </tr>\n",
       "    <tr>\n",
       "      <th>vantage_score</th>\n",
       "      <td>NaN</td>\n",
       "      <td>NaN</td>\n",
       "    </tr>\n",
       "    <tr>\n",
       "      <th>bcc7120</th>\n",
       "      <td>NaN</td>\n",
       "      <td>NaN</td>\n",
       "    </tr>\n",
       "    <tr>\n",
       "      <th>email_risk_score</th>\n",
       "      <td>0.066000</td>\n",
       "      <td>0.066000</td>\n",
       "    </tr>\n",
       "    <tr>\n",
       "      <th>fraud_score_2</th>\n",
       "      <td>0.643000</td>\n",
       "      <td>0.643000</td>\n",
       "    </tr>\n",
       "    <tr>\n",
       "      <th>name_email_correlation</th>\n",
       "      <td>0.995900</td>\n",
       "      <td>0.995900</td>\n",
       "    </tr>\n",
       "    <tr>\n",
       "      <th>transaction_as_pct_of_balance</th>\n",
       "      <td>-0.000025</td>\n",
       "      <td>-1.000000</td>\n",
       "    </tr>\n",
       "    <tr>\n",
       "      <th>mean_account_balance_30d</th>\n",
       "      <td>2417.030000</td>\n",
       "      <td>0.000000</td>\n",
       "    </tr>\n",
       "    <tr>\n",
       "      <th>phone_risk_score</th>\n",
       "      <td>0.728000</td>\n",
       "      <td>0.728000</td>\n",
       "    </tr>\n",
       "    <tr>\n",
       "      <th>name_address_correlation</th>\n",
       "      <td>0.909600</td>\n",
       "      <td>0.909600</td>\n",
       "    </tr>\n",
       "    <tr>\n",
       "      <th>all8220</th>\n",
       "      <td>NaN</td>\n",
       "      <td>NaN</td>\n",
       "    </tr>\n",
       "    <tr>\n",
       "      <th>lag_acc_open_first_transaction</th>\n",
       "      <td>3.000000</td>\n",
       "      <td>19.000000</td>\n",
       "    </tr>\n",
       "    <tr>\n",
       "      <th>dollar_val_dd</th>\n",
       "      <td>0.000000</td>\n",
       "      <td>0.000000</td>\n",
       "    </tr>\n",
       "    <tr>\n",
       "      <th>all7120</th>\n",
       "      <td>NaN</td>\n",
       "      <td>NaN</td>\n",
       "    </tr>\n",
       "    <tr>\n",
       "      <th>sum_deposits_10d</th>\n",
       "      <td>0.000000</td>\n",
       "      <td>0.000000</td>\n",
       "    </tr>\n",
       "    <tr>\n",
       "      <th>nr_past_transactions</th>\n",
       "      <td>213.000000</td>\n",
       "      <td>339.000000</td>\n",
       "    </tr>\n",
       "    <tr>\n",
       "      <th>total_tradelines_open</th>\n",
       "      <td>NaN</td>\n",
       "      <td>NaN</td>\n",
       "    </tr>\n",
       "    <tr>\n",
       "      <th>education_loan_amount</th>\n",
       "      <td>NaN</td>\n",
       "      <td>NaN</td>\n",
       "    </tr>\n",
       "    <tr>\n",
       "      <th>address_risk_score</th>\n",
       "      <td>0.645000</td>\n",
       "      <td>0.645000</td>\n",
       "    </tr>\n",
       "    <tr>\n",
       "      <th>iqt9415</th>\n",
       "      <td>NaN</td>\n",
       "      <td>NaN</td>\n",
       "    </tr>\n",
       "    <tr>\n",
       "      <th>max_withdrawals_30d</th>\n",
       "      <td>0.000000</td>\n",
       "      <td>0.000000</td>\n",
       "    </tr>\n",
       "    <tr>\n",
       "      <th>iln5520</th>\n",
       "      <td>NaN</td>\n",
       "      <td>NaN</td>\n",
       "    </tr>\n",
       "    <tr>\n",
       "      <th>max_deposits_30d</th>\n",
       "      <td>0.000000</td>\n",
       "      <td>0.000000</td>\n",
       "    </tr>\n",
       "    <tr>\n",
       "      <th>pct_returned_deposits</th>\n",
       "      <td>0.000000</td>\n",
       "      <td>0.000000</td>\n",
       "    </tr>\n",
       "    <tr>\n",
       "      <th>giact_nr_decline</th>\n",
       "      <td>-1.000000</td>\n",
       "      <td>0.000000</td>\n",
       "    </tr>\n",
       "    <tr>\n",
       "      <th>nr_direct_deposits</th>\n",
       "      <td>0.000000</td>\n",
       "      <td>0.000000</td>\n",
       "    </tr>\n",
       "    <tr>\n",
       "      <th>time_since_last_transaction</th>\n",
       "      <td>22.000000</td>\n",
       "      <td>8.000000</td>\n",
       "    </tr>\n",
       "    <tr>\n",
       "      <th>bal_ratio</th>\n",
       "      <td>1.000000</td>\n",
       "      <td>0.000000</td>\n",
       "    </tr>\n",
       "    <tr>\n",
       "      <th>name_phone_correlation</th>\n",
       "      <td>0.998400</td>\n",
       "      <td>0.998400</td>\n",
       "    </tr>\n",
       "    <tr>\n",
       "      <th>giact_nr_other</th>\n",
       "      <td>-1.000000</td>\n",
       "      <td>0.000000</td>\n",
       "    </tr>\n",
       "    <tr>\n",
       "      <th>dollar_val_returns</th>\n",
       "      <td>0.000000</td>\n",
       "      <td>0.000000</td>\n",
       "    </tr>\n",
       "    <tr>\n",
       "      <th>nr_trans_ratio</th>\n",
       "      <td>-1.000000</td>\n",
       "      <td>-1.000000</td>\n",
       "    </tr>\n",
       "    <tr>\n",
       "      <th>iqt9413</th>\n",
       "      <td>NaN</td>\n",
       "      <td>NaN</td>\n",
       "    </tr>\n",
       "    <tr>\n",
       "      <th>dollar_val_returns_3d</th>\n",
       "      <td>0.000000</td>\n",
       "      <td>0.000000</td>\n",
       "    </tr>\n",
       "    <tr>\n",
       "      <th>nr_returns_30d</th>\n",
       "      <td>0.000000</td>\n",
       "      <td>0.000000</td>\n",
       "    </tr>\n",
       "    <tr>\n",
       "      <th>credit_card_loan_amount</th>\n",
       "      <td>NaN</td>\n",
       "      <td>NaN</td>\n",
       "    </tr>\n",
       "    <tr>\n",
       "      <th>fraud_score_1</th>\n",
       "      <td>0.447100</td>\n",
       "      <td>0.447100</td>\n",
       "    </tr>\n",
       "    <tr>\n",
       "      <th>age_money_account</th>\n",
       "      <td>1116.000000</td>\n",
       "      <td>1116.000000</td>\n",
       "    </tr>\n",
       "    <tr>\n",
       "      <th>transaction_code_encoded</th>\n",
       "      <td>5.000000</td>\n",
       "      <td>5.000000</td>\n",
       "    </tr>\n",
       "    <tr>\n",
       "      <th>all7120_default_encoded</th>\n",
       "      <td>-1.000000</td>\n",
       "      <td>-1.000000</td>\n",
       "    </tr>\n",
       "    <tr>\n",
       "      <th>bcc7120_default_encoded</th>\n",
       "      <td>-1.000000</td>\n",
       "      <td>-1.000000</td>\n",
       "    </tr>\n",
       "    <tr>\n",
       "      <th>refit_score</th>\n",
       "      <td>490.553514</td>\n",
       "      <td>593.098223</td>\n",
       "    </tr>\n",
       "    <tr>\n",
       "      <th>incumbent_score</th>\n",
       "      <td>469.770156</td>\n",
       "      <td>602.241705</td>\n",
       "    </tr>\n",
       "  </tbody>\n",
       "</table>\n",
       "</div>"
      ],
      "text/plain": [
       "                                         dev          prod\n",
       "user_id                         12447.000000  12447.000000\n",
       "first_deposit_amount               10.000000    500.000000\n",
       "vantage_score                            NaN           NaN\n",
       "bcc7120                                  NaN           NaN\n",
       "email_risk_score                    0.066000      0.066000\n",
       "fraud_score_2                       0.643000      0.643000\n",
       "name_email_correlation              0.995900      0.995900\n",
       "transaction_as_pct_of_balance      -0.000025     -1.000000\n",
       "mean_account_balance_30d         2417.030000      0.000000\n",
       "phone_risk_score                    0.728000      0.728000\n",
       "name_address_correlation            0.909600      0.909600\n",
       "all8220                                  NaN           NaN\n",
       "lag_acc_open_first_transaction      3.000000     19.000000\n",
       "dollar_val_dd                       0.000000      0.000000\n",
       "all7120                                  NaN           NaN\n",
       "sum_deposits_10d                    0.000000      0.000000\n",
       "nr_past_transactions              213.000000    339.000000\n",
       "total_tradelines_open                    NaN           NaN\n",
       "education_loan_amount                    NaN           NaN\n",
       "address_risk_score                  0.645000      0.645000\n",
       "iqt9415                                  NaN           NaN\n",
       "max_withdrawals_30d                 0.000000      0.000000\n",
       "iln5520                                  NaN           NaN\n",
       "max_deposits_30d                    0.000000      0.000000\n",
       "pct_returned_deposits               0.000000      0.000000\n",
       "giact_nr_decline                   -1.000000      0.000000\n",
       "nr_direct_deposits                  0.000000      0.000000\n",
       "time_since_last_transaction        22.000000      8.000000\n",
       "bal_ratio                           1.000000      0.000000\n",
       "name_phone_correlation              0.998400      0.998400\n",
       "giact_nr_other                     -1.000000      0.000000\n",
       "dollar_val_returns                  0.000000      0.000000\n",
       "nr_trans_ratio                     -1.000000     -1.000000\n",
       "iqt9413                                  NaN           NaN\n",
       "dollar_val_returns_3d               0.000000      0.000000\n",
       "nr_returns_30d                      0.000000      0.000000\n",
       "credit_card_loan_amount                  NaN           NaN\n",
       "fraud_score_1                       0.447100      0.447100\n",
       "age_money_account                1116.000000   1116.000000\n",
       "transaction_code_encoded            5.000000      5.000000\n",
       "all7120_default_encoded            -1.000000     -1.000000\n",
       "bcc7120_default_encoded            -1.000000     -1.000000\n",
       "refit_score                       490.553514    593.098223\n",
       "incumbent_score                   469.770156    602.241705"
      ]
     },
     "execution_count": 30,
     "metadata": {},
     "output_type": "execute_result"
    }
   ],
   "source": [
    "i = 0\n",
    "dev_row = df_tmp_wf[[\"user_id\"] + col_dev + [\"incumbent_model_score_dev_exp\"]].iloc[i].rename(\"dev\")\n",
    "prod_row = df_tmp_wf[[\"user_id\"] + col_prod + [\"incumbent_model_score_dev_act\"]].iloc[i].rename(\"prod\")\n",
    "dev_row.index = [\"user_id\"] + features + [\"refit_score\", \"incumbent_score\"]\n",
    "prod_row.index = [\"user_id\"] + features + [\"refit_score\", \"incumbent_score\"]\n",
    "df_i = pd.concat([dev_row, prod_row],\n",
    "                  axis=1)\n",
    "df_i"
   ]
  },
  {
   "cell_type": "code",
   "execution_count": 52,
   "id": "fb884c1b",
   "metadata": {},
   "outputs": [
    {
     "data": {
      "text/html": [
       "<div>\n",
       "<style scoped>\n",
       "    .dataframe tbody tr th:only-of-type {\n",
       "        vertical-align: middle;\n",
       "    }\n",
       "\n",
       "    .dataframe tbody tr th {\n",
       "        vertical-align: top;\n",
       "    }\n",
       "\n",
       "    .dataframe thead th {\n",
       "        text-align: right;\n",
       "    }\n",
       "</style>\n",
       "<table border=\"1\" class=\"dataframe\">\n",
       "  <thead>\n",
       "    <tr style=\"text-align: right;\">\n",
       "      <th></th>\n",
       "      <th>dev</th>\n",
       "      <th>prod</th>\n",
       "    </tr>\n",
       "  </thead>\n",
       "  <tbody>\n",
       "    <tr>\n",
       "      <th>user_id</th>\n",
       "      <td>17509.000000</td>\n",
       "      <td>17509.000000</td>\n",
       "    </tr>\n",
       "    <tr>\n",
       "      <th>first_deposit_amount</th>\n",
       "      <td>5000.000000</td>\n",
       "      <td>-1.000000</td>\n",
       "    </tr>\n",
       "    <tr>\n",
       "      <th>vantage_score</th>\n",
       "      <td>696.000000</td>\n",
       "      <td>696.000000</td>\n",
       "    </tr>\n",
       "    <tr>\n",
       "      <th>bcc7120</th>\n",
       "      <td>71.000000</td>\n",
       "      <td>71.000000</td>\n",
       "    </tr>\n",
       "    <tr>\n",
       "      <th>email_risk_score</th>\n",
       "      <td>0.607000</td>\n",
       "      <td>0.607000</td>\n",
       "    </tr>\n",
       "    <tr>\n",
       "      <th>fraud_score_2</th>\n",
       "      <td>0.142000</td>\n",
       "      <td>0.142000</td>\n",
       "    </tr>\n",
       "    <tr>\n",
       "      <th>name_email_correlation</th>\n",
       "      <td>0.010000</td>\n",
       "      <td>0.010000</td>\n",
       "    </tr>\n",
       "    <tr>\n",
       "      <th>transaction_as_pct_of_balance</th>\n",
       "      <td>0.006779</td>\n",
       "      <td>0.000000</td>\n",
       "    </tr>\n",
       "    <tr>\n",
       "      <th>mean_account_balance_30d</th>\n",
       "      <td>19305.810000</td>\n",
       "      <td>0.000000</td>\n",
       "    </tr>\n",
       "    <tr>\n",
       "      <th>phone_risk_score</th>\n",
       "      <td>0.224000</td>\n",
       "      <td>0.224000</td>\n",
       "    </tr>\n",
       "    <tr>\n",
       "      <th>name_address_correlation</th>\n",
       "      <td>0.000000</td>\n",
       "      <td>0.000000</td>\n",
       "    </tr>\n",
       "    <tr>\n",
       "      <th>all8220</th>\n",
       "      <td>166.000000</td>\n",
       "      <td>166.000000</td>\n",
       "    </tr>\n",
       "    <tr>\n",
       "      <th>lag_acc_open_first_transaction</th>\n",
       "      <td>9.000000</td>\n",
       "      <td>-1.000000</td>\n",
       "    </tr>\n",
       "    <tr>\n",
       "      <th>dollar_val_dd</th>\n",
       "      <td>0.000000</td>\n",
       "      <td>0.000000</td>\n",
       "    </tr>\n",
       "    <tr>\n",
       "      <th>all7120</th>\n",
       "      <td>108.000000</td>\n",
       "      <td>108.000000</td>\n",
       "    </tr>\n",
       "    <tr>\n",
       "      <th>sum_deposits_10d</th>\n",
       "      <td>0.000000</td>\n",
       "      <td>0.000000</td>\n",
       "    </tr>\n",
       "    <tr>\n",
       "      <th>nr_past_transactions</th>\n",
       "      <td>20.000000</td>\n",
       "      <td>-1.000000</td>\n",
       "    </tr>\n",
       "    <tr>\n",
       "      <th>total_tradelines_open</th>\n",
       "      <td>31.000000</td>\n",
       "      <td>31.000000</td>\n",
       "    </tr>\n",
       "    <tr>\n",
       "      <th>education_loan_amount</th>\n",
       "      <td>28962.000000</td>\n",
       "      <td>28962.000000</td>\n",
       "    </tr>\n",
       "    <tr>\n",
       "      <th>address_risk_score</th>\n",
       "      <td>0.000000</td>\n",
       "      <td>0.000000</td>\n",
       "    </tr>\n",
       "    <tr>\n",
       "      <th>iqt9415</th>\n",
       "      <td>1.000000</td>\n",
       "      <td>1.000000</td>\n",
       "    </tr>\n",
       "    <tr>\n",
       "      <th>max_withdrawals_30d</th>\n",
       "      <td>0.000000</td>\n",
       "      <td>0.000000</td>\n",
       "    </tr>\n",
       "    <tr>\n",
       "      <th>iln5520</th>\n",
       "      <td>10138.000000</td>\n",
       "      <td>10138.000000</td>\n",
       "    </tr>\n",
       "    <tr>\n",
       "      <th>max_deposits_30d</th>\n",
       "      <td>0.000000</td>\n",
       "      <td>0.000000</td>\n",
       "    </tr>\n",
       "    <tr>\n",
       "      <th>pct_returned_deposits</th>\n",
       "      <td>0.000000</td>\n",
       "      <td>0.000000</td>\n",
       "    </tr>\n",
       "    <tr>\n",
       "      <th>giact_nr_decline</th>\n",
       "      <td>0.000000</td>\n",
       "      <td>0.000000</td>\n",
       "    </tr>\n",
       "    <tr>\n",
       "      <th>nr_direct_deposits</th>\n",
       "      <td>0.000000</td>\n",
       "      <td>0.000000</td>\n",
       "    </tr>\n",
       "    <tr>\n",
       "      <th>time_since_last_transaction</th>\n",
       "      <td>5.000000</td>\n",
       "      <td>-1.000000</td>\n",
       "    </tr>\n",
       "    <tr>\n",
       "      <th>bal_ratio</th>\n",
       "      <td>1.000000</td>\n",
       "      <td>0.000000</td>\n",
       "    </tr>\n",
       "    <tr>\n",
       "      <th>name_phone_correlation</th>\n",
       "      <td>0.999900</td>\n",
       "      <td>0.999900</td>\n",
       "    </tr>\n",
       "    <tr>\n",
       "      <th>giact_nr_other</th>\n",
       "      <td>1.000000</td>\n",
       "      <td>1.000000</td>\n",
       "    </tr>\n",
       "    <tr>\n",
       "      <th>dollar_val_returns</th>\n",
       "      <td>0.000000</td>\n",
       "      <td>0.000000</td>\n",
       "    </tr>\n",
       "    <tr>\n",
       "      <th>nr_trans_ratio</th>\n",
       "      <td>-1.000000</td>\n",
       "      <td>-1.000000</td>\n",
       "    </tr>\n",
       "    <tr>\n",
       "      <th>iqt9413</th>\n",
       "      <td>0.000000</td>\n",
       "      <td>0.000000</td>\n",
       "    </tr>\n",
       "    <tr>\n",
       "      <th>dollar_val_returns_3d</th>\n",
       "      <td>0.000000</td>\n",
       "      <td>0.000000</td>\n",
       "    </tr>\n",
       "    <tr>\n",
       "      <th>nr_returns_30d</th>\n",
       "      <td>0.000000</td>\n",
       "      <td>0.000000</td>\n",
       "    </tr>\n",
       "    <tr>\n",
       "      <th>credit_card_loan_amount</th>\n",
       "      <td>22970.000000</td>\n",
       "      <td>21174.000000</td>\n",
       "    </tr>\n",
       "    <tr>\n",
       "      <th>fraud_score_1</th>\n",
       "      <td>NaN</td>\n",
       "      <td>NaN</td>\n",
       "    </tr>\n",
       "    <tr>\n",
       "      <th>age_money_account</th>\n",
       "      <td>773.000000</td>\n",
       "      <td>773.000000</td>\n",
       "    </tr>\n",
       "    <tr>\n",
       "      <th>transaction_code_encoded</th>\n",
       "      <td>4.000000</td>\n",
       "      <td>0.000000</td>\n",
       "    </tr>\n",
       "    <tr>\n",
       "      <th>all7120_default_encoded</th>\n",
       "      <td>-1.000000</td>\n",
       "      <td>-1.000000</td>\n",
       "    </tr>\n",
       "    <tr>\n",
       "      <th>bcc7120_default_encoded</th>\n",
       "      <td>-1.000000</td>\n",
       "      <td>-1.000000</td>\n",
       "    </tr>\n",
       "    <tr>\n",
       "      <th>refit_score</th>\n",
       "      <td>443.965985</td>\n",
       "      <td>561.492183</td>\n",
       "    </tr>\n",
       "    <tr>\n",
       "      <th>incumbent_score</th>\n",
       "      <td>395.835416</td>\n",
       "      <td>500.698913</td>\n",
       "    </tr>\n",
       "  </tbody>\n",
       "</table>\n",
       "</div>"
      ],
      "text/plain": [
       "                                         dev          prod\n",
       "user_id                         17509.000000  17509.000000\n",
       "first_deposit_amount             5000.000000     -1.000000\n",
       "vantage_score                     696.000000    696.000000\n",
       "bcc7120                            71.000000     71.000000\n",
       "email_risk_score                    0.607000      0.607000\n",
       "fraud_score_2                       0.142000      0.142000\n",
       "name_email_correlation              0.010000      0.010000\n",
       "transaction_as_pct_of_balance       0.006779      0.000000\n",
       "mean_account_balance_30d        19305.810000      0.000000\n",
       "phone_risk_score                    0.224000      0.224000\n",
       "name_address_correlation            0.000000      0.000000\n",
       "all8220                           166.000000    166.000000\n",
       "lag_acc_open_first_transaction      9.000000     -1.000000\n",
       "dollar_val_dd                       0.000000      0.000000\n",
       "all7120                           108.000000    108.000000\n",
       "sum_deposits_10d                    0.000000      0.000000\n",
       "nr_past_transactions               20.000000     -1.000000\n",
       "total_tradelines_open              31.000000     31.000000\n",
       "education_loan_amount           28962.000000  28962.000000\n",
       "address_risk_score                  0.000000      0.000000\n",
       "iqt9415                             1.000000      1.000000\n",
       "max_withdrawals_30d                 0.000000      0.000000\n",
       "iln5520                         10138.000000  10138.000000\n",
       "max_deposits_30d                    0.000000      0.000000\n",
       "pct_returned_deposits               0.000000      0.000000\n",
       "giact_nr_decline                    0.000000      0.000000\n",
       "nr_direct_deposits                  0.000000      0.000000\n",
       "time_since_last_transaction         5.000000     -1.000000\n",
       "bal_ratio                           1.000000      0.000000\n",
       "name_phone_correlation              0.999900      0.999900\n",
       "giact_nr_other                      1.000000      1.000000\n",
       "dollar_val_returns                  0.000000      0.000000\n",
       "nr_trans_ratio                     -1.000000     -1.000000\n",
       "iqt9413                             0.000000      0.000000\n",
       "dollar_val_returns_3d               0.000000      0.000000\n",
       "nr_returns_30d                      0.000000      0.000000\n",
       "credit_card_loan_amount         22970.000000  21174.000000\n",
       "fraud_score_1                            NaN           NaN\n",
       "age_money_account                 773.000000    773.000000\n",
       "transaction_code_encoded            4.000000      0.000000\n",
       "all7120_default_encoded            -1.000000     -1.000000\n",
       "bcc7120_default_encoded            -1.000000     -1.000000\n",
       "refit_score                       443.965985    561.492183\n",
       "incumbent_score                   395.835416    500.698913"
      ]
     },
     "execution_count": 52,
     "metadata": {},
     "output_type": "execute_result"
    }
   ],
   "source": [
    "fts = [\"first_deposit_amount\",\n",
    "       \"transaction_as_pct_of_balance\",\n",
    "       \"lag_acc_open_first_transaction\",\n",
    "       \"nr_past_transactions\",\n",
    "       \"time_since_last_transaction\", \n",
    "       \"credit_card_loan_amount\"]\n",
    "\n",
    "i = 2\n",
    "dev_row = df_tmp_wf[[\"user_id\"] + col_dev + [\"incumbent_model_score_dev_exp\"]].iloc[i].rename(\"dev\")\n",
    "prod_row = df_tmp_wf[[\"user_id\"] + col_prod + [\"incumbent_model_score_dev_act\"]].iloc[i].rename(\"prod\")\n",
    "dev_row.index = [\"user_id\"] + features + [\"refit_score\", \"incumbent_score\"]\n",
    "prod_row.index = [\"user_id\"] + features + [\"refit_score\", \"incumbent_score\"]\n",
    "df_i = pd.concat([dev_row, prod_row],\n",
    "                  axis=1)\n",
    "df_i.to_csv(\"artifacts/uid_17509.csv\")\n",
    "\n",
    "df_i[df_i.index.isin(fts)].to_csv(\"artifacts/uid_17509_focused_features.csv\")\n",
    "\n",
    "df_i"
   ]
  },
  {
   "cell_type": "markdown",
   "id": "0ba9383e",
   "metadata": {},
   "source": [
    "mostly transactions data do not align."
   ]
  },
  {
   "cell_type": "code",
   "execution_count": null,
   "id": "e4740a1d",
   "metadata": {},
   "outputs": [],
   "source": []
  },
  {
   "cell_type": "code",
   "execution_count": 32,
   "id": "e212a173",
   "metadata": {},
   "outputs": [
    {
     "data": {
      "text/plain": [
       "False    953129\n",
       "True     166517\n",
       "Name: is_active, dtype: int64"
      ]
     },
     "metadata": {},
     "output_type": "display_data"
    },
    {
     "data": {
      "text/html": [
       "<div>\n",
       "<style scoped>\n",
       "    .dataframe tbody tr th:only-of-type {\n",
       "        vertical-align: middle;\n",
       "    }\n",
       "\n",
       "    .dataframe tbody tr th {\n",
       "        vertical-align: top;\n",
       "    }\n",
       "\n",
       "    .dataframe thead th {\n",
       "        text-align: right;\n",
       "    }\n",
       "</style>\n",
       "<table border=\"1\" class=\"dataframe\">\n",
       "  <thead>\n",
       "    <tr style=\"text-align: right;\">\n",
       "      <th></th>\n",
       "      <th>user_id</th>\n",
       "      <th>sample_date</th>\n",
       "      <th>business_account_number</th>\n",
       "      <th>score_incumbent</th>\n",
       "      <th>score_refitted</th>\n",
       "      <th>rg_incumbent</th>\n",
       "      <th>rg_refitted</th>\n",
       "      <th>is_active</th>\n",
       "    </tr>\n",
       "  </thead>\n",
       "  <tbody>\n",
       "    <tr>\n",
       "      <th>8925451</th>\n",
       "      <td>305</td>\n",
       "      <td>2021-09-15</td>\n",
       "      <td>410000276182</td>\n",
       "      <td>574.411334</td>\n",
       "      <td>613.927501</td>\n",
       "      <td>RG4</td>\n",
       "      <td>RG5</td>\n",
       "      <td>False</td>\n",
       "    </tr>\n",
       "    <tr>\n",
       "      <th>8925452</th>\n",
       "      <td>361</td>\n",
       "      <td>2021-09-15</td>\n",
       "      <td>410000345005</td>\n",
       "      <td>478.306634</td>\n",
       "      <td>476.012318</td>\n",
       "      <td>RG2</td>\n",
       "      <td>RG1</td>\n",
       "      <td>True</td>\n",
       "    </tr>\n",
       "    <tr>\n",
       "      <th>8925453</th>\n",
       "      <td>637</td>\n",
       "      <td>2021-09-15</td>\n",
       "      <td>410000300440</td>\n",
       "      <td>450.108314</td>\n",
       "      <td>471.937248</td>\n",
       "      <td>RG1</td>\n",
       "      <td>RG1</td>\n",
       "      <td>True</td>\n",
       "    </tr>\n",
       "    <tr>\n",
       "      <th>8925454</th>\n",
       "      <td>457</td>\n",
       "      <td>2021-09-15</td>\n",
       "      <td>410011645378</td>\n",
       "      <td>503.178169</td>\n",
       "      <td>543.099431</td>\n",
       "      <td>RG2</td>\n",
       "      <td>RG2</td>\n",
       "      <td>False</td>\n",
       "    </tr>\n",
       "    <tr>\n",
       "      <th>8925455</th>\n",
       "      <td>468</td>\n",
       "      <td>2021-09-15</td>\n",
       "      <td>410000331898</td>\n",
       "      <td>550.282359</td>\n",
       "      <td>559.857236</td>\n",
       "      <td>RG3</td>\n",
       "      <td>RG3</td>\n",
       "      <td>False</td>\n",
       "    </tr>\n",
       "  </tbody>\n",
       "</table>\n",
       "</div>"
      ],
      "text/plain": [
       "         user_id sample_date  business_account_number  score_incumbent  \\\n",
       "8925451      305  2021-09-15             410000276182       574.411334   \n",
       "8925452      361  2021-09-15             410000345005       478.306634   \n",
       "8925453      637  2021-09-15             410000300440       450.108314   \n",
       "8925454      457  2021-09-15             410011645378       503.178169   \n",
       "8925455      468  2021-09-15             410000331898       550.282359   \n",
       "\n",
       "         score_refitted rg_incumbent rg_refitted  is_active  \n",
       "8925451      613.927501          RG4         RG5      False  \n",
       "8925452      476.012318          RG2         RG1       True  \n",
       "8925453      471.937248          RG1         RG1       True  \n",
       "8925454      543.099431          RG2         RG2      False  \n",
       "8925455      559.857236          RG3         RG3      False  "
      ]
     },
     "metadata": {},
     "output_type": "display_data"
    }
   ],
   "source": [
    "# prep dev data\n",
    "cols_ = [\"user_id\", \"sample_date\", \"business_account_number\",\n",
    "         \"incumbent_model_score_dev\", \"model_score\", \"rg_incumbent\", \"rg_refitted\", \"is_active\"]\n",
    "dev_df_[\"is_active\"] = dev_df_.user_id.isin(set(active_ids))\n",
    "display(dev_df_.is_active.value_counts())\n",
    "\n",
    "df_out = dev_df_[cols_]\n",
    "df_out.columns = [\"user_id\", \"sample_date\", \"business_account_number\",\n",
    "                  \"score_incumbent\", \"score_refitted\", \"rg_incumbent\", \"rg_refitted\", \"is_active\"]\n",
    "display(df_out.head())\n",
    "df_out.to_csv(os.path.join(s3_dir, \"20210915-dev-scores.csv\"))"
   ]
  },
  {
   "cell_type": "code",
   "execution_count": 33,
   "id": "41cac48a",
   "metadata": {},
   "outputs": [
    {
     "data": {
      "text/html": [
       "<div>\n",
       "<style scoped>\n",
       "    .dataframe tbody tr th:only-of-type {\n",
       "        vertical-align: middle;\n",
       "    }\n",
       "\n",
       "    .dataframe tbody tr th {\n",
       "        vertical-align: top;\n",
       "    }\n",
       "\n",
       "    .dataframe thead th {\n",
       "        text-align: right;\n",
       "    }\n",
       "</style>\n",
       "<table border=\"1\" class=\"dataframe\">\n",
       "  <thead>\n",
       "    <tr style=\"text-align: right;\">\n",
       "      <th></th>\n",
       "      <th>user_id</th>\n",
       "      <th>sample_date</th>\n",
       "      <th>score_incumbent</th>\n",
       "      <th>score_refitted</th>\n",
       "      <th>rg_incumbent</th>\n",
       "      <th>rg_refitted</th>\n",
       "    </tr>\n",
       "  </thead>\n",
       "  <tbody>\n",
       "    <tr>\n",
       "      <th>0</th>\n",
       "      <td>3749</td>\n",
       "      <td>2021-09-15</td>\n",
       "      <td>415.193050</td>\n",
       "      <td>467.575063</td>\n",
       "      <td>RG1</td>\n",
       "      <td>RG1</td>\n",
       "    </tr>\n",
       "    <tr>\n",
       "      <th>1</th>\n",
       "      <td>13317</td>\n",
       "      <td>2021-09-15</td>\n",
       "      <td>404.635070</td>\n",
       "      <td>466.911229</td>\n",
       "      <td>RG1</td>\n",
       "      <td>RG1</td>\n",
       "    </tr>\n",
       "    <tr>\n",
       "      <th>2</th>\n",
       "      <td>14192</td>\n",
       "      <td>2021-09-15</td>\n",
       "      <td>499.297733</td>\n",
       "      <td>549.736468</td>\n",
       "      <td>RG2</td>\n",
       "      <td>RG2</td>\n",
       "    </tr>\n",
       "    <tr>\n",
       "      <th>4</th>\n",
       "      <td>32516</td>\n",
       "      <td>2021-09-15</td>\n",
       "      <td>507.394183</td>\n",
       "      <td>537.278439</td>\n",
       "      <td>RG2</td>\n",
       "      <td>RG2</td>\n",
       "    </tr>\n",
       "    <tr>\n",
       "      <th>5</th>\n",
       "      <td>33224</td>\n",
       "      <td>2021-09-15</td>\n",
       "      <td>576.250640</td>\n",
       "      <td>608.780491</td>\n",
       "      <td>RG4</td>\n",
       "      <td>RG5</td>\n",
       "    </tr>\n",
       "  </tbody>\n",
       "</table>\n",
       "</div>"
      ],
      "text/plain": [
       "   user_id sample_date  score_incumbent  score_refitted rg_incumbent  \\\n",
       "0     3749  2021-09-15       415.193050      467.575063          RG1   \n",
       "1    13317  2021-09-15       404.635070      466.911229          RG1   \n",
       "2    14192  2021-09-15       499.297733      549.736468          RG2   \n",
       "4    32516  2021-09-15       507.394183      537.278439          RG2   \n",
       "5    33224  2021-09-15       576.250640      608.780491          RG4   \n",
       "\n",
       "  rg_refitted  \n",
       "0         RG1  \n",
       "1         RG1  \n",
       "2         RG2  \n",
       "4         RG2  \n",
       "5         RG5  "
      ]
     },
     "metadata": {},
     "output_type": "display_data"
    }
   ],
   "source": [
    "# prep prod data\n",
    "cols_ = [\"user_id\", \"sample_date\",\n",
    "         \"incumbent_model_score_dev\", \"model_score\", \"rg_incumbent\", \"rg_refitted\"]\n",
    "prod_df_.rename({\"incumbent_model_score_dev\": \"score_incumbent\",\n",
    "                \"model_score\": \"score_refitted\"}, inplace=True)\n",
    "\n",
    "df_out = prod_df_[cols_]\n",
    "df_out.columns = [\"user_id\", \"sample_date\",\n",
    "         \"score_incumbent\", \"score_refitted\", \"rg_incumbent\", \"rg_refitted\"]\n",
    "display(df_out.head())\n",
    "\n",
    "prod_df_[cols_].to_csv(os.path.join(s3_dir, \"20210915-prod-scores.csv\"))"
   ]
  },
  {
   "cell_type": "code",
   "execution_count": 34,
   "id": "c9f9a481",
   "metadata": {},
   "outputs": [],
   "source": [
    "assert dev_df_.model_score.equals(dev_df_.score_dev)\n",
    "assert prod_df_.model_score.equals(prod_df_.score_prod)"
   ]
  },
  {
   "cell_type": "code",
   "execution_count": 35,
   "id": "7107d4bf",
   "metadata": {},
   "outputs": [
    {
     "data": {
      "text/plain": [
       "Text(0.5, 1.0, 'Risk Group Shift - july')"
      ]
     },
     "execution_count": 35,
     "metadata": {},
     "output_type": "execute_result"
    },
    {
     "data": {
      "image/png": "[encoded data removed]",
      "text/plain": [
       "<Figure size 576x396 with 2 Axes>"
      ]
     },
     "metadata": {},
     "output_type": "display_data"
    }
   ],
   "source": [
    "df_[\"rg_incumbent\"] = get_risk_groups(df_[\"incumbent_model_prod_data\"])\n",
    "df_[\"rg_refit\"] = get_risk_groups_refitted(df_[\"score_prod_data_prod_model\"])\n",
    "\n",
    "table = df_[[\"rg_incumbent\", \"rg_refit\"]].value_counts(normalize=True).sort_index().reset_index()\n",
    "table.columns = [\"rg_incumbent\", \"rg_refit\", 'counts']\n",
    "table = pd.pivot_table(table, values='counts', index=\"rg_incumbent\", \n",
    "                       columns=\"rg_refit\", fill_value=0) * 100\n",
    "\n",
    "hm = sns.heatmap(table, cmap='coolwarm', annot=True, fmt='.4f')\n",
    "for t in hm.texts: t.set_text(t.get_text() + \" %\")\n",
    "\n",
    "plt.title(f'Risk Group Shift - july')"
   ]
  },
  {
   "cell_type": "code",
   "execution_count": 36,
   "id": "ab38b1a3",
   "metadata": {},
   "outputs": [
    {
     "data": {
      "text/plain": [
       "Text(0.5, 1.0, 'Risk Group Shift - dev vs prod')"
      ]
     },
     "execution_count": 36,
     "metadata": {},
     "output_type": "execute_result"
    },
    {
     "data": {
      "image/png": "[encoded data removed]",
      "text/plain": [
       "<Figure size 576x396 with 2 Axes>"
      ]
     },
     "metadata": {},
     "output_type": "display_data"
    }
   ],
   "source": [
    "df_[\"rg_refit_prod\"] = get_risk_groups_refitted(df_[\"score_prod_data_prod_model\"])\n",
    "df_[\"rg_refit_dev\"] = get_risk_groups_refitted(df_[\"score_dev_data_dev_model\"])\n",
    "\n",
    "\n",
    "table = df_[[\"rg_refit_prod\", \"rg_refit_dev\"]].value_counts(normalize=True).sort_index().reset_index()\n",
    "table.columns = [\"rg_refit_prod\", \"rg_refit_dev\", 'counts']\n",
    "table = pd.pivot_table(table, values='counts', index=\"rg_refit_prod\", \n",
    "                       columns=\"rg_refit_dev\", fill_value=0) * 100\n",
    "\n",
    "hm = sns.heatmap(table, cmap='coolwarm', annot=True, fmt='.4f')\n",
    "for t in hm.texts: t.set_text(t.get_text() + \" %\")\n",
    "\n",
    "plt.title(f'Risk Group Shift - dev vs prod')"
   ]
  },
  {
   "cell_type": "code",
   "execution_count": 37,
   "id": "699ccf53",
   "metadata": {},
   "outputs": [
    {
     "data": {
      "text/plain": [
       "Text(0.5, 1.0, 'Risk Group Shift - dev vs prod')"
      ]
     },
     "execution_count": 37,
     "metadata": {},
     "output_type": "execute_result"
    },
    {
     "data": {
      "image/png": "[encoded data removed]",
      "text/plain": [
       "<Figure size 576x396 with 2 Axes>"
      ]
     },
     "metadata": {},
     "output_type": "display_data"
    }
   ],
   "source": [
    "df_[\"rg_refit_prod\"] = get_risk_groups_refitted(df_[\"score_prod_data_prod_model\"])\n",
    "df_[\"rg_refit_dev\"] = get_risk_groups_refitted(df_[\"score_dev_data_dev_model\"])\n",
    "\n",
    "\n",
    "table = df_[[\"rg_refit_prod\", \"rg_refit_dev\"]].value_counts(normalize=False).sort_index().reset_index()\n",
    "table.columns = [\"rg_refit_prod\", \"rg_refit_dev\", 'counts']\n",
    "table = pd.pivot_table(table, values='counts', index=\"rg_refit_prod\", \n",
    "                       columns=\"rg_refit_dev\", fill_value=0) \n",
    "\n",
    "hm = sns.heatmap(table, cmap='coolwarm', annot=True, fmt='.0f')\n",
    "\n",
    "plt.title(f'Risk Group Shift - dev vs prod')"
   ]
  },
  {
   "cell_type": "code",
   "execution_count": 42,
   "id": "857c3c67",
   "metadata": {},
   "outputs": [
    {
     "data": {
      "text/plain": [
       "Text(0.5, 1.0, 'Risk Group Shift - dev vs prod')"
      ]
     },
     "execution_count": 42,
     "metadata": {},
     "output_type": "execute_result"
    },
    {
     "data": {
      "image/png": "[encoded data removed]",
      "text/plain": [
       "<Figure size 576x396 with 2 Axes>"
      ]
     },
     "metadata": {},
     "output_type": "display_data"
    }
   ],
   "source": [
    "df_[\"rg_refit_prod\"] = get_risk_groups_refitted(df_[\"score_prod_data_prod_model\"])\n",
    "df_[\"rg_refit_dev\"] = get_risk_groups_refitted(df_[\"score_dev_data_dev_model\"])\n",
    "\n",
    "\n",
    "table = df_[df_.is_active][[\"rg_refit_prod\", \"rg_refit_dev\"]].value_counts(normalize=True).sort_index().reset_index()\n",
    "table.columns = [\"rg_refit_prod\", \"rg_refit_dev\", 'counts']\n",
    "table = pd.pivot_table(table, values='counts', index=\"rg_refit_prod\", \n",
    "                       columns=\"rg_refit_dev\", fill_value=0) * 100\n",
    "\n",
    "hm = sns.heatmap(table, cmap='coolwarm', annot=True, fmt='.4f')\n",
    "for t in hm.texts: t.set_text(t.get_text() + \" %\")\n",
    "\n",
    "plt.title(f'Risk Group Shift - dev vs prod')"
   ]
  },
  {
   "cell_type": "code",
   "execution_count": 38,
   "id": "8df9cfc7",
   "metadata": {},
   "outputs": [
    {
     "data": {
      "text/plain": [
       "Text(0.5, 1.0, 'Risk Group Shift - dev vs prod')"
      ]
     },
     "execution_count": 38,
     "metadata": {},
     "output_type": "execute_result"
    },
    {
     "data": {
      "image/png": "[encoded data removed]",
      "text/plain": [
       "<Figure size 576x396 with 2 Axes>"
      ]
     },
     "metadata": {},
     "output_type": "display_data"
    }
   ],
   "source": [
    "df_[\"rg_refit_prod\"] = get_risk_groups_refitted(df_[\"score_prod_data_prod_model\"])\n",
    "df_[\"rg_refit_dev\"] = get_risk_groups_refitted(df_[\"score_dev_data_dev_model\"])\n",
    "\n",
    "\n",
    "table = df_[[\"rg_refit_prod\", \"rg_refit_dev\"]].value_counts(normalize=True).sort_index().reset_index()\n",
    "table.columns = [\"rg_refit_prod\", \"rg_refit_dev\", 'counts']\n",
    "table = pd.pivot_table(table, values='counts', index=\"rg_refit_prod\", \n",
    "                       columns=\"rg_refit_dev\", fill_value=0) * 100\n",
    "\n",
    "hm = sns.heatmap(table, cmap='coolwarm', annot=True, fmt='.4f')\n",
    "for t in hm.texts: t.set_text(t.get_text() + \" %\")\n",
    "\n",
    "plt.title(f'Risk Group Shift - dev vs prod')"
   ]
  },
  {
   "cell_type": "code",
   "execution_count": null,
   "id": "a22d86b1",
   "metadata": {},
   "outputs": [],
   "source": []
  },
  {
   "cell_type": "markdown",
   "id": "e1988848",
   "metadata": {},
   "source": []
  },
  {
   "cell_type": "code",
   "execution_count": 51,
   "id": "03b0a485",
   "metadata": {},
   "outputs": [
    {
     "data": {
      "text/html": [
       "<div>\n",
       "<style scoped>\n",
       "    .dataframe tbody tr th:only-of-type {\n",
       "        vertical-align: middle;\n",
       "    }\n",
       "\n",
       "    .dataframe tbody tr th {\n",
       "        vertical-align: top;\n",
       "    }\n",
       "\n",
       "    .dataframe thead th {\n",
       "        text-align: right;\n",
       "    }\n",
       "</style>\n",
       "<table border=\"1\" class=\"dataframe\">\n",
       "  <thead>\n",
       "    <tr style=\"text-align: right;\">\n",
       "      <th></th>\n",
       "      <th>dev</th>\n",
       "      <th>prod</th>\n",
       "    </tr>\n",
       "  </thead>\n",
       "  <tbody>\n",
       "    <tr>\n",
       "      <th>user_id</th>\n",
       "      <td>12447.000000</td>\n",
       "      <td>12447.000000</td>\n",
       "    </tr>\n",
       "    <tr>\n",
       "      <th>first_deposit_amount</th>\n",
       "      <td>10.000000</td>\n",
       "      <td>500.000000</td>\n",
       "    </tr>\n",
       "    <tr>\n",
       "      <th>vantage_score</th>\n",
       "      <td>NaN</td>\n",
       "      <td>NaN</td>\n",
       "    </tr>\n",
       "    <tr>\n",
       "      <th>bcc7120</th>\n",
       "      <td>NaN</td>\n",
       "      <td>NaN</td>\n",
       "    </tr>\n",
       "    <tr>\n",
       "      <th>email_risk_score</th>\n",
       "      <td>0.066000</td>\n",
       "      <td>0.066000</td>\n",
       "    </tr>\n",
       "    <tr>\n",
       "      <th>fraud_score_2</th>\n",
       "      <td>0.643000</td>\n",
       "      <td>0.643000</td>\n",
       "    </tr>\n",
       "    <tr>\n",
       "      <th>name_email_correlation</th>\n",
       "      <td>0.995900</td>\n",
       "      <td>0.995900</td>\n",
       "    </tr>\n",
       "    <tr>\n",
       "      <th>transaction_as_pct_of_balance</th>\n",
       "      <td>-0.000025</td>\n",
       "      <td>-1.000000</td>\n",
       "    </tr>\n",
       "    <tr>\n",
       "      <th>mean_account_balance_30d</th>\n",
       "      <td>2417.030000</td>\n",
       "      <td>0.000000</td>\n",
       "    </tr>\n",
       "    <tr>\n",
       "      <th>phone_risk_score</th>\n",
       "      <td>0.728000</td>\n",
       "      <td>0.728000</td>\n",
       "    </tr>\n",
       "    <tr>\n",
       "      <th>name_address_correlation</th>\n",
       "      <td>0.909600</td>\n",
       "      <td>0.909600</td>\n",
       "    </tr>\n",
       "    <tr>\n",
       "      <th>all8220</th>\n",
       "      <td>NaN</td>\n",
       "      <td>NaN</td>\n",
       "    </tr>\n",
       "    <tr>\n",
       "      <th>lag_acc_open_first_transaction</th>\n",
       "      <td>3.000000</td>\n",
       "      <td>19.000000</td>\n",
       "    </tr>\n",
       "    <tr>\n",
       "      <th>dollar_val_dd</th>\n",
       "      <td>0.000000</td>\n",
       "      <td>0.000000</td>\n",
       "    </tr>\n",
       "    <tr>\n",
       "      <th>all7120</th>\n",
       "      <td>NaN</td>\n",
       "      <td>NaN</td>\n",
       "    </tr>\n",
       "    <tr>\n",
       "      <th>sum_deposits_10d</th>\n",
       "      <td>0.000000</td>\n",
       "      <td>0.000000</td>\n",
       "    </tr>\n",
       "    <tr>\n",
       "      <th>nr_past_transactions</th>\n",
       "      <td>213.000000</td>\n",
       "      <td>339.000000</td>\n",
       "    </tr>\n",
       "    <tr>\n",
       "      <th>total_tradelines_open</th>\n",
       "      <td>NaN</td>\n",
       "      <td>NaN</td>\n",
       "    </tr>\n",
       "    <tr>\n",
       "      <th>education_loan_amount</th>\n",
       "      <td>NaN</td>\n",
       "      <td>NaN</td>\n",
       "    </tr>\n",
       "    <tr>\n",
       "      <th>address_risk_score</th>\n",
       "      <td>0.645000</td>\n",
       "      <td>0.645000</td>\n",
       "    </tr>\n",
       "    <tr>\n",
       "      <th>iqt9415</th>\n",
       "      <td>NaN</td>\n",
       "      <td>NaN</td>\n",
       "    </tr>\n",
       "    <tr>\n",
       "      <th>max_withdrawals_30d</th>\n",
       "      <td>0.000000</td>\n",
       "      <td>0.000000</td>\n",
       "    </tr>\n",
       "    <tr>\n",
       "      <th>iln5520</th>\n",
       "      <td>NaN</td>\n",
       "      <td>NaN</td>\n",
       "    </tr>\n",
       "    <tr>\n",
       "      <th>max_deposits_30d</th>\n",
       "      <td>0.000000</td>\n",
       "      <td>0.000000</td>\n",
       "    </tr>\n",
       "    <tr>\n",
       "      <th>pct_returned_deposits</th>\n",
       "      <td>0.000000</td>\n",
       "      <td>0.000000</td>\n",
       "    </tr>\n",
       "    <tr>\n",
       "      <th>giact_nr_decline</th>\n",
       "      <td>-1.000000</td>\n",
       "      <td>0.000000</td>\n",
       "    </tr>\n",
       "    <tr>\n",
       "      <th>nr_direct_deposits</th>\n",
       "      <td>0.000000</td>\n",
       "      <td>0.000000</td>\n",
       "    </tr>\n",
       "    <tr>\n",
       "      <th>time_since_last_transaction</th>\n",
       "      <td>22.000000</td>\n",
       "      <td>8.000000</td>\n",
       "    </tr>\n",
       "    <tr>\n",
       "      <th>bal_ratio</th>\n",
       "      <td>1.000000</td>\n",
       "      <td>0.000000</td>\n",
       "    </tr>\n",
       "    <tr>\n",
       "      <th>name_phone_correlation</th>\n",
       "      <td>0.998400</td>\n",
       "      <td>0.998400</td>\n",
       "    </tr>\n",
       "    <tr>\n",
       "      <th>giact_nr_other</th>\n",
       "      <td>-1.000000</td>\n",
       "      <td>0.000000</td>\n",
       "    </tr>\n",
       "    <tr>\n",
       "      <th>dollar_val_returns</th>\n",
       "      <td>0.000000</td>\n",
       "      <td>0.000000</td>\n",
       "    </tr>\n",
       "    <tr>\n",
       "      <th>nr_trans_ratio</th>\n",
       "      <td>-1.000000</td>\n",
       "      <td>-1.000000</td>\n",
       "    </tr>\n",
       "    <tr>\n",
       "      <th>iqt9413</th>\n",
       "      <td>NaN</td>\n",
       "      <td>NaN</td>\n",
       "    </tr>\n",
       "    <tr>\n",
       "      <th>dollar_val_returns_3d</th>\n",
       "      <td>0.000000</td>\n",
       "      <td>0.000000</td>\n",
       "    </tr>\n",
       "    <tr>\n",
       "      <th>nr_returns_30d</th>\n",
       "      <td>0.000000</td>\n",
       "      <td>0.000000</td>\n",
       "    </tr>\n",
       "    <tr>\n",
       "      <th>credit_card_loan_amount</th>\n",
       "      <td>NaN</td>\n",
       "      <td>NaN</td>\n",
       "    </tr>\n",
       "    <tr>\n",
       "      <th>fraud_score_1</th>\n",
       "      <td>0.447100</td>\n",
       "      <td>0.447100</td>\n",
       "    </tr>\n",
       "    <tr>\n",
       "      <th>age_money_account</th>\n",
       "      <td>1116.000000</td>\n",
       "      <td>1116.000000</td>\n",
       "    </tr>\n",
       "    <tr>\n",
       "      <th>transaction_code_encoded</th>\n",
       "      <td>5.000000</td>\n",
       "      <td>5.000000</td>\n",
       "    </tr>\n",
       "    <tr>\n",
       "      <th>all7120_default_encoded</th>\n",
       "      <td>-1.000000</td>\n",
       "      <td>-1.000000</td>\n",
       "    </tr>\n",
       "    <tr>\n",
       "      <th>bcc7120_default_encoded</th>\n",
       "      <td>-1.000000</td>\n",
       "      <td>-1.000000</td>\n",
       "    </tr>\n",
       "    <tr>\n",
       "      <th>refit_score</th>\n",
       "      <td>490.553514</td>\n",
       "      <td>593.098223</td>\n",
       "    </tr>\n",
       "    <tr>\n",
       "      <th>incumbent_score</th>\n",
       "      <td>469.770156</td>\n",
       "      <td>602.241705</td>\n",
       "    </tr>\n",
       "  </tbody>\n",
       "</table>\n",
       "</div>"
      ],
      "text/plain": [
       "                                         dev          prod\n",
       "user_id                         12447.000000  12447.000000\n",
       "first_deposit_amount               10.000000    500.000000\n",
       "vantage_score                            NaN           NaN\n",
       "bcc7120                                  NaN           NaN\n",
       "email_risk_score                    0.066000      0.066000\n",
       "fraud_score_2                       0.643000      0.643000\n",
       "name_email_correlation              0.995900      0.995900\n",
       "transaction_as_pct_of_balance      -0.000025     -1.000000\n",
       "mean_account_balance_30d         2417.030000      0.000000\n",
       "phone_risk_score                    0.728000      0.728000\n",
       "name_address_correlation            0.909600      0.909600\n",
       "all8220                                  NaN           NaN\n",
       "lag_acc_open_first_transaction      3.000000     19.000000\n",
       "dollar_val_dd                       0.000000      0.000000\n",
       "all7120                                  NaN           NaN\n",
       "sum_deposits_10d                    0.000000      0.000000\n",
       "nr_past_transactions              213.000000    339.000000\n",
       "total_tradelines_open                    NaN           NaN\n",
       "education_loan_amount                    NaN           NaN\n",
       "address_risk_score                  0.645000      0.645000\n",
       "iqt9415                                  NaN           NaN\n",
       "max_withdrawals_30d                 0.000000      0.000000\n",
       "iln5520                                  NaN           NaN\n",
       "max_deposits_30d                    0.000000      0.000000\n",
       "pct_returned_deposits               0.000000      0.000000\n",
       "giact_nr_decline                   -1.000000      0.000000\n",
       "nr_direct_deposits                  0.000000      0.000000\n",
       "time_since_last_transaction        22.000000      8.000000\n",
       "bal_ratio                           1.000000      0.000000\n",
       "name_phone_correlation              0.998400      0.998400\n",
       "giact_nr_other                     -1.000000      0.000000\n",
       "dollar_val_returns                  0.000000      0.000000\n",
       "nr_trans_ratio                     -1.000000     -1.000000\n",
       "iqt9413                                  NaN           NaN\n",
       "dollar_val_returns_3d               0.000000      0.000000\n",
       "nr_returns_30d                      0.000000      0.000000\n",
       "credit_card_loan_amount                  NaN           NaN\n",
       "fraud_score_1                       0.447100      0.447100\n",
       "age_money_account                1116.000000   1116.000000\n",
       "transaction_code_encoded            5.000000      5.000000\n",
       "all7120_default_encoded            -1.000000     -1.000000\n",
       "bcc7120_default_encoded            -1.000000     -1.000000\n",
       "refit_score                       490.553514    593.098223\n",
       "incumbent_score                   469.770156    602.241705"
      ]
     },
     "execution_count": 51,
     "metadata": {},
     "output_type": "execute_result"
    }
   ],
   "source": [
    "fts = [\"first_deposit_amount\",\n",
    "       \"transaction_as_pct_of_balance\",\n",
    "       \"lag_acc_open_first_transaction\",\n",
    "       \"nr_past_transactions\",\n",
    "       \"time_since_last_transaction\", \n",
    "       \"credit_card_loan_amount\"]\n",
    "\n",
    "i = 0\n",
    "dev_row = df_tmp_wf[[\"user_id\"] + col_dev + [\"incumbent_model_score_dev_exp\"]].iloc[i].rename(\"dev\")\n",
    "prod_row = df_tmp_wf[[\"user_id\"] + col_prod + [\"incumbent_model_score_dev_act\"]].iloc[i].rename(\"prod\")\n",
    "dev_row.index = [\"user_id\"] + features + [\"refit_score\", \"incumbent_score\"]\n",
    "prod_row.index = [\"user_id\"] + features + [\"refit_score\", \"incumbent_score\"]\n",
    "df_i = pd.concat([dev_row, prod_row],\n",
    "                  axis=1)\n",
    "df_i.to_csv(\"artifacts/uid_12447.csv\")\n",
    "df_i[df_i.index.isin(fts)].to_csv(\"artifacts/uid_12447_focused_features.csv\")\n",
    "\n",
    "df_i"
   ]
  },
  {
   "cell_type": "code",
   "execution_count": 53,
   "id": "ddf4ea15",
   "metadata": {},
   "outputs": [],
   "source": [
    "# features misaligned\n",
    "fts = [\"first_deposit_amount\",\n",
    "       \"transaction_as_pct_of_balance\",\n",
    "       \"lag_acc_open_first_transaction\",\n",
    "       \"nr_past_transactions\",\n",
    "       \"time_since_last_transaction\", \n",
    "       \"credit_card_loan_amount\",\n",
    "       \"mean_account_balance_30d\"]"
   ]
  },
  {
   "cell_type": "code",
   "execution_count": 54,
   "id": "0d862474",
   "metadata": {},
   "outputs": [
    {
     "data": {
      "text/html": [
       "<div>\n",
       "<style scoped>\n",
       "    .dataframe tbody tr th:only-of-type {\n",
       "        vertical-align: middle;\n",
       "    }\n",
       "\n",
       "    .dataframe tbody tr th {\n",
       "        vertical-align: top;\n",
       "    }\n",
       "\n",
       "    .dataframe thead th {\n",
       "        text-align: right;\n",
       "    }\n",
       "</style>\n",
       "<table border=\"1\" class=\"dataframe\">\n",
       "  <thead>\n",
       "    <tr style=\"text-align: right;\">\n",
       "      <th></th>\n",
       "      <th>dev</th>\n",
       "      <th>prod</th>\n",
       "    </tr>\n",
       "  </thead>\n",
       "  <tbody>\n",
       "    <tr>\n",
       "      <th>first_deposit_amount</th>\n",
       "      <td>5000.000000</td>\n",
       "      <td>-1.0</td>\n",
       "    </tr>\n",
       "    <tr>\n",
       "      <th>transaction_as_pct_of_balance</th>\n",
       "      <td>0.006779</td>\n",
       "      <td>0.0</td>\n",
       "    </tr>\n",
       "    <tr>\n",
       "      <th>lag_acc_open_first_transaction</th>\n",
       "      <td>9.000000</td>\n",
       "      <td>-1.0</td>\n",
       "    </tr>\n",
       "    <tr>\n",
       "      <th>nr_past_transactions</th>\n",
       "      <td>20.000000</td>\n",
       "      <td>-1.0</td>\n",
       "    </tr>\n",
       "    <tr>\n",
       "      <th>time_since_last_transaction</th>\n",
       "      <td>5.000000</td>\n",
       "      <td>-1.0</td>\n",
       "    </tr>\n",
       "    <tr>\n",
       "      <th>credit_card_loan_amount</th>\n",
       "      <td>22970.000000</td>\n",
       "      <td>21174.0</td>\n",
       "    </tr>\n",
       "    <tr>\n",
       "      <th>mean_account_balance_30d</th>\n",
       "      <td>19305.810000</td>\n",
       "      <td>0.0</td>\n",
       "    </tr>\n",
       "  </tbody>\n",
       "</table>\n",
       "</div>"
      ],
      "text/plain": [
       "                                         dev     prod\n",
       "first_deposit_amount             5000.000000     -1.0\n",
       "transaction_as_pct_of_balance       0.006779      0.0\n",
       "lag_acc_open_first_transaction      9.000000     -1.0\n",
       "nr_past_transactions               20.000000     -1.0\n",
       "time_since_last_transaction         5.000000     -1.0\n",
       "credit_card_loan_amount         22970.000000  21174.0\n",
       "mean_account_balance_30d        19305.810000      0.0"
      ]
     },
     "execution_count": 54,
     "metadata": {},
     "output_type": "execute_result"
    }
   ],
   "source": [
    "df_i.loc[fts]"
   ]
  },
  {
   "cell_type": "code",
   "execution_count": 55,
   "id": "cbcb047e",
   "metadata": {},
   "outputs": [
    {
     "data": {
      "text/html": [
       "<div>\n",
       "<style scoped>\n",
       "    .dataframe tbody tr th:only-of-type {\n",
       "        vertical-align: middle;\n",
       "    }\n",
       "\n",
       "    .dataframe tbody tr th {\n",
       "        vertical-align: top;\n",
       "    }\n",
       "\n",
       "    .dataframe thead th {\n",
       "        text-align: right;\n",
       "    }\n",
       "</style>\n",
       "<table border=\"1\" class=\"dataframe\">\n",
       "  <thead>\n",
       "    <tr style=\"text-align: right;\">\n",
       "      <th></th>\n",
       "      <th>feature</th>\n",
       "      <th>psi</th>\n",
       "    </tr>\n",
       "  </thead>\n",
       "  <tbody>\n",
       "    <tr>\n",
       "      <th>15</th>\n",
       "      <td>nr_past_transactions</td>\n",
       "      <td>0.559</td>\n",
       "    </tr>\n",
       "    <tr>\n",
       "      <th>6</th>\n",
       "      <td>transaction_as_pct_of_balance</td>\n",
       "      <td>0.111</td>\n",
       "    </tr>\n",
       "    <tr>\n",
       "      <th>26</th>\n",
       "      <td>time_since_last_transaction</td>\n",
       "      <td>0.028</td>\n",
       "    </tr>\n",
       "    <tr>\n",
       "      <th>35</th>\n",
       "      <td>credit_card_loan_amount</td>\n",
       "      <td>0.004</td>\n",
       "    </tr>\n",
       "    <tr>\n",
       "      <th>0</th>\n",
       "      <td>first_deposit_amount</td>\n",
       "      <td>0.001</td>\n",
       "    </tr>\n",
       "    <tr>\n",
       "      <th>7</th>\n",
       "      <td>mean_account_balance_30d</td>\n",
       "      <td>0.000</td>\n",
       "    </tr>\n",
       "    <tr>\n",
       "      <th>11</th>\n",
       "      <td>lag_acc_open_first_transaction</td>\n",
       "      <td>0.000</td>\n",
       "    </tr>\n",
       "  </tbody>\n",
       "</table>\n",
       "</div>"
      ],
      "text/plain": [
       "                           feature    psi\n",
       "15            nr_past_transactions  0.559\n",
       "6    transaction_as_pct_of_balance  0.111\n",
       "26     time_since_last_transaction  0.028\n",
       "35         credit_card_loan_amount  0.004\n",
       "0             first_deposit_amount  0.001\n",
       "7         mean_account_balance_30d  0.000\n",
       "11  lag_acc_open_first_transaction  0.000"
      ]
     },
     "execution_count": 55,
     "metadata": {},
     "output_type": "execute_result"
    }
   ],
   "source": [
    "psi_tbl_all[psi_tbl_all.feature.isin(fts)]"
   ]
  },
  {
   "cell_type": "markdown",
   "id": "372d19d5",
   "metadata": {},
   "source": [
    "#### Find out the impact of features not aligned\n",
    "---\n",
    "\n",
    "* User id: 12447\n",
    "    * Mean account balance  (rank 4)\n",
    "    * First deposit amount  - filtering or ordering  (rank 1)\n",
    "    * transaction_as_pct_of_balance  (rank 6)\n",
    "    * lag_acc_open_first_transaction  (rank 14)\n",
    "    * nr_past_transactions  (rank 16)\n",
    "    * time_since_last_transaction  (rank -6)\n",
    "    * credit_card_loan_amount  (rank 7)\n",
    "\n",
    "\n",
    "* data monitoring\n",
    "    * source \n",
    "    * \n",
    "\n",
    "\n",
    "* dev: ACHDD - ACHDDIN\n",
    "* according to Arpit, the user has remained dormant since 2020 dec.\n",
    "    * `transaction_as_pct_of_balance` in dev does not make sense\n",
    "    * the transaction history does not really make sense"
   ]
  },
  {
   "cell_type": "code",
   "execution_count": 100,
   "id": "2a402f96",
   "metadata": {},
   "outputs": [],
   "source": [
    "trnx = pd.read_feather(\"../../data/raw/raw_1632854535/transactions_1632854535.feather\")"
   ]
  },
  {
   "cell_type": "code",
   "execution_count": 106,
   "id": "a68ae799",
   "metadata": {},
   "outputs": [
    {
     "data": {
      "text/plain": [
       "(257, 15)"
      ]
     },
     "execution_count": 106,
     "metadata": {},
     "output_type": "execute_result"
    }
   ],
   "source": [
    "udf = trnx[trnx.user_id==12447]\n",
    "udf.shape"
   ]
  },
  {
   "cell_type": "code",
   "execution_count": 108,
   "id": "e1bd1bec",
   "metadata": {},
   "outputs": [
    {
     "data": {
      "text/html": [
       "<div>\n",
       "<style scoped>\n",
       "    .dataframe tbody tr th:only-of-type {\n",
       "        vertical-align: middle;\n",
       "    }\n",
       "\n",
       "    .dataframe tbody tr th {\n",
       "        vertical-align: top;\n",
       "    }\n",
       "\n",
       "    .dataframe thead th {\n",
       "        text-align: right;\n",
       "    }\n",
       "</style>\n",
       "<table border=\"1\" class=\"dataframe\">\n",
       "  <thead>\n",
       "    <tr style=\"text-align: right;\">\n",
       "      <th></th>\n",
       "      <th>tjd</th>\n",
       "      <th>time</th>\n",
       "      <th>business_account_number</th>\n",
       "      <th>created_dt</th>\n",
       "      <th>endbal</th>\n",
       "      <th>transaction_code</th>\n",
       "      <th>transaction_amount</th>\n",
       "      <th>is_credit</th>\n",
       "      <th>user_id</th>\n",
       "      <th>external_account_number</th>\n",
       "      <th>external_institution_id</th>\n",
       "      <th>originating_company_id</th>\n",
       "      <th>external_institution_trans_id</th>\n",
       "      <th>originator_dfi_id</th>\n",
       "      <th>merchant_name</th>\n",
       "    </tr>\n",
       "  </thead>\n",
       "  <tbody>\n",
       "    <tr>\n",
       "      <th>25169449</th>\n",
       "      <td>2018-08-29</td>\n",
       "      <td>19:08:40</td>\n",
       "      <td>410000157616</td>\n",
       "      <td>2018-08-29</td>\n",
       "      <td>10.0</td>\n",
       "      <td>ACHDD</td>\n",
       "      <td>10</td>\n",
       "      <td>1</td>\n",
       "      <td>12447</td>\n",
       "      <td>7001663652</td>\n",
       "      <td>256074974</td>\n",
       "      <td></td>\n",
       "      <td></td>\n",
       "      <td></td>\n",
       "      <td>None</td>\n",
       "    </tr>\n",
       "    <tr>\n",
       "      <th>25170005</th>\n",
       "      <td>2018-08-31</td>\n",
       "      <td>00:03:42</td>\n",
       "      <td>410000157616</td>\n",
       "      <td>2018-09-01</td>\n",
       "      <td>10.0</td>\n",
       "      <td>IIPD</td>\n",
       "      <td>0</td>\n",
       "      <td>1</td>\n",
       "      <td>12447</td>\n",
       "      <td></td>\n",
       "      <td></td>\n",
       "      <td></td>\n",
       "      <td></td>\n",
       "      <td></td>\n",
       "      <td>None</td>\n",
       "    </tr>\n",
       "    <tr>\n",
       "      <th>25172453</th>\n",
       "      <td>2018-09-14</td>\n",
       "      <td>05:47:31</td>\n",
       "      <td>410000157616</td>\n",
       "      <td>2018-09-14</td>\n",
       "      <td>510.0</td>\n",
       "      <td>ACHDDIN</td>\n",
       "      <td>500</td>\n",
       "      <td>1</td>\n",
       "      <td>12447</td>\n",
       "      <td></td>\n",
       "      <td></td>\n",
       "      <td>11120908</td>\n",
       "      <td>190302</td>\n",
       "      <td>09140859</td>\n",
       "      <td>None</td>\n",
       "    </tr>\n",
       "    <tr>\n",
       "      <th>7639945</th>\n",
       "      <td>2018-09-16</td>\n",
       "      <td>22:43:27</td>\n",
       "      <td>410000157616</td>\n",
       "      <td>2018-09-16</td>\n",
       "      <td>288.5</td>\n",
       "      <td>POSDW</td>\n",
       "      <td>21.50</td>\n",
       "      <td>0</td>\n",
       "      <td>12447</td>\n",
       "      <td></td>\n",
       "      <td></td>\n",
       "      <td></td>\n",
       "      <td></td>\n",
       "      <td></td>\n",
       "      <td>GOAT HILL TAVERN</td>\n",
       "    </tr>\n",
       "    <tr>\n",
       "      <th>13583901</th>\n",
       "      <td>2018-09-16</td>\n",
       "      <td>14:53:06</td>\n",
       "      <td>410000157616</td>\n",
       "      <td>2018-09-16</td>\n",
       "      <td>305.0</td>\n",
       "      <td>DWATM</td>\n",
       "      <td>205.00</td>\n",
       "      <td>0</td>\n",
       "      <td>12447</td>\n",
       "      <td></td>\n",
       "      <td></td>\n",
       "      <td></td>\n",
       "      <td></td>\n",
       "      <td></td>\n",
       "      <td>E39 - LB VET-313320</td>\n",
       "    </tr>\n",
       "  </tbody>\n",
       "</table>\n",
       "</div>"
      ],
      "text/plain": [
       "                 tjd      time  business_account_number  created_dt  endbal  \\\n",
       "25169449  2018-08-29  19:08:40             410000157616  2018-08-29    10.0   \n",
       "25170005  2018-08-31  00:03:42             410000157616  2018-09-01    10.0   \n",
       "25172453  2018-09-14  05:47:31             410000157616  2018-09-14   510.0   \n",
       "7639945   2018-09-16  22:43:27             410000157616  2018-09-16   288.5   \n",
       "13583901  2018-09-16  14:53:06             410000157616  2018-09-16   305.0   \n",
       "\n",
       "         transaction_code transaction_amount  is_credit  user_id  \\\n",
       "25169449            ACHDD                 10          1    12447   \n",
       "25170005             IIPD                  0          1    12447   \n",
       "25172453          ACHDDIN                500          1    12447   \n",
       "7639945             POSDW              21.50          0    12447   \n",
       "13583901            DWATM             205.00          0    12447   \n",
       "\n",
       "         external_account_number external_institution_id  \\\n",
       "25169449              7001663652               256074974   \n",
       "25170005                                                   \n",
       "25172453                                                   \n",
       "7639945                                                    \n",
       "13583901                                                   \n",
       "\n",
       "         originating_company_id external_institution_trans_id  \\\n",
       "25169449                                                        \n",
       "25170005                                                        \n",
       "25172453               11120908                        190302   \n",
       "7639945                                                         \n",
       "13583901                                                        \n",
       "\n",
       "         originator_dfi_id        merchant_name  \n",
       "25169449                                   None  \n",
       "25170005                                   None  \n",
       "25172453          09140859                 None  \n",
       "7639945                        GOAT HILL TAVERN  \n",
       "13583901                    E39 - LB VET-313320  "
      ]
     },
     "execution_count": 108,
     "metadata": {},
     "output_type": "execute_result"
    }
   ],
   "source": [
    "udf.sort_values(\"created_dt\").head()"
   ]
  },
  {
   "cell_type": "markdown",
   "id": "b36e8cb9",
   "metadata": {},
   "source": [
    "It apperas the prod env's first transaction is row 3, instead of row 1"
   ]
  },
  {
   "cell_type": "code",
   "execution_count": 109,
   "id": "f7f39aee",
   "metadata": {},
   "outputs": [
    {
     "data": {
      "text/html": [
       "<div>\n",
       "<style scoped>\n",
       "    .dataframe tbody tr th:only-of-type {\n",
       "        vertical-align: middle;\n",
       "    }\n",
       "\n",
       "    .dataframe tbody tr th {\n",
       "        vertical-align: top;\n",
       "    }\n",
       "\n",
       "    .dataframe thead th {\n",
       "        text-align: right;\n",
       "    }\n",
       "</style>\n",
       "<table border=\"1\" class=\"dataframe\">\n",
       "  <thead>\n",
       "    <tr style=\"text-align: right;\">\n",
       "      <th></th>\n",
       "      <th>tjd</th>\n",
       "      <th>time</th>\n",
       "      <th>business_account_number</th>\n",
       "      <th>created_dt</th>\n",
       "      <th>endbal</th>\n",
       "      <th>transaction_code</th>\n",
       "      <th>transaction_amount</th>\n",
       "      <th>is_credit</th>\n",
       "      <th>user_id</th>\n",
       "      <th>external_account_number</th>\n",
       "      <th>external_institution_id</th>\n",
       "      <th>originating_company_id</th>\n",
       "      <th>external_institution_trans_id</th>\n",
       "      <th>originator_dfi_id</th>\n",
       "      <th>merchant_name</th>\n",
       "    </tr>\n",
       "  </thead>\n",
       "  <tbody>\n",
       "    <tr>\n",
       "      <th>28424885</th>\n",
       "      <td>2020-10-05</td>\n",
       "      <td>18:01:06</td>\n",
       "      <td>410000157616</td>\n",
       "      <td>2020-10-05</td>\n",
       "      <td>460.15</td>\n",
       "      <td>ACHDD</td>\n",
       "      <td>150</td>\n",
       "      <td>1</td>\n",
       "      <td>12447</td>\n",
       "      <td>7001663652</td>\n",
       "      <td>256074974</td>\n",
       "      <td></td>\n",
       "      <td></td>\n",
       "      <td></td>\n",
       "      <td>None</td>\n",
       "    </tr>\n",
       "    <tr>\n",
       "      <th>28496475</th>\n",
       "      <td>2020-10-13</td>\n",
       "      <td>18:01:06</td>\n",
       "      <td>410000157616</td>\n",
       "      <td>2020-10-13</td>\n",
       "      <td>500.15</td>\n",
       "      <td>ACHDD</td>\n",
       "      <td>40</td>\n",
       "      <td>1</td>\n",
       "      <td>12447</td>\n",
       "      <td>7001663652</td>\n",
       "      <td>256074974</td>\n",
       "      <td></td>\n",
       "      <td></td>\n",
       "      <td></td>\n",
       "      <td>None</td>\n",
       "    </tr>\n",
       "    <tr>\n",
       "      <th>38923900</th>\n",
       "      <td>2020-10-16</td>\n",
       "      <td>18:01:06</td>\n",
       "      <td>410000157616</td>\n",
       "      <td>2020-10-16</td>\n",
       "      <td>600.15</td>\n",
       "      <td>ACHDD</td>\n",
       "      <td>100</td>\n",
       "      <td>1</td>\n",
       "      <td>12447</td>\n",
       "      <td>7001663652</td>\n",
       "      <td>256074974</td>\n",
       "      <td></td>\n",
       "      <td></td>\n",
       "      <td></td>\n",
       "      <td>None</td>\n",
       "    </tr>\n",
       "    <tr>\n",
       "      <th>28904773</th>\n",
       "      <td>2020-11-16</td>\n",
       "      <td>18:01:12</td>\n",
       "      <td>410000157616</td>\n",
       "      <td>2020-11-16</td>\n",
       "      <td>0.00</td>\n",
       "      <td>ACHDW</td>\n",
       "      <td>600.26</td>\n",
       "      <td>0</td>\n",
       "      <td>12447</td>\n",
       "      <td>7001663652</td>\n",
       "      <td>256074974</td>\n",
       "      <td></td>\n",
       "      <td></td>\n",
       "      <td></td>\n",
       "      <td>None</td>\n",
       "    </tr>\n",
       "    <tr>\n",
       "      <th>39521244</th>\n",
       "      <td>2020-12-09</td>\n",
       "      <td>18:01:11</td>\n",
       "      <td>410000157616</td>\n",
       "      <td>2020-12-09</td>\n",
       "      <td>0.00</td>\n",
       "      <td>ACHDW</td>\n",
       "      <td>.06</td>\n",
       "      <td>0</td>\n",
       "      <td>12447</td>\n",
       "      <td>7001663652</td>\n",
       "      <td>256074974</td>\n",
       "      <td></td>\n",
       "      <td></td>\n",
       "      <td></td>\n",
       "      <td>None</td>\n",
       "    </tr>\n",
       "  </tbody>\n",
       "</table>\n",
       "</div>"
      ],
      "text/plain": [
       "                 tjd      time  business_account_number  created_dt  endbal  \\\n",
       "28424885  2020-10-05  18:01:06             410000157616  2020-10-05  460.15   \n",
       "28496475  2020-10-13  18:01:06             410000157616  2020-10-13  500.15   \n",
       "38923900  2020-10-16  18:01:06             410000157616  2020-10-16  600.15   \n",
       "28904773  2020-11-16  18:01:12             410000157616  2020-11-16    0.00   \n",
       "39521244  2020-12-09  18:01:11             410000157616  2020-12-09    0.00   \n",
       "\n",
       "         transaction_code transaction_amount  is_credit  user_id  \\\n",
       "28424885            ACHDD                150          1    12447   \n",
       "28496475            ACHDD                 40          1    12447   \n",
       "38923900            ACHDD                100          1    12447   \n",
       "28904773            ACHDW             600.26          0    12447   \n",
       "39521244            ACHDW                .06          0    12447   \n",
       "\n",
       "         external_account_number external_institution_id  \\\n",
       "28424885              7001663652               256074974   \n",
       "28496475              7001663652               256074974   \n",
       "38923900              7001663652               256074974   \n",
       "28904773              7001663652               256074974   \n",
       "39521244              7001663652               256074974   \n",
       "\n",
       "         originating_company_id external_institution_trans_id  \\\n",
       "28424885                                                        \n",
       "28496475                                                        \n",
       "38923900                                                        \n",
       "28904773                                                        \n",
       "39521244                                                        \n",
       "\n",
       "         originator_dfi_id merchant_name  \n",
       "28424885                            None  \n",
       "28496475                            None  \n",
       "38923900                            None  \n",
       "28904773                            None  \n",
       "39521244                            None  "
      ]
     },
     "execution_count": 109,
     "metadata": {},
     "output_type": "execute_result"
    }
   ],
   "source": [
    "udf.sort_values(\"created_dt\").tail()"
   ]
  },
  {
   "cell_type": "code",
   "execution_count": 110,
   "id": "10b611cf",
   "metadata": {},
   "outputs": [],
   "source": [
    "# features df\n",
    "fdf = pd.read_feather(\"../../data/labeled/labeled_1633038165.feather\")"
   ]
  },
  {
   "cell_type": "code",
   "execution_count": 111,
   "id": "273d02de",
   "metadata": {},
   "outputs": [
    {
     "data": {
      "text/plain": [
       "(8832730, 103)"
      ]
     },
     "execution_count": 111,
     "metadata": {},
     "output_type": "execute_result"
    }
   ],
   "source": [
    "fdf.shape"
   ]
  },
  {
   "cell_type": "code",
   "execution_count": 112,
   "id": "008ce756",
   "metadata": {},
   "outputs": [],
   "source": [
    "ufdf = fdf[fdf.user_id == 12447]"
   ]
  },
  {
   "cell_type": "code",
   "execution_count": null,
   "id": "26efad16",
   "metadata": {},
   "outputs": [],
   "source": []
  },
  {
   "cell_type": "code",
   "execution_count": null,
   "id": "d48d3034",
   "metadata": {},
   "outputs": [],
   "source": []
  }
 ],
 "metadata": {
  "kernelspec": {
   "display_name": "conda_customer_risk",
   "language": "python",
   "name": "conda_customer_risk"
  },
  "language_info": {
   "codemirror_mode": {
    "name": "ipython",
    "version": 3
   },
   "file_extension": ".py",
   "mimetype": "text/x-python",
   "name": "python",
   "nbconvert_exporter": "python",
   "pygments_lexer": "ipython3",
   "version": "3.7.12"
  }
 },
 "nbformat": 4,
 "nbformat_minor": 5
}
