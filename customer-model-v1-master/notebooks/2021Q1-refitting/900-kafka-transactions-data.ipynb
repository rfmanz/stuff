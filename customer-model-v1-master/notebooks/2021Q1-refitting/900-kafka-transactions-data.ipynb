{
 "cells": [
  {
   "cell_type": "markdown",
   "id": "211bed9d",
   "metadata": {},
   "source": [
    "### Potentially replace transactions dw to kaftka"
   ]
  },
  {
   "cell_type": "code",
   "execution_count": 2,
   "id": "ad285e65",
   "metadata": {},
   "outputs": [],
   "source": [
    "import mdsutils\n",
    "import pandas as pd\n",
    "\n",
    "athena = mdsutils.AthenaClient(database='datalake_production_kafka')"
   ]
  },
  {
   "cell_type": "code",
   "execution_count": 5,
   "id": "e230c935",
   "metadata": {},
   "outputs": [
    {
     "data": {
      "text/plain": [
       "(49831160, 12)"
      ]
     },
     "execution_count": 5,
     "metadata": {},
     "output_type": "execute_result"
    }
   ],
   "source": [
    "tdf = pd.read_feather(\"../../data-transactional/raw/raw_1632860830/transactions_1632860830.feather\")\n",
    "tdf.shape"
   ]
  },
  {
   "cell_type": "code",
   "execution_count": 6,
   "id": "f6bcdcad",
   "metadata": {},
   "outputs": [
    {
     "data": {
      "text/html": [
       "<div>\n",
       "<style scoped>\n",
       "    .dataframe tbody tr th:only-of-type {\n",
       "        vertical-align: middle;\n",
       "    }\n",
       "\n",
       "    .dataframe tbody tr th {\n",
       "        vertical-align: top;\n",
       "    }\n",
       "\n",
       "    .dataframe thead th {\n",
       "        text-align: right;\n",
       "    }\n",
       "</style>\n",
       "<table border=\"1\" class=\"dataframe\">\n",
       "  <thead>\n",
       "    <tr style=\"text-align: right;\">\n",
       "      <th></th>\n",
       "      <th>borrower_id</th>\n",
       "      <th>banking_account_id</th>\n",
       "      <th>banking_transaction_details_id</th>\n",
       "      <th>business_account_number</th>\n",
       "      <th>transaction_created_date_id</th>\n",
       "      <th>time_of_day</th>\n",
       "      <th>transaction_code</th>\n",
       "      <th>transaction_comment</th>\n",
       "      <th>transaction_amount</th>\n",
       "      <th>account_ending_balance</th>\n",
       "      <th>card_present_ind</th>\n",
       "      <th>external_account_number</th>\n",
       "    </tr>\n",
       "  </thead>\n",
       "  <tbody>\n",
       "    <tr>\n",
       "      <th>0</th>\n",
       "      <td>759048</td>\n",
       "      <td>117504781</td>\n",
       "      <td>16317791</td>\n",
       "      <td>410000282324</td>\n",
       "      <td>20200514</td>\n",
       "      <td>18:44:25</td>\n",
       "      <td>DDCK</td>\n",
       "      <td></td>\n",
       "      <td>25.00</td>\n",
       "      <td>26152.88</td>\n",
       "      <td>False</td>\n",
       "      <td></td>\n",
       "    </tr>\n",
       "    <tr>\n",
       "      <th>1</th>\n",
       "      <td>7905569</td>\n",
       "      <td>117604420</td>\n",
       "      <td>16247561</td>\n",
       "      <td>410001982150</td>\n",
       "      <td>20200513</td>\n",
       "      <td>00:49:54</td>\n",
       "      <td>POSDW</td>\n",
       "      <td>WALMART GROCERY BENTONVILLE, AR</td>\n",
       "      <td>-104.86</td>\n",
       "      <td>363.10</td>\n",
       "      <td>False</td>\n",
       "      <td></td>\n",
       "    </tr>\n",
       "    <tr>\n",
       "      <th>2</th>\n",
       "      <td>8421098</td>\n",
       "      <td>117636005</td>\n",
       "      <td>16243629</td>\n",
       "      <td>410002637853</td>\n",
       "      <td>20200513</td>\n",
       "      <td>11:22:43</td>\n",
       "      <td>POSDW</td>\n",
       "      <td>AMAZON.COM AMZN.COM/BI SEATTLE, WA</td>\n",
       "      <td>-11.59</td>\n",
       "      <td>4049.51</td>\n",
       "      <td>False</td>\n",
       "      <td></td>\n",
       "    </tr>\n",
       "    <tr>\n",
       "      <th>3</th>\n",
       "      <td>8872068</td>\n",
       "      <td>117699351</td>\n",
       "      <td>16238041</td>\n",
       "      <td>410003896324</td>\n",
       "      <td>20200514</td>\n",
       "      <td>12:30:53</td>\n",
       "      <td>POSDW</td>\n",
       "      <td>THE SMOKIN PIG ANDERSO ANDERSON, SC</td>\n",
       "      <td>-21.47</td>\n",
       "      <td>64.09</td>\n",
       "      <td>False</td>\n",
       "      <td></td>\n",
       "    </tr>\n",
       "    <tr>\n",
       "      <th>4</th>\n",
       "      <td>9051272</td>\n",
       "      <td>117702067</td>\n",
       "      <td>16235906</td>\n",
       "      <td>410003949128</td>\n",
       "      <td>20200514</td>\n",
       "      <td>18:13:37</td>\n",
       "      <td>POSDW</td>\n",
       "      <td>TACO BELL  032060 CORALVILLE, IA</td>\n",
       "      <td>-11.65</td>\n",
       "      <td>3961.46</td>\n",
       "      <td>False</td>\n",
       "      <td></td>\n",
       "    </tr>\n",
       "  </tbody>\n",
       "</table>\n",
       "</div>"
      ],
      "text/plain": [
       "   borrower_id  banking_account_id  banking_transaction_details_id  \\\n",
       "0       759048           117504781                        16317791   \n",
       "1      7905569           117604420                        16247561   \n",
       "2      8421098           117636005                        16243629   \n",
       "3      8872068           117699351                        16238041   \n",
       "4      9051272           117702067                        16235906   \n",
       "\n",
       "   business_account_number  transaction_created_date_id time_of_day  \\\n",
       "0             410000282324                     20200514    18:44:25   \n",
       "1             410001982150                     20200513    00:49:54   \n",
       "2             410002637853                     20200513    11:22:43   \n",
       "3             410003896324                     20200514    12:30:53   \n",
       "4             410003949128                     20200514    18:13:37   \n",
       "\n",
       "  transaction_code                  transaction_comment  transaction_amount  \\\n",
       "0             DDCK                                                    25.00   \n",
       "1            POSDW      WALMART GROCERY BENTONVILLE, AR             -104.86   \n",
       "2            POSDW   AMAZON.COM AMZN.COM/BI SEATTLE, WA              -11.59   \n",
       "3            POSDW  THE SMOKIN PIG ANDERSO ANDERSON, SC              -21.47   \n",
       "4            POSDW     TACO BELL  032060 CORALVILLE, IA              -11.65   \n",
       "\n",
       "   account_ending_balance  card_present_ind external_account_number  \n",
       "0                26152.88             False                          \n",
       "1                  363.10             False                          \n",
       "2                 4049.51             False                          \n",
       "3                   64.09             False                          \n",
       "4                 3961.46             False                          "
      ]
     },
     "execution_count": 6,
     "metadata": {},
     "output_type": "execute_result"
    }
   ],
   "source": [
    "tdf.head()"
   ]
  },
  {
   "cell_type": "code",
   "execution_count": 7,
   "id": "46a58394",
   "metadata": {},
   "outputs": [
    {
     "data": {
      "text/plain": [
       "Index(['borrower_id', 'banking_account_id', 'banking_transaction_details_id',\n",
       "       'business_account_number', 'transaction_created_date_id', 'time_of_day',\n",
       "       'transaction_code', 'transaction_comment', 'transaction_amount',\n",
       "       'account_ending_balance', 'card_present_ind',\n",
       "       'external_account_number'],\n",
       "      dtype='object')"
      ]
     },
     "execution_count": 7,
     "metadata": {},
     "output_type": "execute_result"
    }
   ],
   "source": [
    "tdf.columns"
   ]
  },
  {
   "cell_type": "code",
   "execution_count": null,
   "id": "85af1aa1",
   "metadata": {},
   "outputs": [],
   "source": [
    "query = \"\"\"\n",
    "select \"offset\",\n",
    "       \"value.accountbalance\",\n",
    "       \"value.accountnum\",\n",
    "       \"value.partyid\",\n",
    "       \"value.amount\",\n",
    "       \"value.sourcedata\",\n",
    "       \"value.transactioncode\"\n",
    "from datalake_production_kafka.com_sofi_banking_schemas_bankingtransactionoccurred_3\n",
    "where \"value.partyid\"=12447\n",
    "order by \"offset\"\n",
    "limit 10;\n",
    "\"\"\""
   ]
  },
  {
   "cell_type": "code",
   "execution_count": null,
   "id": "0d31b334",
   "metadata": {},
   "outputs": [],
   "source": []
  },
  {
   "cell_type": "code",
   "execution_count": null,
   "id": "d28eeae1",
   "metadata": {},
   "outputs": [],
   "source": []
  },
  {
   "cell_type": "code",
   "execution_count": null,
   "id": "7a69f9a8",
   "metadata": {},
   "outputs": [],
   "source": []
  },
  {
   "cell_type": "code",
   "execution_count": null,
   "id": "3aaea956",
   "metadata": {},
   "outputs": [],
   "source": []
  }
 ],
 "metadata": {
  "kernelspec": {
   "display_name": "conda_customer_risk",
   "language": "python",
   "name": "conda_customer_risk"
  },
  "language_info": {
   "codemirror_mode": {
    "name": "ipython",
    "version": 3
   },
   "file_extension": ".py",
   "mimetype": "text/x-python",
   "name": "python",
   "nbconvert_exporter": "python",
   "pygments_lexer": "ipython3",
   "version": "3.7.12"
  }
 },
 "nbformat": 4,
 "nbformat_minor": 5
}
