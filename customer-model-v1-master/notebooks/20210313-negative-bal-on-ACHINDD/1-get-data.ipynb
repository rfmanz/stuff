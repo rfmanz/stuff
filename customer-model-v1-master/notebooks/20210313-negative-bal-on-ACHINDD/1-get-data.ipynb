{
 "cells": [
  {
   "cell_type": "markdown",
   "id": "cutting-startup",
   "metadata": {},
   "source": [
    "## Sample Data\n",
    "---"
   ]
  },
  {
   "cell_type": "markdown",
   "id": "gentle-highlight",
   "metadata": {},
   "source": [
    "### Recreate Features"
   ]
  },
  {
   "cell_type": "code",
   "execution_count": 1,
   "id": "detected-violation",
   "metadata": {},
   "outputs": [],
   "source": [
    "%load_ext autoreload\n",
    "%autoreload 2\n",
    "\n",
    "import sys, os, json\n",
    "sys.path.append('../..')\n",
    "import warnings\n",
    "warnings.filterwarnings(action='ignore')\n",
    "import pandas as pd\n",
    "import numpy as np\n",
    "import pickle\n",
    "import seaborn as sns\n",
    "import matplotlib.pyplot as plt\n",
    "import lightgbm as lgb\n",
    "from tqdm import tqdm\n",
    "import copy\n",
    "\n",
    "plt.style.use(\"seaborn\")\n",
    "\n",
    "from src.utils import scale_scores\n",
    "from rdsutils.lightgbm_helpers import train_lgb_baseline_grouped\n",
    "from rdsutils.post_implementation_testing import plot_score_dist, get_psi, get_overlap_and_diff\n",
    "from rdsutils.post_implementation_testing import plot_difference, get_combined_dfs, get_feature_comparison_report"
   ]
  },
  {
   "cell_type": "code",
   "execution_count": 2,
   "id": "revolutionary-worthy",
   "metadata": {},
   "outputs": [
    {
     "data": {
      "text/plain": [
       "(24908182, 133)"
      ]
     },
     "execution_count": 2,
     "metadata": {},
     "output_type": "execute_result"
    }
   ],
   "source": [
    "ldf = pd.read_feather(\"../../data-transactional/labeled/labeled_1615693315.feather\")\n",
    "ldf.shape"
   ]
  },
  {
   "cell_type": "code",
   "execution_count": 3,
   "id": "dressed-sphere",
   "metadata": {},
   "outputs": [
    {
     "data": {
      "text/html": [
       "<div>\n",
       "<style scoped>\n",
       "    .dataframe tbody tr th:only-of-type {\n",
       "        vertical-align: middle;\n",
       "    }\n",
       "\n",
       "    .dataframe tbody tr th {\n",
       "        vertical-align: top;\n",
       "    }\n",
       "\n",
       "    .dataframe thead th {\n",
       "        text-align: right;\n",
       "    }\n",
       "</style>\n",
       "<table border=\"1\" class=\"dataframe\">\n",
       "  <thead>\n",
       "    <tr style=\"text-align: right;\">\n",
       "      <th></th>\n",
       "      <th>index</th>\n",
       "      <th>transaction_datetime</th>\n",
       "      <th>borrower_id</th>\n",
       "      <th>business_account_number</th>\n",
       "      <th>transaction_code</th>\n",
       "      <th>transaction_comment</th>\n",
       "      <th>is_return</th>\n",
       "      <th>transaction_amount</th>\n",
       "      <th>account_ending_balance</th>\n",
       "      <th>card_present_ind</th>\n",
       "      <th>...</th>\n",
       "      <th>days_to_acc_close</th>\n",
       "      <th>account_closed_by_risk_in_next_90d</th>\n",
       "      <th>last_unrestricted_date_in_next_90d</th>\n",
       "      <th>latest_acc_bal</th>\n",
       "      <th>is_chg_wrt_off_in_90d</th>\n",
       "      <th>nr_returns_in_next_90d</th>\n",
       "      <th>bal_after_90d</th>\n",
       "      <th>target</th>\n",
       "      <th>target_with_restriction</th>\n",
       "      <th>indeterminate</th>\n",
       "    </tr>\n",
       "  </thead>\n",
       "  <tbody>\n",
       "    <tr>\n",
       "      <th>0</th>\n",
       "      <td>0</td>\n",
       "      <td>2017-12-13 16:26:35</td>\n",
       "      <td>37722</td>\n",
       "      <td>410000007044</td>\n",
       "      <td>ACHDD</td>\n",
       "      <td>CO</td>\n",
       "      <td>False</td>\n",
       "      <td>500.00</td>\n",
       "      <td>500.00</td>\n",
       "      <td>False</td>\n",
       "      <td>...</td>\n",
       "      <td>NaN</td>\n",
       "      <td>False</td>\n",
       "      <td>False</td>\n",
       "      <td>61317.3</td>\n",
       "      <td>False</td>\n",
       "      <td>1.0</td>\n",
       "      <td>2170.67</td>\n",
       "      <td>False</td>\n",
       "      <td>False</td>\n",
       "      <td>False</td>\n",
       "    </tr>\n",
       "    <tr>\n",
       "      <th>1</th>\n",
       "      <td>1</td>\n",
       "      <td>2017-12-19 23:55:21</td>\n",
       "      <td>37722</td>\n",
       "      <td>410000007044</td>\n",
       "      <td>ACHDDIN</td>\n",
       "      <td>PAYPAL VERIFYBANK</td>\n",
       "      <td>False</td>\n",
       "      <td>0.10</td>\n",
       "      <td>500.14</td>\n",
       "      <td>False</td>\n",
       "      <td>...</td>\n",
       "      <td>NaN</td>\n",
       "      <td>False</td>\n",
       "      <td>False</td>\n",
       "      <td>61317.3</td>\n",
       "      <td>False</td>\n",
       "      <td>1.0</td>\n",
       "      <td>2363.09</td>\n",
       "      <td>False</td>\n",
       "      <td>False</td>\n",
       "      <td>False</td>\n",
       "    </tr>\n",
       "    <tr>\n",
       "      <th>2</th>\n",
       "      <td>2</td>\n",
       "      <td>2017-12-19 23:55:21</td>\n",
       "      <td>37722</td>\n",
       "      <td>410000007044</td>\n",
       "      <td>ACHDWIN</td>\n",
       "      <td>PAYPAL VERIFYBANK</td>\n",
       "      <td>False</td>\n",
       "      <td>-0.12</td>\n",
       "      <td>500.00</td>\n",
       "      <td>False</td>\n",
       "      <td>...</td>\n",
       "      <td>NaN</td>\n",
       "      <td>False</td>\n",
       "      <td>False</td>\n",
       "      <td>61317.3</td>\n",
       "      <td>False</td>\n",
       "      <td>1.0</td>\n",
       "      <td>2363.09</td>\n",
       "      <td>False</td>\n",
       "      <td>False</td>\n",
       "      <td>False</td>\n",
       "    </tr>\n",
       "    <tr>\n",
       "      <th>3</th>\n",
       "      <td>3</td>\n",
       "      <td>2017-12-19 23:55:21</td>\n",
       "      <td>37722</td>\n",
       "      <td>410000007044</td>\n",
       "      <td>ACHDDIN</td>\n",
       "      <td>PAYPAL VERIFYBANK</td>\n",
       "      <td>False</td>\n",
       "      <td>0.10</td>\n",
       "      <td>500.24</td>\n",
       "      <td>False</td>\n",
       "      <td>...</td>\n",
       "      <td>NaN</td>\n",
       "      <td>False</td>\n",
       "      <td>False</td>\n",
       "      <td>61317.3</td>\n",
       "      <td>False</td>\n",
       "      <td>1.0</td>\n",
       "      <td>2363.09</td>\n",
       "      <td>False</td>\n",
       "      <td>False</td>\n",
       "      <td>False</td>\n",
       "    </tr>\n",
       "    <tr>\n",
       "      <th>4</th>\n",
       "      <td>4</td>\n",
       "      <td>2017-12-19 23:55:21</td>\n",
       "      <td>37722</td>\n",
       "      <td>410000007044</td>\n",
       "      <td>ACHDDIN</td>\n",
       "      <td>PAYPAL VERIFYBANK</td>\n",
       "      <td>False</td>\n",
       "      <td>0.02</td>\n",
       "      <td>500.26</td>\n",
       "      <td>False</td>\n",
       "      <td>...</td>\n",
       "      <td>NaN</td>\n",
       "      <td>False</td>\n",
       "      <td>False</td>\n",
       "      <td>61317.3</td>\n",
       "      <td>False</td>\n",
       "      <td>1.0</td>\n",
       "      <td>2363.09</td>\n",
       "      <td>False</td>\n",
       "      <td>False</td>\n",
       "      <td>False</td>\n",
       "    </tr>\n",
       "  </tbody>\n",
       "</table>\n",
       "<p>5 rows × 133 columns</p>\n",
       "</div>"
      ],
      "text/plain": [
       "   index transaction_datetime  borrower_id  business_account_number  \\\n",
       "0      0  2017-12-13 16:26:35        37722             410000007044   \n",
       "1      1  2017-12-19 23:55:21        37722             410000007044   \n",
       "2      2  2017-12-19 23:55:21        37722             410000007044   \n",
       "3      3  2017-12-19 23:55:21        37722             410000007044   \n",
       "4      4  2017-12-19 23:55:21        37722             410000007044   \n",
       "\n",
       "  transaction_code transaction_comment  is_return  transaction_amount  \\\n",
       "0            ACHDD                  CO      False              500.00   \n",
       "1          ACHDDIN   PAYPAL VERIFYBANK      False                0.10   \n",
       "2          ACHDWIN   PAYPAL VERIFYBANK      False               -0.12   \n",
       "3          ACHDDIN   PAYPAL VERIFYBANK      False                0.10   \n",
       "4          ACHDDIN   PAYPAL VERIFYBANK      False                0.02   \n",
       "\n",
       "   account_ending_balance  card_present_ind  ... days_to_acc_close  \\\n",
       "0                  500.00             False  ...               NaN   \n",
       "1                  500.14             False  ...               NaN   \n",
       "2                  500.00             False  ...               NaN   \n",
       "3                  500.24             False  ...               NaN   \n",
       "4                  500.26             False  ...               NaN   \n",
       "\n",
       "   account_closed_by_risk_in_next_90d  last_unrestricted_date_in_next_90d  \\\n",
       "0                               False                               False   \n",
       "1                               False                               False   \n",
       "2                               False                               False   \n",
       "3                               False                               False   \n",
       "4                               False                               False   \n",
       "\n",
       "   latest_acc_bal is_chg_wrt_off_in_90d nr_returns_in_next_90d  bal_after_90d  \\\n",
       "0         61317.3                 False                    1.0        2170.67   \n",
       "1         61317.3                 False                    1.0        2363.09   \n",
       "2         61317.3                 False                    1.0        2363.09   \n",
       "3         61317.3                 False                    1.0        2363.09   \n",
       "4         61317.3                 False                    1.0        2363.09   \n",
       "\n",
       "   target target_with_restriction indeterminate  \n",
       "0   False                   False         False  \n",
       "1   False                   False         False  \n",
       "2   False                   False         False  \n",
       "3   False                   False         False  \n",
       "4   False                   False         False  \n",
       "\n",
       "[5 rows x 133 columns]"
      ]
     },
     "execution_count": 3,
     "metadata": {},
     "output_type": "execute_result"
    }
   ],
   "source": [
    "ldf.head()"
   ]
  },
  {
   "cell_type": "code",
   "execution_count": 4,
   "id": "blond-contemporary",
   "metadata": {},
   "outputs": [
    {
     "data": {
      "text/plain": [
       "array(['ACHDD', 'ACHDDIN', 'ACHDWIN', 'DDMBR', 'DWMBR', 'ACHDWP2P', 'DW',\n",
       "       'DWACHRET', 'DDATMREFUND', 'DWATM', 'POSDW', 'DWATMI', 'DD',\n",
       "       'DWCRDBILLPAY', 'DWBILLPAY', 'DDPROMO', 'DDCC', 'DDCRDBILLREF',\n",
       "       'DWCK', 'DDCK', 'ACHINDD', 'POSDD', 'ACHDW', 'DPNC', 'DWTRF',\n",
       "       'DDTRF', 'DDBILLPAY', 'DPND', 'DDCASHBACK', 'DDACHRET', 'DWCKCB',\n",
       "       'DCWIZERO', 'DDRAFCUS', 'DDREWARDS', 'ACHRC', 'DDCHGOFF',\n",
       "       'DDWRTOFF', 'DCWI', 'DDINT', 'OTID', 'DDMKT', 'ACHRD', 'DDIF',\n",
       "       'DDPC', 'DDLYFTBONUS', 'DWSLROTP', 'DDCRDREWARD', 'DWWIRE',\n",
       "       'DDA2ATXFR', 'DDM', 'DDPROMOBONUS', 'DDCASH', 'DDWIRE',\n",
       "       'DDSLBONUS', 'DWPC', 'DWCARDREF', 'DDSAMPRBONUS', 'DDRAFNEW',\n",
       "       'DDPAYOUTADJ', 'DDFRDWO', 'DBDCM', 'DCWIVAULT', 'DDCARD',\n",
       "       'DDSLRBONUS', 'DDFC'], dtype=object)"
      ]
     },
     "execution_count": 4,
     "metadata": {},
     "output_type": "execute_result"
    }
   ],
   "source": [
    "ldf.transaction_code.unique()"
   ]
  },
  {
   "cell_type": "code",
   "execution_count": 5,
   "id": "portable-hygiene",
   "metadata": {},
   "outputs": [
    {
     "data": {
      "text/plain": [
       "(1192782, 133)"
      ]
     },
     "execution_count": 5,
     "metadata": {},
     "output_type": "execute_result"
    }
   ],
   "source": [
    "ldf[ldf.transaction_code == \"ACHINDD\"].shape"
   ]
  },
  {
   "cell_type": "code",
   "execution_count": 6,
   "id": "suited-evidence",
   "metadata": {},
   "outputs": [],
   "source": [
    "# interested population: those who had nr_direct_deposits\n",
    "bids = ldf[ldf.nr_direct_deposits > 0].business_account_number.unique()\n",
    "df = ldf[ldf.business_account_number.isin(bids)]\n",
    "df.sort_values(by=[\"business_account_number\", \"transaction_datetime\"], inplace=True)"
   ]
  },
  {
   "cell_type": "code",
   "execution_count": 7,
   "id": "generic-egyptian",
   "metadata": {},
   "outputs": [],
   "source": [
    "df[\"pre_transaction_bal\"] = df.real_ending_balance - df.transaction_amount"
   ]
  },
  {
   "cell_type": "code",
   "execution_count": 8,
   "id": "radical-differential",
   "metadata": {},
   "outputs": [
    {
     "data": {
      "text/plain": [
       "(17465224, 134)"
      ]
     },
     "execution_count": 8,
     "metadata": {},
     "output_type": "execute_result"
    }
   ],
   "source": [
    "df.shape"
   ]
  },
  {
   "cell_type": "markdown",
   "id": "compound-northwest",
   "metadata": {},
   "source": [
    "#### Look at some examples of when a user acct balance turns negative\n",
    "---\n",
    "\n",
    "current exact population: Currently balance more than 1000 -> 50 overdraft protection\n",
    "\n",
    "Q: should we look at that population with balance > 1000? if so we need to add another constraint. Reason we are asking is the model didn't take in raw balance as an input."
   ]
  },
  {
   "cell_type": "code",
   "execution_count": 9,
   "id": "standard-creek",
   "metadata": {},
   "outputs": [],
   "source": [
    "# df_neg are some accounts that went negative at some point in time\n",
    "bids_neg = df[df.bal_after_90d < 0].business_account_number.unique()\n",
    "df_neg = df[df.business_account_number.isin(bids_neg)]"
   ]
  },
  {
   "cell_type": "code",
   "execution_count": 10,
   "id": "psychological-accounting",
   "metadata": {},
   "outputs": [
    {
     "data": {
      "text/plain": [
       "business_account_number\n",
       "410000070530    1128\n",
       "410000070911     164\n",
       "410000071657     552\n",
       "410000072598     920\n",
       "410000072701     535\n",
       "                ... \n",
       "410012516244      15\n",
       "410012703407      25\n",
       "410012734623      28\n",
       "410013027892      14\n",
       "410013102681      48\n",
       "Name: transaction_code, Length: 2281, dtype: int64"
      ]
     },
     "execution_count": 10,
     "metadata": {},
     "output_type": "execute_result"
    }
   ],
   "source": [
    "df_neg.groupby(\"business_account_number\").transaction_code.count()"
   ]
  },
  {
   "cell_type": "code",
   "execution_count": 11,
   "id": "civic-brain",
   "metadata": {},
   "outputs": [],
   "source": [
    "# relevent columns for analysis\n",
    "cols = [\"transaction_datetime\", \n",
    "        \"borrower_id\", \n",
    "        \"business_account_number\", \n",
    "        \"transaction_code\", \n",
    "        \"is_dd\", \n",
    "        \"nr_direct_deposits\", \n",
    "        \"target\", \n",
    "        \"real_ending_balance\",\n",
    "        \"transaction_amount\", \n",
    "        \"transaction_as_pct_of_balance\",  # tamt / (ending bal - tamt)   # for expense, tamt < 0\n",
    "        \"bal_after_90d\",\n",
    "        \"pre_transaction_bal\"]  # newly added"
   ]
  },
  {
   "cell_type": "code",
   "execution_count": 12,
   "id": "postal-belle",
   "metadata": {},
   "outputs": [
    {
     "data": {
      "text/html": [
       "<div>\n",
       "<style scoped>\n",
       "    .dataframe tbody tr th:only-of-type {\n",
       "        vertical-align: middle;\n",
       "    }\n",
       "\n",
       "    .dataframe tbody tr th {\n",
       "        vertical-align: top;\n",
       "    }\n",
       "\n",
       "    .dataframe thead th {\n",
       "        text-align: right;\n",
       "    }\n",
       "</style>\n",
       "<table border=\"1\" class=\"dataframe\">\n",
       "  <thead>\n",
       "    <tr style=\"text-align: right;\">\n",
       "      <th></th>\n",
       "      <th>transaction_datetime</th>\n",
       "      <th>borrower_id</th>\n",
       "      <th>business_account_number</th>\n",
       "      <th>transaction_code</th>\n",
       "      <th>is_dd</th>\n",
       "      <th>nr_direct_deposits</th>\n",
       "      <th>target</th>\n",
       "      <th>real_ending_balance</th>\n",
       "      <th>transaction_amount</th>\n",
       "      <th>transaction_as_pct_of_balance</th>\n",
       "      <th>bal_after_90d</th>\n",
       "      <th>pre_transaction_bal</th>\n",
       "    </tr>\n",
       "  </thead>\n",
       "  <tbody>\n",
       "    <tr>\n",
       "      <th>4255</th>\n",
       "      <td>2017-12-20 00:00:00</td>\n",
       "      <td>3411668</td>\n",
       "      <td>410000070530</td>\n",
       "      <td>DDMBR</td>\n",
       "      <td>False</td>\n",
       "      <td>0</td>\n",
       "      <td>False</td>\n",
       "      <td>11.00</td>\n",
       "      <td>11.00</td>\n",
       "      <td>inf</td>\n",
       "      <td>341.06</td>\n",
       "      <td>0.00</td>\n",
       "    </tr>\n",
       "    <tr>\n",
       "      <th>4256</th>\n",
       "      <td>2017-12-20 00:00:00</td>\n",
       "      <td>3411668</td>\n",
       "      <td>410000070530</td>\n",
       "      <td>DWMBR</td>\n",
       "      <td>False</td>\n",
       "      <td>0</td>\n",
       "      <td>False</td>\n",
       "      <td>8.25</td>\n",
       "      <td>-2.75</td>\n",
       "      <td>-0.250000</td>\n",
       "      <td>341.06</td>\n",
       "      <td>11.00</td>\n",
       "    </tr>\n",
       "    <tr>\n",
       "      <th>4257</th>\n",
       "      <td>2017-12-29 00:00:00</td>\n",
       "      <td>3411668</td>\n",
       "      <td>410000070530</td>\n",
       "      <td>ACHDWP2P</td>\n",
       "      <td>False</td>\n",
       "      <td>0</td>\n",
       "      <td>False</td>\n",
       "      <td>205.65</td>\n",
       "      <td>-1.25</td>\n",
       "      <td>-0.006042</td>\n",
       "      <td>249.92</td>\n",
       "      <td>206.90</td>\n",
       "    </tr>\n",
       "    <tr>\n",
       "      <th>4258</th>\n",
       "      <td>2017-12-29 00:00:00</td>\n",
       "      <td>3411668</td>\n",
       "      <td>410000070530</td>\n",
       "      <td>ACHDWP2P</td>\n",
       "      <td>False</td>\n",
       "      <td>0</td>\n",
       "      <td>False</td>\n",
       "      <td>206.90</td>\n",
       "      <td>-1.35</td>\n",
       "      <td>-0.006483</td>\n",
       "      <td>249.92</td>\n",
       "      <td>208.25</td>\n",
       "    </tr>\n",
       "    <tr>\n",
       "      <th>4259</th>\n",
       "      <td>2017-12-29 12:19:00</td>\n",
       "      <td>3411668</td>\n",
       "      <td>410000070530</td>\n",
       "      <td>ACHDD</td>\n",
       "      <td>False</td>\n",
       "      <td>0</td>\n",
       "      <td>False</td>\n",
       "      <td>208.25</td>\n",
       "      <td>200.00</td>\n",
       "      <td>24.242424</td>\n",
       "      <td>301.92</td>\n",
       "      <td>8.25</td>\n",
       "    </tr>\n",
       "  </tbody>\n",
       "</table>\n",
       "</div>"
      ],
      "text/plain": [
       "     transaction_datetime  borrower_id  business_account_number  \\\n",
       "4255  2017-12-20 00:00:00      3411668             410000070530   \n",
       "4256  2017-12-20 00:00:00      3411668             410000070530   \n",
       "4257  2017-12-29 00:00:00      3411668             410000070530   \n",
       "4258  2017-12-29 00:00:00      3411668             410000070530   \n",
       "4259  2017-12-29 12:19:00      3411668             410000070530   \n",
       "\n",
       "     transaction_code  is_dd  nr_direct_deposits  target  real_ending_balance  \\\n",
       "4255            DDMBR  False                   0   False                11.00   \n",
       "4256            DWMBR  False                   0   False                 8.25   \n",
       "4257         ACHDWP2P  False                   0   False               205.65   \n",
       "4258         ACHDWP2P  False                   0   False               206.90   \n",
       "4259            ACHDD  False                   0   False               208.25   \n",
       "\n",
       "      transaction_amount  transaction_as_pct_of_balance  bal_after_90d  \\\n",
       "4255               11.00                            inf         341.06   \n",
       "4256               -2.75                      -0.250000         341.06   \n",
       "4257               -1.25                      -0.006042         249.92   \n",
       "4258               -1.35                      -0.006483         249.92   \n",
       "4259              200.00                      24.242424         301.92   \n",
       "\n",
       "      pre_transaction_bal  \n",
       "4255                 0.00  \n",
       "4256                11.00  \n",
       "4257               206.90  \n",
       "4258               208.25  \n",
       "4259                 8.25  "
      ]
     },
     "execution_count": 12,
     "metadata": {},
     "output_type": "execute_result"
    }
   ],
   "source": [
    "df_ = df_neg[cols]\n",
    "df_.head()"
   ]
  },
  {
   "cell_type": "code",
   "execution_count": 13,
   "id": "disabled-somerset",
   "metadata": {},
   "outputs": [
    {
     "data": {
      "text/plain": [
       "transaction_code\n",
       "ACHDD            100.000\n",
       "ACHDDIN          100.000\n",
       "ACHDW           -200.000\n",
       "ACHDWIN          -51.500\n",
       "ACHDWP2P        -100.000\n",
       "ACHINDD          418.890\n",
       "ACHRC              0.000\n",
       "ACHRD              0.000\n",
       "DCWI               0.000\n",
       "DCWIZERO           0.000\n",
       "DD               158.075\n",
       "DDA2ATXFR         33.015\n",
       "DDACHRET          50.000\n",
       "DDATMREFUND        3.000\n",
       "DDBILLPAY         25.000\n",
       "DDCASH           150.000\n",
       "DDCASHBACK         1.530\n",
       "DDCC              10.000\n",
       "DDCHGOFF          80.245\n",
       "DDCK             168.715\n",
       "DDCRDBILLREF      34.650\n",
       "DDCRDREWARD        0.720\n",
       "DDFC              25.000\n",
       "DDIF              20.000\n",
       "DDINT              0.010\n",
       "DDLYFTBONUS        2.120\n",
       "DDMBR             50.000\n",
       "DDMKT              5.000\n",
       "DDPC              38.850\n",
       "DDPROMO          100.000\n",
       "DDPROMOBONUS      75.000\n",
       "DDRAFCUS          50.000\n",
       "DDRAFNEW          50.000\n",
       "DDREWARDS          0.280\n",
       "DDSAMPRBONUS      10.000\n",
       "DDSLRBONUS        50.000\n",
       "DDTRF             39.785\n",
       "DDWRTOFF           3.580\n",
       "DPNC               0.000\n",
       "DPND               0.000\n",
       "DW              -250.965\n",
       "DWACHRET        -100.000\n",
       "DWATM            -83.000\n",
       "DWATMI           -88.290\n",
       "DWBILLPAY       -139.000\n",
       "DWCK            -180.000\n",
       "DWCKCB          -392.625\n",
       "DWCRDBILLPAY     -20.960\n",
       "DWMBR            -50.000\n",
       "DWPC             -60.000\n",
       "DWSLROTP        -455.000\n",
       "DWTRF             -0.550\n",
       "DWWIRE         -4000.000\n",
       "OTID              12.600\n",
       "POSDD             36.260\n",
       "POSDW            -14.970\n",
       "Name: transaction_amount, dtype: float64"
      ]
     },
     "execution_count": 13,
     "metadata": {},
     "output_type": "execute_result"
    }
   ],
   "source": [
    "df_.groupby(\"transaction_code\")[\"transaction_amount\"].median()"
   ]
  },
  {
   "cell_type": "code",
   "execution_count": 14,
   "id": "shared-glucose",
   "metadata": {},
   "outputs": [
    {
     "data": {
      "text/html": [
       "<div>\n",
       "<style scoped>\n",
       "    .dataframe tbody tr th:only-of-type {\n",
       "        vertical-align: middle;\n",
       "    }\n",
       "\n",
       "    .dataframe tbody tr th {\n",
       "        vertical-align: top;\n",
       "    }\n",
       "\n",
       "    .dataframe thead th {\n",
       "        text-align: right;\n",
       "    }\n",
       "</style>\n",
       "<table border=\"1\" class=\"dataframe\">\n",
       "  <thead>\n",
       "    <tr style=\"text-align: right;\">\n",
       "      <th></th>\n",
       "      <th>transaction_datetime</th>\n",
       "      <th>borrower_id</th>\n",
       "      <th>business_account_number</th>\n",
       "      <th>transaction_code</th>\n",
       "      <th>is_dd</th>\n",
       "      <th>nr_direct_deposits</th>\n",
       "      <th>target</th>\n",
       "      <th>real_ending_balance</th>\n",
       "      <th>transaction_amount</th>\n",
       "      <th>transaction_as_pct_of_balance</th>\n",
       "      <th>bal_after_90d</th>\n",
       "      <th>pre_transaction_bal</th>\n",
       "    </tr>\n",
       "  </thead>\n",
       "  <tbody>\n",
       "    <tr>\n",
       "      <th>4914</th>\n",
       "      <td>2018-09-08 14:54:43</td>\n",
       "      <td>3411668</td>\n",
       "      <td>410000070530</td>\n",
       "      <td>POSDW</td>\n",
       "      <td>False</td>\n",
       "      <td>10</td>\n",
       "      <td>False</td>\n",
       "      <td>-23.65</td>\n",
       "      <td>-32.44</td>\n",
       "      <td>-3.690557</td>\n",
       "      <td>447.35</td>\n",
       "      <td>8.79</td>\n",
       "    </tr>\n",
       "    <tr>\n",
       "      <th>13394</th>\n",
       "      <td>2019-02-23 12:22:59</td>\n",
       "      <td>3033101</td>\n",
       "      <td>410000070911</td>\n",
       "      <td>POSDW</td>\n",
       "      <td>False</td>\n",
       "      <td>23</td>\n",
       "      <td>False</td>\n",
       "      <td>-25.89</td>\n",
       "      <td>-172.62</td>\n",
       "      <td>-1.176447</td>\n",
       "      <td>0.00</td>\n",
       "      <td>146.73</td>\n",
       "    </tr>\n",
       "    <tr>\n",
       "      <th>13395</th>\n",
       "      <td>2019-02-27 00:00:00</td>\n",
       "      <td>3033101</td>\n",
       "      <td>410000070911</td>\n",
       "      <td>DDMBR</td>\n",
       "      <td>False</td>\n",
       "      <td>23</td>\n",
       "      <td>False</td>\n",
       "      <td>-14.89</td>\n",
       "      <td>1.00</td>\n",
       "      <td>-0.062933</td>\n",
       "      <td>0.00</td>\n",
       "      <td>-15.89</td>\n",
       "    </tr>\n",
       "    <tr>\n",
       "      <th>13396</th>\n",
       "      <td>2019-02-27 05:50:39</td>\n",
       "      <td>3033101</td>\n",
       "      <td>410000070911</td>\n",
       "      <td>ACHDDIN</td>\n",
       "      <td>False</td>\n",
       "      <td>23</td>\n",
       "      <td>False</td>\n",
       "      <td>-15.89</td>\n",
       "      <td>10.00</td>\n",
       "      <td>-0.386250</td>\n",
       "      <td>0.00</td>\n",
       "      <td>-25.89</td>\n",
       "    </tr>\n",
       "    <tr>\n",
       "      <th>13411</th>\n",
       "      <td>2019-03-09 12:41:10</td>\n",
       "      <td>3033101</td>\n",
       "      <td>410000070911</td>\n",
       "      <td>POSDW</td>\n",
       "      <td>False</td>\n",
       "      <td>24</td>\n",
       "      <td>False</td>\n",
       "      <td>-82.99</td>\n",
       "      <td>-95.60</td>\n",
       "      <td>-7.581285</td>\n",
       "      <td>0.00</td>\n",
       "      <td>12.61</td>\n",
       "    </tr>\n",
       "  </tbody>\n",
       "</table>\n",
       "</div>"
      ],
      "text/plain": [
       "      transaction_datetime  borrower_id  business_account_number  \\\n",
       "4914   2018-09-08 14:54:43      3411668             410000070530   \n",
       "13394  2019-02-23 12:22:59      3033101             410000070911   \n",
       "13395  2019-02-27 00:00:00      3033101             410000070911   \n",
       "13396  2019-02-27 05:50:39      3033101             410000070911   \n",
       "13411  2019-03-09 12:41:10      3033101             410000070911   \n",
       "\n",
       "      transaction_code  is_dd  nr_direct_deposits  target  \\\n",
       "4914             POSDW  False                  10   False   \n",
       "13394            POSDW  False                  23   False   \n",
       "13395            DDMBR  False                  23   False   \n",
       "13396          ACHDDIN  False                  23   False   \n",
       "13411            POSDW  False                  24   False   \n",
       "\n",
       "       real_ending_balance  transaction_amount  transaction_as_pct_of_balance  \\\n",
       "4914                -23.65              -32.44                      -3.690557   \n",
       "13394               -25.89             -172.62                      -1.176447   \n",
       "13395               -14.89                1.00                      -0.062933   \n",
       "13396               -15.89               10.00                      -0.386250   \n",
       "13411               -82.99              -95.60                      -7.581285   \n",
       "\n",
       "       bal_after_90d  pre_transaction_bal  \n",
       "4914          447.35                 8.79  \n",
       "13394           0.00               146.73  \n",
       "13395           0.00               -15.89  \n",
       "13396           0.00               -25.89  \n",
       "13411           0.00                12.61  "
      ]
     },
     "execution_count": 14,
     "metadata": {},
     "output_type": "execute_result"
    }
   ],
   "source": [
    "df_[df_.real_ending_balance < 0].head(5)"
   ]
  },
  {
   "cell_type": "code",
   "execution_count": 15,
   "id": "canadian-harris",
   "metadata": {},
   "outputs": [
    {
     "data": {
      "text/plain": [
       "has_neg_bal\n",
       "False    AxesSubplot(0.125,0.125;0.775x0.755)\n",
       "True     AxesSubplot(0.125,0.125;0.775x0.755)\n",
       "Name: clipped_tpob, dtype: object"
      ]
     },
     "execution_count": 15,
     "metadata": {},
     "output_type": "execute_result"
    },
    {
     "data": {
      "image/png": "[encoded data removed]",
      "text/plain": [
       "<Figure size 921.6x633.6 with 1 Axes>"
      ]
     },
     "metadata": {},
     "output_type": "display_data"
    }
   ],
   "source": [
    "df_[\"clipped_tpob\"] = df_[\"transaction_as_pct_of_balance\"].clip(-200, 200)\n",
    "df_[\"has_neg_bal\"] = df_[\"bal_after_90d\"] < 0\n",
    "df_.groupby(\"has_neg_bal\")[\"clipped_tpob\"].hist(bins=100, alpha=0.4, density=True)"
   ]
  },
  {
   "cell_type": "markdown",
   "id": "worse-emergency",
   "metadata": {},
   "source": [
    "#### Target Population"
   ]
  },
  {
   "cell_type": "code",
   "execution_count": 16,
   "id": "serial-freedom",
   "metadata": {},
   "outputs": [],
   "source": [
    "# df_pop = df_neg[(df_neg.pre_transaction_bal >= 1000) & (df_neg.real_ending_balance < 0)]\n",
    "# accounts with direct deposits\n",
    "bids = ldf[ldf.nr_direct_deposits > 0].business_account_number.unique()\n",
    "df = ldf[ldf.business_account_number.isin(bids)]\n",
    "\n",
    "# accounts with negative balance\n",
    "bids_neg = df[df.bal_after_90d < 0].business_account_number.unique()\n",
    "df_neg = df[df.business_account_number.isin(bids_neg)]\n",
    "\n",
    "df_pop = df_neg[df_neg.real_ending_balance < 0]"
   ]
  },
  {
   "cell_type": "code",
   "execution_count": 17,
   "id": "medical-woman",
   "metadata": {},
   "outputs": [
    {
     "data": {
      "text/plain": [
       "(13561, 133)"
      ]
     },
     "execution_count": 17,
     "metadata": {},
     "output_type": "execute_result"
    }
   ],
   "source": [
    "df_pop.shape"
   ]
  },
  {
   "cell_type": "code",
   "execution_count": 18,
   "id": "animated-pennsylvania",
   "metadata": {},
   "outputs": [
    {
     "data": {
      "text/plain": [
       "Int64Index([    4914,    13394,    13395,    13396,    13411,    28593,\n",
       "               41631,    43654,    43656,    43666,\n",
       "            ...\n",
       "            24832578, 24870296, 24879775, 24879778, 24879779, 24879780,\n",
       "            24879781, 24879782, 24879784, 24879786],\n",
       "           dtype='int64', length=13561)"
      ]
     },
     "execution_count": 18,
     "metadata": {},
     "output_type": "execute_result"
    }
   ],
   "source": [
    "df_pop.index"
   ]
  },
  {
   "cell_type": "markdown",
   "id": "pending-policy",
   "metadata": {},
   "source": [
    "Extract some typical examples of transactions that flips an account negative. Then use that to create transaction/features that will effect the model score"
   ]
  },
  {
   "cell_type": "code",
   "execution_count": 19,
   "id": "fourth-unknown",
   "metadata": {},
   "outputs": [
    {
     "data": {
      "text/html": [
       "<div>\n",
       "<style scoped>\n",
       "    .dataframe tbody tr th:only-of-type {\n",
       "        vertical-align: middle;\n",
       "    }\n",
       "\n",
       "    .dataframe tbody tr th {\n",
       "        vertical-align: top;\n",
       "    }\n",
       "\n",
       "    .dataframe thead th {\n",
       "        text-align: right;\n",
       "    }\n",
       "</style>\n",
       "<table border=\"1\" class=\"dataframe\">\n",
       "  <thead>\n",
       "    <tr style=\"text-align: right;\">\n",
       "      <th></th>\n",
       "      <th>index</th>\n",
       "      <th>transaction_datetime</th>\n",
       "      <th>borrower_id</th>\n",
       "      <th>business_account_number</th>\n",
       "      <th>transaction_code</th>\n",
       "      <th>transaction_comment</th>\n",
       "      <th>is_return</th>\n",
       "      <th>transaction_amount</th>\n",
       "      <th>account_ending_balance</th>\n",
       "      <th>card_present_ind</th>\n",
       "      <th>...</th>\n",
       "      <th>days_to_acc_close</th>\n",
       "      <th>account_closed_by_risk_in_next_90d</th>\n",
       "      <th>last_unrestricted_date_in_next_90d</th>\n",
       "      <th>latest_acc_bal</th>\n",
       "      <th>is_chg_wrt_off_in_90d</th>\n",
       "      <th>nr_returns_in_next_90d</th>\n",
       "      <th>bal_after_90d</th>\n",
       "      <th>target</th>\n",
       "      <th>target_with_restriction</th>\n",
       "      <th>indeterminate</th>\n",
       "    </tr>\n",
       "  </thead>\n",
       "  <tbody>\n",
       "    <tr>\n",
       "      <th>4914</th>\n",
       "      <td>4914</td>\n",
       "      <td>2018-09-08 14:54:43</td>\n",
       "      <td>3411668</td>\n",
       "      <td>410000070530</td>\n",
       "      <td>POSDW</td>\n",
       "      <td>WAWA 858      00008581 MARSHALLTON, DE, US</td>\n",
       "      <td>False</td>\n",
       "      <td>-32.44</td>\n",
       "      <td>-23.65</td>\n",
       "      <td>True</td>\n",
       "      <td>...</td>\n",
       "      <td>136.0</td>\n",
       "      <td>False</td>\n",
       "      <td>False</td>\n",
       "      <td>0.0</td>\n",
       "      <td>False</td>\n",
       "      <td>2.0</td>\n",
       "      <td>447.35</td>\n",
       "      <td>False</td>\n",
       "      <td>False</td>\n",
       "      <td>True</td>\n",
       "    </tr>\n",
       "    <tr>\n",
       "      <th>13394</th>\n",
       "      <td>13394</td>\n",
       "      <td>2019-02-23 12:22:59</td>\n",
       "      <td>3033101</td>\n",
       "      <td>410000070911</td>\n",
       "      <td>POSDW</td>\n",
       "      <td>GAMES WORKSHOP 115-914-0000, MD, US</td>\n",
       "      <td>False</td>\n",
       "      <td>-172.62</td>\n",
       "      <td>-25.89</td>\n",
       "      <td>False</td>\n",
       "      <td>...</td>\n",
       "      <td>NaN</td>\n",
       "      <td>False</td>\n",
       "      <td>False</td>\n",
       "      <td>0.0</td>\n",
       "      <td>False</td>\n",
       "      <td>0.0</td>\n",
       "      <td>0.00</td>\n",
       "      <td>False</td>\n",
       "      <td>False</td>\n",
       "      <td>False</td>\n",
       "    </tr>\n",
       "    <tr>\n",
       "      <th>13395</th>\n",
       "      <td>13395</td>\n",
       "      <td>2019-02-27 00:00:00</td>\n",
       "      <td>3033101</td>\n",
       "      <td>410000070911</td>\n",
       "      <td>DDMBR</td>\n",
       "      <td></td>\n",
       "      <td>False</td>\n",
       "      <td>1.00</td>\n",
       "      <td>-14.89</td>\n",
       "      <td>False</td>\n",
       "      <td>...</td>\n",
       "      <td>NaN</td>\n",
       "      <td>False</td>\n",
       "      <td>False</td>\n",
       "      <td>0.0</td>\n",
       "      <td>False</td>\n",
       "      <td>0.0</td>\n",
       "      <td>0.00</td>\n",
       "      <td>False</td>\n",
       "      <td>False</td>\n",
       "      <td>False</td>\n",
       "    </tr>\n",
       "    <tr>\n",
       "      <th>13396</th>\n",
       "      <td>13396</td>\n",
       "      <td>2019-02-27 05:50:39</td>\n",
       "      <td>3033101</td>\n",
       "      <td>410000070911</td>\n",
       "      <td>ACHDDIN</td>\n",
       "      <td>SOFI SECURITIES ACH</td>\n",
       "      <td>False</td>\n",
       "      <td>10.00</td>\n",
       "      <td>-15.89</td>\n",
       "      <td>False</td>\n",
       "      <td>...</td>\n",
       "      <td>NaN</td>\n",
       "      <td>False</td>\n",
       "      <td>False</td>\n",
       "      <td>0.0</td>\n",
       "      <td>False</td>\n",
       "      <td>0.0</td>\n",
       "      <td>0.00</td>\n",
       "      <td>False</td>\n",
       "      <td>False</td>\n",
       "      <td>False</td>\n",
       "    </tr>\n",
       "    <tr>\n",
       "      <th>13411</th>\n",
       "      <td>13411</td>\n",
       "      <td>2019-03-09 12:41:10</td>\n",
       "      <td>3033101</td>\n",
       "      <td>410000070911</td>\n",
       "      <td>POSDW</td>\n",
       "      <td>GAMES WORKSHOP 115-914-0000, MD, US</td>\n",
       "      <td>False</td>\n",
       "      <td>-95.60</td>\n",
       "      <td>-82.99</td>\n",
       "      <td>False</td>\n",
       "      <td>...</td>\n",
       "      <td>NaN</td>\n",
       "      <td>False</td>\n",
       "      <td>False</td>\n",
       "      <td>0.0</td>\n",
       "      <td>False</td>\n",
       "      <td>0.0</td>\n",
       "      <td>0.00</td>\n",
       "      <td>False</td>\n",
       "      <td>False</td>\n",
       "      <td>False</td>\n",
       "    </tr>\n",
       "  </tbody>\n",
       "</table>\n",
       "<p>5 rows × 133 columns</p>\n",
       "</div>"
      ],
      "text/plain": [
       "       index transaction_datetime  borrower_id  business_account_number  \\\n",
       "4914    4914  2018-09-08 14:54:43      3411668             410000070530   \n",
       "13394  13394  2019-02-23 12:22:59      3033101             410000070911   \n",
       "13395  13395  2019-02-27 00:00:00      3033101             410000070911   \n",
       "13396  13396  2019-02-27 05:50:39      3033101             410000070911   \n",
       "13411  13411  2019-03-09 12:41:10      3033101             410000070911   \n",
       "\n",
       "      transaction_code                          transaction_comment  \\\n",
       "4914             POSDW  WAWA 858      00008581 MARSHALLTON, DE, US    \n",
       "13394            POSDW         GAMES WORKSHOP 115-914-0000, MD, US    \n",
       "13395            DDMBR                                                \n",
       "13396          ACHDDIN                         SOFI SECURITIES ACH    \n",
       "13411            POSDW         GAMES WORKSHOP 115-914-0000, MD, US    \n",
       "\n",
       "       is_return  transaction_amount  account_ending_balance  \\\n",
       "4914       False              -32.44                  -23.65   \n",
       "13394      False             -172.62                  -25.89   \n",
       "13395      False                1.00                  -14.89   \n",
       "13396      False               10.00                  -15.89   \n",
       "13411      False              -95.60                  -82.99   \n",
       "\n",
       "       card_present_ind  ... days_to_acc_close  \\\n",
       "4914               True  ...             136.0   \n",
       "13394             False  ...               NaN   \n",
       "13395             False  ...               NaN   \n",
       "13396             False  ...               NaN   \n",
       "13411             False  ...               NaN   \n",
       "\n",
       "       account_closed_by_risk_in_next_90d  last_unrestricted_date_in_next_90d  \\\n",
       "4914                                False                               False   \n",
       "13394                               False                               False   \n",
       "13395                               False                               False   \n",
       "13396                               False                               False   \n",
       "13411                               False                               False   \n",
       "\n",
       "       latest_acc_bal is_chg_wrt_off_in_90d nr_returns_in_next_90d  \\\n",
       "4914              0.0                 False                    2.0   \n",
       "13394             0.0                 False                    0.0   \n",
       "13395             0.0                 False                    0.0   \n",
       "13396             0.0                 False                    0.0   \n",
       "13411             0.0                 False                    0.0   \n",
       "\n",
       "       bal_after_90d  target target_with_restriction indeterminate  \n",
       "4914          447.35   False                   False          True  \n",
       "13394           0.00   False                   False         False  \n",
       "13395           0.00   False                   False         False  \n",
       "13396           0.00   False                   False         False  \n",
       "13411           0.00   False                   False         False  \n",
       "\n",
       "[5 rows x 133 columns]"
      ]
     },
     "execution_count": 19,
     "metadata": {},
     "output_type": "execute_result"
    }
   ],
   "source": [
    "df_pop.head()"
   ]
  },
  {
   "cell_type": "code",
   "execution_count": 20,
   "id": "bored-division",
   "metadata": {},
   "outputs": [
    {
     "data": {
      "text/html": [
       "<div>\n",
       "<style scoped>\n",
       "    .dataframe tbody tr th:only-of-type {\n",
       "        vertical-align: middle;\n",
       "    }\n",
       "\n",
       "    .dataframe tbody tr th {\n",
       "        vertical-align: top;\n",
       "    }\n",
       "\n",
       "    .dataframe thead th {\n",
       "        text-align: right;\n",
       "    }\n",
       "</style>\n",
       "<table border=\"1\" class=\"dataframe\">\n",
       "  <thead>\n",
       "    <tr style=\"text-align: right;\">\n",
       "      <th></th>\n",
       "      <th>real_ending_balance</th>\n",
       "      <th>transaction_datetime</th>\n",
       "      <th>transaction_amount</th>\n",
       "      <th>created_dt</th>\n",
       "      <th>is_dd</th>\n",
       "      <th>transaction_code</th>\n",
       "      <th>is_return</th>\n",
       "      <th>borrower_id</th>\n",
       "      <th>business_account_number</th>\n",
       "    </tr>\n",
       "  </thead>\n",
       "  <tbody>\n",
       "    <tr>\n",
       "      <th>4914</th>\n",
       "      <td>-23.65</td>\n",
       "      <td>2018-09-08 14:54:43</td>\n",
       "      <td>-32.44</td>\n",
       "      <td>NaT</td>\n",
       "      <td>False</td>\n",
       "      <td>POSDW</td>\n",
       "      <td>False</td>\n",
       "      <td>3411668</td>\n",
       "      <td>410000070530</td>\n",
       "    </tr>\n",
       "    <tr>\n",
       "      <th>13394</th>\n",
       "      <td>-25.89</td>\n",
       "      <td>2019-02-23 12:22:59</td>\n",
       "      <td>-172.62</td>\n",
       "      <td>NaT</td>\n",
       "      <td>False</td>\n",
       "      <td>POSDW</td>\n",
       "      <td>False</td>\n",
       "      <td>3033101</td>\n",
       "      <td>410000070911</td>\n",
       "    </tr>\n",
       "    <tr>\n",
       "      <th>13395</th>\n",
       "      <td>-14.89</td>\n",
       "      <td>2019-02-27 00:00:00</td>\n",
       "      <td>1.00</td>\n",
       "      <td>NaT</td>\n",
       "      <td>False</td>\n",
       "      <td>DDMBR</td>\n",
       "      <td>False</td>\n",
       "      <td>3033101</td>\n",
       "      <td>410000070911</td>\n",
       "    </tr>\n",
       "    <tr>\n",
       "      <th>13396</th>\n",
       "      <td>-15.89</td>\n",
       "      <td>2019-02-27 05:50:39</td>\n",
       "      <td>10.00</td>\n",
       "      <td>NaT</td>\n",
       "      <td>False</td>\n",
       "      <td>ACHDDIN</td>\n",
       "      <td>False</td>\n",
       "      <td>3033101</td>\n",
       "      <td>410000070911</td>\n",
       "    </tr>\n",
       "    <tr>\n",
       "      <th>13411</th>\n",
       "      <td>-82.99</td>\n",
       "      <td>2019-03-09 12:41:10</td>\n",
       "      <td>-95.60</td>\n",
       "      <td>NaT</td>\n",
       "      <td>False</td>\n",
       "      <td>POSDW</td>\n",
       "      <td>False</td>\n",
       "      <td>3033101</td>\n",
       "      <td>410000070911</td>\n",
       "    </tr>\n",
       "  </tbody>\n",
       "</table>\n",
       "</div>"
      ],
      "text/plain": [
       "       real_ending_balance transaction_datetime  transaction_amount  \\\n",
       "4914                -23.65  2018-09-08 14:54:43              -32.44   \n",
       "13394               -25.89  2019-02-23 12:22:59             -172.62   \n",
       "13395               -14.89  2019-02-27 00:00:00                1.00   \n",
       "13396               -15.89  2019-02-27 05:50:39               10.00   \n",
       "13411               -82.99  2019-03-09 12:41:10              -95.60   \n",
       "\n",
       "      created_dt  is_dd transaction_code  is_return  borrower_id  \\\n",
       "4914         NaT  False            POSDW      False      3411668   \n",
       "13394        NaT  False            POSDW      False      3033101   \n",
       "13395        NaT  False            DDMBR      False      3033101   \n",
       "13396        NaT  False          ACHDDIN      False      3033101   \n",
       "13411        NaT  False            POSDW      False      3033101   \n",
       "\n",
       "       business_account_number  \n",
       "4914              410000070530  \n",
       "13394             410000070911  \n",
       "13395             410000070911  \n",
       "13396             410000070911  \n",
       "13411             410000070911  "
      ]
     },
     "execution_count": 20,
     "metadata": {},
     "output_type": "execute_result"
    }
   ],
   "source": [
    "# columns to keep from df_pop:\n",
    "trn_cols = \"\"\"\n",
    "transaction_amount\n",
    "transaction_datetime\n",
    "is_return\n",
    "real_ending_balance\n",
    "business_account_number\n",
    "created_dt\n",
    "transaction_code\n",
    "business_account_number\n",
    "borrower_id\n",
    "is_dd\n",
    "\"\"\".split()\n",
    "# cols_ = [\"transaction_datetime\", \n",
    "#         \"borrower_id\", \n",
    "#         \"business_account_number\", \n",
    "#         \"transaction_code\", \n",
    "#         \"is_dd\", \n",
    "#         \"nr_direct_deposits\", \n",
    "#         \"target\", \n",
    "#         \"real_ending_balance\",\n",
    "#         \"transaction_amount\", \n",
    "#         \"transaction_as_pct_of_balance\",  # tamt / (ending bal - tamt)   # for expense, tamt < 0\n",
    "#         \"bal_after_90d\",\n",
    "#         \"pre_transaction_bal\"]\n",
    "cols = list(set(trn_cols))\n",
    "df_pop[cols].head()"
   ]
  },
  {
   "cell_type": "code",
   "execution_count": 21,
   "id": "destroyed-glenn",
   "metadata": {},
   "outputs": [],
   "source": [
    "# df_[df_.business_account_number == 410012703407]"
   ]
  },
  {
   "cell_type": "code",
   "execution_count": null,
   "id": "composed-transcription",
   "metadata": {},
   "outputs": [],
   "source": []
  },
  {
   "cell_type": "markdown",
   "id": "editorial-dress",
   "metadata": {},
   "source": [
    "#### Modify features\n",
    "---\n",
    "\n",
    "recipe:\n",
    "1. take the last transaction for all users that has positive account balance\n",
    "2. grab that user's past transactins in the past 30 days\n",
    "    * to simply, we keep transactions after 2021/1/1. so the time cutoff would be 2020/12/1\n",
    "3. insert a transaction with negative balance afterwards\n",
    "4. rebuild the 5 transactions-based features\n",
    "* ['nr_trans_ratio',\n",
    " 'transaction_code_encoded',\n",
    " 'transaction_as_pct_of_balance',\n",
    " 'max_withdrawals_30d',\n",
    " 'mean_account_balance_30d']\n",
    " \n",
    "5. compare score before and after"
   ]
  },
  {
   "cell_type": "code",
   "execution_count": 22,
   "id": "union-elder",
   "metadata": {},
   "outputs": [
    {
     "data": {
      "text/plain": [
       "((17465224, 133), 59630)"
      ]
     },
     "execution_count": 22,
     "metadata": {},
     "output_type": "execute_result"
    }
   ],
   "source": [
    "bids_has_dd = ldf[ldf.nr_direct_deposits > 0].business_account_number.unique()\n",
    "df_has_dd = ldf[ldf.business_account_number.isin(bids_has_dd)]\n",
    "df_has_dd.shape, df_has_dd.business_account_number.nunique()"
   ]
  },
  {
   "cell_type": "code",
   "execution_count": 23,
   "id": "ignored-satisfaction",
   "metadata": {},
   "outputs": [
    {
     "data": {
      "text/plain": [
       "(48350, 133)"
      ]
     },
     "execution_count": 23,
     "metadata": {},
     "output_type": "execute_result"
    }
   ],
   "source": [
    "# last_trn_1000 = df_has_dd[df_has_dd.real_ending_balance > 1000].drop_duplicates(subset=[\"business_account_number\"], keep='last')\n",
    "\n",
    "# look at all users with direct deposits with positive account balance\n",
    "# originally made a mistake, and it's a waste of time to change all last_trn_1000 -> last_trn\n",
    "last_trn_1000 = df_has_dd[df_has_dd.real_ending_balance > 0].drop_duplicates(subset=[\"business_account_number\"], keep='last')\n",
    "last_trn_1000 = last_trn_1000[last_trn_1000.transaction_datetime >= pd.to_datetime(\"2021-01-01\")]\n",
    "last_trn_1000.shape"
   ]
  },
  {
   "cell_type": "code",
   "execution_count": 24,
   "id": "requested-heater",
   "metadata": {},
   "outputs": [],
   "source": [
    "# sample transactions... last 30 days of data\n",
    "import datetime as dt\n",
    "\n",
    "cutoff = pd.to_datetime(\"2021-01-01\") - dt.timedelta(31)\n",
    "df_ = df_has_dd[df_has_dd.transaction_datetime >= cutoff]\n",
    "df_.sort_values(by=[\"business_account_number\", \"transaction_datetime\"], inplace=True)"
   ]
  },
  {
   "cell_type": "code",
   "execution_count": 25,
   "id": "viral-vienna",
   "metadata": {},
   "outputs": [],
   "source": [
    "df_.loc[last_trn_1000.index, \"keep\"] = True\n",
    "# df_[\"is_last_1000\"].fillna(False, inplace=True)\n",
    "df_[\"keep\"] = df_.groupby(\"business_account_number\")[\"keep\"].fillna(method=\"bfill\")\n",
    "df_[\"keep\"].fillna(False, inplace=True)\n",
    "df_ = df_[df_.keep]"
   ]
  },
  {
   "cell_type": "code",
   "execution_count": 26,
   "id": "played-insulation",
   "metadata": {},
   "outputs": [],
   "source": [
    "df_.loc[last_trn_1000.index, \"type\"] = \"last_trn\"\n",
    "df_[\"type\"].fillna(\"prev_trns\", inplace=True)"
   ]
  },
  {
   "cell_type": "code",
   "execution_count": 27,
   "id": "otherwise-syntax",
   "metadata": {},
   "outputs": [],
   "source": [
    "# modify next transactions\n",
    "df_to_modify = df_[df_.type == \"last_trn\"].copy()\n",
    "df_to_modify[\"transaction_datetime\"] = df_to_modify[\"transaction_datetime\"] + dt.timedelta(1)\n",
    "df_to_modify[\"transaction_code\"] = np.random.choice(df_pop.transaction_code, size=len(df_to_modify))\n",
    "df_to_modify[\"transaction_amount\"] = -df_to_modify[\"real_ending_balance\"] - np.random.random(size=len(df_to_modify)) * 50\n",
    "df_to_modify[\"real_ending_balance\"] = df_to_modify[\"real_ending_balance\"] + df_to_modify[\"transaction_amount\"]\n",
    "\n",
    "# we can set types by whether it is a return: or set all of False\n",
    "df_to_modify[\"is_return\"] = np.random.choice(df_pop.is_return, size=len(df_to_modify))\n",
    "df_to_modify[\"type\"] = \"modified\""
   ]
  },
  {
   "cell_type": "code",
   "execution_count": 28,
   "id": "revised-dubai",
   "metadata": {},
   "outputs": [],
   "source": [
    "transactions_df = pd.concat([df_, df_to_modify]).reset_index(drop=True)"
   ]
  },
  {
   "cell_type": "code",
   "execution_count": 29,
   "id": "essential-slovak",
   "metadata": {},
   "outputs": [
    {
     "data": {
      "text/plain": [
       "prev_trns    4493210\n",
       "last_trn       48350\n",
       "modified       48350\n",
       "Name: type, dtype: int64"
      ]
     },
     "execution_count": 29,
     "metadata": {},
     "output_type": "execute_result"
    }
   ],
   "source": [
    "transactions_df[\"type\"].value_counts()"
   ]
  },
  {
   "cell_type": "code",
   "execution_count": 30,
   "id": "innovative-palace",
   "metadata": {},
   "outputs": [
    {
     "data": {
      "text/plain": [
       "['nr_trans_ratio',\n",
       " 'transaction_code_encoded',\n",
       " 'transaction_as_pct_of_balance',\n",
       " 'max_withdrawals_30d',\n",
       " 'mean_account_balance_30d',\n",
       " 'nr_returns_30d',\n",
       " 'dollar_val_returns',\n",
       " 'dollar_val_returns_3d',\n",
       " 'bal_ratio']"
      ]
     },
     "execution_count": 30,
     "metadata": {},
     "output_type": "execute_result"
    }
   ],
   "source": [
    "F = \"\"\"nr_trans_ratio, transaction_code_encoded, transaction_as_pct_of_balance, max_withdrawals_30d, mean_account_balance_30d,\n",
    "       nr_returns_30d, dollar_val_returns, dollar_val_returns_3d, bal_ratio\"\"\".split(\",\")\n",
    "F = [f.strip() for f in F]\n",
    "F"
   ]
  },
  {
   "cell_type": "code",
   "execution_count": 31,
   "id": "adjacent-railway",
   "metadata": {},
   "outputs": [],
   "source": [
    "from multiprocessing import Pool, cpu_count\n",
    "\n",
    "def applyParallel(dfGrouped, func):\n",
    "    \"\"\" Helper to parallelize apply over groupby \"\"\"\n",
    "    with Pool(cpu_count()) as p:\n",
    "        ret_list = p.map(func, [group for name, group in dfGrouped])\n",
    "    return pd.concat(ret_list)\n",
    "\n",
    "def func(df_):\n",
    "    print(\"to overwrite\")\n"
   ]
  },
  {
   "cell_type": "code",
   "execution_count": 32,
   "id": "hourly-bennett",
   "metadata": {},
   "outputs": [
    {
     "name": "stdout",
     "output_type": "stream",
     "text": [
      "CPU times: user 1min 11s, sys: 31.8 s, total: 1min 43s\n",
      "Wall time: 1min 48s\n"
     ]
    }
   ],
   "source": [
    "%%time\n",
    "# nr_trans_ratio\n",
    "deposit_transaction_codes = [\n",
    "    \"POSDD\",\n",
    "    \"ACHDD\",\n",
    "    \"ACHDDIN\",\n",
    "    \"ACHINDD\",\n",
    "    \"DDCK\",\n",
    "    \"DDMBR\",\n",
    "    \"DD\",\n",
    "]\n",
    "withdrawal_transaction_codes = [\n",
    "    \"POSDW\",\n",
    "    \"ACHDW\",\n",
    "    \"ACHDWIN\",\n",
    "    \"DWATM\",\n",
    "    \"DWATMI\",\n",
    "    \"DWCK\",\n",
    "    \"DWBILLPAY\",\n",
    "    \"DWCRDBILLPAY\",\n",
    "    \"DWMBR\",\n",
    "    \"ACHDWP2P\",\n",
    "    \"DWWIRE\",\n",
    "    \"DBDWWIRE\",\n",
    "    \"DWTRF\",\n",
    "    \"DBDW\",\n",
    "    \"DWSLROTP\",\n",
    "    \"DW\",\n",
    "]\n",
    "transactions_df[\"is_trans\"] = transactions_df[\"transaction_code\"].isin(\n",
    "    deposit_transaction_codes + withdrawal_transaction_codes\n",
    ")\n",
    "\n",
    "def func(df_): return df_.rolling('3d',min_periods=1,on='transaction_datetime')['is_trans'].sum()\n",
    "transactions_df['nr_transactions_3d']=applyParallel(transactions_df.groupby('business_account_number'), func).values\n",
    "\n",
    "def func(df_): return df_.rolling('30d',min_periods=1,on='transaction_datetime')['is_trans'].sum()\n",
    "transactions_df['nr_transactions_30d']=applyParallel(transactions_df.groupby('business_account_number'), func).values\n",
    "\n",
    "transactions_df[\"nr_trans_ratio\"] = (\n",
    "    transactions_df[\"nr_transactions_3d\"] / transactions_df[\"nr_transactions_30d\"]\n",
    ")\n"
   ]
  },
  {
   "cell_type": "code",
   "execution_count": 33,
   "id": "mexican-banks",
   "metadata": {},
   "outputs": [
    {
     "name": "stdout",
     "output_type": "stream",
     "text": [
      "CPU times: user 29.4 ms, sys: 25.2 ms, total: 54.6 ms\n",
      "Wall time: 54 ms\n"
     ]
    }
   ],
   "source": [
    "%%time\n",
    "# transaction_as_pct_of_balance\n",
    "transactions_df[\"transaction_as_pct_of_balance\"] = transactions_df[\n",
    "        \"transaction_amount\"\n",
    "    ] / (transactions_df[\"real_ending_balance\"] - transactions_df[\"transaction_amount\"])\n"
   ]
  },
  {
   "cell_type": "code",
   "execution_count": 34,
   "id": "centered-island",
   "metadata": {},
   "outputs": [
    {
     "name": "stdout",
     "output_type": "stream",
     "text": [
      "CPU times: user 34.9 s, sys: 14.8 s, total: 49.8 s\n",
      "Wall time: 52.4 s\n"
     ]
    }
   ],
   "source": [
    "%%time\n",
    "# mean_account_balance_30d\n",
    "def func(df_): return df_.rolling('30d',min_periods=1,on='transaction_datetime')['real_ending_balance'].mean()\n",
    "transactions_df['mean_account_balance_30d']=applyParallel(transactions_df.groupby('business_account_number'), func).values"
   ]
  },
  {
   "cell_type": "code",
   "execution_count": 35,
   "id": "unknown-sacrifice",
   "metadata": {},
   "outputs": [
    {
     "name": "stdout",
     "output_type": "stream",
     "text": [
      "CPU times: user 35.2 s, sys: 14.8 s, total: 50 s\n",
      "Wall time: 52.5 s\n"
     ]
    }
   ],
   "source": [
    "%%time\n",
    "# dollar_val_returns\n",
    "transactions_df[\"dollar_val_returns\"] = transactions_df.groupby(\n",
    "    \"business_account_number\"\n",
    ")[\"return_dollar_amount\"].cumsum()\n",
    "\n",
    "# dollar_val_returns_3d\n",
    "def func(df_): return df_.rolling('3d',min_periods=1,on='transaction_datetime')['return_dollar_amount'].sum()\n",
    "transactions_df['dollar_val_returns_3d']=applyParallel(transactions_df.groupby('business_account_number'), func).values\n",
    "\n"
   ]
  },
  {
   "cell_type": "code",
   "execution_count": 36,
   "id": "coral-beverage",
   "metadata": {},
   "outputs": [
    {
     "name": "stdout",
     "output_type": "stream",
     "text": [
      "CPU times: user 1min 9s, sys: 30.1 s, total: 1min 39s\n",
      "Wall time: 1min 43s\n"
     ]
    }
   ],
   "source": [
    "%%time\n",
    "# bal_ratio\n",
    "def func(df_): return df_.rolling('3d',min_periods=1,on='transaction_datetime')['real_ending_balance'].mean()\n",
    "transactions_df['mean_account_balance_3d']=applyParallel(transactions_df.groupby('business_account_number'), func).values\n",
    "\n",
    "def func(df_): return df_.rolling('30d',min_periods=1,on='transaction_datetime')['real_ending_balance'].mean()\n",
    "transactions_df['mean_account_balance_30d']=applyParallel(transactions_df.groupby('business_account_number'), func).values\n",
    "\n",
    "transactions_df[\"bal_ratio\"] = (\n",
    "    transactions_df[\"mean_account_balance_3d\"]\n",
    "    / transactions_df[\"mean_account_balance_30d\"]\n",
    ")\n"
   ]
  },
  {
   "cell_type": "code",
   "execution_count": 37,
   "id": "bulgarian-illinois",
   "metadata": {},
   "outputs": [
    {
     "name": "stdout",
     "output_type": "stream",
     "text": [
      "CPU times: user 34.3 s, sys: 15.1 s, total: 49.4 s\n",
      "Wall time: 51.7 s\n"
     ]
    }
   ],
   "source": [
    "%%time\n",
    "# nr_returns_30d\n",
    "transactions_df[\"is_return\"] = transactions_df[\"transaction_code\"].isin(\n",
    "    [\"DWCKCB\", \"DWACHRET\", \"DDACHRET\"]\n",
    ") | (\n",
    "    (transactions_df[\"transaction_code\"].isin(deposit_transaction_codes))\n",
    "    & (transactions_df[\"transaction_amount\"] < 0)\n",
    ")\n",
    "transactions_df[\"nr_past_returns\"] = transactions_df.groupby(\n",
    "    \"business_account_number\"\n",
    ")[\"is_return\"].cumsum()\n",
    "\n",
    "def func(df_): return df_.rolling('30d',min_periods=1,on='transaction_datetime')['is_return'].sum()\n",
    "transactions_df['nr_returns_30d']=applyParallel(transactions_df.groupby('business_account_number'), func).values"
   ]
  },
  {
   "cell_type": "markdown",
   "id": "associate-plymouth",
   "metadata": {},
   "source": [
    "#### Save DF"
   ]
  },
  {
   "cell_type": "code",
   "execution_count": 38,
   "id": "fuzzy-sheet",
   "metadata": {},
   "outputs": [],
   "source": [
    "transactions_df.to_parquet(\"../../artifacts/20210313-negative-bal-on-ACHINDD/transactions_df.parquet\")"
   ]
  },
  {
   "cell_type": "code",
   "execution_count": 39,
   "id": "hourly-buyer",
   "metadata": {},
   "outputs": [
    {
     "data": {
      "text/plain": [
       "((4589910, 135),\n",
       " prev_trns    4493210\n",
       " last_trn       48350\n",
       " modified       48350\n",
       " Name: type, dtype: int64)"
      ]
     },
     "execution_count": 39,
     "metadata": {},
     "output_type": "execute_result"
    }
   ],
   "source": [
    "transactions_df.shape, transactions_df.type.value_counts()"
   ]
  },
  {
   "cell_type": "code",
   "execution_count": 40,
   "id": "accepting-belly",
   "metadata": {},
   "outputs": [
    {
     "data": {
      "text/plain": [
       "False    47342\n",
       "True      1008\n",
       "Name: is_return, dtype: int64"
      ]
     },
     "execution_count": 40,
     "metadata": {},
     "output_type": "execute_result"
    }
   ],
   "source": [
    "df_to_modify.is_return.value_counts()"
   ]
  },
  {
   "cell_type": "code",
   "execution_count": 41,
   "id": "lesbian-attraction",
   "metadata": {},
   "outputs": [],
   "source": [
    "mdf_before = transactions_df[transactions_df.type == \"last_trn\"].sort_values(\"borrower_id\")\n",
    "mdf_after = transactions_df[transactions_df.type == \"modified\"].sort_values(\"borrower_id\")"
   ]
  },
  {
   "cell_type": "code",
   "execution_count": 42,
   "id": "entitled-logic",
   "metadata": {},
   "outputs": [
    {
     "data": {
      "text/plain": [
       "array([86400000000000, 86400000000000, 86400000000000, ...,\n",
       "       86400000000000, 86400000000000, 86400000000000],\n",
       "      dtype='timedelta64[ns]')"
      ]
     },
     "execution_count": 42,
     "metadata": {},
     "output_type": "execute_result"
    }
   ],
   "source": [
    "(mdf_after.transaction_datetime.values - mdf_before.transaction_datetime.values)"
   ]
  },
  {
   "cell_type": "code",
   "execution_count": 43,
   "id": "united-medicare",
   "metadata": {},
   "outputs": [
    {
     "data": {
      "text/plain": [
       "48350"
      ]
     },
     "execution_count": 43,
     "metadata": {},
     "output_type": "execute_result"
    }
   ],
   "source": [
    "(mdf_after.transaction_datetime.values > mdf_before.transaction_datetime.values).sum()"
   ]
  },
  {
   "cell_type": "code",
   "execution_count": null,
   "id": "democratic-amount",
   "metadata": {},
   "outputs": [],
   "source": []
  }
 ],
 "metadata": {
  "kernelspec": {
   "display_name": "conda_ml_basic_py37",
   "language": "python",
   "name": "conda_ml_basic_py37"
  },
  "language_info": {
   "codemirror_mode": {
    "name": "ipython",
    "version": 3
   },
   "file_extension": ".py",
   "mimetype": "text/x-python",
   "name": "python",
   "nbconvert_exporter": "python",
   "pygments_lexer": "ipython3",
   "version": "3.7.10"
  }
 },
 "nbformat": 4,
 "nbformat_minor": 5
}
