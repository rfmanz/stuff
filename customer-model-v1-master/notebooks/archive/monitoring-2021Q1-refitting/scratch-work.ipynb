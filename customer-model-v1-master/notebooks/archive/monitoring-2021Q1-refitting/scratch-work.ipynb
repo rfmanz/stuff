{
 "cells": [
  {
   "cell_type": "code",
   "execution_count": 1,
   "id": "ced0524a",
   "metadata": {},
   "outputs": [],
   "source": [
    "import json\n",
    "import pandas as pd\n",
    "import datetime as dt"
   ]
  },
  {
   "cell_type": "code",
   "execution_count": 2,
   "id": "1477f16f",
   "metadata": {},
   "outputs": [],
   "source": [
    "with open(\"../../config.json\", \"r\") as f:\n",
    "    config = json.load(f)"
   ]
  },
  {
   "cell_type": "code",
   "execution_count": 4,
   "id": "0f4b47c0",
   "metadata": {},
   "outputs": [
    {
     "data": {
      "text/plain": [
       "['2019-03-15',\n",
       " '2019-05-27',\n",
       " '2019-08-08',\n",
       " '2019-10-20',\n",
       " '2020-01-01',\n",
       " '2020-03-14',\n",
       " '2020-05-26',\n",
       " '2020-07-01',\n",
       " '2020-08-01',\n",
       " '2020-09-01',\n",
       " '2020-10-01',\n",
       " '2020-11-01',\n",
       " '2020-12-01',\n",
       " '2021-01-01',\n",
       " '2021-02-01',\n",
       " '2021-03-01',\n",
       " '2021-03-12']"
      ]
     },
     "execution_count": 4,
     "metadata": {},
     "output_type": "execute_result"
    }
   ],
   "source": [
    "config[\"static_sample_dates\"]"
   ]
  },
  {
   "cell_type": "code",
   "execution_count": 6,
   "id": "92c541cc",
   "metadata": {},
   "outputs": [],
   "source": [
    "dates = pd.Series(config[\"static_sample_dates\"])\n",
    "dates = pd.to_datetime(dates)"
   ]
  },
  {
   "cell_type": "code",
   "execution_count": 8,
   "id": "6417adce",
   "metadata": {},
   "outputs": [
    {
     "data": {
      "text/plain": [
       "0        NaT\n",
       "1    73 days\n",
       "2    73 days\n",
       "3    73 days\n",
       "4    73 days\n",
       "5    73 days\n",
       "6    73 days\n",
       "7    36 days\n",
       "8    31 days\n",
       "9    31 days\n",
       "10   30 days\n",
       "11   31 days\n",
       "12   30 days\n",
       "13   31 days\n",
       "14   31 days\n",
       "15   28 days\n",
       "16   11 days\n",
       "dtype: timedelta64[ns]"
      ]
     },
     "execution_count": 8,
     "metadata": {},
     "output_type": "execute_result"
    }
   ],
   "source": [
    "dates.diff()"
   ]
  },
  {
   "cell_type": "code",
   "execution_count": 27,
   "id": "8e555dbc",
   "metadata": {},
   "outputs": [],
   "source": [
    "start = pd.to_datetime(\"2019-03-15\")\n",
    "new_dates = []\n",
    "while start < dt.datetime.now():\n",
    "    new_dates.append(start)\n",
    "    start += pd.Timedelta(\"73 days\")\n",
    "    \n",
    "new_dates = pd.Series(new_dates).dt.date.astype(str).tolist()"
   ]
  },
  {
   "cell_type": "code",
   "execution_count": 35,
   "id": "11e74cfe",
   "metadata": {},
   "outputs": [
    {
     "data": {
      "text/plain": [
       "['2019-03-15',\n",
       " '2019-05-27',\n",
       " '2019-08-08',\n",
       " '2019-10-20',\n",
       " '2020-01-01',\n",
       " '2020-03-14',\n",
       " '2020-05-26',\n",
       " '2020-08-07',\n",
       " '2020-10-19',\n",
       " '2020-12-31',\n",
       " '2021-01-01',\n",
       " '2021-02-01',\n",
       " '2021-03-14']"
      ]
     },
     "execution_count": 35,
     "metadata": {},
     "output_type": "execute_result"
    }
   ],
   "source": [
    "validation_dates = [\"2021-01-01\", \"2021-02-01\"]\n",
    "\n",
    "new_dates += validation_dates\n",
    "new_dates = sorted(set(new_dates))\n",
    "new_dates"
   ]
  },
  {
   "cell_type": "code",
   "execution_count": 36,
   "id": "0e84e2e5",
   "metadata": {},
   "outputs": [],
   "source": [
    "config[\"static_sample_dates\"] = new_dates"
   ]
  },
  {
   "cell_type": "code",
   "execution_count": 37,
   "id": "aae6aa6e",
   "metadata": {},
   "outputs": [],
   "source": [
    "with open(\"../../config.json\", \"w\") as f:\n",
    "    json.dump(config, f, indent=4)"
   ]
  },
  {
   "cell_type": "code",
   "execution_count": null,
   "id": "309e655b",
   "metadata": {},
   "outputs": [],
   "source": []
  }
 ],
 "metadata": {
  "kernelspec": {
   "display_name": "conda_customer_risk",
   "language": "python",
   "name": "conda_customer_risk"
  },
  "language_info": {
   "codemirror_mode": {
    "name": "ipython",
    "version": 3
   },
   "file_extension": ".py",
   "mimetype": "text/x-python",
   "name": "python",
   "nbconvert_exporter": "python",
   "pygments_lexer": "ipython3",
   "version": "3.7.10"
  }
 },
 "nbformat": 4,
 "nbformat_minor": 5
}
