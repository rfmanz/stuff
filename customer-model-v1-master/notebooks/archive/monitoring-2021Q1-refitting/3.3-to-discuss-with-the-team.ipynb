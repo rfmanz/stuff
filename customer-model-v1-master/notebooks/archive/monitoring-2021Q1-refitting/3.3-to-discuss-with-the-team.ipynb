{
 "cells": [
  {
   "cell_type": "markdown",
   "id": "saved-discount",
   "metadata": {},
   "source": [
    "## Gather Info for team discussion\n",
    "---\n",
    "\n",
    "Q: whether to use the fitted model, or should we drill deeper into it?"
   ]
  },
  {
   "cell_type": "markdown",
   "id": "experienced-austria",
   "metadata": {},
   "source": [
    "### Set up\n",
    "---\n",
    "\n",
    "* Incumbent Model\n",
    "    * trained using data from full year 2019\n",
    "* Refitted Model with original method (v1)\n",
    "    * trained with data from 2019/01/01 - 2020/11/30\n",
    "    * removed indeterminate during training\n",
    "* Refitted Model (v2)\n",
    "    * trained with data from 2019/01/01 - 2020/11/30\n",
    "    * did not remove indeterminate during training"
   ]
  },
  {
   "cell_type": "markdown",
   "id": "unique-reduction",
   "metadata": {},
   "source": [
    "### Objective\n",
    "---\n",
    "We have objectives:\n",
    "* We need good performance on the validation set to justify using the new model\n",
    "    * performance-wise, v2 >> incumbent >> v1\n",
    "    * ![performance](./artifacts/20201130_auc_ap.png)\n",
    "    \n",
    "* Model needs to perserve current user RGs as much as possible for better user experience\n",
    "    * We tried multiple methods to align new risk groups and the old one, and the behavior is quite different\n",
    "    * We scaled by bad rate, and here is the rescaled probability and risk group distribution\n",
    "    * ![pred_distr](./artifacts/pred_distr.png)\n",
    "    * ![rg_distr](./artifacts/rg_distr.png)\n",
    "    * The preserved risk group population caps at 64.4%, with the prediction aligned by bad rate\n",
    "    * ![rg shift](./artifacts/rg_shift.png)\n",
    "    * Lastly, let's look at swap set. The refitted model perform well on the validation data.\n",
    "    * ![](./artifacts/swapset-stats.png)\n",
    "* Model should not be too lenient with inactive accounts\n",
    "    * Actually, this issue is cured by the prediction rescaling by bad rate\n",
    "    * ![](./artifacts/score_distr_by_activenss_n_target.png)"
   ]
  },
  {
   "cell_type": "markdown",
   "id": "tight-employee",
   "metadata": {},
   "source": [
    "### Conclusion\n",
    "---\n",
    "* Loop back to our goal\n",
    "    * There are two thresholds in the documentations\n",
    "    * ![here](./artifacts/customer-omp.png)\n",
    "    * Where we are at with the old model:\n",
    "        * ![result](./artifacts/customer-model-perf-20201201.png)\n",
    "        * The relative performance threshold persists, just the absolute one is no longer effective. And with our study, we have not been able to achieve the absolute threshold with the refitted model either.\n",
    "        * model vs. fico AUC: 1.12\n",
    "        * model vs. fico AP: 9.5\n",
    "* There is a trade-off between implementing the old and the new model. The user population thus features shifted between now and then which contributed to the shift in user risk groups. The questions are\n",
    "    1. can we keep using the same model\n",
    "    2. is it a worthy trade-off by swapping in with the refitted model.\n",
    "* Another alternative can be keep using the current model, and let's plan for a re-development in the future. We have a few updates that is waiting for inclusion anyways:\n",
    "    * Monotonic constraints\n",
    "    * Upgraded data pipeline"
   ]
  },
  {
   "cell_type": "code",
   "execution_count": null,
   "id": "defensive-double",
   "metadata": {},
   "outputs": [],
   "source": []
  },
  {
   "cell_type": "code",
   "execution_count": null,
   "id": "hundred-pixel",
   "metadata": {},
   "outputs": [],
   "source": []
  }
 ],
 "metadata": {
  "kernelspec": {
   "display_name": "conda_customer_risk",
   "language": "python",
   "name": "conda_customer_risk"
  },
  "language_info": {
   "codemirror_mode": {
    "name": "ipython",
    "version": 3
   },
   "file_extension": ".py",
   "mimetype": "text/x-python",
   "name": "python",
   "nbconvert_exporter": "python",
   "pygments_lexer": "ipython3",
   "version": "3.7.10"
  }
 },
 "nbformat": 4,
 "nbformat_minor": 5
}
