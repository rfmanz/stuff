{
 "cells": [
  {
   "cell_type": "markdown",
   "id": "bb58c7d5",
   "metadata": {},
   "source": [
    "## Customer Model with Reduced Features\n",
    "---\n",
    "\n",
    "With Customer Risk model feature outgrowning machine size, let's find ways to circumvent this issue.\n",
    "\n",
    "In the previous notebook 4.3, we listed 4 options\n",
    "* break data by chunks\n",
    "* sample ids\n",
    "* build model with reduced features\n",
    "* switch to distributed computing\n",
    "\n",
    "Let's address option 3 here.\n",
    "\n",
    "A couple variations\n",
    "* with/without indeterminate\n",
    "* old/new indeterminate\n",
    "* monotonic constraints\n",
    "* weighing by indeterminate classes...\n"
   ]
  },
  {
   "cell_type": "code",
   "execution_count": 38,
   "id": "689de2f5",
   "metadata": {},
   "outputs": [
    {
     "name": "stdout",
     "output_type": "stream",
     "text": [
      "The autoreload extension is already loaded. To reload it, use:\n",
      "  %reload_ext autoreload\n"
     ]
    }
   ],
   "source": [
    "import sys, os, json\n",
    "sys.path.insert(1, \"../../\")\n",
    "import pandas as pd\n",
    "import numpy as np\n",
    "from tqdm import tqdm\n",
    "import matplotlib.pyplot as plt\n",
    "import pickle as pkl\n",
    "import seaborn as sns\n",
    "import lightgbm as lgb\n",
    "import src.monitoring.utils as mu\n",
    "import src.monitoring.monitoring as mntr\n",
    "import rdsutils.score_alignment as sa\n",
    "\n",
    "%matplotlib inline\n",
    "plt.style.use('seaborn')\n",
    "\n",
    "%load_ext autoreload\n",
    "%autoreload 2\n",
    "\n",
    "import warnings\n",
    "warnings.filterwarnings(\"ignore\")"
   ]
  },
  {
   "cell_type": "markdown",
   "id": "9a9629ae",
   "metadata": {},
   "source": [
    "### Data\n",
    "---"
   ]
  },
  {
   "cell_type": "code",
   "execution_count": 2,
   "id": "91bb51c1",
   "metadata": {},
   "outputs": [],
   "source": [
    "mmonth = \"202103\"\n",
    "s3_base_path = f\"s3://sofi-data-science/jxu/money-risk-models/customer-risk-model/monitor/{mmonth}\"\n",
    "train_df = pd.read_parquet(os.path.join(s3_base_path, \"dev_train_20201201_scored.parquet\"))\n",
    "test_df = pd.read_parquet(os.path.join(s3_base_path, \"dev_test_20201201_scored.parquet\"))"
   ]
  },
  {
   "cell_type": "code",
   "execution_count": 3,
   "id": "bf74b0b5",
   "metadata": {},
   "outputs": [],
   "source": [
    "# mmonth = \"202103\"\n",
    "# s3_base_path = f\"s3://sofi-data-science/jxu/money-risk-models/customer-risk-model/monitor/{mmonth}\"\n",
    "\n",
    "# train_df = pd.read_parquet(os.path.join(s3_base_path, \"dev_train_20190201_20201130.parquet\"))\n",
    "# test_df = pd.read_parquet(os.path.join(s3_base_path, \"dev_test_20201201.parquet\"))"
   ]
  },
  {
   "cell_type": "code",
   "execution_count": 4,
   "id": "bd72b3e9",
   "metadata": {},
   "outputs": [
    {
     "data": {
      "text/plain": [
       "<AxesSubplot:>"
      ]
     },
     "execution_count": 4,
     "metadata": {},
     "output_type": "execute_result"
    },
    {
     "data": {
      "image/png": "[encoded data removed]",
      "text/plain": [
       "<Figure size 576x396 with 1 Axes>"
      ]
     },
     "metadata": {},
     "output_type": "display_data"
    }
   ],
   "source": [
    "train_df.sample_date.hist(bins=100)\n",
    "test_df.sample_date.hist(bins=1)"
   ]
  },
  {
   "cell_type": "code",
   "execution_count": 5,
   "id": "97f366b4",
   "metadata": {},
   "outputs": [
    {
     "data": {
      "text/plain": [
       "target  indeterminate\n",
       "False   False            0.554642\n",
       "        True             0.412082\n",
       "True    False            0.002912\n",
       "        True             0.030365\n",
       "dtype: float64"
      ]
     },
     "execution_count": 5,
     "metadata": {},
     "output_type": "execute_result"
    }
   ],
   "source": [
    "# def build_indeterminate(df):\n",
    "#     return ((pd.to_datetime(df[\"dtc\"]) <= df[\"sample_date\"])\n",
    "#             | (df[\"last_unrestricted_date\"] <= df[\"sample_date\"])\n",
    "#             | (df[\"chg_wrt_off_date\"] <= df[\"sample_date\"])\n",
    "#             | (df[\"target\"] & (df[\"latest_acc_bal\"] > 0))\n",
    "#             | (\n",
    "#                 ~df[\"target\"] & (~df[\"chg_wrt_off_date\"].isna())\n",
    "#                 | (df[\"latest_acc_bal\"] < 0)\n",
    "#                 | (\n",
    "#                     df[\"closed_reason\"].isin(\n",
    "#                         [\n",
    "#                             \"Closed by SoFi - Risk Request\",\n",
    "#                             \"Closed by SoFi - Charge-Off / Write-Off\",\n",
    "#                         ]\n",
    "#                     )\n",
    "#                 )\n",
    "#                 | (df[\"restricted_reason\"].str.startswith(\"No\"))\n",
    "#             ))\n",
    "   \n",
    "# train_df[\"indeterminate\"] = build_indeterminate(train_df)\n",
    "# test_df[\"indeterminate\"] = build_indeterminate(test_df)\n",
    "train_df[[\"target\", \"indeterminate\"]].value_counts(normalize=True).sort_index()"
   ]
  },
  {
   "cell_type": "code",
   "execution_count": 6,
   "id": "366a7c06",
   "metadata": {},
   "outputs": [
    {
     "data": {
      "text/plain": [
       "False    2627855\n",
       "True     2085333\n",
       "Name: indeterminate, dtype: int64"
      ]
     },
     "execution_count": 6,
     "metadata": {},
     "output_type": "execute_result"
    }
   ],
   "source": [
    "train_df.indeterminate.value_counts()"
   ]
  },
  {
   "cell_type": "code",
   "execution_count": 7,
   "id": "d4c45c69",
   "metadata": {},
   "outputs": [
    {
     "data": {
      "text/plain": [
       "(False    0.966724\n",
       " True     0.033276\n",
       " Name: target, dtype: float64,\n",
       " False    0.988956\n",
       " True     0.011044\n",
       " Name: target, dtype: float64)"
      ]
     },
     "execution_count": 7,
     "metadata": {},
     "output_type": "execute_result"
    }
   ],
   "source": [
    "train_df.target.value_counts(normalize=True), test_df.target.value_counts(normalize=True)"
   ]
  },
  {
   "cell_type": "markdown",
   "id": "0d172b7a",
   "metadata": {},
   "source": [
    "### Select Features\n",
    "---"
   ]
  },
  {
   "cell_type": "code",
   "execution_count": 8,
   "id": "390be789",
   "metadata": {},
   "outputs": [],
   "source": [
    "from collections import defaultdict\n",
    "\n",
    "def encode_defaults(df, default_values):\n",
    "    \"\"\"Replace default values with NaN, int encode them\"\"\"\n",
    "    default_encoded_cols = []\n",
    "    for k, (v, encode) in default_values.items():\n",
    "        cname = k + '_default_encoded'\n",
    "\n",
    "        if isinstance(v, pd.Interval):\n",
    "            is_default = ~df[k].between(v.left, v.right) & ~df[k].isna()\n",
    "        elif isinstance(v, list):\n",
    "            is_default = df[k].isin(k)\n",
    "        else:\n",
    "            raise RuntimeError('Data type {} not supported'.format(str(type(v))))\n",
    "        \n",
    "        if ~is_default.isna().all():\n",
    "            if encode:\n",
    "                default_encoded_cols.append(cname)\n",
    "                df.loc[is_default, cname] = is_default * df[k]\n",
    "            df.loc[is_default, k] = np.nan #set default values to NaN\n",
    "        \n",
    "    return df, default_encoded_cols\n",
    "\n",
    "\n",
    "cols_raw = ['first_deposit_amount', 'vantage_score', 'bcc7120', 'email_risk_score', \n",
    "            'fraud_score_2', 'name_email_correlation', 'transaction_as_pct_of_balance', \n",
    "            'mean_account_balance_30d', 'phone_risk_score',  # giact_time_since_last_link removed \n",
    "            'name_address_correlation', 'all8220', 'lag_acc_open_first_transaction', \n",
    "            'dollar_val_dd', 'all7120', 'sum_deposits_10d', 'nr_past_transactions', \n",
    "            'total_tradelines_open', 'education_loan_amount', 'address_risk_score',\n",
    "            'iqt9415', 'max_withdrawals_30d', 'iln5520', 'max_deposits_30d', \n",
    "            'pct_returned_deposits', 'giact_nr_decline', 'nr_direct_deposits', \n",
    "            'time_since_last_transaction', 'bal_ratio', 'name_phone_correlation', \n",
    "            'giact_nr_other', 'dollar_val_returns', 'nr_trans_ratio', 'iqt9413', \n",
    "            'dollar_val_returns_3d', 'nr_returns_30d', 'credit_card_loan_amount',\n",
    "            'fraud_score_1', 'age_money_account']\n",
    "\n",
    "cols_raw_ni = ['transaction_code']\n",
    "\n",
    "cols_encoded = ['transaction_code_encoded', 'all7120_default_encoded', 'bcc7120_default_encoded']\n",
    "\n",
    "features = cols_raw + cols_encoded\n",
    "\n",
    "default_values = {\n",
    "    'vantage_score': [pd.Interval(300, 850), False],\n",
    "    'all7120': [pd.Interval(0, 990), True],\n",
    "    'all8220': [pd.Interval(0, 9990), False],\n",
    "    'bcc7120': [pd.Interval(0, 990), True],\n",
    "    'iln5520': [pd.Interval(0, 999999990), False],\n",
    "    'iqt9413': [pd.Interval(0, 90), False]\n",
    "}\n",
    "\n",
    "def preprocess(df):\n",
    "    \"\"\"\n",
    "    Code to preprocess model.\n",
    "    \"\"\"\n",
    "    # mapping from transaction code to integer\n",
    "    tcode_map = defaultdict(int,\n",
    "                            {'POSDW': 1,\n",
    "                             'ACHDD': 2,\n",
    "                             'ACHDWIN': 3,\n",
    "                             'ACHDDIN': 4,\n",
    "                             'ACHDW': 5,\n",
    "                             'ACHINDD': 6,\n",
    "                             'DDATMREFUND': 7,\n",
    "                             'DWATM': 8,\n",
    "                             'DDRAFNEW':9,\n",
    "                             'DDCK': 10})\n",
    "\n",
    "    df['transaction_code_encoded'] = df['transaction_code'].map(tcode_map)\n",
    "    \n",
    "    # clip to handle infinite values and outliers\n",
    "    df['transaction_as_pct_of_balance'] = df['transaction_as_pct_of_balance'].clip(-750, 750)\n",
    "    df['bal_ratio'] = df['bal_ratio'].clip(-750, 750)\n",
    "    df['pct_returned_deposits'] = df['pct_returned_deposits'].clip(0, 100)\n",
    "\n",
    "    # fill na here with 0, can't be NaN just indicates lack of data\n",
    "    df['transaction_as_pct_of_balance'] = df['transaction_as_pct_of_balance'].fillna(0)\n",
    "    df['max_withdrawals_30d'] = df['max_withdrawals_30d'].fillna(0)\n",
    "    df['max_deposits_30d'] = df['max_deposits_30d'].fillna(0)\n",
    "    df['pct_returned_deposits'] = df['pct_returned_deposits'].fillna(0)\n",
    "    df['bal_ratio'] = df['bal_ratio'].fillna(0)\n",
    "    df['sum_deposits_10d'] = df['sum_deposits_10d'].fillna(0)\n",
    "    df['mean_account_balance_30d'] = df['mean_account_balance_30d'].fillna(0)\n",
    "    df['dollar_val_dd'] = df['dollar_val_dd'].fillna(0) \n",
    "    df['nr_direct_deposits'] = df['nr_direct_deposits'].fillna(0)\n",
    "    df['nr_past_transactions'] = df['nr_past_transactions'].fillna(0)\n",
    "    df['dollar_val_returns'] = df['dollar_val_returns'].fillna(0)\n",
    "    df['dollar_val_returns_3d'] = df['dollar_val_returns_3d'].fillna(0)\n",
    "    df['nr_returns_30d'] = df['nr_returns_30d'].fillna(0)\n",
    "\n",
    "    # fill na here with -1 indicating that this is the first ever transaction/giact never linked\n",
    "    df['time_since_last_transaction'] = df['time_since_last_transaction'].fillna(-1)\n",
    "    # df['giact_time_since_last_link'] = df['giact_time_since_last_link'].fillna(-1)\n",
    "    df['giact_nr_decline'] = df['giact_nr_decline'].fillna(-1)\n",
    "    df['giact_nr_other'] = df['giact_nr_other'].fillna(-1)\n",
    "    df['nr_trans_ratio'] = df['nr_trans_ratio'].fillna(-1)\n",
    "    df['first_deposit_amount'] = df['first_deposit_amount'].fillna(-1)\n",
    "    df['lag_acc_open_first_transaction'] = df['lag_acc_open_first_transaction'].fillna(-1)\n",
    "    \n",
    "    df, _ = encode_defaults(df, default_values)\n",
    "    \n",
    "    df['all7120_default_encoded'] = df['all7120_default_encoded'].fillna(-1)\n",
    "    df['bcc7120_default_encoded'] = df['bcc7120_default_encoded'].fillna(-1)\n",
    "    \n",
    "    return df"
   ]
  },
  {
   "cell_type": "code",
   "execution_count": 9,
   "id": "9e3a50fc",
   "metadata": {},
   "outputs": [],
   "source": [
    "train_df = preprocess(train_df)\n",
    "test_df = preprocess(test_df)"
   ]
  },
  {
   "cell_type": "code",
   "execution_count": 10,
   "id": "95efcb07",
   "metadata": {},
   "outputs": [],
   "source": [
    "# features to keep\n",
    "cols_raw_reduced = ['address_risk_score', 'age_money_account', 'all7120', \n",
    "                    'all8220', 'bcc7120', 'credit_card_loan_amount', \n",
    "                    'dollar_val_dd', 'dollar_val_returns', 'dollar_val_returns_3d',\n",
    "                    'education_loan_amount', 'email_risk_score', 'first_deposit_amount', \n",
    "                    'fraud_score_1', 'fraud_score_2', 'giact_nr_decline', \n",
    "                    'giact_nr_other', 'iln5520', 'iqt9413', 'iqt9415', \n",
    "                    'lag_acc_open_first_transaction', 'name_address_correlation',\n",
    "                    'name_email_correlation', 'name_phone_correlation', \n",
    "                    'nr_direct_deposits', 'nr_past_transactions', 'pct_returned_deposits',\n",
    "                    'phone_risk_score', 'sum_deposits_10d', 'time_since_last_transaction', \n",
    "                    'total_tradelines_open', 'transaction_as_pct_of_balance', 'vantage_score']\n",
    "# removed features\n",
    "# giact_time_since_last_link, max_withdrawals_30d, nr_returns_30d\n",
    "# max_deposits_30d, mean_account_balance_30d, nr_trans_ratio, bal_ratio\n",
    "\n",
    "cols_encoded_reduced = ['transaction_code_encoded', 'all7120_default_encoded', 'bcc7120_default_encoded']\n",
    "\n",
    "features_reduced = cols_raw_reduced + cols_encoded_reduced"
   ]
  },
  {
   "cell_type": "markdown",
   "id": "69822843",
   "metadata": {},
   "source": [
    "### Refit\n",
    "---"
   ]
  },
  {
   "cell_type": "code",
   "execution_count": 96,
   "id": "e2f59ce3",
   "metadata": {},
   "outputs": [
    {
     "name": "stdout",
     "output_type": "stream",
     "text": [
      "15556\n"
     ]
    }
   ],
   "source": [
    "seed = 15556\n",
    "print(seed)\n",
    "    \n",
    "scale_by_bad_rate = False\n",
    "indeterminate_col = None # \"indeterminate\"  or None\n",
    "\n",
    "params = {\n",
    "        \"objective\" : \"binary\",\n",
    "        \"metric\" : \"auc\",\n",
    "        \"boosting\": 'gbdt',\n",
    "        \"num_iterations\": 1400,  # 1400, 200\n",
    "        \"max_depth\" : 4,\n",
    "        \"num_leaves\" : 15,\n",
    "        \"learning_rate\" : 0.03,\n",
    "        \"feature_fraction\" : 0.8,\n",
    "        \"subsample\": 0.94,\n",
    "        \"lambda_l1\": 16,\n",
    "        \"lambda_l2\": 10,\n",
    "        \"min_data_in_leaf\": 116,\n",
    "        \"tree_learner\": \"feature\",\n",
    "        \"bagging_seed\" : seed,\n",
    "        \"verbosity\" : 1,\n",
    "        \"seed\": seed,\n",
    "        \"categorical_feature\": [39, 40, 41]  # with giact_time_since_last_link [40, 41, 42]\n",
    "    }"
   ]
  },
  {
   "cell_type": "code",
   "execution_count": 97,
   "id": "2ebf76d6",
   "metadata": {},
   "outputs": [],
   "source": [
    "def train(modeling_df,\n",
    "          date_col=\"sample_date\", \n",
    "          indeterminate_col=\"indeterminate\",\n",
    "          params=None,\n",
    "          targets = [{'target_col_name': 'target'}]):\n",
    "    \"\"\"\n",
    "    Train and save model.\n",
    "    \"\"\"\n",
    "    \n",
    "    targ_cols = []\n",
    "    for t in targets:\n",
    "        targ_cols.extend(t.values())\n",
    "    \n",
    "    other_cols = []\n",
    "    if indeterminate_col is not None:\n",
    "        other_cols.append(indeterminate_col)\n",
    "    if date_col is not None:\n",
    "        other_cols.append(date_col)\n",
    "        \n",
    "    modeling_df = modeling_df.copy()\n",
    "    \n",
    "    if indeterminate_col in modeling_df.columns:\n",
    "        print(\"data statistics\", modeling_df.shape)\n",
    "        print(\"indeterminate removed!\")\n",
    "        modeling_df = modeling_df[~modeling_df[indeterminate_col]]\n",
    "        print(\"data statistics after removing indeterminate\", modeling_df.shape)\n",
    "        \n",
    "    \n",
    "    modeling_df = preprocess(modeling_df)\n",
    "    print(f\"modeling_df last date: {modeling_df[date_col].max()}\")\n",
    "    \n",
    "\n",
    "    print(targets)\n",
    "    for target_definion in targets:\n",
    "        target_col_name = target_definion['target_col_name']\n",
    "        if 'ind_col_name' in target_definion:\n",
    "            ind_col_name = target_definion['ind_col_name']\n",
    "        else:\n",
    "            ind_col_name = None\n",
    "        \n",
    "        if ind_col_name:\n",
    "            mdf = modeling_df[~modeling_df[ind_col_name]]\n",
    "        else:\n",
    "            mdf = modeling_df.copy()\n",
    "            \n",
    "        print(\"target counts\")\n",
    "        print(mdf[target_col_name].value_counts())\n",
    "        \n",
    "        count_pos = mdf[target_col_name].sum()\n",
    "        count_neg = (~mdf[target_col_name]).sum()\n",
    "        pos_wgt_scaling_factor = count_neg / count_pos\n",
    "        \n",
    "        params['scale_pos_weight'] = pos_wgt_scaling_factor\n",
    "        \n",
    "        X = mdf[features]\n",
    "        y = mdf[target_col_name]\n",
    "    \n",
    "        clf = lgb.LGBMClassifier(**params)\n",
    "        clf = clf.fit(X, y)\n",
    "        \n",
    "    \n",
    "    return clf"
   ]
  },
  {
   "cell_type": "code",
   "execution_count": 98,
   "id": "9c15f7ca",
   "metadata": {},
   "outputs": [
    {
     "name": "stdout",
     "output_type": "stream",
     "text": [
      "modeling_df last date: 2020-11-30 00:00:00\n",
      "[{'target_col_name': 'target'}]\n",
      "target counts\n",
      "False    4556350\n",
      "True      156838\n",
      "Name: target, dtype: int64\n",
      "[LightGBM] [Warning] feature_fraction is set=0.8, colsample_bytree=1.0 will be ignored. Current value: feature_fraction=0.8\n",
      "[LightGBM] [Warning] boosting is set=gbdt, boosting_type=gbdt will be ignored. Current value: boosting=gbdt\n",
      "[LightGBM] [Warning] min_data_in_leaf is set=116, min_child_samples=20 will be ignored. Current value: min_data_in_leaf=116\n",
      "[LightGBM] [Warning] lambda_l2 is set=10, reg_lambda=0.0 will be ignored. Current value: lambda_l2=10\n",
      "[LightGBM] [Warning] lambda_l1 is set=16, reg_alpha=0.0 will be ignored. Current value: lambda_l1=16\n",
      "[LightGBM] [Warning] feature_fraction is set=0.8, colsample_bytree=1.0 will be ignored. Current value: feature_fraction=0.8\n",
      "[LightGBM] [Warning] boosting is set=gbdt, boosting_type=gbdt will be ignored. Current value: boosting=gbdt\n",
      "[LightGBM] [Warning] min_data_in_leaf is set=116, min_child_samples=20 will be ignored. Current value: min_data_in_leaf=116\n",
      "[LightGBM] [Warning] lambda_l2 is set=10, reg_lambda=0.0 will be ignored. Current value: lambda_l2=10\n",
      "[LightGBM] [Warning] lambda_l1 is set=16, reg_alpha=0.0 will be ignored. Current value: lambda_l1=16\n",
      "[LightGBM] [Info] Number of positive: 156838, number of negative: 4556350\n",
      "[LightGBM] [Warning] Auto-choosing row-wise multi-threading, the overhead of testing was 0.161328 seconds.\n",
      "You can set `force_row_wise=true` to remove the overhead.\n",
      "And if memory is not enough, you can set `force_col_wise=true`.\n",
      "[LightGBM] [Info] Total Bins 7813\n",
      "[LightGBM] [Info] Number of data points in the train set: 4713188, number of used features: 41\n",
      "[LightGBM] [Info] [binary:BoostFromScore]: pavg=0.033276 -> initscore=-3.369064\n",
      "[LightGBM] [Info] Start training from score -3.369064\n",
      "[LightGBM] [Warning] No further splits with positive gain, best gain: -inf\n",
      "[LightGBM] [Warning] No further splits with positive gain, best gain: -inf\n",
      "[LightGBM] [Warning] No further splits with positive gain, best gain: -inf\n",
      "[LightGBM] [Warning] No further splits with positive gain, best gain: -inf\n",
      "[LightGBM] [Warning] No further splits with positive gain, best gain: -inf\n",
      "[LightGBM] [Warning] No further splits with positive gain, best gain: -inf\n",
      "[LightGBM] [Warning] No further splits with positive gain, best gain: -inf\n",
      "[LightGBM] [Warning] No further splits with positive gain, best gain: -inf\n",
      "[LightGBM] [Warning] No further splits with positive gain, best gain: -inf\n",
      "[LightGBM] [Warning] No further splits with positive gain, best gain: -inf\n",
      "[LightGBM] [Warning] No further splits with positive gain, best gain: -inf\n",
      "[LightGBM] [Warning] No further splits with positive gain, best gain: -inf\n",
      "[LightGBM] [Warning] No further splits with positive gain, best gain: -inf\n",
      "[LightGBM] [Warning] No further splits with positive gain, best gain: -inf\n",
      "[LightGBM] [Warning] No further splits with positive gain, best gain: -inf\n",
      "[LightGBM] [Warning] No further splits with positive gain, best gain: -inf\n",
      "[LightGBM] [Warning] No further splits with positive gain, best gain: -inf\n",
      "[LightGBM] [Warning] No further splits with positive gain, best gain: -inf\n",
      "[LightGBM] [Warning] No further splits with positive gain, best gain: -inf\n",
      "[LightGBM] [Warning] No further splits with positive gain, best gain: -inf\n",
      "[LightGBM] [Warning] No further splits with positive gain, best gain: -inf\n",
      "[LightGBM] [Warning] No further splits with positive gain, best gain: -inf\n",
      "[LightGBM] [Warning] No further splits with positive gain, best gain: -inf\n",
      "[LightGBM] [Warning] No further splits with positive gain, best gain: -inf\n",
      "[LightGBM] [Warning] No further splits with positive gain, best gain: -inf\n",
      "[LightGBM] [Warning] No further splits with positive gain, best gain: -inf\n",
      "[LightGBM] [Warning] No further splits with positive gain, best gain: -inf\n",
      "[LightGBM] [Warning] No further splits with positive gain, best gain: -inf\n",
      "[LightGBM] [Warning] No further splits with positive gain, best gain: -inf\n",
      "[LightGBM] [Warning] No further splits with positive gain, best gain: -inf\n",
      "[LightGBM] [Warning] No further splits with positive gain, best gain: -inf\n",
      "[LightGBM] [Warning] No further splits with positive gain, best gain: -inf\n",
      "[LightGBM] [Warning] No further splits with positive gain, best gain: -inf\n",
      "[LightGBM] [Warning] No further splits with positive gain, best gain: -inf\n",
      "[LightGBM] [Warning] No further splits with positive gain, best gain: -inf\n",
      "[LightGBM] [Warning] No further splits with positive gain, best gain: -inf\n",
      "[LightGBM] [Warning] No further splits with positive gain, best gain: -inf\n",
      "[LightGBM] [Warning] No further splits with positive gain, best gain: -inf\n",
      "[LightGBM] [Warning] No further splits with positive gain, best gain: -inf\n",
      "[LightGBM] [Warning] No further splits with positive gain, best gain: -inf\n",
      "[LightGBM] [Warning] No further splits with positive gain, best gain: -inf\n",
      "[LightGBM] [Warning] No further splits with positive gain, best gain: -inf\n",
      "[LightGBM] [Warning] No further splits with positive gain, best gain: -inf\n",
      "[LightGBM] [Warning] No further splits with positive gain, best gain: -inf\n",
      "[LightGBM] [Warning] No further splits with positive gain, best gain: -inf\n",
      "[LightGBM] [Warning] No further splits with positive gain, best gain: -inf\n",
      "[LightGBM] [Warning] No further splits with positive gain, best gain: -inf\n",
      "[LightGBM] [Warning] No further splits with positive gain, best gain: -inf\n",
      "[LightGBM] [Warning] No further splits with positive gain, best gain: -inf\n",
      "[LightGBM] [Warning] No further splits with positive gain, best gain: -inf\n",
      "[LightGBM] [Warning] No further splits with positive gain, best gain: -inf\n",
      "[LightGBM] [Warning] No further splits with positive gain, best gain: -inf\n",
      "[LightGBM] [Warning] No further splits with positive gain, best gain: -inf\n",
      "[LightGBM] [Warning] No further splits with positive gain, best gain: -inf\n",
      "[LightGBM] [Warning] No further splits with positive gain, best gain: -inf\n",
      "[LightGBM] [Warning] No further splits with positive gain, best gain: -inf\n",
      "[LightGBM] [Warning] No further splits with positive gain, best gain: -inf\n",
      "[LightGBM] [Warning] No further splits with positive gain, best gain: -inf\n",
      "[LightGBM] [Warning] No further splits with positive gain, best gain: -inf\n",
      "[LightGBM] [Warning] No further splits with positive gain, best gain: -inf\n",
      "[LightGBM] [Warning] No further splits with positive gain, best gain: -inf\n",
      "[LightGBM] [Warning] No further splits with positive gain, best gain: -inf\n",
      "[LightGBM] [Warning] No further splits with positive gain, best gain: -inf\n",
      "[LightGBM] [Warning] No further splits with positive gain, best gain: -inf\n",
      "[LightGBM] [Warning] No further splits with positive gain, best gain: -inf\n",
      "[LightGBM] [Warning] No further splits with positive gain, best gain: -inf\n",
      "[LightGBM] [Warning] No further splits with positive gain, best gain: -inf\n",
      "[LightGBM] [Warning] No further splits with positive gain, best gain: -inf\n",
      "[LightGBM] [Warning] No further splits with positive gain, best gain: -inf\n",
      "[LightGBM] [Warning] No further splits with positive gain, best gain: -inf\n",
      "[LightGBM] [Warning] No further splits with positive gain, best gain: -inf\n",
      "[LightGBM] [Warning] No further splits with positive gain, best gain: -inf\n",
      "[LightGBM] [Warning] No further splits with positive gain, best gain: -inf\n",
      "[LightGBM] [Warning] No further splits with positive gain, best gain: -inf\n",
      "[LightGBM] [Warning] No further splits with positive gain, best gain: -inf\n",
      "[LightGBM] [Warning] No further splits with positive gain, best gain: -inf\n",
      "[LightGBM] [Warning] No further splits with positive gain, best gain: -inf\n",
      "[LightGBM] [Warning] No further splits with positive gain, best gain: -inf\n",
      "[LightGBM] [Warning] No further splits with positive gain, best gain: -inf\n",
      "[LightGBM] [Warning] No further splits with positive gain, best gain: -inf\n",
      "[LightGBM] [Warning] No further splits with positive gain, best gain: -inf\n",
      "[LightGBM] [Warning] No further splits with positive gain, best gain: -inf\n",
      "[LightGBM] [Warning] No further splits with positive gain, best gain: -inf\n",
      "[LightGBM] [Warning] No further splits with positive gain, best gain: -inf\n",
      "[LightGBM] [Warning] No further splits with positive gain, best gain: -inf\n",
      "[LightGBM] [Warning] No further splits with positive gain, best gain: -inf\n",
      "[LightGBM] [Warning] No further splits with positive gain, best gain: -inf\n",
      "[LightGBM] [Warning] No further splits with positive gain, best gain: -inf\n",
      "[LightGBM] [Warning] No further splits with positive gain, best gain: -inf\n",
      "[LightGBM] [Warning] No further splits with positive gain, best gain: -inf\n",
      "[LightGBM] [Warning] No further splits with positive gain, best gain: -inf\n",
      "[LightGBM] [Warning] No further splits with positive gain, best gain: -inf\n",
      "[LightGBM] [Warning] No further splits with positive gain, best gain: -inf\n",
      "[LightGBM] [Warning] No further splits with positive gain, best gain: -inf\n",
      "[LightGBM] [Warning] No further splits with positive gain, best gain: -inf\n",
      "[LightGBM] [Warning] No further splits with positive gain, best gain: -inf\n",
      "[LightGBM] [Warning] No further splits with positive gain, best gain: -inf\n",
      "[LightGBM] [Warning] No further splits with positive gain, best gain: -inf\n",
      "[LightGBM] [Warning] No further splits with positive gain, best gain: -inf\n",
      "[LightGBM] [Warning] No further splits with positive gain, best gain: -inf\n",
      "[LightGBM] [Warning] No further splits with positive gain, best gain: -inf\n",
      "[LightGBM] [Warning] No further splits with positive gain, best gain: -inf\n",
      "[LightGBM] [Warning] No further splits with positive gain, best gain: -inf\n",
      "[LightGBM] [Warning] No further splits with positive gain, best gain: -inf\n",
      "[LightGBM] [Warning] No further splits with positive gain, best gain: -inf\n",
      "[LightGBM] [Warning] No further splits with positive gain, best gain: -inf\n",
      "[LightGBM] [Warning] No further splits with positive gain, best gain: -inf\n",
      "[LightGBM] [Warning] No further splits with positive gain, best gain: -inf\n",
      "[LightGBM] [Warning] No further splits with positive gain, best gain: -inf\n",
      "[LightGBM] [Warning] No further splits with positive gain, best gain: -inf\n",
      "[LightGBM] [Warning] No further splits with positive gain, best gain: -inf\n",
      "[LightGBM] [Warning] No further splits with positive gain, best gain: -inf\n",
      "[LightGBM] [Warning] No further splits with positive gain, best gain: -inf\n",
      "[LightGBM] [Warning] No further splits with positive gain, best gain: -inf\n",
      "[LightGBM] [Warning] No further splits with positive gain, best gain: -inf\n",
      "[LightGBM] [Warning] No further splits with positive gain, best gain: -inf\n",
      "[LightGBM] [Warning] No further splits with positive gain, best gain: -inf\n",
      "[LightGBM] [Warning] No further splits with positive gain, best gain: -inf\n",
      "[LightGBM] [Warning] No further splits with positive gain, best gain: -inf\n",
      "[LightGBM] [Warning] No further splits with positive gain, best gain: -inf\n",
      "[LightGBM] [Warning] No further splits with positive gain, best gain: -inf\n",
      "[LightGBM] [Warning] No further splits with positive gain, best gain: -inf\n",
      "[LightGBM] [Warning] No further splits with positive gain, best gain: -inf\n",
      "[LightGBM] [Warning] No further splits with positive gain, best gain: -inf\n",
      "[LightGBM] [Warning] No further splits with positive gain, best gain: -inf\n",
      "[LightGBM] [Warning] No further splits with positive gain, best gain: -inf\n",
      "[LightGBM] [Warning] No further splits with positive gain, best gain: -inf\n",
      "[LightGBM] [Warning] No further splits with positive gain, best gain: -inf\n",
      "[LightGBM] [Warning] No further splits with positive gain, best gain: -inf\n",
      "[LightGBM] [Warning] No further splits with positive gain, best gain: -inf\n",
      "[LightGBM] [Warning] No further splits with positive gain, best gain: -inf\n",
      "[LightGBM] [Warning] No further splits with positive gain, best gain: -inf\n",
      "[LightGBM] [Warning] No further splits with positive gain, best gain: -inf\n",
      "[LightGBM] [Warning] No further splits with positive gain, best gain: -inf\n",
      "[LightGBM] [Warning] No further splits with positive gain, best gain: -inf\n",
      "[LightGBM] [Warning] No further splits with positive gain, best gain: -inf\n",
      "[LightGBM] [Warning] No further splits with positive gain, best gain: -inf\n",
      "[LightGBM] [Warning] No further splits with positive gain, best gain: -inf\n",
      "[LightGBM] [Warning] No further splits with positive gain, best gain: -inf\n",
      "[LightGBM] [Warning] No further splits with positive gain, best gain: -inf\n",
      "[LightGBM] [Warning] No further splits with positive gain, best gain: -inf\n",
      "[LightGBM] [Warning] No further splits with positive gain, best gain: -inf\n",
      "[LightGBM] [Warning] No further splits with positive gain, best gain: -inf\n",
      "[LightGBM] [Warning] No further splits with positive gain, best gain: -inf\n",
      "[LightGBM] [Warning] No further splits with positive gain, best gain: -inf\n",
      "[LightGBM] [Warning] No further splits with positive gain, best gain: -inf\n",
      "[LightGBM] [Warning] No further splits with positive gain, best gain: -inf\n",
      "[LightGBM] [Warning] No further splits with positive gain, best gain: -inf\n",
      "[LightGBM] [Warning] No further splits with positive gain, best gain: -inf\n",
      "[LightGBM] [Warning] No further splits with positive gain, best gain: -inf\n",
      "[LightGBM] [Warning] No further splits with positive gain, best gain: -inf\n",
      "[LightGBM] [Warning] No further splits with positive gain, best gain: -inf\n",
      "[LightGBM] [Warning] No further splits with positive gain, best gain: -inf\n",
      "[LightGBM] [Warning] No further splits with positive gain, best gain: -inf\n",
      "[LightGBM] [Warning] No further splits with positive gain, best gain: -inf\n",
      "[LightGBM] [Warning] No further splits with positive gain, best gain: -inf\n",
      "[LightGBM] [Warning] No further splits with positive gain, best gain: -inf\n",
      "[LightGBM] [Warning] No further splits with positive gain, best gain: -inf\n",
      "[LightGBM] [Warning] No further splits with positive gain, best gain: -inf\n",
      "[LightGBM] [Warning] No further splits with positive gain, best gain: -inf\n",
      "[LightGBM] [Warning] No further splits with positive gain, best gain: -inf\n",
      "[LightGBM] [Warning] No further splits with positive gain, best gain: -inf\n",
      "[LightGBM] [Warning] No further splits with positive gain, best gain: -inf\n",
      "[LightGBM] [Warning] No further splits with positive gain, best gain: -inf\n",
      "[LightGBM] [Warning] No further splits with positive gain, best gain: -inf\n",
      "[LightGBM] [Warning] No further splits with positive gain, best gain: -inf\n",
      "[LightGBM] [Warning] No further splits with positive gain, best gain: -inf\n",
      "[LightGBM] [Warning] No further splits with positive gain, best gain: -inf\n",
      "[LightGBM] [Warning] No further splits with positive gain, best gain: -inf\n"
     ]
    }
   ],
   "source": [
    "model_reduced = train(train_df, date_col=\"sample_date\", \n",
    "                      indeterminate_col=None, params=params)"
   ]
  },
  {
   "cell_type": "code",
   "execution_count": 99,
   "id": "5c3c5a60",
   "metadata": {},
   "outputs": [
    {
     "data": {
      "text/plain": [
       "LGBMClassifier(bagging_seed=15556, boosting='gbdt',\n",
       "               categorical_feature=[39, 40, 41], feature_fraction=0.8,\n",
       "               lambda_l1=16, lambda_l2=10, learning_rate=0.03, max_depth=4,\n",
       "               metric='auc', min_data_in_leaf=116, num_iterations=1400,\n",
       "               num_leaves=15, objective='binary',\n",
       "               scale_pos_weight=29.051314094798453, seed=15556, subsample=0.94,\n",
       "               tree_learner='feature', verbosity=1)"
      ]
     },
     "execution_count": 99,
     "metadata": {},
     "output_type": "execute_result"
    }
   ],
   "source": [
    "model_reduced"
   ]
  },
  {
   "cell_type": "code",
   "execution_count": 100,
   "id": "aba5cdbc",
   "metadata": {},
   "outputs": [],
   "source": [
    "with open(\"../../artifacts/refitting-202021Q1/customer_risk_20201130_reduced.pkl\", \"wb\") as f:\n",
    "    pkl.dump(model_reduced, f)"
   ]
  },
  {
   "cell_type": "code",
   "execution_count": 101,
   "id": "4091e804",
   "metadata": {},
   "outputs": [],
   "source": [
    "score_cols = ['score_20191231', \n",
    "              'score_20201130_wo_ind', \n",
    "              'score_20201130_w_ind',\n",
    "              'score_20201130_reduced']\n",
    "\n",
    "# produce active indicator\n",
    "# had transactions in the past 30 days\n",
    "test_df[\"is_active\"] = (test_df.nr_past_transactions > 0) & (test_df.nr_transactions_30d > 0)\n",
    "df_ = test_df[test_df.is_active]"
   ]
  },
  {
   "cell_type": "code",
   "execution_count": 102,
   "id": "0cd33d54",
   "metadata": {},
   "outputs": [],
   "source": [
    "train_df[\"pred_20201130_reduced\"] = model_reduced.predict_proba(train_df[model_reduced.feature_name_])[:,1]\n",
    "train_df[\"score_20201130_reduced\"] = mu.scale_scores(train_df[\"pred_20201130_reduced\"])"
   ]
  },
  {
   "cell_type": "code",
   "execution_count": 103,
   "id": "10852c0b",
   "metadata": {},
   "outputs": [],
   "source": [
    "if scale_by_bad_rate:\n",
    "    src_pred = \"pred_20201130_reduced\"\n",
    "    tgt_pred = \"pred_20191231\"\n",
    "    target_col = \"target\"\n",
    "\n",
    "    br_tbl = sa.get_score_alignment_table(test_df, src_pred, tgt_pred, target_col,\n",
    "                                       br_precision = 3, pred_precision = 3)\n",
    "    test_df[src_pred] = sa.get_aligned_score(test_df, br_tbl, src_pred, tgt_pred,\n",
    "                                                        pred_precision=3)\n",
    "    \n",
    "\n",
    "test_df[\"pred_20201130_reduced\"] = model_reduced.predict_proba(test_df[model_reduced.feature_name_])[:,1]\n",
    "test_df[\"score_20201130_reduced\"] = mu.scale_scores(test_df[\"pred_20201130_reduced\"])"
   ]
  },
  {
   "cell_type": "markdown",
   "id": "4f5d689a",
   "metadata": {},
   "source": [
    "### Model Result\n",
    "---"
   ]
  },
  {
   "cell_type": "code",
   "execution_count": 104,
   "id": "e60148c3",
   "metadata": {},
   "outputs": [],
   "source": [
    "df_ = test_df # test_df[test_df.is_active]"
   ]
  },
  {
   "cell_type": "code",
   "execution_count": 105,
   "id": "bf4653dd",
   "metadata": {},
   "outputs": [
    {
     "data": {
      "text/html": [
       "<div>\n",
       "<style scoped>\n",
       "    .dataframe tbody tr th:only-of-type {\n",
       "        vertical-align: middle;\n",
       "    }\n",
       "\n",
       "    .dataframe tbody tr th {\n",
       "        vertical-align: top;\n",
       "    }\n",
       "\n",
       "    .dataframe thead th {\n",
       "        text-align: right;\n",
       "    }\n",
       "</style>\n",
       "<table border=\"1\" class=\"dataframe\">\n",
       "  <thead>\n",
       "    <tr style=\"text-align: right;\">\n",
       "      <th></th>\n",
       "      <th>auc</th>\n",
       "      <th>ap</th>\n",
       "      <th>ks</th>\n",
       "    </tr>\n",
       "  </thead>\n",
       "  <tbody>\n",
       "    <tr>\n",
       "      <th>score_20191231</th>\n",
       "      <td>74.70</td>\n",
       "      <td>16.18</td>\n",
       "      <td>32.52</td>\n",
       "    </tr>\n",
       "    <tr>\n",
       "      <th>score_20201130_wo_ind</th>\n",
       "      <td>52.23</td>\n",
       "      <td>1.99</td>\n",
       "      <td>7.37</td>\n",
       "    </tr>\n",
       "    <tr>\n",
       "      <th>score_20201130_w_ind</th>\n",
       "      <td>92.26</td>\n",
       "      <td>42.31</td>\n",
       "      <td>69.52</td>\n",
       "    </tr>\n",
       "    <tr>\n",
       "      <th>score_20201130_reduced</th>\n",
       "      <td>92.29</td>\n",
       "      <td>42.81</td>\n",
       "      <td>69.57</td>\n",
       "    </tr>\n",
       "  </tbody>\n",
       "</table>\n",
       "</div>"
      ],
      "text/plain": [
       "                          auc     ap     ks\n",
       "score_20191231          74.70  16.18  32.52\n",
       "score_20201130_wo_ind   52.23   1.99   7.37\n",
       "score_20201130_w_ind    92.26  42.31  69.52\n",
       "score_20201130_reduced  92.29  42.81  69.57"
      ]
     },
     "execution_count": 105,
     "metadata": {},
     "output_type": "execute_result"
    }
   ],
   "source": [
    "report = mntr.get_pred_reports(df_, \"target\", score_cols, dropna=True)\n",
    "report"
   ]
  },
  {
   "cell_type": "code",
   "execution_count": 106,
   "id": "5ec86115",
   "metadata": {},
   "outputs": [
    {
     "data": {
      "image/png": "[encoded data removed]",
      "text/plain": [
       "<Figure size 1152x432 with 2 Axes>"
      ]
     },
     "metadata": {},
     "output_type": "display_data"
    }
   ],
   "source": [
    "mntr_path = \"./artifacts\"\n",
    "mntr.save_valid_performance_plots(\n",
    "        {\"20201201-reduced\": df_}, \"target\", score_cols, mntr_path, dropna=True\n",
    "    )"
   ]
  },
  {
   "cell_type": "code",
   "execution_count": 107,
   "id": "cb021f8a",
   "metadata": {},
   "outputs": [
    {
     "data": {
      "text/plain": [
       "(570248, 108)"
      ]
     },
     "metadata": {},
     "output_type": "display_data"
    },
    {
     "data": {
      "text/plain": [
       "<matplotlib.legend.Legend at 0x7fa967452290>"
      ]
     },
     "execution_count": 107,
     "metadata": {},
     "output_type": "execute_result"
    },
    {
     "data": {
      "image/png": "[encoded data removed]",
      "text/plain": [
       "<Figure size 576x396 with 1 Axes>"
      ]
     },
     "metadata": {},
     "output_type": "display_data"
    }
   ],
   "source": [
    "display(df_.shape)\n",
    "\n",
    "score_col = \"score_20191231\"\n",
    "df_[score_col].hist(bins=100, alpha=0.4, label=score_col)\n",
    "\n",
    "score_col = \"score_20201130_reduced\"\n",
    "df_[score_col].hist(bins=100, alpha=0.4, label=score_col)\n",
    "\n",
    "\n",
    "plt.title(\"20201130 score distribution - reduced features\")\n",
    "plt.legend()"
   ]
  },
  {
   "cell_type": "code",
   "execution_count": 108,
   "id": "1da63f74",
   "metadata": {},
   "outputs": [],
   "source": [
    "def plot_score_distr(df, ax, title):\n",
    "    score_col = \"score_20191231\"\n",
    "    df[score_col].hist(bins=50, alpha=0.4, label=\"incumbent_model\", ax=ax)\n",
    "\n",
    "    score_col = \"score_20201130_reduced\"\n",
    "    df[score_col].hist(bins=50, alpha=0.4, label=\"refitted_model\", ax=ax)\n",
    "    \n",
    "    ax.set_title(title)\n",
    "    ax.legend()"
   ]
  },
  {
   "cell_type": "code",
   "execution_count": 109,
   "id": "f505fa31",
   "metadata": {},
   "outputs": [
    {
     "data": {
      "image/png": "[encoded data removed]",
      "text/plain": [
       "<Figure size 1152x1152 with 4 Axes>"
      ]
     },
     "metadata": {},
     "output_type": "display_data"
    }
   ],
   "source": [
    "# plot 4x4\n",
    "fig, axs = plt.subplots(2,2, figsize=(16, 16))\n",
    "\n",
    "df_ = test_df[~test_df.is_active & ~test_df.target]  # inactive good accounts\n",
    "plot_score_distr(df_, axs[0, 0], \"score distr - in-active - good\")\n",
    "\n",
    "df_ = test_df[~test_df.is_active & test_df.target]  # inactive bad accounts\n",
    "plot_score_distr(df_, axs[0, 1], \"score distr - in-active - bad\")\n",
    "\n",
    "df_ = test_df[test_df.is_active & ~test_df.target]  # active good accounts\n",
    "plot_score_distr(df_, axs[1, 0], \"score distr - active - good\")\n",
    "\n",
    "df_ = test_df[test_df.is_active & test_df.target]  # active bad accounts\n",
    "plot_score_distr(df_, axs[1, 1], \"score distr - active - bad\")\n",
    "\n",
    "plt.savefig(\"./artifacts/score_distr_reduced_n_target.png\")"
   ]
  },
  {
   "cell_type": "code",
   "execution_count": 110,
   "id": "1285ab37",
   "metadata": {},
   "outputs": [
    {
     "data": {
      "text/plain": [
       "{'params': {'objective': 'binary',\n",
       "  'metric': 'auc',\n",
       "  'boosting': 'gbdt',\n",
       "  'num_iterations': 1400,\n",
       "  'max_depth': 4,\n",
       "  'num_leaves': 15,\n",
       "  'learning_rate': 0.03,\n",
       "  'feature_fraction': 0.8,\n",
       "  'subsample': 0.94,\n",
       "  'lambda_l1': 16,\n",
       "  'lambda_l2': 10,\n",
       "  'min_data_in_leaf': 116,\n",
       "  'tree_learner': 'feature',\n",
       "  'bagging_seed': 15556,\n",
       "  'verbosity': 1,\n",
       "  'seed': 15556,\n",
       "  'categorical_feature': [39, 40, 41],\n",
       "  'scale_pos_weight': 29.051314094798453},\n",
       " 'scale_by_bad_rate': False,\n",
       " 'features': ['address_risk_score',\n",
       "  'age_money_account',\n",
       "  'all7120',\n",
       "  'all8220',\n",
       "  'bcc7120',\n",
       "  'credit_card_loan_amount',\n",
       "  'dollar_val_dd',\n",
       "  'dollar_val_returns',\n",
       "  'dollar_val_returns_3d',\n",
       "  'education_loan_amount',\n",
       "  'email_risk_score',\n",
       "  'first_deposit_amount',\n",
       "  'fraud_score_1',\n",
       "  'fraud_score_2',\n",
       "  'giact_nr_decline',\n",
       "  'giact_nr_other',\n",
       "  'iln5520',\n",
       "  'iqt9413',\n",
       "  'iqt9415',\n",
       "  'lag_acc_open_first_transaction',\n",
       "  'name_address_correlation',\n",
       "  'name_email_correlation',\n",
       "  'name_phone_correlation',\n",
       "  'nr_direct_deposits',\n",
       "  'nr_past_transactions',\n",
       "  'pct_returned_deposits',\n",
       "  'phone_risk_score',\n",
       "  'sum_deposits_10d',\n",
       "  'time_since_last_transaction',\n",
       "  'total_tradelines_open',\n",
       "  'transaction_as_pct_of_balance',\n",
       "  'vantage_score',\n",
       "  'transaction_code_encoded',\n",
       "  'all7120_default_encoded',\n",
       "  'bcc7120_default_encoded'],\n",
       " 'indeterminate_col': None}"
      ]
     },
     "metadata": {},
     "output_type": "display_data"
    }
   ],
   "source": [
    "info = {\"params\": params,\n",
    "        \"scale_by_bad_rate\": scale_by_bad_rate,\n",
    "        \"features\": features_reduced,\n",
    "        \"indeterminate_col\": indeterminate_col}\n",
    "\n",
    "with open(\"artifacts/meta_data.json\", \"w\") as f:\n",
    "    json.dump(info, f, indent=4)\n",
    "    \n",
    "display(info)"
   ]
  },
  {
   "cell_type": "markdown",
   "id": "a4de2bc3",
   "metadata": {},
   "source": [
    "## Summary/Notes\n",
    "---\n",
    "* Method 1: new ind def, drop during training\n",
    "    * result similar to new ind def, refitted - not good enough\n",
    "* Method 2: old ind def, drop during training\n",
    "    * result similar to old ind def, refitted - not good enough\n",
    "* **Promising** Method 3: kept ind during training\n",
    "    * performance metric similar to the our score_20201130_w_ind_bad_rate option. The score distribution is better as the score_distribution is closer to the original model than the\n",
    "* Method 4: kept ind during training, scaled by bad rate\n",
    "    * no significant out-performance w.r.t. Method 3\n",
    "* Method 5: kept ind during training, with 200 trees instead of 1400\n",
    "    * Same as 5.1\n",
    "* Method 5.1: kept ind during training, with 200 trees instead of 1400, scaled by bad rate\n",
    "    * Slightly underperformed Method 3, and performance segmented by activeness does not behave well\n",
    "\n",
    "\n",
    "* Method 6: dropped ind during training, with WOE monotonic constraints\n",
    "* Method 7: dropped ind during trra"
   ]
  },
  {
   "cell_type": "code",
   "execution_count": null,
   "id": "9b10c602",
   "metadata": {},
   "outputs": [],
   "source": []
  }
 ],
 "metadata": {
  "kernelspec": {
   "display_name": "conda_customer_risk",
   "language": "python",
   "name": "conda_customer_risk"
  },
  "language_info": {
   "codemirror_mode": {
    "name": "ipython",
    "version": 3
   },
   "file_extension": ".py",
   "mimetype": "text/x-python",
   "name": "python",
   "nbconvert_exporter": "python",
   "pygments_lexer": "ipython3",
   "version": "3.7.10"
  }
 },
 "nbformat": 4,
 "nbformat_minor": 5
}
