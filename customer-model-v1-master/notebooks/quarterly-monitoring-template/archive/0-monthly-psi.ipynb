{
 "cells": [
  {
   "cell_type": "markdown",
   "id": "71971e35",
   "metadata": {},
   "source": [
    "### Monthly PSI Monitoring\n",
    "---"
   ]
  },
  {
   "cell_type": "code",
   "execution_count": 1,
   "id": "119ddf94",
   "metadata": {},
   "outputs": [],
   "source": [
    "# pip install --index-url https://build.sofi.com/artifactory/api/pypi/pypi/simple -r requirements.txt --use-deprecated=legacy-resolver"
   ]
  },
  {
   "cell_type": "code",
   "execution_count": 1,
   "id": "19702c58",
   "metadata": {},
   "outputs": [],
   "source": [
    "import sys, os, json\n",
    "sys.path.insert(1, \"../../\")\n",
    "from src.combine import combine_data\n",
    "import pandas as pd\n",
    "import numpy as np\n",
    "from tqdm import tqdm\n",
    "import matplotlib.pyplot as plt\n",
    "from smart_open import open\n",
    "import pickle as pkl\n",
    "import datetime as dt\n",
    "\n",
    "import src.monitoring.refit as refit\n",
    "import src.monitoring.monitoring as mntr\n",
    "import src.monitoring.utils as mu\n",
    "\n",
    "%matplotlib inline\n",
    "plt.style.use('seaborn')\n",
    "\n",
    "%load_ext autoreload\n",
    "%autoreload 2\n",
    "\n",
    "import warnings\n",
    "warnings.filterwarnings(\"ignore\")"
   ]
  },
  {
   "cell_type": "code",
   "execution_count": 2,
   "id": "1cee67ab",
   "metadata": {},
   "outputs": [],
   "source": [
    "# modify this whenever we modify the model\n",
    "prod_df_path_prev = \"s3://sofi-data-science/jxu/monitoring/customer-risk-v1/2021-09/prev_test_df.parquet\"\n",
    "model_path = \"s3://sofi-data-science/jxu/money-risk-models/customer-risk-model/models/customer_risk_target_no_giact_time_since_last_link.pkl\""
   ]
  },
  {
   "cell_type": "code",
   "execution_count": 3,
   "id": "a6a87ec2",
   "metadata": {},
   "outputs": [
    {
     "name": "stdout",
     "output_type": "stream",
     "text": [
      "s3://sofi-data-science/jxu/monitoring/customer-risk-v1/2021-12/prod-data-2021-12-02.parquet\n"
     ]
    }
   ],
   "source": [
    "today_str = str(dt.date.today())\n",
    "YYYYMM = \"-\".join(today_str.split(\"-\")[:2])\n",
    "output_dir = f\"s3://sofi-data-science/jxu/monitoring/customer-risk-v1/{YYYYMM}\"\n",
    "prod_df_path = os.path.join(output_dir, f\"prod-data-{today_str}.parquet\")\n",
    "print(prod_df_path)"
   ]
  },
  {
   "cell_type": "markdown",
   "id": "6f0f97c3",
   "metadata": {},
   "source": [
    "#### load previous data"
   ]
  },
  {
   "cell_type": "code",
   "execution_count": 5,
   "id": "03c7b9e3",
   "metadata": {},
   "outputs": [],
   "source": [
    "prod_df_prev = pd.read_parquet(prod_df_path_prev)"
   ]
  },
  {
   "cell_type": "code",
   "execution_count": 6,
   "id": "df96a1ea",
   "metadata": {},
   "outputs": [
    {
     "name": "stdout",
     "output_type": "stream",
     "text": [
      "2020-01-01    167293\n",
      "Name: sample_date, dtype: int64\n"
     ]
    },
    {
     "data": {
      "image/png": "[encoded data removed]",
      "text/plain": [
       "<Figure size 576x396 with 1 Axes>"
      ]
     },
     "metadata": {},
     "output_type": "display_data"
    }
   ],
   "source": [
    "prod_df_prev.sample_date.hist()\n",
    "print(prod_df_prev.sample_date.value_counts())"
   ]
  },
  {
   "cell_type": "markdown",
   "id": "48b265de",
   "metadata": {},
   "source": [
    "#### load current data"
   ]
  },
  {
   "cell_type": "code",
   "execution_count": 6,
   "id": "e63cb539",
   "metadata": {},
   "outputs": [
    {
     "name": "stdout",
     "output_type": "stream",
     "text": [
      "Looking in indexes: https://build.sofi.com/artifactory/api/pypi/pypi/simple\n",
      "Requirement already satisfied: sofiproto==release-1703 in /home/ec2-user/anaconda3/envs/customer_risk/lib/python3.7/site-packages (release-1703)\n",
      "Requirement already satisfied: s3fs in /home/ec2-user/anaconda3/envs/customer_risk/lib/python3.7/site-packages (2021.11.1)\n",
      "Requirement already satisfied: protobuf>=3.8.0 in /home/ec2-user/anaconda3/envs/customer_risk/lib/python3.7/site-packages (from sofiproto==release-1703) (3.19.1)\n",
      "Requirement already satisfied: aiobotocore~=2.0.1 in /home/ec2-user/anaconda3/envs/customer_risk/lib/python3.7/site-packages (from s3fs) (2.0.1)\n",
      "Requirement already satisfied: aiohttp<=4 in /home/ec2-user/anaconda3/envs/customer_risk/lib/python3.7/site-packages (from s3fs) (3.8.1)\n",
      "Requirement already satisfied: fsspec==2021.11.1 in /home/ec2-user/anaconda3/envs/customer_risk/lib/python3.7/site-packages (from s3fs) (2021.11.1)\n",
      "Collecting botocore<1.22.9,>=1.22.8\n",
      "  Downloading https://build.sofi.com/artifactory/api/pypi/pypi/packages/packages/bd/f2/9a0724ee4e6b1fb2e162a4147d96327a63b2a9fd995c9d7e011b49df78f4/botocore-1.22.8-py3-none-any.whl (8.1 MB)\n",
      "     |████████████████████████████████| 8.1 MB 67.9 MB/s            \n",
      "\u001b[?25hRequirement already satisfied: wrapt>=1.10.10 in /home/ec2-user/anaconda3/envs/customer_risk/lib/python3.7/site-packages (from aiobotocore~=2.0.1->s3fs) (1.13.3)\n",
      "Requirement already satisfied: aioitertools>=0.5.1 in /home/ec2-user/anaconda3/envs/customer_risk/lib/python3.7/site-packages (from aiobotocore~=2.0.1->s3fs) (0.8.0)\n",
      "Requirement already satisfied: aiosignal>=1.1.2 in /home/ec2-user/anaconda3/envs/customer_risk/lib/python3.7/site-packages (from aiohttp<=4->s3fs) (1.2.0)\n",
      "Requirement already satisfied: async-timeout<5.0,>=4.0.0a3 in /home/ec2-user/anaconda3/envs/customer_risk/lib/python3.7/site-packages (from aiohttp<=4->s3fs) (4.0.1)\n",
      "Requirement already satisfied: asynctest==0.13.0 in /home/ec2-user/anaconda3/envs/customer_risk/lib/python3.7/site-packages (from aiohttp<=4->s3fs) (0.13.0)\n",
      "Requirement already satisfied: typing-extensions>=3.7.4 in /home/ec2-user/anaconda3/envs/customer_risk/lib/python3.7/site-packages (from aiohttp<=4->s3fs) (4.0.1)\n",
      "Requirement already satisfied: charset-normalizer<3.0,>=2.0 in /home/ec2-user/anaconda3/envs/customer_risk/lib/python3.7/site-packages (from aiohttp<=4->s3fs) (2.0.8)\n",
      "Requirement already satisfied: yarl<2.0,>=1.0 in /home/ec2-user/anaconda3/envs/customer_risk/lib/python3.7/site-packages (from aiohttp<=4->s3fs) (1.7.2)\n",
      "Requirement already satisfied: multidict<7.0,>=4.5 in /home/ec2-user/anaconda3/envs/customer_risk/lib/python3.7/site-packages (from aiohttp<=4->s3fs) (5.2.0)\n",
      "Requirement already satisfied: attrs>=17.3.0 in /home/ec2-user/anaconda3/envs/customer_risk/lib/python3.7/site-packages (from aiohttp<=4->s3fs) (21.2.0)\n",
      "Requirement already satisfied: frozenlist>=1.1.1 in /home/ec2-user/anaconda3/envs/customer_risk/lib/python3.7/site-packages (from aiohttp<=4->s3fs) (1.2.0)\n",
      "Requirement already satisfied: urllib3<1.27,>=1.25.4 in /home/ec2-user/anaconda3/envs/customer_risk/lib/python3.7/site-packages (from botocore<1.22.9,>=1.22.8->aiobotocore~=2.0.1->s3fs) (1.26.7)\n",
      "Requirement already satisfied: jmespath<1.0.0,>=0.7.1 in /home/ec2-user/anaconda3/envs/customer_risk/lib/python3.7/site-packages (from botocore<1.22.9,>=1.22.8->aiobotocore~=2.0.1->s3fs) (0.10.0)\n",
      "Requirement already satisfied: python-dateutil<3.0.0,>=2.1 in /home/ec2-user/anaconda3/envs/customer_risk/lib/python3.7/site-packages (from botocore<1.22.9,>=1.22.8->aiobotocore~=2.0.1->s3fs) (2.8.2)\n",
      "Requirement already satisfied: idna>=2.0 in /home/ec2-user/anaconda3/envs/customer_risk/lib/python3.7/site-packages (from yarl<2.0,>=1.0->aiohttp<=4->s3fs) (3.3)\n",
      "Requirement already satisfied: six>=1.5 in /home/ec2-user/anaconda3/envs/customer_risk/lib/python3.7/site-packages (from python-dateutil<3.0.0,>=2.1->botocore<1.22.9,>=1.22.8->aiobotocore~=2.0.1->s3fs) (1.16.0)\n",
      "Installing collected packages: botocore\n",
      "  Attempting uninstall: botocore\n",
      "    Found existing installation: botocore 1.21.0\n",
      "    Uninstalling botocore-1.21.0:\n",
      "      Successfully uninstalled botocore-1.21.0\n",
      "\u001b[31mERROR: pip's dependency resolver does not currently take into account all the packages that are installed. This behaviour is the source of the following dependency conflicts.\n",
      "boto3 1.20.18 requires botocore<1.24.0,>=1.23.18, but you have botocore 1.22.8 which is incompatible.\u001b[0m\n",
      "Successfully installed botocore-1.22.8\n",
      "Requirement already satisfied: read_protobuf in /home/ec2-user/anaconda3/envs/customer_risk/lib/python3.7/site-packages (0.1.1)\n",
      "Requirement already satisfied: pandas>=0.16 in /home/ec2-user/anaconda3/envs/customer_risk/lib/python3.7/site-packages (from read_protobuf) (1.3.4)\n",
      "Requirement already satisfied: protobuf>=3.5 in /home/ec2-user/anaconda3/envs/customer_risk/lib/python3.7/site-packages (from read_protobuf) (3.19.1)\n",
      "Requirement already satisfied: python-dateutil>=2.7.3 in /home/ec2-user/anaconda3/envs/customer_risk/lib/python3.7/site-packages (from pandas>=0.16->read_protobuf) (2.8.2)\n",
      "Requirement already satisfied: numpy>=1.17.3 in /home/ec2-user/anaconda3/envs/customer_risk/lib/python3.7/site-packages (from pandas>=0.16->read_protobuf) (1.21.4)\n",
      "Requirement already satisfied: pytz>=2017.3 in /home/ec2-user/anaconda3/envs/customer_risk/lib/python3.7/site-packages (from pandas>=0.16->read_protobuf) (2021.3)\n",
      "Requirement already satisfied: six>=1.5 in /home/ec2-user/anaconda3/envs/customer_risk/lib/python3.7/site-packages (from python-dateutil>=2.7.3->pandas>=0.16->read_protobuf) (1.16.0)\n"
     ]
    }
   ],
   "source": [
    "!pip install --index-url https://build.sofi.com/artifactory/api/pypi/pypi/simple sofiproto==release-1703 s3fs\n",
    "!pip install read_protobuf"
   ]
  },
  {
   "cell_type": "markdown",
   "id": "a058d04b",
   "metadata": {},
   "source": [
    "#### Load Prev Prod data from S3"
   ]
  },
  {
   "cell_type": "markdown",
   "id": "b3ebba39",
   "metadata": {},
   "source": [
    "#### Query Current Prod Data"
   ]
  },
  {
   "cell_type": "code",
   "execution_count": 4,
   "id": "0491e454",
   "metadata": {},
   "outputs": [
    {
     "name": "stdout",
     "output_type": "stream",
     "text": [
      "querying money user data...\n",
      "some data processing...\n"
     ]
    }
   ],
   "source": [
    "sys.path.insert(1, \"../..\")\n",
    "from src.monitoring.download_customer_prod import download_customer_prod_data\n",
    "\n",
    "download_customer_prod_data(prod_df_path)"
   ]
  },
  {
   "cell_type": "code",
   "execution_count": 5,
   "id": "c5bf06a5",
   "metadata": {},
   "outputs": [
    {
     "data": {
      "text/plain": [
       "(1793290, 56)"
      ]
     },
     "execution_count": 5,
     "metadata": {},
     "output_type": "execute_result"
    }
   ],
   "source": [
    "prod_df = pd.read_parquet(prod_df_path)\n",
    "prod_df.shape"
   ]
  },
  {
   "cell_type": "code",
   "execution_count": 6,
   "id": "19ae31f1",
   "metadata": {},
   "outputs": [
    {
     "data": {
      "text/html": [
       "<div>\n",
       "<style scoped>\n",
       "    .dataframe tbody tr th:only-of-type {\n",
       "        vertical-align: middle;\n",
       "    }\n",
       "\n",
       "    .dataframe tbody tr th {\n",
       "        vertical-align: top;\n",
       "    }\n",
       "\n",
       "    .dataframe thead th {\n",
       "        text-align: right;\n",
       "    }\n",
       "</style>\n",
       "<table border=\"1\" class=\"dataframe\">\n",
       "  <thead>\n",
       "    <tr style=\"text-align: right;\">\n",
       "      <th></th>\n",
       "      <th>party_id</th>\n",
       "      <th>created_dt</th>\n",
       "      <th>updated_dt</th>\n",
       "      <th>last_checked_date</th>\n",
       "      <th>last_checked_date_max</th>\n",
       "      <th>risk_group</th>\n",
       "      <th>request_source</th>\n",
       "      <th>model_score</th>\n",
       "      <th>model_decision_rule_details</th>\n",
       "      <th>mcustomer_model_risk_groupodel_score</th>\n",
       "      <th>...</th>\n",
       "      <th>transaction_as_pct_of_balance</th>\n",
       "      <th>dollar_val_dd</th>\n",
       "      <th>pct_returned_deposits</th>\n",
       "      <th>time_since_last_transaction</th>\n",
       "      <th>dollar_val_returns</th>\n",
       "      <th>nr_trans_ratio</th>\n",
       "      <th>giact_time_since_last_link</th>\n",
       "      <th>transaction_code_encoded</th>\n",
       "      <th>all7120_default_encoded</th>\n",
       "      <th>bcc7120_default_encoded</th>\n",
       "    </tr>\n",
       "  </thead>\n",
       "  <tbody>\n",
       "    <tr>\n",
       "      <th>0</th>\n",
       "      <td>1864</td>\n",
       "      <td>2021-08-18 02:05:59.086</td>\n",
       "      <td>2021-12-01 03:09:46.862</td>\n",
       "      <td>2021-12-01 03:09:46.861</td>\n",
       "      <td>2021-12-01 03:09:46.861</td>\n",
       "      <td>\"RG2A\"</td>\n",
       "      <td>\"scheduled\"</td>\n",
       "      <td>529.771737</td>\n",
       "      <td>[{\"ruleName\":\"isMember\",\"rulePassed\":true,\"ris...</td>\n",
       "      <td>\"RG2A\"</td>\n",
       "      <td>...</td>\n",
       "      <td>0.000000</td>\n",
       "      <td>0.0</td>\n",
       "      <td>0.0</td>\n",
       "      <td>-1.0</td>\n",
       "      <td>0.0</td>\n",
       "      <td>-1.000000</td>\n",
       "      <td>-1.0</td>\n",
       "      <td>0</td>\n",
       "      <td>-1.0</td>\n",
       "      <td>-1.0</td>\n",
       "    </tr>\n",
       "    <tr>\n",
       "      <th>1</th>\n",
       "      <td>11837</td>\n",
       "      <td>2021-08-27 18:36:21.149</td>\n",
       "      <td>2021-09-01 03:33:10.891</td>\n",
       "      <td>2021-08-27 18:36:21.147</td>\n",
       "      <td>2021-08-27 18:36:21.147</td>\n",
       "      <td>\"RG4A\"</td>\n",
       "      <td>\"onboarding\"</td>\n",
       "      <td>637.853798</td>\n",
       "      <td>[{\"ruleName\":\"isMember\",\"rulePassed\":true,\"ris...</td>\n",
       "      <td>\"RG4A\"</td>\n",
       "      <td>...</td>\n",
       "      <td>0.000000</td>\n",
       "      <td>0.0</td>\n",
       "      <td>0.0</td>\n",
       "      <td>-1.0</td>\n",
       "      <td>0.0</td>\n",
       "      <td>-1.000000</td>\n",
       "      <td>-1.0</td>\n",
       "      <td>0</td>\n",
       "      <td>-1.0</td>\n",
       "      <td>-1.0</td>\n",
       "    </tr>\n",
       "    <tr>\n",
       "      <th>2</th>\n",
       "      <td>13240</td>\n",
       "      <td>2020-08-05 06:12:33.971</td>\n",
       "      <td>2021-12-01 03:04:22.668</td>\n",
       "      <td>2021-12-01 03:04:22.667</td>\n",
       "      <td>2021-12-01 03:04:22.667</td>\n",
       "      <td>\"RG1\"</td>\n",
       "      <td>\"scheduled\"</td>\n",
       "      <td>485.761886</td>\n",
       "      <td>[{\"ruleName\":\"isMember\",\"rulePassed\":true,\"ris...</td>\n",
       "      <td>\"RG1\"</td>\n",
       "      <td>...</td>\n",
       "      <td>0.000000</td>\n",
       "      <td>0.0</td>\n",
       "      <td>0.0</td>\n",
       "      <td>-1.0</td>\n",
       "      <td>0.0</td>\n",
       "      <td>-1.000000</td>\n",
       "      <td>-1.0</td>\n",
       "      <td>0</td>\n",
       "      <td>-1.0</td>\n",
       "      <td>-1.0</td>\n",
       "    </tr>\n",
       "    <tr>\n",
       "      <th>3</th>\n",
       "      <td>14014</td>\n",
       "      <td>2021-05-05 02:08:42.539</td>\n",
       "      <td>2021-12-01 03:09:20.529</td>\n",
       "      <td>2021-12-01 03:09:20.528</td>\n",
       "      <td>2021-12-01 03:09:20.528</td>\n",
       "      <td>\"RG2B\"</td>\n",
       "      <td>\"scheduled\"</td>\n",
       "      <td>535.544806</td>\n",
       "      <td>[{\"ruleName\":\"isMember\",\"rulePassed\":true,\"ris...</td>\n",
       "      <td>\"RG2B\"</td>\n",
       "      <td>...</td>\n",
       "      <td>2.645503</td>\n",
       "      <td>0.0</td>\n",
       "      <td>0.0</td>\n",
       "      <td>14.0</td>\n",
       "      <td>0.0</td>\n",
       "      <td>-1.000000</td>\n",
       "      <td>-1.0</td>\n",
       "      <td>4</td>\n",
       "      <td>-1.0</td>\n",
       "      <td>-1.0</td>\n",
       "    </tr>\n",
       "    <tr>\n",
       "      <th>4</th>\n",
       "      <td>20202</td>\n",
       "      <td>2020-08-05 06:24:54.015</td>\n",
       "      <td>2021-12-01 03:07:22.433</td>\n",
       "      <td>2021-12-01 03:07:22.431</td>\n",
       "      <td>2021-12-01 03:07:22.431</td>\n",
       "      <td>\"RG1\"</td>\n",
       "      <td>\"scheduled\"</td>\n",
       "      <td>377.813083</td>\n",
       "      <td>[{\"ruleName\":\"isMember\",\"rulePassed\":true,\"ris...</td>\n",
       "      <td>\"RG1\"</td>\n",
       "      <td>...</td>\n",
       "      <td>0.289519</td>\n",
       "      <td>0.0</td>\n",
       "      <td>0.0</td>\n",
       "      <td>10.0</td>\n",
       "      <td>0.0</td>\n",
       "      <td>0.333333</td>\n",
       "      <td>-1.0</td>\n",
       "      <td>4</td>\n",
       "      <td>-1.0</td>\n",
       "      <td>-1.0</td>\n",
       "    </tr>\n",
       "  </tbody>\n",
       "</table>\n",
       "<p>5 rows × 56 columns</p>\n",
       "</div>"
      ],
      "text/plain": [
       "   party_id               created_dt               updated_dt  \\\n",
       "0      1864  2021-08-18 02:05:59.086  2021-12-01 03:09:46.862   \n",
       "1     11837  2021-08-27 18:36:21.149  2021-09-01 03:33:10.891   \n",
       "2     13240  2020-08-05 06:12:33.971  2021-12-01 03:04:22.668   \n",
       "3     14014  2021-05-05 02:08:42.539  2021-12-01 03:09:20.529   \n",
       "4     20202  2020-08-05 06:24:54.015  2021-12-01 03:07:22.433   \n",
       "\n",
       "         last_checked_date    last_checked_date_max risk_group request_source  \\\n",
       "0  2021-12-01 03:09:46.861  2021-12-01 03:09:46.861     \"RG2A\"    \"scheduled\"   \n",
       "1  2021-08-27 18:36:21.147  2021-08-27 18:36:21.147     \"RG4A\"   \"onboarding\"   \n",
       "2  2021-12-01 03:04:22.667  2021-12-01 03:04:22.667      \"RG1\"    \"scheduled\"   \n",
       "3  2021-12-01 03:09:20.528  2021-12-01 03:09:20.528     \"RG2B\"    \"scheduled\"   \n",
       "4  2021-12-01 03:07:22.431  2021-12-01 03:07:22.431      \"RG1\"    \"scheduled\"   \n",
       "\n",
       "   model_score                        model_decision_rule_details  \\\n",
       "0   529.771737  [{\"ruleName\":\"isMember\",\"rulePassed\":true,\"ris...   \n",
       "1   637.853798  [{\"ruleName\":\"isMember\",\"rulePassed\":true,\"ris...   \n",
       "2   485.761886  [{\"ruleName\":\"isMember\",\"rulePassed\":true,\"ris...   \n",
       "3   535.544806  [{\"ruleName\":\"isMember\",\"rulePassed\":true,\"ris...   \n",
       "4   377.813083  [{\"ruleName\":\"isMember\",\"rulePassed\":true,\"ris...   \n",
       "\n",
       "  mcustomer_model_risk_groupodel_score  ... transaction_as_pct_of_balance  \\\n",
       "0                               \"RG2A\"  ...                      0.000000   \n",
       "1                               \"RG4A\"  ...                      0.000000   \n",
       "2                                \"RG1\"  ...                      0.000000   \n",
       "3                               \"RG2B\"  ...                      2.645503   \n",
       "4                                \"RG1\"  ...                      0.289519   \n",
       "\n",
       "  dollar_val_dd pct_returned_deposits  time_since_last_transaction  \\\n",
       "0           0.0                   0.0                         -1.0   \n",
       "1           0.0                   0.0                         -1.0   \n",
       "2           0.0                   0.0                         -1.0   \n",
       "3           0.0                   0.0                         14.0   \n",
       "4           0.0                   0.0                         10.0   \n",
       "\n",
       "   dollar_val_returns  nr_trans_ratio  giact_time_since_last_link  \\\n",
       "0                 0.0       -1.000000                        -1.0   \n",
       "1                 0.0       -1.000000                        -1.0   \n",
       "2                 0.0       -1.000000                        -1.0   \n",
       "3                 0.0       -1.000000                        -1.0   \n",
       "4                 0.0        0.333333                        -1.0   \n",
       "\n",
       "   transaction_code_encoded  all7120_default_encoded  bcc7120_default_encoded  \n",
       "0                         0                     -1.0                     -1.0  \n",
       "1                         0                     -1.0                     -1.0  \n",
       "2                         0                     -1.0                     -1.0  \n",
       "3                         4                     -1.0                     -1.0  \n",
       "4                         4                     -1.0                     -1.0  \n",
       "\n",
       "[5 rows x 56 columns]"
      ]
     },
     "execution_count": 6,
     "metadata": {},
     "output_type": "execute_result"
    }
   ],
   "source": [
    "# process prod df, and jog down some stats to make sure things are correct\n",
    "prod_df.head()"
   ]
  },
  {
   "cell_type": "code",
   "execution_count": 7,
   "id": "3a73712e",
   "metadata": {},
   "outputs": [
    {
     "data": {
      "text/plain": [
       "<AxesSubplot:>"
      ]
     },
     "execution_count": 7,
     "metadata": {},
     "output_type": "execute_result"
    },
    {
     "data": {
      "image/png": "[encoded data removed]",
      "text/plain": [
       "<Figure size 576x396 with 1 Axes>"
      ]
     },
     "metadata": {},
     "output_type": "display_data"
    }
   ],
   "source": [
    "pd.to_datetime(prod_df[\"last_checked_date\"]).hist(bins=100)"
   ]
  },
  {
   "cell_type": "code",
   "execution_count": 8,
   "id": "6ff35568",
   "metadata": {},
   "outputs": [
    {
     "data": {
      "text/plain": [
       "<AxesSubplot:>"
      ]
     },
     "execution_count": 8,
     "metadata": {},
     "output_type": "execute_result"
    },
    {
     "data": {
      "image/png": "[encoded data removed]",
      "text/plain": [
       "<Figure size 576x396 with 1 Axes>"
      ]
     },
     "metadata": {},
     "output_type": "display_data"
    }
   ],
   "source": [
    "pd.to_datetime(prod_df[\"last_checked_date\"]).hist(bins=100)"
   ]
  },
  {
   "cell_type": "markdown",
   "id": "dd282b5b",
   "metadata": {},
   "source": [
    "#### preprocess and generate model score"
   ]
  },
  {
   "cell_type": "code",
   "execution_count": 11,
   "id": "7eafafcb",
   "metadata": {},
   "outputs": [],
   "source": [
    "# with open(model_path, \"rb\") as f:\n",
    "#     customer_model = pkl.load(f)"
   ]
  },
  {
   "cell_type": "code",
   "execution_count": 12,
   "id": "e4db43a0",
   "metadata": {},
   "outputs": [
    {
     "name": "stdout",
     "output_type": "stream",
     "text": [
      "Found existing installation: numpy 1.21.4\n",
      "Uninstalling numpy-1.21.4:\n",
      "  Successfully uninstalled numpy-1.21.4\n",
      "Collecting numpy==1.20.0\n",
      "  Downloading numpy-1.20.0-cp37-cp37m-manylinux2010_x86_64.whl (15.3 MB)\n",
      "     |████████████████████████████████| 15.3 MB 3.3 MB/s            \n",
      "\u001b[?25hInstalling collected packages: numpy\n",
      "Successfully installed numpy-1.20.0\n"
     ]
    }
   ],
   "source": [
    "# !pip uninstall numpy -y\n",
    "# !pip install numpy==1.20.0 --no-cache-dir"
   ]
  },
  {
   "cell_type": "code",
   "execution_count": null,
   "id": "54fbc307",
   "metadata": {},
   "outputs": [],
   "source": []
  },
  {
   "cell_type": "code",
   "execution_count": null,
   "id": "8a58905f",
   "metadata": {},
   "outputs": [],
   "source": []
  },
  {
   "cell_type": "markdown",
   "id": "72445162",
   "metadata": {},
   "source": [
    "#### save to s3"
   ]
  },
  {
   "cell_type": "code",
   "execution_count": null,
   "id": "dbbd06f0",
   "metadata": {},
   "outputs": [],
   "source": [
    "# prod_df_prev.to_parquet(os.path.join(output_dir, f\"prev_test_df.parquet\"))\n",
    "# prod_df.to_parquet(prod_df_path)"
   ]
  },
  {
   "cell_type": "code",
   "execution_count": 18,
   "id": "95700c8f",
   "metadata": {},
   "outputs": [
    {
     "data": {
      "text/plain": [
       "'s3://sofi-data-science/jxu/monitoring/customer-risk-v1/2021-11/prod-data-2021-11-09.parquet'"
      ]
     },
     "execution_count": 18,
     "metadata": {},
     "output_type": "execute_result"
    }
   ],
   "source": [
    "prod_df_path"
   ]
  },
  {
   "cell_type": "code",
   "execution_count": null,
   "id": "e2975ebd",
   "metadata": {},
   "outputs": [],
   "source": []
  },
  {
   "cell_type": "code",
   "execution_count": null,
   "id": "6471761c",
   "metadata": {},
   "outputs": [],
   "source": []
  }
 ],
 "metadata": {
  "kernelspec": {
   "display_name": "conda_customer_risk",
   "language": "python",
   "name": "conda_customer_risk"
  },
  "language_info": {
   "codemirror_mode": {
    "name": "ipython",
    "version": 3
   },
   "file_extension": ".py",
   "mimetype": "text/x-python",
   "name": "python",
   "nbconvert_exporter": "python",
   "pygments_lexer": "ipython3",
   "version": "3.7.12"
  }
 },
 "nbformat": 4,
 "nbformat_minor": 5
}
