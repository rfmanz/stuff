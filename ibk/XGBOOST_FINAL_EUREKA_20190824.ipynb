{
 "cells": [
  {
   "cell_type": "markdown",
   "metadata": {
    "heading_collapsed": true
   },
   "source": [
    "# Lectura de datos"
   ]
  },
  {
   "cell_type": "markdown",
   "metadata": {},
   "source": [
    "# Training\n",
    "\n",
    "Acá se toma la data del respositorio de S3 en donde se dejan las queries de Athena, para que sea más eficiente la perfrmance de traer los datos. Se va a modelizar con las cosechas de campañas desde 201804 a 201811. Por lo tanto la data que se necesita de las tablas de cliente mes iran desde 201802 hasta 201809 y las variables que vengan de RCC van desde 201801 a 201808. La variable respuesta por ahora se sacó de una tabla externa que construimos al momento del modelo."
   ]
  },
  {
   "cell_type": "code",
   "execution_count": 33,
   "metadata": {},
   "outputs": [],
   "source": [
    "import boto3\n",
    "from pyathena import connect\n",
    "from pyathena.util import as_pandas\n",
    "import numpy as np\n",
    "import pandas as pd \n",
    "\n",
    "client = boto3.client('s3') \n",
    "\n",
    "obj= client.get_object(Bucket='sftp-analytics-stg-transferbucket-a3e4afdvn23', Key='data/output/Unsaved/2019/08/23/256eede0-7c18-459f-80ff-36fb27a256a0.csv')\n",
    "X= pd.read_csv(obj['Body'])\n",
    "\n",
    "\n",
    "X = X.apply(pd.to_numeric, errors='coerce')\n",
    "\n",
    "numerics=[\"int16\", \"int32\", \"int64\", \"float16\", \"float32\", \"float64\"]\n",
    "X=X.select_dtypes(include=numerics)\n",
    "X = X.drop([\"flg_venta\", \"flg_incremento\"],axis=1)\n",
    "#            \"flg_Venta_ing\", \"flg_Campania_ing\", \"parquetarcred_ing\", \"pa_ing\",\n",
    "#           \"segmentomercado_ing\", \"Tend_ingresobruto_ing\", \"segmento_ant_ing\", \"codempresa_tc_princ_ing\", \"codsbs_ing\"],axis=1)\n",
    "\n",
    "X[np.isnan(X)] = 0\n",
    "\n",
    "X_modelo = X[(X['codmes'] == 201804) | (X['codmes'] == 201806) | (X['codmes'] == 201808) |  (X['codmes'] == 201809) | (X['codmes'] == 201810) | (X['codmes'] == 201904) | (X['codmes'] == 201902)]\n",
    "\n",
    "X_backtest = X[(X['codmes'] == 201805) | (X['codmes'] == 201807) | (X['codmes'] == 201811 ) | (X['codmes'] == 201901 ) | (X['codmes'] == 201903 )]"
   ]
  },
  {
   "cell_type": "code",
   "execution_count": 34,
   "metadata": {},
   "outputs": [
    {
     "data": {
      "text/html": [
       "<div>\n",
       "<style scoped>\n",
       "    .dataframe tbody tr th:only-of-type {\n",
       "        vertical-align: middle;\n",
       "    }\n",
       "\n",
       "    .dataframe tbody tr th {\n",
       "        vertical-align: top;\n",
       "    }\n",
       "\n",
       "    .dataframe thead th {\n",
       "        text-align: right;\n",
       "    }\n",
       "</style>\n",
       "<table border=\"1\" class=\"dataframe\">\n",
       "  <thead>\n",
       "    <tr style=\"text-align: right;\">\n",
       "      <th></th>\n",
       "      <th></th>\n",
       "      <th>key_value</th>\n",
       "    </tr>\n",
       "    <tr>\n",
       "      <th>codmes</th>\n",
       "      <th>flg_target</th>\n",
       "      <th></th>\n",
       "    </tr>\n",
       "  </thead>\n",
       "  <tbody>\n",
       "    <tr>\n",
       "      <th rowspan=\"2\" valign=\"top\">201804</th>\n",
       "      <th>0.0</th>\n",
       "      <td>80880</td>\n",
       "    </tr>\n",
       "    <tr>\n",
       "      <th>1.0</th>\n",
       "      <td>9952</td>\n",
       "    </tr>\n",
       "    <tr>\n",
       "      <th rowspan=\"2\" valign=\"top\">201806</th>\n",
       "      <th>0.0</th>\n",
       "      <td>87625</td>\n",
       "    </tr>\n",
       "    <tr>\n",
       "      <th>1.0</th>\n",
       "      <td>11163</td>\n",
       "    </tr>\n",
       "    <tr>\n",
       "      <th rowspan=\"2\" valign=\"top\">201808</th>\n",
       "      <th>0.0</th>\n",
       "      <td>85385</td>\n",
       "    </tr>\n",
       "    <tr>\n",
       "      <th>1.0</th>\n",
       "      <td>14291</td>\n",
       "    </tr>\n",
       "    <tr>\n",
       "      <th rowspan=\"2\" valign=\"top\">201809</th>\n",
       "      <th>0.0</th>\n",
       "      <td>90004</td>\n",
       "    </tr>\n",
       "    <tr>\n",
       "      <th>1.0</th>\n",
       "      <td>12810</td>\n",
       "    </tr>\n",
       "    <tr>\n",
       "      <th rowspan=\"2\" valign=\"top\">201810</th>\n",
       "      <th>0.0</th>\n",
       "      <td>97665</td>\n",
       "    </tr>\n",
       "    <tr>\n",
       "      <th>1.0</th>\n",
       "      <td>13608</td>\n",
       "    </tr>\n",
       "    <tr>\n",
       "      <th rowspan=\"2\" valign=\"top\">201902</th>\n",
       "      <th>0.0</th>\n",
       "      <td>136664</td>\n",
       "    </tr>\n",
       "    <tr>\n",
       "      <th>1.0</th>\n",
       "      <td>10653</td>\n",
       "    </tr>\n",
       "    <tr>\n",
       "      <th rowspan=\"2\" valign=\"top\">201904</th>\n",
       "      <th>0.0</th>\n",
       "      <td>183372</td>\n",
       "    </tr>\n",
       "    <tr>\n",
       "      <th>1.0</th>\n",
       "      <td>13409</td>\n",
       "    </tr>\n",
       "  </tbody>\n",
       "</table>\n",
       "</div>"
      ],
      "text/plain": [
       "                   key_value\n",
       "codmes flg_target           \n",
       "201804 0.0             80880\n",
       "       1.0              9952\n",
       "201806 0.0             87625\n",
       "       1.0             11163\n",
       "201808 0.0             85385\n",
       "       1.0             14291\n",
       "201809 0.0             90004\n",
       "       1.0             12810\n",
       "201810 0.0             97665\n",
       "       1.0             13608\n",
       "201902 0.0            136664\n",
       "       1.0             10653\n",
       "201904 0.0            183372\n",
       "       1.0             13409"
      ]
     },
     "execution_count": 34,
     "metadata": {},
     "output_type": "execute_result"
    }
   ],
   "source": [
    "X_modelo.groupby(['codmes','flg_target']).count()[['key_value']]\n"
   ]
  },
  {
   "cell_type": "markdown",
   "metadata": {},
   "source": [
    "# Particion y Balanceo\n",
    "Acá para hacer aprender al modelo se pasa a hacer un balanceo entre la clase positiva (incrementa la línea e incrementa el consumo) y la clase negativa. Se toma el dataset a modelizar y genera una base resampleada con la cantidad de casos iguales para el modelo."
   ]
  },
  {
   "cell_type": "code",
   "execution_count": 35,
   "metadata": {},
   "outputs": [],
   "source": [
    "X_modelo = X_modelo.drop([\"codmes\"],axis=1)\n",
    "X_backtest = X_backtest.drop([\"codmes\"],axis=1)"
   ]
  },
  {
   "cell_type": "code",
   "execution_count": 36,
   "metadata": {
    "scrolled": true
   },
   "outputs": [],
   "source": [
    "from sklearn.model_selection import train_test_split\n",
    "\n",
    "y = X_modelo[\"flg_target\"]\n",
    "X = X_modelo.drop([\"flg_target\"], axis=1)\n",
    "\n",
    "X_train, X_test, y_train, y_test = train_test_split(X, y, test_size=0.3, random_state=42)\n",
    "\n",
    "balanceoX=X_train[y_train>0]\n",
    "balanceoy=y_train[y_train>0]\n",
    "\n",
    "#agrego=np.random.choice(range(np.shape(balanceoy)[0]), size=abs(np.sum(y_train>0) - np.sum(y_train==0)), replace=True, p=None)\n",
    "\n",
    "agrego=np.random.uniform(low=0, high=np.shape(balanceoy)[0], size=abs(np.sum(y_train>0) - np.sum(y_train==0)))//1\n"
   ]
  },
  {
   "cell_type": "markdown",
   "metadata": {},
   "source": [
    "# BackTesting\n",
    "Acá se pasa a levantar el dataset para backtesting. En nuestro caso se va a dejar desde 201811 hasta 201901, que hasta donde contamos con información para realizar el modelo."
   ]
  },
  {
   "cell_type": "code",
   "execution_count": 38,
   "metadata": {},
   "outputs": [
    {
     "name": "stdout",
     "output_type": "stream",
     "text": [
      "(643777, 50)\n"
     ]
    }
   ],
   "source": [
    "y_backtest = X_backtest[\"flg_target\"]\n",
    "X_backtest = X_backtest.drop([\"flg_target\"], axis=1)\n",
    "X_backtest=X_backtest.reset_index(drop=True)\n",
    "y_backtest=y_backtest.reset_index(drop=True)\n",
    "\n",
    "ordeno=np.random.choice(range(np.shape(X_backtest)[0]), np.shape(X_backtest)[0], replace=False)\n",
    "X_backtest=X_backtest.iloc[ordeno]\n",
    "y_backtest=y_backtest.iloc[ordeno]\n",
    "\n",
    "X_backtest=X_backtest.reset_index(drop=True)\n",
    "y_backtest=y_backtest.reset_index(drop=True)\n",
    "\n",
    "print (np.shape(X_backtest))\n"
   ]
  },
  {
   "cell_type": "markdown",
   "metadata": {},
   "source": [
    "<h1>Corrida del modelo XGBOOST</h1>\n",
    "<h3>algunos comentarios</h3>\n",
    "Acá se pasa a correr el modelo con los parámetros que habíamos tuneado en su momento. Se genera el predict para el train, test y backtesting. Se debajo se calcula el AUC para cada dataset y el gini."
   ]
  },
  {
   "cell_type": "code",
   "execution_count": 39,
   "metadata": {
    "scrolled": false
   },
   "outputs": [],
   "source": [
    "#import xgboost as xgb\n",
    "from xgboost import XGBClassifier\n",
    "\n",
    "\"\"\"\n",
    "#modelo XGB por defecto\n",
    "XGBClassifier(base_score=0.5, booster='gbtree', colsample_bylevel=1,\n",
    "       colsample_bytree=1, gamma=0, learning_rate=0.3, max_delta_step=0,\n",
    "       max_depth=3, min_child_weight=1, missing=None, n_estimators=100,\n",
    "       n_jobs=1, nthread=None, objective='binary:logistic', random_state=0,\n",
    "       reg_alpha=0, reg_lambda=0, scale_pos_weight=1, seed=None,\n",
    "       silent=True, subsample=1)\n",
    "\"\"\"\n",
    "params = {'learning_rate': 0.1, 'max_depth': 3, 'n_estimators': 300, 'reg_alpha': 0, 'reg_lambda': 0.2}\n",
    "\n",
    "\n",
    "modelXGB = XGBClassifier(learning_rate= 0.1, max_depth= 3, n_estimators=400, reg_alpha= 0, reg_lambda= 0.2)\n",
    "\n",
    "modelXGB.fit(X_train, y_train)\n",
    "\n",
    "\n",
    "prediccionesXGB=modelXGB.predict(X_train)\n",
    "prediccionesXGB_ = modelXGB.predict(X_test)\n",
    "prediccionesXGB_Back = modelXGB.predict(X_backtest)\n",
    "\n",
    "aciertosXGB_ = pd.DataFrame((prediccionesXGB_== y_test)*1.0, index=None)\n",
    "aciertosXGB = pd.DataFrame((prediccionesXGB == y_train)*1.0, index=None)\n",
    "aciertosXGB_Back = pd.DataFrame((prediccionesXGB_Back== y_backtest)*1.0, index=None)\n",
    "scoreXGB = modelXGB.predict_proba(X_train)[:,1]\n",
    "scoreXGB_ = modelXGB.predict_proba(X_test)[:,1]\n",
    "scoreXGB_Back = modelXGB.predict_proba(X_backtest)[:,1]\n",
    "\n",
    "\n"
   ]
  },
  {
   "cell_type": "code",
   "execution_count": 40,
   "metadata": {},
   "outputs": [
    {
     "data": {
      "text/html": [
       "El accuracy del test toma un valor igual a: 0.8170347499459183"
      ],
      "text/plain": [
       "<IPython.core.display.HTML object>"
      ]
     },
     "metadata": {},
     "output_type": "display_data"
    },
    {
     "data": {
      "text/html": [
       "El area bajo la curva del test es igual a: 0.8074046145084027"
      ],
      "text/plain": [
       "<IPython.core.display.HTML object>"
      ]
     },
     "metadata": {},
     "output_type": "display_data"
    },
    {
     "data": {
      "text/html": [
       "El gini del test es igual a: 0.6148092290168055"
      ],
      "text/plain": [
       "<IPython.core.display.HTML object>"
      ]
     },
     "metadata": {},
     "output_type": "display_data"
    },
    {
     "data": {
      "text/html": [
       "El accuracy del backtest toma un valor igual a: 0.8014685209319377"
      ],
      "text/plain": [
       "<IPython.core.display.HTML object>"
      ]
     },
     "metadata": {},
     "output_type": "display_data"
    },
    {
     "data": {
      "text/html": [
       "El area bajo la curva del backtest es igual a: 0.8147010778900956"
      ],
      "text/plain": [
       "<IPython.core.display.HTML object>"
      ]
     },
     "metadata": {},
     "output_type": "display_data"
    },
    {
     "data": {
      "text/html": [
       "El gini del test es igual a: 0.6294021557801912"
      ],
      "text/plain": [
       "<IPython.core.display.HTML object>"
      ]
     },
     "metadata": {},
     "output_type": "display_data"
    }
   ],
   "source": [
    "from sklearn.metrics import accuracy_score\n",
    "acc=accuracy_score(y_test, (scoreXGB_>0.65)*1, normalize=True)\n",
    "acc_back=accuracy_score(y_backtest, (scoreXGB_Back>0.65)*1, normalize=True)\n",
    "\n",
    "from sklearn.metrics import roc_auc_score\n",
    "aroc=roc_auc_score(y_test, scoreXGB_)\n",
    "aroc_back=roc_auc_score(y_backtest, scoreXGB_Back)\n",
    "agini=2*aroc-1\n",
    "agini_back=2*aroc_back-1\n",
    "\n",
    "\n",
    "comentario1=\"El accuracy del test toma un valor igual a: \"+ str(acc)\n",
    "comentario2=\"El area bajo la curva del test es igual a: \"+ str(aroc)\n",
    "comentario3=\"El gini del test es igual a: \"+ str(agini)\n",
    "comentario4=\"El accuracy del backtest toma un valor igual a: \"+ str(acc_back)\n",
    "comentario5=\"El area bajo la curva del backtest es igual a: \"+ str(aroc_back)\n",
    "comentario6=\"El gini del test es igual a: \"+ str(agini_back)\n",
    "\n",
    "\n",
    "\n",
    "display(HTML(comentario1))\n",
    "display(HTML(comentario2))\n",
    "display(HTML(comentario3))\n",
    "display(HTML(comentario4))\n",
    "display(HTML(comentario5))\n",
    "display(HTML(comentario6))"
   ]
  },
  {
   "cell_type": "markdown",
   "metadata": {},
   "source": [
    "# Matriz de confusión XGB\n",
    "Se generan las matrices de confusión tanto para el training como para el testing"
   ]
  },
  {
   "cell_type": "code",
   "execution_count": 41,
   "metadata": {},
   "outputs": [],
   "source": [
    "import itertools\n",
    "from sklearn.metrics import confusion_matrix\n",
    "%matplotlib inline\n",
    "import matplotlib.pyplot as plt\n",
    "\n",
    "class_names = np.array(['0', '1'],  dtype='|S10')\n",
    "\n",
    "\n",
    "def plot_confusion_matrix(cm, classes,normalize=False,\n",
    "                          title='Confusion matrix',\n",
    "                          cmap=plt.cm.Blues):\n",
    "    \n",
    "       \n",
    "    plt.imshow(cm, interpolation='nearest', cmap=cmap)\n",
    "    plt.title(title)\n",
    "    plt.colorbar()\n",
    "    tick_marks = np.arange(len(classes))\n",
    "    plt.xticks(tick_marks, classes, rotation=45)\n",
    "    plt.yticks(tick_marks, classes)\n",
    "    if normalize:\n",
    "        cm = cm.astype('float') / cm.sum(axis=1)[:, np.newaxis]\n",
    "        print(\"Matriz de confusion normalizada\")\n",
    "    else:\n",
    "        print('Matriz de confusion sin normalizar')\n",
    "    print(cm)\n",
    "    thresh = cm.max() / 2.\n",
    "    for i, j in itertools.product(range(cm.shape[0]), range(cm.shape[1])):\n",
    "        plt.text(j, i, cm[i, j],\n",
    "        horizontalalignment=\"center\",\n",
    "        color=\"white\" if cm[i, j] > thresh else \"black\")\n",
    "        plt.tight_layout()\n",
    "        plt.ylabel('Prediccion')\n",
    "        plt.xlabel('Valor observado')\n"
   ]
  },
  {
   "cell_type": "code",
   "execution_count": 42,
   "metadata": {},
   "outputs": [
    {
     "data": {
      "text/html": [
       "<h1>Matriz de confusión para el conjunto de entrenamiento</h1>"
      ],
      "text/plain": [
       "<IPython.core.display.HTML object>"
      ]
     },
     "metadata": {},
     "output_type": "display_data"
    },
    {
     "name": "stdout",
     "output_type": "stream",
     "text": [
      "Matriz de confusion sin normalizar\n",
      "[[423491 187268]\n",
      " [109503 345726]]\n",
      "Matriz de confusion normalizada\n",
      "[[0.69 0.31]\n",
      " [0.24 0.76]]\n"
     ]
    },
    {
     "data": {
      "image/png": "[encoded data removed]",
      "text/plain": [
       "<Figure size 360x360 with 2 Axes>"
      ]
     },
     "metadata": {},
     "output_type": "display_data"
    },
    {
     "data": {
      "image/png": "[encoded data removed]",
      "text/plain": [
       "<Figure size 360x360 with 2 Axes>"
      ]
     },
     "metadata": {},
     "output_type": "display_data"
    },
    {
     "data": {
      "text/html": [
       "<h3>Accuracy = 0.7216</h3>"
      ],
      "text/plain": [
       "<IPython.core.display.HTML object>"
      ]
     },
     "metadata": {},
     "output_type": "display_data"
    }
   ],
   "source": [
    "display(HTML(\"<h1>Matriz de confusión para el conjunto de entrenamiento</h1>\"))\n",
    "\n",
    "prediccionesXGB=(scoreXGB<=0.6)*0\n",
    "prediccionesXGB=(scoreXGB>0.6)*1\n",
    "\n",
    "\n",
    "# Compute Training confusion matrix\n",
    "cnf_matrix = confusion_matrix(prediccionesXGB, y_train)\n",
    "np.set_printoptions(precision=2)\n",
    "# Plot matriz de confusion sin normalizar\n",
    "plt.figure(figsize=(5,5))\n",
    "plot_confusion_matrix(cnf_matrix, classes=class_names,title='Matriz de confusion sin normalizar')\n",
    "\n",
    "# Plot matriz de confusion normalizada\n",
    "plt.figure(figsize=(5,5))\n",
    "plot_confusion_matrix(cnf_matrix, classes=class_names, normalize=True,title='Matriz de confusion normalizada')\n",
    "plt.show()\n",
    "\n",
    "from sklearn.metrics import accuracy_score\n",
    "comentario=\"<h3>Accuracy = \" + str(round(accuracy_score(y_train, (scoreXGB>0.6)*1, normalize=True),4))+\"</h3>\"\n",
    "display(HTML(comentario))"
   ]
  },
  {
   "cell_type": "code",
   "execution_count": 43,
   "metadata": {},
   "outputs": [
    {
     "data": {
      "text/html": [
       "<h1>Matriz de confusión para el conjunto de testeo</h1>"
      ],
      "text/plain": [
       "<IPython.core.display.HTML object>"
      ]
     },
     "metadata": {},
     "output_type": "display_data"
    },
    {
     "name": "stdout",
     "output_type": "stream",
     "text": [
      "Matriz de confusion sin normalizar\n",
      "[[181489   9533]\n",
      " [ 47112  16111]]\n",
      "Matriz de confusion normalizada\n",
      "[[0.95 0.05]\n",
      " [0.75 0.25]]\n"
     ]
    },
    {
     "data": {
      "image/png": "[encoded data removed]",
      "text/plain": [
       "<Figure size 360x360 with 2 Axes>"
      ]
     },
     "metadata": {},
     "output_type": "display_data"
    },
    {
     "data": {
      "image/png": "[encoded data removed]",
      "text/plain": [
       "<Figure size 360x360 with 2 Axes>"
      ]
     },
     "metadata": {},
     "output_type": "display_data"
    },
    {
     "data": {
      "text/html": [
       "<h3>Accuracy = 0.7772</h3>"
      ],
      "text/plain": [
       "<IPython.core.display.HTML object>"
      ]
     },
     "metadata": {},
     "output_type": "display_data"
    }
   ],
   "source": [
    "display(HTML(\"<h1>Matriz de confusión para el conjunto de testeo</h1>\"))\n",
    "\n",
    "prediccionesXGB_=(scoreXGB_<=0.6)*0\n",
    "prediccionesXGB_=(scoreXGB_>0.6)*1\n",
    "\n",
    "# Compute Testing confusion matrix\n",
    "cnf_matrix = confusion_matrix(prediccionesXGB_, y_test)\n",
    "np.set_printoptions(precision=2)\n",
    "# Plot matriz de confusion sin normalizar\n",
    "plt.figure(figsize=(5,5))\n",
    "plot_confusion_matrix(cnf_matrix, classes=class_names,\n",
    "title='Matriz de confusion sin normalizar')\n",
    "# Plot matriz de confusion normalizada\n",
    "plt.figure(figsize=(5,5))\n",
    "plot_confusion_matrix(cnf_matrix, classes=class_names, normalize=True,\n",
    "title='Matriz de confusion normalizada')\n",
    "plt.show()\n",
    "from sklearn.metrics import accuracy_score\n",
    "comentario=\"<h3>Accuracy = \" + str(round(accuracy_score(y_test, (scoreXGB_>0.6)*1, normalize=True),4))+\"</h3>\"\n",
    "display(HTML(comentario))\n"
   ]
  },
  {
   "cell_type": "markdown",
   "metadata": {},
   "source": [
    "# Curva ROC XGB empleando CV\n",
    "Se genera la curva ROC para el training utilizando cross validation"
   ]
  },
  {
   "cell_type": "code",
   "execution_count": 44,
   "metadata": {},
   "outputs": [
    {
     "data": {
      "text/html": [
       "<h1>Curva ROC para el modelo XGBOOST (Fold=3)</h1>"
      ],
      "text/plain": [
       "<IPython.core.display.HTML object>"
      ]
     },
     "metadata": {},
     "output_type": "display_data"
    },
    {
     "data": {
      "image/png": "[encoded data removed]",
      "text/plain": [
       "<Figure size 576x576 with 1 Axes>"
      ]
     },
     "metadata": {},
     "output_type": "display_data"
    }
   ],
   "source": [
    "display(HTML(\"<h1>Curva ROC para el modelo XGBOOST (Fold=3)</h1>\"))\n",
    "#\n",
    "import matplotlib.pyplot as plt\n",
    "from itertools import cycle\n",
    "from scipy import interp\n",
    "from sklearn.metrics import roc_curve, auc\n",
    "from sklearn.model_selection import StratifiedKFold\n",
    "\n",
    "plt.figure(figsize=(8,8))\n",
    "# Corre el modelo con cross-validation y curva ROC\n",
    "cv = StratifiedKFold(n_splits=4)\n",
    "#classifier= debe ser el mejor modelo tuneado\n",
    "classifier = XGBClassifier()\n",
    "mean_tpr = 0.0\n",
    "mean_fpr = np.linspace(0, 1, 10)\n",
    "colors = cycle(['cyan', 'indigo', 'seagreen', 'yellow', 'blue', 'darkorange'])\n",
    "colors = cycle(['cyan', 'indigo', 'seagreen'])\n",
    "lw = 2\n",
    "i = 0\n",
    "for (train, test), color in zip(cv.split(X_train, y_train), colors):\n",
    "    probas_ = classifier.fit(X_train.iloc[train,:], y_train[train]).predict_proba(X_train.iloc[test,:])\n",
    "    # Calcula la curva ROC y area bajo la curva\n",
    "    fpr, tpr, thresholds = roc_curve(y_train[test], probas_[:, 1])\n",
    "    mean_tpr += interp(mean_fpr, fpr, tpr)\n",
    "    mean_tpr[0] = 0.0\n",
    "    roc_auc = auc(fpr, tpr)\n",
    "    plt.plot(fpr, tpr, lw=lw, color=color,\n",
    "    label='ROC fold %d (area = %0.2f)' % (i, roc_auc))\n",
    "    i += 1\n",
    "plt.plot([0, 1], [0, 1], linestyle='--', lw=lw, color='k',\n",
    "label='Azar')\n",
    "mean_tpr /= cv.get_n_splits(X_train, y_train)\n",
    "mean_tpr[-1] = 1.0\n",
    "\n",
    "mean_auc = auc(mean_fpr, mean_tpr)\n",
    "plt.plot(mean_fpr, mean_tpr, color='g', linestyle='--',\n",
    "label='ROC media (area = %0.2f)' % mean_auc, lw=lw)\n",
    "plt.xlim([-0.05, 1.05])\n",
    "plt.ylim([-0.05, 1.05])\n",
    "plt.xlabel('False Positive Rate')\n",
    "plt.ylabel('True Positive Rate')\n",
    "plt.title('Titulo')\n",
    "plt.legend(loc=\"lower right\")\n",
    "plt.show()\n",
    "\n"
   ]
  },
  {
   "cell_type": "code",
   "execution_count": 45,
   "metadata": {},
   "outputs": [
    {
     "data": {
      "text/html": [
       "<h1>Matriz de confusión para el conjunto de backtesting</h1>"
      ],
      "text/plain": [
       "<IPython.core.display.HTML object>"
      ]
     },
     "metadata": {},
     "output_type": "display_data"
    },
    {
     "name": "stdout",
     "output_type": "stream",
     "text": [
      "Matriz de confusion sin normalizar\n",
      "[[374020  12051]\n",
      " [201727  55979]]\n",
      "Matriz de confusion normalizada\n",
      "[[0.97 0.03]\n",
      " [0.78 0.22]]\n"
     ]
    },
    {
     "data": {
      "image/png": "[encoded data removed]",
      "text/plain": [
       "<Figure size 360x360 with 2 Axes>"
      ]
     },
     "metadata": {},
     "output_type": "display_data"
    },
    {
     "data": {
      "image/png": "[encoded data removed]",
      "text/plain": [
       "<Figure size 360x360 with 2 Axes>"
      ]
     },
     "metadata": {},
     "output_type": "display_data"
    },
    {
     "data": {
      "text/html": [
       "<h3>Accuracy = 0.7603</h3>"
      ],
      "text/plain": [
       "<IPython.core.display.HTML object>"
      ]
     },
     "metadata": {},
     "output_type": "display_data"
    }
   ],
   "source": [
    "display(HTML(\"<h1>Matriz de confusión para el conjunto de backtesting</h1>\"))\n",
    "# Compute Testing confusion matrix\n",
    "cnf_matrix = confusion_matrix(prediccionesXGB_Back, y_backtest)\n",
    "np.set_printoptions(precision=2)\n",
    "# Plot matriz de confusion sin normalizar\n",
    "plt.figure(figsize=(5,5))\n",
    "plot_confusion_matrix(cnf_matrix, classes=class_names,\n",
    "title='Matriz de confusion sin normalizar')\n",
    "# Plot matriz de confusion normalizada\n",
    "plt.figure(figsize=(5,5))\n",
    "plot_confusion_matrix(cnf_matrix, classes=class_names, normalize=True,\n",
    "title='Matriz de confusion normalizada')\n",
    "plt.show()\n",
    "from sklearn.metrics import accuracy_score\n",
    "comentario=\"<h3>Accuracy = \" + str(round(accuracy_score(y_backtest, (scoreXGB_Back>0.6)*1, normalize=True),4))+\"</h3>\"\n",
    "display(HTML(comentario))\n"
   ]
  },
  {
   "cell_type": "markdown",
   "metadata": {},
   "source": [
    "# Importancia de variables XGB\n",
    "Acá se ordenan las variables según la importancia de cada una de ellas y se dejan plasmadas en un gráfico."
   ]
  },
  {
   "cell_type": "code",
   "execution_count": 46,
   "metadata": {
    "scrolled": false
   },
   "outputs": [
    {
     "data": {
      "text/html": [
       "<h1>Importancia de las variables empeladas por el modelo</h1>"
      ],
      "text/plain": [
       "<IPython.core.display.HTML object>"
      ]
     },
     "metadata": {},
     "output_type": "display_data"
    },
    {
     "data": {
      "image/png": "[encoded data removed]",
      "text/plain": [
       "<Figure size 576x576 with 1 Axes>"
      ]
     },
     "metadata": {},
     "output_type": "display_data"
    }
   ],
   "source": [
    "display(HTML(\"<h1>Importancia de las variables empeladas por el modelo</h1>\"))\n",
    "names=X_train.columns.values.tolist()#[importancesXGB>0.01] #nombres de las variables\n",
    "importancesXGB = modelXGB.feature_importances_\n",
    "importances=importancesXGB\n",
    "%matplotlib inline\n",
    "import matplotlib.pyplot as plt\n",
    "nuevo=pd.DataFrame(names)\n",
    "nuevo[\"variable\"]=pd.DataFrame(names)\n",
    "nuevo[\"importancia\"]=importances\n",
    "nuevo=nuevo[nuevo[\"importancia\"]>0.003]\n",
    "nuevo=nuevo.sort_values(['importancia'], ascending=[0])\n",
    "plt.figure(figsize=(8,8))\n",
    "plt.title(\"importancia relativa\")\n",
    "plt.barh(nuevo[\"variable\"], nuevo[\"importancia\"], align=\"center\")\n",
    "plt.rcParams['figure.figsize'] = [15,15]\n",
    "plt.show()\n"
   ]
  },
  {
   "cell_type": "code",
   "execution_count": 47,
   "metadata": {},
   "outputs": [],
   "source": [
    "nuevo\n",
    "nuevo.to_csv('variables.csv', sep=\",\")"
   ]
  },
  {
   "cell_type": "markdown",
   "metadata": {},
   "source": [
    "# Relacion entre variable importante y score por clase\n",
    "Se genera un gráfico de puntos (scatter plot) en el que se observa la nube de puntos entre la variable respuesta y cada una de las variables, para ir seleccionando."
   ]
  },
  {
   "cell_type": "code",
   "execution_count": 16,
   "metadata": {},
   "outputs": [
    {
     "data": {
      "text/html": [
       "<h3>Seleccione una variale para ver su relacion con el score por clase</h3>"
      ],
      "text/plain": [
       "<IPython.core.display.HTML object>"
      ]
     },
     "metadata": {},
     "output_type": "display_data"
    },
    {
     "data": {
      "application/vnd.jupyter.widget-view+json": {
       "model_id": "68fdfaeffffe4ffab82dd583f69b25d1",
       "version_major": 2,
       "version_minor": 0
      },
      "text/plain": [
       "Dropdown(description='Number:', options=('prm_sldtotfintcr06m', 'PRM_SLDVIGPRMAR06M_ING_BRT', 'prm_usotcrallsf…"
      ]
     },
     "metadata": {},
     "output_type": "display_data"
    },
    {
     "data": {
      "text/html": [
       "<h4>....y correr la siguiente celda</h4>"
      ],
      "text/plain": [
       "<IPython.core.display.HTML object>"
      ]
     },
     "metadata": {},
     "output_type": "display_data"
    }
   ],
   "source": [
    "import ipywidgets as widgets\n",
    "\n",
    "variable_E = widgets.Dropdown(\n",
    "    options=nuevo[\"variable\"],\n",
    "    description='Number:',\n",
    "    disabled=False,\n",
    ")\n",
    "display(HTML(\"<h3>Seleccione una variale para ver su relacion con el score por clase</h3>\"), variable_E, \n",
    "       HTML(\"<h4>....y correr la siguiente celda</h4>\"))\n"
   ]
  },
  {
   "cell_type": "code",
   "execution_count": 17,
   "metadata": {
    "scrolled": true
   },
   "outputs": [
    {
     "data": {
      "text/html": [
       "<h1>Análisis de las variables más importantes con respecto al score por clase</h1>"
      ],
      "text/plain": [
       "<IPython.core.display.HTML object>"
      ]
     },
     "metadata": {},
     "output_type": "display_data"
    },
    {
     "data": {
      "image/png": "[encoded data removed]",
      "text/plain": [
       "<Figure size 576x576 with 3 Axes>"
      ]
     },
     "metadata": {},
     "output_type": "display_data"
    },
    {
     "data": {
      "text/plain": [
       "None"
      ]
     },
     "metadata": {},
     "output_type": "display_data"
    }
   ],
   "source": [
    "display(HTML(\"<h1>Análisis de las variables más importantes con respecto al score por clase</h1>\"))\n",
    "import numpy as np\n",
    "import matplotlib.pyplot as plt\n",
    "from matplotlib.ticker import NullFormatter\n",
    "\n",
    "colors = ['#998ec3', '#f1a340']\n",
    "\n",
    "#data\n",
    "xx = X_test[variable_E.value]\n",
    "media=np.mean(xx)\n",
    "truess=((xx > -3*media) & (xx < 3*media)).values\n",
    "xx=xx[truess]\n",
    "\n",
    "yy = scoreXGB_[truess]\n",
    "hh = y_test[truess]\n",
    "\n",
    "nullfmt = NullFormatter()         # no labels\n",
    "\n",
    "# definitions for the axes\n",
    "left, width = 0.1, 0.65\n",
    "bottom, height = 0.1, 0.65\n",
    "bottom_h = left_h = left + width + 0.02\n",
    "\n",
    "rect_scatter = [left, bottom, width, height]\n",
    "rect_histx = [left, bottom_h, width, 0.2]\n",
    "rect_histy = [left_h, bottom, 0.2, height]\n",
    "\n",
    "# start with a rectangular Figure\n",
    "plt.figure(figsize=(8,8))\n",
    "\n",
    "axScatter = plt.axes(rect_scatter)\n",
    "axHistx = plt.axes(rect_histx)\n",
    "axHisty = plt.axes(rect_histy)\n",
    "\n",
    "# no labels\n",
    "axHistx.xaxis.set_major_formatter(nullfmt)\n",
    "axHisty.yaxis.set_major_formatter(nullfmt)\n",
    "\n",
    "# the scatter plot:\n",
    "\n",
    "li = axScatter.scatter(xx[hh==0], yy[hh==0], marker='x',  color=colors[1], alpha=.3)\n",
    "lo = axScatter.scatter(xx[hh==1], yy[hh==1], marker='o', color=colors[0], alpha=0.3)\n",
    "axScatter.set_xlim((np.min(xx), np.max(xx)))\n",
    "axScatter.set_ylim((np.min(yy), np.max(yy)))\n",
    "\n",
    "#binsx=np.percentile(xx, [10,20,30,40,50,60,70,80,90, 100])\n",
    "#binsy = np.arange(np.min(y), np.max(y) , abs(np.min(y)- np.max(y))/20)\n",
    "#binsy=np.percentile(yy, [10,20,30,40,50,60,70,80,90, 100])\n",
    "binsx = np.arange(np.min(xx), np.max(xx) , abs(np.min(xx)- np.max(xx))/300)\n",
    "binsy = np.arange(np.min(yy), np.max(yy) , abs(np.min(yy)- np.max(yy))/300)\n",
    "axHistx.hist(xx, bins=binsx, color='#2300A8', alpha=0.4)\n",
    "axHisty.hist(yy, bins=binsy, orientation='horizontal', color='#2300A8', alpha=0.4)\n",
    "\n",
    "axHistx.set_xlim(axScatter.get_xlim())\n",
    "axHisty.set_ylim(axScatter.get_ylim())\n",
    "\n",
    "axScatter.legend((lo, li), ('Obs_Positivos', 'Obs_Negativos'), scatterpoints=3, loc='lower center', ncol=2,  fontsize=12)\n",
    "axScatter.grid(True)\n",
    "display(plt.show())"
   ]
  },
  {
   "cell_type": "code",
   "execution_count": 18,
   "metadata": {
    "scrolled": true
   },
   "outputs": [
    {
     "data": {
      "text/html": [
       "\n",
       "<h1>Cuadro de importancia de las variables empeladas por el modelo</h1>\n",
       "<p>variable = Nombre de la variable</p>\n",
       "<p>vimportancia = cuanto aporta la variable al modelo</p>\n",
       "<p>acumulado = cuanto acumulan las variables que mas colaboran al modelo</p>\n"
      ],
      "text/plain": [
       "<IPython.core.display.HTML object>"
      ]
     },
     "metadata": {},
     "output_type": "display_data"
    },
    {
     "data": {
      "text/html": [
       "<div>\n",
       "<style scoped>\n",
       "    .dataframe tbody tr th:only-of-type {\n",
       "        vertical-align: middle;\n",
       "    }\n",
       "\n",
       "    .dataframe tbody tr th {\n",
       "        vertical-align: top;\n",
       "    }\n",
       "\n",
       "    .dataframe thead th {\n",
       "        text-align: right;\n",
       "    }\n",
       "</style>\n",
       "<table border=\"1\" class=\"dataframe\">\n",
       "  <thead>\n",
       "    <tr style=\"text-align: right;\">\n",
       "      <th></th>\n",
       "      <th>0</th>\n",
       "      <th>variable</th>\n",
       "      <th>importancia</th>\n",
       "      <th>acumulado</th>\n",
       "    </tr>\n",
       "  </thead>\n",
       "  <tbody>\n",
       "    <tr>\n",
       "      <th>0</th>\n",
       "      <td>prm_sldtotfintcr06m</td>\n",
       "      <td>prm_sldtotfintcr06m</td>\n",
       "      <td>0.281372</td>\n",
       "      <td>0.281372</td>\n",
       "    </tr>\n",
       "    <tr>\n",
       "      <th>1</th>\n",
       "      <td>PRM_SLDVIGPRMAR06M_ING_BRT</td>\n",
       "      <td>PRM_SLDVIGPRMAR06M_ING_BRT</td>\n",
       "      <td>0.133485</td>\n",
       "      <td>0.414856</td>\n",
       "    </tr>\n",
       "    <tr>\n",
       "      <th>2</th>\n",
       "      <td>prm_usotcrallsf03m</td>\n",
       "      <td>prm_usotcrallsf03m</td>\n",
       "      <td>0.088238</td>\n",
       "      <td>0.503094</td>\n",
       "    </tr>\n",
       "    <tr>\n",
       "      <th>3</th>\n",
       "      <td>flg_sldacttcr</td>\n",
       "      <td>flg_sldacttcr</td>\n",
       "      <td>0.066437</td>\n",
       "      <td>0.569532</td>\n",
       "    </tr>\n",
       "    <tr>\n",
       "      <th>4</th>\n",
       "      <td>prm_lintcribksf03m</td>\n",
       "      <td>prm_lintcribksf03m</td>\n",
       "      <td>0.052511</td>\n",
       "      <td>0.622043</td>\n",
       "    </tr>\n",
       "    <tr>\n",
       "      <th>5</th>\n",
       "      <td>ing_notfncm01</td>\n",
       "      <td>ing_notfncm01</td>\n",
       "      <td>0.048773</td>\n",
       "      <td>0.670815</td>\n",
       "    </tr>\n",
       "    <tr>\n",
       "      <th>6</th>\n",
       "      <td>prm_usoep1tcallsf06m</td>\n",
       "      <td>prm_usoep1tcallsf06m</td>\n",
       "      <td>0.040804</td>\n",
       "      <td>0.711620</td>\n",
       "    </tr>\n",
       "    <tr>\n",
       "      <th>7</th>\n",
       "      <td>PRM_INGNOTFNC06M_ING_BRT</td>\n",
       "      <td>PRM_INGNOTFNC06M_ING_BRT</td>\n",
       "      <td>0.032649</td>\n",
       "      <td>0.744269</td>\n",
       "    </tr>\n",
       "    <tr>\n",
       "      <th>8</th>\n",
       "      <td>codmes</td>\n",
       "      <td>codmes</td>\n",
       "      <td>0.031081</td>\n",
       "      <td>0.775350</td>\n",
       "    </tr>\n",
       "    <tr>\n",
       "      <th>9</th>\n",
       "      <td>TND_LINTCRIBKSFM01_INGB</td>\n",
       "      <td>TND_LINTCRIBKSFM01_INGB</td>\n",
       "      <td>0.020780</td>\n",
       "      <td>0.796130</td>\n",
       "    </tr>\n",
       "    <tr>\n",
       "      <th>10</th>\n",
       "      <td>edad</td>\n",
       "      <td>edad</td>\n",
       "      <td>0.019472</td>\n",
       "      <td>0.815602</td>\n",
       "    </tr>\n",
       "    <tr>\n",
       "      <th>11</th>\n",
       "      <td>PRM_LINTCRIBKSF06M_INGB</td>\n",
       "      <td>PRM_LINTCRIBKSF06M_INGB</td>\n",
       "      <td>0.014383</td>\n",
       "      <td>0.829985</td>\n",
       "    </tr>\n",
       "    <tr>\n",
       "      <th>12</th>\n",
       "      <td>prm_mrgfnc03m</td>\n",
       "      <td>prm_mrgfnc03m</td>\n",
       "      <td>0.011227</td>\n",
       "      <td>0.841212</td>\n",
       "    </tr>\n",
       "    <tr>\n",
       "      <th>13</th>\n",
       "      <td>prom_lin_tc_rccsf_06m</td>\n",
       "      <td>prom_lin_tc_rccsf_06m</td>\n",
       "      <td>0.010839</td>\n",
       "      <td>0.852051</td>\n",
       "    </tr>\n",
       "    <tr>\n",
       "      <th>14</th>\n",
       "      <td>uso_tc_rccsf_m01</td>\n",
       "      <td>uso_tc_rccsf_m01</td>\n",
       "      <td>0.010576</td>\n",
       "      <td>0.862627</td>\n",
       "    </tr>\n",
       "    <tr>\n",
       "      <th>15</th>\n",
       "      <td>tnd_ingnotfnctcr06m</td>\n",
       "      <td>tnd_ingnotfnctcr06m</td>\n",
       "      <td>0.009945</td>\n",
       "      <td>0.872572</td>\n",
       "    </tr>\n",
       "    <tr>\n",
       "      <th>16</th>\n",
       "      <td>PRM_MRGFNC06M_ING_BRT</td>\n",
       "      <td>PRM_MRGFNC06M_ING_BRT</td>\n",
       "      <td>0.009755</td>\n",
       "      <td>0.882326</td>\n",
       "    </tr>\n",
       "    <tr>\n",
       "      <th>17</th>\n",
       "      <td>uso_tcrrstsfm01</td>\n",
       "      <td>uso_tcrrstsfm01</td>\n",
       "      <td>0.009219</td>\n",
       "      <td>0.891545</td>\n",
       "    </tr>\n",
       "    <tr>\n",
       "      <th>18</th>\n",
       "      <td>PRM_LINTCRIBKSF03M_INGB</td>\n",
       "      <td>PRM_LINTCRIBKSF03M_INGB</td>\n",
       "      <td>0.008014</td>\n",
       "      <td>0.899559</td>\n",
       "    </tr>\n",
       "    <tr>\n",
       "      <th>19</th>\n",
       "      <td>TND_LINTCRALLSFM01_INGB</td>\n",
       "      <td>TND_LINTCRALLSFM01_INGB</td>\n",
       "      <td>0.007354</td>\n",
       "      <td>0.906913</td>\n",
       "    </tr>\n",
       "    <tr>\n",
       "      <th>20</th>\n",
       "      <td>prm_ingnotfnc06m</td>\n",
       "      <td>prm_ingnotfnc06m</td>\n",
       "      <td>0.006991</td>\n",
       "      <td>0.913905</td>\n",
       "    </tr>\n",
       "    <tr>\n",
       "      <th>21</th>\n",
       "      <td>dist_ctd_ent_tot_m01</td>\n",
       "      <td>dist_ctd_ent_tot_m01</td>\n",
       "      <td>0.006012</td>\n",
       "      <td>0.919916</td>\n",
       "    </tr>\n",
       "    <tr>\n",
       "      <th>22</th>\n",
       "      <td>PROM_LIN_TC_RCCSF_06M_INGB</td>\n",
       "      <td>PROM_LIN_TC_RCCSF_06M_INGB</td>\n",
       "      <td>0.005587</td>\n",
       "      <td>0.925503</td>\n",
       "    </tr>\n",
       "    <tr>\n",
       "      <th>23</th>\n",
       "      <td>PRM_INGNOTFNCTCR06M_ING_BRT</td>\n",
       "      <td>PRM_INGNOTFNCTCR06M_ING_BRT</td>\n",
       "      <td>0.005281</td>\n",
       "      <td>0.930784</td>\n",
       "    </tr>\n",
       "    <tr>\n",
       "      <th>24</th>\n",
       "      <td>prm_ingnotfnctcr06m</td>\n",
       "      <td>prm_ingnotfnctcr06m</td>\n",
       "      <td>0.005121</td>\n",
       "      <td>0.935905</td>\n",
       "    </tr>\n",
       "    <tr>\n",
       "      <th>25</th>\n",
       "      <td>LIN_TC_RCCIBK_M01_INGB</td>\n",
       "      <td>LIN_TC_RCCIBK_M01_INGB</td>\n",
       "      <td>0.004707</td>\n",
       "      <td>0.940612</td>\n",
       "    </tr>\n",
       "    <tr>\n",
       "      <th>26</th>\n",
       "      <td>PRM_LINEPTCRALLSF06M_INGB</td>\n",
       "      <td>PRM_LINEPTCRALLSF06M_INGB</td>\n",
       "      <td>0.004574</td>\n",
       "      <td>0.945185</td>\n",
       "    </tr>\n",
       "    <tr>\n",
       "      <th>27</th>\n",
       "      <td>prm_mrgfnc06m</td>\n",
       "      <td>prm_mrgfnc06m</td>\n",
       "      <td>0.004401</td>\n",
       "      <td>0.949586</td>\n",
       "    </tr>\n",
       "    <tr>\n",
       "      <th>28</th>\n",
       "      <td>PRM_LINTCRRSTSF06M_INGB</td>\n",
       "      <td>PRM_LINTCRRSTSF06M_INGB</td>\n",
       "      <td>0.004345</td>\n",
       "      <td>0.953932</td>\n",
       "    </tr>\n",
       "    <tr>\n",
       "      <th>29</th>\n",
       "      <td>lin_tc_rccnoibk_m01</td>\n",
       "      <td>lin_tc_rccnoibk_m01</td>\n",
       "      <td>0.004084</td>\n",
       "      <td>0.958016</td>\n",
       "    </tr>\n",
       "    <tr>\n",
       "      <th>30</th>\n",
       "      <td>tnd_sldep1tcallsfm01</td>\n",
       "      <td>tnd_sldep1tcallsfm01</td>\n",
       "      <td>0.003901</td>\n",
       "      <td>0.961917</td>\n",
       "    </tr>\n",
       "    <tr>\n",
       "      <th>31</th>\n",
       "      <td>tnd_sldvigfinecs06m</td>\n",
       "      <td>tnd_sldvigfinecs06m</td>\n",
       "      <td>0.003681</td>\n",
       "      <td>0.965598</td>\n",
       "    </tr>\n",
       "    <tr>\n",
       "      <th>32</th>\n",
       "      <td>TND_LINTCRRSTSFM01_INGB</td>\n",
       "      <td>TND_LINTCRRSTSFM01_INGB</td>\n",
       "      <td>0.003604</td>\n",
       "      <td>0.969202</td>\n",
       "    </tr>\n",
       "    <tr>\n",
       "      <th>33</th>\n",
       "      <td>salvig_entprinc_m01</td>\n",
       "      <td>salvig_entprinc_m01</td>\n",
       "      <td>0.003524</td>\n",
       "      <td>0.972726</td>\n",
       "    </tr>\n",
       "    <tr>\n",
       "      <th>34</th>\n",
       "      <td>tnd_lintcribksfm01</td>\n",
       "      <td>tnd_lintcribksfm01</td>\n",
       "      <td>0.003213</td>\n",
       "      <td>0.975939</td>\n",
       "    </tr>\n",
       "    <tr>\n",
       "      <th>35</th>\n",
       "      <td>TND_MRGFNCTCRM06_ING_BRT</td>\n",
       "      <td>TND_MRGFNCTCRM06_ING_BRT</td>\n",
       "      <td>0.003178</td>\n",
       "      <td>0.979117</td>\n",
       "    </tr>\n",
       "    <tr>\n",
       "      <th>36</th>\n",
       "      <td>PRM_SOWE1PTCALLSF06M_INGB</td>\n",
       "      <td>PRM_SOWE1PTCALLSF06M_INGB</td>\n",
       "      <td>0.003104</td>\n",
       "      <td>0.982221</td>\n",
       "    </tr>\n",
       "  </tbody>\n",
       "</table>\n",
       "</div>"
      ],
      "text/plain": [
       "                              0                     variable  importancia  \\\n",
       "0           prm_sldtotfintcr06m          prm_sldtotfintcr06m     0.281372   \n",
       "1    PRM_SLDVIGPRMAR06M_ING_BRT   PRM_SLDVIGPRMAR06M_ING_BRT     0.133485   \n",
       "2            prm_usotcrallsf03m           prm_usotcrallsf03m     0.088238   \n",
       "3                 flg_sldacttcr                flg_sldacttcr     0.066437   \n",
       "4            prm_lintcribksf03m           prm_lintcribksf03m     0.052511   \n",
       "5                 ing_notfncm01                ing_notfncm01     0.048773   \n",
       "6          prm_usoep1tcallsf06m         prm_usoep1tcallsf06m     0.040804   \n",
       "7      PRM_INGNOTFNC06M_ING_BRT     PRM_INGNOTFNC06M_ING_BRT     0.032649   \n",
       "8                        codmes                       codmes     0.031081   \n",
       "9       TND_LINTCRIBKSFM01_INGB      TND_LINTCRIBKSFM01_INGB     0.020780   \n",
       "10                         edad                         edad     0.019472   \n",
       "11      PRM_LINTCRIBKSF06M_INGB      PRM_LINTCRIBKSF06M_INGB     0.014383   \n",
       "12                prm_mrgfnc03m                prm_mrgfnc03m     0.011227   \n",
       "13        prom_lin_tc_rccsf_06m        prom_lin_tc_rccsf_06m     0.010839   \n",
       "14             uso_tc_rccsf_m01             uso_tc_rccsf_m01     0.010576   \n",
       "15          tnd_ingnotfnctcr06m          tnd_ingnotfnctcr06m     0.009945   \n",
       "16        PRM_MRGFNC06M_ING_BRT        PRM_MRGFNC06M_ING_BRT     0.009755   \n",
       "17              uso_tcrrstsfm01              uso_tcrrstsfm01     0.009219   \n",
       "18      PRM_LINTCRIBKSF03M_INGB      PRM_LINTCRIBKSF03M_INGB     0.008014   \n",
       "19      TND_LINTCRALLSFM01_INGB      TND_LINTCRALLSFM01_INGB     0.007354   \n",
       "20             prm_ingnotfnc06m             prm_ingnotfnc06m     0.006991   \n",
       "21         dist_ctd_ent_tot_m01         dist_ctd_ent_tot_m01     0.006012   \n",
       "22   PROM_LIN_TC_RCCSF_06M_INGB   PROM_LIN_TC_RCCSF_06M_INGB     0.005587   \n",
       "23  PRM_INGNOTFNCTCR06M_ING_BRT  PRM_INGNOTFNCTCR06M_ING_BRT     0.005281   \n",
       "24          prm_ingnotfnctcr06m          prm_ingnotfnctcr06m     0.005121   \n",
       "25       LIN_TC_RCCIBK_M01_INGB       LIN_TC_RCCIBK_M01_INGB     0.004707   \n",
       "26    PRM_LINEPTCRALLSF06M_INGB    PRM_LINEPTCRALLSF06M_INGB     0.004574   \n",
       "27                prm_mrgfnc06m                prm_mrgfnc06m     0.004401   \n",
       "28      PRM_LINTCRRSTSF06M_INGB      PRM_LINTCRRSTSF06M_INGB     0.004345   \n",
       "29          lin_tc_rccnoibk_m01          lin_tc_rccnoibk_m01     0.004084   \n",
       "30         tnd_sldep1tcallsfm01         tnd_sldep1tcallsfm01     0.003901   \n",
       "31          tnd_sldvigfinecs06m          tnd_sldvigfinecs06m     0.003681   \n",
       "32      TND_LINTCRRSTSFM01_INGB      TND_LINTCRRSTSFM01_INGB     0.003604   \n",
       "33          salvig_entprinc_m01          salvig_entprinc_m01     0.003524   \n",
       "34           tnd_lintcribksfm01           tnd_lintcribksfm01     0.003213   \n",
       "35     TND_MRGFNCTCRM06_ING_BRT     TND_MRGFNCTCRM06_ING_BRT     0.003178   \n",
       "36    PRM_SOWE1PTCALLSF06M_INGB    PRM_SOWE1PTCALLSF06M_INGB     0.003104   \n",
       "\n",
       "    acumulado  \n",
       "0    0.281372  \n",
       "1    0.414856  \n",
       "2    0.503094  \n",
       "3    0.569532  \n",
       "4    0.622043  \n",
       "5    0.670815  \n",
       "6    0.711620  \n",
       "7    0.744269  \n",
       "8    0.775350  \n",
       "9    0.796130  \n",
       "10   0.815602  \n",
       "11   0.829985  \n",
       "12   0.841212  \n",
       "13   0.852051  \n",
       "14   0.862627  \n",
       "15   0.872572  \n",
       "16   0.882326  \n",
       "17   0.891545  \n",
       "18   0.899559  \n",
       "19   0.906913  \n",
       "20   0.913905  \n",
       "21   0.919916  \n",
       "22   0.925503  \n",
       "23   0.930784  \n",
       "24   0.935905  \n",
       "25   0.940612  \n",
       "26   0.945185  \n",
       "27   0.949586  \n",
       "28   0.953932  \n",
       "29   0.958016  \n",
       "30   0.961917  \n",
       "31   0.965598  \n",
       "32   0.969202  \n",
       "33   0.972726  \n",
       "34   0.975939  \n",
       "35   0.979117  \n",
       "36   0.982221  "
      ]
     },
     "metadata": {},
     "output_type": "display_data"
    }
   ],
   "source": [
    "nuevo[\"acumulado\"]=nuevo[\"importancia\"].cumsum()\n",
    "nuevo=nuevo.reset_index(drop=True)\n",
    "comentario1=\"\"\"\n",
    "<h1>Cuadro de importancia de las variables empeladas por el modelo</h1>\n",
    "<p>variable = Nombre de la variable</p>\n",
    "<p>vimportancia = cuanto aporta la variable al modelo</p>\n",
    "<p>acumulado = cuanto acumulan las variables que mas colaboran al modelo</p>\n",
    "\"\"\"\n",
    "display(HTML(comentario1), nuevo)"
   ]
  },
  {
   "cell_type": "markdown",
   "metadata": {},
   "source": [
    "<h1 style= color:red>Funcion para armar el KS:</h1>\n",
    "<p>Esta es una función creada para armar la tabla KS.</p>\n",
    "<p>En la misma puede observarse como se comprta el modelo para cada rango de score.</p>\n",
    "<p>también se presenta un slider para determinar la cantidad de rangos a mostrar. (valor por defecto = 10)</p>\n",
    "<h3>Hay que correr el siguiente código para usar en las siguientes celdas</h3>"
   ]
  },
  {
   "cell_type": "code",
   "execution_count": 19,
   "metadata": {},
   "outputs": [
    {
     "data": {
      "text/html": [
       "\n",
       "<h1>Puntos de separacion tabla KS</h1>\n",
       "<p>Seleccione la cantidad de cortes para visualizar la tabla.</p>\n"
      ],
      "text/plain": [
       "<IPython.core.display.HTML object>"
      ]
     },
     "metadata": {},
     "output_type": "display_data"
    },
    {
     "data": {
      "application/vnd.jupyter.widget-view+json": {
       "model_id": "f4a309368d3e421589494dd8881058c5",
       "version_major": 2,
       "version_minor": 0
      },
      "text/plain": [
       "IntSlider(value=10, continuous_update=False, description='Cortes', max=30, min=5)"
      ]
     },
     "metadata": {},
     "output_type": "display_data"
    }
   ],
   "source": [
    "def pivot2(predicciones, aciertos, score, cortes):\n",
    "    data=pd.DataFrame(score)\n",
    "    data[\"pred\"]=predicciones\n",
    "    data[\"orden\"]=pd.qcut(score, cortes)\n",
    "    #data[\"acierto\"]=predicciones\n",
    "    data[\"acierto\"]=aciertos.values\n",
    "\n",
    "    #pivot=pd.DataFrame(pd.pivot_table(data, values=['acierto'], rows=['orden'], cols=['target_pp'], aggfunc=sum, fill_value=0))\n",
    "    pivot=pd.crosstab(data[\"orden\"], data[\"acierto\"])\n",
    "    pivot.columns=[\"error\",\"acierto\"]\n",
    "    tot1=sum(pivot[\"error\"])\n",
    "    tot2=sum(pivot[\"acierto\"])\n",
    "\n",
    "    pivot[\"mal\"]=pivot.iloc[:,0]/(tot1*1.0)\n",
    "    pivot[\"bien\"]=pivot.iloc[:,1]/(tot2*1.0)\n",
    "    #pivot=pivot.sort_values(['bien'], ascending=[0])\n",
    "    #pivot=pivot.sort(['bien'], ascending=[0])\n",
    "    pivot[\"cum_mal\"]=np.cumsum(pivot[\"mal\"]*1.0)\n",
    "    pivot[\"cum_bien\"]=np.cumsum(pivot[\"bien\"])\n",
    "    pivot[\"diferencia\"]=(pivot[\"cum_bien\"] - pivot[\"cum_mal\"])*1\n",
    "    maxKs=max((pivot[\"cum_bien\"] - pivot[\"cum_mal\"]))\n",
    "    gini= 1-sum((slider1.value)**(-1)*(pivot[\"acierto\"]/tot2))\n",
    "    return (pivot.round(3), maxKs, gini)\n",
    "\n",
    "slider1=widgets.IntSlider(value=10, min=5, max=30, step=1, description='Cortes', disabled=False, continuous_update=False,\n",
    "    orientation='horizontal', readout=True, readout_format='d')\n",
    "ff = \"\"\"\n",
    "<h1>Puntos de separacion tabla KS</h1>\n",
    "<p>Seleccione la cantidad de cortes para visualizar la tabla.</p>\n",
    "\"\"\"\n",
    "display(HTML(ff), slider1)"
   ]
  },
  {
   "cell_type": "code",
   "execution_count": 20,
   "metadata": {},
   "outputs": [
    {
     "data": {
      "text/html": [
       "<h1>Cuadro KS para el conjunto de entrenamiento</h1>"
      ],
      "text/plain": [
       "<IPython.core.display.HTML object>"
      ]
     },
     "metadata": {},
     "output_type": "display_data"
    },
    {
     "data": {
      "text/html": [
       "<div>\n",
       "<style scoped>\n",
       "    .dataframe tbody tr th:only-of-type {\n",
       "        vertical-align: middle;\n",
       "    }\n",
       "\n",
       "    .dataframe tbody tr th {\n",
       "        vertical-align: top;\n",
       "    }\n",
       "\n",
       "    .dataframe thead th {\n",
       "        text-align: right;\n",
       "    }\n",
       "</style>\n",
       "<table border=\"1\" class=\"dataframe\">\n",
       "  <thead>\n",
       "    <tr style=\"text-align: right;\">\n",
       "      <th></th>\n",
       "      <th>error</th>\n",
       "      <th>acierto</th>\n",
       "      <th>mal</th>\n",
       "      <th>bien</th>\n",
       "      <th>cum_mal</th>\n",
       "      <th>cum_bien</th>\n",
       "      <th>diferencia</th>\n",
       "    </tr>\n",
       "    <tr>\n",
       "      <th>orden</th>\n",
       "      <th></th>\n",
       "      <th></th>\n",
       "      <th></th>\n",
       "      <th></th>\n",
       "      <th></th>\n",
       "      <th></th>\n",
       "      <th></th>\n",
       "    </tr>\n",
       "  </thead>\n",
       "  <tbody>\n",
       "    <tr>\n",
       "      <th>(0.00255, 0.0543]</th>\n",
       "      <td>2192</td>\n",
       "      <td>104407</td>\n",
       "      <td>0.008</td>\n",
       "      <td>0.132</td>\n",
       "      <td>0.008</td>\n",
       "      <td>0.132</td>\n",
       "      <td>0.125</td>\n",
       "    </tr>\n",
       "    <tr>\n",
       "      <th>(0.0543, 0.203]</th>\n",
       "      <td>11661</td>\n",
       "      <td>94938</td>\n",
       "      <td>0.042</td>\n",
       "      <td>0.120</td>\n",
       "      <td>0.050</td>\n",
       "      <td>0.253</td>\n",
       "      <td>0.203</td>\n",
       "    </tr>\n",
       "    <tr>\n",
       "      <th>(0.203, 0.37]</th>\n",
       "      <td>28833</td>\n",
       "      <td>77766</td>\n",
       "      <td>0.104</td>\n",
       "      <td>0.099</td>\n",
       "      <td>0.154</td>\n",
       "      <td>0.352</td>\n",
       "      <td>0.198</td>\n",
       "    </tr>\n",
       "    <tr>\n",
       "      <th>(0.37, 0.471]</th>\n",
       "      <td>43635</td>\n",
       "      <td>62963</td>\n",
       "      <td>0.157</td>\n",
       "      <td>0.080</td>\n",
       "      <td>0.311</td>\n",
       "      <td>0.431</td>\n",
       "      <td>0.121</td>\n",
       "    </tr>\n",
       "    <tr>\n",
       "      <th>(0.471, 0.549]</th>\n",
       "      <td>50392</td>\n",
       "      <td>56207</td>\n",
       "      <td>0.181</td>\n",
       "      <td>0.071</td>\n",
       "      <td>0.492</td>\n",
       "      <td>0.503</td>\n",
       "      <td>0.011</td>\n",
       "    </tr>\n",
       "    <tr>\n",
       "      <th>(0.549, 0.619]</th>\n",
       "      <td>43427</td>\n",
       "      <td>63177</td>\n",
       "      <td>0.156</td>\n",
       "      <td>0.080</td>\n",
       "      <td>0.648</td>\n",
       "      <td>0.583</td>\n",
       "      <td>-0.065</td>\n",
       "    </tr>\n",
       "    <tr>\n",
       "      <th>(0.619, 0.685]</th>\n",
       "      <td>35598</td>\n",
       "      <td>71002</td>\n",
       "      <td>0.128</td>\n",
       "      <td>0.090</td>\n",
       "      <td>0.777</td>\n",
       "      <td>0.673</td>\n",
       "      <td>-0.103</td>\n",
       "    </tr>\n",
       "    <tr>\n",
       "      <th>(0.685, 0.754]</th>\n",
       "      <td>28446</td>\n",
       "      <td>78151</td>\n",
       "      <td>0.102</td>\n",
       "      <td>0.099</td>\n",
       "      <td>0.879</td>\n",
       "      <td>0.772</td>\n",
       "      <td>-0.107</td>\n",
       "    </tr>\n",
       "    <tr>\n",
       "      <th>(0.754, 0.832]</th>\n",
       "      <td>21264</td>\n",
       "      <td>85330</td>\n",
       "      <td>0.077</td>\n",
       "      <td>0.108</td>\n",
       "      <td>0.955</td>\n",
       "      <td>0.880</td>\n",
       "      <td>-0.075</td>\n",
       "    </tr>\n",
       "    <tr>\n",
       "      <th>(0.832, 0.968]</th>\n",
       "      <td>12382</td>\n",
       "      <td>94217</td>\n",
       "      <td>0.045</td>\n",
       "      <td>0.120</td>\n",
       "      <td>1.000</td>\n",
       "      <td>1.000</td>\n",
       "      <td>0.000</td>\n",
       "    </tr>\n",
       "  </tbody>\n",
       "</table>\n",
       "</div>"
      ],
      "text/plain": [
       "                   error  acierto    mal   bien  cum_mal  cum_bien  diferencia\n",
       "orden                                                                         \n",
       "(0.00255, 0.0543]   2192   104407  0.008  0.132    0.008     0.132       0.125\n",
       "(0.0543, 0.203]    11661    94938  0.042  0.120    0.050     0.253       0.203\n",
       "(0.203, 0.37]      28833    77766  0.104  0.099    0.154     0.352       0.198\n",
       "(0.37, 0.471]      43635    62963  0.157  0.080    0.311     0.431       0.121\n",
       "(0.471, 0.549]     50392    56207  0.181  0.071    0.492     0.503       0.011\n",
       "(0.549, 0.619]     43427    63177  0.156  0.080    0.648     0.583      -0.065\n",
       "(0.619, 0.685]     35598    71002  0.128  0.090    0.777     0.673      -0.103\n",
       "(0.685, 0.754]     28446    78151  0.102  0.099    0.879     0.772      -0.107\n",
       "(0.754, 0.832]     21264    85330  0.077  0.108    0.955     0.880      -0.075\n",
       "(0.832, 0.968]     12382    94217  0.045  0.120    1.000     1.000       0.000"
      ]
     },
     "metadata": {},
     "output_type": "display_data"
    },
    {
     "data": {
      "text/html": [
       "<h5>En el training el valor de KS es igual a: 20.3</h5>"
      ],
      "text/plain": [
       "<IPython.core.display.HTML object>"
      ]
     },
     "metadata": {},
     "output_type": "display_data"
    }
   ],
   "source": [
    "pivot, ks, gini=pivot2(prediccionesXGB, aciertosXGB, scoreXGB, slider1.value)\n",
    "display(HTML(\"<h1>Cuadro KS para el conjunto de entrenamiento</h1>\"), pivot)\n",
    "comentario=\"<h5>\"+\"En el training el valor de KS es igual a: \"+str(round(ks,3)*100) +\"</h5>\"\n",
    "display(HTML(comentario))"
   ]
  },
  {
   "cell_type": "code",
   "execution_count": 21,
   "metadata": {},
   "outputs": [
    {
     "data": {
      "text/html": [
       "<h1>Cuadro KS para el conjunto de testeo</h1>"
      ],
      "text/plain": [
       "<IPython.core.display.HTML object>"
      ]
     },
     "metadata": {},
     "output_type": "display_data"
    },
    {
     "data": {
      "text/html": [
       "<div>\n",
       "<style scoped>\n",
       "    .dataframe tbody tr th:only-of-type {\n",
       "        vertical-align: middle;\n",
       "    }\n",
       "\n",
       "    .dataframe tbody tr th {\n",
       "        vertical-align: top;\n",
       "    }\n",
       "\n",
       "    .dataframe thead th {\n",
       "        text-align: right;\n",
       "    }\n",
       "</style>\n",
       "<table border=\"1\" class=\"dataframe\">\n",
       "  <thead>\n",
       "    <tr style=\"text-align: right;\">\n",
       "      <th></th>\n",
       "      <th>error</th>\n",
       "      <th>acierto</th>\n",
       "      <th>mal</th>\n",
       "      <th>bien</th>\n",
       "      <th>cum_mal</th>\n",
       "      <th>cum_bien</th>\n",
       "      <th>diferencia</th>\n",
       "    </tr>\n",
       "    <tr>\n",
       "      <th>orden</th>\n",
       "      <th></th>\n",
       "      <th></th>\n",
       "      <th></th>\n",
       "      <th></th>\n",
       "      <th></th>\n",
       "      <th></th>\n",
       "      <th></th>\n",
       "    </tr>\n",
       "  </thead>\n",
       "  <tbody>\n",
       "    <tr>\n",
       "      <th>(0.0033699999999999997, 0.0331]</th>\n",
       "      <td>41</td>\n",
       "      <td>25384</td>\n",
       "      <td>0.001</td>\n",
       "      <td>0.146</td>\n",
       "      <td>0.001</td>\n",
       "      <td>0.146</td>\n",
       "      <td>0.145</td>\n",
       "    </tr>\n",
       "    <tr>\n",
       "      <th>(0.0331, 0.0643]</th>\n",
       "      <td>119</td>\n",
       "      <td>25305</td>\n",
       "      <td>0.001</td>\n",
       "      <td>0.145</td>\n",
       "      <td>0.002</td>\n",
       "      <td>0.291</td>\n",
       "      <td>0.289</td>\n",
       "    </tr>\n",
       "    <tr>\n",
       "      <th>(0.0643, 0.148]</th>\n",
       "      <td>333</td>\n",
       "      <td>25092</td>\n",
       "      <td>0.004</td>\n",
       "      <td>0.144</td>\n",
       "      <td>0.006</td>\n",
       "      <td>0.435</td>\n",
       "      <td>0.429</td>\n",
       "    </tr>\n",
       "    <tr>\n",
       "      <th>(0.148, 0.285]</th>\n",
       "      <td>766</td>\n",
       "      <td>24658</td>\n",
       "      <td>0.010</td>\n",
       "      <td>0.141</td>\n",
       "      <td>0.016</td>\n",
       "      <td>0.576</td>\n",
       "      <td>0.561</td>\n",
       "    </tr>\n",
       "    <tr>\n",
       "      <th>(0.285, 0.393]</th>\n",
       "      <td>1407</td>\n",
       "      <td>24018</td>\n",
       "      <td>0.018</td>\n",
       "      <td>0.138</td>\n",
       "      <td>0.033</td>\n",
       "      <td>0.714</td>\n",
       "      <td>0.681</td>\n",
       "    </tr>\n",
       "    <tr>\n",
       "      <th>(0.393, 0.478]</th>\n",
       "      <td>2052</td>\n",
       "      <td>23372</td>\n",
       "      <td>0.026</td>\n",
       "      <td>0.134</td>\n",
       "      <td>0.059</td>\n",
       "      <td>0.848</td>\n",
       "      <td>0.789</td>\n",
       "    </tr>\n",
       "    <tr>\n",
       "      <th>(0.478, 0.558]</th>\n",
       "      <td>17022</td>\n",
       "      <td>8402</td>\n",
       "      <td>0.213</td>\n",
       "      <td>0.048</td>\n",
       "      <td>0.272</td>\n",
       "      <td>0.896</td>\n",
       "      <td>0.624</td>\n",
       "    </tr>\n",
       "    <tr>\n",
       "      <th>(0.558, 0.641]</th>\n",
       "      <td>21487</td>\n",
       "      <td>3938</td>\n",
       "      <td>0.269</td>\n",
       "      <td>0.023</td>\n",
       "      <td>0.541</td>\n",
       "      <td>0.919</td>\n",
       "      <td>0.378</td>\n",
       "    </tr>\n",
       "    <tr>\n",
       "      <th>(0.641, 0.742]</th>\n",
       "      <td>20259</td>\n",
       "      <td>5165</td>\n",
       "      <td>0.253</td>\n",
       "      <td>0.030</td>\n",
       "      <td>0.794</td>\n",
       "      <td>0.949</td>\n",
       "      <td>0.155</td>\n",
       "    </tr>\n",
       "    <tr>\n",
       "      <th>(0.742, 0.963]</th>\n",
       "      <td>16469</td>\n",
       "      <td>8956</td>\n",
       "      <td>0.206</td>\n",
       "      <td>0.051</td>\n",
       "      <td>1.000</td>\n",
       "      <td>1.000</td>\n",
       "      <td>0.000</td>\n",
       "    </tr>\n",
       "  </tbody>\n",
       "</table>\n",
       "</div>"
      ],
      "text/plain": [
       "                                 error  acierto    mal   bien  cum_mal  \\\n",
       "orden                                                                    \n",
       "(0.0033699999999999997, 0.0331]     41    25384  0.001  0.146    0.001   \n",
       "(0.0331, 0.0643]                   119    25305  0.001  0.145    0.002   \n",
       "(0.0643, 0.148]                    333    25092  0.004  0.144    0.006   \n",
       "(0.148, 0.285]                     766    24658  0.010  0.141    0.016   \n",
       "(0.285, 0.393]                    1407    24018  0.018  0.138    0.033   \n",
       "(0.393, 0.478]                    2052    23372  0.026  0.134    0.059   \n",
       "(0.478, 0.558]                   17022     8402  0.213  0.048    0.272   \n",
       "(0.558, 0.641]                   21487     3938  0.269  0.023    0.541   \n",
       "(0.641, 0.742]                   20259     5165  0.253  0.030    0.794   \n",
       "(0.742, 0.963]                   16469     8956  0.206  0.051    1.000   \n",
       "\n",
       "                                 cum_bien  diferencia  \n",
       "orden                                                  \n",
       "(0.0033699999999999997, 0.0331]     0.146       0.145  \n",
       "(0.0331, 0.0643]                    0.291       0.289  \n",
       "(0.0643, 0.148]                     0.435       0.429  \n",
       "(0.148, 0.285]                      0.576       0.561  \n",
       "(0.285, 0.393]                      0.714       0.681  \n",
       "(0.393, 0.478]                      0.848       0.789  \n",
       "(0.478, 0.558]                      0.896       0.624  \n",
       "(0.558, 0.641]                      0.919       0.378  \n",
       "(0.641, 0.742]                      0.949       0.155  \n",
       "(0.742, 0.963]                      1.000       0.000  "
      ]
     },
     "metadata": {},
     "output_type": "display_data"
    },
    {
     "data": {
      "text/html": [
       "<h5>En el training el valor de KS es igual a: 78.9</h5>"
      ],
      "text/plain": [
       "<IPython.core.display.HTML object>"
      ]
     },
     "metadata": {},
     "output_type": "display_data"
    }
   ],
   "source": [
    "pivot, ks, gini=pivot2(prediccionesXGB_, aciertosXGB_, scoreXGB_, slider1.value)\n",
    "display(HTML(\"<h1>Cuadro KS para el conjunto de testeo</h1>\"), pivot)\n",
    "comentario=\"<h5>\"+\"En el training el valor de KS es igual a: \"+str(round(ks,3)*100) +\"</h5>\"\n",
    "display(HTML(comentario))"
   ]
  },
  {
   "cell_type": "markdown",
   "metadata": {},
   "source": [
    "#--------------------------------------------------------------------------------------------------------------"
   ]
  },
  {
   "cell_type": "markdown",
   "metadata": {},
   "source": [
    "#Guardamos el modelo\n",
    "En caso de que estemos satisfechos con los valores del modelo, se pasa a dejar guardado el mismo a los fines de poder scorear en un futuro"
   ]
  },
  {
   "cell_type": "code",
   "execution_count": 48,
   "metadata": {},
   "outputs": [
    {
     "data": {
      "text/plain": [
       "['xgb_model_il_final.pkl']"
      ]
     },
     "execution_count": 48,
     "metadata": {},
     "output_type": "execute_result"
    }
   ],
   "source": [
    "from sklearn.externals import joblib\n",
    "joblib.dump(modelXGB, 'xgb_model_il_final.pkl', compress=True)"
   ]
  },
  {
   "cell_type": "markdown",
   "metadata": {},
   "source": [
    "#Cargamos el dataset a aplicar\n",
    "Luego empieza todo el código para aplicar el modelo y generar los grupos de ejecución a los fines de que quede todo establecido."
   ]
  },
  {
   "cell_type": "code",
   "execution_count": 1,
   "metadata": {
    "ExecuteTime": {
     "end_time": "2019-12-27T15:29:59.396279Z",
     "start_time": "2019-12-27T15:29:55.893417Z"
    }
   },
   "outputs": [
    {
     "name": "stdout",
     "output_type": "stream",
     "text": [
      "(273079, 51)\n",
      "(273079,)\n"
     ]
    }
   ],
   "source": [
    "import boto3\n",
    "import ipywidgets as widgets\n",
    "from IPython.display import display\n",
    "from IPython.display import HTML\n",
    "\n",
    "import numpy as np\n",
    "import pandas as pd \n",
    "\n",
    "\n",
    "client = boto3.client('s3') \n",
    "#el csv que se pone en el key es el que proviene del archivo AWS_TABLON_SCORE_FINAL.txt\n",
    "#recordar cambiar la fecha\n",
    "obj= client.get_object(Bucket='sftp-analytics-stg-transferbucket-a3e4afdvn23', Key='data/output/Unsaved/2019/12/27/3e425336-1aef-48d2-82f7-b1cd5b3b2612.csv')\n",
    "X_apli= pd.read_csv(obj['Body'])\n",
    "\n",
    "codigo_cliente=X_apli[\"key_value\"]\n",
    "\n",
    "X_apli = X_apli.apply(pd.to_numeric, errors='coerce')\n",
    "\n",
    "numerics=[\"int16\", \"int32\", \"int64\", \"float16\", \"float32\", \"float64\"]\n",
    "X_apli=X_apli.select_dtypes(include=numerics)\n",
    "#X = X.drop([\"flg_Venta\", \"flag_incrementa_consumo\", \"flg_Campania\", \"parquetarcred\", \"pa\",\n",
    "#            \"flg_Venta_ing\", \"flg_Campania_ing\", \"parquetarcred_ing\", \"pa_ing\",\n",
    "#           \"segmentomercado_ing\", \"Tend_ingresobruto_ing\", \"segmento_ant_ing\", \"codempresa_tc_princ_ing\", \"codsbs_ing\"],axis=1)\n",
    "\n",
    "\n",
    "\n",
    "#codigo_cliente=X_apli[\"key_value\"]\n",
    "\n",
    "X_apli= X_apli.apply(pd.to_numeric, errors='coerce')\n",
    "\n",
    "X_apli[np.isnan(X_apli)] = 0\n",
    "\n",
    "\n",
    "print (np.shape(X_apli))\n",
    "\n",
    "print (np.shape(codigo_cliente))\n"
   ]
  },
  {
   "cell_type": "code",
   "execution_count": 2,
   "metadata": {
    "ExecuteTime": {
     "end_time": "2019-12-27T15:30:05.317920Z",
     "start_time": "2019-12-27T15:30:05.260141Z"
    }
   },
   "outputs": [
    {
     "name": "stdout",
     "output_type": "stream",
     "text": [
      "        codmes  key_value  edad  flg_sldacttcr  ing_notfncm01  prm_mrgfnc03m  \\\n",
      "0       202001        0.0  47.0            1.0           16.0          5.973   \n",
      "1       202001        0.0  27.0            1.0            0.0         69.213   \n",
      "2       202001        0.0  61.0            1.0            0.0        -27.900   \n",
      "3       202001        0.0  53.0            1.0            0.0         -8.377   \n",
      "4       202001        0.0  43.0            0.0            0.0          0.000   \n",
      "...        ...        ...   ...            ...            ...            ...   \n",
      "273074  202001        0.0  44.0            1.0            0.0          0.000   \n",
      "273075  202001        0.0  55.0            1.0            0.0         26.740   \n",
      "273076  202001        0.0  53.0            1.0           10.0        -23.553   \n",
      "273077  202001        0.0  55.0            1.0            0.0          0.010   \n",
      "273078  202001        0.0  26.0            1.0            0.0          0.400   \n",
      "\n",
      "        prm_ingnotfnc06m  prm_ingnotfnctcr06m  prm_mrgfnc06m  \\\n",
      "0                 12.333                0.000          7.343   \n",
      "1                  0.000                0.000         43.160   \n",
      "2                  0.333                0.000        -31.517   \n",
      "3                  0.000                0.000         -4.188   \n",
      "4                  0.000                0.000          0.000   \n",
      "...                  ...                  ...            ...   \n",
      "273074             0.000                0.000          0.000   \n",
      "273075             0.000                0.000         35.302   \n",
      "273076            20.000               20.000         -8.643   \n",
      "273077             8.317                8.317          7.085   \n",
      "273078            10.000               10.000          6.647   \n",
      "\n",
      "        tnd_ingnotfnctcr06m  ...  TND_SOWEP1TCALLSF_INGB  \\\n",
      "0                     0.000  ...                     0.0   \n",
      "1                     0.000  ...                     0.0   \n",
      "2                     0.000  ...                     0.0   \n",
      "3                     0.000  ...                     0.0   \n",
      "4                     0.000  ...                     0.0   \n",
      "...                     ...  ...                     ...   \n",
      "273074                0.000  ...                     0.0   \n",
      "273075                0.000  ...                     0.0   \n",
      "273076               -4.857  ...                     0.0   \n",
      "273077               -7.129  ...                     0.0   \n",
      "273078               -8.571  ...                     0.0   \n",
      "\n",
      "        PRM_LINTCRIBKSF03M_INGB  PRM_LINTCRIBKSF06M_INGB  \\\n",
      "0                         2.566                    2.566   \n",
      "1                         0.234                    0.234   \n",
      "2                         5.126                    5.382   \n",
      "3                         0.231                    0.231   \n",
      "4                         0.000                    0.000   \n",
      "...                         ...                      ...   \n",
      "273074                    0.798                    0.798   \n",
      "273075                    4.053                    4.053   \n",
      "273076                    5.843                    6.075   \n",
      "273077                    3.400                    3.400   \n",
      "273078                    2.372                    2.372   \n",
      "\n",
      "        PRM_LINTCRRSTSF06M_INGB  PRM_LINEPTCRALLSF06M_INGB  \\\n",
      "0                         8.928                      5.534   \n",
      "1                         0.757                      0.424   \n",
      "2                        27.080                      5.382   \n",
      "3                         3.493                      1.787   \n",
      "4                         1.655                      1.549   \n",
      "...                         ...                        ...   \n",
      "273074                    2.874                      2.874   \n",
      "273075                    8.624                      4.597   \n",
      "273076                   10.213                      6.099   \n",
      "273077                    8.021                      4.380   \n",
      "273078                    5.431                      3.901   \n",
      "\n",
      "        PROM_LIN_TC_RCCSF_06M_INGB  PRM_USOTCRIBKSF06M_INGB  \\\n",
      "0                           11.495                      0.0   \n",
      "1                            0.991                      0.0   \n",
      "2                           32.462                      0.0   \n",
      "3                            3.724                      0.0   \n",
      "4                            1.655                      0.0   \n",
      "...                            ...                      ...   \n",
      "273074                       3.407                      0.0   \n",
      "273075                      12.677                      0.0   \n",
      "273076                      16.287                      0.0   \n",
      "273077                      11.421                      0.0   \n",
      "273078                       5.993                      0.0   \n",
      "\n",
      "        PRM_USOTCRRSTSF06M_INGB  TND_LINTCRIBKSFM01_INGB  \\\n",
      "0                           0.0                    0.073   \n",
      "1                           0.0                    0.007   \n",
      "2                           0.0                   -0.019   \n",
      "3                           0.0                    0.007   \n",
      "4                           0.0                    0.000   \n",
      "...                         ...                      ...   \n",
      "273074                      0.0                    0.205   \n",
      "273075                      0.0                    0.116   \n",
      "273076                      0.0                    0.017   \n",
      "273077                      0.0                    0.097   \n",
      "273078                      0.0                    0.068   \n",
      "\n",
      "        TND_LINTCRALLSFM01_INGB  \n",
      "0                         0.764  \n",
      "1                         0.064  \n",
      "2                         0.754  \n",
      "3                         0.157  \n",
      "4                         0.341  \n",
      "...                         ...  \n",
      "273074                    0.287  \n",
      "273075                    0.362  \n",
      "273076                    2.184  \n",
      "273077                    0.326  \n",
      "273078                    1.464  \n",
      "\n",
      "[273079 rows x 51 columns]\n"
     ]
    }
   ],
   "source": [
    "print(X_apli)\n"
   ]
  },
  {
   "cell_type": "code",
   "execution_count": 3,
   "metadata": {
    "ExecuteTime": {
     "end_time": "2019-12-27T15:30:13.101699Z",
     "start_time": "2019-12-27T15:30:13.098171Z"
    }
   },
   "outputs": [
    {
     "name": "stdout",
     "output_type": "stream",
     "text": [
      "0         2C77D09B3A3BBD480B86627F06EF89B12F6D612174593E...\n",
      "1         F741B217403C588A9B14BDC189083800BD8945AD1DA01B...\n",
      "2         9C309B3AD0E61EA3281D1D89AF3E2C38A1B638C013B61D...\n",
      "3         4F8E7F5AE5FA55C85AE0D89057B63B4D96EFA5578C8669...\n",
      "4         3066DF3F248C00876018C557D8BD197162D55FB888DA76...\n",
      "                                ...                        \n",
      "273074    17E5371AA47EB68FD09043BD90FC9917FEC0015015654A...\n",
      "273075    0B9B62C771A419B3016A11713C0C96E85DB469191083DB...\n",
      "273076    F838626B9B3295C251CA89A6B7BE65376D7DC55AF6B08C...\n",
      "273077    C4F9A7070D30971EA06CAF2845AA78A709B1E1EF4EFB42...\n",
      "273078    BCD23250C277931FBB7EB951F55A4BC3D08C8700FF72BE...\n",
      "Name: key_value, Length: 273079, dtype: object\n"
     ]
    }
   ],
   "source": [
    "print(codigo_cliente)"
   ]
  },
  {
   "cell_type": "code",
   "execution_count": 4,
   "metadata": {
    "ExecuteTime": {
     "end_time": "2019-12-27T15:30:21.056280Z",
     "start_time": "2019-12-27T15:30:20.994515Z"
    }
   },
   "outputs": [],
   "source": [
    "X_apli = X_apli.drop([\"codmes\"],axis=1)"
   ]
  },
  {
   "cell_type": "code",
   "execution_count": 5,
   "metadata": {},
   "outputs": [],
   "source": [
    "# Cargo los modelos guardados"
   ]
  },
  {
   "cell_type": "code",
   "execution_count": 5,
   "metadata": {
    "ExecuteTime": {
     "end_time": "2019-12-27T15:30:40.117969Z",
     "start_time": "2019-12-27T15:30:38.616559Z"
    }
   },
   "outputs": [
    {
     "name": "stdout",
     "output_type": "stream",
     "text": [
      "                                                key_value  Periodo  Score_XGB\n",
      "0       2C77D09B3A3BBD480B86627F06EF89B12F6D612174593E...   202001   0.215338\n",
      "1       F741B217403C588A9B14BDC189083800BD8945AD1DA01B...   202001   0.727522\n",
      "2       9C309B3AD0E61EA3281D1D89AF3E2C38A1B638C013B61D...   202001   0.309447\n",
      "3       4F8E7F5AE5FA55C85AE0D89057B63B4D96EFA5578C8669...   202001   0.220372\n",
      "4       3066DF3F248C00876018C557D8BD197162D55FB888DA76...   202001   0.024145\n",
      "...                                                   ...      ...        ...\n",
      "273074  17E5371AA47EB68FD09043BD90FC9917FEC0015015654A...   202001   0.253491\n",
      "273075  0B9B62C771A419B3016A11713C0C96E85DB469191083DB...   202001   0.255698\n",
      "273076  F838626B9B3295C251CA89A6B7BE65376D7DC55AF6B08C...   202001   0.544285\n",
      "273077  C4F9A7070D30971EA06CAF2845AA78A709B1E1EF4EFB42...   202001   0.182497\n",
      "273078  BCD23250C277931FBB7EB951F55A4BC3D08C8700FF72BE...   202001   0.445936\n",
      "\n",
      "[273079 rows x 3 columns]\n"
     ]
    }
   ],
   "source": [
    "#from sklearn.externals import joblib\n",
    "import joblib\n",
    "\n",
    "xgb_Model = joblib.load('xgb_model_il_final.pkl')\n",
    "codmes=202001\n",
    "\n",
    "# Aplico al modelo guardado a los datos\n",
    "scoreXGB=xgb_Model.predict_proba(X_apli)[:,1]\n",
    "guardo_score={\"key_value\":codigo_cliente, \"Periodo\": codmes, \"Score_XGB\":scoreXGB}\n",
    "guardo_score=pd.DataFrame(guardo_score)\n",
    "\n",
    "np.shape(guardo_score)\n",
    "\n",
    "guardo_score=guardo_score.replace('\"','', regex=True)\n",
    "\n",
    "print(guardo_score)\n"
   ]
  },
  {
   "cell_type": "raw",
   "metadata": {},
   "source": [
    "#import sys\n",
    "#!{sys.executable} -m pip install joblib"
   ]
  },
  {
   "cell_type": "code",
   "execution_count": 6,
   "metadata": {
    "ExecuteTime": {
     "end_time": "2019-12-27T15:31:13.696221Z",
     "start_time": "2019-12-27T15:31:13.047955Z"
    }
   },
   "outputs": [
    {
     "name": "stdout",
     "output_type": "stream",
     "text": [
      "(273079, 9)\n",
      "        codmes  codunicocli  \\\n",
      "0       202001     12260250   \n",
      "1       202001     12048720   \n",
      "2       202001     14511508   \n",
      "3       202001      9386295   \n",
      "4       202001     10573720   \n",
      "...        ...          ...   \n",
      "273074  202001     16129150   \n",
      "273075  202001     12625027   \n",
      "273076  202001     16270622   \n",
      "273077  202001     14986940   \n",
      "273078  202001     14535706   \n",
      "\n",
      "                                                key_value  mtolineatotal_1  \\\n",
      "0       F5472E530BB9594ECA3948F676867C6B920AD59CFE7BEA...             5700   \n",
      "1       C968C6641C9E963B188E7FC2B1FE832638D1806748BDA2...             7500   \n",
      "2       CC5DAB07B0322B1406CB5F987D26D516EEC08D6BB400C1...             6700   \n",
      "3       2C9AAC771F70FA492D0EDA6A962888B3E8226041E7B919...             7700   \n",
      "4       4697DF4E424FABCD079F4CFAF15283410D55BE1386BE40...             1900   \n",
      "...                                                   ...              ...   \n",
      "273074  233E8C56101AC523676B771500A96EDA93A52706F1CB40...             4400   \n",
      "273075  DC6C04C9675CC9A3CEA5A0A4DBF0E11B06D1186BA60927...            19400   \n",
      "273076  916602E7A62462C888301C3C7F9279A7C8CB96D8872213...            11400   \n",
      "273077  C533C6E7947A616649B3DF05FA3F221692F17548AD3790...             1100   \n",
      "273078  8ADE1239FF8D208C8113A4893BF540B01987F202FE69D9...             1500   \n",
      "\n",
      "        incremento  linea_nueva_cuenta  prob_contact score_contact  \\\n",
      "0             2500                8200      0.442545   RECOMENDADO   \n",
      "1             1300                8800      0.316248          ALTO   \n",
      "2             3500               10200      0.589470   RECOMENDADO   \n",
      "3             3900               11600      0.543283   RECOMENDADO   \n",
      "4            16700               18600      0.581974   RECOMENDADO   \n",
      "...            ...                 ...           ...           ...   \n",
      "273074        6200               10600      0.278687          ALTO   \n",
      "273075       10000               29400      0.150367         MEDIO   \n",
      "273076        5000               16400      0.565471   RECOMENDADO   \n",
      "273077        7200                8300           NaN           NaN   \n",
      "273078        6600                8100           NaN           NaN   \n",
      "\n",
      "       grupo_frescura  \n",
      "0                  G3  \n",
      "1                  G1  \n",
      "2                  G2  \n",
      "3                  G3  \n",
      "4                  G4  \n",
      "...               ...  \n",
      "273074             G1  \n",
      "273075             G1  \n",
      "273076             G1  \n",
      "273077             G1  \n",
      "273078             G1  \n",
      "\n",
      "[273079 rows x 9 columns]\n"
     ]
    }
   ],
   "source": [
    "import numpy as np\n",
    "import pandas as pd \n",
    "from io import BytesIO\n",
    "#from sklearn.externals import joblib\n",
    "import joblib\n",
    "\n",
    "xgb_Model = joblib.load('xgb_model_il_final.pkl')\n",
    "\n",
    "## el csv que se pone acá es el que viene de la in_riesgos con frescura y contacto\n",
    "##Recordar cambiar la fecha\n",
    "obj= client.get_object(Bucket='sftp-analytics-stg-transferbucket-a3e4afdvn23', Key='data/output/Unsaved/2019/12/27/90778fd6-e442-497b-a5b0-5e6ad38faaab.csv')\n",
    "X_frescura= pd.read_csv(obj['Body'])\n",
    "\n",
    "print (np.shape(X_frescura))\n",
    "\n",
    "print(X_frescura)\n"
   ]
  },
  {
   "cell_type": "code",
   "execution_count": 7,
   "metadata": {
    "ExecuteTime": {
     "end_time": "2019-12-27T15:31:23.098281Z",
     "start_time": "2019-12-27T15:31:22.854720Z"
    }
   },
   "outputs": [
    {
     "name": "stdout",
     "output_type": "stream",
     "text": [
      "(273079, 11)\n"
     ]
    }
   ],
   "source": [
    "guardo_score.set_index('key_value')\n",
    "\n",
    "X_frescura.set_index('key_value')\n",
    "\n",
    "\n",
    "base_score_total = pd.merge(left=guardo_score,right=X_frescura,how='inner', left_on='key_value', right_on='key_value')\n",
    "\n",
    "print (np.shape(base_score_total))"
   ]
  },
  {
   "cell_type": "code",
   "execution_count": 8,
   "metadata": {
    "ExecuteTime": {
     "end_time": "2019-12-27T15:31:27.913256Z",
     "start_time": "2019-12-27T15:31:27.903805Z"
    }
   },
   "outputs": [
    {
     "name": "stdout",
     "output_type": "stream",
     "text": [
      "                                                key_value  Periodo  Score_XGB  \\\n",
      "0       2C77D09B3A3BBD480B86627F06EF89B12F6D612174593E...   202001   0.215338   \n",
      "1       F741B217403C588A9B14BDC189083800BD8945AD1DA01B...   202001   0.727522   \n",
      "2       9C309B3AD0E61EA3281D1D89AF3E2C38A1B638C013B61D...   202001   0.309447   \n",
      "3       4F8E7F5AE5FA55C85AE0D89057B63B4D96EFA5578C8669...   202001   0.220372   \n",
      "4       3066DF3F248C00876018C557D8BD197162D55FB888DA76...   202001   0.024145   \n",
      "...                                                   ...      ...        ...   \n",
      "273074  17E5371AA47EB68FD09043BD90FC9917FEC0015015654A...   202001   0.253491   \n",
      "273075  0B9B62C771A419B3016A11713C0C96E85DB469191083DB...   202001   0.255698   \n",
      "273076  F838626B9B3295C251CA89A6B7BE65376D7DC55AF6B08C...   202001   0.544285   \n",
      "273077  C4F9A7070D30971EA06CAF2845AA78A709B1E1EF4EFB42...   202001   0.182497   \n",
      "273078  BCD23250C277931FBB7EB951F55A4BC3D08C8700FF72BE...   202001   0.445936   \n",
      "\n",
      "        codmes  codunicocli  mtolineatotal_1  incremento  linea_nueva_cuenta  \\\n",
      "0       202001      8752194            26200       21900               48100   \n",
      "1       202001     14666155              900        6800                7700   \n",
      "2       202001      9501381             4000         900                4900   \n",
      "3       202001     14701485             2000        8000               10000   \n",
      "4       202001     13369635             4700        1000                5700   \n",
      "...        ...          ...              ...         ...                 ...   \n",
      "273074  202001     11118796             2500        8100               10600   \n",
      "273075  202001     11358722            14900       15800               30700   \n",
      "273076  202001     10292899            14500        5300               19800   \n",
      "273077  202001     12046663             8900        3300               12200   \n",
      "273078  202001     14916607             3800        1200                5000   \n",
      "\n",
      "        prob_contact score_contact grupo_frescura  \n",
      "0           0.088758         MEDIO             G1  \n",
      "1           0.369061   RECOMENDADO             G2  \n",
      "2           0.540059   RECOMENDADO             G3  \n",
      "3           0.371868   RECOMENDADO             G4  \n",
      "4           0.046969          BAJO             G4  \n",
      "...              ...           ...            ...  \n",
      "273074      0.261782          ALTO             G4  \n",
      "273075      0.569253   RECOMENDADO             G3  \n",
      "273076      0.528972   RECOMENDADO             G1  \n",
      "273077      0.422808   RECOMENDADO             G4  \n",
      "273078      0.117488         MEDIO             G3  \n",
      "\n",
      "[273079 rows x 11 columns]\n"
     ]
    }
   ],
   "source": [
    "print(base_score_total)"
   ]
  },
  {
   "cell_type": "code",
   "execution_count": 9,
   "metadata": {
    "ExecuteTime": {
     "end_time": "2019-12-27T15:31:43.417810Z",
     "start_time": "2019-12-27T15:31:43.381815Z"
    }
   },
   "outputs": [],
   "source": [
    "base_score_total['Decile_score']=pd.qcut(base_score_total['Score_XGB'],10,labels=False)"
   ]
  },
  {
   "cell_type": "code",
   "execution_count": 10,
   "metadata": {
    "ExecuteTime": {
     "end_time": "2019-12-27T15:33:50.073262Z",
     "start_time": "2019-12-27T15:33:46.594311Z"
    }
   },
   "outputs": [],
   "source": [
    "base_score_total['grupo_ejecucion'] = np.select([((base_score_total['grupo_frescura']=='G1') | (base_score_total['grupo_frescura']=='G2') | \n",
    "                                               (base_score_total['grupo_frescura']=='G3')) & ((base_score_total['score_contact']=='RECOMENDADO')\n",
    "                                                |(base_score_total['score_contact']=='ALTO')) & (base_score_total['Score_XGB']>=0.62),\n",
    "\n",
    "                                            ((base_score_total['grupo_frescura']=='G1') | (base_score_total['grupo_frescura']=='G2') | \n",
    "                                               (base_score_total['grupo_frescura']=='G3')) & ((base_score_total['score_contact']=='RECOMENDADO')\n",
    "                                                |(base_score_total['score_contact']=='ALTO')) & (base_score_total['Score_XGB']>=0.35) \n",
    "                                               & (base_score_total['Score_XGB']<0.62),\n",
    "\n",
    "                                                 ((base_score_total['grupo_frescura']=='G1') | (base_score_total['grupo_frescura']=='G2') | \n",
    "                                               (base_score_total['grupo_frescura']=='G3')) & ((base_score_total['score_contact']=='MEDIO'))\n",
    "                                               & (base_score_total['Score_XGB']>=0.52),\n",
    "\n",
    "                                                 ((base_score_total['grupo_frescura']=='G1') | (base_score_total['grupo_frescura']=='G2') | \n",
    "                                               (base_score_total['grupo_frescura']=='G3')) & ((base_score_total['score_contact']=='MEDIO') |\n",
    "                                                (base_score_total['score_contact']=='BAJO') | (base_score_total['score_contact']=='PERDIDA')\n",
    "                                                | (base_score_total['score_contact']=='')) & (base_score_total['Score_XGB']>=0.3) & (base_score_total['Score_XGB']<0.52),\n",
    "\n",
    "                                                ((base_score_total['grupo_frescura']=='G1') | (base_score_total['grupo_frescura']=='G2') | \n",
    "                                               (base_score_total['grupo_frescura']=='G3')) & ((base_score_total['score_contact']=='RECOMENDADO')\n",
    "                                                |(base_score_total['score_contact']=='ALTO')) & (base_score_total['Score_XGB']<0.35),\n",
    "\n",
    "                                               ((base_score_total['grupo_frescura']=='G1') | (base_score_total['grupo_frescura']=='G2') | \n",
    "                                               (base_score_total['grupo_frescura']=='G3')) & ((base_score_total['score_contact']=='MEDIO') |\n",
    "                                                (base_score_total['score_contact']=='BAJO') | (base_score_total['score_contact']=='PERDIDA')\n",
    "                                                | (base_score_total['score_contact']=='')) & (base_score_total['Score_XGB']<0.3)],\n",
    "\n",
    "                                                ['grupo_1','grupo_2','grupo_3','grupo_4','grupo_5','grupo_6'],default='grupo_7')\n",
    "\n",
    "base_score_total.to_csv('score_aplicado_202001_1_Frank_prueba.csv', sep=\",\")\n",
    "\n",
    "###donde guardamos los resultados de S3?\n"
   ]
  },
  {
   "cell_type": "code",
   "execution_count": 11,
   "metadata": {
    "ExecuteTime": {
     "end_time": "2019-12-27T15:33:57.486121Z",
     "start_time": "2019-12-27T15:33:57.357789Z"
    }
   },
   "outputs": [
    {
     "data": {
      "text/html": [
       "<div>\n",
       "<style scoped>\n",
       "    .dataframe tbody tr th:only-of-type {\n",
       "        vertical-align: middle;\n",
       "    }\n",
       "\n",
       "    .dataframe tbody tr th {\n",
       "        vertical-align: top;\n",
       "    }\n",
       "\n",
       "    .dataframe thead th {\n",
       "        text-align: right;\n",
       "    }\n",
       "</style>\n",
       "<table border=\"1\" class=\"dataframe\">\n",
       "  <thead>\n",
       "    <tr style=\"text-align: right;\">\n",
       "      <th></th>\n",
       "      <th>key_value</th>\n",
       "      <th>Periodo</th>\n",
       "      <th>Score_XGB</th>\n",
       "      <th>codmes</th>\n",
       "      <th>codunicocli</th>\n",
       "      <th>mtolineatotal_1</th>\n",
       "      <th>incremento</th>\n",
       "      <th>linea_nueva_cuenta</th>\n",
       "      <th>prob_contact</th>\n",
       "      <th>score_contact</th>\n",
       "      <th>grupo_frescura</th>\n",
       "      <th>Decile_score</th>\n",
       "      <th>grupo_ejecucion</th>\n",
       "    </tr>\n",
       "  </thead>\n",
       "  <tbody>\n",
       "  </tbody>\n",
       "</table>\n",
       "</div>"
      ],
      "text/plain": [
       "Empty DataFrame\n",
       "Columns: [key_value, Periodo, Score_XGB, codmes, codunicocli, mtolineatotal_1, incremento, linea_nueva_cuenta, prob_contact, score_contact, grupo_frescura, Decile_score, grupo_ejecucion]\n",
       "Index: []"
      ]
     },
     "execution_count": 11,
     "metadata": {},
     "output_type": "execute_result"
    }
   ],
   "source": [
    "base_score_total[base_score_total.duplicated(['key_value'])]"
   ]
  },
  {
   "cell_type": "code",
   "execution_count": 12,
   "metadata": {
    "ExecuteTime": {
     "end_time": "2019-12-27T15:34:04.738848Z",
     "start_time": "2019-12-27T15:34:04.728202Z"
    }
   },
   "outputs": [
    {
     "data": {
      "text/html": [
       "<div>\n",
       "<style scoped>\n",
       "    .dataframe tbody tr th:only-of-type {\n",
       "        vertical-align: middle;\n",
       "    }\n",
       "\n",
       "    .dataframe tbody tr th {\n",
       "        vertical-align: top;\n",
       "    }\n",
       "\n",
       "    .dataframe thead th {\n",
       "        text-align: right;\n",
       "    }\n",
       "</style>\n",
       "<table border=\"1\" class=\"dataframe\">\n",
       "  <thead>\n",
       "    <tr style=\"text-align: right;\">\n",
       "      <th></th>\n",
       "      <th>key_value</th>\n",
       "      <th>Periodo</th>\n",
       "      <th>Score_XGB</th>\n",
       "      <th>codmes</th>\n",
       "      <th>codunicocli</th>\n",
       "      <th>mtolineatotal_1</th>\n",
       "      <th>incremento</th>\n",
       "      <th>linea_nueva_cuenta</th>\n",
       "      <th>prob_contact</th>\n",
       "      <th>score_contact</th>\n",
       "      <th>grupo_frescura</th>\n",
       "      <th>Decile_score</th>\n",
       "      <th>grupo_ejecucion</th>\n",
       "    </tr>\n",
       "  </thead>\n",
       "  <tbody>\n",
       "    <tr>\n",
       "      <th>0</th>\n",
       "      <td>2C77D09B3A3BBD480B86627F06EF89B12F6D612174593E...</td>\n",
       "      <td>202001</td>\n",
       "      <td>0.215338</td>\n",
       "      <td>202001</td>\n",
       "      <td>8752194</td>\n",
       "      <td>26200</td>\n",
       "      <td>21900</td>\n",
       "      <td>48100</td>\n",
       "      <td>0.088758</td>\n",
       "      <td>MEDIO</td>\n",
       "      <td>G1</td>\n",
       "      <td>3</td>\n",
       "      <td>grupo_6</td>\n",
       "    </tr>\n",
       "    <tr>\n",
       "      <th>1</th>\n",
       "      <td>F741B217403C588A9B14BDC189083800BD8945AD1DA01B...</td>\n",
       "      <td>202001</td>\n",
       "      <td>0.727522</td>\n",
       "      <td>202001</td>\n",
       "      <td>14666155</td>\n",
       "      <td>900</td>\n",
       "      <td>6800</td>\n",
       "      <td>7700</td>\n",
       "      <td>0.369061</td>\n",
       "      <td>RECOMENDADO</td>\n",
       "      <td>G2</td>\n",
       "      <td>9</td>\n",
       "      <td>grupo_1</td>\n",
       "    </tr>\n",
       "    <tr>\n",
       "      <th>2</th>\n",
       "      <td>9C309B3AD0E61EA3281D1D89AF3E2C38A1B638C013B61D...</td>\n",
       "      <td>202001</td>\n",
       "      <td>0.309447</td>\n",
       "      <td>202001</td>\n",
       "      <td>9501381</td>\n",
       "      <td>4000</td>\n",
       "      <td>900</td>\n",
       "      <td>4900</td>\n",
       "      <td>0.540059</td>\n",
       "      <td>RECOMENDADO</td>\n",
       "      <td>G3</td>\n",
       "      <td>4</td>\n",
       "      <td>grupo_5</td>\n",
       "    </tr>\n",
       "    <tr>\n",
       "      <th>3</th>\n",
       "      <td>4F8E7F5AE5FA55C85AE0D89057B63B4D96EFA5578C8669...</td>\n",
       "      <td>202001</td>\n",
       "      <td>0.220372</td>\n",
       "      <td>202001</td>\n",
       "      <td>14701485</td>\n",
       "      <td>2000</td>\n",
       "      <td>8000</td>\n",
       "      <td>10000</td>\n",
       "      <td>0.371868</td>\n",
       "      <td>RECOMENDADO</td>\n",
       "      <td>G4</td>\n",
       "      <td>3</td>\n",
       "      <td>grupo_7</td>\n",
       "    </tr>\n",
       "    <tr>\n",
       "      <th>4</th>\n",
       "      <td>3066DF3F248C00876018C557D8BD197162D55FB888DA76...</td>\n",
       "      <td>202001</td>\n",
       "      <td>0.024145</td>\n",
       "      <td>202001</td>\n",
       "      <td>13369635</td>\n",
       "      <td>4700</td>\n",
       "      <td>1000</td>\n",
       "      <td>5700</td>\n",
       "      <td>0.046969</td>\n",
       "      <td>BAJO</td>\n",
       "      <td>G4</td>\n",
       "      <td>0</td>\n",
       "      <td>grupo_7</td>\n",
       "    </tr>\n",
       "  </tbody>\n",
       "</table>\n",
       "</div>"
      ],
      "text/plain": [
       "                                           key_value  Periodo  Score_XGB  \\\n",
       "0  2C77D09B3A3BBD480B86627F06EF89B12F6D612174593E...   202001   0.215338   \n",
       "1  F741B217403C588A9B14BDC189083800BD8945AD1DA01B...   202001   0.727522   \n",
       "2  9C309B3AD0E61EA3281D1D89AF3E2C38A1B638C013B61D...   202001   0.309447   \n",
       "3  4F8E7F5AE5FA55C85AE0D89057B63B4D96EFA5578C8669...   202001   0.220372   \n",
       "4  3066DF3F248C00876018C557D8BD197162D55FB888DA76...   202001   0.024145   \n",
       "\n",
       "   codmes  codunicocli  mtolineatotal_1  incremento  linea_nueva_cuenta  \\\n",
       "0  202001      8752194            26200       21900               48100   \n",
       "1  202001     14666155              900        6800                7700   \n",
       "2  202001      9501381             4000         900                4900   \n",
       "3  202001     14701485             2000        8000               10000   \n",
       "4  202001     13369635             4700        1000                5700   \n",
       "\n",
       "   prob_contact score_contact grupo_frescura  Decile_score grupo_ejecucion  \n",
       "0      0.088758         MEDIO             G1             3         grupo_6  \n",
       "1      0.369061   RECOMENDADO             G2             9         grupo_1  \n",
       "2      0.540059   RECOMENDADO             G3             4         grupo_5  \n",
       "3      0.371868   RECOMENDADO             G4             3         grupo_7  \n",
       "4      0.046969          BAJO             G4             0         grupo_7  "
      ]
     },
     "execution_count": 12,
     "metadata": {},
     "output_type": "execute_result"
    }
   ],
   "source": [
    "base_score_total.head()"
   ]
  },
  {
   "cell_type": "code",
   "execution_count": 13,
   "metadata": {
    "ExecuteTime": {
     "end_time": "2019-12-11T15:09:22.345259Z",
     "start_time": "2019-12-11T15:09:22.342258Z"
    }
   },
   "outputs": [
    {
     "data": {
      "text/plain": [
       "3421639"
      ]
     },
     "execution_count": 13,
     "metadata": {},
     "output_type": "execute_result"
    }
   ],
   "source": [
    "base_score_total.size"
   ]
  }
 ],
 "metadata": {
  "hide_input": false,
  "kernelspec": {
   "display_name": "Python 3",
   "language": "python",
   "name": "python3"
  },
  "language_info": {
   "codemirror_mode": {
    "name": "ipython",
    "version": 3
   },
   "file_extension": ".py",
   "mimetype": "text/x-python",
   "name": "python",
   "nbconvert_exporter": "python",
   "pygments_lexer": "ipython3",
   "version": "3.7.3"
  },
  "toc": {
   "base_numbering": 1,
   "nav_menu": {},
   "number_sections": true,
   "sideBar": true,
   "skip_h1_title": false,
   "title_cell": "Table of Contents",
   "title_sidebar": "Contents",
   "toc_cell": false,
   "toc_position": {},
   "toc_section_display": true,
   "toc_window_display": false
  },
  "varInspector": {
   "cols": {
    "lenName": 16,
    "lenType": 16,
    "lenVar": 40
   },
   "kernels_config": {
    "python": {
     "delete_cmd_postfix": "",
     "delete_cmd_prefix": "del ",
     "library": "var_list.py",
     "varRefreshCmd": "print(var_dic_list())"
    },
    "r": {
     "delete_cmd_postfix": ") ",
     "delete_cmd_prefix": "rm(",
     "library": "var_list.r",
     "varRefreshCmd": "cat(var_dic_list()) "
    }
   },
   "types_to_exclude": [
    "module",
    "function",
    "builtin_function_or_method",
    "instance",
    "_Feature"
   ],
   "window_display": false
  }
 },
 "nbformat": 4,
 "nbformat_minor": 2
}
