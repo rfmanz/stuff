{
 "cells": [
  {
   "cell_type": "code",
   "execution_count": 1,
   "id": "drawn-darwin",
   "metadata": {},
   "outputs": [],
   "source": [
    "import pandas as pd\n",
    "import lightgbm as lgb\n",
    "\n",
    "from sklearn.metrics import roc_auc_score\n",
    "from lightgbm import LGBMClassifier\n",
    "\n",
    "from sklearn2pmml import sklearn2pmml\n",
    "from sklearn2pmml import DataFrameMapper\n",
    "from sklearn2pmml.decoration import ContinuousDomain\n",
    "from sklearn2pmml.preprocessing.lightgbm import make_lightgbm_dataframe_mapper\n",
    "from sklearn2pmml.pipeline import PMMLPipeline\n",
    "from sklearn2pmml.decoration import Alias\n",
    "from sklearn2pmml.preprocessing import ExpressionTransformer"
   ]
  },
  {
   "cell_type": "markdown",
   "id": "considerable-peninsula",
   "metadata": {},
   "source": [
    "# 1. read data"
   ]
  },
  {
   "cell_type": "code",
   "execution_count": 2,
   "id": "proper-encyclopedia",
   "metadata": {},
   "outputs": [],
   "source": [
    "df=pd.read_parquet('cc_prospect_gen1_thick.parquet.gzip')"
   ]
  },
  {
   "cell_type": "code",
   "execution_count": 3,
   "id": "broadband-commonwealth",
   "metadata": {},
   "outputs": [],
   "source": [
    "mono_df=pd.read_csv('thick_mono_list.csv')\n",
    "mono_list_attr=mono_df['mono_list_attr'].to_list()\n",
    "mono_list_constr=mono_df['mono_list_constr'].to_list()"
   ]
  },
  {
   "cell_type": "code",
   "execution_count": 4,
   "id": "severe-riverside",
   "metadata": {},
   "outputs": [],
   "source": [
    "df_X = df[mono_list_attr]\n",
    "df_y = df['24_month_bad90_flag']"
   ]
  },
  {
   "cell_type": "markdown",
   "id": "noted-compression",
   "metadata": {},
   "source": [
    "# 2. data transformation using mapper"
   ]
  },
  {
   "cell_type": "code",
   "execution_count": 5,
   "id": "nutritional-shelter",
   "metadata": {},
   "outputs": [],
   "source": [
    "mapper,_ = make_lightgbm_dataframe_mapper(df_X.dtypes, missing_value_aware = True)\n",
    "mapper=DataFrameMapper([(['REV5620'],ContinuousDomain( high_value=999999990,low_value=0,outlier_treatment='as_missing_values' )),\n",
    "                        (['TBCA2527'],ContinuousDomain( high_value=999999990,low_value=0,outlier_treatment='as_missing_values' )),\n",
    "                        (['BCC5620'],ContinuousDomain( high_value=999999990,low_value=0,outlier_treatment='as_missing_values' )),\n",
    "                        (['BCA8370'],ContinuousDomain( high_value=9990,low_value=0,outlier_treatment='as_missing_values' )),\n",
    "                        (['ALL8325'],ContinuousDomain( high_value=9990,low_value=0,outlier_treatment='as_missing_values' )),\n",
    "                        (['TBCC2351'],ContinuousDomain( high_value=990,low_value=0,outlier_treatment='as_missing_values' )),\n",
    "                        (['REH7120'],ContinuousDomain( high_value=990,low_value=0,outlier_treatment='as_missing_values' )),\n",
    "                        (['BCX7110'],ContinuousDomain( high_value=990,low_value=0,outlier_treatment='as_missing_values' )),\n",
    "                        (['ALL8320'],ContinuousDomain( high_value=9990,low_value=0,outlier_treatment='as_missing_values' )),\n",
    "                        (['ALL4520'],ContinuousDomain( high_value=90,low_value=0,outlier_treatment='as_missing_values' )),\n",
    "                        (['ALL7938'],ContinuousDomain( high_value=100,low_value=0,outlier_treatment='as_missing_values' )),\n",
    "                        (['IQT9426'],ContinuousDomain( high_value=90,low_value=0,outlier_treatment='as_missing_values' )),\n",
    "                        (['IQT9510'],ContinuousDomain( high_value=9990,low_value=0,outlier_treatment='as_missing_values' )),\n",
    "                        (['IQT9427'],ContinuousDomain( high_value=90,low_value=0,outlier_treatment='as_missing_values' )),\n",
    "                        (['IQT9420'],ContinuousDomain( high_value=90,low_value=0,outlier_treatment='as_missing_values' )),\n",
    "                        (['ALL5072'],ContinuousDomain( high_value=999999990,low_value=0,outlier_treatment='as_missing_values' )),\n",
    "                        (['ALL7340'],ContinuousDomain( high_value=100,low_value=0,outlier_treatment='as_missing_values' )),\n",
    "                        (['ALL8160'],ContinuousDomain( high_value=9990,low_value=0,outlier_treatment='as_missing_values' )),\n",
    "                        (['ALL8164'],ContinuousDomain( high_value=9990,low_value=0,outlier_treatment='as_missing_values' )),\n",
    "                        (['ALL8152'],ContinuousDomain( high_value=9990,low_value=0,outlier_treatment='as_missing_values' )),\n",
    "                        (['ALL7517'],ContinuousDomain( high_value=100,low_value=0,outlier_treatment='as_missing_values' )),\n",
    "                        (['ALL7936'],ContinuousDomain( high_value=100,low_value=0,outlier_treatment='as_missing_values' )),\n",
    "                        (['TBCC4502'],ContinuousDomain( high_value=9990,low_value=0,outlier_treatment='as_missing_values' )),\n",
    "                        (['TBCC3503'],ContinuousDomain( high_value=90,low_value=0,outlier_treatment='as_missing_values' )),\n",
    "                        (['TBCC2503'],ContinuousDomain( high_value=90,low_value=0,outlier_treatment='as_missing_values' )),\n",
    "                        (['ALM6280'],ContinuousDomain( high_value=400,low_value=0,outlier_treatment='as_missing_values' )),\n",
    "                        (['TBCA3275'],ContinuousDomain( high_value=999999990,low_value=0,outlier_treatment='as_missing_values' )),\n",
    "                        (['ALL7519'],ContinuousDomain( high_value=100,low_value=0,outlier_treatment='as_missing_values' )),\n",
    "                        (['ALM6200'],ContinuousDomain( high_value=400,low_value=0,outlier_treatment='as_missing_values' )),\n",
    "                        (['ALL7518'],ContinuousDomain( high_value=100,low_value=0,outlier_treatment='as_missing_values' )),\n",
    "                        (['TBCC3205'],ContinuousDomain( high_value=12,low_value=0,outlier_treatment='as_missing_values' ))])"
   ]
  },
  {
   "cell_type": "markdown",
   "id": "considered-setup",
   "metadata": {},
   "source": [
    "# 3. fit model use LGBMClassifier and save to pmml"
   ]
  },
  {
   "cell_type": "code",
   "execution_count": 6,
   "id": "objective-madonna",
   "metadata": {},
   "outputs": [
    {
     "name": "stderr",
     "output_type": "stream",
     "text": [
      "/home/ec2-user/anaconda3/envs/python3/lib/python3.6/site-packages/ipykernel/__main__.py:2: SettingWithCopyWarning: \n",
      "A value is trying to be set on a copy of a slice from a DataFrame.\n",
      "Try using .loc[row_indexer,col_indexer] = value instead\n",
      "\n",
      "See the caveats in the documentation: https://pandas.pydata.org/pandas-docs/stable/user_guide/indexing.html#returning-a-view-versus-a-copy\n",
      "  from ipykernel import kernelapp as app\n"
     ]
    },
    {
     "data": {
      "text/plain": [
       "REV5620     float64\n",
       "TBCA2527    float64\n",
       "BCC5620     float64\n",
       "BCA8370     float64\n",
       "ALL8325     float64\n",
       "TBCC2351    float64\n",
       "REH7120     float64\n",
       "BCX7110     float64\n",
       "ALL8320     float64\n",
       "ALL4520     float64\n",
       "ALL7938     float64\n",
       "IQT9426     float64\n",
       "IQT9510     float64\n",
       "IQT9427     float64\n",
       "IQT9420     float64\n",
       "ALL5072     float64\n",
       "ALL7340     float64\n",
       "ALL8160     float64\n",
       "ALL8164     float64\n",
       "ALL8152     float64\n",
       "ALL7517     float64\n",
       "ALL7936     float64\n",
       "TBCC4502    float64\n",
       "TBCC3503    float64\n",
       "TBCC2503    float64\n",
       "ALM6280     float64\n",
       "TBCA3275    float64\n",
       "ALL7519     float64\n",
       "ALM6200     float64\n",
       "ALL7518     float64\n",
       "TBCC3205    float64\n",
       "dtype: object"
      ]
     },
     "execution_count": 6,
     "metadata": {},
     "output_type": "execute_result"
    }
   ],
   "source": [
    "for i in mono_list_attr:\n",
    "    df_X[i]=df_X[i].astype('float64')\n",
    "df_X.dtypes"
   ]
  },
  {
   "cell_type": "code",
   "execution_count": 7,
   "id": "coral-manufacturer",
   "metadata": {},
   "outputs": [
    {
     "name": "stderr",
     "output_type": "stream",
     "text": [
      "/home/ec2-user/anaconda3/envs/python3/lib/python3.6/site-packages/sklearn/base.py:213: FutureWarning: From version 0.24, get_params will raise an AttributeError if a parameter cannot be retrieved as an instance attribute. Previously it would return None.\n",
      "  FutureWarning)\n"
     ]
    },
    {
     "data": {
      "text/plain": [
       "PMMLPipeline(steps=[('mapper', DataFrameMapper(drop_cols=[],\n",
       "                features=[(['REV5620'],\n",
       "                           ContinuousDomain(high_value=999999990, low_value=0,\n",
       "                                            outlier_treatment='as_missing_values')),\n",
       "                          (['TBCA2527'],\n",
       "                           ContinuousDomain(high_value=999999990, low_value=0,\n",
       "                                            outlier_treatment='as_missing_values')),\n",
       "                          (['BCC5620'],\n",
       "                           ContinuousDomain(high_value=999999990, low_value=0,\n",
       "                                            outlier_treatment='as_missing_values')),\n",
       "                          (...\n",
       "                           ContinuousDomain(high_value=999999990, low_value=0,\n",
       "                                            outlier_treatment='as_missing_values')),\n",
       "                          (['ALL7519'],\n",
       "                           ContinuousDomain(high_value=100, low_value=0,\n",
       "                                            outlier_treatment='as_missing_values')),\n",
       "                          (['ALM6200'],\n",
       "                           ContinuousDomain(high_value=400, low_value=0,\n",
       "                                            outlier_treatment='as_missing_values')),\n",
       "                          (['ALL7518'],\n",
       "                           ContinuousDomain(high_value=100, low_value=0,\n",
       "                                            outlier_treatment='as_missing_values')), ...])),\n",
       "       ('classifier', LGBMClassifier(feature_fraction=0.8, learning_rate=0.02, max_depth=6,\n",
       "               min_child_samples=300,\n",
       "               monotone_constraints=[-1.0, -1.0, -1.0, -1.0, -1.0, 1.0, 1.0,\n",
       "                                     1.0, -1.0, -1.0, -1.0, 1.0, -1.0, 1.0, 1.0,\n",
       "                                     1.0, 1.0, -1.0, -1.0, -1.0, 1.0, -1.0, 1.0,\n",
       "                                     1.0, 1.0, 1.0, -1.0, 1.0, 1.0, 1.0, ...],\n",
       "               n_estimators=1579, num_leaves=25, objective='binary',\n",
       "               random_state=157, reg_lambda=5))])"
      ]
     },
     "execution_count": 7,
     "metadata": {},
     "output_type": "execute_result"
    }
   ],
   "source": [
    "classifier = LGBMClassifier(random_state = 13)\n",
    "classifier = LGBMClassifier(objective = \"binary\",min_child_samples =300,boosting_type='gbdt',reg_lambda=5,\n",
    "                            random_state=157,learning_rate=0.02,monotone_constraints=mono_list_constr,\n",
    "                            max_depth=6, n_estimators = 1579,num_leaves=25,feature_fraction=0.8)\n",
    "\n",
    "pipeline = PMMLPipeline([\n",
    "  (\"mapper\",mapper),\n",
    "  (\"classifier\", classifier)],\n",
    "    predict_proba_transformer = Alias(ExpressionTransformer(\"X[1]\"), name=\"Predicted_y\", prefit=True))\n",
    "    \n",
    "pipeline.fit(df_X, df_y)"
   ]
  },
  {
   "cell_type": "code",
   "execution_count": 8,
   "id": "literary-guest",
   "metadata": {},
   "outputs": [
    {
     "name": "stdout",
     "output_type": "stream",
     "text": [
      "python: 3.6.13\n",
      "sklearn: 0.23.2\n",
      "sklearn2pmml: 0.56.2\n",
      "joblib: 1.0.1\n",
      "sklearn_pandas: 2.0.2\n",
      "pandas: 1.1.5\n",
      "numpy: 1.19.5\n",
      "openjdk: 1.8.0_272\n",
      "Executing command:\n",
      "java -cp /home/ec2-user/anaconda3/envs/python3/lib/python3.6/site-packages/sklearn2pmml/resources/pmml-model-metro-1.4.15.jar:/home/ec2-user/anaconda3/envs/python3/lib/python3.6/site-packages/sklearn2pmml/resources/jaxb-runtime-2.3.2.jar:/home/ec2-user/anaconda3/envs/python3/lib/python3.6/site-packages/sklearn2pmml/resources/jakarta.xml.bind-api-2.3.2.jar:/home/ec2-user/anaconda3/envs/python3/lib/python3.6/site-packages/sklearn2pmml/resources/slf4j-api-1.7.29.jar:/home/ec2-user/anaconda3/envs/python3/lib/python3.6/site-packages/sklearn2pmml/resources/jpmml-xgboost-1.3.16.jar:/home/ec2-user/anaconda3/envs/python3/lib/python3.6/site-packages/sklearn2pmml/resources/h2o-logger-3.30.0.3.jar:/home/ec2-user/anaconda3/envs/python3/lib/python3.6/site-packages/sklearn2pmml/resources/jpmml-converter-1.3.12.jar:/home/ec2-user/anaconda3/envs/python3/lib/python3.6/site-packages/sklearn2pmml/resources/jcommander-1.72.jar:/home/ec2-user/anaconda3/envs/python3/lib/python3.6/site-packages/sklearn2pmml/resources/istack-commons-runtime-3.0.8.jar:/home/ec2-user/anaconda3/envs/python3/lib/python3.6/site-packages/sklearn2pmml/resources/pmml-model-1.4.15.jar:/home/ec2-user/anaconda3/envs/python3/lib/python3.6/site-packages/sklearn2pmml/resources/h2o-tree-api-0.3.9.jar:/home/ec2-user/anaconda3/envs/python3/lib/python3.6/site-packages/sklearn2pmml/resources/pmml-agent-1.4.15.jar:/home/ec2-user/anaconda3/envs/python3/lib/python3.6/site-packages/sklearn2pmml/resources/jpmml-h2o-1.0.11.jar:/home/ec2-user/anaconda3/envs/python3/lib/python3.6/site-packages/sklearn2pmml/resources/h2o-genmodel-3.30.0.3.jar:/home/ec2-user/anaconda3/envs/python3/lib/python3.6/site-packages/sklearn2pmml/resources/jakarta.activation-api-1.2.1.jar:/home/ec2-user/anaconda3/envs/python3/lib/python3.6/site-packages/sklearn2pmml/resources/guava-21.0.jar:/home/ec2-user/anaconda3/envs/python3/lib/python3.6/site-packages/sklearn2pmml/resources/jpmml-sklearn-1.5.38.jar:/home/ec2-user/anaconda3/envs/python3/lib/python3.6/site-packages/sklearn2pmml/resources/serpent-1.23.jar:/home/ec2-user/anaconda3/envs/python3/lib/python3.6/site-packages/sklearn2pmml/resources/gson-2.6.2.jar:/home/ec2-user/anaconda3/envs/python3/lib/python3.6/site-packages/sklearn2pmml/resources/slf4j-jdk14-1.7.29.jar:/home/ec2-user/anaconda3/envs/python3/lib/python3.6/site-packages/sklearn2pmml/resources/pyrolite-4.30.jar:/home/ec2-user/anaconda3/envs/python3/lib/python3.6/site-packages/sklearn2pmml/resources/jpmml-lightgbm-1.2.14.jar org.jpmml.sklearn.Main --pkl-pipeline-input /tmp/pipeline-0nl0ilv8.pkl.z --pmml-output cc_prospect_gen1_thick_pmml_test.xml\n",
      "Standard output is empty\n",
      "Standard error:\n",
      "Mar 24, 2021 12:46:47 AM org.jpmml.sklearn.Main run\n",
      "INFO: Parsing PKL..\n",
      "Mar 24, 2021 12:46:47 AM org.jpmml.sklearn.Main run\n",
      "INFO: Parsed PKL in 69 ms.\n",
      "Mar 24, 2021 12:46:47 AM org.jpmml.sklearn.Main run\n",
      "INFO: Converting..\n",
      "Mar 24, 2021 12:46:47 AM sklearn2pmml.pipeline.PMMLPipeline encodePMML\n",
      "WARNING: Model verification data is not set. Use method 'sklearn2pmml.pipeline.PMMLPipeline.verify(X)' to correct this deficiency\n",
      "Mar 24, 2021 12:46:47 AM org.jpmml.sklearn.Main run\n",
      "INFO: Converted in 584 ms.\n",
      "Mar 24, 2021 12:46:47 AM org.jpmml.sklearn.Main run\n",
      "INFO: Marshalling PMML..\n",
      "Mar 24, 2021 12:46:48 AM org.jpmml.sklearn.Main run\n",
      "INFO: Marshalled PMML in 659 ms.\n",
      "\n",
      "Preserved joblib dump file(s): /tmp/pipeline-0nl0ilv8.pkl.z\n"
     ]
    }
   ],
   "source": [
    "sklearn2pmml(pipeline, \"cc_prospect_gen1_thick_pmml_test.xml\",with_repr=True, debug=True)"
   ]
  }
 ],
 "metadata": {
  "kernelspec": {
   "display_name": "conda_python3",
   "language": "python",
   "name": "conda_python3"
  },
  "language_info": {
   "codemirror_mode": {
    "name": "ipython",
    "version": 3
   },
   "file_extension": ".py",
   "mimetype": "text/x-python",
   "name": "python",
   "nbconvert_exporter": "python",
   "pygments_lexer": "ipython3",
   "version": "3.6.13"
  }
 },
 "nbformat": 4,
 "nbformat_minor": 5
}
