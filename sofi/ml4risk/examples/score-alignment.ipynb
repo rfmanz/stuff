{
 "cells": [
  {
   "cell_type": "markdown",
   "id": "881ad5c2",
   "metadata": {},
   "source": [
    "## Score Alignment\n",
    "---\n",
    "\n",
    "Example to produce score/prediction alignment based on cumulative bad rate."
   ]
  },
  {
   "cell_type": "code",
   "execution_count": 1,
   "id": "d7b8ec88",
   "metadata": {},
   "outputs": [],
   "source": [
    "import sys, os, json\n",
    "sys.path.insert(1, \"../\")\n",
    "import pandas as pd\n",
    "import numpy as np\n",
    "import matplotlib.pyplot as plt\n",
    "import seaborn as sns\n",
    "\n",
    "from ml4risk.model_selection import score_alignment as sa\n",
    "\n",
    "%matplotlib inline\n",
    "%load_ext autoreload\n",
    "%autoreload 2\n",
    "\n",
    "plt.style.use('seaborn')\n",
    "\n",
    "import warnings\n",
    "warnings.filterwarnings(\"ignore\")"
   ]
  },
  {
   "cell_type": "markdown",
   "id": "edd9794e",
   "metadata": {},
   "source": [
    "### Get Data"
   ]
  },
  {
   "cell_type": "code",
   "execution_count": 2,
   "id": "b4f3fc99",
   "metadata": {},
   "outputs": [],
   "source": [
    "test_df = pd.read_parquet(os.path.join(\"s3://sofi-data-science/Risk_DS/rdsutils_data/\", \"customer_pred_score_rg.parquet\"))"
   ]
  },
  {
   "cell_type": "code",
   "execution_count": 3,
   "id": "83668e19",
   "metadata": {},
   "outputs": [
    {
     "data": {
      "text/html": [
       "<div>\n",
       "<style scoped>\n",
       "    .dataframe tbody tr th:only-of-type {\n",
       "        vertical-align: middle;\n",
       "    }\n",
       "\n",
       "    .dataframe tbody tr th {\n",
       "        vertical-align: top;\n",
       "    }\n",
       "\n",
       "    .dataframe thead th {\n",
       "        text-align: right;\n",
       "    }\n",
       "</style>\n",
       "<table border=\"1\" class=\"dataframe\">\n",
       "  <thead>\n",
       "    <tr style=\"text-align: right;\">\n",
       "      <th></th>\n",
       "      <th>pred_old</th>\n",
       "      <th>score_old</th>\n",
       "      <th>pred_new</th>\n",
       "      <th>score_new</th>\n",
       "      <th>risk_group_old</th>\n",
       "      <th>risk_group_new</th>\n",
       "      <th>target</th>\n",
       "    </tr>\n",
       "  </thead>\n",
       "  <tbody>\n",
       "    <tr>\n",
       "      <th>12703</th>\n",
       "      <td>0.001044</td>\n",
       "      <td>420.468318</td>\n",
       "      <td>0.014136</td>\n",
       "      <td>501.152627</td>\n",
       "      <td>RG1</td>\n",
       "      <td>RG2</td>\n",
       "      <td>False</td>\n",
       "    </tr>\n",
       "    <tr>\n",
       "      <th>17074</th>\n",
       "      <td>0.786693</td>\n",
       "      <td>672.159133</td>\n",
       "      <td>0.965468</td>\n",
       "      <td>734.573168</td>\n",
       "      <td>RG5</td>\n",
       "      <td>RG5</td>\n",
       "      <td>True</td>\n",
       "    </tr>\n",
       "    <tr>\n",
       "      <th>19216</th>\n",
       "      <td>0.853470</td>\n",
       "      <td>686.239774</td>\n",
       "      <td>0.964090</td>\n",
       "      <td>733.324311</td>\n",
       "      <td>RG5</td>\n",
       "      <td>RG5</td>\n",
       "      <td>True</td>\n",
       "    </tr>\n",
       "    <tr>\n",
       "      <th>31532</th>\n",
       "      <td>0.907194</td>\n",
       "      <td>702.193300</td>\n",
       "      <td>0.973137</td>\n",
       "      <td>742.556065</td>\n",
       "      <td>RG5</td>\n",
       "      <td>RG5</td>\n",
       "      <td>True</td>\n",
       "    </tr>\n",
       "    <tr>\n",
       "      <th>37589</th>\n",
       "      <td>0.001542</td>\n",
       "      <td>432.498815</td>\n",
       "      <td>0.082503</td>\n",
       "      <td>557.724063</td>\n",
       "      <td>RG1</td>\n",
       "      <td>RG5</td>\n",
       "      <td>False</td>\n",
       "    </tr>\n",
       "  </tbody>\n",
       "</table>\n",
       "</div>"
      ],
      "text/plain": [
       "       pred_old   score_old  pred_new   score_new risk_group_old  \\\n",
       "12703  0.001044  420.468318  0.014136  501.152627            RG1   \n",
       "17074  0.786693  672.159133  0.965468  734.573168            RG5   \n",
       "19216  0.853470  686.239774  0.964090  733.324311            RG5   \n",
       "31532  0.907194  702.193300  0.973137  742.556065            RG5   \n",
       "37589  0.001542  432.498815  0.082503  557.724063            RG1   \n",
       "\n",
       "      risk_group_new  target  \n",
       "12703            RG2   False  \n",
       "17074            RG5    True  \n",
       "19216            RG5    True  \n",
       "31532            RG5    True  \n",
       "37589            RG5   False  "
      ]
     },
     "execution_count": 3,
     "metadata": {},
     "output_type": "execute_result"
    }
   ],
   "source": [
    "test_df.head()"
   ]
  },
  {
   "cell_type": "markdown",
   "id": "f30e2cb5",
   "metadata": {},
   "source": [
    "### Produce Score Alignment based on bad rate"
   ]
  },
  {
   "cell_type": "code",
   "execution_count": 4,
   "id": "5226c70d",
   "metadata": {},
   "outputs": [
    {
     "name": "stdout",
     "output_type": "stream",
     "text": [
      "source column:  pred_new\n",
      "target columns:  pred_old\n"
     ]
    }
   ],
   "source": [
    "src_pred = \"pred_new\"\n",
    "tgt_pred = \"pred_old\"\n",
    "target_col = \"target\"\n",
    "\n",
    "br_tbl = sa.get_score_alignment_table(test_df, src_pred, tgt_pred, target_col,\n",
    "                                   br_precision = 3, pred_precision = 3)\n",
    "test_df[src_pred + \"_rescaled\"] = sa.get_aligned_score(test_df, br_tbl, src_pred, tgt_pred,\n",
    "                                                    pred_precision=3)"
   ]
  },
  {
   "cell_type": "code",
   "execution_count": 5,
   "id": "955a4019",
   "metadata": {},
   "outputs": [
    {
     "data": {
      "text/plain": [
       "<matplotlib.legend.Legend at 0x7f430689eb50>"
      ]
     },
     "execution_count": 5,
     "metadata": {},
     "output_type": "execute_result"
    },
    {
     "data": {
      "image/png": "[encoded data removed]",
      "text/plain": [
       "<Figure size 576x396 with 1 Axes>"
      ]
     },
     "metadata": {},
     "output_type": "display_data"
    }
   ],
   "source": [
    "test_df[tgt_pred].hist(bins=100, alpha=0.4, label=tgt_pred)\n",
    "test_df[src_pred].hist(bins=100, alpha=0.4, label=src_pred)\n",
    "test_df[src_pred+\"_rescaled\"].hist(bins=100, alpha=0.4, label=src_pred+\"_rescaled\")\n",
    "plt.title(\"target distribution vs. rescaled source distribution\")\n",
    "plt.legend()"
   ]
  },
  {
   "cell_type": "code",
   "execution_count": 6,
   "id": "14e3ff7e",
   "metadata": {},
   "outputs": [],
   "source": [
    "def scale_scores(predictions):\n",
    "    \"\"\"\n",
    "    Convert probability to score.\n",
    "    \"\"\"\n",
    "    try:\n",
    "        assert (\n",
    "            (predictions >= 0) & (predictions <= 1)\n",
    "        ).all(), \"probability must be in range [0,1]\"\n",
    "    except AssertionError:\n",
    "        raise\n",
    "\n",
    "    # Formula parameters\n",
    "    ALPHA = 631.9455383610933\n",
    "    BETA = 30.812519272450654\n",
    "\n",
    "    # Minimum and maximum values for validation\n",
    "    MINIMUM = 300\n",
    "    MAXIMUM = 850\n",
    "\n",
    "    score = np.minimum(\n",
    "        np.maximum(np.log(predictions / (1 - predictions)) * BETA + ALPHA, MINIMUM),\n",
    "        MAXIMUM,\n",
    "    )\n",
    "\n",
    "    return score\n",
    "\n",
    "def get_risk_groups(serie):\n",
    "    return pd.cut(serie.round(), [300, 474, 510, 560, 600, 850], \n",
    "                  right=True, labels=[f'RG{i}' for i in range(1, 6)])"
   ]
  },
  {
   "cell_type": "code",
   "execution_count": 7,
   "id": "e680ec2d",
   "metadata": {},
   "outputs": [
    {
     "name": "stdout",
     "output_type": "stream",
     "text": [
      "rescaled prediction column:  pred_new_rescaled\n"
     ]
    }
   ],
   "source": [
    "print(\"rescaled prediction column: \", src_pred+\"_rescaled\")\n",
    "test_df[\"score_rescaled_new\"] = scale_scores(test_df[src_pred+\"_rescaled\"])\n",
    "test_df[\"risk_group_rescaled_new\"] = get_risk_groups(test_df[\"score_rescaled_new\"])"
   ]
  },
  {
   "cell_type": "code",
   "execution_count": 8,
   "id": "063f68f1",
   "metadata": {},
   "outputs": [
    {
     "data": {
      "text/plain": [
       "(570248, 10)"
      ]
     },
     "metadata": {},
     "output_type": "display_data"
    },
    {
     "data": {
      "text/plain": [
       "<matplotlib.legend.Legend at 0x7f430644ced0>"
      ]
     },
     "execution_count": 8,
     "metadata": {},
     "output_type": "execute_result"
    },
    {
     "data": {
      "image/png": "[encoded data removed]",
      "text/plain": [
       "<Figure size 576x396 with 1 Axes>"
      ]
     },
     "metadata": {},
     "output_type": "display_data"
    }
   ],
   "source": [
    "df_ = test_df\n",
    "\n",
    "display(df_.shape)\n",
    "\n",
    "score_col = \"score_old\"\n",
    "df_[score_col].hist(bins=100, alpha=0.4, label=score_col)\n",
    "\n",
    "score_col = \"score_new\"\n",
    "df_[score_col].hist(bins=100, alpha=0.4, label=score_col)\n",
    "\n",
    "score_col = \"score_rescaled_new\"\n",
    "df_[score_col].hist(bins=100, alpha=0.4, label=score_col)\n",
    "\n",
    "plt.title(\"20201130 score distribution with different scaling\")\n",
    "plt.legend()"
   ]
  },
  {
   "cell_type": "code",
   "execution_count": null,
   "id": "9f8c1f48",
   "metadata": {},
   "outputs": [],
   "source": []
  }
 ],
 "metadata": {
  "kernelspec": {
   "display_name": "conda_ml4risk",
   "language": "python",
   "name": "conda_ml4risk"
  },
  "language_info": {
   "codemirror_mode": {
    "name": "ipython",
    "version": 3
   },
   "file_extension": ".py",
   "mimetype": "text/x-python",
   "name": "python",
   "nbconvert_exporter": "python",
   "pygments_lexer": "ipython3",
   "version": "3.7.10"
  }
 },
 "nbformat": 4,
 "nbformat_minor": 5
}
