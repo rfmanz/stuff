{
 "cells": [
  {
   "cell_type": "markdown",
   "id": "82b7a909",
   "metadata": {},
   "source": [
    "### Score to Prediction\n",
    "---\n",
    "\n",
    "Often times we transform model predictions to scores for downstream tasks; once a while it would be rewarding to do so in reverse order. For example, we may transform FICO score to probabilitistic predictions for benchmarking, or Socure Sigma to a prediction that can be applied in Reject Inference - Performance Scoring.\n",
    "\n",
    "Here let's do just that --  transform a scaled score to a probabilitistic format\n",
    "\n",
    "Methodologies:\n",
    "* get log"
   ]
  },
  {
   "cell_type": "code",
   "execution_count": 59,
   "id": "38abb413",
   "metadata": {},
   "outputs": [
    {
     "name": "stdout",
     "output_type": "stream",
     "text": [
      "The autoreload extension is already loaded. To reload it, use:\n",
      "  %reload_ext autoreload\n"
     ]
    }
   ],
   "source": [
    "import sys, os, json\n",
    "sys.path.insert(1, \"../\")\n",
    "import pandas as pd\n",
    "import numpy as np\n",
    "import matplotlib.pyplot as plt\n",
    "import seaborn as sns\n",
    "\n",
    "from ml4risk.model_selection import score_alignment as sa\n",
    "\n",
    "%matplotlib inline\n",
    "%load_ext autoreload\n",
    "%autoreload 2\n",
    "\n",
    "plt.style.use('seaborn')\n",
    "\n",
    "import warnings\n",
    "warnings.filterwarnings(\"ignore\")"
   ]
  },
  {
   "cell_type": "markdown",
   "id": "cb4a862e",
   "metadata": {},
   "source": [
    "### Get Data"
   ]
  },
  {
   "cell_type": "code",
   "execution_count": 60,
   "id": "ef5a166a",
   "metadata": {},
   "outputs": [],
   "source": [
    "test_df = pd.read_parquet(os.path.join(\"s3://sofi-data-science/Risk_DS/rdsutils_data/\", \"customer_baseline_n_scores.parquet\"))"
   ]
  },
  {
   "cell_type": "code",
   "execution_count": 61,
   "id": "ffcf6090",
   "metadata": {},
   "outputs": [
    {
     "data": {
      "text/html": [
       "<div>\n",
       "<style scoped>\n",
       "    .dataframe tbody tr th:only-of-type {\n",
       "        vertical-align: middle;\n",
       "    }\n",
       "\n",
       "    .dataframe tbody tr th {\n",
       "        vertical-align: top;\n",
       "    }\n",
       "\n",
       "    .dataframe thead th {\n",
       "        text-align: right;\n",
       "    }\n",
       "</style>\n",
       "<table border=\"1\" class=\"dataframe\">\n",
       "  <thead>\n",
       "    <tr style=\"text-align: right;\">\n",
       "      <th></th>\n",
       "      <th>pred_incumbent</th>\n",
       "      <th>pred_wo_ind</th>\n",
       "      <th>score_incumbent</th>\n",
       "      <th>score_wo_ind</th>\n",
       "      <th>rg_incumbent</th>\n",
       "      <th>rg_wo_ind</th>\n",
       "      <th>target</th>\n",
       "      <th>fico_score</th>\n",
       "      <th>fraud_score_2</th>\n",
       "    </tr>\n",
       "  </thead>\n",
       "  <tbody>\n",
       "    <tr>\n",
       "      <th>5056065</th>\n",
       "      <td>0.014803</td>\n",
       "      <td>0.048822</td>\n",
       "      <td>502.594054</td>\n",
       "      <td>540.446816</td>\n",
       "      <td>RG2</td>\n",
       "      <td>RG3</td>\n",
       "      <td>False</td>\n",
       "      <td>NaN</td>\n",
       "      <td>0.447</td>\n",
       "    </tr>\n",
       "    <tr>\n",
       "      <th>5056066</th>\n",
       "      <td>0.133862</td>\n",
       "      <td>0.264597</td>\n",
       "      <td>574.411334</td>\n",
       "      <td>600.448718</td>\n",
       "      <td>RG4</td>\n",
       "      <td>RG4</td>\n",
       "      <td>False</td>\n",
       "      <td>NaN</td>\n",
       "      <td>NaN</td>\n",
       "    </tr>\n",
       "    <tr>\n",
       "      <th>5056067</th>\n",
       "      <td>0.008159</td>\n",
       "      <td>0.012328</td>\n",
       "      <td>484.031408</td>\n",
       "      <td>496.878531</td>\n",
       "      <td>RG2</td>\n",
       "      <td>RG2</td>\n",
       "      <td>False</td>\n",
       "      <td>NaN</td>\n",
       "      <td>0.133</td>\n",
       "    </tr>\n",
       "    <tr>\n",
       "      <th>5056068</th>\n",
       "      <td>0.000472</td>\n",
       "      <td>0.000902</td>\n",
       "      <td>395.957985</td>\n",
       "      <td>415.952349</td>\n",
       "      <td>RG1</td>\n",
       "      <td>RG1</td>\n",
       "      <td>False</td>\n",
       "      <td>NaN</td>\n",
       "      <td>0.117</td>\n",
       "    </tr>\n",
       "    <tr>\n",
       "      <th>5056069</th>\n",
       "      <td>0.341065</td>\n",
       "      <td>0.239810</td>\n",
       "      <td>611.653962</td>\n",
       "      <td>596.396399</td>\n",
       "      <td>RG5</td>\n",
       "      <td>RG4</td>\n",
       "      <td>False</td>\n",
       "      <td>NaN</td>\n",
       "      <td>NaN</td>\n",
       "    </tr>\n",
       "  </tbody>\n",
       "</table>\n",
       "</div>"
      ],
      "text/plain": [
       "         pred_incumbent  pred_wo_ind  score_incumbent  score_wo_ind  \\\n",
       "5056065        0.014803     0.048822       502.594054    540.446816   \n",
       "5056066        0.133862     0.264597       574.411334    600.448718   \n",
       "5056067        0.008159     0.012328       484.031408    496.878531   \n",
       "5056068        0.000472     0.000902       395.957985    415.952349   \n",
       "5056069        0.341065     0.239810       611.653962    596.396399   \n",
       "\n",
       "        rg_incumbent rg_wo_ind  target  fico_score  fraud_score_2  \n",
       "5056065          RG2       RG3   False         NaN          0.447  \n",
       "5056066          RG4       RG4   False         NaN            NaN  \n",
       "5056067          RG2       RG2   False         NaN          0.133  \n",
       "5056068          RG1       RG1   False         NaN          0.117  \n",
       "5056069          RG5       RG4   False         NaN            NaN  "
      ]
     },
     "execution_count": 61,
     "metadata": {},
     "output_type": "execute_result"
    }
   ],
   "source": [
    "test_df.head()"
   ]
  },
  {
   "cell_type": "markdown",
   "id": "f98e553a",
   "metadata": {},
   "source": [
    "#### Process\n",
    "\n",
    "* requirement: score needs to be mapped such that higher score indicates higher risk\n",
    "    * e.g. swap direction for FICO\n",
    "* get cumulative bad rate\n",
    "* set bad rate to be the prediction\n",
    "* map score to bad rate"
   ]
  },
  {
   "cell_type": "markdown",
   "id": "3ec47f7d",
   "metadata": {},
   "source": [
    "### Produce Score Alignment based on bad rate"
   ]
  },
  {
   "cell_type": "code",
   "execution_count": 62,
   "id": "1dc128f5",
   "metadata": {},
   "outputs": [
    {
     "data": {
      "text/html": [
       "<div>\n",
       "<style scoped>\n",
       "    .dataframe tbody tr th:only-of-type {\n",
       "        vertical-align: middle;\n",
       "    }\n",
       "\n",
       "    .dataframe tbody tr th {\n",
       "        vertical-align: top;\n",
       "    }\n",
       "\n",
       "    .dataframe thead th {\n",
       "        text-align: right;\n",
       "    }\n",
       "</style>\n",
       "<table border=\"1\" class=\"dataframe\">\n",
       "  <thead>\n",
       "    <tr style=\"text-align: right;\">\n",
       "      <th></th>\n",
       "      <th>fico_score</th>\n",
       "      <th>pred_incumbent</th>\n",
       "    </tr>\n",
       "  </thead>\n",
       "  <tbody>\n",
       "    <tr>\n",
       "      <th>5056065</th>\n",
       "      <td>NaN</td>\n",
       "      <td>0.014803</td>\n",
       "    </tr>\n",
       "    <tr>\n",
       "      <th>5056066</th>\n",
       "      <td>NaN</td>\n",
       "      <td>0.133862</td>\n",
       "    </tr>\n",
       "    <tr>\n",
       "      <th>5056067</th>\n",
       "      <td>NaN</td>\n",
       "      <td>0.008159</td>\n",
       "    </tr>\n",
       "    <tr>\n",
       "      <th>5056068</th>\n",
       "      <td>NaN</td>\n",
       "      <td>0.000472</td>\n",
       "    </tr>\n",
       "    <tr>\n",
       "      <th>5056069</th>\n",
       "      <td>NaN</td>\n",
       "      <td>0.341065</td>\n",
       "    </tr>\n",
       "  </tbody>\n",
       "</table>\n",
       "</div>"
      ],
      "text/plain": [
       "         fico_score  pred_incumbent\n",
       "5056065         NaN        0.014803\n",
       "5056066         NaN        0.133862\n",
       "5056067         NaN        0.008159\n",
       "5056068         NaN        0.000472\n",
       "5056069         NaN        0.341065"
      ]
     },
     "execution_count": 62,
     "metadata": {},
     "output_type": "execute_result"
    }
   ],
   "source": [
    "test_df[[\"fico_score\", \"pred_incumbent\"]].head()"
   ]
  },
  {
   "cell_type": "code",
   "execution_count": 63,
   "id": "09a514d2",
   "metadata": {},
   "outputs": [],
   "source": [
    "src_pred = \"fico_score_pred\"\n",
    "tgt_pred = \"pred_incumbent\"\n",
    "target_col = \"target\"\n",
    "\n",
    "df = test_df[test_df.fico_score.between(300, 850)]\n",
    "df[\"fico_score_pred\"] = -df[\"fico_score\"]\n",
    "df = df[[\"fico_score_pred\", tgt_pred, target_col]].dropna()"
   ]
  },
  {
   "cell_type": "code",
   "execution_count": 64,
   "id": "47d593ba",
   "metadata": {},
   "outputs": [],
   "source": [
    "df[\"fico_cum_br\"] = sa.get_cum_bad_rate(df, src_pred, target_col)"
   ]
  },
  {
   "cell_type": "code",
   "execution_count": 65,
   "id": "3cf43bf8",
   "metadata": {},
   "outputs": [
    {
     "name": "stdout",
     "output_type": "stream",
     "text": [
      "source column:  fico_score_pred\n",
      "target columns:  pred_incumbent\n"
     ]
    }
   ],
   "source": [
    "br_tbl = sa.get_score_alignment_table(df, src_pred, tgt_pred, target_col,\n",
    "                                      src_pred_range=(-850, -300), tgt_pred_range=(0,1),\n",
    "                                   br_precision = 10, pred_precision = 10)\n",
    "df[src_pred + \"_rescaled\"] = sa.get_aligned_score(df, br_tbl.iloc[1:], src_pred, tgt_pred,\n",
    "                                                    pred_precision=10)"
   ]
  },
  {
   "cell_type": "code",
   "execution_count": 66,
   "id": "bff43d88",
   "metadata": {},
   "outputs": [
    {
     "data": {
      "text/plain": [
       "<matplotlib.legend.Legend at 0x7f173d9598d0>"
      ]
     },
     "execution_count": 66,
     "metadata": {},
     "output_type": "execute_result"
    },
    {
     "data": {
      "image/png": "[encoded data removed]",
      "text/plain": [
       "<Figure size 576x396 with 1 Axes>"
      ]
     },
     "metadata": {},
     "output_type": "display_data"
    }
   ],
   "source": [
    "df[tgt_pred].hist(bins=100, alpha=0.4, label=tgt_pred)\n",
    "# df[src_pred].hist(bins=100, alpha=0.4, label=src_pred)\n",
    "df[src_pred+\"_rescaled\"].hist(bins=100, alpha=0.4, label=src_pred+\"_rescaled\")\n",
    "plt.title(\"target distribution vs. rescaled source distribution\")\n",
    "plt.legend()"
   ]
  },
  {
   "cell_type": "code",
   "execution_count": 67,
   "id": "d09e0e5d",
   "metadata": {},
   "outputs": [],
   "source": [
    "def build_score_coefficients(pred):\n",
    "    \"\"\"\n",
    "    For converting probability to score ranging from 0 to 100 using this formula:\n",
    "\n",
    "    scores = log(preds / (1 - preds)) * a + b\n",
    "\n",
    "    Where a and b are:\n",
    "    a = 100 / (max - min)\n",
    "    b = - (100 * min) / max\n",
    "\n",
    "    Where max and min are: \n",
    "    max = max(log(preds / (1 - preds)))\n",
    "    min = min(log(preds / (1 - preds)))\n",
    "    \n",
    "    \n",
    "    call a, b = build_score_coefficients(pred) \n",
    "    \"\"\"\n",
    "    scores = np.log(pred / (1 - pred))\n",
    "    s_max = scores.max()\n",
    "    s_min = scores.min()\n",
    "    a = 100 / (s_max - s_min)\n",
    "    b = (100 * s_min) / (s_min - s_max)\n",
    "    return a, b"
   ]
  },
  {
   "cell_type": "code",
   "execution_count": null,
   "id": "5d2f804d",
   "metadata": {},
   "outputs": [],
   "source": []
  }
 ],
 "metadata": {
  "kernelspec": {
   "display_name": "conda_ml4risk",
   "language": "python",
   "name": "conda_ml4risk"
  },
  "language_info": {
   "codemirror_mode": {
    "name": "ipython",
    "version": 3
   },
   "file_extension": ".py",
   "mimetype": "text/x-python",
   "name": "python",
   "nbconvert_exporter": "python",
   "pygments_lexer": "ipython3",
   "version": "3.7.10"
  }
 },
 "nbformat": 4,
 "nbformat_minor": 5
}
