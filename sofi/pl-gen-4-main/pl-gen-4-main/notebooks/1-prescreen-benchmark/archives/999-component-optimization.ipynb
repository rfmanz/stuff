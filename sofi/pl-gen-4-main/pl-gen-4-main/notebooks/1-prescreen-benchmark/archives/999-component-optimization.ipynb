{
 "cells": [
  {
   "cell_type": "code",
   "execution_count": 2,
   "id": "8c28e193",
   "metadata": {},
   "outputs": [],
   "source": [
    "import sys, json, os, ast\n",
    "import copy\n",
    "import numpy as np\n",
    "import pandas as pd\n",
    "from smart_open import open\n",
    "from tqdm import tqdm\n",
    "import pickle as pkl\n",
    "import lightgbm as lgb\n",
    "\n",
    "import matplotlib.pyplot as plt\n",
    "import seaborn as sns\n",
    "\n",
    "plt.style.use(\"seaborn\")\n",
    "\n",
    "sys.path.insert(1, \"../..\")\n",
    "from src.logger import make_logger\n",
    "from src.dataloader import TabularDataloader\n",
    "from src.Trainer import LGBMTrainer, TFTrainer\n",
    "\n",
    "from rdsutils.feature_selection import mrmr\n",
    "from rdsutils.woe import WOE_Transform\n",
    "from _utils.feature_selection import feature_selection as fs\n",
    "from rdsutils import performance_eval as p_eval\n",
    "from rdsutils.feature_selection import FeatureSelector\n",
    "\n",
    "\n",
    "# new modules\n",
    "from _utils.sample_weights import get_sample_weight\n",
    "\n",
    "%load_ext autoreload\n",
    "%autoreload 2"
   ]
  },
  {
   "cell_type": "markdown",
   "id": "a3ba8037",
   "metadata": {},
   "source": [
    "### Encode missing\n",
    "---"
   ]
  },
  {
   "cell_type": "code",
   "execution_count": 61,
   "id": "de00e115",
   "metadata": {},
   "outputs": [
    {
     "data": {
      "text/plain": [
       "dict_keys(['data', 'meta', 'data_columns', 'model_params', 'model_features', 'impute_vals', 'monotone'])"
      ]
     },
     "metadata": {},
     "output_type": "display_data"
    }
   ],
   "source": [
    "target = 'target_v1'\n",
    "target_indeterminate = 'indeterminate_v1'\n",
    "weight = \"weight\"\n",
    "\n",
    "with open(\"config.json\", \"r\") as f:\n",
    "    config = json.load(f)\n",
    "    \n",
    "gen3_features = config[\"data_columns\"][\"gen3_features\"]\n",
    "display(config.keys()) \n",
    "seed = 42"
   ]
  },
  {
   "cell_type": "code",
   "execution_count": 4,
   "id": "c80d28d4",
   "metadata": {},
   "outputs": [
    {
     "name": "stdout",
     "output_type": "stream",
     "text": [
      "no directions from woe:  0\n"
     ]
    },
    {
     "data": {
      "text/html": [
       "<div>\n",
       "<style scoped>\n",
       "    .dataframe tbody tr th:only-of-type {\n",
       "        vertical-align: middle;\n",
       "    }\n",
       "\n",
       "    .dataframe tbody tr th {\n",
       "        vertical-align: top;\n",
       "    }\n",
       "\n",
       "    .dataframe thead th {\n",
       "        text-align: right;\n",
       "    }\n",
       "</style>\n",
       "<table border=\"1\" class=\"dataframe\">\n",
       "  <thead>\n",
       "    <tr style=\"text-align: right;\">\n",
       "      <th></th>\n",
       "      <th>mrmr_fcq</th>\n",
       "      <th>mrmr_fcxq</th>\n",
       "      <th>mrmr_ivcq</th>\n",
       "      <th>mrmr_ivcxq</th>\n",
       "      <th>rank_mean</th>\n",
       "      <th>rank_min</th>\n",
       "      <th>shap_ranking</th>\n",
       "      <th>mrmr_shapcq</th>\n",
       "      <th>mrmr_shapcxq</th>\n",
       "      <th>shap_mc_ranking</th>\n",
       "      <th>mrmr_shapcq_mc</th>\n",
       "      <th>mrmr_shapcxq_mc</th>\n",
       "    </tr>\n",
       "  </thead>\n",
       "  <tbody>\n",
       "    <tr>\n",
       "      <th>p13_alj0300</th>\n",
       "      <td>2868</td>\n",
       "      <td>2868</td>\n",
       "      <td>2868</td>\n",
       "      <td>2868</td>\n",
       "      <td>2868.0</td>\n",
       "      <td>2868</td>\n",
       "      <td>1575</td>\n",
       "      <td>2868</td>\n",
       "      <td>2868</td>\n",
       "      <td>1948</td>\n",
       "      <td>2868</td>\n",
       "      <td>2868</td>\n",
       "    </tr>\n",
       "    <tr>\n",
       "      <th>p13_alj0313</th>\n",
       "      <td>2868</td>\n",
       "      <td>2868</td>\n",
       "      <td>2868</td>\n",
       "      <td>2868</td>\n",
       "      <td>2868.0</td>\n",
       "      <td>2868</td>\n",
       "      <td>2529</td>\n",
       "      <td>2868</td>\n",
       "      <td>2868</td>\n",
       "      <td>1386</td>\n",
       "      <td>2868</td>\n",
       "      <td>2868</td>\n",
       "    </tr>\n",
       "    <tr>\n",
       "      <th>p13_alj0316</th>\n",
       "      <td>2868</td>\n",
       "      <td>2868</td>\n",
       "      <td>2868</td>\n",
       "      <td>2868</td>\n",
       "      <td>2868.0</td>\n",
       "      <td>2868</td>\n",
       "      <td>1104</td>\n",
       "      <td>2868</td>\n",
       "      <td>2868</td>\n",
       "      <td>1049</td>\n",
       "      <td>2868</td>\n",
       "      <td>2868</td>\n",
       "    </tr>\n",
       "    <tr>\n",
       "      <th>p13_alj0416</th>\n",
       "      <td>2868</td>\n",
       "      <td>2868</td>\n",
       "      <td>2868</td>\n",
       "      <td>2868</td>\n",
       "      <td>2868.0</td>\n",
       "      <td>2868</td>\n",
       "      <td>25</td>\n",
       "      <td>36</td>\n",
       "      <td>42</td>\n",
       "      <td>21</td>\n",
       "      <td>34</td>\n",
       "      <td>37</td>\n",
       "    </tr>\n",
       "    <tr>\n",
       "      <th>p13_alj5030</th>\n",
       "      <td>2868</td>\n",
       "      <td>2868</td>\n",
       "      <td>2868</td>\n",
       "      <td>2868</td>\n",
       "      <td>2868.0</td>\n",
       "      <td>2868</td>\n",
       "      <td>346</td>\n",
       "      <td>2868</td>\n",
       "      <td>2868</td>\n",
       "      <td>258</td>\n",
       "      <td>2868</td>\n",
       "      <td>2868</td>\n",
       "    </tr>\n",
       "  </tbody>\n",
       "</table>\n",
       "</div>"
      ],
      "text/plain": [
       "             mrmr_fcq  mrmr_fcxq  mrmr_ivcq  mrmr_ivcxq  rank_mean  rank_min  \\\n",
       "p13_alj0300      2868       2868       2868        2868     2868.0      2868   \n",
       "p13_alj0313      2868       2868       2868        2868     2868.0      2868   \n",
       "p13_alj0316      2868       2868       2868        2868     2868.0      2868   \n",
       "p13_alj0416      2868       2868       2868        2868     2868.0      2868   \n",
       "p13_alj5030      2868       2868       2868        2868     2868.0      2868   \n",
       "\n",
       "             shap_ranking  mrmr_shapcq  mrmr_shapcxq  shap_mc_ranking  \\\n",
       "p13_alj0300          1575         2868          2868             1948   \n",
       "p13_alj0313          2529         2868          2868             1386   \n",
       "p13_alj0316          1104         2868          2868             1049   \n",
       "p13_alj0416            25           36            42               21   \n",
       "p13_alj5030           346         2868          2868              258   \n",
       "\n",
       "             mrmr_shapcq_mc  mrmr_shapcxq_mc  \n",
       "p13_alj0300            2868             2868  \n",
       "p13_alj0313            2868             2868  \n",
       "p13_alj0316            2868             2868  \n",
       "p13_alj0416              34               37  \n",
       "p13_alj5030            2868             2868  "
      ]
     },
     "execution_count": 4,
     "metadata": {},
     "output_type": "execute_result"
    }
   ],
   "source": [
    "no_dir = []\n",
    "def get_monotone_dir(woe_dict):\n",
    "    result = {}\n",
    "    for k in woe_dict:\n",
    "        tbl = woe_dict[k]\n",
    "        if len(tbl) < 2:\n",
    "            no_dir.append(k)\n",
    "        elif tbl.iloc[0][\"woe\"] < tbl.iloc[1][\"woe\"]:\n",
    "            direction = 1\n",
    "        else:\n",
    "            direction = -1\n",
    "        \n",
    "        result[k] = direction\n",
    "    return result\n",
    "print(\"no directions from woe: \", len(no_dir))\n",
    "\n",
    "with open(\"./artifacts/woe_dict.pkl\", \"rb\") as f:\n",
    "    woe_dict = pkl.load(f)\n",
    "\n",
    "monotone_dict = get_monotone_dir(woe_dict)\n",
    "exp_dict = pd.read_csv(config[\"meta\"][\"exp_dict_path\"])\n",
    "ranking = pd.read_csv(\"./artifacts/fsel-ranking.csv\", index_col=0)\n",
    "ranking.head()"
   ]
  },
  {
   "cell_type": "code",
   "execution_count": 5,
   "id": "335bd857",
   "metadata": {},
   "outputs": [],
   "source": [
    "def get_top_k_features(feature_ranking, rank_col, k):\n",
    "    s = feature_ranking[rank_col].sort_values().head(k)\n",
    "    return s.index.to_list()\n",
    "\n",
    "top_200_fts = get_top_k_features(ranking, \"rank_mean\", 200)"
   ]
  },
  {
   "cell_type": "code",
   "execution_count": 6,
   "id": "da994feb",
   "metadata": {},
   "outputs": [
    {
     "name": "stdout",
     "output_type": "stream",
     "text": [
      "CPU times: user 21.7 s, sys: 50.1 s, total: 1min 11s\n",
      "Wall time: 1min 30s\n"
     ]
    }
   ],
   "source": [
    "%%time\n",
    "benchmarks = [\"gen3_score\", \"applicant_fico_score\"]\n",
    "meta_cols = [target, target_indeterminate, \"ri_source\",\n",
    "                      \"weight_ri_v1\", \"weight_cob\"]\n",
    "\n",
    "top_features = sorted(list(set(top_200_fts)))\n",
    "feature_cols = top_features\n",
    "cols = feature_cols + meta_cols + benchmarks\n",
    "cols = list(set(cols))\n",
    "\n",
    "train_full = pd.read_parquet(config[\"data\"][\"clean\"][\"all_features_dev1\"], columns=cols)\n",
    "test_full = pd.read_parquet(config[\"data\"][\"clean\"][\"all_features_oot1\"], columns=cols)"
   ]
  },
  {
   "cell_type": "code",
   "execution_count": 7,
   "id": "3d5a0ec2",
   "metadata": {},
   "outputs": [],
   "source": [
    "col = \"ri_source\"\n",
    "from src.preprocess import Preprocess\n",
    "\n",
    "weights = {\"booked\": 1,\n",
    "           \"proxy\": 1,\n",
    "           \"others\": 0.25}"
   ]
  },
  {
   "cell_type": "code",
   "execution_count": 12,
   "id": "47640e6b",
   "metadata": {},
   "outputs": [
    {
     "name": "stderr",
     "output_type": "stream",
     "text": [
      "100%|██████████| 200/200 [02:18<00:00,  1.44it/s]\n"
     ]
    },
    {
     "name": "stdout",
     "output_type": "stream",
     "text": [
      "CPU times: user 1min 15s, sys: 1min 8s, total: 2min 23s\n",
      "Wall time: 2min 23s\n"
     ]
    },
    {
     "data": {
      "text/plain": [
       "ri_source\n",
       "booked    157521.00\n",
       "others    242180.75\n",
       "proxy     186924.00\n",
       "Name: weight, dtype: float64"
      ]
     },
     "execution_count": 12,
     "metadata": {},
     "output_type": "execute_result"
    }
   ],
   "source": [
    "%%time  # 2:23 m\n",
    "\n",
    "df = train_full.copy()\n",
    "\n",
    "pp = Preprocess(exp_dict)\n",
    "df = pp.transform(df, feature_cols, weights)\n",
    "df[[\"weight\", \"ri_source\"]].groupby(\"ri_source\")[\"weight\"].sum()"
   ]
  },
  {
   "cell_type": "code",
   "execution_count": null,
   "id": "a1fcf6a9",
   "metadata": {},
   "outputs": [],
   "source": []
  },
  {
   "cell_type": "code",
   "execution_count": null,
   "id": "7e26efbe",
   "metadata": {},
   "outputs": [],
   "source": []
  },
  {
   "cell_type": "code",
   "execution_count": 8,
   "id": "72c74bc5",
   "metadata": {},
   "outputs": [],
   "source": [
    "from joblib import Parallel, delayed\n",
    "from multiprocessing import cpu_count\n",
    "\n",
    "\n",
    "def encode_cat_to_missing(df: pd.DataFrame, \n",
    "                           features: list,\n",
    "                           data_dict: pd.DataFrame):\n",
    "    no_special_cols = []\n",
    "    manual_treat_ment_required = []\n",
    "    for col in tqdm(features):\n",
    "        try:\n",
    "            cats = data_dict[data_dict.field_name == col].categorical.iloc[0]\n",
    "            if isinstance(cats, float):  # nan\n",
    "                no_special_cols.append(col)\n",
    "                continue\n",
    "            special_val = ast.literal_eval(cats)\n",
    "            special_val = [int(i) for i in special_val]\n",
    "            df[col] = cat_2_nan_series(df[col], special_val) \n",
    "        except:\n",
    "            manual_treatment_required.append(col)\n",
    "            \n",
    "    print(len(no_special_cols), len(manual_treatment_required))\n",
    "    return df\n",
    "\n",
    "\n",
    "def parallel_df(func, df, series, weights=None):\n",
    "    n_jobs = min(cpu_count(), len(df.columns))\n",
    "    col_chunks = np.array_split(range(len(df.columns)), n_jobs)\n",
    "    lst = Parallel(n_jobs=n_jobs)(\n",
    "        delayed(func)(df.iloc[:, col_chunk], series, weights) for col_chunk in col_chunks\n",
    "    )\n",
    "    return pd.concat(lst)\n"
   ]
  },
  {
   "cell_type": "code",
   "execution_count": 24,
   "id": "fb1130de",
   "metadata": {},
   "outputs": [],
   "source": [
    "nr_cpu = cpu_count() - 2\n",
    "\n",
    "df_ = dd.from_pandas(train_full, npartitions=nr_cpu)"
   ]
  },
  {
   "cell_type": "code",
   "execution_count": 9,
   "id": "4c777b47",
   "metadata": {},
   "outputs": [],
   "source": [
    "def cat_2_nan_series(series, categorical_list):\n",
    "    \"\"\" given series and a list of catergorical values\n",
    "    \n",
    "    replace the categorical occurances to nan\n",
    "    \"\"\"\n",
    "    if len(categorical_list) == 0:\n",
    "        return series\n",
    "    mapper = dict((k, np.nan) for k in categorical_list)\n",
    "    return series.replace(mapper)"
   ]
  },
  {
   "cell_type": "code",
   "execution_count": 31,
   "id": "dcdb21a9",
   "metadata": {},
   "outputs": [],
   "source": [
    "col = \"t11_tmti05q2\"\n",
    "data_dict = exp_dict\n",
    "cats = data_dict[data_dict.field_name == col].categorical.iloc[0]\n",
    "special_val = ast.literal_eval(cats)\n",
    "special_val = [int(i) for i in special_val]\n",
    "df_[col] = cat_2_nan_series(df[col], special_val) "
   ]
  },
  {
   "cell_type": "code",
   "execution_count": 32,
   "id": "b55faf64",
   "metadata": {},
   "outputs": [
    {
     "data": {
      "text/html": [
       "<div>\n",
       "<style scoped>\n",
       "    .dataframe tbody tr th:only-of-type {\n",
       "        vertical-align: middle;\n",
       "    }\n",
       "\n",
       "    .dataframe tbody tr th {\n",
       "        vertical-align: top;\n",
       "    }\n",
       "\n",
       "    .dataframe thead th {\n",
       "        text-align: right;\n",
       "    }\n",
       "</style>\n",
       "<table border=\"1\" class=\"dataframe\">\n",
       "  <thead>\n",
       "    <tr style=\"text-align: right;\">\n",
       "      <th></th>\n",
       "      <th>t11_tmti05q2</th>\n",
       "      <th>t11_tmti4216</th>\n",
       "      <th>t11_tall1410</th>\n",
       "      <th>p13_rev5725</th>\n",
       "      <th>p13_col8168</th>\n",
       "      <th>t11_tmti04q4</th>\n",
       "      <th>indeterminate_v1</th>\n",
       "      <th>t11_tstu05q3</th>\n",
       "      <th>t11_tmti0729</th>\n",
       "      <th>p13_mtf0155</th>\n",
       "      <th>...</th>\n",
       "      <th>p13_iqt9535</th>\n",
       "      <th>t11_taxm4203</th>\n",
       "      <th>t11_tbca1505</th>\n",
       "      <th>t11_tall4205</th>\n",
       "      <th>p13_all6971</th>\n",
       "      <th>p13_mtf0153</th>\n",
       "      <th>t11_tbcc1307</th>\n",
       "      <th>t11_tall3205</th>\n",
       "      <th>t11_tall03q3</th>\n",
       "      <th>t11_tbca3526</th>\n",
       "    </tr>\n",
       "  </thead>\n",
       "  <tbody>\n",
       "    <tr>\n",
       "      <th>0</th>\n",
       "      <td>NaN</td>\n",
       "      <td>999999998</td>\n",
       "      <td>997</td>\n",
       "      <td>0</td>\n",
       "      <td>9998</td>\n",
       "      <td>999999998</td>\n",
       "      <td>False</td>\n",
       "      <td>999999996</td>\n",
       "      <td>9998</td>\n",
       "      <td>98</td>\n",
       "      <td>...</td>\n",
       "      <td>994</td>\n",
       "      <td>5360</td>\n",
       "      <td>0</td>\n",
       "      <td>14</td>\n",
       "      <td>1</td>\n",
       "      <td>98</td>\n",
       "      <td>0</td>\n",
       "      <td>5</td>\n",
       "      <td>875</td>\n",
       "      <td>4075</td>\n",
       "    </tr>\n",
       "    <tr>\n",
       "      <th>1</th>\n",
       "      <td>NaN</td>\n",
       "      <td>999999998</td>\n",
       "      <td>997</td>\n",
       "      <td>0</td>\n",
       "      <td>9998</td>\n",
       "      <td>999999998</td>\n",
       "      <td>False</td>\n",
       "      <td>999999996</td>\n",
       "      <td>9998</td>\n",
       "      <td>98</td>\n",
       "      <td>...</td>\n",
       "      <td>994</td>\n",
       "      <td>5360</td>\n",
       "      <td>0</td>\n",
       "      <td>14</td>\n",
       "      <td>1</td>\n",
       "      <td>98</td>\n",
       "      <td>0</td>\n",
       "      <td>5</td>\n",
       "      <td>875</td>\n",
       "      <td>4075</td>\n",
       "    </tr>\n",
       "    <tr>\n",
       "      <th>2</th>\n",
       "      <td>NaN</td>\n",
       "      <td>999999998</td>\n",
       "      <td>997</td>\n",
       "      <td>0</td>\n",
       "      <td>9998</td>\n",
       "      <td>999999998</td>\n",
       "      <td>False</td>\n",
       "      <td>999999996</td>\n",
       "      <td>9998</td>\n",
       "      <td>98</td>\n",
       "      <td>...</td>\n",
       "      <td>994</td>\n",
       "      <td>5360</td>\n",
       "      <td>0</td>\n",
       "      <td>14</td>\n",
       "      <td>1</td>\n",
       "      <td>98</td>\n",
       "      <td>0</td>\n",
       "      <td>5</td>\n",
       "      <td>875</td>\n",
       "      <td>4075</td>\n",
       "    </tr>\n",
       "    <tr>\n",
       "      <th>3</th>\n",
       "      <td>NaN</td>\n",
       "      <td>999999998</td>\n",
       "      <td>997</td>\n",
       "      <td>0</td>\n",
       "      <td>9998</td>\n",
       "      <td>999999998</td>\n",
       "      <td>False</td>\n",
       "      <td>999999996</td>\n",
       "      <td>9998</td>\n",
       "      <td>98</td>\n",
       "      <td>...</td>\n",
       "      <td>994</td>\n",
       "      <td>5360</td>\n",
       "      <td>0</td>\n",
       "      <td>14</td>\n",
       "      <td>1</td>\n",
       "      <td>98</td>\n",
       "      <td>0</td>\n",
       "      <td>5</td>\n",
       "      <td>875</td>\n",
       "      <td>4075</td>\n",
       "    </tr>\n",
       "    <tr>\n",
       "      <th>4</th>\n",
       "      <td>NaN</td>\n",
       "      <td>999999997</td>\n",
       "      <td>997</td>\n",
       "      <td>0</td>\n",
       "      <td>9998</td>\n",
       "      <td>999999997</td>\n",
       "      <td>False</td>\n",
       "      <td>999999998</td>\n",
       "      <td>9996</td>\n",
       "      <td>0</td>\n",
       "      <td>...</td>\n",
       "      <td>994</td>\n",
       "      <td>-13995</td>\n",
       "      <td>0</td>\n",
       "      <td>23</td>\n",
       "      <td>30</td>\n",
       "      <td>0</td>\n",
       "      <td>0</td>\n",
       "      <td>12</td>\n",
       "      <td>2530</td>\n",
       "      <td>197</td>\n",
       "    </tr>\n",
       "  </tbody>\n",
       "</table>\n",
       "<p>5 rows × 207 columns</p>\n",
       "</div>"
      ],
      "text/plain": [
       "   t11_tmti05q2  t11_tmti4216  t11_tall1410  p13_rev5725  p13_col8168  \\\n",
       "0           NaN     999999998           997            0         9998   \n",
       "1           NaN     999999998           997            0         9998   \n",
       "2           NaN     999999998           997            0         9998   \n",
       "3           NaN     999999998           997            0         9998   \n",
       "4           NaN     999999997           997            0         9998   \n",
       "\n",
       "   t11_tmti04q4  indeterminate_v1  t11_tstu05q3  t11_tmti0729  p13_mtf0155  \\\n",
       "0     999999998             False     999999996          9998           98   \n",
       "1     999999998             False     999999996          9998           98   \n",
       "2     999999998             False     999999996          9998           98   \n",
       "3     999999998             False     999999996          9998           98   \n",
       "4     999999997             False     999999998          9996            0   \n",
       "\n",
       "   ...  p13_iqt9535  t11_taxm4203  t11_tbca1505  t11_tall4205  p13_all6971  \\\n",
       "0  ...          994          5360             0            14            1   \n",
       "1  ...          994          5360             0            14            1   \n",
       "2  ...          994          5360             0            14            1   \n",
       "3  ...          994          5360             0            14            1   \n",
       "4  ...          994        -13995             0            23           30   \n",
       "\n",
       "   p13_mtf0153  t11_tbcc1307  t11_tall3205  t11_tall03q3  t11_tbca3526  \n",
       "0           98             0             5           875          4075  \n",
       "1           98             0             5           875          4075  \n",
       "2           98             0             5           875          4075  \n",
       "3           98             0             5           875          4075  \n",
       "4            0             0            12          2530           197  \n",
       "\n",
       "[5 rows x 207 columns]"
      ]
     },
     "execution_count": 32,
     "metadata": {},
     "output_type": "execute_result"
    }
   ],
   "source": [
    "df_.head()"
   ]
  },
  {
   "cell_type": "code",
   "execution_count": 21,
   "id": "12976983",
   "metadata": {},
   "outputs": [],
   "source": [
    "import dask.dataframe as dd"
   ]
  },
  {
   "cell_type": "code",
   "execution_count": 60,
   "id": "ee1456f9",
   "metadata": {},
   "outputs": [],
   "source": [
    "# %%time\n",
    "\n",
    "# # df_ = dd.read_parquet(config[\"data\"][\"clean\"][\"all_features_dev1\"], columns=cols)\n",
    "# df_ = dd.from_pandas(train_full, chunksize=int(1e7))\n",
    "# data_dict = exp_dict\n",
    "\n",
    "# no_special = []\n",
    "# for col in feature_cols:\n",
    "#     try:\n",
    "#         cats = data_dict[data_dict.field_name == col].categorical.iloc[0]\n",
    "#         special_val = ast.literal_eval(cats)\n",
    "#         special_val = [int(i) for i in special_val]\n",
    "#         mapper = dict((k, np.nan) for k in special_val)\n",
    "#         fn = lambda x: mapper[x] if x in mapper else x\n",
    "#         df_[col] = df_[col].apply(fn)\n",
    "#     except Exception as e:\n",
    "#         print(e)\n",
    "#         pass\n",
    "    \n",
    "#         no_special.append(col)\n",
    "    \n",
    "# df_ = df_.compute()"
   ]
  },
  {
   "cell_type": "code",
   "execution_count": null,
   "id": "6aedf123",
   "metadata": {},
   "outputs": [],
   "source": []
  },
  {
   "cell_type": "code",
   "execution_count": null,
   "id": "7603745f",
   "metadata": {},
   "outputs": [],
   "source": [
    "%%time\n",
    "\n",
    "df_ = dd.read_parquet(config[\"data\"][\"clean\"][\"all_features_dev1\"], \n",
    "                      columns=cols)\n",
    "\n",
    "data_dict = exp_dict\n",
    "\n",
    "for col in feature_cols:\n",
    "    try:\n",
    "        cats = data_dict[data_dict.field_name == col].categorical.iloc[0]\n",
    "        special_val = ast.literal_eval(cats)\n",
    "        special_val = [int(i) for i in special_val]\n",
    "        df_[col] = cat_2_nan_series(df_[col], special_val) \n",
    "    except:\n",
    "        pass\n",
    "    \n",
    "df_.head()"
   ]
  },
  {
   "cell_type": "code",
   "execution_count": null,
   "id": "1f8a927f",
   "metadata": {},
   "outputs": [],
   "source": []
  },
  {
   "cell_type": "code",
   "execution_count": 54,
   "id": "9dddf242",
   "metadata": {},
   "outputs": [
    {
     "data": {
      "text/html": [
       "<div>\n",
       "<style scoped>\n",
       "    .dataframe tbody tr th:only-of-type {\n",
       "        vertical-align: middle;\n",
       "    }\n",
       "\n",
       "    .dataframe tbody tr th {\n",
       "        vertical-align: top;\n",
       "    }\n",
       "\n",
       "    .dataframe thead th {\n",
       "        text-align: right;\n",
       "    }\n",
       "</style>\n",
       "<table border=\"1\" class=\"dataframe\">\n",
       "  <thead>\n",
       "    <tr style=\"text-align: right;\">\n",
       "      <th></th>\n",
       "      <th>p13_als5400</th>\n",
       "      <th>t11_tcol3553</th>\n",
       "      <th>p13_all7938</th>\n",
       "      <th>t11_tmti3420</th>\n",
       "      <th>t11_tmti05q6</th>\n",
       "      <th>t11_tstu05q8</th>\n",
       "      <th>t11_tall02q1</th>\n",
       "      <th>p13_all5825</th>\n",
       "      <th>t11_tall01q5</th>\n",
       "      <th>t11_tall01q6</th>\n",
       "      <th>...</th>\n",
       "      <th>p13_all7360</th>\n",
       "      <th>p13_all7348</th>\n",
       "      <th>t11_tbca3264</th>\n",
       "      <th>t11_tbca3803</th>\n",
       "      <th>p13_bcc7517</th>\n",
       "      <th>p13_all5840</th>\n",
       "      <th>p13_all7347</th>\n",
       "      <th>t11_tbcc1313</th>\n",
       "      <th>p13_bcc7200</th>\n",
       "      <th>p13_rev7434</th>\n",
       "    </tr>\n",
       "  </thead>\n",
       "  <tbody>\n",
       "    <tr>\n",
       "      <th>0</th>\n",
       "      <td>19000</td>\n",
       "      <td>98</td>\n",
       "      <td>100</td>\n",
       "      <td>98</td>\n",
       "      <td>999999998</td>\n",
       "      <td>999999996</td>\n",
       "      <td>65712</td>\n",
       "      <td>791</td>\n",
       "      <td>43731</td>\n",
       "      <td>44711</td>\n",
       "      <td>...</td>\n",
       "      <td>0</td>\n",
       "      <td>0</td>\n",
       "      <td>9</td>\n",
       "      <td>8615</td>\n",
       "      <td>0</td>\n",
       "      <td>791</td>\n",
       "      <td>0</td>\n",
       "      <td>0</td>\n",
       "      <td>100</td>\n",
       "      <td>100</td>\n",
       "    </tr>\n",
       "    <tr>\n",
       "      <th>1</th>\n",
       "      <td>19000</td>\n",
       "      <td>98</td>\n",
       "      <td>100</td>\n",
       "      <td>98</td>\n",
       "      <td>999999998</td>\n",
       "      <td>999999996</td>\n",
       "      <td>65712</td>\n",
       "      <td>791</td>\n",
       "      <td>43731</td>\n",
       "      <td>44711</td>\n",
       "      <td>...</td>\n",
       "      <td>0</td>\n",
       "      <td>0</td>\n",
       "      <td>9</td>\n",
       "      <td>8615</td>\n",
       "      <td>0</td>\n",
       "      <td>791</td>\n",
       "      <td>0</td>\n",
       "      <td>0</td>\n",
       "      <td>100</td>\n",
       "      <td>100</td>\n",
       "    </tr>\n",
       "    <tr>\n",
       "      <th>2</th>\n",
       "      <td>19000</td>\n",
       "      <td>98</td>\n",
       "      <td>100</td>\n",
       "      <td>98</td>\n",
       "      <td>999999998</td>\n",
       "      <td>999999996</td>\n",
       "      <td>65712</td>\n",
       "      <td>791</td>\n",
       "      <td>43731</td>\n",
       "      <td>44711</td>\n",
       "      <td>...</td>\n",
       "      <td>0</td>\n",
       "      <td>0</td>\n",
       "      <td>9</td>\n",
       "      <td>8615</td>\n",
       "      <td>0</td>\n",
       "      <td>791</td>\n",
       "      <td>0</td>\n",
       "      <td>0</td>\n",
       "      <td>100</td>\n",
       "      <td>100</td>\n",
       "    </tr>\n",
       "    <tr>\n",
       "      <th>3</th>\n",
       "      <td>19000</td>\n",
       "      <td>98</td>\n",
       "      <td>100</td>\n",
       "      <td>98</td>\n",
       "      <td>999999998</td>\n",
       "      <td>999999996</td>\n",
       "      <td>65712</td>\n",
       "      <td>791</td>\n",
       "      <td>43731</td>\n",
       "      <td>44711</td>\n",
       "      <td>...</td>\n",
       "      <td>0</td>\n",
       "      <td>0</td>\n",
       "      <td>9</td>\n",
       "      <td>8615</td>\n",
       "      <td>0</td>\n",
       "      <td>791</td>\n",
       "      <td>0</td>\n",
       "      <td>0</td>\n",
       "      <td>100</td>\n",
       "      <td>100</td>\n",
       "    </tr>\n",
       "    <tr>\n",
       "      <th>4</th>\n",
       "      <td>103200</td>\n",
       "      <td>98</td>\n",
       "      <td>78</td>\n",
       "      <td>97</td>\n",
       "      <td>999999997</td>\n",
       "      <td>999999998</td>\n",
       "      <td>182387</td>\n",
       "      <td>2537</td>\n",
       "      <td>163282</td>\n",
       "      <td>177375</td>\n",
       "      <td>...</td>\n",
       "      <td>0</td>\n",
       "      <td>22</td>\n",
       "      <td>2</td>\n",
       "      <td>6500</td>\n",
       "      <td>0</td>\n",
       "      <td>2537</td>\n",
       "      <td>14</td>\n",
       "      <td>0</td>\n",
       "      <td>100</td>\n",
       "      <td>67</td>\n",
       "    </tr>\n",
       "  </tbody>\n",
       "</table>\n",
       "<p>5 rows × 207 columns</p>\n",
       "</div>"
      ],
      "text/plain": [
       "   p13_als5400  t11_tcol3553  p13_all7938  t11_tmti3420  t11_tmti05q6  \\\n",
       "0        19000            98          100            98     999999998   \n",
       "1        19000            98          100            98     999999998   \n",
       "2        19000            98          100            98     999999998   \n",
       "3        19000            98          100            98     999999998   \n",
       "4       103200            98           78            97     999999997   \n",
       "\n",
       "   t11_tstu05q8  t11_tall02q1  p13_all5825  t11_tall01q5  t11_tall01q6  ...  \\\n",
       "0     999999996         65712          791         43731         44711  ...   \n",
       "1     999999996         65712          791         43731         44711  ...   \n",
       "2     999999996         65712          791         43731         44711  ...   \n",
       "3     999999996         65712          791         43731         44711  ...   \n",
       "4     999999998        182387         2537        163282        177375  ...   \n",
       "\n",
       "   p13_all7360  p13_all7348  t11_tbca3264  t11_tbca3803  p13_bcc7517  \\\n",
       "0            0            0             9          8615            0   \n",
       "1            0            0             9          8615            0   \n",
       "2            0            0             9          8615            0   \n",
       "3            0            0             9          8615            0   \n",
       "4            0           22             2          6500            0   \n",
       "\n",
       "   p13_all5840  p13_all7347  t11_tbcc1313  p13_bcc7200  p13_rev7434  \n",
       "0          791            0             0          100          100  \n",
       "1          791            0             0          100          100  \n",
       "2          791            0             0          100          100  \n",
       "3          791            0             0          100          100  \n",
       "4         2537           14             0          100           67  \n",
       "\n",
       "[5 rows x 207 columns]"
      ]
     },
     "execution_count": 54,
     "metadata": {},
     "output_type": "execute_result"
    }
   ],
   "source": [
    "df_ = train_full.head()\n",
    "df_"
   ]
  },
  {
   "cell_type": "code",
   "execution_count": 57,
   "id": "7415a698",
   "metadata": {},
   "outputs": [
    {
     "name": "stdout",
     "output_type": "stream",
     "text": [
      "malformed node or string: nan\n",
      "malformed node or string: nan\n",
      "malformed node or string: nan\n"
     ]
    }
   ],
   "source": [
    "for col in feature_cols:\n",
    "    try:\n",
    "        cats = data_dict[data_dict.field_name == col].categorical.iloc[0]\n",
    "        special_val = ast.literal_eval(cats)\n",
    "        special_val = [int(i) for i in special_val]\n",
    "        \n",
    "        mapper = dict((k, np.nan) for k in special_val)\n",
    "        fn = lambda x: mapper[x] if x in mapper else x\n",
    "        df_[col] = df_[col].apply(fn)\n",
    "        \n",
    "    except Exception as e:\n",
    "        print(e)\n",
    "        pass\n",
    "    "
   ]
  },
  {
   "cell_type": "code",
   "execution_count": 58,
   "id": "e0a5171d",
   "metadata": {},
   "outputs": [
    {
     "data": {
      "text/html": [
       "<div>\n",
       "<style scoped>\n",
       "    .dataframe tbody tr th:only-of-type {\n",
       "        vertical-align: middle;\n",
       "    }\n",
       "\n",
       "    .dataframe tbody tr th {\n",
       "        vertical-align: top;\n",
       "    }\n",
       "\n",
       "    .dataframe thead th {\n",
       "        text-align: right;\n",
       "    }\n",
       "</style>\n",
       "<table border=\"1\" class=\"dataframe\">\n",
       "  <thead>\n",
       "    <tr style=\"text-align: right;\">\n",
       "      <th></th>\n",
       "      <th>p13_als5400</th>\n",
       "      <th>t11_tcol3553</th>\n",
       "      <th>p13_all7938</th>\n",
       "      <th>t11_tmti3420</th>\n",
       "      <th>t11_tmti05q6</th>\n",
       "      <th>t11_tstu05q8</th>\n",
       "      <th>t11_tall02q1</th>\n",
       "      <th>p13_all5825</th>\n",
       "      <th>t11_tall01q5</th>\n",
       "      <th>t11_tall01q6</th>\n",
       "      <th>...</th>\n",
       "      <th>p13_all7360</th>\n",
       "      <th>p13_all7348</th>\n",
       "      <th>t11_tbca3264</th>\n",
       "      <th>t11_tbca3803</th>\n",
       "      <th>p13_bcc7517</th>\n",
       "      <th>p13_all5840</th>\n",
       "      <th>p13_all7347</th>\n",
       "      <th>t11_tbcc1313</th>\n",
       "      <th>p13_bcc7200</th>\n",
       "      <th>p13_rev7434</th>\n",
       "    </tr>\n",
       "  </thead>\n",
       "  <tbody>\n",
       "    <tr>\n",
       "      <th>0</th>\n",
       "      <td>19000</td>\n",
       "      <td>NaN</td>\n",
       "      <td>100</td>\n",
       "      <td>NaN</td>\n",
       "      <td>NaN</td>\n",
       "      <td>NaN</td>\n",
       "      <td>65712</td>\n",
       "      <td>791</td>\n",
       "      <td>43731</td>\n",
       "      <td>44711</td>\n",
       "      <td>...</td>\n",
       "      <td>0</td>\n",
       "      <td>0</td>\n",
       "      <td>9</td>\n",
       "      <td>8615</td>\n",
       "      <td>0</td>\n",
       "      <td>791</td>\n",
       "      <td>0</td>\n",
       "      <td>0</td>\n",
       "      <td>100</td>\n",
       "      <td>100</td>\n",
       "    </tr>\n",
       "    <tr>\n",
       "      <th>1</th>\n",
       "      <td>19000</td>\n",
       "      <td>NaN</td>\n",
       "      <td>100</td>\n",
       "      <td>NaN</td>\n",
       "      <td>NaN</td>\n",
       "      <td>NaN</td>\n",
       "      <td>65712</td>\n",
       "      <td>791</td>\n",
       "      <td>43731</td>\n",
       "      <td>44711</td>\n",
       "      <td>...</td>\n",
       "      <td>0</td>\n",
       "      <td>0</td>\n",
       "      <td>9</td>\n",
       "      <td>8615</td>\n",
       "      <td>0</td>\n",
       "      <td>791</td>\n",
       "      <td>0</td>\n",
       "      <td>0</td>\n",
       "      <td>100</td>\n",
       "      <td>100</td>\n",
       "    </tr>\n",
       "    <tr>\n",
       "      <th>2</th>\n",
       "      <td>19000</td>\n",
       "      <td>NaN</td>\n",
       "      <td>100</td>\n",
       "      <td>NaN</td>\n",
       "      <td>NaN</td>\n",
       "      <td>NaN</td>\n",
       "      <td>65712</td>\n",
       "      <td>791</td>\n",
       "      <td>43731</td>\n",
       "      <td>44711</td>\n",
       "      <td>...</td>\n",
       "      <td>0</td>\n",
       "      <td>0</td>\n",
       "      <td>9</td>\n",
       "      <td>8615</td>\n",
       "      <td>0</td>\n",
       "      <td>791</td>\n",
       "      <td>0</td>\n",
       "      <td>0</td>\n",
       "      <td>100</td>\n",
       "      <td>100</td>\n",
       "    </tr>\n",
       "    <tr>\n",
       "      <th>3</th>\n",
       "      <td>19000</td>\n",
       "      <td>NaN</td>\n",
       "      <td>100</td>\n",
       "      <td>NaN</td>\n",
       "      <td>NaN</td>\n",
       "      <td>NaN</td>\n",
       "      <td>65712</td>\n",
       "      <td>791</td>\n",
       "      <td>43731</td>\n",
       "      <td>44711</td>\n",
       "      <td>...</td>\n",
       "      <td>0</td>\n",
       "      <td>0</td>\n",
       "      <td>9</td>\n",
       "      <td>8615</td>\n",
       "      <td>0</td>\n",
       "      <td>791</td>\n",
       "      <td>0</td>\n",
       "      <td>0</td>\n",
       "      <td>100</td>\n",
       "      <td>100</td>\n",
       "    </tr>\n",
       "    <tr>\n",
       "      <th>4</th>\n",
       "      <td>103200</td>\n",
       "      <td>NaN</td>\n",
       "      <td>78</td>\n",
       "      <td>NaN</td>\n",
       "      <td>NaN</td>\n",
       "      <td>NaN</td>\n",
       "      <td>182387</td>\n",
       "      <td>2537</td>\n",
       "      <td>163282</td>\n",
       "      <td>177375</td>\n",
       "      <td>...</td>\n",
       "      <td>0</td>\n",
       "      <td>22</td>\n",
       "      <td>2</td>\n",
       "      <td>6500</td>\n",
       "      <td>0</td>\n",
       "      <td>2537</td>\n",
       "      <td>14</td>\n",
       "      <td>0</td>\n",
       "      <td>100</td>\n",
       "      <td>67</td>\n",
       "    </tr>\n",
       "  </tbody>\n",
       "</table>\n",
       "<p>5 rows × 207 columns</p>\n",
       "</div>"
      ],
      "text/plain": [
       "   p13_als5400  t11_tcol3553  p13_all7938  t11_tmti3420  t11_tmti05q6  \\\n",
       "0        19000           NaN          100           NaN           NaN   \n",
       "1        19000           NaN          100           NaN           NaN   \n",
       "2        19000           NaN          100           NaN           NaN   \n",
       "3        19000           NaN          100           NaN           NaN   \n",
       "4       103200           NaN           78           NaN           NaN   \n",
       "\n",
       "   t11_tstu05q8  t11_tall02q1  p13_all5825  t11_tall01q5  t11_tall01q6  ...  \\\n",
       "0           NaN         65712          791         43731         44711  ...   \n",
       "1           NaN         65712          791         43731         44711  ...   \n",
       "2           NaN         65712          791         43731         44711  ...   \n",
       "3           NaN         65712          791         43731         44711  ...   \n",
       "4           NaN        182387         2537        163282        177375  ...   \n",
       "\n",
       "   p13_all7360  p13_all7348  t11_tbca3264  t11_tbca3803  p13_bcc7517  \\\n",
       "0            0            0             9          8615            0   \n",
       "1            0            0             9          8615            0   \n",
       "2            0            0             9          8615            0   \n",
       "3            0            0             9          8615            0   \n",
       "4            0           22             2          6500            0   \n",
       "\n",
       "   p13_all5840  p13_all7347  t11_tbcc1313  p13_bcc7200  p13_rev7434  \n",
       "0          791            0             0          100          100  \n",
       "1          791            0             0          100          100  \n",
       "2          791            0             0          100          100  \n",
       "3          791            0             0          100          100  \n",
       "4         2537           14             0          100           67  \n",
       "\n",
       "[5 rows x 207 columns]"
      ]
     },
     "execution_count": 58,
     "metadata": {},
     "output_type": "execute_result"
    }
   ],
   "source": [
    "df_"
   ]
  },
  {
   "cell_type": "code",
   "execution_count": null,
   "id": "bcf90511",
   "metadata": {},
   "outputs": [],
   "source": []
  },
  {
   "cell_type": "markdown",
   "id": "f8c848a8",
   "metadata": {},
   "source": [
    "#### FSEL"
   ]
  },
  {
   "cell_type": "code",
   "execution_count": 24,
   "id": "f0185ef1",
   "metadata": {},
   "outputs": [
    {
     "name": "stdout",
     "output_type": "stream",
     "text": [
      "The autoreload extension is already loaded. To reload it, use:\n",
      "  %reload_ext autoreload\n"
     ]
    }
   ],
   "source": [
    "import sys, json, os, ast\n",
    "import copy\n",
    "import numpy as np\n",
    "import pandas as pd\n",
    "from smart_open import open\n",
    "from tqdm import tqdm\n",
    "import pickle as pkl\n",
    "\n",
    "sys.path.insert(1, \"../..\")\n",
    "from src.logger import make_logger\n",
    "from src.dataloader import TabularDataloader\n",
    "from src.Trainer import LGBMTrainer, TFTrainer\n",
    "from src.preprocess import Preprocess\n",
    "\n",
    "from rdsutils.feature_selection import mrmr\n",
    "from rdsutils.woe import WOE_Transform\n",
    "from _utils.feature_selection import feature_selection as fs\n",
    "from _utils.performance_eval import performance_eval_v3 as p_eval\n",
    "from rdsutils.feature_selection import FeatureSelector\n",
    "\n",
    "\n",
    "# new modules\n",
    "from _utils.sample_weights import get_sample_weight\n",
    "\n",
    "%load_ext autoreload\n",
    "%autoreload 2"
   ]
  },
  {
   "cell_type": "code",
   "execution_count": 5,
   "id": "3429cac4",
   "metadata": {},
   "outputs": [],
   "source": [
    "target = 'target_v1'\n",
    "target_indeterminate = 'indeterminate_v1'\n",
    "weight = \"weight\""
   ]
  },
  {
   "cell_type": "code",
   "execution_count": 6,
   "id": "cb053b6a",
   "metadata": {},
   "outputs": [
    {
     "data": {
      "text/plain": [
       "dict_keys(['data', 'meta', 'data_columns', 'model_params', 'model_features', 'impute_vals', 'monotone'])"
      ]
     },
     "metadata": {},
     "output_type": "display_data"
    }
   ],
   "source": [
    "with open(\"config.json\", \"r\") as f:\n",
    "    config = json.load(f)\n",
    "    \n",
    "display(config.keys()) \n",
    "seed = 42"
   ]
  },
  {
   "cell_type": "code",
   "execution_count": 7,
   "id": "095fc887",
   "metadata": {},
   "outputs": [
    {
     "data": {
      "text/plain": [
       "dict_keys(['all_features_dev1', 'all_features_dev2', 'all_features_oot1', 'all_features_oot2', 'subset_dev1', 'subset_dev2'])"
      ]
     },
     "metadata": {},
     "output_type": "display_data"
    }
   ],
   "source": [
    "display(config[\"data\"][\"clean\"].keys())"
   ]
  },
  {
   "cell_type": "code",
   "execution_count": 8,
   "id": "3f3770bd",
   "metadata": {},
   "outputs": [],
   "source": [
    "# data dict\n",
    "exp_dict = pd.read_csv(config[\"meta\"][\"exp_dict_path\"])"
   ]
  },
  {
   "cell_type": "code",
   "execution_count": 9,
   "id": "70b80293",
   "metadata": {},
   "outputs": [],
   "source": [
    "dl = TabularDataloader(train_path=config[\"data\"][\"clean\"][\"subset_dev1\"])\n",
    "dl.load_data(debug_size=10000, random_state=seed)"
   ]
  },
  {
   "cell_type": "code",
   "execution_count": 10,
   "id": "df70aa1c",
   "metadata": {},
   "outputs": [
    {
     "data": {
      "text/plain": [
       "((228188, 5131), (10000, 5131))"
      ]
     },
     "execution_count": 10,
     "metadata": {},
     "output_type": "execute_result"
    }
   ],
   "source": [
    "debug_df, _, _ = dl.get_data(debug=True)\n",
    "train_df, _, _ = dl.get_data(debug=False)\n",
    "train_df.shape, debug_df.shape"
   ]
  },
  {
   "cell_type": "code",
   "execution_count": 11,
   "id": "b3dfbf5a",
   "metadata": {},
   "outputs": [],
   "source": [
    "gen3_features = config[\"data_columns\"][\"gen3_features\"]\n",
    "gen3_params = config[\"model_params\"][\"gen3_params\"]\n",
    "if \"scale_pos_weight\" in gen3_params:\n",
    "    del gen3_params[\"scale_pos_weight\"]\n",
    "\n",
    "bureau_fts = config[\"data_columns\"][\"bureau_features_cols\"] \n",
    "cat_fts = ['t11_t3d_segid', 't11_t3d_segid_supp'] # config[\"data_columns\"][\"cat_cols\"] \n",
    "prescreen_fts = bureau_fts + cat_fts"
   ]
  },
  {
   "cell_type": "markdown",
   "id": "644e59e2",
   "metadata": {},
   "source": [
    "### Preprocessing\n",
    "---\n",
    "* [x] create sample weight"
   ]
  },
  {
   "cell_type": "markdown",
   "id": "c8cbc235",
   "metadata": {},
   "source": [
    "#### sample weight"
   ]
  },
  {
   "cell_type": "code",
   "execution_count": 12,
   "id": "21993633",
   "metadata": {},
   "outputs": [],
   "source": [
    "df = train_df.copy()"
   ]
  },
  {
   "cell_type": "code",
   "execution_count": 13,
   "id": "4ffafa37",
   "metadata": {},
   "outputs": [
    {
     "name": "stderr",
     "output_type": "stream",
     "text": [
      "100%|██████████| 4205/4205 [00:09<00:00, 437.27it/s]\n"
     ]
    },
    {
     "name": "stdout",
     "output_type": "stream",
     "text": [
      "CPU times: user 9.74 s, sys: 0 ns, total: 9.74 s\n",
      "Wall time: 9.72 s\n"
     ]
    }
   ],
   "source": [
    "col = \"ri_source\"\n",
    "weights = {\"booked\": 1,\n",
    "           \"proxy\": 1,\n",
    "           \"others\": 0.25}\n",
    "\n",
    "assert sorted(df[col].unique().tolist()) == sorted(list(weights.keys()))\n",
    "\n",
    "pp = Preprocess(exp_dict)\n",
    "%time df = pp.transform(df, prescreen_fts, weights)"
   ]
  },
  {
   "cell_type": "code",
   "execution_count": 18,
   "id": "016cff22",
   "metadata": {},
   "outputs": [],
   "source": [
    "# lets restrict features to only 200 of them\n",
    "def get_top_k_features(feature_ranking, rank_col, k):\n",
    "    s = feature_ranking[rank_col].sort_values().head(k)\n",
    "    return s.index.to_list()\n",
    "\n",
    "ranking = pd.read_csv(\"./artifacts/fsel-ranking.csv\", index_col=0)\n",
    "top_300_fts = get_top_k_features(ranking, \"rank_mean\", 300)"
   ]
  },
  {
   "cell_type": "code",
   "execution_count": 36,
   "id": "612049f2",
   "metadata": {},
   "outputs": [],
   "source": [
    "# from _utils.WeightedCorr import WeightedCorr\n",
    "from rdsutils.feature_selection import mrmr, WeightedCorr as wc\n",
    "\n",
    "list_features = top_300_fts \n",
    "n_features = 20\n",
    "weight_col = \"weight\""
   ]
  },
  {
   "cell_type": "code",
   "execution_count": 45,
   "id": "607269e4",
   "metadata": {},
   "outputs": [
    {
     "data": {
      "text/plain": [
       "{'objective': 'binary',\n",
       " 'metric': 'auc',\n",
       " 'boosting': 'gbdt',\n",
       " 'max_depth': 6,\n",
       " 'learning_rate': 0.05,\n",
       " 'min_data_in_leaf': [300],\n",
       " 'verbosity': 0,\n",
       " 'seed': 157,\n",
       " 'n_jobs': 30,\n",
       " 'n_estimators': 800}"
      ]
     },
     "execution_count": 45,
     "metadata": {},
     "output_type": "execute_result"
    }
   ],
   "source": [
    "params"
   ]
  },
  {
   "cell_type": "code",
   "execution_count": null,
   "id": "25578ee7",
   "metadata": {},
   "outputs": [],
   "source": [
    "%%time\n",
    "import shap\n",
    "import lightgbm as lgb\n",
    "\n",
    "# # woe dict\n",
    "woe = WOE_Transform(method = 'tree',min_iv = 0.01)\n",
    "woe.fit(df[list_features], df[target].astype(int), Y_weight=df[weight], display=-1)\n",
    "df_iv = woe.get_iv()\n",
    "woe_dict = woe.woe_dict()\n",
    "\n",
    "iv_tbl = df_iv[df_iv.attr.isin(list_features)][['attr','iv']].set_index('attr')\n",
    "iv_series = iv_tbl.iv"
   ]
  },
  {
   "cell_type": "code",
   "execution_count": 49,
   "id": "aaeffdd5",
   "metadata": {},
   "outputs": [
    {
     "name": "stdout",
     "output_type": "stream",
     "text": [
      "[LightGBM] [Warning] min_data_in_leaf is set=300, min_child_samples=20 will be ignored. Current value: min_data_in_leaf=300\n",
      "[LightGBM] [Warning] boosting is set=gbdt, boosting_type=gbdt will be ignored. Current value: boosting=gbdt\n"
     ]
    }
   ],
   "source": [
    "%%time\n",
    "# shap\n",
    "params = {'objective': 'binary',\n",
    " 'metric': 'auc',\n",
    " 'boosting': 'gbdt',\n",
    " 'max_depth': 6,\n",
    " 'learning_rate': 0.05,\n",
    " 'min_data_in_leaf': [300],\n",
    " 'verbosity': -1,\n",
    " 'seed': 157,\n",
    " 'n_jobs': 30,\n",
    " 'n_estimators': 300}\n",
    "\n",
    "lgbm = lgb.LGBMClassifier(**params)\n",
    "\n",
    "trainer = LGBMTrainer()\n",
    "trainer.train(lgbm, \n",
    "              df,\n",
    "              features = list_features,\n",
    "              target_col = target,\n",
    "              sample_weight = df[weight]\n",
    "             )\n",
    "explainer = shap.TreeExplainer(lgbm)\n",
    "shap_values = explainer.shap_values(df[list_features])"
   ]
  },
  {
   "cell_type": "code",
   "execution_count": 50,
   "id": "ad1b61b3",
   "metadata": {},
   "outputs": [
    {
     "name": "stdout",
     "output_type": "stream",
     "text": [
      "[LightGBM] [Warning] min_data_in_leaf is set=300, min_child_samples=20 will be ignored. Current value: min_data_in_leaf=300\n",
      "[LightGBM] [Warning] boosting is set=gbdt, boosting_type=gbdt will be ignored. Current value: boosting=gbdt\n"
     ]
    }
   ],
   "source": [
    "# shap with mc\n",
    "def get_monotone_dir(woe_dict):\n",
    "    result = {}\n",
    "    for k in woe_dict:\n",
    "        tbl = woe_dict[k]\n",
    "        if len(tbl) < 2:\n",
    "            print(k, len(tbl))\n",
    "        elif tbl.iloc[0][\"woe\"] < tbl.iloc[1][\"woe\"]:\n",
    "            direction = 1\n",
    "        else:\n",
    "            direction = -1\n",
    "        \n",
    "        result[k] = direction\n",
    "    return result\n",
    "\n",
    "monotone_dict = get_monotone_dir(woe_dict)\n",
    "mc = [monotone_dict[ft] for ft in list_features]\n",
    "\n",
    "params_mc = {'objective': 'binary',\n",
    " 'metric': 'auc',\n",
    " 'boosting': 'gbdt',\n",
    " 'max_depth': 6,\n",
    " 'learning_rate': 0.05,\n",
    " 'min_data_in_leaf': [300],\n",
    " 'verbosity': -1,\n",
    " 'seed': 157,\n",
    " 'n_jobs': 30,\n",
    " 'n_estimators': 300,\n",
    " 'monotone_constraints': mc}\n",
    "\n",
    "lgbm_mc = lgb.LGBMClassifier(**params_mc)\n",
    "\n",
    "trainer_mc = LGBMTrainer()\n",
    "trainer_mc.train(lgbm_mc, \n",
    "              df,\n",
    "              features = list_features,\n",
    "              target_col = target,\n",
    "              sample_weight = df[weight]\n",
    "             )\n",
    "explainer_mc = shap.TreeExplainer(lgbm_mc)\n",
    "shap_values_mc = explainer_mc.shap_values(df[list_features])"
   ]
  },
  {
   "cell_type": "code",
   "execution_count": null,
   "id": "a1035c52",
   "metadata": {},
   "outputs": [],
   "source": []
  },
  {
   "cell_type": "code",
   "execution_count": 65,
   "id": "9c5c08ad",
   "metadata": {},
   "outputs": [],
   "source": [
    "def get_feature_shap_abs(shap_values, columns):\n",
    "    result = pd.DataFrame(shap_values, columns=columns)\\\n",
    "                    .apply(lambda x: np.abs(x).mean(), axis=0)\\\n",
    "                    .sort_values(ascending=False)\n",
    "    return result\n",
    "\n",
    "shap_features = get_feature_shap_abs(shap_values[1], list_features)\n",
    "shap_features_mc = get_feature_shap_abs(shap_values_mc[1], list_features)"
   ]
  },
  {
   "cell_type": "code",
   "execution_count": 102,
   "id": "9e7593c3",
   "metadata": {},
   "outputs": [],
   "source": [
    "fts_ = list_features\n",
    "shap_fn = lambda X,y,w: shap_features.loc[fts_]\n",
    "shap_mc_fn = lambda X,y,w: shap_features_mc.loc[fts_]\n",
    "iv_fn = lambda X,y,w: iv_series.loc[fts_]"
   ]
  },
  {
   "cell_type": "code",
   "execution_count": 83,
   "id": "9d4d8828",
   "metadata": {},
   "outputs": [],
   "source": [
    "ranking = pd.DataFrame(index = list_features)"
   ]
  },
  {
   "cell_type": "code",
   "execution_count": 104,
   "id": "40810581",
   "metadata": {},
   "outputs": [
    {
     "name": "stderr",
     "output_type": "stream",
     "text": [
      "100%|██████████| 20/20 [00:26<00:00,  1.31s/it]"
     ]
    },
    {
     "name": "stdout",
     "output_type": "stream",
     "text": [
      "CPU times: user 14.8 s, sys: 10.5 s, total: 25.3 s\n",
      "Wall time: 26.7 s\n"
     ]
    },
    {
     "name": "stderr",
     "output_type": "stream",
     "text": [
      "\n"
     ]
    }
   ],
   "source": [
    "%%time\n",
    "# weighted\n",
    "mrmr_features_ = mrmr.mrmr_classif(df[fts_], \n",
    "                                      df[target],\n",
    "                                      weights=df[\"weight\"],\n",
    "                                      relevance=shap_mc_fn,\n",
    "                                      denominator=\"mean\",\n",
    "                                      K=n_features)\n",
    "ranking[\"mrmr_shapcq_mc_w\"] = fs.get_mrmr_rankings(mrmr_features_, list_features, ranking)\n",
    "\n",
    "mrmr_features_ = mrmr.mrmr_classif(df[fts_], \n",
    "                                      df[target],\n",
    "                                      weights=df[\"weight\"],\n",
    "                                      relevance=shap_fn,\n",
    "                                      denominator=\"mean\",\n",
    "                                      K=n_features)\n",
    "ranking[\"mrmr_shapcq_w\"] = fs.get_mrmr_rankings(mrmr_features_, list_features, ranking)\n",
    "\n",
    "mrmr_features_ = mrmr.mrmr_classif(df[fts_], \n",
    "                                      df[target],\n",
    "                                      weights=df[\"weight\"],\n",
    "                                      relevance=iv_fn,\n",
    "                                      redundancy=\"c\",\n",
    "                                      denominator=\"mean\",\n",
    "                                      K=n_features)\n",
    "ranking[\"mrmr_ivcq_w\"] = fs.get_mrmr_rankings(mrmr_features_, list_features, ranking)"
   ]
  },
  {
   "cell_type": "code",
   "execution_count": 105,
   "id": "c95f294c",
   "metadata": {},
   "outputs": [
    {
     "name": "stderr",
     "output_type": "stream",
     "text": [
      "100%|██████████| 20/20 [00:26<00:00,  1.31s/it]"
     ]
    },
    {
     "name": "stdout",
     "output_type": "stream",
     "text": [
      "CPU times: user 14.5 s, sys: 10.7 s, total: 25.2 s\n",
      "Wall time: 26.6 s\n"
     ]
    },
    {
     "name": "stderr",
     "output_type": "stream",
     "text": [
      "\n"
     ]
    }
   ],
   "source": [
    "%%time\n",
    "# weighted max\n",
    "mrmr_features_ = mrmr.mrmr_classif(df[fts_], \n",
    "                                      df[target],\n",
    "                                      weights=df[\"weight\"],\n",
    "                                      relevance=shap_mc_fn,\n",
    "                                      denominator=\"max\",\n",
    "                                      K=n_features)\n",
    "ranking[\"mrmr_shapcxq_mc_w\"] = fs.get_mrmr_rankings(mrmr_features_, list_features, ranking)\n",
    "\n",
    "mrmr_features_ = mrmr.mrmr_classif(df[fts_], \n",
    "                                      df[target],\n",
    "                                      weights=df[\"weight\"],\n",
    "                                      relevance=shap_fn,\n",
    "                                      denominator=\"max\",\n",
    "                                      K=n_features)\n",
    "ranking[\"mrmr_shapcxq_w\"] = fs.get_mrmr_rankings(mrmr_features_, list_features, ranking)\n",
    "\n",
    "mrmr_features_ = mrmr.mrmr_classif(df[fts_], \n",
    "                                      df[target],\n",
    "                                      weights=df[\"weight\"],\n",
    "                                      relevance=iv_fn,\n",
    "                                      redundancy=\"c\",\n",
    "                                      denominator=\"max\",\n",
    "                                      K=n_features)\n",
    "ranking[\"mrmr_ivcxq_w\"] = fs.get_mrmr_rankings(mrmr_features_, list_features, ranking)"
   ]
  },
  {
   "cell_type": "code",
   "execution_count": 106,
   "id": "f02c1c75",
   "metadata": {},
   "outputs": [
    {
     "name": "stderr",
     "output_type": "stream",
     "text": [
      "100%|██████████| 20/20 [00:22<00:00,  1.10s/it]"
     ]
    },
    {
     "name": "stdout",
     "output_type": "stream",
     "text": [
      "CPU times: user 12.3 s, sys: 9.05 s, total: 21.3 s\n",
      "Wall time: 22.5 s\n"
     ]
    },
    {
     "name": "stderr",
     "output_type": "stream",
     "text": [
      "\n"
     ]
    }
   ],
   "source": [
    "%%time\n",
    "# un-weighted\n",
    "mrmr_features_ = mrmr.mrmr_classif(df[fts_], \n",
    "                                      df[target],\n",
    "                                      relevance=shap_mc_fn,\n",
    "                                      denominator=\"mean\",\n",
    "                                      K=n_features)\n",
    "ranking[\"mrmr_shapcq_mc\"] = fs.get_mrmr_rankings(mrmr_features_, list_features, ranking)\n",
    "\n",
    "mrmr_features_ = mrmr.mrmr_classif(df[fts_], \n",
    "                                      df[target],\n",
    "                                      relevance=shap_fn,\n",
    "                                      denominator=\"mean\",\n",
    "                                      K=n_features)\n",
    "ranking[\"mrmr_shapcq\"] = fs.get_mrmr_rankings(mrmr_features_, list_features, ranking)\n",
    "\n",
    "mrmr_features_ = mrmr.mrmr_classif(df[fts_], \n",
    "                                      df[target],\n",
    "                                      relevance=iv_fn,\n",
    "                                      redundancy=\"c\",\n",
    "                                      denominator=\"mean\",\n",
    "                                      K=n_features)\n",
    "ranking[\"mrmr_ivcq\"] = fs.get_mrmr_rankings(mrmr_features_, list_features, ranking)"
   ]
  },
  {
   "cell_type": "code",
   "execution_count": 107,
   "id": "806b5198",
   "metadata": {},
   "outputs": [
    {
     "data": {
      "text/plain": [
       "(300, 10)"
      ]
     },
     "execution_count": 107,
     "metadata": {},
     "output_type": "execute_result"
    }
   ],
   "source": [
    "ranking.shape"
   ]
  },
  {
   "cell_type": "code",
   "execution_count": 108,
   "id": "f5042e87",
   "metadata": {},
   "outputs": [
    {
     "data": {
      "text/html": [
       "<div>\n",
       "<style scoped>\n",
       "    .dataframe tbody tr th:only-of-type {\n",
       "        vertical-align: middle;\n",
       "    }\n",
       "\n",
       "    .dataframe tbody tr th {\n",
       "        vertical-align: top;\n",
       "    }\n",
       "\n",
       "    .dataframe thead th {\n",
       "        text-align: right;\n",
       "    }\n",
       "</style>\n",
       "<table border=\"1\" class=\"dataframe\">\n",
       "  <thead>\n",
       "    <tr style=\"text-align: right;\">\n",
       "      <th></th>\n",
       "      <th>mrmr_shapcq_mc_w</th>\n",
       "      <th>mrmr_shapcq_w</th>\n",
       "      <th>mean_ranking</th>\n",
       "      <th>mrmr_shapcxq_mc_w</th>\n",
       "      <th>mrmr_shapcxq_w</th>\n",
       "      <th>mrmr_shapcq_mc</th>\n",
       "      <th>mrmr_shapcq</th>\n",
       "      <th>mrmr_ivcq_w</th>\n",
       "      <th>mrmr_ivcxq_w</th>\n",
       "      <th>mrmr_ivcq</th>\n",
       "    </tr>\n",
       "  </thead>\n",
       "  <tbody>\n",
       "    <tr>\n",
       "      <th>p13_bcc5520</th>\n",
       "      <td>1</td>\n",
       "      <td>1</td>\n",
       "      <td>1.0</td>\n",
       "      <td>1</td>\n",
       "      <td>1</td>\n",
       "      <td>1</td>\n",
       "      <td>1</td>\n",
       "      <td>1</td>\n",
       "      <td>1</td>\n",
       "      <td>1</td>\n",
       "    </tr>\n",
       "    <tr>\n",
       "      <th>t11_tmti04q4</th>\n",
       "      <td>300</td>\n",
       "      <td>300</td>\n",
       "      <td>300.0</td>\n",
       "      <td>300</td>\n",
       "      <td>300</td>\n",
       "      <td>300</td>\n",
       "      <td>300</td>\n",
       "      <td>300</td>\n",
       "      <td>300</td>\n",
       "      <td>300</td>\n",
       "    </tr>\n",
       "    <tr>\n",
       "      <th>p13_bcc5421</th>\n",
       "      <td>300</td>\n",
       "      <td>300</td>\n",
       "      <td>300.0</td>\n",
       "      <td>300</td>\n",
       "      <td>300</td>\n",
       "      <td>300</td>\n",
       "      <td>300</td>\n",
       "      <td>300</td>\n",
       "      <td>300</td>\n",
       "      <td>300</td>\n",
       "    </tr>\n",
       "    <tr>\n",
       "      <th>p13_bcc7518</th>\n",
       "      <td>300</td>\n",
       "      <td>300</td>\n",
       "      <td>300.0</td>\n",
       "      <td>300</td>\n",
       "      <td>300</td>\n",
       "      <td>300</td>\n",
       "      <td>300</td>\n",
       "      <td>300</td>\n",
       "      <td>300</td>\n",
       "      <td>300</td>\n",
       "    </tr>\n",
       "    <tr>\n",
       "      <th>p13_reh5420</th>\n",
       "      <td>300</td>\n",
       "      <td>300</td>\n",
       "      <td>300.0</td>\n",
       "      <td>300</td>\n",
       "      <td>300</td>\n",
       "      <td>300</td>\n",
       "      <td>300</td>\n",
       "      <td>300</td>\n",
       "      <td>300</td>\n",
       "      <td>300</td>\n",
       "    </tr>\n",
       "  </tbody>\n",
       "</table>\n",
       "</div>"
      ],
      "text/plain": [
       "              mrmr_shapcq_mc_w  mrmr_shapcq_w  mean_ranking  \\\n",
       "p13_bcc5520                  1              1           1.0   \n",
       "t11_tmti04q4               300            300         300.0   \n",
       "p13_bcc5421                300            300         300.0   \n",
       "p13_bcc7518                300            300         300.0   \n",
       "p13_reh5420                300            300         300.0   \n",
       "\n",
       "              mrmr_shapcxq_mc_w  mrmr_shapcxq_w  mrmr_shapcq_mc  mrmr_shapcq  \\\n",
       "p13_bcc5520                   1               1               1            1   \n",
       "t11_tmti04q4                300             300             300          300   \n",
       "p13_bcc5421                 300             300             300          300   \n",
       "p13_bcc7518                 300             300             300          300   \n",
       "p13_reh5420                 300             300             300          300   \n",
       "\n",
       "              mrmr_ivcq_w  mrmr_ivcxq_w  mrmr_ivcq  \n",
       "p13_bcc5520             1             1          1  \n",
       "t11_tmti04q4          300           300        300  \n",
       "p13_bcc5421           300           300        300  \n",
       "p13_bcc7518           300           300        300  \n",
       "p13_reh5420           300           300        300  "
      ]
     },
     "execution_count": 108,
     "metadata": {},
     "output_type": "execute_result"
    }
   ],
   "source": [
    "ranking[\"mean_ranking\"] = ranking.mean(axis=1)\n",
    "ranking.head()"
   ]
  },
  {
   "cell_type": "code",
   "execution_count": 109,
   "id": "1feb8a18",
   "metadata": {},
   "outputs": [],
   "source": [
    "ranking_ = ranking[ranking.mean_ranking < 300]"
   ]
  },
  {
   "cell_type": "code",
   "execution_count": 112,
   "id": "cb8942e1",
   "metadata": {},
   "outputs": [
    {
     "data": {
      "text/html": [
       "<div>\n",
       "<style scoped>\n",
       "    .dataframe tbody tr th:only-of-type {\n",
       "        vertical-align: middle;\n",
       "    }\n",
       "\n",
       "    .dataframe tbody tr th {\n",
       "        vertical-align: top;\n",
       "    }\n",
       "\n",
       "    .dataframe thead th {\n",
       "        text-align: right;\n",
       "    }\n",
       "</style>\n",
       "<table border=\"1\" class=\"dataframe\">\n",
       "  <thead>\n",
       "    <tr style=\"text-align: right;\">\n",
       "      <th></th>\n",
       "      <th>mean_ranking</th>\n",
       "      <th>mrmr_ivcq</th>\n",
       "      <th>mrmr_ivcq_w</th>\n",
       "      <th>mrmr_ivcxq_w</th>\n",
       "      <th>mrmr_shapcq</th>\n",
       "      <th>mrmr_shapcq_mc</th>\n",
       "      <th>mrmr_shapcq_mc_w</th>\n",
       "      <th>mrmr_shapcq_w</th>\n",
       "      <th>mrmr_shapcxq_mc_w</th>\n",
       "      <th>mrmr_shapcxq_w</th>\n",
       "    </tr>\n",
       "  </thead>\n",
       "  <tbody>\n",
       "    <tr>\n",
       "      <th>p13_bcc5520</th>\n",
       "      <td>1.000000</td>\n",
       "      <td>1</td>\n",
       "      <td>1</td>\n",
       "      <td>1</td>\n",
       "      <td>1</td>\n",
       "      <td>1</td>\n",
       "      <td>1</td>\n",
       "      <td>1</td>\n",
       "      <td>1</td>\n",
       "      <td>1</td>\n",
       "    </tr>\n",
       "    <tr>\n",
       "      <th>t11_taua4216</th>\n",
       "      <td>36.114286</td>\n",
       "      <td>20</td>\n",
       "      <td>300</td>\n",
       "      <td>12</td>\n",
       "      <td>5</td>\n",
       "      <td>4</td>\n",
       "      <td>4</td>\n",
       "      <td>4</td>\n",
       "      <td>4</td>\n",
       "      <td>4</td>\n",
       "    </tr>\n",
       "    <tr>\n",
       "      <th>t11_tiln4755</th>\n",
       "      <td>39.442857</td>\n",
       "      <td>300</td>\n",
       "      <td>16</td>\n",
       "      <td>16</td>\n",
       "      <td>6</td>\n",
       "      <td>12</td>\n",
       "      <td>5</td>\n",
       "      <td>5</td>\n",
       "      <td>20</td>\n",
       "      <td>6</td>\n",
       "    </tr>\n",
       "    <tr>\n",
       "      <th>t11_trev0722</th>\n",
       "      <td>66.821429</td>\n",
       "      <td>300</td>\n",
       "      <td>18</td>\n",
       "      <td>300</td>\n",
       "      <td>7</td>\n",
       "      <td>6</td>\n",
       "      <td>7</td>\n",
       "      <td>8</td>\n",
       "      <td>7</td>\n",
       "      <td>8</td>\n",
       "    </tr>\n",
       "    <tr>\n",
       "      <th>p13_mta5400</th>\n",
       "      <td>76.907143</td>\n",
       "      <td>10</td>\n",
       "      <td>13</td>\n",
       "      <td>300</td>\n",
       "      <td>17</td>\n",
       "      <td>17</td>\n",
       "      <td>19</td>\n",
       "      <td>18</td>\n",
       "      <td>300</td>\n",
       "      <td>17</td>\n",
       "    </tr>\n",
       "    <tr>\n",
       "      <th>t11_tiln0722</th>\n",
       "      <td>91.742857</td>\n",
       "      <td>300</td>\n",
       "      <td>300</td>\n",
       "      <td>300</td>\n",
       "      <td>4</td>\n",
       "      <td>3</td>\n",
       "      <td>2</td>\n",
       "      <td>2</td>\n",
       "      <td>2</td>\n",
       "      <td>2</td>\n",
       "    </tr>\n",
       "    <tr>\n",
       "      <th>t11_taua0726</th>\n",
       "      <td>94.778571</td>\n",
       "      <td>300</td>\n",
       "      <td>300</td>\n",
       "      <td>300</td>\n",
       "      <td>9</td>\n",
       "      <td>7</td>\n",
       "      <td>6</td>\n",
       "      <td>7</td>\n",
       "      <td>5</td>\n",
       "      <td>7</td>\n",
       "    </tr>\n",
       "    <tr>\n",
       "      <th>t11_tall3205</th>\n",
       "      <td>95.414286</td>\n",
       "      <td>300</td>\n",
       "      <td>300</td>\n",
       "      <td>300</td>\n",
       "      <td>19</td>\n",
       "      <td>16</td>\n",
       "      <td>3</td>\n",
       "      <td>3</td>\n",
       "      <td>3</td>\n",
       "      <td>3</td>\n",
       "    </tr>\n",
       "    <tr>\n",
       "      <th>t11_tstu05q2</th>\n",
       "      <td>95.842857</td>\n",
       "      <td>300</td>\n",
       "      <td>300</td>\n",
       "      <td>300</td>\n",
       "      <td>10</td>\n",
       "      <td>5</td>\n",
       "      <td>8</td>\n",
       "      <td>10</td>\n",
       "      <td>6</td>\n",
       "      <td>11</td>\n",
       "    </tr>\n",
       "    <tr>\n",
       "      <th>p13_iqf9510</th>\n",
       "      <td>97.485714</td>\n",
       "      <td>300</td>\n",
       "      <td>300</td>\n",
       "      <td>300</td>\n",
       "      <td>12</td>\n",
       "      <td>9</td>\n",
       "      <td>13</td>\n",
       "      <td>11</td>\n",
       "      <td>9</td>\n",
       "      <td>10</td>\n",
       "    </tr>\n",
       "  </tbody>\n",
       "</table>\n",
       "</div>"
      ],
      "text/plain": [
       "              mean_ranking  mrmr_ivcq  mrmr_ivcq_w  mrmr_ivcxq_w  mrmr_shapcq  \\\n",
       "p13_bcc5520       1.000000          1            1             1            1   \n",
       "t11_taua4216     36.114286         20          300            12            5   \n",
       "t11_tiln4755     39.442857        300           16            16            6   \n",
       "t11_trev0722     66.821429        300           18           300            7   \n",
       "p13_mta5400      76.907143         10           13           300           17   \n",
       "t11_tiln0722     91.742857        300          300           300            4   \n",
       "t11_taua0726     94.778571        300          300           300            9   \n",
       "t11_tall3205     95.414286        300          300           300           19   \n",
       "t11_tstu05q2     95.842857        300          300           300           10   \n",
       "p13_iqf9510      97.485714        300          300           300           12   \n",
       "\n",
       "              mrmr_shapcq_mc  mrmr_shapcq_mc_w  mrmr_shapcq_w  \\\n",
       "p13_bcc5520                1                 1              1   \n",
       "t11_taua4216               4                 4              4   \n",
       "t11_tiln4755              12                 5              5   \n",
       "t11_trev0722               6                 7              8   \n",
       "p13_mta5400               17                19             18   \n",
       "t11_tiln0722               3                 2              2   \n",
       "t11_taua0726               7                 6              7   \n",
       "t11_tall3205              16                 3              3   \n",
       "t11_tstu05q2               5                 8             10   \n",
       "p13_iqf9510                9                13             11   \n",
       "\n",
       "              mrmr_shapcxq_mc_w  mrmr_shapcxq_w  \n",
       "p13_bcc5520                   1               1  \n",
       "t11_taua4216                  4               4  \n",
       "t11_tiln4755                 20               6  \n",
       "t11_trev0722                  7               8  \n",
       "p13_mta5400                 300              17  \n",
       "t11_tiln0722                  2               2  \n",
       "t11_taua0726                  5               7  \n",
       "t11_tall3205                  3               3  \n",
       "t11_tstu05q2                  6              11  \n",
       "p13_iqf9510                   9              10  "
      ]
     },
     "execution_count": 112,
     "metadata": {},
     "output_type": "execute_result"
    }
   ],
   "source": [
    "ranking_[sorted(ranking_.columns)].sort_values(\"mean_ranking\").head(10)"
   ]
  },
  {
   "cell_type": "code",
   "execution_count": 230,
   "id": "9b03ae6c",
   "metadata": {},
   "outputs": [
    {
     "name": "stdout",
     "output_type": "stream",
     "text": [
      "target_col: target_v1\n",
      "weight_col: weight\n",
      "Preprocessing... generating iv and shaps\n",
      "prepping woe...\n",
      "processed  10  num attributes\n",
      "\n",
      "prepping lgbm shap\n",
      "prepping lgbm mc shap\n",
      "[LightGBM] [Warning] min_data_in_leaf is set=300, min_child_samples=20 will be ignored. Current value: min_data_in_leaf=300\n",
      "[LightGBM] [Warning] boosting is set=gbdt, boosting_type=gbdt will be ignored. Current value: boosting=gbdt\n"
     ]
    },
    {
     "name": "stderr",
     "output_type": "stream",
     "text": [
      "100%|██████████| 9/9 [00:01<00:00,  8.52it/s]\n"
     ]
    },
    {
     "name": "stdout",
     "output_type": "stream",
     "text": [
      "filtering features by logic - experian\n",
      "dropping 0 features : kept 10 features\n",
      "    reason:  not AA\n",
      "0 features with greater than                 0.95 missing values\n",
      "dropping 0 features : kept 10 features\n",
      "    reason:  too many missing\n",
      "dropping 0 features : kept 10 features\n",
      "    reason:  low_iv\n",
      "running many to few\n"
     ]
    },
    {
     "name": "stderr",
     "output_type": "stream",
     "text": [
      "100%|██████████| 5/5 [00:13<00:00,  2.80s/it]\n",
      "100%|██████████| 5/5 [00:13<00:00,  2.79s/it]\n",
      "100%|██████████| 5/5 [00:13<00:00,  2.78s/it]\n",
      "100%|██████████| 9/9 [00:00<00:00, 11.55it/s]\n"
     ]
    },
    {
     "name": "stdout",
     "output_type": "stream",
     "text": [
      "saving ranking.csv\n",
      "running fsel on few\n",
      "[LightGBM] [Warning] min_data_in_leaf is set=300, min_child_samples=20 will be ignored. Current value: min_data_in_leaf=300\n",
      "[LightGBM] [Warning] boosting is set=gbdt, boosting_type=gbdt will be ignored. Current value: boosting=gbdt\n"
     ]
    },
    {
     "name": "stderr",
     "output_type": "stream",
     "text": [
      "100%|██████████| 9/9 [00:01<00:00,  8.28it/s]"
     ]
    },
    {
     "name": "stdout",
     "output_type": "stream",
     "text": [
      "saving ranking.csv\n"
     ]
    },
    {
     "name": "stderr",
     "output_type": "stream",
     "text": [
      "\n"
     ]
    }
   ],
   "source": [
    "nr_to_select = 10\n",
    "nr_to_consider = 5\n",
    "fts_ = list_features[:nr_to_select]\n",
    "\n",
    "fsel = FeatureSelector(df, data_dict=exp_dict)\n",
    "rankings = fsel.run(fts_, target, weight, nr_to_consider, nr_to_select,\n",
    "                    output_dir=\"./artifacts/dev1_fsel_1\", filter_by_logic_expn=True)"
   ]
  },
  {
   "cell_type": "code",
   "execution_count": null,
   "id": "87bf56d7",
   "metadata": {},
   "outputs": [],
   "source": []
  },
  {
   "cell_type": "code",
   "execution_count": null,
   "id": "15c2fdfd",
   "metadata": {},
   "outputs": [],
   "source": []
  },
  {
   "cell_type": "code",
   "execution_count": 166,
   "id": "38efd217",
   "metadata": {},
   "outputs": [],
   "source": [
    "from _utils.feature_selection.feature_selection import FeatureSelector"
   ]
  },
  {
   "cell_type": "code",
   "execution_count": 196,
   "id": "1f1defbf",
   "metadata": {},
   "outputs": [
    {
     "name": "stdout",
     "output_type": "stream",
     "text": [
      "Preprocessing... generating iv and shaps\n",
      "prepping woe...\n",
      "processed  10  num attributes\n",
      "\n",
      "prepping lgbm shap\n",
      "prepping lgbm mc shap\n",
      "[LightGBM] [Warning] min_data_in_leaf is set=300, min_child_samples=20 will be ignored. Current value: min_data_in_leaf=300\n",
      "[LightGBM] [Warning] boosting is set=gbdt, boosting_type=gbdt will be ignored. Current value: boosting=gbdt\n"
     ]
    },
    {
     "name": "stderr",
     "output_type": "stream",
     "text": [
      "100%|██████████| 9/9 [00:01<00:00,  7.00it/s]"
     ]
    },
    {
     "name": "stdout",
     "output_type": "stream",
     "text": [
      "CPU times: user 9min 48s, sys: 143 ms, total: 9min 48s\n",
      "Wall time: 26.1 s\n"
     ]
    },
    {
     "name": "stderr",
     "output_type": "stream",
     "text": [
      "\n"
     ]
    }
   ],
   "source": [
    "%%time\n",
    "\n",
    "nr_to_select = 10\n",
    "fts_ = list_features[:nr_to_select]\n",
    "fsel = FeatureSelector(df)\n",
    "fsel.preprocess(fts_, target, weight)\n",
    "fsel.save_state_dict(\"./artifacts/dev1_fsel_1\")"
   ]
  },
  {
   "cell_type": "code",
   "execution_count": 197,
   "id": "514e7ed1",
   "metadata": {},
   "outputs": [
    {
     "name": "stderr",
     "output_type": "stream",
     "text": [
      "100%|██████████| 10/10 [00:24<00:00,  2.49s/it]\n",
      "100%|██████████| 10/10 [00:24<00:00,  2.49s/it]\n",
      "100%|██████████| 10/10 [00:25<00:00,  2.52s/it]\n",
      "100%|██████████| 9/9 [00:01<00:00,  7.07it/s]"
     ]
    },
    {
     "name": "stdout",
     "output_type": "stream",
     "text": [
      "saving ranking.csv\n"
     ]
    },
    {
     "name": "stderr",
     "output_type": "stream",
     "text": [
      "\n"
     ]
    }
   ],
   "source": [
    "rankings = fsel.many_to_few(fts_, target, weight, nr_to_select)\n",
    "fsel.save_state_dict(\"./artifacts/dev1_fsel_1\")"
   ]
  },
  {
   "cell_type": "code",
   "execution_count": 198,
   "id": "4c835bae",
   "metadata": {},
   "outputs": [
    {
     "data": {
      "text/html": [
       "<div>\n",
       "<style scoped>\n",
       "    .dataframe tbody tr th:only-of-type {\n",
       "        vertical-align: middle;\n",
       "    }\n",
       "\n",
       "    .dataframe tbody tr th {\n",
       "        vertical-align: top;\n",
       "    }\n",
       "\n",
       "    .dataframe thead th {\n",
       "        text-align: right;\n",
       "    }\n",
       "</style>\n",
       "<table border=\"1\" class=\"dataframe\">\n",
       "  <thead>\n",
       "    <tr style=\"text-align: right;\">\n",
       "      <th></th>\n",
       "      <th>mrmr_shapcq_mc</th>\n",
       "      <th>mrmr_shapcq</th>\n",
       "      <th>mrmr_ivcq</th>\n",
       "      <th>mean</th>\n",
       "    </tr>\n",
       "  </thead>\n",
       "  <tbody>\n",
       "    <tr>\n",
       "      <th>p13_bcc5520</th>\n",
       "      <td>1</td>\n",
       "      <td>1</td>\n",
       "      <td>1</td>\n",
       "      <td>1.0</td>\n",
       "    </tr>\n",
       "    <tr>\n",
       "      <th>t11_tmti04q4</th>\n",
       "      <td>2</td>\n",
       "      <td>2</td>\n",
       "      <td>2</td>\n",
       "      <td>2.0</td>\n",
       "    </tr>\n",
       "    <tr>\n",
       "      <th>t11_tbca2322</th>\n",
       "      <td>3</td>\n",
       "      <td>3</td>\n",
       "      <td>3</td>\n",
       "      <td>3.0</td>\n",
       "    </tr>\n",
       "    <tr>\n",
       "      <th>p13_all7938</th>\n",
       "      <td>4</td>\n",
       "      <td>4</td>\n",
       "      <td>4</td>\n",
       "      <td>4.0</td>\n",
       "    </tr>\n",
       "    <tr>\n",
       "      <th>p13_bcc7518</th>\n",
       "      <td>5</td>\n",
       "      <td>5</td>\n",
       "      <td>5</td>\n",
       "      <td>5.0</td>\n",
       "    </tr>\n",
       "  </tbody>\n",
       "</table>\n",
       "</div>"
      ],
      "text/plain": [
       "              mrmr_shapcq_mc  mrmr_shapcq  mrmr_ivcq  mean\n",
       "p13_bcc5520                1            1          1   1.0\n",
       "t11_tmti04q4               2            2          2   2.0\n",
       "t11_tbca2322               3            3          3   3.0\n",
       "p13_all7938                4            4          4   4.0\n",
       "p13_bcc7518                5            5          5   5.0"
      ]
     },
     "metadata": {},
     "output_type": "display_data"
    }
   ],
   "source": [
    "rankings_imp = fsel.get_rankings(True)\n",
    "rankings_imp[\"mean\"] = rankings_imp.mean(axis=1)\n",
    "rankings_imp.sort_values(\"mean\", inplace=True)\n",
    "display(rankings_imp.head())\n",
    "\n",
    "top_features = rankings_imp.index.to_list()# a subset of features"
   ]
  },
  {
   "cell_type": "code",
   "execution_count": 199,
   "id": "572ee448",
   "metadata": {},
   "outputs": [
    {
     "name": "stdout",
     "output_type": "stream",
     "text": [
      "[LightGBM] [Warning] min_data_in_leaf is set=300, min_child_samples=20 will be ignored. Current value: min_data_in_leaf=300\n",
      "[LightGBM] [Warning] boosting is set=gbdt, boosting_type=gbdt will be ignored. Current value: boosting=gbdt\n",
      "CPU times: user 56.7 s, sys: 69.2 ms, total: 56.8 s\n",
      "Wall time: 3.17 s\n"
     ]
    }
   ],
   "source": [
    "%%time\n",
    "rankings = fsel.fsel_on_few(top_features, target, weight)"
   ]
  },
  {
   "cell_type": "code",
   "execution_count": 200,
   "id": "f59f1e21",
   "metadata": {},
   "outputs": [
    {
     "name": "stderr",
     "output_type": "stream",
     "text": [
      "100%|██████████| 9/9 [00:01<00:00,  7.12it/s]"
     ]
    },
    {
     "name": "stdout",
     "output_type": "stream",
     "text": [
      "saving ranking.csv\n"
     ]
    },
    {
     "name": "stderr",
     "output_type": "stream",
     "text": [
      "\n"
     ]
    }
   ],
   "source": [
    "fsel.save_state_dict(\"./artifacts/dev1_fsel_1\")"
   ]
  },
  {
   "cell_type": "code",
   "execution_count": 201,
   "id": "fa00dbed",
   "metadata": {},
   "outputs": [
    {
     "data": {
      "text/html": [
       "<div>\n",
       "<style scoped>\n",
       "    .dataframe tbody tr th:only-of-type {\n",
       "        vertical-align: middle;\n",
       "    }\n",
       "\n",
       "    .dataframe tbody tr th {\n",
       "        vertical-align: top;\n",
       "    }\n",
       "\n",
       "    .dataframe thead th {\n",
       "        text-align: right;\n",
       "    }\n",
       "</style>\n",
       "<table border=\"1\" class=\"dataframe\">\n",
       "  <thead>\n",
       "    <tr style=\"text-align: right;\">\n",
       "      <th></th>\n",
       "      <th>mrmr_shapcq_mc</th>\n",
       "      <th>mrmr_shapcq</th>\n",
       "      <th>mrmr_ivcq</th>\n",
       "      <th>lgbm_shap_10</th>\n",
       "      <th>lgbm_shap_mc_10</th>\n",
       "    </tr>\n",
       "  </thead>\n",
       "  <tbody>\n",
       "    <tr>\n",
       "      <th>p13_bcc5520</th>\n",
       "      <td>1</td>\n",
       "      <td>1</td>\n",
       "      <td>1</td>\n",
       "      <td>2</td>\n",
       "      <td>6</td>\n",
       "    </tr>\n",
       "    <tr>\n",
       "      <th>t11_tmti04q4</th>\n",
       "      <td>2</td>\n",
       "      <td>2</td>\n",
       "      <td>2</td>\n",
       "      <td>4</td>\n",
       "      <td>4</td>\n",
       "    </tr>\n",
       "    <tr>\n",
       "      <th>p13_bcc5421</th>\n",
       "      <td>10</td>\n",
       "      <td>8</td>\n",
       "      <td>9</td>\n",
       "      <td>5</td>\n",
       "      <td>5</td>\n",
       "    </tr>\n",
       "    <tr>\n",
       "      <th>p13_bcc7518</th>\n",
       "      <td>5</td>\n",
       "      <td>5</td>\n",
       "      <td>5</td>\n",
       "      <td>8</td>\n",
       "      <td>9</td>\n",
       "    </tr>\n",
       "    <tr>\n",
       "      <th>p13_reh5420</th>\n",
       "      <td>9</td>\n",
       "      <td>10</td>\n",
       "      <td>7</td>\n",
       "      <td>6</td>\n",
       "      <td>7</td>\n",
       "    </tr>\n",
       "  </tbody>\n",
       "</table>\n",
       "</div>"
      ],
      "text/plain": [
       "              mrmr_shapcq_mc  mrmr_shapcq  mrmr_ivcq  lgbm_shap_10  \\\n",
       "p13_bcc5520                1            1          1             2   \n",
       "t11_tmti04q4               2            2          2             4   \n",
       "p13_bcc5421               10            8          9             5   \n",
       "p13_bcc7518                5            5          5             8   \n",
       "p13_reh5420                9           10          7             6   \n",
       "\n",
       "              lgbm_shap_mc_10  \n",
       "p13_bcc5520                 6  \n",
       "t11_tmti04q4                4  \n",
       "p13_bcc5421                 5  \n",
       "p13_bcc7518                 9  \n",
       "p13_reh5420                 7  "
      ]
     },
     "execution_count": 201,
     "metadata": {},
     "output_type": "execute_result"
    }
   ],
   "source": [
    "rankings.head()"
   ]
  },
  {
   "cell_type": "code",
   "execution_count": 202,
   "id": "e3647801",
   "metadata": {},
   "outputs": [
    {
     "data": {
      "text/html": [
       "<div>\n",
       "<style scoped>\n",
       "    .dataframe tbody tr th:only-of-type {\n",
       "        vertical-align: middle;\n",
       "    }\n",
       "\n",
       "    .dataframe tbody tr th {\n",
       "        vertical-align: top;\n",
       "    }\n",
       "\n",
       "    .dataframe thead th {\n",
       "        text-align: right;\n",
       "    }\n",
       "</style>\n",
       "<table border=\"1\" class=\"dataframe\">\n",
       "  <thead>\n",
       "    <tr style=\"text-align: right;\">\n",
       "      <th></th>\n",
       "      <th>mrmr_shapcq_mc</th>\n",
       "      <th>mrmr_shapcq</th>\n",
       "      <th>mrmr_ivcq</th>\n",
       "      <th>lgbm_shap_10</th>\n",
       "      <th>lgbm_shap_mc_10</th>\n",
       "    </tr>\n",
       "  </thead>\n",
       "  <tbody>\n",
       "    <tr>\n",
       "      <th>p13_bcc5520</th>\n",
       "      <td>1</td>\n",
       "      <td>1</td>\n",
       "      <td>1</td>\n",
       "      <td>2</td>\n",
       "      <td>6</td>\n",
       "    </tr>\n",
       "    <tr>\n",
       "      <th>t11_tmti04q4</th>\n",
       "      <td>2</td>\n",
       "      <td>2</td>\n",
       "      <td>2</td>\n",
       "      <td>4</td>\n",
       "      <td>4</td>\n",
       "    </tr>\n",
       "    <tr>\n",
       "      <th>p13_bcc5421</th>\n",
       "      <td>10</td>\n",
       "      <td>8</td>\n",
       "      <td>9</td>\n",
       "      <td>5</td>\n",
       "      <td>5</td>\n",
       "    </tr>\n",
       "    <tr>\n",
       "      <th>p13_bcc7518</th>\n",
       "      <td>5</td>\n",
       "      <td>5</td>\n",
       "      <td>5</td>\n",
       "      <td>8</td>\n",
       "      <td>9</td>\n",
       "    </tr>\n",
       "    <tr>\n",
       "      <th>p13_reh5420</th>\n",
       "      <td>9</td>\n",
       "      <td>10</td>\n",
       "      <td>7</td>\n",
       "      <td>6</td>\n",
       "      <td>7</td>\n",
       "    </tr>\n",
       "    <tr>\n",
       "      <th>t11_tbca2322</th>\n",
       "      <td>3</td>\n",
       "      <td>3</td>\n",
       "      <td>3</td>\n",
       "      <td>9</td>\n",
       "      <td>10</td>\n",
       "    </tr>\n",
       "    <tr>\n",
       "      <th>p13_all7938</th>\n",
       "      <td>4</td>\n",
       "      <td>4</td>\n",
       "      <td>4</td>\n",
       "      <td>10</td>\n",
       "      <td>8</td>\n",
       "    </tr>\n",
       "    <tr>\n",
       "      <th>p13_all4520</th>\n",
       "      <td>7</td>\n",
       "      <td>7</td>\n",
       "      <td>10</td>\n",
       "      <td>7</td>\n",
       "      <td>1</td>\n",
       "    </tr>\n",
       "    <tr>\n",
       "      <th>p13_all5321</th>\n",
       "      <td>6</td>\n",
       "      <td>6</td>\n",
       "      <td>6</td>\n",
       "      <td>1</td>\n",
       "      <td>3</td>\n",
       "    </tr>\n",
       "    <tr>\n",
       "      <th>t11_tbca2526</th>\n",
       "      <td>8</td>\n",
       "      <td>9</td>\n",
       "      <td>8</td>\n",
       "      <td>3</td>\n",
       "      <td>2</td>\n",
       "    </tr>\n",
       "  </tbody>\n",
       "</table>\n",
       "</div>"
      ],
      "text/plain": [
       "              mrmr_shapcq_mc  mrmr_shapcq  mrmr_ivcq  lgbm_shap_10  \\\n",
       "p13_bcc5520                1            1          1             2   \n",
       "t11_tmti04q4               2            2          2             4   \n",
       "p13_bcc5421               10            8          9             5   \n",
       "p13_bcc7518                5            5          5             8   \n",
       "p13_reh5420                9           10          7             6   \n",
       "t11_tbca2322               3            3          3             9   \n",
       "p13_all7938                4            4          4            10   \n",
       "p13_all4520                7            7         10             7   \n",
       "p13_all5321                6            6          6             1   \n",
       "t11_tbca2526               8            9          8             3   \n",
       "\n",
       "              lgbm_shap_mc_10  \n",
       "p13_bcc5520                 6  \n",
       "t11_tmti04q4                4  \n",
       "p13_bcc5421                 5  \n",
       "p13_bcc7518                 9  \n",
       "p13_reh5420                 7  \n",
       "t11_tbca2322               10  \n",
       "p13_all7938                 8  \n",
       "p13_all4520                 1  \n",
       "p13_all5321                 3  \n",
       "t11_tbca2526                2  "
      ]
     },
     "execution_count": 202,
     "metadata": {},
     "output_type": "execute_result"
    }
   ],
   "source": [
    "rankings"
   ]
  },
  {
   "cell_type": "code",
   "execution_count": 212,
   "id": "d40e65b6",
   "metadata": {},
   "outputs": [],
   "source": [
    "from _utils.feature_selection.feature_selection import get_feature_by_lgbm_importance\n",
    "\n",
    "lgbm = lgb.LGBMClassifier(**params)\n",
    "trainer = LGBMTrainer()\n",
    "trainer.train(lgbm, \n",
    "              df,\n",
    "              features=fts_,\n",
    "              target_col=target,\n",
    "              sample_weight=df[weight]\n",
    "             )\n",
    "corr_matrix = wc.WeightedCorr(df=df[fts_+[weight]], \n",
    "                           wcol=weight)(method='pearson')\n",
    "upper = corr_matrix.where(np.triu(np.ones(corr_matrix.shape), k=1).astype(np.bool))\n",
    "to_drop = [column for column in upper.columns if any(upper[column] > 0.8)]\n",
    "features = get_feature_by_lgbm_importance(lgbm)"
   ]
  },
  {
   "cell_type": "code",
   "execution_count": null,
   "id": "a99ba2fd",
   "metadata": {},
   "outputs": [],
   "source": []
  },
  {
   "cell_type": "code",
   "execution_count": 148,
   "id": "9df0bb6a",
   "metadata": {},
   "outputs": [
    {
     "data": {
      "text/plain": [
       "300"
      ]
     },
     "execution_count": 148,
     "metadata": {},
     "output_type": "execute_result"
    }
   ],
   "source": [
    "# select top features and then \n",
    "\n",
    "# run lgbm and then remove corr?\n",
    "len(fts_)"
   ]
  }
 ],
 "metadata": {
  "kernelspec": {
   "display_name": "conda_pl_gen4",
   "language": "python",
   "name": "conda_pl_gen4"
  },
  "language_info": {
   "codemirror_mode": {
    "name": "ipython",
    "version": 3
   },
   "file_extension": ".py",
   "mimetype": "text/x-python",
   "name": "python",
   "nbconvert_exporter": "python",
   "pygments_lexer": "ipython3",
   "version": "3.7.10"
  }
 },
 "nbformat": 4,
 "nbformat_minor": 5
}
