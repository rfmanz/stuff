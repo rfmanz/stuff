{
 "cells": [
  {
   "cell_type": "code",
   "execution_count": 3,
   "id": "bf8c9aa3",
   "metadata": {},
   "outputs": [],
   "source": [
    "import sys, json, os, ast\n",
    "import numpy as np\n",
    "import pandas as pd\n",
    "from smart_open import open\n",
    "from tqdm import tqdm\n",
    "\n",
    "sys.path.insert(1, \"../..\")\n",
    "from src.logger import make_logger\n",
    "from src.dataloader import TabularDataloader\n",
    "from src.Trainer import LGBMTrainer, TFTrainer\n",
    "\n",
    "%load_ext autoreload\n",
    "%autoreload 2"
   ]
  },
  {
   "cell_type": "code",
   "execution_count": 6,
   "id": "891f8eec",
   "metadata": {},
   "outputs": [
    {
     "data": {
      "text/plain": [
       "dict_keys(['data', 'meta', 'data_columns', 'model_params', 'model_features', 'impute_vals', 'monotone'])"
      ]
     },
     "metadata": {},
     "output_type": "display_data"
    }
   ],
   "source": [
    "with open(\"config.json\", \"r\") as f:\n",
    "    config = json.load(f)\n",
    "    \n",
    "display(config.keys()) "
   ]
  },
  {
   "cell_type": "markdown",
   "id": "bb8e7ca8",
   "metadata": {},
   "source": [
    "### Load Data\n",
    "---\n",
    "* already sampled"
   ]
  },
  {
   "cell_type": "code",
   "execution_count": 8,
   "id": "804d8a41",
   "metadata": {},
   "outputs": [
    {
     "data": {
      "text/plain": [
       "dict_keys(['all_features_dev1', 'all_features_dev2', 'all_features_oot1', 'all_features_oot2', 'subset_dev1', 'subset_dev2'])"
      ]
     },
     "metadata": {},
     "output_type": "display_data"
    }
   ],
   "source": [
    "display(config[\"data\"][\"clean\"].keys())"
   ]
  },
  {
   "cell_type": "code",
   "execution_count": 13,
   "id": "4f0efd74",
   "metadata": {},
   "outputs": [
    {
     "data": {
      "text/plain": [
       "(10000, 5131)"
      ]
     },
     "execution_count": 13,
     "metadata": {},
     "output_type": "execute_result"
    }
   ],
   "source": [
    "dl = TabularDataloader(train_path=config[\"data\"][\"clean\"][\"subset_dev1\"])\n",
    "dl.load_data(debug_size=10000, random_state=42)"
   ]
  },
  {
   "cell_type": "code",
   "execution_count": 15,
   "id": "a0a91922",
   "metadata": {},
   "outputs": [
    {
     "data": {
      "text/plain": [
       "((228188, 5131), (10000, 5131))"
      ]
     },
     "execution_count": 15,
     "metadata": {},
     "output_type": "execute_result"
    }
   ],
   "source": [
    "debug_df, _, _ = dl.get_data(debug=True)\n",
    "train_df, _, _ = dl.get_data(debug=False)\n",
    "train_df.shape, debug_df.shape"
   ]
  },
  {
   "cell_type": "code",
   "execution_count": 21,
   "id": "e168b9b8",
   "metadata": {},
   "outputs": [],
   "source": [
    "bureau_fts = config[\"data_columns\"][\"bureau_features_cols\"] \n",
    "cat_fts = ['t11_t3d_segid', 't11_t3d_segid_supp'] # config[\"data_columns\"][\"cat_cols\"] \n",
    "prescreen_fts = bureau_fts + cat_fts"
   ]
  },
  {
   "cell_type": "markdown",
   "id": "d310d69f",
   "metadata": {},
   "source": [
    "### Preprocessing\n",
    "---\n",
    "* [ ] encoding\n",
    "* [ ] imputation / or not\n",
    "* [ ] clipping\n",
    "* [ ] create sample weight"
   ]
  },
  {
   "cell_type": "code",
   "execution_count": null,
   "id": "2d100b82",
   "metadata": {},
   "outputs": [],
   "source": [
    "#### encoding\n"
   ]
  },
  {
   "cell_type": "code",
   "execution_count": null,
   "id": "45d9fb63",
   "metadata": {},
   "outputs": [],
   "source": []
  },
  {
   "cell_type": "code",
   "execution_count": null,
   "id": "d95907fd",
   "metadata": {},
   "outputs": [],
   "source": []
  },
  {
   "cell_type": "markdown",
   "id": "61cf248b",
   "metadata": {},
   "source": [
    "### Model Building\n",
    "---\n",
    "* [ ] feature selection\n",
    "* [ ] hypertune\n",
    "* [ ] cross validation\n",
    "* [ ] refit final model for OOT"
   ]
  },
  {
   "cell_type": "code",
   "execution_count": null,
   "id": "e23cf2b0",
   "metadata": {},
   "outputs": [],
   "source": []
  },
  {
   "cell_type": "markdown",
   "id": "3a0562a6",
   "metadata": {},
   "source": [
    "### Store result\n",
    "---\n",
    "* [ ] some form of logger"
   ]
  },
  {
   "cell_type": "code",
   "execution_count": null,
   "id": "de28b338",
   "metadata": {},
   "outputs": [],
   "source": []
  }
 ],
 "metadata": {
  "kernelspec": {
   "display_name": "conda_pl_gen4",
   "language": "python",
   "name": "conda_pl_gen4"
  },
  "language_info": {
   "codemirror_mode": {
    "name": "ipython",
    "version": 3
   },
   "file_extension": ".py",
   "mimetype": "text/x-python",
   "name": "python",
   "nbconvert_exporter": "python",
   "pygments_lexer": "ipython3",
   "version": "3.7.10"
  }
 },
 "nbformat": 4,
 "nbformat_minor": 5
}
