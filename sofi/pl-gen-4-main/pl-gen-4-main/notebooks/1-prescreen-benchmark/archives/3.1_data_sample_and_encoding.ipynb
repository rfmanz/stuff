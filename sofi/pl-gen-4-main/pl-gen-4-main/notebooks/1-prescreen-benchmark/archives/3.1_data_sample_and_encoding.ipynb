{
 "cells": [
  {
   "cell_type": "code",
   "execution_count": 1,
   "id": "c7c12bf7",
   "metadata": {},
   "outputs": [
    {
     "name": "stdout",
     "output_type": "stream",
     "text": [
      "3.2.1\n"
     ]
    }
   ],
   "source": [
    "import sys, os, json\n",
    "import pandas as pd\n",
    "import numpy as np\n",
    "import lightgbm as lgb\n",
    "from lightgbm import LGBMClassifier\n",
    "import pickle\n",
    "from tqdm import tqdm\n",
    "from smart_open import open\n",
    "\n",
    "import gc\n",
    "import time \n",
    "import warnings\n",
    "import random\n",
    "import ast\n",
    "\n",
    "warnings.simplefilter(action='ignore')\n",
    "pd.set_option('display.max_columns', 20)\n",
    "pd.set_option('display.width', 500)\n",
    "\n",
    "%load_ext autoreload\n",
    "%autoreload 2\n",
    "print(lgb.__version__)"
   ]
  },
  {
   "cell_type": "code",
   "execution_count": 2,
   "id": "afb89e27",
   "metadata": {},
   "outputs": [],
   "source": [
    "config_path = \"./config.json\"\n",
    "\n",
    "with open(os.path.join(config_path), \"r\") as f:\n",
    "    config = json.load(f)"
   ]
  },
  {
   "cell_type": "markdown",
   "id": "633da122",
   "metadata": {},
   "source": [
    "#### dev1\n",
    "- sample subset (10%, ~1000 bad on booked)\n",
    "- encode special to missing"
   ]
  },
  {
   "cell_type": "code",
   "execution_count": 3,
   "id": "bec6dc6b",
   "metadata": {},
   "outputs": [],
   "source": [
    "exp_dict = pd.read_csv(config[\"meta\"][\"exp_dict_path\"])"
   ]
  },
  {
   "cell_type": "code",
   "execution_count": 18,
   "id": "04bec9e8",
   "metadata": {},
   "outputs": [
    {
     "data": {
      "text/plain": [
       "dict_keys(['bureau_features_cols', 'customized_cols', 'af_member_cols', 'cat_cols', 'meta_cols', 'target_cols', 'weights', 'benchmark_cols', 'decision_cols'])"
      ]
     },
     "execution_count": 18,
     "metadata": {},
     "output_type": "execute_result"
    }
   ],
   "source": [
    "config[\"data_columns\"].keys()"
   ]
  },
  {
   "cell_type": "code",
   "execution_count": 26,
   "id": "bd175dd3",
   "metadata": {},
   "outputs": [],
   "source": [
    "ratio = 0.1\n",
    "cols_ = config[\"data_columns\"][\"bureau_features_cols\"][:100] + config[\"data_columns\"][\"meta_cols\"] + config[\"data_columns\"][\"target_cols\"] + config[\"data_columns\"][\"weights\"]\n"
   ]
  },
  {
   "cell_type": "code",
   "execution_count": 27,
   "id": "b8b7577f",
   "metadata": {},
   "outputs": [],
   "source": [
    "df_dev1 = pd.read_parquet(config[\"data\"][\"clean\"][\"all_features_dev1\"], columns=cols_)"
   ]
  },
  {
   "cell_type": "code",
   "execution_count": 164,
   "id": "2ecb1d73",
   "metadata": {},
   "outputs": [
    {
     "name": "stderr",
     "output_type": "stream",
     "text": [
      "100%|██████████| 3/3 [00:03<00:00,  1.32s/it]\n"
     ]
    }
   ],
   "source": [
    "ratio = 0.1\n",
    "random.seed(12345)\n",
    "source = ['booked','proxy','others']\n",
    "df_dev1_sub = pd.DataFrame()\n",
    "for i in tqdm(source):\n",
    "    ids = random.sample(df_dev1[df_dev1.ri_source==i].id.unique().tolist(), \n",
    "                                      round(df_dev1[df_dev1.ri_source==i].id.unique().size * ratio))\n",
    "    df_i = df_dev1[df_dev1.id.isin(ids)].copy()\n",
    "    df_dev1_sub = pd.concat([df_dev1_sub, df_i], axis=0)"
   ]
  },
  {
   "cell_type": "code",
   "execution_count": 167,
   "id": "9d72f052",
   "metadata": {},
   "outputs": [
    {
     "data": {
      "text/plain": [
       "((2281891, 112), (228188, 112))"
      ]
     },
     "execution_count": 167,
     "metadata": {},
     "output_type": "execute_result"
    }
   ],
   "source": [
    "df_dev1.shape, df_dev1_sub.shape"
   ]
  },
  {
   "cell_type": "code",
   "execution_count": 184,
   "id": "43ae3299",
   "metadata": {},
   "outputs": [],
   "source": [
    "df_dev1 = pd.read_parquet(config[\"data\"][\"clean\"][\"all_features_dev1\"])"
   ]
  },
  {
   "cell_type": "code",
   "execution_count": null,
   "id": "78d28169",
   "metadata": {},
   "outputs": [],
   "source": []
  },
  {
   "cell_type": "code",
   "execution_count": null,
   "id": "e518ff12",
   "metadata": {},
   "outputs": [],
   "source": []
  },
  {
   "cell_type": "code",
   "execution_count": 33,
   "id": "6b2158ec",
   "metadata": {},
   "outputs": [],
   "source": [
    "# def categorical_to_nan(series, categorical_list):\n",
    "#     \"\"\" given series and a list of catergorical values\n",
    "    \n",
    "#     replace the categorical occurances to nan\n",
    "#     \"\"\"\n",
    "#     if len(categorical_list) == 0:\n",
    "#         return series\n",
    "#     mapper = dict((k, np.nan) for k in categorical_list)\n",
    "#     return series.replace(mapper)\n",
    "\n",
    "# no_special_list = []\n",
    "# list_features = config[\"data_columns\"][\"bureau_features_cols\"] \n",
    "\n",
    "# for col in tqdm(list_features):\n",
    "#     try:\n",
    "#         special_val = ast.literal_eval(exp_dict[exp_dict.field_name == col].categorical.iloc[0])\n",
    "#         special_val = [int(i) for i in special_val]\n",
    "#         df_dev1_sub[col] = categorical_to_nan(df_dev1_sub[col], special_val)\n",
    "#     except:\n",
    "#         no_special_list.append(col)"
   ]
  },
  {
   "cell_type": "code",
   "execution_count": 36,
   "id": "207f7db1",
   "metadata": {},
   "outputs": [],
   "source": []
  },
  {
   "cell_type": "code",
   "execution_count": 49,
   "id": "78f0136f",
   "metadata": {},
   "outputs": [
    {
     "data": {
      "text/plain": [
       "0                     base_ts\n",
       "1       experian_consumer_key\n",
       "2                 p13_alj0300\n",
       "3                 p13_alj0313\n",
       "4                 p13_alj0316\n",
       "                ...          \n",
       "4814             t11_tupl3421\n",
       "4815             t11_tupl3422\n",
       "4816             t11_tupl4420\n",
       "4817             t11_tupl4421\n",
       "4818             t11_tupl4422\n",
       "Name: field_name, Length: 4819, dtype: object"
      ]
     },
     "execution_count": 49,
     "metadata": {},
     "output_type": "execute_result"
    }
   ],
   "source": [
    "exp_dict.field_name"
   ]
  },
  {
   "cell_type": "code",
   "execution_count": 59,
   "id": "b7478ade",
   "metadata": {},
   "outputs": [
    {
     "data": {
      "text/plain": [
       "'[999, 998, 997, 996]'"
      ]
     },
     "execution_count": 59,
     "metadata": {},
     "output_type": "execute_result"
    }
   ],
   "source": [
    "col = \"t11_tupl3422\"\n",
    "exp_dict[exp_dict.field_name == col].categorical.item()"
   ]
  },
  {
   "cell_type": "code",
   "execution_count": 67,
   "id": "09223e7e",
   "metadata": {},
   "outputs": [
    {
     "data": {
      "text/plain": [
       "[999999999, 999999998, 999999997, 999999996]    1641\n",
       "[99, 98, 97, 96]                                 405\n",
       "[99, 98, 97]                                     317\n",
       "[999, 998, 997, 996]                             308\n",
       "[99, 98]                                         296\n",
       "                                                ... \n",
       "[999, 997, 996, 995, 994]                          1\n",
       "[999, 996, 995]                                    1\n",
       "[999, 997, 996, 994]                               1\n",
       "[999, 998, 996]                                    1\n",
       "[9999, 9998, 9996, 9995]                           1\n",
       "Name: categorical, Length: 69, dtype: int64"
      ]
     },
     "execution_count": 67,
     "metadata": {},
     "output_type": "execute_result"
    }
   ],
   "source": [
    "exp_dict.categorical.value_counts()"
   ]
  },
  {
   "cell_type": "code",
   "execution_count": 122,
   "id": "6a3626f8",
   "metadata": {},
   "outputs": [],
   "source": [
    "def parse_categorical(item):\n",
    "    try:\n",
    "        return ast.literal_eval(item)\n",
    "    except:\n",
    "        if np.isnan(item):\n",
    "            return []\n",
    "        raise ValueError()\n",
    "        \n",
    "        \n",
    "# def categorical_to_nan(series, categorical_list):\n",
    "#     \"\"\" given series and a list of catergorical values\n",
    "    \n",
    "#     replace the categorical occurances to nan\n",
    "#     \"\"\"\n",
    "#     if len(categorical_list) == 0:\n",
    "#         return series\n",
    "#     mapper = dict((k, np.nan) for k in categorical_list)\n",
    "#     return series.replace(mapper)\n",
    "\n",
    "\n",
    "def categorical_to_nan(df, col):\n",
    "    \"\"\" given series and a list of catergorical values\n",
    "    \n",
    "    replace the categorical occurances to nan\n",
    "    \"\"\"\n",
    "    categorical_list = dict_special_val[col]\n",
    "    if len(categorical_list):\n",
    "        return df[col]\n",
    "    mapper = dict((k, np.nan) for k in categorical_list)\n",
    "    return df[col].replace(mapper)"
   ]
  },
  {
   "cell_type": "code",
   "execution_count": 113,
   "id": "a8397f50",
   "metadata": {},
   "outputs": [],
   "source": [
    "\n"
   ]
  },
  {
   "cell_type": "code",
   "execution_count": 118,
   "id": "65a3298d",
   "metadata": {},
   "outputs": [],
   "source": [
    "cols = config[\"data_columns\"][\"bureau_features_cols\"][:100]\n",
    "df = dd.read_parquet(\"df_dev1_sub.parquet\", columns=cols)\n",
    "results = {}\n",
    "for col in cols: #list_features:\n",
    "    results[col] = categorical_to_nan(df, col)\n",
    "    \n",
    "results = dd.compute(results)"
   ]
  },
  {
   "cell_type": "code",
   "execution_count": null,
   "id": "b5743577",
   "metadata": {},
   "outputs": [],
   "source": []
  },
  {
   "cell_type": "code",
   "execution_count": 186,
   "id": "a8b96562",
   "metadata": {},
   "outputs": [
    {
     "ename": "MemoryError",
     "evalue": "Unable to allocate 82.2 GiB for an array with shape (4835, 2281891) and data type int64",
     "output_type": "error",
     "traceback": [
      "\u001b[0;31m---------------------------------------------------------------------------\u001b[0m",
      "\u001b[0;31mMemoryError\u001b[0m                               Traceback (most recent call last)",
      "\u001b[0;32m<timed exec>\u001b[0m in \u001b[0;36m<module>\u001b[0;34m\u001b[0m\n",
      "\u001b[0;32m~/anaconda3/envs/pl_gen4/lib/python3.7/site-packages/pandas/core/generic.py\u001b[0m in \u001b[0;36mcopy\u001b[0;34m(self, deep)\u001b[0m\n\u001b[1;32m   5931\u001b[0m         \u001b[0mdtype\u001b[0m\u001b[0;34m:\u001b[0m \u001b[0mobject\u001b[0m\u001b[0;34m\u001b[0m\u001b[0;34m\u001b[0m\u001b[0m\n\u001b[1;32m   5932\u001b[0m         \"\"\"\n\u001b[0;32m-> 5933\u001b[0;31m         \u001b[0mdata\u001b[0m \u001b[0;34m=\u001b[0m \u001b[0mself\u001b[0m\u001b[0;34m.\u001b[0m\u001b[0m_mgr\u001b[0m\u001b[0;34m.\u001b[0m\u001b[0mcopy\u001b[0m\u001b[0;34m(\u001b[0m\u001b[0mdeep\u001b[0m\u001b[0;34m=\u001b[0m\u001b[0mdeep\u001b[0m\u001b[0;34m)\u001b[0m\u001b[0;34m\u001b[0m\u001b[0;34m\u001b[0m\u001b[0m\n\u001b[0m\u001b[1;32m   5934\u001b[0m         \u001b[0mself\u001b[0m\u001b[0;34m.\u001b[0m\u001b[0m_clear_item_cache\u001b[0m\u001b[0;34m(\u001b[0m\u001b[0;34m)\u001b[0m\u001b[0;34m\u001b[0m\u001b[0;34m\u001b[0m\u001b[0m\n\u001b[1;32m   5935\u001b[0m         \u001b[0;32mreturn\u001b[0m \u001b[0mself\u001b[0m\u001b[0;34m.\u001b[0m\u001b[0m_constructor\u001b[0m\u001b[0;34m(\u001b[0m\u001b[0mdata\u001b[0m\u001b[0;34m)\u001b[0m\u001b[0;34m.\u001b[0m\u001b[0m__finalize__\u001b[0m\u001b[0;34m(\u001b[0m\u001b[0mself\u001b[0m\u001b[0;34m,\u001b[0m \u001b[0mmethod\u001b[0m\u001b[0;34m=\u001b[0m\u001b[0;34m\"copy\"\u001b[0m\u001b[0;34m)\u001b[0m\u001b[0;34m\u001b[0m\u001b[0;34m\u001b[0m\u001b[0m\n",
      "\u001b[0;32m~/anaconda3/envs/pl_gen4/lib/python3.7/site-packages/pandas/core/internals/managers.py\u001b[0m in \u001b[0;36mcopy\u001b[0;34m(self, deep)\u001b[0m\n\u001b[1;32m    597\u001b[0m             \u001b[0mnew_axes\u001b[0m \u001b[0;34m=\u001b[0m \u001b[0mlist\u001b[0m\u001b[0;34m(\u001b[0m\u001b[0mself\u001b[0m\u001b[0;34m.\u001b[0m\u001b[0maxes\u001b[0m\u001b[0;34m)\u001b[0m\u001b[0;34m\u001b[0m\u001b[0;34m\u001b[0m\u001b[0m\n\u001b[1;32m    598\u001b[0m \u001b[0;34m\u001b[0m\u001b[0m\n\u001b[0;32m--> 599\u001b[0;31m         \u001b[0mres\u001b[0m \u001b[0;34m=\u001b[0m \u001b[0mself\u001b[0m\u001b[0;34m.\u001b[0m\u001b[0mapply\u001b[0m\u001b[0;34m(\u001b[0m\u001b[0;34m\"copy\"\u001b[0m\u001b[0;34m,\u001b[0m \u001b[0mdeep\u001b[0m\u001b[0;34m=\u001b[0m\u001b[0mdeep\u001b[0m\u001b[0;34m)\u001b[0m\u001b[0;34m\u001b[0m\u001b[0;34m\u001b[0m\u001b[0m\n\u001b[0m\u001b[1;32m    600\u001b[0m         \u001b[0mres\u001b[0m\u001b[0;34m.\u001b[0m\u001b[0maxes\u001b[0m \u001b[0;34m=\u001b[0m \u001b[0mnew_axes\u001b[0m\u001b[0;34m\u001b[0m\u001b[0;34m\u001b[0m\u001b[0m\n\u001b[1;32m    601\u001b[0m \u001b[0;34m\u001b[0m\u001b[0m\n",
      "\u001b[0;32m~/anaconda3/envs/pl_gen4/lib/python3.7/site-packages/pandas/core/internals/managers.py\u001b[0m in \u001b[0;36mapply\u001b[0;34m(self, f, align_keys, ignore_failures, **kwargs)\u001b[0m\n\u001b[1;32m    325\u001b[0m                     \u001b[0mapplied\u001b[0m \u001b[0;34m=\u001b[0m \u001b[0mb\u001b[0m\u001b[0;34m.\u001b[0m\u001b[0mapply\u001b[0m\u001b[0;34m(\u001b[0m\u001b[0mf\u001b[0m\u001b[0;34m,\u001b[0m \u001b[0;34m**\u001b[0m\u001b[0mkwargs\u001b[0m\u001b[0;34m)\u001b[0m\u001b[0;34m\u001b[0m\u001b[0;34m\u001b[0m\u001b[0m\n\u001b[1;32m    326\u001b[0m                 \u001b[0;32melse\u001b[0m\u001b[0;34m:\u001b[0m\u001b[0;34m\u001b[0m\u001b[0;34m\u001b[0m\u001b[0m\n\u001b[0;32m--> 327\u001b[0;31m                     \u001b[0mapplied\u001b[0m \u001b[0;34m=\u001b[0m \u001b[0mgetattr\u001b[0m\u001b[0;34m(\u001b[0m\u001b[0mb\u001b[0m\u001b[0;34m,\u001b[0m \u001b[0mf\u001b[0m\u001b[0;34m)\u001b[0m\u001b[0;34m(\u001b[0m\u001b[0;34m**\u001b[0m\u001b[0mkwargs\u001b[0m\u001b[0;34m)\u001b[0m\u001b[0;34m\u001b[0m\u001b[0;34m\u001b[0m\u001b[0m\n\u001b[0m\u001b[1;32m    328\u001b[0m             \u001b[0;32mexcept\u001b[0m \u001b[0;34m(\u001b[0m\u001b[0mTypeError\u001b[0m\u001b[0;34m,\u001b[0m \u001b[0mNotImplementedError\u001b[0m\u001b[0;34m)\u001b[0m\u001b[0;34m:\u001b[0m\u001b[0;34m\u001b[0m\u001b[0;34m\u001b[0m\u001b[0m\n\u001b[1;32m    329\u001b[0m                 \u001b[0;32mif\u001b[0m \u001b[0;32mnot\u001b[0m \u001b[0mignore_failures\u001b[0m\u001b[0;34m:\u001b[0m\u001b[0;34m\u001b[0m\u001b[0;34m\u001b[0m\u001b[0m\n",
      "\u001b[0;32m~/anaconda3/envs/pl_gen4/lib/python3.7/site-packages/pandas/core/internals/blocks.py\u001b[0m in \u001b[0;36mcopy\u001b[0;34m(self, deep)\u001b[0m\n\u001b[1;32m    649\u001b[0m         \u001b[0mvalues\u001b[0m \u001b[0;34m=\u001b[0m \u001b[0mself\u001b[0m\u001b[0;34m.\u001b[0m\u001b[0mvalues\u001b[0m\u001b[0;34m\u001b[0m\u001b[0;34m\u001b[0m\u001b[0m\n\u001b[1;32m    650\u001b[0m         \u001b[0;32mif\u001b[0m \u001b[0mdeep\u001b[0m\u001b[0;34m:\u001b[0m\u001b[0;34m\u001b[0m\u001b[0;34m\u001b[0m\u001b[0m\n\u001b[0;32m--> 651\u001b[0;31m             \u001b[0mvalues\u001b[0m \u001b[0;34m=\u001b[0m \u001b[0mvalues\u001b[0m\u001b[0;34m.\u001b[0m\u001b[0mcopy\u001b[0m\u001b[0;34m(\u001b[0m\u001b[0;34m)\u001b[0m\u001b[0;34m\u001b[0m\u001b[0;34m\u001b[0m\u001b[0m\n\u001b[0m\u001b[1;32m    652\u001b[0m         \u001b[0;32mreturn\u001b[0m \u001b[0mself\u001b[0m\u001b[0;34m.\u001b[0m\u001b[0mmake_block_same_class\u001b[0m\u001b[0;34m(\u001b[0m\u001b[0mvalues\u001b[0m\u001b[0;34m)\u001b[0m\u001b[0;34m\u001b[0m\u001b[0;34m\u001b[0m\u001b[0m\n\u001b[1;32m    653\u001b[0m \u001b[0;34m\u001b[0m\u001b[0m\n",
      "\u001b[0;31mMemoryError\u001b[0m: Unable to allocate 82.2 GiB for an array with shape (4835, 2281891) and data type int64"
     ]
    }
   ],
   "source": [
    "%%time\n",
    "import random\n",
    "import pandas as pd\n",
    "import numpy as np\n",
    "from multiprocessing import Pool\n",
    "\n",
    "no_special_list = []\n",
    "list_features = config[\"data_columns\"][\"bureau_features_cols\"] \n",
    "\n",
    "dict_special_val = {}\n",
    "for col in list_features:\n",
    "    special_val = parse_categorical(exp_dict[exp_dict.field_name == col].categorical.iloc[0])       \n",
    "    special_val = [int(i) for i in special_val]\n",
    "    dict_special_val[col] = special_val\n",
    "    \n",
    "\n",
    "def parallelize_dataframe(df, func, n_cores=4):\n",
    "    df_split = np.array_split(df, n_cores)\n",
    "    pool = Pool(n_cores)\n",
    "    df = pd.concat(pool.map(func, df_split))\n",
    "    pool.close()\n",
    "    pool.join()\n",
    "    return df\n",
    "\n",
    "\n",
    "def categorical_to_nan(df):\n",
    "    \"\"\" given series and a list of catergorical values\n",
    "    \n",
    "    replace the categorical occurances to nan\n",
    "    \"\"\"\n",
    "    for col in list_features:\n",
    "        if col not in df.columns:\n",
    "            continue\n",
    "        categorical_list = dict_special_val[col]\n",
    "        if len(categorical_list) == []:\n",
    "            continue\n",
    "        mapper = dict((k, np.nan) for k in categorical_list)\n",
    "        df[col] = df[col].replace(mapper)\n",
    "    return df\n",
    "\n",
    "df = df_dev1_sub.copy(deep=True)\n",
    "df_ = parallelize_dataframe(df, categorical_to_nan, n_cores=32)\n",
    "print(df.shape, df_.shape)"
   ]
  },
  {
   "cell_type": "code",
   "execution_count": null,
   "id": "fee31c7d",
   "metadata": {},
   "outputs": [],
   "source": []
  },
  {
   "cell_type": "code",
   "execution_count": 153,
   "id": "bac9c991",
   "metadata": {},
   "outputs": [
    {
     "data": {
      "text/html": [
       "<div>\n",
       "<style scoped>\n",
       "    .dataframe tbody tr th:only-of-type {\n",
       "        vertical-align: middle;\n",
       "    }\n",
       "\n",
       "    .dataframe tbody tr th {\n",
       "        vertical-align: top;\n",
       "    }\n",
       "\n",
       "    .dataframe thead th {\n",
       "        text-align: right;\n",
       "    }\n",
       "</style>\n",
       "<table border=\"1\" class=\"dataframe\">\n",
       "  <thead>\n",
       "    <tr style=\"text-align: right;\">\n",
       "      <th></th>\n",
       "      <th>p13_alj0300</th>\n",
       "      <th>p13_alj0313</th>\n",
       "      <th>p13_alj0316</th>\n",
       "      <th>p13_alj0416</th>\n",
       "      <th>p13_alj5030</th>\n",
       "      <th>p13_alj5320</th>\n",
       "      <th>p13_alj5530</th>\n",
       "      <th>p13_alj5730</th>\n",
       "      <th>p13_alj5820</th>\n",
       "      <th>p13_alj5830</th>\n",
       "      <th>...</th>\n",
       "      <th>p13_all2206</th>\n",
       "      <th>p13_all2216</th>\n",
       "      <th>p13_all2220</th>\n",
       "      <th>p13_all2226</th>\n",
       "      <th>p13_all2300</th>\n",
       "      <th>p13_all2306</th>\n",
       "      <th>p13_all2307</th>\n",
       "      <th>p13_all2308</th>\n",
       "      <th>p13_all2309</th>\n",
       "      <th>p13_all2320</th>\n",
       "    </tr>\n",
       "  </thead>\n",
       "  <tbody>\n",
       "    <tr>\n",
       "      <th>103</th>\n",
       "      <td>2.0</td>\n",
       "      <td>1.0</td>\n",
       "      <td>1.0</td>\n",
       "      <td>1.0</td>\n",
       "      <td>178922.0</td>\n",
       "      <td>190400.0</td>\n",
       "      <td>178922.0</td>\n",
       "      <td>0.0</td>\n",
       "      <td>861.0</td>\n",
       "      <td>861.0</td>\n",
       "      <td>...</td>\n",
       "      <td>0.0</td>\n",
       "      <td>0.0</td>\n",
       "      <td>0.0</td>\n",
       "      <td>0.0</td>\n",
       "      <td>0.0</td>\n",
       "      <td>0.0</td>\n",
       "      <td>0.0</td>\n",
       "      <td>0.0</td>\n",
       "      <td>0.0</td>\n",
       "      <td>0.0</td>\n",
       "    </tr>\n",
       "    <tr>\n",
       "      <th>148</th>\n",
       "      <td>3.0</td>\n",
       "      <td>0.0</td>\n",
       "      <td>0.0</td>\n",
       "      <td>0.0</td>\n",
       "      <td>NaN</td>\n",
       "      <td>NaN</td>\n",
       "      <td>NaN</td>\n",
       "      <td>NaN</td>\n",
       "      <td>NaN</td>\n",
       "      <td>NaN</td>\n",
       "      <td>...</td>\n",
       "      <td>0.0</td>\n",
       "      <td>0.0</td>\n",
       "      <td>0.0</td>\n",
       "      <td>0.0</td>\n",
       "      <td>0.0</td>\n",
       "      <td>0.0</td>\n",
       "      <td>0.0</td>\n",
       "      <td>0.0</td>\n",
       "      <td>0.0</td>\n",
       "      <td>0.0</td>\n",
       "    </tr>\n",
       "    <tr>\n",
       "      <th>154</th>\n",
       "      <td>3.0</td>\n",
       "      <td>1.0</td>\n",
       "      <td>1.0</td>\n",
       "      <td>1.0</td>\n",
       "      <td>12973.0</td>\n",
       "      <td>13825.0</td>\n",
       "      <td>12973.0</td>\n",
       "      <td>0.0</td>\n",
       "      <td>480.0</td>\n",
       "      <td>480.0</td>\n",
       "      <td>...</td>\n",
       "      <td>0.0</td>\n",
       "      <td>0.0</td>\n",
       "      <td>0.0</td>\n",
       "      <td>0.0</td>\n",
       "      <td>1.0</td>\n",
       "      <td>0.0</td>\n",
       "      <td>0.0</td>\n",
       "      <td>0.0</td>\n",
       "      <td>0.0</td>\n",
       "      <td>3.0</td>\n",
       "    </tr>\n",
       "    <tr>\n",
       "      <th>656</th>\n",
       "      <td>11.0</td>\n",
       "      <td>5.0</td>\n",
       "      <td>6.0</td>\n",
       "      <td>5.0</td>\n",
       "      <td>423573.0</td>\n",
       "      <td>478571.0</td>\n",
       "      <td>84715.0</td>\n",
       "      <td>0.0</td>\n",
       "      <td>5186.0</td>\n",
       "      <td>5186.0</td>\n",
       "      <td>...</td>\n",
       "      <td>0.0</td>\n",
       "      <td>0.0</td>\n",
       "      <td>0.0</td>\n",
       "      <td>0.0</td>\n",
       "      <td>0.0</td>\n",
       "      <td>0.0</td>\n",
       "      <td>0.0</td>\n",
       "      <td>0.0</td>\n",
       "      <td>0.0</td>\n",
       "      <td>0.0</td>\n",
       "    </tr>\n",
       "    <tr>\n",
       "      <th>929</th>\n",
       "      <td>0.0</td>\n",
       "      <td>NaN</td>\n",
       "      <td>NaN</td>\n",
       "      <td>NaN</td>\n",
       "      <td>NaN</td>\n",
       "      <td>NaN</td>\n",
       "      <td>NaN</td>\n",
       "      <td>NaN</td>\n",
       "      <td>NaN</td>\n",
       "      <td>NaN</td>\n",
       "      <td>...</td>\n",
       "      <td>0.0</td>\n",
       "      <td>0.0</td>\n",
       "      <td>0.0</td>\n",
       "      <td>0.0</td>\n",
       "      <td>3.0</td>\n",
       "      <td>1.0</td>\n",
       "      <td>1.0</td>\n",
       "      <td>1.0</td>\n",
       "      <td>2.0</td>\n",
       "      <td>3.0</td>\n",
       "    </tr>\n",
       "  </tbody>\n",
       "</table>\n",
       "<p>5 rows × 100 columns</p>\n",
       "</div>"
      ],
      "text/plain": [
       "     p13_alj0300  p13_alj0313  p13_alj0316  p13_alj0416  p13_alj5030  p13_alj5320  p13_alj5530  p13_alj5730  p13_alj5820  p13_alj5830  ...  p13_all2206  p13_all2216  p13_all2220  p13_all2226  p13_all2300  p13_all2306  p13_all2307  p13_all2308  p13_all2309  p13_all2320\n",
       "103          2.0          1.0          1.0          1.0     178922.0     190400.0     178922.0          0.0        861.0        861.0  ...          0.0          0.0          0.0          0.0          0.0          0.0          0.0          0.0          0.0          0.0\n",
       "148          3.0          0.0          0.0          0.0          NaN          NaN          NaN          NaN          NaN          NaN  ...          0.0          0.0          0.0          0.0          0.0          0.0          0.0          0.0          0.0          0.0\n",
       "154          3.0          1.0          1.0          1.0      12973.0      13825.0      12973.0          0.0        480.0        480.0  ...          0.0          0.0          0.0          0.0          1.0          0.0          0.0          0.0          0.0          3.0\n",
       "656         11.0          5.0          6.0          5.0     423573.0     478571.0      84715.0          0.0       5186.0       5186.0  ...          0.0          0.0          0.0          0.0          0.0          0.0          0.0          0.0          0.0          0.0\n",
       "929          0.0          NaN          NaN          NaN          NaN          NaN          NaN          NaN          NaN          NaN  ...          0.0          0.0          0.0          0.0          3.0          1.0          1.0          1.0          2.0          3.0\n",
       "\n",
       "[5 rows x 100 columns]"
      ]
     },
     "execution_count": 153,
     "metadata": {},
     "output_type": "execute_result"
    }
   ],
   "source": [
    "df_.head()"
   ]
  },
  {
   "cell_type": "code",
   "execution_count": 152,
   "id": "47d53ee1",
   "metadata": {},
   "outputs": [
    {
     "data": {
      "text/html": [
       "<div>\n",
       "<style scoped>\n",
       "    .dataframe tbody tr th:only-of-type {\n",
       "        vertical-align: middle;\n",
       "    }\n",
       "\n",
       "    .dataframe tbody tr th {\n",
       "        vertical-align: top;\n",
       "    }\n",
       "\n",
       "    .dataframe thead th {\n",
       "        text-align: right;\n",
       "    }\n",
       "</style>\n",
       "<table border=\"1\" class=\"dataframe\">\n",
       "  <thead>\n",
       "    <tr style=\"text-align: right;\">\n",
       "      <th></th>\n",
       "      <th>p13_alj0300</th>\n",
       "      <th>p13_alj0313</th>\n",
       "      <th>p13_alj0316</th>\n",
       "      <th>p13_alj0416</th>\n",
       "      <th>p13_alj5030</th>\n",
       "      <th>p13_alj5320</th>\n",
       "      <th>p13_alj5530</th>\n",
       "      <th>p13_alj5730</th>\n",
       "      <th>p13_alj5820</th>\n",
       "      <th>p13_alj5830</th>\n",
       "      <th>...</th>\n",
       "      <th>p13_all2206</th>\n",
       "      <th>p13_all2216</th>\n",
       "      <th>p13_all2220</th>\n",
       "      <th>p13_all2226</th>\n",
       "      <th>p13_all2300</th>\n",
       "      <th>p13_all2306</th>\n",
       "      <th>p13_all2307</th>\n",
       "      <th>p13_all2308</th>\n",
       "      <th>p13_all2309</th>\n",
       "      <th>p13_all2320</th>\n",
       "    </tr>\n",
       "  </thead>\n",
       "  <tbody>\n",
       "    <tr>\n",
       "      <th>103</th>\n",
       "      <td>2</td>\n",
       "      <td>1</td>\n",
       "      <td>1</td>\n",
       "      <td>1</td>\n",
       "      <td>178922</td>\n",
       "      <td>190400</td>\n",
       "      <td>178922</td>\n",
       "      <td>0</td>\n",
       "      <td>861</td>\n",
       "      <td>861</td>\n",
       "      <td>...</td>\n",
       "      <td>0</td>\n",
       "      <td>0</td>\n",
       "      <td>0</td>\n",
       "      <td>0</td>\n",
       "      <td>0</td>\n",
       "      <td>0</td>\n",
       "      <td>0</td>\n",
       "      <td>0</td>\n",
       "      <td>0</td>\n",
       "      <td>0</td>\n",
       "    </tr>\n",
       "    <tr>\n",
       "      <th>148</th>\n",
       "      <td>3</td>\n",
       "      <td>0</td>\n",
       "      <td>0</td>\n",
       "      <td>0</td>\n",
       "      <td>999999997</td>\n",
       "      <td>999999997</td>\n",
       "      <td>999999997</td>\n",
       "      <td>999999997</td>\n",
       "      <td>999999997</td>\n",
       "      <td>999999997</td>\n",
       "      <td>...</td>\n",
       "      <td>0</td>\n",
       "      <td>0</td>\n",
       "      <td>0</td>\n",
       "      <td>0</td>\n",
       "      <td>0</td>\n",
       "      <td>0</td>\n",
       "      <td>0</td>\n",
       "      <td>0</td>\n",
       "      <td>0</td>\n",
       "      <td>0</td>\n",
       "    </tr>\n",
       "    <tr>\n",
       "      <th>154</th>\n",
       "      <td>3</td>\n",
       "      <td>1</td>\n",
       "      <td>1</td>\n",
       "      <td>1</td>\n",
       "      <td>12973</td>\n",
       "      <td>13825</td>\n",
       "      <td>12973</td>\n",
       "      <td>0</td>\n",
       "      <td>480</td>\n",
       "      <td>480</td>\n",
       "      <td>...</td>\n",
       "      <td>0</td>\n",
       "      <td>0</td>\n",
       "      <td>0</td>\n",
       "      <td>0</td>\n",
       "      <td>1</td>\n",
       "      <td>0</td>\n",
       "      <td>0</td>\n",
       "      <td>0</td>\n",
       "      <td>0</td>\n",
       "      <td>3</td>\n",
       "    </tr>\n",
       "    <tr>\n",
       "      <th>656</th>\n",
       "      <td>11</td>\n",
       "      <td>5</td>\n",
       "      <td>6</td>\n",
       "      <td>5</td>\n",
       "      <td>423573</td>\n",
       "      <td>478571</td>\n",
       "      <td>84715</td>\n",
       "      <td>0</td>\n",
       "      <td>5186</td>\n",
       "      <td>5186</td>\n",
       "      <td>...</td>\n",
       "      <td>0</td>\n",
       "      <td>0</td>\n",
       "      <td>0</td>\n",
       "      <td>0</td>\n",
       "      <td>0</td>\n",
       "      <td>0</td>\n",
       "      <td>0</td>\n",
       "      <td>0</td>\n",
       "      <td>0</td>\n",
       "      <td>0</td>\n",
       "    </tr>\n",
       "    <tr>\n",
       "      <th>929</th>\n",
       "      <td>0</td>\n",
       "      <td>98</td>\n",
       "      <td>98</td>\n",
       "      <td>98</td>\n",
       "      <td>999999998</td>\n",
       "      <td>999999998</td>\n",
       "      <td>999999998</td>\n",
       "      <td>999999998</td>\n",
       "      <td>999999998</td>\n",
       "      <td>999999998</td>\n",
       "      <td>...</td>\n",
       "      <td>0</td>\n",
       "      <td>0</td>\n",
       "      <td>0</td>\n",
       "      <td>0</td>\n",
       "      <td>3</td>\n",
       "      <td>1</td>\n",
       "      <td>1</td>\n",
       "      <td>1</td>\n",
       "      <td>2</td>\n",
       "      <td>3</td>\n",
       "    </tr>\n",
       "  </tbody>\n",
       "</table>\n",
       "<p>5 rows × 100 columns</p>\n",
       "</div>"
      ],
      "text/plain": [
       "     p13_alj0300  p13_alj0313  p13_alj0316  p13_alj0416  p13_alj5030  p13_alj5320  p13_alj5530  p13_alj5730  p13_alj5820  p13_alj5830  ...  p13_all2206  p13_all2216  p13_all2220  p13_all2226  p13_all2300  p13_all2306  p13_all2307  p13_all2308  p13_all2309  p13_all2320\n",
       "103            2            1            1            1       178922       190400       178922            0          861          861  ...            0            0            0            0            0            0            0            0            0            0\n",
       "148            3            0            0            0    999999997    999999997    999999997    999999997    999999997    999999997  ...            0            0            0            0            0            0            0            0            0            0\n",
       "154            3            1            1            1        12973        13825        12973            0          480          480  ...            0            0            0            0            1            0            0            0            0            3\n",
       "656           11            5            6            5       423573       478571        84715            0         5186         5186  ...            0            0            0            0            0            0            0            0            0            0\n",
       "929            0           98           98           98    999999998    999999998    999999998    999999998    999999998    999999998  ...            0            0            0            0            3            1            1            1            2            3\n",
       "\n",
       "[5 rows x 100 columns]"
      ]
     },
     "execution_count": 152,
     "metadata": {},
     "output_type": "execute_result"
    }
   ],
   "source": [
    "df__.head()"
   ]
  },
  {
   "cell_type": "code",
   "execution_count": null,
   "id": "00959b75",
   "metadata": {},
   "outputs": [],
   "source": [
    "class Cat2Nan(object):\n",
    "    \n",
    "    def __init__(self, )"
   ]
  },
  {
   "cell_type": "code",
   "execution_count": null,
   "id": "16d7b108",
   "metadata": {},
   "outputs": [],
   "source": []
  },
  {
   "cell_type": "code",
   "execution_count": 187,
   "id": "46bf5e2e",
   "metadata": {},
   "outputs": [
    {
     "ename": "MemoryError",
     "evalue": "Unable to allocate 82.2 GiB for an array with shape (4835, 2281891) and data type int64",
     "output_type": "error",
     "traceback": [
      "\u001b[0;31m---------------------------------------------------------------------------\u001b[0m",
      "\u001b[0;31mMemoryError\u001b[0m                               Traceback (most recent call last)",
      "\u001b[0;32m<timed exec>\u001b[0m in \u001b[0;36m<module>\u001b[0;34m\u001b[0m\n",
      "\u001b[0;32m~/anaconda3/envs/pl_gen4/lib/python3.7/site-packages/pandas/core/generic.py\u001b[0m in \u001b[0;36mcopy\u001b[0;34m(self, deep)\u001b[0m\n\u001b[1;32m   5931\u001b[0m         \u001b[0mdtype\u001b[0m\u001b[0;34m:\u001b[0m \u001b[0mobject\u001b[0m\u001b[0;34m\u001b[0m\u001b[0;34m\u001b[0m\u001b[0m\n\u001b[1;32m   5932\u001b[0m         \"\"\"\n\u001b[0;32m-> 5933\u001b[0;31m         \u001b[0mdata\u001b[0m \u001b[0;34m=\u001b[0m \u001b[0mself\u001b[0m\u001b[0;34m.\u001b[0m\u001b[0m_mgr\u001b[0m\u001b[0;34m.\u001b[0m\u001b[0mcopy\u001b[0m\u001b[0;34m(\u001b[0m\u001b[0mdeep\u001b[0m\u001b[0;34m=\u001b[0m\u001b[0mdeep\u001b[0m\u001b[0;34m)\u001b[0m\u001b[0;34m\u001b[0m\u001b[0;34m\u001b[0m\u001b[0m\n\u001b[0m\u001b[1;32m   5934\u001b[0m         \u001b[0mself\u001b[0m\u001b[0;34m.\u001b[0m\u001b[0m_clear_item_cache\u001b[0m\u001b[0;34m(\u001b[0m\u001b[0;34m)\u001b[0m\u001b[0;34m\u001b[0m\u001b[0;34m\u001b[0m\u001b[0m\n\u001b[1;32m   5935\u001b[0m         \u001b[0;32mreturn\u001b[0m \u001b[0mself\u001b[0m\u001b[0;34m.\u001b[0m\u001b[0m_constructor\u001b[0m\u001b[0;34m(\u001b[0m\u001b[0mdata\u001b[0m\u001b[0;34m)\u001b[0m\u001b[0;34m.\u001b[0m\u001b[0m__finalize__\u001b[0m\u001b[0;34m(\u001b[0m\u001b[0mself\u001b[0m\u001b[0;34m,\u001b[0m \u001b[0mmethod\u001b[0m\u001b[0;34m=\u001b[0m\u001b[0;34m\"copy\"\u001b[0m\u001b[0;34m)\u001b[0m\u001b[0;34m\u001b[0m\u001b[0;34m\u001b[0m\u001b[0m\n",
      "\u001b[0;32m~/anaconda3/envs/pl_gen4/lib/python3.7/site-packages/pandas/core/internals/managers.py\u001b[0m in \u001b[0;36mcopy\u001b[0;34m(self, deep)\u001b[0m\n\u001b[1;32m    597\u001b[0m             \u001b[0mnew_axes\u001b[0m \u001b[0;34m=\u001b[0m \u001b[0mlist\u001b[0m\u001b[0;34m(\u001b[0m\u001b[0mself\u001b[0m\u001b[0;34m.\u001b[0m\u001b[0maxes\u001b[0m\u001b[0;34m)\u001b[0m\u001b[0;34m\u001b[0m\u001b[0;34m\u001b[0m\u001b[0m\n\u001b[1;32m    598\u001b[0m \u001b[0;34m\u001b[0m\u001b[0m\n\u001b[0;32m--> 599\u001b[0;31m         \u001b[0mres\u001b[0m \u001b[0;34m=\u001b[0m \u001b[0mself\u001b[0m\u001b[0;34m.\u001b[0m\u001b[0mapply\u001b[0m\u001b[0;34m(\u001b[0m\u001b[0;34m\"copy\"\u001b[0m\u001b[0;34m,\u001b[0m \u001b[0mdeep\u001b[0m\u001b[0;34m=\u001b[0m\u001b[0mdeep\u001b[0m\u001b[0;34m)\u001b[0m\u001b[0;34m\u001b[0m\u001b[0;34m\u001b[0m\u001b[0m\n\u001b[0m\u001b[1;32m    600\u001b[0m         \u001b[0mres\u001b[0m\u001b[0;34m.\u001b[0m\u001b[0maxes\u001b[0m \u001b[0;34m=\u001b[0m \u001b[0mnew_axes\u001b[0m\u001b[0;34m\u001b[0m\u001b[0;34m\u001b[0m\u001b[0m\n\u001b[1;32m    601\u001b[0m \u001b[0;34m\u001b[0m\u001b[0m\n",
      "\u001b[0;32m~/anaconda3/envs/pl_gen4/lib/python3.7/site-packages/pandas/core/internals/managers.py\u001b[0m in \u001b[0;36mapply\u001b[0;34m(self, f, align_keys, ignore_failures, **kwargs)\u001b[0m\n\u001b[1;32m    325\u001b[0m                     \u001b[0mapplied\u001b[0m \u001b[0;34m=\u001b[0m \u001b[0mb\u001b[0m\u001b[0;34m.\u001b[0m\u001b[0mapply\u001b[0m\u001b[0;34m(\u001b[0m\u001b[0mf\u001b[0m\u001b[0;34m,\u001b[0m \u001b[0;34m**\u001b[0m\u001b[0mkwargs\u001b[0m\u001b[0;34m)\u001b[0m\u001b[0;34m\u001b[0m\u001b[0;34m\u001b[0m\u001b[0m\n\u001b[1;32m    326\u001b[0m                 \u001b[0;32melse\u001b[0m\u001b[0;34m:\u001b[0m\u001b[0;34m\u001b[0m\u001b[0;34m\u001b[0m\u001b[0m\n\u001b[0;32m--> 327\u001b[0;31m                     \u001b[0mapplied\u001b[0m \u001b[0;34m=\u001b[0m \u001b[0mgetattr\u001b[0m\u001b[0;34m(\u001b[0m\u001b[0mb\u001b[0m\u001b[0;34m,\u001b[0m \u001b[0mf\u001b[0m\u001b[0;34m)\u001b[0m\u001b[0;34m(\u001b[0m\u001b[0;34m**\u001b[0m\u001b[0mkwargs\u001b[0m\u001b[0;34m)\u001b[0m\u001b[0;34m\u001b[0m\u001b[0;34m\u001b[0m\u001b[0m\n\u001b[0m\u001b[1;32m    328\u001b[0m             \u001b[0;32mexcept\u001b[0m \u001b[0;34m(\u001b[0m\u001b[0mTypeError\u001b[0m\u001b[0;34m,\u001b[0m \u001b[0mNotImplementedError\u001b[0m\u001b[0;34m)\u001b[0m\u001b[0;34m:\u001b[0m\u001b[0;34m\u001b[0m\u001b[0;34m\u001b[0m\u001b[0m\n\u001b[1;32m    329\u001b[0m                 \u001b[0;32mif\u001b[0m \u001b[0;32mnot\u001b[0m \u001b[0mignore_failures\u001b[0m\u001b[0;34m:\u001b[0m\u001b[0;34m\u001b[0m\u001b[0;34m\u001b[0m\u001b[0m\n",
      "\u001b[0;32m~/anaconda3/envs/pl_gen4/lib/python3.7/site-packages/pandas/core/internals/blocks.py\u001b[0m in \u001b[0;36mcopy\u001b[0;34m(self, deep)\u001b[0m\n\u001b[1;32m    649\u001b[0m         \u001b[0mvalues\u001b[0m \u001b[0;34m=\u001b[0m \u001b[0mself\u001b[0m\u001b[0;34m.\u001b[0m\u001b[0mvalues\u001b[0m\u001b[0;34m\u001b[0m\u001b[0;34m\u001b[0m\u001b[0m\n\u001b[1;32m    650\u001b[0m         \u001b[0;32mif\u001b[0m \u001b[0mdeep\u001b[0m\u001b[0;34m:\u001b[0m\u001b[0;34m\u001b[0m\u001b[0;34m\u001b[0m\u001b[0m\n\u001b[0;32m--> 651\u001b[0;31m             \u001b[0mvalues\u001b[0m \u001b[0;34m=\u001b[0m \u001b[0mvalues\u001b[0m\u001b[0;34m.\u001b[0m\u001b[0mcopy\u001b[0m\u001b[0;34m(\u001b[0m\u001b[0;34m)\u001b[0m\u001b[0;34m\u001b[0m\u001b[0;34m\u001b[0m\u001b[0m\n\u001b[0m\u001b[1;32m    652\u001b[0m         \u001b[0;32mreturn\u001b[0m \u001b[0mself\u001b[0m\u001b[0;34m.\u001b[0m\u001b[0mmake_block_same_class\u001b[0m\u001b[0;34m(\u001b[0m\u001b[0mvalues\u001b[0m\u001b[0;34m)\u001b[0m\u001b[0;34m\u001b[0m\u001b[0;34m\u001b[0m\u001b[0m\n\u001b[1;32m    653\u001b[0m \u001b[0;34m\u001b[0m\u001b[0m\n",
      "\u001b[0;31mMemoryError\u001b[0m: Unable to allocate 82.2 GiB for an array with shape (4835, 2281891) and data type int64"
     ]
    }
   ],
   "source": [
    "%%time\n",
    "def categorical_to_nan(series, categorical_list):\n",
    "    \"\"\" given series and a list of catergorical values\n",
    "    \n",
    "    replace the categorical occurances to nan\n",
    "    \"\"\"\n",
    "    if len(categorical_list) == 0:\n",
    "        return series\n",
    "    mapper = dict((k, np.nan) for k in categorical_list)\n",
    "    return series.replace(mapper)\n",
    "\n",
    "no_special_list = []\n",
    "list_features = config[\"data_columns\"][\"bureau_features_cols\"] \n",
    "\n",
    "df = df_dev1_sub.copy(deep=True)\n",
    "for col in tqdm(list_features):\n",
    "    try:\n",
    "        special_val = ast.literal_eval(exp_dict[exp_dict.field_name == col].categorical.iloc[0])\n",
    "        special_val = [int(i) for i in special_val]\n",
    "        df[col] = categorical_to_nan(df_dev1_sub[col], special_val)\n",
    "    except:\n",
    "        no_special_list.append(col)"
   ]
  },
  {
   "cell_type": "code",
   "execution_count": 188,
   "id": "6f9ad14c",
   "metadata": {},
   "outputs": [
    {
     "data": {
      "text/plain": [
       "((2281891, 112), (2281891, 112))"
      ]
     },
     "execution_count": 188,
     "metadata": {},
     "output_type": "execute_result"
    }
   ],
   "source": [
    "df_.shape, df.shape"
   ]
  },
  {
   "cell_type": "code",
   "execution_count": null,
   "id": "0d0411a7",
   "metadata": {},
   "outputs": [],
   "source": []
  },
  {
   "cell_type": "code",
   "execution_count": null,
   "id": "ec5fcb89",
   "metadata": {},
   "outputs": [],
   "source": []
  },
  {
   "cell_type": "code",
   "execution_count": null,
   "id": "5b62557c",
   "metadata": {},
   "outputs": [],
   "source": []
  },
  {
   "cell_type": "markdown",
   "id": "837759f2",
   "metadata": {},
   "source": [
    "#### dev2\n",
    "- sample subset (10%, ~1000 bad on booked)\n",
    "- encode special to missing"
   ]
  },
  {
   "cell_type": "code",
   "execution_count": null,
   "id": "c43f55b3",
   "metadata": {},
   "outputs": [],
   "source": [
    "df_dev2 = pd.read_parquet(config[\"data\"][\"clean\"][\"all_features_dev2\"])"
   ]
  },
  {
   "cell_type": "code",
   "execution_count": null,
   "id": "4e208d9d",
   "metadata": {},
   "outputs": [],
   "source": [
    "ratio = 0.1\n",
    "random.seed(12345)\n",
    "source = ['booked','proxy','others']\n",
    "df_dev2_sub = pd.DataFrame()\n",
    "for i in tqdm(source):\n",
    "    ids = random.sample(df_dev2[df_dev2.ri_source==i].id.unique().tolist(), \n",
    "                                      round(df_dev2[df_dev2.ri_source==i].id.unique().size * ratio))\n",
    "    df_i = df_dev2[df_dev2.id.isin(ids)].copy()\n",
    "    df_dev2_sub = pd.concat([df_dev2_sub, df_i], axis=0)\n",
    "    \n",
    "print(df_dev2.shape)\n",
    "print(df_dev2_sub.shape)"
   ]
  },
  {
   "cell_type": "code",
   "execution_count": null,
   "id": "faa8b198",
   "metadata": {},
   "outputs": [],
   "source": [
    "no_special_list = []\n",
    "list_features = config[\"data_columns\"][\"bureau_features_cols\"] \n",
    "\n",
    "for col in tqdm(list_features):\n",
    "    try:\n",
    "        special_val = ast.literal_eval(exp_dict[exp_dict.field_name == col].categorical.iloc[0])\n",
    "        special_val = [int(i) for i in special_val]\n",
    "        df_dev2_sub[col] = categorical_to_nan(df_dev2_sub[col], special_val)\n",
    "    except:\n",
    "        no_special_list.append(col)"
   ]
  },
  {
   "cell_type": "code",
   "execution_count": null,
   "id": "dc663449",
   "metadata": {},
   "outputs": [],
   "source": [
    "# df_dev2_sub.to_parquet(\"s3://sofi-data-science/hpeng/pl-gen4/data_dump/cleaned_tables/uw/all_features_dev2_sample_encoding_v1.parquet\")"
   ]
  },
  {
   "cell_type": "code",
   "execution_count": null,
   "id": "69018309",
   "metadata": {},
   "outputs": [],
   "source": []
  }
 ],
 "metadata": {
  "kernelspec": {
   "display_name": "conda_pl_gen4",
   "language": "python",
   "name": "conda_pl_gen4"
  },
  "language_info": {
   "codemirror_mode": {
    "name": "ipython",
    "version": 3
   },
   "file_extension": ".py",
   "mimetype": "text/x-python",
   "name": "python",
   "nbconvert_exporter": "python",
   "pygments_lexer": "ipython3",
   "version": "3.7.10"
  }
 },
 "nbformat": 4,
 "nbformat_minor": 5
}
