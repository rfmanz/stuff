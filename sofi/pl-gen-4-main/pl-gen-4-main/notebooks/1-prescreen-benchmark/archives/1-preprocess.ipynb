{
 "cells": [
  {
   "cell_type": "code",
   "execution_count": 71,
   "id": "dbdd2dfb",
   "metadata": {},
   "outputs": [
    {
     "name": "stdout",
     "output_type": "stream",
     "text": [
      "The autoreload extension is already loaded. To reload it, use:\n",
      "  %reload_ext autoreload\n"
     ]
    }
   ],
   "source": [
    "import sys, json, os, ast\n",
    "import numpy as np\n",
    "import pandas as pd\n",
    "from smart_open import open\n",
    "from tqdm import tqdm\n",
    "\n",
    "sys.path.insert(1, \"../..\")\n",
    "from src.logger import make_logger\n",
    "from src.dataloader import TabularDataloader\n",
    "from src.Trainer import LGBMTrainer, TFTrainer\n",
    "\n",
    "# new modules\n",
    "from _utils.sample_weights import get_sample_weight\n",
    "\n",
    "%load_ext autoreload\n",
    "%autoreload 2"
   ]
  },
  {
   "cell_type": "code",
   "execution_count": 72,
   "id": "499454f7",
   "metadata": {},
   "outputs": [
    {
     "data": {
      "text/plain": [
       "dict_keys(['data', 'meta', 'data_columns', 'model_params', 'model_features', 'impute_vals', 'monotone'])"
      ]
     },
     "metadata": {},
     "output_type": "display_data"
    }
   ],
   "source": [
    "with open(\"config.json\", \"r\") as f:\n",
    "    config = json.load(f)\n",
    "    \n",
    "display(config.keys()) \n",
    "seed = 42"
   ]
  },
  {
   "cell_type": "markdown",
   "id": "4cbc7d12",
   "metadata": {},
   "source": [
    "### Load Data\n",
    "---\n",
    "* already sampled"
   ]
  },
  {
   "cell_type": "code",
   "execution_count": 73,
   "id": "b3cf2747",
   "metadata": {},
   "outputs": [
    {
     "data": {
      "text/plain": [
       "dict_keys(['all_features_dev1', 'all_features_dev2', 'all_features_oot1', 'all_features_oot2', 'subset_dev1', 'subset_dev2'])"
      ]
     },
     "metadata": {},
     "output_type": "display_data"
    }
   ],
   "source": [
    "display(config[\"data\"][\"clean\"].keys())"
   ]
  },
  {
   "cell_type": "code",
   "execution_count": 74,
   "id": "0771dc0c",
   "metadata": {},
   "outputs": [],
   "source": [
    "# data dict\n",
    "exp_dict = pd.read_csv(config[\"meta\"][\"exp_dict_path\"])"
   ]
  },
  {
   "cell_type": "code",
   "execution_count": 75,
   "id": "f4dc0460",
   "metadata": {},
   "outputs": [],
   "source": [
    "dl = TabularDataloader(train_path=config[\"data\"][\"clean\"][\"subset_dev1\"])\n",
    "dl.load_data(debug_size=10000, random_state=seed)"
   ]
  },
  {
   "cell_type": "code",
   "execution_count": 7,
   "id": "55656752",
   "metadata": {},
   "outputs": [
    {
     "data": {
      "text/plain": [
       "((228188, 5131), (10000, 5131))"
      ]
     },
     "execution_count": 7,
     "metadata": {},
     "output_type": "execute_result"
    }
   ],
   "source": [
    "debug_df, _, _ = dl.get_data(debug=True)\n",
    "train_df, _, _ = dl.get_data(debug=False)\n",
    "train_df.shape, debug_df.shape"
   ]
  },
  {
   "cell_type": "code",
   "execution_count": 8,
   "id": "6bff990e",
   "metadata": {},
   "outputs": [],
   "source": [
    "bureau_fts = config[\"data_columns\"][\"bureau_features_cols\"] \n",
    "cat_fts = ['t11_t3d_segid', 't11_t3d_segid_supp'] # config[\"data_columns\"][\"cat_cols\"] \n",
    "prescreen_fts = bureau_fts + cat_fts"
   ]
  },
  {
   "cell_type": "markdown",
   "id": "c43f592d",
   "metadata": {},
   "source": [
    "### Preprocessing\n",
    "---\n",
    "* [ ] encoding\n",
    "* [ ] imputation / or not\n",
    "* [ ] clipping\n",
    "* [x] create sample weight"
   ]
  },
  {
   "cell_type": "code",
   "execution_count": 161,
   "id": "513aba6b",
   "metadata": {},
   "outputs": [],
   "source": [
    "df = debug_df.copy()"
   ]
  },
  {
   "cell_type": "code",
   "execution_count": 182,
   "id": "68cf2491",
   "metadata": {},
   "outputs": [
    {
     "name": "stderr",
     "output_type": "stream",
     "text": [
      "100%|██████████| 4203/4203 [00:04<00:00, 1031.98it/s]\n"
     ]
    }
   ],
   "source": [
    "from src.preprocess import Preprocess\n",
    "\n",
    "weights = {\"booked\": 1,\n",
    "           \"proxy\": 1,\n",
    "           \"others\": 0.25}\n",
    "preprocessor = Preprocess(exp_dict)\n",
    "df = preprocessor.transform(df, bureau_fts, weights)"
   ]
  },
  {
   "cell_type": "code",
   "execution_count": 180,
   "id": "20f0ac82",
   "metadata": {},
   "outputs": [
    {
     "data": {
      "text/html": [
       "<div>\n",
       "<style scoped>\n",
       "    .dataframe tbody tr th:only-of-type {\n",
       "        vertical-align: middle;\n",
       "    }\n",
       "\n",
       "    .dataframe tbody tr th {\n",
       "        vertical-align: top;\n",
       "    }\n",
       "\n",
       "    .dataframe thead th {\n",
       "        text-align: right;\n",
       "    }\n",
       "</style>\n",
       "<table border=\"1\" class=\"dataframe\">\n",
       "  <thead>\n",
       "    <tr style=\"text-align: right;\">\n",
       "      <th></th>\n",
       "      <th>experian_consumer_key</th>\n",
       "      <th>p13_alj0300</th>\n",
       "      <th>p13_alj0313</th>\n",
       "      <th>p13_alj0316</th>\n",
       "      <th>p13_alj0416</th>\n",
       "      <th>p13_alj5030</th>\n",
       "      <th>p13_alj5320</th>\n",
       "      <th>p13_alj5530</th>\n",
       "      <th>p13_alj5730</th>\n",
       "      <th>p13_alj5820</th>\n",
       "      <th>...</th>\n",
       "      <th>ri_target_v2</th>\n",
       "      <th>weight_cob</th>\n",
       "      <th>ri_source</th>\n",
       "      <th>weight_ri_v1</th>\n",
       "      <th>target_v1</th>\n",
       "      <th>weight_ri_v2</th>\n",
       "      <th>target_v2</th>\n",
       "      <th>indeterminate_v1</th>\n",
       "      <th>indeterminate_v2</th>\n",
       "      <th>sample_weight</th>\n",
       "    </tr>\n",
       "  </thead>\n",
       "  <tbody>\n",
       "    <tr>\n",
       "      <th>147704</th>\n",
       "      <td>48884418887</td>\n",
       "      <td>0.0</td>\n",
       "      <td>NaN</td>\n",
       "      <td>NaN</td>\n",
       "      <td>NaN</td>\n",
       "      <td>NaN</td>\n",
       "      <td>NaN</td>\n",
       "      <td>NaN</td>\n",
       "      <td>NaN</td>\n",
       "      <td>NaN</td>\n",
       "      <td>...</td>\n",
       "      <td>0.347028</td>\n",
       "      <td>1.0</td>\n",
       "      <td>others</td>\n",
       "      <td>0.652972</td>\n",
       "      <td>0.0</td>\n",
       "      <td>0.652972</td>\n",
       "      <td>0.0</td>\n",
       "      <td>False</td>\n",
       "      <td>False</td>\n",
       "      <td>0.25</td>\n",
       "    </tr>\n",
       "    <tr>\n",
       "      <th>943427</th>\n",
       "      <td>24158613955</td>\n",
       "      <td>2.0</td>\n",
       "      <td>1.0</td>\n",
       "      <td>1.0</td>\n",
       "      <td>1.0</td>\n",
       "      <td>22847.0</td>\n",
       "      <td>49151.0</td>\n",
       "      <td>22847.0</td>\n",
       "      <td>0.0</td>\n",
       "      <td>658.0</td>\n",
       "      <td>...</td>\n",
       "      <td>0.000000</td>\n",
       "      <td>1.0</td>\n",
       "      <td>booked</td>\n",
       "      <td>1.000000</td>\n",
       "      <td>0.0</td>\n",
       "      <td>1.000000</td>\n",
       "      <td>0.0</td>\n",
       "      <td>False</td>\n",
       "      <td>False</td>\n",
       "      <td>1.00</td>\n",
       "    </tr>\n",
       "    <tr>\n",
       "      <th>938963</th>\n",
       "      <td>40825054934</td>\n",
       "      <td>0.0</td>\n",
       "      <td>NaN</td>\n",
       "      <td>NaN</td>\n",
       "      <td>NaN</td>\n",
       "      <td>NaN</td>\n",
       "      <td>NaN</td>\n",
       "      <td>NaN</td>\n",
       "      <td>NaN</td>\n",
       "      <td>NaN</td>\n",
       "      <td>...</td>\n",
       "      <td>0.683209</td>\n",
       "      <td>1.0</td>\n",
       "      <td>others</td>\n",
       "      <td>0.316791</td>\n",
       "      <td>0.0</td>\n",
       "      <td>0.316791</td>\n",
       "      <td>0.0</td>\n",
       "      <td>False</td>\n",
       "      <td>False</td>\n",
       "      <td>0.25</td>\n",
       "    </tr>\n",
       "    <tr>\n",
       "      <th>1563096</th>\n",
       "      <td>37374844660</td>\n",
       "      <td>13.0</td>\n",
       "      <td>8.0</td>\n",
       "      <td>8.0</td>\n",
       "      <td>4.0</td>\n",
       "      <td>29698.0</td>\n",
       "      <td>34600.0</td>\n",
       "      <td>7425.0</td>\n",
       "      <td>0.0</td>\n",
       "      <td>306.0</td>\n",
       "      <td>...</td>\n",
       "      <td>0.000000</td>\n",
       "      <td>1.0</td>\n",
       "      <td>booked</td>\n",
       "      <td>1.000000</td>\n",
       "      <td>0.0</td>\n",
       "      <td>1.000000</td>\n",
       "      <td>0.0</td>\n",
       "      <td>False</td>\n",
       "      <td>False</td>\n",
       "      <td>1.00</td>\n",
       "    </tr>\n",
       "    <tr>\n",
       "      <th>1667750</th>\n",
       "      <td>27555988458</td>\n",
       "      <td>0.0</td>\n",
       "      <td>NaN</td>\n",
       "      <td>NaN</td>\n",
       "      <td>NaN</td>\n",
       "      <td>NaN</td>\n",
       "      <td>NaN</td>\n",
       "      <td>NaN</td>\n",
       "      <td>NaN</td>\n",
       "      <td>NaN</td>\n",
       "      <td>...</td>\n",
       "      <td>0.023215</td>\n",
       "      <td>1.0</td>\n",
       "      <td>others</td>\n",
       "      <td>0.023215</td>\n",
       "      <td>1.0</td>\n",
       "      <td>0.023215</td>\n",
       "      <td>1.0</td>\n",
       "      <td>False</td>\n",
       "      <td>False</td>\n",
       "      <td>0.25</td>\n",
       "    </tr>\n",
       "  </tbody>\n",
       "</table>\n",
       "<p>5 rows × 5132 columns</p>\n",
       "</div>"
      ],
      "text/plain": [
       "         experian_consumer_key  p13_alj0300  p13_alj0313  p13_alj0316  \\\n",
       "147704             48884418887          0.0          NaN          NaN   \n",
       "943427             24158613955          2.0          1.0          1.0   \n",
       "938963             40825054934          0.0          NaN          NaN   \n",
       "1563096            37374844660         13.0          8.0          8.0   \n",
       "1667750            27555988458          0.0          NaN          NaN   \n",
       "\n",
       "         p13_alj0416  p13_alj5030  p13_alj5320  p13_alj5530  p13_alj5730  \\\n",
       "147704           NaN          NaN          NaN          NaN          NaN   \n",
       "943427           1.0      22847.0      49151.0      22847.0          0.0   \n",
       "938963           NaN          NaN          NaN          NaN          NaN   \n",
       "1563096          4.0      29698.0      34600.0       7425.0          0.0   \n",
       "1667750          NaN          NaN          NaN          NaN          NaN   \n",
       "\n",
       "         p13_alj5820  ...  ri_target_v2  weight_cob  ri_source  weight_ri_v1  \\\n",
       "147704           NaN  ...      0.347028         1.0     others      0.652972   \n",
       "943427         658.0  ...      0.000000         1.0     booked      1.000000   \n",
       "938963           NaN  ...      0.683209         1.0     others      0.316791   \n",
       "1563096        306.0  ...      0.000000         1.0     booked      1.000000   \n",
       "1667750          NaN  ...      0.023215         1.0     others      0.023215   \n",
       "\n",
       "         target_v1  weight_ri_v2  target_v2  indeterminate_v1  \\\n",
       "147704         0.0      0.652972        0.0             False   \n",
       "943427         0.0      1.000000        0.0             False   \n",
       "938963         0.0      0.316791        0.0             False   \n",
       "1563096        0.0      1.000000        0.0             False   \n",
       "1667750        1.0      0.023215        1.0             False   \n",
       "\n",
       "         indeterminate_v2  sample_weight  \n",
       "147704              False           0.25  \n",
       "943427              False           1.00  \n",
       "938963              False           0.25  \n",
       "1563096             False           1.00  \n",
       "1667750             False           0.25  \n",
       "\n",
       "[5 rows x 5132 columns]"
      ]
     },
     "execution_count": 180,
     "metadata": {},
     "output_type": "execute_result"
    }
   ],
   "source": [
    "df.head()"
   ]
  },
  {
   "cell_type": "markdown",
   "id": "c24dccb2",
   "metadata": {},
   "source": [
    "#### sample weight"
   ]
  },
  {
   "cell_type": "code",
   "execution_count": 37,
   "id": "84a93fb6",
   "metadata": {},
   "outputs": [],
   "source": [
    "# df = debug_df.copy()\n",
    "df = train_df.copy()"
   ]
  },
  {
   "cell_type": "code",
   "execution_count": 38,
   "id": "31381eb4",
   "metadata": {},
   "outputs": [],
   "source": [
    "col = \"ri_source\"\n",
    "weights = {\"booked\": 1,\n",
    "           \"proxy\": 1,\n",
    "           \"others\": 0.25}\n",
    "ratios = {\"booked\": 1,\n",
    "          \"proxy\": 1,\n",
    "          \"others\": 1}\n",
    "assert sorted(df[col].unique().tolist()) == sorted(list(weights.keys()))"
   ]
  },
  {
   "cell_type": "code",
   "execution_count": 150,
   "id": "6aac4c9e",
   "metadata": {},
   "outputs": [
    {
     "data": {
      "text/plain": [
       "0     1\n",
       "1     1\n",
       "2     1\n",
       "3     1\n",
       "4     1\n",
       "     ..\n",
       "95    1\n",
       "96    1\n",
       "97    1\n",
       "98    1\n",
       "99    1\n",
       "Length: 100, dtype: int64"
      ]
     },
     "execution_count": 150,
     "metadata": {},
     "output_type": "execute_result"
    }
   ],
   "source": [
    "pd.Series([1 for _ in range(100)])"
   ]
  },
  {
   "cell_type": "code",
   "execution_count": 39,
   "id": "8e13878f",
   "metadata": {},
   "outputs": [],
   "source": [
    "df['weight'] = df['weight_cob'] * df['weight_ri_v1']\n",
    "\n",
    "df[\"weight_sample\"], weights = get_sample_weight(df, \"ri_source\", weights=weights,\n",
    "                                                 return_weights=True)\n",
    "df[\"weight_ratio_v1\"], weights_v1 = get_sample_weight(df, \"ri_source\", ratio=ratios, \n",
    "                                                normalize_by=\"booked\", weight_col=None, return_weights=True)\n",
    "df[\"weight_ratio_v2\"], weights_v2 = get_sample_weight(df, \"ri_source\", ratio=ratios, \n",
    "                                                normalize_by=\"booked\", weight_col=\"weight\", return_weights=True)"
   ]
  },
  {
   "cell_type": "code",
   "execution_count": 40,
   "id": "641fe556",
   "metadata": {},
   "outputs": [
    {
     "data": {
      "text/plain": [
       "weight_sample  ri_source\n",
       "0.25           others       193744\n",
       "1.00           proxy         18692\n",
       "               booked        15752\n",
       "dtype: int64"
      ]
     },
     "execution_count": 40,
     "metadata": {},
     "output_type": "execute_result"
    }
   ],
   "source": [
    "df[[\"weight_sample\", \"ri_source\"]].value_counts()"
   ]
  },
  {
   "cell_type": "code",
   "execution_count": 41,
   "id": "97969322",
   "metadata": {},
   "outputs": [
    {
     "data": {
      "text/plain": [
       "ri_source\n",
       "booked    15752.0\n",
       "others    48436.0\n",
       "proxy     18692.0\n",
       "Name: weight_sample, dtype: float64"
      ]
     },
     "execution_count": 41,
     "metadata": {},
     "output_type": "execute_result"
    }
   ],
   "source": [
    "df[[\"weight_sample\", \"ri_source\"]].groupby(\"ri_source\")[\"weight_sample\"].sum()"
   ]
  },
  {
   "cell_type": "code",
   "execution_count": 42,
   "id": "52f5f2df",
   "metadata": {},
   "outputs": [
    {
     "data": {
      "text/plain": [
       "weight_ratio_v1  ri_source\n",
       "0.081303         others       193744\n",
       "0.842713         proxy         18692\n",
       "1.000000         booked        15752\n",
       "dtype: int64"
      ]
     },
     "execution_count": 42,
     "metadata": {},
     "output_type": "execute_result"
    }
   ],
   "source": [
    "df[[\"weight_ratio_v1\", \"ri_source\"]].value_counts()"
   ]
  },
  {
   "cell_type": "code",
   "execution_count": 43,
   "id": "f9ab9e06",
   "metadata": {},
   "outputs": [
    {
     "data": {
      "text/plain": [
       "ri_source\n",
       "booked    15752.0\n",
       "others    15752.0\n",
       "proxy     15752.0\n",
       "Name: weight_ratio_v1, dtype: float64"
      ]
     },
     "execution_count": 43,
     "metadata": {},
     "output_type": "execute_result"
    }
   ],
   "source": [
    "df[[\"weight_ratio_v1\", \"ri_source\"]].groupby(\"ri_source\")[\"weight_ratio_v1\"].sum()"
   ]
  },
  {
   "cell_type": "code",
   "execution_count": 44,
   "id": "bf818c28",
   "metadata": {},
   "outputs": [
    {
     "data": {
      "text/plain": [
       "ri_source\n",
       "booked    15752.0\n",
       "others    15752.0\n",
       "proxy     15752.0\n",
       "Name: weight, dtype: float64"
      ]
     },
     "execution_count": 44,
     "metadata": {},
     "output_type": "execute_result"
    }
   ],
   "source": [
    "df['weight'] = df['weight_ratio_v2'] * df['weight_cob'] * df['weight_ri_v1']\n",
    "df[[\"weight\", \"ri_source\"]].groupby(\"ri_source\")[\"weight\"].sum()"
   ]
  },
  {
   "cell_type": "code",
   "execution_count": 45,
   "id": "aca1e3d7",
   "metadata": {},
   "outputs": [
    {
     "data": {
      "text/plain": [
       "({'booked': 1, 'proxy': 1, 'others': 0.25},\n",
       " {'others': 0.0813031629366587, 'proxy': 0.8427134603038734, 'booked': 1.0},\n",
       " {'booked': 1.0, 'others': 0.1626063258733174, 'proxy': 0.8427134603038734})"
      ]
     },
     "execution_count": 45,
     "metadata": {},
     "output_type": "execute_result"
    }
   ],
   "source": [
    "weights, weights_v1, weights_v2"
   ]
  },
  {
   "cell_type": "markdown",
   "id": "4b5cf993",
   "metadata": {},
   "source": [
    "#### imputation"
   ]
  },
  {
   "cell_type": "code",
   "execution_count": 50,
   "id": "7b3efe43",
   "metadata": {},
   "outputs": [
    {
     "data": {
      "text/plain": [
       "2.2745105857023247"
      ]
     },
     "execution_count": 50,
     "metadata": {},
     "output_type": "execute_result"
    }
   ],
   "source": [
    "# 1/df[\"target_v1\"].value_counts(normalize=True).loc[1.0]\n",
    "# "
   ]
  },
  {
   "cell_type": "code",
   "execution_count": 56,
   "id": "f205934c",
   "metadata": {},
   "outputs": [
    {
     "data": {
      "text/html": [
       "<div>\n",
       "<style scoped>\n",
       "    .dataframe tbody tr th:only-of-type {\n",
       "        vertical-align: middle;\n",
       "    }\n",
       "\n",
       "    .dataframe tbody tr th {\n",
       "        vertical-align: top;\n",
       "    }\n",
       "\n",
       "    .dataframe thead th {\n",
       "        text-align: right;\n",
       "    }\n",
       "</style>\n",
       "<table border=\"1\" class=\"dataframe\">\n",
       "  <thead>\n",
       "    <tr style=\"text-align: right;\">\n",
       "      <th></th>\n",
       "      <th>target_v1</th>\n",
       "      <th>weight</th>\n",
       "    </tr>\n",
       "  </thead>\n",
       "  <tbody>\n",
       "    <tr>\n",
       "      <th>2325159</th>\n",
       "      <td>1.0</td>\n",
       "      <td>0.000595</td>\n",
       "    </tr>\n",
       "    <tr>\n",
       "      <th>2325167</th>\n",
       "      <td>0.0</td>\n",
       "      <td>0.162437</td>\n",
       "    </tr>\n",
       "    <tr>\n",
       "      <th>2325168</th>\n",
       "      <td>1.0</td>\n",
       "      <td>0.000169</td>\n",
       "    </tr>\n",
       "    <tr>\n",
       "      <th>2325174</th>\n",
       "      <td>0.0</td>\n",
       "      <td>0.162364</td>\n",
       "    </tr>\n",
       "    <tr>\n",
       "      <th>2325175</th>\n",
       "      <td>1.0</td>\n",
       "      <td>0.000242</td>\n",
       "    </tr>\n",
       "  </tbody>\n",
       "</table>\n",
       "</div>"
      ],
      "text/plain": [
       "         target_v1    weight\n",
       "2325159        1.0  0.000595\n",
       "2325167        0.0  0.162437\n",
       "2325168        1.0  0.000169\n",
       "2325174        0.0  0.162364\n",
       "2325175        1.0  0.000242"
      ]
     },
     "execution_count": 56,
     "metadata": {},
     "output_type": "execute_result"
    }
   ],
   "source": [
    "df[[\"target_v1\", \"weight\"]].tail(5)"
   ]
  },
  {
   "cell_type": "code",
   "execution_count": 63,
   "id": "272b615a",
   "metadata": {},
   "outputs": [
    {
     "data": {
      "text/html": [
       "<div>\n",
       "<style scoped>\n",
       "    .dataframe tbody tr th:only-of-type {\n",
       "        vertical-align: middle;\n",
       "    }\n",
       "\n",
       "    .dataframe tbody tr th {\n",
       "        vertical-align: top;\n",
       "    }\n",
       "\n",
       "    .dataframe thead th {\n",
       "        text-align: right;\n",
       "    }\n",
       "</style>\n",
       "<table border=\"1\" class=\"dataframe\">\n",
       "  <thead>\n",
       "    <tr style=\"text-align: right;\">\n",
       "      <th></th>\n",
       "      <th>weight</th>\n",
       "      <th>target_v1</th>\n",
       "    </tr>\n",
       "  </thead>\n",
       "  <tbody>\n",
       "    <tr>\n",
       "      <th>2325159</th>\n",
       "      <td>0.000595</td>\n",
       "      <td>1.0</td>\n",
       "    </tr>\n",
       "    <tr>\n",
       "      <th>2325167</th>\n",
       "      <td>0.162437</td>\n",
       "      <td>0.0</td>\n",
       "    </tr>\n",
       "    <tr>\n",
       "      <th>2325168</th>\n",
       "      <td>0.000169</td>\n",
       "      <td>1.0</td>\n",
       "    </tr>\n",
       "    <tr>\n",
       "      <th>2325174</th>\n",
       "      <td>0.162364</td>\n",
       "      <td>0.0</td>\n",
       "    </tr>\n",
       "    <tr>\n",
       "      <th>2325175</th>\n",
       "      <td>0.000242</td>\n",
       "      <td>1.0</td>\n",
       "    </tr>\n",
       "  </tbody>\n",
       "</table>\n",
       "</div>"
      ],
      "text/plain": [
       "           weight  target_v1\n",
       "2325159  0.000595        1.0\n",
       "2325167  0.162437        0.0\n",
       "2325168  0.000169        1.0\n",
       "2325174  0.162364        0.0\n",
       "2325175  0.000242        1.0"
      ]
     },
     "execution_count": 63,
     "metadata": {},
     "output_type": "execute_result"
    }
   ],
   "source": [
    "df_ = df[[\"weight\", \"target_v1\"]].tail(5)\n",
    "df_"
   ]
  },
  {
   "cell_type": "code",
   "execution_count": 70,
   "id": "2d10972b",
   "metadata": {},
   "outputs": [
    {
     "data": {
      "text/html": [
       "<div>\n",
       "<style scoped>\n",
       "    .dataframe tbody tr th:only-of-type {\n",
       "        vertical-align: middle;\n",
       "    }\n",
       "\n",
       "    .dataframe tbody tr th {\n",
       "        vertical-align: top;\n",
       "    }\n",
       "\n",
       "    .dataframe thead th {\n",
       "        text-align: right;\n",
       "    }\n",
       "</style>\n",
       "<table border=\"1\" class=\"dataframe\">\n",
       "  <thead>\n",
       "    <tr style=\"text-align: right;\">\n",
       "      <th></th>\n",
       "      <th>target_v1</th>\n",
       "      <th>weight</th>\n",
       "      <th>weight_w_target</th>\n",
       "    </tr>\n",
       "  </thead>\n",
       "  <tbody>\n",
       "    <tr>\n",
       "      <th>2325159</th>\n",
       "      <td>1.0</td>\n",
       "      <td>0.000595</td>\n",
       "      <td>0.001353</td>\n",
       "    </tr>\n",
       "    <tr>\n",
       "      <th>2325167</th>\n",
       "      <td>0.0</td>\n",
       "      <td>0.162437</td>\n",
       "      <td>0.162437</td>\n",
       "    </tr>\n",
       "    <tr>\n",
       "      <th>2325168</th>\n",
       "      <td>1.0</td>\n",
       "      <td>0.000169</td>\n",
       "      <td>0.000385</td>\n",
       "    </tr>\n",
       "    <tr>\n",
       "      <th>2325174</th>\n",
       "      <td>0.0</td>\n",
       "      <td>0.162364</td>\n",
       "      <td>0.162364</td>\n",
       "    </tr>\n",
       "    <tr>\n",
       "      <th>2325175</th>\n",
       "      <td>1.0</td>\n",
       "      <td>0.000242</td>\n",
       "      <td>0.000551</td>\n",
       "    </tr>\n",
       "  </tbody>\n",
       "</table>\n",
       "</div>"
      ],
      "text/plain": [
       "         target_v1    weight  weight_w_target\n",
       "2325159        1.0  0.000595         0.001353\n",
       "2325167        0.0  0.162437         0.162437\n",
       "2325168        1.0  0.000169         0.000385\n",
       "2325174        0.0  0.162364         0.162364\n",
       "2325175        1.0  0.000242         0.000551"
      ]
     },
     "execution_count": 70,
     "metadata": {},
     "output_type": "execute_result"
    }
   ],
   "source": [
    "scale_pos_weight = 1/df[\"target_v1\"].value_counts(normalize=True).loc[1.0]\n",
    "df[\"weight_w_target\"] = np.where(df[\"target_v1\"]==1.0, df[\"weight\"]*scale_pos_weight, df[\"weight\"])\n",
    "df[[\"target_v1\", \"weight\", \"weight_w_target\"]].tail()"
   ]
  },
  {
   "cell_type": "markdown",
   "id": "60e57d27",
   "metadata": {},
   "source": [
    "#### clipping"
   ]
  },
  {
   "cell_type": "code",
   "execution_count": null,
   "id": "f2af1d3c",
   "metadata": {},
   "outputs": [],
   "source": []
  },
  {
   "cell_type": "code",
   "execution_count": null,
   "id": "237b3230",
   "metadata": {},
   "outputs": [],
   "source": []
  },
  {
   "cell_type": "code",
   "execution_count": null,
   "id": "724f87db",
   "metadata": {},
   "outputs": [],
   "source": []
  },
  {
   "cell_type": "code",
   "execution_count": null,
   "id": "7b2a072a",
   "metadata": {},
   "outputs": [],
   "source": []
  },
  {
   "cell_type": "code",
   "execution_count": 135,
   "id": "29510d9c",
   "metadata": {},
   "outputs": [
    {
     "data": {
      "text/html": [
       "<div>\n",
       "<style scoped>\n",
       "    .dataframe tbody tr th:only-of-type {\n",
       "        vertical-align: middle;\n",
       "    }\n",
       "\n",
       "    .dataframe tbody tr th {\n",
       "        vertical-align: top;\n",
       "    }\n",
       "\n",
       "    .dataframe thead th {\n",
       "        text-align: right;\n",
       "    }\n",
       "</style>\n",
       "<table border=\"1\" class=\"dataframe\">\n",
       "  <thead>\n",
       "    <tr style=\"text-align: right;\">\n",
       "      <th></th>\n",
       "      <th>experian_consumer_key</th>\n",
       "      <th>p13_alj0300</th>\n",
       "      <th>p13_alj0313</th>\n",
       "      <th>p13_alj0316</th>\n",
       "      <th>p13_alj0416</th>\n",
       "      <th>p13_alj5030</th>\n",
       "      <th>p13_alj5320</th>\n",
       "      <th>p13_alj5530</th>\n",
       "      <th>p13_alj5730</th>\n",
       "      <th>p13_alj5820</th>\n",
       "      <th>...</th>\n",
       "      <th>weight_cob</th>\n",
       "      <th>ri_source</th>\n",
       "      <th>weight_ri_v1</th>\n",
       "      <th>target_v1</th>\n",
       "      <th>weight_ri_v2</th>\n",
       "      <th>target_v2</th>\n",
       "      <th>indeterminate_v1</th>\n",
       "      <th>indeterminate_v2</th>\n",
       "      <th>weight</th>\n",
       "      <th>weight_ratio</th>\n",
       "    </tr>\n",
       "  </thead>\n",
       "  <tbody>\n",
       "    <tr>\n",
       "      <th>147704</th>\n",
       "      <td>48884418887</td>\n",
       "      <td>0.0</td>\n",
       "      <td>NaN</td>\n",
       "      <td>NaN</td>\n",
       "      <td>NaN</td>\n",
       "      <td>NaN</td>\n",
       "      <td>NaN</td>\n",
       "      <td>NaN</td>\n",
       "      <td>NaN</td>\n",
       "      <td>NaN</td>\n",
       "      <td>...</td>\n",
       "      <td>1.0</td>\n",
       "      <td>others</td>\n",
       "      <td>0.652972</td>\n",
       "      <td>0.0</td>\n",
       "      <td>0.652972</td>\n",
       "      <td>0.0</td>\n",
       "      <td>False</td>\n",
       "      <td>False</td>\n",
       "      <td>0.25</td>\n",
       "      <td>0.088357</td>\n",
       "    </tr>\n",
       "    <tr>\n",
       "      <th>943427</th>\n",
       "      <td>24158613955</td>\n",
       "      <td>2.0</td>\n",
       "      <td>1.0</td>\n",
       "      <td>1.0</td>\n",
       "      <td>1.0</td>\n",
       "      <td>22847.0</td>\n",
       "      <td>49151.0</td>\n",
       "      <td>22847.0</td>\n",
       "      <td>0.0</td>\n",
       "      <td>658.0</td>\n",
       "      <td>...</td>\n",
       "      <td>1.0</td>\n",
       "      <td>booked</td>\n",
       "      <td>1.000000</td>\n",
       "      <td>0.0</td>\n",
       "      <td>1.000000</td>\n",
       "      <td>0.0</td>\n",
       "      <td>False</td>\n",
       "      <td>False</td>\n",
       "      <td>1.00</td>\n",
       "      <td>1.000000</td>\n",
       "    </tr>\n",
       "    <tr>\n",
       "      <th>938963</th>\n",
       "      <td>40825054934</td>\n",
       "      <td>0.0</td>\n",
       "      <td>NaN</td>\n",
       "      <td>NaN</td>\n",
       "      <td>NaN</td>\n",
       "      <td>NaN</td>\n",
       "      <td>NaN</td>\n",
       "      <td>NaN</td>\n",
       "      <td>NaN</td>\n",
       "      <td>NaN</td>\n",
       "      <td>...</td>\n",
       "      <td>1.0</td>\n",
       "      <td>others</td>\n",
       "      <td>0.316791</td>\n",
       "      <td>0.0</td>\n",
       "      <td>0.316791</td>\n",
       "      <td>0.0</td>\n",
       "      <td>False</td>\n",
       "      <td>False</td>\n",
       "      <td>0.25</td>\n",
       "      <td>0.088357</td>\n",
       "    </tr>\n",
       "    <tr>\n",
       "      <th>1563096</th>\n",
       "      <td>37374844660</td>\n",
       "      <td>13.0</td>\n",
       "      <td>8.0</td>\n",
       "      <td>8.0</td>\n",
       "      <td>4.0</td>\n",
       "      <td>29698.0</td>\n",
       "      <td>34600.0</td>\n",
       "      <td>7425.0</td>\n",
       "      <td>0.0</td>\n",
       "      <td>306.0</td>\n",
       "      <td>...</td>\n",
       "      <td>1.0</td>\n",
       "      <td>booked</td>\n",
       "      <td>1.000000</td>\n",
       "      <td>0.0</td>\n",
       "      <td>1.000000</td>\n",
       "      <td>0.0</td>\n",
       "      <td>False</td>\n",
       "      <td>False</td>\n",
       "      <td>1.00</td>\n",
       "      <td>1.000000</td>\n",
       "    </tr>\n",
       "    <tr>\n",
       "      <th>1667750</th>\n",
       "      <td>27555988458</td>\n",
       "      <td>0.0</td>\n",
       "      <td>NaN</td>\n",
       "      <td>NaN</td>\n",
       "      <td>NaN</td>\n",
       "      <td>NaN</td>\n",
       "      <td>NaN</td>\n",
       "      <td>NaN</td>\n",
       "      <td>NaN</td>\n",
       "      <td>NaN</td>\n",
       "      <td>...</td>\n",
       "      <td>1.0</td>\n",
       "      <td>others</td>\n",
       "      <td>0.023215</td>\n",
       "      <td>1.0</td>\n",
       "      <td>0.023215</td>\n",
       "      <td>1.0</td>\n",
       "      <td>False</td>\n",
       "      <td>False</td>\n",
       "      <td>0.25</td>\n",
       "      <td>0.088357</td>\n",
       "    </tr>\n",
       "  </tbody>\n",
       "</table>\n",
       "<p>5 rows × 5133 columns</p>\n",
       "</div>"
      ],
      "text/plain": [
       "         experian_consumer_key  p13_alj0300  p13_alj0313  p13_alj0316  \\\n",
       "147704             48884418887          0.0          NaN          NaN   \n",
       "943427             24158613955          2.0          1.0          1.0   \n",
       "938963             40825054934          0.0          NaN          NaN   \n",
       "1563096            37374844660         13.0          8.0          8.0   \n",
       "1667750            27555988458          0.0          NaN          NaN   \n",
       "\n",
       "         p13_alj0416  p13_alj5030  p13_alj5320  p13_alj5530  p13_alj5730  \\\n",
       "147704           NaN          NaN          NaN          NaN          NaN   \n",
       "943427           1.0      22847.0      49151.0      22847.0          0.0   \n",
       "938963           NaN          NaN          NaN          NaN          NaN   \n",
       "1563096          4.0      29698.0      34600.0       7425.0          0.0   \n",
       "1667750          NaN          NaN          NaN          NaN          NaN   \n",
       "\n",
       "         p13_alj5820  ...  weight_cob  ri_source  weight_ri_v1  target_v1  \\\n",
       "147704           NaN  ...         1.0     others      0.652972        0.0   \n",
       "943427         658.0  ...         1.0     booked      1.000000        0.0   \n",
       "938963           NaN  ...         1.0     others      0.316791        0.0   \n",
       "1563096        306.0  ...         1.0     booked      1.000000        0.0   \n",
       "1667750          NaN  ...         1.0     others      0.023215        1.0   \n",
       "\n",
       "         weight_ri_v2  target_v2  indeterminate_v1  indeterminate_v2  weight  \\\n",
       "147704       0.652972        0.0             False             False    0.25   \n",
       "943427       1.000000        0.0             False             False    1.00   \n",
       "938963       0.316791        0.0             False             False    0.25   \n",
       "1563096      1.000000        0.0             False             False    1.00   \n",
       "1667750      0.023215        1.0             False             False    0.25   \n",
       "\n",
       "         weight_ratio  \n",
       "147704       0.088357  \n",
       "943427       1.000000  \n",
       "938963       0.088357  \n",
       "1563096      1.000000  \n",
       "1667750      0.088357  \n",
       "\n",
       "[5 rows x 5133 columns]"
      ]
     },
     "execution_count": 135,
     "metadata": {},
     "output_type": "execute_result"
    }
   ],
   "source": [
    "df.head()"
   ]
  },
  {
   "cell_type": "code",
   "execution_count": 140,
   "id": "2724e315",
   "metadata": {},
   "outputs": [],
   "source": [
    "missing_pct = train_df.isna().mean().sort_values()"
   ]
  },
  {
   "cell_type": "code",
   "execution_count": null,
   "id": "e6f691bd",
   "metadata": {},
   "outputs": [],
   "source": []
  },
  {
   "cell_type": "code",
   "execution_count": null,
   "id": "53621f81",
   "metadata": {},
   "outputs": [],
   "source": []
  }
 ],
 "metadata": {
  "kernelspec": {
   "display_name": "conda_pl_gen4",
   "language": "python",
   "name": "conda_pl_gen4"
  },
  "language_info": {
   "codemirror_mode": {
    "name": "ipython",
    "version": 3
   },
   "file_extension": ".py",
   "mimetype": "text/x-python",
   "name": "python",
   "nbconvert_exporter": "python",
   "pygments_lexer": "ipython3",
   "version": "3.7.10"
  }
 },
 "nbformat": 4,
 "nbformat_minor": 5
}
