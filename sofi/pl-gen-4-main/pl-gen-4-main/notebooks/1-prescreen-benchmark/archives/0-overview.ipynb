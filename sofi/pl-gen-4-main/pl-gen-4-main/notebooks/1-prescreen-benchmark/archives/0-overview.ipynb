{
 "cells": [
  {
   "cell_type": "code",
   "execution_count": 3,
   "id": "e87133c5",
   "metadata": {},
   "outputs": [],
   "source": [
    "import sys, json, os, ast\n",
    "import numpy as np\n",
    "import pandas as pd\n",
    "from smart_open import open\n",
    "from tqdm import tqdm\n",
    "\n",
    "sys.path.insert(1, \"../..\")\n",
    "from src.logger import make_logger\n",
    "from src.dataloader import TabularDataloader\n",
    "from src.Trainer import LGBMTrainer, TFTrainer\n",
    "\n",
    "%load_ext autoreload\n",
    "%autoreload 2"
   ]
  },
  {
   "cell_type": "code",
   "execution_count": 6,
   "id": "8908ab98",
   "metadata": {},
   "outputs": [
    {
     "data": {
      "text/plain": [
       "dict_keys(['data', 'meta', 'data_columns', 'model_params', 'model_features', 'impute_vals', 'monotone'])"
      ]
     },
     "metadata": {},
     "output_type": "display_data"
    }
   ],
   "source": [
    "with open(\"config.json\", \"r\") as f:\n",
    "    config = json.load(f)\n",
    "    \n",
    "display(config.keys()) "
   ]
  },
  {
   "cell_type": "markdown",
   "id": "b4ed2bfb",
   "metadata": {},
   "source": [
    "### Load Data\n",
    "---\n",
    "* already sampled"
   ]
  },
  {
   "cell_type": "code",
   "execution_count": 8,
   "id": "e702bde4",
   "metadata": {},
   "outputs": [
    {
     "data": {
      "text/plain": [
       "dict_keys(['all_features_dev1', 'all_features_dev2', 'all_features_oot1', 'all_features_oot2', 'subset_dev1', 'subset_dev2'])"
      ]
     },
     "metadata": {},
     "output_type": "display_data"
    }
   ],
   "source": [
    "display(config[\"data\"][\"clean\"].keys())"
   ]
  },
  {
   "cell_type": "code",
   "execution_count": 13,
   "id": "60ccc6e9",
   "metadata": {},
   "outputs": [
    {
     "data": {
      "text/plain": [
       "(10000, 5131)"
      ]
     },
     "execution_count": 13,
     "metadata": {},
     "output_type": "execute_result"
    }
   ],
   "source": [
    "dl = TabularDataloader(train_path=config[\"data\"][\"clean\"][\"subset_dev1\"])\n",
    "dl.load_data(debug_size=10000, random_state=42)"
   ]
  },
  {
   "cell_type": "code",
   "execution_count": 15,
   "id": "7e9c04ee",
   "metadata": {},
   "outputs": [
    {
     "data": {
      "text/plain": [
       "((228188, 5131), (10000, 5131))"
      ]
     },
     "execution_count": 15,
     "metadata": {},
     "output_type": "execute_result"
    }
   ],
   "source": [
    "debug_df, _, _ = dl.get_data(debug=True)\n",
    "train_df, _, _ = dl.get_data(debug=False)\n",
    "train_df.shape, debug_df.shape"
   ]
  },
  {
   "cell_type": "code",
   "execution_count": 21,
   "id": "5e12f901",
   "metadata": {},
   "outputs": [],
   "source": [
    "bureau_fts = config[\"data_columns\"][\"bureau_features_cols\"] \n",
    "cat_fts = ['t11_t3d_segid', 't11_t3d_segid_supp'] # config[\"data_columns\"][\"cat_cols\"] \n",
    "prescreen_fts = bureau_fts + cat_fts"
   ]
  },
  {
   "cell_type": "markdown",
   "id": "50e89efd",
   "metadata": {},
   "source": [
    "### Preprocessing\n",
    "---\n",
    "* [ ] encoding\n",
    "* [ ] imputation / or not\n",
    "* [ ] clipping\n",
    "* [ ] create sample weight"
   ]
  },
  {
   "cell_type": "markdown",
   "id": "bd6a2942",
   "metadata": {},
   "source": [
    "### Model Building\n",
    "---\n",
    "* [ ] feature selection\n",
    "* [ ] hypertune\n",
    "* [ ] cross validation\n",
    "* [ ] refit final model for OOT"
   ]
  },
  {
   "cell_type": "markdown",
   "id": "d80c4498",
   "metadata": {},
   "source": [
    "### Store result and evaluation\n",
    "---\n",
    "* [ ] some form of logger"
   ]
  },
  {
   "cell_type": "code",
   "execution_count": null,
   "id": "5f1f2c2c",
   "metadata": {},
   "outputs": [],
   "source": []
  },
  {
   "cell_type": "code",
   "execution_count": null,
   "id": "6b019d1c",
   "metadata": {},
   "outputs": [],
   "source": []
  }
 ],
 "metadata": {
  "kernelspec": {
   "display_name": "conda_pl_gen4",
   "language": "python",
   "name": "conda_pl_gen4"
  },
  "language_info": {
   "codemirror_mode": {
    "name": "ipython",
    "version": 3
   },
   "file_extension": ".py",
   "mimetype": "text/x-python",
   "name": "python",
   "nbconvert_exporter": "python",
   "pygments_lexer": "ipython3",
   "version": "3.7.10"
  }
 },
 "nbformat": 4,
 "nbformat_minor": 5
}
