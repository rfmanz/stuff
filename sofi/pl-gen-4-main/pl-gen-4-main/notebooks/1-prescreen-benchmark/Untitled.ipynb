{
 "cells": [
  {
   "cell_type": "code",
   "execution_count": 1,
   "id": "0238cd34",
   "metadata": {},
   "outputs": [],
   "source": [
    "import numpy as np\n",
    "import pandas as pd\n",
    "import lightgbm as lgb\n",
    "import pickle as pkl"
   ]
  },
  {
   "cell_type": "code",
   "execution_count": 2,
   "id": "0d26956d",
   "metadata": {},
   "outputs": [],
   "source": [
    "with open(\"./artifacts/models/dev1-lgbm-benchmark.pkl\", \"rb\") as f:\n",
    "    model = pkl.load(f)\n",
    "    \n",
    "model.feature_name_"
   ]
  },
  {
   "cell_type": "code",
   "execution_count": 4,
   "id": "60daa2d2",
   "metadata": {},
   "outputs": [
    {
     "data": {
      "text/plain": [
       "['p13_bcc5520',\n",
       " 'p13_iqz9420',\n",
       " 'p13_bca8370',\n",
       " 't11_trev0722',\n",
       " 't11_tall3205',\n",
       " 'p13_iln5820',\n",
       " 'p13_bcn5020',\n",
       " 'p13_bcc7120',\n",
       " 'p13_upl8132',\n",
       " 't11_taxm1203',\n",
       " 't11_tbca2526',\n",
       " 't11_tstu2752',\n",
       " 'p13_alj8120',\n",
       " 'p13_iqz9426',\n",
       " 't11_tbca0722',\n",
       " 'p13_all5321',\n",
       " 'p13_reh7120',\n",
       " 'p13_iqz9427',\n",
       " 'p13_bca5430',\n",
       " 'p13_iqf9540',\n",
       " 'p13_alj0416',\n",
       " 'p13_alx5530',\n",
       " 'p13_upl8120',\n",
       " 't11_tbcc3501',\n",
       " 'p13_bcc5421',\n",
       " 't11_tall0722',\n",
       " 't11_tiln2755',\n",
       " 'p13_bcx7110',\n",
       " 't11_tbca2530',\n",
       " 't11_tmti2752',\n",
       " 'p13_bca8110',\n",
       " 't11_tbca0385']"
      ]
     },
     "execution_count": 4,
     "metadata": {},
     "output_type": "execute_result"
    }
   ],
   "source": [
    "with open(\"./artifacts/models/dev1-lgbm-mc-benchmark.pkl\", \"rb\") as f:\n",
    "    model = pkl.load(f)\n",
    "    \n",
    "model.feature_name_"
   ]
  },
  {
   "cell_type": "code",
   "execution_count": 6,
   "id": "db044a9f",
   "metadata": {},
   "outputs": [],
   "source": [
    "from smart_open import open\n",
    "\n",
    "with open(\"s3://sofi-data-science/jxu/pl-gen4/models/prescreen/dev1-lgbm-benchmark.pkl\", \"rb\") as f:\n",
    "    lgbm = pkl.load(f)\n",
    "    \n",
    "with open(\"s3://sofi-data-science/jxu/pl-gen4/models/prescreen/dev1-lgbm-mc-benchmark.pkl\", \"rb\") as f:\n",
    "    lgbm_mc = pkl.load(f)"
   ]
  },
  {
   "cell_type": "code",
   "execution_count": 7,
   "id": "5f5d6325",
   "metadata": {},
   "outputs": [
    {
     "data": {
      "text/plain": [
       "['p13_bcc5520',\n",
       " 'p13_iqz9420',\n",
       " 'p13_bca8370',\n",
       " 't11_trev0722',\n",
       " 't11_tall3205',\n",
       " 'p13_iln5820',\n",
       " 'p13_bcn5020',\n",
       " 'p13_bcc7120',\n",
       " 'p13_upl8132',\n",
       " 't11_taxm1203',\n",
       " 't11_tbca2526',\n",
       " 't11_tstu2752',\n",
       " 'p13_alj8120',\n",
       " 'p13_iqz9426',\n",
       " 't11_tbca0722',\n",
       " 'p13_all5321',\n",
       " 'p13_reh7120',\n",
       " 'p13_iqz9427',\n",
       " 'p13_bca5430',\n",
       " 'p13_iqf9540',\n",
       " 'p13_alj0416',\n",
       " 'p13_alx5530',\n",
       " 'p13_upl8120',\n",
       " 't11_tbcc3501',\n",
       " 'p13_bcc5421',\n",
       " 't11_tall0722',\n",
       " 't11_tiln2755',\n",
       " 'p13_bcx7110',\n",
       " 't11_tbca2530',\n",
       " 't11_tmti2752',\n",
       " 'p13_bca8110',\n",
       " 't11_tbca0385']"
      ]
     },
     "execution_count": 7,
     "metadata": {},
     "output_type": "execute_result"
    }
   ],
   "source": [
    "lgbm.feature_name_"
   ]
  },
  {
   "cell_type": "code",
   "execution_count": 9,
   "id": "b60925c9",
   "metadata": {},
   "outputs": [
    {
     "data": {
      "text/plain": [
       "['p13_bcc5520',\n",
       " 'p13_iqz9420',\n",
       " 'p13_bca8370',\n",
       " 't11_trev0722',\n",
       " 't11_tall3205',\n",
       " 'p13_iln5820',\n",
       " 'p13_bcn5020',\n",
       " 'p13_bcc7120',\n",
       " 'p13_upl8132',\n",
       " 't11_taxm1203',\n",
       " 't11_tbca2526',\n",
       " 't11_tstu2752',\n",
       " 'p13_alj8120',\n",
       " 'p13_iqz9426',\n",
       " 't11_tbca0722',\n",
       " 'p13_all5321',\n",
       " 'p13_reh7120',\n",
       " 'p13_iqz9427',\n",
       " 'p13_bca5430',\n",
       " 'p13_iqf9540',\n",
       " 'p13_alj0416',\n",
       " 'p13_alx5530',\n",
       " 'p13_upl8120',\n",
       " 't11_tbcc3501',\n",
       " 'p13_bcc5421',\n",
       " 't11_tall0722',\n",
       " 't11_tiln2755',\n",
       " 'p13_bcx7110',\n",
       " 't11_tbca2530',\n",
       " 't11_tmti2752',\n",
       " 'p13_bca8110',\n",
       " 't11_tbca0385']"
      ]
     },
     "execution_count": 9,
     "metadata": {},
     "output_type": "execute_result"
    }
   ],
   "source": [
    "lgbm_mc.feature_name_"
   ]
  },
  {
   "cell_type": "code",
   "execution_count": null,
   "id": "b0b14b05",
   "metadata": {},
   "outputs": [],
   "source": []
  }
 ],
 "metadata": {
  "kernelspec": {
   "display_name": "conda_pl_gen4",
   "language": "python",
   "name": "conda_pl_gen4"
  },
  "language_info": {
   "codemirror_mode": {
    "name": "ipython",
    "version": 3
   },
   "file_extension": ".py",
   "mimetype": "text/x-python",
   "name": "python",
   "nbconvert_exporter": "python",
   "pygments_lexer": "ipython3",
   "version": "3.7.10"
  }
 },
 "nbformat": 4,
 "nbformat_minor": 5
}
