{
 "cells": [
  {
   "cell_type": "markdown",
   "id": "27a9a9b7",
   "metadata": {},
   "source": [
    "## Feature Analysis\n",
    "---"
   ]
  },
  {
   "cell_type": "code",
   "execution_count": 5,
   "id": "f17d0bef",
   "metadata": {},
   "outputs": [],
   "source": [
    "import sys, os, json\n",
    "sys.path.insert(1, \"../..\")\n",
    "\n",
    "import pickle as pkl\n",
    "import pandas as pd\n",
    "import numpy as np\n",
    "import matplotlib.pyplot as plt\n",
    "import seaborn as sns"
   ]
  },
  {
   "cell_type": "code",
   "execution_count": 2,
   "id": "2bd46503",
   "metadata": {},
   "outputs": [],
   "source": [
    "fd_dev1_v1 = pd.read_csv(\"./artifacts/dev1-v1-model-artifacts/feature_dict.csv\", index_col=0)\n",
    "fd_dev2_v1 = pd.read_csv(\"./artifacts/dev2-v1-model-artifacts/feature_dict.csv\", index_col=0)\n",
    "fd_dev2_v2 = pd.read_csv(\"./artifacts/dev2-v2-model-artifacts/feature_dict.csv\", index_col=0)"
   ]
  },
  {
   "cell_type": "code",
   "execution_count": 5,
   "id": "bf66fe2c",
   "metadata": {},
   "outputs": [
    {
     "data": {
      "text/plain": [
       "(96, 6)"
      ]
     },
     "execution_count": 5,
     "metadata": {},
     "output_type": "execute_result"
    }
   ],
   "source": [
    "fd = pd.concat([fd_dev1_v1,\n",
    "                fd_dev2_v1,\n",
    "                fd_dev2_v2], axis=0)\n",
    "fd.shape"
   ]
  },
  {
   "cell_type": "code",
   "execution_count": 7,
   "id": "50d8d361",
   "metadata": {},
   "outputs": [
    {
     "data": {
      "text/plain": [
       "1    19\n",
       "2     8\n",
       "3     5\n",
       "Name: description, dtype: int64"
      ]
     },
     "execution_count": 7,
     "metadata": {},
     "output_type": "execute_result"
    }
   ],
   "source": [
    "# freq of freq table\n",
    "fd.description.value_counts().value_counts()"
   ]
  },
  {
   "cell_type": "code",
   "execution_count": 9,
   "id": "1284c8cb",
   "metadata": {},
   "outputs": [
    {
     "data": {
      "text/plain": [
       "Balance Amount Payment               15\n",
       "Age/Recency                          13\n",
       "Payment variance                     13\n",
       "Public Records/Inquiry               10\n",
       "Payment magnitude                     9\n",
       "Balance variance                      7\n",
       "Available credit amount magnitude     7\n",
       "Ratios/Percentage                     6\n",
       "Balance to limit ratio variance       4\n",
       "Rank                                  4\n",
       "Trade Count                           2\n",
       "Balance over limit activity           2\n",
       "Slope                                 2\n",
       "Credit amount variance                1\n",
       "Quarterly average                     1\n",
       "Name: attr_grp, dtype: int64"
      ]
     },
     "execution_count": 9,
     "metadata": {},
     "output_type": "execute_result"
    }
   ],
   "source": [
    "fd.attr_grp.value_counts()"
   ]
  },
  {
   "cell_type": "code",
   "execution_count": 31,
   "id": "97154749",
   "metadata": {},
   "outputs": [],
   "source": [
    "fd_dev1_v1[\"rank\"] = range(1, len(fd_dev1_v1)+1)\n",
    "fd_dev2_v1[\"rank\"] = range(1, len(fd_dev2_v1)+1)\n",
    "fd_dev2_v2[\"rank\"] = range(1, len(fd_dev2_v2)+1)"
   ]
  },
  {
   "cell_type": "code",
   "execution_count": 32,
   "id": "920007e9",
   "metadata": {},
   "outputs": [
    {
     "data": {
      "text/html": [
       "<div>\n",
       "<style scoped>\n",
       "    .dataframe tbody tr th:only-of-type {\n",
       "        vertical-align: middle;\n",
       "    }\n",
       "\n",
       "    .dataframe tbody tr th {\n",
       "        vertical-align: top;\n",
       "    }\n",
       "\n",
       "    .dataframe thead th {\n",
       "        text-align: right;\n",
       "    }\n",
       "</style>\n",
       "<table border=\"1\" class=\"dataframe\">\n",
       "  <thead>\n",
       "    <tr style=\"text-align: right;\">\n",
       "      <th></th>\n",
       "      <th>description</th>\n",
       "      <th>long description</th>\n",
       "      <th>attr_grp</th>\n",
       "      <th>categorical</th>\n",
       "      <th>type</th>\n",
       "      <th>dir</th>\n",
       "      <th>rank</th>\n",
       "    </tr>\n",
       "    <tr>\n",
       "      <th>field_name</th>\n",
       "      <th></th>\n",
       "      <th></th>\n",
       "      <th></th>\n",
       "      <th></th>\n",
       "      <th></th>\n",
       "      <th></th>\n",
       "      <th></th>\n",
       "    </tr>\n",
       "  </thead>\n",
       "  <tbody>\n",
       "    <tr>\n",
       "      <th>p13_iln5820</th>\n",
       "      <td>ILN5820</td>\n",
       "      <td>Total monthly payment on open installment trad...</td>\n",
       "      <td>Balance Amount Payment</td>\n",
       "      <td>[999999999, 999999998, 999999997, 999999996]</td>\n",
       "      <td>int</td>\n",
       "      <td>1</td>\n",
       "      <td>1</td>\n",
       "    </tr>\n",
       "    <tr>\n",
       "      <th>p13_alj8120</th>\n",
       "      <td>ALJ8120</td>\n",
       "      <td>Number of months since the most recently opene...</td>\n",
       "      <td>Age/Recency</td>\n",
       "      <td>[9999, 9998, 9996, 9994]</td>\n",
       "      <td>int</td>\n",
       "      <td>1</td>\n",
       "      <td>2</td>\n",
       "    </tr>\n",
       "    <tr>\n",
       "      <th>p13_iqf9540</th>\n",
       "      <td>IQF9540</td>\n",
       "      <td>Number of days since the most recent personal ...</td>\n",
       "      <td>Public Records/Inquiry</td>\n",
       "      <td>[9999]</td>\n",
       "      <td>int</td>\n",
       "      <td>-1</td>\n",
       "      <td>3</td>\n",
       "    </tr>\n",
       "    <tr>\n",
       "      <th>p13_all5321</th>\n",
       "      <td>ALL5321</td>\n",
       "      <td>Total credit amount on open trades</td>\n",
       "      <td>Balance Amount Payment</td>\n",
       "      <td>[999999999, 999999996]</td>\n",
       "      <td>int</td>\n",
       "      <td>-1</td>\n",
       "      <td>4</td>\n",
       "    </tr>\n",
       "    <tr>\n",
       "      <th>t11_taxm1203</th>\n",
       "      <td>NaN</td>\n",
       "      <td>Total difference between month 0 (adjusted) ba...</td>\n",
       "      <td>Balance variance</td>\n",
       "      <td>[999999999, 999999998, 999999997, 999999996]</td>\n",
       "      <td>int</td>\n",
       "      <td>1</td>\n",
       "      <td>5</td>\n",
       "    </tr>\n",
       "  </tbody>\n",
       "</table>\n",
       "</div>"
      ],
      "text/plain": [
       "             description                                   long description  \\\n",
       "field_name                                                                    \n",
       "p13_iln5820      ILN5820  Total monthly payment on open installment trad...   \n",
       "p13_alj8120      ALJ8120  Number of months since the most recently opene...   \n",
       "p13_iqf9540      IQF9540  Number of days since the most recent personal ...   \n",
       "p13_all5321      ALL5321                 Total credit amount on open trades   \n",
       "t11_taxm1203         NaN  Total difference between month 0 (adjusted) ba...   \n",
       "\n",
       "                            attr_grp  \\\n",
       "field_name                             \n",
       "p13_iln5820   Balance Amount Payment   \n",
       "p13_alj8120              Age/Recency   \n",
       "p13_iqf9540   Public Records/Inquiry   \n",
       "p13_all5321   Balance Amount Payment   \n",
       "t11_taxm1203        Balance variance   \n",
       "\n",
       "                                               categorical type  dir  rank  \n",
       "field_name                                                                  \n",
       "p13_iln5820   [999999999, 999999998, 999999997, 999999996]  int    1     1  \n",
       "p13_alj8120                       [9999, 9998, 9996, 9994]  int    1     2  \n",
       "p13_iqf9540                                         [9999]  int   -1     3  \n",
       "p13_all5321                         [999999999, 999999996]  int   -1     4  \n",
       "t11_taxm1203  [999999999, 999999998, 999999997, 999999996]  int    1     5  "
      ]
     },
     "execution_count": 32,
     "metadata": {},
     "output_type": "execute_result"
    }
   ],
   "source": [
    "fd_dev1_v1.head()"
   ]
  },
  {
   "cell_type": "code",
   "execution_count": 39,
   "id": "561d5728",
   "metadata": {},
   "outputs": [],
   "source": [
    "fts = fd.index.unique()"
   ]
  },
  {
   "cell_type": "code",
   "execution_count": 48,
   "id": "ca730e2f",
   "metadata": {},
   "outputs": [],
   "source": [
    "fd_present = pd.DataFrame(index=fts)\n",
    "fd_present = pd.merge(fd_present, fd_dev1_v1[\"rank\"].rename(\"dev1_v1\"), left_on=\"field_name\", right_index=True, how=\"left\")\n",
    "fd_present = pd.merge(fd_present, fd_dev2_v1[\"rank\"].rename(\"dev2_v1\"), left_on=\"field_name\", right_index=True, how=\"left\")\n",
    "fd_present = pd.merge(fd_present, fd_dev2_v2[\"rank\"].rename(\"dev2_v2\"), left_on=\"field_name\", right_index=True, how=\"left\")\n",
    "fd_present = pd.merge(fd_present, fd[\"long description\"].drop_duplicates(), left_on=\"field_name\", right_index=True, how=\"left\")\n"
   ]
  },
  {
   "cell_type": "code",
   "execution_count": 50,
   "id": "f7e86c25",
   "metadata": {},
   "outputs": [],
   "source": [
    "fd_present[\"mean\"] = fd_present[[\"dev1_v1\", \"dev2_v1\", \"dev2_v2\"]].mean(axis=1)\n",
    "fd_present.sort_values(\"mean\", inplace=True)\n",
    "fd_present.to_csv(\"./artifacts/models/benchmark-top-features.csv\")"
   ]
  },
  {
   "cell_type": "code",
   "execution_count": null,
   "id": "914cea1f",
   "metadata": {},
   "outputs": [],
   "source": []
  },
  {
   "cell_type": "code",
   "execution_count": 52,
   "id": "624cebcb",
   "metadata": {},
   "outputs": [
    {
     "data": {
      "text/plain": [
       "(56, 5)"
      ]
     },
     "execution_count": 52,
     "metadata": {},
     "output_type": "execute_result"
    }
   ],
   "source": [
    "fd_present.shape"
   ]
  },
  {
   "cell_type": "code",
   "execution_count": 26,
   "id": "54f7761d",
   "metadata": {},
   "outputs": [
    {
     "name": "stderr",
     "output_type": "stream",
     "text": [
      "Trying to unpickle estimator LabelEncoder from version 0.24.1 when using version 1.0. This might lead to breaking code or invalid results. Use at your own risk. For more info please refer to:\n",
      "https://scikit-learn.org/stable/modules/model_persistence.html#security-maintainability-limitations\n"
     ]
    }
   ],
   "source": [
    "from src.utils.governance import get_feature_by_importance\n",
    "\n",
    "with open(\"config.json\", \"r\") as f:\n",
    "    config = json.load(f)\n",
    "\n",
    "exp_dict = pd.read_csv(config[\"meta\"][\"exp_dict_path\"])\n",
    "\n",
    "with open(\"./artifacts/models/lightgbm-combined_v1_benchmark_mc.pkl\", \"rb\") as f:\n",
    "    lgbm_v1 = pkl.load(f)\n",
    "    \n",
    "with open(\"./artifacts/models/lightgbm-combined_v2_benchmark_mc.pkl\", \"rb\") as f:\n",
    "    lgbm_v2 = pkl.load(f)\n",
    "    \n",
    "with open(\"./artifacts/models/uw_combined_target1_lgbm_mc_benchmark.pkl\", \"rb\") as f:\n",
    "    cs_v1 = pkl.load(f)\n",
    "    \n",
    "with open(\"./artifacts/models/uw_combined_target2_lgbm_mc_benchmark.pkl\", \"rb\") as f:\n",
    "    cs_v2 = pkl.load(f)\n",
    "    \n",
    "    \n",
    "feature_by_imp_v1 = get_feature_by_importance(lgbm_v1)\n",
    "feature_by_imp_v2 = get_feature_by_importance(lgbm_v2)\n",
    "feature_by_imp_cs_v1 = get_feature_by_importance(cs_v1)\n",
    "feature_by_imp_cs_v2 = get_feature_by_importance(cs_v2)"
   ]
  },
  {
   "cell_type": "code",
   "execution_count": 55,
   "id": "f82d1cd5",
   "metadata": {},
   "outputs": [],
   "source": [
    "def get_feature_descriptions(features, data_dict, lgbm):\n",
    "    dd_cols = [\"field_name\", \"description\", \"long description\", \"attr_grp\", \"categorical\", \"type\"]\n",
    "    dd = data_dict[dd_cols]\n",
    "    dd = dd[dd.field_name.isin(lgbm.feature_name_)]\n",
    "    dd.set_index(\"field_name\", inplace=True)\n",
    "    \n",
    "    dd_fields = set(data_dict.field_name.unique())\n",
    "    bureau_fts = [f for f in features if f in dd_fields]\n",
    "    bureau_dd = dd.loc[bureau_fts]\n",
    "    \n",
    "    if len(lgbm.feature_name_) == len(bureau_fts):\n",
    "        return bureau_dd\n",
    "    \n",
    "    custom_ft = [f for f in features if f not in dd_fields]\n",
    "    custom_dd = pd.DataFrame(index=custom_ft)\n",
    "    return pd.concat([bureau_dd, custom_dd]).loc[features]"
   ]
  },
  {
   "cell_type": "code",
   "execution_count": 56,
   "id": "c7a4df1c",
   "metadata": {},
   "outputs": [],
   "source": [
    "feature_dict_v1 = get_feature_descriptions(feature_by_imp_v1, exp_dict, lgbm_v1)\n",
    "dir_map = dict(zip(lgbm_v1.feature_name_, lgbm_v1.get_params()[\"monotone_constraints\"]))\n",
    "feature_dict_v1[\"dir\"] = [dir_map[k] for k in feature_dict_v1.index.values]\n",
    "feature_dict_v1[\"rank\"] = range(1, len(feature_dict_v1)+1)\n",
    "\n",
    "feature_dict_v2 = get_feature_descriptions(feature_by_imp_v2, exp_dict, lgbm_v2)\n",
    "dir_map = dict(zip(lgbm_v2.feature_name_, lgbm_v2.get_params()[\"monotone_constraints\"]))\n",
    "feature_dict_v2[\"dir\"] = [dir_map[k] for k in feature_dict_v2.index.values]\n",
    "feature_dict_v2[\"rank\"] = range(1, len(feature_dict_v2)+1)\n",
    "\n",
    "cs_feature_dict_v1 = get_feature_descriptions(feature_by_imp_cs_v1, exp_dict, cs_v1)\n",
    "dir_map = dict(zip(cs_v1.feature_name_, cs_v1.get_params()[\"monotone_constraints\"]))\n",
    "cs_feature_dict_v1[\"dir\"] = [dir_map[k] for k in cs_feature_dict_v1.index.values]\n",
    "cs_feature_dict_v1[\"rank\"] = range(1, len(cs_feature_dict_v1)+1)\n",
    "\n",
    "cs_feature_dict_v2 = get_feature_descriptions(feature_by_imp_cs_v2, exp_dict, cs_v2)\n",
    "dir_map = dict(zip(cs_v2.feature_name_, cs_v2.get_params()[\"monotone_constraints\"]))\n",
    "cs_feature_dict_v2[\"dir\"] = [dir_map[k] for k in cs_feature_dict_v2.index.values]\n",
    "cs_feature_dict_v2[\"rank\"] = range(1, len(cs_feature_dict_v2)+1)"
   ]
  },
  {
   "cell_type": "code",
   "execution_count": 92,
   "id": "905a37ee",
   "metadata": {},
   "outputs": [
    {
     "data": {
      "text/html": [
       "<div>\n",
       "<style scoped>\n",
       "    .dataframe tbody tr th:only-of-type {\n",
       "        vertical-align: middle;\n",
       "    }\n",
       "\n",
       "    .dataframe tbody tr th {\n",
       "        vertical-align: top;\n",
       "    }\n",
       "\n",
       "    .dataframe thead th {\n",
       "        text-align: right;\n",
       "    }\n",
       "</style>\n",
       "<table border=\"1\" class=\"dataframe\">\n",
       "  <thead>\n",
       "    <tr style=\"text-align: right;\">\n",
       "      <th></th>\n",
       "      <th>description</th>\n",
       "      <th>long description</th>\n",
       "      <th>attr_grp</th>\n",
       "      <th>categorical</th>\n",
       "      <th>type</th>\n",
       "      <th>dir</th>\n",
       "      <th>rank</th>\n",
       "    </tr>\n",
       "    <tr>\n",
       "      <th>field_name</th>\n",
       "      <th></th>\n",
       "      <th></th>\n",
       "      <th></th>\n",
       "      <th></th>\n",
       "      <th></th>\n",
       "      <th></th>\n",
       "      <th></th>\n",
       "    </tr>\n",
       "  </thead>\n",
       "  <tbody>\n",
       "    <tr>\n",
       "      <th>p13_iqf9540</th>\n",
       "      <td>IQF9540</td>\n",
       "      <td>Number of days since the most recent personal ...</td>\n",
       "      <td>Public Records/Inquiry</td>\n",
       "      <td>[9999]</td>\n",
       "      <td>int</td>\n",
       "      <td>-1</td>\n",
       "      <td>1</td>\n",
       "    </tr>\n",
       "    <tr>\n",
       "      <th>p13_alj8120</th>\n",
       "      <td>ALJ8120</td>\n",
       "      <td>Number of months since the most recently opene...</td>\n",
       "      <td>Age/Recency</td>\n",
       "      <td>[9999, 9998, 9996, 9994]</td>\n",
       "      <td>int</td>\n",
       "      <td>1</td>\n",
       "      <td>2</td>\n",
       "    </tr>\n",
       "    <tr>\n",
       "      <th>t11_tmti2752</th>\n",
       "      <td>NaN</td>\n",
       "      <td>Total actual payment over the last 6 months on...</td>\n",
       "      <td>Payment magnitude</td>\n",
       "      <td>[999999999, 999999998, 999999997, 999999996]</td>\n",
       "      <td>int</td>\n",
       "      <td>-1</td>\n",
       "      <td>3</td>\n",
       "    </tr>\n",
       "    <tr>\n",
       "      <th>p13_pil8132</th>\n",
       "      <td>PIL8132</td>\n",
       "      <td>Number of days since the most recently opened ...</td>\n",
       "      <td>Age/Recency</td>\n",
       "      <td>[99999, 99998, 99996, 99994]</td>\n",
       "      <td>int</td>\n",
       "      <td>-1</td>\n",
       "      <td>4</td>\n",
       "    </tr>\n",
       "    <tr>\n",
       "      <th>t11_trev0722</th>\n",
       "      <td>NaN</td>\n",
       "      <td>Difference between Q1 (m00-m03) total average ...</td>\n",
       "      <td>Payment variance</td>\n",
       "      <td>[999999999, 999999998, 999999997, 999999996]</td>\n",
       "      <td>int</td>\n",
       "      <td>1</td>\n",
       "      <td>5</td>\n",
       "    </tr>\n",
       "  </tbody>\n",
       "</table>\n",
       "</div>"
      ],
      "text/plain": [
       "             description                                   long description  \\\n",
       "field_name                                                                    \n",
       "p13_iqf9540      IQF9540  Number of days since the most recent personal ...   \n",
       "p13_alj8120      ALJ8120  Number of months since the most recently opene...   \n",
       "t11_tmti2752         NaN  Total actual payment over the last 6 months on...   \n",
       "p13_pil8132      PIL8132  Number of days since the most recently opened ...   \n",
       "t11_trev0722         NaN  Difference between Q1 (m00-m03) total average ...   \n",
       "\n",
       "                            attr_grp  \\\n",
       "field_name                             \n",
       "p13_iqf9540   Public Records/Inquiry   \n",
       "p13_alj8120              Age/Recency   \n",
       "t11_tmti2752       Payment magnitude   \n",
       "p13_pil8132              Age/Recency   \n",
       "t11_trev0722        Payment variance   \n",
       "\n",
       "                                               categorical type  dir  rank  \n",
       "field_name                                                                  \n",
       "p13_iqf9540                                         [9999]  int   -1     1  \n",
       "p13_alj8120                       [9999, 9998, 9996, 9994]  int    1     2  \n",
       "t11_tmti2752  [999999999, 999999998, 999999997, 999999996]  int   -1     3  \n",
       "p13_pil8132                   [99999, 99998, 99996, 99994]  int   -1     4  \n",
       "t11_trev0722  [999999999, 999999998, 999999997, 999999996]  int    1     5  "
      ]
     },
     "execution_count": 92,
     "metadata": {},
     "output_type": "execute_result"
    }
   ],
   "source": [
    "feature_dict_v1.head()"
   ]
  },
  {
   "cell_type": "code",
   "execution_count": 59,
   "id": "0debde1e",
   "metadata": {},
   "outputs": [
    {
     "data": {
      "text/plain": [
       "(128, 7)"
      ]
     },
     "execution_count": 59,
     "metadata": {},
     "output_type": "execute_result"
    }
   ],
   "source": [
    "fd = pd.concat([feature_dict_v1,\n",
    "                feature_dict_v2,\n",
    "                cs_feature_dict_v1,\n",
    "                cs_feature_dict_v2\n",
    "                ], axis=0)\n",
    "fd.shape"
   ]
  },
  {
   "cell_type": "code",
   "execution_count": 99,
   "id": "d34a6395",
   "metadata": {},
   "outputs": [],
   "source": [
    "fts = fd.index.unique()\n",
    "data_dict = exp_dict[[\"field_name\",\n",
    "                      \"long description\", \"attr_grp\", \n",
    "                      \"categorical\", \"type\"]]"
   ]
  },
  {
   "cell_type": "code",
   "execution_count": 100,
   "id": "e169a361",
   "metadata": {},
   "outputs": [],
   "source": [
    "fd_present = pd.DataFrame(index=fts)\n",
    "fd_present = pd.merge(fd_present, feature_dict_v1[\"rank\"].rename(\"prescreen_combined_v1\"), left_index=True, right_index=True, how=\"left\")\n",
    "fd_present = pd.merge(fd_present, feature_dict_v2[\"rank\"].rename(\"prescreen_combined_v2\"), left_index=True, right_index=True, how=\"left\")\n",
    "fd_present = pd.merge(fd_present, cs_feature_dict_v1[\"rank\"].rename(\"credit_scoring_combined_v1\"), left_index=True, right_index=True, how=\"left\")\n",
    "fd_present = pd.merge(fd_present, cs_feature_dict_v2[\"rank\"].rename(\"credit_scoring_combined_v2\"), left_index=True, right_index=True, how=\"left\")\n",
    "fd_present = pd.merge(fd_present, data_dict, left_index=True, right_on=\"field_name\")"
   ]
  },
  {
   "cell_type": "code",
   "execution_count": 103,
   "id": "ca26eb10",
   "metadata": {},
   "outputs": [],
   "source": [
    "cols = [\"prescreen_combined_v1\", \"prescreen_combined_v2\",\n",
    "        \"credit_scoring_combined_v1\", \"credit_scoring_combined_v2\"]\n",
    "fd_present[\"-freq\"] = -(~fd_present.isna()).sum(axis=1)\n",
    "fd_present[\"mean\"] = fd_present[cols].mean(axis=1)\n",
    "fd_present[\"min\"] = fd_present[cols].min(axis=1)\n",
    "fd_present.sort_values([\"-freq\", \"min\"], inplace=True)\n",
    "\n",
    "cols = [\"field_name\", \"prescreen_combined_v1\", \"prescreen_combined_v2\",\n",
    "        \"credit_scoring_combined_v1\", \"credit_scoring_combined_v2\", \"long description\", \"attr_grp\", \n",
    "        \"categorical\", \"type\"]\n",
    "fd_present[cols].to_csv(\"./artifacts/models/benchmark-top-features-combined.csv\")"
   ]
  },
  {
   "cell_type": "code",
   "execution_count": 79,
   "id": "118ac90b",
   "metadata": {},
   "outputs": [],
   "source": []
  },
  {
   "cell_type": "code",
   "execution_count": null,
   "id": "52bbd0cd",
   "metadata": {},
   "outputs": [],
   "source": []
  }
 ],
 "metadata": {
  "kernelspec": {
   "display_name": "conda_pl_gen4",
   "language": "python",
   "name": "conda_pl_gen4"
  },
  "language_info": {
   "codemirror_mode": {
    "name": "ipython",
    "version": 3
   },
   "file_extension": ".py",
   "mimetype": "text/x-python",
   "name": "python",
   "nbconvert_exporter": "python",
   "pygments_lexer": "ipython3",
   "version": "3.7.10"
  }
 },
 "nbformat": 4,
 "nbformat_minor": 5
}
