{
 "cells": [
  {
   "cell_type": "code",
   "execution_count": 1,
   "id": "17100df3",
   "metadata": {},
   "outputs": [],
   "source": [
    "import sys, os, json, copy, sklearn, shap\n",
    "import pandas as pd\n",
    "import numpy as np\n",
    "import lightgbm as lgb\n",
    "import pickle as pkl\n",
    "from tqdm import tqdm\n",
    "from smart_open import open\n",
    "import matplotlib.pyplot as plt\n",
    "from rdsutils.metrics import get_pred_reports\n",
    "from rdsutils.woe import WOE_Transform\n",
    "\n",
    "from rdsutils.feature_selection import FeatureSelector as general_purpose_fsel\n",
    "from rdsutils.feature_selection import mrmr\n",
    "\n",
    "%load_ext autoreload\n",
    "%autoreload 2"
   ]
  },
  {
   "cell_type": "code",
   "execution_count": 2,
   "id": "64610478",
   "metadata": {},
   "outputs": [],
   "source": [
    "fl_path = \"/home/ec2-user/SageMaker/fair-lending-master/\"\n",
    "if fl_path not in sys.path:\n",
    "    sys.path.insert(1, fl_path)\n",
    "import fair_lending\n",
    "from fair_lending import DIAABase"
   ]
  },
  {
   "cell_type": "markdown",
   "id": "ea048770",
   "metadata": {},
   "source": [
    "## read data"
   ]
  },
  {
   "cell_type": "code",
   "execution_count": 3,
   "id": "44596c9f",
   "metadata": {},
   "outputs": [],
   "source": [
    "df_score = pd.read_parquet('s3://sofi-data-science/hpeng/pl-gen4/data_dump/cleaned_tables/uw/df_fl_v3.parquet')"
   ]
  },
  {
   "cell_type": "code",
   "execution_count": 4,
   "id": "3df8f2dc",
   "metadata": {},
   "outputs": [],
   "source": [
    "df_pii = pd.read_parquet(\"s3://sofi-data-science/jxu/pl-gen4/data_dump/pl-gen4-final-data/pii.parquet\")"
   ]
  },
  {
   "cell_type": "code",
   "execution_count": 5,
   "id": "09c8f4e0",
   "metadata": {},
   "outputs": [
    {
     "data": {
      "text/plain": [
       "((3219387, 15), (2552835, 10))"
      ]
     },
     "execution_count": 5,
     "metadata": {},
     "output_type": "execute_result"
    }
   ],
   "source": [
    "df_pii.shape, df_score.shape"
   ]
  },
  {
   "cell_type": "code",
   "execution_count": 6,
   "id": "63146c69",
   "metadata": {},
   "outputs": [
    {
     "data": {
      "text/html": [
       "<div>\n",
       "<style scoped>\n",
       "    .dataframe tbody tr th:only-of-type {\n",
       "        vertical-align: middle;\n",
       "    }\n",
       "\n",
       "    .dataframe tbody tr th {\n",
       "        vertical-align: top;\n",
       "    }\n",
       "\n",
       "    .dataframe thead th {\n",
       "        text-align: right;\n",
       "    }\n",
       "</style>\n",
       "<table border=\"1\" class=\"dataframe\">\n",
       "  <thead>\n",
       "    <tr style=\"text-align: right;\">\n",
       "      <th></th>\n",
       "      <th>id</th>\n",
       "      <th>applicant_type</th>\n",
       "      <th>date_start</th>\n",
       "      <th>seg</th>\n",
       "      <th>ri_source</th>\n",
       "      <th>target_v2</th>\n",
       "      <th>gen4_prescreen_score</th>\n",
       "      <th>gen4_underwriting_score</th>\n",
       "      <th>gen4_underwriting_score_29</th>\n",
       "      <th>gen4_underwriting_score_30</th>\n",
       "    </tr>\n",
       "  </thead>\n",
       "  <tbody>\n",
       "    <tr>\n",
       "      <th>0</th>\n",
       "      <td>4937215</td>\n",
       "      <td>PRIMARY</td>\n",
       "      <td>2017-10-20</td>\n",
       "      <td>member</td>\n",
       "      <td>others</td>\n",
       "      <td>0.0</td>\n",
       "      <td>678.0</td>\n",
       "      <td>679.0</td>\n",
       "      <td>679.0</td>\n",
       "      <td>679.0</td>\n",
       "    </tr>\n",
       "    <tr>\n",
       "      <th>2</th>\n",
       "      <td>4820420</td>\n",
       "      <td>PRIMARY</td>\n",
       "      <td>2017-10-08</td>\n",
       "      <td>member</td>\n",
       "      <td>proxy</td>\n",
       "      <td>0.0</td>\n",
       "      <td>683.0</td>\n",
       "      <td>720.0</td>\n",
       "      <td>720.0</td>\n",
       "      <td>720.0</td>\n",
       "    </tr>\n",
       "    <tr>\n",
       "      <th>3</th>\n",
       "      <td>4996279</td>\n",
       "      <td>PRIMARY</td>\n",
       "      <td>2017-10-27</td>\n",
       "      <td>member</td>\n",
       "      <td>proxy</td>\n",
       "      <td>0.0</td>\n",
       "      <td>683.0</td>\n",
       "      <td>721.0</td>\n",
       "      <td>721.0</td>\n",
       "      <td>721.0</td>\n",
       "    </tr>\n",
       "    <tr>\n",
       "      <th>4</th>\n",
       "      <td>4820856</td>\n",
       "      <td>PRIMARY</td>\n",
       "      <td>2017-10-08</td>\n",
       "      <td>member</td>\n",
       "      <td>proxy</td>\n",
       "      <td>0.0</td>\n",
       "      <td>683.0</td>\n",
       "      <td>720.0</td>\n",
       "      <td>720.0</td>\n",
       "      <td>720.0</td>\n",
       "    </tr>\n",
       "    <tr>\n",
       "      <th>5</th>\n",
       "      <td>4792136</td>\n",
       "      <td>PRIMARY</td>\n",
       "      <td>2017-10-05</td>\n",
       "      <td>member</td>\n",
       "      <td>booked</td>\n",
       "      <td>0.0</td>\n",
       "      <td>720.0</td>\n",
       "      <td>717.0</td>\n",
       "      <td>717.0</td>\n",
       "      <td>717.0</td>\n",
       "    </tr>\n",
       "  </tbody>\n",
       "</table>\n",
       "</div>"
      ],
      "text/plain": [
       "        id applicant_type date_start     seg ri_source  target_v2  \\\n",
       "0  4937215        PRIMARY 2017-10-20  member    others        0.0   \n",
       "2  4820420        PRIMARY 2017-10-08  member     proxy        0.0   \n",
       "3  4996279        PRIMARY 2017-10-27  member     proxy        0.0   \n",
       "4  4820856        PRIMARY 2017-10-08  member     proxy        0.0   \n",
       "5  4792136        PRIMARY 2017-10-05  member    booked        0.0   \n",
       "\n",
       "   gen4_prescreen_score  gen4_underwriting_score  gen4_underwriting_score_29  \\\n",
       "0                 678.0                    679.0                       679.0   \n",
       "2                 683.0                    720.0                       720.0   \n",
       "3                 683.0                    721.0                       721.0   \n",
       "4                 683.0                    720.0                       720.0   \n",
       "5                 720.0                    717.0                       717.0   \n",
       "\n",
       "   gen4_underwriting_score_30  \n",
       "0                       679.0  \n",
       "2                       720.0  \n",
       "3                       721.0  \n",
       "4                       720.0  \n",
       "5                       717.0  "
      ]
     },
     "execution_count": 6,
     "metadata": {},
     "output_type": "execute_result"
    }
   ],
   "source": [
    "df_score.head()"
   ]
  },
  {
   "cell_type": "code",
   "execution_count": 7,
   "id": "230b702d",
   "metadata": {},
   "outputs": [
    {
     "data": {
      "text/html": [
       "<div>\n",
       "<style scoped>\n",
       "    .dataframe tbody tr th:only-of-type {\n",
       "        vertical-align: middle;\n",
       "    }\n",
       "\n",
       "    .dataframe tbody tr th {\n",
       "        vertical-align: top;\n",
       "    }\n",
       "\n",
       "    .dataframe thead th {\n",
       "        text-align: right;\n",
       "    }\n",
       "</style>\n",
       "<table border=\"1\" class=\"dataframe\">\n",
       "  <thead>\n",
       "    <tr style=\"text-align: right;\">\n",
       "      <th></th>\n",
       "      <th>applicant_fico_score</th>\n",
       "      <th>applicant_type</th>\n",
       "      <th>applicant_vantage_score</th>\n",
       "      <th>date_start</th>\n",
       "      <th>gen3_score</th>\n",
       "      <th>id</th>\n",
       "      <th>period</th>\n",
       "      <th>ri_source</th>\n",
       "      <th>first</th>\n",
       "      <th>last</th>\n",
       "      <th>age</th>\n",
       "      <th>applied_zip</th>\n",
       "      <th>applied_city</th>\n",
       "      <th>applied_cbsa_name</th>\n",
       "      <th>applied_cbsa_code</th>\n",
       "    </tr>\n",
       "  </thead>\n",
       "  <tbody>\n",
       "    <tr>\n",
       "      <th>0</th>\n",
       "      <td>697.0</td>\n",
       "      <td>PRIMARY</td>\n",
       "      <td>675.0</td>\n",
       "      <td>2017-10-27</td>\n",
       "      <td>714.0</td>\n",
       "      <td>4997100</td>\n",
       "      <td>dev17</td>\n",
       "      <td>others</td>\n",
       "      <td>Joseph</td>\n",
       "      <td>Quintero</td>\n",
       "      <td>26.0</td>\n",
       "      <td>65757</td>\n",
       "      <td>STRAFFORD</td>\n",
       "      <td>Springfield, MO</td>\n",
       "      <td>44180</td>\n",
       "    </tr>\n",
       "    <tr>\n",
       "      <th>1</th>\n",
       "      <td>697.0</td>\n",
       "      <td>PRIMARY</td>\n",
       "      <td>675.0</td>\n",
       "      <td>2017-10-24</td>\n",
       "      <td>714.0</td>\n",
       "      <td>4970887</td>\n",
       "      <td>dev17</td>\n",
       "      <td>others</td>\n",
       "      <td>Joseph</td>\n",
       "      <td>Quintero</td>\n",
       "      <td>26.0</td>\n",
       "      <td>65757</td>\n",
       "      <td>STRAFFORD</td>\n",
       "      <td>Springfield, MO</td>\n",
       "      <td>44180</td>\n",
       "    </tr>\n",
       "    <tr>\n",
       "      <th>2</th>\n",
       "      <td>696.0</td>\n",
       "      <td>PRIMARY</td>\n",
       "      <td>660.0</td>\n",
       "      <td>2017-10-11</td>\n",
       "      <td>641.0</td>\n",
       "      <td>4848540</td>\n",
       "      <td>dev17</td>\n",
       "      <td>others</td>\n",
       "      <td>Dennis</td>\n",
       "      <td>Davidson</td>\n",
       "      <td>50.0</td>\n",
       "      <td>44188</td>\n",
       "      <td>Bellevue</td>\n",
       "      <td>Cleveland-Elyria OH Metro</td>\n",
       "      <td>17460</td>\n",
       "    </tr>\n",
       "    <tr>\n",
       "      <th>3</th>\n",
       "      <td>679.0</td>\n",
       "      <td>PRIMARY</td>\n",
       "      <td>633.0</td>\n",
       "      <td>2017-10-28</td>\n",
       "      <td>706.0</td>\n",
       "      <td>5003002</td>\n",
       "      <td>dev17</td>\n",
       "      <td>others</td>\n",
       "      <td>Amelia</td>\n",
       "      <td>Ramirez</td>\n",
       "      <td>46.0</td>\n",
       "      <td>77377</td>\n",
       "      <td>Tomball</td>\n",
       "      <td>Houston-The Woodlands-Sugar Land, TX</td>\n",
       "      <td>26420</td>\n",
       "    </tr>\n",
       "    <tr>\n",
       "      <th>4</th>\n",
       "      <td>597.0</td>\n",
       "      <td>PRIMARY</td>\n",
       "      <td>518.0</td>\n",
       "      <td>2017-10-09</td>\n",
       "      <td>594.0</td>\n",
       "      <td>4830862</td>\n",
       "      <td>dev17</td>\n",
       "      <td>others</td>\n",
       "      <td>Marcus</td>\n",
       "      <td>Thomas</td>\n",
       "      <td>30.0</td>\n",
       "      <td>38115</td>\n",
       "      <td>Memphis</td>\n",
       "      <td>Memphis, TN-MS-AR</td>\n",
       "      <td>32820</td>\n",
       "    </tr>\n",
       "  </tbody>\n",
       "</table>\n",
       "</div>"
      ],
      "text/plain": [
       "   applicant_fico_score applicant_type  applicant_vantage_score date_start  \\\n",
       "0                 697.0        PRIMARY                    675.0 2017-10-27   \n",
       "1                 697.0        PRIMARY                    675.0 2017-10-24   \n",
       "2                 696.0        PRIMARY                    660.0 2017-10-11   \n",
       "3                 679.0        PRIMARY                    633.0 2017-10-28   \n",
       "4                 597.0        PRIMARY                    518.0 2017-10-09   \n",
       "\n",
       "   gen3_score       id period ri_source   first      last   age applied_zip  \\\n",
       "0       714.0  4997100  dev17    others  Joseph  Quintero  26.0       65757   \n",
       "1       714.0  4970887  dev17    others  Joseph  Quintero  26.0       65757   \n",
       "2       641.0  4848540  dev17    others  Dennis  Davidson  50.0       44188   \n",
       "3       706.0  5003002  dev17    others  Amelia   Ramirez  46.0       77377   \n",
       "4       594.0  4830862  dev17    others  Marcus    Thomas  30.0       38115   \n",
       "\n",
       "  applied_city                     applied_cbsa_name applied_cbsa_code  \n",
       "0    STRAFFORD                       Springfield, MO             44180  \n",
       "1    STRAFFORD                       Springfield, MO             44180  \n",
       "2     Bellevue             Cleveland-Elyria OH Metro             17460  \n",
       "3      Tomball  Houston-The Woodlands-Sugar Land, TX             26420  \n",
       "4      Memphis                     Memphis, TN-MS-AR             32820  "
      ]
     },
     "execution_count": 7,
     "metadata": {},
     "output_type": "execute_result"
    }
   ],
   "source": [
    "df_pii.head()"
   ]
  },
  {
   "cell_type": "code",
   "execution_count": 8,
   "id": "179205b0",
   "metadata": {},
   "outputs": [],
   "source": [
    "df = pd.merge(df_score,df_pii, how ='left', on =['id','applicant_type','date_start','ri_source'])"
   ]
  },
  {
   "cell_type": "markdown",
   "id": "e8f9abdf",
   "metadata": {},
   "source": [
    "### Preprocess"
   ]
  },
  {
   "cell_type": "code",
   "execution_count": 9,
   "id": "3f15335b",
   "metadata": {},
   "outputs": [],
   "source": [
    "def preprocess(df, first_name_col, last_name_col, zip_col):\n",
    "    df[f\"{first_name_col}_clean\"]=df[first_name_col].str.split(expand=True)[0].str.capitalize()\n",
    "    \n",
    "    pattern = '|'.join(['-', ' Jr', ' III',\n",
    "                        ' II',' JR',' Sr',' De ',\n",
    "                        ' de ',' ll',' iii', \n",
    "                        ' ii',\" Iii\", \" B \"])\n",
    "    df[f'{last_name_col}_clean']=df[last_name_col].str.replace(pattern,\" \")\n",
    "    df[f'{last_name_col}_clean']=df[f'{last_name_col}_clean'].str.replace(\"'\",\"\")\n",
    "    \n",
    "    df[f'{last_name_col}_1'] = df[f'{last_name_col}_clean'].str.split(expand=True)[0]\n",
    "    df[f'{last_name_col}_2'] = df[f'{last_name_col}_clean'].str.split(expand=True)[1]\n",
    "\n",
    "    df[f'{last_name_col}_clean']=df[f'{last_name_col}_1']\n",
    "    idx = ~df[f'{last_name_col}_2'].isnull()\n",
    "    df.loc[idx, f'{last_name_col}_clean']=df[f'{last_name_col}_2']\n",
    "    df[f'{last_name_col}_clean']=df[f'{last_name_col}_clean'].str.capitalize()\n",
    "\n",
    "    print(\"columns appened: \", [f\"{first_name_col}_clean\", \n",
    "                                f'{last_name_col}_clean',\n",
    "                                f'{last_name_col}_1',\n",
    "                                f'{last_name_col}_2'])\n",
    "    return df"
   ]
  },
  {
   "cell_type": "code",
   "execution_count": 10,
   "id": "ed1fda8b",
   "metadata": {},
   "outputs": [
    {
     "data": {
      "text/plain": [
       "first          0.000000e+00\n",
       "last           0.000000e+00\n",
       "applied_zip    3.917214e-07\n",
       "age            3.917214e-07\n",
       "dtype: float64"
      ]
     },
     "metadata": {},
     "output_type": "display_data"
    }
   ],
   "source": [
    "key_cols = [\"id\", \"ri_source\", \"applicant_type\"]\n",
    "pii_cols = [\"first\", \"last\", \"applied_zip\", \"age\"]\n",
    "display(df[pii_cols].isna().mean())"
   ]
  },
  {
   "cell_type": "code",
   "execution_count": 11,
   "id": "e8a4aa64",
   "metadata": {},
   "outputs": [
    {
     "data": {
      "text/plain": [
       "first           object\n",
       "last            object\n",
       "applied_zip     object\n",
       "age            float64\n",
       "dtype: object"
      ]
     },
     "execution_count": 11,
     "metadata": {},
     "output_type": "execute_result"
    }
   ],
   "source": [
    "df[pii_cols].dtypes"
   ]
  },
  {
   "cell_type": "code",
   "execution_count": 12,
   "id": "0e6faf83",
   "metadata": {},
   "outputs": [
    {
     "name": "stdout",
     "output_type": "stream",
     "text": [
      "columns appened:  ['first_clean', 'last_clean', 'last_1', 'last_2']\n"
     ]
    },
    {
     "data": {
      "text/plain": [
       "(2552835, 25)"
      ]
     },
     "metadata": {},
     "output_type": "display_data"
    }
   ],
   "source": [
    "df = preprocess(df, \"first\", \"last\", \"applied_zip\")\n",
    "display(df.shape)"
   ]
  },
  {
   "cell_type": "markdown",
   "id": "4a923744",
   "metadata": {},
   "source": [
    "##### Dedup Logic\n",
    "\n",
    "* Drop duplicates by the following logic:\n",
    "    * based on pii_cols and model features\n",
    "        * `['first', 'last', 'applied_zip', 'age']`\n",
    "    * sort by `date_start` and keep the most recent\n",
    "\n",
    "* Properties\n",
    "    * user may appear multiple times if his/her attributes have changed.\n",
    "    * other than that, each user should only appear once."
   ]
  },
  {
   "cell_type": "code",
   "execution_count": 14,
   "id": "5401dbbc",
   "metadata": {},
   "outputs": [
    {
     "data": {
      "text/plain": [
       "6"
      ]
     },
     "metadata": {},
     "output_type": "display_data"
    },
    {
     "name": "stdout",
     "output_type": "stream",
     "text": [
      "(2441398, 25)\n"
     ]
    }
   ],
   "source": [
    "dup_cols = list(set(['gen4_prescreen_score','gen4_underwriting_score_29'] + pii_cols))\n",
    "display(len(dup_cols))\n",
    "\n",
    "df.sort_values(\"date_start\", inplace=True, ascending=True)\n",
    "df = df.drop_duplicates(dup_cols, keep=\"last\")\n",
    "print(df.shape)"
   ]
  },
  {
   "cell_type": "code",
   "execution_count": 15,
   "id": "cddbedb9",
   "metadata": {},
   "outputs": [],
   "source": [
    "class LightGBMDIAA(DIAABase):\n",
    "    \n",
    "    def __init__(self, *args, **kwargs):\n",
    "        DIAABase.__init__(self, *args, **kwargs)\n",
    "        \n",
    "    def train(self, df, features, model_params, context):\n",
    "        \"\"\"\n",
    "        DIAABase.train_lgb_example\n",
    "        \"\"\"\n",
    "        raise NotImplemented\n",
    "        \n",
    "# final_features = model.feature_name_.copy()\n",
    "# final_params = model.get_params()\n",
    "\n",
    "#         train_df = context[\"train_df\"]\n",
    "#         test_df = context[\"test_df\"]\n",
    "#         print(i_features)\n",
    "#         params_ = copy.deepcopy(i_params)\n",
    "        \n",
    "#         mc_constraints = [monotone_dict[ft] for ft in features]\n",
    "#         params_['monotone_constraints'] = mc_constraints\n",
    "        \n",
    "#         clf = lgb.LGBMClassifier(**params_)\n",
    "#         clf.fit(train_df[i_features], train_df[\"target\"])\n",
    "        \n",
    "#         test_df[\"pred_lgbm\"] = clf.predict_proba(test_df[i_features])[:,1]  # test_data\n",
    "#         df[\"pred_lgbm\"] = clf.predict_proba(df[i_features])[:,1]  # df with fairness info\n",
    "        \n",
    "        # save model to directory\n",
    "#         self.save_model(clf)\n",
    "        \n",
    "#         auc = round(roc_auc_score(y_true=test_df[\"target\"],\n",
    "#                                   y_score=test_df[\"pred_lgbm\"])*100, 2)\n",
    "        \n",
    "        return df[\"pred_lgbm\"], auc"
   ]
  },
  {
   "cell_type": "code",
   "execution_count": 16,
   "id": "3f0d9544",
   "metadata": {},
   "outputs": [
    {
     "name": "stdout",
     "output_type": "stream",
     "text": [
      "Demographic data processed, containing dict_keys(['us_census', 'first_names', 'last_names_races', 'dem_pcts'])\n",
      "missing rate for zip5 match: 0.00705\n",
      "missing rate for first name match: 0.0473\n",
      "missing rate for last name match: 0.10011\n"
     ]
    }
   ],
   "source": [
    "FL = LightGBMDIAA(df, \"first_clean\", \"last_clean\", \"applied_zip\")"
   ]
  },
  {
   "cell_type": "code",
   "execution_count": 17,
   "id": "c01646d1",
   "metadata": {},
   "outputs": [],
   "source": [
    "fdf = FL.get_combined_df()"
   ]
  },
  {
   "cell_type": "code",
   "execution_count": 18,
   "id": "ade1261e",
   "metadata": {},
   "outputs": [
    {
     "data": {
      "text/plain": [
       "first     last        ri_source\n",
       "Stacy     Mcfadden    others       16\n",
       "Stephen   Robson      proxy        11\n",
       "Samantha  Munsterman  others       10\n",
       "Ivanna    Strook      others        8\n",
       "Vikram    Gandikota   others        8\n",
       "dtype: int64"
      ]
     },
     "execution_count": 18,
     "metadata": {},
     "output_type": "execute_result"
    }
   ],
   "source": [
    "fdf[fdf._PCT_BLACK.isna()][[\"first\", \"last\", \"ri_source\"]].value_counts().head()"
   ]
  },
  {
   "cell_type": "code",
   "execution_count": 19,
   "id": "51e608d5",
   "metadata": {},
   "outputs": [],
   "source": [
    "def _color_red_or_green(val):\n",
    "    if isinstance(val, str):\n",
    "        color = 'red' if val != \"Passed\" else \"green\"\n",
    "    elif isinstance(val, float):\n",
    "        color = 'red' if val < -0.3 else 'green'\n",
    "    return 'background-color: %s' % color\n",
    "\n",
    "# df.style.applymap(_color_red_or_green)"
   ]
  },
  {
   "cell_type": "code",
   "execution_count": 20,
   "id": "41f87006",
   "metadata": {},
   "outputs": [],
   "source": [
    "def scale_prescreen_scores(pred):\n",
    "    \"\"\"\n",
    "    Convert probability to score.\n",
    "    \"\"\"\n",
    "    try:\n",
    "        assert (\n",
    "            (pred >= 0) & (pred <= 1)\n",
    "        ).all(), \"probability must be in range [0,1]\"\n",
    "    except AssertionError:\n",
    "        raise\n",
    "\n",
    "    # Formula parameters\n",
    "    factor = 40/np.log(2)\n",
    "    offset = 650 - factor * np.log(5)\n",
    "\n",
    "    # Minimum and maximum values for validation\n",
    "    MINIMUM = 300\n",
    "    MAXIMUM = 850\n",
    "\n",
    "    score = np.minimum(\n",
    "        np.maximum(np.log(pred / (1 - pred)) * factor + offset, MINIMUM),\n",
    "        MAXIMUM,\n",
    "    )\n",
    "\n",
    "    return score"
   ]
  },
  {
   "cell_type": "code",
   "execution_count": 21,
   "id": "8258eeca",
   "metadata": {},
   "outputs": [
    {
     "name": "stdout",
     "output_type": "stream",
     "text": [
      "(1895407, 25)\n",
      "Demographic data processed, containing dict_keys(['us_census', 'first_names', 'last_names_races', 'dem_pcts'])\n",
      "missing rate for zip5 match: 0.00676\n",
      "missing rate for first name match: 0.04586\n",
      "missing rate for last name match: 0.10572\n",
      "\n",
      "            NOTE: this implementation assumes higher score indicates lower risk\n",
      "            i.e. same direction as fico\n",
      "            if your model prediction/score predict 'badness' of data\n",
      "            - higher score indicates higher risk, \n",
      "            please invert/flip the score to achieve intended result.\n",
      "            e.g. scale_score(1-pred)\n",
      "            \n"
     ]
    },
    {
     "data": {
      "text/html": [
       "<style  type=\"text/css\" >\n",
       "#T_f11bc2e2_b4a0_11ec_9a2d_0288449927d1row0_col2,#T_f11bc2e2_b4a0_11ec_9a2d_0288449927d1row0_col3,#T_f11bc2e2_b4a0_11ec_9a2d_0288449927d1row1_col2,#T_f11bc2e2_b4a0_11ec_9a2d_0288449927d1row1_col3,#T_f11bc2e2_b4a0_11ec_9a2d_0288449927d1row2_col2,#T_f11bc2e2_b4a0_11ec_9a2d_0288449927d1row2_col3,#T_f11bc2e2_b4a0_11ec_9a2d_0288449927d1row3_col2,#T_f11bc2e2_b4a0_11ec_9a2d_0288449927d1row3_col3,#T_f11bc2e2_b4a0_11ec_9a2d_0288449927d1row4_col2,#T_f11bc2e2_b4a0_11ec_9a2d_0288449927d1row4_col3,#T_f11bc2e2_b4a0_11ec_9a2d_0288449927d1row5_col2,#T_f11bc2e2_b4a0_11ec_9a2d_0288449927d1row5_col3,#T_f11bc2e2_b4a0_11ec_9a2d_0288449927d1row6_col2,#T_f11bc2e2_b4a0_11ec_9a2d_0288449927d1row6_col3{\n",
       "            background-color:  green;\n",
       "        }</style><table id=\"T_f11bc2e2_b4a0_11ec_9a2d_0288449927d1\" ><thead>    <tr>        <th class=\"blank level0\" ></th>        <th class=\"col_heading level0 col0\" >t-test</th>        <th class=\"col_heading level0 col1\" >p-value</th>        <th class=\"col_heading level0 col2\" >SMD</th>        <th class=\"col_heading level0 col3\" >test result</th>    </tr></thead><tbody>\n",
       "                <tr>\n",
       "                        <th id=\"T_f11bc2e2_b4a0_11ec_9a2d_0288449927d1level0_row0\" class=\"row_heading level0 row0\" >senior</th>\n",
       "                        <td id=\"T_f11bc2e2_b4a0_11ec_9a2d_0288449927d1row0_col0\" class=\"data row0 col0\" >51.146778</td>\n",
       "                        <td id=\"T_f11bc2e2_b4a0_11ec_9a2d_0288449927d1row0_col1\" class=\"data row0 col1\" >0.000000</td>\n",
       "                        <td id=\"T_f11bc2e2_b4a0_11ec_9a2d_0288449927d1row0_col2\" class=\"data row0 col2\" >0.142628</td>\n",
       "                        <td id=\"T_f11bc2e2_b4a0_11ec_9a2d_0288449927d1row0_col3\" class=\"data row0 col3\" >Passed</td>\n",
       "            </tr>\n",
       "            <tr>\n",
       "                        <th id=\"T_f11bc2e2_b4a0_11ec_9a2d_0288449927d1level0_row1\" class=\"row_heading level0 row1\" >female</th>\n",
       "                        <td id=\"T_f11bc2e2_b4a0_11ec_9a2d_0288449927d1row1_col0\" class=\"data row1 col0\" >-57.602691</td>\n",
       "                        <td id=\"T_f11bc2e2_b4a0_11ec_9a2d_0288449927d1row1_col1\" class=\"data row1 col1\" >0.000000</td>\n",
       "                        <td id=\"T_f11bc2e2_b4a0_11ec_9a2d_0288449927d1row1_col2\" class=\"data row1 col2\" >-0.089106</td>\n",
       "                        <td id=\"T_f11bc2e2_b4a0_11ec_9a2d_0288449927d1row1_col3\" class=\"data row1 col3\" >Passed</td>\n",
       "            </tr>\n",
       "            <tr>\n",
       "                        <th id=\"T_f11bc2e2_b4a0_11ec_9a2d_0288449927d1level0_row2\" class=\"row_heading level0 row2\" >black</th>\n",
       "                        <td id=\"T_f11bc2e2_b4a0_11ec_9a2d_0288449927d1row2_col0\" class=\"data row2 col0\" >-103.930072</td>\n",
       "                        <td id=\"T_f11bc2e2_b4a0_11ec_9a2d_0288449927d1row2_col1\" class=\"data row2 col1\" >0.000000</td>\n",
       "                        <td id=\"T_f11bc2e2_b4a0_11ec_9a2d_0288449927d1row2_col2\" class=\"data row2 col2\" >-0.234538</td>\n",
       "                        <td id=\"T_f11bc2e2_b4a0_11ec_9a2d_0288449927d1row2_col3\" class=\"data row2 col3\" >Passed</td>\n",
       "            </tr>\n",
       "            <tr>\n",
       "                        <th id=\"T_f11bc2e2_b4a0_11ec_9a2d_0288449927d1level0_row3\" class=\"row_heading level0 row3\" >hispanic</th>\n",
       "                        <td id=\"T_f11bc2e2_b4a0_11ec_9a2d_0288449927d1row3_col0\" class=\"data row3 col0\" >-130.207255</td>\n",
       "                        <td id=\"T_f11bc2e2_b4a0_11ec_9a2d_0288449927d1row3_col1\" class=\"data row3 col1\" >0.000000</td>\n",
       "                        <td id=\"T_f11bc2e2_b4a0_11ec_9a2d_0288449927d1row3_col2\" class=\"data row3 col2\" >-0.284356</td>\n",
       "                        <td id=\"T_f11bc2e2_b4a0_11ec_9a2d_0288449927d1row3_col3\" class=\"data row3 col3\" >Passed</td>\n",
       "            </tr>\n",
       "            <tr>\n",
       "                        <th id=\"T_f11bc2e2_b4a0_11ec_9a2d_0288449927d1level0_row4\" class=\"row_heading level0 row4\" >asian_pi</th>\n",
       "                        <td id=\"T_f11bc2e2_b4a0_11ec_9a2d_0288449927d1row4_col0\" class=\"data row4 col0\" >-1.033258</td>\n",
       "                        <td id=\"T_f11bc2e2_b4a0_11ec_9a2d_0288449927d1row4_col1\" class=\"data row4 col1\" >0.301483</td>\n",
       "                        <td id=\"T_f11bc2e2_b4a0_11ec_9a2d_0288449927d1row4_col2\" class=\"data row4 col2\" >-0.065849</td>\n",
       "                        <td id=\"T_f11bc2e2_b4a0_11ec_9a2d_0288449927d1row4_col3\" class=\"data row4 col3\" >Passed</td>\n",
       "            </tr>\n",
       "            <tr>\n",
       "                        <th id=\"T_f11bc2e2_b4a0_11ec_9a2d_0288449927d1level0_row5\" class=\"row_heading level0 row5\" >ai_an</th>\n",
       "                        <td id=\"T_f11bc2e2_b4a0_11ec_9a2d_0288449927d1row5_col0\" class=\"data row5 col0\" >-16.664186</td>\n",
       "                        <td id=\"T_f11bc2e2_b4a0_11ec_9a2d_0288449927d1row5_col1\" class=\"data row5 col1\" >0.000000</td>\n",
       "                        <td id=\"T_f11bc2e2_b4a0_11ec_9a2d_0288449927d1row5_col2\" class=\"data row5 col2\" >-0.177250</td>\n",
       "                        <td id=\"T_f11bc2e2_b4a0_11ec_9a2d_0288449927d1row5_col3\" class=\"data row5 col3\" >Passed</td>\n",
       "            </tr>\n",
       "            <tr>\n",
       "                        <th id=\"T_f11bc2e2_b4a0_11ec_9a2d_0288449927d1level0_row6\" class=\"row_heading level0 row6\" >o_2race</th>\n",
       "                        <td id=\"T_f11bc2e2_b4a0_11ec_9a2d_0288449927d1row6_col0\" class=\"data row6 col0\" >-5.780900</td>\n",
       "                        <td id=\"T_f11bc2e2_b4a0_11ec_9a2d_0288449927d1row6_col1\" class=\"data row6 col1\" >0.000000</td>\n",
       "                        <td id=\"T_f11bc2e2_b4a0_11ec_9a2d_0288449927d1row6_col2\" class=\"data row6 col2\" >-0.078279</td>\n",
       "                        <td id=\"T_f11bc2e2_b4a0_11ec_9a2d_0288449927d1row6_col3\" class=\"data row6 col3\" >Passed</td>\n",
       "            </tr>\n",
       "    </tbody></table>"
      ],
      "text/plain": [
       "<pandas.io.formats.style.Styler at 0x7f90e3e12a20>"
      ]
     },
     "execution_count": 21,
     "metadata": {},
     "output_type": "execute_result"
    }
   ],
   "source": [
    "df_640 = df[df.applicant_fico_score >= 640]\n",
    "print(df_640.shape)\n",
    "FL640 = LightGBMDIAA(df_640, \"first_clean\", \"last_clean\", \"applied_zip\")\n",
    "fdf = FL640.get_combined_df()\n",
    "\n",
    "stats = FL640.get_stats(\"no_cutoff\", \"gen4_prescreen_score\", age_col=\"age\")\n",
    "stats.style.applymap(_color_red_or_green, subset=[\"SMD\", \"test result\"])"
   ]
  },
  {
   "cell_type": "code",
   "execution_count": 22,
   "id": "c2e9a5bb",
   "metadata": {},
   "outputs": [
    {
     "name": "stdout",
     "output_type": "stream",
     "text": [
      "(1895407, 25)\n",
      "Demographic data processed, containing dict_keys(['us_census', 'first_names', 'last_names_races', 'dem_pcts'])\n",
      "missing rate for zip5 match: 0.00676\n",
      "missing rate for first name match: 0.04586\n",
      "missing rate for last name match: 0.10572\n",
      "\n",
      "            NOTE: this implementation assumes higher score indicates lower risk\n",
      "            i.e. same direction as fico\n",
      "            if your model prediction/score predict 'badness' of data\n",
      "            - higher score indicates higher risk, \n",
      "            please invert/flip the score to achieve intended result.\n",
      "            e.g. scale_score(1-pred)\n",
      "            \n"
     ]
    },
    {
     "data": {
      "text/html": [
       "<style  type=\"text/css\" >\n",
       "#T_09f6d216_b4a1_11ec_9a2d_0288449927d1row0_col2,#T_09f6d216_b4a1_11ec_9a2d_0288449927d1row0_col3,#T_09f6d216_b4a1_11ec_9a2d_0288449927d1row1_col2,#T_09f6d216_b4a1_11ec_9a2d_0288449927d1row1_col3,#T_09f6d216_b4a1_11ec_9a2d_0288449927d1row2_col2,#T_09f6d216_b4a1_11ec_9a2d_0288449927d1row2_col3,#T_09f6d216_b4a1_11ec_9a2d_0288449927d1row3_col2,#T_09f6d216_b4a1_11ec_9a2d_0288449927d1row3_col3,#T_09f6d216_b4a1_11ec_9a2d_0288449927d1row4_col2,#T_09f6d216_b4a1_11ec_9a2d_0288449927d1row4_col3,#T_09f6d216_b4a1_11ec_9a2d_0288449927d1row5_col2,#T_09f6d216_b4a1_11ec_9a2d_0288449927d1row5_col3,#T_09f6d216_b4a1_11ec_9a2d_0288449927d1row6_col2,#T_09f6d216_b4a1_11ec_9a2d_0288449927d1row6_col3{\n",
       "            background-color:  green;\n",
       "        }</style><table id=\"T_09f6d216_b4a1_11ec_9a2d_0288449927d1\" ><thead>    <tr>        <th class=\"blank level0\" ></th>        <th class=\"col_heading level0 col0\" >t-test</th>        <th class=\"col_heading level0 col1\" >p-value</th>        <th class=\"col_heading level0 col2\" >SMD</th>        <th class=\"col_heading level0 col3\" >test result</th>    </tr></thead><tbody>\n",
       "                <tr>\n",
       "                        <th id=\"T_09f6d216_b4a1_11ec_9a2d_0288449927d1level0_row0\" class=\"row_heading level0 row0\" >senior</th>\n",
       "                        <td id=\"T_09f6d216_b4a1_11ec_9a2d_0288449927d1row0_col0\" class=\"data row0 col0\" >36.344427</td>\n",
       "                        <td id=\"T_09f6d216_b4a1_11ec_9a2d_0288449927d1row0_col1\" class=\"data row0 col1\" >0.000000</td>\n",
       "                        <td id=\"T_09f6d216_b4a1_11ec_9a2d_0288449927d1row0_col2\" class=\"data row0 col2\" >0.101385</td>\n",
       "                        <td id=\"T_09f6d216_b4a1_11ec_9a2d_0288449927d1row0_col3\" class=\"data row0 col3\" >Passed</td>\n",
       "            </tr>\n",
       "            <tr>\n",
       "                        <th id=\"T_09f6d216_b4a1_11ec_9a2d_0288449927d1level0_row1\" class=\"row_heading level0 row1\" >female</th>\n",
       "                        <td id=\"T_09f6d216_b4a1_11ec_9a2d_0288449927d1row1_col0\" class=\"data row1 col0\" >-83.653757</td>\n",
       "                        <td id=\"T_09f6d216_b4a1_11ec_9a2d_0288449927d1row1_col1\" class=\"data row1 col1\" >0.000000</td>\n",
       "                        <td id=\"T_09f6d216_b4a1_11ec_9a2d_0288449927d1row1_col2\" class=\"data row1 col2\" >-0.129289</td>\n",
       "                        <td id=\"T_09f6d216_b4a1_11ec_9a2d_0288449927d1row1_col3\" class=\"data row1 col3\" >Passed</td>\n",
       "            </tr>\n",
       "            <tr>\n",
       "                        <th id=\"T_09f6d216_b4a1_11ec_9a2d_0288449927d1level0_row2\" class=\"row_heading level0 row2\" >black</th>\n",
       "                        <td id=\"T_09f6d216_b4a1_11ec_9a2d_0288449927d1row2_col0\" class=\"data row2 col0\" >-100.299677</td>\n",
       "                        <td id=\"T_09f6d216_b4a1_11ec_9a2d_0288449927d1row2_col1\" class=\"data row2 col1\" >0.000000</td>\n",
       "                        <td id=\"T_09f6d216_b4a1_11ec_9a2d_0288449927d1row2_col2\" class=\"data row2 col2\" >-0.224622</td>\n",
       "                        <td id=\"T_09f6d216_b4a1_11ec_9a2d_0288449927d1row2_col3\" class=\"data row2 col3\" >Passed</td>\n",
       "            </tr>\n",
       "            <tr>\n",
       "                        <th id=\"T_09f6d216_b4a1_11ec_9a2d_0288449927d1level0_row3\" class=\"row_heading level0 row3\" >hispanic</th>\n",
       "                        <td id=\"T_09f6d216_b4a1_11ec_9a2d_0288449927d1row3_col0\" class=\"data row3 col0\" >-128.791860</td>\n",
       "                        <td id=\"T_09f6d216_b4a1_11ec_9a2d_0288449927d1row3_col1\" class=\"data row3 col1\" >0.000000</td>\n",
       "                        <td id=\"T_09f6d216_b4a1_11ec_9a2d_0288449927d1row3_col2\" class=\"data row3 col2\" >-0.277374</td>\n",
       "                        <td id=\"T_09f6d216_b4a1_11ec_9a2d_0288449927d1row3_col3\" class=\"data row3 col3\" >Passed</td>\n",
       "            </tr>\n",
       "            <tr>\n",
       "                        <th id=\"T_09f6d216_b4a1_11ec_9a2d_0288449927d1level0_row4\" class=\"row_heading level0 row4\" >asian_pi</th>\n",
       "                        <td id=\"T_09f6d216_b4a1_11ec_9a2d_0288449927d1row4_col0\" class=\"data row4 col0\" >0.235186</td>\n",
       "                        <td id=\"T_09f6d216_b4a1_11ec_9a2d_0288449927d1row4_col1\" class=\"data row4 col1\" >0.814064</td>\n",
       "                        <td id=\"T_09f6d216_b4a1_11ec_9a2d_0288449927d1row4_col2\" class=\"data row4 col2\" >-0.054296</td>\n",
       "                        <td id=\"T_09f6d216_b4a1_11ec_9a2d_0288449927d1row4_col3\" class=\"data row4 col3\" >Passed</td>\n",
       "            </tr>\n",
       "            <tr>\n",
       "                        <th id=\"T_09f6d216_b4a1_11ec_9a2d_0288449927d1level0_row5\" class=\"row_heading level0 row5\" >ai_an</th>\n",
       "                        <td id=\"T_09f6d216_b4a1_11ec_9a2d_0288449927d1row5_col0\" class=\"data row5 col0\" >-16.706967</td>\n",
       "                        <td id=\"T_09f6d216_b4a1_11ec_9a2d_0288449927d1row5_col1\" class=\"data row5 col1\" >0.000000</td>\n",
       "                        <td id=\"T_09f6d216_b4a1_11ec_9a2d_0288449927d1row5_col2\" class=\"data row5 col2\" >-0.186182</td>\n",
       "                        <td id=\"T_09f6d216_b4a1_11ec_9a2d_0288449927d1row5_col3\" class=\"data row5 col3\" >Passed</td>\n",
       "            </tr>\n",
       "            <tr>\n",
       "                        <th id=\"T_09f6d216_b4a1_11ec_9a2d_0288449927d1level0_row6\" class=\"row_heading level0 row6\" >o_2race</th>\n",
       "                        <td id=\"T_09f6d216_b4a1_11ec_9a2d_0288449927d1row6_col0\" class=\"data row6 col0\" >-7.106230</td>\n",
       "                        <td id=\"T_09f6d216_b4a1_11ec_9a2d_0288449927d1row6_col1\" class=\"data row6 col1\" >0.000000</td>\n",
       "                        <td id=\"T_09f6d216_b4a1_11ec_9a2d_0288449927d1row6_col2\" class=\"data row6 col2\" >-0.069888</td>\n",
       "                        <td id=\"T_09f6d216_b4a1_11ec_9a2d_0288449927d1row6_col3\" class=\"data row6 col3\" >Passed</td>\n",
       "            </tr>\n",
       "    </tbody></table>"
      ],
      "text/plain": [
       "<pandas.io.formats.style.Styler at 0x7f90e3e22e10>"
      ]
     },
     "execution_count": 22,
     "metadata": {},
     "output_type": "execute_result"
    }
   ],
   "source": [
    "df_640 = df[df.applicant_fico_score >= 640]\n",
    "print(df_640.shape)\n",
    "FL640 = LightGBMDIAA(df_640, \"first_clean\", \"last_clean\", \"applied_zip\")\n",
    "fdf = FL640.get_combined_df()\n",
    "\n",
    "stats = FL640.get_stats(\"no_cutoff\", \"gen4_underwriting_score_29\", age_col=\"age\")\n",
    "stats.style.applymap(_color_red_or_green, subset=[\"SMD\", \"test result\"])"
   ]
  },
  {
   "cell_type": "code",
   "execution_count": null,
   "id": "5145ff83",
   "metadata": {},
   "outputs": [],
   "source": []
  },
  {
   "cell_type": "code",
   "execution_count": null,
   "id": "3b6ea54e",
   "metadata": {},
   "outputs": [],
   "source": []
  }
 ],
 "metadata": {
  "kernelspec": {
   "display_name": "conda_python3",
   "language": "python",
   "name": "conda_python3"
  },
  "language_info": {
   "codemirror_mode": {
    "name": "ipython",
    "version": 3
   },
   "file_extension": ".py",
   "mimetype": "text/x-python",
   "name": "python",
   "nbconvert_exporter": "python",
   "pygments_lexer": "ipython3",
   "version": "3.6.13"
  }
 },
 "nbformat": 4,
 "nbformat_minor": 5
}
