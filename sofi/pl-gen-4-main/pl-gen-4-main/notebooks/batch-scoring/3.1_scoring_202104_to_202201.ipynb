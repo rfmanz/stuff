{
 "cells": [
  {
   "cell_type": "code",
   "execution_count": 1,
   "id": "e2ad3777",
   "metadata": {},
   "outputs": [
    {
     "name": "stdout",
     "output_type": "stream",
     "text": [
      "3.2.1\n"
     ]
    }
   ],
   "source": [
    "import sys, os, json, copy, sklearn, shap, gc, joblib, copy, time, ast\n",
    "import pandas as pd\n",
    "import numpy as np\n",
    "import lightgbm as lgb\n",
    "from lightgbm import LGBMClassifier\n",
    "import pickle as pkl\n",
    "from tqdm import tqdm\n",
    "from smart_open import open\n",
    "import seaborn as sns\n",
    "from sklearn.metrics import roc_curve,roc_auc_score, precision_score, recall_score, accuracy_score, confusion_matrix\n",
    "import matplotlib.pyplot as plt\n",
    "from rdsutils.woe import WOE_Transform                                            \n",
    "from rdsutils.metrics import get_pred_reports\n",
    "from sqlalchemy import create_engine\n",
    "\n",
    "import mdsutils\n",
    "\n",
    "pd.set_option('display.max_columns', 20)\n",
    "pd.set_option('display.width', 500)\n",
    "pd.set_option('display.max_colwidth', None)\n",
    "\n",
    "%load_ext autoreload\n",
    "%autoreload 2\n",
    "\n",
    "print(lgb.__version__)"
   ]
  },
  {
   "cell_type": "code",
   "execution_count": 2,
   "id": "c2a119d0",
   "metadata": {},
   "outputs": [],
   "source": [
    "config_path = \"s3://sofi-data-science/hpeng/pl-gen4/artifact/config.json\"\n",
    "with open(os.path.join(config_path), \"r\") as f:\n",
    "    config = json.load(f)"
   ]
  },
  {
   "cell_type": "code",
   "execution_count": 3,
   "id": "0a4249a8",
   "metadata": {},
   "outputs": [
    {
     "name": "stderr",
     "output_type": "stream",
     "text": [
      "Trying to unpickle estimator LabelEncoder from version 0.24.1 when using version 1.0.1. This might lead to breaking code or invalid results. Use at your own risk. For more info please refer to:\n",
      "https://scikit-learn.org/stable/modules/model_persistence.html#security-maintainability-limitations\n"
     ]
    }
   ],
   "source": [
    "model_member = pkl.load(open('../../models/'+'member'+'_final.pkl', 'rb'))\n",
    "model_non_member = pkl.load(open('../../models/'+'non_member'+'_final.pkl', 'rb'))\n",
    "model_non_member29 = pkl.load(open('../../models/'+'non_member'+'_final_29.pkl', 'rb')) # refitted model\n",
    "model_prescreen = pkl.load(open('../../models/'+'prescreen'+'_final.pkl', 'rb'))"
   ]
  },
  {
   "cell_type": "code",
   "execution_count": 4,
   "id": "204a408a",
   "metadata": {},
   "outputs": [],
   "source": [
    "feature_list = model_prescreen.feature_name_ + model_member.feature_name_ + model_non_member.feature_name_  \\\n",
    "            + config[\"data_columns\"][\"benchmark_cols\"] + \\\n",
    "            config[\"data_columns\"][\"meta_cols\"] + ['all_time_lending_member_flag'] + ['income_update']\n",
    "feature_list = pd.unique(feature_list).tolist()"
   ]
  },
  {
   "cell_type": "code",
   "execution_count": 5,
   "id": "b1696d15",
   "metadata": {},
   "outputs": [],
   "source": [
    "base_list = ['all_time_lending_member_flag',\n",
    " 'all_time_months_oldest_pl_trade',\n",
    " 'applicant_fico_score',\n",
    " 'applicant_type',\n",
    " 'applicant_vantage_score',\n",
    " 'current_pl_trade_bal_ratio',\n",
    " 'date_start',\n",
    " 'id',\n",
    " 'income_update']\n",
    "pre_list = [\n",
    "    'loan_info',\n",
    "    'applicant_type',\n",
    "    'p13_all2919',\n",
    " 'p13_all5320',\n",
    " 'p13_all7110',\n",
    " 'p13_all7312',\n",
    " 'p13_all7518',\n",
    " 'p13_all7519',\n",
    " 'p13_all7936',\n",
    " 'p13_all8352',\n",
    " 'p13_all8800',\n",
    " 'p13_aut8140',\n",
    " 'p13_bca7600',\n",
    " 'p13_bca8370',\n",
    " 'p13_bcc5227',\n",
    " 'p13_bcc5520',\n",
    " 'p13_bcc7580',\n",
    " 'p13_bcc8322',\n",
    " 'p13_bcx7110',\n",
    " 'p13_brc7150',\n",
    " 'p13_cru1300',\n",
    " 'p13_cru8320',\n",
    " 'p13_iln8222',\n",
    " 'p13_iqb9740',\n",
    " 'p13_iqf9540',\n",
    " 'p13_iqt9510',\n",
    " 'p13_iqz9420',\n",
    " 'p13_iqz9425',\n",
    " 'p13_iqz9426',\n",
    " 'p13_iqz9427',\n",
    " 'p13_mtf8111',\n",
    " 'p13_pil8320',\n",
    " 'p13_reh7120',\n",
    " 'p13_rta7300',\n",
    " 'p13_rtr5520',\n",
    " 'p13_upl0438',\n",
    " 'p13_upl8132',\n",
    " 'p13_upl8320',\n",
    " 'p13_all5840',\n",
    " 'p13_mtf5838']\n",
    "pre_list2 = [\n",
    "    'id',\n",
    "    'applicant_type',\n",
    "    'p13_all2919',\n",
    " 'p13_all5320',\n",
    " 'p13_all7110',\n",
    " 'p13_all7312',\n",
    " 'p13_all7518',\n",
    " 'p13_all7519',\n",
    " 'p13_all7936',\n",
    " 'p13_all8352',\n",
    " 'p13_all8800',\n",
    " 'p13_aut8140',\n",
    " 'p13_bca7600',\n",
    " 'p13_bca8370',\n",
    " 'p13_bcc5227',\n",
    " 'p13_bcc5520',\n",
    " 'p13_bcc7580',\n",
    " 'p13_bcc8322',\n",
    " 'p13_bcx7110',\n",
    " 'p13_brc7150',\n",
    " 'p13_cru1300',\n",
    " 'p13_cru8320',\n",
    " 'p13_iln8222',\n",
    " 'p13_iqb9740',\n",
    " 'p13_iqf9540',\n",
    " 'p13_iqt9510',\n",
    " 'p13_iqz9420',\n",
    " 'p13_iqz9425',\n",
    " 'p13_iqz9426',\n",
    " 'p13_iqz9427',\n",
    " 'p13_mtf8111',\n",
    " 'p13_pil8320',\n",
    " 'p13_reh7120',\n",
    " 'p13_rta7300',\n",
    " 'p13_rtr5520',\n",
    " 'p13_upl0438',\n",
    " 'p13_upl8132',\n",
    " 'p13_upl8320',\n",
    " 'p13_all5840',\n",
    " 'p13_mtf5838']\n",
    "trend_list = [    'id',\n",
    "    'applicant_type',\n",
    "'t11_tall02q3',\n",
    " 't11_tall0722',\n",
    " 't11_tall2205',\n",
    " 't11_tall3205',\n",
    " 't11_tbca2303',\n",
    " 't11_tbca2381',\n",
    " 't11_tbca2526',\n",
    " 't11_tbca2530',\n",
    " 't11_tbca3243',\n",
    " 't11_tbca3530',\n",
    " 't11_tbca4504',\n",
    " 't11_tbcc1303',\n",
    " 't11_tbcc2267',\n",
    " 't11_tbcc3305',\n",
    " 't11_tbcc4208',\n",
    " 't11_tbcc4355',\n",
    " 't11_tiln0727',\n",
    " 't11_tiln2754',\n",
    " 't11_tiln2755',\n",
    " 't11_tmti02q7',\n",
    " 't11_tmti2752',\n",
    " 't11_tpil01q1',\n",
    " 't11_trev0722',\n",
    " 't11_tstu1752',\n",
    " 't11_tstu2752',\n",
    " 't11_tupl01q1']\n",
    "trade_list = ['id','applicant_type','sofi_num_month_recent_list_psl']\n",
    "inq_list = [ 'id','applicant_type','sofi_num_inq_12month',\n",
    " 'sofi_num_inq_1month',\n",
    " 'sofi_num_inq_3month',\n",
    " 'sofi_num_inq_personal_finance']"
   ]
  },
  {
   "cell_type": "markdown",
   "id": "eea877a1",
   "metadata": {},
   "source": [
    "### save Athena data to S3"
   ]
  },
  {
   "cell_type": "code",
   "execution_count": 6,
   "id": "7c722d56",
   "metadata": {},
   "outputs": [],
   "source": [
    "def ath_to_s3(table_name_in,condition,table_name_out):\n",
    "    start=time.time()\n",
    "    ath = mdsutils.AthenaClient()\n",
    "    \n",
    "    query = \"\"\"select \n",
    "    * \n",
    "    from pl_gen4_model.{0} {1}\"\"\"\n",
    "    \n",
    "    df=ath.query_to_df(query.format(table_name_in,condition))   \n",
    "    \n",
    "    output = 's3://sofi-data-science/hpeng/pl-gen4/data_dump/raw_tables/{}.parquet'.format(table_name_out)\n",
    "    data_location = f'{output}'\n",
    "    df.to_parquet(data_location)\n",
    "    \n",
    "    run_time=round((time.time()-start)/60,1)\n",
    "    print('run_time: {0} mins'.format(run_time))\n",
    "    del df\n",
    "    gc.collect()"
   ]
  },
  {
   "cell_type": "code",
   "execution_count": 7,
   "id": "2c4b5523",
   "metadata": {},
   "outputs": [],
   "source": [
    "#ath_to_s3('trended_3d_v1_1_pre_2022','','trended_3d_v1_1_pre_22')"
   ]
  },
  {
   "cell_type": "code",
   "execution_count": 8,
   "id": "389cb348",
   "metadata": {},
   "outputs": [],
   "source": [
    "# ath_to_s3('trended_3d_v1_1_pre_2021','','trended_3d_v1_1_pre_21_2')"
   ]
  },
  {
   "cell_type": "code",
   "execution_count": 9,
   "id": "b9306e3a",
   "metadata": {},
   "outputs": [],
   "source": [
    "# ath_to_s3('premier_v13_pre_21','','premier_v13_pre_21')"
   ]
  },
  {
   "cell_type": "code",
   "execution_count": 10,
   "id": "8259c4d6",
   "metadata": {},
   "outputs": [],
   "source": [
    "# ath_to_s3('premier_v13_pre_22','','premier_v13_pre_22')"
   ]
  },
  {
   "cell_type": "code",
   "execution_count": 11,
   "id": "033b3ae7",
   "metadata": {},
   "outputs": [],
   "source": [
    "try: \n",
    "    df_income = pd.read_csv(\"../../data/income_each_3.csv\")\n",
    "except:\n",
    "    from sqlalchemy import create_engine\n",
    "\n",
    "    def getSQL_product(sql, u = \"\", p = \"\"):\n",
    "        db_string = \"postgres://\" + u + \":\" + p + \"@localhost:15551/sofi_product\"\n",
    "        #conn = sql.connect(database='sofidw', host='dw.sofi.com', user=username, password=password)\n",
    "        #df = pd.read_sql_query(s, con=conn, coerce_float = False)\n",
    "        #conn.close()\n",
    "        db = create_engine(db_string)\n",
    "        df = pd.read_sql_query(sql,con=db)\n",
    "        return df\n",
    "\n",
    "    sql_prod = \"\"\"SELECT op.target_id as id,\n",
    "           debtor_type            as applicant_type,\n",
    "           gross_income           as income_each\n",
    "    FROM offer_package op\n",
    "             join underwriting_packet up on op.uw_packet_id = up.id\n",
    "             join underwriting_data ud on ud.uw_packet_id = up.id\n",
    "    WHERE op.id IN\n",
    "          (SELECT max(op2.id)\n",
    "           FROM offer_package op1\n",
    "                    JOIN offer_package op2\n",
    "                         ON op1.target_id = op2.target_id AND op2.target_type = 'APP' and op1.target_type = 'APP'\n",
    "                         -- and   op1.target_id IN ('1790172')\n",
    "           GROUP BY op1.target_id)\n",
    "      and debtor_type in ('PRIMARY','COBORROWER')\n",
    "      and product_name = 'PL'\n",
    "      and op.created_dt>='2021-01-01'\n",
    "    ORDER BY op.target_id;\"\"\"\n",
    "\n",
    "    df_income = getSQL_product(sql_prod)"
   ]
  },
  {
   "cell_type": "markdown",
   "id": "4b5a4de6",
   "metadata": {},
   "source": [
    "### 2021Q1-202201\n",
    "#### internal base data\n",
    "    s3://sofi-data-science/hpeng/pl-gen4/data_dump/pl_gen4_Experian_input_2021_v1.csv\n",
    "#### premier:\n",
    "    s3://sofi-data-science/hpeng/pl-gen4/data_dump/raw_tables/premier_v13_pre_21.parquet\n",
    "    s3://sofi-data-science/hpeng/pl-gen4/data_dump/raw_tables/premier_v13_pre_22.parquet\n",
    "#### trended \n",
    "    s3://sofi-data-science/hpeng/pl-gen4/data_dump/raw_tables/trended_3d_v1_1_pre_21_2.parquet\n",
    "    s3://sofi-data-science/hpeng/pl-gen4/data_dump/raw_tables/trended_3d_v1_1_pre_22.parquet\n",
    "#### inquiry\n",
    "    s3://sofi-data-science/hpeng/pl-gen4/data_dump/raw_tables/feature_creation/agg_inquiry_attr_2021Q1_202201.parquet    \n",
    "#### trade\n",
    "    s3://sofi-data-science/hpeng/pl-gen4/data_dump/raw_tables/feature_creation/agg_trade_attr_2021Q1_202201.parquet\n",
    "#### member data"
   ]
  },
  {
   "cell_type": "code",
   "execution_count": 13,
   "id": "43f3a847",
   "metadata": {},
   "outputs": [],
   "source": [
    "def getSQL_dw(sql, u = \"\", p = \"\"):\n",
    "    db_string = \"postgres://\" + u + \":\" + p + \"@localhost:15494/sofi_dw\"\n",
    "    #conn = sql.connect(database='sofidw', host='dw.sofi.com', user=username, password=password)\n",
    "    #df = pd.read_sql_query(s, con=conn, coerce_float = False)\n",
    "    #conn.close()\n",
    "    db = create_engine(db_string)\n",
    "    df = pd.read_sql_query(sql,con=db)\n",
    "    return df"
   ]
  },
  {
   "cell_type": "code",
   "execution_count": 14,
   "id": "5c5b3799",
   "metadata": {},
   "outputs": [],
   "source": [
    "try:\n",
    "    df_base = pd.read_parquet('s3://sofi-data-science/hpeng/pl-gen4/data_dump/raw_tables/df_base_21.parquet')\n",
    "except:\n",
    "    query=\"\"\"\n",
    "    select af.dw_applicant_id,\n",
    "           af.id,\n",
    "           af.applicant_type,\n",
    "           af.fraud_status,\n",
    "           af.fraudulent,\n",
    "           af.applied_city,\n",
    "           af.applied_state,\n",
    "           af.applied_cbsa_name,\n",
    "           af.applied_cbsa_code,\n",
    "           af.credit_score,\n",
    "           af.fico,\n",
    "           af.vantage,\n",
    "           af.initial_decision,\n",
    "           af.current_decision,\n",
    "           af.housing_status,\n",
    "           af.date_start,\n",
    "           af.time_start,\n",
    "           af.date_fund,\n",
    "           af.fraud_outcome,\n",
    "           af.current_activity,\n",
    "           af.consolidated_channel,\n",
    "           af.coborrower_indicator,\n",
    "           af.status_string,\n",
    "           af.last_status_date,\n",
    "           af.confirmed_fraud,\n",
    "           af.charge_off_date,\n",
    "           af.charge_off_prin,\n",
    "           af.applicant_fico_score,\n",
    "           af.applicant_vantage_score,\n",
    "           af.requested_amount,\n",
    "           af.pl_funds_use,\n",
    "           af.gross_income,\n",
    "           af.member_indicator,\n",
    "           af.applied_zip,\n",
    "           af.age,\n",
    "           af.first,\n",
    "           af.last,\n",
    "           af.deceased,\n",
    "           af.deceased_date,\n",
    "           af.is_approved,\n",
    "           af.is_funded,\n",
    "           af.ever30dpd6m_flag,\n",
    "           af.ever60dpd6m_flag,\n",
    "           af.ever30dpd12m_flag,\n",
    "           af.ever60dpd12m_flag,\n",
    "           af.ever30dpd18m_flag,\n",
    "           af.ever60dpd18m_flag,\n",
    "           af.ever90dpd18m_flag,\n",
    "           af.ever30dpd24m_flag,\n",
    "           af.ever60dpd24m_flag,\n",
    "           af.ever90dpd24m_flag,\n",
    "           af.everbk6m_flag,\n",
    "           af.everbk12m_flag,\n",
    "           af.everbk18m_flag,\n",
    "           af.everbk24m_flag,\n",
    "           af.everforb6m_flag,\n",
    "           af.everforb12m_flag,\n",
    "           af.everforb18m_flag,\n",
    "           af.everforb24m_flag,\n",
    "           af.device,\n",
    "           coalesce(m.all_time_pl_member_flag, 0)      as all_time_pl_member_flag,\n",
    "           coalesce(m.all_time_slr_member_flag, 0)     as all_time_slr_member_flag,\n",
    "           coalesce(m.all_time_isl_member_flag, 0)     as all_time_isl_member_flag,\n",
    "           coalesce(m.all_time_lending_member_flag, 0) as all_time_lending_member_flag,\n",
    "           m.all_time_months_oldest_lending_trade,\n",
    "           m.all_time_months_newest_lending_trade,\n",
    "           m.all_time_months_oldest_pl_trade,\n",
    "           m.all_time_months_newest_pl_trade,\n",
    "           coalesce(m.all_time_num_lending_trade, 0)   as all_time_num_lending_trade,\n",
    "           coalesce(m.all_time_num_pl_trade, 0)        as all_time_num_pl_trade,\n",
    "           coalesce(m.current_num_lending_trade, 0)    as current_num_lending_trade,\n",
    "           coalesce(m.current_num_pl_trade, 0)         as current_num_pl_trade,\n",
    "           m.all_time_lending_trade_orig_bal,\n",
    "           m.all_time_pl_trade_orig_bal,\n",
    "           m.current_lending_trade_orig_bal,\n",
    "           m.current_pl_trade_orig_bal,\n",
    "           m.current_lending_trade_current_prin,\n",
    "           m.current_pl_trade_current_prin,\n",
    "           m.current_lending_trade_bal_ratio,\n",
    "           m.current_pl_trade_bal_ratio,\n",
    "           m.all_time_avg_pl_term,\n",
    "           m.all_time_avg_sl_term,\n",
    "           m.current_avg_pl_term,\n",
    "           m.current_avg_sl_term,\n",
    "           m.all_time_num_lending_trade_ever30dpd3m,\n",
    "           m.all_time_num_lending_trade_ever60dpd3m,\n",
    "           m.all_time_num_lending_trade_ever90dpd3m,\n",
    "           m.all_time_num_lending_trade_ever30dpd6m,\n",
    "           m.all_time_num_lending_trade_ever60dpd6m,\n",
    "           m.all_time_num_lending_trade_ever90dpd6m,\n",
    "           m.all_time_num_lending_trade_ever30dpd12m,\n",
    "           m.all_time_num_lending_trade_ever60dpd12m,\n",
    "           m.all_time_num_lending_trade_ever90dpd12m,\n",
    "           m.all_time_num_lending_trade_ever30dpd24m,\n",
    "           m.all_time_num_lending_trade_ever60dpd24m,\n",
    "           m.all_time_num_lending_trade_ever90dpd24m,\n",
    "           m.all_time_num_lending_trade_current_30dpd,\n",
    "           m.all_time_num_lending_trade_current_60dpd,\n",
    "           m.all_time_num_lending_trade_current_forb,\n",
    "           m.all_time_num_lending_trade_everforb24m,\n",
    "           m.all_time_num_lending_trade_paidinfull,\n",
    "           m.all_time_num_pl_trade_ever30dpd3m,\n",
    "           m.all_time_num_pl_trade_ever60dpd3m,\n",
    "           m.all_time_num_pl_trade_ever90dpd3m,\n",
    "           m.all_time_num_pl_trade_ever30dpd6m,\n",
    "           m.all_time_num_pl_trade_ever60dpd6m,\n",
    "           m.all_time_num_pl_trade_ever90dpd6m,\n",
    "           m.all_time_num_pl_trade_ever30dpd12m,\n",
    "           m.all_time_num_pl_trade_ever60dpd12m,\n",
    "           m.all_time_num_pl_trade_ever90dpd12m,\n",
    "           m.all_time_num_pl_trade_ever30dpd24m,\n",
    "           m.all_time_num_pl_trade_ever60dpd24m,\n",
    "           m.all_time_num_pl_trade_ever90dpd24m,\n",
    "           m.all_time_num_pl_trade_current_30dpd,\n",
    "           m.all_time_num_pl_trade_current_60dpd,\n",
    "           m.all_time_num_pl_trade_current_forb,\n",
    "           m.all_time_num_pl_trade_everforb24m,\n",
    "           m.all_time_num_pl_trade_paidinfull\n",
    "    from dwanalyst.pl_gen4_base_202202 af\n",
    "             left join dwanalyst.pl_gen4_member_agg_202202 m\n",
    "                       on af.id = m.current_id and af.dw_applicant_id = m.dw_applicant_id;\n",
    "\n",
    "    \"\"\"\n",
    "    # base df\n",
    "    df_base=getSQL_dw(query)\n",
    "\n",
    "    df_base['date_start'] = pd.to_datetime(df_base['date_start'])\n",
    "    df_base.shape\n",
    "\n",
    "    df_base.to_parquet('s3://sofi-data-science/hpeng/pl-gen4/data_dump/raw_tables/df_base_21.parquet')"
   ]
  },
  {
   "cell_type": "code",
   "execution_count": 15,
   "id": "d958ac88",
   "metadata": {},
   "outputs": [],
   "source": [
    "df_p21 = pd.read_parquet('s3://sofi-data-science/hpeng/pl-gen4/data_dump/raw_tables/premier_v13_pre_21.parquet', columns = pre_list)\n",
    "df_p22 = pd.read_parquet('s3://sofi-data-science/hpeng/pl-gen4/data_dump/raw_tables/premier_v13_pre_22.parquet', columns = pre_list2)\n",
    "df_p = pd.concat([df_p21,df_p22], axis=0, ignore_index=True)"
   ]
  },
  {
   "cell_type": "code",
   "execution_count": 16,
   "id": "2ef207cc",
   "metadata": {},
   "outputs": [],
   "source": [
    "df_p['id'] = np.where(df_p.id.isnull(), df_p.loan_info, df_p.id)\n",
    "df_p['id'] = pd.to_numeric(df_p.id)"
   ]
  },
  {
   "cell_type": "code",
   "execution_count": 17,
   "id": "b1dc9280",
   "metadata": {},
   "outputs": [
    {
     "data": {
      "text/plain": [
       "(2154635, 157)"
      ]
     },
     "execution_count": 17,
     "metadata": {},
     "output_type": "execute_result"
    }
   ],
   "source": [
    "df = pd.merge(df_base, df_p, how = 'left', left_on=['id', 'applicant_type'], right_on = ['id','applicant_type'])\n",
    "df.shape"
   ]
  },
  {
   "cell_type": "code",
   "execution_count": 18,
   "id": "e8a68fde",
   "metadata": {},
   "outputs": [],
   "source": [
    "df_tr21 = pd.read_parquet('s3://sofi-data-science/hpeng/pl-gen4/data_dump/raw_tables/trended_3d_v1_1_pre_21_2.parquet', columns = trend_list)\n",
    "df_tr22 = pd.read_parquet('s3://sofi-data-science/hpeng/pl-gen4/data_dump/raw_tables/trended_3d_v1_1_pre_22.parquet', columns = trend_list)\n",
    "df_tr = pd.concat([df_tr21,df_tr22], axis=0, ignore_index=True)"
   ]
  },
  {
   "cell_type": "code",
   "execution_count": 19,
   "id": "3bcece0f",
   "metadata": {},
   "outputs": [
    {
     "data": {
      "text/plain": [
       "(2154635, 183)"
      ]
     },
     "execution_count": 19,
     "metadata": {},
     "output_type": "execute_result"
    }
   ],
   "source": [
    "df = pd.merge(df, df_tr, how = 'left', left_on=['id', 'applicant_type'], right_on = ['id','applicant_type'])\n",
    "df.shape"
   ]
  },
  {
   "cell_type": "code",
   "execution_count": 20,
   "id": "a85f5683",
   "metadata": {},
   "outputs": [
    {
     "data": {
      "text/plain": [
       "(2154635, 187)"
      ]
     },
     "execution_count": 20,
     "metadata": {},
     "output_type": "execute_result"
    }
   ],
   "source": [
    "df_inq = pd.read_parquet('s3://sofi-data-science/hpeng/pl-gen4/data_dump/raw_tables/feature_creation/agg_inquiry_attr_2021Q1_202201.parquet', columns = inq_list)\n",
    "df_inq ['id'] = df_inq['id'].astype(int)\n",
    "df = pd.merge(df, df_inq, how = 'left', left_on=['id', 'applicant_type'], right_on = ['id','applicant_type'])\n",
    "df.shape"
   ]
  },
  {
   "cell_type": "code",
   "execution_count": 21,
   "id": "f1bd0868",
   "metadata": {},
   "outputs": [
    {
     "data": {
      "text/plain": [
       "(2154635, 188)"
      ]
     },
     "execution_count": 21,
     "metadata": {},
     "output_type": "execute_result"
    }
   ],
   "source": [
    "df_trade = pd.read_parquet('s3://sofi-data-science/hpeng/pl-gen4/data_dump/raw_tables/feature_creation/agg_trade_attr_2021Q1_202201.parquet', columns = trade_list)\n",
    "df_trade ['id'] = df_trade['id'].astype(int)\n",
    "df = pd.merge(df, df_trade, how = 'left', left_on=['id', 'applicant_type'], right_on = ['id','applicant_type'])\n",
    "df.shape"
   ]
  },
  {
   "cell_type": "code",
   "execution_count": 22,
   "id": "517c1fc3",
   "metadata": {},
   "outputs": [
    {
     "data": {
      "text/plain": [
       "(2154635, 190)"
      ]
     },
     "metadata": {},
     "output_type": "display_data"
    }
   ],
   "source": [
    "df = pd.merge(df, df_income, on =['id','applicant_type'], how = 'left')\n",
    "display(df.shape)"
   ]
  },
  {
   "cell_type": "code",
   "execution_count": 23,
   "id": "e2a7d661",
   "metadata": {},
   "outputs": [],
   "source": [
    "# cap income each at gross_income\n",
    "df['income_each'] = np.where(df['income_each']>df['gross_income'], df['gross_income'], df['income_each'])\n",
    "# define income_update as individual income\n",
    "df['income_update'] = np.where(df.coborrower_indicator == 'N',df['gross_income'], df['income_each'])\n",
    "df['income_update'] = np.where(df.income_update.isnull(),np.where(df.coborrower_indicator == 'N', df['gross_income'], df['gross_income']/2), df['income_update'])    \n",
    "# create debt to income\n",
    "df['sofi_all5840_to_income'] = np.where((df['income_update'].isnull()) | (df['p13_all5840'].isnull()) | (df['income_update'] == 0), np.nan,\n",
    "                                              np.where(df['p13_all5840']<=999999990, df['p13_all5840']*12/df['income_update'], 0))\n",
    "df['sofi_mtf5838_to_income'] = np.where((df['income_update'].isnull()) | (df['p13_mtf5838'].isnull()) | (df['income_update'] == 0), np.nan,\n",
    "                                              np.where(df['p13_mtf5838']<=999999990, df['p13_mtf5838']*12/df['income_update'], 0))\n",
    "df['sofi_all5840_mtf5838_to_income'] = df['sofi_all5840_to_income'] - df['sofi_mtf5838_to_income']\n",
    "df['sofi_all5840_mtf5838_to_income'] = np.where(df['sofi_all5840_mtf5838_to_income']<0, 0, df['sofi_all5840_mtf5838_to_income'])\n",
    "\n",
    "df['sofi_all5840_to_combined_income'] = np.where((df['gross_income'].isnull()) | (df['p13_all5840'].isnull()) | (df['gross_income'] == 0), np.nan,\n",
    "                                              np.where(df['p13_all5840']<=999999990, df['p13_all5840']*12/df['gross_income'], 0))\n",
    "df['sofi_mtf5838_to_combined_income'] = np.where((df['gross_income'].isnull()) | (df['p13_mtf5838'].isnull()) | (df['gross_income'] == 0), np.nan,\n",
    "                                              np.where(df['p13_mtf5838']<=999999990, df['p13_mtf5838']*12/df['gross_income'], 0))\n",
    "df['sofi_all5840_mtf5838_to_combined_income'] = df['sofi_all5840_to_combined_income'] - df['sofi_mtf5838_to_combined_income']\n",
    "df['sofi_all5840_mtf5838_to_combined_income'] = np.where(df['sofi_all5840_mtf5838_to_combined_income']<0, 0, df['sofi_all5840_mtf5838_to_combined_income'])"
   ]
  },
  {
   "cell_type": "code",
   "execution_count": 24,
   "id": "10e6baed",
   "metadata": {},
   "outputs": [
    {
     "data": {
      "text/plain": [
       "0.8491182528681064"
      ]
     },
     "execution_count": 24,
     "metadata": {},
     "output_type": "execute_result"
    }
   ],
   "source": [
    "### 8% due to linking service matching issue, 8% not able to pull credit pull xml file\n",
    "df_ex = df[(~df.t11_tall02q3.isnull()) & (~df.p13_rta7300.isnull()) & (~df.sofi_num_inq_12month.isnull())].copy()\n",
    "df_ex.id.nunique()/df.id.nunique()"
   ]
  },
  {
   "cell_type": "code",
   "execution_count": 25,
   "id": "bd973f7c",
   "metadata": {},
   "outputs": [
    {
     "data": {
      "text/plain": [
       "dw_applicant_id                            0.000000\n",
       "id                                         0.000000\n",
       "applicant_type                             0.000000\n",
       "fraud_status                               0.953631\n",
       "fraudulent                                 0.000000\n",
       "                                             ...   \n",
       "sofi_mtf5838_to_income                     0.079949\n",
       "sofi_all5840_mtf5838_to_income             0.079949\n",
       "sofi_all5840_to_combined_income            0.078650\n",
       "sofi_mtf5838_to_combined_income            0.078650\n",
       "sofi_all5840_mtf5838_to_combined_income    0.078650\n",
       "Length: 197, dtype: float64"
      ]
     },
     "execution_count": 25,
     "metadata": {},
     "output_type": "execute_result"
    }
   ],
   "source": [
    "df_ex.isnull().mean()"
   ]
  },
  {
   "cell_type": "markdown",
   "id": "e8694e6c",
   "metadata": {},
   "source": [
    "### scoring"
   ]
  },
  {
   "cell_type": "code",
   "execution_count": 26,
   "id": "827cc32a",
   "metadata": {},
   "outputs": [],
   "source": [
    "exp_dict = pd.read_csv(config[\"meta\"][\"exp_dict_path\"])"
   ]
  },
  {
   "cell_type": "code",
   "execution_count": 27,
   "id": "77b278ce",
   "metadata": {},
   "outputs": [
    {
     "name": "stderr",
     "output_type": "stream",
     "text": [
      "100%|██████████| 80/80 [00:01<00:00, 64.08it/s]\n"
     ]
    },
    {
     "data": {
      "text/plain": [
       "22"
      ]
     },
     "execution_count": 27,
     "metadata": {},
     "output_type": "execute_result"
    }
   ],
   "source": [
    "def categorical_to_nan(series, categorical_list):\n",
    "    \"\"\" given series and a list of catergorical values\n",
    "    \n",
    "    replace the categorical occurances to nan\n",
    "    \"\"\"\n",
    "    if len(categorical_list) == 0:\n",
    "        return series\n",
    "    mapper = dict((k, np.nan) for k in categorical_list)\n",
    "    return series.replace(mapper)\n",
    "\n",
    "no_special_list = []\n",
    "\n",
    "for col in tqdm(feature_list):\n",
    "    try:\n",
    "        special_val = ast.literal_eval(exp_dict[exp_dict.field_name == col].categorical.iloc[0])\n",
    "        special_val = [int(i) for i in special_val]\n",
    "        df_ex[col] = categorical_to_nan(df_ex[col], special_val)\n",
    "    except:\n",
    "         no_special_list.append(col)\n",
    "        \n",
    "len(no_special_list)"
   ]
  },
  {
   "cell_type": "code",
   "execution_count": 28,
   "id": "87299755",
   "metadata": {},
   "outputs": [],
   "source": [
    "df_ex['seg'] = 'other'\n",
    "df_ex.loc[(df_ex.all_time_lending_member_flag==1), 'seg'] = 'member'\n",
    "df_ex.loc[(df_ex.all_time_lending_member_flag!=1), 'seg'] = 'non_member'"
   ]
  },
  {
   "cell_type": "code",
   "execution_count": 29,
   "id": "5fb23723",
   "metadata": {},
   "outputs": [
    {
     "name": "stderr",
     "output_type": "stream",
     "text": [
      "100%|██████████| 31/31 [00:00<00:00, 1221.93it/s]\n"
     ]
    },
    {
     "name": "stdout",
     "output_type": "stream",
     "text": [
      "no special value for p13_iqz9420\n",
      "no special value for p13_iqz9426\n",
      "no special value for sofi_num_inq_12month\n"
     ]
    },
    {
     "name": "stderr",
     "output_type": "stream",
     "text": [
      "100%|██████████| 31/31 [00:00<00:00, 196.77it/s]\n"
     ]
    },
    {
     "name": "stdout",
     "output_type": "stream",
     "text": [
      "no special value for p13_iqz9427\n",
      "no special value for sofi_num_inq_1month\n",
      "no special value for sofi_num_inq_3month\n",
      "no special value for sofi_num_inq_personal_finance\n"
     ]
    },
    {
     "name": "stderr",
     "output_type": "stream",
     "text": [
      " 61%|██████▏   | 19/31 [00:00<00:00, 182.40it/s]"
     ]
    },
    {
     "name": "stdout",
     "output_type": "stream",
     "text": [
      "no special value for p13_iqz9420\n",
      "no special value for p13_iqz9425\n"
     ]
    },
    {
     "name": "stderr",
     "output_type": "stream",
     "text": [
      "100%|██████████| 31/31 [00:00<00:00, 156.35it/s]\n"
     ]
    }
   ],
   "source": [
    "df_oot_full_member_ = df_ex[df_ex.seg=='member'].copy()\n",
    "df_oot_full_non_member_ = df_ex[df_ex.seg=='non_member'].copy()\n",
    "df_oot_full_prescreen_ = df_ex.copy()\n",
    "\n",
    "impute_vals_member = pkl.load(open('../../models/'+'member'+'_final_imputed_val.pkl', 'rb'))\n",
    "impute_vals_non_member = pkl.load(open('../../models/'+'non_member'+'_final_imputed_val.pkl', 'rb'))\n",
    "impute_vals_prescreen = pkl.load(open('../../models/'+'prescreen'+'_final_imputed_val.pkl', 'rb'))\n",
    "\n",
    "for f in tqdm(model_member.feature_name_):\n",
    "    try:\n",
    "        val = impute_vals_member[f]\n",
    "        df_oot_full_member_[f].fillna(val, inplace=True)\n",
    "    except:\n",
    "        print(\"no special value for \" + f)    \n",
    "        \n",
    "for f in tqdm(model_non_member.feature_name_):\n",
    "    try:\n",
    "        val = impute_vals_non_member[f]\n",
    "        df_oot_full_non_member_[f].fillna(val, inplace=True)\n",
    "    except:\n",
    "        print(\"no special value for \" + f)\n",
    "        \n",
    "for f in tqdm(model_prescreen.feature_name_):\n",
    "    try:\n",
    "        val = impute_vals_prescreen[f]\n",
    "        df_oot_full_prescreen_[f].fillna(val, inplace=True)\n",
    "    except:\n",
    "        print(\"no special value for \" + f)"
   ]
  },
  {
   "cell_type": "code",
   "execution_count": 30,
   "id": "4d67a6ad",
   "metadata": {},
   "outputs": [],
   "source": [
    "# df_oot_full_member_.to_parquet('s3://sofi-data-science/hpeng/pl-gen4/data_dump/data_to_mrm/df_member_psi_21q4.parquet')\n",
    "# df_oot_full_non_member_.to_parquet('s3://sofi-data-science/hpeng/pl-gen4/data_dump/data_to_mrm/df_nonmember_psi_21q4.parquet')\n",
    "# df_oot_full_prescreen_.to_parquet('s3://sofi-data-science/hpeng/pl-gen4/data_dump/data_to_mrm/df_prescreen_psi_21q4.parquet')"
   ]
  },
  {
   "cell_type": "code",
   "execution_count": 30,
   "id": "608e4f12",
   "metadata": {},
   "outputs": [],
   "source": [
    "df_oot_full_member_['gen4_underwriting_prob'] = model_member.predict_proba(df_oot_full_member_[model_member.feature_name_])[:,1]\n",
    "df_oot_full_non_member_['gen4_underwriting_prob'] = model_non_member.predict_proba(df_oot_full_non_member_[model_non_member.feature_name_])[:,1]\n",
    "\n",
    "df_oot_full_member_['gen4_underwriting_prob_29'] = model_member.predict_proba(df_oot_full_member_[model_member.feature_name_])[:,1]\n",
    "df_oot_full_non_member_['gen4_underwriting_prob_29'] = model_non_member29.predict_proba(df_oot_full_non_member_[model_non_member29.feature_name_])[:,1]\n",
    "\n",
    "df_oot_ = pd.concat([df_oot_full_member_, df_oot_full_non_member_], axis=0, ignore_index=True)\n",
    "\n",
    "df_oot_full_prescreen_['gen4_prescreen_prob'] = model_prescreen.predict_proba(df_oot_full_prescreen_[model_prescreen.feature_name_])[:,1]"
   ]
  },
  {
   "cell_type": "code",
   "execution_count": 31,
   "id": "c6aa7f60",
   "metadata": {},
   "outputs": [],
   "source": [
    "df_oot_ = pd.merge(df_oot_, df_oot_full_prescreen_[['gen4_prescreen_prob','id','applicant_type','date_start']],\n",
    "              how = 'inner', on = ['id', 'applicant_type', 'date_start'])"
   ]
  },
  {
   "cell_type": "code",
   "execution_count": 32,
   "id": "7168ede6",
   "metadata": {},
   "outputs": [
    {
     "data": {
      "text/plain": [
       "(1799053, 201)"
      ]
     },
     "execution_count": 32,
     "metadata": {},
     "output_type": "execute_result"
    }
   ],
   "source": [
    "df_oot_.shape"
   ]
  },
  {
   "cell_type": "code",
   "execution_count": 33,
   "id": "b2a3e8d5",
   "metadata": {},
   "outputs": [],
   "source": [
    "factor = 40/np.log(2)\n",
    "offset = 650 - factor * np.log(5)\n",
    "\n",
    "df_oot_['uw_log_odds'] = np.log((1 - df_oot_['gen4_underwriting_prob'])/df_oot_['gen4_underwriting_prob'])\n",
    "df_oot_['uw_odds'] = ((1 - df_oot_['gen4_underwriting_prob'])/df_oot_['gen4_underwriting_prob'])\n",
    "\n",
    "df_oot_['gen4_underwriting_score'] = round(offset+factor*df_oot_['uw_log_odds'])\n",
    "df_oot_.loc[df_oot_.gen4_underwriting_score>850,'gen4_underwriting_score']=850\n",
    "df_oot_.loc[df_oot_.gen4_underwriting_score<300,'gen4_underwriting_score']=300\n",
    "\n",
    "df_oot_['uw_log_odds_29'] = np.log((1 - df_oot_['gen4_underwriting_prob_29'])/df_oot_['gen4_underwriting_prob_29'])\n",
    "df_oot_['uw_odds_29'] = ((1 - df_oot_['gen4_underwriting_prob_29'])/df_oot_['gen4_underwriting_prob_29'])\n",
    "\n",
    "df_oot_['gen4_underwriting_score_29'] = round(offset+factor*df_oot_['uw_log_odds_29'])\n",
    "df_oot_.loc[df_oot_.gen4_underwriting_score_29>850,'gen4_underwriting_score_29']=850\n",
    "df_oot_.loc[df_oot_.gen4_underwriting_score_29<300,'gen4_underwriting_score_29']=300\n",
    "\n",
    "df_oot_['pr_log_odds'] = np.log((1 - df_oot_['gen4_prescreen_prob'])/df_oot_['gen4_prescreen_prob'])\n",
    "df_oot_['pr_odds'] = ((1 - df_oot_['gen4_prescreen_prob'])/df_oot_['gen4_prescreen_prob'])\n",
    "\n",
    "df_oot_['gen4_prescreen_score'] = round(offset+factor*df_oot_['pr_log_odds'])\n",
    "df_oot_.loc[df_oot_.gen4_prescreen_score>850,'gen4_prescreen_score']=850\n",
    "df_oot_.loc[df_oot_.gen4_prescreen_score<300,'gen4_prescreen_score']=300"
   ]
  },
  {
   "cell_type": "code",
   "execution_count": 34,
   "id": "d17a2dfc",
   "metadata": {},
   "outputs": [
    {
     "data": {
      "text/plain": [
       "Text(0.5, 1.0, 'Score Distribution')"
      ]
     },
     "execution_count": 34,
     "metadata": {},
     "output_type": "execute_result"
    },
    {
     "data": {
      "image/png": "[encoded data removed]",
      "text/plain": [
       "<Figure size 792x576 with 1 Axes>"
      ]
     },
     "metadata": {
      "needs_background": "light"
     },
     "output_type": "display_data"
    }
   ],
   "source": [
    "df_oot_['fico_adj'] = np.where(df_oot_.applicant_fico_score>850, 300, df_oot_.applicant_fico_score)\n",
    "plt.figure(figsize=(11,8))\n",
    "df_oot_['gen4_underwriting_score_29'].plot(kind='hist',density=True,alpha=0.5,label='Gen4_Underwriting',color='pink')\n",
    "df_oot_['fico_adj'].plot(kind='hist',density=True,alpha=0.5,label='FICO',color='gray')\n",
    "plt.legend(fontsize=17)\n",
    "plt.title('Score Distribution',fontsize=20)"
   ]
  },
  {
   "cell_type": "code",
   "execution_count": 35,
   "id": "7632e1d7",
   "metadata": {},
   "outputs": [
    {
     "data": {
      "text/plain": [
       "Text(0.5, 1.0, 'Score Distribution')"
      ]
     },
     "execution_count": 35,
     "metadata": {},
     "output_type": "execute_result"
    },
    {
     "data": {
      "image/png": "[encoded data removed]",
      "text/plain": [
       "<Figure size 792x576 with 1 Axes>"
      ]
     },
     "metadata": {
      "needs_background": "light"
     },
     "output_type": "display_data"
    }
   ],
   "source": [
    "df_oot_['fico_adj'] = np.where(df_oot_.applicant_fico_score>850, 300, df_oot_.applicant_fico_score)\n",
    "plt.figure(figsize=(11,8))\n",
    "df_oot_['gen4_underwriting_score'].plot(kind='hist',density=True,alpha=0.5,label='Gen4_Underwriting',color='pink')\n",
    "df_oot_['fico_adj'].plot(kind='hist',density=True,alpha=0.5,label='FICO',color='gray')\n",
    "plt.legend(fontsize=17)\n",
    "plt.title('Score Distribution',fontsize=20)"
   ]
  },
  {
   "cell_type": "code",
   "execution_count": 36,
   "id": "9bf48cea",
   "metadata": {},
   "outputs": [
    {
     "data": {
      "text/plain": [
       "Text(0.5, 1.0, 'Score Distribution')"
      ]
     },
     "execution_count": 36,
     "metadata": {},
     "output_type": "execute_result"
    },
    {
     "data": {
      "image/png": "[encoded data removed]",
      "text/plain": [
       "<Figure size 792x576 with 1 Axes>"
      ]
     },
     "metadata": {
      "needs_background": "light"
     },
     "output_type": "display_data"
    }
   ],
   "source": [
    "df_oot_['fico_adj'] = np.where(df_oot_.applicant_fico_score>850, 300, df_oot_.applicant_fico_score)\n",
    "plt.figure(figsize=(11,8))\n",
    "df_oot_['gen4_prescreen_score'].plot(kind='hist',density=True,alpha=0.5,label='Gen4_Underwriting',color='pink')\n",
    "df_oot_['fico_adj'].plot(kind='hist',density=True,alpha=0.5,label='FICO',color='gray')\n",
    "plt.legend(fontsize=17)\n",
    "plt.title('Score Distribution',fontsize=20)"
   ]
  },
  {
   "cell_type": "code",
   "execution_count": 37,
   "id": "2a5e5bea",
   "metadata": {},
   "outputs": [
    {
     "data": {
      "text/html": [
       "<div>\n",
       "<style scoped>\n",
       "    .dataframe tbody tr th:only-of-type {\n",
       "        vertical-align: middle;\n",
       "    }\n",
       "\n",
       "    .dataframe tbody tr th {\n",
       "        vertical-align: top;\n",
       "    }\n",
       "\n",
       "    .dataframe thead th {\n",
       "        text-align: right;\n",
       "    }\n",
       "</style>\n",
       "<table border=\"1\" class=\"dataframe\">\n",
       "  <thead>\n",
       "    <tr style=\"text-align: right;\">\n",
       "      <th></th>\n",
       "      <th>id</th>\n",
       "      <th>applicant_type</th>\n",
       "      <th>date_start</th>\n",
       "      <th>gen4_prescreen_score</th>\n",
       "      <th>gen4_underwriting_score</th>\n",
       "      <th>gen4_underwriting_score_29</th>\n",
       "    </tr>\n",
       "  </thead>\n",
       "  <tbody>\n",
       "    <tr>\n",
       "      <th>0</th>\n",
       "      <td>12486316</td>\n",
       "      <td>PRIMARY</td>\n",
       "      <td>2021-07-30</td>\n",
       "      <td>850.0</td>\n",
       "      <td>850.0</td>\n",
       "      <td>850.0</td>\n",
       "    </tr>\n",
       "    <tr>\n",
       "      <th>1</th>\n",
       "      <td>12598180</td>\n",
       "      <td>PRIMARY</td>\n",
       "      <td>2021-09-08</td>\n",
       "      <td>772.0</td>\n",
       "      <td>850.0</td>\n",
       "      <td>850.0</td>\n",
       "    </tr>\n",
       "    <tr>\n",
       "      <th>2</th>\n",
       "      <td>12498789</td>\n",
       "      <td>PRIMARY</td>\n",
       "      <td>2021-05-26</td>\n",
       "      <td>727.0</td>\n",
       "      <td>841.0</td>\n",
       "      <td>841.0</td>\n",
       "    </tr>\n",
       "    <tr>\n",
       "      <th>3</th>\n",
       "      <td>12601674</td>\n",
       "      <td>PRIMARY</td>\n",
       "      <td>2021-05-03</td>\n",
       "      <td>746.0</td>\n",
       "      <td>784.0</td>\n",
       "      <td>784.0</td>\n",
       "    </tr>\n",
       "    <tr>\n",
       "      <th>4</th>\n",
       "      <td>12661144</td>\n",
       "      <td>PRIMARY</td>\n",
       "      <td>2021-06-06</td>\n",
       "      <td>727.0</td>\n",
       "      <td>730.0</td>\n",
       "      <td>730.0</td>\n",
       "    </tr>\n",
       "  </tbody>\n",
       "</table>\n",
       "</div>"
      ],
      "text/plain": [
       "         id applicant_type date_start  gen4_prescreen_score  gen4_underwriting_score  gen4_underwriting_score_29\n",
       "0  12486316        PRIMARY 2021-07-30                 850.0                    850.0                       850.0\n",
       "1  12598180        PRIMARY 2021-09-08                 772.0                    850.0                       850.0\n",
       "2  12498789        PRIMARY 2021-05-26                 727.0                    841.0                       841.0\n",
       "3  12601674        PRIMARY 2021-05-03                 746.0                    784.0                       784.0\n",
       "4  12661144        PRIMARY 2021-06-06                 727.0                    730.0                       730.0"
      ]
     },
     "execution_count": 37,
     "metadata": {},
     "output_type": "execute_result"
    }
   ],
   "source": [
    "df_oot_[['id','applicant_type','date_start','gen4_prescreen_score','gen4_underwriting_score','gen4_underwriting_score_29']].head()"
   ]
  },
  {
   "cell_type": "code",
   "execution_count": 40,
   "id": "2f2814f2",
   "metadata": {},
   "outputs": [
    {
     "data": {
      "text/plain": [
       "(Timestamp('2021-04-01 00:00:00'), Timestamp('2022-01-31 00:00:00'))"
      ]
     },
     "execution_count": 40,
     "metadata": {},
     "output_type": "execute_result"
    }
   ],
   "source": [
    "(df_oot_.date_start.min(), df_oot_.date_start.max())"
   ]
  },
  {
   "cell_type": "code",
   "execution_count": 42,
   "id": "3114f470",
   "metadata": {},
   "outputs": [],
   "source": [
    "# df_oot_[['id','applicant_type','date_start','gen4_prescreen_score','gen4_underwriting_score','gen4_underwriting_score_29']].to_parquet('s3://sofi-data-science/hpeng/pl-gen4/artifact/df_gen4_score_202104_202201_refit.parquet')"
   ]
  },
  {
   "cell_type": "code",
   "execution_count": null,
   "id": "77d72aae",
   "metadata": {},
   "outputs": [],
   "source": []
  }
 ],
 "metadata": {
  "kernelspec": {
   "display_name": "conda_pl_gen4",
   "language": "python",
   "name": "conda_pl_gen4"
  },
  "language_info": {
   "codemirror_mode": {
    "name": "ipython",
    "version": 3
   },
   "file_extension": ".py",
   "mimetype": "text/x-python",
   "name": "python",
   "nbconvert_exporter": "python",
   "pygments_lexer": "ipython3",
   "version": "3.7.12"
  }
 },
 "nbformat": 4,
 "nbformat_minor": 5
}
