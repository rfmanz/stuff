{
 "cells": [
  {
   "cell_type": "markdown",
   "id": "9a418ebe",
   "metadata": {},
   "source": [
    "Parse raw credit pull table from credit db\n",
    "- query credit pull response xml file\n",
    "- parse inquiry table\n",
    "- parse tradeline table"
   ]
  },
  {
   "cell_type": "code",
   "execution_count": 2,
   "id": "c85567e3",
   "metadata": {},
   "outputs": [
    {
     "name": "stdout",
     "output_type": "stream",
     "text": [
      "Collecting xmltodict\n",
      "  Downloading xmltodict-0.12.0-py2.py3-none-any.whl (9.2 kB)\n",
      "Installing collected packages: xmltodict\n",
      "Successfully installed xmltodict-0.12.0\n"
     ]
    }
   ],
   "source": [
    "!pip install xmltodict"
   ]
  },
  {
   "cell_type": "code",
   "execution_count": 1,
   "id": "461ae035",
   "metadata": {},
   "outputs": [],
   "source": [
    "import sys, os, json\n",
    "import pandas as pd\n",
    "from sqlalchemy import create_engine\n",
    "import sys;\n",
    "import xml.dom.minidom;\n",
    "import json\n",
    "import jmespath\n",
    "import time\n",
    "import gc\n",
    "\n",
    "sys.path.insert(1, \"../../src\")\n",
    "import experian_xml_parser, experian_tradeline_parser, experian_inquiry_parser, experian_profile_summary_parser\n",
    "\n",
    "%load_ext autoreload\n",
    "%autoreload 2"
   ]
  },
  {
   "cell_type": "code",
   "execution_count": 2,
   "id": "40c22051",
   "metadata": {},
   "outputs": [],
   "source": [
    "def getSQL_dw(sql, u = \"\", p = \"\"):\n",
    "    db_string = \"postgres://\" + u + \":\" + p + \"@localhost:15494/sofi_dw\"\n",
    "    db = create_engine(db_string)\n",
    "    df = pd.read_sql_query(sql,con=db)\n",
    "    return df\n",
    "\n",
    "def getSQL_credit(sql, u = \"\", p = \"\"):\n",
    "    db_string = \"postgres://\" + u + \":\" + p + \"@localhost:16029/sofi_credit\"\n",
    "    db = create_engine(db_string)\n",
    "    df = pd.read_sql_query(sql,con=db)\n",
    "    return df"
   ]
  },
  {
   "cell_type": "code",
   "execution_count": 3,
   "id": "efda1047",
   "metadata": {},
   "outputs": [],
   "source": [
    "query = \"\"\"\n",
    "select id,\n",
    "       date_start,\n",
    "       applicant_type,\n",
    "       business_credit_pull_id\n",
    "from dwanalyst.pl_gen4_base_202202\n",
    "\"\"\"\n",
    "data=getSQL_dw(query)"
   ]
  },
  {
   "cell_type": "code",
   "execution_count": 4,
   "id": "705d54d7",
   "metadata": {},
   "outputs": [
    {
     "data": {
      "text/plain": [
       "['2021Q2', '2021Q3', '2021Q4', '2022Q1']"
      ]
     },
     "execution_count": 4,
     "metadata": {},
     "output_type": "execute_result"
    }
   ],
   "source": [
    "data['quarter'] = pd.PeriodIndex(data.date_start, freq='Q')\n",
    "quarter_list = data['quarter'].value_counts().sort_index(ascending=True).reset_index(drop=False)['index'].astype(str).to_list()\n",
    "quarter_list"
   ]
  },
  {
   "cell_type": "code",
   "execution_count": 5,
   "id": "ca6c0511",
   "metadata": {},
   "outputs": [],
   "source": [
    "query=\"\"\"\n",
    "select id as business_credit_pull_id,created_dt,premier_raw_xml   from experian_credit_pull where id in ( --<placeholder>--) and created_dt>='2021-04-01' and created_dt<='2022-02-01'\n",
    "\"\"\""
   ]
  },
  {
   "cell_type": "code",
   "execution_count": 6,
   "id": "cc80b7ef",
   "metadata": {},
   "outputs": [
    {
     "data": {
      "text/plain": [
       "['2021Q4', '2022Q1']"
      ]
     },
     "execution_count": 6,
     "metadata": {},
     "output_type": "execute_result"
    }
   ],
   "source": [
    "quarter_list = ['2021Q4', '2022Q1']\n",
    "quarter_list"
   ]
  },
  {
   "cell_type": "markdown",
   "id": "b12a2da1",
   "metadata": {},
   "source": [
    "note: two id (application) might share same business_credit_pull_id\n",
    "- solution 1: dedup the data when after aggregation\n",
    "- solution 2: df_credit = pd.merge(df_credit0, data[data.quarter == quarter)][['id', 'business_credit_pull_id', 'applicant_type']], on = ['business_credit_pull_id'], how = 'left')"
   ]
  },
  {
   "cell_type": "code",
   "execution_count": null,
   "id": "e828ad41",
   "metadata": {},
   "outputs": [
    {
     "name": "stdout",
     "output_type": "stream",
     "text": [
      "quarter: 2021Q4\n",
      "Parsing 758088 xml files...\n",
      "10000/758088 in 502.76 (502.76) seconds.\n",
      "20000/758088 in 1031.44 (528.68) seconds.\n",
      "30000/758088 in 1571.93 (540.49) seconds.\n",
      "40000/758088 in 2128.92 (556.98) seconds.\n",
      "50000/758088 in 2681.12 (552.21) seconds.\n",
      "60000/758088 in 3238.83 (557.71) seconds.\n",
      "70000/758088 in 3795.56 (556.73) seconds.\n",
      "XML Parse Error\n",
      "\n",
      "error in row: 71786\n",
      "XML Parse Error\n",
      "\n",
      "error in row: 72115\n",
      "80000/758088 in 4351.28 (555.71) seconds.\n",
      "90000/758088 in 4909.38 (558.10) seconds.\n",
      "100000/758088 in 5498.96 (589.58) seconds.\n",
      "110000/758088 in 6078.80 (579.84) seconds.\n",
      "120000/758088 in 6669.10 (590.30) seconds.\n",
      "130000/758088 in 7255.36 (586.26) seconds.\n",
      "140000/758088 in 7841.48 (586.12) seconds.\n",
      "150000/758088 in 8427.19 (585.72) seconds.\n",
      "160000/758088 in 9008.92 (581.72) seconds.\n",
      "170000/758088 in 9597.42 (588.50) seconds.\n",
      "180000/758088 in 10180.82 (583.40) seconds.\n",
      "190000/758088 in 10757.75 (576.93) seconds.\n",
      "XML Parse Error\n",
      "\n",
      "error in row: 195043\n",
      "200000/758088 in 11329.33 (571.58) seconds.\n",
      "210000/758088 in 11904.79 (575.46) seconds.\n",
      "220000/758088 in 12485.70 (580.92) seconds.\n",
      "230000/758088 in 13061.60 (575.90) seconds.\n",
      "240000/758088 in 13644.88 (583.29) seconds.\n",
      "250000/758088 in 14213.99 (569.10) seconds.\n",
      "260000/758088 in 14784.58 (570.59) seconds.\n",
      "270000/758088 in 15348.70 (564.12) seconds.\n",
      "280000/758088 in 15924.61 (575.91) seconds.\n",
      "290000/758088 in 16507.37 (582.75) seconds.\n",
      "300000/758088 in 17087.46 (580.10) seconds.\n",
      "310000/758088 in 17674.64 (587.18) seconds.\n",
      "320000/758088 in 18269.13 (594.49) seconds.\n",
      "330000/758088 in 18865.64 (596.52) seconds.\n",
      "340000/758088 in 19459.68 (594.04) seconds.\n",
      "350000/758088 in 20039.40 (579.72) seconds.\n",
      "360000/758088 in 20618.16 (578.75) seconds.\n",
      "370000/758088 in 21198.09 (579.93) seconds.\n",
      "380000/758088 in 21789.18 (591.09) seconds.\n"
     ]
    }
   ],
   "source": [
    "for quarter in quarter_list:\n",
    "    gc.collect()\n",
    "    start=time.time()\n",
    "    df_credit0 = pd.DataFrame()\n",
    "    print(\"quarter: \" + quarter)\n",
    "    df_credit0 = getSQL_credit(query.replace(\"--<placeholder>--\", ','.join([str(i) for i in data[(~data.business_credit_pull_id.isnull()) & (data.quarter == quarter)].business_credit_pull_id.astype(int)])))    \n",
    "    df_credit = pd.merge(df_credit0, data[['id', 'business_credit_pull_id', 'applicant_type']], on = ['business_credit_pull_id'], how = 'left')\n",
    "\n",
    "    trade_line_parser = experian_tradeline_parser.TradeLineParser(ignore_closed=False)\n",
    "    inquiry_parser = experian_inquiry_parser.InquiryParser()\n",
    "    \n",
    "    # 1 quarter TTD take ~60 mins\n",
    "    print(\"Parsing %s xml files...\" % len(df_credit))\n",
    "    start_time_sec = time.time()\n",
    "    prev_time_sec = start_time_sec\n",
    "    for i in range(0, len(df_credit)):\n",
    "        if i > 0 and (i % 10000 == 0 or i == len(df_credit) - 1):\n",
    "            time_sec = time.time()\n",
    "            print(\"%d/%d in %.2f (%.2f) seconds.\" % (i, len(df_credit), time_sec - start_time_sec, time_sec - prev_time_sec))\n",
    "            prev_time_sec = time_sec\n",
    "        xml_root = experian_xml_parser.parse_experian_xml(df_credit['premier_raw_xml'][i])\n",
    "        id = str(df_credit['id'][i]) \n",
    "        applicant_type = df_credit['applicant_type'][i]\n",
    "        credit_pull_id=str(df_credit['business_credit_pull_id'][i]) \n",
    "        credit_pull_date=df_credit['created_dt'][i]\n",
    "        if xml_root!=-99:\n",
    "            trade_line_parser.parse_xml_dict(root=xml_root, id = id, applicant_type = applicant_type, credit_pull_id=credit_pull_id, credit_pull_date=credit_pull_date)\n",
    "            inquiry_parser.parse_xml_dict(root=xml_root, id = id, applicant_type = applicant_type, credit_pull_id=credit_pull_id, credit_pull_date=credit_pull_date)\n",
    "        else:\n",
    "            print(\"error in row: %d\" % (i))\n",
    "            \n",
    "    trade_line_df = trade_line_parser.to_data_frame()\n",
    "    inquiry_df = inquiry_parser.to_data_frame()\n",
    "    \n",
    "    trade_line_df.to_parquet(f's3://sofi-data-science/hpeng/pl-gen4/data_dump/raw_tables/feature_creation/tradeline_{quarter}.parquet')\n",
    "    inquiry_df.to_parquet(f's3://sofi-data-science/hpeng/pl-gen4/data_dump/raw_tables/feature_creation/inquiry_{quarter}.parquet')\n",
    "    run_time=round((time.time()-start)/60,1)\n",
    "    print('run_time: {0} mins'.format(run_time))"
   ]
  },
  {
   "cell_type": "code",
   "execution_count": 8,
   "id": "416fdd98",
   "metadata": {},
   "outputs": [
    {
     "data": {
      "text/html": [
       "<div>\n",
       "<style scoped>\n",
       "    .dataframe tbody tr th:only-of-type {\n",
       "        vertical-align: middle;\n",
       "    }\n",
       "\n",
       "    .dataframe tbody tr th {\n",
       "        vertical-align: top;\n",
       "    }\n",
       "\n",
       "    .dataframe thead th {\n",
       "        text-align: right;\n",
       "    }\n",
       "</style>\n",
       "<table border=\"1\" class=\"dataframe\">\n",
       "  <thead>\n",
       "    <tr style=\"text-align: right;\">\n",
       "      <th></th>\n",
       "      <th>id</th>\n",
       "      <th>applicant_type</th>\n",
       "      <th>credit_pull_id</th>\n",
       "      <th>credit_pull_date</th>\n",
       "      <th>OpenOrClosed</th>\n",
       "      <th>Subcode</th>\n",
       "      <th>SubscriberDisplayName</th>\n",
       "      <th>AccountNumber</th>\n",
       "      <th>AccountTypeCode</th>\n",
       "      <th>AccountType</th>\n",
       "      <th>...</th>\n",
       "      <th>PaymentStatusCode</th>\n",
       "      <th>SpecialComment</th>\n",
       "      <th>InitialPaymentLevelDate</th>\n",
       "      <th>EnhancedAccountType</th>\n",
       "      <th>EnhancedAccountTypeCode</th>\n",
       "      <th>AmountQualifier_1</th>\n",
       "      <th>AmountValue_1</th>\n",
       "      <th>AmountQualifier_2</th>\n",
       "      <th>AmountValue_2</th>\n",
       "      <th>HasTrendedData</th>\n",
       "    </tr>\n",
       "  </thead>\n",
       "  <tbody>\n",
       "    <tr>\n",
       "      <th>0</th>\n",
       "      <td>15866509</td>\n",
       "      <td>PRIMARY</td>\n",
       "      <td>21934834</td>\n",
       "      <td>2021-11-04 02:32:30.943684</td>\n",
       "      <td>Closed</td>\n",
       "      <td>1884330</td>\n",
       "      <td>DEPT OF EDUCATION/NELN</td>\n",
       "      <td>900000341212724</td>\n",
       "      <td>12</td>\n",
       "      <td>Education Loan</td>\n",
       "      <td>...</td>\n",
       "      <td>10</td>\n",
       "      <td>Account closed due to refinance</td>\n",
       "      <td>2020-02-01</td>\n",
       "      <td>Education Loan</td>\n",
       "      <td>12</td>\n",
       "      <td>Original</td>\n",
       "      <td>245.0</td>\n",
       "      <td>Unknown</td>\n",
       "      <td>NaN</td>\n",
       "      <td>False</td>\n",
       "    </tr>\n",
       "    <tr>\n",
       "      <th>1</th>\n",
       "      <td>15866509</td>\n",
       "      <td>PRIMARY</td>\n",
       "      <td>21934834</td>\n",
       "      <td>2021-11-04 02:32:30.943684</td>\n",
       "      <td>Closed</td>\n",
       "      <td>3963206</td>\n",
       "      <td>GM FINANCIAL</td>\n",
       "      <td>452421365</td>\n",
       "      <td>00</td>\n",
       "      <td>Auto Loan</td>\n",
       "      <td>...</td>\n",
       "      <td>97</td>\n",
       "      <td>None</td>\n",
       "      <td>2019-03-01</td>\n",
       "      <td>AUT\\tAuto Loan</td>\n",
       "      <td>00</td>\n",
       "      <td>Original</td>\n",
       "      <td>19194.0</td>\n",
       "      <td>Charge off amount</td>\n",
       "      <td>8651.0</td>\n",
       "      <td>False</td>\n",
       "    </tr>\n",
       "    <tr>\n",
       "      <th>2</th>\n",
       "      <td>15866509</td>\n",
       "      <td>PRIMARY</td>\n",
       "      <td>21934834</td>\n",
       "      <td>2021-11-04 02:32:30.943684</td>\n",
       "      <td>Closed</td>\n",
       "      <td>1270246</td>\n",
       "      <td>CAPITAL ONE BANK USA N</td>\n",
       "      <td>517805******</td>\n",
       "      <td>18</td>\n",
       "      <td>Credit Card, Terms REV</td>\n",
       "      <td>...</td>\n",
       "      <td>11</td>\n",
       "      <td>Account closed at consumer's request</td>\n",
       "      <td>2021-08-01</td>\n",
       "      <td>Credit Card, Terms REV</td>\n",
       "      <td>18</td>\n",
       "      <td>Limit</td>\n",
       "      <td>400.0</td>\n",
       "      <td>High balance</td>\n",
       "      <td>304.0</td>\n",
       "      <td>False</td>\n",
       "    </tr>\n",
       "    <tr>\n",
       "      <th>3</th>\n",
       "      <td>15866509</td>\n",
       "      <td>PRIMARY</td>\n",
       "      <td>21934834</td>\n",
       "      <td>2021-11-04 02:32:30.943684</td>\n",
       "      <td>Open</td>\n",
       "      <td>8740622</td>\n",
       "      <td>DEL NORTE CU</td>\n",
       "      <td>1135085L0001</td>\n",
       "      <td>00</td>\n",
       "      <td>Auto Loan</td>\n",
       "      <td>...</td>\n",
       "      <td>11</td>\n",
       "      <td>None</td>\n",
       "      <td>2021-11-01</td>\n",
       "      <td>AUT\\tAuto Loan</td>\n",
       "      <td>00</td>\n",
       "      <td>Original</td>\n",
       "      <td>20327.0</td>\n",
       "      <td>Unknown</td>\n",
       "      <td>NaN</td>\n",
       "      <td>False</td>\n",
       "    </tr>\n",
       "    <tr>\n",
       "      <th>4</th>\n",
       "      <td>15866509</td>\n",
       "      <td>PRIMARY</td>\n",
       "      <td>21934834</td>\n",
       "      <td>2021-11-04 02:32:30.943684</td>\n",
       "      <td>Open</td>\n",
       "      <td>1270246</td>\n",
       "      <td>CAPITAL ONE BANK USA N</td>\n",
       "      <td>517805******</td>\n",
       "      <td>18</td>\n",
       "      <td>Credit Card, Terms REV</td>\n",
       "      <td>...</td>\n",
       "      <td>11</td>\n",
       "      <td>None</td>\n",
       "      <td>2021-10-01</td>\n",
       "      <td>Credit Card, Terms REV</td>\n",
       "      <td>18</td>\n",
       "      <td>Limit</td>\n",
       "      <td>500.0</td>\n",
       "      <td>High balance</td>\n",
       "      <td>528.0</td>\n",
       "      <td>False</td>\n",
       "    </tr>\n",
       "  </tbody>\n",
       "</table>\n",
       "<p>5 rows × 44 columns</p>\n",
       "</div>"
      ],
      "text/plain": [
       "         id applicant_type credit_pull_id           credit_pull_date  \\\n",
       "0  15866509        PRIMARY       21934834 2021-11-04 02:32:30.943684   \n",
       "1  15866509        PRIMARY       21934834 2021-11-04 02:32:30.943684   \n",
       "2  15866509        PRIMARY       21934834 2021-11-04 02:32:30.943684   \n",
       "3  15866509        PRIMARY       21934834 2021-11-04 02:32:30.943684   \n",
       "4  15866509        PRIMARY       21934834 2021-11-04 02:32:30.943684   \n",
       "\n",
       "  OpenOrClosed  Subcode   SubscriberDisplayName    AccountNumber  \\\n",
       "0       Closed  1884330  DEPT OF EDUCATION/NELN  900000341212724   \n",
       "1       Closed  3963206            GM FINANCIAL        452421365   \n",
       "2       Closed  1270246  CAPITAL ONE BANK USA N     517805******   \n",
       "3         Open  8740622            DEL NORTE CU     1135085L0001   \n",
       "4         Open  1270246  CAPITAL ONE BANK USA N     517805******   \n",
       "\n",
       "  AccountTypeCode             AccountType  ... PaymentStatusCode  \\\n",
       "0              12          Education Loan  ...                10   \n",
       "1              00               Auto Loan  ...                97   \n",
       "2              18  Credit Card, Terms REV  ...                11   \n",
       "3              00               Auto Loan  ...                11   \n",
       "4              18  Credit Card, Terms REV  ...                11   \n",
       "\n",
       "                         SpecialComment InitialPaymentLevelDate  \\\n",
       "0       Account closed due to refinance              2020-02-01   \n",
       "1                                  None              2019-03-01   \n",
       "2  Account closed at consumer's request              2021-08-01   \n",
       "3                                  None              2021-11-01   \n",
       "4                                  None              2021-10-01   \n",
       "\n",
       "      EnhancedAccountType EnhancedAccountTypeCode AmountQualifier_1  \\\n",
       "0          Education Loan                      12          Original   \n",
       "1          AUT\\tAuto Loan                      00          Original   \n",
       "2  Credit Card, Terms REV                      18             Limit   \n",
       "3          AUT\\tAuto Loan                      00          Original   \n",
       "4  Credit Card, Terms REV                      18             Limit   \n",
       "\n",
       "  AmountValue_1  AmountQualifier_2 AmountValue_2  HasTrendedData  \n",
       "0         245.0            Unknown           NaN           False  \n",
       "1       19194.0  Charge off amount        8651.0           False  \n",
       "2         400.0       High balance         304.0           False  \n",
       "3       20327.0            Unknown           NaN           False  \n",
       "4         500.0       High balance         528.0           False  \n",
       "\n",
       "[5 rows x 44 columns]"
      ]
     },
     "execution_count": 8,
     "metadata": {},
     "output_type": "execute_result"
    }
   ],
   "source": [
    "trade_line_df.head()"
   ]
  },
  {
   "cell_type": "code",
   "execution_count": null,
   "id": "0e0806dd",
   "metadata": {},
   "outputs": [],
   "source": []
  },
  {
   "cell_type": "code",
   "execution_count": null,
   "id": "fcfd0143",
   "metadata": {},
   "outputs": [],
   "source": []
  },
  {
   "cell_type": "code",
   "execution_count": null,
   "id": "eed515e1",
   "metadata": {},
   "outputs": [],
   "source": []
  },
  {
   "cell_type": "code",
   "execution_count": null,
   "id": "3685a7d5",
   "metadata": {},
   "outputs": [],
   "source": []
  },
  {
   "cell_type": "code",
   "execution_count": null,
   "id": "fbef4288",
   "metadata": {},
   "outputs": [],
   "source": []
  },
  {
   "cell_type": "code",
   "execution_count": null,
   "id": "6d64d569",
   "metadata": {},
   "outputs": [],
   "source": []
  },
  {
   "cell_type": "code",
   "execution_count": null,
   "id": "f9eafe6a",
   "metadata": {},
   "outputs": [],
   "source": []
  },
  {
   "cell_type": "code",
   "execution_count": null,
   "id": "27eae7a4",
   "metadata": {},
   "outputs": [],
   "source": []
  },
  {
   "cell_type": "code",
   "execution_count": null,
   "id": "ec684d3e",
   "metadata": {},
   "outputs": [],
   "source": []
  },
  {
   "cell_type": "code",
   "execution_count": null,
   "id": "dfeb46b4",
   "metadata": {},
   "outputs": [],
   "source": []
  },
  {
   "cell_type": "code",
   "execution_count": null,
   "id": "9e9bcdc3",
   "metadata": {},
   "outputs": [],
   "source": []
  },
  {
   "cell_type": "code",
   "execution_count": null,
   "id": "fe496720",
   "metadata": {},
   "outputs": [],
   "source": []
  },
  {
   "cell_type": "code",
   "execution_count": null,
   "id": "2d18283a",
   "metadata": {},
   "outputs": [],
   "source": []
  },
  {
   "cell_type": "code",
   "execution_count": null,
   "id": "82fd8a31",
   "metadata": {},
   "outputs": [],
   "source": []
  },
  {
   "cell_type": "code",
   "execution_count": null,
   "id": "003267cd",
   "metadata": {},
   "outputs": [],
   "source": []
  }
 ],
 "metadata": {
  "kernelspec": {
   "display_name": "Python 3.9.7 ('base')",
   "language": "python",
   "name": "python3"
  },
  "language_info": {
   "codemirror_mode": {
    "name": "ipython",
    "version": 3
   },
   "file_extension": ".py",
   "mimetype": "text/x-python",
   "name": "python",
   "nbconvert_exporter": "python",
   "pygments_lexer": "ipython3",
   "version": "3.9.7"
  },
  "vscode": {
   "interpreter": {
    "hash": "f68926ad41435d3f71bc53cfde328458a97118c37e1f5b5e9fd4646c23ed0cff"
   }
  }
 },
 "nbformat": 4,
 "nbformat_minor": 5
}
