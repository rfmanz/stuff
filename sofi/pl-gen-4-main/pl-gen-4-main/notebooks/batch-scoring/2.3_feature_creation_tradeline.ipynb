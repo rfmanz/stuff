{
 "cells": [
  {
   "cell_type": "code",
   "execution_count": 1,
   "id": "3b2db3c5",
   "metadata": {},
   "outputs": [],
   "source": [
    "import sys, os, json\n",
    "import pandas as pd\n",
    "from sqlalchemy import create_engine\n",
    "import sys;\n",
    "import xml.dom.minidom;\n",
    "import json\n",
    "import jmespath\n",
    "import time\n",
    "import duckdb\n",
    "import numpy as np\n",
    "import re\n",
    "\n",
    "sys.path.insert(1, \"../../src\")\n",
    "import exp_trade_attr_builder as exp_trade\n",
    "\n",
    "%load_ext autoreload\n",
    "%autoreload 2"
   ]
  },
  {
   "cell_type": "markdown",
   "id": "85b0da0d",
   "metadata": {},
   "source": [
    "#### create flag based on raw table"
   ]
  },
  {
   "cell_type": "code",
   "execution_count": 2,
   "id": "55a9bb45",
   "metadata": {},
   "outputs": [],
   "source": [
    "sql_base = \"\"\"\n",
    "with a as (select *,\n",
    "                  try_cast(TermsDuration as int)                                                      as terms,\n",
    "                  case\n",
    "                      when ((EnhancedAccountTypeCode in\n",
    "                             ('00', '01', '02', '03', '06', '09', '0A', '0F', '10', '11', '12', '13', '14', '17', '1A',\n",
    "                              '1B', '1C', '20', '21', '22', '23', '30', '31', '3A', '65', '66', '67', '68', '69', '6A',\n",
    "                              '78', '7B'))\n",
    "                          and not\n",
    "                                ((EnhancedAccountTypeCode in ('3A')\n",
    "                                    or\n",
    "                                  (EnhancedAccountTypeCode in ('13')\n",
    "                                      and\n",
    "                                   KOBCode in ('AC', 'AF', 'AL', 'AN', 'AU', 'AZ', 'BB', 'BS', 'FA', 'FC', 'FF', 'FP', 'FS',\n",
    "                                           'FZ')))\n",
    "                                    or\n",
    "                                 (EnhancedAccountTypeCode in ('00')\n",
    "                                     or\n",
    "                                  (KOBCode in ('AF', 'AL', 'AN', 'AU', 'AZ', 'FA')\n",
    "                                      and\n",
    "                                   EnhancedAccountTypeCode in\n",
    "                                   ('00', '01', '02', '03', '06', '09', '0A', '0F', '10', '11', '12', '14', '17', '1A',\n",
    "                                    '1B', '1C', '20', '21', '22', '23', '30', '31', '65', '66', '67', '68', '69', '6A',\n",
    "                                    '78', '7B'))))\n",
    "                          and not\n",
    "                                (substr(KOBCode, 1, 1) in ('E')\n",
    "                                    or\n",
    "                                 EnhancedAccountTypeCode in ('12'))) then 1\n",
    "                      else 0 end                                                              as flag_psl,\n",
    "                  case\n",
    "                      when ((KOBCode in ('BB', 'BC', 'BN', 'BO', 'BS', 'FC', 'FS', 'NF', 'NS', 'NU', 'NZ')\n",
    "                          and\n",
    "                             TermsDuration in ('LOC', 'REV', 'UNK')\n",
    "                          and\n",
    "                             EnhancedAccountTypeCode in ('18', '37'))\n",
    "                          or\n",
    "                            (KOBCode in ('BB', 'BC', 'BN', 'BO', 'BS', 'FC', 'FS', 'NF', 'NS', 'NU', 'NZ')\n",
    "                                and\n",
    "                             EnhancedAccountTypeCode in ('0G'))\n",
    "                          or\n",
    "                            (KOBCode in ('BB', 'BC', 'FC', 'FS', 'NF', 'NS', 'NU')\n",
    "                                and\n",
    "                             TermsDuration in ('LOC', 'REV')\n",
    "                                and\n",
    "                             EnhancedAccountTypeCode in ('15', '47')\n",
    "                                and\n",
    "                             (case\n",
    "                                  when try_cast(AmountValue_1 as int) > 0 then try_cast(AmountValue_1 as int)\n",
    "                                  else try_cast(AmountValue_2 as int) end <= 25000))) then 1\n",
    "                      else 0 end                                                              as flag_bca,\n",
    "                  datepart('month',age(cast(credit_pull_date as date), cast(OpenDate as date)))+ datepart('year',age(cast(credit_pull_date as date), cast(OpenDate as date)))*12 as seasoning_month,\n",
    "                  coalesce(BalanceAmount, AmountPastDue) as effective_bal,\n",
    "                  case\n",
    "                      when substring(PaymentProfile, 1, 1) similar to ('1|2|3|4|5|6') then 1\n",
    "                      else 0 end                                                              as flag_currentdq,\n",
    "                  case\n",
    "                      when DelinquenciesOver90Days>0 or DelinquenciesOver60Days>0 or DelinquenciesOver30Days>0 or DerogCounter>0 then 1\n",
    "                      else 0\n",
    "                      end                                                                     as flag_everdq,\n",
    "                  try_cast(MonthlyPaymentAmount as int)                                     as payment_schedule\n",
    "           from trade_line_df\n",
    ")\n",
    "\"\"\""
   ]
  },
  {
   "cell_type": "code",
   "execution_count": 3,
   "id": "4bb17911",
   "metadata": {},
   "outputs": [],
   "source": [
    "param_config = {'descriptor': ['num_trade', 'num_month_recent', 'total_bal', 'ever_dq', 'current_dq', 'avg_term'],\n",
    "  'source_table': ['tradeline'],\n",
    "  'loan_type': ['flag_psl'],\n",
    "  'date_window':['','1month','3month','6month','12month'],\n",
    "  'sublist': ['',\"('PROSPER MARKETPLACE IN','LENDING CLUB CORP','ONEMAIN','ONEMAIN FINANCIAL','UPSTART NETWORK INC.','DISCOVER PERSONAL LOAN','BEST EGG/SST','BEST EGG','POSSIBLE FINANCIAL INC', 'FREEDOM PLUS','OPPLOANS/FINWISE','OPP LOANS')\"],\n",
    "  'openorclosed': ['','Open', 'Closed']\n",
    "}"
   ]
  },
  {
   "cell_type": "code",
   "execution_count": 4,
   "id": "acabb42e",
   "metadata": {},
   "outputs": [],
   "source": [
    "#  generate list of parameters based on parameter config file\n",
    "param_list = []\n",
    "trade_dict = pd.DataFrame()\n",
    "for i in range(0,len(param_config['descriptor'])):\n",
    "        for j in range(0,len(param_config['source_table'])):\n",
    "                for k in range(0, len(param_config['loan_type'])):\n",
    "                        for l in range(0, len(param_config['date_window'])):\n",
    "                                for m in range(0, len(param_config['sublist'])):\n",
    "                                    for n in range(0, len(param_config['openorclosed'])):\n",
    "                                        # define descriptor\n",
    "                                        descriptor = param_config['descriptor'][i]\n",
    "                                        # define source_table\n",
    "                                        source_table = param_config['source_table'][j]\n",
    "                                        # define loan_type\n",
    "                                        loan_type = param_config['loan_type'][k]\n",
    "                                        # define window\n",
    "                                        try:\n",
    "                                            date_window = param_config['date_window'][l]\n",
    "                                        except:\n",
    "                                            date_window = ''\n",
    "                                        # define sublist\n",
    "                                        sublist = param_config['sublist'][m]\n",
    "                                        # define openorclosed\n",
    "                                        openorclosed = param_config['openorclosed'][n]\n",
    "                                        # define parameters\n",
    "                                        param_new = {\n",
    "                                                    'descriptor': descriptor,\n",
    "                                                    'source_table': source_table,\n",
    "                                                    'loan_type': loan_type,\n",
    "                                                    'date_window': date_window,\n",
    "                                                    'sublist': sublist,\n",
    "                                                    'openorclosed': openorclosed}\n",
    "                                        attr_0 = exp_trade.exp_trade_attr_builder(param_new)\n",
    "                                        # field_name \n",
    "                                        field_name = attr_0.get_attr_name()  \n",
    "                                        # long description\n",
    "                                        long_description = attr_0.get_attr_name(1)\n",
    "                                        # generate list of parameters based on parameter config file\n",
    "                                        param_new.update({'field_name': field_name,\n",
    "                                                    'long_description': long_description})\n",
    "                                        trade_dict_new = pd.DataFrame({'field_name':[field_name],'long_description':[long_description]})\n",
    "                                        if param_new not in param_list:\n",
    "                                            param_list.append(param_new)\n",
    "                                            trade_dict = trade_dict.append(trade_dict_new)"
   ]
  },
  {
   "cell_type": "code",
   "execution_count": null,
   "id": "92dad2d8",
   "metadata": {},
   "outputs": [],
   "source": []
  },
  {
   "cell_type": "code",
   "execution_count": 5,
   "id": "55f8c99f",
   "metadata": {},
   "outputs": [
    {
     "data": {
      "text/plain": [
       "180"
      ]
     },
     "execution_count": 5,
     "metadata": {},
     "output_type": "execute_result"
    }
   ],
   "source": [
    "len(param_list)"
   ]
  },
  {
   "cell_type": "code",
   "execution_count": 6,
   "id": "2c2b6684",
   "metadata": {},
   "outputs": [
    {
     "name": "stdout",
     "output_type": "stream",
     "text": [
      "case when sum(flag_psl*1*(case when SubscriberDisplayName in ('PROSPER MARKETPLACE IN','LENDING CLUB CORP','ONEMAIN','ONEMAIN FINANCIAL','UPSTART NETWORK INC.','DISCOVER PERSONAL LOAN','BEST EGG/SST','BEST EGG','POSSIBLE FINANCIAL INC', 'FREEDOM PLUS','OPPLOANS/FINWISE','OPP LOANS') then 1 else 0 end)*1)>0 then min(case when flag_psl*1*(case when SubscriberDisplayName in ('PROSPER MARKETPLACE IN','LENDING CLUB CORP','ONEMAIN','ONEMAIN FINANCIAL','UPSTART NETWORK INC.','DISCOVER PERSONAL LOAN','BEST EGG/SST','BEST EGG','POSSIBLE FINANCIAL INC', 'FREEDOM PLUS','OPPLOANS/FINWISE','OPP LOANS') then 1 else 0 end)*1=1 then seasoning_month else null end) else null end as sofi_num_month_recent_list_psl\n"
     ]
    }
   ],
   "source": [
    "# generate sql code for aggregation section\n",
    "sql_agg = \"\"\n",
    "for params_trade in param_list:\n",
    "    attr = exp_trade.exp_trade_attr_builder(params_trade)\n",
    "    sql_agg = sql_agg +\",\"  + attr.get_trade_stats_sql() \n",
    "    if params_trade['field_name'] == 'sofi_num_month_recent_list_psl':\n",
    "        print(attr.get_trade_stats_sql())"
   ]
  },
  {
   "cell_type": "code",
   "execution_count": 7,
   "id": "a9763229",
   "metadata": {},
   "outputs": [],
   "source": [
    "sql = sql_base + \"\"\"select id, applicant_type, credit_pull_id\n",
    "--<placeholder>--\n",
    "from a \n",
    "group by 1, 2, 3\n",
    "\"\"\"\n",
    "\n",
    "sql = sql.replace(\"--<placeholder>--\", sql_agg)"
   ]
  },
  {
   "cell_type": "markdown",
   "id": "92f9da64",
   "metadata": {},
   "source": [
    "##### loop through each| quarter and generate inquiry attributes"
   ]
  },
  {
   "cell_type": "code",
   "execution_count": 8,
   "id": "8f576d1a",
   "metadata": {},
   "outputs": [],
   "source": [
    "quarter_list = ['2021Q2', '2021Q3', '2021Q4', '2022Q1']"
   ]
  },
  {
   "cell_type": "code",
   "execution_count": 9,
   "id": "8d8db417",
   "metadata": {},
   "outputs": [
    {
     "name": "stdout",
     "output_type": "stream",
     "text": [
      "2021Q2\n",
      "2021Q3\n",
      "2021Q4\n",
      "2022Q1\n"
     ]
    }
   ],
   "source": [
    "trade_attr = pd.DataFrame()\n",
    "\n",
    "for quarter in quarter_list:\n",
    "    print(quarter)\n",
    "    trade_line_df = pd.read_parquet(f's3://sofi-data-science/hpeng/pl-gen4/data_dump/raw_tables/feature_creation/tradeline_{quarter}.parquet')\n",
    "    trade_attr_new = duckdb.query(sql).to_df()\n",
    "    trade_attr = trade_attr.append(trade_attr_new)\n",
    "    \n",
    "trade_attr = trade_attr.drop_duplicates()\n",
    "trade_attr.to_parquet(f's3://sofi-data-science/hpeng/pl-gen4/data_dump/raw_tables/feature_creation/agg_trade_attr_2021Q1_202201.parquet')"
   ]
  },
  {
   "cell_type": "code",
   "execution_count": 10,
   "id": "57c29a5f",
   "metadata": {},
   "outputs": [
    {
     "data": {
      "text/html": [
       "<div>\n",
       "<style scoped>\n",
       "    .dataframe tbody tr th:only-of-type {\n",
       "        vertical-align: middle;\n",
       "    }\n",
       "\n",
       "    .dataframe tbody tr th {\n",
       "        vertical-align: top;\n",
       "    }\n",
       "\n",
       "    .dataframe thead th {\n",
       "        text-align: right;\n",
       "    }\n",
       "</style>\n",
       "<table border=\"1\" class=\"dataframe\">\n",
       "  <thead>\n",
       "    <tr style=\"text-align: right;\">\n",
       "      <th></th>\n",
       "      <th>id</th>\n",
       "      <th>applicant_type</th>\n",
       "      <th>credit_pull_id</th>\n",
       "      <th>sofi_num_trade_psl</th>\n",
       "      <th>sofi_num_trade_psl_open</th>\n",
       "      <th>sofi_num_trade_psl_closed</th>\n",
       "      <th>sofi_num_trade_list_psl</th>\n",
       "      <th>sofi_num_trade_list_psl_open</th>\n",
       "      <th>sofi_num_trade_list_psl_closed</th>\n",
       "      <th>sofi_num_trade_psl_1month</th>\n",
       "      <th>...</th>\n",
       "      <th>sofi_avg_term_psl_closed_6month</th>\n",
       "      <th>sofi_avg_term_list_psl_6month</th>\n",
       "      <th>sofi_avg_term_list_psl_open_6month</th>\n",
       "      <th>sofi_avg_term_list_psl_closed_6month</th>\n",
       "      <th>sofi_avg_term_psl_12month</th>\n",
       "      <th>sofi_avg_term_psl_open_12month</th>\n",
       "      <th>sofi_avg_term_psl_closed_12month</th>\n",
       "      <th>sofi_avg_term_list_psl_12month</th>\n",
       "      <th>sofi_avg_term_list_psl_open_12month</th>\n",
       "      <th>sofi_avg_term_list_psl_closed_12month</th>\n",
       "    </tr>\n",
       "  </thead>\n",
       "  <tbody>\n",
       "  </tbody>\n",
       "</table>\n",
       "<p>0 rows × 183 columns</p>\n",
       "</div>"
      ],
      "text/plain": [
       "Empty DataFrame\n",
       "Columns: [id, applicant_type, credit_pull_id, sofi_num_trade_psl, sofi_num_trade_psl_open, sofi_num_trade_psl_closed, sofi_num_trade_list_psl, sofi_num_trade_list_psl_open, sofi_num_trade_list_psl_closed, sofi_num_trade_psl_1month, sofi_num_trade_psl_open_1month, sofi_num_trade_psl_closed_1month, sofi_num_trade_list_psl_1month, sofi_num_trade_list_psl_open_1month, sofi_num_trade_list_psl_closed_1month, sofi_num_trade_psl_3month, sofi_num_trade_psl_open_3month, sofi_num_trade_psl_closed_3month, sofi_num_trade_list_psl_3month, sofi_num_trade_list_psl_open_3month, sofi_num_trade_list_psl_closed_3month, sofi_num_trade_psl_6month, sofi_num_trade_psl_open_6month, sofi_num_trade_psl_closed_6month, sofi_num_trade_list_psl_6month, sofi_num_trade_list_psl_open_6month, sofi_num_trade_list_psl_closed_6month, sofi_num_trade_psl_12month, sofi_num_trade_psl_open_12month, sofi_num_trade_psl_closed_12month, sofi_num_trade_list_psl_12month, sofi_num_trade_list_psl_open_12month, sofi_num_trade_list_psl_closed_12month, sofi_num_month_recent_psl, sofi_num_month_recent_psl_open, sofi_num_month_recent_psl_closed, sofi_num_month_recent_list_psl, sofi_num_month_recent_list_psl_open, sofi_num_month_recent_list_psl_closed, sofi_num_month_recent_psl_1month, sofi_num_month_recent_psl_open_1month, sofi_num_month_recent_psl_closed_1month, sofi_num_month_recent_list_psl_1month, sofi_num_month_recent_list_psl_open_1month, sofi_num_month_recent_list_psl_closed_1month, sofi_num_month_recent_psl_3month, sofi_num_month_recent_psl_open_3month, sofi_num_month_recent_psl_closed_3month, sofi_num_month_recent_list_psl_3month, sofi_num_month_recent_list_psl_open_3month, sofi_num_month_recent_list_psl_closed_3month, sofi_num_month_recent_psl_6month, sofi_num_month_recent_psl_open_6month, sofi_num_month_recent_psl_closed_6month, sofi_num_month_recent_list_psl_6month, sofi_num_month_recent_list_psl_open_6month, sofi_num_month_recent_list_psl_closed_6month, sofi_num_month_recent_psl_12month, sofi_num_month_recent_psl_open_12month, sofi_num_month_recent_psl_closed_12month, sofi_num_month_recent_list_psl_12month, sofi_num_month_recent_list_psl_open_12month, sofi_num_month_recent_list_psl_closed_12month, sofi_total_bal_psl, sofi_total_bal_psl_open, sofi_total_bal_psl_closed, sofi_total_bal_list_psl, sofi_total_bal_list_psl_open, sofi_total_bal_list_psl_closed, sofi_total_bal_psl_1month, sofi_total_bal_psl_open_1month, sofi_total_bal_psl_closed_1month, sofi_total_bal_list_psl_1month, sofi_total_bal_list_psl_open_1month, sofi_total_bal_list_psl_closed_1month, sofi_total_bal_psl_3month, sofi_total_bal_psl_open_3month, sofi_total_bal_psl_closed_3month, sofi_total_bal_list_psl_3month, sofi_total_bal_list_psl_open_3month, sofi_total_bal_list_psl_closed_3month, sofi_total_bal_psl_6month, sofi_total_bal_psl_open_6month, sofi_total_bal_psl_closed_6month, sofi_total_bal_list_psl_6month, sofi_total_bal_list_psl_open_6month, sofi_total_bal_list_psl_closed_6month, sofi_total_bal_psl_12month, sofi_total_bal_psl_open_12month, sofi_total_bal_psl_closed_12month, sofi_total_bal_list_psl_12month, sofi_total_bal_list_psl_open_12month, sofi_total_bal_list_psl_closed_12month, sofi_ever_dq_psl, sofi_ever_dq_psl_open, sofi_ever_dq_psl_closed, sofi_ever_dq_list_psl, sofi_ever_dq_list_psl_open, sofi_ever_dq_list_psl_closed, sofi_ever_dq_psl_1month, ...]\n",
       "Index: []\n",
       "\n",
       "[0 rows x 183 columns]"
      ]
     },
     "execution_count": 10,
     "metadata": {},
     "output_type": "execute_result"
    }
   ],
   "source": [
    "trade_attr[trade_attr.id == '5762439']"
   ]
  },
  {
   "cell_type": "code",
   "execution_count": null,
   "id": "35aae614",
   "metadata": {},
   "outputs": [],
   "source": []
  }
 ],
 "metadata": {
  "kernelspec": {
   "display_name": "Python 3.8.3 ('base')",
   "language": "python",
   "name": "python3"
  },
  "language_info": {
   "codemirror_mode": {
    "name": "ipython",
    "version": 3
   },
   "file_extension": ".py",
   "mimetype": "text/x-python",
   "name": "python",
   "nbconvert_exporter": "python",
   "pygments_lexer": "ipython3",
   "version": "3.8.3"
  },
  "vscode": {
   "interpreter": {
    "hash": "88279d2366fe020547cde40dd65aa0e3aa662a6ec1f3ca12d88834876c85e1a6"
   }
  }
 },
 "nbformat": 4,
 "nbformat_minor": 5
}
