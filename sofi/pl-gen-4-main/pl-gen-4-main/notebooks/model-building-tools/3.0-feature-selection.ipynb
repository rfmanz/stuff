{
 "cells": [
  {
   "cell_type": "markdown",
   "id": "cda89162",
   "metadata": {},
   "source": [
    "## Feature Selection\n",
    "---\n",
    "\n",
    "* use Boruta to select top 100 features overall\n",
    "* select top 10 features from each attrbute group"
   ]
  },
  {
   "cell_type": "code",
   "execution_count": 1,
   "id": "a533c3dc",
   "metadata": {},
   "outputs": [],
   "source": [
    "import sys, os, json\n",
    "import pandas as pd\n",
    "import numpy as np\n",
    "import lightgbm as lgb\n",
    "import pickle as pkl\n",
    "from tqdm import tqdm\n",
    "from smart_open import open\n",
    "import rdsutils\n",
    "from rdsutils.feature_selection import FeatureSelector \n",
    "\n",
    "sys.path.insert(1, \"..\")\n",
    "pd.set_option('display.max_columns', 20)\n",
    "pd.set_option('display.width', 500)\n",
    "\n",
    "import src\n",
    "from src.utils.data_dictionary import ExperianDataDict\n",
    "\n",
    "%load_ext autoreload\n",
    "%autoreload 2"
   ]
  },
  {
   "cell_type": "code",
   "execution_count": 2,
   "id": "89e7f698",
   "metadata": {},
   "outputs": [],
   "source": [
    "with open(os.path.join(\"../config.json\"), \"r\") as f:\n",
    "    config = json.load(f)"
   ]
  },
  {
   "cell_type": "code",
   "execution_count": 3,
   "id": "017c916b",
   "metadata": {},
   "outputs": [],
   "source": [
    "df_train = pd.read_parquet(config[\"data\"][\"df_train\"])\n",
    "df_valid = pd.read_parquet(config[\"data\"][\"df_valid\"])\n",
    "df_test = pd.read_parquet(config[\"data\"][\"df_test\"])"
   ]
  },
  {
   "cell_type": "code",
   "execution_count": 4,
   "id": "d52f3f75",
   "metadata": {},
   "outputs": [],
   "source": [
    "dd = pd.read_csv(config[\"meta\"][\"data_dict_path\"])\n",
    "\n",
    "bureau_features = config[\"data_columns\"][\"bureau_features\"]\n",
    "meta_cols = config[\"data_columns\"][\"meta_cols\"]\n",
    "target_col = config[\"data_columns\"][\"target_cols\"][0]"
   ]
  },
  {
   "cell_type": "markdown",
   "id": "fdd36ce3",
   "metadata": {},
   "source": [
    "### Currently temporarily get data for Tabular Pipelines. \n",
    "---\n",
    "\n",
    "For now, only select features used in PLGen3, and save them separately to cleaned data fields\n",
    "\n",
    "Do the following processing later."
   ]
  },
  {
   "cell_type": "code",
   "execution_count": 5,
   "id": "eb76e114",
   "metadata": {},
   "outputs": [],
   "source": [
    "gen3_features = config[\"data_columns\"][\"gen3_features\"]\n",
    "meta_cols = config[\"data_columns\"][\"meta_cols\"]\n",
    "target_cols = config[\"data_columns\"][\"target_cols\"]\n",
    "cols = gen3_features + meta_cols + target_cols"
   ]
  },
  {
   "cell_type": "code",
   "execution_count": 31,
   "id": "5b4b8ae9",
   "metadata": {},
   "outputs": [],
   "source": [
    "# train_data = df_train[cols]\n",
    "# valid_data = df_valid[cols]\n",
    "# test_data = df_test[cols]\n",
    "\n",
    "# # drop indeterminates\n",
    "# train_data = train_data[train_data[target_col].between(0,1)]\n",
    "# valid_data = valid_data[valid_data[target_col].between(0,1)]\n",
    "# test_data = test_data[test_data[target_col].between(0,1)]"
   ]
  },
  {
   "cell_type": "code",
   "execution_count": 32,
   "id": "c10152fa",
   "metadata": {},
   "outputs": [],
   "source": [
    "# s3_path = config[\"meta\"][\"data_dir\"]\n",
    "# if \"data_processed\" not in config:\n",
    "#     config[\"data_processed\"] = {}\n",
    "\n",
    "# dpath = os.path.join(s3_path, \"cleaned\", \"train_df.parquet\")\n",
    "# train_data.to_parquet(dpath)\n",
    "# config[\"data_processed\"][\"train_df\"] = dpath\n",
    "\n",
    "# dpath = os.path.join(s3_path, \"cleaned\", \"valid_df.parquet\")\n",
    "# valid_data.to_parquet(dpath)\n",
    "# config[\"data_processed\"][\"valid_df\"] = dpath\n",
    "\n",
    "# dpath = os.path.join(s3_path, \"cleaned\", \"test_df.parquet\")\n",
    "# test_data.to_parquet(dpath)\n",
    "# config[\"data_processed\"][\"test_df\"] = dpath"
   ]
  },
  {
   "cell_type": "code",
   "execution_count": 33,
   "id": "5cbec3c4",
   "metadata": {},
   "outputs": [],
   "source": [
    "# with open(os.path.join(\"../config.json\"), \"w\") as f:\n",
    "#     json.dump(config, f, indent=4)\n",
    "    \n",
    "# with open(os.path.join(config[\"meta\"][\"data_dir\"], \"config.json\"), \"w\") as f:\n",
    "#     json.dump(config, f, indent=4)"
   ]
  },
  {
   "cell_type": "markdown",
   "id": "32305336",
   "metadata": {},
   "source": [
    "### Initial Processing\n",
    "---\n",
    "\n",
    "Drop\n",
    "* single unique value\n",
    "* significant missing  > 50%? - majority as special value\n",
    "* not AA able"
   ]
  },
  {
   "cell_type": "code",
   "execution_count": 6,
   "id": "9a889eb5",
   "metadata": {},
   "outputs": [],
   "source": [
    "fsel = FeatureSelector(df_train, \n",
    "                       label_cols=target_col,\n",
    "                       feature_cols=bureau_features)"
   ]
  },
  {
   "cell_type": "code",
   "execution_count": 7,
   "id": "1d1c973d",
   "metadata": {},
   "outputs": [
    {
     "name": "stdout",
     "output_type": "stream",
     "text": [
      "82 features with a single unique value.\n",
      "484 features with greater than                 0.8 missing values\n",
      "703 features are not aa able\n"
     ]
    }
   ],
   "source": [
    "ft_one_unique = fsel.get_single_unique()\n",
    "\n",
    "missing_rate_threshold = 0.8\n",
    "ft_missing = fsel.get_missing(missing_rate_threshold)\n",
    "\n",
    "ft_not_aaable = dd[dd[\"adverse actionable\"] != \"Y\"][[\"field_name\", \"adverse actionable\"]]\n",
    "ft_not_aaable = ft_not_aaable[ft_not_aaable.isin(bureau_features)]\n",
    "ft_not_aaable.columns = [\"feature\", \"adverse_actionable\"]\n",
    "print(f\"{len(ft_not_aaable)} features are not aa able\")"
   ]
  },
  {
   "cell_type": "code",
   "execution_count": 8,
   "id": "63a4b3b4",
   "metadata": {},
   "outputs": [
    {
     "name": "stdout",
     "output_type": "stream",
     "text": [
      "dropping 82 features : kept 2645 features\n",
      "    reason:  single unique value\n",
      "dropping 478 features : kept 2167 features\n",
      "    reason:  missing > 0.8\n",
      "dropping 134 features : kept 2033 features\n",
      "    reason:  not aa able\n"
     ]
    }
   ],
   "source": [
    "# remove those features\n",
    "\n",
    "def remove_features(candidates, to_remove, reason=None):\n",
    "    result = sorted(list(set(candidates) - set(to_remove)))\n",
    "    ndroped = len(candidates) - len(result)\n",
    "    print(f\"dropping {ndroped} features : kept {len(result)} features\")\n",
    "    print(f\"    reason:  {reason}\")\n",
    "    return result\n",
    "    \n",
    "candidates = remove_features(bureau_features, \n",
    "                             ft_one_unique.feature.values,\n",
    "                             \"single unique value\")\n",
    "candidates = remove_features(candidates, \n",
    "                             ft_missing.feature.values, \n",
    "                             f\"missing > {missing_rate_threshold}\")\n",
    "candidates = remove_features(candidates, \n",
    "                             ft_not_aaable.feature.values,\n",
    "                             \"not aa able\")"
   ]
  },
  {
   "cell_type": "code",
   "execution_count": 9,
   "id": "69632fcf",
   "metadata": {},
   "outputs": [
    {
     "data": {
      "text/plain": [
       "2033"
      ]
     },
     "execution_count": 9,
     "metadata": {},
     "output_type": "execute_result"
    }
   ],
   "source": [
    "len(candidates)"
   ]
  },
  {
   "cell_type": "markdown",
   "id": "92a3b873",
   "metadata": {},
   "source": [
    "### Over all\n",
    "---"
   ]
  },
  {
   "cell_type": "code",
   "execution_count": null,
   "id": "3a9e4090",
   "metadata": {},
   "outputs": [],
   "source": [
    "%%time\n",
    "model = fsel.get_default_lgb_estimator('classification')\n",
    "bimp = fsel.get_boruta_importance(model, features=candidates, \n",
    "                                  verbose=1, random_state=42)\n",
    "fsel.record_boruta_importance.head()"
   ]
  },
  {
   "cell_type": "code",
   "execution_count": null,
   "id": "b35b5366",
   "metadata": {},
   "outputs": [],
   "source": [
    "os.makedirs(\"../artifact\", exist_ok=True)\n",
    "fsel.record_boruta_importance.to_csv(\"../artifact/boruta_importance.csv\")"
   ]
  },
  {
   "cell_type": "code",
   "execution_count": null,
   "id": "ea48c215",
   "metadata": {},
   "outputs": [],
   "source": [
    "fsel.get_woe(method='equal', num_bin_start=10, min_iv=0.02, min_samples_leaf=100, display=0) \n",
    "fsel.get_iv(method='equal', num_bin_start=10, min_iv=0.02, min_samples_leaf=100, display=0)"
   ]
  },
  {
   "cell_type": "code",
   "execution_count": null,
   "id": "b166fee6",
   "metadata": {},
   "outputs": [],
   "source": [
    "len(fsel.woe.woe_dict())"
   ]
  },
  {
   "cell_type": "code",
   "execution_count": null,
   "id": "dbb60629",
   "metadata": {},
   "outputs": [],
   "source": [
    "fsel.save('../artifact/fsel.pkl') "
   ]
  },
  {
   "cell_type": "code",
   "execution_count": null,
   "id": "bfa1e238",
   "metadata": {},
   "outputs": [],
   "source": []
  },
  {
   "cell_type": "markdown",
   "id": "14ba159c",
   "metadata": {},
   "source": [
    "### By Attrbute types\n",
    "---"
   ]
  },
  {
   "cell_type": "code",
   "execution_count": 12,
   "id": "cef57816",
   "metadata": {},
   "outputs": [
    {
     "data": {
      "text/plain": [
       "table_name       attr_grp                         \n",
       "premier_1_3      Delinquent Trade Count               496\n",
       "                 Balance Amount Payment               413\n",
       "                 Age/Recency                          253\n",
       "                 Trade Count                          219\n",
       "                 Ratios/Percentage                    196\n",
       "                 Public Records/Inquiry               149\n",
       "                 Other Criteria Counts                132\n",
       "                 Rank                                 105\n",
       "                 Occurrence                            99\n",
       "                 Satisfactory Trade Count              58\n",
       "trended_3d       trended_3d                           609\n",
       "trended_3d_v1_1  Quarterly average                    546\n",
       "                 Payment variance                     318\n",
       "                 Payment magnitude                    264\n",
       "                 Balance variance                     245\n",
       "                 Balance migration activity           104\n",
       "                 Balance magnitude                     88\n",
       "                 Balance to limit ratio variance       61\n",
       "                 Slope                                 61\n",
       "                 Balance to limit ratio magnitude      46\n",
       "                 Payment ratio                         42\n",
       "                 Balance over limit activity           40\n",
       "                 Overpayment activity                  39\n",
       "                 Credit amount variance                36\n",
       "                 Collection magnitude                  31\n",
       "                 Share of wallet magnitude             27\n",
       "                 Sloppy payment activity               24\n",
       "                 Balance activity                      22\n",
       "                 Available credit amount magnitude     21\n",
       "                 Delinquency activity                  12\n",
       "                 Seasonality magnitude                 12\n",
       "                 Collection variance                   10\n",
       "                 Machine learning activity             10\n",
       "                 Machine learning magnitude            10\n",
       "                 Derogatory variance                    8\n",
       "                 Inquiry magnitude                      4\n",
       "                 Inquiry variance                       2\n",
       "                 SegmentID                              2\n",
       "Name: attr_grp, dtype: int64"
      ]
     },
     "execution_count": 12,
     "metadata": {},
     "output_type": "execute_result"
    }
   ],
   "source": [
    "dd.groupby('table_name').attr_grp.value_counts()"
   ]
  },
  {
   "cell_type": "code",
   "execution_count": 22,
   "id": "348c77f7",
   "metadata": {},
   "outputs": [],
   "source": [
    "dd_cand = dd[dd.field_name.isin(candidates)]\n",
    "groups = dd_cand[[\"table_name\", \"attr_grp\"]].copy().drop_duplicates()# .unique()"
   ]
  },
  {
   "cell_type": "code",
   "execution_count": 28,
   "id": "4a10ed57",
   "metadata": {},
   "outputs": [
    {
     "data": {
      "text/plain": [
       "table_name   attr_grp                \n",
       "premier_1_3  Delinquent Trade Count      437\n",
       "             Balance Amount Payment      311\n",
       "             Trade Count                 195\n",
       "             Ratios/Percentage           179\n",
       "             Age/Recency                 131\n",
       "             Other Criteria Counts       122\n",
       "             Public Records/Inquiry       98\n",
       "             Rank                         84\n",
       "             Occurrence                   77\n",
       "             Satisfactory Trade Count     51\n",
       "trended_3d   trended_3d                  348\n",
       "Name: attr_grp, dtype: int64"
      ]
     },
     "execution_count": 28,
     "metadata": {},
     "output_type": "execute_result"
    }
   ],
   "source": [
    "dd_cand.groupby('table_name').attr_grp.value_counts()"
   ]
  },
  {
   "cell_type": "code",
   "execution_count": null,
   "id": "3126e386",
   "metadata": {},
   "outputs": [],
   "source": []
  },
  {
   "cell_type": "code",
   "execution_count": null,
   "id": "fd00133c",
   "metadata": {},
   "outputs": [],
   "source": []
  },
  {
   "cell_type": "code",
   "execution_count": 49,
   "id": "e99a7b09",
   "metadata": {},
   "outputs": [
    {
     "name": "stderr",
     "output_type": "stream",
     "text": [
      "  0%|          | 0/11 [00:00<?, ?it/s]"
     ]
    },
    {
     "name": "stdout",
     "output_type": "stream",
     "text": [
      "Running iteration number 20.9.\r"
     ]
    },
    {
     "name": "stderr",
     "output_type": "stream",
     "text": [
      "  9%|▉         | 1/11 [07:12<1:12:03, 432.38s/it]"
     ]
    },
    {
     "name": "stdout",
     "output_type": "stream",
     "text": [
      "Running iteration number 20.9.\r"
     ]
    },
    {
     "name": "stderr",
     "output_type": "stream",
     "text": [
      " 18%|█▊        | 2/11 [25:38<2:04:18, 828.72s/it]"
     ]
    },
    {
     "name": "stdout",
     "output_type": "stream",
     "text": [
      "Running iteration number 20.9.\r"
     ]
    },
    {
     "name": "stderr",
     "output_type": "stream",
     "text": [
      " 27%|██▋       | 3/11 [36:19<1:39:02, 742.76s/it]"
     ]
    },
    {
     "name": "stdout",
     "output_type": "stream",
     "text": [
      "Running iteration number 8.7..\r"
     ]
    },
    {
     "name": "stderr",
     "output_type": "stream",
     "text": [
      " 36%|███▋      | 4/11 [38:52<59:31, 510.23s/it]  "
     ]
    },
    {
     "name": "stdout",
     "output_type": "stream",
     "text": [
      "Running iteration number 20.9.\r"
     ]
    },
    {
     "name": "stderr",
     "output_type": "stream",
     "text": [
      " 45%|████▌     | 5/11 [43:10<41:55, 419.25s/it]"
     ]
    },
    {
     "name": "stdout",
     "output_type": "stream",
     "text": [
      "Running iteration number 20.9.\r"
     ]
    },
    {
     "name": "stderr",
     "output_type": "stream",
     "text": [
      " 55%|█████▍    | 6/11 [47:11<29:52, 358.52s/it]"
     ]
    },
    {
     "name": "stdout",
     "output_type": "stream",
     "text": [
      "Running iteration number 4.3..\r"
     ]
    },
    {
     "name": "stderr",
     "output_type": "stream",
     "text": [
      " 64%|██████▎   | 7/11 [48:18<17:33, 263.35s/it]"
     ]
    },
    {
     "name": "stdout",
     "output_type": "stream",
     "text": [
      "Running iteration number 20.9.\r"
     ]
    },
    {
     "name": "stderr",
     "output_type": "stream",
     "text": [
      " 73%|███████▎  | 8/11 [51:25<11:56, 238.81s/it]"
     ]
    },
    {
     "name": "stdout",
     "output_type": "stream",
     "text": [
      "Running iteration number 20.9.\r"
     ]
    },
    {
     "name": "stderr",
     "output_type": "stream",
     "text": [
      " 82%|████████▏ | 9/11 [1:01:25<11:43, 351.87s/it]"
     ]
    },
    {
     "name": "stdout",
     "output_type": "stream",
     "text": [
      "Running iteration number 20.9.\r"
     ]
    },
    {
     "name": "stderr",
     "output_type": "stream",
     "text": [
      " 91%|█████████ | 10/11 [1:05:25<05:17, 317.23s/it]"
     ]
    },
    {
     "name": "stdout",
     "output_type": "stream",
     "text": [
      "Running iteration number 20.9.\r"
     ]
    },
    {
     "name": "stderr",
     "output_type": "stream",
     "text": [
      "100%|██████████| 11/11 [1:26:12<00:00, 470.22s/it]"
     ]
    },
    {
     "name": "stdout",
     "output_type": "stream",
     "text": [
      "Completed iteration number 20.\r"
     ]
    },
    {
     "name": "stderr",
     "output_type": "stream",
     "text": [
      "\n"
     ]
    }
   ],
   "source": [
    "from tqdm import tqdm\n",
    "\n",
    "fsels = {}\n",
    "os.makedirs(\"../artifact\", exist_ok=True)\n",
    "\n",
    "for _, tname, grp in tqdm(groups.to_records()):\n",
    "    features_ = dd_cand[(dd_cand.table_name==tname) \n",
    "                        & (dd_cand.attr_grp==grp)].field_name.unique()\n",
    "    \n",
    "    fsel_ = FeatureSelector(df_train, \n",
    "                            label_cols=target_col,\n",
    "                            feature_cols=features_)\n",
    "    \n",
    "    model = fsel_.get_default_lgb_estimator('classification')\n",
    "    bimp = fsel_.get_boruta_importance(model, max_iter=20,\n",
    "                                       verbose=1, random_state=42)\n",
    "    \n",
    "    tname = tname.replace(\"/\", \"_\")\n",
    "    grp = grp.replace(\"/\", \"_\")\n",
    "    fsel_.record_boruta_importance.to_csv(f\"../artifact/boruta_importance_{tname}_{grp}.csv\")\n",
    "    \n",
    "    fsels[(tname, grp)] = fsel_"
   ]
  },
  {
   "cell_type": "code",
   "execution_count": null,
   "id": "a9f00aba",
   "metadata": {},
   "outputs": [],
   "source": []
  }
 ],
 "metadata": {
  "kernelspec": {
   "display_name": "conda_amazonei_tensorflow2_p36",
   "language": "python",
   "name": "conda_amazonei_tensorflow2_p36"
  },
  "language_info": {
   "codemirror_mode": {
    "name": "ipython",
    "version": 3
   },
   "file_extension": ".py",
   "mimetype": "text/x-python",
   "name": "python",
   "nbconvert_exporter": "python",
   "pygments_lexer": "ipython3",
   "version": "3.6.13"
  }
 },
 "nbformat": 4,
 "nbformat_minor": 5
}
