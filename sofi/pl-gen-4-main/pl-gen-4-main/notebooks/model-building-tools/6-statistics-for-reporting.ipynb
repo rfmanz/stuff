{
 "cells": [
  {
   "cell_type": "markdown",
   "id": "d011316c",
   "metadata": {},
   "source": [
    "### Reporting Statistics\n",
    "---\n",
    "\n",
    "Everything it needs to answer questions"
   ]
  },
  {
   "cell_type": "code",
   "execution_count": 1,
   "id": "3c6d8adb",
   "metadata": {},
   "outputs": [],
   "source": [
    "import sys, os, json, copy, sklearn, shap\n",
    "import pandas as pd\n",
    "import numpy as np\n",
    "import lightgbm as lgb\n",
    "import pickle as pkl\n",
    "from tqdm import tqdm\n",
    "from smart_open import open\n",
    "import matplotlib.pyplot as plt\n",
    "from sklearn.model_selection import train_test_split\n",
    "from collections import defaultdict as ddict\n",
    "\n",
    "sys.path.insert(1, \"../../..\")\n",
    "from src.feature_selection import (\n",
    "    get_top_k_features,\n",
    "    get_monotone_dir,\n",
    "    remove_corr_fts,\n",
    "    get_feature_by_lgbm_importance,\n",
    "    get_feature_shap_abs\n",
    ")\n",
    "from rdsutils.metrics import (\n",
    "    get_binary_metrics,\n",
    "    get_pred_reports\n",
    ")\n",
    "\n",
    "plt.style.use(\"seaborn\")\n",
    "%load_ext autoreload\n",
    "%autoreload 2"
   ]
  },
  {
   "cell_type": "code",
   "execution_count": 2,
   "id": "0ac3a11b",
   "metadata": {},
   "outputs": [],
   "source": [
    "local_artifact_path = \"../../../artifacts/final_model/\""
   ]
  },
  {
   "cell_type": "code",
   "execution_count": 91,
   "id": "d2b1381a",
   "metadata": {},
   "outputs": [
    {
     "data": {
      "text/plain": [
       "dict_keys(['data', 'meta', 'data_columns', 'model_params', 'model_features', 'impute_vals', 'monotone', 'models'])"
      ]
     },
     "metadata": {},
     "output_type": "display_data"
    }
   ],
   "source": [
    "segment = \"full\"\n",
    "\n",
    "seed = 42\n",
    "artifact_path = \"s3://sofi-data-science/jxu/pl-gen4/prescreen\"\n",
    "data_dir = \"s3://sofi-data-science/jxu/pl-gen4/data_dump/pl-gen4-final-data/prescreen\"\n",
    "nr_to_consider = 100\n",
    "\n",
    "with open(os.path.join(artifact_path, \"config.json\"), \"r\") as f:\n",
    "    config = json.load(f)\n",
    "    \n",
    "with open(os.path.join(artifact_path, segment, \"woe_dict.pkl\"), \"rb\") as f:\n",
    "    woe_dict = pkl.load(f)\n",
    "    \n",
    "with open(os.path.join(artifact_path, segment, \"woe_json.json\"), \"r\") as f:\n",
    "    woe_json = json.load(f)\n",
    "    \n",
    "with open(os.path.join(artifact_path, segment, \"mp_woe_imputer.pkl\"), \"rb\") as f:\n",
    "    imputer_state_dict = pkl.load(f)\n",
    "    \n",
    "with open(os.path.join(artifact_path, segment, \"monotone_dict.json\"), \"r\") as f:\n",
    "    monotone_dict = json.load(f)\n",
    "    \n",
    "with open(config[\"models\"][\"prescreen\"][\"lgbm_bmk_imputed\"], \"rb\") as f:\n",
    "    lgbm_bmk = pkl.load(f)\n",
    "    \n",
    "with open(os.path.join(local_artifact_path, \"models\", \"prescreen_model_hp.pkl\"), \"rb\") as f:\n",
    "    model = pkl.load(f)\n",
    "    \n",
    "# with open(os.path.join(local_artifact_path, \"hyper_tune_obj.pkl\"), \"rb\") as f:\n",
    "#     hptune = pkl.load(f)\n",
    "    \n",
    "bmk_fts = lgbm_bmk.feature_name_.copy()\n",
    "\n",
    "display(config.keys()) \n",
    "\n",
    "# training data\n",
    "target = \"target\"\n",
    "target_indeterminate = \"indeterminate\"\n",
    "ri_weight = \"weight_ri\"\n",
    "weight = \"weight\""
   ]
  },
  {
   "cell_type": "code",
   "execution_count": 11,
   "id": "1722b525",
   "metadata": {},
   "outputs": [
    {
     "data": {
      "text/plain": [
       "(4369879, 275)"
      ]
     },
     "execution_count": 11,
     "metadata": {},
     "output_type": "execute_result"
    }
   ],
   "source": [
    "df_unimp = pd.read_parquet(config[\"data\"][\"prescreen-v2\"][f\"df\"])\n",
    "df_unimp.shape"
   ]
  },
  {
   "cell_type": "code",
   "execution_count": 12,
   "id": "70ae9004",
   "metadata": {},
   "outputs": [
    {
     "name": "stdout",
     "output_type": "stream",
     "text": [
      "CPU times: user 39.3 s, sys: 1min 53s, total: 2min 33s\n",
      "Wall time: 55.6 s\n"
     ]
    },
    {
     "data": {
      "text/plain": [
       "((3277182, 275), (1101191, 275), (1150725, 275))"
      ]
     },
     "execution_count": 12,
     "metadata": {},
     "output_type": "execute_result"
    }
   ],
   "source": [
    "%%time\n",
    "train_df = pd.read_parquet(config[\"data\"][\"prescreen-v2\"][f\"train_df_imputed\"],\n",
    "                    ) # columns=cols)\n",
    "valid_df = pd.read_parquet(config[\"data\"][\"prescreen-v2\"][f\"valid_df_imputed\"],\n",
    "                    ) # columns=cols)\n",
    "test_df = pd.read_parquet(config[\"data\"][\"prescreen-v2\"][f\"test_df_imputed\"],\n",
    "                    ) # columns=cols)\n",
    "train_df.shape, valid_df.shape, test_df.shape"
   ]
  },
  {
   "cell_type": "code",
   "execution_count": 23,
   "id": "c310b3c4",
   "metadata": {},
   "outputs": [
    {
     "data": {
      "text/plain": [
       "ri_source\n",
       "booked    196413.00\n",
       "others    333389.73\n",
       "proxy     282575.50\n",
       "Name: weight, dtype: float64"
      ]
     },
     "execution_count": 23,
     "metadata": {},
     "output_type": "execute_result"
    }
   ],
   "source": [
    "train_df[[weight, \"ri_source\"]].groupby(\"ri_source\")[weight].sum().round(2)"
   ]
  },
  {
   "cell_type": "code",
   "execution_count": 25,
   "id": "0baa51f8",
   "metadata": {},
   "outputs": [
    {
     "data": {
      "text/plain": [
       "ri_source\n",
       "booked    0.241775\n",
       "proxy     0.347837\n",
       "others    0.410387\n",
       "Name: weight, dtype: float64"
      ]
     },
     "execution_count": 25,
     "metadata": {},
     "output_type": "execute_result"
    }
   ],
   "source": [
    "# 25%\n",
    "df_ = train_df[[weight, \"ri_source\"]].groupby(\"ri_source\")[weight].sum()\n",
    "df_ /= df_.sum()\n",
    "df_.loc[[\"booked\", \"proxy\", \"others\"]]"
   ]
  },
  {
   "cell_type": "code",
   "execution_count": 32,
   "id": "eb54a6c3",
   "metadata": {},
   "outputs": [
    {
     "data": {
      "text/plain": [
       "ri_source\n",
       "booked    0.241775\n",
       "proxy     0.347837\n",
       "others    0.410387\n",
       "Name: weight_exp, dtype: float64"
      ]
     },
     "execution_count": 32,
     "metadata": {},
     "output_type": "execute_result"
    }
   ],
   "source": [
    "# 30%\n",
    "df_ = train_df[[weight, \"ri_source\"]].copy()\n",
    "df_[\"weight_exp\"] = df_[weight] * 0.3\n",
    "df_ = df_.groupby(\"ri_source\")[\"weight_exp\"].sum()\n",
    "df_ /= df_.sum()\n",
    "df_.loc[[\"booked\", \"proxy\", \"others\"]]"
   ]
  },
  {
   "cell_type": "code",
   "execution_count": null,
   "id": "c680e33f",
   "metadata": {},
   "outputs": [],
   "source": []
  },
  {
   "cell_type": "markdown",
   "id": "41374a37",
   "metadata": {},
   "source": [
    "#### Model\n",
    "---"
   ]
  },
  {
   "cell_type": "code",
   "execution_count": 92,
   "id": "2a826061",
   "metadata": {},
   "outputs": [
    {
     "data": {
      "text/plain": [
       "{'boosting_type': 'gbdt',\n",
       " 'class_weight': None,\n",
       " 'colsample_bytree': 1.0,\n",
       " 'importance_type': 'split',\n",
       " 'learning_rate': 0.006631163485490334,\n",
       " 'max_depth': 8,\n",
       " 'min_child_samples': 20,\n",
       " 'min_child_weight': 0.001,\n",
       " 'min_split_gain': 0.0,\n",
       " 'n_estimators': 2500,\n",
       " 'n_jobs': -1,\n",
       " 'num_leaves': 45,\n",
       " 'objective': 'binary',\n",
       " 'random_state': None,\n",
       " 'reg_alpha': 0.0,\n",
       " 'reg_lambda': 0.0,\n",
       " 'silent': True,\n",
       " 'subsample': 1.0,\n",
       " 'subsample_for_bin': 200000,\n",
       " 'subsample_freq': 0,\n",
       " 'metric': 'auc',\n",
       " 'verbosity': -1,\n",
       " 'early_stopping_rounds': None,\n",
       " 'monotone_constraints': [-1,\n",
       "  1,\n",
       "  1,\n",
       "  1,\n",
       "  1,\n",
       "  1,\n",
       "  -1,\n",
       "  -1,\n",
       "  -1,\n",
       "  -1,\n",
       "  -1,\n",
       "  1,\n",
       "  1,\n",
       "  -1,\n",
       "  -1,\n",
       "  1,\n",
       "  -1,\n",
       "  -1,\n",
       "  -1,\n",
       "  1,\n",
       "  -1,\n",
       "  -1,\n",
       "  -1,\n",
       "  -1,\n",
       "  -1,\n",
       "  1,\n",
       "  1,\n",
       "  -1,\n",
       "  -1,\n",
       "  -1,\n",
       "  -1,\n",
       "  -1],\n",
       " 'feature_pre_filter': False,\n",
       " 'lambda_l1': 3.882047094083081,\n",
       " 'lambda_l2': 8.355557408730407,\n",
       " 'feature_fraction': 0.8692351699685861,\n",
       " 'bagging_fraction': 0.8941003105420229,\n",
       " 'min_data_in_leaf': 700,\n",
       " 'verbose_eval': 100}"
      ]
     },
     "execution_count": 92,
     "metadata": {},
     "output_type": "execute_result"
    }
   ],
   "source": [
    "final_params = model.get_params()\n",
    "final_params\n"
   ]
  },
  {
   "cell_type": "code",
   "execution_count": 93,
   "id": "a8e774c7",
   "metadata": {},
   "outputs": [
    {
     "data": {
      "text/plain": [
       "32"
      ]
     },
     "execution_count": 93,
     "metadata": {},
     "output_type": "execute_result"
    }
   ],
   "source": [
    "len(final_params[\"monotone_constraints\"])"
   ]
  },
  {
   "cell_type": "markdown",
   "id": "4e1e0d21",
   "metadata": {},
   "source": [
    "#### Feature Dict\n",
    "---"
   ]
  },
  {
   "cell_type": "code",
   "execution_count": 80,
   "id": "4ace3eac",
   "metadata": {},
   "outputs": [
    {
     "data": {
      "text/html": [
       "<div>\n",
       "<style scoped>\n",
       "    .dataframe tbody tr th:only-of-type {\n",
       "        vertical-align: middle;\n",
       "    }\n",
       "\n",
       "    .dataframe tbody tr th {\n",
       "        vertical-align: top;\n",
       "    }\n",
       "\n",
       "    .dataframe thead th {\n",
       "        text-align: right;\n",
       "    }\n",
       "</style>\n",
       "<table border=\"1\" class=\"dataframe\">\n",
       "  <thead>\n",
       "    <tr style=\"text-align: right;\">\n",
       "      <th></th>\n",
       "      <th>0</th>\n",
       "    </tr>\n",
       "  </thead>\n",
       "  <tbody>\n",
       "    <tr>\n",
       "      <th>0</th>\n",
       "      <td></td>\n",
       "    </tr>\n",
       "  </tbody>\n",
       "</table>\n",
       "</div>"
      ],
      "text/plain": [
       "  0\n",
       "0  "
      ]
     },
     "execution_count": 80,
     "metadata": {},
     "output_type": "execute_result"
    }
   ],
   "source": [
    "pd.DataFrame({\"\"})"
   ]
  },
  {
   "cell_type": "code",
   "execution_count": 94,
   "id": "99c63455",
   "metadata": {},
   "outputs": [],
   "source": [
    "dd_path = 's3://sofi-data-science/hpeng/pl-gen4/data_dump/data_dict/combined_dict.csv'\n",
    "exp_ddict_updated = pd.read_csv(dd_path, index_col=0)"
   ]
  },
  {
   "cell_type": "code",
   "execution_count": 96,
   "id": "2055f42c",
   "metadata": {},
   "outputs": [
    {
     "data": {
      "text/plain": [
       "0       NaN\n",
       "1       NaN\n",
       "2         Y\n",
       "3         Y\n",
       "4         Y\n",
       "       ... \n",
       "5095    NaN\n",
       "5096    NaN\n",
       "5097    NaN\n",
       "5098    NaN\n",
       "5099    NaN\n",
       "Name: adverse actionable, Length: 5100, dtype: object"
      ]
     },
     "execution_count": 96,
     "metadata": {},
     "output_type": "execute_result"
    }
   ],
   "source": [
    "exp_ddict_updated[\"adverse actionable\"]"
   ]
  },
  {
   "cell_type": "code",
   "execution_count": 117,
   "id": "366cc087",
   "metadata": {},
   "outputs": [
    {
     "data": {
      "text/html": [
       "<div>\n",
       "<style scoped>\n",
       "    .dataframe tbody tr th:only-of-type {\n",
       "        vertical-align: middle;\n",
       "    }\n",
       "\n",
       "    .dataframe tbody tr th {\n",
       "        vertical-align: top;\n",
       "    }\n",
       "\n",
       "    .dataframe thead th {\n",
       "        text-align: right;\n",
       "    }\n",
       "</style>\n",
       "<table border=\"1\" class=\"dataframe\">\n",
       "  <thead>\n",
       "    <tr style=\"text-align: right;\">\n",
       "      <th></th>\n",
       "      <th>lgbm_shap_mc_full</th>\n",
       "      <th>lgbm_shap_mc_full_r1</th>\n",
       "      <th>lgbm_shap_mc_full_r2</th>\n",
       "    </tr>\n",
       "  </thead>\n",
       "  <tbody>\n",
       "    <tr>\n",
       "      <th>p13_all7936</th>\n",
       "      <td>44</td>\n",
       "      <td>44</td>\n",
       "      <td>23</td>\n",
       "    </tr>\n",
       "    <tr>\n",
       "      <th>p13_iqz9425</th>\n",
       "      <td>92</td>\n",
       "      <td>92</td>\n",
       "      <td>100</td>\n",
       "    </tr>\n",
       "    <tr>\n",
       "      <th>p13_alj8120</th>\n",
       "      <td>13</td>\n",
       "      <td>13</td>\n",
       "      <td>13</td>\n",
       "    </tr>\n",
       "    <tr>\n",
       "      <th>p13_all7518</th>\n",
       "      <td>73</td>\n",
       "      <td>73</td>\n",
       "      <td>2930</td>\n",
       "    </tr>\n",
       "    <tr>\n",
       "      <th>p13_reh7120</th>\n",
       "      <td>8</td>\n",
       "      <td>8</td>\n",
       "      <td>6</td>\n",
       "    </tr>\n",
       "    <tr>\n",
       "      <th>p13_iqz9420</th>\n",
       "      <td>2</td>\n",
       "      <td>2</td>\n",
       "      <td>3</td>\n",
       "    </tr>\n",
       "    <tr>\n",
       "      <th>t11_tbca2526</th>\n",
       "      <td>10</td>\n",
       "      <td>10</td>\n",
       "      <td>10</td>\n",
       "    </tr>\n",
       "    <tr>\n",
       "      <th>p13_all7312</th>\n",
       "      <td>36</td>\n",
       "      <td>36</td>\n",
       "      <td>44</td>\n",
       "    </tr>\n",
       "    <tr>\n",
       "      <th>p13_rtr5520</th>\n",
       "      <td>43</td>\n",
       "      <td>43</td>\n",
       "      <td>30</td>\n",
       "    </tr>\n",
       "    <tr>\n",
       "      <th>p13_upl8320</th>\n",
       "      <td>62</td>\n",
       "      <td>62</td>\n",
       "      <td>71</td>\n",
       "    </tr>\n",
       "    <tr>\n",
       "      <th>p13_upl8132</th>\n",
       "      <td>5</td>\n",
       "      <td>5</td>\n",
       "      <td>7</td>\n",
       "    </tr>\n",
       "    <tr>\n",
       "      <th>t11_tbcc1303</th>\n",
       "      <td>48</td>\n",
       "      <td>48</td>\n",
       "      <td>38</td>\n",
       "    </tr>\n",
       "    <tr>\n",
       "      <th>p13_rta7300</th>\n",
       "      <td>77</td>\n",
       "      <td>77</td>\n",
       "      <td>82</td>\n",
       "    </tr>\n",
       "    <tr>\n",
       "      <th>p13_bcc8322</th>\n",
       "      <td>22</td>\n",
       "      <td>22</td>\n",
       "      <td>28</td>\n",
       "    </tr>\n",
       "    <tr>\n",
       "      <th>p13_iqf9540</th>\n",
       "      <td>4</td>\n",
       "      <td>4</td>\n",
       "      <td>5</td>\n",
       "    </tr>\n",
       "    <tr>\n",
       "      <th>t11_trev0722</th>\n",
       "      <td>6</td>\n",
       "      <td>6</td>\n",
       "      <td>4</td>\n",
       "    </tr>\n",
       "    <tr>\n",
       "      <th>t11_tmti2752</th>\n",
       "      <td>33</td>\n",
       "      <td>33</td>\n",
       "      <td>88</td>\n",
       "    </tr>\n",
       "    <tr>\n",
       "      <th>t11_tiln2755</th>\n",
       "      <td>16</td>\n",
       "      <td>16</td>\n",
       "      <td>16</td>\n",
       "    </tr>\n",
       "    <tr>\n",
       "      <th>p13_iqt9510</th>\n",
       "      <td>40</td>\n",
       "      <td>40</td>\n",
       "      <td>40</td>\n",
       "    </tr>\n",
       "    <tr>\n",
       "      <th>p13_aut8140</th>\n",
       "      <td>83</td>\n",
       "      <td>83</td>\n",
       "      <td>43</td>\n",
       "    </tr>\n",
       "    <tr>\n",
       "      <th>t11_tbca3530</th>\n",
       "      <td>12</td>\n",
       "      <td>12</td>\n",
       "      <td>12</td>\n",
       "    </tr>\n",
       "    <tr>\n",
       "      <th>t11_tbcc3305</th>\n",
       "      <td>51</td>\n",
       "      <td>51</td>\n",
       "      <td>55</td>\n",
       "    </tr>\n",
       "    <tr>\n",
       "      <th>t11_tbca4504</th>\n",
       "      <td>26</td>\n",
       "      <td>26</td>\n",
       "      <td>25</td>\n",
       "    </tr>\n",
       "    <tr>\n",
       "      <th>p13_all8352</th>\n",
       "      <td>57</td>\n",
       "      <td>57</td>\n",
       "      <td>57</td>\n",
       "    </tr>\n",
       "    <tr>\n",
       "      <th>t11_tstu2752</th>\n",
       "      <td>7</td>\n",
       "      <td>7</td>\n",
       "      <td>8</td>\n",
       "    </tr>\n",
       "    <tr>\n",
       "      <th>t11_tbca2381</th>\n",
       "      <td>27</td>\n",
       "      <td>27</td>\n",
       "      <td>29</td>\n",
       "    </tr>\n",
       "    <tr>\n",
       "      <th>p13_upl0438</th>\n",
       "      <td>23</td>\n",
       "      <td>23</td>\n",
       "      <td>22</td>\n",
       "    </tr>\n",
       "    <tr>\n",
       "      <th>p13_cru1300</th>\n",
       "      <td>68</td>\n",
       "      <td>68</td>\n",
       "      <td>86</td>\n",
       "    </tr>\n",
       "    <tr>\n",
       "      <th>p13_cru8320</th>\n",
       "      <td>85</td>\n",
       "      <td>85</td>\n",
       "      <td>84</td>\n",
       "    </tr>\n",
       "    <tr>\n",
       "      <th>p13_bcc5520</th>\n",
       "      <td>1</td>\n",
       "      <td>1</td>\n",
       "      <td>1</td>\n",
       "    </tr>\n",
       "    <tr>\n",
       "      <th>t11_tall3205</th>\n",
       "      <td>19</td>\n",
       "      <td>19</td>\n",
       "      <td>21</td>\n",
       "    </tr>\n",
       "    <tr>\n",
       "      <th>t11_tiln2754</th>\n",
       "      <td>37</td>\n",
       "      <td>37</td>\n",
       "      <td>37</td>\n",
       "    </tr>\n",
       "  </tbody>\n",
       "</table>\n",
       "</div>"
      ],
      "text/plain": [
       "              lgbm_shap_mc_full  lgbm_shap_mc_full_r1  lgbm_shap_mc_full_r2\n",
       "p13_all7936                  44                    44                    23\n",
       "p13_iqz9425                  92                    92                   100\n",
       "p13_alj8120                  13                    13                    13\n",
       "p13_all7518                  73                    73                  2930\n",
       "p13_reh7120                   8                     8                     6\n",
       "p13_iqz9420                   2                     2                     3\n",
       "t11_tbca2526                 10                    10                    10\n",
       "p13_all7312                  36                    36                    44\n",
       "p13_rtr5520                  43                    43                    30\n",
       "p13_upl8320                  62                    62                    71\n",
       "p13_upl8132                   5                     5                     7\n",
       "t11_tbcc1303                 48                    48                    38\n",
       "p13_rta7300                  77                    77                    82\n",
       "p13_bcc8322                  22                    22                    28\n",
       "p13_iqf9540                   4                     4                     5\n",
       "t11_trev0722                  6                     6                     4\n",
       "t11_tmti2752                 33                    33                    88\n",
       "t11_tiln2755                 16                    16                    16\n",
       "p13_iqt9510                  40                    40                    40\n",
       "p13_aut8140                  83                    83                    43\n",
       "t11_tbca3530                 12                    12                    12\n",
       "t11_tbcc3305                 51                    51                    55\n",
       "t11_tbca4504                 26                    26                    25\n",
       "p13_all8352                  57                    57                    57\n",
       "t11_tstu2752                  7                     7                     8\n",
       "t11_tbca2381                 27                    27                    29\n",
       "p13_upl0438                  23                    23                    22\n",
       "p13_cru1300                  68                    68                    86\n",
       "p13_cru8320                  85                    85                    84\n",
       "p13_bcc5520                   1                     1                     1\n",
       "t11_tall3205                 19                    19                    21\n",
       "t11_tiln2754                 37                    37                    37"
      ]
     },
     "execution_count": 117,
     "metadata": {},
     "output_type": "execute_result"
    }
   ],
   "source": [
    "ranking = pd.read_csv(os.path.join(artifact_path, segment, \"ranking.csv\"), index_col=0)\n",
    "ranking.loc[model.feature_name_][[\"lgbm_shap_mc_full\", \"lgbm_shap_mc_full_r1\", \n",
    "         \"lgbm_shap_mc_full_r2\"]]"
   ]
  },
  {
   "cell_type": "code",
   "execution_count": null,
   "id": "30c6f002",
   "metadata": {},
   "outputs": [],
   "source": []
  },
  {
   "cell_type": "code",
   "execution_count": null,
   "id": "c97b694e",
   "metadata": {},
   "outputs": [],
   "source": []
  },
  {
   "cell_type": "markdown",
   "id": "5a7cdcd5",
   "metadata": {},
   "source": [
    "#### Feature Correlation\n",
    "---"
   ]
  },
  {
   "cell_type": "code",
   "execution_count": 7,
   "id": "655ae3ca",
   "metadata": {},
   "outputs": [],
   "source": [
    "# imp"
   ]
  },
  {
   "cell_type": "code",
   "execution_count": null,
   "id": "b0580f4e",
   "metadata": {},
   "outputs": [],
   "source": [
    "# unimputed"
   ]
  },
  {
   "cell_type": "markdown",
   "id": "991894ff",
   "metadata": {},
   "source": [
    "#### Hyper Tune\n",
    "---"
   ]
  },
  {
   "cell_type": "code",
   "execution_count": 54,
   "id": "8ee7b44a",
   "metadata": {},
   "outputs": [
    {
     "data": {
      "text/plain": [
       "<optuna.study.study.Study at 0x7f2b0125dc10>"
      ]
     },
     "execution_count": 54,
     "metadata": {},
     "output_type": "execute_result"
    }
   ],
   "source": [
    "hptune"
   ]
  },
  {
   "cell_type": "code",
   "execution_count": 55,
   "id": "d5c8f834",
   "metadata": {},
   "outputs": [
    {
     "data": {
      "application/vnd.plotly.v1+json": {
       "config": {
        "plotlyServerURL": "https://plot.ly"
       },
       "data": [
        {
         "mode": "markers",
         "name": "auc",
         "type": "scatter",
         "x": [
          0,
          1,
          2,
          3,
          4,
          5,
          6,
          7,
          8,
          9,
          10,
          11,
          12,
          13,
          14,
          15,
          16,
          17,
          18,
          19,
          20,
          21,
          22,
          23,
          24,
          25,
          26,
          27,
          28,
          29,
          30,
          31,
          32,
          33,
          34,
          35,
          36,
          37,
          38,
          39,
          40,
          41,
          42,
          43,
          44,
          45,
          46,
          47,
          48
         ],
         "y": [
          0.7290045828592016,
          0.7301011318144579,
          0.7298047503980584,
          0.7296166957646104,
          0.7298380834987982,
          0.7140640618092533,
          0.7144710624545959,
          0.7284060422783948,
          0.7299686835388236,
          0.7286010632716611,
          0.73020014739874,
          0.730149748412965,
          0.7301193601313485,
          0.7298838416095501,
          0.7301364704069172,
          0.7300845688474173,
          0.7279254962459856,
          0.7297678104799955,
          0.7300796685848682,
          0.7301638172717398,
          0.7294683793832535,
          0.7302390766959986,
          0.7302354117091823,
          0.7303434595120802,
          0.7300844035634201,
          0.7302471118961996,
          0.730192696388234,
          0.7288293145914423,
          0.7299874407169932,
          0.7285714056403028,
          0.7302689731245074,
          0.7303134542802246,
          0.730369321761629,
          0.730244280605763,
          0.7304077926193439,
          0.7301202042229357,
          0.7301726636167026,
          0.730257572924469,
          0.7305179261788152,
          0.7244213383472728,
          0.729854644867883,
          0.7304698043602604,
          0.7304745372804516,
          0.7303884089900577,
          0.7303618904786543,
          0.7303827294442359,
          0.7301757586974692,
          0.7304443878202654,
          0.7303421592175283
         ]
        },
        {
         "name": "Best Value",
         "type": "scatter",
         "x": [
          0,
          1,
          2,
          3,
          4,
          5,
          6,
          7,
          8,
          9,
          10,
          11,
          12,
          13,
          14,
          15,
          16,
          17,
          18,
          19,
          20,
          21,
          22,
          23,
          24,
          25,
          26,
          27,
          28,
          29,
          30,
          31,
          32,
          33,
          34,
          35,
          36,
          37,
          38,
          39,
          40,
          41,
          42,
          43,
          44,
          45,
          46,
          47,
          48
         ],
         "y": [
          0.7290045828592016,
          0.7301011318144579,
          0.7301011318144579,
          0.7301011318144579,
          0.7301011318144579,
          0.7301011318144579,
          0.7301011318144579,
          0.7301011318144579,
          0.7301011318144579,
          0.7301011318144579,
          0.73020014739874,
          0.73020014739874,
          0.73020014739874,
          0.73020014739874,
          0.73020014739874,
          0.73020014739874,
          0.73020014739874,
          0.73020014739874,
          0.73020014739874,
          0.73020014739874,
          0.73020014739874,
          0.7302390766959986,
          0.7302390766959986,
          0.7303434595120802,
          0.7303434595120802,
          0.7303434595120802,
          0.7303434595120802,
          0.7303434595120802,
          0.7303434595120802,
          0.7303434595120802,
          0.7303434595120802,
          0.7303434595120802,
          0.730369321761629,
          0.730369321761629,
          0.7304077926193439,
          0.7304077926193439,
          0.7304077926193439,
          0.7304077926193439,
          0.7305179261788152,
          0.7305179261788152,
          0.7305179261788152,
          0.7305179261788152,
          0.7305179261788152,
          0.7305179261788152,
          0.7305179261788152,
          0.7305179261788152,
          0.7305179261788152,
          0.7305179261788152,
          0.7305179261788152
         ]
        }
       ],
       "layout": {
        "autosize": true,
        "template": {
         "data": {
          "bar": [
           {
            "error_x": {
             "color": "#2a3f5f"
            },
            "error_y": {
             "color": "#2a3f5f"
            },
            "marker": {
             "line": {
              "color": "#E5ECF6",
              "width": 0.5
             },
             "pattern": {
              "fillmode": "overlay",
              "size": 10,
              "solidity": 0.2
             }
            },
            "type": "bar"
           }
          ],
          "barpolar": [
           {
            "marker": {
             "line": {
              "color": "#E5ECF6",
              "width": 0.5
             },
             "pattern": {
              "fillmode": "overlay",
              "size": 10,
              "solidity": 0.2
             }
            },
            "type": "barpolar"
           }
          ],
          "carpet": [
           {
            "aaxis": {
             "endlinecolor": "#2a3f5f",
             "gridcolor": "white",
             "linecolor": "white",
             "minorgridcolor": "white",
             "startlinecolor": "#2a3f5f"
            },
            "baxis": {
             "endlinecolor": "#2a3f5f",
             "gridcolor": "white",
             "linecolor": "white",
             "minorgridcolor": "white",
             "startlinecolor": "#2a3f5f"
            },
            "type": "carpet"
           }
          ],
          "choropleth": [
           {
            "colorbar": {
             "outlinewidth": 0,
             "ticks": ""
            },
            "type": "choropleth"
           }
          ],
          "contour": [
           {
            "colorbar": {
             "outlinewidth": 0,
             "ticks": ""
            },
            "colorscale": [
             [
              0,
              "#0d0887"
             ],
             [
              0.1111111111111111,
              "#46039f"
             ],
             [
              0.2222222222222222,
              "#7201a8"
             ],
             [
              0.3333333333333333,
              "#9c179e"
             ],
             [
              0.4444444444444444,
              "#bd3786"
             ],
             [
              0.5555555555555556,
              "#d8576b"
             ],
             [
              0.6666666666666666,
              "#ed7953"
             ],
             [
              0.7777777777777778,
              "#fb9f3a"
             ],
             [
              0.8888888888888888,
              "#fdca26"
             ],
             [
              1,
              "#f0f921"
             ]
            ],
            "type": "contour"
           }
          ],
          "contourcarpet": [
           {
            "colorbar": {
             "outlinewidth": 0,
             "ticks": ""
            },
            "type": "contourcarpet"
           }
          ],
          "heatmap": [
           {
            "colorbar": {
             "outlinewidth": 0,
             "ticks": ""
            },
            "colorscale": [
             [
              0,
              "#0d0887"
             ],
             [
              0.1111111111111111,
              "#46039f"
             ],
             [
              0.2222222222222222,
              "#7201a8"
             ],
             [
              0.3333333333333333,
              "#9c179e"
             ],
             [
              0.4444444444444444,
              "#bd3786"
             ],
             [
              0.5555555555555556,
              "#d8576b"
             ],
             [
              0.6666666666666666,
              "#ed7953"
             ],
             [
              0.7777777777777778,
              "#fb9f3a"
             ],
             [
              0.8888888888888888,
              "#fdca26"
             ],
             [
              1,
              "#f0f921"
             ]
            ],
            "type": "heatmap"
           }
          ],
          "heatmapgl": [
           {
            "colorbar": {
             "outlinewidth": 0,
             "ticks": ""
            },
            "colorscale": [
             [
              0,
              "#0d0887"
             ],
             [
              0.1111111111111111,
              "#46039f"
             ],
             [
              0.2222222222222222,
              "#7201a8"
             ],
             [
              0.3333333333333333,
              "#9c179e"
             ],
             [
              0.4444444444444444,
              "#bd3786"
             ],
             [
              0.5555555555555556,
              "#d8576b"
             ],
             [
              0.6666666666666666,
              "#ed7953"
             ],
             [
              0.7777777777777778,
              "#fb9f3a"
             ],
             [
              0.8888888888888888,
              "#fdca26"
             ],
             [
              1,
              "#f0f921"
             ]
            ],
            "type": "heatmapgl"
           }
          ],
          "histogram": [
           {
            "marker": {
             "pattern": {
              "fillmode": "overlay",
              "size": 10,
              "solidity": 0.2
             }
            },
            "type": "histogram"
           }
          ],
          "histogram2d": [
           {
            "colorbar": {
             "outlinewidth": 0,
             "ticks": ""
            },
            "colorscale": [
             [
              0,
              "#0d0887"
             ],
             [
              0.1111111111111111,
              "#46039f"
             ],
             [
              0.2222222222222222,
              "#7201a8"
             ],
             [
              0.3333333333333333,
              "#9c179e"
             ],
             [
              0.4444444444444444,
              "#bd3786"
             ],
             [
              0.5555555555555556,
              "#d8576b"
             ],
             [
              0.6666666666666666,
              "#ed7953"
             ],
             [
              0.7777777777777778,
              "#fb9f3a"
             ],
             [
              0.8888888888888888,
              "#fdca26"
             ],
             [
              1,
              "#f0f921"
             ]
            ],
            "type": "histogram2d"
           }
          ],
          "histogram2dcontour": [
           {
            "colorbar": {
             "outlinewidth": 0,
             "ticks": ""
            },
            "colorscale": [
             [
              0,
              "#0d0887"
             ],
             [
              0.1111111111111111,
              "#46039f"
             ],
             [
              0.2222222222222222,
              "#7201a8"
             ],
             [
              0.3333333333333333,
              "#9c179e"
             ],
             [
              0.4444444444444444,
              "#bd3786"
             ],
             [
              0.5555555555555556,
              "#d8576b"
             ],
             [
              0.6666666666666666,
              "#ed7953"
             ],
             [
              0.7777777777777778,
              "#fb9f3a"
             ],
             [
              0.8888888888888888,
              "#fdca26"
             ],
             [
              1,
              "#f0f921"
             ]
            ],
            "type": "histogram2dcontour"
           }
          ],
          "mesh3d": [
           {
            "colorbar": {
             "outlinewidth": 0,
             "ticks": ""
            },
            "type": "mesh3d"
           }
          ],
          "parcoords": [
           {
            "line": {
             "colorbar": {
              "outlinewidth": 0,
              "ticks": ""
             }
            },
            "type": "parcoords"
           }
          ],
          "pie": [
           {
            "automargin": true,
            "type": "pie"
           }
          ],
          "scatter": [
           {
            "marker": {
             "colorbar": {
              "outlinewidth": 0,
              "ticks": ""
             }
            },
            "type": "scatter"
           }
          ],
          "scatter3d": [
           {
            "line": {
             "colorbar": {
              "outlinewidth": 0,
              "ticks": ""
             }
            },
            "marker": {
             "colorbar": {
              "outlinewidth": 0,
              "ticks": ""
             }
            },
            "type": "scatter3d"
           }
          ],
          "scattercarpet": [
           {
            "marker": {
             "colorbar": {
              "outlinewidth": 0,
              "ticks": ""
             }
            },
            "type": "scattercarpet"
           }
          ],
          "scattergeo": [
           {
            "marker": {
             "colorbar": {
              "outlinewidth": 0,
              "ticks": ""
             }
            },
            "type": "scattergeo"
           }
          ],
          "scattergl": [
           {
            "marker": {
             "colorbar": {
              "outlinewidth": 0,
              "ticks": ""
             }
            },
            "type": "scattergl"
           }
          ],
          "scattermapbox": [
           {
            "marker": {
             "colorbar": {
              "outlinewidth": 0,
              "ticks": ""
             }
            },
            "type": "scattermapbox"
           }
          ],
          "scatterpolar": [
           {
            "marker": {
             "colorbar": {
              "outlinewidth": 0,
              "ticks": ""
             }
            },
            "type": "scatterpolar"
           }
          ],
          "scatterpolargl": [
           {
            "marker": {
             "colorbar": {
              "outlinewidth": 0,
              "ticks": ""
             }
            },
            "type": "scatterpolargl"
           }
          ],
          "scatterternary": [
           {
            "marker": {
             "colorbar": {
              "outlinewidth": 0,
              "ticks": ""
             }
            },
            "type": "scatterternary"
           }
          ],
          "surface": [
           {
            "colorbar": {
             "outlinewidth": 0,
             "ticks": ""
            },
            "colorscale": [
             [
              0,
              "#0d0887"
             ],
             [
              0.1111111111111111,
              "#46039f"
             ],
             [
              0.2222222222222222,
              "#7201a8"
             ],
             [
              0.3333333333333333,
              "#9c179e"
             ],
             [
              0.4444444444444444,
              "#bd3786"
             ],
             [
              0.5555555555555556,
              "#d8576b"
             ],
             [
              0.6666666666666666,
              "#ed7953"
             ],
             [
              0.7777777777777778,
              "#fb9f3a"
             ],
             [
              0.8888888888888888,
              "#fdca26"
             ],
             [
              1,
              "#f0f921"
             ]
            ],
            "type": "surface"
           }
          ],
          "table": [
           {
            "cells": {
             "fill": {
              "color": "#EBF0F8"
             },
             "line": {
              "color": "white"
             }
            },
            "header": {
             "fill": {
              "color": "#C8D4E3"
             },
             "line": {
              "color": "white"
             }
            },
            "type": "table"
           }
          ]
         },
         "layout": {
          "annotationdefaults": {
           "arrowcolor": "#2a3f5f",
           "arrowhead": 0,
           "arrowwidth": 1
          },
          "autotypenumbers": "strict",
          "coloraxis": {
           "colorbar": {
            "outlinewidth": 0,
            "ticks": ""
           }
          },
          "colorscale": {
           "diverging": [
            [
             0,
             "#8e0152"
            ],
            [
             0.1,
             "#c51b7d"
            ],
            [
             0.2,
             "#de77ae"
            ],
            [
             0.3,
             "#f1b6da"
            ],
            [
             0.4,
             "#fde0ef"
            ],
            [
             0.5,
             "#f7f7f7"
            ],
            [
             0.6,
             "#e6f5d0"
            ],
            [
             0.7,
             "#b8e186"
            ],
            [
             0.8,
             "#7fbc41"
            ],
            [
             0.9,
             "#4d9221"
            ],
            [
             1,
             "#276419"
            ]
           ],
           "sequential": [
            [
             0,
             "#0d0887"
            ],
            [
             0.1111111111111111,
             "#46039f"
            ],
            [
             0.2222222222222222,
             "#7201a8"
            ],
            [
             0.3333333333333333,
             "#9c179e"
            ],
            [
             0.4444444444444444,
             "#bd3786"
            ],
            [
             0.5555555555555556,
             "#d8576b"
            ],
            [
             0.6666666666666666,
             "#ed7953"
            ],
            [
             0.7777777777777778,
             "#fb9f3a"
            ],
            [
             0.8888888888888888,
             "#fdca26"
            ],
            [
             1,
             "#f0f921"
            ]
           ],
           "sequentialminus": [
            [
             0,
             "#0d0887"
            ],
            [
             0.1111111111111111,
             "#46039f"
            ],
            [
             0.2222222222222222,
             "#7201a8"
            ],
            [
             0.3333333333333333,
             "#9c179e"
            ],
            [
             0.4444444444444444,
             "#bd3786"
            ],
            [
             0.5555555555555556,
             "#d8576b"
            ],
            [
             0.6666666666666666,
             "#ed7953"
            ],
            [
             0.7777777777777778,
             "#fb9f3a"
            ],
            [
             0.8888888888888888,
             "#fdca26"
            ],
            [
             1,
             "#f0f921"
            ]
           ]
          },
          "colorway": [
           "#636efa",
           "#EF553B",
           "#00cc96",
           "#ab63fa",
           "#FFA15A",
           "#19d3f3",
           "#FF6692",
           "#B6E880",
           "#FF97FF",
           "#FECB52"
          ],
          "font": {
           "color": "#2a3f5f"
          },
          "geo": {
           "bgcolor": "white",
           "lakecolor": "white",
           "landcolor": "#E5ECF6",
           "showlakes": true,
           "showland": true,
           "subunitcolor": "white"
          },
          "hoverlabel": {
           "align": "left"
          },
          "hovermode": "closest",
          "mapbox": {
           "style": "light"
          },
          "paper_bgcolor": "white",
          "plot_bgcolor": "#E5ECF6",
          "polar": {
           "angularaxis": {
            "gridcolor": "white",
            "linecolor": "white",
            "ticks": ""
           },
           "bgcolor": "#E5ECF6",
           "radialaxis": {
            "gridcolor": "white",
            "linecolor": "white",
            "ticks": ""
           }
          },
          "scene": {
           "xaxis": {
            "backgroundcolor": "#E5ECF6",
            "gridcolor": "white",
            "gridwidth": 2,
            "linecolor": "white",
            "showbackground": true,
            "ticks": "",
            "zerolinecolor": "white"
           },
           "yaxis": {
            "backgroundcolor": "#E5ECF6",
            "gridcolor": "white",
            "gridwidth": 2,
            "linecolor": "white",
            "showbackground": true,
            "ticks": "",
            "zerolinecolor": "white"
           },
           "zaxis": {
            "backgroundcolor": "#E5ECF6",
            "gridcolor": "white",
            "gridwidth": 2,
            "linecolor": "white",
            "showbackground": true,
            "ticks": "",
            "zerolinecolor": "white"
           }
          },
          "shapedefaults": {
           "line": {
            "color": "#2a3f5f"
           }
          },
          "ternary": {
           "aaxis": {
            "gridcolor": "white",
            "linecolor": "white",
            "ticks": ""
           },
           "baxis": {
            "gridcolor": "white",
            "linecolor": "white",
            "ticks": ""
           },
           "bgcolor": "#E5ECF6",
           "caxis": {
            "gridcolor": "white",
            "linecolor": "white",
            "ticks": ""
           }
          },
          "title": {
           "x": 0.05
          },
          "xaxis": {
           "automargin": true,
           "gridcolor": "white",
           "linecolor": "white",
           "ticks": "",
           "title": {
            "standoff": 15
           },
           "zerolinecolor": "white",
           "zerolinewidth": 2
          },
          "yaxis": {
           "automargin": true,
           "gridcolor": "white",
           "linecolor": "white",
           "ticks": "",
           "title": {
            "standoff": 15
           },
           "zerolinecolor": "white",
           "zerolinewidth": 2
          }
         }
        },
        "title": {
         "text": "Optimization History Plot"
        },
        "xaxis": {
         "autorange": true,
         "range": [
          -3.2369546621043623,
          51.23695466210436
         ],
         "title": {
          "text": "#Trials"
         },
         "type": "linear"
        },
        "yaxis": {
         "autorange": true,
         "range": [
          0.7127062186331244,
          0.731875769354944
         ],
         "title": {
          "text": "auc"
         },
         "type": "linear"
        }
       }
      },
      "image/png": "[encoded data removed]",
      "text/html": [
       "<div>                            <div id=\"5f55dd89-1636-426c-9f5c-539d80b3f0b9\" class=\"plotly-graph-div\" style=\"height:525px; width:100%;\"></div>            <script type=\"text/javascript\">                require([\"plotly\"], function(Plotly) {                    window.PLOTLYENV=window.PLOTLYENV || {};                                    if (document.getElementById(\"5f55dd89-1636-426c-9f5c-539d80b3f0b9\")) {                    Plotly.newPlot(                        \"5f55dd89-1636-426c-9f5c-539d80b3f0b9\",                        [{\"mode\":\"markers\",\"name\":\"auc\",\"type\":\"scatter\",\"x\":[0,1,2,3,4,5,6,7,8,9,10,11,12,13,14,15,16,17,18,19,20,21,22,23,24,25,26,27,28,29,30,31,32,33,34,35,36,37,38,39,40,41,42,43,44,45,46,47,48],\"y\":[0.7290045828592016,0.7301011318144579,0.7298047503980584,0.7296166957646104,0.7298380834987982,0.7140640618092533,0.7144710624545959,0.7284060422783948,0.7299686835388236,0.7286010632716611,0.73020014739874,0.730149748412965,0.7301193601313485,0.7298838416095501,0.7301364704069172,0.7300845688474173,0.7279254962459856,0.7297678104799955,0.7300796685848682,0.7301638172717398,0.7294683793832535,0.7302390766959986,0.7302354117091823,0.7303434595120802,0.7300844035634201,0.7302471118961996,0.730192696388234,0.7288293145914423,0.7299874407169932,0.7285714056403028,0.7302689731245074,0.7303134542802246,0.730369321761629,0.730244280605763,0.7304077926193439,0.7301202042229357,0.7301726636167026,0.730257572924469,0.7305179261788152,0.7244213383472728,0.729854644867883,0.7304698043602604,0.7304745372804516,0.7303884089900577,0.7303618904786543,0.7303827294442359,0.7301757586974692,0.7304443878202654,0.7303421592175283]},{\"name\":\"Best Value\",\"type\":\"scatter\",\"x\":[0,1,2,3,4,5,6,7,8,9,10,11,12,13,14,15,16,17,18,19,20,21,22,23,24,25,26,27,28,29,30,31,32,33,34,35,36,37,38,39,40,41,42,43,44,45,46,47,48],\"y\":[0.7290045828592016,0.7301011318144579,0.7301011318144579,0.7301011318144579,0.7301011318144579,0.7301011318144579,0.7301011318144579,0.7301011318144579,0.7301011318144579,0.7301011318144579,0.73020014739874,0.73020014739874,0.73020014739874,0.73020014739874,0.73020014739874,0.73020014739874,0.73020014739874,0.73020014739874,0.73020014739874,0.73020014739874,0.73020014739874,0.7302390766959986,0.7302390766959986,0.7303434595120802,0.7303434595120802,0.7303434595120802,0.7303434595120802,0.7303434595120802,0.7303434595120802,0.7303434595120802,0.7303434595120802,0.7303434595120802,0.730369321761629,0.730369321761629,0.7304077926193439,0.7304077926193439,0.7304077926193439,0.7304077926193439,0.7305179261788152,0.7305179261788152,0.7305179261788152,0.7305179261788152,0.7305179261788152,0.7305179261788152,0.7305179261788152,0.7305179261788152,0.7305179261788152,0.7305179261788152,0.7305179261788152]}],                        {\"template\":{\"data\":{\"bar\":[{\"error_x\":{\"color\":\"#2a3f5f\"},\"error_y\":{\"color\":\"#2a3f5f\"},\"marker\":{\"line\":{\"color\":\"#E5ECF6\",\"width\":0.5},\"pattern\":{\"fillmode\":\"overlay\",\"size\":10,\"solidity\":0.2}},\"type\":\"bar\"}],\"barpolar\":[{\"marker\":{\"line\":{\"color\":\"#E5ECF6\",\"width\":0.5},\"pattern\":{\"fillmode\":\"overlay\",\"size\":10,\"solidity\":0.2}},\"type\":\"barpolar\"}],\"carpet\":[{\"aaxis\":{\"endlinecolor\":\"#2a3f5f\",\"gridcolor\":\"white\",\"linecolor\":\"white\",\"minorgridcolor\":\"white\",\"startlinecolor\":\"#2a3f5f\"},\"baxis\":{\"endlinecolor\":\"#2a3f5f\",\"gridcolor\":\"white\",\"linecolor\":\"white\",\"minorgridcolor\":\"white\",\"startlinecolor\":\"#2a3f5f\"},\"type\":\"carpet\"}],\"choropleth\":[{\"colorbar\":{\"outlinewidth\":0,\"ticks\":\"\"},\"type\":\"choropleth\"}],\"contour\":[{\"colorbar\":{\"outlinewidth\":0,\"ticks\":\"\"},\"colorscale\":[[0.0,\"#0d0887\"],[0.1111111111111111,\"#46039f\"],[0.2222222222222222,\"#7201a8\"],[0.3333333333333333,\"#9c179e\"],[0.4444444444444444,\"#bd3786\"],[0.5555555555555556,\"#d8576b\"],[0.6666666666666666,\"#ed7953\"],[0.7777777777777778,\"#fb9f3a\"],[0.8888888888888888,\"#fdca26\"],[1.0,\"#f0f921\"]],\"type\":\"contour\"}],\"contourcarpet\":[{\"colorbar\":{\"outlinewidth\":0,\"ticks\":\"\"},\"type\":\"contourcarpet\"}],\"heatmap\":[{\"colorbar\":{\"outlinewidth\":0,\"ticks\":\"\"},\"colorscale\":[[0.0,\"#0d0887\"],[0.1111111111111111,\"#46039f\"],[0.2222222222222222,\"#7201a8\"],[0.3333333333333333,\"#9c179e\"],[0.4444444444444444,\"#bd3786\"],[0.5555555555555556,\"#d8576b\"],[0.6666666666666666,\"#ed7953\"],[0.7777777777777778,\"#fb9f3a\"],[0.8888888888888888,\"#fdca26\"],[1.0,\"#f0f921\"]],\"type\":\"heatmap\"}],\"heatmapgl\":[{\"colorbar\":{\"outlinewidth\":0,\"ticks\":\"\"},\"colorscale\":[[0.0,\"#0d0887\"],[0.1111111111111111,\"#46039f\"],[0.2222222222222222,\"#7201a8\"],[0.3333333333333333,\"#9c179e\"],[0.4444444444444444,\"#bd3786\"],[0.5555555555555556,\"#d8576b\"],[0.6666666666666666,\"#ed7953\"],[0.7777777777777778,\"#fb9f3a\"],[0.8888888888888888,\"#fdca26\"],[1.0,\"#f0f921\"]],\"type\":\"heatmapgl\"}],\"histogram\":[{\"marker\":{\"pattern\":{\"fillmode\":\"overlay\",\"size\":10,\"solidity\":0.2}},\"type\":\"histogram\"}],\"histogram2d\":[{\"colorbar\":{\"outlinewidth\":0,\"ticks\":\"\"},\"colorscale\":[[0.0,\"#0d0887\"],[0.1111111111111111,\"#46039f\"],[0.2222222222222222,\"#7201a8\"],[0.3333333333333333,\"#9c179e\"],[0.4444444444444444,\"#bd3786\"],[0.5555555555555556,\"#d8576b\"],[0.6666666666666666,\"#ed7953\"],[0.7777777777777778,\"#fb9f3a\"],[0.8888888888888888,\"#fdca26\"],[1.0,\"#f0f921\"]],\"type\":\"histogram2d\"}],\"histogram2dcontour\":[{\"colorbar\":{\"outlinewidth\":0,\"ticks\":\"\"},\"colorscale\":[[0.0,\"#0d0887\"],[0.1111111111111111,\"#46039f\"],[0.2222222222222222,\"#7201a8\"],[0.3333333333333333,\"#9c179e\"],[0.4444444444444444,\"#bd3786\"],[0.5555555555555556,\"#d8576b\"],[0.6666666666666666,\"#ed7953\"],[0.7777777777777778,\"#fb9f3a\"],[0.8888888888888888,\"#fdca26\"],[1.0,\"#f0f921\"]],\"type\":\"histogram2dcontour\"}],\"mesh3d\":[{\"colorbar\":{\"outlinewidth\":0,\"ticks\":\"\"},\"type\":\"mesh3d\"}],\"parcoords\":[{\"line\":{\"colorbar\":{\"outlinewidth\":0,\"ticks\":\"\"}},\"type\":\"parcoords\"}],\"pie\":[{\"automargin\":true,\"type\":\"pie\"}],\"scatter\":[{\"marker\":{\"colorbar\":{\"outlinewidth\":0,\"ticks\":\"\"}},\"type\":\"scatter\"}],\"scatter3d\":[{\"line\":{\"colorbar\":{\"outlinewidth\":0,\"ticks\":\"\"}},\"marker\":{\"colorbar\":{\"outlinewidth\":0,\"ticks\":\"\"}},\"type\":\"scatter3d\"}],\"scattercarpet\":[{\"marker\":{\"colorbar\":{\"outlinewidth\":0,\"ticks\":\"\"}},\"type\":\"scattercarpet\"}],\"scattergeo\":[{\"marker\":{\"colorbar\":{\"outlinewidth\":0,\"ticks\":\"\"}},\"type\":\"scattergeo\"}],\"scattergl\":[{\"marker\":{\"colorbar\":{\"outlinewidth\":0,\"ticks\":\"\"}},\"type\":\"scattergl\"}],\"scattermapbox\":[{\"marker\":{\"colorbar\":{\"outlinewidth\":0,\"ticks\":\"\"}},\"type\":\"scattermapbox\"}],\"scatterpolar\":[{\"marker\":{\"colorbar\":{\"outlinewidth\":0,\"ticks\":\"\"}},\"type\":\"scatterpolar\"}],\"scatterpolargl\":[{\"marker\":{\"colorbar\":{\"outlinewidth\":0,\"ticks\":\"\"}},\"type\":\"scatterpolargl\"}],\"scatterternary\":[{\"marker\":{\"colorbar\":{\"outlinewidth\":0,\"ticks\":\"\"}},\"type\":\"scatterternary\"}],\"surface\":[{\"colorbar\":{\"outlinewidth\":0,\"ticks\":\"\"},\"colorscale\":[[0.0,\"#0d0887\"],[0.1111111111111111,\"#46039f\"],[0.2222222222222222,\"#7201a8\"],[0.3333333333333333,\"#9c179e\"],[0.4444444444444444,\"#bd3786\"],[0.5555555555555556,\"#d8576b\"],[0.6666666666666666,\"#ed7953\"],[0.7777777777777778,\"#fb9f3a\"],[0.8888888888888888,\"#fdca26\"],[1.0,\"#f0f921\"]],\"type\":\"surface\"}],\"table\":[{\"cells\":{\"fill\":{\"color\":\"#EBF0F8\"},\"line\":{\"color\":\"white\"}},\"header\":{\"fill\":{\"color\":\"#C8D4E3\"},\"line\":{\"color\":\"white\"}},\"type\":\"table\"}]},\"layout\":{\"annotationdefaults\":{\"arrowcolor\":\"#2a3f5f\",\"arrowhead\":0,\"arrowwidth\":1},\"autotypenumbers\":\"strict\",\"coloraxis\":{\"colorbar\":{\"outlinewidth\":0,\"ticks\":\"\"}},\"colorscale\":{\"diverging\":[[0,\"#8e0152\"],[0.1,\"#c51b7d\"],[0.2,\"#de77ae\"],[0.3,\"#f1b6da\"],[0.4,\"#fde0ef\"],[0.5,\"#f7f7f7\"],[0.6,\"#e6f5d0\"],[0.7,\"#b8e186\"],[0.8,\"#7fbc41\"],[0.9,\"#4d9221\"],[1,\"#276419\"]],\"sequential\":[[0.0,\"#0d0887\"],[0.1111111111111111,\"#46039f\"],[0.2222222222222222,\"#7201a8\"],[0.3333333333333333,\"#9c179e\"],[0.4444444444444444,\"#bd3786\"],[0.5555555555555556,\"#d8576b\"],[0.6666666666666666,\"#ed7953\"],[0.7777777777777778,\"#fb9f3a\"],[0.8888888888888888,\"#fdca26\"],[1.0,\"#f0f921\"]],\"sequentialminus\":[[0.0,\"#0d0887\"],[0.1111111111111111,\"#46039f\"],[0.2222222222222222,\"#7201a8\"],[0.3333333333333333,\"#9c179e\"],[0.4444444444444444,\"#bd3786\"],[0.5555555555555556,\"#d8576b\"],[0.6666666666666666,\"#ed7953\"],[0.7777777777777778,\"#fb9f3a\"],[0.8888888888888888,\"#fdca26\"],[1.0,\"#f0f921\"]]},\"colorway\":[\"#636efa\",\"#EF553B\",\"#00cc96\",\"#ab63fa\",\"#FFA15A\",\"#19d3f3\",\"#FF6692\",\"#B6E880\",\"#FF97FF\",\"#FECB52\"],\"font\":{\"color\":\"#2a3f5f\"},\"geo\":{\"bgcolor\":\"white\",\"lakecolor\":\"white\",\"landcolor\":\"#E5ECF6\",\"showlakes\":true,\"showland\":true,\"subunitcolor\":\"white\"},\"hoverlabel\":{\"align\":\"left\"},\"hovermode\":\"closest\",\"mapbox\":{\"style\":\"light\"},\"paper_bgcolor\":\"white\",\"plot_bgcolor\":\"#E5ECF6\",\"polar\":{\"angularaxis\":{\"gridcolor\":\"white\",\"linecolor\":\"white\",\"ticks\":\"\"},\"bgcolor\":\"#E5ECF6\",\"radialaxis\":{\"gridcolor\":\"white\",\"linecolor\":\"white\",\"ticks\":\"\"}},\"scene\":{\"xaxis\":{\"backgroundcolor\":\"#E5ECF6\",\"gridcolor\":\"white\",\"gridwidth\":2,\"linecolor\":\"white\",\"showbackground\":true,\"ticks\":\"\",\"zerolinecolor\":\"white\"},\"yaxis\":{\"backgroundcolor\":\"#E5ECF6\",\"gridcolor\":\"white\",\"gridwidth\":2,\"linecolor\":\"white\",\"showbackground\":true,\"ticks\":\"\",\"zerolinecolor\":\"white\"},\"zaxis\":{\"backgroundcolor\":\"#E5ECF6\",\"gridcolor\":\"white\",\"gridwidth\":2,\"linecolor\":\"white\",\"showbackground\":true,\"ticks\":\"\",\"zerolinecolor\":\"white\"}},\"shapedefaults\":{\"line\":{\"color\":\"#2a3f5f\"}},\"ternary\":{\"aaxis\":{\"gridcolor\":\"white\",\"linecolor\":\"white\",\"ticks\":\"\"},\"baxis\":{\"gridcolor\":\"white\",\"linecolor\":\"white\",\"ticks\":\"\"},\"bgcolor\":\"#E5ECF6\",\"caxis\":{\"gridcolor\":\"white\",\"linecolor\":\"white\",\"ticks\":\"\"}},\"title\":{\"x\":0.05},\"xaxis\":{\"automargin\":true,\"gridcolor\":\"white\",\"linecolor\":\"white\",\"ticks\":\"\",\"title\":{\"standoff\":15},\"zerolinecolor\":\"white\",\"zerolinewidth\":2},\"yaxis\":{\"automargin\":true,\"gridcolor\":\"white\",\"linecolor\":\"white\",\"ticks\":\"\",\"title\":{\"standoff\":15},\"zerolinecolor\":\"white\",\"zerolinewidth\":2}}},\"title\":{\"text\":\"Optimization History Plot\"},\"xaxis\":{\"title\":{\"text\":\"#Trials\"}},\"yaxis\":{\"title\":{\"text\":\"auc\"}}},                        {\"responsive\": true}                    ).then(function(){\n",
       "                            \n",
       "var gd = document.getElementById('5f55dd89-1636-426c-9f5c-539d80b3f0b9');\n",
       "var x = new MutationObserver(function (mutations, observer) {{\n",
       "        var display = window.getComputedStyle(gd).display;\n",
       "        if (!display || display === 'none') {{\n",
       "            console.log([gd, 'removed!']);\n",
       "            Plotly.purge(gd);\n",
       "            observer.disconnect();\n",
       "        }}\n",
       "}});\n",
       "\n",
       "// Listen for the removal of the full notebook cells\n",
       "var notebookContainer = gd.closest('#notebook-container');\n",
       "if (notebookContainer) {{\n",
       "    x.observe(notebookContainer, {childList: true});\n",
       "}}\n",
       "\n",
       "// Listen for the clearing of the current output cell\n",
       "var outputEl = gd.closest('.output');\n",
       "if (outputEl) {{\n",
       "    x.observe(outputEl, {childList: true});\n",
       "}}\n",
       "\n",
       "                        })                };                });            </script>        </div>"
      ]
     },
     "metadata": {},
     "output_type": "display_data"
    }
   ],
   "source": [
    "from optuna.visualization import plot_optimization_history\n",
    "plot_optimization_history(hptune, target_name=\"auc\")  # plotly - jupyterext"
   ]
  },
  {
   "cell_type": "code",
   "execution_count": 56,
   "id": "06ecae19",
   "metadata": {},
   "outputs": [
    {
     "data": {
      "text/plain": [
       "<matplotlib.legend.Legend at 0x7f2b081fa750>"
      ]
     },
     "execution_count": 56,
     "metadata": {},
     "output_type": "execute_result"
    },
    {
     "data": {
      "image/png": "[encoded data removed]",
      "text/plain": [
       "<Figure size 576x396 with 1 Axes>"
      ]
     },
     "metadata": {},
     "output_type": "display_data"
    }
   ],
   "source": [
    "def get_trial_history(study):\n",
    "    from optuna.trial import TrialState\n",
    "    results = [trial.values for trial in study.trials if trial.state==TrialState.COMPLETE]\n",
    "    results = [r[0] for r in results if isinstance(r, list)]\n",
    "    return results\n",
    "\n",
    "tpe_history = get_trial_history(hptune)\n",
    "plt.plot(range(len(tpe_history)), tpe_history, label=\"tpe_history\")\n",
    "plt.legend()"
   ]
  },
  {
   "cell_type": "code",
   "execution_count": 57,
   "id": "10bfa570",
   "metadata": {},
   "outputs": [
    {
     "data": {
      "text/plain": [
       "{'n_estimators': 2500,\n",
       " 'learning_rate': 0.006631163485490334,\n",
       " 'num_leaves': 45,\n",
       " 'max_depth': 8,\n",
       " 'lambda_l1': 3.882047094083081,\n",
       " 'lambda_l2': 8.355557408730407,\n",
       " 'feature_fraction': 0.8692351699685861,\n",
       " 'bagging_fraction': 0.8941003105420229,\n",
       " 'min_data_in_leaf': 700}"
      ]
     },
     "execution_count": 57,
     "metadata": {},
     "output_type": "execute_result"
    }
   ],
   "source": [
    "hptune.best_params"
   ]
  },
  {
   "cell_type": "code",
   "execution_count": 74,
   "id": "6fdcd14c",
   "metadata": {},
   "outputs": [
    {
     "data": {
      "application/vnd.plotly.v1+json": {
       "config": {
        "plotlyServerURL": "https://plot.ly"
       },
       "data": [
        {
         "cliponaxis": false,
         "hovertemplate": [
          "min_data_in_leaf (IntUniformDistribution): 8.346784324473633e-05<extra></extra>",
          "feature_fraction (UniformDistribution): 0.0007985287751664905<extra></extra>",
          "learning_rate (UniformDistribution): 0.003416396529854986<extra></extra>",
          "max_depth (IntUniformDistribution): 0.0100004289130432<extra></extra>",
          "lambda_l1 (UniformDistribution): 0.02108305678861234<extra></extra>",
          "lambda_l2 (UniformDistribution): 0.02241052152473695<extra></extra>",
          "num_leaves (IntUniformDistribution): 0.03183176670852054<extra></extra>",
          "bagging_fraction (UniformDistribution): 0.16916773686370712<extra></extra>",
          "n_estimators (IntUniformDistribution): 0.7412080960531136<extra></extra>"
         ],
         "marker": {
          "color": "rgb(66,146,198)"
         },
         "orientation": "h",
         "text": [
          "8.346784324473633e-05",
          "0.0007985287751664905",
          "0.003416396529854986",
          "0.0100004289130432",
          "0.02108305678861234",
          "0.02241052152473695",
          "0.03183176670852054",
          "0.16916773686370712",
          "0.7412080960531136"
         ],
         "textposition": "outside",
         "texttemplate": "%{text:.2f}",
         "type": "bar",
         "x": [
          8.346784324473633e-05,
          0.0007985287751664905,
          0.003416396529854986,
          0.0100004289130432,
          0.02108305678861234,
          0.02241052152473695,
          0.03183176670852054,
          0.16916773686370712,
          0.7412080960531136
         ],
         "y": [
          "min_data_in_leaf",
          "feature_fraction",
          "learning_rate",
          "max_depth",
          "lambda_l1",
          "lambda_l2",
          "num_leaves",
          "bagging_fraction",
          "n_estimators"
         ]
        }
       ],
       "layout": {
        "autosize": true,
        "showlegend": false,
        "template": {
         "data": {
          "bar": [
           {
            "error_x": {
             "color": "#2a3f5f"
            },
            "error_y": {
             "color": "#2a3f5f"
            },
            "marker": {
             "line": {
              "color": "#E5ECF6",
              "width": 0.5
             },
             "pattern": {
              "fillmode": "overlay",
              "size": 10,
              "solidity": 0.2
             }
            },
            "type": "bar"
           }
          ],
          "barpolar": [
           {
            "marker": {
             "line": {
              "color": "#E5ECF6",
              "width": 0.5
             },
             "pattern": {
              "fillmode": "overlay",
              "size": 10,
              "solidity": 0.2
             }
            },
            "type": "barpolar"
           }
          ],
          "carpet": [
           {
            "aaxis": {
             "endlinecolor": "#2a3f5f",
             "gridcolor": "white",
             "linecolor": "white",
             "minorgridcolor": "white",
             "startlinecolor": "#2a3f5f"
            },
            "baxis": {
             "endlinecolor": "#2a3f5f",
             "gridcolor": "white",
             "linecolor": "white",
             "minorgridcolor": "white",
             "startlinecolor": "#2a3f5f"
            },
            "type": "carpet"
           }
          ],
          "choropleth": [
           {
            "colorbar": {
             "outlinewidth": 0,
             "ticks": ""
            },
            "type": "choropleth"
           }
          ],
          "contour": [
           {
            "colorbar": {
             "outlinewidth": 0,
             "ticks": ""
            },
            "colorscale": [
             [
              0,
              "#0d0887"
             ],
             [
              0.1111111111111111,
              "#46039f"
             ],
             [
              0.2222222222222222,
              "#7201a8"
             ],
             [
              0.3333333333333333,
              "#9c179e"
             ],
             [
              0.4444444444444444,
              "#bd3786"
             ],
             [
              0.5555555555555556,
              "#d8576b"
             ],
             [
              0.6666666666666666,
              "#ed7953"
             ],
             [
              0.7777777777777778,
              "#fb9f3a"
             ],
             [
              0.8888888888888888,
              "#fdca26"
             ],
             [
              1,
              "#f0f921"
             ]
            ],
            "type": "contour"
           }
          ],
          "contourcarpet": [
           {
            "colorbar": {
             "outlinewidth": 0,
             "ticks": ""
            },
            "type": "contourcarpet"
           }
          ],
          "heatmap": [
           {
            "colorbar": {
             "outlinewidth": 0,
             "ticks": ""
            },
            "colorscale": [
             [
              0,
              "#0d0887"
             ],
             [
              0.1111111111111111,
              "#46039f"
             ],
             [
              0.2222222222222222,
              "#7201a8"
             ],
             [
              0.3333333333333333,
              "#9c179e"
             ],
             [
              0.4444444444444444,
              "#bd3786"
             ],
             [
              0.5555555555555556,
              "#d8576b"
             ],
             [
              0.6666666666666666,
              "#ed7953"
             ],
             [
              0.7777777777777778,
              "#fb9f3a"
             ],
             [
              0.8888888888888888,
              "#fdca26"
             ],
             [
              1,
              "#f0f921"
             ]
            ],
            "type": "heatmap"
           }
          ],
          "heatmapgl": [
           {
            "colorbar": {
             "outlinewidth": 0,
             "ticks": ""
            },
            "colorscale": [
             [
              0,
              "#0d0887"
             ],
             [
              0.1111111111111111,
              "#46039f"
             ],
             [
              0.2222222222222222,
              "#7201a8"
             ],
             [
              0.3333333333333333,
              "#9c179e"
             ],
             [
              0.4444444444444444,
              "#bd3786"
             ],
             [
              0.5555555555555556,
              "#d8576b"
             ],
             [
              0.6666666666666666,
              "#ed7953"
             ],
             [
              0.7777777777777778,
              "#fb9f3a"
             ],
             [
              0.8888888888888888,
              "#fdca26"
             ],
             [
              1,
              "#f0f921"
             ]
            ],
            "type": "heatmapgl"
           }
          ],
          "histogram": [
           {
            "marker": {
             "pattern": {
              "fillmode": "overlay",
              "size": 10,
              "solidity": 0.2
             }
            },
            "type": "histogram"
           }
          ],
          "histogram2d": [
           {
            "colorbar": {
             "outlinewidth": 0,
             "ticks": ""
            },
            "colorscale": [
             [
              0,
              "#0d0887"
             ],
             [
              0.1111111111111111,
              "#46039f"
             ],
             [
              0.2222222222222222,
              "#7201a8"
             ],
             [
              0.3333333333333333,
              "#9c179e"
             ],
             [
              0.4444444444444444,
              "#bd3786"
             ],
             [
              0.5555555555555556,
              "#d8576b"
             ],
             [
              0.6666666666666666,
              "#ed7953"
             ],
             [
              0.7777777777777778,
              "#fb9f3a"
             ],
             [
              0.8888888888888888,
              "#fdca26"
             ],
             [
              1,
              "#f0f921"
             ]
            ],
            "type": "histogram2d"
           }
          ],
          "histogram2dcontour": [
           {
            "colorbar": {
             "outlinewidth": 0,
             "ticks": ""
            },
            "colorscale": [
             [
              0,
              "#0d0887"
             ],
             [
              0.1111111111111111,
              "#46039f"
             ],
             [
              0.2222222222222222,
              "#7201a8"
             ],
             [
              0.3333333333333333,
              "#9c179e"
             ],
             [
              0.4444444444444444,
              "#bd3786"
             ],
             [
              0.5555555555555556,
              "#d8576b"
             ],
             [
              0.6666666666666666,
              "#ed7953"
             ],
             [
              0.7777777777777778,
              "#fb9f3a"
             ],
             [
              0.8888888888888888,
              "#fdca26"
             ],
             [
              1,
              "#f0f921"
             ]
            ],
            "type": "histogram2dcontour"
           }
          ],
          "mesh3d": [
           {
            "colorbar": {
             "outlinewidth": 0,
             "ticks": ""
            },
            "type": "mesh3d"
           }
          ],
          "parcoords": [
           {
            "line": {
             "colorbar": {
              "outlinewidth": 0,
              "ticks": ""
             }
            },
            "type": "parcoords"
           }
          ],
          "pie": [
           {
            "automargin": true,
            "type": "pie"
           }
          ],
          "scatter": [
           {
            "marker": {
             "colorbar": {
              "outlinewidth": 0,
              "ticks": ""
             }
            },
            "type": "scatter"
           }
          ],
          "scatter3d": [
           {
            "line": {
             "colorbar": {
              "outlinewidth": 0,
              "ticks": ""
             }
            },
            "marker": {
             "colorbar": {
              "outlinewidth": 0,
              "ticks": ""
             }
            },
            "type": "scatter3d"
           }
          ],
          "scattercarpet": [
           {
            "marker": {
             "colorbar": {
              "outlinewidth": 0,
              "ticks": ""
             }
            },
            "type": "scattercarpet"
           }
          ],
          "scattergeo": [
           {
            "marker": {
             "colorbar": {
              "outlinewidth": 0,
              "ticks": ""
             }
            },
            "type": "scattergeo"
           }
          ],
          "scattergl": [
           {
            "marker": {
             "colorbar": {
              "outlinewidth": 0,
              "ticks": ""
             }
            },
            "type": "scattergl"
           }
          ],
          "scattermapbox": [
           {
            "marker": {
             "colorbar": {
              "outlinewidth": 0,
              "ticks": ""
             }
            },
            "type": "scattermapbox"
           }
          ],
          "scatterpolar": [
           {
            "marker": {
             "colorbar": {
              "outlinewidth": 0,
              "ticks": ""
             }
            },
            "type": "scatterpolar"
           }
          ],
          "scatterpolargl": [
           {
            "marker": {
             "colorbar": {
              "outlinewidth": 0,
              "ticks": ""
             }
            },
            "type": "scatterpolargl"
           }
          ],
          "scatterternary": [
           {
            "marker": {
             "colorbar": {
              "outlinewidth": 0,
              "ticks": ""
             }
            },
            "type": "scatterternary"
           }
          ],
          "surface": [
           {
            "colorbar": {
             "outlinewidth": 0,
             "ticks": ""
            },
            "colorscale": [
             [
              0,
              "#0d0887"
             ],
             [
              0.1111111111111111,
              "#46039f"
             ],
             [
              0.2222222222222222,
              "#7201a8"
             ],
             [
              0.3333333333333333,
              "#9c179e"
             ],
             [
              0.4444444444444444,
              "#bd3786"
             ],
             [
              0.5555555555555556,
              "#d8576b"
             ],
             [
              0.6666666666666666,
              "#ed7953"
             ],
             [
              0.7777777777777778,
              "#fb9f3a"
             ],
             [
              0.8888888888888888,
              "#fdca26"
             ],
             [
              1,
              "#f0f921"
             ]
            ],
            "type": "surface"
           }
          ],
          "table": [
           {
            "cells": {
             "fill": {
              "color": "#EBF0F8"
             },
             "line": {
              "color": "white"
             }
            },
            "header": {
             "fill": {
              "color": "#C8D4E3"
             },
             "line": {
              "color": "white"
             }
            },
            "type": "table"
           }
          ]
         },
         "layout": {
          "annotationdefaults": {
           "arrowcolor": "#2a3f5f",
           "arrowhead": 0,
           "arrowwidth": 1
          },
          "autotypenumbers": "strict",
          "coloraxis": {
           "colorbar": {
            "outlinewidth": 0,
            "ticks": ""
           }
          },
          "colorscale": {
           "diverging": [
            [
             0,
             "#8e0152"
            ],
            [
             0.1,
             "#c51b7d"
            ],
            [
             0.2,
             "#de77ae"
            ],
            [
             0.3,
             "#f1b6da"
            ],
            [
             0.4,
             "#fde0ef"
            ],
            [
             0.5,
             "#f7f7f7"
            ],
            [
             0.6,
             "#e6f5d0"
            ],
            [
             0.7,
             "#b8e186"
            ],
            [
             0.8,
             "#7fbc41"
            ],
            [
             0.9,
             "#4d9221"
            ],
            [
             1,
             "#276419"
            ]
           ],
           "sequential": [
            [
             0,
             "#0d0887"
            ],
            [
             0.1111111111111111,
             "#46039f"
            ],
            [
             0.2222222222222222,
             "#7201a8"
            ],
            [
             0.3333333333333333,
             "#9c179e"
            ],
            [
             0.4444444444444444,
             "#bd3786"
            ],
            [
             0.5555555555555556,
             "#d8576b"
            ],
            [
             0.6666666666666666,
             "#ed7953"
            ],
            [
             0.7777777777777778,
             "#fb9f3a"
            ],
            [
             0.8888888888888888,
             "#fdca26"
            ],
            [
             1,
             "#f0f921"
            ]
           ],
           "sequentialminus": [
            [
             0,
             "#0d0887"
            ],
            [
             0.1111111111111111,
             "#46039f"
            ],
            [
             0.2222222222222222,
             "#7201a8"
            ],
            [
             0.3333333333333333,
             "#9c179e"
            ],
            [
             0.4444444444444444,
             "#bd3786"
            ],
            [
             0.5555555555555556,
             "#d8576b"
            ],
            [
             0.6666666666666666,
             "#ed7953"
            ],
            [
             0.7777777777777778,
             "#fb9f3a"
            ],
            [
             0.8888888888888888,
             "#fdca26"
            ],
            [
             1,
             "#f0f921"
            ]
           ]
          },
          "colorway": [
           "#636efa",
           "#EF553B",
           "#00cc96",
           "#ab63fa",
           "#FFA15A",
           "#19d3f3",
           "#FF6692",
           "#B6E880",
           "#FF97FF",
           "#FECB52"
          ],
          "font": {
           "color": "#2a3f5f"
          },
          "geo": {
           "bgcolor": "white",
           "lakecolor": "white",
           "landcolor": "#E5ECF6",
           "showlakes": true,
           "showland": true,
           "subunitcolor": "white"
          },
          "hoverlabel": {
           "align": "left"
          },
          "hovermode": "closest",
          "mapbox": {
           "style": "light"
          },
          "paper_bgcolor": "white",
          "plot_bgcolor": "#E5ECF6",
          "polar": {
           "angularaxis": {
            "gridcolor": "white",
            "linecolor": "white",
            "ticks": ""
           },
           "bgcolor": "#E5ECF6",
           "radialaxis": {
            "gridcolor": "white",
            "linecolor": "white",
            "ticks": ""
           }
          },
          "scene": {
           "xaxis": {
            "backgroundcolor": "#E5ECF6",
            "gridcolor": "white",
            "gridwidth": 2,
            "linecolor": "white",
            "showbackground": true,
            "ticks": "",
            "zerolinecolor": "white"
           },
           "yaxis": {
            "backgroundcolor": "#E5ECF6",
            "gridcolor": "white",
            "gridwidth": 2,
            "linecolor": "white",
            "showbackground": true,
            "ticks": "",
            "zerolinecolor": "white"
           },
           "zaxis": {
            "backgroundcolor": "#E5ECF6",
            "gridcolor": "white",
            "gridwidth": 2,
            "linecolor": "white",
            "showbackground": true,
            "ticks": "",
            "zerolinecolor": "white"
           }
          },
          "shapedefaults": {
           "line": {
            "color": "#2a3f5f"
           }
          },
          "ternary": {
           "aaxis": {
            "gridcolor": "white",
            "linecolor": "white",
            "ticks": ""
           },
           "baxis": {
            "gridcolor": "white",
            "linecolor": "white",
            "ticks": ""
           },
           "bgcolor": "#E5ECF6",
           "caxis": {
            "gridcolor": "white",
            "linecolor": "white",
            "ticks": ""
           }
          },
          "title": {
           "x": 0.05
          },
          "xaxis": {
           "automargin": true,
           "gridcolor": "white",
           "linecolor": "white",
           "ticks": "",
           "title": {
            "standoff": 15
           },
           "zerolinecolor": "white",
           "zerolinewidth": 2
          },
          "yaxis": {
           "automargin": true,
           "gridcolor": "white",
           "linecolor": "white",
           "ticks": "",
           "title": {
            "standoff": 15
           },
           "zerolinecolor": "white",
           "zerolinewidth": 2
          }
         }
        },
        "title": {
         "text": "Hyperparameter Importances"
        },
        "xaxis": {
         "autorange": true,
         "range": [
          0,
          0.7802190484769617
         ],
         "title": {
          "text": "Importance for Objective Value"
         },
         "type": "linear"
        },
        "yaxis": {
         "autorange": true,
         "range": [
          -0.5,
          8.5
         ],
         "title": {
          "text": "Hyperparameter"
         },
         "type": "category"
        }
       }
      },
      "image/png": "[encoded data removed]",
      "text/html": [
       "<div>                            <div id=\"6f4e24db-f328-4549-b896-427c13962968\" class=\"plotly-graph-div\" style=\"height:525px; width:100%;\"></div>            <script type=\"text/javascript\">                require([\"plotly\"], function(Plotly) {                    window.PLOTLYENV=window.PLOTLYENV || {};                                    if (document.getElementById(\"6f4e24db-f328-4549-b896-427c13962968\")) {                    Plotly.newPlot(                        \"6f4e24db-f328-4549-b896-427c13962968\",                        [{\"cliponaxis\":false,\"hovertemplate\":[\"min_data_in_leaf (IntUniformDistribution): 8.346784324473633e-05<extra></extra>\",\"feature_fraction (UniformDistribution): 0.0007985287751664905<extra></extra>\",\"learning_rate (UniformDistribution): 0.003416396529854986<extra></extra>\",\"max_depth (IntUniformDistribution): 0.0100004289130432<extra></extra>\",\"lambda_l1 (UniformDistribution): 0.02108305678861234<extra></extra>\",\"lambda_l2 (UniformDistribution): 0.02241052152473695<extra></extra>\",\"num_leaves (IntUniformDistribution): 0.03183176670852054<extra></extra>\",\"bagging_fraction (UniformDistribution): 0.16916773686370712<extra></extra>\",\"n_estimators (IntUniformDistribution): 0.7412080960531136<extra></extra>\"],\"marker\":{\"color\":\"rgb(66,146,198)\"},\"orientation\":\"h\",\"text\":[\"8.346784324473633e-05\",\"0.0007985287751664905\",\"0.003416396529854986\",\"0.0100004289130432\",\"0.02108305678861234\",\"0.02241052152473695\",\"0.03183176670852054\",\"0.16916773686370712\",\"0.7412080960531136\"],\"textposition\":\"outside\",\"texttemplate\":\"%{text:.2f}\",\"type\":\"bar\",\"x\":[8.346784324473633e-05,0.0007985287751664905,0.003416396529854986,0.0100004289130432,0.02108305678861234,0.02241052152473695,0.03183176670852054,0.16916773686370712,0.7412080960531136],\"y\":[\"min_data_in_leaf\",\"feature_fraction\",\"learning_rate\",\"max_depth\",\"lambda_l1\",\"lambda_l2\",\"num_leaves\",\"bagging_fraction\",\"n_estimators\"]}],                        {\"showlegend\":false,\"template\":{\"data\":{\"bar\":[{\"error_x\":{\"color\":\"#2a3f5f\"},\"error_y\":{\"color\":\"#2a3f5f\"},\"marker\":{\"line\":{\"color\":\"#E5ECF6\",\"width\":0.5},\"pattern\":{\"fillmode\":\"overlay\",\"size\":10,\"solidity\":0.2}},\"type\":\"bar\"}],\"barpolar\":[{\"marker\":{\"line\":{\"color\":\"#E5ECF6\",\"width\":0.5},\"pattern\":{\"fillmode\":\"overlay\",\"size\":10,\"solidity\":0.2}},\"type\":\"barpolar\"}],\"carpet\":[{\"aaxis\":{\"endlinecolor\":\"#2a3f5f\",\"gridcolor\":\"white\",\"linecolor\":\"white\",\"minorgridcolor\":\"white\",\"startlinecolor\":\"#2a3f5f\"},\"baxis\":{\"endlinecolor\":\"#2a3f5f\",\"gridcolor\":\"white\",\"linecolor\":\"white\",\"minorgridcolor\":\"white\",\"startlinecolor\":\"#2a3f5f\"},\"type\":\"carpet\"}],\"choropleth\":[{\"colorbar\":{\"outlinewidth\":0,\"ticks\":\"\"},\"type\":\"choropleth\"}],\"contour\":[{\"colorbar\":{\"outlinewidth\":0,\"ticks\":\"\"},\"colorscale\":[[0.0,\"#0d0887\"],[0.1111111111111111,\"#46039f\"],[0.2222222222222222,\"#7201a8\"],[0.3333333333333333,\"#9c179e\"],[0.4444444444444444,\"#bd3786\"],[0.5555555555555556,\"#d8576b\"],[0.6666666666666666,\"#ed7953\"],[0.7777777777777778,\"#fb9f3a\"],[0.8888888888888888,\"#fdca26\"],[1.0,\"#f0f921\"]],\"type\":\"contour\"}],\"contourcarpet\":[{\"colorbar\":{\"outlinewidth\":0,\"ticks\":\"\"},\"type\":\"contourcarpet\"}],\"heatmap\":[{\"colorbar\":{\"outlinewidth\":0,\"ticks\":\"\"},\"colorscale\":[[0.0,\"#0d0887\"],[0.1111111111111111,\"#46039f\"],[0.2222222222222222,\"#7201a8\"],[0.3333333333333333,\"#9c179e\"],[0.4444444444444444,\"#bd3786\"],[0.5555555555555556,\"#d8576b\"],[0.6666666666666666,\"#ed7953\"],[0.7777777777777778,\"#fb9f3a\"],[0.8888888888888888,\"#fdca26\"],[1.0,\"#f0f921\"]],\"type\":\"heatmap\"}],\"heatmapgl\":[{\"colorbar\":{\"outlinewidth\":0,\"ticks\":\"\"},\"colorscale\":[[0.0,\"#0d0887\"],[0.1111111111111111,\"#46039f\"],[0.2222222222222222,\"#7201a8\"],[0.3333333333333333,\"#9c179e\"],[0.4444444444444444,\"#bd3786\"],[0.5555555555555556,\"#d8576b\"],[0.6666666666666666,\"#ed7953\"],[0.7777777777777778,\"#fb9f3a\"],[0.8888888888888888,\"#fdca26\"],[1.0,\"#f0f921\"]],\"type\":\"heatmapgl\"}],\"histogram\":[{\"marker\":{\"pattern\":{\"fillmode\":\"overlay\",\"size\":10,\"solidity\":0.2}},\"type\":\"histogram\"}],\"histogram2d\":[{\"colorbar\":{\"outlinewidth\":0,\"ticks\":\"\"},\"colorscale\":[[0.0,\"#0d0887\"],[0.1111111111111111,\"#46039f\"],[0.2222222222222222,\"#7201a8\"],[0.3333333333333333,\"#9c179e\"],[0.4444444444444444,\"#bd3786\"],[0.5555555555555556,\"#d8576b\"],[0.6666666666666666,\"#ed7953\"],[0.7777777777777778,\"#fb9f3a\"],[0.8888888888888888,\"#fdca26\"],[1.0,\"#f0f921\"]],\"type\":\"histogram2d\"}],\"histogram2dcontour\":[{\"colorbar\":{\"outlinewidth\":0,\"ticks\":\"\"},\"colorscale\":[[0.0,\"#0d0887\"],[0.1111111111111111,\"#46039f\"],[0.2222222222222222,\"#7201a8\"],[0.3333333333333333,\"#9c179e\"],[0.4444444444444444,\"#bd3786\"],[0.5555555555555556,\"#d8576b\"],[0.6666666666666666,\"#ed7953\"],[0.7777777777777778,\"#fb9f3a\"],[0.8888888888888888,\"#fdca26\"],[1.0,\"#f0f921\"]],\"type\":\"histogram2dcontour\"}],\"mesh3d\":[{\"colorbar\":{\"outlinewidth\":0,\"ticks\":\"\"},\"type\":\"mesh3d\"}],\"parcoords\":[{\"line\":{\"colorbar\":{\"outlinewidth\":0,\"ticks\":\"\"}},\"type\":\"parcoords\"}],\"pie\":[{\"automargin\":true,\"type\":\"pie\"}],\"scatter\":[{\"marker\":{\"colorbar\":{\"outlinewidth\":0,\"ticks\":\"\"}},\"type\":\"scatter\"}],\"scatter3d\":[{\"line\":{\"colorbar\":{\"outlinewidth\":0,\"ticks\":\"\"}},\"marker\":{\"colorbar\":{\"outlinewidth\":0,\"ticks\":\"\"}},\"type\":\"scatter3d\"}],\"scattercarpet\":[{\"marker\":{\"colorbar\":{\"outlinewidth\":0,\"ticks\":\"\"}},\"type\":\"scattercarpet\"}],\"scattergeo\":[{\"marker\":{\"colorbar\":{\"outlinewidth\":0,\"ticks\":\"\"}},\"type\":\"scattergeo\"}],\"scattergl\":[{\"marker\":{\"colorbar\":{\"outlinewidth\":0,\"ticks\":\"\"}},\"type\":\"scattergl\"}],\"scattermapbox\":[{\"marker\":{\"colorbar\":{\"outlinewidth\":0,\"ticks\":\"\"}},\"type\":\"scattermapbox\"}],\"scatterpolar\":[{\"marker\":{\"colorbar\":{\"outlinewidth\":0,\"ticks\":\"\"}},\"type\":\"scatterpolar\"}],\"scatterpolargl\":[{\"marker\":{\"colorbar\":{\"outlinewidth\":0,\"ticks\":\"\"}},\"type\":\"scatterpolargl\"}],\"scatterternary\":[{\"marker\":{\"colorbar\":{\"outlinewidth\":0,\"ticks\":\"\"}},\"type\":\"scatterternary\"}],\"surface\":[{\"colorbar\":{\"outlinewidth\":0,\"ticks\":\"\"},\"colorscale\":[[0.0,\"#0d0887\"],[0.1111111111111111,\"#46039f\"],[0.2222222222222222,\"#7201a8\"],[0.3333333333333333,\"#9c179e\"],[0.4444444444444444,\"#bd3786\"],[0.5555555555555556,\"#d8576b\"],[0.6666666666666666,\"#ed7953\"],[0.7777777777777778,\"#fb9f3a\"],[0.8888888888888888,\"#fdca26\"],[1.0,\"#f0f921\"]],\"type\":\"surface\"}],\"table\":[{\"cells\":{\"fill\":{\"color\":\"#EBF0F8\"},\"line\":{\"color\":\"white\"}},\"header\":{\"fill\":{\"color\":\"#C8D4E3\"},\"line\":{\"color\":\"white\"}},\"type\":\"table\"}]},\"layout\":{\"annotationdefaults\":{\"arrowcolor\":\"#2a3f5f\",\"arrowhead\":0,\"arrowwidth\":1},\"autotypenumbers\":\"strict\",\"coloraxis\":{\"colorbar\":{\"outlinewidth\":0,\"ticks\":\"\"}},\"colorscale\":{\"diverging\":[[0,\"#8e0152\"],[0.1,\"#c51b7d\"],[0.2,\"#de77ae\"],[0.3,\"#f1b6da\"],[0.4,\"#fde0ef\"],[0.5,\"#f7f7f7\"],[0.6,\"#e6f5d0\"],[0.7,\"#b8e186\"],[0.8,\"#7fbc41\"],[0.9,\"#4d9221\"],[1,\"#276419\"]],\"sequential\":[[0.0,\"#0d0887\"],[0.1111111111111111,\"#46039f\"],[0.2222222222222222,\"#7201a8\"],[0.3333333333333333,\"#9c179e\"],[0.4444444444444444,\"#bd3786\"],[0.5555555555555556,\"#d8576b\"],[0.6666666666666666,\"#ed7953\"],[0.7777777777777778,\"#fb9f3a\"],[0.8888888888888888,\"#fdca26\"],[1.0,\"#f0f921\"]],\"sequentialminus\":[[0.0,\"#0d0887\"],[0.1111111111111111,\"#46039f\"],[0.2222222222222222,\"#7201a8\"],[0.3333333333333333,\"#9c179e\"],[0.4444444444444444,\"#bd3786\"],[0.5555555555555556,\"#d8576b\"],[0.6666666666666666,\"#ed7953\"],[0.7777777777777778,\"#fb9f3a\"],[0.8888888888888888,\"#fdca26\"],[1.0,\"#f0f921\"]]},\"colorway\":[\"#636efa\",\"#EF553B\",\"#00cc96\",\"#ab63fa\",\"#FFA15A\",\"#19d3f3\",\"#FF6692\",\"#B6E880\",\"#FF97FF\",\"#FECB52\"],\"font\":{\"color\":\"#2a3f5f\"},\"geo\":{\"bgcolor\":\"white\",\"lakecolor\":\"white\",\"landcolor\":\"#E5ECF6\",\"showlakes\":true,\"showland\":true,\"subunitcolor\":\"white\"},\"hoverlabel\":{\"align\":\"left\"},\"hovermode\":\"closest\",\"mapbox\":{\"style\":\"light\"},\"paper_bgcolor\":\"white\",\"plot_bgcolor\":\"#E5ECF6\",\"polar\":{\"angularaxis\":{\"gridcolor\":\"white\",\"linecolor\":\"white\",\"ticks\":\"\"},\"bgcolor\":\"#E5ECF6\",\"radialaxis\":{\"gridcolor\":\"white\",\"linecolor\":\"white\",\"ticks\":\"\"}},\"scene\":{\"xaxis\":{\"backgroundcolor\":\"#E5ECF6\",\"gridcolor\":\"white\",\"gridwidth\":2,\"linecolor\":\"white\",\"showbackground\":true,\"ticks\":\"\",\"zerolinecolor\":\"white\"},\"yaxis\":{\"backgroundcolor\":\"#E5ECF6\",\"gridcolor\":\"white\",\"gridwidth\":2,\"linecolor\":\"white\",\"showbackground\":true,\"ticks\":\"\",\"zerolinecolor\":\"white\"},\"zaxis\":{\"backgroundcolor\":\"#E5ECF6\",\"gridcolor\":\"white\",\"gridwidth\":2,\"linecolor\":\"white\",\"showbackground\":true,\"ticks\":\"\",\"zerolinecolor\":\"white\"}},\"shapedefaults\":{\"line\":{\"color\":\"#2a3f5f\"}},\"ternary\":{\"aaxis\":{\"gridcolor\":\"white\",\"linecolor\":\"white\",\"ticks\":\"\"},\"baxis\":{\"gridcolor\":\"white\",\"linecolor\":\"white\",\"ticks\":\"\"},\"bgcolor\":\"#E5ECF6\",\"caxis\":{\"gridcolor\":\"white\",\"linecolor\":\"white\",\"ticks\":\"\"}},\"title\":{\"x\":0.05},\"xaxis\":{\"automargin\":true,\"gridcolor\":\"white\",\"linecolor\":\"white\",\"ticks\":\"\",\"title\":{\"standoff\":15},\"zerolinecolor\":\"white\",\"zerolinewidth\":2},\"yaxis\":{\"automargin\":true,\"gridcolor\":\"white\",\"linecolor\":\"white\",\"ticks\":\"\",\"title\":{\"standoff\":15},\"zerolinecolor\":\"white\",\"zerolinewidth\":2}}},\"title\":{\"text\":\"Hyperparameter Importances\"},\"xaxis\":{\"title\":{\"text\":\"Importance for Objective Value\"}},\"yaxis\":{\"title\":{\"text\":\"Hyperparameter\"}}},                        {\"responsive\": true}                    ).then(function(){\n",
       "                            \n",
       "var gd = document.getElementById('6f4e24db-f328-4549-b896-427c13962968');\n",
       "var x = new MutationObserver(function (mutations, observer) {{\n",
       "        var display = window.getComputedStyle(gd).display;\n",
       "        if (!display || display === 'none') {{\n",
       "            console.log([gd, 'removed!']);\n",
       "            Plotly.purge(gd);\n",
       "            observer.disconnect();\n",
       "        }}\n",
       "}});\n",
       "\n",
       "// Listen for the removal of the full notebook cells\n",
       "var notebookContainer = gd.closest('#notebook-container');\n",
       "if (notebookContainer) {{\n",
       "    x.observe(notebookContainer, {childList: true});\n",
       "}}\n",
       "\n",
       "// Listen for the clearing of the current output cell\n",
       "var outputEl = gd.closest('.output');\n",
       "if (outputEl) {{\n",
       "    x.observe(outputEl, {childList: true});\n",
       "}}\n",
       "\n",
       "                        })                };                });            </script>        </div>"
      ]
     },
     "metadata": {},
     "output_type": "display_data"
    }
   ],
   "source": [
    "import optuna.visualization as ov\n",
    "\n",
    "ov.plot_param_importances(hptune)"
   ]
  },
  {
   "cell_type": "code",
   "execution_count": 75,
   "id": "c978b4f2",
   "metadata": {},
   "outputs": [
    {
     "data": {
      "application/vnd.plotly.v1+json": {
       "config": {
        "plotlyServerURL": "https://plot.ly"
       },
       "data": [
        {
         "dimensions": [
          {
           "label": "Objective Value",
           "range": [
            0.7140640618092533,
            0.7305179261788152
           ],
           "values": [
            0.7290045828592016,
            0.7301011318144579,
            0.7298047503980584,
            0.7296166957646104,
            0.7298380834987982,
            0.7140640618092533,
            0.7144710624545959,
            0.7284060422783948,
            0.7299686835388236,
            0.7286010632716611,
            0.73020014739874,
            0.730149748412965,
            0.7301193601313485,
            0.7298838416095501,
            0.7301364704069172,
            0.7300845688474173,
            0.7279254962459856,
            0.7297678104799955,
            0.7300796685848682,
            0.7301638172717398,
            0.7294683793832535,
            0.7302390766959986,
            0.7302354117091823,
            0.7303434595120802,
            0.7300844035634201,
            0.7302471118961996,
            0.730192696388234,
            0.7288293145914423,
            0.7299874407169932,
            0.7285714056403028,
            0.7302689731245074,
            0.7303134542802246,
            0.730369321761629,
            0.730244280605763,
            0.7304077926193439,
            0.7301202042229357,
            0.7301726636167026,
            0.730257572924469,
            0.7305179261788152,
            0.7244213383472728,
            0.729854644867883,
            0.7304698043602604,
            0.7304745372804516,
            0.7303884089900577,
            0.7303618904786543,
            0.7303827294442359,
            0.7301757586974692,
            0.7304443878202654,
            0.7303421592175283
           ]
          },
          {
           "label": "bagging_fraction",
           "range": [
            0.4019626795978075,
            0.9803756670880277
           ],
           "values": [
            0.5053594164738002,
            0.5039201723493792,
            0.7579693230936091,
            0.7582399920183489,
            0.6613974660874711,
            0.6150693449827559,
            0.9803756670880277,
            0.5900478126283512,
            0.6348882302238963,
            0.7111140877179071,
            0.42161600295511786,
            0.40488414784548526,
            0.408312345104376,
            0.42402100268406867,
            0.4997753864282234,
            0.8832404222254215,
            0.5462994459020425,
            0.4413403908030731,
            0.4019626795978075,
            0.47601912744711594,
            0.5703017719498551,
            0.4769823421741538,
            0.4689657322995096,
            0.4593397655936293,
            0.5417583005424409,
            0.4676115112475369,
            0.8477249669718244,
            0.5534535902762212,
            0.45600334332994064,
            0.5138292872790227,
            0.6563861077478891,
            0.6736825131600686,
            0.6927152729552917,
            0.7040813402569919,
            0.7665127154609532,
            0.8248434988196022,
            0.7598352131839579,
            0.8018674558200404,
            0.8941003105420229,
            0.945241658461999,
            0.9070665129342985,
            0.7276120012562352,
            0.7383848554480982,
            0.7423393956275884,
            0.7550192342327313,
            0.7351133252752117,
            0.7871011476393726,
            0.8587493854940063,
            0.870797027189847
           ]
          },
          {
           "label": "feature_fraction",
           "range": [
            0.4108529080951221,
            0.992319896206384
           ],
           "values": [
            0.49705920532434855,
            0.6926706598131309,
            0.9822927095476003,
            0.4918328287012719,
            0.4158759234739451,
            0.8806258439565591,
            0.4108529080951221,
            0.8464563248529593,
            0.7971160010633458,
            0.5879987264810752,
            0.69601701807087,
            0.6824723311006542,
            0.6842956433738296,
            0.610751815114187,
            0.7526430538225078,
            0.620461867631216,
            0.7440124749714064,
            0.6531633273898715,
            0.5268722889663029,
            0.9073214846545585,
            0.9685784337528418,
            0.8954596167281894,
            0.9187519403663739,
            0.9299282099044424,
            0.9249643215310345,
            0.8390163097389696,
            0.8228376969154649,
            0.8663503377121209,
            0.7804543196379295,
            0.9554069953477387,
            0.8454379738803998,
            0.8445696170238057,
            0.8310622732555024,
            0.992319896206384,
            0.8124124503161079,
            0.7520555267482502,
            0.7929163537795627,
            0.9299177573740486,
            0.8692351699685861,
            0.8790457111291086,
            0.9485249873661898,
            0.8749253608392106,
            0.8028783025428441,
            0.8109475981524037,
            0.7236007121923269,
            0.7975189842563891,
            0.8099752205079516,
            0.8699897553218865,
            0.8737494913856573
           ]
          },
          {
           "label": "lambda_l1",
           "range": [
            0.08616576605282589,
            49.34875059418418
           ],
           "values": [
            36.20595386757234,
            25.35693858157987,
            26.34156061872367,
            30.37146361844508,
            13.23153640923748,
            43.666858992800776,
            7.962743494102802,
            18.598386737042635,
            17.853011886994487,
            29.69771350305842,
            0.20346830576108133,
            0.30505366710549875,
            1.464151846294813,
            1.4406001855063333,
            8.363532206665836,
            7.234503021419486,
            2.0017328262203007,
            49.34875059418418,
            15.540129247261957,
            12.714654015995011,
            10.277175039301943,
            5.441499663897587,
            5.712568946216353,
            4.267287857323166,
            5.617175899537829,
            21.334962924051244,
            21.045322277303736,
            36.39795852540248,
            21.3178447670267,
            36.31123576845282,
            12.53075768645816,
            12.318136373645247,
            12.028436907287032,
            14.153394215739826,
            11.197873176163085,
            10.33853797855861,
            16.355435099267602,
            24.808612951151503,
            3.882047094083081,
            4.1386522261073235,
            10.170256808744437,
            4.0429102046955805,
            3.0405514543733183,
            7.844447368514738,
            3.125984065324592,
            7.5714988190174,
            0.08616576605282589,
            8.553513997324156,
            8.969924556051636
           ]
          },
          {
           "label": "lambda_l2",
           "range": [
            0.5657972777836173,
            48.24739231551988
           ],
           "values": [
            18.369821142741092,
            25.1488770275675,
            11.295933631105603,
            43.62258009737847,
            48.24739231551988,
            6.773699584484358,
            21.50660463709978,
            4.193027462831911,
            33.03947946954372,
            18.22153015853869,
            31.159646706131678,
            32.41461149599927,
            33.98723661650994,
            34.66762550719814,
            28.995923370451308,
            41.1338248138209,
            36.9191880886756,
            25.320770261970267,
            42.0942481793476,
            28.356672113933897,
            13.193256245537713,
            28.20068610731826,
            28.408830881202128,
            28.415341756716117,
            21.756505762467455,
            38.65685618261161,
            37.895714514476104,
            48.14839230938476,
            38.57165517513936,
            16.910851215344486,
            22.324038850190966,
            21.16518176008482,
            21.753050680753375,
            21.923474815539056,
            13.06599990491283,
            13.811075261437646,
            10.035710373440056,
            16.23744057795037,
            8.355557408730407,
            2.0876158356413548,
            8.753838156453831,
            13.63252108532237,
            7.214226841524128,
            5.883181965187188,
            5.874617158459078,
            0.5657972777836173,
            4.600262426681283,
            7.844190088380654,
            8.544390198360055
           ]
          },
          {
           "label": "learning_rate",
           "range": [
            0.005017969114748731,
            0.009971106876607157
           ],
           "values": [
            0.006125670459346944,
            0.007847880561389856,
            0.006886593728936212,
            0.008575593884675166,
            0.009576240008282964,
            0.006431613581364042,
            0.006486943837623449,
            0.0067147875846694065,
            0.00839070451239054,
            0.008221699946729036,
            0.005387447608947658,
            0.005195882494762476,
            0.005017969114748731,
            0.005063935871949715,
            0.005646814400486426,
            0.005567223846515232,
            0.0072573368152737475,
            0.005780804589211236,
            0.009971106876607157,
            0.005353588405736955,
            0.006093198744458186,
            0.005324940670773158,
            0.005499539924706265,
            0.005979833619691139,
            0.006014434303215732,
            0.007298092730878946,
            0.007277505226595265,
            0.009003222727287315,
            0.007575160770301394,
            0.006439073257344646,
            0.00695583954778103,
            0.006913548987993668,
            0.007024016518329534,
            0.006920468104746498,
            0.007757926952792023,
            0.007875090778760595,
            0.007820059692843719,
            0.008929448145353255,
            0.006631163485490334,
            0.006645006792186819,
            0.006257294805755722,
            0.007064695510283112,
            0.007576925540244041,
            0.007755112457351159,
            0.008133340414668178,
            0.007634207344207155,
            0.007923003249731215,
            0.008474783946778006,
            0.008346469977265429
           ]
          },
          {
           "label": "max_depth",
           "range": [
            3,
            8
           ],
           "values": [
            5,
            6,
            8,
            5,
            6,
            3,
            8,
            5,
            5,
            4,
            7,
            7,
            7,
            7,
            7,
            7,
            8,
            6,
            7,
            8,
            8,
            8,
            8,
            8,
            8,
            8,
            8,
            3,
            6,
            4,
            8,
            8,
            8,
            7,
            8,
            6,
            8,
            7,
            8,
            4,
            6,
            8,
            8,
            8,
            7,
            8,
            7,
            8,
            7
           ]
          },
          {
           "label": "min_data_in_leaf",
           "range": [
            100,
            900
           ],
           "values": [
            700,
            900,
            300,
            100,
            700,
            900,
            100,
            500,
            100,
            100,
            900,
            900,
            700,
            900,
            500,
            900,
            700,
            900,
            300,
            500,
            500,
            500,
            300,
            300,
            300,
            300,
            300,
            300,
            500,
            300,
            500,
            500,
            500,
            500,
            700,
            700,
            700,
            700,
            700,
            700,
            700,
            500,
            700,
            700,
            700,
            700,
            700,
            700,
            900
           ]
          },
          {
           "label": "n_estimators",
           "range": [
            300,
            3000
           ],
           "values": [
            1800,
            2400,
            1900,
            2000,
            2900,
            400,
            300,
            1200,
            2200,
            1400,
            3000,
            3000,
            3000,
            2600,
            2600,
            3000,
            900,
            2600,
            2300,
            2700,
            1600,
            2800,
            2700,
            2800,
            2200,
            2800,
            2400,
            2800,
            2100,
            1700,
            2500,
            2500,
            2500,
            2400,
            2500,
            2000,
            1900,
            2300,
            2500,
            700,
            2000,
            2500,
            2300,
            2200,
            2200,
            2300,
            1800,
            2100,
            2100
           ]
          },
          {
           "label": "num_leaves",
           "range": [
            20,
            50
           ],
           "values": [
            20,
            20,
            20,
            45,
            25,
            20,
            20,
            35,
            30,
            45,
            50,
            50,
            50,
            50,
            40,
            45,
            40,
            50,
            40,
            35,
            30,
            35,
            35,
            35,
            35,
            30,
            30,
            25,
            25,
            30,
            35,
            35,
            40,
            40,
            40,
            40,
            45,
            40,
            45,
            45,
            45,
            40,
            40,
            40,
            45,
            40,
            40,
            45,
            45
           ]
          }
         ],
         "labelangle": 30,
         "labelside": "bottom",
         "line": {
          "color": [
           0.7290045828592016,
           0.7301011318144579,
           0.7298047503980584,
           0.7296166957646104,
           0.7298380834987982,
           0.7140640618092533,
           0.7144710624545959,
           0.7284060422783948,
           0.7299686835388236,
           0.7286010632716611,
           0.73020014739874,
           0.730149748412965,
           0.7301193601313485,
           0.7298838416095501,
           0.7301364704069172,
           0.7300845688474173,
           0.7279254962459856,
           0.7297678104799955,
           0.7300796685848682,
           0.7301638172717398,
           0.7294683793832535,
           0.7302390766959986,
           0.7302354117091823,
           0.7303434595120802,
           0.7300844035634201,
           0.7302471118961996,
           0.730192696388234,
           0.7288293145914423,
           0.7299874407169932,
           0.7285714056403028,
           0.7302689731245074,
           0.7303134542802246,
           0.730369321761629,
           0.730244280605763,
           0.7304077926193439,
           0.7301202042229357,
           0.7301726636167026,
           0.730257572924469,
           0.7305179261788152,
           0.7244213383472728,
           0.729854644867883,
           0.7304698043602604,
           0.7304745372804516,
           0.7303884089900577,
           0.7303618904786543,
           0.7303827294442359,
           0.7301757586974692,
           0.7304443878202654,
           0.7303421592175283
          ],
          "colorbar": {
           "title": {
            "text": "Objective Value"
           }
          },
          "colorscale": [
           [
            0,
            "rgb(247,251,255)"
           ],
           [
            0.125,
            "rgb(222,235,247)"
           ],
           [
            0.25,
            "rgb(198,219,239)"
           ],
           [
            0.375,
            "rgb(158,202,225)"
           ],
           [
            0.5,
            "rgb(107,174,214)"
           ],
           [
            0.625,
            "rgb(66,146,198)"
           ],
           [
            0.75,
            "rgb(33,113,181)"
           ],
           [
            0.875,
            "rgb(8,81,156)"
           ],
           [
            1,
            "rgb(8,48,107)"
           ]
          ],
          "reversescale": false,
          "showscale": true
         },
         "type": "parcoords"
        }
       ],
       "layout": {
        "autosize": true,
        "template": {
         "data": {
          "bar": [
           {
            "error_x": {
             "color": "#2a3f5f"
            },
            "error_y": {
             "color": "#2a3f5f"
            },
            "marker": {
             "line": {
              "color": "#E5ECF6",
              "width": 0.5
             },
             "pattern": {
              "fillmode": "overlay",
              "size": 10,
              "solidity": 0.2
             }
            },
            "type": "bar"
           }
          ],
          "barpolar": [
           {
            "marker": {
             "line": {
              "color": "#E5ECF6",
              "width": 0.5
             },
             "pattern": {
              "fillmode": "overlay",
              "size": 10,
              "solidity": 0.2
             }
            },
            "type": "barpolar"
           }
          ],
          "carpet": [
           {
            "aaxis": {
             "endlinecolor": "#2a3f5f",
             "gridcolor": "white",
             "linecolor": "white",
             "minorgridcolor": "white",
             "startlinecolor": "#2a3f5f"
            },
            "baxis": {
             "endlinecolor": "#2a3f5f",
             "gridcolor": "white",
             "linecolor": "white",
             "minorgridcolor": "white",
             "startlinecolor": "#2a3f5f"
            },
            "type": "carpet"
           }
          ],
          "choropleth": [
           {
            "colorbar": {
             "outlinewidth": 0,
             "ticks": ""
            },
            "type": "choropleth"
           }
          ],
          "contour": [
           {
            "colorbar": {
             "outlinewidth": 0,
             "ticks": ""
            },
            "colorscale": [
             [
              0,
              "#0d0887"
             ],
             [
              0.1111111111111111,
              "#46039f"
             ],
             [
              0.2222222222222222,
              "#7201a8"
             ],
             [
              0.3333333333333333,
              "#9c179e"
             ],
             [
              0.4444444444444444,
              "#bd3786"
             ],
             [
              0.5555555555555556,
              "#d8576b"
             ],
             [
              0.6666666666666666,
              "#ed7953"
             ],
             [
              0.7777777777777778,
              "#fb9f3a"
             ],
             [
              0.8888888888888888,
              "#fdca26"
             ],
             [
              1,
              "#f0f921"
             ]
            ],
            "type": "contour"
           }
          ],
          "contourcarpet": [
           {
            "colorbar": {
             "outlinewidth": 0,
             "ticks": ""
            },
            "type": "contourcarpet"
           }
          ],
          "heatmap": [
           {
            "colorbar": {
             "outlinewidth": 0,
             "ticks": ""
            },
            "colorscale": [
             [
              0,
              "#0d0887"
             ],
             [
              0.1111111111111111,
              "#46039f"
             ],
             [
              0.2222222222222222,
              "#7201a8"
             ],
             [
              0.3333333333333333,
              "#9c179e"
             ],
             [
              0.4444444444444444,
              "#bd3786"
             ],
             [
              0.5555555555555556,
              "#d8576b"
             ],
             [
              0.6666666666666666,
              "#ed7953"
             ],
             [
              0.7777777777777778,
              "#fb9f3a"
             ],
             [
              0.8888888888888888,
              "#fdca26"
             ],
             [
              1,
              "#f0f921"
             ]
            ],
            "type": "heatmap"
           }
          ],
          "heatmapgl": [
           {
            "colorbar": {
             "outlinewidth": 0,
             "ticks": ""
            },
            "colorscale": [
             [
              0,
              "#0d0887"
             ],
             [
              0.1111111111111111,
              "#46039f"
             ],
             [
              0.2222222222222222,
              "#7201a8"
             ],
             [
              0.3333333333333333,
              "#9c179e"
             ],
             [
              0.4444444444444444,
              "#bd3786"
             ],
             [
              0.5555555555555556,
              "#d8576b"
             ],
             [
              0.6666666666666666,
              "#ed7953"
             ],
             [
              0.7777777777777778,
              "#fb9f3a"
             ],
             [
              0.8888888888888888,
              "#fdca26"
             ],
             [
              1,
              "#f0f921"
             ]
            ],
            "type": "heatmapgl"
           }
          ],
          "histogram": [
           {
            "marker": {
             "pattern": {
              "fillmode": "overlay",
              "size": 10,
              "solidity": 0.2
             }
            },
            "type": "histogram"
           }
          ],
          "histogram2d": [
           {
            "colorbar": {
             "outlinewidth": 0,
             "ticks": ""
            },
            "colorscale": [
             [
              0,
              "#0d0887"
             ],
             [
              0.1111111111111111,
              "#46039f"
             ],
             [
              0.2222222222222222,
              "#7201a8"
             ],
             [
              0.3333333333333333,
              "#9c179e"
             ],
             [
              0.4444444444444444,
              "#bd3786"
             ],
             [
              0.5555555555555556,
              "#d8576b"
             ],
             [
              0.6666666666666666,
              "#ed7953"
             ],
             [
              0.7777777777777778,
              "#fb9f3a"
             ],
             [
              0.8888888888888888,
              "#fdca26"
             ],
             [
              1,
              "#f0f921"
             ]
            ],
            "type": "histogram2d"
           }
          ],
          "histogram2dcontour": [
           {
            "colorbar": {
             "outlinewidth": 0,
             "ticks": ""
            },
            "colorscale": [
             [
              0,
              "#0d0887"
             ],
             [
              0.1111111111111111,
              "#46039f"
             ],
             [
              0.2222222222222222,
              "#7201a8"
             ],
             [
              0.3333333333333333,
              "#9c179e"
             ],
             [
              0.4444444444444444,
              "#bd3786"
             ],
             [
              0.5555555555555556,
              "#d8576b"
             ],
             [
              0.6666666666666666,
              "#ed7953"
             ],
             [
              0.7777777777777778,
              "#fb9f3a"
             ],
             [
              0.8888888888888888,
              "#fdca26"
             ],
             [
              1,
              "#f0f921"
             ]
            ],
            "type": "histogram2dcontour"
           }
          ],
          "mesh3d": [
           {
            "colorbar": {
             "outlinewidth": 0,
             "ticks": ""
            },
            "type": "mesh3d"
           }
          ],
          "parcoords": [
           {
            "line": {
             "colorbar": {
              "outlinewidth": 0,
              "ticks": ""
             }
            },
            "type": "parcoords"
           }
          ],
          "pie": [
           {
            "automargin": true,
            "type": "pie"
           }
          ],
          "scatter": [
           {
            "marker": {
             "colorbar": {
              "outlinewidth": 0,
              "ticks": ""
             }
            },
            "type": "scatter"
           }
          ],
          "scatter3d": [
           {
            "line": {
             "colorbar": {
              "outlinewidth": 0,
              "ticks": ""
             }
            },
            "marker": {
             "colorbar": {
              "outlinewidth": 0,
              "ticks": ""
             }
            },
            "type": "scatter3d"
           }
          ],
          "scattercarpet": [
           {
            "marker": {
             "colorbar": {
              "outlinewidth": 0,
              "ticks": ""
             }
            },
            "type": "scattercarpet"
           }
          ],
          "scattergeo": [
           {
            "marker": {
             "colorbar": {
              "outlinewidth": 0,
              "ticks": ""
             }
            },
            "type": "scattergeo"
           }
          ],
          "scattergl": [
           {
            "marker": {
             "colorbar": {
              "outlinewidth": 0,
              "ticks": ""
             }
            },
            "type": "scattergl"
           }
          ],
          "scattermapbox": [
           {
            "marker": {
             "colorbar": {
              "outlinewidth": 0,
              "ticks": ""
             }
            },
            "type": "scattermapbox"
           }
          ],
          "scatterpolar": [
           {
            "marker": {
             "colorbar": {
              "outlinewidth": 0,
              "ticks": ""
             }
            },
            "type": "scatterpolar"
           }
          ],
          "scatterpolargl": [
           {
            "marker": {
             "colorbar": {
              "outlinewidth": 0,
              "ticks": ""
             }
            },
            "type": "scatterpolargl"
           }
          ],
          "scatterternary": [
           {
            "marker": {
             "colorbar": {
              "outlinewidth": 0,
              "ticks": ""
             }
            },
            "type": "scatterternary"
           }
          ],
          "surface": [
           {
            "colorbar": {
             "outlinewidth": 0,
             "ticks": ""
            },
            "colorscale": [
             [
              0,
              "#0d0887"
             ],
             [
              0.1111111111111111,
              "#46039f"
             ],
             [
              0.2222222222222222,
              "#7201a8"
             ],
             [
              0.3333333333333333,
              "#9c179e"
             ],
             [
              0.4444444444444444,
              "#bd3786"
             ],
             [
              0.5555555555555556,
              "#d8576b"
             ],
             [
              0.6666666666666666,
              "#ed7953"
             ],
             [
              0.7777777777777778,
              "#fb9f3a"
             ],
             [
              0.8888888888888888,
              "#fdca26"
             ],
             [
              1,
              "#f0f921"
             ]
            ],
            "type": "surface"
           }
          ],
          "table": [
           {
            "cells": {
             "fill": {
              "color": "#EBF0F8"
             },
             "line": {
              "color": "white"
             }
            },
            "header": {
             "fill": {
              "color": "#C8D4E3"
             },
             "line": {
              "color": "white"
             }
            },
            "type": "table"
           }
          ]
         },
         "layout": {
          "annotationdefaults": {
           "arrowcolor": "#2a3f5f",
           "arrowhead": 0,
           "arrowwidth": 1
          },
          "autotypenumbers": "strict",
          "coloraxis": {
           "colorbar": {
            "outlinewidth": 0,
            "ticks": ""
           }
          },
          "colorscale": {
           "diverging": [
            [
             0,
             "#8e0152"
            ],
            [
             0.1,
             "#c51b7d"
            ],
            [
             0.2,
             "#de77ae"
            ],
            [
             0.3,
             "#f1b6da"
            ],
            [
             0.4,
             "#fde0ef"
            ],
            [
             0.5,
             "#f7f7f7"
            ],
            [
             0.6,
             "#e6f5d0"
            ],
            [
             0.7,
             "#b8e186"
            ],
            [
             0.8,
             "#7fbc41"
            ],
            [
             0.9,
             "#4d9221"
            ],
            [
             1,
             "#276419"
            ]
           ],
           "sequential": [
            [
             0,
             "#0d0887"
            ],
            [
             0.1111111111111111,
             "#46039f"
            ],
            [
             0.2222222222222222,
             "#7201a8"
            ],
            [
             0.3333333333333333,
             "#9c179e"
            ],
            [
             0.4444444444444444,
             "#bd3786"
            ],
            [
             0.5555555555555556,
             "#d8576b"
            ],
            [
             0.6666666666666666,
             "#ed7953"
            ],
            [
             0.7777777777777778,
             "#fb9f3a"
            ],
            [
             0.8888888888888888,
             "#fdca26"
            ],
            [
             1,
             "#f0f921"
            ]
           ],
           "sequentialminus": [
            [
             0,
             "#0d0887"
            ],
            [
             0.1111111111111111,
             "#46039f"
            ],
            [
             0.2222222222222222,
             "#7201a8"
            ],
            [
             0.3333333333333333,
             "#9c179e"
            ],
            [
             0.4444444444444444,
             "#bd3786"
            ],
            [
             0.5555555555555556,
             "#d8576b"
            ],
            [
             0.6666666666666666,
             "#ed7953"
            ],
            [
             0.7777777777777778,
             "#fb9f3a"
            ],
            [
             0.8888888888888888,
             "#fdca26"
            ],
            [
             1,
             "#f0f921"
            ]
           ]
          },
          "colorway": [
           "#636efa",
           "#EF553B",
           "#00cc96",
           "#ab63fa",
           "#FFA15A",
           "#19d3f3",
           "#FF6692",
           "#B6E880",
           "#FF97FF",
           "#FECB52"
          ],
          "font": {
           "color": "#2a3f5f"
          },
          "geo": {
           "bgcolor": "white",
           "lakecolor": "white",
           "landcolor": "#E5ECF6",
           "showlakes": true,
           "showland": true,
           "subunitcolor": "white"
          },
          "hoverlabel": {
           "align": "left"
          },
          "hovermode": "closest",
          "mapbox": {
           "style": "light"
          },
          "paper_bgcolor": "white",
          "plot_bgcolor": "#E5ECF6",
          "polar": {
           "angularaxis": {
            "gridcolor": "white",
            "linecolor": "white",
            "ticks": ""
           },
           "bgcolor": "#E5ECF6",
           "radialaxis": {
            "gridcolor": "white",
            "linecolor": "white",
            "ticks": ""
           }
          },
          "scene": {
           "xaxis": {
            "backgroundcolor": "#E5ECF6",
            "gridcolor": "white",
            "gridwidth": 2,
            "linecolor": "white",
            "showbackground": true,
            "ticks": "",
            "zerolinecolor": "white"
           },
           "yaxis": {
            "backgroundcolor": "#E5ECF6",
            "gridcolor": "white",
            "gridwidth": 2,
            "linecolor": "white",
            "showbackground": true,
            "ticks": "",
            "zerolinecolor": "white"
           },
           "zaxis": {
            "backgroundcolor": "#E5ECF6",
            "gridcolor": "white",
            "gridwidth": 2,
            "linecolor": "white",
            "showbackground": true,
            "ticks": "",
            "zerolinecolor": "white"
           }
          },
          "shapedefaults": {
           "line": {
            "color": "#2a3f5f"
           }
          },
          "ternary": {
           "aaxis": {
            "gridcolor": "white",
            "linecolor": "white",
            "ticks": ""
           },
           "baxis": {
            "gridcolor": "white",
            "linecolor": "white",
            "ticks": ""
           },
           "bgcolor": "#E5ECF6",
           "caxis": {
            "gridcolor": "white",
            "linecolor": "white",
            "ticks": ""
           }
          },
          "title": {
           "x": 0.05
          },
          "xaxis": {
           "automargin": true,
           "gridcolor": "white",
           "linecolor": "white",
           "ticks": "",
           "title": {
            "standoff": 15
           },
           "zerolinecolor": "white",
           "zerolinewidth": 2
          },
          "yaxis": {
           "automargin": true,
           "gridcolor": "white",
           "linecolor": "white",
           "ticks": "",
           "title": {
            "standoff": 15
           },
           "zerolinecolor": "white",
           "zerolinewidth": 2
          }
         }
        },
        "title": {
         "text": "Parallel Coordinate Plot"
        }
       }
      },
      "image/png": "[encoded data removed]",
      "text/html": [
       "<div>                            <div id=\"03cb470e-9962-448c-bb2b-9750a3415de4\" class=\"plotly-graph-div\" style=\"height:525px; width:100%;\"></div>            <script type=\"text/javascript\">                require([\"plotly\"], function(Plotly) {                    window.PLOTLYENV=window.PLOTLYENV || {};                                    if (document.getElementById(\"03cb470e-9962-448c-bb2b-9750a3415de4\")) {                    Plotly.newPlot(                        \"03cb470e-9962-448c-bb2b-9750a3415de4\",                        [{\"dimensions\":[{\"label\":\"Objective Value\",\"range\":[0.7140640618092533,0.7305179261788152],\"values\":[0.7290045828592016,0.7301011318144579,0.7298047503980584,0.7296166957646104,0.7298380834987982,0.7140640618092533,0.7144710624545959,0.7284060422783948,0.7299686835388236,0.7286010632716611,0.73020014739874,0.730149748412965,0.7301193601313485,0.7298838416095501,0.7301364704069172,0.7300845688474173,0.7279254962459856,0.7297678104799955,0.7300796685848682,0.7301638172717398,0.7294683793832535,0.7302390766959986,0.7302354117091823,0.7303434595120802,0.7300844035634201,0.7302471118961996,0.730192696388234,0.7288293145914423,0.7299874407169932,0.7285714056403028,0.7302689731245074,0.7303134542802246,0.730369321761629,0.730244280605763,0.7304077926193439,0.7301202042229357,0.7301726636167026,0.730257572924469,0.7305179261788152,0.7244213383472728,0.729854644867883,0.7304698043602604,0.7304745372804516,0.7303884089900577,0.7303618904786543,0.7303827294442359,0.7301757586974692,0.7304443878202654,0.7303421592175283]},{\"label\":\"bagging_fraction\",\"range\":[0.4019626795978075,0.9803756670880277],\"values\":[0.5053594164738002,0.5039201723493792,0.7579693230936091,0.7582399920183489,0.6613974660874711,0.6150693449827559,0.9803756670880277,0.5900478126283512,0.6348882302238963,0.7111140877179071,0.42161600295511786,0.40488414784548526,0.408312345104376,0.42402100268406867,0.4997753864282234,0.8832404222254215,0.5462994459020425,0.4413403908030731,0.4019626795978075,0.47601912744711594,0.5703017719498551,0.4769823421741538,0.4689657322995096,0.4593397655936293,0.5417583005424409,0.4676115112475369,0.8477249669718244,0.5534535902762212,0.45600334332994064,0.5138292872790227,0.6563861077478891,0.6736825131600686,0.6927152729552917,0.7040813402569919,0.7665127154609532,0.8248434988196022,0.7598352131839579,0.8018674558200404,0.8941003105420229,0.945241658461999,0.9070665129342985,0.7276120012562352,0.7383848554480982,0.7423393956275884,0.7550192342327313,0.7351133252752117,0.7871011476393726,0.8587493854940063,0.870797027189847]},{\"label\":\"feature_fraction\",\"range\":[0.4108529080951221,0.992319896206384],\"values\":[0.49705920532434855,0.6926706598131309,0.9822927095476003,0.4918328287012719,0.4158759234739451,0.8806258439565591,0.4108529080951221,0.8464563248529593,0.7971160010633458,0.5879987264810752,0.69601701807087,0.6824723311006542,0.6842956433738296,0.610751815114187,0.7526430538225078,0.620461867631216,0.7440124749714064,0.6531633273898715,0.5268722889663029,0.9073214846545585,0.9685784337528418,0.8954596167281894,0.9187519403663739,0.9299282099044424,0.9249643215310345,0.8390163097389696,0.8228376969154649,0.8663503377121209,0.7804543196379295,0.9554069953477387,0.8454379738803998,0.8445696170238057,0.8310622732555024,0.992319896206384,0.8124124503161079,0.7520555267482502,0.7929163537795627,0.9299177573740486,0.8692351699685861,0.8790457111291086,0.9485249873661898,0.8749253608392106,0.8028783025428441,0.8109475981524037,0.7236007121923269,0.7975189842563891,0.8099752205079516,0.8699897553218865,0.8737494913856573]},{\"label\":\"lambda_l1\",\"range\":[0.08616576605282589,49.34875059418418],\"values\":[36.20595386757234,25.35693858157987,26.34156061872367,30.37146361844508,13.23153640923748,43.666858992800776,7.962743494102802,18.598386737042635,17.853011886994487,29.69771350305842,0.20346830576108133,0.30505366710549875,1.464151846294813,1.4406001855063333,8.363532206665836,7.234503021419486,2.0017328262203007,49.34875059418418,15.540129247261957,12.714654015995011,10.277175039301943,5.441499663897587,5.712568946216353,4.267287857323166,5.617175899537829,21.334962924051244,21.045322277303736,36.39795852540248,21.3178447670267,36.31123576845282,12.53075768645816,12.318136373645247,12.028436907287032,14.153394215739826,11.197873176163085,10.33853797855861,16.355435099267602,24.808612951151503,3.882047094083081,4.1386522261073235,10.170256808744437,4.0429102046955805,3.0405514543733183,7.844447368514738,3.125984065324592,7.5714988190174,0.08616576605282589,8.553513997324156,8.969924556051636]},{\"label\":\"lambda_l2\",\"range\":[0.5657972777836173,48.24739231551988],\"values\":[18.369821142741092,25.1488770275675,11.295933631105603,43.62258009737847,48.24739231551988,6.773699584484358,21.50660463709978,4.193027462831911,33.03947946954372,18.22153015853869,31.159646706131678,32.41461149599927,33.98723661650994,34.66762550719814,28.995923370451308,41.1338248138209,36.9191880886756,25.320770261970267,42.0942481793476,28.356672113933897,13.193256245537713,28.20068610731826,28.408830881202128,28.415341756716117,21.756505762467455,38.65685618261161,37.895714514476104,48.14839230938476,38.57165517513936,16.910851215344486,22.324038850190966,21.16518176008482,21.753050680753375,21.923474815539056,13.06599990491283,13.811075261437646,10.035710373440056,16.23744057795037,8.355557408730407,2.0876158356413548,8.753838156453831,13.63252108532237,7.214226841524128,5.883181965187188,5.874617158459078,0.5657972777836173,4.600262426681283,7.844190088380654,8.544390198360055]},{\"label\":\"learning_rate\",\"range\":[0.005017969114748731,0.009971106876607157],\"values\":[0.006125670459346944,0.007847880561389856,0.006886593728936212,0.008575593884675166,0.009576240008282964,0.006431613581364042,0.006486943837623449,0.0067147875846694065,0.00839070451239054,0.008221699946729036,0.005387447608947658,0.005195882494762476,0.005017969114748731,0.005063935871949715,0.005646814400486426,0.005567223846515232,0.0072573368152737475,0.005780804589211236,0.009971106876607157,0.005353588405736955,0.006093198744458186,0.005324940670773158,0.005499539924706265,0.005979833619691139,0.006014434303215732,0.007298092730878946,0.007277505226595265,0.009003222727287315,0.007575160770301394,0.006439073257344646,0.00695583954778103,0.006913548987993668,0.007024016518329534,0.006920468104746498,0.007757926952792023,0.007875090778760595,0.007820059692843719,0.008929448145353255,0.006631163485490334,0.006645006792186819,0.006257294805755722,0.007064695510283112,0.007576925540244041,0.007755112457351159,0.008133340414668178,0.007634207344207155,0.007923003249731215,0.008474783946778006,0.008346469977265429]},{\"label\":\"max_depth\",\"range\":[3,8],\"values\":[5,6,8,5,6,3,8,5,5,4,7,7,7,7,7,7,8,6,7,8,8,8,8,8,8,8,8,3,6,4,8,8,8,7,8,6,8,7,8,4,6,8,8,8,7,8,7,8,7]},{\"label\":\"min_data_in_leaf\",\"range\":[100,900],\"values\":[700,900,300,100,700,900,100,500,100,100,900,900,700,900,500,900,700,900,300,500,500,500,300,300,300,300,300,300,500,300,500,500,500,500,700,700,700,700,700,700,700,500,700,700,700,700,700,700,900]},{\"label\":\"n_estimators\",\"range\":[300,3000],\"values\":[1800,2400,1900,2000,2900,400,300,1200,2200,1400,3000,3000,3000,2600,2600,3000,900,2600,2300,2700,1600,2800,2700,2800,2200,2800,2400,2800,2100,1700,2500,2500,2500,2400,2500,2000,1900,2300,2500,700,2000,2500,2300,2200,2200,2300,1800,2100,2100]},{\"label\":\"num_leaves\",\"range\":[20,50],\"values\":[20,20,20,45,25,20,20,35,30,45,50,50,50,50,40,45,40,50,40,35,30,35,35,35,35,30,30,25,25,30,35,35,40,40,40,40,45,40,45,45,45,40,40,40,45,40,40,45,45]}],\"labelangle\":30,\"labelside\":\"bottom\",\"line\":{\"color\":[0.7290045828592016,0.7301011318144579,0.7298047503980584,0.7296166957646104,0.7298380834987982,0.7140640618092533,0.7144710624545959,0.7284060422783948,0.7299686835388236,0.7286010632716611,0.73020014739874,0.730149748412965,0.7301193601313485,0.7298838416095501,0.7301364704069172,0.7300845688474173,0.7279254962459856,0.7297678104799955,0.7300796685848682,0.7301638172717398,0.7294683793832535,0.7302390766959986,0.7302354117091823,0.7303434595120802,0.7300844035634201,0.7302471118961996,0.730192696388234,0.7288293145914423,0.7299874407169932,0.7285714056403028,0.7302689731245074,0.7303134542802246,0.730369321761629,0.730244280605763,0.7304077926193439,0.7301202042229357,0.7301726636167026,0.730257572924469,0.7305179261788152,0.7244213383472728,0.729854644867883,0.7304698043602604,0.7304745372804516,0.7303884089900577,0.7303618904786543,0.7303827294442359,0.7301757586974692,0.7304443878202654,0.7303421592175283],\"colorbar\":{\"title\":{\"text\":\"Objective Value\"}},\"colorscale\":[[0.0,\"rgb(247,251,255)\"],[0.125,\"rgb(222,235,247)\"],[0.25,\"rgb(198,219,239)\"],[0.375,\"rgb(158,202,225)\"],[0.5,\"rgb(107,174,214)\"],[0.625,\"rgb(66,146,198)\"],[0.75,\"rgb(33,113,181)\"],[0.875,\"rgb(8,81,156)\"],[1.0,\"rgb(8,48,107)\"]],\"reversescale\":false,\"showscale\":true},\"type\":\"parcoords\"}],                        {\"template\":{\"data\":{\"bar\":[{\"error_x\":{\"color\":\"#2a3f5f\"},\"error_y\":{\"color\":\"#2a3f5f\"},\"marker\":{\"line\":{\"color\":\"#E5ECF6\",\"width\":0.5},\"pattern\":{\"fillmode\":\"overlay\",\"size\":10,\"solidity\":0.2}},\"type\":\"bar\"}],\"barpolar\":[{\"marker\":{\"line\":{\"color\":\"#E5ECF6\",\"width\":0.5},\"pattern\":{\"fillmode\":\"overlay\",\"size\":10,\"solidity\":0.2}},\"type\":\"barpolar\"}],\"carpet\":[{\"aaxis\":{\"endlinecolor\":\"#2a3f5f\",\"gridcolor\":\"white\",\"linecolor\":\"white\",\"minorgridcolor\":\"white\",\"startlinecolor\":\"#2a3f5f\"},\"baxis\":{\"endlinecolor\":\"#2a3f5f\",\"gridcolor\":\"white\",\"linecolor\":\"white\",\"minorgridcolor\":\"white\",\"startlinecolor\":\"#2a3f5f\"},\"type\":\"carpet\"}],\"choropleth\":[{\"colorbar\":{\"outlinewidth\":0,\"ticks\":\"\"},\"type\":\"choropleth\"}],\"contour\":[{\"colorbar\":{\"outlinewidth\":0,\"ticks\":\"\"},\"colorscale\":[[0.0,\"#0d0887\"],[0.1111111111111111,\"#46039f\"],[0.2222222222222222,\"#7201a8\"],[0.3333333333333333,\"#9c179e\"],[0.4444444444444444,\"#bd3786\"],[0.5555555555555556,\"#d8576b\"],[0.6666666666666666,\"#ed7953\"],[0.7777777777777778,\"#fb9f3a\"],[0.8888888888888888,\"#fdca26\"],[1.0,\"#f0f921\"]],\"type\":\"contour\"}],\"contourcarpet\":[{\"colorbar\":{\"outlinewidth\":0,\"ticks\":\"\"},\"type\":\"contourcarpet\"}],\"heatmap\":[{\"colorbar\":{\"outlinewidth\":0,\"ticks\":\"\"},\"colorscale\":[[0.0,\"#0d0887\"],[0.1111111111111111,\"#46039f\"],[0.2222222222222222,\"#7201a8\"],[0.3333333333333333,\"#9c179e\"],[0.4444444444444444,\"#bd3786\"],[0.5555555555555556,\"#d8576b\"],[0.6666666666666666,\"#ed7953\"],[0.7777777777777778,\"#fb9f3a\"],[0.8888888888888888,\"#fdca26\"],[1.0,\"#f0f921\"]],\"type\":\"heatmap\"}],\"heatmapgl\":[{\"colorbar\":{\"outlinewidth\":0,\"ticks\":\"\"},\"colorscale\":[[0.0,\"#0d0887\"],[0.1111111111111111,\"#46039f\"],[0.2222222222222222,\"#7201a8\"],[0.3333333333333333,\"#9c179e\"],[0.4444444444444444,\"#bd3786\"],[0.5555555555555556,\"#d8576b\"],[0.6666666666666666,\"#ed7953\"],[0.7777777777777778,\"#fb9f3a\"],[0.8888888888888888,\"#fdca26\"],[1.0,\"#f0f921\"]],\"type\":\"heatmapgl\"}],\"histogram\":[{\"marker\":{\"pattern\":{\"fillmode\":\"overlay\",\"size\":10,\"solidity\":0.2}},\"type\":\"histogram\"}],\"histogram2d\":[{\"colorbar\":{\"outlinewidth\":0,\"ticks\":\"\"},\"colorscale\":[[0.0,\"#0d0887\"],[0.1111111111111111,\"#46039f\"],[0.2222222222222222,\"#7201a8\"],[0.3333333333333333,\"#9c179e\"],[0.4444444444444444,\"#bd3786\"],[0.5555555555555556,\"#d8576b\"],[0.6666666666666666,\"#ed7953\"],[0.7777777777777778,\"#fb9f3a\"],[0.8888888888888888,\"#fdca26\"],[1.0,\"#f0f921\"]],\"type\":\"histogram2d\"}],\"histogram2dcontour\":[{\"colorbar\":{\"outlinewidth\":0,\"ticks\":\"\"},\"colorscale\":[[0.0,\"#0d0887\"],[0.1111111111111111,\"#46039f\"],[0.2222222222222222,\"#7201a8\"],[0.3333333333333333,\"#9c179e\"],[0.4444444444444444,\"#bd3786\"],[0.5555555555555556,\"#d8576b\"],[0.6666666666666666,\"#ed7953\"],[0.7777777777777778,\"#fb9f3a\"],[0.8888888888888888,\"#fdca26\"],[1.0,\"#f0f921\"]],\"type\":\"histogram2dcontour\"}],\"mesh3d\":[{\"colorbar\":{\"outlinewidth\":0,\"ticks\":\"\"},\"type\":\"mesh3d\"}],\"parcoords\":[{\"line\":{\"colorbar\":{\"outlinewidth\":0,\"ticks\":\"\"}},\"type\":\"parcoords\"}],\"pie\":[{\"automargin\":true,\"type\":\"pie\"}],\"scatter\":[{\"marker\":{\"colorbar\":{\"outlinewidth\":0,\"ticks\":\"\"}},\"type\":\"scatter\"}],\"scatter3d\":[{\"line\":{\"colorbar\":{\"outlinewidth\":0,\"ticks\":\"\"}},\"marker\":{\"colorbar\":{\"outlinewidth\":0,\"ticks\":\"\"}},\"type\":\"scatter3d\"}],\"scattercarpet\":[{\"marker\":{\"colorbar\":{\"outlinewidth\":0,\"ticks\":\"\"}},\"type\":\"scattercarpet\"}],\"scattergeo\":[{\"marker\":{\"colorbar\":{\"outlinewidth\":0,\"ticks\":\"\"}},\"type\":\"scattergeo\"}],\"scattergl\":[{\"marker\":{\"colorbar\":{\"outlinewidth\":0,\"ticks\":\"\"}},\"type\":\"scattergl\"}],\"scattermapbox\":[{\"marker\":{\"colorbar\":{\"outlinewidth\":0,\"ticks\":\"\"}},\"type\":\"scattermapbox\"}],\"scatterpolar\":[{\"marker\":{\"colorbar\":{\"outlinewidth\":0,\"ticks\":\"\"}},\"type\":\"scatterpolar\"}],\"scatterpolargl\":[{\"marker\":{\"colorbar\":{\"outlinewidth\":0,\"ticks\":\"\"}},\"type\":\"scatterpolargl\"}],\"scatterternary\":[{\"marker\":{\"colorbar\":{\"outlinewidth\":0,\"ticks\":\"\"}},\"type\":\"scatterternary\"}],\"surface\":[{\"colorbar\":{\"outlinewidth\":0,\"ticks\":\"\"},\"colorscale\":[[0.0,\"#0d0887\"],[0.1111111111111111,\"#46039f\"],[0.2222222222222222,\"#7201a8\"],[0.3333333333333333,\"#9c179e\"],[0.4444444444444444,\"#bd3786\"],[0.5555555555555556,\"#d8576b\"],[0.6666666666666666,\"#ed7953\"],[0.7777777777777778,\"#fb9f3a\"],[0.8888888888888888,\"#fdca26\"],[1.0,\"#f0f921\"]],\"type\":\"surface\"}],\"table\":[{\"cells\":{\"fill\":{\"color\":\"#EBF0F8\"},\"line\":{\"color\":\"white\"}},\"header\":{\"fill\":{\"color\":\"#C8D4E3\"},\"line\":{\"color\":\"white\"}},\"type\":\"table\"}]},\"layout\":{\"annotationdefaults\":{\"arrowcolor\":\"#2a3f5f\",\"arrowhead\":0,\"arrowwidth\":1},\"autotypenumbers\":\"strict\",\"coloraxis\":{\"colorbar\":{\"outlinewidth\":0,\"ticks\":\"\"}},\"colorscale\":{\"diverging\":[[0,\"#8e0152\"],[0.1,\"#c51b7d\"],[0.2,\"#de77ae\"],[0.3,\"#f1b6da\"],[0.4,\"#fde0ef\"],[0.5,\"#f7f7f7\"],[0.6,\"#e6f5d0\"],[0.7,\"#b8e186\"],[0.8,\"#7fbc41\"],[0.9,\"#4d9221\"],[1,\"#276419\"]],\"sequential\":[[0.0,\"#0d0887\"],[0.1111111111111111,\"#46039f\"],[0.2222222222222222,\"#7201a8\"],[0.3333333333333333,\"#9c179e\"],[0.4444444444444444,\"#bd3786\"],[0.5555555555555556,\"#d8576b\"],[0.6666666666666666,\"#ed7953\"],[0.7777777777777778,\"#fb9f3a\"],[0.8888888888888888,\"#fdca26\"],[1.0,\"#f0f921\"]],\"sequentialminus\":[[0.0,\"#0d0887\"],[0.1111111111111111,\"#46039f\"],[0.2222222222222222,\"#7201a8\"],[0.3333333333333333,\"#9c179e\"],[0.4444444444444444,\"#bd3786\"],[0.5555555555555556,\"#d8576b\"],[0.6666666666666666,\"#ed7953\"],[0.7777777777777778,\"#fb9f3a\"],[0.8888888888888888,\"#fdca26\"],[1.0,\"#f0f921\"]]},\"colorway\":[\"#636efa\",\"#EF553B\",\"#00cc96\",\"#ab63fa\",\"#FFA15A\",\"#19d3f3\",\"#FF6692\",\"#B6E880\",\"#FF97FF\",\"#FECB52\"],\"font\":{\"color\":\"#2a3f5f\"},\"geo\":{\"bgcolor\":\"white\",\"lakecolor\":\"white\",\"landcolor\":\"#E5ECF6\",\"showlakes\":true,\"showland\":true,\"subunitcolor\":\"white\"},\"hoverlabel\":{\"align\":\"left\"},\"hovermode\":\"closest\",\"mapbox\":{\"style\":\"light\"},\"paper_bgcolor\":\"white\",\"plot_bgcolor\":\"#E5ECF6\",\"polar\":{\"angularaxis\":{\"gridcolor\":\"white\",\"linecolor\":\"white\",\"ticks\":\"\"},\"bgcolor\":\"#E5ECF6\",\"radialaxis\":{\"gridcolor\":\"white\",\"linecolor\":\"white\",\"ticks\":\"\"}},\"scene\":{\"xaxis\":{\"backgroundcolor\":\"#E5ECF6\",\"gridcolor\":\"white\",\"gridwidth\":2,\"linecolor\":\"white\",\"showbackground\":true,\"ticks\":\"\",\"zerolinecolor\":\"white\"},\"yaxis\":{\"backgroundcolor\":\"#E5ECF6\",\"gridcolor\":\"white\",\"gridwidth\":2,\"linecolor\":\"white\",\"showbackground\":true,\"ticks\":\"\",\"zerolinecolor\":\"white\"},\"zaxis\":{\"backgroundcolor\":\"#E5ECF6\",\"gridcolor\":\"white\",\"gridwidth\":2,\"linecolor\":\"white\",\"showbackground\":true,\"ticks\":\"\",\"zerolinecolor\":\"white\"}},\"shapedefaults\":{\"line\":{\"color\":\"#2a3f5f\"}},\"ternary\":{\"aaxis\":{\"gridcolor\":\"white\",\"linecolor\":\"white\",\"ticks\":\"\"},\"baxis\":{\"gridcolor\":\"white\",\"linecolor\":\"white\",\"ticks\":\"\"},\"bgcolor\":\"#E5ECF6\",\"caxis\":{\"gridcolor\":\"white\",\"linecolor\":\"white\",\"ticks\":\"\"}},\"title\":{\"x\":0.05},\"xaxis\":{\"automargin\":true,\"gridcolor\":\"white\",\"linecolor\":\"white\",\"ticks\":\"\",\"title\":{\"standoff\":15},\"zerolinecolor\":\"white\",\"zerolinewidth\":2},\"yaxis\":{\"automargin\":true,\"gridcolor\":\"white\",\"linecolor\":\"white\",\"ticks\":\"\",\"title\":{\"standoff\":15},\"zerolinecolor\":\"white\",\"zerolinewidth\":2}}},\"title\":{\"text\":\"Parallel Coordinate Plot\"}},                        {\"responsive\": true}                    ).then(function(){\n",
       "                            \n",
       "var gd = document.getElementById('03cb470e-9962-448c-bb2b-9750a3415de4');\n",
       "var x = new MutationObserver(function (mutations, observer) {{\n",
       "        var display = window.getComputedStyle(gd).display;\n",
       "        if (!display || display === 'none') {{\n",
       "            console.log([gd, 'removed!']);\n",
       "            Plotly.purge(gd);\n",
       "            observer.disconnect();\n",
       "        }}\n",
       "}});\n",
       "\n",
       "// Listen for the removal of the full notebook cells\n",
       "var notebookContainer = gd.closest('#notebook-container');\n",
       "if (notebookContainer) {{\n",
       "    x.observe(notebookContainer, {childList: true});\n",
       "}}\n",
       "\n",
       "// Listen for the clearing of the current output cell\n",
       "var outputEl = gd.closest('.output');\n",
       "if (outputEl) {{\n",
       "    x.observe(outputEl, {childList: true});\n",
       "}}\n",
       "\n",
       "                        })                };                });            </script>        </div>"
      ]
     },
     "metadata": {},
     "output_type": "display_data"
    }
   ],
   "source": [
    "import optuna.visualization as ov\n",
    "\n",
    "ov.plot_parallel_coordinate(hptune)"
   ]
  },
  {
   "cell_type": "code",
   "execution_count": 76,
   "id": "42dbef77",
   "metadata": {},
   "outputs": [
    {
     "data": {
      "application/vnd.plotly.v1+json": {
       "config": {
        "plotlyServerURL": "https://plot.ly"
       },
       "data": [
        {
         "mode": "lines",
         "name": "prescreen_lgbm_32",
         "type": "scatter",
         "x": [
          0.7140640618092533,
          0.7142302624594509,
          0.7143964631096484,
          0.7145626637598461,
          0.7147288644100437,
          0.7148950650602413,
          0.7150612657104388,
          0.7152274663606365,
          0.7153936670108341,
          0.7155598676610316,
          0.7157260683112292,
          0.7158922689614269,
          0.7160584696116244,
          0.716224670261822,
          0.7163908709120196,
          0.7165570715622173,
          0.7167232722124148,
          0.7168894728626124,
          0.71705567351281,
          0.7172218741630076,
          0.7173880748132052,
          0.7175542754634028,
          0.7177204761136003,
          0.717886676763798,
          0.7180528774139956,
          0.7182190780641932,
          0.7183852787143907,
          0.7185514793645884,
          0.718717680014786,
          0.7188838806649835,
          0.7190500813151811,
          0.7192162819653788,
          0.7193824826155764,
          0.7195486832657739,
          0.7197148839159715,
          0.7198810845661691,
          0.7200472852163667,
          0.7202134858665643,
          0.7203796865167619,
          0.7205458871669594,
          0.7207120878171571,
          0.7208782884673547,
          0.7210444891175523,
          0.7212106897677498,
          0.7213768904179475,
          0.7215430910681451,
          0.7217092917183426,
          0.7218754923685402,
          0.7220416930187379,
          0.7222078936689355,
          0.722374094319133,
          0.7225402949693306,
          0.7227064956195283,
          0.7228726962697258,
          0.7230388969199234,
          0.723205097570121,
          0.7233712982203186,
          0.7235374988705162,
          0.7237036995207138,
          0.7238699001709114,
          0.724036100821109,
          0.7242023014713066,
          0.7243685021215042,
          0.7245347027717017,
          0.7247009034218994,
          0.724867104072097,
          0.7250333047222945,
          0.7251995053724921,
          0.7253657060226897,
          0.7255319066728874,
          0.7256981073230849,
          0.7258643079732825,
          0.7260305086234801,
          0.7261967092736777,
          0.7263629099238753,
          0.7265291105740729,
          0.7266953112242704,
          0.7268615118744681,
          0.7270277125246657,
          0.7271939131748633,
          0.7273601138250608,
          0.7275263144752585,
          0.7276925151254561,
          0.7278587157756536,
          0.7280249164258512,
          0.7281911170760489,
          0.7283573177262465,
          0.728523518376444,
          0.7286897190266416,
          0.7288559196768393,
          0.7290221203270368,
          0.7291883209772344,
          0.729354521627432,
          0.7295207222776297,
          0.7296869229278272,
          0.7298531235780248,
          0.7300193242282224,
          0.73018552487842,
          0.7303517255286176,
          0.7305179261788152
         ],
         "y": [
          0.02040816326530612,
          0.02040816326530612,
          0.02040816326530612,
          0.04081632653061224,
          0.04081632653061224,
          0.04081632653061224,
          0.04081632653061224,
          0.04081632653061224,
          0.04081632653061224,
          0.04081632653061224,
          0.04081632653061224,
          0.04081632653061224,
          0.04081632653061224,
          0.04081632653061224,
          0.04081632653061224,
          0.04081632653061224,
          0.04081632653061224,
          0.04081632653061224,
          0.04081632653061224,
          0.04081632653061224,
          0.04081632653061224,
          0.04081632653061224,
          0.04081632653061224,
          0.04081632653061224,
          0.04081632653061224,
          0.04081632653061224,
          0.04081632653061224,
          0.04081632653061224,
          0.04081632653061224,
          0.04081632653061224,
          0.04081632653061224,
          0.04081632653061224,
          0.04081632653061224,
          0.04081632653061224,
          0.04081632653061224,
          0.04081632653061224,
          0.04081632653061224,
          0.04081632653061224,
          0.04081632653061224,
          0.04081632653061224,
          0.04081632653061224,
          0.04081632653061224,
          0.04081632653061224,
          0.04081632653061224,
          0.04081632653061224,
          0.04081632653061224,
          0.04081632653061224,
          0.04081632653061224,
          0.04081632653061224,
          0.04081632653061224,
          0.04081632653061224,
          0.04081632653061224,
          0.04081632653061224,
          0.04081632653061224,
          0.04081632653061224,
          0.04081632653061224,
          0.04081632653061224,
          0.04081632653061224,
          0.04081632653061224,
          0.04081632653061224,
          0.04081632653061224,
          0.04081632653061224,
          0.04081632653061224,
          0.061224489795918366,
          0.061224489795918366,
          0.061224489795918366,
          0.061224489795918366,
          0.061224489795918366,
          0.061224489795918366,
          0.061224489795918366,
          0.061224489795918366,
          0.061224489795918366,
          0.061224489795918366,
          0.061224489795918366,
          0.061224489795918366,
          0.061224489795918366,
          0.061224489795918366,
          0.061224489795918366,
          0.061224489795918366,
          0.061224489795918366,
          0.061224489795918366,
          0.061224489795918366,
          0.061224489795918366,
          0.061224489795918366,
          0.08163265306122448,
          0.08163265306122448,
          0.08163265306122448,
          0.10204081632653061,
          0.14285714285714285,
          0.16326530612244897,
          0.1836734693877551,
          0.1836734693877551,
          0.1836734693877551,
          0.20408163265306123,
          0.22448979591836735,
          0.2857142857142857,
          0.3673469387755102,
          0.5918367346938775,
          0.8163265306122449,
          1
         ]
        }
       ],
       "layout": {
        "autosize": true,
        "template": {
         "data": {
          "bar": [
           {
            "error_x": {
             "color": "#2a3f5f"
            },
            "error_y": {
             "color": "#2a3f5f"
            },
            "marker": {
             "line": {
              "color": "#E5ECF6",
              "width": 0.5
             },
             "pattern": {
              "fillmode": "overlay",
              "size": 10,
              "solidity": 0.2
             }
            },
            "type": "bar"
           }
          ],
          "barpolar": [
           {
            "marker": {
             "line": {
              "color": "#E5ECF6",
              "width": 0.5
             },
             "pattern": {
              "fillmode": "overlay",
              "size": 10,
              "solidity": 0.2
             }
            },
            "type": "barpolar"
           }
          ],
          "carpet": [
           {
            "aaxis": {
             "endlinecolor": "#2a3f5f",
             "gridcolor": "white",
             "linecolor": "white",
             "minorgridcolor": "white",
             "startlinecolor": "#2a3f5f"
            },
            "baxis": {
             "endlinecolor": "#2a3f5f",
             "gridcolor": "white",
             "linecolor": "white",
             "minorgridcolor": "white",
             "startlinecolor": "#2a3f5f"
            },
            "type": "carpet"
           }
          ],
          "choropleth": [
           {
            "colorbar": {
             "outlinewidth": 0,
             "ticks": ""
            },
            "type": "choropleth"
           }
          ],
          "contour": [
           {
            "colorbar": {
             "outlinewidth": 0,
             "ticks": ""
            },
            "colorscale": [
             [
              0,
              "#0d0887"
             ],
             [
              0.1111111111111111,
              "#46039f"
             ],
             [
              0.2222222222222222,
              "#7201a8"
             ],
             [
              0.3333333333333333,
              "#9c179e"
             ],
             [
              0.4444444444444444,
              "#bd3786"
             ],
             [
              0.5555555555555556,
              "#d8576b"
             ],
             [
              0.6666666666666666,
              "#ed7953"
             ],
             [
              0.7777777777777778,
              "#fb9f3a"
             ],
             [
              0.8888888888888888,
              "#fdca26"
             ],
             [
              1,
              "#f0f921"
             ]
            ],
            "type": "contour"
           }
          ],
          "contourcarpet": [
           {
            "colorbar": {
             "outlinewidth": 0,
             "ticks": ""
            },
            "type": "contourcarpet"
           }
          ],
          "heatmap": [
           {
            "colorbar": {
             "outlinewidth": 0,
             "ticks": ""
            },
            "colorscale": [
             [
              0,
              "#0d0887"
             ],
             [
              0.1111111111111111,
              "#46039f"
             ],
             [
              0.2222222222222222,
              "#7201a8"
             ],
             [
              0.3333333333333333,
              "#9c179e"
             ],
             [
              0.4444444444444444,
              "#bd3786"
             ],
             [
              0.5555555555555556,
              "#d8576b"
             ],
             [
              0.6666666666666666,
              "#ed7953"
             ],
             [
              0.7777777777777778,
              "#fb9f3a"
             ],
             [
              0.8888888888888888,
              "#fdca26"
             ],
             [
              1,
              "#f0f921"
             ]
            ],
            "type": "heatmap"
           }
          ],
          "heatmapgl": [
           {
            "colorbar": {
             "outlinewidth": 0,
             "ticks": ""
            },
            "colorscale": [
             [
              0,
              "#0d0887"
             ],
             [
              0.1111111111111111,
              "#46039f"
             ],
             [
              0.2222222222222222,
              "#7201a8"
             ],
             [
              0.3333333333333333,
              "#9c179e"
             ],
             [
              0.4444444444444444,
              "#bd3786"
             ],
             [
              0.5555555555555556,
              "#d8576b"
             ],
             [
              0.6666666666666666,
              "#ed7953"
             ],
             [
              0.7777777777777778,
              "#fb9f3a"
             ],
             [
              0.8888888888888888,
              "#fdca26"
             ],
             [
              1,
              "#f0f921"
             ]
            ],
            "type": "heatmapgl"
           }
          ],
          "histogram": [
           {
            "marker": {
             "pattern": {
              "fillmode": "overlay",
              "size": 10,
              "solidity": 0.2
             }
            },
            "type": "histogram"
           }
          ],
          "histogram2d": [
           {
            "colorbar": {
             "outlinewidth": 0,
             "ticks": ""
            },
            "colorscale": [
             [
              0,
              "#0d0887"
             ],
             [
              0.1111111111111111,
              "#46039f"
             ],
             [
              0.2222222222222222,
              "#7201a8"
             ],
             [
              0.3333333333333333,
              "#9c179e"
             ],
             [
              0.4444444444444444,
              "#bd3786"
             ],
             [
              0.5555555555555556,
              "#d8576b"
             ],
             [
              0.6666666666666666,
              "#ed7953"
             ],
             [
              0.7777777777777778,
              "#fb9f3a"
             ],
             [
              0.8888888888888888,
              "#fdca26"
             ],
             [
              1,
              "#f0f921"
             ]
            ],
            "type": "histogram2d"
           }
          ],
          "histogram2dcontour": [
           {
            "colorbar": {
             "outlinewidth": 0,
             "ticks": ""
            },
            "colorscale": [
             [
              0,
              "#0d0887"
             ],
             [
              0.1111111111111111,
              "#46039f"
             ],
             [
              0.2222222222222222,
              "#7201a8"
             ],
             [
              0.3333333333333333,
              "#9c179e"
             ],
             [
              0.4444444444444444,
              "#bd3786"
             ],
             [
              0.5555555555555556,
              "#d8576b"
             ],
             [
              0.6666666666666666,
              "#ed7953"
             ],
             [
              0.7777777777777778,
              "#fb9f3a"
             ],
             [
              0.8888888888888888,
              "#fdca26"
             ],
             [
              1,
              "#f0f921"
             ]
            ],
            "type": "histogram2dcontour"
           }
          ],
          "mesh3d": [
           {
            "colorbar": {
             "outlinewidth": 0,
             "ticks": ""
            },
            "type": "mesh3d"
           }
          ],
          "parcoords": [
           {
            "line": {
             "colorbar": {
              "outlinewidth": 0,
              "ticks": ""
             }
            },
            "type": "parcoords"
           }
          ],
          "pie": [
           {
            "automargin": true,
            "type": "pie"
           }
          ],
          "scatter": [
           {
            "marker": {
             "colorbar": {
              "outlinewidth": 0,
              "ticks": ""
             }
            },
            "type": "scatter"
           }
          ],
          "scatter3d": [
           {
            "line": {
             "colorbar": {
              "outlinewidth": 0,
              "ticks": ""
             }
            },
            "marker": {
             "colorbar": {
              "outlinewidth": 0,
              "ticks": ""
             }
            },
            "type": "scatter3d"
           }
          ],
          "scattercarpet": [
           {
            "marker": {
             "colorbar": {
              "outlinewidth": 0,
              "ticks": ""
             }
            },
            "type": "scattercarpet"
           }
          ],
          "scattergeo": [
           {
            "marker": {
             "colorbar": {
              "outlinewidth": 0,
              "ticks": ""
             }
            },
            "type": "scattergeo"
           }
          ],
          "scattergl": [
           {
            "marker": {
             "colorbar": {
              "outlinewidth": 0,
              "ticks": ""
             }
            },
            "type": "scattergl"
           }
          ],
          "scattermapbox": [
           {
            "marker": {
             "colorbar": {
              "outlinewidth": 0,
              "ticks": ""
             }
            },
            "type": "scattermapbox"
           }
          ],
          "scatterpolar": [
           {
            "marker": {
             "colorbar": {
              "outlinewidth": 0,
              "ticks": ""
             }
            },
            "type": "scatterpolar"
           }
          ],
          "scatterpolargl": [
           {
            "marker": {
             "colorbar": {
              "outlinewidth": 0,
              "ticks": ""
             }
            },
            "type": "scatterpolargl"
           }
          ],
          "scatterternary": [
           {
            "marker": {
             "colorbar": {
              "outlinewidth": 0,
              "ticks": ""
             }
            },
            "type": "scatterternary"
           }
          ],
          "surface": [
           {
            "colorbar": {
             "outlinewidth": 0,
             "ticks": ""
            },
            "colorscale": [
             [
              0,
              "#0d0887"
             ],
             [
              0.1111111111111111,
              "#46039f"
             ],
             [
              0.2222222222222222,
              "#7201a8"
             ],
             [
              0.3333333333333333,
              "#9c179e"
             ],
             [
              0.4444444444444444,
              "#bd3786"
             ],
             [
              0.5555555555555556,
              "#d8576b"
             ],
             [
              0.6666666666666666,
              "#ed7953"
             ],
             [
              0.7777777777777778,
              "#fb9f3a"
             ],
             [
              0.8888888888888888,
              "#fdca26"
             ],
             [
              1,
              "#f0f921"
             ]
            ],
            "type": "surface"
           }
          ],
          "table": [
           {
            "cells": {
             "fill": {
              "color": "#EBF0F8"
             },
             "line": {
              "color": "white"
             }
            },
            "header": {
             "fill": {
              "color": "#C8D4E3"
             },
             "line": {
              "color": "white"
             }
            },
            "type": "table"
           }
          ]
         },
         "layout": {
          "annotationdefaults": {
           "arrowcolor": "#2a3f5f",
           "arrowhead": 0,
           "arrowwidth": 1
          },
          "autotypenumbers": "strict",
          "coloraxis": {
           "colorbar": {
            "outlinewidth": 0,
            "ticks": ""
           }
          },
          "colorscale": {
           "diverging": [
            [
             0,
             "#8e0152"
            ],
            [
             0.1,
             "#c51b7d"
            ],
            [
             0.2,
             "#de77ae"
            ],
            [
             0.3,
             "#f1b6da"
            ],
            [
             0.4,
             "#fde0ef"
            ],
            [
             0.5,
             "#f7f7f7"
            ],
            [
             0.6,
             "#e6f5d0"
            ],
            [
             0.7,
             "#b8e186"
            ],
            [
             0.8,
             "#7fbc41"
            ],
            [
             0.9,
             "#4d9221"
            ],
            [
             1,
             "#276419"
            ]
           ],
           "sequential": [
            [
             0,
             "#0d0887"
            ],
            [
             0.1111111111111111,
             "#46039f"
            ],
            [
             0.2222222222222222,
             "#7201a8"
            ],
            [
             0.3333333333333333,
             "#9c179e"
            ],
            [
             0.4444444444444444,
             "#bd3786"
            ],
            [
             0.5555555555555556,
             "#d8576b"
            ],
            [
             0.6666666666666666,
             "#ed7953"
            ],
            [
             0.7777777777777778,
             "#fb9f3a"
            ],
            [
             0.8888888888888888,
             "#fdca26"
            ],
            [
             1,
             "#f0f921"
            ]
           ],
           "sequentialminus": [
            [
             0,
             "#0d0887"
            ],
            [
             0.1111111111111111,
             "#46039f"
            ],
            [
             0.2222222222222222,
             "#7201a8"
            ],
            [
             0.3333333333333333,
             "#9c179e"
            ],
            [
             0.4444444444444444,
             "#bd3786"
            ],
            [
             0.5555555555555556,
             "#d8576b"
            ],
            [
             0.6666666666666666,
             "#ed7953"
            ],
            [
             0.7777777777777778,
             "#fb9f3a"
            ],
            [
             0.8888888888888888,
             "#fdca26"
            ],
            [
             1,
             "#f0f921"
            ]
           ]
          },
          "colorway": [
           "#636efa",
           "#EF553B",
           "#00cc96",
           "#ab63fa",
           "#FFA15A",
           "#19d3f3",
           "#FF6692",
           "#B6E880",
           "#FF97FF",
           "#FECB52"
          ],
          "font": {
           "color": "#2a3f5f"
          },
          "geo": {
           "bgcolor": "white",
           "lakecolor": "white",
           "landcolor": "#E5ECF6",
           "showlakes": true,
           "showland": true,
           "subunitcolor": "white"
          },
          "hoverlabel": {
           "align": "left"
          },
          "hovermode": "closest",
          "mapbox": {
           "style": "light"
          },
          "paper_bgcolor": "white",
          "plot_bgcolor": "#E5ECF6",
          "polar": {
           "angularaxis": {
            "gridcolor": "white",
            "linecolor": "white",
            "ticks": ""
           },
           "bgcolor": "#E5ECF6",
           "radialaxis": {
            "gridcolor": "white",
            "linecolor": "white",
            "ticks": ""
           }
          },
          "scene": {
           "xaxis": {
            "backgroundcolor": "#E5ECF6",
            "gridcolor": "white",
            "gridwidth": 2,
            "linecolor": "white",
            "showbackground": true,
            "ticks": "",
            "zerolinecolor": "white"
           },
           "yaxis": {
            "backgroundcolor": "#E5ECF6",
            "gridcolor": "white",
            "gridwidth": 2,
            "linecolor": "white",
            "showbackground": true,
            "ticks": "",
            "zerolinecolor": "white"
           },
           "zaxis": {
            "backgroundcolor": "#E5ECF6",
            "gridcolor": "white",
            "gridwidth": 2,
            "linecolor": "white",
            "showbackground": true,
            "ticks": "",
            "zerolinecolor": "white"
           }
          },
          "shapedefaults": {
           "line": {
            "color": "#2a3f5f"
           }
          },
          "ternary": {
           "aaxis": {
            "gridcolor": "white",
            "linecolor": "white",
            "ticks": ""
           },
           "baxis": {
            "gridcolor": "white",
            "linecolor": "white",
            "ticks": ""
           },
           "bgcolor": "#E5ECF6",
           "caxis": {
            "gridcolor": "white",
            "linecolor": "white",
            "ticks": ""
           }
          },
          "title": {
           "x": 0.05
          },
          "xaxis": {
           "automargin": true,
           "gridcolor": "white",
           "linecolor": "white",
           "ticks": "",
           "title": {
            "standoff": 15
           },
           "zerolinecolor": "white",
           "zerolinewidth": 2
          },
          "yaxis": {
           "automargin": true,
           "gridcolor": "white",
           "linecolor": "white",
           "ticks": "",
           "title": {
            "standoff": 15
           },
           "zerolinecolor": "white",
           "zerolinewidth": 2
          }
         }
        },
        "title": {
         "text": "Empirical Distribution Function Plot"
        },
        "xaxis": {
         "autorange": true,
         "range": [
          0.7140640618092533,
          0.7305179261788152
         ],
         "title": {
          "text": "Objective Value"
         },
         "type": "linear"
        },
        "yaxis": {
         "range": [
          0,
          1
         ],
         "title": {
          "text": "Cumulative Probability"
         },
         "type": "linear"
        }
       }
      },
      "image/png": "[encoded data removed]",
      "text/html": [
       "<div>                            <div id=\"7f8238f9-b0e0-486b-955c-e37ce5e05c5f\" class=\"plotly-graph-div\" style=\"height:525px; width:100%;\"></div>            <script type=\"text/javascript\">                require([\"plotly\"], function(Plotly) {                    window.PLOTLYENV=window.PLOTLYENV || {};                                    if (document.getElementById(\"7f8238f9-b0e0-486b-955c-e37ce5e05c5f\")) {                    Plotly.newPlot(                        \"7f8238f9-b0e0-486b-955c-e37ce5e05c5f\",                        [{\"mode\":\"lines\",\"name\":\"prescreen_lgbm_32\",\"type\":\"scatter\",\"x\":[0.7140640618092533,0.7142302624594509,0.7143964631096484,0.7145626637598461,0.7147288644100437,0.7148950650602413,0.7150612657104388,0.7152274663606365,0.7153936670108341,0.7155598676610316,0.7157260683112292,0.7158922689614269,0.7160584696116244,0.716224670261822,0.7163908709120196,0.7165570715622173,0.7167232722124148,0.7168894728626124,0.71705567351281,0.7172218741630076,0.7173880748132052,0.7175542754634028,0.7177204761136003,0.717886676763798,0.7180528774139956,0.7182190780641932,0.7183852787143907,0.7185514793645884,0.718717680014786,0.7188838806649835,0.7190500813151811,0.7192162819653788,0.7193824826155764,0.7195486832657739,0.7197148839159715,0.7198810845661691,0.7200472852163667,0.7202134858665643,0.7203796865167619,0.7205458871669594,0.7207120878171571,0.7208782884673547,0.7210444891175523,0.7212106897677498,0.7213768904179475,0.7215430910681451,0.7217092917183426,0.7218754923685402,0.7220416930187379,0.7222078936689355,0.722374094319133,0.7225402949693306,0.7227064956195283,0.7228726962697258,0.7230388969199234,0.723205097570121,0.7233712982203186,0.7235374988705162,0.7237036995207138,0.7238699001709114,0.724036100821109,0.7242023014713066,0.7243685021215042,0.7245347027717017,0.7247009034218994,0.724867104072097,0.7250333047222945,0.7251995053724921,0.7253657060226897,0.7255319066728874,0.7256981073230849,0.7258643079732825,0.7260305086234801,0.7261967092736777,0.7263629099238753,0.7265291105740729,0.7266953112242704,0.7268615118744681,0.7270277125246657,0.7271939131748633,0.7273601138250608,0.7275263144752585,0.7276925151254561,0.7278587157756536,0.7280249164258512,0.7281911170760489,0.7283573177262465,0.728523518376444,0.7286897190266416,0.7288559196768393,0.7290221203270368,0.7291883209772344,0.729354521627432,0.7295207222776297,0.7296869229278272,0.7298531235780248,0.7300193242282224,0.73018552487842,0.7303517255286176,0.7305179261788152],\"y\":[0.02040816326530612,0.02040816326530612,0.02040816326530612,0.04081632653061224,0.04081632653061224,0.04081632653061224,0.04081632653061224,0.04081632653061224,0.04081632653061224,0.04081632653061224,0.04081632653061224,0.04081632653061224,0.04081632653061224,0.04081632653061224,0.04081632653061224,0.04081632653061224,0.04081632653061224,0.04081632653061224,0.04081632653061224,0.04081632653061224,0.04081632653061224,0.04081632653061224,0.04081632653061224,0.04081632653061224,0.04081632653061224,0.04081632653061224,0.04081632653061224,0.04081632653061224,0.04081632653061224,0.04081632653061224,0.04081632653061224,0.04081632653061224,0.04081632653061224,0.04081632653061224,0.04081632653061224,0.04081632653061224,0.04081632653061224,0.04081632653061224,0.04081632653061224,0.04081632653061224,0.04081632653061224,0.04081632653061224,0.04081632653061224,0.04081632653061224,0.04081632653061224,0.04081632653061224,0.04081632653061224,0.04081632653061224,0.04081632653061224,0.04081632653061224,0.04081632653061224,0.04081632653061224,0.04081632653061224,0.04081632653061224,0.04081632653061224,0.04081632653061224,0.04081632653061224,0.04081632653061224,0.04081632653061224,0.04081632653061224,0.04081632653061224,0.04081632653061224,0.04081632653061224,0.061224489795918366,0.061224489795918366,0.061224489795918366,0.061224489795918366,0.061224489795918366,0.061224489795918366,0.061224489795918366,0.061224489795918366,0.061224489795918366,0.061224489795918366,0.061224489795918366,0.061224489795918366,0.061224489795918366,0.061224489795918366,0.061224489795918366,0.061224489795918366,0.061224489795918366,0.061224489795918366,0.061224489795918366,0.061224489795918366,0.061224489795918366,0.08163265306122448,0.08163265306122448,0.08163265306122448,0.10204081632653061,0.14285714285714285,0.16326530612244897,0.1836734693877551,0.1836734693877551,0.1836734693877551,0.20408163265306123,0.22448979591836735,0.2857142857142857,0.3673469387755102,0.5918367346938775,0.8163265306122449,1.0]}],                        {\"template\":{\"data\":{\"bar\":[{\"error_x\":{\"color\":\"#2a3f5f\"},\"error_y\":{\"color\":\"#2a3f5f\"},\"marker\":{\"line\":{\"color\":\"#E5ECF6\",\"width\":0.5},\"pattern\":{\"fillmode\":\"overlay\",\"size\":10,\"solidity\":0.2}},\"type\":\"bar\"}],\"barpolar\":[{\"marker\":{\"line\":{\"color\":\"#E5ECF6\",\"width\":0.5},\"pattern\":{\"fillmode\":\"overlay\",\"size\":10,\"solidity\":0.2}},\"type\":\"barpolar\"}],\"carpet\":[{\"aaxis\":{\"endlinecolor\":\"#2a3f5f\",\"gridcolor\":\"white\",\"linecolor\":\"white\",\"minorgridcolor\":\"white\",\"startlinecolor\":\"#2a3f5f\"},\"baxis\":{\"endlinecolor\":\"#2a3f5f\",\"gridcolor\":\"white\",\"linecolor\":\"white\",\"minorgridcolor\":\"white\",\"startlinecolor\":\"#2a3f5f\"},\"type\":\"carpet\"}],\"choropleth\":[{\"colorbar\":{\"outlinewidth\":0,\"ticks\":\"\"},\"type\":\"choropleth\"}],\"contour\":[{\"colorbar\":{\"outlinewidth\":0,\"ticks\":\"\"},\"colorscale\":[[0.0,\"#0d0887\"],[0.1111111111111111,\"#46039f\"],[0.2222222222222222,\"#7201a8\"],[0.3333333333333333,\"#9c179e\"],[0.4444444444444444,\"#bd3786\"],[0.5555555555555556,\"#d8576b\"],[0.6666666666666666,\"#ed7953\"],[0.7777777777777778,\"#fb9f3a\"],[0.8888888888888888,\"#fdca26\"],[1.0,\"#f0f921\"]],\"type\":\"contour\"}],\"contourcarpet\":[{\"colorbar\":{\"outlinewidth\":0,\"ticks\":\"\"},\"type\":\"contourcarpet\"}],\"heatmap\":[{\"colorbar\":{\"outlinewidth\":0,\"ticks\":\"\"},\"colorscale\":[[0.0,\"#0d0887\"],[0.1111111111111111,\"#46039f\"],[0.2222222222222222,\"#7201a8\"],[0.3333333333333333,\"#9c179e\"],[0.4444444444444444,\"#bd3786\"],[0.5555555555555556,\"#d8576b\"],[0.6666666666666666,\"#ed7953\"],[0.7777777777777778,\"#fb9f3a\"],[0.8888888888888888,\"#fdca26\"],[1.0,\"#f0f921\"]],\"type\":\"heatmap\"}],\"heatmapgl\":[{\"colorbar\":{\"outlinewidth\":0,\"ticks\":\"\"},\"colorscale\":[[0.0,\"#0d0887\"],[0.1111111111111111,\"#46039f\"],[0.2222222222222222,\"#7201a8\"],[0.3333333333333333,\"#9c179e\"],[0.4444444444444444,\"#bd3786\"],[0.5555555555555556,\"#d8576b\"],[0.6666666666666666,\"#ed7953\"],[0.7777777777777778,\"#fb9f3a\"],[0.8888888888888888,\"#fdca26\"],[1.0,\"#f0f921\"]],\"type\":\"heatmapgl\"}],\"histogram\":[{\"marker\":{\"pattern\":{\"fillmode\":\"overlay\",\"size\":10,\"solidity\":0.2}},\"type\":\"histogram\"}],\"histogram2d\":[{\"colorbar\":{\"outlinewidth\":0,\"ticks\":\"\"},\"colorscale\":[[0.0,\"#0d0887\"],[0.1111111111111111,\"#46039f\"],[0.2222222222222222,\"#7201a8\"],[0.3333333333333333,\"#9c179e\"],[0.4444444444444444,\"#bd3786\"],[0.5555555555555556,\"#d8576b\"],[0.6666666666666666,\"#ed7953\"],[0.7777777777777778,\"#fb9f3a\"],[0.8888888888888888,\"#fdca26\"],[1.0,\"#f0f921\"]],\"type\":\"histogram2d\"}],\"histogram2dcontour\":[{\"colorbar\":{\"outlinewidth\":0,\"ticks\":\"\"},\"colorscale\":[[0.0,\"#0d0887\"],[0.1111111111111111,\"#46039f\"],[0.2222222222222222,\"#7201a8\"],[0.3333333333333333,\"#9c179e\"],[0.4444444444444444,\"#bd3786\"],[0.5555555555555556,\"#d8576b\"],[0.6666666666666666,\"#ed7953\"],[0.7777777777777778,\"#fb9f3a\"],[0.8888888888888888,\"#fdca26\"],[1.0,\"#f0f921\"]],\"type\":\"histogram2dcontour\"}],\"mesh3d\":[{\"colorbar\":{\"outlinewidth\":0,\"ticks\":\"\"},\"type\":\"mesh3d\"}],\"parcoords\":[{\"line\":{\"colorbar\":{\"outlinewidth\":0,\"ticks\":\"\"}},\"type\":\"parcoords\"}],\"pie\":[{\"automargin\":true,\"type\":\"pie\"}],\"scatter\":[{\"marker\":{\"colorbar\":{\"outlinewidth\":0,\"ticks\":\"\"}},\"type\":\"scatter\"}],\"scatter3d\":[{\"line\":{\"colorbar\":{\"outlinewidth\":0,\"ticks\":\"\"}},\"marker\":{\"colorbar\":{\"outlinewidth\":0,\"ticks\":\"\"}},\"type\":\"scatter3d\"}],\"scattercarpet\":[{\"marker\":{\"colorbar\":{\"outlinewidth\":0,\"ticks\":\"\"}},\"type\":\"scattercarpet\"}],\"scattergeo\":[{\"marker\":{\"colorbar\":{\"outlinewidth\":0,\"ticks\":\"\"}},\"type\":\"scattergeo\"}],\"scattergl\":[{\"marker\":{\"colorbar\":{\"outlinewidth\":0,\"ticks\":\"\"}},\"type\":\"scattergl\"}],\"scattermapbox\":[{\"marker\":{\"colorbar\":{\"outlinewidth\":0,\"ticks\":\"\"}},\"type\":\"scattermapbox\"}],\"scatterpolar\":[{\"marker\":{\"colorbar\":{\"outlinewidth\":0,\"ticks\":\"\"}},\"type\":\"scatterpolar\"}],\"scatterpolargl\":[{\"marker\":{\"colorbar\":{\"outlinewidth\":0,\"ticks\":\"\"}},\"type\":\"scatterpolargl\"}],\"scatterternary\":[{\"marker\":{\"colorbar\":{\"outlinewidth\":0,\"ticks\":\"\"}},\"type\":\"scatterternary\"}],\"surface\":[{\"colorbar\":{\"outlinewidth\":0,\"ticks\":\"\"},\"colorscale\":[[0.0,\"#0d0887\"],[0.1111111111111111,\"#46039f\"],[0.2222222222222222,\"#7201a8\"],[0.3333333333333333,\"#9c179e\"],[0.4444444444444444,\"#bd3786\"],[0.5555555555555556,\"#d8576b\"],[0.6666666666666666,\"#ed7953\"],[0.7777777777777778,\"#fb9f3a\"],[0.8888888888888888,\"#fdca26\"],[1.0,\"#f0f921\"]],\"type\":\"surface\"}],\"table\":[{\"cells\":{\"fill\":{\"color\":\"#EBF0F8\"},\"line\":{\"color\":\"white\"}},\"header\":{\"fill\":{\"color\":\"#C8D4E3\"},\"line\":{\"color\":\"white\"}},\"type\":\"table\"}]},\"layout\":{\"annotationdefaults\":{\"arrowcolor\":\"#2a3f5f\",\"arrowhead\":0,\"arrowwidth\":1},\"autotypenumbers\":\"strict\",\"coloraxis\":{\"colorbar\":{\"outlinewidth\":0,\"ticks\":\"\"}},\"colorscale\":{\"diverging\":[[0,\"#8e0152\"],[0.1,\"#c51b7d\"],[0.2,\"#de77ae\"],[0.3,\"#f1b6da\"],[0.4,\"#fde0ef\"],[0.5,\"#f7f7f7\"],[0.6,\"#e6f5d0\"],[0.7,\"#b8e186\"],[0.8,\"#7fbc41\"],[0.9,\"#4d9221\"],[1,\"#276419\"]],\"sequential\":[[0.0,\"#0d0887\"],[0.1111111111111111,\"#46039f\"],[0.2222222222222222,\"#7201a8\"],[0.3333333333333333,\"#9c179e\"],[0.4444444444444444,\"#bd3786\"],[0.5555555555555556,\"#d8576b\"],[0.6666666666666666,\"#ed7953\"],[0.7777777777777778,\"#fb9f3a\"],[0.8888888888888888,\"#fdca26\"],[1.0,\"#f0f921\"]],\"sequentialminus\":[[0.0,\"#0d0887\"],[0.1111111111111111,\"#46039f\"],[0.2222222222222222,\"#7201a8\"],[0.3333333333333333,\"#9c179e\"],[0.4444444444444444,\"#bd3786\"],[0.5555555555555556,\"#d8576b\"],[0.6666666666666666,\"#ed7953\"],[0.7777777777777778,\"#fb9f3a\"],[0.8888888888888888,\"#fdca26\"],[1.0,\"#f0f921\"]]},\"colorway\":[\"#636efa\",\"#EF553B\",\"#00cc96\",\"#ab63fa\",\"#FFA15A\",\"#19d3f3\",\"#FF6692\",\"#B6E880\",\"#FF97FF\",\"#FECB52\"],\"font\":{\"color\":\"#2a3f5f\"},\"geo\":{\"bgcolor\":\"white\",\"lakecolor\":\"white\",\"landcolor\":\"#E5ECF6\",\"showlakes\":true,\"showland\":true,\"subunitcolor\":\"white\"},\"hoverlabel\":{\"align\":\"left\"},\"hovermode\":\"closest\",\"mapbox\":{\"style\":\"light\"},\"paper_bgcolor\":\"white\",\"plot_bgcolor\":\"#E5ECF6\",\"polar\":{\"angularaxis\":{\"gridcolor\":\"white\",\"linecolor\":\"white\",\"ticks\":\"\"},\"bgcolor\":\"#E5ECF6\",\"radialaxis\":{\"gridcolor\":\"white\",\"linecolor\":\"white\",\"ticks\":\"\"}},\"scene\":{\"xaxis\":{\"backgroundcolor\":\"#E5ECF6\",\"gridcolor\":\"white\",\"gridwidth\":2,\"linecolor\":\"white\",\"showbackground\":true,\"ticks\":\"\",\"zerolinecolor\":\"white\"},\"yaxis\":{\"backgroundcolor\":\"#E5ECF6\",\"gridcolor\":\"white\",\"gridwidth\":2,\"linecolor\":\"white\",\"showbackground\":true,\"ticks\":\"\",\"zerolinecolor\":\"white\"},\"zaxis\":{\"backgroundcolor\":\"#E5ECF6\",\"gridcolor\":\"white\",\"gridwidth\":2,\"linecolor\":\"white\",\"showbackground\":true,\"ticks\":\"\",\"zerolinecolor\":\"white\"}},\"shapedefaults\":{\"line\":{\"color\":\"#2a3f5f\"}},\"ternary\":{\"aaxis\":{\"gridcolor\":\"white\",\"linecolor\":\"white\",\"ticks\":\"\"},\"baxis\":{\"gridcolor\":\"white\",\"linecolor\":\"white\",\"ticks\":\"\"},\"bgcolor\":\"#E5ECF6\",\"caxis\":{\"gridcolor\":\"white\",\"linecolor\":\"white\",\"ticks\":\"\"}},\"title\":{\"x\":0.05},\"xaxis\":{\"automargin\":true,\"gridcolor\":\"white\",\"linecolor\":\"white\",\"ticks\":\"\",\"title\":{\"standoff\":15},\"zerolinecolor\":\"white\",\"zerolinewidth\":2},\"yaxis\":{\"automargin\":true,\"gridcolor\":\"white\",\"linecolor\":\"white\",\"ticks\":\"\",\"title\":{\"standoff\":15},\"zerolinecolor\":\"white\",\"zerolinewidth\":2}}},\"title\":{\"text\":\"Empirical Distribution Function Plot\"},\"xaxis\":{\"title\":{\"text\":\"Objective Value\"}},\"yaxis\":{\"range\":[0,1],\"title\":{\"text\":\"Cumulative Probability\"}}},                        {\"responsive\": true}                    ).then(function(){\n",
       "                            \n",
       "var gd = document.getElementById('7f8238f9-b0e0-486b-955c-e37ce5e05c5f');\n",
       "var x = new MutationObserver(function (mutations, observer) {{\n",
       "        var display = window.getComputedStyle(gd).display;\n",
       "        if (!display || display === 'none') {{\n",
       "            console.log([gd, 'removed!']);\n",
       "            Plotly.purge(gd);\n",
       "            observer.disconnect();\n",
       "        }}\n",
       "}});\n",
       "\n",
       "// Listen for the removal of the full notebook cells\n",
       "var notebookContainer = gd.closest('#notebook-container');\n",
       "if (notebookContainer) {{\n",
       "    x.observe(notebookContainer, {childList: true});\n",
       "}}\n",
       "\n",
       "// Listen for the clearing of the current output cell\n",
       "var outputEl = gd.closest('.output');\n",
       "if (outputEl) {{\n",
       "    x.observe(outputEl, {childList: true});\n",
       "}}\n",
       "\n",
       "                        })                };                });            </script>        </div>"
      ]
     },
     "metadata": {},
     "output_type": "display_data"
    }
   ],
   "source": [
    "ov.plot_edf(hptune)"
   ]
  },
  {
   "cell_type": "code",
   "execution_count": null,
   "id": "827f630b",
   "metadata": {},
   "outputs": [],
   "source": []
  },
  {
   "cell_type": "code",
   "execution_count": 64,
   "id": "6f73799c",
   "metadata": {},
   "outputs": [
    {
     "data": {
      "text/plain": [
       "1"
      ]
     },
     "execution_count": 64,
     "metadata": {},
     "output_type": "execute_result"
    }
   ],
   "source": [
    "best_trials = hptune.best_trials.copy()\n",
    "len(best_trials)"
   ]
  },
  {
   "cell_type": "code",
   "execution_count": 71,
   "id": "ba5a8cd8",
   "metadata": {},
   "outputs": [
    {
     "data": {
      "text/html": [
       "<div>\n",
       "<style scoped>\n",
       "    .dataframe tbody tr th:only-of-type {\n",
       "        vertical-align: middle;\n",
       "    }\n",
       "\n",
       "    .dataframe tbody tr th {\n",
       "        vertical-align: top;\n",
       "    }\n",
       "\n",
       "    .dataframe thead th {\n",
       "        text-align: right;\n",
       "    }\n",
       "</style>\n",
       "<table border=\"1\" class=\"dataframe\">\n",
       "  <thead>\n",
       "    <tr style=\"text-align: right;\">\n",
       "      <th></th>\n",
       "      <th>number</th>\n",
       "      <th>value</th>\n",
       "      <th>datetime_start</th>\n",
       "      <th>datetime_complete</th>\n",
       "      <th>duration</th>\n",
       "      <th>params_bagging_fraction</th>\n",
       "      <th>params_feature_fraction</th>\n",
       "      <th>params_lambda_l1</th>\n",
       "      <th>params_lambda_l2</th>\n",
       "      <th>params_learning_rate</th>\n",
       "      <th>params_max_depth</th>\n",
       "      <th>params_min_data_in_leaf</th>\n",
       "      <th>params_n_estimators</th>\n",
       "      <th>params_num_leaves</th>\n",
       "      <th>state</th>\n",
       "    </tr>\n",
       "  </thead>\n",
       "  <tbody>\n",
       "    <tr>\n",
       "      <th>0</th>\n",
       "      <td>0</td>\n",
       "      <td>0.729005</td>\n",
       "      <td>2021-11-10 17:58:37.463925</td>\n",
       "      <td>2021-11-10 18:01:18.689060</td>\n",
       "      <td>0 days 00:02:41.225135</td>\n",
       "      <td>0.505359</td>\n",
       "      <td>0.497059</td>\n",
       "      <td>36.205954</td>\n",
       "      <td>18.369821</td>\n",
       "      <td>0.006126</td>\n",
       "      <td>5</td>\n",
       "      <td>700</td>\n",
       "      <td>1800</td>\n",
       "      <td>20</td>\n",
       "      <td>COMPLETE</td>\n",
       "    </tr>\n",
       "    <tr>\n",
       "      <th>1</th>\n",
       "      <td>1</td>\n",
       "      <td>0.730101</td>\n",
       "      <td>2021-11-10 18:01:18.693064</td>\n",
       "      <td>2021-11-10 18:04:52.925030</td>\n",
       "      <td>0 days 00:03:34.231966</td>\n",
       "      <td>0.503920</td>\n",
       "      <td>0.692671</td>\n",
       "      <td>25.356939</td>\n",
       "      <td>25.148877</td>\n",
       "      <td>0.007848</td>\n",
       "      <td>6</td>\n",
       "      <td>900</td>\n",
       "      <td>2400</td>\n",
       "      <td>20</td>\n",
       "      <td>COMPLETE</td>\n",
       "    </tr>\n",
       "    <tr>\n",
       "      <th>2</th>\n",
       "      <td>2</td>\n",
       "      <td>0.729805</td>\n",
       "      <td>2021-11-10 18:04:52.930220</td>\n",
       "      <td>2021-11-10 18:07:50.506953</td>\n",
       "      <td>0 days 00:02:57.576733</td>\n",
       "      <td>0.757969</td>\n",
       "      <td>0.982293</td>\n",
       "      <td>26.341561</td>\n",
       "      <td>11.295934</td>\n",
       "      <td>0.006887</td>\n",
       "      <td>8</td>\n",
       "      <td>300</td>\n",
       "      <td>1900</td>\n",
       "      <td>20</td>\n",
       "      <td>COMPLETE</td>\n",
       "    </tr>\n",
       "    <tr>\n",
       "      <th>3</th>\n",
       "      <td>3</td>\n",
       "      <td>0.729617</td>\n",
       "      <td>2021-11-10 18:07:50.511838</td>\n",
       "      <td>2021-11-10 18:10:47.157237</td>\n",
       "      <td>0 days 00:02:56.645399</td>\n",
       "      <td>0.758240</td>\n",
       "      <td>0.491833</td>\n",
       "      <td>30.371464</td>\n",
       "      <td>43.622580</td>\n",
       "      <td>0.008576</td>\n",
       "      <td>5</td>\n",
       "      <td>100</td>\n",
       "      <td>2000</td>\n",
       "      <td>45</td>\n",
       "      <td>COMPLETE</td>\n",
       "    </tr>\n",
       "    <tr>\n",
       "      <th>4</th>\n",
       "      <td>4</td>\n",
       "      <td>0.729838</td>\n",
       "      <td>2021-11-10 18:10:47.162484</td>\n",
       "      <td>2021-11-10 18:14:39.836136</td>\n",
       "      <td>0 days 00:03:52.673652</td>\n",
       "      <td>0.661397</td>\n",
       "      <td>0.415876</td>\n",
       "      <td>13.231536</td>\n",
       "      <td>48.247392</td>\n",
       "      <td>0.009576</td>\n",
       "      <td>6</td>\n",
       "      <td>700</td>\n",
       "      <td>2900</td>\n",
       "      <td>25</td>\n",
       "      <td>COMPLETE</td>\n",
       "    </tr>\n",
       "    <tr>\n",
       "      <th>5</th>\n",
       "      <td>5</td>\n",
       "      <td>0.714064</td>\n",
       "      <td>2021-11-10 18:14:39.841091</td>\n",
       "      <td>2021-11-10 18:15:13.100088</td>\n",
       "      <td>0 days 00:00:33.258997</td>\n",
       "      <td>0.615069</td>\n",
       "      <td>0.880626</td>\n",
       "      <td>43.666859</td>\n",
       "      <td>6.773700</td>\n",
       "      <td>0.006432</td>\n",
       "      <td>3</td>\n",
       "      <td>900</td>\n",
       "      <td>400</td>\n",
       "      <td>20</td>\n",
       "      <td>COMPLETE</td>\n",
       "    </tr>\n",
       "    <tr>\n",
       "      <th>6</th>\n",
       "      <td>6</td>\n",
       "      <td>0.714471</td>\n",
       "      <td>2021-11-10 18:15:13.105550</td>\n",
       "      <td>2021-11-10 18:15:40.398658</td>\n",
       "      <td>0 days 00:00:27.293108</td>\n",
       "      <td>0.980376</td>\n",
       "      <td>0.410853</td>\n",
       "      <td>7.962743</td>\n",
       "      <td>21.506605</td>\n",
       "      <td>0.006487</td>\n",
       "      <td>8</td>\n",
       "      <td>100</td>\n",
       "      <td>300</td>\n",
       "      <td>20</td>\n",
       "      <td>COMPLETE</td>\n",
       "    </tr>\n",
       "    <tr>\n",
       "      <th>7</th>\n",
       "      <td>7</td>\n",
       "      <td>0.728406</td>\n",
       "      <td>2021-11-10 18:15:40.403984</td>\n",
       "      <td>2021-11-10 18:17:31.907657</td>\n",
       "      <td>0 days 00:01:51.503673</td>\n",
       "      <td>0.590048</td>\n",
       "      <td>0.846456</td>\n",
       "      <td>18.598387</td>\n",
       "      <td>4.193027</td>\n",
       "      <td>0.006715</td>\n",
       "      <td>5</td>\n",
       "      <td>500</td>\n",
       "      <td>1200</td>\n",
       "      <td>35</td>\n",
       "      <td>COMPLETE</td>\n",
       "    </tr>\n",
       "    <tr>\n",
       "      <th>8</th>\n",
       "      <td>8</td>\n",
       "      <td>0.729969</td>\n",
       "      <td>2021-11-10 18:17:31.912590</td>\n",
       "      <td>2021-11-10 18:20:35.392601</td>\n",
       "      <td>0 days 00:03:03.480011</td>\n",
       "      <td>0.634888</td>\n",
       "      <td>0.797116</td>\n",
       "      <td>17.853012</td>\n",
       "      <td>33.039479</td>\n",
       "      <td>0.008391</td>\n",
       "      <td>5</td>\n",
       "      <td>100</td>\n",
       "      <td>2200</td>\n",
       "      <td>30</td>\n",
       "      <td>COMPLETE</td>\n",
       "    </tr>\n",
       "    <tr>\n",
       "      <th>9</th>\n",
       "      <td>9</td>\n",
       "      <td>0.728601</td>\n",
       "      <td>2021-11-10 18:20:35.397732</td>\n",
       "      <td>2021-11-10 18:22:20.505136</td>\n",
       "      <td>0 days 00:01:45.107404</td>\n",
       "      <td>0.711114</td>\n",
       "      <td>0.587999</td>\n",
       "      <td>29.697714</td>\n",
       "      <td>18.221530</td>\n",
       "      <td>0.008222</td>\n",
       "      <td>4</td>\n",
       "      <td>100</td>\n",
       "      <td>1400</td>\n",
       "      <td>45</td>\n",
       "      <td>COMPLETE</td>\n",
       "    </tr>\n",
       "    <tr>\n",
       "      <th>10</th>\n",
       "      <td>10</td>\n",
       "      <td>0.730200</td>\n",
       "      <td>2021-11-10 18:22:20.510195</td>\n",
       "      <td>2021-11-10 18:26:48.641602</td>\n",
       "      <td>0 days 00:04:28.131407</td>\n",
       "      <td>0.421616</td>\n",
       "      <td>0.696017</td>\n",
       "      <td>0.203468</td>\n",
       "      <td>31.159647</td>\n",
       "      <td>0.005387</td>\n",
       "      <td>7</td>\n",
       "      <td>900</td>\n",
       "      <td>3000</td>\n",
       "      <td>50</td>\n",
       "      <td>COMPLETE</td>\n",
       "    </tr>\n",
       "    <tr>\n",
       "      <th>11</th>\n",
       "      <td>11</td>\n",
       "      <td>0.730150</td>\n",
       "      <td>2021-11-10 18:26:48.647760</td>\n",
       "      <td>2021-11-10 18:31:13.725046</td>\n",
       "      <td>0 days 00:04:25.077286</td>\n",
       "      <td>0.404884</td>\n",
       "      <td>0.682472</td>\n",
       "      <td>0.305054</td>\n",
       "      <td>32.414611</td>\n",
       "      <td>0.005196</td>\n",
       "      <td>7</td>\n",
       "      <td>900</td>\n",
       "      <td>3000</td>\n",
       "      <td>50</td>\n",
       "      <td>COMPLETE</td>\n",
       "    </tr>\n",
       "    <tr>\n",
       "      <th>12</th>\n",
       "      <td>12</td>\n",
       "      <td>0.730119</td>\n",
       "      <td>2021-11-10 18:31:13.731178</td>\n",
       "      <td>2021-11-10 18:35:47.963935</td>\n",
       "      <td>0 days 00:04:34.232757</td>\n",
       "      <td>0.408312</td>\n",
       "      <td>0.684296</td>\n",
       "      <td>1.464152</td>\n",
       "      <td>33.987237</td>\n",
       "      <td>0.005018</td>\n",
       "      <td>7</td>\n",
       "      <td>700</td>\n",
       "      <td>3000</td>\n",
       "      <td>50</td>\n",
       "      <td>COMPLETE</td>\n",
       "    </tr>\n",
       "    <tr>\n",
       "      <th>13</th>\n",
       "      <td>13</td>\n",
       "      <td>0.729884</td>\n",
       "      <td>2021-11-10 18:35:47.970467</td>\n",
       "      <td>2021-11-10 18:40:05.007296</td>\n",
       "      <td>0 days 00:04:17.036829</td>\n",
       "      <td>0.424021</td>\n",
       "      <td>0.610752</td>\n",
       "      <td>1.440600</td>\n",
       "      <td>34.667626</td>\n",
       "      <td>0.005064</td>\n",
       "      <td>7</td>\n",
       "      <td>900</td>\n",
       "      <td>2600</td>\n",
       "      <td>50</td>\n",
       "      <td>COMPLETE</td>\n",
       "    </tr>\n",
       "    <tr>\n",
       "      <th>14</th>\n",
       "      <td>14</td>\n",
       "      <td>0.730136</td>\n",
       "      <td>2021-11-10 18:40:05.013493</td>\n",
       "      <td>2021-11-10 18:44:23.021585</td>\n",
       "      <td>0 days 00:04:18.008092</td>\n",
       "      <td>0.499775</td>\n",
       "      <td>0.752643</td>\n",
       "      <td>8.363532</td>\n",
       "      <td>28.995923</td>\n",
       "      <td>0.005647</td>\n",
       "      <td>7</td>\n",
       "      <td>500</td>\n",
       "      <td>2600</td>\n",
       "      <td>40</td>\n",
       "      <td>COMPLETE</td>\n",
       "    </tr>\n",
       "    <tr>\n",
       "      <th>15</th>\n",
       "      <td>15</td>\n",
       "      <td>0.730085</td>\n",
       "      <td>2021-11-10 18:44:23.027892</td>\n",
       "      <td>2021-11-10 18:49:16.571490</td>\n",
       "      <td>0 days 00:04:53.543598</td>\n",
       "      <td>0.883240</td>\n",
       "      <td>0.620462</td>\n",
       "      <td>7.234503</td>\n",
       "      <td>41.133825</td>\n",
       "      <td>0.005567</td>\n",
       "      <td>7</td>\n",
       "      <td>900</td>\n",
       "      <td>3000</td>\n",
       "      <td>45</td>\n",
       "      <td>COMPLETE</td>\n",
       "    </tr>\n",
       "    <tr>\n",
       "      <th>16</th>\n",
       "      <td>16</td>\n",
       "      <td>0.727925</td>\n",
       "      <td>2021-11-10 18:49:16.578146</td>\n",
       "      <td>2021-11-10 18:50:49.379855</td>\n",
       "      <td>0 days 00:01:32.801709</td>\n",
       "      <td>0.546299</td>\n",
       "      <td>0.744012</td>\n",
       "      <td>2.001733</td>\n",
       "      <td>36.919188</td>\n",
       "      <td>0.007257</td>\n",
       "      <td>8</td>\n",
       "      <td>700</td>\n",
       "      <td>900</td>\n",
       "      <td>40</td>\n",
       "      <td>COMPLETE</td>\n",
       "    </tr>\n",
       "    <tr>\n",
       "      <th>17</th>\n",
       "      <td>17</td>\n",
       "      <td>0.729768</td>\n",
       "      <td>2021-11-10 18:50:49.386008</td>\n",
       "      <td>2021-11-10 18:55:26.617245</td>\n",
       "      <td>0 days 00:04:37.231237</td>\n",
       "      <td>0.441340</td>\n",
       "      <td>0.653163</td>\n",
       "      <td>49.348751</td>\n",
       "      <td>25.320770</td>\n",
       "      <td>0.005781</td>\n",
       "      <td>6</td>\n",
       "      <td>900</td>\n",
       "      <td>2600</td>\n",
       "      <td>50</td>\n",
       "      <td>COMPLETE</td>\n",
       "    </tr>\n",
       "    <tr>\n",
       "      <th>18</th>\n",
       "      <td>18</td>\n",
       "      <td>0.730080</td>\n",
       "      <td>2021-11-10 18:55:26.623265</td>\n",
       "      <td>2021-11-10 18:58:58.236510</td>\n",
       "      <td>0 days 00:03:31.613245</td>\n",
       "      <td>0.401963</td>\n",
       "      <td>0.526872</td>\n",
       "      <td>15.540129</td>\n",
       "      <td>42.094248</td>\n",
       "      <td>0.009971</td>\n",
       "      <td>7</td>\n",
       "      <td>300</td>\n",
       "      <td>2300</td>\n",
       "      <td>40</td>\n",
       "      <td>COMPLETE</td>\n",
       "    </tr>\n",
       "    <tr>\n",
       "      <th>19</th>\n",
       "      <td>19</td>\n",
       "      <td>0.730164</td>\n",
       "      <td>2021-11-10 18:58:58.242702</td>\n",
       "      <td>2021-11-10 19:03:23.368223</td>\n",
       "      <td>0 days 00:04:25.125521</td>\n",
       "      <td>0.476019</td>\n",
       "      <td>0.907321</td>\n",
       "      <td>12.714654</td>\n",
       "      <td>28.356672</td>\n",
       "      <td>0.005354</td>\n",
       "      <td>8</td>\n",
       "      <td>500</td>\n",
       "      <td>2700</td>\n",
       "      <td>35</td>\n",
       "      <td>COMPLETE</td>\n",
       "    </tr>\n",
       "    <tr>\n",
       "      <th>20</th>\n",
       "      <td>20</td>\n",
       "      <td>0.729468</td>\n",
       "      <td>2021-11-10 19:03:23.374743</td>\n",
       "      <td>2021-11-10 19:06:02.491250</td>\n",
       "      <td>0 days 00:02:39.116507</td>\n",
       "      <td>0.570302</td>\n",
       "      <td>0.968578</td>\n",
       "      <td>10.277175</td>\n",
       "      <td>13.193256</td>\n",
       "      <td>0.006093</td>\n",
       "      <td>8</td>\n",
       "      <td>500</td>\n",
       "      <td>1600</td>\n",
       "      <td>30</td>\n",
       "      <td>COMPLETE</td>\n",
       "    </tr>\n",
       "    <tr>\n",
       "      <th>21</th>\n",
       "      <td>21</td>\n",
       "      <td>0.730239</td>\n",
       "      <td>2021-11-10 19:06:02.497860</td>\n",
       "      <td>2021-11-10 19:10:33.412022</td>\n",
       "      <td>0 days 00:04:30.914162</td>\n",
       "      <td>0.476982</td>\n",
       "      <td>0.895460</td>\n",
       "      <td>5.441500</td>\n",
       "      <td>28.200686</td>\n",
       "      <td>0.005325</td>\n",
       "      <td>8</td>\n",
       "      <td>500</td>\n",
       "      <td>2800</td>\n",
       "      <td>35</td>\n",
       "      <td>COMPLETE</td>\n",
       "    </tr>\n",
       "    <tr>\n",
       "      <th>22</th>\n",
       "      <td>22</td>\n",
       "      <td>0.730235</td>\n",
       "      <td>2021-11-10 19:10:33.418362</td>\n",
       "      <td>2021-11-10 19:15:04.539133</td>\n",
       "      <td>0 days 00:04:31.120771</td>\n",
       "      <td>0.468966</td>\n",
       "      <td>0.918752</td>\n",
       "      <td>5.712569</td>\n",
       "      <td>28.408831</td>\n",
       "      <td>0.005500</td>\n",
       "      <td>8</td>\n",
       "      <td>300</td>\n",
       "      <td>2700</td>\n",
       "      <td>35</td>\n",
       "      <td>COMPLETE</td>\n",
       "    </tr>\n",
       "    <tr>\n",
       "      <th>23</th>\n",
       "      <td>23</td>\n",
       "      <td>0.730343</td>\n",
       "      <td>2021-11-10 19:15:04.544817</td>\n",
       "      <td>2021-11-10 19:19:35.855239</td>\n",
       "      <td>0 days 00:04:31.310422</td>\n",
       "      <td>0.459340</td>\n",
       "      <td>0.929928</td>\n",
       "      <td>4.267288</td>\n",
       "      <td>28.415342</td>\n",
       "      <td>0.005980</td>\n",
       "      <td>8</td>\n",
       "      <td>300</td>\n",
       "      <td>2800</td>\n",
       "      <td>35</td>\n",
       "      <td>COMPLETE</td>\n",
       "    </tr>\n",
       "    <tr>\n",
       "      <th>24</th>\n",
       "      <td>24</td>\n",
       "      <td>0.730084</td>\n",
       "      <td>2021-11-10 19:19:35.861462</td>\n",
       "      <td>2021-11-10 19:23:13.138770</td>\n",
       "      <td>0 days 00:03:37.277308</td>\n",
       "      <td>0.541758</td>\n",
       "      <td>0.924964</td>\n",
       "      <td>5.617176</td>\n",
       "      <td>21.756506</td>\n",
       "      <td>0.006014</td>\n",
       "      <td>8</td>\n",
       "      <td>300</td>\n",
       "      <td>2200</td>\n",
       "      <td>35</td>\n",
       "      <td>COMPLETE</td>\n",
       "    </tr>\n",
       "    <tr>\n",
       "      <th>25</th>\n",
       "      <td>25</td>\n",
       "      <td>0.730247</td>\n",
       "      <td>2021-11-10 19:23:13.144740</td>\n",
       "      <td>2021-11-10 19:27:37.510430</td>\n",
       "      <td>0 days 00:04:24.365690</td>\n",
       "      <td>0.467612</td>\n",
       "      <td>0.839016</td>\n",
       "      <td>21.334963</td>\n",
       "      <td>38.656856</td>\n",
       "      <td>0.007298</td>\n",
       "      <td>8</td>\n",
       "      <td>300</td>\n",
       "      <td>2800</td>\n",
       "      <td>30</td>\n",
       "      <td>COMPLETE</td>\n",
       "    </tr>\n",
       "    <tr>\n",
       "      <th>26</th>\n",
       "      <td>26</td>\n",
       "      <td>0.730193</td>\n",
       "      <td>2021-11-10 19:27:37.516082</td>\n",
       "      <td>2021-11-10 19:31:27.114720</td>\n",
       "      <td>0 days 00:03:49.598638</td>\n",
       "      <td>0.847725</td>\n",
       "      <td>0.822838</td>\n",
       "      <td>21.045322</td>\n",
       "      <td>37.895715</td>\n",
       "      <td>0.007278</td>\n",
       "      <td>8</td>\n",
       "      <td>300</td>\n",
       "      <td>2400</td>\n",
       "      <td>30</td>\n",
       "      <td>COMPLETE</td>\n",
       "    </tr>\n",
       "    <tr>\n",
       "      <th>27</th>\n",
       "      <td>27</td>\n",
       "      <td>0.728829</td>\n",
       "      <td>2021-11-10 19:31:27.120914</td>\n",
       "      <td>2021-11-10 19:35:09.807156</td>\n",
       "      <td>0 days 00:03:42.686242</td>\n",
       "      <td>0.553454</td>\n",
       "      <td>0.866350</td>\n",
       "      <td>36.397959</td>\n",
       "      <td>48.148392</td>\n",
       "      <td>0.009003</td>\n",
       "      <td>3</td>\n",
       "      <td>300</td>\n",
       "      <td>2800</td>\n",
       "      <td>25</td>\n",
       "      <td>COMPLETE</td>\n",
       "    </tr>\n",
       "    <tr>\n",
       "      <th>28</th>\n",
       "      <td>28</td>\n",
       "      <td>0.729987</td>\n",
       "      <td>2021-11-10 19:35:09.813293</td>\n",
       "      <td>2021-11-10 19:38:27.132955</td>\n",
       "      <td>0 days 00:03:17.319662</td>\n",
       "      <td>0.456003</td>\n",
       "      <td>0.780454</td>\n",
       "      <td>21.317845</td>\n",
       "      <td>38.571655</td>\n",
       "      <td>0.007575</td>\n",
       "      <td>6</td>\n",
       "      <td>500</td>\n",
       "      <td>2100</td>\n",
       "      <td>25</td>\n",
       "      <td>COMPLETE</td>\n",
       "    </tr>\n",
       "    <tr>\n",
       "      <th>29</th>\n",
       "      <td>29</td>\n",
       "      <td>0.728571</td>\n",
       "      <td>2021-11-10 19:38:27.138824</td>\n",
       "      <td>2021-11-10 19:40:55.036898</td>\n",
       "      <td>0 days 00:02:27.898074</td>\n",
       "      <td>0.513829</td>\n",
       "      <td>0.955407</td>\n",
       "      <td>36.311236</td>\n",
       "      <td>16.910851</td>\n",
       "      <td>0.006439</td>\n",
       "      <td>4</td>\n",
       "      <td>300</td>\n",
       "      <td>1700</td>\n",
       "      <td>30</td>\n",
       "      <td>COMPLETE</td>\n",
       "    </tr>\n",
       "    <tr>\n",
       "      <th>30</th>\n",
       "      <td>30</td>\n",
       "      <td>0.730269</td>\n",
       "      <td>2021-11-10 19:40:55.043050</td>\n",
       "      <td>2021-11-10 19:44:57.561762</td>\n",
       "      <td>0 days 00:04:02.518712</td>\n",
       "      <td>0.656386</td>\n",
       "      <td>0.845438</td>\n",
       "      <td>12.530758</td>\n",
       "      <td>22.324039</td>\n",
       "      <td>0.006956</td>\n",
       "      <td>8</td>\n",
       "      <td>500</td>\n",
       "      <td>2500</td>\n",
       "      <td>35</td>\n",
       "      <td>COMPLETE</td>\n",
       "    </tr>\n",
       "    <tr>\n",
       "      <th>31</th>\n",
       "      <td>31</td>\n",
       "      <td>0.730313</td>\n",
       "      <td>2021-11-10 19:44:57.567463</td>\n",
       "      <td>2021-11-10 19:49:00.020338</td>\n",
       "      <td>0 days 00:04:02.452875</td>\n",
       "      <td>0.673683</td>\n",
       "      <td>0.844570</td>\n",
       "      <td>12.318136</td>\n",
       "      <td>21.165182</td>\n",
       "      <td>0.006914</td>\n",
       "      <td>8</td>\n",
       "      <td>500</td>\n",
       "      <td>2500</td>\n",
       "      <td>35</td>\n",
       "      <td>COMPLETE</td>\n",
       "    </tr>\n",
       "    <tr>\n",
       "      <th>32</th>\n",
       "      <td>32</td>\n",
       "      <td>0.730369</td>\n",
       "      <td>2021-11-10 19:49:00.025913</td>\n",
       "      <td>2021-11-10 19:53:00.437046</td>\n",
       "      <td>0 days 00:04:00.411133</td>\n",
       "      <td>0.692715</td>\n",
       "      <td>0.831062</td>\n",
       "      <td>12.028437</td>\n",
       "      <td>21.753051</td>\n",
       "      <td>0.007024</td>\n",
       "      <td>8</td>\n",
       "      <td>500</td>\n",
       "      <td>2500</td>\n",
       "      <td>40</td>\n",
       "      <td>COMPLETE</td>\n",
       "    </tr>\n",
       "    <tr>\n",
       "      <th>33</th>\n",
       "      <td>33</td>\n",
       "      <td>0.730244</td>\n",
       "      <td>2021-11-10 19:53:00.442831</td>\n",
       "      <td>2021-11-10 19:56:48.245630</td>\n",
       "      <td>0 days 00:03:47.802799</td>\n",
       "      <td>0.704081</td>\n",
       "      <td>0.992320</td>\n",
       "      <td>14.153394</td>\n",
       "      <td>21.923475</td>\n",
       "      <td>0.006920</td>\n",
       "      <td>7</td>\n",
       "      <td>500</td>\n",
       "      <td>2400</td>\n",
       "      <td>40</td>\n",
       "      <td>COMPLETE</td>\n",
       "    </tr>\n",
       "    <tr>\n",
       "      <th>34</th>\n",
       "      <td>34</td>\n",
       "      <td>0.730408</td>\n",
       "      <td>2021-11-10 19:56:48.251385</td>\n",
       "      <td>2021-11-10 20:00:31.587833</td>\n",
       "      <td>0 days 00:03:43.336448</td>\n",
       "      <td>0.766513</td>\n",
       "      <td>0.812412</td>\n",
       "      <td>11.197873</td>\n",
       "      <td>13.066000</td>\n",
       "      <td>0.007758</td>\n",
       "      <td>8</td>\n",
       "      <td>700</td>\n",
       "      <td>2500</td>\n",
       "      <td>40</td>\n",
       "      <td>COMPLETE</td>\n",
       "    </tr>\n",
       "    <tr>\n",
       "      <th>35</th>\n",
       "      <td>35</td>\n",
       "      <td>0.730120</td>\n",
       "      <td>2021-11-10 20:00:31.593544</td>\n",
       "      <td>2021-11-10 20:03:29.466732</td>\n",
       "      <td>0 days 00:02:57.873188</td>\n",
       "      <td>0.824843</td>\n",
       "      <td>0.752056</td>\n",
       "      <td>10.338538</td>\n",
       "      <td>13.811075</td>\n",
       "      <td>0.007875</td>\n",
       "      <td>6</td>\n",
       "      <td>700</td>\n",
       "      <td>2000</td>\n",
       "      <td>40</td>\n",
       "      <td>COMPLETE</td>\n",
       "    </tr>\n",
       "    <tr>\n",
       "      <th>36</th>\n",
       "      <td>36</td>\n",
       "      <td>0.730173</td>\n",
       "      <td>2021-11-10 20:03:29.472517</td>\n",
       "      <td>2021-11-10 20:06:23.130690</td>\n",
       "      <td>0 days 00:02:53.658173</td>\n",
       "      <td>0.759835</td>\n",
       "      <td>0.792916</td>\n",
       "      <td>16.355435</td>\n",
       "      <td>10.035710</td>\n",
       "      <td>0.007820</td>\n",
       "      <td>8</td>\n",
       "      <td>700</td>\n",
       "      <td>1900</td>\n",
       "      <td>45</td>\n",
       "      <td>COMPLETE</td>\n",
       "    </tr>\n",
       "    <tr>\n",
       "      <th>37</th>\n",
       "      <td>37</td>\n",
       "      <td>0.730258</td>\n",
       "      <td>2021-11-10 20:06:23.136332</td>\n",
       "      <td>2021-11-10 20:09:43.231332</td>\n",
       "      <td>0 days 00:03:20.095000</td>\n",
       "      <td>0.801867</td>\n",
       "      <td>0.929918</td>\n",
       "      <td>24.808613</td>\n",
       "      <td>16.237441</td>\n",
       "      <td>0.008929</td>\n",
       "      <td>7</td>\n",
       "      <td>700</td>\n",
       "      <td>2300</td>\n",
       "      <td>40</td>\n",
       "      <td>COMPLETE</td>\n",
       "    </tr>\n",
       "    <tr>\n",
       "      <th>38</th>\n",
       "      <td>38</td>\n",
       "      <td>0.730518</td>\n",
       "      <td>2021-11-10 20:09:43.236844</td>\n",
       "      <td>2021-11-10 20:13:37.376544</td>\n",
       "      <td>0 days 00:03:54.139700</td>\n",
       "      <td>0.894100</td>\n",
       "      <td>0.869235</td>\n",
       "      <td>3.882047</td>\n",
       "      <td>8.355557</td>\n",
       "      <td>0.006631</td>\n",
       "      <td>8</td>\n",
       "      <td>700</td>\n",
       "      <td>2500</td>\n",
       "      <td>45</td>\n",
       "      <td>COMPLETE</td>\n",
       "    </tr>\n",
       "    <tr>\n",
       "      <th>39</th>\n",
       "      <td>39</td>\n",
       "      <td>0.724421</td>\n",
       "      <td>2021-11-10 20:13:37.382367</td>\n",
       "      <td>2021-11-10 20:14:35.816158</td>\n",
       "      <td>0 days 00:00:58.433791</td>\n",
       "      <td>0.945242</td>\n",
       "      <td>0.879046</td>\n",
       "      <td>4.138652</td>\n",
       "      <td>2.087616</td>\n",
       "      <td>0.006645</td>\n",
       "      <td>4</td>\n",
       "      <td>700</td>\n",
       "      <td>700</td>\n",
       "      <td>45</td>\n",
       "      <td>COMPLETE</td>\n",
       "    </tr>\n",
       "    <tr>\n",
       "      <th>40</th>\n",
       "      <td>40</td>\n",
       "      <td>0.729855</td>\n",
       "      <td>2021-11-10 20:14:35.822003</td>\n",
       "      <td>2021-11-10 20:17:35.864946</td>\n",
       "      <td>0 days 00:03:00.042943</td>\n",
       "      <td>0.907067</td>\n",
       "      <td>0.948525</td>\n",
       "      <td>10.170257</td>\n",
       "      <td>8.753838</td>\n",
       "      <td>0.006257</td>\n",
       "      <td>6</td>\n",
       "      <td>700</td>\n",
       "      <td>2000</td>\n",
       "      <td>45</td>\n",
       "      <td>COMPLETE</td>\n",
       "    </tr>\n",
       "    <tr>\n",
       "      <th>41</th>\n",
       "      <td>41</td>\n",
       "      <td>0.730470</td>\n",
       "      <td>2021-11-10 20:17:35.870261</td>\n",
       "      <td>2021-11-10 20:21:22.513150</td>\n",
       "      <td>0 days 00:03:46.642889</td>\n",
       "      <td>0.727612</td>\n",
       "      <td>0.874925</td>\n",
       "      <td>4.042910</td>\n",
       "      <td>13.632521</td>\n",
       "      <td>0.007065</td>\n",
       "      <td>8</td>\n",
       "      <td>500</td>\n",
       "      <td>2500</td>\n",
       "      <td>40</td>\n",
       "      <td>COMPLETE</td>\n",
       "    </tr>\n",
       "    <tr>\n",
       "      <th>42</th>\n",
       "      <td>42</td>\n",
       "      <td>0.730475</td>\n",
       "      <td>2021-11-10 20:21:22.518205</td>\n",
       "      <td>2021-11-10 20:24:52.838692</td>\n",
       "      <td>0 days 00:03:30.320487</td>\n",
       "      <td>0.738385</td>\n",
       "      <td>0.802878</td>\n",
       "      <td>3.040551</td>\n",
       "      <td>7.214227</td>\n",
       "      <td>0.007577</td>\n",
       "      <td>8</td>\n",
       "      <td>700</td>\n",
       "      <td>2300</td>\n",
       "      <td>40</td>\n",
       "      <td>COMPLETE</td>\n",
       "    </tr>\n",
       "    <tr>\n",
       "      <th>43</th>\n",
       "      <td>43</td>\n",
       "      <td>0.730388</td>\n",
       "      <td>2021-11-10 20:24:52.844537</td>\n",
       "      <td>2021-11-10 20:28:13.972234</td>\n",
       "      <td>0 days 00:03:21.127697</td>\n",
       "      <td>0.742339</td>\n",
       "      <td>0.810948</td>\n",
       "      <td>7.844447</td>\n",
       "      <td>5.883182</td>\n",
       "      <td>0.007755</td>\n",
       "      <td>8</td>\n",
       "      <td>700</td>\n",
       "      <td>2200</td>\n",
       "      <td>40</td>\n",
       "      <td>COMPLETE</td>\n",
       "    </tr>\n",
       "    <tr>\n",
       "      <th>44</th>\n",
       "      <td>44</td>\n",
       "      <td>0.730362</td>\n",
       "      <td>2021-11-10 20:28:13.977339</td>\n",
       "      <td>2021-11-10 20:31:35.202462</td>\n",
       "      <td>0 days 00:03:21.225123</td>\n",
       "      <td>0.755019</td>\n",
       "      <td>0.723601</td>\n",
       "      <td>3.125984</td>\n",
       "      <td>5.874617</td>\n",
       "      <td>0.008133</td>\n",
       "      <td>7</td>\n",
       "      <td>700</td>\n",
       "      <td>2200</td>\n",
       "      <td>45</td>\n",
       "      <td>COMPLETE</td>\n",
       "    </tr>\n",
       "    <tr>\n",
       "      <th>45</th>\n",
       "      <td>45</td>\n",
       "      <td>0.730383</td>\n",
       "      <td>2021-11-10 20:31:35.208195</td>\n",
       "      <td>2021-11-10 20:35:08.782776</td>\n",
       "      <td>0 days 00:03:33.574581</td>\n",
       "      <td>0.735113</td>\n",
       "      <td>0.797519</td>\n",
       "      <td>7.571499</td>\n",
       "      <td>0.565797</td>\n",
       "      <td>0.007634</td>\n",
       "      <td>8</td>\n",
       "      <td>700</td>\n",
       "      <td>2300</td>\n",
       "      <td>40</td>\n",
       "      <td>COMPLETE</td>\n",
       "    </tr>\n",
       "    <tr>\n",
       "      <th>46</th>\n",
       "      <td>46</td>\n",
       "      <td>0.730176</td>\n",
       "      <td>2021-11-10 20:35:08.788584</td>\n",
       "      <td>2021-11-10 20:37:59.163432</td>\n",
       "      <td>0 days 00:02:50.374848</td>\n",
       "      <td>0.787101</td>\n",
       "      <td>0.809975</td>\n",
       "      <td>0.086166</td>\n",
       "      <td>4.600262</td>\n",
       "      <td>0.007923</td>\n",
       "      <td>7</td>\n",
       "      <td>700</td>\n",
       "      <td>1800</td>\n",
       "      <td>40</td>\n",
       "      <td>COMPLETE</td>\n",
       "    </tr>\n",
       "    <tr>\n",
       "      <th>47</th>\n",
       "      <td>47</td>\n",
       "      <td>0.730444</td>\n",
       "      <td>2021-11-10 20:37:59.169031</td>\n",
       "      <td>2021-11-10 20:41:11.135325</td>\n",
       "      <td>0 days 00:03:11.966294</td>\n",
       "      <td>0.858749</td>\n",
       "      <td>0.869990</td>\n",
       "      <td>8.553514</td>\n",
       "      <td>7.844190</td>\n",
       "      <td>0.008475</td>\n",
       "      <td>8</td>\n",
       "      <td>700</td>\n",
       "      <td>2100</td>\n",
       "      <td>45</td>\n",
       "      <td>COMPLETE</td>\n",
       "    </tr>\n",
       "    <tr>\n",
       "      <th>48</th>\n",
       "      <td>48</td>\n",
       "      <td>0.730342</td>\n",
       "      <td>2021-11-10 20:41:11.140595</td>\n",
       "      <td>2021-11-10 20:44:22.077380</td>\n",
       "      <td>0 days 00:03:10.936785</td>\n",
       "      <td>0.870797</td>\n",
       "      <td>0.873749</td>\n",
       "      <td>8.969925</td>\n",
       "      <td>8.544390</td>\n",
       "      <td>0.008346</td>\n",
       "      <td>7</td>\n",
       "      <td>900</td>\n",
       "      <td>2100</td>\n",
       "      <td>45</td>\n",
       "      <td>COMPLETE</td>\n",
       "    </tr>\n",
       "    <tr>\n",
       "      <th>49</th>\n",
       "      <td>49</td>\n",
       "      <td>NaN</td>\n",
       "      <td>2021-11-10 20:44:22.082927</td>\n",
       "      <td>NaT</td>\n",
       "      <td>NaT</td>\n",
       "      <td>0.789914</td>\n",
       "      <td>0.775250</td>\n",
       "      <td>6.085395</td>\n",
       "      <td>12.254657</td>\n",
       "      <td>0.008660</td>\n",
       "      <td>8</td>\n",
       "      <td>700</td>\n",
       "      <td>2400</td>\n",
       "      <td>45</td>\n",
       "      <td>RUNNING</td>\n",
       "    </tr>\n",
       "  </tbody>\n",
       "</table>\n",
       "</div>"
      ],
      "text/plain": [
       "    number     value             datetime_start          datetime_complete  \\\n",
       "0        0  0.729005 2021-11-10 17:58:37.463925 2021-11-10 18:01:18.689060   \n",
       "1        1  0.730101 2021-11-10 18:01:18.693064 2021-11-10 18:04:52.925030   \n",
       "2        2  0.729805 2021-11-10 18:04:52.930220 2021-11-10 18:07:50.506953   \n",
       "3        3  0.729617 2021-11-10 18:07:50.511838 2021-11-10 18:10:47.157237   \n",
       "4        4  0.729838 2021-11-10 18:10:47.162484 2021-11-10 18:14:39.836136   \n",
       "5        5  0.714064 2021-11-10 18:14:39.841091 2021-11-10 18:15:13.100088   \n",
       "6        6  0.714471 2021-11-10 18:15:13.105550 2021-11-10 18:15:40.398658   \n",
       "7        7  0.728406 2021-11-10 18:15:40.403984 2021-11-10 18:17:31.907657   \n",
       "8        8  0.729969 2021-11-10 18:17:31.912590 2021-11-10 18:20:35.392601   \n",
       "9        9  0.728601 2021-11-10 18:20:35.397732 2021-11-10 18:22:20.505136   \n",
       "10      10  0.730200 2021-11-10 18:22:20.510195 2021-11-10 18:26:48.641602   \n",
       "11      11  0.730150 2021-11-10 18:26:48.647760 2021-11-10 18:31:13.725046   \n",
       "12      12  0.730119 2021-11-10 18:31:13.731178 2021-11-10 18:35:47.963935   \n",
       "13      13  0.729884 2021-11-10 18:35:47.970467 2021-11-10 18:40:05.007296   \n",
       "14      14  0.730136 2021-11-10 18:40:05.013493 2021-11-10 18:44:23.021585   \n",
       "15      15  0.730085 2021-11-10 18:44:23.027892 2021-11-10 18:49:16.571490   \n",
       "16      16  0.727925 2021-11-10 18:49:16.578146 2021-11-10 18:50:49.379855   \n",
       "17      17  0.729768 2021-11-10 18:50:49.386008 2021-11-10 18:55:26.617245   \n",
       "18      18  0.730080 2021-11-10 18:55:26.623265 2021-11-10 18:58:58.236510   \n",
       "19      19  0.730164 2021-11-10 18:58:58.242702 2021-11-10 19:03:23.368223   \n",
       "20      20  0.729468 2021-11-10 19:03:23.374743 2021-11-10 19:06:02.491250   \n",
       "21      21  0.730239 2021-11-10 19:06:02.497860 2021-11-10 19:10:33.412022   \n",
       "22      22  0.730235 2021-11-10 19:10:33.418362 2021-11-10 19:15:04.539133   \n",
       "23      23  0.730343 2021-11-10 19:15:04.544817 2021-11-10 19:19:35.855239   \n",
       "24      24  0.730084 2021-11-10 19:19:35.861462 2021-11-10 19:23:13.138770   \n",
       "25      25  0.730247 2021-11-10 19:23:13.144740 2021-11-10 19:27:37.510430   \n",
       "26      26  0.730193 2021-11-10 19:27:37.516082 2021-11-10 19:31:27.114720   \n",
       "27      27  0.728829 2021-11-10 19:31:27.120914 2021-11-10 19:35:09.807156   \n",
       "28      28  0.729987 2021-11-10 19:35:09.813293 2021-11-10 19:38:27.132955   \n",
       "29      29  0.728571 2021-11-10 19:38:27.138824 2021-11-10 19:40:55.036898   \n",
       "30      30  0.730269 2021-11-10 19:40:55.043050 2021-11-10 19:44:57.561762   \n",
       "31      31  0.730313 2021-11-10 19:44:57.567463 2021-11-10 19:49:00.020338   \n",
       "32      32  0.730369 2021-11-10 19:49:00.025913 2021-11-10 19:53:00.437046   \n",
       "33      33  0.730244 2021-11-10 19:53:00.442831 2021-11-10 19:56:48.245630   \n",
       "34      34  0.730408 2021-11-10 19:56:48.251385 2021-11-10 20:00:31.587833   \n",
       "35      35  0.730120 2021-11-10 20:00:31.593544 2021-11-10 20:03:29.466732   \n",
       "36      36  0.730173 2021-11-10 20:03:29.472517 2021-11-10 20:06:23.130690   \n",
       "37      37  0.730258 2021-11-10 20:06:23.136332 2021-11-10 20:09:43.231332   \n",
       "38      38  0.730518 2021-11-10 20:09:43.236844 2021-11-10 20:13:37.376544   \n",
       "39      39  0.724421 2021-11-10 20:13:37.382367 2021-11-10 20:14:35.816158   \n",
       "40      40  0.729855 2021-11-10 20:14:35.822003 2021-11-10 20:17:35.864946   \n",
       "41      41  0.730470 2021-11-10 20:17:35.870261 2021-11-10 20:21:22.513150   \n",
       "42      42  0.730475 2021-11-10 20:21:22.518205 2021-11-10 20:24:52.838692   \n",
       "43      43  0.730388 2021-11-10 20:24:52.844537 2021-11-10 20:28:13.972234   \n",
       "44      44  0.730362 2021-11-10 20:28:13.977339 2021-11-10 20:31:35.202462   \n",
       "45      45  0.730383 2021-11-10 20:31:35.208195 2021-11-10 20:35:08.782776   \n",
       "46      46  0.730176 2021-11-10 20:35:08.788584 2021-11-10 20:37:59.163432   \n",
       "47      47  0.730444 2021-11-10 20:37:59.169031 2021-11-10 20:41:11.135325   \n",
       "48      48  0.730342 2021-11-10 20:41:11.140595 2021-11-10 20:44:22.077380   \n",
       "49      49       NaN 2021-11-10 20:44:22.082927                        NaT   \n",
       "\n",
       "                 duration  params_bagging_fraction  params_feature_fraction  \\\n",
       "0  0 days 00:02:41.225135                 0.505359                 0.497059   \n",
       "1  0 days 00:03:34.231966                 0.503920                 0.692671   \n",
       "2  0 days 00:02:57.576733                 0.757969                 0.982293   \n",
       "3  0 days 00:02:56.645399                 0.758240                 0.491833   \n",
       "4  0 days 00:03:52.673652                 0.661397                 0.415876   \n",
       "5  0 days 00:00:33.258997                 0.615069                 0.880626   \n",
       "6  0 days 00:00:27.293108                 0.980376                 0.410853   \n",
       "7  0 days 00:01:51.503673                 0.590048                 0.846456   \n",
       "8  0 days 00:03:03.480011                 0.634888                 0.797116   \n",
       "9  0 days 00:01:45.107404                 0.711114                 0.587999   \n",
       "10 0 days 00:04:28.131407                 0.421616                 0.696017   \n",
       "11 0 days 00:04:25.077286                 0.404884                 0.682472   \n",
       "12 0 days 00:04:34.232757                 0.408312                 0.684296   \n",
       "13 0 days 00:04:17.036829                 0.424021                 0.610752   \n",
       "14 0 days 00:04:18.008092                 0.499775                 0.752643   \n",
       "15 0 days 00:04:53.543598                 0.883240                 0.620462   \n",
       "16 0 days 00:01:32.801709                 0.546299                 0.744012   \n",
       "17 0 days 00:04:37.231237                 0.441340                 0.653163   \n",
       "18 0 days 00:03:31.613245                 0.401963                 0.526872   \n",
       "19 0 days 00:04:25.125521                 0.476019                 0.907321   \n",
       "20 0 days 00:02:39.116507                 0.570302                 0.968578   \n",
       "21 0 days 00:04:30.914162                 0.476982                 0.895460   \n",
       "22 0 days 00:04:31.120771                 0.468966                 0.918752   \n",
       "23 0 days 00:04:31.310422                 0.459340                 0.929928   \n",
       "24 0 days 00:03:37.277308                 0.541758                 0.924964   \n",
       "25 0 days 00:04:24.365690                 0.467612                 0.839016   \n",
       "26 0 days 00:03:49.598638                 0.847725                 0.822838   \n",
       "27 0 days 00:03:42.686242                 0.553454                 0.866350   \n",
       "28 0 days 00:03:17.319662                 0.456003                 0.780454   \n",
       "29 0 days 00:02:27.898074                 0.513829                 0.955407   \n",
       "30 0 days 00:04:02.518712                 0.656386                 0.845438   \n",
       "31 0 days 00:04:02.452875                 0.673683                 0.844570   \n",
       "32 0 days 00:04:00.411133                 0.692715                 0.831062   \n",
       "33 0 days 00:03:47.802799                 0.704081                 0.992320   \n",
       "34 0 days 00:03:43.336448                 0.766513                 0.812412   \n",
       "35 0 days 00:02:57.873188                 0.824843                 0.752056   \n",
       "36 0 days 00:02:53.658173                 0.759835                 0.792916   \n",
       "37 0 days 00:03:20.095000                 0.801867                 0.929918   \n",
       "38 0 days 00:03:54.139700                 0.894100                 0.869235   \n",
       "39 0 days 00:00:58.433791                 0.945242                 0.879046   \n",
       "40 0 days 00:03:00.042943                 0.907067                 0.948525   \n",
       "41 0 days 00:03:46.642889                 0.727612                 0.874925   \n",
       "42 0 days 00:03:30.320487                 0.738385                 0.802878   \n",
       "43 0 days 00:03:21.127697                 0.742339                 0.810948   \n",
       "44 0 days 00:03:21.225123                 0.755019                 0.723601   \n",
       "45 0 days 00:03:33.574581                 0.735113                 0.797519   \n",
       "46 0 days 00:02:50.374848                 0.787101                 0.809975   \n",
       "47 0 days 00:03:11.966294                 0.858749                 0.869990   \n",
       "48 0 days 00:03:10.936785                 0.870797                 0.873749   \n",
       "49                    NaT                 0.789914                 0.775250   \n",
       "\n",
       "    params_lambda_l1  params_lambda_l2  params_learning_rate  \\\n",
       "0          36.205954         18.369821              0.006126   \n",
       "1          25.356939         25.148877              0.007848   \n",
       "2          26.341561         11.295934              0.006887   \n",
       "3          30.371464         43.622580              0.008576   \n",
       "4          13.231536         48.247392              0.009576   \n",
       "5          43.666859          6.773700              0.006432   \n",
       "6           7.962743         21.506605              0.006487   \n",
       "7          18.598387          4.193027              0.006715   \n",
       "8          17.853012         33.039479              0.008391   \n",
       "9          29.697714         18.221530              0.008222   \n",
       "10          0.203468         31.159647              0.005387   \n",
       "11          0.305054         32.414611              0.005196   \n",
       "12          1.464152         33.987237              0.005018   \n",
       "13          1.440600         34.667626              0.005064   \n",
       "14          8.363532         28.995923              0.005647   \n",
       "15          7.234503         41.133825              0.005567   \n",
       "16          2.001733         36.919188              0.007257   \n",
       "17         49.348751         25.320770              0.005781   \n",
       "18         15.540129         42.094248              0.009971   \n",
       "19         12.714654         28.356672              0.005354   \n",
       "20         10.277175         13.193256              0.006093   \n",
       "21          5.441500         28.200686              0.005325   \n",
       "22          5.712569         28.408831              0.005500   \n",
       "23          4.267288         28.415342              0.005980   \n",
       "24          5.617176         21.756506              0.006014   \n",
       "25         21.334963         38.656856              0.007298   \n",
       "26         21.045322         37.895715              0.007278   \n",
       "27         36.397959         48.148392              0.009003   \n",
       "28         21.317845         38.571655              0.007575   \n",
       "29         36.311236         16.910851              0.006439   \n",
       "30         12.530758         22.324039              0.006956   \n",
       "31         12.318136         21.165182              0.006914   \n",
       "32         12.028437         21.753051              0.007024   \n",
       "33         14.153394         21.923475              0.006920   \n",
       "34         11.197873         13.066000              0.007758   \n",
       "35         10.338538         13.811075              0.007875   \n",
       "36         16.355435         10.035710              0.007820   \n",
       "37         24.808613         16.237441              0.008929   \n",
       "38          3.882047          8.355557              0.006631   \n",
       "39          4.138652          2.087616              0.006645   \n",
       "40         10.170257          8.753838              0.006257   \n",
       "41          4.042910         13.632521              0.007065   \n",
       "42          3.040551          7.214227              0.007577   \n",
       "43          7.844447          5.883182              0.007755   \n",
       "44          3.125984          5.874617              0.008133   \n",
       "45          7.571499          0.565797              0.007634   \n",
       "46          0.086166          4.600262              0.007923   \n",
       "47          8.553514          7.844190              0.008475   \n",
       "48          8.969925          8.544390              0.008346   \n",
       "49          6.085395         12.254657              0.008660   \n",
       "\n",
       "    params_max_depth  params_min_data_in_leaf  params_n_estimators  \\\n",
       "0                  5                      700                 1800   \n",
       "1                  6                      900                 2400   \n",
       "2                  8                      300                 1900   \n",
       "3                  5                      100                 2000   \n",
       "4                  6                      700                 2900   \n",
       "5                  3                      900                  400   \n",
       "6                  8                      100                  300   \n",
       "7                  5                      500                 1200   \n",
       "8                  5                      100                 2200   \n",
       "9                  4                      100                 1400   \n",
       "10                 7                      900                 3000   \n",
       "11                 7                      900                 3000   \n",
       "12                 7                      700                 3000   \n",
       "13                 7                      900                 2600   \n",
       "14                 7                      500                 2600   \n",
       "15                 7                      900                 3000   \n",
       "16                 8                      700                  900   \n",
       "17                 6                      900                 2600   \n",
       "18                 7                      300                 2300   \n",
       "19                 8                      500                 2700   \n",
       "20                 8                      500                 1600   \n",
       "21                 8                      500                 2800   \n",
       "22                 8                      300                 2700   \n",
       "23                 8                      300                 2800   \n",
       "24                 8                      300                 2200   \n",
       "25                 8                      300                 2800   \n",
       "26                 8                      300                 2400   \n",
       "27                 3                      300                 2800   \n",
       "28                 6                      500                 2100   \n",
       "29                 4                      300                 1700   \n",
       "30                 8                      500                 2500   \n",
       "31                 8                      500                 2500   \n",
       "32                 8                      500                 2500   \n",
       "33                 7                      500                 2400   \n",
       "34                 8                      700                 2500   \n",
       "35                 6                      700                 2000   \n",
       "36                 8                      700                 1900   \n",
       "37                 7                      700                 2300   \n",
       "38                 8                      700                 2500   \n",
       "39                 4                      700                  700   \n",
       "40                 6                      700                 2000   \n",
       "41                 8                      500                 2500   \n",
       "42                 8                      700                 2300   \n",
       "43                 8                      700                 2200   \n",
       "44                 7                      700                 2200   \n",
       "45                 8                      700                 2300   \n",
       "46                 7                      700                 1800   \n",
       "47                 8                      700                 2100   \n",
       "48                 7                      900                 2100   \n",
       "49                 8                      700                 2400   \n",
       "\n",
       "    params_num_leaves     state  \n",
       "0                  20  COMPLETE  \n",
       "1                  20  COMPLETE  \n",
       "2                  20  COMPLETE  \n",
       "3                  45  COMPLETE  \n",
       "4                  25  COMPLETE  \n",
       "5                  20  COMPLETE  \n",
       "6                  20  COMPLETE  \n",
       "7                  35  COMPLETE  \n",
       "8                  30  COMPLETE  \n",
       "9                  45  COMPLETE  \n",
       "10                 50  COMPLETE  \n",
       "11                 50  COMPLETE  \n",
       "12                 50  COMPLETE  \n",
       "13                 50  COMPLETE  \n",
       "14                 40  COMPLETE  \n",
       "15                 45  COMPLETE  \n",
       "16                 40  COMPLETE  \n",
       "17                 50  COMPLETE  \n",
       "18                 40  COMPLETE  \n",
       "19                 35  COMPLETE  \n",
       "20                 30  COMPLETE  \n",
       "21                 35  COMPLETE  \n",
       "22                 35  COMPLETE  \n",
       "23                 35  COMPLETE  \n",
       "24                 35  COMPLETE  \n",
       "25                 30  COMPLETE  \n",
       "26                 30  COMPLETE  \n",
       "27                 25  COMPLETE  \n",
       "28                 25  COMPLETE  \n",
       "29                 30  COMPLETE  \n",
       "30                 35  COMPLETE  \n",
       "31                 35  COMPLETE  \n",
       "32                 40  COMPLETE  \n",
       "33                 40  COMPLETE  \n",
       "34                 40  COMPLETE  \n",
       "35                 40  COMPLETE  \n",
       "36                 45  COMPLETE  \n",
       "37                 40  COMPLETE  \n",
       "38                 45  COMPLETE  \n",
       "39                 45  COMPLETE  \n",
       "40                 45  COMPLETE  \n",
       "41                 40  COMPLETE  \n",
       "42                 40  COMPLETE  \n",
       "43                 40  COMPLETE  \n",
       "44                 45  COMPLETE  \n",
       "45                 40  COMPLETE  \n",
       "46                 40  COMPLETE  \n",
       "47                 45  COMPLETE  \n",
       "48                 45  COMPLETE  \n",
       "49                 45   RUNNING  "
      ]
     },
     "execution_count": 71,
     "metadata": {},
     "output_type": "execute_result"
    }
   ],
   "source": [
    "hptune.trials_dataframe()"
   ]
  },
  {
   "cell_type": "markdown",
   "id": "9b65cb55",
   "metadata": {},
   "source": [
    "#### Data Counts\n",
    "---"
   ]
  },
  {
   "cell_type": "code",
   "execution_count": null,
   "id": "9f573401",
   "metadata": {},
   "outputs": [],
   "source": []
  },
  {
   "cell_type": "markdown",
   "id": "9041f684",
   "metadata": {},
   "source": [
    "#### Shap\n",
    "---"
   ]
  },
  {
   "cell_type": "code",
   "execution_count": 83,
   "id": "54aa4b75",
   "metadata": {},
   "outputs": [
    {
     "data": {
      "text/html": [
       "<div>\n",
       "<style scoped>\n",
       "    .dataframe tbody tr th:only-of-type {\n",
       "        vertical-align: middle;\n",
       "    }\n",
       "\n",
       "    .dataframe tbody tr th {\n",
       "        vertical-align: top;\n",
       "    }\n",
       "\n",
       "    .dataframe thead th {\n",
       "        text-align: right;\n",
       "    }\n",
       "</style>\n",
       "<table border=\"1\" class=\"dataframe\">\n",
       "  <thead>\n",
       "    <tr style=\"text-align: right;\">\n",
       "      <th></th>\n",
       "      <th>%accts</th>\n",
       "      <th>min</th>\n",
       "      <th>max</th>\n",
       "      <th>woe</th>\n",
       "    </tr>\n",
       "  </thead>\n",
       "  <tbody>\n",
       "    <tr>\n",
       "      <th>0</th>\n",
       "      <td>35.06%</td>\n",
       "      <td>0.0</td>\n",
       "      <td>27.0</td>\n",
       "      <td>-0.2047</td>\n",
       "    </tr>\n",
       "    <tr>\n",
       "      <th>1</th>\n",
       "      <td>25.62%</td>\n",
       "      <td>28.0</td>\n",
       "      <td>96.0</td>\n",
       "      <td>-0.1365</td>\n",
       "    </tr>\n",
       "    <tr>\n",
       "      <th>2</th>\n",
       "      <td>3.68%</td>\n",
       "      <td>97.0</td>\n",
       "      <td>117.0</td>\n",
       "      <td>-0.1133</td>\n",
       "    </tr>\n",
       "    <tr>\n",
       "      <th>3</th>\n",
       "      <td>2.67%</td>\n",
       "      <td>118.0</td>\n",
       "      <td>133.0</td>\n",
       "      <td>-0.0704</td>\n",
       "    </tr>\n",
       "    <tr>\n",
       "      <th>4</th>\n",
       "      <td>4.24%</td>\n",
       "      <td>134.0</td>\n",
       "      <td>199.0</td>\n",
       "      <td>-0.0391</td>\n",
       "    </tr>\n",
       "    <tr>\n",
       "      <th>5</th>\n",
       "      <td>1.12%</td>\n",
       "      <td>200.0</td>\n",
       "      <td>362.0</td>\n",
       "      <td>0.0253</td>\n",
       "    </tr>\n",
       "    <tr>\n",
       "      <th>6</th>\n",
       "      <td>0.12%</td>\n",
       "      <td>363.0</td>\n",
       "      <td>806.0</td>\n",
       "      <td>0.2471</td>\n",
       "    </tr>\n",
       "    <tr>\n",
       "      <th>missing</th>\n",
       "      <td>27.49%</td>\n",
       "      <td>NaN</td>\n",
       "      <td>NaN</td>\n",
       "      <td>0.3438</td>\n",
       "    </tr>\n",
       "  </tbody>\n",
       "</table>\n",
       "</div>"
      ],
      "text/plain": [
       "         %accts    min    max     woe\n",
       "0        35.06%    0.0   27.0 -0.2047\n",
       "1        25.62%   28.0   96.0 -0.1365\n",
       "2         3.68%   97.0  117.0 -0.1133\n",
       "3         2.67%  118.0  133.0 -0.0704\n",
       "4         4.24%  134.0  199.0 -0.0391\n",
       "5         1.12%  200.0  362.0  0.0253\n",
       "6         0.12%  363.0  806.0  0.2471\n",
       "missing  27.49%    NaN    NaN  0.3438"
      ]
     },
     "execution_count": 83,
     "metadata": {},
     "output_type": "execute_result"
    }
   ],
   "source": [
    "woe_dict[\"p13_alj8120\"]"
   ]
  },
  {
   "cell_type": "code",
   "execution_count": 85,
   "id": "3caa2fb4",
   "metadata": {},
   "outputs": [
    {
     "data": {
      "text/html": [
       "<div>\n",
       "<style scoped>\n",
       "    .dataframe tbody tr th:only-of-type {\n",
       "        vertical-align: middle;\n",
       "    }\n",
       "\n",
       "    .dataframe tbody tr th {\n",
       "        vertical-align: top;\n",
       "    }\n",
       "\n",
       "    .dataframe thead th {\n",
       "        text-align: right;\n",
       "    }\n",
       "</style>\n",
       "<table border=\"1\" class=\"dataframe\">\n",
       "  <thead>\n",
       "    <tr style=\"text-align: right;\">\n",
       "      <th></th>\n",
       "      <th>%accts</th>\n",
       "      <th>min</th>\n",
       "      <th>max</th>\n",
       "      <th>woe</th>\n",
       "    </tr>\n",
       "  </thead>\n",
       "  <tbody>\n",
       "    <tr>\n",
       "      <th>0</th>\n",
       "      <td>0.25%</td>\n",
       "      <td>0.0</td>\n",
       "      <td>2.0</td>\n",
       "      <td>1.3766</td>\n",
       "    </tr>\n",
       "    <tr>\n",
       "      <th>1</th>\n",
       "      <td>2.38%</td>\n",
       "      <td>3.0</td>\n",
       "      <td>36.0</td>\n",
       "      <td>1.2186</td>\n",
       "    </tr>\n",
       "    <tr>\n",
       "      <th>2</th>\n",
       "      <td>0.36%</td>\n",
       "      <td>37.0</td>\n",
       "      <td>44.0</td>\n",
       "      <td>1.1447</td>\n",
       "    </tr>\n",
       "    <tr>\n",
       "      <th>3</th>\n",
       "      <td>0.94%</td>\n",
       "      <td>45.0</td>\n",
       "      <td>67.0</td>\n",
       "      <td>1.0679</td>\n",
       "    </tr>\n",
       "    <tr>\n",
       "      <th>4</th>\n",
       "      <td>1.10%</td>\n",
       "      <td>68.0</td>\n",
       "      <td>101.0</td>\n",
       "      <td>0.9674</td>\n",
       "    </tr>\n",
       "    <tr>\n",
       "      <th>5</th>\n",
       "      <td>1.10%</td>\n",
       "      <td>102.0</td>\n",
       "      <td>141.0</td>\n",
       "      <td>0.9012</td>\n",
       "    </tr>\n",
       "    <tr>\n",
       "      <th>6</th>\n",
       "      <td>0.49%</td>\n",
       "      <td>142.0</td>\n",
       "      <td>161.0</td>\n",
       "      <td>0.8066</td>\n",
       "    </tr>\n",
       "    <tr>\n",
       "      <th>7</th>\n",
       "      <td>1.54%</td>\n",
       "      <td>162.0</td>\n",
       "      <td>231.0</td>\n",
       "      <td>0.7869</td>\n",
       "    </tr>\n",
       "    <tr>\n",
       "      <th>8</th>\n",
       "      <td>0.98%</td>\n",
       "      <td>232.0</td>\n",
       "      <td>281.0</td>\n",
       "      <td>0.7125</td>\n",
       "    </tr>\n",
       "    <tr>\n",
       "      <th>9</th>\n",
       "      <td>4.15%</td>\n",
       "      <td>282.0</td>\n",
       "      <td>560.0</td>\n",
       "      <td>0.6340</td>\n",
       "    </tr>\n",
       "    <tr>\n",
       "      <th>10</th>\n",
       "      <td>2.51%</td>\n",
       "      <td>561.0</td>\n",
       "      <td>761.0</td>\n",
       "      <td>0.4409</td>\n",
       "    </tr>\n",
       "    <tr>\n",
       "      <th>missing</th>\n",
       "      <td>84.20%</td>\n",
       "      <td>NaN</td>\n",
       "      <td>NaN</td>\n",
       "      <td>-0.2211</td>\n",
       "    </tr>\n",
       "  </tbody>\n",
       "</table>\n",
       "</div>"
      ],
      "text/plain": [
       "         %accts    min    max     woe\n",
       "0         0.25%    0.0    2.0  1.3766\n",
       "1         2.38%    3.0   36.0  1.2186\n",
       "2         0.36%   37.0   44.0  1.1447\n",
       "3         0.94%   45.0   67.0  1.0679\n",
       "4         1.10%   68.0  101.0  0.9674\n",
       "5         1.10%  102.0  141.0  0.9012\n",
       "6         0.49%  142.0  161.0  0.8066\n",
       "7         1.54%  162.0  231.0  0.7869\n",
       "8         0.98%  232.0  281.0  0.7125\n",
       "9         4.15%  282.0  560.0  0.6340\n",
       "10        2.51%  561.0  761.0  0.4409\n",
       "missing  84.20%    NaN    NaN -0.2211"
      ]
     },
     "execution_count": 85,
     "metadata": {},
     "output_type": "execute_result"
    }
   ],
   "source": [
    "woe_dict[\"p13_iqf9540\"]"
   ]
  },
  {
   "cell_type": "markdown",
   "id": "7b06be8d",
   "metadata": {},
   "source": [
    "#### PDP\n",
    "---"
   ]
  },
  {
   "cell_type": "code",
   "execution_count": null,
   "id": "aa148e04",
   "metadata": {},
   "outputs": [],
   "source": []
  },
  {
   "cell_type": "markdown",
   "id": "bdfb981f",
   "metadata": {},
   "source": [
    "#### Risk Sensitivity\n",
    "---"
   ]
  },
  {
   "cell_type": "code",
   "execution_count": null,
   "id": "d0381d95",
   "metadata": {},
   "outputs": [],
   "source": []
  },
  {
   "cell_type": "code",
   "execution_count": null,
   "id": "4c82ac06",
   "metadata": {},
   "outputs": [],
   "source": []
  },
  {
   "cell_type": "code",
   "execution_count": null,
   "id": "8527d2d3",
   "metadata": {},
   "outputs": [],
   "source": []
  }
 ],
 "metadata": {
  "kernelspec": {
   "display_name": "conda_pl_gen4",
   "language": "python",
   "name": "conda_pl_gen4"
  },
  "language_info": {
   "codemirror_mode": {
    "name": "ipython",
    "version": 3
   },
   "file_extension": ".py",
   "mimetype": "text/x-python",
   "name": "python",
   "nbconvert_exporter": "python",
   "pygments_lexer": "ipython3",
   "version": "3.7.12"
  }
 },
 "nbformat": 4,
 "nbformat_minor": 5
}
