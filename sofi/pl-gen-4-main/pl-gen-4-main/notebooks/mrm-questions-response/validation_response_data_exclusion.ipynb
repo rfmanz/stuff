{
 "cells": [
  {
   "cell_type": "code",
   "execution_count": 1,
   "id": "a42e7f91",
   "metadata": {},
   "outputs": [],
   "source": [
    "import numpy as np\n",
    "import pandas as pd\n",
    "import os\n",
    "import time\n",
    "import sys\n",
    "from data import data_summary\n",
    "from data import data_waterfall\n",
    "\n",
    "%load_ext autoreload\n",
    "%autoreload 2"
   ]
  },
  {
   "cell_type": "code",
   "execution_count": 2,
   "id": "248d3dd5",
   "metadata": {},
   "outputs": [],
   "source": [
    "df_dev = pd.read_parquet(f's3://sofi-data-science/hpeng/pl-gen4/data_dump/raw_tables/af_member_base_before_exc.parquet')"
   ]
  },
  {
   "cell_type": "code",
   "execution_count": 31,
   "id": "40385fa2",
   "metadata": {},
   "outputs": [],
   "source": [
    "df_dev['no_fico_flag']= np.where((df_dev.applicant_fico_score.isnull()) | (df_dev.applicant_fico_score>850),1,0)"
   ]
  },
  {
   "cell_type": "code",
   "execution_count": 32,
   "id": "12df7e1a",
   "metadata": {},
   "outputs": [],
   "source": [
    "def drop_bureau_no_match(df):\n",
    "    return df[~(df['no_match_flag'] == 1)]\n",
    "\n",
    "def drop_bureau_no_hit(df):\n",
    "    return df[~(df['no_fico_flag'] == 1)]"
   ]
  },
  {
   "cell_type": "code",
   "execution_count": 33,
   "id": "d5fbcb46",
   "metadata": {},
   "outputs": [
    {
     "data": {
      "text/plain": [
       "N    3232823\n",
       "Y     312716\n",
       "Name: coborrower_indicator, dtype: int64"
      ]
     },
     "execution_count": 33,
     "metadata": {},
     "output_type": "execute_result"
    }
   ],
   "source": [
    "df_dev['weight'] = np.where(df_dev['coborrower_indicator'] == 'N', 1, 0.5)\n",
    "df_dev['coborrower_indicator'].value_counts()"
   ]
  },
  {
   "cell_type": "code",
   "execution_count": 34,
   "id": "5295ca49",
   "metadata": {},
   "outputs": [],
   "source": [
    "fns = [drop_bureau_no_match,\n",
    "       drop_bureau_no_hit]\n",
    "wf = data_waterfall.DataWaterfallReport(df_dev, fns,'weight')"
   ]
  },
  {
   "cell_type": "code",
   "execution_count": 35,
   "id": "fe6ffa1d",
   "metadata": {},
   "outputs": [
    {
     "data": {
      "text/html": [
       "<div>\n",
       "<style scoped>\n",
       "    .dataframe tbody tr th:only-of-type {\n",
       "        vertical-align: middle;\n",
       "    }\n",
       "\n",
       "    .dataframe tbody tr th {\n",
       "        vertical-align: top;\n",
       "    }\n",
       "\n",
       "    .dataframe thead th {\n",
       "        text-align: right;\n",
       "    }\n",
       "</style>\n",
       "<table border=\"1\" class=\"dataframe\">\n",
       "  <thead>\n",
       "    <tr style=\"text-align: right;\">\n",
       "      <th></th>\n",
       "      <th># Excluded</th>\n",
       "      <th># Remain</th>\n",
       "      <th>% Excluded</th>\n",
       "    </tr>\n",
       "  </thead>\n",
       "  <tbody>\n",
       "    <tr>\n",
       "      <th>Starting Population</th>\n",
       "      <td></td>\n",
       "      <td>3389181</td>\n",
       "      <td></td>\n",
       "    </tr>\n",
       "    <tr>\n",
       "      <th>Drop Bureau No Match</th>\n",
       "      <td>175864</td>\n",
       "      <td>3213316</td>\n",
       "      <td>5.19%</td>\n",
       "    </tr>\n",
       "    <tr>\n",
       "      <th>Drop Bureau No Hit</th>\n",
       "      <td>111873</td>\n",
       "      <td>3101443</td>\n",
       "      <td>3.30%</td>\n",
       "    </tr>\n",
       "  </tbody>\n",
       "</table>\n",
       "</div>"
      ],
      "text/plain": [
       "                      # Excluded  # Remain  % Excluded\n",
       "Starting Population                3389181            \n",
       "Drop Bureau No Match      175864   3213316       5.19%\n",
       "Drop Bureau No Hit        111873   3101443       3.30%"
      ]
     },
     "execution_count": 35,
     "metadata": {},
     "output_type": "execute_result"
    }
   ],
   "source": [
    "df_waterfall = wf.get_report(True)\n",
    "df_waterfall"
   ]
  },
  {
   "cell_type": "code",
   "execution_count": 36,
   "id": "6e7e5864",
   "metadata": {},
   "outputs": [
    {
     "data": {
      "text/html": [
       "<div>\n",
       "<style scoped>\n",
       "    .dataframe tbody tr th:only-of-type {\n",
       "        vertical-align: middle;\n",
       "    }\n",
       "\n",
       "    .dataframe tbody tr th {\n",
       "        vertical-align: top;\n",
       "    }\n",
       "\n",
       "    .dataframe thead th {\n",
       "        text-align: right;\n",
       "    }\n",
       "</style>\n",
       "<table border=\"1\" class=\"dataframe\">\n",
       "  <thead>\n",
       "    <tr style=\"text-align: right;\">\n",
       "      <th></th>\n",
       "      <th># Excluded</th>\n",
       "      <th># Remain</th>\n",
       "      <th>% Excluded</th>\n",
       "    </tr>\n",
       "  </thead>\n",
       "  <tbody>\n",
       "    <tr>\n",
       "      <th>Starting Population</th>\n",
       "      <td></td>\n",
       "      <td>175864</td>\n",
       "      <td></td>\n",
       "    </tr>\n",
       "    <tr>\n",
       "      <th>Drop Bureau No Hit</th>\n",
       "      <td>59368</td>\n",
       "      <td>116496</td>\n",
       "      <td>33.76%</td>\n",
       "    </tr>\n",
       "  </tbody>\n",
       "</table>\n",
       "</div>"
      ],
      "text/plain": [
       "                     # Excluded  # Remain  % Excluded\n",
       "Starting Population                175864            \n",
       "Drop Bureau No Hit        59368    116496      33.76%"
      ]
     },
     "execution_count": 36,
     "metadata": {},
     "output_type": "execute_result"
    }
   ],
   "source": [
    "fns = [drop_bureau_no_hit]\n",
    "wf = data_waterfall.DataWaterfallReport(df_dev[df_dev.no_match_flag==1], fns,'weight')\n",
    "\n",
    "df_waterfall = wf.get_report(True)\n",
    "df_waterfall"
   ]
  },
  {
   "cell_type": "code",
   "execution_count": 37,
   "id": "37515558",
   "metadata": {},
   "outputs": [
    {
     "data": {
      "text/plain": [
       "0.05057876954674592"
      ]
     },
     "execution_count": 37,
     "metadata": {},
     "output_type": "execute_result"
    }
   ],
   "source": [
    "df_dev['no_fico_flag'].mean()"
   ]
  },
  {
   "cell_type": "code",
   "execution_count": 39,
   "id": "8993fbfd",
   "metadata": {},
   "outputs": [
    {
     "data": {
      "text/plain": [
       "0.6624"
      ]
     },
     "execution_count": 39,
     "metadata": {},
     "output_type": "execute_result"
    }
   ],
   "source": [
    "1-.3376"
   ]
  },
  {
   "cell_type": "code",
   "execution_count": null,
   "id": "8f51a033",
   "metadata": {},
   "outputs": [],
   "source": []
  }
 ],
 "metadata": {
  "kernelspec": {
   "display_name": "conda_python3",
   "language": "python",
   "name": "conda_python3"
  },
  "language_info": {
   "codemirror_mode": {
    "name": "ipython",
    "version": 3
   },
   "file_extension": ".py",
   "mimetype": "text/x-python",
   "name": "python",
   "nbconvert_exporter": "python",
   "pygments_lexer": "ipython3",
   "version": "3.6.13"
  }
 },
 "nbformat": 4,
 "nbformat_minor": 5
}
