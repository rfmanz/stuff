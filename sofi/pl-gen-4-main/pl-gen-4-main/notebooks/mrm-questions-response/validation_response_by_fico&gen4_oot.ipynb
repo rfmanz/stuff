{
 "cells": [
  {
   "cell_type": "code",
   "execution_count": 1,
   "id": "256e7fca",
   "metadata": {},
   "outputs": [
    {
     "name": "stdout",
     "output_type": "stream",
     "text": [
      "3.2.1\n"
     ]
    }
   ],
   "source": [
    "import sys, os, json, copy, sklearn, shap, gc, joblib, copy, time, ast\n",
    "import pandas as pd\n",
    "import numpy as np\n",
    "import lightgbm as lgb\n",
    "from lightgbm import LGBMClassifier\n",
    "import pickle as pkl\n",
    "from tqdm import tqdm\n",
    "from smart_open import open\n",
    "import seaborn as sns\n",
    "from sklearn.metrics import roc_curve,roc_auc_score, precision_score, recall_score, accuracy_score, confusion_matrix\n",
    "import matplotlib.pyplot as plt\n",
    "from rdsutils.woe import WOE_Transform                                            \n",
    "from rdsutils.metrics import get_pred_reports\n",
    "\n",
    "\n",
    "sys.path.insert(1, \"./to_MRM/utility\")\n",
    "from performance_eval_plot import score_gain, plot_efficient_frontier, plot_percentile_bad_rate\n",
    "import performance_eval_v3 as p_eval\n",
    "import data_summary, woe, data_eda, psi\n",
    "from governance import get_risk_plot,get_feature_by_importance, get_pdp, get_shap_dependence, pickle_obj, save_shap_dependence,\\\n",
    "    save_pdp, plot_hist, get_woe_plots\n",
    "\n",
    "pd.set_option('display.max_columns', 20)\n",
    "pd.set_option('display.width', 500)\n",
    "pd.set_option('display.max_colwidth', None)\n",
    "\n",
    "%load_ext autoreload\n",
    "%autoreload 2\n",
    "\n",
    "print(lgb.__version__)"
   ]
  },
  {
   "cell_type": "code",
   "execution_count": 2,
   "id": "7a3dd6d9",
   "metadata": {},
   "outputs": [],
   "source": [
    "config_path = \"s3://sofi-data-science/hpeng/pl-gen4/artifact/config.json\"\n",
    "artifact_path = \"s3://sofi-data-science/hpeng/pl-gen4/artifact\"\n",
    "with open(os.path.join(config_path), \"r\") as f:\n",
    "    config = json.load(f)"
   ]
  },
  {
   "cell_type": "code",
   "execution_count": 3,
   "id": "d6b10401",
   "metadata": {},
   "outputs": [],
   "source": [
    "exp_dict = pd.read_csv(config[\"meta\"][\"exp_dict_path\"])\n",
    "af_dict = pd.read_csv(config[\"meta\"][\"af_member_cust_dict_path\"])"
   ]
  },
  {
   "cell_type": "code",
   "execution_count": 4,
   "id": "afad4ee1",
   "metadata": {},
   "outputs": [
    {
     "name": "stderr",
     "output_type": "stream",
     "text": [
      "Trying to unpickle estimator LabelEncoder from version 0.24.1 when using version 1.0.1. This might lead to breaking code or invalid results. Use at your own risk. For more info please refer to:\n",
      "https://scikit-learn.org/stable/modules/model_persistence.html#security-maintainability-limitations\n"
     ]
    }
   ],
   "source": [
    "model_member = pkl.load(open('./to_MRM/artifact/'+'member'+'_final_model.pkl', 'rb'))\n",
    "model_non_member = pkl.load(open('./to_MRM/artifact/'+'non_member'+'_final_model.pkl', 'rb'))\n",
    "model_prescreen = pkl.load(open('./to_MRM/artifact/'+'prescreen'+'_final_model.pkl', 'rb'))"
   ]
  },
  {
   "cell_type": "code",
   "execution_count": 5,
   "id": "40d95241",
   "metadata": {},
   "outputs": [],
   "source": [
    "feature_list = model_prescreen.feature_name_ + model_member.feature_name_ + model_non_member.feature_name_  + config[\"data_columns\"][\"weights\"] \\\n",
    "            + config[\"data_columns\"][\"target_cols\"] + config[\"data_columns\"][\"benchmark_cols\"] + \\\n",
    "            config[\"data_columns\"][\"meta_cols\"] + ['all_time_lending_member_flag'] + ['funds_use_encode_v2','income_update']\n",
    "feature_list = pd.unique(feature_list).tolist()"
   ]
  },
  {
   "cell_type": "code",
   "execution_count": 6,
   "id": "17d44d0b",
   "metadata": {},
   "outputs": [],
   "source": [
    "df_oot1_full = pd.read_parquet(config[\"data\"][\"clean\"][\"all_features_oot1\"], columns = feature_list)\n",
    "df_oot2_full = pd.read_parquet(config[\"data\"][\"clean\"][\"all_features_oot2\"], columns = feature_list)\n",
    "df_oot_full = pd.concat([df_oot1_full, df_oot2_full], axis=0, ignore_index=True)\n",
    "\n",
    "df_oot_full['seg'] = 'other'\n",
    "df_oot_full.loc[(df_oot_full.all_time_lending_member_flag==1), 'seg'] = 'member'\n",
    "df_oot_full.loc[(df_oot_full.all_time_lending_member_flag!=1), 'seg'] = 'non_member'"
   ]
  },
  {
   "cell_type": "code",
   "execution_count": 7,
   "id": "a65602ac",
   "metadata": {},
   "outputs": [
    {
     "name": "stderr",
     "output_type": "stream",
     "text": [
      "100%|██████████| 88/88 [00:03<00:00, 28.22it/s]\n"
     ]
    },
    {
     "data": {
      "text/plain": [
       "30"
      ]
     },
     "execution_count": 7,
     "metadata": {},
     "output_type": "execute_result"
    }
   ],
   "source": [
    "def categorical_to_nan(series, categorical_list):\n",
    "    \"\"\" given series and a list of catergorical values\n",
    "    \n",
    "    replace the categorical occurances to nan\n",
    "    \"\"\"\n",
    "    if len(categorical_list) == 0:\n",
    "        return series\n",
    "    mapper = dict((k, np.nan) for k in categorical_list)\n",
    "    return series.replace(mapper)\n",
    "\n",
    "no_special_list = []\n",
    "\n",
    "for col in tqdm(feature_list):\n",
    "    try:\n",
    "        special_val = ast.literal_eval(exp_dict[exp_dict.field_name == col].categorical.iloc[0])\n",
    "        special_val = [int(i) for i in special_val]\n",
    "        df_oot_full[col] = categorical_to_nan(df_oot_full[col], special_val)\n",
    "    except:\n",
    "        no_special_list.append(col)\n",
    "        \n",
    "len(no_special_list)"
   ]
  },
  {
   "cell_type": "code",
   "execution_count": 8,
   "id": "4e37e330",
   "metadata": {},
   "outputs": [
    {
     "name": "stderr",
     "output_type": "stream",
     "text": [
      "100%|██████████| 31/31 [00:00<00:00, 2198.87it/s]\n"
     ]
    },
    {
     "name": "stdout",
     "output_type": "stream",
     "text": [
      "no special value for p13_iqz9420\n",
      "no special value for p13_iqz9426\n",
      "no special value for sofi_num_inq_12month\n"
     ]
    },
    {
     "name": "stderr",
     "output_type": "stream",
     "text": [
      "100%|██████████| 31/31 [00:00<00:00, 369.00it/s]\n"
     ]
    },
    {
     "name": "stdout",
     "output_type": "stream",
     "text": [
      "no special value for p13_iqz9427\n",
      "no special value for sofi_num_inq_1month\n",
      "no special value for sofi_num_inq_3month\n",
      "no special value for sofi_num_inq_personal_finance\n"
     ]
    },
    {
     "name": "stderr",
     "output_type": "stream",
     "text": [
      " 97%|█████████▋| 30/31 [00:00<00:00, 296.71it/s]"
     ]
    },
    {
     "name": "stdout",
     "output_type": "stream",
     "text": [
      "no special value for p13_iqz9420\n",
      "no special value for p13_iqz9425\n"
     ]
    },
    {
     "name": "stderr",
     "output_type": "stream",
     "text": [
      "100%|██████████| 31/31 [00:00<00:00, 291.04it/s]\n"
     ]
    }
   ],
   "source": [
    "df_oot_full_member_ = df_oot_full[df_oot_full.seg=='member'].copy()\n",
    "df_oot_full_non_member_ = df_oot_full[df_oot_full.seg=='non_member'].copy()\n",
    "df_oot_full_prescreen_ = df_oot_full.copy()\n",
    "\n",
    "impute_vals_member = pkl.load(open('./to_MRM/artifact/'+'member'+'_final_imputed_val.pkl', 'rb'))\n",
    "impute_vals_non_member = pkl.load(open('./to_MRM/artifact/'+'non_member'+'_final_imputed_val.pkl', 'rb'))\n",
    "impute_vals_prescreen = pkl.load(open('./to_MRM/artifact/'+'prescreen'+'_final_imputed_val.pkl', 'rb'))\n",
    "\n",
    "for f in tqdm(model_member.feature_name_):\n",
    "    try:\n",
    "        val = impute_vals_member[f]\n",
    "        df_oot_full_member_[f].fillna(val, inplace=True)\n",
    "    except:\n",
    "        print(\"no special value for \" + f)    \n",
    "        \n",
    "for f in tqdm(model_non_member.feature_name_):\n",
    "    try:\n",
    "        val = impute_vals_non_member[f]\n",
    "        df_oot_full_non_member_[f].fillna(val, inplace=True)\n",
    "    except:\n",
    "        print(\"no special value for \" + f)\n",
    "        \n",
    "for f in tqdm(model_prescreen.feature_name_):\n",
    "    try:\n",
    "        val = impute_vals_prescreen[f]\n",
    "        df_oot_full_prescreen_[f].fillna(val, inplace=True)\n",
    "    except:\n",
    "        print(\"no special value for \" + f)"
   ]
  },
  {
   "cell_type": "code",
   "execution_count": 9,
   "id": "b8eb2983",
   "metadata": {},
   "outputs": [],
   "source": [
    "df_oot_full_member_['gen4_underwriting_prob'] = model_member.predict_proba(df_oot_full_member_[model_member.feature_name_])[:,1]\n",
    "df_oot_full_non_member_['gen4_underwriting_prob'] = model_non_member.predict_proba(df_oot_full_non_member_[model_non_member.feature_name_])[:,1]\n",
    "df_oot_ = pd.concat([df_oot_full_member_, df_oot_full_non_member_], axis=0, ignore_index=True)\n",
    "df_oot_[\"weight_eval\"] = df_oot_[\"weight_cob\"] * df_oot_[\"weight_ri_v2\"]\n",
    "\n",
    "df_oot_full_prescreen_['gen4_prescreen_prob'] = model_prescreen.predict_proba(df_oot_full_prescreen_[model_prescreen.feature_name_])[:,1]\n",
    "df_oot_full_prescreen_[\"weight_eval\"] = df_oot_full_prescreen_[\"weight_cob\"] * df_oot_full_prescreen_[\"weight_ri_v2\"]"
   ]
  },
  {
   "cell_type": "code",
   "execution_count": 10,
   "id": "15ed6b1f",
   "metadata": {},
   "outputs": [
    {
     "data": {
      "text/plain": [
       "non_member    1050774\n",
       "member          99951\n",
       "Name: seg, dtype: int64"
      ]
     },
     "execution_count": 10,
     "metadata": {},
     "output_type": "execute_result"
    }
   ],
   "source": [
    "df_oot_.seg.value_counts()"
   ]
  },
  {
   "cell_type": "code",
   "execution_count": 11,
   "id": "05a08859",
   "metadata": {},
   "outputs": [
    {
     "data": {
      "text/plain": [
       "(1150725, 91)"
      ]
     },
     "execution_count": 11,
     "metadata": {},
     "output_type": "execute_result"
    }
   ],
   "source": [
    "df_oot_full_prescreen_.shape"
   ]
  },
  {
   "cell_type": "code",
   "execution_count": 12,
   "id": "3134368f",
   "metadata": {},
   "outputs": [],
   "source": [
    "df_oot_ = pd.merge(df_oot_, df_oot_full_prescreen_[['gen4_prescreen_prob','id','applicant_type','date_start','weight_eval']],\n",
    "              how = 'inner', on = ['id', 'applicant_type', 'date_start','weight_eval'])"
   ]
  },
  {
   "cell_type": "code",
   "execution_count": 13,
   "id": "1faa3108",
   "metadata": {},
   "outputs": [],
   "source": [
    "factor = 40/np.log(2)\n",
    "offset = 650 - factor * np.log(5)\n",
    "\n",
    "df_oot_['uw_log_odds'] = np.log((1 - df_oot_['gen4_underwriting_prob'])/df_oot_['gen4_underwriting_prob'])\n",
    "df_oot_['uw_odds'] = ((1 - df_oot_['gen4_underwriting_prob'])/df_oot_['gen4_underwriting_prob'])\n",
    "\n",
    "df_oot_['gen4_underwriting_score'] = round(offset+factor*df_oot_['uw_log_odds'])\n",
    "df_oot_.loc[df_oot_.gen4_underwriting_score>850,'gen4_underwriting_score']=850\n",
    "df_oot_.loc[df_oot_.gen4_underwriting_score<300,'gen4_underwriting_score']=300\n",
    "\n",
    "df_oot_['pr_log_odds'] = np.log((1 - df_oot_['gen4_prescreen_prob'])/df_oot_['gen4_prescreen_prob'])\n",
    "df_oot_['pr_odds'] = ((1 - df_oot_['gen4_prescreen_prob'])/df_oot_['gen4_prescreen_prob'])\n",
    "\n",
    "df_oot_['gen4_prescreen_score'] = round(offset+factor*df_oot_['pr_log_odds'])\n",
    "df_oot_.loc[df_oot_.gen4_prescreen_score>850,'gen4_prescreen_score']=850\n",
    "df_oot_.loc[df_oot_.gen4_prescreen_score<300,'gen4_prescreen_score']=300"
   ]
  },
  {
   "cell_type": "code",
   "execution_count": 14,
   "id": "49e4b007",
   "metadata": {},
   "outputs": [
    {
     "data": {
      "text/plain": [
       "0.0041615670930619025"
      ]
     },
     "execution_count": 14,
     "metadata": {},
     "output_type": "execute_result"
    }
   ],
   "source": [
    "df_oot_[df_oot_['applicant_fico_score']>850].id.nunique()/df_oot_.id.nunique()"
   ]
  },
  {
   "cell_type": "code",
   "execution_count": 15,
   "id": "bb010803",
   "metadata": {},
   "outputs": [
    {
     "data": {
      "text/plain": [
       "count    5269.000000\n",
       "mean      554.745682\n",
       "std        29.472357\n",
       "min       430.000000\n",
       "25%       541.000000\n",
       "50%       553.000000\n",
       "75%       563.000000\n",
       "max       819.000000\n",
       "Name: gen4_underwriting_score, dtype: float64"
      ]
     },
     "execution_count": 15,
     "metadata": {},
     "output_type": "execute_result"
    }
   ],
   "source": [
    "df_oot_[df_oot_['applicant_fico_score']>850].gen4_underwriting_score.describe()"
   ]
  },
  {
   "cell_type": "code",
   "execution_count": 16,
   "id": "ae2dc1e0",
   "metadata": {},
   "outputs": [],
   "source": [
    "df_analysis = df_oot_[df_oot_['applicant_fico_score']<=850].copy()"
   ]
  },
  {
   "cell_type": "code",
   "execution_count": 17,
   "id": "2a135a0f",
   "metadata": {},
   "outputs": [],
   "source": [
    "df_analysis['fico_bin'] = pd.cut(df_analysis['applicant_fico_score'],np.arange(300,860,10),right=True, include_lowest=True)\n",
    "df_analysis['gen4_prescreen_bin'] = pd.cut(df_analysis['gen4_prescreen_score'],np.arange(300,860,10),right=True, include_lowest=True)\n",
    "df_analysis['gen4_underwriting_bin'] = pd.cut(df_analysis['gen4_underwriting_score'],np.arange(300,860,10),right=True, include_lowest=True)"
   ]
  },
  {
   "cell_type": "code",
   "execution_count": 26,
   "id": "6ed25417",
   "metadata": {},
   "outputs": [],
   "source": [
    "ds = data_summary.DataSummary(df_analysis,['target_v2'],segment=['fico_bin','gen4_prescreen_bin'],weight='weight_eval')\n",
    "df_cnt_prescreen = ds.get_report()\n",
    "df_cnt_prescreen = df_cnt_prescreen.rename(columns={'total cnt': 'pre_cnt','target_v2': 'pre_target_v2'})"
   ]
  },
  {
   "cell_type": "code",
   "execution_count": 27,
   "id": "11fee765",
   "metadata": {},
   "outputs": [],
   "source": [
    "ds = data_summary.DataSummary(df_analysis[df_analysis.seg=='member'],['target_v2'],segment=['fico_bin','gen4_underwriting_bin'],weight='weight_eval')\n",
    "df_cnt_member = ds.get_report()\n",
    "df_cnt_member = df_cnt_member.rename(columns={'total cnt': 'member_cnt','target_v2': 'member_target_v2'})"
   ]
  },
  {
   "cell_type": "code",
   "execution_count": 28,
   "id": "0749d886",
   "metadata": {},
   "outputs": [],
   "source": [
    "ds = data_summary.DataSummary(df_analysis[df_analysis.seg!='member'],['target_v2'],segment=['fico_bin','gen4_underwriting_bin'],weight='weight_eval')\n",
    "df_cnt_non_member = ds.get_report()\n",
    "df_cnt_non_member = df_cnt_non_member.rename(columns={'total cnt': 'non_member_cnt','target_v2': 'non_member_target_v2'})"
   ]
  },
  {
   "cell_type": "code",
   "execution_count": 30,
   "id": "453f1c46",
   "metadata": {},
   "outputs": [],
   "source": [
    "df_cnt = pd.merge(df_cnt_non_member, df_cnt_member, on =['fico_bin','gen4_underwriting_bin'], how='outer')\n",
    "df_cnt = pd.merge(df_cnt, df_cnt_prescreen, how = 'outer', left_on =['fico_bin','gen4_underwriting_bin'], right_on = ['fico_bin','gen4_prescreen_bin'])"
   ]
  },
  {
   "cell_type": "code",
   "execution_count": 31,
   "id": "3ae6a541",
   "metadata": {},
   "outputs": [
    {
     "data": {
      "text/html": [
       "<div>\n",
       "<style scoped>\n",
       "    .dataframe tbody tr th:only-of-type {\n",
       "        vertical-align: middle;\n",
       "    }\n",
       "\n",
       "    .dataframe tbody tr th {\n",
       "        vertical-align: top;\n",
       "    }\n",
       "\n",
       "    .dataframe thead th {\n",
       "        text-align: right;\n",
       "    }\n",
       "</style>\n",
       "<table border=\"1\" class=\"dataframe\">\n",
       "  <thead>\n",
       "    <tr style=\"text-align: right;\">\n",
       "      <th></th>\n",
       "      <th>fico_bin</th>\n",
       "      <th>gen4_underwriting_bin</th>\n",
       "      <th>non_member_cnt</th>\n",
       "      <th>non_member_target_v2</th>\n",
       "      <th>member_cnt</th>\n",
       "      <th>member_target_v2</th>\n",
       "      <th>gen4_prescreen_bin</th>\n",
       "      <th>pre_cnt</th>\n",
       "      <th>pre_target_v2</th>\n",
       "    </tr>\n",
       "  </thead>\n",
       "  <tbody>\n",
       "    <tr>\n",
       "      <th>0</th>\n",
       "      <td>(299.999, 310.0]</td>\n",
       "      <td>(299.999, 310.0]</td>\n",
       "      <td>0.0</td>\n",
       "      <td>NaN</td>\n",
       "      <td>0.0</td>\n",
       "      <td>NaN</td>\n",
       "      <td>(299.999, 310.0]</td>\n",
       "      <td>0.0</td>\n",
       "      <td>NaN</td>\n",
       "    </tr>\n",
       "    <tr>\n",
       "      <th>1</th>\n",
       "      <td>(299.999, 310.0]</td>\n",
       "      <td>(310.0, 320.0]</td>\n",
       "      <td>0.0</td>\n",
       "      <td>NaN</td>\n",
       "      <td>0.0</td>\n",
       "      <td>NaN</td>\n",
       "      <td>(310.0, 320.0]</td>\n",
       "      <td>0.0</td>\n",
       "      <td>NaN</td>\n",
       "    </tr>\n",
       "    <tr>\n",
       "      <th>2</th>\n",
       "      <td>(299.999, 310.0]</td>\n",
       "      <td>(320.0, 330.0]</td>\n",
       "      <td>0.0</td>\n",
       "      <td>NaN</td>\n",
       "      <td>0.0</td>\n",
       "      <td>NaN</td>\n",
       "      <td>(320.0, 330.0]</td>\n",
       "      <td>0.0</td>\n",
       "      <td>NaN</td>\n",
       "    </tr>\n",
       "    <tr>\n",
       "      <th>3</th>\n",
       "      <td>(299.999, 310.0]</td>\n",
       "      <td>(330.0, 340.0]</td>\n",
       "      <td>0.0</td>\n",
       "      <td>NaN</td>\n",
       "      <td>0.0</td>\n",
       "      <td>NaN</td>\n",
       "      <td>(330.0, 340.0]</td>\n",
       "      <td>0.0</td>\n",
       "      <td>NaN</td>\n",
       "    </tr>\n",
       "    <tr>\n",
       "      <th>4</th>\n",
       "      <td>(299.999, 310.0]</td>\n",
       "      <td>(340.0, 350.0]</td>\n",
       "      <td>0.0</td>\n",
       "      <td>NaN</td>\n",
       "      <td>0.0</td>\n",
       "      <td>NaN</td>\n",
       "      <td>(340.0, 350.0]</td>\n",
       "      <td>0.0</td>\n",
       "      <td>NaN</td>\n",
       "    </tr>\n",
       "    <tr>\n",
       "      <th>...</th>\n",
       "      <td>...</td>\n",
       "      <td>...</td>\n",
       "      <td>...</td>\n",
       "      <td>...</td>\n",
       "      <td>...</td>\n",
       "      <td>...</td>\n",
       "      <td>...</td>\n",
       "      <td>...</td>\n",
       "      <td>...</td>\n",
       "    </tr>\n",
       "    <tr>\n",
       "      <th>3020</th>\n",
       "      <td>(840.0, 850.0]</td>\n",
       "      <td>(800.0, 810.0]</td>\n",
       "      <td>144.5</td>\n",
       "      <td>0.014853</td>\n",
       "      <td>12.0</td>\n",
       "      <td>0.002221</td>\n",
       "      <td>(800.0, 810.0]</td>\n",
       "      <td>155.5</td>\n",
       "      <td>0.023949</td>\n",
       "    </tr>\n",
       "    <tr>\n",
       "      <th>3021</th>\n",
       "      <td>(840.0, 850.0]</td>\n",
       "      <td>(810.0, 820.0]</td>\n",
       "      <td>133.5</td>\n",
       "      <td>0.011133</td>\n",
       "      <td>10.0</td>\n",
       "      <td>0.001766</td>\n",
       "      <td>(810.0, 820.0]</td>\n",
       "      <td>137.5</td>\n",
       "      <td>0.013120</td>\n",
       "    </tr>\n",
       "    <tr>\n",
       "      <th>3022</th>\n",
       "      <td>(840.0, 850.0]</td>\n",
       "      <td>(820.0, 830.0]</td>\n",
       "      <td>119.0</td>\n",
       "      <td>0.008927</td>\n",
       "      <td>15.0</td>\n",
       "      <td>0.001890</td>\n",
       "      <td>(820.0, 830.0]</td>\n",
       "      <td>136.5</td>\n",
       "      <td>0.009609</td>\n",
       "    </tr>\n",
       "    <tr>\n",
       "      <th>3023</th>\n",
       "      <td>(840.0, 850.0]</td>\n",
       "      <td>(830.0, 840.0]</td>\n",
       "      <td>111.0</td>\n",
       "      <td>0.019474</td>\n",
       "      <td>14.5</td>\n",
       "      <td>0.001443</td>\n",
       "      <td>(830.0, 840.0]</td>\n",
       "      <td>166.0</td>\n",
       "      <td>0.013700</td>\n",
       "    </tr>\n",
       "    <tr>\n",
       "      <th>3024</th>\n",
       "      <td>(840.0, 850.0]</td>\n",
       "      <td>(840.0, 850.0]</td>\n",
       "      <td>470.0</td>\n",
       "      <td>0.005795</td>\n",
       "      <td>202.0</td>\n",
       "      <td>0.003528</td>\n",
       "      <td>(840.0, 850.0]</td>\n",
       "      <td>624.5</td>\n",
       "      <td>0.005337</td>\n",
       "    </tr>\n",
       "  </tbody>\n",
       "</table>\n",
       "<p>3025 rows × 9 columns</p>\n",
       "</div>"
      ],
      "text/plain": [
       "              fico_bin gen4_underwriting_bin  non_member_cnt  non_member_target_v2  member_cnt  member_target_v2 gen4_prescreen_bin  pre_cnt  pre_target_v2\n",
       "0     (299.999, 310.0]      (299.999, 310.0]             0.0                   NaN         0.0               NaN   (299.999, 310.0]      0.0            NaN\n",
       "1     (299.999, 310.0]        (310.0, 320.0]             0.0                   NaN         0.0               NaN     (310.0, 320.0]      0.0            NaN\n",
       "2     (299.999, 310.0]        (320.0, 330.0]             0.0                   NaN         0.0               NaN     (320.0, 330.0]      0.0            NaN\n",
       "3     (299.999, 310.0]        (330.0, 340.0]             0.0                   NaN         0.0               NaN     (330.0, 340.0]      0.0            NaN\n",
       "4     (299.999, 310.0]        (340.0, 350.0]             0.0                   NaN         0.0               NaN     (340.0, 350.0]      0.0            NaN\n",
       "...                ...                   ...             ...                   ...         ...               ...                ...      ...            ...\n",
       "3020    (840.0, 850.0]        (800.0, 810.0]           144.5              0.014853        12.0          0.002221     (800.0, 810.0]    155.5       0.023949\n",
       "3021    (840.0, 850.0]        (810.0, 820.0]           133.5              0.011133        10.0          0.001766     (810.0, 820.0]    137.5       0.013120\n",
       "3022    (840.0, 850.0]        (820.0, 830.0]           119.0              0.008927        15.0          0.001890     (820.0, 830.0]    136.5       0.009609\n",
       "3023    (840.0, 850.0]        (830.0, 840.0]           111.0              0.019474        14.5          0.001443     (830.0, 840.0]    166.0       0.013700\n",
       "3024    (840.0, 850.0]        (840.0, 850.0]           470.0              0.005795       202.0          0.003528     (840.0, 850.0]    624.5       0.005337\n",
       "\n",
       "[3025 rows x 9 columns]"
      ]
     },
     "execution_count": 31,
     "metadata": {},
     "output_type": "execute_result"
    }
   ],
   "source": [
    "df_cnt"
   ]
  },
  {
   "cell_type": "code",
   "execution_count": 32,
   "id": "756da6a5",
   "metadata": {},
   "outputs": [],
   "source": [
    "df_cnt.to_csv('./artifacts/df_cnt_oot.csv')"
   ]
  },
  {
   "cell_type": "code",
   "execution_count": null,
   "id": "5ee776d8",
   "metadata": {},
   "outputs": [],
   "source": []
  }
 ],
 "metadata": {
  "kernelspec": {
   "display_name": "conda_pl_gen4",
   "language": "python",
   "name": "conda_pl_gen4"
  },
  "language_info": {
   "codemirror_mode": {
    "name": "ipython",
    "version": 3
   },
   "file_extension": ".py",
   "mimetype": "text/x-python",
   "name": "python",
   "nbconvert_exporter": "python",
   "pygments_lexer": "ipython3",
   "version": "3.7.12"
  }
 },
 "nbformat": 4,
 "nbformat_minor": 5
}
