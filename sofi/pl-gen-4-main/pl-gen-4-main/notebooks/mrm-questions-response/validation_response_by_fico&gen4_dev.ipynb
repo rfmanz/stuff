{
 "cells": [
  {
   "cell_type": "code",
   "execution_count": 1,
   "id": "731a4683",
   "metadata": {},
   "outputs": [
    {
     "name": "stdout",
     "output_type": "stream",
     "text": [
      "3.2.1\n"
     ]
    }
   ],
   "source": [
    "import sys, os, json, copy, sklearn, shap, gc, joblib, copy, time, ast\n",
    "import pandas as pd\n",
    "import numpy as np\n",
    "import lightgbm as lgb\n",
    "from lightgbm import LGBMClassifier\n",
    "import pickle as pkl\n",
    "from tqdm import tqdm\n",
    "from smart_open import open\n",
    "import seaborn as sns\n",
    "from sklearn.metrics import roc_curve,roc_auc_score, precision_score, recall_score, accuracy_score, confusion_matrix\n",
    "import matplotlib.pyplot as plt\n",
    "from rdsutils.woe import WOE_Transform                                            \n",
    "from rdsutils.metrics import get_pred_reports\n",
    "\n",
    "\n",
    "sys.path.insert(1, \"./to_MRM/utility\")\n",
    "from performance_eval_plot import score_gain, plot_efficient_frontier, plot_percentile_bad_rate\n",
    "import performance_eval_v3 as p_eval\n",
    "import data_summary, woe, data_eda, psi\n",
    "from governance import get_risk_plot,get_feature_by_importance, get_pdp, get_shap_dependence, pickle_obj, save_shap_dependence,\\\n",
    "    save_pdp, plot_hist, get_woe_plots\n",
    "\n",
    "pd.set_option('display.max_columns', 20)\n",
    "pd.set_option('display.width', 500)\n",
    "pd.set_option('display.max_colwidth', None)\n",
    "\n",
    "%load_ext autoreload\n",
    "%autoreload 2\n",
    "\n",
    "print(lgb.__version__)"
   ]
  },
  {
   "cell_type": "code",
   "execution_count": 2,
   "id": "f290bfef",
   "metadata": {},
   "outputs": [],
   "source": [
    "config_path = \"s3://sofi-data-science/hpeng/pl-gen4/artifact/config.json\"\n",
    "artifact_path = \"s3://sofi-data-science/hpeng/pl-gen4/artifact\"\n",
    "with open(os.path.join(config_path), \"r\") as f:\n",
    "    config = json.load(f)"
   ]
  },
  {
   "cell_type": "code",
   "execution_count": 3,
   "id": "e87feb5e",
   "metadata": {},
   "outputs": [],
   "source": [
    "exp_dict = pd.read_csv(config[\"meta\"][\"exp_dict_path\"])\n",
    "af_dict = pd.read_csv(config[\"meta\"][\"af_member_cust_dict_path\"])"
   ]
  },
  {
   "cell_type": "code",
   "execution_count": 5,
   "id": "47a9fc4b",
   "metadata": {},
   "outputs": [
    {
     "name": "stderr",
     "output_type": "stream",
     "text": [
      "Trying to unpickle estimator LabelEncoder from version 0.24.1 when using version 1.0.1. This might lead to breaking code or invalid results. Use at your own risk. For more info please refer to:\n",
      "https://scikit-learn.org/stable/modules/model_persistence.html#security-maintainability-limitations\n"
     ]
    }
   ],
   "source": [
    "model_member = pkl.load(open('./to_MRM/artifact/'+'member'+'_final_model.pkl', 'rb'))\n",
    "model_non_member = pkl.load(open('./to_MRM/artifact/'+'non_member'+'_final_model.pkl', 'rb'))\n",
    "model_prescreen = pkl.load(open('./to_MRM/artifact/'+'prescreen'+'_final_model.pkl', 'rb'))"
   ]
  },
  {
   "cell_type": "code",
   "execution_count": 6,
   "id": "03468031",
   "metadata": {},
   "outputs": [],
   "source": [
    "feature_list = model_prescreen.feature_name_ + model_member.feature_name_ + model_non_member.feature_name_  + config[\"data_columns\"][\"weights\"] \\\n",
    "            + config[\"data_columns\"][\"target_cols\"] + config[\"data_columns\"][\"benchmark_cols\"] + \\\n",
    "            config[\"data_columns\"][\"meta_cols\"] + ['all_time_lending_member_flag'] + ['funds_use_encode_v2','income_update']\n",
    "feature_list = pd.unique(feature_list).tolist()"
   ]
  },
  {
   "cell_type": "code",
   "execution_count": 7,
   "id": "ce4cf6bd",
   "metadata": {},
   "outputs": [],
   "source": [
    "df_oot1_full = pd.read_parquet(config[\"data\"][\"clean\"][\"all_features_dev1\"], columns = feature_list)\n",
    "df_oot2_full = pd.read_parquet(config[\"data\"][\"clean\"][\"all_features_dev2\"], columns = feature_list)\n",
    "df_oot_full = pd.concat([df_oot1_full, df_oot2_full], axis=0, ignore_index=True)\n",
    "\n",
    "df_oot_full['seg'] = 'other'\n",
    "df_oot_full.loc[(df_oot_full.all_time_lending_member_flag==1), 'seg'] = 'member'\n",
    "df_oot_full.loc[(df_oot_full.all_time_lending_member_flag!=1), 'seg'] = 'non_member'"
   ]
  },
  {
   "cell_type": "code",
   "execution_count": 8,
   "id": "1f169e0d",
   "metadata": {},
   "outputs": [
    {
     "name": "stderr",
     "output_type": "stream",
     "text": [
      "100%|██████████| 88/88 [00:12<00:00,  6.87it/s]\n"
     ]
    },
    {
     "data": {
      "text/plain": [
       "30"
      ]
     },
     "execution_count": 8,
     "metadata": {},
     "output_type": "execute_result"
    }
   ],
   "source": [
    "def categorical_to_nan(series, categorical_list):\n",
    "    \"\"\" given series and a list of catergorical values\n",
    "    \n",
    "    replace the categorical occurances to nan\n",
    "    \"\"\"\n",
    "    if len(categorical_list) == 0:\n",
    "        return series\n",
    "    mapper = dict((k, np.nan) for k in categorical_list)\n",
    "    return series.replace(mapper)\n",
    "\n",
    "no_special_list = []\n",
    "\n",
    "for col in tqdm(feature_list):\n",
    "    try:\n",
    "        special_val = ast.literal_eval(exp_dict[exp_dict.field_name == col].categorical.iloc[0])\n",
    "        special_val = [int(i) for i in special_val]\n",
    "        df_oot_full[col] = categorical_to_nan(df_oot_full[col], special_val)\n",
    "    except:\n",
    "        no_special_list.append(col)\n",
    "        \n",
    "len(no_special_list)"
   ]
  },
  {
   "cell_type": "code",
   "execution_count": 10,
   "id": "27678e2b",
   "metadata": {},
   "outputs": [
    {
     "name": "stderr",
     "output_type": "stream",
     "text": [
      "100%|██████████| 31/31 [00:00<00:00, 1041.66it/s]\n"
     ]
    },
    {
     "name": "stdout",
     "output_type": "stream",
     "text": [
      "no special value for p13_iqz9420\n",
      "no special value for p13_iqz9426\n",
      "no special value for sofi_num_inq_12month\n"
     ]
    },
    {
     "name": "stderr",
     "output_type": "stream",
     "text": [
      " 35%|███▌      | 11/31 [00:00<00:00, 98.33it/s]"
     ]
    },
    {
     "name": "stdout",
     "output_type": "stream",
     "text": [
      "no special value for p13_iqz9427\n"
     ]
    },
    {
     "name": "stderr",
     "output_type": "stream",
     "text": [
      "100%|██████████| 31/31 [00:00<00:00, 99.02it/s] \n"
     ]
    },
    {
     "name": "stdout",
     "output_type": "stream",
     "text": [
      "no special value for sofi_num_inq_1month\n",
      "no special value for sofi_num_inq_3month\n",
      "no special value for sofi_num_inq_personal_finance\n"
     ]
    },
    {
     "name": "stderr",
     "output_type": "stream",
     "text": [
      "  0%|          | 0/31 [00:00<?, ?it/s]"
     ]
    },
    {
     "name": "stdout",
     "output_type": "stream",
     "text": [
      "no special value for p13_iqz9420\n"
     ]
    },
    {
     "name": "stderr",
     "output_type": "stream",
     "text": [
      " 71%|███████   | 22/31 [00:00<00:00, 86.23it/s] "
     ]
    },
    {
     "name": "stdout",
     "output_type": "stream",
     "text": [
      "no special value for p13_iqz9425\n"
     ]
    },
    {
     "name": "stderr",
     "output_type": "stream",
     "text": [
      "100%|██████████| 31/31 [00:00<00:00, 79.20it/s]\n"
     ]
    }
   ],
   "source": [
    "df_oot_full_member_ = df_oot_full[df_oot_full.seg=='member'].copy()\n",
    "df_oot_full_non_member_ = df_oot_full[df_oot_full.seg=='non_member'].copy()\n",
    "df_oot_full_prescreen_ = df_oot_full.copy()\n",
    "\n",
    "impute_vals_member = pkl.load(open('./to_MRM/artifact/'+'member'+'_final_imputed_val.pkl', 'rb'))\n",
    "impute_vals_non_member = pkl.load(open('./to_MRM/artifact/'+'non_member'+'_final_imputed_val.pkl', 'rb'))\n",
    "impute_vals_prescreen = pkl.load(open('./to_MRM/artifact/'+'prescreen'+'_final_imputed_val.pkl', 'rb'))\n",
    "\n",
    "for f in tqdm(model_member.feature_name_):\n",
    "    try:\n",
    "        val = impute_vals_member[f]\n",
    "        df_oot_full_member_[f].fillna(val, inplace=True)\n",
    "    except:\n",
    "        print(\"no special value for \" + f)    \n",
    "        \n",
    "for f in tqdm(model_non_member.feature_name_):\n",
    "    try:\n",
    "        val = impute_vals_non_member[f]\n",
    "        df_oot_full_non_member_[f].fillna(val, inplace=True)\n",
    "    except:\n",
    "        print(\"no special value for \" + f)\n",
    "        \n",
    "for f in tqdm(model_prescreen.feature_name_):\n",
    "    try:\n",
    "        val = impute_vals_prescreen[f]\n",
    "        df_oot_full_prescreen_[f].fillna(val, inplace=True)\n",
    "    except:\n",
    "        print(\"no special value for \" + f)"
   ]
  },
  {
   "cell_type": "code",
   "execution_count": 11,
   "id": "f6214722",
   "metadata": {},
   "outputs": [],
   "source": [
    "df_oot_full_member_['gen4_underwriting_prob'] = model_member.predict_proba(df_oot_full_member_[model_member.feature_name_])[:,1]\n",
    "df_oot_full_non_member_['gen4_underwriting_prob'] = model_non_member.predict_proba(df_oot_full_non_member_[model_non_member.feature_name_])[:,1]\n",
    "df_oot_ = pd.concat([df_oot_full_member_, df_oot_full_non_member_], axis=0, ignore_index=True)\n",
    "df_oot_[\"weight_eval\"] = df_oot_[\"weight_cob\"] * df_oot_[\"weight_ri_v2\"]\n",
    "\n",
    "df_oot_full_prescreen_['gen4_prescreen_prob'] = model_prescreen.predict_proba(df_oot_full_prescreen_[model_prescreen.feature_name_])[:,1]\n",
    "df_oot_full_prescreen_[\"weight_eval\"] = df_oot_full_prescreen_[\"weight_cob\"] * df_oot_full_prescreen_[\"weight_ri_v2\"]"
   ]
  },
  {
   "cell_type": "code",
   "execution_count": 12,
   "id": "0c11b8be",
   "metadata": {},
   "outputs": [
    {
     "data": {
      "text/plain": [
       "non_member    4080905\n",
       "member         323859\n",
       "Name: seg, dtype: int64"
      ]
     },
     "execution_count": 12,
     "metadata": {},
     "output_type": "execute_result"
    }
   ],
   "source": [
    "df_oot_.seg.value_counts()"
   ]
  },
  {
   "cell_type": "code",
   "execution_count": 13,
   "id": "0ee2db2f",
   "metadata": {},
   "outputs": [
    {
     "data": {
      "text/plain": [
       "(4404764, 91)"
      ]
     },
     "execution_count": 13,
     "metadata": {},
     "output_type": "execute_result"
    }
   ],
   "source": [
    "df_oot_full_prescreen_.shape"
   ]
  },
  {
   "cell_type": "code",
   "execution_count": 16,
   "id": "c65adedc",
   "metadata": {},
   "outputs": [],
   "source": [
    "df_oot_ = pd.merge(df_oot_, df_oot_full_prescreen_[['gen4_prescreen_prob','id','applicant_type','date_start','weight_eval']],\n",
    "              how = 'inner', on = ['id', 'applicant_type', 'date_start','weight_eval'])"
   ]
  },
  {
   "cell_type": "code",
   "execution_count": 17,
   "id": "866a0626",
   "metadata": {},
   "outputs": [],
   "source": [
    "factor = 40/np.log(2)\n",
    "offset = 650 - factor * np.log(5)\n",
    "\n",
    "df_oot_['uw_log_odds'] = np.log((1 - df_oot_['gen4_underwriting_prob'])/df_oot_['gen4_underwriting_prob'])\n",
    "df_oot_['uw_odds'] = ((1 - df_oot_['gen4_underwriting_prob'])/df_oot_['gen4_underwriting_prob'])\n",
    "\n",
    "df_oot_['gen4_underwriting_score'] = round(offset+factor*df_oot_['uw_log_odds'])\n",
    "df_oot_.loc[df_oot_.gen4_underwriting_score>850,'gen4_underwriting_score']=850\n",
    "df_oot_.loc[df_oot_.gen4_underwriting_score<300,'gen4_underwriting_score']=300\n",
    "\n",
    "df_oot_['pr_log_odds'] = np.log((1 - df_oot_['gen4_prescreen_prob'])/df_oot_['gen4_prescreen_prob'])\n",
    "df_oot_['pr_odds'] = ((1 - df_oot_['gen4_prescreen_prob'])/df_oot_['gen4_prescreen_prob'])\n",
    "\n",
    "df_oot_['gen4_prescreen_score'] = round(offset+factor*df_oot_['pr_log_odds'])\n",
    "df_oot_.loc[df_oot_.gen4_prescreen_score>850,'gen4_prescreen_score']=850\n",
    "df_oot_.loc[df_oot_.gen4_prescreen_score<300,'gen4_prescreen_score']=300"
   ]
  },
  {
   "cell_type": "code",
   "execution_count": 24,
   "id": "55848c35",
   "metadata": {},
   "outputs": [
    {
     "data": {
      "text/plain": [
       "0.007957322852943635"
      ]
     },
     "execution_count": 24,
     "metadata": {},
     "output_type": "execute_result"
    }
   ],
   "source": [
    "df_oot_[df_oot_['applicant_fico_score']>850].id.nunique()/df_oot_.id.nunique()"
   ]
  },
  {
   "cell_type": "code",
   "execution_count": 27,
   "id": "08121054",
   "metadata": {},
   "outputs": [
    {
     "data": {
      "text/plain": [
       "count    38884.000000\n",
       "mean       556.440284\n",
       "std         29.990566\n",
       "min        419.000000\n",
       "25%        542.000000\n",
       "50%        554.000000\n",
       "75%        564.000000\n",
       "max        850.000000\n",
       "Name: gen4_underwriting_score, dtype: float64"
      ]
     },
     "execution_count": 27,
     "metadata": {},
     "output_type": "execute_result"
    }
   ],
   "source": [
    "df_oot_[df_oot_['applicant_fico_score']>850].gen4_underwriting_score.describe()"
   ]
  },
  {
   "cell_type": "code",
   "execution_count": 26,
   "id": "eb9b00ee",
   "metadata": {},
   "outputs": [],
   "source": [
    "df_analysis = df_oot_[df_oot_['applicant_fico_score']<=850].copy()"
   ]
  },
  {
   "cell_type": "code",
   "execution_count": 42,
   "id": "55a4248b",
   "metadata": {},
   "outputs": [],
   "source": [
    "df_analysis['fico_bin'] = pd.cut(df_analysis['applicant_fico_score'],np.arange(300,860,10),right=True, include_lowest=True)\n",
    "df_analysis['gen4_prescreen_bin'] = pd.cut(df_analysis['gen4_prescreen_score'],np.arange(300,860,10),right=True, include_lowest=True)\n",
    "df_analysis['gen4_underwriting_bin'] = pd.cut(df_analysis['gen4_underwriting_score'],np.arange(300,860,10),right=True, include_lowest=True)"
   ]
  },
  {
   "cell_type": "code",
   "execution_count": 57,
   "id": "1161e4f1",
   "metadata": {},
   "outputs": [],
   "source": [
    "ds = data_summary.DataSummary(df_analysis,['target_v2'],segment=['fico_bin','gen4_prescreen_bin'],weight='weight_eval')\n",
    "df_cnt_prescreen = ds.get_report()\n",
    "df_cnt_prescreen = df_cnt_prescreen.rename(columns={'total cnt': 'pre_cnt','target_v2': 'pre_target_v2'})"
   ]
  },
  {
   "cell_type": "code",
   "execution_count": 58,
   "id": "26faf61a",
   "metadata": {},
   "outputs": [],
   "source": [
    "ds = data_summary.DataSummary(df_analysis[df_analysis.seg=='member'],['target_v2'],segment=['fico_bin','gen4_underwriting_bin'],weight='weight_eval')\n",
    "df_cnt_member = ds.get_report()\n",
    "df_cnt_member = df_cnt_member.rename(columns={'total cnt': 'member_cnt','target_v2': 'member_target_v2'})"
   ]
  },
  {
   "cell_type": "code",
   "execution_count": 59,
   "id": "12367987",
   "metadata": {},
   "outputs": [],
   "source": [
    "ds = data_summary.DataSummary(df_analysis[df_analysis.seg!='member'],['target_v2'],segment=['fico_bin','gen4_underwriting_bin'],weight='weight_eval')\n",
    "df_cnt_non_member = ds.get_report()\n",
    "df_cnt_non_member = df_cnt_non_member.rename(columns={'total cnt': 'non_member_cnt','target_v2': 'non_member_target_v2'})"
   ]
  },
  {
   "cell_type": "code",
   "execution_count": 61,
   "id": "4c195b87",
   "metadata": {},
   "outputs": [],
   "source": [
    "df_cnt = pd.merge(df_cnt_non_member, df_cnt_member, on =['fico_bin','gen4_underwriting_bin'], how='outer')\n",
    "df_cnt = pd.merge(df_cnt, df_cnt_prescreen, how = 'outer', left_on =['fico_bin','gen4_underwriting_bin'], right_on = ['fico_bin','gen4_prescreen_bin'])"
   ]
  },
  {
   "cell_type": "code",
   "execution_count": 65,
   "id": "d47d51e7",
   "metadata": {},
   "outputs": [],
   "source": [
    "df_cnt.to_csv('./artifacts/df_cnt_dev.csv')"
   ]
  },
  {
   "cell_type": "code",
   "execution_count": null,
   "id": "8c5c395d",
   "metadata": {},
   "outputs": [],
   "source": []
  },
  {
   "cell_type": "code",
   "execution_count": null,
   "id": "45428962",
   "metadata": {},
   "outputs": [],
   "source": []
  }
 ],
 "metadata": {
  "kernelspec": {
   "display_name": "conda_pl_gen4",
   "language": "python",
   "name": "conda_pl_gen4"
  },
  "language_info": {
   "codemirror_mode": {
    "name": "ipython",
    "version": 3
   },
   "file_extension": ".py",
   "mimetype": "text/x-python",
   "name": "python",
   "nbconvert_exporter": "python",
   "pygments_lexer": "ipython3",
   "version": "3.7.12"
  }
 },
 "nbformat": 4,
 "nbformat_minor": 5
}
