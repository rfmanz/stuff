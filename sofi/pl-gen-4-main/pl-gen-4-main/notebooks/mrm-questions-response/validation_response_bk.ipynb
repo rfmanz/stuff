{
 "cells": [
  {
   "cell_type": "code",
   "execution_count": 1,
   "id": "64cc95ed",
   "metadata": {},
   "outputs": [
    {
     "ename": "ModuleNotFoundError",
     "evalue": "No module named 'pandas'",
     "output_type": "error",
     "traceback": [
      "\u001b[0;31m---------------------------------------------------------------------------\u001b[0m",
      "\u001b[0;31mModuleNotFoundError\u001b[0m                       Traceback (most recent call last)",
      "\u001b[0;32m<ipython-input-1-c2caa7391261>\u001b[0m in \u001b[0;36m<module>\u001b[0;34m\u001b[0m\n\u001b[1;32m      1\u001b[0m \u001b[0;32mimport\u001b[0m \u001b[0mnumpy\u001b[0m \u001b[0;32mas\u001b[0m \u001b[0mnp\u001b[0m\u001b[0;34m\u001b[0m\u001b[0;34m\u001b[0m\u001b[0m\n\u001b[0;32m----> 2\u001b[0;31m \u001b[0;32mimport\u001b[0m \u001b[0mpandas\u001b[0m \u001b[0;32mas\u001b[0m \u001b[0mpd\u001b[0m\u001b[0;34m\u001b[0m\u001b[0;34m\u001b[0m\u001b[0m\n\u001b[0m\u001b[1;32m      3\u001b[0m \u001b[0;32mimport\u001b[0m \u001b[0mos\u001b[0m\u001b[0;34m\u001b[0m\u001b[0;34m\u001b[0m\u001b[0m\n\u001b[1;32m      4\u001b[0m \u001b[0;32mimport\u001b[0m \u001b[0mgc\u001b[0m\u001b[0;34m\u001b[0m\u001b[0;34m\u001b[0m\u001b[0m\n",
      "\u001b[0;31mModuleNotFoundError\u001b[0m: No module named 'pandas'"
     ]
    }
   ],
   "source": [
    "import numpy as np\n",
    "import pandas as pd\n",
    "import os\n",
    "import gc"
   ]
  },
  {
   "cell_type": "code",
   "execution_count": 2,
   "id": "f1551895",
   "metadata": {},
   "outputs": [],
   "source": [
    "df17 = pd.read_parquet(f's3://sofi-data-science/hpeng/pl-gen4/data_dump/cleaned_tables/uw/all_features_dev1_sample_encoding_v1.parquet')"
   ]
  },
  {
   "cell_type": "code",
   "execution_count": 3,
   "id": "bce0012c",
   "metadata": {},
   "outputs": [],
   "source": [
    "df18 = pd.read_parquet(f's3://sofi-data-science/hpeng/pl-gen4/data_dump/cleaned_tables/uw/all_features_dev2_sample_encoding_v1.parquet')"
   ]
  },
  {
   "cell_type": "code",
   "execution_count": 4,
   "id": "8c191b7c",
   "metadata": {},
   "outputs": [],
   "source": [
    "df_dev = pd.concat([df17, df18], axis=0, ignore_index=True)"
   ]
  },
  {
   "cell_type": "code",
   "execution_count": 8,
   "id": "3452e235",
   "metadata": {},
   "outputs": [
    {
     "data": {
      "text/plain": [
       "15752    None\n",
       "15753    None\n",
       "15754    None\n",
       "15755    None\n",
       "15756    None\n",
       "         ... \n",
       "15847    None\n",
       "15848    None\n",
       "15849    None\n",
       "15850    None\n",
       "15851    None\n",
       "Name: status_string, Length: 100, dtype: object"
      ]
     },
     "execution_count": 8,
     "metadata": {},
     "output_type": "execute_result"
    }
   ],
   "source": [
    "df_dev[df_dev.is_funded == 0]['status_string'].head(100)"
   ]
  },
  {
   "cell_type": "code",
   "execution_count": 19,
   "id": "744cabdc",
   "metadata": {},
   "outputs": [],
   "source": [
    "df_dev['bad1'] = np.where((df_dev['status_string'].str[0:24].str.contains('4|5|6|B|D|W')),1\n",
    "                                 ,np.where(~df_dev.status_string.isnull(), 0, np.nan))\n",
    "df_dev['bad_bk'] = np.where((df_dev['status_string'].str[0:24].str.contains('B'))\n",
    "                          &(df_dev['bad1']!=1),1\n",
    "                                 ,np.where(~df_dev.status_string.isnull(), 0, np.nan))\n",
    "df_dev['bad_bk1'] = np.where((df_dev['status_string'].str[0:24].str.contains('B'))\n",
    "                          ,1\n",
    "                                 ,np.where(~df_dev.status_string.isnull(), 0, np.nan))\n",
    "df_dev['bad_bk2'] = np.where((df_dev['status_string'].str[0:24].str.contains('B'))\n",
    "                          &(df_dev['status_string'].str[0:24].str.contains('4|5|6')),1\n",
    "                                 ,np.where(~df_dev.status_string.isnull(), 0, np.nan))"
   ]
  },
  {
   "cell_type": "code",
   "execution_count": 20,
   "id": "ca8e96d7",
   "metadata": {},
   "outputs": [],
   "source": [
    "df = df_dev[(df_dev.is_funded == 1) & (df_dev.applicant_type=='PRIMARY')].copy()"
   ]
  },
  {
   "cell_type": "code",
   "execution_count": 21,
   "id": "284652a2",
   "metadata": {},
   "outputs": [
    {
     "data": {
      "text/plain": [
       "bad1       0.060735\n",
       "bad_bk     0.000000\n",
       "bad_bk1    0.007418\n",
       "bad_bk2    0.001169\n",
       "dtype: float64"
      ]
     },
     "execution_count": 21,
     "metadata": {},
     "output_type": "execute_result"
    }
   ],
   "source": [
    "df[['bad1','bad_bk','bad_bk1','bad_bk2']].mean()"
   ]
  },
  {
   "cell_type": "code",
   "execution_count": 18,
   "id": "c37b125c",
   "metadata": {},
   "outputs": [
    {
     "data": {
      "text/plain": [
       "329          CCCCCCCCCCCBBDWWWWWWWWWWWWWWWWWWWWWWWWWWWWWW\n",
       "487     CCCCCCCCCCCCCCCC24BDDDWWWWWWWWWWWWWWWWWWWWWWWW...\n",
       "640     CCCCCCC3BBDDDDWWWWWWWWWWWWWWWWWWWWWWWWWWWWWWWW...\n",
       "835          CCCCCCCCCCCCCCCC2BBDWWWWWWWWWWWWWWWWWWWWWWWW\n",
       "999             CCCCCCCCCCCCCCCCCCCBBDDWWWWWWWWWWWWWWWWWW\n",
       "1245         CCCCCCCCCCCCCCCCBBDDDDDDDDDDDDDDDDDDDDDDDDDD\n",
       "1320      CCCCCCCCCCCCCCCCCCCBBDDDDDDDDDDDDDDDDDDDDDDDDDD\n",
       "1405    CCCCCCCCCCCCCCC23BDDDDDDDDDDDDDDDDDDDDDDDDDDDDDDD\n",
       "1453        CCCCCCCCCCCCCCC34BDDDDDDDDDDDDDDDDDDDDDDDDDDD\n",
       "1482     CCCCCCCCCCCCCCCCCCBBDDDDDDDDDDDDDDDDDDDDDDDDDDDD\n",
       "Name: status_string, dtype: object"
      ]
     },
     "execution_count": 18,
     "metadata": {},
     "output_type": "execute_result"
    }
   ],
   "source": [
    "df[df.bad_bk1==1].status_string.head(10)"
   ]
  },
  {
   "cell_type": "code",
   "execution_count": 22,
   "id": "3774cff9",
   "metadata": {},
   "outputs": [
    {
     "data": {
      "text/plain": [
       "0.15758964680506873"
      ]
     },
     "execution_count": 22,
     "metadata": {},
     "output_type": "execute_result"
    }
   ],
   "source": [
    "0.001169/0.007418"
   ]
  },
  {
   "cell_type": "code",
   "execution_count": null,
   "id": "71b5b211",
   "metadata": {},
   "outputs": [],
   "source": []
  }
 ],
 "metadata": {
  "kernelspec": {
   "display_name": "conda_python3",
   "language": "python",
   "name": "conda_python3"
  },
  "language_info": {
   "codemirror_mode": {
    "name": "ipython",
    "version": 3
   },
   "file_extension": ".py",
   "mimetype": "text/x-python",
   "name": "python",
   "nbconvert_exporter": "python",
   "pygments_lexer": "ipython3",
   "version": "3.6.13"
  }
 },
 "nbformat": 4,
 "nbformat_minor": 5
}
