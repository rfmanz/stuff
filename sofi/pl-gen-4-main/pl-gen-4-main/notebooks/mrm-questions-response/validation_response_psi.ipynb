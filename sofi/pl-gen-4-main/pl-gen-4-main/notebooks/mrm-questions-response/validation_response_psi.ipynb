{
 "cells": [
  {
   "cell_type": "code",
   "execution_count": 1,
   "id": "4ee7fae7",
   "metadata": {},
   "outputs": [
    {
     "name": "stdout",
     "output_type": "stream",
     "text": [
      "3.2.1\n"
     ]
    }
   ],
   "source": [
    "import sys, os, json\n",
    "import pandas as pd\n",
    "import numpy as np\n",
    "import lightgbm as lgb\n",
    "from lightgbm import LGBMClassifier\n",
    "import pickle as pkl\n",
    "from tqdm import tqdm\n",
    "from smart_open import open\n",
    "\n",
    "import seaborn as sns\n",
    "from sklearn.metrics import roc_curve\n",
    "from sklearn.metrics import roc_auc_score, precision_score, recall_score, accuracy_score, confusion_matrix\n",
    "import matplotlib.pyplot as plt\n",
    "import shap\n",
    "\n",
    "import gc\n",
    "\n",
    "import shap\n",
    "import joblib\n",
    "from sklearn.model_selection import RandomizedSearchCV\n",
    "import time \n",
    "import warnings\n",
    "\n",
    "import copy\n",
    "from rdsutils.woe import WOE_Transform, get_monotone_dir \n",
    "\n",
    "#import rdsutils.plot as rdsplot\n",
    "from rdsutils.feature_selection import mrmr\n",
    "\n",
    "import ast\n",
    "from data import data_summary\n",
    "\n",
    "from data import woe\n",
    "from data import data_eda\n",
    "from data import psi\n",
    "from performance_eval import performance_eval_v3 as p_eval\n",
    "from model_trainer import model_trainer\n",
    "from feature_builder import feature_encoder\n",
    "from feature_selection import feature_selection as fs\n",
    "from data.preprocess import Preprocess\n",
    "from data.WeightedCorr import WeightedCorr\n",
    "from rdsutils.metrics import get_pred_reports\n",
    "from rdsutils.plot import plot_auc_curve_mult, plot_pr_curve_mult\n",
    "\n",
    "warnings.simplefilter(action='ignore')\n",
    "pd.set_option('display.max_columns', 20)\n",
    "pd.set_option('display.width', 500)\n",
    "\n",
    "%load_ext autoreload\n",
    "%autoreload 2\n",
    "\n",
    "print(lgb.__version__)"
   ]
  },
  {
   "cell_type": "code",
   "execution_count": 2,
   "id": "a74a5e59",
   "metadata": {},
   "outputs": [],
   "source": [
    "df_dev = pd.read_parquet(f's3://sofi-data-science/hpeng/pl-gen4/artifact/df_gen4_score_dev.parquet')"
   ]
  },
  {
   "cell_type": "code",
   "execution_count": 3,
   "id": "bb9ef0dd",
   "metadata": {},
   "outputs": [
    {
     "data": {
      "text/html": [
       "<div>\n",
       "<style scoped>\n",
       "    .dataframe tbody tr th:only-of-type {\n",
       "        vertical-align: middle;\n",
       "    }\n",
       "\n",
       "    .dataframe tbody tr th {\n",
       "        vertical-align: top;\n",
       "    }\n",
       "\n",
       "    .dataframe thead th {\n",
       "        text-align: right;\n",
       "    }\n",
       "</style>\n",
       "<table border=\"1\" class=\"dataframe\">\n",
       "  <thead>\n",
       "    <tr style=\"text-align: right;\">\n",
       "      <th></th>\n",
       "      <th>id</th>\n",
       "      <th>applicant_type</th>\n",
       "      <th>date_start</th>\n",
       "      <th>seg</th>\n",
       "      <th>ri_source</th>\n",
       "      <th>target_v2</th>\n",
       "      <th>weight_eval</th>\n",
       "      <th>gen4_prescreen_score</th>\n",
       "      <th>gen4_prescreen_prob</th>\n",
       "      <th>period</th>\n",
       "      <th>gen4_underwriting_prob</th>\n",
       "      <th>gen4_underwriting_score</th>\n",
       "      <th>gen3_score</th>\n",
       "      <th>fico_adj</th>\n",
       "      <th>applicant_vantage_score</th>\n",
       "      <th>funds_use_encode_v2</th>\n",
       "      <th>income_update</th>\n",
       "      <th>all_time_lending_member_flag</th>\n",
       "    </tr>\n",
       "  </thead>\n",
       "  <tbody>\n",
       "    <tr>\n",
       "      <th>0</th>\n",
       "      <td>4937215</td>\n",
       "      <td>PRIMARY</td>\n",
       "      <td>2017-10-20</td>\n",
       "      <td>member</td>\n",
       "      <td>others</td>\n",
       "      <td>0.0</td>\n",
       "      <td>0.9996</td>\n",
       "      <td>678.0</td>\n",
       "      <td>0.108869</td>\n",
       "      <td>dev17</td>\n",
       "      <td>0.107678</td>\n",
       "      <td>679.0</td>\n",
       "      <td>660.0</td>\n",
       "      <td>686.0</td>\n",
       "      <td>653.0</td>\n",
       "      <td>1</td>\n",
       "      <td>205000.0</td>\n",
       "      <td>1</td>\n",
       "    </tr>\n",
       "    <tr>\n",
       "      <th>1</th>\n",
       "      <td>4937215</td>\n",
       "      <td>PRIMARY</td>\n",
       "      <td>2017-10-20</td>\n",
       "      <td>member</td>\n",
       "      <td>others</td>\n",
       "      <td>1.0</td>\n",
       "      <td>0.0004</td>\n",
       "      <td>678.0</td>\n",
       "      <td>0.108869</td>\n",
       "      <td>dev17</td>\n",
       "      <td>0.107678</td>\n",
       "      <td>679.0</td>\n",
       "      <td>660.0</td>\n",
       "      <td>686.0</td>\n",
       "      <td>653.0</td>\n",
       "      <td>1</td>\n",
       "      <td>205000.0</td>\n",
       "      <td>1</td>\n",
       "    </tr>\n",
       "    <tr>\n",
       "      <th>2</th>\n",
       "      <td>4820420</td>\n",
       "      <td>PRIMARY</td>\n",
       "      <td>2017-10-08</td>\n",
       "      <td>member</td>\n",
       "      <td>proxy</td>\n",
       "      <td>0.0</td>\n",
       "      <td>1.0000</td>\n",
       "      <td>683.0</td>\n",
       "      <td>0.100897</td>\n",
       "      <td>dev17</td>\n",
       "      <td>0.055987</td>\n",
       "      <td>720.0</td>\n",
       "      <td>713.0</td>\n",
       "      <td>785.0</td>\n",
       "      <td>762.0</td>\n",
       "      <td>2</td>\n",
       "      <td>60000.0</td>\n",
       "      <td>1</td>\n",
       "    </tr>\n",
       "    <tr>\n",
       "      <th>3</th>\n",
       "      <td>4996279</td>\n",
       "      <td>PRIMARY</td>\n",
       "      <td>2017-10-27</td>\n",
       "      <td>member</td>\n",
       "      <td>proxy</td>\n",
       "      <td>0.0</td>\n",
       "      <td>1.0000</td>\n",
       "      <td>683.0</td>\n",
       "      <td>0.100897</td>\n",
       "      <td>dev17</td>\n",
       "      <td>0.055105</td>\n",
       "      <td>721.0</td>\n",
       "      <td>713.0</td>\n",
       "      <td>785.0</td>\n",
       "      <td>762.0</td>\n",
       "      <td>2</td>\n",
       "      <td>60000.0</td>\n",
       "      <td>1</td>\n",
       "    </tr>\n",
       "    <tr>\n",
       "      <th>4</th>\n",
       "      <td>4820856</td>\n",
       "      <td>PRIMARY</td>\n",
       "      <td>2017-10-08</td>\n",
       "      <td>member</td>\n",
       "      <td>proxy</td>\n",
       "      <td>0.0</td>\n",
       "      <td>1.0000</td>\n",
       "      <td>683.0</td>\n",
       "      <td>0.100897</td>\n",
       "      <td>dev17</td>\n",
       "      <td>0.055987</td>\n",
       "      <td>720.0</td>\n",
       "      <td>713.0</td>\n",
       "      <td>785.0</td>\n",
       "      <td>762.0</td>\n",
       "      <td>2</td>\n",
       "      <td>60000.0</td>\n",
       "      <td>1</td>\n",
       "    </tr>\n",
       "  </tbody>\n",
       "</table>\n",
       "</div>"
      ],
      "text/plain": [
       "        id applicant_type date_start     seg ri_source  target_v2  weight_eval  gen4_prescreen_score  gen4_prescreen_prob period  gen4_underwriting_prob  gen4_underwriting_score  gen3_score  fico_adj  applicant_vantage_score  funds_use_encode_v2  income_update  all_time_lending_member_flag\n",
       "0  4937215        PRIMARY 2017-10-20  member    others        0.0       0.9996                 678.0             0.108869  dev17                0.107678                    679.0       660.0     686.0                    653.0                    1       205000.0                             1\n",
       "1  4937215        PRIMARY 2017-10-20  member    others        1.0       0.0004                 678.0             0.108869  dev17                0.107678                    679.0       660.0     686.0                    653.0                    1       205000.0                             1\n",
       "2  4820420        PRIMARY 2017-10-08  member     proxy        0.0       1.0000                 683.0             0.100897  dev17                0.055987                    720.0       713.0     785.0                    762.0                    2        60000.0                             1\n",
       "3  4996279        PRIMARY 2017-10-27  member     proxy        0.0       1.0000                 683.0             0.100897  dev17                0.055105                    721.0       713.0     785.0                    762.0                    2        60000.0                             1\n",
       "4  4820856        PRIMARY 2017-10-08  member     proxy        0.0       1.0000                 683.0             0.100897  dev17                0.055987                    720.0       713.0     785.0                    762.0                    2        60000.0                             1"
      ]
     },
     "execution_count": 3,
     "metadata": {},
     "output_type": "execute_result"
    }
   ],
   "source": [
    "df_dev.head()"
   ]
  },
  {
   "cell_type": "code",
   "execution_count": 4,
   "id": "9a08fd72",
   "metadata": {},
   "outputs": [],
   "source": [
    "df_recent = pd.read_parquet(f's3://sofi-data-science/hpeng/pl-gen4/data_dump/data_to_strategy/gen4_score_202104_202201.parquet')"
   ]
  },
  {
   "cell_type": "code",
   "execution_count": 5,
   "id": "9d7d8055",
   "metadata": {},
   "outputs": [],
   "source": [
    "df_member_flag = pd.read_parquet('s3://sofi-data-science/hpeng/pl-gen4/data_dump/raw_tables/df_base_21.parquet')"
   ]
  },
  {
   "cell_type": "code",
   "execution_count": 6,
   "id": "2b2f9552",
   "metadata": {},
   "outputs": [
    {
     "data": {
      "text/plain": [
       "(1799053, 5)"
      ]
     },
     "metadata": {},
     "output_type": "display_data"
    },
    {
     "data": {
      "text/plain": [
       "(1799053, 6)"
      ]
     },
     "metadata": {},
     "output_type": "display_data"
    }
   ],
   "source": [
    "display(df_recent.shape)\n",
    "df_recent = pd.merge(df_recent, df_member_flag[['id','applicant_type','all_time_lending_member_flag']])\n",
    "display(df_recent.shape)"
   ]
  },
  {
   "cell_type": "code",
   "execution_count": 7,
   "id": "6032ee27",
   "metadata": {},
   "outputs": [
    {
     "data": {
      "text/html": [
       "<div>\n",
       "<style scoped>\n",
       "    .dataframe tbody tr th:only-of-type {\n",
       "        vertical-align: middle;\n",
       "    }\n",
       "\n",
       "    .dataframe tbody tr th {\n",
       "        vertical-align: top;\n",
       "    }\n",
       "\n",
       "    .dataframe thead th {\n",
       "        text-align: right;\n",
       "    }\n",
       "</style>\n",
       "<table border=\"1\" class=\"dataframe\">\n",
       "  <thead>\n",
       "    <tr style=\"text-align: right;\">\n",
       "      <th></th>\n",
       "      <th>id</th>\n",
       "      <th>applicant_type</th>\n",
       "      <th>date_start</th>\n",
       "      <th>gen4_prescreen_score</th>\n",
       "      <th>gen4_underwriting_score</th>\n",
       "      <th>all_time_lending_member_flag</th>\n",
       "    </tr>\n",
       "  </thead>\n",
       "  <tbody>\n",
       "    <tr>\n",
       "      <th>0</th>\n",
       "      <td>12486316</td>\n",
       "      <td>PRIMARY</td>\n",
       "      <td>2021-07-30</td>\n",
       "      <td>850.0</td>\n",
       "      <td>850.0</td>\n",
       "      <td>1</td>\n",
       "    </tr>\n",
       "    <tr>\n",
       "      <th>1</th>\n",
       "      <td>12598180</td>\n",
       "      <td>PRIMARY</td>\n",
       "      <td>2021-09-08</td>\n",
       "      <td>772.0</td>\n",
       "      <td>850.0</td>\n",
       "      <td>1</td>\n",
       "    </tr>\n",
       "    <tr>\n",
       "      <th>2</th>\n",
       "      <td>12498789</td>\n",
       "      <td>PRIMARY</td>\n",
       "      <td>2021-05-26</td>\n",
       "      <td>727.0</td>\n",
       "      <td>841.0</td>\n",
       "      <td>1</td>\n",
       "    </tr>\n",
       "    <tr>\n",
       "      <th>3</th>\n",
       "      <td>12601674</td>\n",
       "      <td>PRIMARY</td>\n",
       "      <td>2021-05-03</td>\n",
       "      <td>746.0</td>\n",
       "      <td>784.0</td>\n",
       "      <td>1</td>\n",
       "    </tr>\n",
       "    <tr>\n",
       "      <th>4</th>\n",
       "      <td>12661144</td>\n",
       "      <td>PRIMARY</td>\n",
       "      <td>2021-06-06</td>\n",
       "      <td>727.0</td>\n",
       "      <td>730.0</td>\n",
       "      <td>1</td>\n",
       "    </tr>\n",
       "  </tbody>\n",
       "</table>\n",
       "</div>"
      ],
      "text/plain": [
       "         id applicant_type date_start  gen4_prescreen_score  gen4_underwriting_score  all_time_lending_member_flag\n",
       "0  12486316        PRIMARY 2021-07-30                 850.0                    850.0                             1\n",
       "1  12598180        PRIMARY 2021-09-08                 772.0                    850.0                             1\n",
       "2  12498789        PRIMARY 2021-05-26                 727.0                    841.0                             1\n",
       "3  12601674        PRIMARY 2021-05-03                 746.0                    784.0                             1\n",
       "4  12661144        PRIMARY 2021-06-06                 727.0                    730.0                             1"
      ]
     },
     "execution_count": 7,
     "metadata": {},
     "output_type": "execute_result"
    }
   ],
   "source": [
    "df_recent.head()"
   ]
  },
  {
   "cell_type": "code",
   "execution_count": 8,
   "id": "0a28be5f",
   "metadata": {},
   "outputs": [
    {
     "data": {
      "text/plain": [
       "0.15956289514487537"
      ]
     },
     "execution_count": 8,
     "metadata": {},
     "output_type": "execute_result"
    }
   ],
   "source": [
    "# prescreen model PSI\n",
    "psi.calculate_psi(df_dev[~((df_dev.ri_source == 'others') & (df_dev.target_v2 == 0))]['gen4_prescreen_score'], df_recent[df_recent.date_start>='2021-10-01']['gen4_prescreen_score'], buckettype='quantiles', buckets=10, axis=1)"
   ]
  },
  {
   "cell_type": "code",
   "execution_count": 9,
   "id": "228ecfa3",
   "metadata": {},
   "outputs": [
    {
     "data": {
      "text/plain": [
       "0.1525966493290794"
      ]
     },
     "execution_count": 9,
     "metadata": {},
     "output_type": "execute_result"
    }
   ],
   "source": [
    "# Underwriting model PSI\n",
    "psi.calculate_psi(df_dev[~((df_dev.ri_source == 'others') & (df_dev.target_v2 == 0))]['gen4_underwriting_score'], df_recent[df_recent.date_start>='2021-10-01']['gen4_underwriting_score'], buckettype='quantiles', buckets=10, axis=1)"
   ]
  },
  {
   "cell_type": "code",
   "execution_count": 10,
   "id": "18818377",
   "metadata": {},
   "outputs": [
    {
     "data": {
      "text/plain": [
       "0.14760181075344056"
      ]
     },
     "execution_count": 10,
     "metadata": {},
     "output_type": "execute_result"
    }
   ],
   "source": [
    "# Member model PSI\n",
    "psi.calculate_psi(df_dev[(~((df_dev.ri_source == 'others') & (df_dev.target_v2 == 0))) & (df_dev.seg=='member')]['gen4_underwriting_score'], \n",
    "                  df_recent[(df_recent.date_start>='2021-10-01') & (df_recent.all_time_lending_member_flag==1)]['gen4_underwriting_score'], buckettype='quantiles', buckets=10, axis=1)"
   ]
  },
  {
   "cell_type": "code",
   "execution_count": 11,
   "id": "60d5bc8a",
   "metadata": {},
   "outputs": [
    {
     "data": {
      "text/plain": [
       "0.16416058673306333"
      ]
     },
     "execution_count": 11,
     "metadata": {},
     "output_type": "execute_result"
    }
   ],
   "source": [
    "# non-member model PSI\n",
    "psi.calculate_psi(df_dev[(~((df_dev.ri_source == 'others') & (df_dev.target_v2 == 0))) & (df_dev.seg!='member')]['gen4_underwriting_score'], \n",
    "                  df_recent[(df_recent.date_start>='2021-10-01') & (df_recent.all_time_lending_member_flag!=1)]['gen4_underwriting_score'], buckettype='quantiles', buckets=10, axis=1)"
   ]
  },
  {
   "cell_type": "code",
   "execution_count": 12,
   "id": "e463afa5",
   "metadata": {},
   "outputs": [],
   "source": [
    "df_feature_dev_member = pd.read_parquet('s3://sofi-data-science/hpeng/pl-gen4/data_dump/data_to_mrm/df_member_psi_dev.parquet')\n",
    "df_feature_dev_nonmember = pd.read_parquet('s3://sofi-data-science/hpeng/pl-gen4/data_dump/data_to_mrm/df_nonmember_psi_dev.parquet')\n",
    "df_feature_dev_prescreen = pd.read_parquet('s3://sofi-data-science/hpeng/pl-gen4/data_dump/data_to_mrm/df_prescreen_psi_dev.parquet')"
   ]
  },
  {
   "cell_type": "code",
   "execution_count": 13,
   "id": "e4099468",
   "metadata": {},
   "outputs": [],
   "source": [
    "df_feature_21_member = pd.read_parquet('s3://sofi-data-science/hpeng/pl-gen4/data_dump/data_to_mrm/df_member_psi_21q4.parquet')\n",
    "df_feature_21_nonmember = pd.read_parquet('s3://sofi-data-science/hpeng/pl-gen4/data_dump/data_to_mrm/df_nonmember_psi_21q4.parquet')\n",
    "df_feature_21_prescreen = pd.read_parquet('s3://sofi-data-science/hpeng/pl-gen4/data_dump/data_to_mrm/df_prescreen_psi_21q4.parquet')"
   ]
  },
  {
   "cell_type": "code",
   "execution_count": 14,
   "id": "f9c416e7",
   "metadata": {},
   "outputs": [
    {
     "data": {
      "text/plain": [
       "((206316, 89), (2346519, 89), (2552835, 89))"
      ]
     },
     "execution_count": 14,
     "metadata": {},
     "output_type": "execute_result"
    }
   ],
   "source": [
    "df_feature_dev_member.shape, df_feature_dev_nonmember.shape, df_feature_dev_prescreen.shape"
   ]
  },
  {
   "cell_type": "code",
   "execution_count": 15,
   "id": "f4214075",
   "metadata": {},
   "outputs": [
    {
     "data": {
      "text/plain": [
       "((235427, 198), (1563626, 198), (1799053, 198))"
      ]
     },
     "execution_count": 15,
     "metadata": {},
     "output_type": "execute_result"
    }
   ],
   "source": [
    "df_feature_21_member.shape, df_feature_21_nonmember.shape, df_feature_21_prescreen.shape"
   ]
  },
  {
   "cell_type": "code",
   "execution_count": 16,
   "id": "b6314019",
   "metadata": {},
   "outputs": [],
   "source": [
    "prescreen_list = ['p13_bcc5520',\n",
    "'t11_tmti2752',\n",
    "'t11_tstu2752',\n",
    "'p13_iqz9420',\n",
    "'t11_tall3205',\n",
    "'p13_bcc8322',\n",
    "'t11_tbca4504',\n",
    "'p13_upl8132',\n",
    "'t11_tbca3530',\n",
    "'t11_trev0722']\n",
    "member_list = ['t11_tbca2526',\n",
    "'t11_tstu1752',\n",
    "'sofi_all5840_mtf5838_to_income',\n",
    "'t11_tall02q3',\n",
    "'t11_tall3205',\n",
    "'current_pl_trade_bal_ratio',\n",
    "'p13_bcc8322',\n",
    "'t11_tpil01q1',\n",
    "'sofi_num_month_recent_list_psl',\n",
    "'t11_tupl01q1']\n",
    "nonmember_list = ['p13_bcc5520',\n",
    "'sofi_all5840_mtf5838_to_income',\n",
    "'t11_tall2205',\n",
    "'p13_bca8370',\n",
    "'t11_tstu2752',\n",
    "'p13_iqz9427',\n",
    "'p13_upl8132',\n",
    "'t11_tmti2752',\n",
    "'t11_tiln2755',\n",
    "'sofi_num_inq_3month']"
   ]
  },
  {
   "cell_type": "code",
   "execution_count": 17,
   "id": "290ec925",
   "metadata": {},
   "outputs": [
    {
     "data": {
      "text/html": [
       "<div>\n",
       "<style scoped>\n",
       "    .dataframe tbody tr th:only-of-type {\n",
       "        vertical-align: middle;\n",
       "    }\n",
       "\n",
       "    .dataframe tbody tr th {\n",
       "        vertical-align: top;\n",
       "    }\n",
       "\n",
       "    .dataframe thead th {\n",
       "        text-align: right;\n",
       "    }\n",
       "</style>\n",
       "<table border=\"1\" class=\"dataframe\">\n",
       "  <thead>\n",
       "    <tr style=\"text-align: right;\">\n",
       "      <th></th>\n",
       "      <th>field_name</th>\n",
       "      <th>psi</th>\n",
       "    </tr>\n",
       "  </thead>\n",
       "  <tbody>\n",
       "    <tr>\n",
       "      <th>0</th>\n",
       "      <td>t11_tbca2526</td>\n",
       "      <td>0.163666</td>\n",
       "    </tr>\n",
       "    <tr>\n",
       "      <th>1</th>\n",
       "      <td>t11_tstu1752</td>\n",
       "      <td>0.144657</td>\n",
       "    </tr>\n",
       "    <tr>\n",
       "      <th>2</th>\n",
       "      <td>sofi_all5840_mtf5838_to_income</td>\n",
       "      <td>0.212683</td>\n",
       "    </tr>\n",
       "    <tr>\n",
       "      <th>3</th>\n",
       "      <td>t11_tall02q3</td>\n",
       "      <td>0.041064</td>\n",
       "    </tr>\n",
       "    <tr>\n",
       "      <th>4</th>\n",
       "      <td>t11_tall3205</td>\n",
       "      <td>0.093769</td>\n",
       "    </tr>\n",
       "    <tr>\n",
       "      <th>5</th>\n",
       "      <td>current_pl_trade_bal_ratio</td>\n",
       "      <td>0.317128</td>\n",
       "    </tr>\n",
       "    <tr>\n",
       "      <th>6</th>\n",
       "      <td>p13_bcc8322</td>\n",
       "      <td>0.130488</td>\n",
       "    </tr>\n",
       "    <tr>\n",
       "      <th>7</th>\n",
       "      <td>t11_tpil01q1</td>\n",
       "      <td>0.035017</td>\n",
       "    </tr>\n",
       "    <tr>\n",
       "      <th>8</th>\n",
       "      <td>sofi_num_month_recent_list_psl</td>\n",
       "      <td>0.053495</td>\n",
       "    </tr>\n",
       "    <tr>\n",
       "      <th>9</th>\n",
       "      <td>t11_tupl01q1</td>\n",
       "      <td>0.047536</td>\n",
       "    </tr>\n",
       "  </tbody>\n",
       "</table>\n",
       "</div>"
      ],
      "text/plain": [
       "                       field_name       psi\n",
       "0                    t11_tbca2526  0.163666\n",
       "1                    t11_tstu1752  0.144657\n",
       "2  sofi_all5840_mtf5838_to_income  0.212683\n",
       "3                    t11_tall02q3  0.041064\n",
       "4                    t11_tall3205  0.093769\n",
       "5      current_pl_trade_bal_ratio  0.317128\n",
       "6                     p13_bcc8322  0.130488\n",
       "7                    t11_tpil01q1  0.035017\n",
       "8  sofi_num_month_recent_list_psl  0.053495\n",
       "9                    t11_tupl01q1  0.047536"
      ]
     },
     "execution_count": 17,
     "metadata": {},
     "output_type": "execute_result"
    }
   ],
   "source": [
    "df_psi_member = pd.DataFrame()\n",
    "for feature in member_list:\n",
    "    psi_val = psi.calculate_psi(df_feature_dev_member[feature], df_feature_21_member[(df_feature_21_member.date_start>='2021-10-01')][feature], buckettype='quantiles', buckets=10, axis=1)\n",
    "    df_psi_member = df_psi_member.append({'field_name':feature, 'psi': psi_val}, ignore_index=True)\n",
    "    \n",
    "df_psi_member"
   ]
  },
  {
   "cell_type": "code",
   "execution_count": 18,
   "id": "9cb3f9c8",
   "metadata": {},
   "outputs": [
    {
     "data": {
      "text/html": [
       "<div>\n",
       "<style scoped>\n",
       "    .dataframe tbody tr th:only-of-type {\n",
       "        vertical-align: middle;\n",
       "    }\n",
       "\n",
       "    .dataframe tbody tr th {\n",
       "        vertical-align: top;\n",
       "    }\n",
       "\n",
       "    .dataframe thead th {\n",
       "        text-align: right;\n",
       "    }\n",
       "</style>\n",
       "<table border=\"1\" class=\"dataframe\">\n",
       "  <thead>\n",
       "    <tr style=\"text-align: right;\">\n",
       "      <th></th>\n",
       "      <th>field_name</th>\n",
       "      <th>psi</th>\n",
       "    </tr>\n",
       "  </thead>\n",
       "  <tbody>\n",
       "    <tr>\n",
       "      <th>0</th>\n",
       "      <td>p13_bcc5520</td>\n",
       "      <td>0.214359</td>\n",
       "    </tr>\n",
       "    <tr>\n",
       "      <th>1</th>\n",
       "      <td>sofi_all5840_mtf5838_to_income</td>\n",
       "      <td>0.254559</td>\n",
       "    </tr>\n",
       "    <tr>\n",
       "      <th>2</th>\n",
       "      <td>t11_tall2205</td>\n",
       "      <td>0.095473</td>\n",
       "    </tr>\n",
       "    <tr>\n",
       "      <th>3</th>\n",
       "      <td>p13_bca8370</td>\n",
       "      <td>0.159675</td>\n",
       "    </tr>\n",
       "    <tr>\n",
       "      <th>4</th>\n",
       "      <td>t11_tstu2752</td>\n",
       "      <td>0.166148</td>\n",
       "    </tr>\n",
       "    <tr>\n",
       "      <th>5</th>\n",
       "      <td>p13_iqz9427</td>\n",
       "      <td>0.021624</td>\n",
       "    </tr>\n",
       "    <tr>\n",
       "      <th>6</th>\n",
       "      <td>p13_upl8132</td>\n",
       "      <td>0.030139</td>\n",
       "    </tr>\n",
       "    <tr>\n",
       "      <th>7</th>\n",
       "      <td>t11_tmti2752</td>\n",
       "      <td>0.045117</td>\n",
       "    </tr>\n",
       "    <tr>\n",
       "      <th>8</th>\n",
       "      <td>t11_tiln2755</td>\n",
       "      <td>0.114093</td>\n",
       "    </tr>\n",
       "    <tr>\n",
       "      <th>9</th>\n",
       "      <td>sofi_num_inq_3month</td>\n",
       "      <td>0.016152</td>\n",
       "    </tr>\n",
       "  </tbody>\n",
       "</table>\n",
       "</div>"
      ],
      "text/plain": [
       "                       field_name       psi\n",
       "0                     p13_bcc5520  0.214359\n",
       "1  sofi_all5840_mtf5838_to_income  0.254559\n",
       "2                    t11_tall2205  0.095473\n",
       "3                     p13_bca8370  0.159675\n",
       "4                    t11_tstu2752  0.166148\n",
       "5                     p13_iqz9427  0.021624\n",
       "6                     p13_upl8132  0.030139\n",
       "7                    t11_tmti2752  0.045117\n",
       "8                    t11_tiln2755  0.114093\n",
       "9             sofi_num_inq_3month  0.016152"
      ]
     },
     "execution_count": 18,
     "metadata": {},
     "output_type": "execute_result"
    }
   ],
   "source": [
    "df_psi_nonmember = pd.DataFrame()\n",
    "for feature in nonmember_list:\n",
    "    psi_val = psi.calculate_psi(df_feature_dev_nonmember[feature], df_feature_21_nonmember[(df_feature_21_nonmember.date_start>='2021-10-01')][feature], buckettype='quantiles', buckets=10, axis=1)\n",
    "    df_psi_nonmember = df_psi_nonmember.append({'field_name':feature, 'psi': psi_val}, ignore_index=True)\n",
    "    \n",
    "df_psi_nonmember"
   ]
  },
  {
   "cell_type": "code",
   "execution_count": 19,
   "id": "cd8b65d4",
   "metadata": {},
   "outputs": [
    {
     "data": {
      "text/html": [
       "<div>\n",
       "<style scoped>\n",
       "    .dataframe tbody tr th:only-of-type {\n",
       "        vertical-align: middle;\n",
       "    }\n",
       "\n",
       "    .dataframe tbody tr th {\n",
       "        vertical-align: top;\n",
       "    }\n",
       "\n",
       "    .dataframe thead th {\n",
       "        text-align: right;\n",
       "    }\n",
       "</style>\n",
       "<table border=\"1\" class=\"dataframe\">\n",
       "  <thead>\n",
       "    <tr style=\"text-align: right;\">\n",
       "      <th></th>\n",
       "      <th>field_name</th>\n",
       "      <th>psi</th>\n",
       "    </tr>\n",
       "  </thead>\n",
       "  <tbody>\n",
       "    <tr>\n",
       "      <th>0</th>\n",
       "      <td>p13_bcc5520</td>\n",
       "      <td>0.184612</td>\n",
       "    </tr>\n",
       "    <tr>\n",
       "      <th>1</th>\n",
       "      <td>t11_tmti2752</td>\n",
       "      <td>0.027551</td>\n",
       "    </tr>\n",
       "    <tr>\n",
       "      <th>2</th>\n",
       "      <td>t11_tstu2752</td>\n",
       "      <td>0.122279</td>\n",
       "    </tr>\n",
       "    <tr>\n",
       "      <th>3</th>\n",
       "      <td>p13_iqz9420</td>\n",
       "      <td>0.092925</td>\n",
       "    </tr>\n",
       "    <tr>\n",
       "      <th>4</th>\n",
       "      <td>t11_tall3205</td>\n",
       "      <td>0.083484</td>\n",
       "    </tr>\n",
       "    <tr>\n",
       "      <th>5</th>\n",
       "      <td>p13_bcc8322</td>\n",
       "      <td>0.148204</td>\n",
       "    </tr>\n",
       "    <tr>\n",
       "      <th>6</th>\n",
       "      <td>t11_tbca4504</td>\n",
       "      <td>0.047024</td>\n",
       "    </tr>\n",
       "    <tr>\n",
       "      <th>7</th>\n",
       "      <td>p13_upl8132</td>\n",
       "      <td>0.020720</td>\n",
       "    </tr>\n",
       "    <tr>\n",
       "      <th>8</th>\n",
       "      <td>t11_tbca3530</td>\n",
       "      <td>0.080691</td>\n",
       "    </tr>\n",
       "    <tr>\n",
       "      <th>9</th>\n",
       "      <td>t11_trev0722</td>\n",
       "      <td>0.186737</td>\n",
       "    </tr>\n",
       "  </tbody>\n",
       "</table>\n",
       "</div>"
      ],
      "text/plain": [
       "     field_name       psi\n",
       "0   p13_bcc5520  0.184612\n",
       "1  t11_tmti2752  0.027551\n",
       "2  t11_tstu2752  0.122279\n",
       "3   p13_iqz9420  0.092925\n",
       "4  t11_tall3205  0.083484\n",
       "5   p13_bcc8322  0.148204\n",
       "6  t11_tbca4504  0.047024\n",
       "7   p13_upl8132  0.020720\n",
       "8  t11_tbca3530  0.080691\n",
       "9  t11_trev0722  0.186737"
      ]
     },
     "execution_count": 19,
     "metadata": {},
     "output_type": "execute_result"
    }
   ],
   "source": [
    "df_psi_prescreen = pd.DataFrame()\n",
    "for feature in prescreen_list:\n",
    "    psi_val = psi.calculate_psi(df_feature_dev_prescreen[feature], df_feature_21_prescreen[(df_feature_21_prescreen.date_start>='2021-10-01')][feature], buckettype='quantiles', buckets=10, axis=1)\n",
    "    df_psi_prescreen = df_psi_prescreen.append({'field_name':feature, 'psi': psi_val}, ignore_index=True)\n",
    "    \n",
    "df_psi_prescreen"
   ]
  },
  {
   "cell_type": "markdown",
   "id": "133b1ecd",
   "metadata": {},
   "source": [
    "### for NCAP analysis"
   ]
  },
  {
   "cell_type": "code",
   "execution_count": 27,
   "id": "5410d76b",
   "metadata": {},
   "outputs": [
    {
     "data": {
      "text/html": [
       "<div>\n",
       "<style scoped>\n",
       "    .dataframe tbody tr th:only-of-type {\n",
       "        vertical-align: middle;\n",
       "    }\n",
       "\n",
       "    .dataframe tbody tr th {\n",
       "        vertical-align: top;\n",
       "    }\n",
       "\n",
       "    .dataframe thead th {\n",
       "        text-align: right;\n",
       "    }\n",
       "</style>\n",
       "<table border=\"1\" class=\"dataframe\">\n",
       "  <thead>\n",
       "    <tr style=\"text-align: right;\">\n",
       "      <th></th>\n",
       "      <th>field_name</th>\n",
       "      <th>psi</th>\n",
       "    </tr>\n",
       "  </thead>\n",
       "  <tbody>\n",
       "    <tr>\n",
       "      <th>0</th>\n",
       "      <td>p13_all8352</td>\n",
       "      <td>0.000863</td>\n",
       "    </tr>\n",
       "    <tr>\n",
       "      <th>1</th>\n",
       "      <td>p13_all7936</td>\n",
       "      <td>0.003553</td>\n",
       "    </tr>\n",
       "  </tbody>\n",
       "</table>\n",
       "</div>"
      ],
      "text/plain": [
       "    field_name       psi\n",
       "0  p13_all8352  0.000863\n",
       "1  p13_all7936  0.003553"
      ]
     },
     "execution_count": 27,
     "metadata": {},
     "output_type": "execute_result"
    }
   ],
   "source": [
    "df_psi_prescreen = pd.DataFrame()\n",
    "for feature in ['p13_all8352','p13_all7936']:\n",
    "    psi_val = psi.calculate_psi(df_feature_dev_prescreen[df_feature_dev_prescreen.date_start<'2017-07-01'][feature],\n",
    "                                df_feature_dev_prescreen[df_feature_dev_prescreen.date_start>'2018-04-01'][feature], buckettype='quantiles', buckets=10, axis=1)\n",
    "    df_psi_prescreen = df_psi_prescreen.append({'field_name':feature, 'psi': psi_val}, ignore_index=True)\n",
    "    \n",
    "df_psi_prescreen"
   ]
  },
  {
   "cell_type": "code",
   "execution_count": 28,
   "id": "d7e43305",
   "metadata": {},
   "outputs": [
    {
     "data": {
      "text/html": [
       "<div>\n",
       "<style scoped>\n",
       "    .dataframe tbody tr th:only-of-type {\n",
       "        vertical-align: middle;\n",
       "    }\n",
       "\n",
       "    .dataframe tbody tr th {\n",
       "        vertical-align: top;\n",
       "    }\n",
       "\n",
       "    .dataframe thead th {\n",
       "        text-align: right;\n",
       "    }\n",
       "</style>\n",
       "<table border=\"1\" class=\"dataframe\">\n",
       "  <thead>\n",
       "    <tr style=\"text-align: right;\">\n",
       "      <th></th>\n",
       "      <th>field_name</th>\n",
       "      <th>psi</th>\n",
       "    </tr>\n",
       "  </thead>\n",
       "  <tbody>\n",
       "    <tr>\n",
       "      <th>0</th>\n",
       "      <td>p13_all8352</td>\n",
       "      <td>0.00479</td>\n",
       "    </tr>\n",
       "  </tbody>\n",
       "</table>\n",
       "</div>"
      ],
      "text/plain": [
       "    field_name      psi\n",
       "0  p13_all8352  0.00479"
      ]
     },
     "execution_count": 28,
     "metadata": {},
     "output_type": "execute_result"
    }
   ],
   "source": [
    "df_psi_member = pd.DataFrame()\n",
    "for feature in ['p13_all8352']:\n",
    "    psi_val = psi.calculate_psi(df_feature_dev_member[df_feature_dev_member.date_start<'2017-07-01'][feature],\n",
    "                                df_feature_dev_member[df_feature_dev_member.date_start>'2018-04-01'][feature], buckettype='quantiles', buckets=10, axis=1)\n",
    "    df_psi_member = df_psi_member.append({'field_name':feature, 'psi': psi_val}, ignore_index=True)\n",
    "    \n",
    "df_psi_member"
   ]
  },
  {
   "cell_type": "code",
   "execution_count": 30,
   "id": "277647ad",
   "metadata": {},
   "outputs": [
    {
     "data": {
      "text/html": [
       "<div>\n",
       "<style scoped>\n",
       "    .dataframe tbody tr th:only-of-type {\n",
       "        vertical-align: middle;\n",
       "    }\n",
       "\n",
       "    .dataframe tbody tr th {\n",
       "        vertical-align: top;\n",
       "    }\n",
       "\n",
       "    .dataframe thead th {\n",
       "        text-align: right;\n",
       "    }\n",
       "</style>\n",
       "<table border=\"1\" class=\"dataframe\">\n",
       "  <thead>\n",
       "    <tr style=\"text-align: right;\">\n",
       "      <th></th>\n",
       "      <th>field_name</th>\n",
       "      <th>psi</th>\n",
       "    </tr>\n",
       "  </thead>\n",
       "  <tbody>\n",
       "    <tr>\n",
       "      <th>0</th>\n",
       "      <td>p13_all8352</td>\n",
       "      <td>0.000423</td>\n",
       "    </tr>\n",
       "    <tr>\n",
       "      <th>1</th>\n",
       "      <td>p13_all7936</td>\n",
       "      <td>0.002293</td>\n",
       "    </tr>\n",
       "  </tbody>\n",
       "</table>\n",
       "</div>"
      ],
      "text/plain": [
       "    field_name       psi\n",
       "0  p13_all8352  0.000423\n",
       "1  p13_all7936  0.002293"
      ]
     },
     "execution_count": 30,
     "metadata": {},
     "output_type": "execute_result"
    }
   ],
   "source": [
    "df_psi_nonmember = pd.DataFrame()\n",
    "for feature in ['p13_all8352','p13_all7936']:\n",
    "    psi_val = psi.calculate_psi(df_feature_dev_nonmember[df_feature_dev_nonmember.date_start<'2017-07-01'][feature],\n",
    "                                df_feature_dev_nonmember[df_feature_dev_nonmember.date_start>'2018-04-01'][feature], buckettype='quantiles', buckets=10, axis=1)\n",
    "    df_psi_nonmember = df_psi_nonmember.append({'field_name':feature, 'psi': psi_val}, ignore_index=True)\n",
    "    \n",
    "df_psi_nonmember"
   ]
  },
  {
   "cell_type": "code",
   "execution_count": null,
   "id": "65e853d4",
   "metadata": {},
   "outputs": [],
   "source": []
  }
 ],
 "metadata": {
  "kernelspec": {
   "display_name": "Python 3.9.7 ('base')",
   "language": "python",
   "name": "python3"
  },
  "language_info": {
   "codemirror_mode": {
    "name": "ipython",
    "version": 3
   },
   "file_extension": ".py",
   "mimetype": "text/x-python",
   "name": "python",
   "nbconvert_exporter": "python",
   "pygments_lexer": "ipython3",
   "version": "3.9.7"
  },
  "vscode": {
   "interpreter": {
    "hash": "f68926ad41435d3f71bc53cfde328458a97118c37e1f5b5e9fd4646c23ed0cff"
   }
  }
 },
 "nbformat": 4,
 "nbformat_minor": 5
}
