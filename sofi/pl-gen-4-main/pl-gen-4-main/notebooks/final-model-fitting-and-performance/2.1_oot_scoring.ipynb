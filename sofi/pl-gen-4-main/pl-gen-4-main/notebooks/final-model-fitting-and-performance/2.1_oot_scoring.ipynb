{
 "cells": [
  {
   "cell_type": "code",
   "execution_count": 1,
   "id": "1af1707e",
   "metadata": {},
   "outputs": [
    {
     "name": "stdout",
     "output_type": "stream",
     "text": [
      "3.2.1\n"
     ]
    }
   ],
   "source": [
    "import sys, os, json, copy, sklearn, shap, gc, joblib, copy, time, ast\n",
    "import pandas as pd\n",
    "import numpy as np\n",
    "import lightgbm as lgb\n",
    "from lightgbm import LGBMClassifier\n",
    "import pickle as pkl\n",
    "from tqdm import tqdm\n",
    "from smart_open import open\n",
    "import seaborn as sns\n",
    "from sklearn.metrics import roc_curve,roc_auc_score, precision_score, recall_score, accuracy_score, confusion_matrix\n",
    "import matplotlib.pyplot as plt\n",
    "from rdsutils.woe import WOE_Transform                                            \n",
    "from rdsutils.metrics import get_pred_reports\n",
    "\n",
    "\n",
    "sys.path.insert(1, \"./\")\n",
    "from utility.performance_eval_plot import score_gain, plot_efficient_frontier, plot_percentile_bad_rate\n",
    "import utility.performance_eval_v3 as p_eval\n",
    "from utility  import data_summary, woe, data_eda, psi\n",
    "from utility.governance import get_risk_plot,get_feature_by_importance, get_pdp, get_shap_dependence, pickle_obj, save_shap_dependence,\\\n",
    "    save_pdp, plot_hist, get_woe_plots\n",
    "\n",
    "pd.set_option('display.max_columns', 20)\n",
    "pd.set_option('display.width', 500)\n",
    "pd.set_option('display.max_colwidth', None)\n",
    "\n",
    "%load_ext autoreload\n",
    "%autoreload 2\n",
    "\n",
    "print(lgb.__version__)"
   ]
  },
  {
   "cell_type": "markdown",
   "id": "c07be5c3",
   "metadata": {},
   "source": [
    "### read data"
   ]
  },
  {
   "cell_type": "code",
   "execution_count": 2,
   "id": "fc7629b3",
   "metadata": {},
   "outputs": [],
   "source": [
    "config_path = \"s3://sofi-data-science/hpeng/pl-gen4/artifact/config.json\"\n",
    "artifact_path = \"s3://sofi-data-science/hpeng/pl-gen4/artifact\"\n",
    "with open(os.path.join(config_path), \"r\") as f:\n",
    "    config = json.load(f)"
   ]
  },
  {
   "cell_type": "code",
   "execution_count": 3,
   "id": "effad692",
   "metadata": {},
   "outputs": [],
   "source": [
    "exp_dict = pd.read_csv(config[\"meta\"][\"exp_dict_path\"])\n",
    "af_dict = pd.read_csv(config[\"meta\"][\"af_member_cust_dict_path\"])"
   ]
  },
  {
   "cell_type": "code",
   "execution_count": 4,
   "id": "62470976",
   "metadata": {},
   "outputs": [],
   "source": [
    "model_member = pkl.load(open('artifact/'+'member'+'_final_model.pkl', 'rb'))\n",
    "model_non_member = pkl.load(open('artifact/'+'non_member'+'_final_model.pkl', 'rb'))\n",
    "model_prescreen = pkl.load(open('artifact/'+'prescreen'+'_final_model.pkl', 'rb'))"
   ]
  },
  {
   "cell_type": "code",
   "execution_count": 5,
   "id": "287892c8",
   "metadata": {},
   "outputs": [],
   "source": [
    "feature_list = model_prescreen.feature_name_ + model_member.feature_name_ + model_non_member.feature_name_  + config[\"data_columns\"][\"weights\"] \\\n",
    "            + config[\"data_columns\"][\"target_cols\"] + config[\"data_columns\"][\"benchmark_cols\"] + \\\n",
    "            config[\"data_columns\"][\"meta_cols\"] + ['all_time_lending_member_flag'] + ['funds_use_encode_v2','income_update']\n",
    "feature_list = pd.unique(feature_list).tolist()"
   ]
  },
  {
   "cell_type": "code",
   "execution_count": 6,
   "id": "f204caf1",
   "metadata": {},
   "outputs": [],
   "source": [
    "df_oot1_full = pd.read_parquet(config[\"data\"][\"clean\"][\"all_features_oot1\"], columns = feature_list)\n",
    "df_oot2_full = pd.read_parquet(config[\"data\"][\"clean\"][\"all_features_oot2\"], columns = feature_list)\n",
    "df_oot_full = pd.concat([df_oot1_full, df_oot2_full], axis=0, ignore_index=True)\n",
    "\n",
    "df_oot_full['seg'] = 'other'\n",
    "df_oot_full.loc[(df_oot_full.all_time_lending_member_flag==1), 'seg'] = 'member'\n",
    "df_oot_full.loc[(df_oot_full.all_time_lending_member_flag!=1), 'seg'] = 'non_member'"
   ]
  },
  {
   "cell_type": "markdown",
   "id": "73f0e216",
   "metadata": {},
   "source": [
    "### data preprecessing"
   ]
  },
  {
   "cell_type": "code",
   "execution_count": 7,
   "id": "af2a81a3",
   "metadata": {},
   "outputs": [
    {
     "name": "stderr",
     "output_type": "stream",
     "text": [
      "100%|██████████| 88/88 [00:09<00:00,  9.67it/s]\n"
     ]
    },
    {
     "data": {
      "text/plain": [
       "30"
      ]
     },
     "execution_count": 7,
     "metadata": {},
     "output_type": "execute_result"
    }
   ],
   "source": [
    "def categorical_to_nan(series, categorical_list):\n",
    "    \"\"\" given series and a list of catergorical values\n",
    "    \n",
    "    replace the categorical occurances to nan\n",
    "    \"\"\"\n",
    "    if len(categorical_list) == 0:\n",
    "        return series\n",
    "    mapper = dict((k, np.nan) for k in categorical_list)\n",
    "    return series.replace(mapper)\n",
    "\n",
    "no_special_list = []\n",
    "\n",
    "for col in tqdm(feature_list):\n",
    "    try:\n",
    "        special_val = ast.literal_eval(exp_dict[exp_dict.field_name == col].categorical.iloc[0])\n",
    "        special_val = [int(i) for i in special_val]\n",
    "        df_oot_full[col] = categorical_to_nan(df_oot_full[col], special_val)\n",
    "    except:\n",
    "        no_special_list.append(col)\n",
    "        \n",
    "len(no_special_list)"
   ]
  },
  {
   "cell_type": "code",
   "execution_count": 8,
   "id": "9b03d1fc",
   "metadata": {},
   "outputs": [
    {
     "name": "stderr",
     "output_type": "stream",
     "text": [
      "100%|██████████| 31/31 [00:00<00:00, 1954.24it/s]\n"
     ]
    },
    {
     "name": "stdout",
     "output_type": "stream",
     "text": [
      "no special value for p13_iqz9420\n",
      "no special value for p13_iqz9426\n",
      "no special value for sofi_num_inq_12month\n"
     ]
    },
    {
     "name": "stderr",
     "output_type": "stream",
     "text": [
      "100%|██████████| 31/31 [00:00<00:00, 403.02it/s]\n"
     ]
    },
    {
     "name": "stdout",
     "output_type": "stream",
     "text": [
      "no special value for p13_iqz9427\n",
      "no special value for sofi_num_inq_1month\n",
      "no special value for sofi_num_inq_3month\n",
      "no special value for sofi_num_inq_personal_finance\n"
     ]
    },
    {
     "name": "stderr",
     "output_type": "stream",
     "text": [
      "100%|██████████| 31/31 [00:00<00:00, 321.37it/s]"
     ]
    },
    {
     "name": "stdout",
     "output_type": "stream",
     "text": [
      "no special value for p13_iqz9420\n",
      "no special value for p13_iqz9425\n"
     ]
    },
    {
     "name": "stderr",
     "output_type": "stream",
     "text": [
      "\n"
     ]
    }
   ],
   "source": [
    "df_oot_full_member_ = df_oot_full[df_oot_full.seg=='member'].copy()\n",
    "df_oot_full_non_member_ = df_oot_full[df_oot_full.seg=='non_member'].copy()\n",
    "df_oot_full_prescreen_ = df_oot_full.copy()\n",
    "\n",
    "impute_vals_member = pkl.load(open('artifact/'+'member'+'_final_imputed_val.pkl', 'rb'))\n",
    "impute_vals_non_member = pkl.load(open('artifact/'+'non_member'+'_final_imputed_val.pkl', 'rb'))\n",
    "impute_vals_prescreen = pkl.load(open('artifact/'+'prescreen'+'_final_imputed_val.pkl', 'rb'))\n",
    "\n",
    "for f in tqdm(model_member.feature_name_):\n",
    "    try:\n",
    "        val = impute_vals_member[f]\n",
    "        df_oot_full_member_[f].fillna(val, inplace=True)\n",
    "    except:\n",
    "        print(\"no special value for \" + f)    \n",
    "        \n",
    "for f in tqdm(model_non_member.feature_name_):\n",
    "    try:\n",
    "        val = impute_vals_non_member[f]\n",
    "        df_oot_full_non_member_[f].fillna(val, inplace=True)\n",
    "    except:\n",
    "        print(\"no special value for \" + f)\n",
    "        \n",
    "for f in tqdm(model_prescreen.feature_name_):\n",
    "    try:\n",
    "        val = impute_vals_prescreen[f]\n",
    "        df_oot_full_prescreen_[f].fillna(val, inplace=True)\n",
    "    except:\n",
    "        print(\"no special value for \" + f)"
   ]
  },
  {
   "cell_type": "markdown",
   "id": "4a5dcdb7",
   "metadata": {},
   "source": [
    "### scoring"
   ]
  },
  {
   "cell_type": "code",
   "execution_count": 9,
   "id": "956157e2",
   "metadata": {},
   "outputs": [],
   "source": [
    "df_oot_full_member_['gen4_underwriting_prob'] = model_member.predict_proba(df_oot_full_member_[model_member.feature_name_])[:,1]\n",
    "df_oot_full_non_member_['gen4_underwriting_prob'] = model_non_member.predict_proba(df_oot_full_non_member_[model_non_member.feature_name_])[:,1]\n",
    "df_oot_ = pd.concat([df_oot_full_member_, df_oot_full_non_member_], axis=0, ignore_index=True)\n",
    "df_oot_[\"weight_eval\"] = df_oot_[\"weight_cob\"] * df_oot_[\"weight_ri_v2\"]\n",
    "\n",
    "df_oot_full_prescreen_['gen4_prescreen_prob'] = model_prescreen.predict_proba(df_oot_full_prescreen_[model_prescreen.feature_name_])[:,1]\n",
    "df_oot_full_prescreen_[\"weight_eval\"] = df_oot_full_prescreen_[\"weight_cob\"] * df_oot_full_prescreen_[\"weight_ri_v2\"]"
   ]
  },
  {
   "cell_type": "code",
   "execution_count": 10,
   "id": "8ff9d09a",
   "metadata": {},
   "outputs": [
    {
     "data": {
      "text/plain": [
       "((1150725, 91), (1150725, 91))"
      ]
     },
     "execution_count": 10,
     "metadata": {},
     "output_type": "execute_result"
    }
   ],
   "source": [
    "df_oot_.shape, df_oot_full_prescreen_.shape"
   ]
  },
  {
   "cell_type": "code",
   "execution_count": 11,
   "id": "062de082",
   "metadata": {},
   "outputs": [],
   "source": [
    "df_oot_ = pd.merge(df_oot_, df_oot_full_prescreen_[['gen4_prescreen_prob','id','applicant_type','date_start','weight_eval']],\n",
    "              how = 'inner', on = ['id', 'applicant_type', 'date_start','weight_eval'])"
   ]
  },
  {
   "cell_type": "code",
   "execution_count": 12,
   "id": "adec2b2b",
   "metadata": {},
   "outputs": [
    {
     "data": {
      "text/plain": [
       "(1150725, 92)"
      ]
     },
     "execution_count": 12,
     "metadata": {},
     "output_type": "execute_result"
    }
   ],
   "source": [
    "df_oot_.shape"
   ]
  },
  {
   "cell_type": "markdown",
   "id": "21f508c8",
   "metadata": {},
   "source": [
    "### probability to score transformation\n",
    "- range 300~850\n",
    "- 40 double odds\n",
    "- odds 5:1 at score 650"
   ]
  },
  {
   "cell_type": "code",
   "execution_count": 13,
   "id": "82c85c46",
   "metadata": {},
   "outputs": [],
   "source": [
    "factor = 40/np.log(2)\n",
    "offset = 650 - factor * np.log(5)\n",
    "\n",
    "df_oot_['uw_log_odds'] = np.log((1 - df_oot_['gen4_underwriting_prob'])/df_oot_['gen4_underwriting_prob'])\n",
    "df_oot_['uw_odds'] = ((1 - df_oot_['gen4_underwriting_prob'])/df_oot_['gen4_underwriting_prob'])\n",
    "\n",
    "df_oot_['gen4_underwriting_score'] = round(offset+factor*df_oot_['uw_log_odds'])\n",
    "df_oot_.loc[df_oot_.gen4_underwriting_score>850,'gen4_underwriting_score']=850\n",
    "df_oot_.loc[df_oot_.gen4_underwriting_score<300,'gen4_underwriting_score']=300\n",
    "\n",
    "df_oot_['pr_log_odds'] = np.log((1 - df_oot_['gen4_prescreen_prob'])/df_oot_['gen4_prescreen_prob'])\n",
    "df_oot_['pr_odds'] = ((1 - df_oot_['gen4_prescreen_prob'])/df_oot_['gen4_prescreen_prob'])\n",
    "\n",
    "df_oot_['gen4_prescreen_score'] = round(offset+factor*df_oot_['pr_log_odds'])\n",
    "df_oot_.loc[df_oot_.gen4_prescreen_score>850,'gen4_prescreen_score']=850\n",
    "df_oot_.loc[df_oot_.gen4_prescreen_score<300,'gen4_prescreen_score']=300"
   ]
  },
  {
   "cell_type": "markdown",
   "id": "44320cd3",
   "metadata": {},
   "source": [
    "### save data for performance evaluation"
   ]
  },
  {
   "cell_type": "code",
   "execution_count": 14,
   "id": "d30c6447",
   "metadata": {},
   "outputs": [],
   "source": [
    "df_oot_['fico_adj'] = np.where(df_oot_.applicant_fico_score>850, 300, df_oot_.applicant_fico_score)\n",
    "keep_list = ['id','applicant_type','date_start','seg','ri_source','target_v2','weight_eval','gen4_prescreen_score','gen4_prescreen_prob',\n",
    "             'period', 'gen4_underwriting_prob', 'gen4_underwriting_score', 'gen3_score','fico_adj',\n",
    "             'applicant_vantage_score','funds_use_encode_v2','income_update']"
   ]
  },
  {
   "cell_type": "code",
   "execution_count": 15,
   "id": "7d846b31",
   "metadata": {},
   "outputs": [],
   "source": [
    "df_oot_[keep_list].to_parquet(artifact_path+ \"/\" + 'df_gen4_score_oot.parquet')\n",
    "df_oot_[keep_list].to_parquet('./artifact/df_gen4_score_oot.parquet')"
   ]
  },
  {
   "cell_type": "code",
   "execution_count": null,
   "id": "fdb89f88",
   "metadata": {},
   "outputs": [],
   "source": []
  }
 ],
 "metadata": {
  "kernelspec": {
   "display_name": "conda_python3",
   "language": "python",
   "name": "conda_python3"
  },
  "language_info": {
   "codemirror_mode": {
    "name": "ipython",
    "version": 3
   },
   "file_extension": ".py",
   "mimetype": "text/x-python",
   "name": "python",
   "nbconvert_exporter": "python",
   "pygments_lexer": "ipython3",
   "version": "3.6.13"
  }
 },
 "nbformat": 4,
 "nbformat_minor": 5
}
