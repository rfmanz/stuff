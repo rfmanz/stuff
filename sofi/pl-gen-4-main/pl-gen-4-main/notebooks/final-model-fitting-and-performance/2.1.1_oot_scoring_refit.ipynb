{
 "cells": [
  {
   "cell_type": "code",
   "execution_count": 1,
   "id": "8a3f190d",
   "metadata": {},
   "outputs": [
    {
     "name": "stdout",
     "output_type": "stream",
     "text": [
      "3.2.1\n"
     ]
    }
   ],
   "source": [
    "import sys, os, json, copy, sklearn, shap, gc, joblib, copy, time, ast\n",
    "import pandas as pd\n",
    "import numpy as np\n",
    "import lightgbm as lgb\n",
    "from lightgbm import LGBMClassifier\n",
    "import pickle as pkl\n",
    "from tqdm import tqdm\n",
    "from smart_open import open\n",
    "import seaborn as sns\n",
    "from sklearn.metrics import roc_curve,roc_auc_score, precision_score, recall_score, accuracy_score, confusion_matrix\n",
    "import matplotlib.pyplot as plt\n",
    "from rdsutils.woe import WOE_Transform                                            \n",
    "from rdsutils.metrics import get_pred_reports\n",
    "\n",
    "\n",
    "sys.path.insert(1, \"./\")\n",
    "from utility.performance_eval_plot import score_gain, plot_efficient_frontier, plot_percentile_bad_rate\n",
    "import utility.performance_eval_v3 as p_eval\n",
    "from utility  import data_summary, woe, data_eda, psi\n",
    "from utility.governance import get_risk_plot,get_feature_by_importance, get_pdp, get_shap_dependence, pickle_obj, save_shap_dependence,\\\n",
    "    save_pdp, plot_hist, get_woe_plots\n",
    "\n",
    "pd.set_option('display.max_columns', 20)\n",
    "pd.set_option('display.width', 500)\n",
    "pd.set_option('display.max_colwidth', None)\n",
    "\n",
    "%load_ext autoreload\n",
    "%autoreload 2\n",
    "\n",
    "print(lgb.__version__)"
   ]
  },
  {
   "cell_type": "markdown",
   "id": "2c8ef670",
   "metadata": {},
   "source": [
    "### read data"
   ]
  },
  {
   "cell_type": "code",
   "execution_count": 2,
   "id": "7004b217",
   "metadata": {},
   "outputs": [],
   "source": [
    "config_path = \"s3://sofi-data-science/hpeng/pl-gen4/artifact/config.json\"\n",
    "artifact_path = \"s3://sofi-data-science/hpeng/pl-gen4/artifact\"\n",
    "with open(os.path.join(config_path), \"r\") as f:\n",
    "    config = json.load(f)"
   ]
  },
  {
   "cell_type": "code",
   "execution_count": 3,
   "id": "e194d801",
   "metadata": {},
   "outputs": [],
   "source": [
    "exp_dict = pd.read_csv(config[\"meta\"][\"exp_dict_path\"])\n",
    "af_dict = pd.read_csv(config[\"meta\"][\"af_member_cust_dict_path\"])"
   ]
  },
  {
   "cell_type": "code",
   "execution_count": 4,
   "id": "9b52b1da",
   "metadata": {},
   "outputs": [],
   "source": [
    "model_member = pkl.load(open('artifact/'+'member'+'_final_model.pkl', 'rb'))\n",
    "model_non_member = pkl.load(open('artifact/'+'non_member'+'_final_model.pkl', 'rb'))\n",
    "model_non_member29 = pkl.load(open('artifact/'+'non_member'+'_final_model_29.pkl', 'rb'))\n",
    "model_non_member30 = pkl.load(open('artifact/'+'non_member'+'_final_model_30.pkl', 'rb'))\n",
    "model_prescreen = pkl.load(open('artifact/'+'prescreen'+'_final_model.pkl', 'rb'))"
   ]
  },
  {
   "cell_type": "code",
   "execution_count": 5,
   "id": "70fcf70a",
   "metadata": {},
   "outputs": [],
   "source": [
    "feature_list = model_prescreen.feature_name_ + model_member.feature_name_ + model_non_member.feature_name_ \\\n",
    "            + model_non_member30.feature_name_ + config[\"data_columns\"][\"weights\"] \\\n",
    "            + config[\"data_columns\"][\"target_cols\"] + config[\"data_columns\"][\"benchmark_cols\"] + \\\n",
    "            config[\"data_columns\"][\"meta_cols\"] + ['all_time_lending_member_flag'] + ['funds_use_encode_v2','income_update']\n",
    "feature_list = pd.unique(feature_list).tolist()"
   ]
  },
  {
   "cell_type": "code",
   "execution_count": 6,
   "id": "40b45e6f",
   "metadata": {},
   "outputs": [],
   "source": [
    "df_oot1_full = pd.read_parquet(config[\"data\"][\"clean\"][\"all_features_oot1\"], columns = feature_list)\n",
    "df_oot2_full = pd.read_parquet(config[\"data\"][\"clean\"][\"all_features_oot2\"], columns = feature_list)\n",
    "df_oot_full = pd.concat([df_oot1_full, df_oot2_full], axis=0, ignore_index=True)\n",
    "\n",
    "df_oot_full['seg'] = 'other'\n",
    "df_oot_full.loc[(df_oot_full.all_time_lending_member_flag==1), 'seg'] = 'member'\n",
    "df_oot_full.loc[(df_oot_full.all_time_lending_member_flag!=1), 'seg'] = 'non_member'"
   ]
  },
  {
   "cell_type": "markdown",
   "id": "9ceb51db",
   "metadata": {},
   "source": [
    "### data preprecessing"
   ]
  },
  {
   "cell_type": "code",
   "execution_count": 7,
   "id": "21c978a5",
   "metadata": {},
   "outputs": [
    {
     "name": "stderr",
     "output_type": "stream",
     "text": [
      "100%|██████████| 89/89 [00:09<00:00,  9.47it/s]\n"
     ]
    },
    {
     "data": {
      "text/plain": [
       "30"
      ]
     },
     "execution_count": 7,
     "metadata": {},
     "output_type": "execute_result"
    }
   ],
   "source": [
    "def categorical_to_nan(series, categorical_list):\n",
    "    \"\"\" given series and a list of catergorical values\n",
    "    \n",
    "    replace the categorical occurances to nan\n",
    "    \"\"\"\n",
    "    if len(categorical_list) == 0:\n",
    "        return series\n",
    "    mapper = dict((k, np.nan) for k in categorical_list)\n",
    "    return series.replace(mapper)\n",
    "\n",
    "no_special_list = []\n",
    "\n",
    "for col in tqdm(feature_list):\n",
    "    try:\n",
    "        special_val = ast.literal_eval(exp_dict[exp_dict.field_name == col].categorical.iloc[0])\n",
    "        special_val = [int(i) for i in special_val]\n",
    "        df_oot_full[col] = categorical_to_nan(df_oot_full[col], special_val)\n",
    "    except:\n",
    "        no_special_list.append(col)\n",
    "        \n",
    "len(no_special_list)"
   ]
  },
  {
   "cell_type": "code",
   "execution_count": 8,
   "id": "0458c9e5",
   "metadata": {},
   "outputs": [
    {
     "name": "stderr",
     "output_type": "stream",
     "text": [
      "100%|██████████| 31/31 [00:00<00:00, 1836.23it/s]\n"
     ]
    },
    {
     "name": "stdout",
     "output_type": "stream",
     "text": [
      "no special value for p13_iqz9420\n",
      "no special value for p13_iqz9426\n",
      "no special value for sofi_num_inq_12month\n"
     ]
    },
    {
     "name": "stderr",
     "output_type": "stream",
     "text": [
      "100%|██████████| 31/31 [00:00<00:00, 402.96it/s]\n"
     ]
    },
    {
     "name": "stdout",
     "output_type": "stream",
     "text": [
      "no special value for p13_iqz9427\n",
      "no special value for sofi_num_inq_1month\n",
      "no special value for sofi_num_inq_3month\n",
      "no special value for sofi_num_inq_personal_finance\n"
     ]
    },
    {
     "name": "stderr",
     "output_type": "stream",
     "text": [
      "100%|██████████| 31/31 [00:00<00:00, 318.70it/s]\n"
     ]
    },
    {
     "name": "stdout",
     "output_type": "stream",
     "text": [
      "no special value for p13_iqz9420\n",
      "no special value for p13_iqz9425\n"
     ]
    },
    {
     "name": "stderr",
     "output_type": "stream",
     "text": [
      "  0%|          | 0/30 [00:00<?, ?it/s]"
     ]
    },
    {
     "name": "stdout",
     "output_type": "stream",
     "text": [
      "no special value for p13_iqz9427\n",
      "no special value for sofi_num_inq_1month\n",
      "no special value for sofi_num_inq_3month\n",
      "no special value for sofi_num_inq_personal_finance\n"
     ]
    },
    {
     "name": "stderr",
     "output_type": "stream",
     "text": [
      "100%|██████████| 30/30 [00:00<00:00, 415.95it/s]\n"
     ]
    }
   ],
   "source": [
    "df_oot_full_member_ = df_oot_full[df_oot_full.seg=='member'].copy()\n",
    "df_oot_full_non_member_ = df_oot_full[df_oot_full.seg=='non_member'].copy()\n",
    "df_oot_full_prescreen_ = df_oot_full.copy()\n",
    "df_oot_full_non_member_30_ = df_oot_full[df_oot_full.seg=='non_member'].copy()\n",
    "\n",
    "\n",
    "impute_vals_member = pkl.load(open('artifact/'+'member'+'_final_imputed_val.pkl', 'rb'))\n",
    "impute_vals_non_member = pkl.load(open('artifact/'+'non_member'+'_final_imputed_val.pkl', 'rb'))\n",
    "impute_vals_prescreen = pkl.load(open('artifact/'+'prescreen'+'_final_imputed_val.pkl', 'rb'))\n",
    "impute_vals_non_member_30 = pkl.load(open('artifact/'+'non_member'+'_final_imputed_val_30.pkl', 'rb'))\n",
    "\n",
    "\n",
    "for f in tqdm(model_member.feature_name_):\n",
    "    try:\n",
    "        val = impute_vals_member[f]\n",
    "        df_oot_full_member_[f].fillna(val, inplace=True)\n",
    "    except:\n",
    "        print(\"no special value for \" + f)    \n",
    "        \n",
    "for f in tqdm(model_non_member.feature_name_):\n",
    "    try:\n",
    "        val = impute_vals_non_member[f]\n",
    "        df_oot_full_non_member_[f].fillna(val, inplace=True)\n",
    "    except:\n",
    "        print(\"no special value for \" + f)\n",
    "        \n",
    "for f in tqdm(model_prescreen.feature_name_):\n",
    "    try:\n",
    "        val = impute_vals_prescreen[f]\n",
    "        df_oot_full_prescreen_[f].fillna(val, inplace=True)\n",
    "    except:\n",
    "        print(\"no special value for \" + f)\n",
    "        \n",
    "for f in tqdm(model_non_member30.feature_name_):\n",
    "    try:\n",
    "        val = impute_vals_non_member_30[f]\n",
    "        df_oot_full_non_member_30_[f].fillna(val, inplace=True)\n",
    "    except:\n",
    "        print(\"no special value for \" + f)"
   ]
  },
  {
   "cell_type": "markdown",
   "id": "655b6241",
   "metadata": {},
   "source": [
    "### scoring"
   ]
  },
  {
   "cell_type": "code",
   "execution_count": 9,
   "id": "69072828",
   "metadata": {},
   "outputs": [],
   "source": [
    "df_oot_full_member_['gen4_underwriting_prob'] = model_member.predict_proba(df_oot_full_member_[model_member.feature_name_])[:,1]\n",
    "df_oot_full_non_member_['gen4_underwriting_prob'] = model_non_member.predict_proba(df_oot_full_non_member_[model_non_member.feature_name_])[:,1]\n",
    "\n",
    "df_oot_full_member_['gen4_underwriting_prob_29'] = model_member.predict_proba(df_oot_full_member_[model_member.feature_name_])[:,1]\n",
    "df_oot_full_non_member_['gen4_underwriting_prob_29'] = model_non_member29.predict_proba(df_oot_full_non_member_[model_non_member29.feature_name_])[:,1]\n",
    "\n",
    "df_oot_full_member_['gen4_underwriting_prob_30'] = model_member.predict_proba(df_oot_full_member_[model_member.feature_name_])[:,1]\n",
    "df_oot_full_non_member_30_['gen4_underwriting_prob_30'] = model_non_member30.predict_proba(df_oot_full_non_member_30_[model_non_member30.feature_name_])[:,1]\n",
    "\n",
    "df_oot_ = pd.concat([df_oot_full_member_, df_oot_full_non_member_], axis=0, ignore_index=True)\n",
    "df_oot_[\"weight_eval\"] = df_oot_[\"weight_cob\"] * df_oot_[\"weight_ri_v2\"]\n",
    "\n",
    "df_oot_30_ = pd.concat([df_oot_full_member_, df_oot_full_non_member_30_], axis=0, ignore_index=True)\n",
    "df_oot_30_[\"weight_eval\"] = df_oot_30_[\"weight_cob\"] * df_oot_30_[\"weight_ri_v2\"]\n",
    "\n",
    "df_oot_full_prescreen_['gen4_prescreen_prob'] = model_prescreen.predict_proba(df_oot_full_prescreen_[model_prescreen.feature_name_])[:,1]\n",
    "df_oot_full_prescreen_[\"weight_eval\"] = df_oot_full_prescreen_[\"weight_cob\"] * df_oot_full_prescreen_[\"weight_ri_v2\"]"
   ]
  },
  {
   "cell_type": "code",
   "execution_count": 10,
   "id": "2540a269",
   "metadata": {},
   "outputs": [
    {
     "data": {
      "text/plain": [
       "((1150725, 94), (1150725, 92), (1150725, 94))"
      ]
     },
     "execution_count": 10,
     "metadata": {},
     "output_type": "execute_result"
    }
   ],
   "source": [
    "df_oot_.shape, df_oot_full_prescreen_.shape, df_oot_30_.shape"
   ]
  },
  {
   "cell_type": "code",
   "execution_count": 11,
   "id": "436b2bc5",
   "metadata": {},
   "outputs": [],
   "source": [
    "df_oot_ = pd.merge(df_oot_[['id','applicant_type','date_start','seg','ri_source','target_v2','weight_eval',\\\n",
    "             'period',  'gen3_score','applicant_fico_score','applicant_vantage_score','funds_use_encode_v2','income_update',\\\n",
    "                            'gen4_underwriting_prob','gen4_underwriting_prob_29']], df_oot_full_prescreen_[['gen4_prescreen_prob','id','applicant_type','date_start','weight_eval']],\n",
    "              how = 'inner', on = ['id', 'applicant_type', 'date_start','weight_eval'])\n",
    "df_oot_ = pd.merge(df_oot_, df_oot_30_[['gen4_underwriting_prob_30','id','applicant_type','date_start','weight_eval']],\n",
    "              how = 'inner', on = ['id', 'applicant_type', 'date_start','weight_eval'])"
   ]
  },
  {
   "cell_type": "code",
   "execution_count": 12,
   "id": "88f94998",
   "metadata": {},
   "outputs": [
    {
     "data": {
      "text/plain": [
       "(1150725, 17)"
      ]
     },
     "execution_count": 12,
     "metadata": {},
     "output_type": "execute_result"
    }
   ],
   "source": [
    "df_oot_.shape"
   ]
  },
  {
   "cell_type": "code",
   "execution_count": 13,
   "id": "b3384122",
   "metadata": {},
   "outputs": [
    {
     "data": {
      "text/html": [
       "<div>\n",
       "<style scoped>\n",
       "    .dataframe tbody tr th:only-of-type {\n",
       "        vertical-align: middle;\n",
       "    }\n",
       "\n",
       "    .dataframe tbody tr th {\n",
       "        vertical-align: top;\n",
       "    }\n",
       "\n",
       "    .dataframe thead th {\n",
       "        text-align: right;\n",
       "    }\n",
       "</style>\n",
       "<table border=\"1\" class=\"dataframe\">\n",
       "  <thead>\n",
       "    <tr style=\"text-align: right;\">\n",
       "      <th></th>\n",
       "      <th>id</th>\n",
       "      <th>applicant_type</th>\n",
       "      <th>date_start</th>\n",
       "      <th>seg</th>\n",
       "      <th>ri_source</th>\n",
       "      <th>target_v2</th>\n",
       "      <th>weight_eval</th>\n",
       "      <th>period</th>\n",
       "      <th>gen3_score</th>\n",
       "      <th>applicant_fico_score</th>\n",
       "      <th>applicant_vantage_score</th>\n",
       "      <th>funds_use_encode_v2</th>\n",
       "      <th>income_update</th>\n",
       "      <th>gen4_underwriting_prob</th>\n",
       "      <th>gen4_underwriting_prob_29</th>\n",
       "      <th>gen4_prescreen_prob</th>\n",
       "      <th>gen4_underwriting_prob_30</th>\n",
       "    </tr>\n",
       "  </thead>\n",
       "  <tbody>\n",
       "    <tr>\n",
       "      <th>0</th>\n",
       "      <td>6038637</td>\n",
       "      <td>PRIMARY</td>\n",
       "      <td>2018-03-19</td>\n",
       "      <td>member</td>\n",
       "      <td>others</td>\n",
       "      <td>0.0</td>\n",
       "      <td>0.997245</td>\n",
       "      <td>oot18q1</td>\n",
       "      <td>743.0</td>\n",
       "      <td>785.0</td>\n",
       "      <td>742.0</td>\n",
       "      <td>2</td>\n",
       "      <td>70000.0</td>\n",
       "      <td>0.039774</td>\n",
       "      <td>0.039774</td>\n",
       "      <td>0.063039</td>\n",
       "      <td>0.039774</td>\n",
       "    </tr>\n",
       "    <tr>\n",
       "      <th>1</th>\n",
       "      <td>6038637</td>\n",
       "      <td>PRIMARY</td>\n",
       "      <td>2018-03-19</td>\n",
       "      <td>member</td>\n",
       "      <td>others</td>\n",
       "      <td>1.0</td>\n",
       "      <td>0.002755</td>\n",
       "      <td>oot18q1</td>\n",
       "      <td>743.0</td>\n",
       "      <td>785.0</td>\n",
       "      <td>742.0</td>\n",
       "      <td>2</td>\n",
       "      <td>70000.0</td>\n",
       "      <td>0.039774</td>\n",
       "      <td>0.039774</td>\n",
       "      <td>0.063039</td>\n",
       "      <td>0.039774</td>\n",
       "    </tr>\n",
       "    <tr>\n",
       "      <th>2</th>\n",
       "      <td>5961856</td>\n",
       "      <td>PRIMARY</td>\n",
       "      <td>2018-03-07</td>\n",
       "      <td>member</td>\n",
       "      <td>proxy</td>\n",
       "      <td>1.0</td>\n",
       "      <td>1.000000</td>\n",
       "      <td>oot18q1</td>\n",
       "      <td>655.0</td>\n",
       "      <td>689.0</td>\n",
       "      <td>672.0</td>\n",
       "      <td>5</td>\n",
       "      <td>1466909.0</td>\n",
       "      <td>0.098705</td>\n",
       "      <td>0.098705</td>\n",
       "      <td>0.123878</td>\n",
       "      <td>0.098705</td>\n",
       "    </tr>\n",
       "    <tr>\n",
       "      <th>3</th>\n",
       "      <td>6078544</td>\n",
       "      <td>PRIMARY</td>\n",
       "      <td>2018-03-24</td>\n",
       "      <td>member</td>\n",
       "      <td>others</td>\n",
       "      <td>0.0</td>\n",
       "      <td>0.999152</td>\n",
       "      <td>oot18q1</td>\n",
       "      <td>698.0</td>\n",
       "      <td>744.0</td>\n",
       "      <td>649.0</td>\n",
       "      <td>1</td>\n",
       "      <td>85000.0</td>\n",
       "      <td>0.131640</td>\n",
       "      <td>0.131640</td>\n",
       "      <td>0.060741</td>\n",
       "      <td>0.131640</td>\n",
       "    </tr>\n",
       "    <tr>\n",
       "      <th>4</th>\n",
       "      <td>6078544</td>\n",
       "      <td>PRIMARY</td>\n",
       "      <td>2018-03-24</td>\n",
       "      <td>member</td>\n",
       "      <td>others</td>\n",
       "      <td>1.0</td>\n",
       "      <td>0.000848</td>\n",
       "      <td>oot18q1</td>\n",
       "      <td>698.0</td>\n",
       "      <td>744.0</td>\n",
       "      <td>649.0</td>\n",
       "      <td>1</td>\n",
       "      <td>85000.0</td>\n",
       "      <td>0.131640</td>\n",
       "      <td>0.131640</td>\n",
       "      <td>0.060741</td>\n",
       "      <td>0.131640</td>\n",
       "    </tr>\n",
       "  </tbody>\n",
       "</table>\n",
       "</div>"
      ],
      "text/plain": [
       "        id applicant_type date_start     seg ri_source  target_v2  weight_eval   period  gen3_score  applicant_fico_score  applicant_vantage_score  funds_use_encode_v2  income_update  gen4_underwriting_prob  gen4_underwriting_prob_29  gen4_prescreen_prob  gen4_underwriting_prob_30\n",
       "0  6038637        PRIMARY 2018-03-19  member    others        0.0     0.997245  oot18q1       743.0                 785.0                    742.0                    2        70000.0                0.039774                   0.039774             0.063039                   0.039774\n",
       "1  6038637        PRIMARY 2018-03-19  member    others        1.0     0.002755  oot18q1       743.0                 785.0                    742.0                    2        70000.0                0.039774                   0.039774             0.063039                   0.039774\n",
       "2  5961856        PRIMARY 2018-03-07  member     proxy        1.0     1.000000  oot18q1       655.0                 689.0                    672.0                    5      1466909.0                0.098705                   0.098705             0.123878                   0.098705\n",
       "3  6078544        PRIMARY 2018-03-24  member    others        0.0     0.999152  oot18q1       698.0                 744.0                    649.0                    1        85000.0                0.131640                   0.131640             0.060741                   0.131640\n",
       "4  6078544        PRIMARY 2018-03-24  member    others        1.0     0.000848  oot18q1       698.0                 744.0                    649.0                    1        85000.0                0.131640                   0.131640             0.060741                   0.131640"
      ]
     },
     "execution_count": 13,
     "metadata": {},
     "output_type": "execute_result"
    }
   ],
   "source": [
    "df_oot_.head()"
   ]
  },
  {
   "cell_type": "markdown",
   "id": "f70f89c5",
   "metadata": {},
   "source": [
    "### probability to score transformation\n",
    "- range 300~850\n",
    "- 40 double odds\n",
    "- odds 5:1 at score 650"
   ]
  },
  {
   "cell_type": "code",
   "execution_count": 14,
   "id": "67434359",
   "metadata": {},
   "outputs": [],
   "source": [
    "factor = 40/np.log(2)\n",
    "offset = 650 - factor * np.log(5)\n",
    "\n",
    "df_oot_['uw_log_odds'] = np.log((1 - df_oot_['gen4_underwriting_prob'])/df_oot_['gen4_underwriting_prob'])\n",
    "df_oot_['uw_odds'] = ((1 - df_oot_['gen4_underwriting_prob'])/df_oot_['gen4_underwriting_prob'])\n",
    "\n",
    "df_oot_['gen4_underwriting_score'] = round(offset+factor*df_oot_['uw_log_odds'])\n",
    "df_oot_.loc[df_oot_.gen4_underwriting_score>850,'gen4_underwriting_score']=850\n",
    "df_oot_.loc[df_oot_.gen4_underwriting_score<300,'gen4_underwriting_score']=300\n",
    "\n",
    "df_oot_['uw_log_odds_29'] = np.log((1 - df_oot_['gen4_underwriting_prob_29'])/df_oot_['gen4_underwriting_prob_29'])\n",
    "df_oot_['uw_odds_29'] = ((1 - df_oot_['gen4_underwriting_prob_29'])/df_oot_['gen4_underwriting_prob_29'])\n",
    "\n",
    "df_oot_['gen4_underwriting_score_29'] = round(offset+factor*df_oot_['uw_log_odds_29'])\n",
    "df_oot_.loc[df_oot_.gen4_underwriting_score_29>850,'gen4_underwriting_score_29']=850\n",
    "df_oot_.loc[df_oot_.gen4_underwriting_score_29<300,'gen4_underwriting_score_29']=300\n",
    "\n",
    "df_oot_['uw_log_odds_30'] = np.log((1 - df_oot_['gen4_underwriting_prob_30'])/df_oot_['gen4_underwriting_prob_30'])\n",
    "df_oot_['uw_odds_30'] = ((1 - df_oot_['gen4_underwriting_prob_30'])/df_oot_['gen4_underwriting_prob_30'])\n",
    "\n",
    "df_oot_['gen4_underwriting_score_30'] = round(offset+factor*df_oot_['uw_log_odds_30'])\n",
    "df_oot_.loc[df_oot_.gen4_underwriting_score_30>850,'gen4_underwriting_score_30']=850\n",
    "df_oot_.loc[df_oot_.gen4_underwriting_score_30<300,'gen4_underwriting_score_30']=300\n",
    "\n",
    "df_oot_['pr_log_odds'] = np.log((1 - df_oot_['gen4_prescreen_prob'])/df_oot_['gen4_prescreen_prob'])\n",
    "df_oot_['pr_odds'] = ((1 - df_oot_['gen4_prescreen_prob'])/df_oot_['gen4_prescreen_prob'])\n",
    "\n",
    "df_oot_['gen4_prescreen_score'] = round(offset+factor*df_oot_['pr_log_odds'])\n",
    "df_oot_.loc[df_oot_.gen4_prescreen_score>850,'gen4_prescreen_score']=850\n",
    "df_oot_.loc[df_oot_.gen4_prescreen_score<300,'gen4_prescreen_score']=300"
   ]
  },
  {
   "cell_type": "code",
   "execution_count": 15,
   "id": "60870041",
   "metadata": {},
   "outputs": [
    {
     "data": {
      "text/html": [
       "<div>\n",
       "<style scoped>\n",
       "    .dataframe tbody tr th:only-of-type {\n",
       "        vertical-align: middle;\n",
       "    }\n",
       "\n",
       "    .dataframe tbody tr th {\n",
       "        vertical-align: top;\n",
       "    }\n",
       "\n",
       "    .dataframe thead th {\n",
       "        text-align: right;\n",
       "    }\n",
       "</style>\n",
       "<table border=\"1\" class=\"dataframe\">\n",
       "  <thead>\n",
       "    <tr style=\"text-align: right;\">\n",
       "      <th></th>\n",
       "      <th>id</th>\n",
       "      <th>applicant_type</th>\n",
       "      <th>date_start</th>\n",
       "      <th>seg</th>\n",
       "      <th>ri_source</th>\n",
       "      <th>target_v2</th>\n",
       "      <th>weight_eval</th>\n",
       "      <th>period</th>\n",
       "      <th>gen3_score</th>\n",
       "      <th>applicant_fico_score</th>\n",
       "      <th>...</th>\n",
       "      <th>gen4_underwriting_score</th>\n",
       "      <th>uw_log_odds_29</th>\n",
       "      <th>uw_odds_29</th>\n",
       "      <th>gen4_underwriting_score_29</th>\n",
       "      <th>uw_log_odds_30</th>\n",
       "      <th>uw_odds_30</th>\n",
       "      <th>gen4_underwriting_score_30</th>\n",
       "      <th>pr_log_odds</th>\n",
       "      <th>pr_odds</th>\n",
       "      <th>gen4_prescreen_score</th>\n",
       "    </tr>\n",
       "  </thead>\n",
       "  <tbody>\n",
       "    <tr>\n",
       "      <th>0</th>\n",
       "      <td>6038637</td>\n",
       "      <td>PRIMARY</td>\n",
       "      <td>2018-03-19</td>\n",
       "      <td>member</td>\n",
       "      <td>others</td>\n",
       "      <td>0.0</td>\n",
       "      <td>0.997245</td>\n",
       "      <td>oot18q1</td>\n",
       "      <td>743.0</td>\n",
       "      <td>785.0</td>\n",
       "      <td>...</td>\n",
       "      <td>741.0</td>\n",
       "      <td>3.183949</td>\n",
       "      <td>24.141899</td>\n",
       "      <td>741.0</td>\n",
       "      <td>3.183949</td>\n",
       "      <td>24.141899</td>\n",
       "      <td>741.0</td>\n",
       "      <td>2.698893</td>\n",
       "      <td>14.863271</td>\n",
       "      <td>713.0</td>\n",
       "    </tr>\n",
       "    <tr>\n",
       "      <th>1</th>\n",
       "      <td>6038637</td>\n",
       "      <td>PRIMARY</td>\n",
       "      <td>2018-03-19</td>\n",
       "      <td>member</td>\n",
       "      <td>others</td>\n",
       "      <td>1.0</td>\n",
       "      <td>0.002755</td>\n",
       "      <td>oot18q1</td>\n",
       "      <td>743.0</td>\n",
       "      <td>785.0</td>\n",
       "      <td>...</td>\n",
       "      <td>741.0</td>\n",
       "      <td>3.183949</td>\n",
       "      <td>24.141899</td>\n",
       "      <td>741.0</td>\n",
       "      <td>3.183949</td>\n",
       "      <td>24.141899</td>\n",
       "      <td>741.0</td>\n",
       "      <td>2.698893</td>\n",
       "      <td>14.863271</td>\n",
       "      <td>713.0</td>\n",
       "    </tr>\n",
       "    <tr>\n",
       "      <th>2</th>\n",
       "      <td>5961856</td>\n",
       "      <td>PRIMARY</td>\n",
       "      <td>2018-03-07</td>\n",
       "      <td>member</td>\n",
       "      <td>proxy</td>\n",
       "      <td>1.0</td>\n",
       "      <td>1.000000</td>\n",
       "      <td>oot18q1</td>\n",
       "      <td>655.0</td>\n",
       "      <td>689.0</td>\n",
       "      <td>...</td>\n",
       "      <td>685.0</td>\n",
       "      <td>2.211693</td>\n",
       "      <td>9.131166</td>\n",
       "      <td>685.0</td>\n",
       "      <td>2.211693</td>\n",
       "      <td>9.131166</td>\n",
       "      <td>685.0</td>\n",
       "      <td>1.956205</td>\n",
       "      <td>7.072434</td>\n",
       "      <td>670.0</td>\n",
       "    </tr>\n",
       "    <tr>\n",
       "      <th>3</th>\n",
       "      <td>6078544</td>\n",
       "      <td>PRIMARY</td>\n",
       "      <td>2018-03-24</td>\n",
       "      <td>member</td>\n",
       "      <td>others</td>\n",
       "      <td>0.0</td>\n",
       "      <td>0.999152</td>\n",
       "      <td>oot18q1</td>\n",
       "      <td>698.0</td>\n",
       "      <td>744.0</td>\n",
       "      <td>...</td>\n",
       "      <td>666.0</td>\n",
       "      <td>1.886536</td>\n",
       "      <td>6.596480</td>\n",
       "      <td>666.0</td>\n",
       "      <td>1.886536</td>\n",
       "      <td>6.596480</td>\n",
       "      <td>666.0</td>\n",
       "      <td>2.738470</td>\n",
       "      <td>15.463301</td>\n",
       "      <td>715.0</td>\n",
       "    </tr>\n",
       "    <tr>\n",
       "      <th>4</th>\n",
       "      <td>6078544</td>\n",
       "      <td>PRIMARY</td>\n",
       "      <td>2018-03-24</td>\n",
       "      <td>member</td>\n",
       "      <td>others</td>\n",
       "      <td>1.0</td>\n",
       "      <td>0.000848</td>\n",
       "      <td>oot18q1</td>\n",
       "      <td>698.0</td>\n",
       "      <td>744.0</td>\n",
       "      <td>...</td>\n",
       "      <td>666.0</td>\n",
       "      <td>1.886536</td>\n",
       "      <td>6.596480</td>\n",
       "      <td>666.0</td>\n",
       "      <td>1.886536</td>\n",
       "      <td>6.596480</td>\n",
       "      <td>666.0</td>\n",
       "      <td>2.738470</td>\n",
       "      <td>15.463301</td>\n",
       "      <td>715.0</td>\n",
       "    </tr>\n",
       "  </tbody>\n",
       "</table>\n",
       "<p>5 rows × 29 columns</p>\n",
       "</div>"
      ],
      "text/plain": [
       "        id applicant_type date_start     seg ri_source  target_v2  weight_eval   period  gen3_score  applicant_fico_score  ...  gen4_underwriting_score  uw_log_odds_29  uw_odds_29  gen4_underwriting_score_29  uw_log_odds_30  uw_odds_30  gen4_underwriting_score_30  pr_log_odds    pr_odds  gen4_prescreen_score\n",
       "0  6038637        PRIMARY 2018-03-19  member    others        0.0     0.997245  oot18q1       743.0                 785.0  ...                    741.0        3.183949   24.141899                       741.0        3.183949   24.141899                       741.0     2.698893  14.863271                 713.0\n",
       "1  6038637        PRIMARY 2018-03-19  member    others        1.0     0.002755  oot18q1       743.0                 785.0  ...                    741.0        3.183949   24.141899                       741.0        3.183949   24.141899                       741.0     2.698893  14.863271                 713.0\n",
       "2  5961856        PRIMARY 2018-03-07  member     proxy        1.0     1.000000  oot18q1       655.0                 689.0  ...                    685.0        2.211693    9.131166                       685.0        2.211693    9.131166                       685.0     1.956205   7.072434                 670.0\n",
       "3  6078544        PRIMARY 2018-03-24  member    others        0.0     0.999152  oot18q1       698.0                 744.0  ...                    666.0        1.886536    6.596480                       666.0        1.886536    6.596480                       666.0     2.738470  15.463301                 715.0\n",
       "4  6078544        PRIMARY 2018-03-24  member    others        1.0     0.000848  oot18q1       698.0                 744.0  ...                    666.0        1.886536    6.596480                       666.0        1.886536    6.596480                       666.0     2.738470  15.463301                 715.0\n",
       "\n",
       "[5 rows x 29 columns]"
      ]
     },
     "execution_count": 15,
     "metadata": {},
     "output_type": "execute_result"
    }
   ],
   "source": [
    "df_oot_.head()"
   ]
  },
  {
   "cell_type": "markdown",
   "id": "4d0976c0",
   "metadata": {},
   "source": [
    "### save data for performance evaluation"
   ]
  },
  {
   "cell_type": "code",
   "execution_count": 16,
   "id": "ac2137d3",
   "metadata": {},
   "outputs": [],
   "source": [
    "df_oot_['fico_adj'] = np.where(df_oot_.applicant_fico_score>850, 300, df_oot_.applicant_fico_score)\n",
    "keep_list = ['id','applicant_type','date_start','seg','ri_source','target_v2','weight_eval','gen4_prescreen_score','gen4_prescreen_prob',\n",
    "             'period', 'gen4_underwriting_prob', 'gen4_underwriting_score', 'gen4_underwriting_prob_29', 'gen4_underwriting_score_29',\n",
    "             'gen4_underwriting_prob_30', 'gen4_underwriting_score_30','gen3_score','fico_adj',\n",
    "             'applicant_vantage_score','funds_use_encode_v2','income_update']"
   ]
  },
  {
   "cell_type": "code",
   "execution_count": 17,
   "id": "59d57a01",
   "metadata": {},
   "outputs": [],
   "source": [
    "df_oot_[keep_list].to_parquet(artifact_path+ \"/\" + 'df_gen4_score_oot_refit.parquet')\n",
    "df_oot_[keep_list].to_parquet('./artifact/df_gen4_score_oot_refit.parquet')"
   ]
  },
  {
   "cell_type": "code",
   "execution_count": null,
   "id": "d1867c5e",
   "metadata": {},
   "outputs": [],
   "source": []
  },
  {
   "cell_type": "code",
   "execution_count": null,
   "id": "b861c863",
   "metadata": {},
   "outputs": [],
   "source": []
  }
 ],
 "metadata": {
  "kernelspec": {
   "display_name": "conda_python3",
   "language": "python",
   "name": "conda_python3"
  },
  "language_info": {
   "codemirror_mode": {
    "name": "ipython",
    "version": 3
   },
   "file_extension": ".py",
   "mimetype": "text/x-python",
   "name": "python",
   "nbconvert_exporter": "python",
   "pygments_lexer": "ipython3",
   "version": "3.6.13"
  }
 },
 "nbformat": 4,
 "nbformat_minor": 5
}
