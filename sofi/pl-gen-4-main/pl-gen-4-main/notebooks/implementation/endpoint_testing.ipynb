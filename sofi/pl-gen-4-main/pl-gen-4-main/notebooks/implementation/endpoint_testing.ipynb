{
 "cells": [
  {
   "cell_type": "code",
   "execution_count": 1,
   "id": "b34bfee2",
   "metadata": {},
   "outputs": [],
   "source": [
    "import pandas as pd\n",
    "import numpy as np\n",
    "\n",
    "import importlib\n",
    "import boto3\n",
    "import requests\n",
    "import io\n",
    "import json\n",
    "from tqdm import tqdm\n",
    "\n",
    "pd.set_option('display.max_columns', 1000)\n",
    "pd.set_option('display.width', 500)\n",
    "pd.set_option('display.max_rows', 1000)\n",
    "pd.set_option('display.max_colwidth', 100) \n",
    "\n",
    "s3 = boto3.client('s3')\n",
    "region = boto3.Session().region_name\n",
    "runtime_client = boto3.client('runtime.sagemaker')"
   ]
  },
  {
   "cell_type": "code",
   "execution_count": 2,
   "id": "08f052cc",
   "metadata": {},
   "outputs": [],
   "source": [
    "test_df=pd.read_parquet('s3://sofi-data-science/hpeng/pl-gen4/artifact/df_endpoint_testing.parquet')"
   ]
  },
  {
   "cell_type": "code",
   "execution_count": 3,
   "id": "848dd10a",
   "metadata": {},
   "outputs": [],
   "source": [
    "check_value=pd.DataFrame()"
   ]
  },
  {
   "cell_type": "markdown",
   "id": "28c49f8f",
   "metadata": {},
   "source": [
    "## score testing"
   ]
  },
  {
   "cell_type": "code",
   "execution_count": 5,
   "id": "fda9c586",
   "metadata": {},
   "outputs": [
    {
     "name": "stderr",
     "output_type": "stream",
     "text": [
      "100%|██████████| 10000/10000 [27:56<00:00,  5.97it/s]\n"
     ]
    }
   ],
   "source": [
    "for i in tqdm(range(0,10000)):\n",
    "    \n",
    "    ### input data***\n",
    "    test1=test_df[i:i+1]\n",
    "    Body_content=test1.to_json(orient='records')\n",
    "\n",
    "    response = runtime_client.invoke_endpoint(EndpointName='data-science-risk-rds-deploy-pl-gen4-prescreen-20220316', \n",
    "                                              ContentType='application/json',Accept='application/json', Body=Body_content)\n",
    "    result = response['Body'].read().decode('ascii')\n",
    "    bb=json.loads(result)[0]\n",
    "    check_value.at[i,'id']=test1['id'].values\n",
    "    check_value.at[i,'applicant_type']=test1['applicant_type'].values\n",
    "    check_value.at[i,'score_endpoint_prescreen']= bb['score']\n",
    "\n",
    "    response = runtime_client.invoke_endpoint(EndpointName='data-science-risk-rds-deploy-pl-gen4-underwriting-20220406', \n",
    "                                              ContentType='application/json',Accept='application/json', Body=Body_content)\n",
    "    result = response['Body'].read().decode('ascii')\n",
    "    bb=json.loads(result)[0]\n",
    "    check_value.at[i,'score_endpoint_uw']= bb['score']"
   ]
  },
  {
   "cell_type": "code",
   "execution_count": 6,
   "id": "582ba894",
   "metadata": {},
   "outputs": [],
   "source": [
    "check_value['id'] = check_value['id'].astype(int)\n",
    "check_value['applicant_type'] = check_value['applicant_type'].str[0]"
   ]
  },
  {
   "cell_type": "code",
   "execution_count": 7,
   "id": "09d4af67",
   "metadata": {},
   "outputs": [
    {
     "data": {
      "text/plain": [
       "(10000, 96)"
      ]
     },
     "execution_count": 7,
     "metadata": {},
     "output_type": "execute_result"
    }
   ],
   "source": [
    "df_check_combine=pd.merge(check_value,test_df,how='inner',on=['id','applicant_type'])\n",
    "df_check_combine.shape"
   ]
  },
  {
   "cell_type": "code",
   "execution_count": 8,
   "id": "c4243572",
   "metadata": {},
   "outputs": [],
   "source": [
    "df_check_combine['prescreen_score_dif'] = df_check_combine['gen4_prescreen_score'] - df_check_combine['score_endpoint_prescreen']\n",
    "df_check_combine['uw_score_dif'] = df_check_combine['gen4_underwriting_score_29'] - df_check_combine['score_endpoint_uw']"
   ]
  },
  {
   "cell_type": "code",
   "execution_count": 9,
   "id": "6f1620c0",
   "metadata": {},
   "outputs": [
    {
     "data": {
      "text/plain": [
       "count    10000.0\n",
       "mean         0.0\n",
       "std          0.0\n",
       "min          0.0\n",
       "25%          0.0\n",
       "50%          0.0\n",
       "75%          0.0\n",
       "max          0.0\n",
       "Name: prescreen_score_dif, dtype: float64"
      ]
     },
     "execution_count": 9,
     "metadata": {},
     "output_type": "execute_result"
    }
   ],
   "source": [
    "df_check_combine['prescreen_score_dif'].describe()"
   ]
  },
  {
   "cell_type": "code",
   "execution_count": 10,
   "id": "511adafd",
   "metadata": {},
   "outputs": [
    {
     "data": {
      "text/plain": [
       "count    10000.0\n",
       "mean         0.0\n",
       "std          0.0\n",
       "min          0.0\n",
       "25%          0.0\n",
       "50%          0.0\n",
       "75%          0.0\n",
       "max          0.0\n",
       "Name: uw_score_dif, dtype: float64"
      ]
     },
     "execution_count": 10,
     "metadata": {},
     "output_type": "execute_result"
    }
   ],
   "source": [
    "df_check_combine['uw_score_dif'].describe()"
   ]
  },
  {
   "cell_type": "code",
   "execution_count": 11,
   "id": "70826da4",
   "metadata": {},
   "outputs": [],
   "source": [
    "df_check_combine.to_parquet('s3://sofi-data-science/hpeng/pl-gen4/artifact/df_endpoint_testing_result.parquet')"
   ]
  },
  {
   "cell_type": "markdown",
   "id": "1d6ff7d4",
   "metadata": {},
   "source": [
    "## test invalid treatment"
   ]
  },
  {
   "cell_type": "code",
   "execution_count": 12,
   "id": "2248e91f",
   "metadata": {},
   "outputs": [
    {
     "data": {
      "text/plain": [
       "{'score': -99.0, 'version': 'v1', 'error': 'invalid input'}"
      ]
     },
     "metadata": {},
     "output_type": "display_data"
    },
    {
     "data": {
      "text/plain": [
       "{'score': -99.0, 'version': 'v1', 'error': 'invalid input'}"
      ]
     },
     "metadata": {},
     "output_type": "display_data"
    },
    {
     "data": {
      "text/plain": [
       "{'score': -99.0, 'version': 'v1', 'error': 'invalid input'}"
      ]
     },
     "metadata": {},
     "output_type": "display_data"
    },
    {
     "data": {
      "text/plain": [
       "{'score': -99.0, 'version': 'v1', 'error': 'invalid input'}"
      ]
     },
     "metadata": {},
     "output_type": "display_data"
    },
    {
     "data": {
      "text/plain": [
       "{'score': -99.0, 'version': 'v1', 'error': 'invalid input'}"
      ]
     },
     "metadata": {},
     "output_type": "display_data"
    },
    {
     "data": {
      "text/plain": [
       "{'score': -99.0, 'version': 'v1', 'error': 'invalid input'}"
      ]
     },
     "metadata": {},
     "output_type": "display_data"
    },
    {
     "data": {
      "text/plain": [
       "{'score': -99.0, 'version': 'v1', 'error': 'invalid input'}"
      ]
     },
     "metadata": {},
     "output_type": "display_data"
    },
    {
     "data": {
      "text/plain": [
       "{'score': -99.0, 'version': 'v1', 'error': 'invalid input'}"
      ]
     },
     "metadata": {},
     "output_type": "display_data"
    },
    {
     "data": {
      "text/plain": [
       "{'score': -99.0, 'version': 'v1', 'error': 'invalid input'}"
      ]
     },
     "metadata": {},
     "output_type": "display_data"
    },
    {
     "data": {
      "text/plain": [
       "{'score': -99.0, 'version': 'v1', 'error': 'invalid input'}"
      ]
     },
     "metadata": {},
     "output_type": "display_data"
    },
    {
     "data": {
      "text/plain": [
       "{'score': -99.0, 'version': 'v1', 'error': 'invalid input'}"
      ]
     },
     "metadata": {},
     "output_type": "display_data"
    },
    {
     "data": {
      "text/plain": [
       "{'score': -99.0, 'version': 'v1', 'error': 'invalid input'}"
      ]
     },
     "metadata": {},
     "output_type": "display_data"
    },
    {
     "data": {
      "text/plain": [
       "{'score': -99.0, 'version': 'v1', 'error': 'invalid input'}"
      ]
     },
     "metadata": {},
     "output_type": "display_data"
    },
    {
     "data": {
      "text/plain": [
       "{'score': -99.0, 'version': 'v1', 'error': 'invalid input'}"
      ]
     },
     "metadata": {},
     "output_type": "display_data"
    },
    {
     "data": {
      "text/plain": [
       "{'score': -99.0, 'version': 'v1', 'error': 'invalid input'}"
      ]
     },
     "metadata": {},
     "output_type": "display_data"
    },
    {
     "data": {
      "text/plain": [
       "{'score': -99.0, 'version': 'v1', 'error': 'invalid input'}"
      ]
     },
     "metadata": {},
     "output_type": "display_data"
    },
    {
     "data": {
      "text/plain": [
       "{'score': -99.0, 'version': 'v1', 'error': 'invalid input'}"
      ]
     },
     "metadata": {},
     "output_type": "display_data"
    },
    {
     "data": {
      "text/plain": [
       "{'score': -99.0, 'version': 'v1', 'error': 'invalid input'}"
      ]
     },
     "metadata": {},
     "output_type": "display_data"
    },
    {
     "data": {
      "text/plain": [
       "{'score': -99.0, 'version': 'v1', 'error': 'invalid input'}"
      ]
     },
     "metadata": {},
     "output_type": "display_data"
    },
    {
     "data": {
      "text/plain": [
       "{'score': -99.0, 'version': 'v1', 'error': 'invalid input'}"
      ]
     },
     "metadata": {},
     "output_type": "display_data"
    },
    {
     "data": {
      "text/plain": [
       "{'score': -99.0, 'version': 'v1', 'error': 'invalid input'}"
      ]
     },
     "metadata": {},
     "output_type": "display_data"
    },
    {
     "data": {
      "text/plain": [
       "{'score': -99.0, 'version': 'v1', 'error': 'invalid input'}"
      ]
     },
     "metadata": {},
     "output_type": "display_data"
    },
    {
     "data": {
      "text/plain": [
       "{'score': -99.0, 'version': 'v1', 'error': 'invalid input'}"
      ]
     },
     "metadata": {},
     "output_type": "display_data"
    },
    {
     "data": {
      "text/plain": [
       "{'score': -99.0, 'version': 'v1', 'error': 'invalid input'}"
      ]
     },
     "metadata": {},
     "output_type": "display_data"
    },
    {
     "data": {
      "text/plain": [
       "{'score': -99.0, 'version': 'v1', 'error': 'invalid input'}"
      ]
     },
     "metadata": {},
     "output_type": "display_data"
    },
    {
     "data": {
      "text/plain": [
       "{'score': -99.0, 'version': 'v1', 'error': 'invalid input'}"
      ]
     },
     "metadata": {},
     "output_type": "display_data"
    },
    {
     "data": {
      "text/plain": [
       "{'score': -99.0, 'version': 'v1', 'error': 'invalid input'}"
      ]
     },
     "metadata": {},
     "output_type": "display_data"
    },
    {
     "data": {
      "text/plain": [
       "{'score': -99.0, 'version': 'v1', 'error': 'invalid input'}"
      ]
     },
     "metadata": {},
     "output_type": "display_data"
    },
    {
     "data": {
      "text/plain": [
       "{'score': -99.0, 'version': 'v1', 'error': 'invalid input'}"
      ]
     },
     "metadata": {},
     "output_type": "display_data"
    },
    {
     "data": {
      "text/plain": [
       "{'score': -99.0, 'version': 'v1', 'error': 'invalid input'}"
      ]
     },
     "metadata": {},
     "output_type": "display_data"
    },
    {
     "data": {
      "text/plain": [
       "{'score': -99.0, 'version': 'v1', 'error': 'invalid input'}"
      ]
     },
     "metadata": {},
     "output_type": "display_data"
    }
   ],
   "source": [
    "#prescreen\n",
    "pr_list = ['p13_bcc5520',\n",
    "'t11_tmti2752',\n",
    "'t11_tstu2752',\n",
    "'p13_iqz9420',\n",
    "'t11_tall3205',\n",
    "'p13_bcc8322',\n",
    "'t11_tbca4504',\n",
    "'p13_upl8132',\n",
    "'t11_tbca3530',\n",
    "'t11_trev0722',\n",
    "'p13_reh7120',\n",
    "'t11_tbcc1303',\n",
    "'p13_all8352',\n",
    "'p13_all7936',\n",
    "'t11_tiln2754',\n",
    "'p13_iqz9425',\n",
    "'p13_iqt9510',\n",
    "'t11_tbcc3305',\n",
    "'p13_iqf9540',\n",
    "'t11_tiln2755',\n",
    "'t11_tbca2526',\n",
    "'p13_upl0438',\n",
    "'p13_upl8320',\n",
    "'p13_all7518',\n",
    "'p13_aut8140',\n",
    "'p13_cru8320',\n",
    "'p13_all7312',\n",
    "'p13_rta7300',\n",
    "'t11_tbca2381',\n",
    "'p13_cru1300',\n",
    "'p13_rtr5520']\n",
    "\n",
    "for attr in pr_list:\n",
    "    test1=test_df[0:1].copy()\n",
    "    test1[attr] = -999999999\n",
    "    Body_content=test1.to_json(orient='records')\n",
    "\n",
    "    response = runtime_client.invoke_endpoint(EndpointName='data-science-risk-rds-deploy-pl-gen4-prescreen-20220316', \n",
    "                                                  ContentType='application/json',Accept='application/json', Body=Body_content)\n",
    "    result = response['Body'].read().decode('ascii')\n",
    "    bb=json.loads(result)[0]\n",
    "    display(bb)"
   ]
  },
  {
   "cell_type": "code",
   "execution_count": 13,
   "id": "60c5c060",
   "metadata": {},
   "outputs": [
    {
     "data": {
      "text/plain": [
       "{'score': -99.0, 'version': 'v1', 'error': 'invalid input'}"
      ]
     },
     "metadata": {},
     "output_type": "display_data"
    },
    {
     "data": {
      "text/plain": [
       "{'score': -99.0, 'version': 'v1', 'error': 'invalid input'}"
      ]
     },
     "metadata": {},
     "output_type": "display_data"
    },
    {
     "data": {
      "text/plain": [
       "{'score': -99.0, 'version': 'v1', 'error': 'invalid input'}"
      ]
     },
     "metadata": {},
     "output_type": "display_data"
    },
    {
     "data": {
      "text/plain": [
       "{'score': -99.0, 'version': 'v1', 'error': 'invalid input'}"
      ]
     },
     "metadata": {},
     "output_type": "display_data"
    },
    {
     "data": {
      "text/plain": [
       "{'score': -99.0, 'version': 'v1', 'error': 'invalid input'}"
      ]
     },
     "metadata": {},
     "output_type": "display_data"
    },
    {
     "data": {
      "text/plain": [
       "{'score': -99.0, 'version': 'v1', 'error': 'invalid input'}"
      ]
     },
     "metadata": {},
     "output_type": "display_data"
    },
    {
     "data": {
      "text/plain": [
       "{'score': -99.0, 'version': 'v1', 'error': 'invalid input'}"
      ]
     },
     "metadata": {},
     "output_type": "display_data"
    },
    {
     "data": {
      "text/plain": [
       "{'score': -99.0, 'version': 'v1', 'error': 'invalid input'}"
      ]
     },
     "metadata": {},
     "output_type": "display_data"
    },
    {
     "data": {
      "text/plain": [
       "{'score': -99.0, 'version': 'v1', 'error': 'invalid input'}"
      ]
     },
     "metadata": {},
     "output_type": "display_data"
    },
    {
     "data": {
      "text/plain": [
       "{'score': -99.0, 'version': 'v1', 'error': 'invalid input'}"
      ]
     },
     "metadata": {},
     "output_type": "display_data"
    },
    {
     "data": {
      "text/plain": [
       "{'score': -99.0, 'version': 'v1', 'error': 'invalid input'}"
      ]
     },
     "metadata": {},
     "output_type": "display_data"
    },
    {
     "data": {
      "text/plain": [
       "{'score': -99.0, 'version': 'v1', 'error': 'invalid input'}"
      ]
     },
     "metadata": {},
     "output_type": "display_data"
    },
    {
     "data": {
      "text/plain": [
       "{'score': -99.0, 'version': 'v1', 'error': 'invalid input'}"
      ]
     },
     "metadata": {},
     "output_type": "display_data"
    },
    {
     "data": {
      "text/plain": [
       "{'score': -99.0, 'version': 'v1', 'error': 'invalid input'}"
      ]
     },
     "metadata": {},
     "output_type": "display_data"
    },
    {
     "data": {
      "text/plain": [
       "{'score': -99.0, 'version': 'v1', 'error': 'invalid input'}"
      ]
     },
     "metadata": {},
     "output_type": "display_data"
    },
    {
     "data": {
      "text/plain": [
       "{'score': -99.0, 'version': 'v1', 'error': 'invalid input'}"
      ]
     },
     "metadata": {},
     "output_type": "display_data"
    },
    {
     "data": {
      "text/plain": [
       "{'score': -99.0, 'version': 'v1', 'error': 'invalid input'}"
      ]
     },
     "metadata": {},
     "output_type": "display_data"
    },
    {
     "data": {
      "text/plain": [
       "{'score': -99.0, 'version': 'v1', 'error': 'invalid input'}"
      ]
     },
     "metadata": {},
     "output_type": "display_data"
    },
    {
     "data": {
      "text/plain": [
       "{'score': -99.0, 'version': 'v1', 'error': 'invalid input'}"
      ]
     },
     "metadata": {},
     "output_type": "display_data"
    },
    {
     "data": {
      "text/plain": [
       "{'score': -99.0, 'version': 'v1', 'error': 'invalid input'}"
      ]
     },
     "metadata": {},
     "output_type": "display_data"
    },
    {
     "data": {
      "text/plain": [
       "{'score': -99.0, 'version': 'v1', 'error': 'invalid input'}"
      ]
     },
     "metadata": {},
     "output_type": "display_data"
    },
    {
     "data": {
      "text/plain": [
       "{'score': -99.0, 'version': 'v1', 'error': 'invalid input'}"
      ]
     },
     "metadata": {},
     "output_type": "display_data"
    },
    {
     "data": {
      "text/plain": [
       "{'score': -99.0, 'version': 'v1', 'error': 'invalid input'}"
      ]
     },
     "metadata": {},
     "output_type": "display_data"
    },
    {
     "data": {
      "text/plain": [
       "{'score': -99.0, 'version': 'v1', 'error': 'invalid input'}"
      ]
     },
     "metadata": {},
     "output_type": "display_data"
    },
    {
     "data": {
      "text/plain": [
       "{'score': -99.0, 'version': 'v1', 'error': 'invalid input'}"
      ]
     },
     "metadata": {},
     "output_type": "display_data"
    },
    {
     "data": {
      "text/plain": [
       "{'score': -99.0, 'version': 'v1', 'error': 'invalid input'}"
      ]
     },
     "metadata": {},
     "output_type": "display_data"
    },
    {
     "data": {
      "text/plain": [
       "{'score': -99.0, 'version': 'v1', 'error': 'invalid input'}"
      ]
     },
     "metadata": {},
     "output_type": "display_data"
    },
    {
     "data": {
      "text/plain": [
       "{'score': -99.0, 'version': 'v1', 'error': 'invalid input'}"
      ]
     },
     "metadata": {},
     "output_type": "display_data"
    },
    {
     "data": {
      "text/plain": [
       "{'score': -99.0, 'version': 'v1', 'error': 'invalid input'}"
      ]
     },
     "metadata": {},
     "output_type": "display_data"
    },
    {
     "data": {
      "text/plain": [
       "{'score': -99.0, 'version': 'v1', 'error': 'invalid input'}"
      ]
     },
     "metadata": {},
     "output_type": "display_data"
    },
    {
     "data": {
      "text/plain": [
       "{'score': -99.0, 'version': 'v1', 'error': 'invalid input'}"
      ]
     },
     "metadata": {},
     "output_type": "display_data"
    },
    {
     "data": {
      "text/plain": [
       "{'score': -99.0, 'version': 'v1', 'error': 'invalid input'}"
      ]
     },
     "metadata": {},
     "output_type": "display_data"
    },
    {
     "data": {
      "text/plain": [
       "{'score': -99.0, 'version': 'v1', 'error': 'invalid input'}"
      ]
     },
     "metadata": {},
     "output_type": "display_data"
    },
    {
     "data": {
      "text/plain": [
       "{'score': -99.0, 'version': 'v1', 'error': 'invalid input'}"
      ]
     },
     "metadata": {},
     "output_type": "display_data"
    },
    {
     "data": {
      "text/plain": [
       "{'score': -99.0, 'version': 'v1', 'error': 'invalid input'}"
      ]
     },
     "metadata": {},
     "output_type": "display_data"
    },
    {
     "data": {
      "text/plain": [
       "{'score': -99.0, 'version': 'v1', 'error': 'invalid input'}"
      ]
     },
     "metadata": {},
     "output_type": "display_data"
    },
    {
     "data": {
      "text/plain": [
       "{'score': -99.0, 'version': 'v1', 'error': 'invalid input'}"
      ]
     },
     "metadata": {},
     "output_type": "display_data"
    },
    {
     "data": {
      "text/plain": [
       "{'score': -99.0, 'version': 'v1', 'error': 'invalid input'}"
      ]
     },
     "metadata": {},
     "output_type": "display_data"
    },
    {
     "data": {
      "text/plain": [
       "{'score': -99.0, 'version': 'v1', 'error': 'invalid input'}"
      ]
     },
     "metadata": {},
     "output_type": "display_data"
    },
    {
     "data": {
      "text/plain": [
       "{'score': -99.0, 'version': 'v1', 'error': 'invalid input'}"
      ]
     },
     "metadata": {},
     "output_type": "display_data"
    },
    {
     "data": {
      "text/plain": [
       "{'score': -99.0, 'version': 'v1', 'error': 'invalid input'}"
      ]
     },
     "metadata": {},
     "output_type": "display_data"
    },
    {
     "data": {
      "text/plain": [
       "{'score': -99.0, 'version': 'v1', 'error': 'invalid input'}"
      ]
     },
     "metadata": {},
     "output_type": "display_data"
    },
    {
     "data": {
      "text/plain": [
       "{'score': -99.0, 'version': 'v1', 'error': 'invalid input'}"
      ]
     },
     "metadata": {},
     "output_type": "display_data"
    },
    {
     "data": {
      "text/plain": [
       "{'score': -99.0, 'version': 'v1', 'error': 'invalid input'}"
      ]
     },
     "metadata": {},
     "output_type": "display_data"
    },
    {
     "data": {
      "text/plain": [
       "{'score': -99.0, 'version': 'v1', 'error': 'invalid input'}"
      ]
     },
     "metadata": {},
     "output_type": "display_data"
    },
    {
     "data": {
      "text/plain": [
       "{'score': -99.0, 'version': 'v1', 'error': 'invalid input'}"
      ]
     },
     "metadata": {},
     "output_type": "display_data"
    },
    {
     "data": {
      "text/plain": [
       "{'score': -99.0, 'version': 'v1', 'error': 'invalid input'}"
      ]
     },
     "metadata": {},
     "output_type": "display_data"
    },
    {
     "data": {
      "text/plain": [
       "{'score': -99.0, 'version': 'v1', 'error': 'invalid input'}"
      ]
     },
     "metadata": {},
     "output_type": "display_data"
    },
    {
     "data": {
      "text/plain": [
       "{'score': -99.0, 'version': 'v1', 'error': 'invalid input'}"
      ]
     },
     "metadata": {},
     "output_type": "display_data"
    },
    {
     "data": {
      "text/plain": [
       "{'score': -99.0, 'version': 'v1', 'error': 'invalid input'}"
      ]
     },
     "metadata": {},
     "output_type": "display_data"
    },
    {
     "data": {
      "text/plain": [
       "{'score': -99.0, 'version': 'v1', 'error': 'invalid input'}"
      ]
     },
     "metadata": {},
     "output_type": "display_data"
    },
    {
     "data": {
      "text/plain": [
       "{'score': -99.0, 'version': 'v1', 'error': 'invalid input'}"
      ]
     },
     "metadata": {},
     "output_type": "display_data"
    },
    {
     "data": {
      "text/plain": [
       "{'score': -99.0, 'version': 'v1', 'error': 'invalid input'}"
      ]
     },
     "metadata": {},
     "output_type": "display_data"
    },
    {
     "data": {
      "text/plain": [
       "{'score': -99.0, 'version': 'v1', 'error': 'invalid input'}"
      ]
     },
     "metadata": {},
     "output_type": "display_data"
    },
    {
     "data": {
      "text/plain": [
       "{'score': -99.0, 'version': 'v1', 'error': 'invalid input'}"
      ]
     },
     "metadata": {},
     "output_type": "display_data"
    },
    {
     "data": {
      "text/plain": [
       "{'score': -99.0, 'version': 'v1', 'error': 'invalid input'}"
      ]
     },
     "metadata": {},
     "output_type": "display_data"
    },
    {
     "data": {
      "text/plain": [
       "{'score': -99.0, 'version': 'v1', 'error': 'invalid input'}"
      ]
     },
     "metadata": {},
     "output_type": "display_data"
    },
    {
     "data": {
      "text/plain": [
       "{'score': -99.0, 'version': 'v1', 'error': 'invalid input'}"
      ]
     },
     "metadata": {},
     "output_type": "display_data"
    },
    {
     "data": {
      "text/plain": [
       "{'score': -99.0, 'version': 'v1', 'error': 'invalid input'}"
      ]
     },
     "metadata": {},
     "output_type": "display_data"
    },
    {
     "data": {
      "text/plain": [
       "{'score': -99.0, 'version': 'v1', 'error': 'invalid input'}"
      ]
     },
     "metadata": {},
     "output_type": "display_data"
    }
   ],
   "source": [
    "## member & nonmember\n",
    "mem_list = ['t11_tbca2526',\n",
    "'t11_tstu1752',\n",
    "'sofi_all5840_mtf5838_to_income',\n",
    "'t11_tall02q3',\n",
    "'t11_tall3205',\n",
    "'current_pl_trade_bal_ratio',\n",
    "'p13_bcc8322',\n",
    "'t11_tpil01q1',\n",
    "'sofi_num_month_recent_list_psl',\n",
    "'t11_tupl01q1',\n",
    "'t11_tbcc1303',\n",
    "'p13_iqz9420',\n",
    "'t11_tbca3243',\n",
    "'sofi_num_inq_12month',\n",
    "'t11_tbcc4355',\n",
    "'t11_tbcc2267',\n",
    "'p13_mtf8111',\n",
    "'p13_all8352',\n",
    "'all_time_months_oldest_pl_trade',\n",
    "'p13_iqz9426',\n",
    "'p13_all8800',\n",
    "'t11_tiln2755',\n",
    "'p13_pil8320',\n",
    "'p13_all7110',\n",
    "'t11_tmti02q7',\n",
    "'p13_bcc7580',\n",
    "'t11_tall0722',\n",
    "'p13_all2919',\n",
    "'t11_tiln0727',\n",
    "'p13_iqb9740',\n",
    "'p13_iln8222']\n",
    "nm_list = [\n",
    "    'p13_bcc5520',\n",
    "'sofi_all5840_mtf5838_to_income',\n",
    "'t11_tall2205',\n",
    "'p13_bca8370',\n",
    "'t11_tstu2752',\n",
    "'p13_iqz9427',\n",
    "'p13_upl8132',\n",
    "'t11_tmti2752',\n",
    "'t11_tiln2755',\n",
    "'sofi_num_inq_3month',\n",
    "'t11_tbca4504',\n",
    "'sofi_num_inq_personal_finance',\n",
    "'t11_trev0722',\n",
    "'t11_tbcc4208',\n",
    "'p13_all8352',\n",
    "'p13_all7936',\n",
    "'p13_all5320',\n",
    "'t11_tbca2530',\n",
    "'sofi_num_inq_1month',\n",
    "'p13_reh7120',\n",
    "'p13_all7519',\n",
    "'t11_tbca2303',\n",
    "'p13_bca7600',\n",
    "'p13_upl8320',\n",
    "'p13_bcx7110',\n",
    "'p13_all7312',\n",
    "'p13_cru8320',\n",
    "'p13_rta7300',\n",
    "'p13_rtr5520'\n",
    "]\n",
    "for attr in mem_list:\n",
    "    test1=test_df[0:1].copy()\n",
    "    test1[attr] = -999999999\n",
    "    Body_content=test1.to_json(orient='records')\n",
    "\n",
    "    response = runtime_client.invoke_endpoint(EndpointName='data-science-risk-rds-deploy-pl-gen4-underwriting-20220406', \n",
    "                                              ContentType='application/json',Accept='application/json', Body=Body_content)\n",
    "\n",
    "    result = response['Body'].read().decode('ascii')\n",
    "    bb=json.loads(result)[0]\n",
    "    display(bb)\n",
    "    \n",
    "for attr in nm_list:\n",
    "    test1=test_df[5000:5001].copy()\n",
    "    test1[attr] = -999999999\n",
    "    Body_content=test1.to_json(orient='records')\n",
    "\n",
    "    response = runtime_client.invoke_endpoint(EndpointName='data-science-risk-rds-deploy-pl-gen4-underwriting-20220406', \n",
    "                                              ContentType='application/json',Accept='application/json', Body=Body_content)\n",
    "\n",
    "    result = response['Body'].read().decode('ascii')\n",
    "    bb=json.loads(result)[0]\n",
    "    display(bb)"
   ]
  },
  {
   "cell_type": "markdown",
   "id": "571f22a6",
   "metadata": {},
   "source": [
    "### test missing treatment"
   ]
  },
  {
   "cell_type": "code",
   "execution_count": 14,
   "id": "98df7d85",
   "metadata": {},
   "outputs": [
    {
     "data": {
      "text/plain": [
       "{'score': -88.0, 'version': 'v1', 'error': 'missing input'}"
      ]
     },
     "metadata": {},
     "output_type": "display_data"
    },
    {
     "data": {
      "text/plain": [
       "{'score': -88.0, 'version': 'v1', 'error': 'missing input'}"
      ]
     },
     "metadata": {},
     "output_type": "display_data"
    },
    {
     "data": {
      "text/plain": [
       "{'score': -88.0, 'version': 'v1', 'error': 'missing input'}"
      ]
     },
     "metadata": {},
     "output_type": "display_data"
    },
    {
     "data": {
      "text/plain": [
       "{'score': -88.0, 'version': 'v1', 'error': 'missing input'}"
      ]
     },
     "metadata": {},
     "output_type": "display_data"
    },
    {
     "data": {
      "text/plain": [
       "{'score': -88.0, 'version': 'v1', 'error': 'missing input'}"
      ]
     },
     "metadata": {},
     "output_type": "display_data"
    },
    {
     "data": {
      "text/plain": [
       "{'score': -88.0, 'version': 'v1', 'error': 'missing input'}"
      ]
     },
     "metadata": {},
     "output_type": "display_data"
    },
    {
     "data": {
      "text/plain": [
       "{'score': -88.0, 'version': 'v1', 'error': 'missing input'}"
      ]
     },
     "metadata": {},
     "output_type": "display_data"
    },
    {
     "data": {
      "text/plain": [
       "{'score': -88.0, 'version': 'v1', 'error': 'missing input'}"
      ]
     },
     "metadata": {},
     "output_type": "display_data"
    },
    {
     "data": {
      "text/plain": [
       "{'score': -88.0, 'version': 'v1', 'error': 'missing input'}"
      ]
     },
     "metadata": {},
     "output_type": "display_data"
    },
    {
     "data": {
      "text/plain": [
       "{'score': -88.0, 'version': 'v1', 'error': 'missing input'}"
      ]
     },
     "metadata": {},
     "output_type": "display_data"
    },
    {
     "data": {
      "text/plain": [
       "{'score': -88.0, 'version': 'v1', 'error': 'missing input'}"
      ]
     },
     "metadata": {},
     "output_type": "display_data"
    },
    {
     "data": {
      "text/plain": [
       "{'score': -88.0, 'version': 'v1', 'error': 'missing input'}"
      ]
     },
     "metadata": {},
     "output_type": "display_data"
    },
    {
     "data": {
      "text/plain": [
       "{'score': -88.0, 'version': 'v1', 'error': 'missing input'}"
      ]
     },
     "metadata": {},
     "output_type": "display_data"
    },
    {
     "data": {
      "text/plain": [
       "{'score': -88.0, 'version': 'v1', 'error': 'missing input'}"
      ]
     },
     "metadata": {},
     "output_type": "display_data"
    },
    {
     "data": {
      "text/plain": [
       "{'score': -88.0, 'version': 'v1', 'error': 'missing input'}"
      ]
     },
     "metadata": {},
     "output_type": "display_data"
    },
    {
     "data": {
      "text/plain": [
       "{'score': -88.0, 'version': 'v1', 'error': 'missing input'}"
      ]
     },
     "metadata": {},
     "output_type": "display_data"
    },
    {
     "data": {
      "text/plain": [
       "{'score': -88.0, 'version': 'v1', 'error': 'missing input'}"
      ]
     },
     "metadata": {},
     "output_type": "display_data"
    },
    {
     "data": {
      "text/plain": [
       "{'score': -88.0, 'version': 'v1', 'error': 'missing input'}"
      ]
     },
     "metadata": {},
     "output_type": "display_data"
    },
    {
     "data": {
      "text/plain": [
       "{'score': -88.0, 'version': 'v1', 'error': 'missing input'}"
      ]
     },
     "metadata": {},
     "output_type": "display_data"
    },
    {
     "data": {
      "text/plain": [
       "{'score': -88.0, 'version': 'v1', 'error': 'missing input'}"
      ]
     },
     "metadata": {},
     "output_type": "display_data"
    },
    {
     "data": {
      "text/plain": [
       "{'score': -88.0, 'version': 'v1', 'error': 'missing input'}"
      ]
     },
     "metadata": {},
     "output_type": "display_data"
    },
    {
     "data": {
      "text/plain": [
       "{'score': -88.0, 'version': 'v1', 'error': 'missing input'}"
      ]
     },
     "metadata": {},
     "output_type": "display_data"
    },
    {
     "data": {
      "text/plain": [
       "{'score': -88.0, 'version': 'v1', 'error': 'missing input'}"
      ]
     },
     "metadata": {},
     "output_type": "display_data"
    },
    {
     "data": {
      "text/plain": [
       "{'score': -88.0, 'version': 'v1', 'error': 'missing input'}"
      ]
     },
     "metadata": {},
     "output_type": "display_data"
    },
    {
     "data": {
      "text/plain": [
       "{'score': -88.0, 'version': 'v1', 'error': 'missing input'}"
      ]
     },
     "metadata": {},
     "output_type": "display_data"
    },
    {
     "data": {
      "text/plain": [
       "{'score': -88.0, 'version': 'v1', 'error': 'missing input'}"
      ]
     },
     "metadata": {},
     "output_type": "display_data"
    },
    {
     "data": {
      "text/plain": [
       "{'score': -88.0, 'version': 'v1', 'error': 'missing input'}"
      ]
     },
     "metadata": {},
     "output_type": "display_data"
    },
    {
     "data": {
      "text/plain": [
       "{'score': -88.0, 'version': 'v1', 'error': 'missing input'}"
      ]
     },
     "metadata": {},
     "output_type": "display_data"
    },
    {
     "data": {
      "text/plain": [
       "{'score': -88.0, 'version': 'v1', 'error': 'missing input'}"
      ]
     },
     "metadata": {},
     "output_type": "display_data"
    },
    {
     "data": {
      "text/plain": [
       "{'score': -88.0, 'version': 'v1', 'error': 'missing input'}"
      ]
     },
     "metadata": {},
     "output_type": "display_data"
    },
    {
     "data": {
      "text/plain": [
       "{'score': -88.0, 'version': 'v1', 'error': 'missing input'}"
      ]
     },
     "metadata": {},
     "output_type": "display_data"
    }
   ],
   "source": [
    "#prescreen\n",
    "for attr in pr_list:\n",
    "    test1=test_df[0:1].copy()\n",
    "    test1[attr] = np.nan\n",
    "    Body_content=test1.to_json(orient='records')\n",
    "\n",
    "    response = runtime_client.invoke_endpoint(EndpointName='data-science-risk-rds-deploy-pl-gen4-prescreen-20220316', \n",
    "                                                  ContentType='application/json',Accept='application/json', Body=Body_content)\n",
    "    result = response['Body'].read().decode('ascii')\n",
    "    bb=json.loads(result)[0]\n",
    "    display(bb)"
   ]
  },
  {
   "cell_type": "code",
   "execution_count": 15,
   "id": "bd6500ff",
   "metadata": {},
   "outputs": [
    {
     "data": {
      "text/plain": [
       "{'score': -88.0, 'version': 'v1', 'error': 'missing input'}"
      ]
     },
     "metadata": {},
     "output_type": "display_data"
    },
    {
     "data": {
      "text/plain": [
       "{'score': -88.0, 'version': 'v1', 'error': 'missing input'}"
      ]
     },
     "metadata": {},
     "output_type": "display_data"
    },
    {
     "data": {
      "text/plain": [
       "{'score': -88.0, 'version': 'v1', 'error': 'missing input'}"
      ]
     },
     "metadata": {},
     "output_type": "display_data"
    },
    {
     "data": {
      "text/plain": [
       "{'score': -88.0, 'version': 'v1', 'error': 'missing input'}"
      ]
     },
     "metadata": {},
     "output_type": "display_data"
    },
    {
     "data": {
      "text/plain": [
       "{'score': -88.0, 'version': 'v1', 'error': 'missing input'}"
      ]
     },
     "metadata": {},
     "output_type": "display_data"
    },
    {
     "data": {
      "text/plain": [
       "{'score': -88.0, 'version': 'v1', 'error': 'missing input'}"
      ]
     },
     "metadata": {},
     "output_type": "display_data"
    },
    {
     "data": {
      "text/plain": [
       "{'score': -88.0, 'version': 'v1', 'error': 'missing input'}"
      ]
     },
     "metadata": {},
     "output_type": "display_data"
    },
    {
     "data": {
      "text/plain": [
       "{'score': -88.0, 'version': 'v1', 'error': 'missing input'}"
      ]
     },
     "metadata": {},
     "output_type": "display_data"
    },
    {
     "data": {
      "text/plain": [
       "{'score': -88.0, 'version': 'v1', 'error': 'missing input'}"
      ]
     },
     "metadata": {},
     "output_type": "display_data"
    },
    {
     "data": {
      "text/plain": [
       "{'score': -88.0, 'version': 'v1', 'error': 'missing input'}"
      ]
     },
     "metadata": {},
     "output_type": "display_data"
    },
    {
     "data": {
      "text/plain": [
       "{'score': -88.0, 'version': 'v1', 'error': 'missing input'}"
      ]
     },
     "metadata": {},
     "output_type": "display_data"
    },
    {
     "data": {
      "text/plain": [
       "{'score': -88.0, 'version': 'v1', 'error': 'missing input'}"
      ]
     },
     "metadata": {},
     "output_type": "display_data"
    },
    {
     "data": {
      "text/plain": [
       "{'score': -88.0, 'version': 'v1', 'error': 'missing input'}"
      ]
     },
     "metadata": {},
     "output_type": "display_data"
    },
    {
     "data": {
      "text/plain": [
       "{'score': -88.0, 'version': 'v1', 'error': 'missing input'}"
      ]
     },
     "metadata": {},
     "output_type": "display_data"
    },
    {
     "data": {
      "text/plain": [
       "{'score': -88.0, 'version': 'v1', 'error': 'missing input'}"
      ]
     },
     "metadata": {},
     "output_type": "display_data"
    },
    {
     "data": {
      "text/plain": [
       "{'score': -88.0, 'version': 'v1', 'error': 'missing input'}"
      ]
     },
     "metadata": {},
     "output_type": "display_data"
    },
    {
     "data": {
      "text/plain": [
       "{'score': -88.0, 'version': 'v1', 'error': 'missing input'}"
      ]
     },
     "metadata": {},
     "output_type": "display_data"
    },
    {
     "data": {
      "text/plain": [
       "{'score': -88.0, 'version': 'v1', 'error': 'missing input'}"
      ]
     },
     "metadata": {},
     "output_type": "display_data"
    },
    {
     "data": {
      "text/plain": [
       "{'score': -88.0, 'version': 'v1', 'error': 'missing input'}"
      ]
     },
     "metadata": {},
     "output_type": "display_data"
    },
    {
     "data": {
      "text/plain": [
       "{'score': -88.0, 'version': 'v1', 'error': 'missing input'}"
      ]
     },
     "metadata": {},
     "output_type": "display_data"
    },
    {
     "data": {
      "text/plain": [
       "{'score': -88.0, 'version': 'v1', 'error': 'missing input'}"
      ]
     },
     "metadata": {},
     "output_type": "display_data"
    },
    {
     "data": {
      "text/plain": [
       "{'score': -88.0, 'version': 'v1', 'error': 'missing input'}"
      ]
     },
     "metadata": {},
     "output_type": "display_data"
    },
    {
     "data": {
      "text/plain": [
       "{'score': -88.0, 'version': 'v1', 'error': 'missing input'}"
      ]
     },
     "metadata": {},
     "output_type": "display_data"
    },
    {
     "data": {
      "text/plain": [
       "{'score': -88.0, 'version': 'v1', 'error': 'missing input'}"
      ]
     },
     "metadata": {},
     "output_type": "display_data"
    },
    {
     "data": {
      "text/plain": [
       "{'score': -88.0, 'version': 'v1', 'error': 'missing input'}"
      ]
     },
     "metadata": {},
     "output_type": "display_data"
    },
    {
     "data": {
      "text/plain": [
       "{'score': -88.0, 'version': 'v1', 'error': 'missing input'}"
      ]
     },
     "metadata": {},
     "output_type": "display_data"
    },
    {
     "data": {
      "text/plain": [
       "{'score': -88.0, 'version': 'v1', 'error': 'missing input'}"
      ]
     },
     "metadata": {},
     "output_type": "display_data"
    },
    {
     "data": {
      "text/plain": [
       "{'score': -88.0, 'version': 'v1', 'error': 'missing input'}"
      ]
     },
     "metadata": {},
     "output_type": "display_data"
    },
    {
     "data": {
      "text/plain": [
       "{'score': -88.0, 'version': 'v1', 'error': 'missing input'}"
      ]
     },
     "metadata": {},
     "output_type": "display_data"
    },
    {
     "data": {
      "text/plain": [
       "{'score': -88.0, 'version': 'v1', 'error': 'missing input'}"
      ]
     },
     "metadata": {},
     "output_type": "display_data"
    },
    {
     "data": {
      "text/plain": [
       "{'score': -88.0, 'version': 'v1', 'error': 'missing input'}"
      ]
     },
     "metadata": {},
     "output_type": "display_data"
    },
    {
     "data": {
      "text/plain": [
       "{'score': -88.0, 'version': 'v1', 'error': 'missing input'}"
      ]
     },
     "metadata": {},
     "output_type": "display_data"
    },
    {
     "data": {
      "text/plain": [
       "{'score': -88.0, 'version': 'v1', 'error': 'missing input'}"
      ]
     },
     "metadata": {},
     "output_type": "display_data"
    },
    {
     "data": {
      "text/plain": [
       "{'score': -88.0, 'version': 'v1', 'error': 'missing input'}"
      ]
     },
     "metadata": {},
     "output_type": "display_data"
    },
    {
     "data": {
      "text/plain": [
       "{'score': -88.0, 'version': 'v1', 'error': 'missing input'}"
      ]
     },
     "metadata": {},
     "output_type": "display_data"
    },
    {
     "data": {
      "text/plain": [
       "{'score': -88.0, 'version': 'v1', 'error': 'missing input'}"
      ]
     },
     "metadata": {},
     "output_type": "display_data"
    },
    {
     "data": {
      "text/plain": [
       "{'score': -88.0, 'version': 'v1', 'error': 'missing input'}"
      ]
     },
     "metadata": {},
     "output_type": "display_data"
    },
    {
     "data": {
      "text/plain": [
       "{'score': -88.0, 'version': 'v1', 'error': 'missing input'}"
      ]
     },
     "metadata": {},
     "output_type": "display_data"
    },
    {
     "data": {
      "text/plain": [
       "{'score': -88.0, 'version': 'v1', 'error': 'missing input'}"
      ]
     },
     "metadata": {},
     "output_type": "display_data"
    },
    {
     "data": {
      "text/plain": [
       "{'score': -88.0, 'version': 'v1', 'error': 'missing input'}"
      ]
     },
     "metadata": {},
     "output_type": "display_data"
    },
    {
     "data": {
      "text/plain": [
       "{'score': -88.0, 'version': 'v1', 'error': 'missing input'}"
      ]
     },
     "metadata": {},
     "output_type": "display_data"
    },
    {
     "data": {
      "text/plain": [
       "{'score': -88.0, 'version': 'v1', 'error': 'missing input'}"
      ]
     },
     "metadata": {},
     "output_type": "display_data"
    },
    {
     "data": {
      "text/plain": [
       "{'score': -88.0, 'version': 'v1', 'error': 'missing input'}"
      ]
     },
     "metadata": {},
     "output_type": "display_data"
    },
    {
     "data": {
      "text/plain": [
       "{'score': -88.0, 'version': 'v1', 'error': 'missing input'}"
      ]
     },
     "metadata": {},
     "output_type": "display_data"
    },
    {
     "data": {
      "text/plain": [
       "{'score': -88.0, 'version': 'v1', 'error': 'missing input'}"
      ]
     },
     "metadata": {},
     "output_type": "display_data"
    },
    {
     "data": {
      "text/plain": [
       "{'score': -88.0, 'version': 'v1', 'error': 'missing input'}"
      ]
     },
     "metadata": {},
     "output_type": "display_data"
    },
    {
     "data": {
      "text/plain": [
       "{'score': -88.0, 'version': 'v1', 'error': 'missing input'}"
      ]
     },
     "metadata": {},
     "output_type": "display_data"
    },
    {
     "data": {
      "text/plain": [
       "{'score': -88.0, 'version': 'v1', 'error': 'missing input'}"
      ]
     },
     "metadata": {},
     "output_type": "display_data"
    },
    {
     "data": {
      "text/plain": [
       "{'score': -88.0, 'version': 'v1', 'error': 'missing input'}"
      ]
     },
     "metadata": {},
     "output_type": "display_data"
    },
    {
     "data": {
      "text/plain": [
       "{'score': -88.0, 'version': 'v1', 'error': 'missing input'}"
      ]
     },
     "metadata": {},
     "output_type": "display_data"
    },
    {
     "data": {
      "text/plain": [
       "{'score': -88.0, 'version': 'v1', 'error': 'missing input'}"
      ]
     },
     "metadata": {},
     "output_type": "display_data"
    },
    {
     "data": {
      "text/plain": [
       "{'score': -88.0, 'version': 'v1', 'error': 'missing input'}"
      ]
     },
     "metadata": {},
     "output_type": "display_data"
    },
    {
     "data": {
      "text/plain": [
       "{'score': -88.0, 'version': 'v1', 'error': 'missing input'}"
      ]
     },
     "metadata": {},
     "output_type": "display_data"
    },
    {
     "data": {
      "text/plain": [
       "{'score': -88.0, 'version': 'v1', 'error': 'missing input'}"
      ]
     },
     "metadata": {},
     "output_type": "display_data"
    },
    {
     "data": {
      "text/plain": [
       "{'score': -88.0, 'version': 'v1', 'error': 'missing input'}"
      ]
     },
     "metadata": {},
     "output_type": "display_data"
    },
    {
     "data": {
      "text/plain": [
       "{'score': -88.0, 'version': 'v1', 'error': 'missing input'}"
      ]
     },
     "metadata": {},
     "output_type": "display_data"
    },
    {
     "data": {
      "text/plain": [
       "{'score': -88.0, 'version': 'v1', 'error': 'missing input'}"
      ]
     },
     "metadata": {},
     "output_type": "display_data"
    },
    {
     "data": {
      "text/plain": [
       "{'score': -88.0, 'version': 'v1', 'error': 'missing input'}"
      ]
     },
     "metadata": {},
     "output_type": "display_data"
    },
    {
     "data": {
      "text/plain": [
       "{'score': -88.0, 'version': 'v1', 'error': 'missing input'}"
      ]
     },
     "metadata": {},
     "output_type": "display_data"
    },
    {
     "data": {
      "text/plain": [
       "{'score': -88.0, 'version': 'v1', 'error': 'missing input'}"
      ]
     },
     "metadata": {},
     "output_type": "display_data"
    }
   ],
   "source": [
    "## member & nonmember\n",
    "mem_list = ['t11_tbca2526',\n",
    "'t11_tstu1752',\n",
    "'sofi_all5840_mtf5838_to_income',\n",
    "'t11_tall02q3',\n",
    "'t11_tall3205',\n",
    "'current_pl_trade_bal_ratio',\n",
    "'p13_bcc8322',\n",
    "'t11_tpil01q1',\n",
    "'sofi_num_month_recent_list_psl',\n",
    "'t11_tupl01q1',\n",
    "'t11_tbcc1303',\n",
    "'p13_iqz9420',\n",
    "'t11_tbca3243',\n",
    "'sofi_num_inq_12month',\n",
    "'t11_tbcc4355',\n",
    "'t11_tbcc2267',\n",
    "'p13_mtf8111',\n",
    "'p13_all8352',\n",
    "'all_time_months_oldest_pl_trade',\n",
    "'p13_iqz9426',\n",
    "'p13_all8800',\n",
    "'t11_tiln2755',\n",
    "'p13_pil8320',\n",
    "'p13_all7110',\n",
    "'t11_tmti02q7',\n",
    "'p13_bcc7580',\n",
    "'t11_tall0722',\n",
    "'p13_all2919',\n",
    "'t11_tiln0727',\n",
    "'p13_iqb9740',\n",
    "'p13_iln8222']\n",
    "nm_list = [\n",
    "    'p13_bcc5520',\n",
    "'sofi_all5840_mtf5838_to_income',\n",
    "'t11_tall2205',\n",
    "'p13_bca8370',\n",
    "'t11_tstu2752',\n",
    "'p13_iqz9427',\n",
    "'p13_upl8132',\n",
    "'t11_tmti2752',\n",
    "'t11_tiln2755',\n",
    "'sofi_num_inq_3month',\n",
    "'t11_tbca4504',\n",
    "'sofi_num_inq_personal_finance',\n",
    "'t11_trev0722',\n",
    "'t11_tbcc4208',\n",
    "'p13_all8352',\n",
    "'p13_all7936',\n",
    "'p13_all5320',\n",
    "'t11_tbca2530',\n",
    "'sofi_num_inq_1month',\n",
    "'p13_reh7120',\n",
    "'p13_all7519',\n",
    "'t11_tbca2303',\n",
    "'p13_bca7600',\n",
    "'p13_upl8320',\n",
    "'p13_bcx7110',\n",
    "'p13_all7312',\n",
    "'p13_cru8320',\n",
    "'p13_rta7300',\n",
    "'p13_rtr5520'\n",
    "]\n",
    "for attr in mem_list:\n",
    "    test1=test_df[0:1].copy()\n",
    "    test1[attr] = np.nan\n",
    "    Body_content=test1.to_json(orient='records')\n",
    "\n",
    "    response = runtime_client.invoke_endpoint(EndpointName='data-science-risk-rds-deploy-pl-gen4-underwriting-20220406', \n",
    "                                              ContentType='application/json',Accept='application/json', Body=Body_content)\n",
    "\n",
    "    result = response['Body'].read().decode('ascii')\n",
    "    bb=json.loads(result)[0]\n",
    "    display(bb)\n",
    "    \n",
    "for attr in nm_list:\n",
    "    test1=test_df[5000:5001].copy()\n",
    "    test1[attr] = np.nan\n",
    "    Body_content=test1.to_json(orient='records')\n",
    "\n",
    "    response = runtime_client.invoke_endpoint(EndpointName='data-science-risk-rds-deploy-pl-gen4-underwriting-20220406', \n",
    "                                              ContentType='application/json',Accept='application/json', Body=Body_content)\n",
    "\n",
    "    result = response['Body'].read().decode('ascii')\n",
    "    bb=json.loads(result)[0]\n",
    "    display(bb)"
   ]
  }
 ],
 "metadata": {
  "kernelspec": {
   "display_name": "conda_pl_gen4",
   "language": "python",
   "name": "conda_pl_gen4"
  },
  "language_info": {
   "codemirror_mode": {
    "name": "ipython",
    "version": 3
   },
   "file_extension": ".py",
   "mimetype": "text/x-python",
   "name": "python",
   "nbconvert_exporter": "python",
   "pygments_lexer": "ipython3",
   "version": "3.7.12"
  }
 },
 "nbformat": 4,
 "nbformat_minor": 5
}
