{
 "cells": [
  {
   "cell_type": "code",
   "execution_count": 2,
   "id": "ac639b69",
   "metadata": {},
   "outputs": [
    {
     "name": "stdout",
     "output_type": "stream",
     "text": [
      "3.2.1\n"
     ]
    }
   ],
   "source": [
    "import sys, os, json, copy, sklearn, shap, gc, joblib, copy, time\n",
    "import pandas as pd\n",
    "import numpy as np\n",
    "import lightgbm as lgb\n",
    "from lightgbm import LGBMClassifier\n",
    "import pickle as pkl\n",
    "from tqdm import tqdm\n",
    "from smart_open import open\n",
    "import seaborn as sns\n",
    "from sklearn.metrics import roc_curve,roc_auc_score, precision_score, recall_score, accuracy_score, confusion_matrix\n",
    "import matplotlib.pyplot as plt\n",
    "from rdsutils.woe import WOE_Transform                                             \n",
    "from rdsutils.metrics import get_pred_reports\n",
    "\n",
    "pd.set_option('display.max_columns', 20)\n",
    "pd.set_option('display.width', 500)\n",
    "pd.set_option('display.max_colwidth', None)\n",
    "\n",
    "\n",
    "%load_ext autoreload\n",
    "%autoreload 2\n",
    "\n",
    "print(lgb.__version__)"
   ]
  },
  {
   "cell_type": "markdown",
   "id": "c56651c6",
   "metadata": {},
   "source": [
    "### for development period data"
   ]
  },
  {
   "cell_type": "code",
   "execution_count": 3,
   "id": "16f1b26e",
   "metadata": {},
   "outputs": [],
   "source": [
    "config_path = \"s3://sofi-data-science/hpeng/pl-gen4/artifact/config.json\"\n",
    "artifact_path = \"s3://sofi-data-science/hpeng/pl-gen4/artifact\"\n",
    "with open(os.path.join(config_path), \"r\") as f:\n",
    "    config = json.load(f)"
   ]
  },
  {
   "cell_type": "code",
   "execution_count": 4,
   "id": "cc5288dc",
   "metadata": {},
   "outputs": [],
   "source": [
    "exp_dict = pd.read_csv(config[\"meta\"][\"exp_dict_path\"])\n",
    "af_dict = pd.read_csv(config[\"meta\"][\"af_member_cust_dict_path\"])"
   ]
  },
  {
   "cell_type": "code",
   "execution_count": 11,
   "id": "0f295db3",
   "metadata": {},
   "outputs": [],
   "source": [
    "feature_list = ['id','coborrower_indicator','applicant_type','date_start','date_fund','is_funded','income_update','all_time_months_oldest_pl_trade',\n",
    "                                   'all_time_lending_member_flag','current_pl_trade_bal_ratio','current_pl_trade_current_prin',\n",
    "                                  'current_pl_trade_orig_bal'\n",
    "]"
   ]
  },
  {
   "cell_type": "code",
   "execution_count": 12,
   "id": "2232381a",
   "metadata": {},
   "outputs": [],
   "source": [
    "df_dev1_full = pd.read_parquet(config[\"data\"][\"clean\"][\"all_features_dev1\"], columns = feature_list)\n",
    "df_dev2_full = pd.read_parquet(config[\"data\"][\"clean\"][\"all_features_dev2\"], columns = feature_list)\n",
    "df_dev_full = pd.concat([df_dev1_full, df_dev2_full], axis=0, ignore_index=True)"
   ]
  },
  {
   "cell_type": "code",
   "execution_count": 22,
   "id": "5437a277",
   "metadata": {},
   "outputs": [
    {
     "data": {
      "text/html": [
       "<div>\n",
       "<style scoped>\n",
       "    .dataframe tbody tr th:only-of-type {\n",
       "        vertical-align: middle;\n",
       "    }\n",
       "\n",
       "    .dataframe tbody tr th {\n",
       "        vertical-align: top;\n",
       "    }\n",
       "\n",
       "    .dataframe thead th {\n",
       "        text-align: right;\n",
       "    }\n",
       "</style>\n",
       "<table border=\"1\" class=\"dataframe\">\n",
       "  <thead>\n",
       "    <tr style=\"text-align: right;\">\n",
       "      <th></th>\n",
       "      <th>id</th>\n",
       "      <th>coborrower_indicator</th>\n",
       "      <th>applicant_type</th>\n",
       "      <th>date_start</th>\n",
       "      <th>date_fund</th>\n",
       "      <th>is_funded</th>\n",
       "      <th>income_update</th>\n",
       "      <th>all_time_months_oldest_pl_trade</th>\n",
       "      <th>all_time_lending_member_flag</th>\n",
       "      <th>current_pl_trade_bal_ratio</th>\n",
       "      <th>current_pl_trade_current_prin</th>\n",
       "      <th>current_pl_trade_orig_bal</th>\n",
       "    </tr>\n",
       "  </thead>\n",
       "  <tbody>\n",
       "    <tr>\n",
       "      <th>140</th>\n",
       "      <td>4792136</td>\n",
       "      <td>N</td>\n",
       "      <td>PRIMARY</td>\n",
       "      <td>2017-10-05</td>\n",
       "      <td>2017-10-10</td>\n",
       "      <td>1</td>\n",
       "      <td>104549.12</td>\n",
       "      <td>4.0</td>\n",
       "      <td>1</td>\n",
       "      <td>0.972870</td>\n",
       "      <td>38914.82</td>\n",
       "      <td>40000.00</td>\n",
       "    </tr>\n",
       "    <tr>\n",
       "      <th>750</th>\n",
       "      <td>4953639</td>\n",
       "      <td>N</td>\n",
       "      <td>PRIMARY</td>\n",
       "      <td>2017-10-22</td>\n",
       "      <td>2017-11-03</td>\n",
       "      <td>1</td>\n",
       "      <td>110744.00</td>\n",
       "      <td>12.0</td>\n",
       "      <td>1</td>\n",
       "      <td>0.882603</td>\n",
       "      <td>35304.14</td>\n",
       "      <td>40000.00</td>\n",
       "    </tr>\n",
       "    <tr>\n",
       "      <th>827</th>\n",
       "      <td>4809196</td>\n",
       "      <td>N</td>\n",
       "      <td>PRIMARY</td>\n",
       "      <td>2017-10-07</td>\n",
       "      <td>2018-01-04</td>\n",
       "      <td>1</td>\n",
       "      <td>158399.42</td>\n",
       "      <td>13.0</td>\n",
       "      <td>1</td>\n",
       "      <td>0.854883</td>\n",
       "      <td>41015.58</td>\n",
       "      <td>47978.00</td>\n",
       "    </tr>\n",
       "    <tr>\n",
       "      <th>847</th>\n",
       "      <td>4931933</td>\n",
       "      <td>N</td>\n",
       "      <td>PRIMARY</td>\n",
       "      <td>2017-10-19</td>\n",
       "      <td>2017-10-25</td>\n",
       "      <td>1</td>\n",
       "      <td>144945.00</td>\n",
       "      <td>20.0</td>\n",
       "      <td>1</td>\n",
       "      <td>NaN</td>\n",
       "      <td>NaN</td>\n",
       "      <td>NaN</td>\n",
       "    </tr>\n",
       "    <tr>\n",
       "      <th>1289</th>\n",
       "      <td>4871377</td>\n",
       "      <td>N</td>\n",
       "      <td>PRIMARY</td>\n",
       "      <td>2017-10-13</td>\n",
       "      <td>2017-10-19</td>\n",
       "      <td>1</td>\n",
       "      <td>120359.98</td>\n",
       "      <td>27.0</td>\n",
       "      <td>1</td>\n",
       "      <td>NaN</td>\n",
       "      <td>NaN</td>\n",
       "      <td>NaN</td>\n",
       "    </tr>\n",
       "    <tr>\n",
       "      <th>1416</th>\n",
       "      <td>4757355</td>\n",
       "      <td>N</td>\n",
       "      <td>PRIMARY</td>\n",
       "      <td>2017-10-01</td>\n",
       "      <td>2017-10-11</td>\n",
       "      <td>1</td>\n",
       "      <td>84058.46</td>\n",
       "      <td>10.0</td>\n",
       "      <td>1</td>\n",
       "      <td>0.907852</td>\n",
       "      <td>19233.00</td>\n",
       "      <td>21185.16</td>\n",
       "    </tr>\n",
       "    <tr>\n",
       "      <th>1504</th>\n",
       "      <td>4834764</td>\n",
       "      <td>N</td>\n",
       "      <td>PRIMARY</td>\n",
       "      <td>2017-10-10</td>\n",
       "      <td>2017-10-12</td>\n",
       "      <td>1</td>\n",
       "      <td>104731.57</td>\n",
       "      <td>4.0</td>\n",
       "      <td>1</td>\n",
       "      <td>0.461720</td>\n",
       "      <td>16099.72</td>\n",
       "      <td>34869.00</td>\n",
       "    </tr>\n",
       "    <tr>\n",
       "      <th>1705</th>\n",
       "      <td>4888571</td>\n",
       "      <td>N</td>\n",
       "      <td>PRIMARY</td>\n",
       "      <td>2017-10-15</td>\n",
       "      <td>2017-10-18</td>\n",
       "      <td>1</td>\n",
       "      <td>90000.00</td>\n",
       "      <td>21.0</td>\n",
       "      <td>1</td>\n",
       "      <td>0.504960</td>\n",
       "      <td>5487.60</td>\n",
       "      <td>10867.39</td>\n",
       "    </tr>\n",
       "    <tr>\n",
       "      <th>1707</th>\n",
       "      <td>4946250</td>\n",
       "      <td>N</td>\n",
       "      <td>PRIMARY</td>\n",
       "      <td>2017-10-21</td>\n",
       "      <td>2017-11-01</td>\n",
       "      <td>1</td>\n",
       "      <td>55139.37</td>\n",
       "      <td>9.0</td>\n",
       "      <td>1</td>\n",
       "      <td>0.858202</td>\n",
       "      <td>12169.30</td>\n",
       "      <td>14180.00</td>\n",
       "    </tr>\n",
       "    <tr>\n",
       "      <th>1869</th>\n",
       "      <td>5255322</td>\n",
       "      <td>N</td>\n",
       "      <td>PRIMARY</td>\n",
       "      <td>2017-12-03</td>\n",
       "      <td>2017-12-08</td>\n",
       "      <td>1</td>\n",
       "      <td>134792.76</td>\n",
       "      <td>22.0</td>\n",
       "      <td>1</td>\n",
       "      <td>0.701212</td>\n",
       "      <td>35060.59</td>\n",
       "      <td>50000.00</td>\n",
       "    </tr>\n",
       "  </tbody>\n",
       "</table>\n",
       "</div>"
      ],
      "text/plain": [
       "           id coborrower_indicator applicant_type date_start   date_fund  is_funded  income_update  all_time_months_oldest_pl_trade  all_time_lending_member_flag  current_pl_trade_bal_ratio  current_pl_trade_current_prin  current_pl_trade_orig_bal\n",
       "140   4792136                    N        PRIMARY 2017-10-05  2017-10-10          1      104549.12                              4.0                             1                    0.972870                       38914.82                   40000.00\n",
       "750   4953639                    N        PRIMARY 2017-10-22  2017-11-03          1      110744.00                             12.0                             1                    0.882603                       35304.14                   40000.00\n",
       "827   4809196                    N        PRIMARY 2017-10-07  2018-01-04          1      158399.42                             13.0                             1                    0.854883                       41015.58                   47978.00\n",
       "847   4931933                    N        PRIMARY 2017-10-19  2017-10-25          1      144945.00                             20.0                             1                         NaN                            NaN                        NaN\n",
       "1289  4871377                    N        PRIMARY 2017-10-13  2017-10-19          1      120359.98                             27.0                             1                         NaN                            NaN                        NaN\n",
       "1416  4757355                    N        PRIMARY 2017-10-01  2017-10-11          1       84058.46                             10.0                             1                    0.907852                       19233.00                   21185.16\n",
       "1504  4834764                    N        PRIMARY 2017-10-10  2017-10-12          1      104731.57                              4.0                             1                    0.461720                       16099.72                   34869.00\n",
       "1705  4888571                    N        PRIMARY 2017-10-15  2017-10-18          1       90000.00                             21.0                             1                    0.504960                        5487.60                   10867.39\n",
       "1707  4946250                    N        PRIMARY 2017-10-21  2017-11-01          1       55139.37                              9.0                             1                    0.858202                       12169.30                   14180.00\n",
       "1869  5255322                    N        PRIMARY 2017-12-03  2017-12-08          1      134792.76                             22.0                             1                    0.701212                       35060.59                   50000.00"
      ]
     },
     "execution_count": 22,
     "metadata": {},
     "output_type": "execute_result"
    }
   ],
   "source": [
    "df_dev_full[df_dev_full.id.isin(df_dev_full[(df_dev_full.coborrower_indicator=='N') & (df_dev_full.is_funded==1) & (~df_dev_full.all_time_months_oldest_pl_trade.isnull())].id.to_list())].head(10)"
   ]
  },
  {
   "cell_type": "code",
   "execution_count": 32,
   "id": "ca17f7c2",
   "metadata": {},
   "outputs": [],
   "source": [
    "df1 = df_dev_full[df_dev_full.id.isin(df_dev_full[(df_dev_full.coborrower_indicator=='N') & (df_dev_full.is_funded==1) & (~df_dev_full.all_time_months_oldest_pl_trade.isnull())].id.to_list())].head(125)\n",
    "df2 = df_dev_full[df_dev_full.id.isin(df_dev_full[(df_dev_full.coborrower_indicator=='N') & (df_dev_full.is_funded==1) & (df_dev_full.all_time_months_oldest_pl_trade.isnull())].id.to_list())].head(125)\n",
    "df3 = df_dev_full[df_dev_full.id.isin(df_dev_full[(df_dev_full.coborrower_indicator=='N') & (df_dev_full.is_funded==0) & (~df_dev_full.all_time_months_oldest_pl_trade.isnull())].id.to_list())].head(125)\n",
    "df4 = df_dev_full[df_dev_full.id.isin(df_dev_full[(df_dev_full.coborrower_indicator=='N') & (df_dev_full.is_funded==0) & (df_dev_full.all_time_months_oldest_pl_trade.isnull())].id.to_list())].head(125)\n",
    "df5 = df_dev_full[df_dev_full.id.isin(df_dev_full[(df_dev_full.coborrower_indicator=='Y') & (df_dev_full.is_funded==1) & (~df_dev_full.all_time_months_oldest_pl_trade.isnull())].id.to_list())].head(125)\n",
    "df6 = df_dev_full[df_dev_full.id.isin(df_dev_full[(df_dev_full.coborrower_indicator=='Y') & (df_dev_full.is_funded==1) & (df_dev_full.all_time_months_oldest_pl_trade.isnull())].id.to_list())].head(125)\n",
    "df7 = df_dev_full[df_dev_full.id.isin(df_dev_full[(df_dev_full.coborrower_indicator=='Y') & (df_dev_full.is_funded==0) & (~df_dev_full.all_time_months_oldest_pl_trade.isnull())].id.to_list())].head(125)\n",
    "df8 = df_dev_full[df_dev_full.id.isin(df_dev_full[(df_dev_full.coborrower_indicator=='Y') & (df_dev_full.is_funded==0) & (df_dev_full.all_time_months_oldest_pl_trade.isnull())].id.to_list())].head(125)\n",
    "df_dev_tie_out = pd.concat([df1, df2, df3, df4, df5, df6, df7, df8], axis=0, ignore_index=True)"
   ]
  },
  {
   "cell_type": "code",
   "execution_count": 36,
   "id": "d23c3aa4",
   "metadata": {},
   "outputs": [],
   "source": [
    "df_dev_tie_out.to_parquet('s3://sofi-data-science/hpeng/pl-gen4/artifact/df_dev_inputs_tie_out.parquet')"
   ]
  },
  {
   "cell_type": "code",
   "execution_count": 34,
   "id": "d879a7ec",
   "metadata": {},
   "outputs": [],
   "source": [
    "df_dev_tie_out.to_csv('test_dev.csv')"
   ]
  },
  {
   "cell_type": "markdown",
   "id": "3f98ef22",
   "metadata": {},
   "source": [
    "### for 2022.01 data"
   ]
  },
  {
   "cell_type": "code",
   "execution_count": 29,
   "id": "f2d3861f",
   "metadata": {},
   "outputs": [],
   "source": [
    "df_recent = pd.read_parquet('s3://sofi-data-science/hpeng/pl-gen4/artifact/df_202201_inputs_tie_out.parquet')"
   ]
  },
  {
   "cell_type": "code",
   "execution_count": 30,
   "id": "c2c542a1",
   "metadata": {},
   "outputs": [],
   "source": [
    "df_recent[(df_recent.date_start>='2022-01-01') & (df_recent.date_start<='2022-01-15')][['id','coborrower_indicator','applicant_type','date_start','date_fund','income_update','all_time_months_oldest_pl_trade',\n",
    "                                   'all_time_lending_member_flag','current_pl_trade_bal_ratio','current_pl_trade_current_prin',\n",
    "                                  'current_pl_trade_orig_bal']].to_csv('gen4_implementation_inputs.csv')"
   ]
  },
  {
   "cell_type": "code",
   "execution_count": null,
   "id": "ef51a74a",
   "metadata": {},
   "outputs": [],
   "source": []
  },
  {
   "cell_type": "code",
   "execution_count": null,
   "id": "349e79a4",
   "metadata": {},
   "outputs": [],
   "source": []
  }
 ],
 "metadata": {
  "kernelspec": {
   "display_name": "conda_pl_gen4",
   "language": "python",
   "name": "conda_pl_gen4"
  },
  "language_info": {
   "codemirror_mode": {
    "name": "ipython",
    "version": 3
   },
   "file_extension": ".py",
   "mimetype": "text/x-python",
   "name": "python",
   "nbconvert_exporter": "python",
   "pygments_lexer": "ipython3",
   "version": "3.7.12"
  }
 },
 "nbformat": 4,
 "nbformat_minor": 5
}
