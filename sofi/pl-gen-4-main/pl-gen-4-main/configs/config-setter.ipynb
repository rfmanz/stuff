{
 "cells": [
  {
   "cell_type": "code",
   "execution_count": 2,
   "id": "4788ab98",
   "metadata": {},
   "outputs": [],
   "source": [
    "import json\n",
    "import numpy as np\n",
    "import pandas as pd"
   ]
  },
  {
   "cell_type": "code",
   "execution_count": 15,
   "id": "8c4e18c7",
   "metadata": {},
   "outputs": [],
   "source": [
    "with open(\"../config.json\", \"r\") as f:\n",
    "    config = json.load(f)"
   ]
  },
  {
   "cell_type": "markdown",
   "id": "ef81fb1a",
   "metadata": {},
   "source": [
    "### Meta"
   ]
  },
  {
   "cell_type": "code",
   "execution_count": 17,
   "id": "f19f9d36",
   "metadata": {},
   "outputs": [],
   "source": [
    "# change config[\"meta\"]'s model_type and model_name'\n",
    "config[\"meta\"][\"model_type\"] = \"lgbm\"\n",
    "config[\"meta\"][\"model_name\"] = \"lgbm-1\""
   ]
  },
  {
   "cell_type": "code",
   "execution_count": 18,
   "id": "7ad51d89",
   "metadata": {},
   "outputs": [],
   "source": [
    "features = config[\"data_columns\"][\"gen3_features\"]"
   ]
  },
  {
   "cell_type": "code",
   "execution_count": 19,
   "id": "c8176868",
   "metadata": {},
   "outputs": [
    {
     "data": {
      "text/plain": [
       "dict_keys(['xf_train_df', 'xf_valid_df', 'xf_test_df', 'xf_seq_train_df', 'xf_seq_valid_df', 'xf_seq_test_df'])"
      ]
     },
     "execution_count": 19,
     "metadata": {},
     "output_type": "execute_result"
    }
   ],
   "source": [
    "config[\"data\"][\"transformed\"].keys()"
   ]
  },
  {
   "cell_type": "markdown",
   "id": "9f3ff260",
   "metadata": {},
   "source": [
    "### Class imbalance"
   ]
  },
  {
   "cell_type": "code",
   "execution_count": 22,
   "id": "ed09f5d6",
   "metadata": {},
   "outputs": [],
   "source": [
    "train_df = pd.read_parquet(config[\"data\"][\"transformed\"][\"xf_train_df\"])"
   ]
  },
  {
   "cell_type": "code",
   "execution_count": 23,
   "id": "afa16b6b",
   "metadata": {},
   "outputs": [
    {
     "name": "stdout",
     "output_type": "stream",
     "text": [
      "Examples:\n",
      "    Total: 116290\n",
      "    Positive: 8079 (6.95% of total)\n",
      "\n"
     ]
    },
    {
     "data": {
      "text/plain": [
       "{0: 0.5373298463187661, 1: 7.197054090852829}"
      ]
     },
     "execution_count": 23,
     "metadata": {},
     "output_type": "execute_result"
    }
   ],
   "source": [
    "target_col = config[\"data_columns\"][\"target_cols\"][0]\n",
    "neg, pos = np.bincount(train_df[target_col])\n",
    "total = neg + pos\n",
    "print('Examples:\\n    Total: {}\\n    Positive: {} ({:.2f}% of total)\\n'.format(\n",
    "    total, pos, 100 * pos / total))\n",
    "\n",
    "weight_for_0 = (1 / neg) * (total / 2.0)\n",
    "weight_for_1 = (1 / pos) * (total / 2.0)\n",
    "\n",
    "class_weight = {0: weight_for_0, 1: weight_for_1}\n",
    "class_weight"
   ]
  },
  {
   "cell_type": "code",
   "execution_count": 24,
   "id": "3eb29032",
   "metadata": {},
   "outputs": [],
   "source": [
    "# meta\n",
    "config[\"meta\"][\"model_type\"] = \"lgbm\"\n",
    "config[\"meta\"][\"model_name\"] = f\"lgbm-1\"\n",
    "\n",
    "# change config[\"model_params\"]\n",
    "params = {}\n",
    "params[\"n_features\"] = len(features)\n",
    "params[\"n_classes\"] = 2\n",
    "params[\"nhids\"] = nhid\n",
    "params[\"init_bias_by_target\"] = ib\n",
    "params[\"metrics\"] = [\"AUC\"]\n",
    "params[\"loss\"] = \"CategoricalCrossentropy\"\n",
    "params[\"optim\"] = \"adam\"\n",
    "params[\"patience\"] = 5\n",
    "params[\"epochs\"] = 20\n",
    "params[\"lr\"] = 3e-3\n",
    "params[\"batch_size\"] = 256\n",
    "params[\"class_weight\"] = cw\n",
    "decay_per_n_epoch = 1  # decay once per two epochs\n",
    "params[\"lr_decay_steps\"] = (100000 // params[\"batch_size\"]) * decay_per_n_epoch\n",
    "params[\"lr_decay_rate\"] = 0.98\n",
    "\n",
    "config[\"model_params\"] = params\n",
    "\n",
    "with open(f\"lgbm-config-1.json\", \"w\") as f:\n",
    "    json.dump(config, f, indent=4)\n",
    "    \n",
    "with open(f\"lgbm-template.json\", \"w\") as f:\n",
    "    json.dump(config, f, indent=4)\n"
   ]
  },
  {
   "cell_type": "code",
   "execution_count": 14,
   "id": "657017b9",
   "metadata": {},
   "outputs": [],
   "source": [
    "# i = 1\n",
    "# nhids = [[200, 200, 200],\n",
    "#          [200, 200],\n",
    "#          [200, 200, 200, 200],\n",
    "#          [100, 100, 100]]\n",
    "# class_weights = [class_weight, None]\n",
    "# init_bias_by_target = [True, False]\n",
    "\n",
    "# for nhid in nhids:\n",
    "#     for cw in class_weights:\n",
    "#         for ib in init_bias_by_target:\n",
    "#             # meta\n",
    "#             config[\"meta\"][\"model_type\"] = \"mlp\"\n",
    "#             config[\"meta\"][\"model_name\"] = f\"mlp-{i}\"\n",
    "\n",
    "#             # change config[\"model_params\"]\n",
    "#             params = {}\n",
    "#             params[\"n_features\"] = len(features)\n",
    "#             params[\"n_classes\"] = 2\n",
    "#             params[\"nhids\"] = nhid\n",
    "#             params[\"init_bias_by_target\"] = ib\n",
    "#             params[\"metrics\"] = [\"AUC\"]\n",
    "#             params[\"loss\"] = \"CategoricalCrossentropy\"\n",
    "#             params[\"optim\"] = \"adam\"\n",
    "#             params[\"patience\"] = 5\n",
    "#             params[\"epochs\"] = 20\n",
    "#             params[\"lr\"] = 3e-3\n",
    "#             params[\"batch_size\"] = 256\n",
    "#             params[\"class_weight\"] = cw\n",
    "#             decay_per_n_epoch = 1  # decay once per two epochs\n",
    "#             params[\"lr_decay_steps\"] = (100000 // params[\"batch_size\"]) * decay_per_n_epoch\n",
    "#             params[\"lr_decay_rate\"] = 0.98\n",
    "\n",
    "#             config[\"model_params\"] = params\n",
    "\n",
    "#             with open(f\"mlp-config-{i}.json\", \"w\") as f:\n",
    "#                 json.dump(config, f, indent=4)\n",
    "            \n",
    "#             i += 1"
   ]
  },
  {
   "cell_type": "code",
   "execution_count": null,
   "id": "24c23aed",
   "metadata": {},
   "outputs": [],
   "source": []
  },
  {
   "cell_type": "code",
   "execution_count": null,
   "id": "da8ba031",
   "metadata": {},
   "outputs": [],
   "source": [
    "config[\"model_params\"]"
   ]
  },
  {
   "cell_type": "code",
   "execution_count": null,
   "id": "8a93ae76",
   "metadata": {},
   "outputs": [],
   "source": []
  }
 ],
 "metadata": {
  "kernelspec": {
   "display_name": "conda_amazonei_tensorflow2_p36",
   "language": "python",
   "name": "conda_amazonei_tensorflow2_p36"
  },
  "language_info": {
   "codemirror_mode": {
    "name": "ipython",
    "version": 3
   },
   "file_extension": ".py",
   "mimetype": "text/x-python",
   "name": "python",
   "nbconvert_exporter": "python",
   "pygments_lexer": "ipython3",
   "version": "3.6.13"
  }
 },
 "nbformat": 4,
 "nbformat_minor": 5
}
