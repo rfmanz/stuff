{
 "cells": [
  {
   "cell_type": "code",
   "execution_count": 11,
   "id": "c09fa208",
   "metadata": {},
   "outputs": [],
   "source": [
    "import sys\n",
    "sys.path.insert(1, \"..\")\n",
    "\n",
    "from rdsutils.data_wrangling import sampling"
   ]
  },
  {
   "cell_type": "code",
   "execution_count": 12,
   "id": "72303b1e",
   "metadata": {},
   "outputs": [],
   "source": [
    "dates = ['2019-03-15',\n",
    " '2019-05-27',\n",
    " '2019-08-08',\n",
    " '2019-10-20',\n",
    " '2020-01-01',\n",
    " '2020-03-14',\n",
    " '2020-05-26',\n",
    " '2020-08-07',\n",
    " '2020-10-19',\n",
    " '2020-12-31',\n",
    " '2021-01-01',\n",
    " '2021-02-01',\n",
    " '2021-03-01',\n",
    " '2021-03-14',\n",
    " '2021-04-01',\n",
    " '2021-05-01',\n",
    " '2021-05-26',\n",
    " '2021-06-01']"
   ]
  },
  {
   "cell_type": "code",
   "execution_count": 14,
   "id": "3b8485c9",
   "metadata": {},
   "outputs": [
    {
     "data": {
      "text/plain": [
       "73 days    9\n",
       "28 days    1\n",
       "31 days    1\n",
       "6 days     1\n",
       "18 days    1\n",
       "30 days    1\n",
       "1 days     1\n",
       "13 days    1\n",
       "25 days    1\n",
       "dtype: int64"
      ]
     },
     "execution_count": 14,
     "metadata": {},
     "output_type": "execute_result"
    }
   ],
   "source": [
    "sampling.get_spacing(dates)"
   ]
  },
  {
   "cell_type": "code",
   "execution_count": 17,
   "id": "08a3fca1",
   "metadata": {},
   "outputs": [],
   "source": [
    "sample_dates = sampling.get_sampling_dates(\"2019-03-15\", \"today\", \"73D\")\n",
    "additional_dates = sampling.get_monitoring_dates(\"2021-01-01\", \"today\")"
   ]
  },
  {
   "cell_type": "code",
   "execution_count": 18,
   "id": "8035428a",
   "metadata": {},
   "outputs": [
    {
     "data": {
      "text/plain": [
       "['2019-03-15',\n",
       " '2019-05-27',\n",
       " '2019-08-08',\n",
       " '2019-10-20',\n",
       " '2020-01-01',\n",
       " '2020-03-14',\n",
       " '2020-05-26',\n",
       " '2020-08-07',\n",
       " '2020-10-19',\n",
       " '2020-12-31',\n",
       " '2021-03-14',\n",
       " '2021-05-26']"
      ]
     },
     "execution_count": 18,
     "metadata": {},
     "output_type": "execute_result"
    }
   ],
   "source": [
    "sample_dates"
   ]
  },
  {
   "cell_type": "code",
   "execution_count": 19,
   "id": "5d77eaad",
   "metadata": {},
   "outputs": [
    {
     "data": {
      "text/plain": [
       "['2021-01-01',\n",
       " '2021-02-01',\n",
       " '2021-03-01',\n",
       " '2021-04-01',\n",
       " '2021-05-01',\n",
       " '2021-06-01']"
      ]
     },
     "execution_count": 19,
     "metadata": {},
     "output_type": "execute_result"
    }
   ],
   "source": [
    "additional_dates"
   ]
  },
  {
   "cell_type": "code",
   "execution_count": null,
   "id": "6da6e5da",
   "metadata": {},
   "outputs": [],
   "source": []
  }
 ],
 "metadata": {
  "kernelspec": {
   "display_name": "conda_python3",
   "language": "python",
   "name": "conda_python3"
  },
  "language_info": {
   "codemirror_mode": {
    "name": "ipython",
    "version": 3
   },
   "file_extension": ".py",
   "mimetype": "text/x-python",
   "name": "python",
   "nbconvert_exporter": "python",
   "pygments_lexer": "ipython3",
   "version": "3.6.13"
  }
 },
 "nbformat": 4,
 "nbformat_minor": 5
}
