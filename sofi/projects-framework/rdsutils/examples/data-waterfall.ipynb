{
 "cells": [
  {
   "cell_type": "markdown",
   "metadata": {},
   "source": [
    "### Example of Data Waterfall\n",
    "---"
   ]
  },
  {
   "cell_type": "code",
   "execution_count": 1,
   "metadata": {},
   "outputs": [],
   "source": [
    "import sys, os\n",
    "sys.path.insert(1, '..')\n",
    "\n",
    "import pandas as pd\n",
    "import numpy as np\n",
    "from IPython.display import display\n",
    "\n",
    "%load_ext autoreload\n",
    "%autoreload 2\n",
    "\n",
    "from rdsutils.data_waterfall import DataWaterfallReport"
   ]
  },
  {
   "cell_type": "code",
   "execution_count": 2,
   "metadata": {},
   "outputs": [],
   "source": [
    "modeling_df = pd.read_parquet('artifact/ach_modeling_data.parquet')\n"
   ]
  },
  {
   "cell_type": "markdown",
   "metadata": {},
   "source": [
    "Define a sequence of functions that will result in the waterfall. "
   ]
  },
  {
   "cell_type": "code",
   "execution_count": 4,
   "metadata": {},
   "outputs": [],
   "source": [
    "# drop non ACH types\n",
    "def drop_non_ach(df):\n",
    "    df = df[df['transaction_code'].isin(['ACHDD']) & (df['transaction_amount'] > 0)]\n",
    "    return df\n",
    "\n",
    "def drop_bad_but_pos_balance(df):\n",
    "    return df[~(df[f'target_10d'] & (df[f'bal_after_10d'] > 0))]\n",
    "\n",
    "def drop_good_but_has_returns(df):\n",
    "    condition = (~df['target_10d'] & (df[f'nr_returns_in_next_10d'] > 0))\n",
    "    return df[~condition]\n",
    "\n",
    "def drop_good_but_chg_wrt_off(df):\n",
    "    return df[~(df[f'target_10d'] & ~df['target_10d'])]\n",
    "\n",
    "def drop_good_but_neg_balance(df):\n",
    "    return df[~(~df['target_10d'] & (df[f'bal_after_10d'] < 0))]\n",
    "\n",
    "def drop_good_but_closed_by_risk(df):\n",
    "    condition = (~df['target_10d'] & df[f'account_closed_by_risk_in_next_10d'])\n",
    "    return df[~condition]"
   ]
  },
  {
   "cell_type": "code",
   "execution_count": 5,
   "metadata": {},
   "outputs": [],
   "source": [
    "fns = [drop_non_ach,\n",
    "       drop_bad_but_pos_balance, \n",
    "       drop_good_but_has_returns,\n",
    "       drop_good_but_chg_wrt_off,\n",
    "       drop_good_but_neg_balance,\n",
    "       drop_good_but_closed_by_risk]\n",
    "wf = DataWaterfallReport(modeling_df, fns, 'is_returned')"
   ]
  },
  {
   "cell_type": "markdown",
   "metadata": {},
   "source": [
    "Note: class does not automatically take care of counting `None`s. Please do so manually.\n",
    "\n",
    "e.g. `df[\"# Remain\"] - df[\"# False\"] - df[\"# True\"]`"
   ]
  },
  {
   "cell_type": "code",
   "execution_count": 6,
   "metadata": {},
   "outputs": [
    {
     "data": {
      "text/html": [
       "<div>\n",
       "<style scoped>\n",
       "    .dataframe tbody tr th:only-of-type {\n",
       "        vertical-align: middle;\n",
       "    }\n",
       "\n",
       "    .dataframe tbody tr th {\n",
       "        vertical-align: top;\n",
       "    }\n",
       "\n",
       "    .dataframe thead th {\n",
       "        text-align: right;\n",
       "    }\n",
       "</style>\n",
       "<table border=\"1\" class=\"dataframe\">\n",
       "  <thead>\n",
       "    <tr style=\"text-align: right;\">\n",
       "      <th></th>\n",
       "      <th># Excluded</th>\n",
       "      <th># Remain</th>\n",
       "      <th># False</th>\n",
       "      <th># True</th>\n",
       "    </tr>\n",
       "  </thead>\n",
       "  <tbody>\n",
       "    <tr>\n",
       "      <th>Starting Population</th>\n",
       "      <td>NaN</td>\n",
       "      <td>3349862</td>\n",
       "      <td>108825</td>\n",
       "      <td>7424</td>\n",
       "    </tr>\n",
       "    <tr>\n",
       "      <th>Drop Non Ach</th>\n",
       "      <td>3237263.0</td>\n",
       "      <td>112599</td>\n",
       "      <td>108825</td>\n",
       "      <td>3774</td>\n",
       "    </tr>\n",
       "    <tr>\n",
       "      <th>Drop Bad But Pos Balance</th>\n",
       "      <td>1961.0</td>\n",
       "      <td>110638</td>\n",
       "      <td>108825</td>\n",
       "      <td>1813</td>\n",
       "    </tr>\n",
       "    <tr>\n",
       "      <th>Drop Good But Has Returns</th>\n",
       "      <td>667.0</td>\n",
       "      <td>109971</td>\n",
       "      <td>108158</td>\n",
       "      <td>1813</td>\n",
       "    </tr>\n",
       "    <tr>\n",
       "      <th>Drop Good But Chg Wrt Off</th>\n",
       "      <td>0.0</td>\n",
       "      <td>109971</td>\n",
       "      <td>108158</td>\n",
       "      <td>1813</td>\n",
       "    </tr>\n",
       "    <tr>\n",
       "      <th>Drop Good But Neg Balance</th>\n",
       "      <td>74.0</td>\n",
       "      <td>109897</td>\n",
       "      <td>108084</td>\n",
       "      <td>1813</td>\n",
       "    </tr>\n",
       "    <tr>\n",
       "      <th>Drop Good But Closed By Risk</th>\n",
       "      <td>11.0</td>\n",
       "      <td>109886</td>\n",
       "      <td>108073</td>\n",
       "      <td>1813</td>\n",
       "    </tr>\n",
       "  </tbody>\n",
       "</table>\n",
       "</div>"
      ],
      "text/plain": [
       "                              # Excluded  # Remain  # False  # True\n",
       "Starting Population                  NaN   3349862   108825    7424\n",
       "Drop Non Ach                   3237263.0    112599   108825    3774\n",
       "Drop Bad But Pos Balance          1961.0    110638   108825    1813\n",
       "Drop Good But Has Returns          667.0    109971   108158    1813\n",
       "Drop Good But Chg Wrt Off            0.0    109971   108158    1813\n",
       "Drop Good But Neg Balance           74.0    109897   108084    1813\n",
       "Drop Good But Closed By Risk        11.0    109886   108073    1813"
      ]
     },
     "execution_count": 6,
     "metadata": {},
     "output_type": "execute_result"
    }
   ],
   "source": [
    "waterfall = wf.get_report(False)\n",
    "waterfall"
   ]
  },
  {
   "cell_type": "code",
   "execution_count": 7,
   "metadata": {},
   "outputs": [
    {
     "data": {
      "text/html": [
       "<div>\n",
       "<style scoped>\n",
       "    .dataframe tbody tr th:only-of-type {\n",
       "        vertical-align: middle;\n",
       "    }\n",
       "\n",
       "    .dataframe tbody tr th {\n",
       "        vertical-align: top;\n",
       "    }\n",
       "\n",
       "    .dataframe thead th {\n",
       "        text-align: right;\n",
       "    }\n",
       "</style>\n",
       "<table border=\"1\" class=\"dataframe\">\n",
       "  <thead>\n",
       "    <tr style=\"text-align: right;\">\n",
       "      <th></th>\n",
       "      <th># Excluded</th>\n",
       "      <th># Remain</th>\n",
       "      <th># False</th>\n",
       "      <th># True</th>\n",
       "    </tr>\n",
       "  </thead>\n",
       "  <tbody>\n",
       "    <tr>\n",
       "      <th>Starting Population</th>\n",
       "      <td></td>\n",
       "      <td>3349862</td>\n",
       "      <td>108825</td>\n",
       "      <td>7424</td>\n",
       "    </tr>\n",
       "    <tr>\n",
       "      <th>Drop Non Ach</th>\n",
       "      <td>3237263</td>\n",
       "      <td>112599</td>\n",
       "      <td>108825</td>\n",
       "      <td>3774</td>\n",
       "    </tr>\n",
       "    <tr>\n",
       "      <th>Drop Bad But Pos Balance</th>\n",
       "      <td>1961</td>\n",
       "      <td>110638</td>\n",
       "      <td>108825</td>\n",
       "      <td>1813</td>\n",
       "    </tr>\n",
       "    <tr>\n",
       "      <th>Drop Good But Has Returns</th>\n",
       "      <td>667</td>\n",
       "      <td>109971</td>\n",
       "      <td>108158</td>\n",
       "      <td>1813</td>\n",
       "    </tr>\n",
       "    <tr>\n",
       "      <th>Drop Good But Chg Wrt Off</th>\n",
       "      <td>0</td>\n",
       "      <td>109971</td>\n",
       "      <td>108158</td>\n",
       "      <td>1813</td>\n",
       "    </tr>\n",
       "    <tr>\n",
       "      <th>Drop Good But Neg Balance</th>\n",
       "      <td>74</td>\n",
       "      <td>109897</td>\n",
       "      <td>108084</td>\n",
       "      <td>1813</td>\n",
       "    </tr>\n",
       "    <tr>\n",
       "      <th>Drop Good But Closed By Risk</th>\n",
       "      <td>11</td>\n",
       "      <td>109886</td>\n",
       "      <td>108073</td>\n",
       "      <td>1813</td>\n",
       "    </tr>\n",
       "  </tbody>\n",
       "</table>\n",
       "</div>"
      ],
      "text/plain": [
       "                             # Excluded # Remain # False # True\n",
       "Starting Population                      3349862  108825   7424\n",
       "Drop Non Ach                    3237263   112599  108825   3774\n",
       "Drop Bad But Pos Balance           1961   110638  108825   1813\n",
       "Drop Good But Has Returns           667   109971  108158   1813\n",
       "Drop Good But Chg Wrt Off             0   109971  108158   1813\n",
       "Drop Good But Neg Balance            74   109897  108084   1813\n",
       "Drop Good But Closed By Risk         11   109886  108073   1813"
      ]
     },
     "execution_count": 7,
     "metadata": {},
     "output_type": "execute_result"
    }
   ],
   "source": [
    "# convert all cells to string for better visualization\n",
    "waterfall = wf.get_report(True)\n",
    "waterfall"
   ]
  },
  {
   "cell_type": "code",
   "execution_count": null,
   "metadata": {},
   "outputs": [],
   "source": []
  }
 ],
 "metadata": {
  "kernelspec": {
   "display_name": "conda_python3",
   "language": "python",
   "name": "conda_python3"
  },
  "language_info": {
   "codemirror_mode": {
    "name": "ipython",
    "version": 3
   },
   "file_extension": ".py",
   "mimetype": "text/x-python",
   "name": "python",
   "nbconvert_exporter": "python",
   "pygments_lexer": "ipython3",
   "version": "3.6.13"
  }
 },
 "nbformat": 4,
 "nbformat_minor": 4
}
