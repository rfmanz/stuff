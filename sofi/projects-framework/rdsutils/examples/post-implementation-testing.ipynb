{
 "cells": [
  {
   "cell_type": "markdown",
   "metadata": {},
   "source": [
    "### Post-Implementation Testing \n",
    "---\n",
    "\n",
    "In typical post-implementaion testing, we have two sources of data which should have the same distribution. Unfortunately, it is often difficult to align the two, led to the need of this library.\n",
    "\n",
    "For one, it is foremost importance to measure the prediction results. Thus we want ways to compare output distributions. \n",
    "* distr plot of the output classes\n",
    "* plot differences between classes\n",
    "\n",
    "For feature analysis, we should measure PSI and produce side-by-side pandas-profiles "
   ]
  }
 ],
 "metadata": {
  "kernelspec": {
   "display_name": "conda_ml_basic_py37",
   "language": "python",
   "name": "conda_ml_basic_py37"
  },
  "language_info": {
   "codemirror_mode": {
    "name": "ipython",
    "version": 3
   },
   "file_extension": ".py",
   "mimetype": "text/x-python",
   "name": "python",
   "nbconvert_exporter": "python",
   "pygments_lexer": "ipython3",
   "version": "3.7.7"
  }
 },
 "nbformat": 4,
 "nbformat_minor": 4
}
