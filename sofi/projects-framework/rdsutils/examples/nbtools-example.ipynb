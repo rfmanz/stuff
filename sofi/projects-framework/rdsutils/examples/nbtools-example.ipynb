{
 "cells": [
  {
   "cell_type": "markdown",
   "metadata": {},
   "source": [
    "### Remote Control SageMaker NBs\n",
    "---"
   ]
  },
  {
   "cell_type": "code",
   "execution_count": 5,
   "metadata": {},
   "outputs": [
    {
     "name": "stdout",
     "output_type": "stream",
     "text": [
      "The autoreload extension is already loaded. To reload it, use:\n",
      "  %reload_ext autoreload\n"
     ]
    }
   ],
   "source": [
    "import sys, warnings\n",
    "sys.path.insert(1, '..')\n",
    "\n",
    "%load_ext autoreload\n",
    "%autoreload 2"
   ]
  },
  {
   "cell_type": "code",
   "execution_count": 12,
   "metadata": {},
   "outputs": [],
   "source": [
    "try:\n",
    "    import rdsutils.nbtools\n",
    "except:\n",
    "    !pip install boto3 apache-airflow paramiko sshtunnel\n",
    "    import rdsutils.nbtools"
   ]
  },
  {
   "cell_type": "code",
   "execution_count": 13,
   "metadata": {},
   "outputs": [],
   "source": [
    "from rdsutils.nbtools import NBManager"
   ]
  },
  {
   "cell_type": "code",
   "execution_count": 15,
   "metadata": {},
   "outputs": [],
   "source": [
    "m = NBManager('tboser-dev')"
   ]
  },
  {
   "cell_type": "code",
   "execution_count": null,
   "metadata": {},
   "outputs": [],
   "source": [
    "m.start_notebook()"
   ]
  },
  {
   "cell_type": "code",
   "execution_count": null,
   "metadata": {},
   "outputs": [],
   "source": [
    "m.send_ssh(\"/home/ec2-user/anaconda3/\")"
   ]
  },
  {
   "cell_type": "code",
   "execution_count": 18,
   "metadata": {},
   "outputs": [
    {
     "name": "stdout",
     "output_type": "stream",
     "text": [
      "Stopping notebook tboser-dev\n",
      "Waiting for notebook to settle...\n"
     ]
    }
   ],
   "source": [
    "m.stop_notebook()"
   ]
  },
  {
   "cell_type": "code",
   "execution_count": 19,
   "metadata": {},
   "outputs": [],
   "source": [
    "# def external_scoring(**kwargs):\n",
    "#     prospect_date = kwargs['dag_run'].conf['prospect_date']\n",
    "#     m = NBManager('rchoudhary-lgbm')\n",
    "#     m.start_notebook()\n",
    "#     m.send_ssh(\"/home/ec2-user/anaconda3/envs/python3/bin/pip install joblib smart_open\")\n",
    "#     m.send_ssh(\"/home/ec2-user/anaconda3/envs/python3/bin/pip install -i https://repository.sofi.com/artifactory/api/pypi/pypi/simple mdsutils\")\n",
    "#     m.send_ssh(\"cd /home/ec2-user/SageMaker/LightGBM/python-package; source activate python3; python3 setup.py install\")\n",
    "#     m.send_ssh(\"cd /home/ec2-user/SageMaker/; source activate python3; python3 FCF_Scoring.py {} > FCF_Scoring.log\".format(prospect_date))\n",
    "#     m.stop_notebook()\n",
    "#     ath = mdsutils.AthenaClient()\n",
    "#     ath.query_to_str(\"MSCK REPAIR TABLE mdp_staging.pred_fcf_ps_2018_2019\")\n",
    "    "
   ]
  },
  {
   "cell_type": "code",
   "execution_count": null,
   "metadata": {},
   "outputs": [],
   "source": []
  }
 ],
 "metadata": {
  "kernelspec": {
   "display_name": "conda_rdsdev",
   "language": "python",
   "name": "conda_rdsdev"
  },
  "language_info": {
   "codemirror_mode": {
    "name": "ipython",
    "version": 3
   },
   "file_extension": ".py",
   "mimetype": "text/x-python",
   "name": "python",
   "nbconvert_exporter": "python",
   "pygments_lexer": "ipython3",
   "version": "3.7.8"
  }
 },
 "nbformat": 4,
 "nbformat_minor": 4
}
