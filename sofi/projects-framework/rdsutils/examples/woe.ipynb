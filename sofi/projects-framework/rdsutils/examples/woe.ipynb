{
 "cells": [
  {
   "cell_type": "code",
   "execution_count": 1,
   "metadata": {},
   "outputs": [],
   "source": [
    "import sys, warnings, os\n",
    "sys.path.insert(1, '..')\n",
    "import pandas as pd\n",
    "import numpy as np\n",
    "import pickle as pkl\n",
    "import lightgbm as lgb\n",
    "import seaborn as sns\n",
    "from tqdm import tqdm\n",
    "import matplotlib.pyplot as plt\n",
    "\n",
    "plt.style.use('seaborn')\n",
    "\n",
    "%load_ext autoreload\n",
    "%autoreload 2"
   ]
  },
  {
   "cell_type": "code",
   "execution_count": 2,
   "metadata": {},
   "outputs": [],
   "source": [
    "data_path = '/home/ec2-user/SageMaker/projects-model/money-risk-models/money-customer-risk/artifacts/modeling_df_final_with_oof_preds_replication.feather'\n",
    "modeling_df = pd.read_feather(data_path)"
   ]
  },
  {
   "cell_type": "code",
   "execution_count": 3,
   "metadata": {},
   "outputs": [],
   "source": [
    "model = pkl.load(open('/home/ec2-user/SageMaker/projects-model/money-risk-models/money-customer-risk/models/customer_risk_target_no_giact_time_since_last_link.pkl', 'rb'))"
   ]
  },
  {
   "cell_type": "markdown",
   "metadata": {},
   "source": [
    "### Get WOE"
   ]
  },
  {
   "cell_type": "code",
   "execution_count": 4,
   "metadata": {},
   "outputs": [],
   "source": [
    "from rdsutils.woe import WOE_Transform"
   ]
  },
  {
   "cell_type": "code",
   "execution_count": 5,
   "metadata": {},
   "outputs": [
    {
     "name": "stdout",
     "output_type": "stream",
     "text": [
      "processed  41  num attributes\n",
      "\n",
      "CPU times: user 1min 7s, sys: 728 ms, total: 1min 7s\n",
      "Wall time: 1min 7s\n"
     ]
    }
   ],
   "source": [
    "%%time\n",
    "woe = WOE_Transform(min_iv=-np.inf)\n",
    "woe.fit(modeling_df[model.feature_name_], modeling_df[\"target\"].astype(int), display=-1)"
   ]
  },
  {
   "cell_type": "code",
   "execution_count": 6,
   "metadata": {},
   "outputs": [
    {
     "name": "stdout",
     "output_type": "stream",
     "text": [
      "                  attr    min    max    #accts  %accts     #good     #bad  \\\n",
      "0        vantage_score  300.0  380.0     759.0   0.07%     400.0    359.0   \n",
      "1        vantage_score  381.0  420.0    2295.0   0.21%    1621.0    674.0   \n",
      "2        vantage_score  421.0  527.0   60243.0   5.55%   43454.0  16789.0   \n",
      "3        vantage_score  528.0  537.0   10992.0   1.01%    8881.0   2111.0   \n",
      "4        vantage_score  538.0  542.0    5723.0   0.53%    4632.0   1091.0   \n",
      "5        vantage_score  543.0  548.0    7637.0   0.70%    6385.0   1252.0   \n",
      "6        vantage_score  549.0  561.0   20728.0   1.91%   17534.0   3194.0   \n",
      "7        vantage_score  562.0  583.0   35928.0   3.31%   32473.0   3455.0   \n",
      "8        vantage_score  584.0  606.0   40436.0   3.72%   37336.0   3100.0   \n",
      "9        vantage_score  607.0  662.0  115710.0  10.65%  111007.0   4703.0   \n",
      "10       vantage_score  663.0  746.0  238269.0  21.94%  234775.0   3494.0   \n",
      "11       vantage_score  747.0  839.0  362663.0  33.39%  360685.0   1978.0   \n",
      "missing  vantage_score    NaN    NaN  184800.0  17.01%  178373.0   6427.0   \n",
      "\n",
      "        dist_good dist_bad target_rate     woe      iv  \n",
      "0           0.04%    0.74%      47.30%  2.9523  0.0207  \n",
      "1           0.16%    1.39%      29.37%  2.1829  0.0268  \n",
      "2           4.19%   34.53%      27.87%  2.1095  0.6400  \n",
      "3           0.86%    4.34%      19.20%  1.6237  0.0566  \n",
      "4           0.45%    2.24%      19.06%  1.6146  0.0290  \n",
      "5           0.62%    2.57%      16.39%  1.4312  0.0280  \n",
      "6           1.69%    6.57%      15.41%  1.3576  0.0662  \n",
      "7           3.13%    7.11%       9.62%  0.8199  0.0326  \n",
      "8           3.60%    6.38%       7.67%  0.5719  0.0159  \n",
      "9          10.70%    9.67%       4.06% -0.1009  0.0010  \n",
      "10         22.63%    7.19%       1.47% -1.1471  0.1771  \n",
      "11         34.76%    4.07%       0.55% -2.1455  0.6586  \n",
      "missing    17.19%   13.22%       3.48% -0.2629  0.0105  \n",
      "\n"
     ]
    }
   ],
   "source": [
    "pd.set_option('display.max_columns', None)\n",
    "woe.display_bin_results([\"vantage_score\"], simple=0)"
   ]
  },
  {
   "cell_type": "code",
   "execution_count": 7,
   "metadata": {},
   "outputs": [
    {
     "data": {
      "text/plain": [
       "first_deposit_amount                   0\n",
       "vantage_score                     184800\n",
       "bcc7120                           293534\n",
       "email_risk_score                   26148\n",
       "fraud_score_2                     246891\n",
       "name_email_correlation             26148\n",
       "transaction_as_pct_of_balance          0\n",
       "mean_account_balance_30d               0\n",
       "phone_risk_score                   26148\n",
       "name_address_correlation           27111\n",
       "all8220                           198019\n",
       "lag_acc_open_first_transaction         0\n",
       "dollar_val_dd                          0\n",
       "all7120                           242424\n",
       "sum_deposits_10d                       0\n",
       "nr_past_transactions                   0\n",
       "total_tradelines_open             163895\n",
       "education_loan_amount             163895\n",
       "address_risk_score                 27111\n",
       "iqt9415                           178034\n",
       "max_withdrawals_30d                    0\n",
       "iln5520                           542546\n",
       "max_deposits_30d                       0\n",
       "pct_returned_deposits                  0\n",
       "giact_nr_decline                       0\n",
       "nr_direct_deposits                     0\n",
       "time_since_last_transaction            0\n",
       "bal_ratio                              0\n",
       "name_phone_correlation             26148\n",
       "giact_nr_other                         0\n",
       "dollar_val_returns                     0\n",
       "nr_trans_ratio                         0\n",
       "iqt9413                           178034\n",
       "dollar_val_returns_3d                  0\n",
       "nr_returns_30d                         0\n",
       "credit_card_loan_amount           163895\n",
       "fraud_score_1                      26148\n",
       "age_money_account                      0\n",
       "transaction_code_encoded               0\n",
       "all7120_default_encoded                0\n",
       "bcc7120_default_encoded                0\n",
       "dtype: int64"
      ]
     },
     "execution_count": 7,
     "metadata": {},
     "output_type": "execute_result"
    }
   ],
   "source": [
    "modeling_df[model.feature_name_].isna().sum()"
   ]
  },
  {
   "cell_type": "markdown",
   "metadata": {},
   "source": [
    "### Code Transform"
   ]
  },
  {
   "cell_type": "code",
   "execution_count": 13,
   "metadata": {},
   "outputs": [
    {
     "name": "stdout",
     "output_type": "stream",
     "text": [
      "transformed num 20\n",
      "transformed num 40\n",
      "\n"
     ]
    }
   ],
   "source": [
    "df = woe.transform(modeling_df[model.feature_name_])"
   ]
  },
  {
   "cell_type": "code",
   "execution_count": 14,
   "metadata": {},
   "outputs": [
    {
     "data": {
      "text/plain": [
       "(1086183, 41)"
      ]
     },
     "execution_count": 14,
     "metadata": {},
     "output_type": "execute_result"
    }
   ],
   "source": [
    "df.shape"
   ]
  },
  {
   "cell_type": "code",
   "execution_count": 16,
   "metadata": {},
   "outputs": [
    {
     "data": {
      "text/plain": [
       "first_deposit_amount_woe              0\n",
       "email_risk_score_woe                  0\n",
       "transaction_code_encoded_woe          0\n",
       "giact_nr_decline_woe                  0\n",
       "dollar_val_dd_woe                     0\n",
       "nr_past_transactions_woe              0\n",
       "credit_card_loan_amount_woe           0\n",
       "giact_nr_other_woe                    0\n",
       "fraud_score_1_woe                     0\n",
       "all7120_default_encoded_woe           0\n",
       "max_deposits_30d_woe                  0\n",
       "all7120_woe                           0\n",
       "name_address_correlation_woe          0\n",
       "mean_account_balance_30d_woe          0\n",
       "nr_trans_ratio_woe                    0\n",
       "iqt9413_woe                           0\n",
       "dollar_val_returns_3d_woe             0\n",
       "lag_acc_open_first_transaction_woe    0\n",
       "nr_returns_30d_woe                    0\n",
       "name_email_correlation_woe            0\n",
       "iln5520_woe                           0\n",
       "bal_ratio_woe                         0\n",
       "bcc7120_default_encoded_woe           0\n",
       "dollar_val_returns_woe                0\n",
       "transaction_as_pct_of_balance_woe     0\n",
       "education_loan_amount_woe             0\n",
       "time_since_last_transaction_woe       0\n",
       "iqt9415_woe                           0\n",
       "all8220_woe                           0\n",
       "vantage_score_woe                     0\n",
       "pct_returned_deposits_woe             0\n",
       "name_phone_correlation_woe            0\n",
       "age_money_account_woe                 0\n",
       "max_withdrawals_30d_woe               0\n",
       "bcc7120_woe                           0\n",
       "total_tradelines_open_woe             0\n",
       "address_risk_score_woe                0\n",
       "nr_direct_deposits_woe                0\n",
       "fraud_score_2_woe                     0\n",
       "sum_deposits_10d_woe                  0\n",
       "phone_risk_score_woe                  0\n",
       "dtype: int64"
      ]
     },
     "execution_count": 16,
     "metadata": {},
     "output_type": "execute_result"
    }
   ],
   "source": [
    "df.isna().sum()"
   ]
  },
  {
   "cell_type": "code",
   "execution_count": 17,
   "metadata": {},
   "outputs": [
    {
     "name": "stdout",
     "output_type": "stream",
     "text": [
      "transformed num 20\n",
      "transformed num 40\n",
      "\n"
     ]
    }
   ],
   "source": [
    "df = woe.transform(modeling_df[model.feature_name_], keep=True)"
   ]
  },
  {
   "cell_type": "code",
   "execution_count": 18,
   "metadata": {},
   "outputs": [
    {
     "data": {
      "text/plain": [
       "(1086183, 82)"
      ]
     },
     "execution_count": 18,
     "metadata": {},
     "output_type": "execute_result"
    }
   ],
   "source": [
    "df.shape"
   ]
  },
  {
   "cell_type": "code",
   "execution_count": 19,
   "metadata": {},
   "outputs": [
    {
     "data": {
      "text/plain": [
       "address_risk_score                    27111\n",
       "address_risk_score_woe                    0\n",
       "age_money_account                         0\n",
       "age_money_account_woe                     0\n",
       "all7120                              242424\n",
       "                                      ...  \n",
       "transaction_as_pct_of_balance_woe         0\n",
       "transaction_code_encoded                  0\n",
       "transaction_code_encoded_woe              0\n",
       "vantage_score                        184800\n",
       "vantage_score_woe                         0\n",
       "Length: 82, dtype: int64"
      ]
     },
     "execution_count": 19,
     "metadata": {},
     "output_type": "execute_result"
    }
   ],
   "source": [
    "df.isna().sum().sort_index()"
   ]
  },
  {
   "cell_type": "markdown",
   "metadata": {},
   "source": [
    "#### Check some features"
   ]
  },
  {
   "cell_type": "code",
   "execution_count": 20,
   "metadata": {},
   "outputs": [
    {
     "name": "stdout",
     "output_type": "stream",
     "text": [
      "                  attr    min    max    #accts  %accts     #good     #bad  \\\n",
      "0        vantage_score  300.0  380.0     759.0   0.07%     400.0    359.0   \n",
      "1        vantage_score  381.0  420.0    2295.0   0.21%    1621.0    674.0   \n",
      "2        vantage_score  421.0  527.0   60243.0   5.55%   43454.0  16789.0   \n",
      "3        vantage_score  528.0  537.0   10992.0   1.01%    8881.0   2111.0   \n",
      "4        vantage_score  538.0  542.0    5723.0   0.53%    4632.0   1091.0   \n",
      "5        vantage_score  543.0  548.0    7637.0   0.70%    6385.0   1252.0   \n",
      "6        vantage_score  549.0  561.0   20728.0   1.91%   17534.0   3194.0   \n",
      "7        vantage_score  562.0  583.0   35928.0   3.31%   32473.0   3455.0   \n",
      "8        vantage_score  584.0  606.0   40436.0   3.72%   37336.0   3100.0   \n",
      "9        vantage_score  607.0  662.0  115710.0  10.65%  111007.0   4703.0   \n",
      "10       vantage_score  663.0  746.0  238269.0  21.94%  234775.0   3494.0   \n",
      "11       vantage_score  747.0  839.0  362663.0  33.39%  360685.0   1978.0   \n",
      "missing  vantage_score    NaN    NaN  184800.0  17.01%  178373.0   6427.0   \n",
      "\n",
      "        dist_good dist_bad target_rate     woe      iv  \n",
      "0           0.04%    0.74%      47.30%  2.9523  0.0207  \n",
      "1           0.16%    1.39%      29.37%  2.1829  0.0268  \n",
      "2           4.19%   34.53%      27.87%  2.1095  0.6400  \n",
      "3           0.86%    4.34%      19.20%  1.6237  0.0566  \n",
      "4           0.45%    2.24%      19.06%  1.6146  0.0290  \n",
      "5           0.62%    2.57%      16.39%  1.4312  0.0280  \n",
      "6           1.69%    6.57%      15.41%  1.3576  0.0662  \n",
      "7           3.13%    7.11%       9.62%  0.8199  0.0326  \n",
      "8           3.60%    6.38%       7.67%  0.5719  0.0159  \n",
      "9          10.70%    9.67%       4.06% -0.1009  0.0010  \n",
      "10         22.63%    7.19%       1.47% -1.1471  0.1771  \n",
      "11         34.76%    4.07%       0.55% -2.1455  0.6586  \n",
      "missing    17.19%   13.22%       3.48% -0.2629  0.0105  \n",
      "\n"
     ]
    }
   ],
   "source": [
    "pd.set_option('display.max_columns', None)\n",
    "woe.display_bin_results([\"vantage_score\"], simple=0)"
   ]
  },
  {
   "cell_type": "code",
   "execution_count": 21,
   "metadata": {},
   "outputs": [
    {
     "data": {
      "text/html": [
       "<div>\n",
       "<style scoped>\n",
       "    .dataframe tbody tr th:only-of-type {\n",
       "        vertical-align: middle;\n",
       "    }\n",
       "\n",
       "    .dataframe tbody tr th {\n",
       "        vertical-align: top;\n",
       "    }\n",
       "\n",
       "    .dataframe thead th {\n",
       "        text-align: right;\n",
       "    }\n",
       "</style>\n",
       "<table border=\"1\" class=\"dataframe\">\n",
       "  <thead>\n",
       "    <tr style=\"text-align: right;\">\n",
       "      <th></th>\n",
       "      <th>vantage_score</th>\n",
       "      <th>vantage_score_woe</th>\n",
       "    </tr>\n",
       "  </thead>\n",
       "  <tbody>\n",
       "    <tr>\n",
       "      <th>0</th>\n",
       "      <td>NaN</td>\n",
       "      <td>-0.2629</td>\n",
       "    </tr>\n",
       "    <tr>\n",
       "      <th>1</th>\n",
       "      <td>734.0</td>\n",
       "      <td>-1.1471</td>\n",
       "    </tr>\n",
       "    <tr>\n",
       "      <th>2</th>\n",
       "      <td>NaN</td>\n",
       "      <td>-0.2629</td>\n",
       "    </tr>\n",
       "    <tr>\n",
       "      <th>3</th>\n",
       "      <td>780.0</td>\n",
       "      <td>-2.1455</td>\n",
       "    </tr>\n",
       "    <tr>\n",
       "      <th>4</th>\n",
       "      <td>737.0</td>\n",
       "      <td>-1.1471</td>\n",
       "    </tr>\n",
       "    <tr>\n",
       "      <th>5</th>\n",
       "      <td>NaN</td>\n",
       "      <td>-0.2629</td>\n",
       "    </tr>\n",
       "    <tr>\n",
       "      <th>6</th>\n",
       "      <td>790.0</td>\n",
       "      <td>-2.1455</td>\n",
       "    </tr>\n",
       "    <tr>\n",
       "      <th>7</th>\n",
       "      <td>NaN</td>\n",
       "      <td>-0.2629</td>\n",
       "    </tr>\n",
       "    <tr>\n",
       "      <th>8</th>\n",
       "      <td>482.0</td>\n",
       "      <td>2.1095</td>\n",
       "    </tr>\n",
       "    <tr>\n",
       "      <th>9</th>\n",
       "      <td>540.0</td>\n",
       "      <td>1.6146</td>\n",
       "    </tr>\n",
       "  </tbody>\n",
       "</table>\n",
       "</div>"
      ],
      "text/plain": [
       "   vantage_score  vantage_score_woe\n",
       "0            NaN            -0.2629\n",
       "1          734.0            -1.1471\n",
       "2            NaN            -0.2629\n",
       "3          780.0            -2.1455\n",
       "4          737.0            -1.1471\n",
       "5            NaN            -0.2629\n",
       "6          790.0            -2.1455\n",
       "7            NaN            -0.2629\n",
       "8          482.0             2.1095\n",
       "9          540.0             1.6146"
      ]
     },
     "execution_count": 21,
     "metadata": {},
     "output_type": "execute_result"
    }
   ],
   "source": [
    "df[[\"vantage_score\", \"vantage_score_woe\"]].head(10)"
   ]
  },
  {
   "cell_type": "code",
   "execution_count": null,
   "metadata": {},
   "outputs": [],
   "source": []
  }
 ],
 "metadata": {
  "kernelspec": {
   "display_name": "conda_amazonei_mxnet_p27",
   "language": "python",
   "name": "conda_amazonei_mxnet_p27"
  },
  "language_info": {
   "codemirror_mode": {
    "name": "ipython",
    "version": 2
   },
   "file_extension": ".py",
   "mimetype": "text/x-python",
   "name": "python",
   "nbconvert_exporter": "python",
   "pygments_lexer": "ipython2",
   "version": "2.7.16"
  }
 },
 "nbformat": 4,
 "nbformat_minor": 4
}
