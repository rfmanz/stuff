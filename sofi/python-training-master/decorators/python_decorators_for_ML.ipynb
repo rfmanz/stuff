{
 "cells": [
  {
   "cell_type": "raw",
   "metadata": {},
   "source": [
    "- Notebook Author: [Wanli Ma]"
   ]
  },
  {
   "cell_type": "markdown",
   "metadata": {},
   "source": [
    "# Python Decorators for Machine Learning"
   ]
  },
  {
   "cell_type": "markdown",
   "metadata": {},
   "source": [
    "## Table of Contents\n",
    "\n",
    "### Relevant Concepts\n",
    "\n",
    "* Variable Arguments\n",
    "* Functions are first class Objects\n",
    "* Closures\n",
    "\n",
    "### Python Decorators\n",
    "\n",
    "#### What is a Decorator\n",
    "#### Implementing Decorators\n",
    "* Function-based Decorators\n",
    "* Class-based Decorators\n",
    "\n",
    "#### Special Topics\n",
    "* Stateful Decorators\n",
    "* Decorating Functions With Arguments\n",
    "* Introspection of Decorated Functions\n",
    "\n",
    "### Real World Examples for ML\n",
    "\n",
    "#### Data Validation\n",
    "#### Model Registry\n",
    "#### Feature Engineering\n",
    "\n",
    "\n",
    "### Further Reading\n",
    "\n",
    "* https://realpython.com/primer-on-python-decorators/#returning-functions-from-functions\n",
    "* https://github.com/lord63/awesome-python-decorator"
   ]
  },
  {
   "cell_type": "markdown",
   "metadata": {},
   "source": [
    "### Variable Arguments\n",
    "\n",
    "* Positional Arguments - the *args idiom \n",
    "  - args is a tuple\n",
    "* Keywords Arguments - the **kwargs idiom\n",
    "  - kwargs is a dictionary\n",
    "  \n",
    "Notes:\n",
    "  - Both idioms can be used for defining and calling functions\n",
    "  - args comes before kwargs\n",
    "  - calling function by key-value pairs always works"
   ]
  },
  {
   "cell_type": "code",
   "execution_count": null,
   "metadata": {},
   "outputs": [],
   "source": [
    "# define a function - parking arguments into a tuple\n",
    "def read_data_files(*paths, format):\n",
    "    data = \"\"\n",
    "    for path in paths:\n",
    "        with open(path) as handle:\n",
    "            if format == \"csv\":\n",
    "                data += handle.read_csv()\n",
    "            elif format == \"json\":    \n",
    "                data += handle.read_jason()                \n",
    "    return data\n",
    "\n",
    "# calling a function - arguments unparking\n",
    "csv_files = (\"file1.csv\", \"file2.csv\", \"file3.csv\")\n",
    "read_data_files(*paths, format=\"csv\")"
   ]
  },
  {
   "cell_type": "code",
   "execution_count": null,
   "metadata": {},
   "outputs": [],
   "source": [
    "# define a function - parking arguments into a dict\n",
    "def set_config_defaults(config, **kwargs):\n",
    "    for key, value in kwargs.items():\n",
    "        if key not in config:\n",
    "            config[key] = value\n",
    "            \n",
    "# calling a function - arguments unparking\n",
    "config = {\"target\": \"bad\", \"verbosity\": 3}\n",
    "set_config_defaults(config, random_state=1234)"
   ]
  },
  {
   "cell_type": "code",
   "execution_count": null,
   "metadata": {},
   "outputs": [],
   "source": [
    "# the most general way to define a function\n",
    "def general_function(*args, **kwargs):\n",
    "    for arg in args:\n",
    "        print(arg)\n",
    "    for key, value in kwargs.items():\n",
    "        print(\"{} -> {}\".format(key,value))\n",
    "        "
   ]
  },
  {
   "cell_type": "markdown",
   "metadata": {},
   "source": [
    "### Functions are first class Objects"
   ]
  },
  {
   "cell_type": "markdown",
   "metadata": {},
   "source": [
    "Functions have attributes, such as \"__name__\", and can be\n",
    "\n",
    "* assigned to a variable,\n",
    "* passed as an argument, and\n",
    "* returned from other functions"
   ]
  },
  {
   "cell_type": "code",
   "execution_count": 3,
   "metadata": {},
   "outputs": [],
   "source": [
    "def inner():\n",
    "    print (\"This is an inner function\")"
   ]
  },
  {
   "cell_type": "code",
   "execution_count": 4,
   "metadata": {},
   "outputs": [
    {
     "data": {
      "text/plain": [
       "'inner'"
      ]
     },
     "execution_count": 4,
     "metadata": {},
     "output_type": "execute_result"
    }
   ],
   "source": [
    "inner.__name__"
   ]
  },
  {
   "cell_type": "code",
   "execution_count": 7,
   "metadata": {},
   "outputs": [
    {
     "name": "stdout",
     "output_type": "stream",
     "text": [
      "This is an inner function\n"
     ]
    }
   ],
   "source": [
    "# In this case, the variable y is bound to the same object as inner\n",
    "y = inner\n",
    "y()"
   ]
  },
  {
   "cell_type": "code",
   "execution_count": 1,
   "metadata": {},
   "outputs": [
    {
     "name": "stdout",
     "output_type": "stream",
     "text": [
      "25\n"
     ]
    }
   ],
   "source": [
    "def outer(x): \n",
    "    def inner(y): \n",
    "        return x + y \n",
    "    return inner\n",
    "\n",
    "add15 = outer(15) \n",
    "    \n",
    "print(add15(10))"
   ]
  },
  {
   "cell_type": "markdown",
   "metadata": {},
   "source": [
    "### Closures\n",
    "\n",
    "* Closure in Python is an inner function object that remembers and has access to variables in the local scope in which it was created even after the outer function has finished executing.\n",
    "* Another way of relating to a python closure is: Objects can be described as data with methods attached, while closures are functions with data attached."
   ]
  },
  {
   "cell_type": "code",
   "execution_count": 8,
   "metadata": {},
   "outputs": [
    {
     "data": {
      "text/plain": [
       "15"
      ]
     },
     "execution_count": 8,
     "metadata": {},
     "output_type": "execute_result"
    }
   ],
   "source": [
    "## add15 is a closure\n",
    "add15.__closure__\n",
    "add15.__closure__[0].cell_contents"
   ]
  },
  {
   "cell_type": "markdown",
   "metadata": {},
   "source": [
    "Characteristics of a python closure function\n",
    "\n",
    "* It is a nested or inner function\n",
    "* The closure will have access to a 'free' variable that is in encolsing (outer) scope\n",
    "* It will be returned from the enclosing (outer) function."
   ]
  },
  {
   "cell_type": "markdown",
   "metadata": {},
   "source": [
    "### What is a Decorator\n",
    "\n",
    "* A decorator in Python is any callable object that is used to modify a function or a class.\n",
    "* It works by passing a reference to the function \"func\" or the class \"cls\" to a decorator that returns a modified function or class. The modified functions or classes usually contain calls to the original function or class.\n",
    "* Decorators in Python are applied to a group of functions or classes and have a purpose to augment their behavior.\n",
    "* A tool used to build a extensible software frameworks"
   ]
  },
  {
   "cell_type": "markdown",
   "metadata": {},
   "source": [
    "### Function-based Decorators \n",
    "\n",
    "* Decorators often implemented as a (high order) function that takes a function as argument and returns a dfferent (decorated) function\n",
    "* It works by adding lines of code around a function which are executed before or after the function call\n",
    "* The decorator function is executed once for each function it decorates."
   ]
  },
  {
   "cell_type": "code",
   "execution_count": null,
   "metadata": {},
   "outputs": [],
   "source": [
    "@some_decorator\n",
    "def some_function(arg):\n",
    "    # some code"
   ]
  },
  {
   "cell_type": "markdown",
   "metadata": {},
   "source": [
    "Note: Python translates this into\n",
    "\n",
    "* some_function = some_decorator(some_function)"
   ]
  },
  {
   "cell_type": "markdown",
   "metadata": {},
   "source": [
    "Examples"
   ]
  },
  {
   "cell_type": "code",
   "execution_count": 9,
   "metadata": {},
   "outputs": [],
   "source": [
    "# decorator function\n",
    "def printlog(func):\n",
    "    def wrapper(*args, **kwargs):\n",
    "        print(\"CALLING: \" , func.__name__)\n",
    "        return func(*args, **kwargs)\n",
    "    return wrapper\n",
    "\n",
    "@printlog\n",
    "def data_ingest():\n",
    "    # do something\n",
    "    pass"
   ]
  },
  {
   "cell_type": "code",
   "execution_count": null,
   "metadata": {},
   "outputs": [],
   "source": [
    "# Execution Timer Decorator\n",
    "def measure_time(func):\n",
    "    def wrapper(*args, **kwargs):\n",
    "        from time import time\n",
    "        start = time()\n",
    "        result = func(*args, **kwargs)\n",
    "        print(f'Elapsed time is {time() - start} ms')\n",
    "        return result\n",
    "    return wrapper"
   ]
  },
  {
   "cell_type": "code",
   "execution_count": 7,
   "metadata": {},
   "outputs": [
    {
     "name": "stdout",
     "output_type": "stream",
     "text": [
      "CALLING: data_ingest\n"
     ]
    }
   ],
   "source": [
    "data_ingest()"
   ]
  },
  {
   "cell_type": "code",
   "execution_count": 29,
   "metadata": {},
   "outputs": [
    {
     "name": "stdout",
     "output_type": "stream",
     "text": [
      "Elapsed time is 1.0967254638671875e-05 ms\n"
     ]
    }
   ],
   "source": [
    "from time import time\n",
    "\n",
    "def timeit(func):\n",
    "    def wrapper(*args, **kwargs):\n",
    "        start = time()\n",
    "        value = func(*args, **kwargs)\n",
    "        print(f'Elapsed time is {time() - start} ms')\n",
    "        return value \n",
    "    return wrapper\n",
    "\n",
    "@timeit\n",
    "def any_func():\n",
    "    count = 0\n",
    "    for number in range(100):\n",
    "        count += number\n",
    "\n",
    "any_func()"
   ]
  },
  {
   "cell_type": "code",
   "execution_count": 30,
   "metadata": {},
   "outputs": [],
   "source": [
    "from datetime import datetime\n",
    "\n",
    "def logger(func):\n",
    "    def wrapper(*args, **kwargs):\n",
    "        print('_' * 25)\n",
    "        print(f'Run on: {datetime.today().strftime(\"%Y-%m-%d %H:%M:%S\")}')\n",
    "        print(func.__name__)\n",
    "        func(*args, **kwargs)\n",
    "        print('_' * 25)\n",
    "    return wrapper"
   ]
  },
  {
   "cell_type": "code",
   "execution_count": 31,
   "metadata": {},
   "outputs": [
    {
     "name": "stdout",
     "output_type": "stream",
     "text": [
      "_________________________\n",
      "Run on: 2022-04-05 20:46:31\n",
      "shutdown\n",
      "_________________________\n",
      "_________________________\n",
      "Run on: 2022-04-05 20:46:31\n",
      "restart\n",
      "_________________________\n"
     ]
    }
   ],
   "source": [
    "@logger\n",
    "def shutdown():\n",
    "    pass\n",
    "\n",
    "@logger\n",
    "def restart():\n",
    "    pass\n",
    "\n",
    "shutdown()\n",
    "restart()"
   ]
  },
  {
   "cell_type": "markdown",
   "metadata": {},
   "source": [
    "### Class-based Decorators\n",
    "\n",
    "If a decorator is implemented as a class, \n",
    "\n",
    "* it needs to take func as an argument in its .__init__() method, and  \n",
    "* the class instance needs to be callable, that is, you implement the special .__call__() method."
   ]
  },
  {
   "cell_type": "code",
   "execution_count": 10,
   "metadata": {},
   "outputs": [],
   "source": [
    "class PrintLog:\n",
    "    def __init__(self, func):\n",
    "        self.func = func\n",
    "        \n",
    "    def __call__(self, *args, **kwargs):\n",
    "        print(\"CALLING: {}\".format(self.func.__name__))\n",
    "        return self.func(*args, **kwargs)\n",
    "\n",
    "@PrintLog\n",
    "def data_ingest():\n",
    "    # do something\n",
    "    pass\n",
    "\n",
    "data_ingest()"
   ]
  },
  {
   "cell_type": "markdown",
   "metadata": {},
   "source": [
    "Class-based decorators have a few advantages over function-based decorators:\n",
    "\n",
    "* The decorator is a class, which means you can leverage inheritance if you have a family of related decorators.\n",
    "* When you prefer to track state in object attributes, instead of a closure."
   ]
  },
  {
   "cell_type": "code",
   "execution_count": 4,
   "metadata": {},
   "outputs": [
    {
     "name": "stdout",
     "output_type": "stream",
     "text": [
      "Call 1 of 'run_model'\n"
     ]
    }
   ],
   "source": [
    "import functools\n",
    "\n",
    "class CountCalls:\n",
    "    def __init__(self, func):\n",
    "        functools.update_wrapper(self, func)\n",
    "        self.func = func\n",
    "        self.num_calls = 0\n",
    "\n",
    "    def __call__(self, *args, **kwargs):\n",
    "        self.num_calls += 1\n",
    "        print(f\"Call {self.num_calls} of {self.func.__name__!r}\")\n",
    "        return self.func(*args, **kwargs)\n",
    "\n",
    "@CountCalls\n",
    "def run_model():\n",
    "    pass\n",
    "\n",
    "run_model()"
   ]
  },
  {
   "cell_type": "code",
   "execution_count": 5,
   "metadata": {},
   "outputs": [
    {
     "name": "stdout",
     "output_type": "stream",
     "text": [
      "Call 2 of 'run_model'\n"
     ]
    }
   ],
   "source": [
    "run_model()"
   ]
  },
  {
   "cell_type": "code",
   "execution_count": 6,
   "metadata": {},
   "outputs": [
    {
     "data": {
      "text/plain": [
       "2"
      ]
     },
     "execution_count": 6,
     "metadata": {},
     "output_type": "execute_result"
    }
   ],
   "source": [
    "run_model.num_calls"
   ]
  },
  {
   "cell_type": "markdown",
   "metadata": {},
   "source": [
    "Notes:\n",
    "\n",
    "* The .__init__() method must store a reference to the function and can do any other necessary initialization. \n",
    "* The .__call__() method does essentially the same thing as the wrapper() function in our earlier examples.\n",
    "* You need to use the functools.update_wrapper() function instead of @functools.wraps."
   ]
  },
  {
   "cell_type": "markdown",
   "metadata": {},
   "source": [
    "When creating class-based decorators that take arguments,\n",
    "\n",
    "* the constructor accepts not the func object to be decorated, the argument(s)\n",
    "* the __call__ method must take the func object, define a wrapper function, and return it."
   ]
  },
  {
   "cell_type": "code",
   "execution_count": 12,
   "metadata": {},
   "outputs": [],
   "source": [
    "class Add:\n",
    "    def __init__(self, value):\n",
    "        self.value = value\n",
    "\n",
    "    def __call__(self, func):\n",
    "        def wrapper(*args, **kwargs):\n",
    "            return func(*args, **kwargs) + self.value\n",
    "        return wrapper\n",
    "\n",
    "@Add(2)\n",
    "def foo(x):\n",
    "    return x ** 2\n",
    "\n",
    "@Add(4)\n",
    "def bar(n):\n",
    "    return n*2"
   ]
  },
  {
   "cell_type": "markdown",
   "metadata": {},
   "source": [
    "## Special Topics"
   ]
  },
  {
   "cell_type": "markdown",
   "metadata": {},
   "source": [
    "### Stateful Decorators\n",
    "\n",
    "* A decorator that can keep track of state\n",
    "* Using variables inside the decorator function itself, this is not the same as using variables inside the wrapper function\n",
    "* using function attributes"
   ]
  },
  {
   "cell_type": "code",
   "execution_count": 1,
   "metadata": {},
   "outputs": [],
   "source": [
    "# keep tracking a running average of what a function returns and \n",
    "# to do this for a family of fuctions\n",
    "def collect_stats(func):\n",
    "    stats = {\"metric\": 0, \"count\": 0}\n",
    "    def wrapper(*args, **kwargs):\n",
    "        value = func(*args, **kwargs)\n",
    "        stats[\"metric\"] += value\n",
    "        stats[\"count\"] += 1\n",
    "        return value\n",
    "    wrapper.stats = stats\n",
    "    return wrapper\n",
    "\n",
    "@collect_stats\n",
    "def model(auc):\n",
    "    return auc"
   ]
  },
  {
   "cell_type": "code",
   "execution_count": 2,
   "metadata": {},
   "outputs": [
    {
     "data": {
      "text/plain": [
       "{'metric': 0, 'count': 0}"
      ]
     },
     "execution_count": 2,
     "metadata": {},
     "output_type": "execute_result"
    }
   ],
   "source": [
    "model.stats"
   ]
  },
  {
   "cell_type": "code",
   "execution_count": 3,
   "metadata": {},
   "outputs": [
    {
     "data": {
      "text/plain": [
       "0.8"
      ]
     },
     "execution_count": 3,
     "metadata": {},
     "output_type": "execute_result"
    }
   ],
   "source": [
    "model(0.8)"
   ]
  },
  {
   "cell_type": "code",
   "execution_count": 4,
   "metadata": {},
   "outputs": [
    {
     "data": {
      "text/plain": [
       "{'metric': 0.8, 'count': 1}"
      ]
     },
     "execution_count": 4,
     "metadata": {},
     "output_type": "execute_result"
    }
   ],
   "source": [
    "model.stats"
   ]
  },
  {
   "cell_type": "markdown",
   "metadata": {},
   "source": [
    "### Decorators with Arguments\n",
    "\n",
    "* A function that returns a decorator"
   ]
  },
  {
   "cell_type": "code",
   "execution_count": 5,
   "metadata": {},
   "outputs": [],
   "source": [
    "def add(value):\n",
    "    def decorator(func):\n",
    "        def wrapper(*args, **kwargs):\n",
    "            return func(*args, **kwargs) + value\n",
    "        return wrapper\n",
    "    return decorator\n",
    "\n",
    "# Notice the closure here\n",
    "\n",
    "@add(2)\n",
    "def foo(x):\n",
    "    return x ** 2\n",
    "\n",
    "@add(4)\n",
    "def bar(n):\n",
    "    return n*2\n",
    "     "
   ]
  },
  {
   "cell_type": "code",
   "execution_count": 3,
   "metadata": {},
   "outputs": [
    {
     "data": {
      "text/plain": [
       "6"
      ]
     },
     "execution_count": 3,
     "metadata": {},
     "output_type": "execute_result"
    }
   ],
   "source": [
    "foo(2)"
   ]
  },
  {
   "cell_type": "code",
   "execution_count": 4,
   "metadata": {},
   "outputs": [
    {
     "data": {
      "text/plain": [
       "12"
      ]
     },
     "execution_count": 4,
     "metadata": {},
     "output_type": "execute_result"
    }
   ],
   "source": [
    "bar(4)"
   ]
  },
  {
   "cell_type": "code",
   "execution_count": 9,
   "metadata": {},
   "outputs": [],
   "source": [
    "# An example decorator from the Flask framework\n",
    "from flask import Flask\n",
    "\n",
    "app = Flask(__name__)\n",
    "\n",
    "@app.route(\"/\")\n",
    "def hello():\n",
    "    return \"<html><body>Hello, World!</body></html>\""
   ]
  },
  {
   "cell_type": "markdown",
   "metadata": {},
   "source": [
    "### Introspection of Decorated Functions\n",
    "\n",
    "* Introspection is the ability of an object to know about its own attributes at runtime. \n",
    "* For instance, a function knows its own name and documentation\n",
    "* Use the @functools.wraps decorator to preserve information about the original function."
   ]
  },
  {
   "cell_type": "code",
   "execution_count": 21,
   "metadata": {},
   "outputs": [
    {
     "data": {
      "text/plain": [
       "'print'"
      ]
     },
     "execution_count": 21,
     "metadata": {},
     "output_type": "execute_result"
    }
   ],
   "source": [
    "print.__name__"
   ]
  },
  {
   "cell_type": "code",
   "execution_count": 22,
   "metadata": {},
   "outputs": [
    {
     "name": "stdout",
     "output_type": "stream",
     "text": [
      "Help on built-in function print in module builtins:\n",
      "\n",
      "print(...)\n",
      "    print(value, ..., sep=' ', end='\\n', file=sys.stdout, flush=False)\n",
      "    \n",
      "    Prints the values to a stream, or to sys.stdout by default.\n",
      "    Optional keyword arguments:\n",
      "    file:  a file-like object (stream); defaults to the current sys.stdout.\n",
      "    sep:   string inserted between values, default a space.\n",
      "    end:   string appended after the last value, default a newline.\n",
      "    flush: whether to forcibly flush the stream.\n",
      "\n"
     ]
    }
   ],
   "source": [
    "help(print)"
   ]
  },
  {
   "cell_type": "code",
   "execution_count": 37,
   "metadata": {},
   "outputs": [],
   "source": [
    "def count_calls(func):\n",
    "    def wrapper_count_calls(*args, **kwargs):\n",
    "        wrapper_count_calls.num_calls += 1\n",
    "        print(f\"Call {wrapper_count_calls.num_calls} of {func.__name__!r}\")\n",
    "        return func(*args, **kwargs)\n",
    "    wrapper_count_calls.num_calls = 0\n",
    "    return wrapper_count_calls\n",
    "\n",
    "@count_calls\n",
    "def run_model():\n",
    "    pass"
   ]
  },
  {
   "cell_type": "code",
   "execution_count": 38,
   "metadata": {},
   "outputs": [
    {
     "data": {
      "text/plain": [
       "'wrapper_count_calls'"
      ]
     },
     "execution_count": 38,
     "metadata": {},
     "output_type": "execute_result"
    }
   ],
   "source": [
    "run_model.__name__"
   ]
  },
  {
   "cell_type": "code",
   "execution_count": 39,
   "metadata": {},
   "outputs": [
    {
     "name": "stdout",
     "output_type": "stream",
     "text": [
      "Help on function wrapper_count_calls in module __main__:\n",
      "\n",
      "wrapper_count_calls(*args, **kwargs)\n",
      "\n"
     ]
    }
   ],
   "source": [
    "help(run_model)"
   ]
  },
  {
   "cell_type": "code",
   "execution_count": 40,
   "metadata": {},
   "outputs": [],
   "source": [
    "# To fix this using the @functools.wraps decorator\n",
    "\n",
    "import functools\n",
    "\n",
    "def count_calls(func):\n",
    "    @functools.wraps(func)\n",
    "    def wrapper_count_calls(*args, **kwargs):\n",
    "        wrapper_count_calls.num_calls += 1\n",
    "        print(f\"Call {wrapper_count_calls.num_calls} of {func.__name__!r}\")\n",
    "        return func(*args, **kwargs)\n",
    "    wrapper_count_calls.num_calls = 0\n",
    "    return wrapper_count_calls\n",
    "\n",
    "@count_calls\n",
    "def run_model():\n",
    "    pass"
   ]
  },
  {
   "cell_type": "code",
   "execution_count": 41,
   "metadata": {},
   "outputs": [
    {
     "data": {
      "text/plain": [
       "'run_model'"
      ]
     },
     "execution_count": 41,
     "metadata": {},
     "output_type": "execute_result"
    }
   ],
   "source": [
    "run_model.__name__"
   ]
  },
  {
   "cell_type": "code",
   "execution_count": 42,
   "metadata": {},
   "outputs": [
    {
     "name": "stdout",
     "output_type": "stream",
     "text": [
      "Help on function run_model in module __main__:\n",
      "\n",
      "run_model()\n",
      "\n"
     ]
    }
   ],
   "source": [
    "help(run_model)"
   ]
  },
  {
   "cell_type": "markdown",
   "metadata": {},
   "source": [
    "## Real World Examples for ML"
   ]
  },
  {
   "cell_type": "markdown",
   "metadata": {},
   "source": [
    "### Creating Singletons\n",
    "\n",
    "A singleton is a class with only one instance.\n",
    "The following @singleton decorator turns a class into a singleton by storing the first instance of the class as an attribute. Later attempts at creating an instance simply return the stored instance:"
   ]
  },
  {
   "cell_type": "code",
   "execution_count": 1,
   "metadata": {},
   "outputs": [],
   "source": [
    "import functools\n",
    "\n",
    "def singleton(cls):\n",
    "    \"\"\"Make a class a Singleton class (only one instance)\"\"\"\n",
    "    @functools.wraps(cls)\n",
    "    def wrapper_singleton(*args, **kwargs):\n",
    "        if not wrapper_singleton.instance:\n",
    "            wrapper_singleton.instance = cls(*args, **kwargs)\n",
    "        return wrapper_singleton.instance\n",
    "    wrapper_singleton.instance = None\n",
    "    return wrapper_singleton\n",
    "\n",
    "@singleton\n",
    "class TheModel:\n",
    "    pass"
   ]
  },
  {
   "cell_type": "markdown",
   "metadata": {},
   "source": [
    "### Model registry decorator"
   ]
  },
  {
   "cell_type": "code",
   "execution_count": 2,
   "metadata": {},
   "outputs": [
    {
     "name": "stdout",
     "output_type": "stream",
     "text": [
      "1.0\n",
      "0.9210526315789473\n",
      "1.0\n"
     ]
    }
   ],
   "source": [
    "# Step 0: common use case\n",
    "from sklearn import datasets\n",
    "import pandas as pd\n",
    "iris = datasets.load_iris(as_frame = True)\n",
    "\n",
    "y = iris['target']\n",
    "X = iris['data']\n",
    "\n",
    "from sklearn.ensemble import RandomForestClassifier, AdaBoostClassifier, ExtraTreesClassifier\n",
    "from sklearn.model_selection import train_test_split\n",
    "from sklearn.metrics import accuracy_score\n",
    "\n",
    "xtrain, xtest, ytrain, ytest = train_test_split(X, y)\n",
    "\n",
    "rf = RandomForestClassifier()\n",
    "rf.fit(xtrain, ytrain)\n",
    "y_pred = rf.predict(xtest)\n",
    "print(accuracy_score(ytest, y_pred))\n",
    "\n",
    "rf = AdaBoostClassifier()\n",
    "rf.fit(xtrain, ytrain)\n",
    "y_pred = rf.predict(xtest)\n",
    "print(accuracy_score(ytest, y_pred))\n",
    "\n",
    "rf = ExtraTreesClassifier()\n",
    "rf.fit(xtrain, ytrain)\n",
    "y_pred = rf.predict(xtest)\n",
    "print(accuracy_score(ytest, y_pred))\n",
    "\n",
    "\n",
    "# Step 1: create a custom function that will do the fitting/predicting \n",
    "def fitter(model, xtrain, xtest, ytrain, ytest): \n",
    "    md = model()\n",
    "    md.fit(xtrain, ytrain)\n",
    "    y_pred = md.predict(xtest)\n",
    "    return accuracy_score(ytest, y_pred), y_pred, model\n",
    "\n",
    "\n",
    "# Step 2: create a model registry decorator for tracking of fitted models\n",
    "from functools import wraps \n",
    "\n",
    "def model_registry(function): \n",
    "    @wraps(function)\n",
    "    def wrapper(*args, **kwargs): \n",
    "        score, prediction, fmodel = function(*args, **kwargs)\n",
    "        registry[args[0].__name__] = {'score': score, 'prediction': prediction} \n",
    "        return score, prediction, fmodel\n",
    "    return wrapper\n",
    "\n",
    "@model_registry\n",
    "def fitter(model, xtrain, xtest, ytrain, ytest): \n",
    "    md = model()\n",
    "    md.fit(xtrain, ytrain)\n",
    "    y_pred = md.predict(xtest)\n",
    "    return accuracy_score(ytest, y_pred), y_pred, md\n",
    "\n",
    "# run the decorated fitter\n",
    "registry = {}\n",
    "\n",
    "score, prediction, fmodel = fitter(RandomForestClassifier, xtrain, xtest, ytrain, ytest)\n",
    "score, prediction, fmodel = fitter(ExtraTreesClassifier, xtrain, xtest, ytrain, ytest)\n",
    "score, prediction, fmodel = fitter(AdaBoostClassifier, xtrain, xtest, ytrain, ytest)\n"
   ]
  },
  {
   "cell_type": "code",
   "execution_count": 3,
   "metadata": {},
   "outputs": [
    {
     "data": {
      "text/plain": [
       "{'RandomForestClassifier': {'score': 1.0,\n",
       "  'prediction': array([1, 0, 0, 1, 0, 1, 0, 0, 2, 0, 2, 1, 1, 0, 0, 2, 2, 0, 0, 2, 2, 0,\n",
       "         2, 2, 0, 1, 2, 1, 2, 1, 2, 2, 1, 0, 1, 0, 2, 2])},\n",
       " 'ExtraTreesClassifier': {'score': 1.0,\n",
       "  'prediction': array([1, 0, 0, 1, 0, 1, 0, 0, 2, 0, 2, 1, 1, 0, 0, 2, 2, 0, 0, 2, 2, 0,\n",
       "         2, 2, 0, 1, 2, 1, 2, 1, 2, 2, 1, 0, 1, 0, 2, 2])},\n",
       " 'AdaBoostClassifier': {'score': 0.9736842105263158,\n",
       "  'prediction': array([1, 0, 0, 1, 0, 1, 0, 0, 2, 0, 2, 1, 1, 0, 0, 1, 2, 0, 0, 2, 2, 0,\n",
       "         2, 2, 0, 1, 2, 1, 2, 1, 2, 2, 1, 0, 1, 0, 2, 2])}}"
      ]
     },
     "execution_count": 3,
     "metadata": {},
     "output_type": "execute_result"
    }
   ],
   "source": [
    "registry"
   ]
  },
  {
   "cell_type": "code",
   "execution_count": 4,
   "metadata": {},
   "outputs": [],
   "source": [
    "# Step 3: Modify the decorator definition to log the metrics of models into files\n",
    "from contextlib import contextmanager\n",
    "\n",
    "@contextmanager\n",
    "def write_metrics(*args, **kwargs): \n",
    "    with open(*args, **kwargs) as f: \n",
    "        yield f \n",
    "        \n",
    "\n",
    "from datetime import datetime\n",
    "from sklearn.metrics import classification_report \n",
    "import json\n",
    "\n",
    "def model_registry(function): \n",
    "    @wraps(function)\n",
    "    def wrapper(*args, **kwargs): \n",
    "        score, prediction, fmodel = function(*args, **kwargs)\n",
    "        registry[args[0].__name__] = {'score': score, 'prediction': prediction} \n",
    "        with write_metrics(\"{}_report.txt\".format(datetime.today().strftime('%Y-%m-%d')), mode = 'w+') as f: \n",
    "            report = classification_report(args[4], prediction)\n",
    "            f.write(args[0].__name__ + \"\\n\" + report)\n",
    "        return score, prediction, fmodel\n",
    "    return wrapper\n",
    "\n",
    "@model_registry\n",
    "def fitter(model, xtrain, xtest, ytrain, ytest): \n",
    "    md = model()\n",
    "    md.fit(xtrain, ytrain)\n",
    "    y_pred = md.predict(xtest)\n",
    "    return accuracy_score(ytest, y_pred), y_pred, md\n",
    "\n",
    "registry = {}\n",
    "score, prediction, fmodel = fitter(AdaBoostClassifier, xtrain, xtest, ytrain, ytest)"
   ]
  },
  {
   "cell_type": "markdown",
   "metadata": {},
   "source": [
    "### Caching"
   ]
  },
  {
   "cell_type": "code",
   "execution_count": 6,
   "metadata": {},
   "outputs": [
    {
     "name": "stdout",
     "output_type": "stream",
     "text": [
      "Call 1 of 'fibonacci'\n",
      "Call 2 of 'fibonacci'\n",
      "Call 3 of 'fibonacci'\n",
      "Call 4 of 'fibonacci'\n",
      "Call 5 of 'fibonacci'\n",
      "Call 6 of 'fibonacci'\n",
      "Call 7 of 'fibonacci'\n",
      "Call 8 of 'fibonacci'\n",
      "Call 9 of 'fibonacci'\n",
      "Call 10 of 'fibonacci'\n",
      "Call 11 of 'fibonacci'\n",
      "Call 12 of 'fibonacci'\n",
      "Call 13 of 'fibonacci'\n",
      "Call 14 of 'fibonacci'\n",
      "Call 15 of 'fibonacci'\n",
      "Call 16 of 'fibonacci'\n",
      "Call 17 of 'fibonacci'\n",
      "Call 18 of 'fibonacci'\n",
      "Call 19 of 'fibonacci'\n",
      "Call 20 of 'fibonacci'\n",
      "Call 21 of 'fibonacci'\n",
      "Call 22 of 'fibonacci'\n",
      "Call 23 of 'fibonacci'\n",
      "Call 24 of 'fibonacci'\n",
      "Call 25 of 'fibonacci'\n",
      "Call 26 of 'fibonacci'\n",
      "Call 27 of 'fibonacci'\n",
      "Call 28 of 'fibonacci'\n",
      "Call 29 of 'fibonacci'\n",
      "Call 30 of 'fibonacci'\n",
      "Call 31 of 'fibonacci'\n",
      "Call 32 of 'fibonacci'\n",
      "Call 33 of 'fibonacci'\n",
      "Call 34 of 'fibonacci'\n",
      "Call 35 of 'fibonacci'\n",
      "Call 36 of 'fibonacci'\n",
      "Call 37 of 'fibonacci'\n",
      "Call 38 of 'fibonacci'\n",
      "Call 39 of 'fibonacci'\n",
      "Call 40 of 'fibonacci'\n",
      "Call 41 of 'fibonacci'\n",
      "Call 42 of 'fibonacci'\n",
      "Call 43 of 'fibonacci'\n",
      "Call 44 of 'fibonacci'\n",
      "Call 45 of 'fibonacci'\n",
      "Call 46 of 'fibonacci'\n",
      "Call 47 of 'fibonacci'\n",
      "Call 48 of 'fibonacci'\n",
      "Call 49 of 'fibonacci'\n",
      "Call 50 of 'fibonacci'\n",
      "Call 51 of 'fibonacci'\n",
      "Call 52 of 'fibonacci'\n",
      "Call 53 of 'fibonacci'\n",
      "Call 54 of 'fibonacci'\n",
      "Call 55 of 'fibonacci'\n",
      "Call 56 of 'fibonacci'\n",
      "Call 57 of 'fibonacci'\n",
      "Call 58 of 'fibonacci'\n",
      "Call 59 of 'fibonacci'\n",
      "Call 60 of 'fibonacci'\n",
      "Call 61 of 'fibonacci'\n",
      "Call 62 of 'fibonacci'\n",
      "Call 63 of 'fibonacci'\n",
      "Call 64 of 'fibonacci'\n",
      "Call 65 of 'fibonacci'\n",
      "Call 66 of 'fibonacci'\n",
      "Call 67 of 'fibonacci'\n",
      "Call 68 of 'fibonacci'\n",
      "Call 69 of 'fibonacci'\n",
      "Call 70 of 'fibonacci'\n",
      "Call 71 of 'fibonacci'\n",
      "Call 72 of 'fibonacci'\n",
      "Call 73 of 'fibonacci'\n",
      "Call 74 of 'fibonacci'\n",
      "Call 75 of 'fibonacci'\n",
      "Call 76 of 'fibonacci'\n",
      "Call 77 of 'fibonacci'\n",
      "Call 78 of 'fibonacci'\n",
      "Call 79 of 'fibonacci'\n",
      "Call 80 of 'fibonacci'\n",
      "Call 81 of 'fibonacci'\n",
      "Call 82 of 'fibonacci'\n",
      "Call 83 of 'fibonacci'\n",
      "Call 84 of 'fibonacci'\n",
      "Call 85 of 'fibonacci'\n",
      "Call 86 of 'fibonacci'\n",
      "Call 87 of 'fibonacci'\n",
      "Call 88 of 'fibonacci'\n",
      "Call 89 of 'fibonacci'\n",
      "Call 90 of 'fibonacci'\n",
      "Call 91 of 'fibonacci'\n",
      "Call 92 of 'fibonacci'\n",
      "Call 93 of 'fibonacci'\n",
      "Call 94 of 'fibonacci'\n",
      "Call 95 of 'fibonacci'\n",
      "Call 96 of 'fibonacci'\n",
      "Call 97 of 'fibonacci'\n",
      "Call 98 of 'fibonacci'\n",
      "Call 99 of 'fibonacci'\n",
      "Call 100 of 'fibonacci'\n",
      "Call 101 of 'fibonacci'\n",
      "Call 102 of 'fibonacci'\n",
      "Call 103 of 'fibonacci'\n",
      "Call 104 of 'fibonacci'\n",
      "Call 105 of 'fibonacci'\n",
      "Call 106 of 'fibonacci'\n",
      "Call 107 of 'fibonacci'\n",
      "Call 108 of 'fibonacci'\n",
      "Call 109 of 'fibonacci'\n",
      "Call 110 of 'fibonacci'\n",
      "Call 111 of 'fibonacci'\n",
      "Call 112 of 'fibonacci'\n",
      "Call 113 of 'fibonacci'\n",
      "Call 114 of 'fibonacci'\n",
      "Call 115 of 'fibonacci'\n",
      "Call 116 of 'fibonacci'\n",
      "Call 117 of 'fibonacci'\n",
      "Call 118 of 'fibonacci'\n",
      "Call 119 of 'fibonacci'\n",
      "Call 120 of 'fibonacci'\n",
      "Call 121 of 'fibonacci'\n",
      "Call 122 of 'fibonacci'\n",
      "Call 123 of 'fibonacci'\n",
      "Call 124 of 'fibonacci'\n",
      "Call 125 of 'fibonacci'\n",
      "Call 126 of 'fibonacci'\n",
      "Call 127 of 'fibonacci'\n",
      "Call 128 of 'fibonacci'\n",
      "Call 129 of 'fibonacci'\n",
      "Call 130 of 'fibonacci'\n",
      "Call 131 of 'fibonacci'\n",
      "Call 132 of 'fibonacci'\n",
      "Call 133 of 'fibonacci'\n",
      "Call 134 of 'fibonacci'\n",
      "Call 135 of 'fibonacci'\n",
      "Call 136 of 'fibonacci'\n",
      "Call 137 of 'fibonacci'\n",
      "Call 138 of 'fibonacci'\n",
      "Call 139 of 'fibonacci'\n",
      "Call 140 of 'fibonacci'\n",
      "Call 141 of 'fibonacci'\n",
      "Call 142 of 'fibonacci'\n",
      "Call 143 of 'fibonacci'\n",
      "Call 144 of 'fibonacci'\n",
      "Call 145 of 'fibonacci'\n",
      "Call 146 of 'fibonacci'\n",
      "Call 147 of 'fibonacci'\n",
      "Call 148 of 'fibonacci'\n",
      "Call 149 of 'fibonacci'\n",
      "Call 150 of 'fibonacci'\n",
      "Call 151 of 'fibonacci'\n",
      "Call 152 of 'fibonacci'\n",
      "Call 153 of 'fibonacci'\n",
      "Call 154 of 'fibonacci'\n",
      "Call 155 of 'fibonacci'\n",
      "Call 156 of 'fibonacci'\n",
      "Call 157 of 'fibonacci'\n",
      "Call 158 of 'fibonacci'\n",
      "Call 159 of 'fibonacci'\n",
      "Call 160 of 'fibonacci'\n",
      "Call 161 of 'fibonacci'\n",
      "Call 162 of 'fibonacci'\n",
      "Call 163 of 'fibonacci'\n",
      "Call 164 of 'fibonacci'\n",
      "Call 165 of 'fibonacci'\n",
      "Call 166 of 'fibonacci'\n",
      "Call 167 of 'fibonacci'\n",
      "Call 168 of 'fibonacci'\n",
      "Call 169 of 'fibonacci'\n",
      "Call 170 of 'fibonacci'\n",
      "Call 171 of 'fibonacci'\n",
      "Call 172 of 'fibonacci'\n",
      "Call 173 of 'fibonacci'\n",
      "Call 174 of 'fibonacci'\n",
      "Call 175 of 'fibonacci'\n",
      "Call 176 of 'fibonacci'\n",
      "Call 177 of 'fibonacci'\n"
     ]
    },
    {
     "data": {
      "text/plain": [
       "55"
      ]
     },
     "execution_count": 6,
     "metadata": {},
     "output_type": "execute_result"
    }
   ],
   "source": [
    "from decorators import count_calls\n",
    "\n",
    "@count_calls\n",
    "def fibonacci(num):\n",
    "    if num < 2:\n",
    "        return num\n",
    "    return fibonacci(num - 1) + fibonacci(num - 2)\n",
    "\n",
    "fibonacci(10)"
   ]
  },
  {
   "cell_type": "code",
   "execution_count": 7,
   "metadata": {},
   "outputs": [
    {
     "name": "stdout",
     "output_type": "stream",
     "text": [
      "Call 1 of 'fibonacci'\n",
      "Call 2 of 'fibonacci'\n",
      "Call 3 of 'fibonacci'\n",
      "Call 4 of 'fibonacci'\n",
      "Call 5 of 'fibonacci'\n",
      "Call 6 of 'fibonacci'\n",
      "Call 7 of 'fibonacci'\n",
      "Call 8 of 'fibonacci'\n",
      "Call 9 of 'fibonacci'\n",
      "Call 10 of 'fibonacci'\n",
      "Call 11 of 'fibonacci'\n"
     ]
    },
    {
     "data": {
      "text/plain": [
       "55"
      ]
     },
     "execution_count": 7,
     "metadata": {},
     "output_type": "execute_result"
    }
   ],
   "source": [
    "import functools\n",
    "from decorators import count_calls\n",
    "\n",
    "def cache(func):\n",
    "    \"\"\"Keep a cache of previous function calls\"\"\"\n",
    "    @functools.wraps(func)\n",
    "    def wrapper_cache(*args, **kwargs):\n",
    "        cache_key = args + tuple(kwargs.items())\n",
    "        if cache_key not in wrapper_cache.cache:\n",
    "            wrapper_cache.cache[cache_key] = func(*args, **kwargs)\n",
    "        return wrapper_cache.cache[cache_key]\n",
    "    wrapper_cache.cache = dict()\n",
    "    return wrapper_cache\n",
    "\n",
    "@cache\n",
    "@count_calls\n",
    "def fibonacci(num):\n",
    "    if num < 2:\n",
    "        return num\n",
    "    return fibonacci(num - 1) + fibonacci(num - 2)\n",
    "\n",
    "fibonacci(10)"
   ]
  },
  {
   "cell_type": "code",
   "execution_count": 8,
   "metadata": {},
   "outputs": [
    {
     "name": "stdout",
     "output_type": "stream",
     "text": [
      "Calculating fibonacci(10)\n",
      "Calculating fibonacci(9)\n",
      "Calculating fibonacci(8)\n",
      "Calculating fibonacci(7)\n",
      "Calculating fibonacci(6)\n",
      "Calculating fibonacci(5)\n",
      "Calculating fibonacci(4)\n",
      "Calculating fibonacci(3)\n",
      "Calculating fibonacci(2)\n",
      "Calculating fibonacci(1)\n",
      "Calculating fibonacci(0)\n"
     ]
    },
    {
     "data": {
      "text/plain": [
       "55"
      ]
     },
     "execution_count": 8,
     "metadata": {},
     "output_type": "execute_result"
    }
   ],
   "source": [
    "import functools\n",
    "\n",
    "@functools.lru_cache(maxsize=4)\n",
    "def fibonacci(num):\n",
    "    print(f\"Calculating fibonacci({num})\")\n",
    "    if num < 2:\n",
    "        return num\n",
    "    return fibonacci(num - 1) + fibonacci(num - 2)\n",
    "\n",
    "fibonacci(10)"
   ]
  },
  {
   "cell_type": "markdown",
   "metadata": {},
   "source": [
    "### Data Validation"
   ]
  },
  {
   "cell_type": "code",
   "execution_count": 4,
   "metadata": {},
   "outputs": [],
   "source": [
    "import functools\n",
    "from data_ingestion import get_data\n",
    "\n",
    "def validate_data(*expected_args):                  \n",
    "    def decorator_validate_data(func):\n",
    "        @functools.wraps(func)\n",
    "        def wrapper_validate_data(*args, **kwargs):\n",
    "            data_object = get_data()\n",
    "            for expected_arg in expected_args:      \n",
    "                if expected_arg not in data_object:\n",
    "                    raise ...\n",
    "            return func(*args, **kwargs)\n",
    "        return wrapper_validate_data\n",
    "    return decorator_validate_data"
   ]
  },
  {
   "cell_type": "code",
   "execution_count": 5,
   "metadata": {},
   "outputs": [],
   "source": [
    "@validate_data(\"score\")\n",
    "def update_score():\n",
    "    data = get_data()\n",
    "    # Update score\n",
    "    return \"success!\""
   ]
  },
  {
   "cell_type": "markdown",
   "metadata": {},
   "source": [
    "### Creating new feature"
   ]
  },
  {
   "cell_type": "code",
   "execution_count": 1,
   "metadata": {},
   "outputs": [],
   "source": [
    "#!/usr/bin/env python3\n",
    "# Copyright (c) 2008-11 Qtrac Ltd. All rights reserved.\n",
    "# This program or module is free software: you can redistribute it and/or\n",
    "# modify it under the terms of the GNU General Public License as published\n",
    "# by the Free Software Foundation, either version 3 of the License, or\n",
    "# (at your option) any later version. It is provided for educational\n",
    "# purposes and is distributed in the hope that it will be useful, but\n",
    "# WITHOUT ANY WARRANTY; without even the implied warranty of\n",
    "# MERCHANTABILITY or FITNESS FOR A PARTICULAR PURPOSE. See the GNU\n",
    "# General Public License for more details.\n",
    "\n",
    "\"\"\"\n",
    "A simplified version of the built-in property class to show a possible\n",
    "implementation and illustrate how descriptors work.\n",
    ">>> contact = NameAndExtension(\"Joe\", 135)\n",
    ">>> contact.name, contact.extension\n",
    "('Joe', 135)\n",
    ">>> contact.X\n",
    "Traceback (most recent call last):\n",
    "    ...\n",
    "AttributeError: 'NameAndExtension' object has no attribute 'X'\n",
    ">>> contact.name = \"Jane\"\n",
    "Traceback (most recent call last):\n",
    "    ...\n",
    "AttributeError: 'name' is read-only\n",
    ">>> contact.name\n",
    "'Joe'\n",
    ">>> contact.extension = 975\n",
    ">>> contact.extension\n",
    "975\n",
    "\"\"\"\n",
    "\n",
    "class Property:\n",
    "\n",
    "    def __init__(self, getter, setter=None):\n",
    "        self.__getter = getter\n",
    "        self.__setter = setter\n",
    "        self.__name__ = getter.__name__\n",
    "\n",
    "\n",
    "    def __get__(self, instance, owner=None):\n",
    "        if instance is None:\n",
    "            return self\n",
    "        return self.__getter(instance)\n",
    "\n",
    "\n",
    "    def __set__(self, instance, value):\n",
    "        if self.__setter is None:\n",
    "            raise AttributeError(\"'{0}' is read-only\".format(\n",
    "                                 self.__name__))\n",
    "        return self.__setter(instance, value)\n",
    "\n",
    "\n",
    "    def setter(self, setter):\n",
    "        self.__setter = setter\n",
    "        return self\n",
    "\n",
    "\n",
    "class NameAndExtension:\n",
    "\n",
    "    def __init__(self, name, extension):\n",
    "        self.__name = name\n",
    "        self.extension = extension\n",
    "\n",
    "\n",
    "    @Property               # Uses the custom Property descriptor\n",
    "    def name(self):\n",
    "        return self.__name\n",
    "\n",
    "\n",
    "    @Property               # Uses the custom Property descriptor\n",
    "    def extension(self):\n",
    "        return self.__extension\n",
    "\n",
    "\n",
    "    @extension.setter       # Uses the custom Property descriptor\n",
    "    def extension(self, extension):\n",
    "        self.__extension = extension\n",
    "\n",
    "\n",
    "if __name__ == \"__main__\":\n",
    "    import doctest\n",
    "    doctest.testmod()"
   ]
  },
  {
   "cell_type": "raw",
   "metadata": {},
   "source": [
    "Example: Data Classes in Python 3.7\n",
    "\n",
    "* A data class is a class typically containing mainly data, although there aren’t really any restrictions. \n",
    "* A data class comes with basic methods already implemented such as initialization, representations and comparisons."
   ]
  },
  {
   "cell_type": "code",
   "execution_count": 1,
   "metadata": {},
   "outputs": [],
   "source": [
    "from dataclasses import dataclass\n",
    "\n",
    "@dataclass\n",
    "class Config:\n",
    "    path: str\n",
    "    file: str"
   ]
  },
  {
   "cell_type": "markdown",
   "metadata": {},
   "source": [
    "Additinal conveniences data classes provide\n",
    "\n",
    "* add default values to data class fields\n",
    "* allow for ordering of objects\n",
    "* represent immutable data\n",
    "* handle inheritance"
   ]
  },
  {
   "cell_type": "markdown",
   "metadata": {},
   "source": [
    "### Creating Config"
   ]
  },
  {
   "cell_type": "code",
   "execution_count": null,
   "metadata": {},
   "outputs": [],
   "source": [
    "# default value\n",
    "@dataclass\n",
    "class Config:\n",
    "    path: str = Null\n",
    "    file: str = Null"
   ]
  },
  {
   "cell_type": "markdown",
   "metadata": {},
   "source": [
    "Advanced Default Values using the field() specifier \n",
    "\n",
    "* default: Default value of the field\n",
    "* default_factory: Function that returns the initial value of the field\n",
    "* init: Use field in .__init__() method? (Default is True.)\n",
    "* repr: Use field in repr of the object? (Default is True.)\n",
    "* compare: Include the field in comparisons? (Default is True.)\n",
    "* hash: Include the field when calculating hash()? (Default is to use the same as for compare.)\n",
    "* metadata: A mapping with information about the field\n"
   ]
  },
  {
   "cell_type": "code",
   "execution_count": 3,
   "metadata": {},
   "outputs": [],
   "source": [
    "from dataclasses import dataclass, field\n",
    "\n",
    "@dataclass\n",
    "class Loan:\n",
    "    id: int\n",
    "    term: float = field(default=0.0, metadata={'unit': 'count'})\n",
    "    amount: float = field(default=0.0, metadata={'unit': 'dollar'})"
   ]
  },
  {
   "cell_type": "code",
   "execution_count": 2,
   "metadata": {},
   "outputs": [],
   "source": [
    "# Inheritance\n",
    "\n",
    "from dataclasses import dataclass\n",
    "\n",
    "@dataclass\n",
    "class Premier:\n",
    "    name: str\n",
    "    data_type: str\n",
    "    default: float\n",
    "    valid_range: float\n",
    "\n",
    "@dataclass\n",
    "class Trended(Premier):\n",
    "    trended_attribute: str"
   ]
  },
  {
   "cell_type": "code",
   "execution_count": null,
   "metadata": {},
   "outputs": [],
   "source": []
  }
 ],
 "metadata": {
  "kernelspec": {
   "display_name": "Python 3",
   "language": "python",
   "name": "python3"
  },
  "language_info": {
   "codemirror_mode": {
    "name": "ipython",
    "version": 3
   },
   "file_extension": ".py",
   "mimetype": "text/x-python",
   "name": "python",
   "nbconvert_exporter": "python",
   "pygments_lexer": "ipython3",
   "version": "3.8.8"
  }
 },
 "nbformat": 4,
 "nbformat_minor": 4
}
