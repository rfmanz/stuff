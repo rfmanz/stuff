{
 "cells": [
  {
   "cell_type": "raw",
   "metadata": {},
   "source": [
    "- Notebook Author: [Wanli Ma]"
   ]
  },
  {
   "cell_type": "markdown",
   "metadata": {},
   "source": [
    "# Metaprogramming for Machine Learning"
   ]
  },
  {
   "cell_type": "markdown",
   "metadata": {},
   "source": [
    "## Introduction\n",
    "\n",
    "Just like metadata is data about data, metaprogramming is writing programs that manipulate programs. \n",
    "In short, it's about avoiding code repetition (Don't Repeat Yourself), but also essential for understanding the advanced magic found in ML frameworks.\n",
    "\n",
    "This course focuses on \n",
    "\n",
    "* three ways of metaprogramming with Python: descriptors, decorators, and metaclasses.\n",
    "* how metaprogramming can simplify certain ML tasks and write ML frameworks or applications."
   ]
  },
  {
   "cell_type": "markdown",
   "metadata": {},
   "source": [
    "## Module One - The Python Data Model\n",
    "\n",
    "### What is the Python Data Model\n",
    "\n",
    "* Object \n",
    "* Class \n",
    "* Metaclass\n",
    "\n",
    "### Special Methods\n",
    "\n",
    "* Motivation\n",
    "* How Special Methods are Used\n",
    "* Categories of Special Methods\n",
    "\n",
    "### References\n",
    "\n",
    "* Python Data Model (https://docs.python.org/3/reference/datamodel.html)\n",
    "* A Guide to Python's Magic Methods (https://rszalski.github.io/magicmethods/#appendix1)"
   ]
  },
  {
   "cell_type": "markdown",
   "metadata": {},
   "source": [
    "## What is the Python Data/Object Model\n",
    "\n",
    "* As an API of Python, it specifies the interfaces of the building blocks of the language itself. \n",
    "\n",
    "* The Python interpreter invokes special methods to perform basic operations and the Python data model defines how objects, attributes, methods, etc. function and interact in the processing of data.\n",
    "\n",
    "* Mastery of this data model allows us to create objects that behave (i.e., using the same interface -- operators, looping, subscripting, etc.) like standard Python objects."
   ]
  },
  {
   "cell_type": "markdown",
   "metadata": {},
   "source": [
    "### Objects\n",
    "\n",
    "Everything is an object in Python. A function, constant, variable, or class is an object. \n",
    "\n",
    "* Objects are Python’s abstraction for data. \n",
    "* Every object has an identity, a type and a value.\n",
    "* Some objects contain references to other objects; these are called containers. "
   ]
  },
  {
   "cell_type": "markdown",
   "metadata": {},
   "source": [
    "#### Object’s identity \n",
    "\n",
    "* It never changes once it has been created (think of it as the object’s address in memory). \n",
    "* An identifier (also known as a name) is implicitely associated with the identity of the object to which it refers.\n",
    "* The ‘is’ operator compares the identity of two objects.\n",
    "* The id() function returns an integer representing its identity.\n"
   ]
  },
  {
   "cell_type": "code",
   "execution_count": 1,
   "metadata": {},
   "outputs": [
    {
     "data": {
      "text/plain": [
       "2203335223888"
      ]
     },
     "execution_count": 1,
     "metadata": {},
     "output_type": "execute_result"
    }
   ],
   "source": [
    "x=10\n",
    "id(x)"
   ]
  },
  {
   "cell_type": "code",
   "execution_count": 2,
   "metadata": {},
   "outputs": [
    {
     "name": "stdout",
     "output_type": "stream",
     "text": [
      "True\n"
     ]
    }
   ],
   "source": [
    "y=x\n",
    "print(x is y)"
   ]
  },
  {
   "cell_type": "markdown",
   "metadata": {},
   "source": [
    "Note:\n",
    "\n",
    "Variables may or may not refer to the same object with the same value, depending on the implementation."
   ]
  },
  {
   "cell_type": "code",
   "execution_count": 8,
   "metadata": {},
   "outputs": [
    {
     "name": "stdout",
     "output_type": "stream",
     "text": [
      "True\n"
     ]
    }
   ],
   "source": [
    "a=1\n",
    "b=1\n",
    "print(a is b)"
   ]
  },
  {
   "cell_type": "code",
   "execution_count": 9,
   "metadata": {},
   "outputs": [
    {
     "name": "stdout",
     "output_type": "stream",
     "text": [
      "False\n"
     ]
    }
   ],
   "source": [
    "c=[]\n",
    "d=[]\n",
    "print(c is d)"
   ]
  },
  {
   "cell_type": "code",
   "execution_count": 10,
   "metadata": {},
   "outputs": [
    {
     "name": "stdout",
     "output_type": "stream",
     "text": [
      "True\n"
     ]
    }
   ],
   "source": [
    "c = d = []\n",
    "print(c is d)"
   ]
  },
  {
   "cell_type": "markdown",
   "metadata": {},
   "source": [
    "But c = d = [] assigns the same object to both c and d."
   ]
  },
  {
   "cell_type": "markdown",
   "metadata": {},
   "source": [
    "#### Object’s type\n",
    "\n",
    "* An object’s type determines the operations that the object supports and also defines the possible values for objects of that type.\n",
    "* The type() function returns an object’s type (which is an object itself). \n",
    "* Like its identity, an object’s type is also unchangeable."
   ]
  },
  {
   "cell_type": "code",
   "execution_count": 3,
   "metadata": {},
   "outputs": [
    {
     "data": {
      "text/plain": [
       "int"
      ]
     },
     "execution_count": 3,
     "metadata": {},
     "output_type": "execute_result"
    }
   ],
   "source": [
    "type(x)"
   ]
  },
  {
   "cell_type": "markdown",
   "metadata": {},
   "source": [
    "#### Object’s value\n",
    "\n",
    "* The value of some objects can change (mutable vs. immutable). An object’s mutability is determined by its type.\n",
    "* Every value in Python has a datatype. \n",
    "* The ‘==’ operator compares the value of two objects.\n",
    "\n",
    "Note: The value of an immutable container object that contains a reference to a mutable object can change when the latter’s value is changed; however the container is still considered immutable, because the collection of objects it contains cannot be changed. So, immutability is not strictly the same as having an unchangeable value, it is more subtle."
   ]
  },
  {
   "cell_type": "code",
   "execution_count": 5,
   "metadata": {},
   "outputs": [
    {
     "data": {
      "text/plain": [
       "int"
      ]
     },
     "execution_count": 5,
     "metadata": {},
     "output_type": "execute_result"
    }
   ],
   "source": [
    "type(1)"
   ]
  },
  {
   "cell_type": "code",
   "execution_count": 3,
   "metadata": {},
   "outputs": [
    {
     "name": "stdout",
     "output_type": "stream",
     "text": [
      "True\n"
     ]
    }
   ],
   "source": [
    "c=[]\n",
    "d=[]\n",
    "print(c == d)"
   ]
  },
  {
   "cell_type": "markdown",
   "metadata": {},
   "source": [
    "### Class\n",
    "\n",
    "* A Class is like an object constructor, or a \"blueprint\" for creating objects.\n",
    "* A class in Python is created by using the keyword _class_ and giving it a name\n",
    "* All classes are inherited from a built-in base class called _object_ (the superclass)\n"
   ]
  },
  {
   "cell_type": "code",
   "execution_count": 7,
   "metadata": {},
   "outputs": [
    {
     "data": {
      "text/plain": [
       "type"
      ]
     },
     "execution_count": 7,
     "metadata": {},
     "output_type": "execute_result"
    }
   ],
   "source": [
    "type(object)"
   ]
  },
  {
   "cell_type": "markdown",
   "metadata": {},
   "source": [
    "### Metaclass\n",
    "\n",
    "* A metaclass is a class that creates other classes. \n",
    "* By default, Python uses the type metaclass to create other classes.\n",
    "* Type also inherits from the object class and is also an instance of the type metaclass, so it is an instance of itself."
   ]
  },
  {
   "cell_type": "code",
   "execution_count": null,
   "metadata": {},
   "outputs": [],
   "source": [
    "class Person(object, metaclass=type):\n",
    "    def __init__(self, name, age):\n",
    "        self.name = name\n",
    "        self.age = age"
   ]
  },
  {
   "cell_type": "markdown",
   "metadata": {},
   "source": [
    "## Special Attributes\n",
    "\n",
    "* Class-level: `__dict__`, `__name__`, `__module__`, `__bases__`\tand `__doc__`\n",
    "* Module-level: `__dict__`, `__name__`, `__doc__`\tand `__file__`\n",
    "* Method-level: `__self__` and \t`__module__`\n",
    "* Function-level: `__dict__`, `__name__`, `__module__`, `__code__`, `__defaults__`, `__globals__`\tand `__doc__`\n",
    "\n",
    "Note:  the `__code__` attribute can be inspected with the inspect module and \"disassembled\" with the dis module."
   ]
  },
  {
   "cell_type": "code",
   "execution_count": 4,
   "metadata": {},
   "outputs": [
    {
     "data": {
      "text/plain": [
       "'builtins'"
      ]
     },
     "execution_count": 4,
     "metadata": {},
     "output_type": "execute_result"
    }
   ],
   "source": [
    "list.__module__"
   ]
  },
  {
   "cell_type": "code",
   "execution_count": 3,
   "metadata": {},
   "outputs": [
    {
     "data": {
      "text/plain": [
       "'list'"
      ]
     },
     "execution_count": 3,
     "metadata": {},
     "output_type": "execute_result"
    }
   ],
   "source": [
    "list.__name__"
   ]
  },
  {
   "cell_type": "code",
   "execution_count": 1,
   "metadata": {},
   "outputs": [
    {
     "data": {
      "text/plain": [
       "(object,)"
      ]
     },
     "execution_count": 1,
     "metadata": {},
     "output_type": "execute_result"
    }
   ],
   "source": [
    "list.__bases__"
   ]
  },
  {
   "cell_type": "code",
   "execution_count": 3,
   "metadata": {},
   "outputs": [
    {
     "data": {
      "text/plain": [
       "mappingproxy({'__repr__': <slot wrapper '__repr__' of 'list' objects>,\n",
       "              '__hash__': None,\n",
       "              '__getattribute__': <slot wrapper '__getattribute__' of 'list' objects>,\n",
       "              '__lt__': <slot wrapper '__lt__' of 'list' objects>,\n",
       "              '__le__': <slot wrapper '__le__' of 'list' objects>,\n",
       "              '__eq__': <slot wrapper '__eq__' of 'list' objects>,\n",
       "              '__ne__': <slot wrapper '__ne__' of 'list' objects>,\n",
       "              '__gt__': <slot wrapper '__gt__' of 'list' objects>,\n",
       "              '__ge__': <slot wrapper '__ge__' of 'list' objects>,\n",
       "              '__iter__': <slot wrapper '__iter__' of 'list' objects>,\n",
       "              '__init__': <slot wrapper '__init__' of 'list' objects>,\n",
       "              '__len__': <slot wrapper '__len__' of 'list' objects>,\n",
       "              '__getitem__': <method '__getitem__' of 'list' objects>,\n",
       "              '__setitem__': <slot wrapper '__setitem__' of 'list' objects>,\n",
       "              '__delitem__': <slot wrapper '__delitem__' of 'list' objects>,\n",
       "              '__add__': <slot wrapper '__add__' of 'list' objects>,\n",
       "              '__mul__': <slot wrapper '__mul__' of 'list' objects>,\n",
       "              '__rmul__': <slot wrapper '__rmul__' of 'list' objects>,\n",
       "              '__contains__': <slot wrapper '__contains__' of 'list' objects>,\n",
       "              '__iadd__': <slot wrapper '__iadd__' of 'list' objects>,\n",
       "              '__imul__': <slot wrapper '__imul__' of 'list' objects>,\n",
       "              '__new__': <function list.__new__(*args, **kwargs)>,\n",
       "              '__reversed__': <method '__reversed__' of 'list' objects>,\n",
       "              '__sizeof__': <method '__sizeof__' of 'list' objects>,\n",
       "              'clear': <method 'clear' of 'list' objects>,\n",
       "              'copy': <method 'copy' of 'list' objects>,\n",
       "              'append': <method 'append' of 'list' objects>,\n",
       "              'insert': <method 'insert' of 'list' objects>,\n",
       "              'extend': <method 'extend' of 'list' objects>,\n",
       "              'pop': <method 'pop' of 'list' objects>,\n",
       "              'remove': <method 'remove' of 'list' objects>,\n",
       "              'index': <method 'index' of 'list' objects>,\n",
       "              'count': <method 'count' of 'list' objects>,\n",
       "              'reverse': <method 'reverse' of 'list' objects>,\n",
       "              'sort': <method 'sort' of 'list' objects>,\n",
       "              '__class_getitem__': <method '__class_getitem__' of 'list' objects>,\n",
       "              '__doc__': 'Built-in mutable sequence.\\n\\nIf no argument is given, the constructor creates a new empty list.\\nThe argument must be an iterable if specified.'})"
      ]
     },
     "execution_count": 3,
     "metadata": {},
     "output_type": "execute_result"
    }
   ],
   "source": [
    "list.__dict__"
   ]
  },
  {
   "cell_type": "code",
   "execution_count": 2,
   "metadata": {},
   "outputs": [
    {
     "data": {
      "text/plain": [
       "['__add__',\n",
       " '__class__',\n",
       " '__class_getitem__',\n",
       " '__contains__',\n",
       " '__delattr__',\n",
       " '__delitem__',\n",
       " '__dir__',\n",
       " '__doc__',\n",
       " '__eq__',\n",
       " '__format__',\n",
       " '__ge__',\n",
       " '__getattribute__',\n",
       " '__getitem__',\n",
       " '__gt__',\n",
       " '__hash__',\n",
       " '__iadd__',\n",
       " '__imul__',\n",
       " '__init__',\n",
       " '__init_subclass__',\n",
       " '__iter__',\n",
       " '__le__',\n",
       " '__len__',\n",
       " '__lt__',\n",
       " '__mul__',\n",
       " '__ne__',\n",
       " '__new__',\n",
       " '__reduce__',\n",
       " '__reduce_ex__',\n",
       " '__repr__',\n",
       " '__reversed__',\n",
       " '__rmul__',\n",
       " '__setattr__',\n",
       " '__setitem__',\n",
       " '__sizeof__',\n",
       " '__str__',\n",
       " '__subclasshook__',\n",
       " 'append',\n",
       " 'clear',\n",
       " 'copy',\n",
       " 'count',\n",
       " 'extend',\n",
       " 'index',\n",
       " 'insert',\n",
       " 'pop',\n",
       " 'remove',\n",
       " 'reverse',\n",
       " 'sort']"
      ]
     },
     "execution_count": 2,
     "metadata": {},
     "output_type": "execute_result"
    }
   ],
   "source": [
    "dir(list)"
   ]
  },
  {
   "cell_type": "markdown",
   "metadata": {},
   "source": [
    "## Special or \"Magic\" Methods\n",
    "\n",
    "### Motivation\n",
    "\n",
    "One of the biggest advantages of using Python's magic methods is that they provide a simple way to make objects behave like built-in types. \n",
    "\n",
    "The special methods allow user objects to implement, support, and interact with the Python core language constructs (APIs) such as:\n",
    "\n",
    "* Iteration\n",
    "* Collection\n",
    "* Attribute access\n",
    "* Operator overloading\n",
    "* Function invocation\n",
    "* Object creation and rendering\n",
    "* Managed contexts (i.e. with blocks)"
   ]
  },
  {
   "cell_type": "markdown",
   "metadata": {},
   "source": [
    "### How Special Methods are Used or Called\n",
    "\n",
    "All objects contain special methods that are meant to be called by the Python interpreter and not by your code.\n",
    "Unless you are doing a lot of metaprogramming, you should be implementing special methods more often than invoking them directly.\n",
    "\n",
    "Note: the only special method that is freqently called by user code directly is `__init__`, to invoke the initializer of the superclass in the `__init__` implementation of the subclass.\n",
    "\n",
    "#### Using Python built-in functions\n",
    "\n",
    "You don't write object.`__len__()`, you call it with len(object) that Python in turn will call object.`__len__()`.\n",
    "\n",
    "#### However, in other cases, the invocation is far less obvious."
   ]
  },
  {
   "cell_type": "markdown",
   "metadata": {},
   "source": [
    "### Categories or Usages of Special Methods "
   ]
  },
  {
   "cell_type": "markdown",
   "metadata": {},
   "source": [
    "#### Object Construction, Initialization and Destruction\n",
    "\n",
    "* `__new__(cls, [...)`: the first thing to get called and then pass any args to `__init__`. \n",
    "* `__init__(self, [...)`: defines the initialization behavior of an object. \n",
    "* `__del__(self)`: defines behavior for when an object is garbage collected such as extra cleanup upon deletion\n",
    "\n",
    "Note: `__new__` and `__init__` form the constructor of the object and `__del__` is the destructor. "
   ]
  },
  {
   "cell_type": "raw",
   "metadata": {},
   "source": [
    "from os.path import join\n",
    "\n",
    "class FileObject:\n",
    "    '''Wrapper for file objects to make sure the file gets closed on deletion.'''\n",
    "\n",
    "    def __init__(self, filepath='~', filename='sample.txt'):\n",
    "        # open a file filename in filepath in read and write mode\n",
    "        self.file = open(join(filepath, filename), 'r+')\n",
    "\n",
    "    def __del__(self):\n",
    "        self.file.close()\n",
    "        del self.file"
   ]
  },
  {
   "cell_type": "markdown",
   "metadata": {},
   "source": [
    "#### Operator Overloading\n",
    "\n",
    "This group of special methos allow us to define meaning for operators so that we can use them on our own classes just like they were built in types.\n",
    "\n",
    "* Arithmetic operators: `__add__`,`__sub__`, `__mul__`, `__div__`, `__mod__`.... \n",
    "* Comparison operators:`__lt__`, `__le__`, `__eq__`, `__ne__`, `__gt__`, `__ge__`.....\n",
    "* ......"
   ]
  },
  {
   "cell_type": "code",
   "execution_count": 2,
   "metadata": {},
   "outputs": [
    {
     "name": "stdout",
     "output_type": "stream",
     "text": [
      "Number value:  3\n"
     ]
    }
   ],
   "source": [
    "class Number(object):\n",
    "    def __init__(self, start):\n",
    "        self.data = start\n",
    "    def __sub__(self, other):\n",
    "        return Number(self.data - other)\n",
    "    def __add__(self, other):\n",
    "        return Number(self.data + other)\n",
    "    def __mul__(self, other):\n",
    "        return Number(self.data * other)\n",
    "    def __div__(self, other):\n",
    "        return Number(self.data / float(other))\n",
    "    def __repr__(self):\n",
    "        print(\"Number value: \", end=' ')\n",
    "        return str(self.data)\n",
    "\n",
    "X = Number(5)\n",
    "X = X - 2\n",
    "print(X)           "
   ]
  },
  {
   "cell_type": "markdown",
   "metadata": {},
   "source": [
    "#### Container operations\n",
    "\n",
    "* `__len__`: handles len() function\n",
    "* `__getitem__`: subscript access (i.e. mylist[0] or mydict['mykey'])\n",
    "* `__setitem__`: handles dict[key] = value\n",
    "* `__delitem__`: handles del dict[key]\n",
    "* `__missing__`: handles missing keys\n",
    "* `__iter__`: handles looping\n",
    "* `__reversed__`: handles reverse() function\n",
    "* `__contains__`: handles 'in' operator\n",
    "* `__getslice__`: handles slice access\n",
    "* `__setslice__`: handles slice assignment\n",
    "* `__delslice__`: handles slice deletion"
   ]
  },
  {
   "cell_type": "markdown",
   "metadata": {},
   "source": [
    "#### Object Representation\n",
    "\n",
    "* `__str__(self)` is intended to display a human-readable version (string representation) of the object when the built-in str() is called or implicitly used by the print function.\n",
    "* `__repr__(self)` is a more machine-readable representation of the object when the repr built-in function is called.\n",
    "* `__format__(self, formatstr)` defines behavior for when an instance of your class is used in new-style string formatting. \n",
    "* `__sizeof__(self)` defines behavior for when sys.getsizeof() is called.\n",
    "\n",
    "Note: When no custom `__str__` is available, Python will call `__repr__` as fallback."
   ]
  },
  {
   "cell_type": "code",
   "execution_count": 11,
   "metadata": {},
   "outputs": [
    {
     "name": "stdout",
     "output_type": "stream",
     "text": [
      "5\n"
     ]
    }
   ],
   "source": [
    "class Number(object):\n",
    "    def __init__(self, start):\n",
    "        self.data = start\n",
    "    def __str__(self):\n",
    "        return str(self.data)\n",
    "    def __repr__(self):\n",
    "        return 'Number(%s)' % self.data\n",
    "\n",
    "X = Number(5)\n",
    "print(X)   "
   ]
  },
  {
   "cell_type": "markdown",
   "metadata": {},
   "source": [
    "#### Iterables - the iterator protocol\n",
    "\n",
    "Python supports a concept of iteration over containers. This is implemented using two special methods: \n",
    "\n",
    "* `__iter__`: return an iterator object.\n",
    "* `__next__`: return the next item from the iterator. If there are no further items, raise the StopIteration exception.\n",
    "\n",
    "They are used to allow user-defined classes to support iteration and to make objects iterable.\n",
    "\n",
    "Iterables can be used in a \"for\" loop or \"in\" statements."
   ]
  },
  {
   "cell_type": "code",
   "execution_count": 1,
   "metadata": {},
   "outputs": [
    {
     "name": "stdout",
     "output_type": "stream",
     "text": [
      "3\n",
      "4\n",
      "5\n",
      "6\n",
      "7\n",
      "8\n"
     ]
    }
   ],
   "source": [
    "class Counter:\n",
    "    def __init__(self, low, high):\n",
    "        self.current = low\n",
    "        self.high = high\n",
    "\n",
    "    def __iter__(self):\n",
    "        return self\n",
    "\n",
    "    def __next__(self):                   \n",
    "        if self.current > self.high:\n",
    "            raise StopIteration\n",
    "        else:\n",
    "            self.current += 1\n",
    "            return self.current - 1\n",
    "\n",
    "\n",
    "for c in Counter(3, 8):\n",
    "    print(c)"
   ]
  },
  {
   "cell_type": "markdown",
   "metadata": {},
   "source": [
    "#### Emulating Sequences\n",
    "\n",
    "Python sequence types such as list, tuple, and str share a rich set of commom operations including iteration, slicing, sorting, and concatenation.\n",
    "\n",
    "* `__contains__`\n",
    "* `__getitem__`\n",
    "* `__iter__`\n",
    "* `__reversed__`\n",
    "* `__len__`\n",
    "\n",
    "By implementing these methods, custom objects can benefit from this set of operations and from the standard Python library (e.g. random.choice, reversed, and sorted)."
   ]
  },
  {
   "cell_type": "markdown",
   "metadata": {},
   "source": [
    "#### Collable Objects\n",
    "\n",
    "The `__call__(self, [args...])` method allows instances of your classes to behave as if they were functions, so that you can \"call\" them, pass them to functions that take functions as arguments, and so on. \n",
    "\n",
    "Essentially, this means that x() is the same as x.`__call__()`. `__call__` can be particularly useful in classes with instances that need to often change state. \"Calling\" the instance can be an intuitive and elegant way to change the object's state. An example might be a class representing an entity's position on a plane:"
   ]
  },
  {
   "cell_type": "code",
   "execution_count": 21,
   "metadata": {},
   "outputs": [],
   "source": [
    "class Entity:\n",
    "    '''Class to represent an entity. Callable to update the entity's position.'''\n",
    "\n",
    "    def __init__(self, size, x, y):\n",
    "        self.x, self.y = x, y\n",
    "        self.size = size\n",
    "\n",
    "    def __call__(self, x, y):\n",
    "        '''Change the position of the entity.'''\n",
    "        self.x, self.y = x, y\n",
    "\n",
    "    # snip..."
   ]
  },
  {
   "cell_type": "markdown",
   "metadata": {},
   "source": [
    "#### Context Management\n",
    "\n",
    "Any object definition can include a 'with' context; what the object does when leaving the block is determined in its design.  \n",
    "\n",
    "\n",
    "A 'with' context is implemented using the magic methods `__enter__` and `__exit__`.\n",
    "\n",
    "\n",
    "* `__enter__()` is called automatically when Python enters the with block.  \n",
    "* `__exit__()` is called automatically when Python exits the with block.\n"
   ]
  },
  {
   "cell_type": "code",
   "execution_count": 5,
   "metadata": {},
   "outputs": [
    {
     "name": "stdout",
     "output_type": "stream",
     "text": [
      "entering \"with\"\n",
      "ok\n",
      "leaving \"with\"\n",
      "Not closable.\n",
      "done\n"
     ]
    }
   ],
   "source": [
    "class CustomWith:\n",
    "    def __init__(self, obj):\n",
    "        \"\"\" when object is created \"\"\"\n",
    "        self.obj = obj\n",
    "\n",
    "    def __enter__(self):\n",
    "        \"\"\" when 'with' block begins (normally same time as __init__()) \"\"\"\n",
    "        print('entering \"with\"')\n",
    "        return self.obj \n",
    "\n",
    "    def __exit__(self, exception_type, exception_val, exception_traceback):\n",
    "        \"\"\" when 'with' block is left \"\"\"\n",
    "        print('leaving \"with\"')\n",
    "        try:\n",
    "           self.obj.close()\n",
    "        except AttributeError: # obj isn't closable\n",
    "           print ('Not closable.')\n",
    "           return True # exception handled successfully\n",
    "\n",
    "with CustomWith(\"file.csv\") as fh:\n",
    "    print('ok')\n",
    "\n",
    "print('done')"
   ]
  },
  {
   "cell_type": "markdown",
   "metadata": {},
   "source": [
    "#### Attribute Management\n",
    "\n",
    "Controlling Attribute Access and providing a great deal of encapsulation for classes\n",
    "\n",
    "* `__getattr__`: read object.attr when attribute may not exist\n",
    "* `__getattribute__`: read object.attr when attribute already exists\n",
    "* `__setattr__`: write object.attr \n",
    "* `__delattr__`: delete object.attr (i.e., del this.that)"
   ]
  },
  {
   "cell_type": "markdown",
   "metadata": {},
   "source": [
    "#### Abstract Base Classes (ABC)\n",
    "\n",
    "Abstract base classes are the classes that are only meant to be inherited from and not to be instantiated.\n",
    "\n",
    "* class collections.abc.Container: ABC for classes that provide the `__contains__()` method.\n",
    "* class collections.abc.Hashable: ABC for classes that provide the `__hash__()` method.\n",
    "* class collections.abc.Sized: ABC for classes that provide the `__len__()` method.\n",
    "* class collections.abc.Callable: ABC for classes that provide the `__call__()` method.\n",
    "* class collections.abc.Iterable: ABC for classes that provide the `__iter__()` method.\n",
    "* class collections.abc.Iterator: ABC for classes that provide the `__iter__()` and `__next__()` methods.\n",
    "* class collections.abc.Reversible: ABC for classes that provide the `__reversed__()` method."
   ]
  },
  {
   "cell_type": "markdown",
   "metadata": {},
   "source": [
    "If an exception occurs inside the with block, Python passes the exception object, any value passed to the exception (usually a string error message) and a traceback string (\"Traceback (most recent call last):...\")\n",
    "\n",
    "In our above program, if an exception occurred (if type has a value) we are choosing to re-raise the same exception.  Your program can choose any action at that point.\n",
    "\n"
   ]
  },
  {
   "cell_type": "markdown",
   "metadata": {},
   "source": [
    "#### Descriptors - for the Descriptor Protocol\n",
    "\n",
    "* `__get__`: when an attribute is read\n",
    "* `__set__`: when an attribute is written\n",
    "* `__delete__`:\twhen an attribute is deleted with del\n",
    "\n",
    "The descriptor protocol defines how attribute access is interpreted by the language.\n",
    "\n",
    "Internally, when we set and get a property, python calls the `__get__` and `__set__` methods. If the methods do not exist then Python calls the `_getattr_` and `__set_attr__` methods."
   ]
  },
  {
   "cell_type": "markdown",
   "metadata": {},
   "source": [
    "Therefore, if your class attribute is an object and that object has a descriptor then it implies that we want Python to use the __get__ and __set__ methods and we want it to follow the descriptor protocol."
   ]
  },
  {
   "cell_type": "code",
   "execution_count": null,
   "metadata": {},
   "outputs": [],
   "source": []
  }
 ],
 "metadata": {
  "kernelspec": {
   "display_name": "Python 3.9.7 ('base')",
   "language": "python",
   "name": "python3"
  },
  "language_info": {
   "codemirror_mode": {
    "name": "ipython",
    "version": 3
   },
   "file_extension": ".py",
   "mimetype": "text/x-python",
   "name": "python",
   "nbconvert_exporter": "python",
   "pygments_lexer": "ipython3",
   "version": "3.9.7"
  },
  "vscode": {
   "interpreter": {
    "hash": "f68926ad41435d3f71bc53cfde328458a97118c37e1f5b5e9fd4646c23ed0cff"
   }
  }
 },
 "nbformat": 4,
 "nbformat_minor": 4
}
