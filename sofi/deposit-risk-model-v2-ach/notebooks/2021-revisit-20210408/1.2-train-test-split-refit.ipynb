{
 "cells": [
  {
   "cell_type": "markdown",
   "id": "577c2672",
   "metadata": {},
   "source": [
    "# Build ACH Model\n",
    "---"
   ]
  },
  {
   "cell_type": "code",
   "execution_count": 1,
   "id": "75998fa4",
   "metadata": {},
   "outputs": [],
   "source": [
    "## first merge modeling_df and test_df with the newly created features\n",
    "\n",
    "import json, os, sys\n",
    "sys.path.insert(1, \"../..\")\n",
    "from src.utils import remove_prefixs, _to_parquet\n",
    "import pandas as pd\n",
    "import numpy as np\n",
    "import pickle as pkl\n",
    "from rdsutils.aws import download_s3 #, python_object_to_s3\n",
    "from rdsutils.lightgbm_helpers import train_lgb_baseline_grouped\n",
    "import rdsutils.plot as rdsplot\n",
    "\n",
    "import matplotlib.pyplot as plt\n",
    "import seaborn as sns\n",
    "\n",
    "plt.style.use('ggplot')\n",
    "%load_ext autoreload\n",
    "%autoreload 2"
   ]
  },
  {
   "cell_type": "code",
   "execution_count": 2,
   "id": "6878bedd",
   "metadata": {},
   "outputs": [],
   "source": [
    "with open(\"../../config.json\", \"r\") as f:\n",
    "    config = json.load(f)\n",
    "    \n",
    "\n",
    "path = config[\"data\"][\"labeled\"][\"labeled\"]\n",
    "df = pd.read_parquet(os.path.join(\"../../data\", path))"
   ]
  },
  {
   "cell_type": "code",
   "execution_count": 3,
   "id": "8ebbeb6a",
   "metadata": {},
   "outputs": [],
   "source": [
    "modeling_df = df[df[\"transaction_datetime\"].between(pd.to_datetime('2020-05-01'),\n",
    "                                                    pd.to_datetime('2021-01-31'))]\n",
    "test_df = df[df[\"transaction_datetime\"].between(pd.to_datetime('2021-02-01'),\n",
    "                                                pd.to_datetime('2021-05-31'))]"
   ]
  },
  {
   "cell_type": "code",
   "execution_count": 4,
   "id": "8e06fc06",
   "metadata": {},
   "outputs": [
    {
     "data": {
      "text/plain": [
       "Index(['trnx_is_return', 'is_return', 'is_return_ach', 'is_return_mcd',\n",
       "       'is_return_other', 'is_returned'],\n",
       "      dtype='object')"
      ]
     },
     "execution_count": 4,
     "metadata": {},
     "output_type": "execute_result"
    }
   ],
   "source": [
    "modeling_df.columns[modeling_df.columns.str.contains(\"is_return\")]"
   ]
  },
  {
   "cell_type": "markdown",
   "id": "89dcfb32",
   "metadata": {},
   "source": [
    "### Data Statistics"
   ]
  },
  {
   "cell_type": "code",
   "execution_count": 5,
   "id": "766f09df",
   "metadata": {},
   "outputs": [
    {
     "data": {
      "text/plain": [
       "(False    420142\n",
       " True      20650\n",
       " Name: is_returned, dtype: int64,\n",
       " False    0.953153\n",
       " True     0.046847\n",
       " Name: is_returned, dtype: float64)"
      ]
     },
     "execution_count": 5,
     "metadata": {},
     "output_type": "execute_result"
    }
   ],
   "source": [
    "modeling_df.is_returned.value_counts(), modeling_df.is_returned.value_counts(normalize=True)"
   ]
  },
  {
   "cell_type": "code",
   "execution_count": 6,
   "id": "2f655b7d",
   "metadata": {},
   "outputs": [
    {
     "data": {
      "text/plain": [
       "(False    248460\n",
       " True       8868\n",
       " Name: is_returned, dtype: int64,\n",
       " False    0.965538\n",
       " True     0.034462\n",
       " Name: is_returned, dtype: float64)"
      ]
     },
     "execution_count": 6,
     "metadata": {},
     "output_type": "execute_result"
    }
   ],
   "source": [
    "test_df.is_returned.value_counts(), test_df.is_returned.value_counts(normalize=True)"
   ]
  },
  {
   "cell_type": "code",
   "execution_count": 7,
   "id": "d4df6d25",
   "metadata": {},
   "outputs": [],
   "source": [
    "modeling_df.columns = remove_prefixs(modeling_df.columns)\n",
    "test_df.columns = remove_prefixs(test_df.columns)"
   ]
  },
  {
   "cell_type": "code",
   "execution_count": 8,
   "id": "d29f58f3",
   "metadata": {},
   "outputs": [],
   "source": [
    "modeling_df.reset_index(drop=True, inplace=True)\n",
    "test_df.reset_index(drop=True, inplace=True)"
   ]
  },
  {
   "cell_type": "code",
   "execution_count": 9,
   "id": "f74e05b5",
   "metadata": {},
   "outputs": [
    {
     "data": {
      "text/plain": [
       "20.34585956416465"
      ]
     },
     "execution_count": 9,
     "metadata": {},
     "output_type": "execute_result"
    }
   ],
   "source": [
    "1/modeling_df.is_returned.value_counts(normalize=True).loc[True]-1"
   ]
  },
  {
   "cell_type": "code",
   "execution_count": 10,
   "id": "7ec10563",
   "metadata": {},
   "outputs": [],
   "source": [
    "_to_parquet(modeling_df.reset_index(), 's3://sofi-data-science/jxu/money-risk-models/deposit-risk-v2-ach/data/2021-05-19/modeling_df_refit.parquet')\n",
    "_to_parquet(test_df.reset_index(), 's3://sofi-data-science/jxu/money-risk-models/deposit-risk-v2-ach/data/2021-05-19/test_df_refit.parquet')"
   ]
  }
 ],
 "metadata": {
  "kernelspec": {
   "display_name": "conda_deposit_v2",
   "language": "python",
   "name": "conda_deposit_v2"
  },
  "language_info": {
   "codemirror_mode": {
    "name": "ipython",
    "version": 3
   },
   "file_extension": ".py",
   "mimetype": "text/x-python",
   "name": "python",
   "nbconvert_exporter": "python",
   "pygments_lexer": "ipython3",
   "version": "3.7.10"
  }
 },
 "nbformat": 4,
 "nbformat_minor": 5
}
