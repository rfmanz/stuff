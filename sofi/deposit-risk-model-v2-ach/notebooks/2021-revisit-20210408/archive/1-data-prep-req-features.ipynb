{
 "cells": [
  {
   "cell_type": "markdown",
   "id": "4cd56d73",
   "metadata": {},
   "source": [
    "## Data Preprocessing to Script\n",
    "---"
   ]
  },
  {
   "cell_type": "code",
   "execution_count": 2,
   "id": "1754745b",
   "metadata": {},
   "outputs": [
    {
     "name": "stdout",
     "output_type": "stream",
     "text": [
      "The autoreload extension is already loaded. To reload it, use:\n",
      "  %reload_ext autoreload\n"
     ]
    }
   ],
   "source": [
    "import gc, sys, os\n",
    "import pandas as pd\n",
    "import numpy as np\n",
    "import matplotlib.pyplot as plt\n",
    "import seaborn as sns\n",
    "from IPython.display import display\n",
    "from tqdm import tqdm\n",
    "from pandas.tseries.offsets import BDay\n",
    "\n",
    "sys.path.insert(1, \"../..\")\n",
    "from src.feature.utils import applyParallel, get_full_column\n",
    "\n",
    "%load_ext autoreload\n",
    "%autoreload 2\n",
    "\n",
    "import warnings\n",
    "warnings.filterwarnings(\"ignore\")"
   ]
  },
  {
   "cell_type": "code",
   "execution_count": 3,
   "id": "618fdbd0",
   "metadata": {},
   "outputs": [
    {
     "name": "stdout",
     "output_type": "stream",
     "text": [
      "CPU times: user 1min 31s, sys: 2min 34s, total: 4min 5s\n",
      "Wall time: 5min 52s\n"
     ]
    }
   ],
   "source": [
    "%time transactions_df = pd.read_parquet(\"../../data/joined/joined_1617834490/joined_1617834490.parquet\")\n",
    "\n",
    "existing_cols = transactions_df.columns.copy()"
   ]
  },
  {
   "cell_type": "code",
   "execution_count": 4,
   "id": "4af341e3",
   "metadata": {},
   "outputs": [
    {
     "data": {
      "text/html": [
       "<div>\n",
       "<style scoped>\n",
       "    .dataframe tbody tr th:only-of-type {\n",
       "        vertical-align: middle;\n",
       "    }\n",
       "\n",
       "    .dataframe tbody tr th {\n",
       "        vertical-align: top;\n",
       "    }\n",
       "\n",
       "    .dataframe thead th {\n",
       "        text-align: right;\n",
       "    }\n",
       "</style>\n",
       "<table border=\"1\" class=\"dataframe\">\n",
       "  <thead>\n",
       "    <tr style=\"text-align: right;\">\n",
       "      <th></th>\n",
       "      <th>trnx_tjd</th>\n",
       "      <th>tseq</th>\n",
       "      <th>trnx_time</th>\n",
       "      <th>business_account_number</th>\n",
       "      <th>trnx_created_dt</th>\n",
       "      <th>trnx_endbal</th>\n",
       "      <th>trnx_transaction_code</th>\n",
       "      <th>trnx_transaction_comment</th>\n",
       "      <th>trnx_transaction_amount</th>\n",
       "      <th>trnx_is_credit</th>\n",
       "      <th>...</th>\n",
       "      <th>socure_address_risk_score</th>\n",
       "      <th>socure_email_risk_score</th>\n",
       "      <th>socure_phone_risk_score</th>\n",
       "      <th>socure_name_address_correlation</th>\n",
       "      <th>socure_name_email_correlation</th>\n",
       "      <th>socure_name_phone_correlation</th>\n",
       "      <th>socure_social_profiles_found</th>\n",
       "      <th>socure_nr_social_profiles_found</th>\n",
       "      <th>bk_acct_rstr_last_unrestricted_date</th>\n",
       "      <th>bk_acct_rstr_first_restricted_by_risk_date</th>\n",
       "    </tr>\n",
       "  </thead>\n",
       "  <tbody>\n",
       "    <tr>\n",
       "      <th>0</th>\n",
       "      <td>2017-12-13</td>\n",
       "      <td>8</td>\n",
       "      <td>16:26:31</td>\n",
       "      <td>410000007044</td>\n",
       "      <td>2017-12-13</td>\n",
       "      <td>500.00</td>\n",
       "      <td>ACHDD</td>\n",
       "      <td>CO</td>\n",
       "      <td>500.00</td>\n",
       "      <td>1</td>\n",
       "      <td>...</td>\n",
       "      <td>NaN</td>\n",
       "      <td>NaN</td>\n",
       "      <td>NaN</td>\n",
       "      <td>NaN</td>\n",
       "      <td>NaN</td>\n",
       "      <td>NaN</td>\n",
       "      <td>None</td>\n",
       "      <td>NaN</td>\n",
       "      <td>2021-01-12</td>\n",
       "      <td>NaT</td>\n",
       "    </tr>\n",
       "    <tr>\n",
       "      <th>1</th>\n",
       "      <td>2017-12-19</td>\n",
       "      <td>35</td>\n",
       "      <td>23:55:20</td>\n",
       "      <td>410000007044</td>\n",
       "      <td>2017-12-19</td>\n",
       "      <td>500.04</td>\n",
       "      <td>ACHDDIN</td>\n",
       "      <td>PAYPAL VERIFYBANK</td>\n",
       "      <td>0.04</td>\n",
       "      <td>1</td>\n",
       "      <td>...</td>\n",
       "      <td>NaN</td>\n",
       "      <td>NaN</td>\n",
       "      <td>NaN</td>\n",
       "      <td>NaN</td>\n",
       "      <td>NaN</td>\n",
       "      <td>NaN</td>\n",
       "      <td>None</td>\n",
       "      <td>NaN</td>\n",
       "      <td>2021-01-12</td>\n",
       "      <td>NaT</td>\n",
       "    </tr>\n",
       "    <tr>\n",
       "      <th>2</th>\n",
       "      <td>2017-12-19</td>\n",
       "      <td>36</td>\n",
       "      <td>23:55:20</td>\n",
       "      <td>410000007044</td>\n",
       "      <td>2017-12-19</td>\n",
       "      <td>500.14</td>\n",
       "      <td>ACHDDIN</td>\n",
       "      <td>PAYPAL VERIFYBANK</td>\n",
       "      <td>0.10</td>\n",
       "      <td>1</td>\n",
       "      <td>...</td>\n",
       "      <td>NaN</td>\n",
       "      <td>NaN</td>\n",
       "      <td>NaN</td>\n",
       "      <td>NaN</td>\n",
       "      <td>NaN</td>\n",
       "      <td>NaN</td>\n",
       "      <td>None</td>\n",
       "      <td>NaN</td>\n",
       "      <td>2021-01-12</td>\n",
       "      <td>NaT</td>\n",
       "    </tr>\n",
       "    <tr>\n",
       "      <th>3</th>\n",
       "      <td>2017-12-19</td>\n",
       "      <td>37</td>\n",
       "      <td>23:55:20</td>\n",
       "      <td>410000007044</td>\n",
       "      <td>2017-12-19</td>\n",
       "      <td>500.24</td>\n",
       "      <td>ACHDDIN</td>\n",
       "      <td>PAYPAL VERIFYBANK</td>\n",
       "      <td>0.10</td>\n",
       "      <td>1</td>\n",
       "      <td>...</td>\n",
       "      <td>NaN</td>\n",
       "      <td>NaN</td>\n",
       "      <td>NaN</td>\n",
       "      <td>NaN</td>\n",
       "      <td>NaN</td>\n",
       "      <td>NaN</td>\n",
       "      <td>None</td>\n",
       "      <td>NaN</td>\n",
       "      <td>2021-01-12</td>\n",
       "      <td>NaT</td>\n",
       "    </tr>\n",
       "    <tr>\n",
       "      <th>4</th>\n",
       "      <td>2017-12-19</td>\n",
       "      <td>38</td>\n",
       "      <td>23:55:20</td>\n",
       "      <td>410000007044</td>\n",
       "      <td>2017-12-19</td>\n",
       "      <td>500.26</td>\n",
       "      <td>ACHDDIN</td>\n",
       "      <td>PAYPAL VERIFYBANK</td>\n",
       "      <td>0.02</td>\n",
       "      <td>1</td>\n",
       "      <td>...</td>\n",
       "      <td>NaN</td>\n",
       "      <td>NaN</td>\n",
       "      <td>NaN</td>\n",
       "      <td>NaN</td>\n",
       "      <td>NaN</td>\n",
       "      <td>NaN</td>\n",
       "      <td>None</td>\n",
       "      <td>NaN</td>\n",
       "      <td>2021-01-12</td>\n",
       "      <td>NaT</td>\n",
       "    </tr>\n",
       "  </tbody>\n",
       "</table>\n",
       "<p>5 rows × 109 columns</p>\n",
       "</div>"
      ],
      "text/plain": [
       "     trnx_tjd  tseq trnx_time  business_account_number trnx_created_dt  \\\n",
       "0  2017-12-13     8  16:26:31             410000007044      2017-12-13   \n",
       "1  2017-12-19    35  23:55:20             410000007044      2017-12-19   \n",
       "2  2017-12-19    36  23:55:20             410000007044      2017-12-19   \n",
       "3  2017-12-19    37  23:55:20             410000007044      2017-12-19   \n",
       "4  2017-12-19    38  23:55:20             410000007044      2017-12-19   \n",
       "\n",
       "   trnx_endbal trnx_transaction_code trnx_transaction_comment  \\\n",
       "0       500.00                 ACHDD                       CO   \n",
       "1       500.04               ACHDDIN        PAYPAL VERIFYBANK   \n",
       "2       500.14               ACHDDIN        PAYPAL VERIFYBANK   \n",
       "3       500.24               ACHDDIN        PAYPAL VERIFYBANK   \n",
       "4       500.26               ACHDDIN        PAYPAL VERIFYBANK   \n",
       "\n",
       "   trnx_transaction_amount  trnx_is_credit  ...  socure_address_risk_score  \\\n",
       "0                   500.00               1  ...                        NaN   \n",
       "1                     0.04               1  ...                        NaN   \n",
       "2                     0.10               1  ...                        NaN   \n",
       "3                     0.10               1  ...                        NaN   \n",
       "4                     0.02               1  ...                        NaN   \n",
       "\n",
       "  socure_email_risk_score socure_phone_risk_score  \\\n",
       "0                     NaN                     NaN   \n",
       "1                     NaN                     NaN   \n",
       "2                     NaN                     NaN   \n",
       "3                     NaN                     NaN   \n",
       "4                     NaN                     NaN   \n",
       "\n",
       "  socure_name_address_correlation socure_name_email_correlation  \\\n",
       "0                             NaN                           NaN   \n",
       "1                             NaN                           NaN   \n",
       "2                             NaN                           NaN   \n",
       "3                             NaN                           NaN   \n",
       "4                             NaN                           NaN   \n",
       "\n",
       "  socure_name_phone_correlation socure_social_profiles_found  \\\n",
       "0                           NaN                         None   \n",
       "1                           NaN                         None   \n",
       "2                           NaN                         None   \n",
       "3                           NaN                         None   \n",
       "4                           NaN                         None   \n",
       "\n",
       "  socure_nr_social_profiles_found  bk_acct_rstr_last_unrestricted_date  \\\n",
       "0                             NaN                           2021-01-12   \n",
       "1                             NaN                           2021-01-12   \n",
       "2                             NaN                           2021-01-12   \n",
       "3                             NaN                           2021-01-12   \n",
       "4                             NaN                           2021-01-12   \n",
       "\n",
       "   bk_acct_rstr_first_restricted_by_risk_date  \n",
       "0                                         NaT  \n",
       "1                                         NaT  \n",
       "2                                         NaT  \n",
       "3                                         NaT  \n",
       "4                                         NaT  \n",
       "\n",
       "[5 rows x 109 columns]"
      ]
     },
     "execution_count": 4,
     "metadata": {},
     "output_type": "execute_result"
    }
   ],
   "source": [
    "transactions_df.head()"
   ]
  },
  {
   "cell_type": "code",
   "execution_count": 5,
   "id": "97b3e222",
   "metadata": {},
   "outputs": [
    {
     "data": {
      "text/plain": [
       "(28260180, 109)"
      ]
     },
     "metadata": {},
     "output_type": "display_data"
    },
    {
     "data": {
      "text/plain": [
       "Timestamp('2021-04-07 01:27:37')"
      ]
     },
     "execution_count": 5,
     "metadata": {},
     "output_type": "execute_result"
    },
    {
     "data": {
      "image/png": "[encoded data removed]",
      "text/plain": [
       "<Figure size 432x288 with 1 Axes>"
      ]
     },
     "metadata": {
      "needs_background": "light"
     },
     "output_type": "display_data"
    }
   ],
   "source": [
    "display(transactions_df.shape)\n",
    "transactions_df.transaction_datetime.hist(bins=100)\n",
    "transactions_df.transaction_datetime.max()"
   ]
  },
  {
   "cell_type": "markdown",
   "id": "6593d6a6",
   "metadata": {},
   "source": [
    "We are having issue running the feature engineering code on the entire data set. There are 28 million records and that can make things rather tricky.\n",
    "\n",
    "Compute monthly data increase rate."
   ]
  },
  {
   "cell_type": "code",
   "execution_count": 6,
   "id": "3db1e1a4",
   "metadata": {},
   "outputs": [],
   "source": [
    "df_ = transactions_df\n",
    "df_[\"yyyymm\"] = (df_.transaction_datetime.dt.year.astype(str)\n",
    "                  + df_.transaction_datetime.dt.month.astype(str).str.zfill(2))"
   ]
  },
  {
   "cell_type": "code",
   "execution_count": 7,
   "id": "c607264c",
   "metadata": {},
   "outputs": [],
   "source": [
    "counts = df_[\"yyyymm\"].value_counts().rename(\"counts\").to_frame()\n",
    "counts.sort_index(inplace=True, ascending=True)\n",
    "counts[\"growth\"] = counts[\"counts\"].pct_change().fillna(0)"
   ]
  },
  {
   "cell_type": "code",
   "execution_count": 8,
   "id": "9f3d09ba",
   "metadata": {},
   "outputs": [
    {
     "data": {
      "text/plain": [
       "0.3924245546424398"
      ]
     },
     "execution_count": 8,
     "metadata": {},
     "output_type": "execute_result"
    }
   ],
   "source": [
    "counts.growth.mean()"
   ]
  },
  {
   "cell_type": "code",
   "execution_count": 11,
   "id": "727a6206",
   "metadata": {},
   "outputs": [
    {
     "data": {
      "text/html": [
       "<div>\n",
       "<style scoped>\n",
       "    .dataframe tbody tr th:only-of-type {\n",
       "        vertical-align: middle;\n",
       "    }\n",
       "\n",
       "    .dataframe tbody tr th {\n",
       "        vertical-align: top;\n",
       "    }\n",
       "\n",
       "    .dataframe thead th {\n",
       "        text-align: right;\n",
       "    }\n",
       "</style>\n",
       "<table border=\"1\" class=\"dataframe\">\n",
       "  <thead>\n",
       "    <tr style=\"text-align: right;\">\n",
       "      <th></th>\n",
       "      <th>counts</th>\n",
       "      <th>growth</th>\n",
       "    </tr>\n",
       "  </thead>\n",
       "  <tbody>\n",
       "    <tr>\n",
       "      <th>201712</th>\n",
       "      <td>51</td>\n",
       "      <td>0.000000</td>\n",
       "    </tr>\n",
       "    <tr>\n",
       "      <th>201801</th>\n",
       "      <td>201</td>\n",
       "      <td>2.941176</td>\n",
       "    </tr>\n",
       "    <tr>\n",
       "      <th>201802</th>\n",
       "      <td>487</td>\n",
       "      <td>1.422886</td>\n",
       "    </tr>\n",
       "    <tr>\n",
       "      <th>201803</th>\n",
       "      <td>2245</td>\n",
       "      <td>3.609856</td>\n",
       "    </tr>\n",
       "    <tr>\n",
       "      <th>201804</th>\n",
       "      <td>5970</td>\n",
       "      <td>1.659243</td>\n",
       "    </tr>\n",
       "    <tr>\n",
       "      <th>201805</th>\n",
       "      <td>8172</td>\n",
       "      <td>0.368844</td>\n",
       "    </tr>\n",
       "    <tr>\n",
       "      <th>201806</th>\n",
       "      <td>8920</td>\n",
       "      <td>0.091532</td>\n",
       "    </tr>\n",
       "    <tr>\n",
       "      <th>201807</th>\n",
       "      <td>13158</td>\n",
       "      <td>0.475112</td>\n",
       "    </tr>\n",
       "    <tr>\n",
       "      <th>201808</th>\n",
       "      <td>27720</td>\n",
       "      <td>1.106703</td>\n",
       "    </tr>\n",
       "    <tr>\n",
       "      <th>201809</th>\n",
       "      <td>42739</td>\n",
       "      <td>0.541811</td>\n",
       "    </tr>\n",
       "  </tbody>\n",
       "</table>\n",
       "</div>"
      ],
      "text/plain": [
       "        counts    growth\n",
       "201712      51  0.000000\n",
       "201801     201  2.941176\n",
       "201802     487  1.422886\n",
       "201803    2245  3.609856\n",
       "201804    5970  1.659243\n",
       "201805    8172  0.368844\n",
       "201806    8920  0.091532\n",
       "201807   13158  0.475112\n",
       "201808   27720  1.106703\n",
       "201809   42739  0.541811"
      ]
     },
     "execution_count": 11,
     "metadata": {},
     "output_type": "execute_result"
    }
   ],
   "source": [
    "# compute YoY data growth\n",
    "counts.head(10)"
   ]
  },
  {
   "cell_type": "code",
   "execution_count": 14,
   "id": "a89887a4",
   "metadata": {},
   "outputs": [
    {
     "data": {
      "text/plain": [
       "<AxesSubplot:>"
      ]
     },
     "execution_count": 14,
     "metadata": {},
     "output_type": "execute_result"
    },
    {
     "data": {
      "image/png": "[encoded data removed]",
      "text/plain": [
       "<Figure size 576x396 with 1 Axes>"
      ]
     },
     "metadata": {},
     "output_type": "display_data"
    }
   ],
   "source": [
    "counts[\"yoy\"] = counts.counts / counts.counts.shift(12)\n",
    "counts.yoy.plot()"
   ]
  },
  {
   "cell_type": "code",
   "execution_count": 20,
   "id": "66d73fde",
   "metadata": {},
   "outputs": [
    {
     "data": {
      "text/plain": [
       "counts    1.584544e+06\n",
       "growth   -9.045367e-01\n",
       "yoy       1.464386e+00\n",
       "dtype: float64"
      ]
     },
     "execution_count": 20,
     "metadata": {},
     "output_type": "execute_result"
    }
   ],
   "source": [
    "(counts.iloc[:-1].tail(12)-1).mean()"
   ]
  },
  {
   "cell_type": "code",
   "execution_count": 9,
   "id": "82032340",
   "metadata": {},
   "outputs": [
    {
     "data": {
      "text/plain": [
       "0.8895533220241343"
      ]
     },
     "execution_count": 9,
     "metadata": {},
     "output_type": "execute_result"
    }
   ],
   "source": [
    "cutoff = \"202102\"\n",
    "counts.loc[:cutoff, \"counts\"].sum() / counts.counts.sum()"
   ]
  },
  {
   "cell_type": "code",
   "execution_count": 21,
   "id": "226563e3",
   "metadata": {},
   "outputs": [
    {
     "data": {
      "text/plain": [
       "(25138937, 110)"
      ]
     },
     "metadata": {},
     "output_type": "display_data"
    },
    {
     "data": {
      "text/plain": [
       "Text(0.5, 1.0, 'transaction data counts')"
      ]
     },
     "execution_count": 21,
     "metadata": {},
     "output_type": "execute_result"
    },
    {
     "data": {
      "image/png": "[encoded data removed]",
      "text/plain": [
       "<Figure size 576x396 with 1 Axes>"
      ]
     },
     "metadata": {},
     "output_type": "display_data"
    }
   ],
   "source": [
    "plt.style.use(\"seaborn\")\n",
    "\n",
    "transactions_df = transactions_df[transactions_df.transaction_datetime < pd.to_datetime(\"2021-03-01\")].copy()\n",
    "display(transactions_df.shape)\n",
    "transactions_df.transaction_datetime.hist(bins=100)\n",
    "transactions_df.transaction_datetime.max()\n",
    "plt.title(\"transaction data counts\")"
   ]
  },
  {
   "cell_type": "code",
   "execution_count": 35,
   "id": "d04f9dab",
   "metadata": {},
   "outputs": [
    {
     "data": {
      "text/plain": [
       "8978"
      ]
     },
     "execution_count": 35,
     "metadata": {},
     "output_type": "execute_result"
    }
   ],
   "source": [
    "import gc; gc.collect()"
   ]
  },
  {
   "cell_type": "markdown",
   "id": "52a63ce9",
   "metadata": {},
   "source": [
    "### Setup Debugging\n",
    "---"
   ]
  },
  {
   "cell_type": "code",
   "execution_count": 36,
   "id": "681e5f09",
   "metadata": {},
   "outputs": [],
   "source": [
    "debug = False\n",
    "sample = False\n",
    "id_col = 'business_account_number'\n",
    "id_token = \"<BUSINESS_ACCOUNT_NUMBER>\"\n",
    "if debug:\n",
    "    debug_ids = pd.read_csv('../../artifacts/debug_ids.csv')\n",
    "    debug_ids[id_token] = debug_ids[id_token].astype(transactions_df[id_col].dtype)\n",
    "    tdf = transactions_df[transactions_df[id_col].isin(debug_ids[id_token])]\n",
    "    # load ids\n",
    "    # filter by ids\n",
    "# debug version: load and filter by debug_ids \n",
    "elif sample:\n",
    "    tdf = transactions_df.sample(frac=0.5, replace=False)\n",
    "else:\n",
    "    tdf = transactions_df "
   ]
  },
  {
   "cell_type": "code",
   "execution_count": 37,
   "id": "d002998e",
   "metadata": {},
   "outputs": [
    {
     "data": {
      "text/plain": [
       "(25138937, 110)"
      ]
     },
     "execution_count": 37,
     "metadata": {},
     "output_type": "execute_result"
    }
   ],
   "source": [
    "tdf.shape"
   ]
  },
  {
   "cell_type": "code",
   "execution_count": 38,
   "id": "23a1f24b",
   "metadata": {},
   "outputs": [
    {
     "data": {
      "text/plain": [
       "Timestamp('2021-02-28 23:59:59')"
      ]
     },
     "execution_count": 38,
     "metadata": {},
     "output_type": "execute_result"
    },
    {
     "data": {
      "image/png": "[encoded data removed]",
      "text/plain": [
       "<Figure size 432x288 with 1 Axes>"
      ]
     },
     "metadata": {
      "needs_background": "light"
     },
     "output_type": "display_data"
    }
   ],
   "source": [
    "tdf.transaction_datetime.hist(bins=100)\n",
    "tdf.transaction_datetime.max()"
   ]
  },
  {
   "cell_type": "markdown",
   "id": "2935a558",
   "metadata": {},
   "source": [
    "### Add ID\n",
    "---"
   ]
  },
  {
   "cell_type": "code",
   "execution_count": 39,
   "id": "84dfb49a",
   "metadata": {},
   "outputs": [],
   "source": [
    "def get_transactions_id(transactions_df):\n",
    "    transactions_df.sort_values(by=['business_account_number', \n",
    "                                    'transaction_datetime'],\n",
    "                                inplace=True)\n",
    "    transactions_df['group_rank'] = transactions_df.groupby('business_account_number')['transaction_datetime'].rank('first').astype(int)\n",
    "\n",
    "    # get id by combining bid, datatime, and rank\n",
    "    # actually need a way to order this key...\n",
    "    transactions_df['transaction_id'] = (transactions_df['business_account_number'].astype(str) \n",
    "                                         + '-' + transactions_df['transaction_datetime'].apply(lambda x: str(int(x.timestamp())))\n",
    "                                         + '-' + transactions_df['group_rank'].astype(str))\n",
    "    return transactions_df"
   ]
  },
  {
   "cell_type": "code",
   "execution_count": 40,
   "id": "747357df",
   "metadata": {},
   "outputs": [
    {
     "data": {
      "text/plain": [
       "25138937"
      ]
     },
     "metadata": {},
     "output_type": "display_data"
    },
    {
     "data": {
      "text/plain": [
       "(25138937, 112)"
      ]
     },
     "metadata": {},
     "output_type": "display_data"
    },
    {
     "data": {
      "text/plain": [
       "0    410000007044-1513182391-1\n",
       "1    410000007044-1513727720-2\n",
       "2    410000007044-1513727720-3\n",
       "3    410000007044-1513727720-4\n",
       "4    410000007044-1513727720-5\n",
       "Name: transaction_id, dtype: object"
      ]
     },
     "execution_count": 40,
     "metadata": {},
     "output_type": "execute_result"
    }
   ],
   "source": [
    "tdf = get_transactions_id(tdf)\n",
    "display(tdf['transaction_id'].nunique(), tdf.shape)\n",
    "tdf.transaction_id.head()"
   ]
  },
  {
   "cell_type": "markdown",
   "id": "2acb9abb",
   "metadata": {},
   "source": [
    "### Feature Transformation\n",
    "---"
   ]
  },
  {
   "cell_type": "code",
   "execution_count": 41,
   "id": "11f1d40b",
   "metadata": {},
   "outputs": [],
   "source": [
    "# set up id and date columns\n",
    "id_col = \"business_account_number\"\n",
    "date_col = \"transaction_datetime\"\n",
    "\n",
    "# sort data by id and then datetime\n",
    "tdf = tdf.sort_values(by=[id_col, date_col])"
   ]
  },
  {
   "cell_type": "markdown",
   "id": "bb35c476",
   "metadata": {},
   "source": [
    "#### Account Level Features"
   ]
  },
  {
   "cell_type": "code",
   "execution_count": 42,
   "id": "da2404a1",
   "metadata": {},
   "outputs": [],
   "source": [
    "first_tdt = tdf.groupby(id_col)[date_col].min().rename(\"first_transaction_datetime\").to_frame()\n",
    "tdf = pd.merge(tdf, first_tdt, how=\"left\", on=id_col)\n",
    "\n",
    "tdf[\"days_since_first_deposit\"] = (tdf[\"transaction_datetime\"] - tdf[\"first_transaction_datetime\"]).dt.days"
   ]
  },
  {
   "cell_type": "code",
   "execution_count": 43,
   "id": "a09fa10f",
   "metadata": {},
   "outputs": [],
   "source": [
    "tdf[\"age_money_account\"] = (tdf[\"transaction_datetime\"] - tdf[\"banking_acct_open_date\"]).dt.days\n",
    "tdf['lag_acc_open_first_transaction'] = (tdf['first_transaction_datetime'] - \\\n",
    "                                         tdf['banking_acct_open_date']).dt.days\n",
    "\n",
    "# first_deposit_amount -> banking_first_deposit_amount"
   ]
  },
  {
   "cell_type": "markdown",
   "id": "4bc0d6b0",
   "metadata": {},
   "source": [
    "#### External Account Linkage"
   ]
  },
  {
   "cell_type": "code",
   "execution_count": 44,
   "id": "8fbd321f",
   "metadata": {},
   "outputs": [
    {
     "name": "stderr",
     "output_type": "stream",
     "text": [
      "100%|██████████| 25138937/25138937 [00:37<00:00, 667190.08it/s]\n"
     ]
    }
   ],
   "source": [
    "### External bank linkages\n",
    "res = []\n",
    "curr = None\n",
    "counter = {}\n",
    "\n",
    "for row in tqdm(tdf[['business_account_number', 'transaction_datetime', \n",
    "                     'trnx_external_account_number', 'trnx_external_institution_id', \n",
    "                     'trnx_transaction_amount']].values):\n",
    "    if row[0] != curr:\n",
    "        curr = row[0]\n",
    "        counter = {}\n",
    "\n",
    "    if not row[2]:\n",
    "        res.append([None for i in range(6)])\n",
    "        continue\n",
    "\n",
    "    out = []\n",
    "\n",
    "    external_account_number = row[2]\n",
    "\n",
    "    if external_account_number not in counter:\n",
    "        counter[external_account_number] = {}\n",
    "\n",
    "    # nr past transactions with this account\n",
    "    if 'nr_trans_with_acc' in counter[external_account_number]:\n",
    "        counter[external_account_number]['nr_trans_with_acc'] += 1\n",
    "    else:\n",
    "        counter[external_account_number]['nr_trans_with_acc'] = 1\n",
    "    out.append(counter[external_account_number]['nr_trans_with_acc'] - 1)\n",
    "\n",
    "    # first transaction dt\n",
    "    if 'first_transaction_dt' not in counter[external_account_number]:\n",
    "        counter[external_account_number]['first_transaction_dt'] = row[1]\n",
    "    out.append(counter[external_account_number]['first_transaction_dt'])\n",
    "\n",
    "    # last transaction_dt\n",
    "    if 'last_transaction_dt' not in counter[external_account_number]:\n",
    "        counter[external_account_number]['last_transaction_dt'] = None\n",
    "    out.append(counter[external_account_number]['last_transaction_dt'])\n",
    "    counter[external_account_number]['last_transaction_dt'] = row[1]\n",
    "\n",
    "    # sum pos/neg transactions with acct\n",
    "    if 'sum_pos_trans' not in counter[external_account_number]:\n",
    "        counter[external_account_number]['sum_pos_trans'] = 0\n",
    "    if 'sum_neg_trans' not in counter[external_account_number]:\n",
    "        counter[external_account_number]['sum_neg_trans'] = 0\n",
    "    out.append(counter[external_account_number]['sum_pos_trans'])\n",
    "    out.append(counter[external_account_number]['sum_neg_trans'])\n",
    "\n",
    "    if row[4] >= 0:\n",
    "        counter[external_account_number]['sum_pos_trans'] += row[4]\n",
    "    else:\n",
    "        counter[external_account_number]['sum_neg_trans'] += row[4]\n",
    "\n",
    "    if 'rolling_mean_pos_trans' not in counter[external_account_number]:\n",
    "        counter[external_account_number]['rolling_mean_pos_trans'] = row[4]\n",
    "        out.append(None)\n",
    "    else:\n",
    "        out.append(counter[external_account_number]['rolling_mean_pos_trans'])\n",
    "        counter[external_account_number]['rolling_mean_pos_trans'] = (counter[external_account_number]['rolling_mean_pos_trans'] + row[4]) / 2\n",
    "\n",
    "    res.append(out)\n",
    "\n",
    "ea_cols = ['nr_trans_with_acc', 'first_trans_with_ea_dt', 'last_trans_with_ea_dt', 'sum_pos_trans_ea', 'sum_neg_trans_ea', 'rolling_mean_pos_trans_ea']\n",
    "tdf = tdf.assign(**dict.fromkeys(ea_cols, np.nan))\n",
    "tdf[ea_cols] = res\n",
    "\n",
    "del res"
   ]
  },
  {
   "cell_type": "code",
   "execution_count": 45,
   "id": "38d0c8a6",
   "metadata": {},
   "outputs": [],
   "source": [
    "# ea -> external account\n",
    "tdf['time_since_first_trans_ea'] = (tdf['transaction_datetime'] - tdf['first_trans_with_ea_dt']).dt.days\n",
    "tdf['time_since_last_trans_ea'] = (tdf['transaction_datetime'] - tdf['last_trans_with_ea_dt']).dt.days\n",
    "\n",
    "tdf['ratio_all_ea_trans_div_tamt'] = tdf['sum_pos_trans_ea'] / tdf['trnx_transaction_amount']\n",
    "tdf['ratio_rolling_mean_ea_tamt_div_tamt'] = tdf['rolling_mean_pos_trans_ea'] / tdf['trnx_transaction_amount']\n"
   ]
  },
  {
   "cell_type": "markdown",
   "id": "f07116ec",
   "metadata": {},
   "source": [
    "#### Giact Features\n",
    "\n",
    "which should not use because giact data is messy in production"
   ]
  },
  {
   "cell_type": "code",
   "execution_count": 46,
   "id": "3a61d1a5",
   "metadata": {},
   "outputs": [],
   "source": [
    "# # Giact features...which should not use because giact data is messy in production\n",
    "# tdf['giact_time_since_first_link'] = (tdf['transaction_datetime'] - \\\n",
    "#                                       tdf['giact_first_link_date']).dt.days\n",
    "# tdf['giact_time_since_last_link'] = (tdf['transaction_datetime'] - \\\n",
    "#                                      tdf['giact_last_link_date']).dt.days"
   ]
  },
  {
   "cell_type": "markdown",
   "id": "ba38f30b",
   "metadata": {},
   "source": [
    "#### Transaction Features"
   ]
  },
  {
   "cell_type": "code",
   "execution_count": 47,
   "id": "bfe40b7b",
   "metadata": {},
   "outputs": [],
   "source": [
    "### TRANSACTION (not roll-ups) FEATURES\n",
    "tdf['transaction_as_pct_of_balance'] = tdf['trnx_transaction_amount'] / \\\n",
    "                                       (tdf['trnx_real_ending_balance'] - \\\n",
    "                                        tdf['trnx_transaction_amount'])\n",
    "\n",
    "tdf['last_transaction_datetime'] = tdf.groupby(id_col)[date_col].shift(1)\n",
    "\n",
    "# # this feature doesn't make sense... Just to keep here for record\n",
    "# tdf['last_transaction_code'] = tdf.groupby(id_col)['trnx_transaction_code'].shift(1)  \n",
    "\n",
    "tdf['time_since_last_transaction'] = (tdf['transaction_datetime'] - \n",
    "                                      tdf['last_transaction_datetime']).dt.seconds # this relies on transactions we don't like not being included!"
   ]
  },
  {
   "cell_type": "markdown",
   "id": "d09de654",
   "metadata": {},
   "source": [
    "#### Transaction (roll-ups) Features\n",
    "---\n",
    "\n",
    "Features that requires more advanced techinical tricks"
   ]
  },
  {
   "cell_type": "code",
   "execution_count": 48,
   "id": "60db56b5",
   "metadata": {},
   "outputs": [],
   "source": [
    "# %load_ext blackcellmagic"
   ]
  },
  {
   "cell_type": "code",
   "execution_count": 49,
   "id": "bb6fb470",
   "metadata": {},
   "outputs": [],
   "source": [
    "# # transaction features\n",
    "deposit_transaction_codes = [\n",
    "    \"POSDD\",\n",
    "    \"ACHDD\",\n",
    "    \"ACHDDIN\",\n",
    "    \"ACHINDD\",\n",
    "    \"DDCK\",\n",
    "    \"DDMBR\",\n",
    "    \"DD\",\n",
    "]\n",
    "withdrawal_transaction_codes = [\n",
    "    \"POSDW\",\n",
    "    \"ACHDW\",\n",
    "    \"ACHDWIN\",\n",
    "    \"DWATM\",\n",
    "    \"DWATMI\",\n",
    "    \"DWCK\",\n",
    "    \"DWBILLPAY\",\n",
    "    \"DWCRDBILLPAY\",\n",
    "    \"DWMBR\",\n",
    "    \"ACHDWP2P\",\n",
    "    \"DWWIRE\",\n",
    "    \"DBDWWIRE\",\n",
    "    \"DWTRF\",\n",
    "    \"DBDW\",\n",
    "    \"DWSLROTP\",\n",
    "    \"DW\",\n",
    "]\n",
    "\n",
    "tdf[\"is_return\"] = tdf[\"trnx_transaction_code\"].isin(\n",
    "    [\"DWCKCB\", \"DWACHRET\", \"DDACHRET\"]\n",
    ") | (\n",
    "    (tdf[\"trnx_transaction_code\"].isin(deposit_transaction_codes))\n",
    "    & (tdf[\"trnx_transaction_amount\"] < 0)\n",
    ")\n",
    "tdf[\"is_trans\"] = tdf[\"trnx_transaction_code\"].isin(\n",
    "    deposit_transaction_codes + withdrawal_transaction_codes\n",
    ")\n",
    "tdf[\"is_deposit\"] = tdf[\"trnx_transaction_code\"].isin(deposit_transaction_codes) & (\n",
    "    tdf[\"trnx_transaction_amount\"] > 0\n",
    ")"
   ]
  },
  {
   "cell_type": "code",
   "execution_count": 50,
   "id": "82aa6b7e",
   "metadata": {},
   "outputs": [
    {
     "name": "stdout",
     "output_type": "stream",
     "text": [
      "CPU times: user 4min 3s, sys: 1min 21s, total: 5min 25s\n",
      "Wall time: 5min 36s\n"
     ]
    }
   ],
   "source": [
    "%%time \n",
    "tdf['nr_past_returns'] = tdf.groupby(id_col)['is_return'].cumsum()\n",
    "\n",
    "def func(df_): return df_.rolling('30d',min_periods=1,on=date_col)['is_return'].sum()\n",
    "tdf['nr_returns_30d']=applyParallel(tdf.groupby(id_col), func).values\n",
    "\n",
    "tdf['nr_past_deposits'] = tdf.groupby(id_col)['is_deposit'].cumsum()\n",
    "\n",
    "# def func(df_): return df_.rolling('3d',min_periods=1,on=date_col)['is_deposit'].sum()\n",
    "# tdf['nr_deposits_3d']=applyParallel(tdf.groupby(id_col), func).values"
   ]
  },
  {
   "cell_type": "code",
   "execution_count": 51,
   "id": "110a92ff",
   "metadata": {},
   "outputs": [],
   "source": [
    "# %%time \n",
    "\n",
    "# def func(df_): return df_.rolling('30d',min_periods=1,on=date_col)['is_deposit'].sum()\n",
    "# tdf['nr_deposits_30d']=applyParallel(tdf.groupby(id_col), func).values\n",
    "\n",
    "def func(df_): return df_.rolling('3d',min_periods=1,on=date_col)['is_trans'].sum()\n",
    "tdf['nr_transactions_3d']=applyParallel(tdf.groupby(id_col), func).values\n",
    "\n",
    "def func(df_): return df_.rolling('30d',min_periods=1,on=date_col)['is_trans'].sum()\n",
    "tdf['nr_transactions_30d']=applyParallel(tdf.groupby(id_col), func).values\n",
    "\n",
    "tdf['pct_returned_deposits'] = tdf['nr_past_returns'] / tdf['nr_past_deposits']\n",
    "\n",
    "# tdf['pct_returned_deposits_30d'] = tdf['nr_returns_30d'] / tdf['nr_deposits_30d']"
   ]
  },
  {
   "cell_type": "code",
   "execution_count": 52,
   "id": "570f1592",
   "metadata": {},
   "outputs": [
    {
     "name": "stdout",
     "output_type": "stream",
     "text": [
      "CPU times: user 8min 23s, sys: 2min 53s, total: 11min 17s\n",
      "Wall time: 11min 40s\n"
     ]
    }
   ],
   "source": [
    "%%time\n",
    "# features cannot be parallelized that may take a while\n",
    "# as it turns out cumcount/cumsum/cum* functions are incredibly efficient\n",
    "tdf['nr_past_transactions'] = tdf.groupby(id_col)[id_col].cumcount()\n",
    "\n",
    "tdf['nr_transactions_30d_div_nr_past_transactions'] = tdf['nr_transactions_30d'] / tdf['nr_past_transactions']\n",
    "\n",
    "# features based on account balances\n",
    "tdf['tamt_adjusted'] = tdf['trnx_transaction_amount'] * np.where(tdf['trnx_transaction_code'] == 'ACHDD', -1, 1)\n",
    "\n",
    "def func(df_): return df_.rolling('3d',min_periods=1,on=date_col)['trnx_real_ending_balance'].mean()\n",
    "tdf['mean_account_balance_3d']=applyParallel(tdf.groupby(id_col), func).values\n",
    "\n",
    "def func(df_): return df_.rolling('30d',min_periods=1,on=date_col)['trnx_real_ending_balance'].mean()\n",
    "tdf['mean_account_balance_30d']=applyParallel(tdf.groupby(id_col), func).values"
   ]
  },
  {
   "cell_type": "code",
   "execution_count": 53,
   "id": "2028a89d",
   "metadata": {},
   "outputs": [],
   "source": [
    "# %%time\n",
    "\n",
    "tdf['deposit_transaction_amount'] = (tdf['is_deposit'] * tdf['trnx_transaction_amount']).replace(np.nan, 0)\n",
    "\n",
    "def func(df_): return df_.rolling('3d',min_periods=1,on=date_col)['deposit_transaction_amount'].sum()\n",
    "tdf['sum_deposits_3d']=applyParallel(tdf.groupby(id_col), func).values\n",
    "\n",
    "def func(df_): return df_.rolling('10d',min_periods=1,on=date_col)['deposit_transaction_amount'].sum()\n",
    "tdf['sum_deposits_10d']=applyParallel(tdf.groupby(id_col), func).values\n",
    "\n",
    "def func(df_): return df_.rolling('30d',min_periods=1,on=date_col)['deposit_transaction_amount'].sum()\n",
    "tdf['sum_deposits_30d']=applyParallel(tdf.groupby(id_col), func).values\n",
    "\n",
    "\n",
    "tdf['is_withdrawal'] = tdf['trnx_transaction_code'].isin(withdrawal_transaction_codes) & \\\n",
    "                       (tdf['trnx_transaction_amount'] < 0)\n",
    "tdf['withdrawal_transaction_amount'] = (tdf['is_withdrawal'] * tdf['trnx_transaction_amount']).replace(np.nan, 0)\n",
    "\n",
    "# def func(df_): return df_.rolling('3d',min_periods=1,on=date_col)['withdrawal_transaction_amount'].sum()\n",
    "# tdf['sum_withdrawals_3d']=applyParallel(tdf.groupby(id_col), func).values\n",
    "\n",
    "# def func(df_): return df_.rolling('10d',min_periods=1,on=date_col)['withdrawal_transaction_amount'].sum()\n",
    "# tdf['sum_withdrawals_10d']=applyParallel(tdf.groupby(id_col), func).values\n",
    "\n",
    "# def func(df_): return df_.rolling('30d',min_periods=1,on=date_col)['withdrawal_transaction_amount'].sum()\n",
    "# tdf['sum_withdrawals_30d']=applyParallel(tdf.groupby(id_col), func).values"
   ]
  },
  {
   "cell_type": "code",
   "execution_count": null,
   "id": "c503e8b9",
   "metadata": {},
   "outputs": [],
   "source": [
    "def func(df_): return df_.rolling('10d',min_periods=1,on=date_col)['deposit_transaction_amount'].mean()\n",
    "tdf['mean_deposits_10d']=applyParallel(tdf.groupby(id_col), func).values\n",
    "\n",
    "def func(df_): return df_.expanding().mean()\n",
    "tdf['mean_deposits']=applyParallel(tdf.groupby(id_col)['deposit_transaction_amount'], func).values\n",
    "\n",
    "# def func(df_): return df_.rolling('10d',min_periods=1,on=date_col)['withdrawal_transaction_amount'].mean()\n",
    "# tdf['mean_withdrawals_10d']=applyParallel(tdf.groupby(id_col), func).values\n",
    "\n",
    "# def func(df_): return df_.expanding().mean()\n",
    "# tdf['mean_withdrawals']=applyParallel(tdf.groupby(id_col)['withdrawal_transaction_amount'], func).values\n",
    "\n",
    "tdf['mean_deposits_10d_div_mean_deposits'] = tdf['mean_deposits_10d'] / tdf['mean_deposits']\n",
    "# tdf['mean_withdrawals_10d_div_mean_withdrawals'] = tdf['mean_withdrawals_10d'] / tdf['mean_withdrawals']"
   ]
  },
  {
   "cell_type": "code",
   "execution_count": null,
   "id": "78bc4c31",
   "metadata": {},
   "outputs": [],
   "source": [
    "# %%time\n",
    "\n",
    "# def func(df_): return df_.expanding().max()\n",
    "# tdf['max_deposits']=applyParallel(tdf.groupby(id_col)['deposit_transaction_amount'], func).values\n",
    "\n",
    "# def func(df_): return df_.rolling('3d',min_periods=1,on=date_col)['deposit_transaction_amount'].max()\n",
    "# tdf['max_deposits_3d']=applyParallel(tdf.groupby(id_col), func).values\n",
    "\n",
    "def func(df_): return df_.rolling('10d',min_periods=1,on=date_col)['deposit_transaction_amount'].max()\n",
    "tdf['max_deposits_10d']=applyParallel(tdf.groupby(id_col), func).values\n",
    "\n",
    "def func(df_): return df_.rolling('30d',min_periods=1,on=date_col)['deposit_transaction_amount'].max()\n",
    "tdf['max_deposits_30d']=applyParallel(tdf.groupby(id_col), func).values\n",
    "\n",
    "# def func(df_): return df_.expanding().max()\n",
    "# tdf['max_withdrawals']=applyParallel(tdf.groupby(id_col)['withdrawal_transaction_amount'], func).values\n",
    "\n",
    "# def func(df_): return df_.rolling('3d',min_periods=1,on=date_col)['withdrawal_transaction_amount'].min()\n",
    "# tdf['max_withdrawals_3d']=applyParallel(tdf.groupby(id_col), func).values\n",
    "\n",
    "# def func(df_): return df_.rolling('10d',min_periods=1,on=date_col)['withdrawal_transaction_amount'].min()\n",
    "# tdf['max_withdrawals_10d']=applyParallel(tdf.groupby(id_col), func).values\n",
    "\n",
    "def func(df_): return df_.rolling('30d',min_periods=1,on=date_col)['withdrawal_transaction_amount'].min()\n",
    "tdf['max_withdrawals_30d']=applyParallel(tdf.groupby(id_col), func).values\n",
    "\n",
    "\n",
    "# tdf['max_deposits_10d_div_mean_deposits'] = tdf['max_deposits_10d'] / tdf['mean_deposits']\n",
    "tdf['max_deposits_10d_div_mean_account_balance_30d'] = tdf['max_deposits_10d'] / tdf['mean_account_balance_30d']\n",
    "# tdf['max_withdrawals_10d_div_mean_withdrawals'] = tdf['max_withdrawals_10d'] / tdf['mean_withdrawals']"
   ]
  },
  {
   "cell_type": "code",
   "execution_count": null,
   "id": "ead212ac",
   "metadata": {},
   "outputs": [],
   "source": [
    "# %%time\n",
    "\n",
    "tdf['nr_trans_ratio'] = tdf['nr_transactions_3d'] / tdf['nr_transactions_30d']\n",
    "tdf['bal_ratio'] = tdf['mean_account_balance_3d'] / tdf['mean_account_balance_30d']\n",
    "tdf['deposits_ratio'] = tdf['sum_deposits_3d'] / tdf['sum_deposits_30d']\n",
    "\n",
    "tdf['is_dd'] = tdf['trnx_transaction_code'] == 'ACHINDD'\n",
    "tdf['dd_dollar_amount'] = tdf['is_dd'] * tdf['trnx_transaction_amount']\n",
    "\n",
    "tdf['nr_direct_deposits'] = tdf.groupby(id_col)['is_dd'].cumsum()\n",
    "tdf['dollar_val_dd'] = tdf.groupby(id_col)['dd_dollar_amount'].cumsum()"
   ]
  },
  {
   "cell_type": "code",
   "execution_count": null,
   "id": "77f3f3dd",
   "metadata": {},
   "outputs": [],
   "source": []
  },
  {
   "cell_type": "code",
   "execution_count": null,
   "id": "51f352d5",
   "metadata": {},
   "outputs": [],
   "source": [
    "# %%time \n",
    "\n",
    "tdf['return_dollar_amount'] = tdf['is_return'] * tdf['tamt_adjusted']\n",
    "tdf['dollar_val_returns'] = tdf.groupby(id_col)['return_dollar_amount'].cumsum()\n",
    "\n",
    "def func(df_): return df_.rolling('3d',min_periods=1,on=date_col)['return_dollar_amount'].sum()\n",
    "tdf['dollar_val_returns_3d']=applyParallel(tdf.groupby(id_col), func).values\n",
    "\n",
    "tdf['plaid_days_since_first_link'] = (tdf[date_col] - tdf['plaid_first_link_date']).dt.days"
   ]
  },
  {
   "cell_type": "code",
   "execution_count": null,
   "id": "2f061df6",
   "metadata": {},
   "outputs": [],
   "source": []
  },
  {
   "cell_type": "code",
   "execution_count": null,
   "id": "dae9c2cb",
   "metadata": {},
   "outputs": [],
   "source": []
  },
  {
   "cell_type": "markdown",
   "id": "11c2449f",
   "metadata": {},
   "source": [
    "#### Features used in deposit v1"
   ]
  },
  {
   "cell_type": "code",
   "execution_count": null,
   "id": "dbed1daf",
   "metadata": {},
   "outputs": [
    {
     "name": "stdout",
     "output_type": "stream",
     "text": [
      "CPU times: user 17min 19s, sys: 6min 13s, total: 23min 33s\n",
      "Wall time: 24min 31s\n"
     ]
    }
   ],
   "source": [
    "%%time\n",
    "\n",
    "################################################\n",
    "#      DEPOSIT V1 features for bencharking: \n",
    "################################################\n",
    "tdf['account_ending_balance'] = tdf['trnx_real_ending_balance']\n",
    "tdf['days_since_first_transaction'] = tdf['days_since_first_deposit']\n",
    "\n",
    "def func(df_): return df_.rolling('14d',min_periods=1,on=date_col)['trnx_real_ending_balance'].mean()\n",
    "tdf['rolling_mean_acc_bal']=applyParallel(tdf.groupby(id_col), func).values\n",
    "\n",
    "# nr_transactions_per_day\n",
    "tdf['nr_past_transactions'] = tdf.groupby(id_col)                                            [id_col].cumcount()\n",
    "tdf['nr_transactions_per_day'] = tdf['nr_past_transactions'] /                                              tdf['days_since_first_deposit']\n",
    "\n",
    "# transaction_as_pct_of_balance\n",
    "tdf['transaction_as_pct_of_balance'] = tdf['trnx_transaction_amount'] /                                                    (tdf['trnx_real_ending_balance'] -                                                     tdf['trnx_transaction_amount'])\n",
    "\n",
    "# rolling_trns_as_pct_of_bal\n",
    "tdf['transaction_as_pct_of_balance_abs'] = tdf['transaction_as_pct_of_balance'].abs()\n",
    "\n",
    "def func(df_): return df_.rolling('7d',min_periods=1,on=date_col)['transaction_as_pct_of_balance_abs'].mean()\n",
    "tdf['rolling_trns_as_pct_of_bal']=applyParallel(tdf.groupby(id_col), func).values\n",
    "\n",
    "# transaction_as_pct_of_bal_min\n",
    "def func(df_): return df_.rolling('7d',min_periods=1,on=date_col)['transaction_as_pct_of_balance'].min()\n",
    "tdf['transaction_as_pct_of_bal_min']=applyParallel(tdf.groupby(id_col), func).values\n",
    "\n",
    "# rolling_mean_acc_bal <<< THIS IS WRONG? something going wrong!!\n",
    "def func(df_): return df_.rolling('14d',min_periods=1,on=date_col)['trnx_real_ending_balance'].mean()\n",
    "tdf['rolling_mean_acc_bal']=applyParallel(tdf.groupby(id_col), func).values"
   ]
  },
  {
   "cell_type": "markdown",
   "id": "c4a3a70c",
   "metadata": {},
   "source": [
    "#### Features for labels and debugging"
   ]
  },
  {
   "cell_type": "code",
   "execution_count": null,
   "id": "888e2575",
   "metadata": {},
   "outputs": [
    {
     "name": "stdout",
     "output_type": "stream",
     "text": [
      "CPU times: user 13min 36s, sys: 7min 40s, total: 21min 17s\n",
      "Wall time: 21min 13s\n"
     ]
    }
   ],
   "source": [
    "%%time \n",
    "####################################################################\n",
    "#    FEATURES FOR LABELING and DEBUGGING - has data snooping bias\n",
    "####################################################################\n",
    "tdf = pd.merge(tdf, \n",
    "               tdf.groupby(id_col)[id_col].count().rename('nr_transactions_all_time').reset_index(),\n",
    "               how='inner',\n",
    "               on=id_col)\n",
    "\n",
    "tdf = pd.merge(tdf, \n",
    "               tdf[tdf['is_return']].groupby(id_col)[date_col].min().rename('first_return_date').reset_index(),\n",
    "               how='left',\n",
    "               on=id_col)\n",
    "\n",
    "tdf = pd.merge(tdf, \n",
    "               tdf[tdf['trnx_transaction_code'].isin(['DDCHGOFF', 'DDWRTOFF', 'DDFRDWO'])].groupby(id_col)[date_col].min().rename('chg_wrt_off_date').reset_index(),\n",
    "               how='left',\n",
    "               on=id_col)\n",
    "\n",
    "tdf = pd.merge(tdf, \n",
    "               tdf.groupby(id_col)['is_return'].sum().rename('nr_returns_all_time').reset_index(),\n",
    "               how='inner',\n",
    "               on=id_col)\n"
   ]
  },
  {
   "cell_type": "code",
   "execution_count": null,
   "id": "4f4b2819",
   "metadata": {},
   "outputs": [],
   "source": []
  },
  {
   "cell_type": "code",
   "execution_count": null,
   "id": "a689f2d2",
   "metadata": {},
   "outputs": [],
   "source": [
    "# tdf['nr_days_to_chg_wrt_off'] = (tdf['chg_wrt_off_date'] - tdf[date_col]).dt.days\n",
    "\n",
    "\n",
    "# # number of different types of returns\n",
    "# tdf['is_return_ach'] = tdf['trnx_transaction_code'].isin(['DWACHRET', 'DDACHRET'])\n",
    "# tdf['is_return_mcd'] = tdf['trnx_transaction_code'].isin(['DWCKCB'])\n",
    "# tdf['is_return_other'] = ((tdf['trnx_transaction_code'].isin(deposit_transaction_codes)) &                                        (tdf['trnx_transaction_amount'] < 0))\n",
    "\n",
    "# # nr_past_return_types\n",
    "# tdf['nr_past_returns_ach'] = tdf.groupby(id_col)['is_return_ach'].cumsum().values\n",
    "# tdf['nr_past_returns_mcd'] = tdf.groupby(id_col)['is_return_mcd'].cumsum().values\n",
    "# tdf['nr_past_returns_other'] = tdf.groupby(id_col)['is_return_other'].cumsum().values"
   ]
  },
  {
   "cell_type": "code",
   "execution_count": null,
   "id": "bb7fb85b",
   "metadata": {},
   "outputs": [],
   "source": [
    "# %%time\n",
    "# # nr_returns_nd\n",
    "# def func(df_): return df_.rolling('3d',min_periods=1,on=date_col)['is_return'].sum()\n",
    "# tdf['nr_returns_3d']=applyParallel(tdf.groupby(id_col), func).values\n",
    "\n",
    "# def func(df_): return df_.rolling('3d',min_periods=1,on=date_col)['is_return_ach'].sum()\n",
    "# tdf['nr_returns_ach_3d']=applyParallel(tdf.groupby(id_col), func).values\n",
    "\n",
    "# def func(df_): return df_.rolling('3d',min_periods=1,on=date_col)['is_return_mcd'].sum()\n",
    "# tdf['nr_returns_mcd_3d']=applyParallel(tdf.groupby(id_col), func).values"
   ]
  },
  {
   "cell_type": "code",
   "execution_count": null,
   "id": "3cdceddd",
   "metadata": {},
   "outputs": [],
   "source": [
    "# %%time\n",
    "# # bouncing streaks\n",
    "# deposit_transaction_codes = ['POSDD', 'ACHDD', 'ACHDDIN', 'ACHINDD', 'DDCK', 'DDMBR', 'DD']\n",
    "\n",
    "# condition = (tdf['trnx_transaction_code'].isin(deposit_transaction_codes) |\n",
    "#              tdf['is_return'])\n",
    "# df_temp = tdf[condition][['transaction_id', \n",
    "#                                       id_col, \n",
    "#                                       date_col,\n",
    "#                                       'is_return']]\n",
    "# df_temp.sort_values([id_col, date_col], inplace=True)\n",
    "# # out of past 5 deposit related transactions, how many were returns\n",
    "# def func(df_): return df_.rolling(5,min_periods=1)['is_return'].mean()\n",
    "# df_temp['rolling_deposit_returns']=applyParallel(df_temp.groupby(id_col), func).values\n",
    "\n",
    "# tdf = pd.merge(tdf, df_temp[['transaction_id', 'rolling_deposit_returns']], \n",
    "#                            how='left', on='transaction_id')\n",
    "# tdf['rolling_deposit_returns'].fillna(0, inplace=True)"
   ]
  },
  {
   "cell_type": "code",
   "execution_count": null,
   "id": "f5ae81d0",
   "metadata": {},
   "outputs": [],
   "source": [
    "condition = tdf['deposit_transaction_amount'] > 0\n",
    "meta_cols = ['transaction_id', \n",
    "             id_col, \n",
    "             date_col,\n",
    "             'deposit_transaction_amount']\n",
    "df_temp = tdf[condition][meta_cols]"
   ]
  },
  {
   "cell_type": "code",
   "execution_count": null,
   "id": "aab4fc90",
   "metadata": {},
   "outputs": [],
   "source": [
    "# %%time\n",
    "# # captures small, small, large pattern\n",
    "# def func(df_): return df_.rolling(3,min_periods=1)['deposit_transaction_amount'].median()\n",
    "# df_temp['median_deposits_last_3']=applyParallel(df_temp.groupby(id_col), func).values\n",
    "\n",
    "def func(df_): return df_.rolling(5,min_periods=1)['deposit_transaction_amount'].median()\n",
    "df_temp['median_deposits_last_5']=applyParallel(df_temp.groupby(id_col), func).values\n",
    "\n",
    "def func(df_): return df_.rolling(10,min_periods=1)['deposit_transaction_amount'].median()\n",
    "df_temp['median_deposits_last_10']=applyParallel(df_temp.groupby(id_col), func).values\n",
    "\n",
    "def func(df_): return df_.rolling(3,min_periods=1)['deposit_transaction_amount'].mean()\n",
    "df_temp['mean_deposits_last_3']=applyParallel(df_temp.groupby(id_col), func).values\n",
    "\n",
    "# def func(df_): return df_.rolling(5,min_periods=1)['deposit_transaction_amount'].mean()\n",
    "# df_temp['mean_deposits_last_5']=applyParallel(df_temp.groupby(id_col), func).values\n",
    "\n",
    "# def func(df_): return df_.rolling(10,min_periods=1)['deposit_transaction_amount'].mean()\n",
    "# df_temp['mean_deposits_last_10']=applyParallel(df_temp.groupby(id_col), func).values\n",
    "\n",
    "def func(df_): return df_.rolling(3,min_periods=1)['deposit_transaction_amount'].max()\n",
    "df_temp['max_deposits_last_3']=applyParallel(df_temp.groupby(id_col), func).values\n",
    "\n",
    "# def func(df_): return df_.rolling(5,min_periods=1)['deposit_transaction_amount'].max()\n",
    "# df_temp['max_deposits_last_5']=applyParallel(df_temp.groupby(id_col), func).values\n",
    "\n",
    "# def func(df_): return df_.rolling(10,min_periods=1)['deposit_transaction_amount'].max()\n",
    "# df_temp['max_deposits_last_10']=applyParallel(df_temp.groupby(id_col), func).values\n",
    "\n",
    "\n",
    "df_temp['deposits_trend_short1'] = df_temp['max_deposits_last_3'] - df_temp['median_deposits_last_5']\n",
    "df_temp['deposits_trend_ratio_short1'] = df_temp['max_deposits_last_3'] / df_temp['median_deposits_last_5']\n",
    "# df_temp['deposits_trend_mid1'] = df_temp['max_deposits_last_3'] - df_temp['median_deposits_last_10']\n",
    "# df_temp['deposits_trend_ratio_mid1'] = df_temp['max_deposits_last_3'] / df_temp['median_deposits_last_10']\n",
    "# df_temp['deposits_trend_mid2'] = df_temp['mean_deposits_last_3'] - df_temp['median_deposits_last_10']\n",
    "df_temp['deposits_trend_ratio_mid2'] = df_temp['mean_deposits_last_3'] / df_temp['median_deposits_last_10']\n",
    "\n",
    "new_cols = [f for f in df_temp.columns if f not in meta_cols]"
   ]
  },
  {
   "cell_type": "code",
   "execution_count": null,
   "id": "af15c47f",
   "metadata": {},
   "outputs": [
    {
     "name": "stderr",
     "output_type": "stream",
     "text": [
      "/home/ec2-user/anaconda3/envs/deposit_v2/lib/python3.7/site-packages/pandas/core/frame.py:4468: SettingWithCopyWarning: \n",
      "A value is trying to be set on a copy of a slice from a DataFrame\n",
      "\n",
      "See the caveats in the documentation: https://pandas.pydata.org/pandas-docs/stable/user_guide/indexing.html#returning-a-view-versus-a-copy\n",
      "  downcast=downcast,\n"
     ]
    }
   ],
   "source": [
    "tdf = pd.merge(tdf, df_temp[new_cols+['transaction_id']], \n",
    "                           how='left', on='transaction_id')\n",
    "tdf[new_cols].fillna(0, inplace=True)"
   ]
  },
  {
   "cell_type": "code",
   "execution_count": null,
   "id": "c7dcf3a8",
   "metadata": {},
   "outputs": [],
   "source": [
    "\n",
    "# # nr_deposits, nr_transactions over a period; and their ratios\n",
    "\n",
    "# def func(df_): return df_.rolling('24h',min_periods=1,on=date_col)['is_trans'].sum()\n",
    "# tdf['nr_transactions_1d']=applyParallel(tdf.groupby(id_col), func).values\n",
    "\n",
    "# def func(df_): return df_.rolling('24h',min_periods=1,on=date_col)['is_deposit'].sum()\n",
    "# tdf['nr_deposits_1d']=applyParallel(tdf.groupby(id_col), func).values\n",
    "\n",
    "# tdf['nr_deposits_ratio_1d'] = tdf['nr_deposits_1d'] / tdf['nr_transactions_1d']\n",
    "\n",
    "# def func(df_): return df_.rolling('3h',min_periods=1,on=date_col)['is_trans'].sum()\n",
    "# tdf['nr_transactions_3h']=applyParallel(tdf.groupby(id_col), func).values\n",
    "\n",
    "# def func(df_): return df_.rolling('3h',min_periods=1,on=date_col)['is_deposit'].sum()\n",
    "# tdf['nr_deposits_3h']=applyParallel(tdf.groupby(id_col), func).values\n",
    "\n",
    "# tdf['nr_deposits_ratio_3h'] = tdf['nr_deposits_3h'] / tdf['nr_transactions_3h']"
   ]
  },
  {
   "cell_type": "markdown",
   "id": "f8b6756e",
   "metadata": {},
   "source": [
    "#### ACH Labels\n",
    "----"
   ]
  },
  {
   "cell_type": "code",
   "execution_count": null,
   "id": "e900ab0b",
   "metadata": {},
   "outputs": [],
   "source": [
    "### Helper functions\n",
    "def reverse_df(df):\n",
    "    \"\"\" Helper for forward looking rolling function \"\"\"\n",
    "    # reverse dataset\n",
    "    reverse_df = df.iloc[::-1]\n",
    "    ri = reverse_df.index\n",
    "\n",
    "    # re-reverse index\n",
    "    reverse_df.index = ri[0] - ri + ri[-1]\n",
    "\n",
    "    return reverse_df\n",
    "\n",
    "## Need to define forward looking roll-ups at top level to parallelize.\n",
    "def get_nr_returns_5d(df):\n",
    "    return reverse_df(reverse_df(df).rolling('5d', min_periods=1)['is_return'].sum())\n",
    "\n",
    "def get_bal_after_5d(df):\n",
    "    return reverse_df(reverse_df(df).rolling('5d', min_periods=1)['trnx_real_ending_balance'].apply(lambda a: a[0], raw=True))\n",
    "\n",
    "def match_ach_returns(df, timedelta=BDay(3)):\n",
    "    \"\"\"\n",
    "    Check if ACH transactions are returned with some timeframe.\n",
    "    \"\"\"\n",
    "    #For performance purposes...\n",
    "    df = df[df['trnx_transaction_code'].isin(['ACHDD', 'DWACHRET'])]\n",
    "    \n",
    "    # df = df.reset_index(drop=True)\n",
    "\n",
    "    df['tamt_abs'] = df['trnx_transaction_amount'].abs()\n",
    "    df['is_returned'] = False\n",
    "    \n",
    "    for act_n, transaction in tqdm(df[df['is_return'] == 1].iterrows()):\n",
    "        \n",
    "        tdt_hi = transaction['transaction_datetime']\n",
    "        tdt_lo = tdt_hi - timedelta\n",
    "\n",
    "        dcandidate = df[df['business_account_number'] == transaction['business_account_number']]\n",
    "\n",
    "        dret = dcandidate[(dcandidate['transaction_datetime'].between(tdt_lo, tdt_hi)) & \\\n",
    "                          (dcandidate['tamt_abs'] == transaction['tamt_abs'])]\n",
    "        \n",
    "        df.loc[dret.index, 'is_returned'] = True\n",
    "\n",
    "#     df = df.reset_index(drop=True)\n",
    "    return df\n",
    "\n",
    "def get_labels(df):\n",
    "    \"\"\"\n",
    "    Get add labels to processed data.\n",
    "    \"\"\"    \n",
    "    # sort data for roll-ups\n",
    "    df = df.sort_values(by=['business_account_number', 'transaction_datetime'])\n",
    "\n",
    "    df['days_to_acc_close'] = (pd.to_datetime(df['banking_date_acct_closed']) - df['transaction_datetime']).dt.days\n",
    "    df['account_closed_by_risk_in_next_90d'] = df['banking_closed_reason'].isin(['Closed by SoFi - Risk Request', \n",
    "                                                                         'Closed by SoFi - Charge-Off / Write-Off']) &\\\n",
    "                                               (df['days_to_acc_close'] <= 90)\n",
    "    \n",
    "    # does account chg/wrt off in next 90 days?\n",
    "    df['is_chg_wrt_off_in_90d'] = (df['chg_wrt_off_date'] - df['transaction_datetime']).dt.days <= 90\n",
    "\n",
    "    # Set index to transaction datetime.\n",
    "    df = df.set_index('transaction_datetime')\n",
    "\n",
    "    # get num returns by borrower in the next 90 days\n",
    "    df['nr_returns_in_next_5d'] = applyParallel(df[['business_account_number', 'is_return']].groupby('business_account_number'), get_nr_returns_5d).values\n",
    "    \n",
    "    # get this borrower's account balance after 90 days\n",
    "    df['bal_after_5d'] = applyParallel(df[['business_account_number', 'trnx_real_ending_balance']].groupby('business_account_number'), get_bal_after_5d).values\n",
    "\n",
    "    df = df.reset_index()\n",
    "    \n",
    "    if 'level_0' in df.columns:\n",
    "        df = df.drop('level_0', axis=1)\n",
    "    \n",
    "    return df  \n",
    "\n",
    "\n",
    "# drop non ACH types\n",
    "def drop_non_ach(df):\n",
    "    df = df[df['trnx_transaction_code'].isin(['ACHDD']) & (df['transaction_amount'] > 0)]\n",
    "    return df"
   ]
  },
  {
   "cell_type": "code",
   "execution_count": null,
   "id": "4ecb4592",
   "metadata": {},
   "outputs": [],
   "source": [
    "%%time \n",
    "\n",
    "cols = \"\"\"\n",
    "business_account_number\n",
    "transaction_datetime\n",
    "banking_date_acct_closed\n",
    "banking_closed_reason\n",
    "chg_wrt_off_date\n",
    "is_return\n",
    "trnx_real_ending_balance\n",
    "trnx_transaction_code\n",
    "trnx_transaction_amount\n",
    "\"\"\".split()\n",
    "\n",
    "tdf_ = get_labels(tdf[cols])\n",
    "tdf__ = match_ach_returns(tdf_)"
   ]
  },
  {
   "cell_type": "code",
   "execution_count": null,
   "id": "cdb17502",
   "metadata": {},
   "outputs": [],
   "source": [
    "tdf.shape, tdf_.shape, tdf__.shape"
   ]
  },
  {
   "cell_type": "code",
   "execution_count": null,
   "id": "f27971e6",
   "metadata": {},
   "outputs": [],
   "source": [
    "tdf.index.max(), tdf_.index.max(), tdf__.index.max()"
   ]
  },
  {
   "cell_type": "code",
   "execution_count": null,
   "id": "e4f4aa27",
   "metadata": {},
   "outputs": [],
   "source": [
    "def combine_df_by_idx(df1, df2):\n",
    "    for col in df2.columns:\n",
    "        idx = df2.index\n",
    "        if col in df1.columns:\n",
    "            print(f\"column {col} equals? {df1.loc[idx, col].equals(df2[col])}\")\n",
    "        else:\n",
    "            print(f\"adding column {col}\")\n",
    "            df1[col] = np.nan\n",
    "            df1.loc[idx, col] = df2[col]\n",
    "    return df1"
   ]
  },
  {
   "cell_type": "code",
   "execution_count": null,
   "id": "4176d453",
   "metadata": {},
   "outputs": [],
   "source": [
    "# join labeled dfs with \n",
    "tdf = combine_df_by_idx(tdf, tdf_)\n",
    "tdf = combine_df_by_idx(tdf, tdf__)"
   ]
  },
  {
   "cell_type": "code",
   "execution_count": null,
   "id": "bb80f5d8",
   "metadata": {},
   "outputs": [],
   "source": [
    "del tdf_\n",
    "del tdf__\n",
    "gc.collect()"
   ]
  },
  {
   "cell_type": "markdown",
   "id": "5fbfe5f4",
   "metadata": {},
   "source": [
    "#### MCD Labels\n",
    "----"
   ]
  },
  {
   "cell_type": "code",
   "execution_count": null,
   "id": "bf0ab031",
   "metadata": {},
   "outputs": [],
   "source": [
    "NDAYS = 90\n",
    "\n",
    "def get_nr_returns_nd(df):\n",
    "    global NDAYS\n",
    "    return reverse_df(reverse_df(df).rolling(f'{NDAYS}d', min_periods=1)['is_return'].sum())\n",
    "\n",
    "def get_bal_after_nd(df):\n",
    "    global NDAYS\n",
    "    return reverse_df(reverse_df(df).rolling(f'{NDAYS}d', min_periods=1)['trnx_real_ending_balance'].apply(lambda a: a[0], raw=True))\n",
    "\n",
    "\n",
    "def get_labels_nd(df, n_days=90):\n",
    "    \"\"\"\n",
    "    Get add labels to processed data.\n",
    "    \"\"\"\n",
    "    # sort data for roll-ups\n",
    "    global NDAYS\n",
    "    NDAYS = n_days\n",
    "    print(f'Ndays = {NDAYS}')\n",
    "    \n",
    "    # sort data for roll-ups\n",
    "    \n",
    "#     df['days_to_acc_close'] = (pd.to_datetime(df['dtc']) - df['transaction_datetime']).dt.days\n",
    "    df[f'account_closed_by_risk_in_next_{n_days}d'] = df['banking_closed_reason'].isin(['Closed by SoFi - Risk Request', \n",
    "                                                                         'Closed by SoFi - Charge-Off / Write-Off']) &\\\n",
    "                                               (df['days_to_acc_close'] <= n_days)\n",
    "    \n",
    "#     df['last_unrestricted_date_in_next_90d'] = (df['last_unrestricted_date'] - df['transaction_datetime']).dt.days.between(0, 90)\n",
    "    \n",
    "    # get most recent account balance\n",
    "    df = pd.merge(df, \n",
    "                  df.groupby('business_account_number')['trnx_real_ending_balance'].last().rename('latest_acc_bal').reset_index(),\n",
    "                  how='left', on='business_account_number')\n",
    "\n",
    "    # does account chg/wrt off in next n days?\n",
    "    df[f'is_chg_wrt_off_in_{n_days}d'] = (df['chg_wrt_off_date'] - df['transaction_datetime']).dt.days <= n_days\n",
    "\n",
    "    # Set index to transaction datetime.\n",
    "    df = df.set_index('transaction_datetime')\n",
    "\n",
    "    df[f'bal_after_{n_days}d'] = applyParallel(df[['business_account_number', \n",
    "                                           'trnx_real_ending_balance']].groupby('business_account_number'), \n",
    "                                                     get_bal_after_nd).values\n",
    "    df[f'nr_returns_in_next_{n_days}d'] = applyParallel(df[['business_account_number', \n",
    "                                                    'is_return']].groupby('business_account_number'), \n",
    "                                                 get_nr_returns_nd).values\n",
    "    df = df.reset_index()\n",
    "                \n",
    "    # drop non check types\n",
    "    \n",
    "    \n",
    "    def get_target(df):\n",
    "        \"\"\"\n",
    "        \"\"\"\n",
    "        df[f'target_{n_days}d'] = df[f'is_chg_wrt_off_in_{n_days}d'] | \\\n",
    "                       df[f'account_closed_by_risk_in_next_{n_days}d'] | \\\n",
    "                       (df[f'nr_returns_in_next_{n_days}d'] > 0) | \\\n",
    "                       (df[f'bal_after_{n_days}d'] < 0)\n",
    "        \n",
    "        df[f'indeterminate_{n_days}d'] = (df[f'target_{n_days}d'] & (df[f'bal_after_{n_days}d'] > 0)) | \\\n",
    "                              (~df[f'target_{n_days}d'] & (df[f'bal_after_{n_days}d'] <= 0))\n",
    "        \n",
    "        return df\n",
    "\n",
    "    df = get_target(df)\n",
    "\n",
    "    return df #.reset_index()"
   ]
  },
  {
   "cell_type": "code",
   "execution_count": null,
   "id": "8bf47b51",
   "metadata": {},
   "outputs": [],
   "source": [
    "def sort_dfs(df):\n",
    "    df.sort_values(by=['business_account_number', 'transaction_datetime', 'trnx_transaction_amount'], inplace=True)\n",
    "\n",
    "def drop_non_check(df):\n",
    "    df = df[df['trnx_transaction_code'].isin(['DDCK']) & (df['trnx_transaction_amount'] > 0)]\n",
    "    return df"
   ]
  },
  {
   "cell_type": "code",
   "execution_count": null,
   "id": "c8d52408",
   "metadata": {},
   "outputs": [
    {
     "name": "stderr",
     "output_type": "stream",
     "text": [
      " 67%|██████▋   | 2/3 [29:22<14:41, 881.90s/it]"
     ]
    },
    {
     "name": "stdout",
     "output_type": "stream",
     "text": [
      "Ndays = 60\n"
     ]
    },
    {
     "name": "stderr",
     "output_type": "stream",
     "text": [
      "100%|██████████| 3/3 [44:43<00:00, 894.64s/it]\n"
     ]
    }
   ],
   "source": [
    "sort_dfs(tdf)\n",
    "\n",
    "for n in tqdm([10, 30, 60]):\n",
    "    tdf = get_labels_nd(tdf, n_days=n)"
   ]
  },
  {
   "cell_type": "code",
   "execution_count": null,
   "id": "d5bbe3fb",
   "metadata": {},
   "outputs": [
    {
     "data": {
      "text/plain": [
       "Index(['target_10d', 'target_30d', 'target_60d'], dtype='object')"
      ]
     },
     "execution_count": 77,
     "metadata": {},
     "output_type": "execute_result"
    }
   ],
   "source": [
    "tdf.columns[tdf.columns.str.contains('target')]"
   ]
  },
  {
   "cell_type": "code",
   "execution_count": null,
   "id": "76bad428",
   "metadata": {},
   "outputs": [
    {
     "data": {
      "text/plain": [
       "['yyyymm',\n",
       " 'group_rank',\n",
       " 'transaction_id',\n",
       " 'first_transaction_datetime',\n",
       " 'days_since_first_deposit',\n",
       " 'age_money_account',\n",
       " 'lag_acc_open_first_transaction',\n",
       " 'nr_trans_with_acc',\n",
       " 'first_trans_with_ea_dt',\n",
       " 'last_trans_with_ea_dt',\n",
       " 'sum_pos_trans_ea',\n",
       " 'sum_neg_trans_ea',\n",
       " 'rolling_mean_pos_trans_ea',\n",
       " 'time_since_first_trans_ea',\n",
       " 'time_since_last_trans_ea',\n",
       " 'ratio_all_ea_trans_div_tamt',\n",
       " 'ratio_rolling_mean_ea_tamt_div_tamt',\n",
       " 'transaction_as_pct_of_balance',\n",
       " 'last_transaction_datetime',\n",
       " 'time_since_last_transaction',\n",
       " 'is_return',\n",
       " 'is_trans',\n",
       " 'is_deposit',\n",
       " 'nr_past_returns',\n",
       " 'nr_returns_30d',\n",
       " 'nr_past_deposits',\n",
       " 'nr_transactions_3d',\n",
       " 'nr_transactions_30d',\n",
       " 'pct_returned_deposits',\n",
       " 'nr_past_transactions',\n",
       " 'nr_transactions_30d_div_nr_past_transactions',\n",
       " 'tamt_adjusted',\n",
       " 'mean_account_balance_3d',\n",
       " 'mean_account_balance_30d',\n",
       " 'deposit_transaction_amount',\n",
       " 'sum_deposits_3d',\n",
       " 'sum_deposits_10d',\n",
       " 'sum_deposits_30d',\n",
       " 'is_withdrawal',\n",
       " 'withdrawal_transaction_amount',\n",
       " 'mean_deposits_10d',\n",
       " 'mean_deposits',\n",
       " 'mean_deposits_10d_div_mean_deposits',\n",
       " 'max_deposits_10d',\n",
       " 'max_deposits_30d',\n",
       " 'max_withdrawals_30d',\n",
       " 'max_deposits_10d_div_mean_account_balance_30d',\n",
       " 'nr_trans_ratio',\n",
       " 'bal_ratio',\n",
       " 'deposits_ratio',\n",
       " 'is_dd',\n",
       " 'dd_dollar_amount',\n",
       " 'nr_direct_deposits',\n",
       " 'dollar_val_dd',\n",
       " 'return_dollar_amount',\n",
       " 'dollar_val_returns',\n",
       " 'dollar_val_returns_3d',\n",
       " 'plaid_days_since_first_link',\n",
       " 'account_ending_balance',\n",
       " 'days_since_first_transaction',\n",
       " 'rolling_mean_acc_bal',\n",
       " 'nr_transactions_per_day',\n",
       " 'transaction_as_pct_of_balance_abs',\n",
       " 'rolling_trns_as_pct_of_bal',\n",
       " 'transaction_as_pct_of_bal_min',\n",
       " 'nr_transactions_all_time',\n",
       " 'first_return_date',\n",
       " 'chg_wrt_off_date',\n",
       " 'nr_returns_all_time',\n",
       " 'median_deposits_last_5',\n",
       " 'median_deposits_last_10',\n",
       " 'mean_deposits_last_3',\n",
       " 'max_deposits_last_3',\n",
       " 'deposits_trend_short1',\n",
       " 'deposits_trend_ratio_short1',\n",
       " 'deposits_trend_ratio_mid2',\n",
       " 'days_to_acc_close',\n",
       " 'account_closed_by_risk_in_next_90d',\n",
       " 'is_chg_wrt_off_in_90d',\n",
       " 'nr_returns_in_next_5d',\n",
       " 'bal_after_5d',\n",
       " 'tamt_abs',\n",
       " 'is_returned',\n",
       " 'account_closed_by_risk_in_next_10d',\n",
       " 'latest_acc_bal_x',\n",
       " 'is_chg_wrt_off_in_10d',\n",
       " 'bal_after_10d',\n",
       " 'nr_returns_in_next_10d',\n",
       " 'target_10d',\n",
       " 'indeterminate_10d',\n",
       " 'account_closed_by_risk_in_next_30d',\n",
       " 'latest_acc_bal_y',\n",
       " 'is_chg_wrt_off_in_30d',\n",
       " 'bal_after_30d',\n",
       " 'nr_returns_in_next_30d',\n",
       " 'target_30d',\n",
       " 'indeterminate_30d',\n",
       " 'account_closed_by_risk_in_next_60d',\n",
       " 'latest_acc_bal',\n",
       " 'is_chg_wrt_off_in_60d',\n",
       " 'bal_after_60d',\n",
       " 'nr_returns_in_next_60d',\n",
       " 'target_60d',\n",
       " 'indeterminate_60d']"
      ]
     },
     "execution_count": 78,
     "metadata": {},
     "output_type": "execute_result"
    }
   ],
   "source": [
    "new_features = [col for col in tdf.columns if col not in existing_cols]\n",
    "new_features"
   ]
  },
  {
   "cell_type": "code",
   "execution_count": null,
   "id": "74f634b1",
   "metadata": {},
   "outputs": [
    {
     "data": {
      "text/plain": [
       "['transaction_datetime',\n",
       " 'trnx_tjd',\n",
       " 'tseq',\n",
       " 'trnx_time',\n",
       " 'business_account_number',\n",
       " 'trnx_created_dt',\n",
       " 'trnx_endbal',\n",
       " 'trnx_transaction_code',\n",
       " 'trnx_transaction_comment',\n",
       " 'trnx_transaction_amount',\n",
       " 'trnx_is_credit',\n",
       " 'user_id',\n",
       " 'trnx_external_account_number',\n",
       " 'trnx_external_institution_id',\n",
       " 'trnx_originating_company_id',\n",
       " 'trnx_external_institution_trans_id',\n",
       " 'trnx_originator_dfi_id',\n",
       " 'trnx_merchant_name',\n",
       " 'trnx_tamt_multiplier',\n",
       " 'trnx_is_return',\n",
       " 'trnx_vault_trans_amt',\n",
       " 'trnx_sum_vault_transactions',\n",
       " 'trnx_real_ending_balance',\n",
       " 'borrower_id',\n",
       " 'user_meta_sofi_employee_ind',\n",
       " 'banking_acct_open_date',\n",
       " 'banking_date_acct_closed',\n",
       " 'banking_bal',\n",
       " 'banking_first_deposit_amount',\n",
       " 'banking_date_of_birth',\n",
       " 'banking_mstate',\n",
       " 'banking_mzip',\n",
       " 'banking_closed_reason',\n",
       " 'banking_restricted_reason',\n",
       " 'banking_account_age_days_asof_pull',\n",
       " 'banking_customer_age_days_asof_pull',\n",
       " 'ecp_credit_pull_date',\n",
       " 'ecp_fico_score',\n",
       " 'ecp_vantage_score',\n",
       " 'ecp_all7120',\n",
       " 'ecp_all8220',\n",
       " 'ecp_bcc2800',\n",
       " 'ecp_bcc7120',\n",
       " 'ecp_bcx3423',\n",
       " 'ecp_iln5520',\n",
       " 'ecp_iqt9415',\n",
       " 'ecp_iqt9413',\n",
       " 'ecp_mtf5820',\n",
       " 'ecp_stu5031',\n",
       " 'ecp_credit_card_loan_amount',\n",
       " 'ecp_delinquencies_90_days',\n",
       " 'ecp_education_loan_amount',\n",
       " 'ecp_mortgage_loan_amount',\n",
       " 'ecp_secured_loan_amount',\n",
       " 'ecp_total_outstanding_balance',\n",
       " 'ecp_total_tradelines_open',\n",
       " 'ecp_unsecured_loan_amount',\n",
       " 'giact_created_dt',\n",
       " 'giact_bank_name',\n",
       " 'giact_created_date',\n",
       " 'giact_item_reference_id',\n",
       " 'giact_account_added_date',\n",
       " 'giact_account_response_code',\n",
       " 'giact_customer_response_code',\n",
       " 'giact_verification_response',\n",
       " 'giact_account_last_updated_date',\n",
       " 'giact_first_link_date',\n",
       " 'giact_last_link_date',\n",
       " 'giact_is_pass',\n",
       " 'giact_is_decline',\n",
       " 'giact_is_other',\n",
       " 'giact_nr_pass',\n",
       " 'giact_nr_decline',\n",
       " 'giact_nr_other',\n",
       " 'plaid_available_bal',\n",
       " 'plaid_current_bal',\n",
       " 'plaid_currency',\n",
       " 'plaid_account_category',\n",
       " 'plaid_account_name',\n",
       " 'plaid_account_type',\n",
       " 'plaid_ach_account_number',\n",
       " 'plaid_ach_routing_number',\n",
       " 'plaid_owners',\n",
       " 'plaid_current_as_of_dt',\n",
       " 'plaid_created_by',\n",
       " 'plaid_pos_bal',\n",
       " 'plaid_neg_bal',\n",
       " 'plaid_first_link_date',\n",
       " 'plaid_last_link_date',\n",
       " 'plaid_max_avail_bal',\n",
       " 'plaid_min_avail_bal',\n",
       " 'plaid_total_pos_bal',\n",
       " 'plaid_total_neg_bal',\n",
       " 'plaid_is_checking_or_savings',\n",
       " 'plaid_available_balance_if_checking_or_savings',\n",
       " 'plaid_largest_checking_or_savings_balance',\n",
       " 'socure_created_dt',\n",
       " 'socure_fraud_score_1',\n",
       " 'socure_fraud_score_2',\n",
       " 'socure_address_risk_score',\n",
       " 'socure_email_risk_score',\n",
       " 'socure_phone_risk_score',\n",
       " 'socure_name_address_correlation',\n",
       " 'socure_name_email_correlation',\n",
       " 'socure_name_phone_correlation',\n",
       " 'socure_social_profiles_found',\n",
       " 'socure_nr_social_profiles_found',\n",
       " 'bk_acct_rstr_last_unrestricted_date',\n",
       " 'bk_acct_rstr_first_restricted_by_risk_date',\n",
       " 'yyyymm',\n",
       " 'group_rank',\n",
       " 'transaction_id',\n",
       " 'first_transaction_datetime',\n",
       " 'days_since_first_deposit',\n",
       " 'age_money_account',\n",
       " 'lag_acc_open_first_transaction',\n",
       " 'nr_trans_with_acc',\n",
       " 'first_trans_with_ea_dt',\n",
       " 'last_trans_with_ea_dt',\n",
       " 'sum_pos_trans_ea',\n",
       " 'sum_neg_trans_ea',\n",
       " 'rolling_mean_pos_trans_ea',\n",
       " 'time_since_first_trans_ea',\n",
       " 'time_since_last_trans_ea',\n",
       " 'ratio_all_ea_trans_div_tamt',\n",
       " 'ratio_rolling_mean_ea_tamt_div_tamt',\n",
       " 'transaction_as_pct_of_balance',\n",
       " 'last_transaction_datetime',\n",
       " 'time_since_last_transaction',\n",
       " 'is_return',\n",
       " 'is_trans',\n",
       " 'is_deposit',\n",
       " 'nr_past_returns',\n",
       " 'nr_returns_30d',\n",
       " 'nr_past_deposits',\n",
       " 'nr_transactions_3d',\n",
       " 'nr_transactions_30d',\n",
       " 'pct_returned_deposits',\n",
       " 'nr_past_transactions',\n",
       " 'nr_transactions_30d_div_nr_past_transactions',\n",
       " 'tamt_adjusted',\n",
       " 'mean_account_balance_3d',\n",
       " 'mean_account_balance_30d',\n",
       " 'deposit_transaction_amount',\n",
       " 'sum_deposits_3d',\n",
       " 'sum_deposits_10d',\n",
       " 'sum_deposits_30d',\n",
       " 'is_withdrawal',\n",
       " 'withdrawal_transaction_amount',\n",
       " 'mean_deposits_10d',\n",
       " 'mean_deposits',\n",
       " 'mean_deposits_10d_div_mean_deposits',\n",
       " 'max_deposits_10d',\n",
       " 'max_deposits_30d',\n",
       " 'max_withdrawals_30d',\n",
       " 'max_deposits_10d_div_mean_account_balance_30d',\n",
       " 'nr_trans_ratio',\n",
       " 'bal_ratio',\n",
       " 'deposits_ratio',\n",
       " 'is_dd',\n",
       " 'dd_dollar_amount',\n",
       " 'nr_direct_deposits',\n",
       " 'dollar_val_dd',\n",
       " 'return_dollar_amount',\n",
       " 'dollar_val_returns',\n",
       " 'dollar_val_returns_3d',\n",
       " 'plaid_days_since_first_link',\n",
       " 'account_ending_balance',\n",
       " 'days_since_first_transaction',\n",
       " 'rolling_mean_acc_bal',\n",
       " 'nr_transactions_per_day',\n",
       " 'transaction_as_pct_of_balance_abs',\n",
       " 'rolling_trns_as_pct_of_bal',\n",
       " 'transaction_as_pct_of_bal_min',\n",
       " 'nr_transactions_all_time',\n",
       " 'first_return_date',\n",
       " 'chg_wrt_off_date',\n",
       " 'nr_returns_all_time',\n",
       " 'median_deposits_last_5',\n",
       " 'median_deposits_last_10',\n",
       " 'mean_deposits_last_3',\n",
       " 'max_deposits_last_3',\n",
       " 'deposits_trend_short1',\n",
       " 'deposits_trend_ratio_short1',\n",
       " 'deposits_trend_ratio_mid2',\n",
       " 'days_to_acc_close',\n",
       " 'account_closed_by_risk_in_next_90d',\n",
       " 'is_chg_wrt_off_in_90d',\n",
       " 'nr_returns_in_next_5d',\n",
       " 'bal_after_5d',\n",
       " 'tamt_abs',\n",
       " 'is_returned',\n",
       " 'account_closed_by_risk_in_next_10d',\n",
       " 'latest_acc_bal_x',\n",
       " 'is_chg_wrt_off_in_10d',\n",
       " 'bal_after_10d',\n",
       " 'nr_returns_in_next_10d',\n",
       " 'target_10d',\n",
       " 'indeterminate_10d',\n",
       " 'account_closed_by_risk_in_next_30d',\n",
       " 'latest_acc_bal_y',\n",
       " 'is_chg_wrt_off_in_30d',\n",
       " 'bal_after_30d',\n",
       " 'nr_returns_in_next_30d',\n",
       " 'target_30d',\n",
       " 'indeterminate_30d',\n",
       " 'account_closed_by_risk_in_next_60d',\n",
       " 'latest_acc_bal',\n",
       " 'is_chg_wrt_off_in_60d',\n",
       " 'bal_after_60d',\n",
       " 'nr_returns_in_next_60d',\n",
       " 'target_60d',\n",
       " 'indeterminate_60d']"
      ]
     },
     "execution_count": 79,
     "metadata": {},
     "output_type": "execute_result"
    }
   ],
   "source": [
    "tdf.columns.tolist()"
   ]
  },
  {
   "cell_type": "code",
   "execution_count": null,
   "id": "d2004006",
   "metadata": {},
   "outputs": [],
   "source": [
    "# save \n",
    "data_out_path = os.path.join(\"s3://sofi-data-science/jxu/money-risk-models/deposit-risk-v2-ach/data/\", \"2021-04-08\", \"tdf_2021-04-08.parquet\")\n",
    "tdf.to_parquet(data_out_path)"
   ]
  },
  {
   "cell_type": "code",
   "execution_count": null,
   "id": "04389a34",
   "metadata": {},
   "outputs": [],
   "source": [
    "# load it back\n",
    "tdf_ = pd.read_parquet(data_out_path)"
   ]
  },
  {
   "cell_type": "code",
   "execution_count": null,
   "id": "29cfdd3b",
   "metadata": {},
   "outputs": [
    {
     "data": {
      "text/plain": [
       "(25138937, 213)"
      ]
     },
     "execution_count": 82,
     "metadata": {},
     "output_type": "execute_result"
    }
   ],
   "source": [
    "tdf_.shape"
   ]
  },
  {
   "cell_type": "code",
   "execution_count": null,
   "id": "dc104604",
   "metadata": {},
   "outputs": [],
   "source": []
  },
  {
   "cell_type": "markdown",
   "id": "645c048b",
   "metadata": {},
   "source": [
    "#### Utils"
   ]
  },
  {
   "cell_type": "code",
   "execution_count": null,
   "id": "f80063a9",
   "metadata": {},
   "outputs": [],
   "source": [
    "code_str = \"\"\"\n",
    "# nr_deposits, nr_transactions over a period; and their ratios\n",
    "\n",
    "def func(df_): return df_.rolling('24h',min_periods=1,on='transaction_datetime')['is_trans'].sum()\n",
    "transactions_df['nr_transactions_1d']=applyParallel(transactions_df.groupby('business_account_number'), func).values\n",
    "\n",
    "def func(df_): return df_.rolling('24h',min_periods=1,on='transaction_datetime')['is_deposit'].sum()\n",
    "transactions_df['nr_deposits_1d']=applyParallel(transactions_df.groupby('business_account_number'), func).values\n",
    "\n",
    "transactions_df['nr_deposits_ratio_1d'] = transactions_df['nr_deposits_1d'] / transactions_df['nr_transactions_1d']\n",
    "\n",
    "def func(df_): return df_.rolling('3h',min_periods=1,on='transaction_datetime')['is_trans'].sum()\n",
    "transactions_df['nr_transactions_3h']=applyParallel(transactions_df.groupby('business_account_number'), func).values\n",
    "\n",
    "def func(df_): return df_.rolling('3h',min_periods=1,on='transaction_datetime')['is_deposit'].sum()\n",
    "transactions_df['nr_deposits_3h']=applyParallel(transactions_df.groupby('business_account_number'), func).values\n",
    "\n",
    "transactions_df['nr_deposits_ratio_3h'] = transactions_df['nr_deposits_3h'] / transactions_df['nr_transactions_3h']\n",
    "\"\"\"\n",
    "mapper = {\"transactions_df\": \"tdf\", \n",
    "               \"'business_account_number'\": \"id_col\",\n",
    "               \"'transaction_datetime'\": \"date_col\", \n",
    "               \"'transaction_amount'\": \"'trnx_transaction_amount'\", \n",
    "               \"'transaction_code'\": \"'trnx_transaction_code'\",\n",
    "           \"'real_ending_balance'\": \"'trnx_real_ending_balance'\"}"
   ]
  },
  {
   "cell_type": "code",
   "execution_count": null,
   "id": "3b0833b2",
   "metadata": {},
   "outputs": [
    {
     "name": "stdout",
     "output_type": "stream",
     "text": [
      "\n",
      "# nr_deposits, nr_transactions over a period; and their ratios\n",
      "\n",
      "def func(df_): return df_.rolling('24h',min_periods=1,on=date_col)['is_trans'].sum()\n",
      "tdf['nr_transactions_1d']=applyParallel(tdf.groupby(id_col), func).values\n",
      "\n",
      "def func(df_): return df_.rolling('24h',min_periods=1,on=date_col)['is_deposit'].sum()\n",
      "tdf['nr_deposits_1d']=applyParallel(tdf.groupby(id_col), func).values\n",
      "\n",
      "tdf['nr_deposits_ratio_1d'] = tdf['nr_deposits_1d'] / tdf['nr_transactions_1d']\n",
      "\n",
      "def func(df_): return df_.rolling('3h',min_periods=1,on=date_col)['is_trans'].sum()\n",
      "tdf['nr_transactions_3h']=applyParallel(tdf.groupby(id_col), func).values\n",
      "\n",
      "def func(df_): return df_.rolling('3h',min_periods=1,on=date_col)['is_deposit'].sum()\n",
      "tdf['nr_deposits_3h']=applyParallel(tdf.groupby(id_col), func).values\n",
      "\n",
      "tdf['nr_deposits_ratio_3h'] = tdf['nr_deposits_3h'] / tdf['nr_transactions_3h']\n",
      "\n"
     ]
    }
   ],
   "source": [
    "def formatter(code_str, mapper_dict):\n",
    "    for k, v in mapper_dict.items():\n",
    "        code_str = code_str.replace(k, v)\n",
    "    return code_str\n",
    "        \n",
    "print(formatter(code_str, mapper))"
   ]
  },
  {
   "cell_type": "code",
   "execution_count": null,
   "id": "3c896f74",
   "metadata": {},
   "outputs": [
    {
     "data": {
      "text/plain": [
       "Index(['banking_date_acct_closed', 'banking_closed_reason',\n",
       "       'days_to_acc_close', 'account_closed_by_risk_in_next_90d',\n",
       "       'account_closed_by_risk_in_next_10d',\n",
       "       'account_closed_by_risk_in_next_30d',\n",
       "       'account_closed_by_risk_in_next_60d'],\n",
       "      dtype='object')"
      ]
     },
     "execution_count": 85,
     "metadata": {},
     "output_type": "execute_result"
    }
   ],
   "source": [
    "s = \"close\"\n",
    "get_full_column(tdf, s)"
   ]
  },
  {
   "cell_type": "code",
   "execution_count": null,
   "id": "efc8e36f",
   "metadata": {},
   "outputs": [],
   "source": []
  },
  {
   "cell_type": "markdown",
   "id": "01ad97cb",
   "metadata": {},
   "source": [
    "### Get minimum required features"
   ]
  },
  {
   "cell_type": "code",
   "execution_count": null,
   "id": "0a21ac1e",
   "metadata": {},
   "outputs": [],
   "source": [
    "import sys, os\n",
    "import json\n",
    "import pickle as pkl\n",
    "import sklearn\n",
    "\n",
    "sys.path.insert(1, \"../..\")\n",
    "from src.train import get_baseline_models, get_pickle_from_s3"
   ]
  },
  {
   "cell_type": "code",
   "execution_count": null,
   "id": "b4111028",
   "metadata": {},
   "outputs": [
    {
     "data": {
      "text/plain": [
       "'0.23.2'"
      ]
     },
     "execution_count": 87,
     "metadata": {},
     "output_type": "execute_result"
    }
   ],
   "source": [
    "sklearn.__version__"
   ]
  },
  {
   "cell_type": "code",
   "execution_count": null,
   "id": "47bbbb51",
   "metadata": {},
   "outputs": [],
   "source": [
    "with open(\"../../ach_mc_config.json\", \"r\") as f:\n",
    "    config = json.load(f)"
   ]
  },
  {
   "cell_type": "code",
   "execution_count": null,
   "id": "45d64d71",
   "metadata": {},
   "outputs": [
    {
     "name": "stderr",
     "output_type": "stream",
     "text": [
      "/home/ec2-user/anaconda3/envs/deposit_v2/lib/python3.7/site-packages/sklearn/utils/deprecation.py:143: FutureWarning: The sklearn.preprocessing.label module is  deprecated in version 0.22 and will be removed in version 0.24. The corresponding classes / functions should instead be imported from sklearn.preprocessing. Anything that cannot be imported from sklearn.preprocessing is now part of the private API.\n",
      "  warnings.warn(message, FutureWarning)\n",
      "/home/ec2-user/anaconda3/envs/deposit_v2/lib/python3.7/site-packages/sklearn/base.py:334: UserWarning: Trying to unpickle estimator LabelEncoder from version 0.20.3 when using version 0.23.2. This might lead to breaking code or invalid results. Use at your own risk.\n",
      "  UserWarning)\n"
     ]
    },
    {
     "data": {
      "text/plain": [
       "{'deposit_v1': {'model': LGBMClassifier()},\n",
       " 'customer': {'model': LGBMClassifier(bagging_seed=15556, boosting='gbdt',\n",
       "                 categorical_feature=[39, 40, 41], feature_fraction=0.8,\n",
       "                 lambda_l1=16, lambda_l2=10, learning_rate=0.03, max_depth=4,\n",
       "                 metric='auc', min_data_in_leaf=116, num_iterations=1400,\n",
       "                 num_leaves=15, objective='binary',\n",
       "                 scale_pos_weight=21.33703498056635, seed=15556, subsample=0.94,\n",
       "                 tree_learner='feature', verbosity=1)}}"
      ]
     },
     "execution_count": 89,
     "metadata": {},
     "output_type": "execute_result"
    }
   ],
   "source": [
    "models = get_baseline_models(config)\n",
    "models"
   ]
  },
  {
   "cell_type": "code",
   "execution_count": null,
   "id": "2281fba7",
   "metadata": {},
   "outputs": [
    {
     "name": "stdout",
     "output_type": "stream",
     "text": [
      "92\n",
      "66\n"
     ]
    }
   ],
   "source": [
    "features = []\n",
    "features.extend(config[\"features\"])\n",
    "for mname, mitem in models.items():\n",
    "    features.extend(mitem[\"model\"].feature_name_)\n",
    "print(len(features))\n",
    "features = sorted(list(set(features)))\n",
    "print(len(features))"
   ]
  },
  {
   "cell_type": "code",
   "execution_count": null,
   "id": "9979039c",
   "metadata": {},
   "outputs": [
    {
     "data": {
      "text/plain": [
       "['account_ending_balance',\n",
       " 'address_risk_score',\n",
       " 'age_money_account',\n",
       " 'all7120',\n",
       " 'all7120_default_encoded',\n",
       " 'all8220',\n",
       " 'bal_ratio',\n",
       " 'bcc2800',\n",
       " 'bcc7120',\n",
       " 'bcc7120_default_encoded',\n",
       " 'bcx3423',\n",
       " 'credit_card_loan_amount',\n",
       " 'days_since_first_transaction',\n",
       " 'deposits_ratio',\n",
       " 'dollar_val_dd',\n",
       " 'dollar_val_returns',\n",
       " 'dollar_val_returns_3d',\n",
       " 'education_loan_amount',\n",
       " 'email_risk_score',\n",
       " 'fico_score',\n",
       " 'first_deposit_amount',\n",
       " 'fraud_score_1',\n",
       " 'fraud_score_2',\n",
       " 'giact_nr_decline',\n",
       " 'giact_nr_other',\n",
       " 'iln5520',\n",
       " 'iqt9413',\n",
       " 'iqt9415',\n",
       " 'lag_acc_open_first_transaction',\n",
       " 'max_deposits_10d_div_mean_account_balance_30d',\n",
       " 'max_deposits_30d',\n",
       " 'max_withdrawals_30d',\n",
       " 'mean_account_balance_30d',\n",
       " 'mean_deposits_10d_div_mean_deposits',\n",
       " 'mtf5820',\n",
       " 'name_address_correlation',\n",
       " 'name_email_correlation',\n",
       " 'name_phone_correlation',\n",
       " 'nr_direct_deposits',\n",
       " 'nr_past_deposits',\n",
       " 'nr_past_returns',\n",
       " 'nr_past_transactions',\n",
       " 'nr_returns_30d',\n",
       " 'nr_trans_ratio',\n",
       " 'nr_transactions_30d_div_nr_past_transactions',\n",
       " 'nr_transactions_per_day',\n",
       " 'pct_returned_deposits',\n",
       " 'phone_risk_score',\n",
       " 'plaid_days_since_first_link',\n",
       " 'plaid_max_avail_bal',\n",
       " 'plaid_min_avail_bal',\n",
       " 'quovo_available_bal',\n",
       " 'quovo_largest_checking_or_savings_balance',\n",
       " 'quovo_min_avail_bal',\n",
       " 'rolling_mean_acc_bal',\n",
       " 'rolling_trns_as_pct_of_bal',\n",
       " 'stu5031',\n",
       " 'sum_deposits_10d',\n",
       " 'time_since_last_transaction',\n",
       " 'total_outstanding_balance',\n",
       " 'total_tradelines_open',\n",
       " 'transaction_amount',\n",
       " 'transaction_as_pct_of_bal_min',\n",
       " 'transaction_as_pct_of_balance',\n",
       " 'transaction_code_encoded',\n",
       " 'vantage_score']"
      ]
     },
     "execution_count": 91,
     "metadata": {},
     "output_type": "execute_result"
    }
   ],
   "source": [
    "features"
   ]
  },
  {
   "cell_type": "code",
   "execution_count": null,
   "id": "2a306895",
   "metadata": {},
   "outputs": [
    {
     "data": {
      "text/plain": [
       "1"
      ]
     },
     "execution_count": 92,
     "metadata": {},
     "output_type": "execute_result"
    }
   ],
   "source": [
    "1"
   ]
  },
  {
   "cell_type": "code",
   "execution_count": null,
   "id": "be9d35fb",
   "metadata": {},
   "outputs": [],
   "source": []
  }
 ],
 "metadata": {
  "kernelspec": {
   "display_name": "conda_customer_risk",
   "language": "python",
   "name": "conda_customer_risk"
  },
  "language_info": {
   "codemirror_mode": {
    "name": "ipython",
    "version": 3
   },
   "file_extension": ".py",
   "mimetype": "text/x-python",
   "name": "python",
   "nbconvert_exporter": "python",
   "pygments_lexer": "ipython3",
   "version": "3.7.10"
  }
 },
 "nbformat": 4,
 "nbformat_minor": 5
}
