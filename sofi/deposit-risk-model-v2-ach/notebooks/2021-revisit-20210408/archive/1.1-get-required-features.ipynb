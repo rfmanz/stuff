{
 "cells": [
  {
   "cell_type": "markdown",
   "id": "fc31cf48",
   "metadata": {},
   "source": [
    "## Make Sure we Kept all REQUIRED Features\n",
    "---\n",
    "\n",
    "We need to keep feature engineering code for \n",
    "* Customer Risk Model\n",
    "* Deposit Risk Model v1\n",
    "* Deposit Risk Model v2 ACH\n",
    "* Deposit Risk Model v2 MCD"
   ]
  },
  {
   "cell_type": "code",
   "execution_count": 20,
   "id": "fa4aab84",
   "metadata": {},
   "outputs": [
    {
     "name": "stdout",
     "output_type": "stream",
     "text": [
      "The autoreload extension is already loaded. To reload it, use:\n",
      "  %reload_ext autoreload\n"
     ]
    }
   ],
   "source": [
    "import os, sys, json, tqdm\n",
    "import pandas as pd\n",
    "import matplotlib.pyplot as plt\n",
    "\n",
    "sys.path.insert(1, \"../..\")\n",
    "\n",
    "import src.preprocessing.customer_utils as cu\n",
    "import src.preprocessing.utils as ach_pu\n",
    "\n",
    "import warnings\n",
    "warnings.simplefilter(action='ignore', category=FutureWarning)\n",
    "pd.options.mode.chained_assignment = None ## pd warning\n",
    "\n",
    "%load_ext autoreload\n",
    "%autoreload 2"
   ]
  },
  {
   "cell_type": "code",
   "execution_count": 21,
   "id": "ac52e2d8",
   "metadata": {},
   "outputs": [],
   "source": [
    "with open(\"../../ach_mc_config.json\",\"r\") as f:\n",
    "    config = json.load(f)"
   ]
  },
  {
   "cell_type": "code",
   "execution_count": 22,
   "id": "1428e2ae",
   "metadata": {},
   "outputs": [],
   "source": [
    "def get_pickle_from_s3(bucket, obj_path):\n",
    "    import boto3, io, pickle as pkl\n",
    "    s3 = boto3.client('s3')\n",
    "    pickle_buffer = io.BytesIO()\n",
    "\n",
    "    model = pkl.loads(s3.get_object(Bucket=bucket, Key=obj_path)[\"Body\"].read())\n",
    "    return model"
   ]
  },
  {
   "cell_type": "code",
   "execution_count": 23,
   "id": "01a780d5",
   "metadata": {},
   "outputs": [
    {
     "data": {
      "text/plain": [
       "{'deposit_v1': {'bucket': 'sofi-data-science',\n",
       "  'key': 'jxu/money-risk-models/models/money-deposit-risk-1567033961.pkl'},\n",
       " 'customer': {'bucket': 'sofi-data-science',\n",
       "  'key': 'jxu/money-risk-models/models/customer_risk_target_no_giact_time_since_last_link.pkl'},\n",
       " 'ach_deposit_v2': {'bucket': 'sofi-data-science',\n",
       "  'key': 'jxu/money-risk-models/models/archive/model_deposit_v2_ach_mc_iter1.pkl'},\n",
       " 'mcd_deposit_v2': {'bucket': 'sofi-data-science',\n",
       "  'key': 'jxu/money-risk-models/models/archive/model_deposit_v2_mcd_mc_iter1.pkl'}}"
      ]
     },
     "execution_count": 23,
     "metadata": {},
     "output_type": "execute_result"
    }
   ],
   "source": [
    "benchmarks = config[\"baseline_models\"]\n",
    "benchmarks[\"ach_deposit_v2\"]= {\"bucket\": \"sofi-data-science\", \n",
    "                               \"key\": \"jxu/money-risk-models/models/archive/model_deposit_v2_ach_mc_iter1.pkl\"}\n",
    "benchmarks[\"mcd_deposit_v2\"]= {\"bucket\": \"sofi-data-science\", \n",
    "                               \"key\": \"jxu/money-risk-models/models/archive/model_deposit_v2_mcd_mc_iter1.pkl\"}\n",
    "\n",
    "benchmarks"
   ]
  },
  {
   "cell_type": "code",
   "execution_count": 24,
   "id": "e45bd5bb",
   "metadata": {},
   "outputs": [
    {
     "ename": "CredentialRetrievalError",
     "evalue": "Error when retrieving credentials from iam-role: Credential refresh failed, response did not contain: access_key, secret_key, token, expiry_time",
     "output_type": "error",
     "traceback": [
      "\u001b[0;31m---------------------------------------------------------------------------\u001b[0m",
      "\u001b[0;31mCredentialRetrievalError\u001b[0m                  Traceback (most recent call last)",
      "\u001b[0;32m<ipython-input-24-8fa8a962a307>\u001b[0m in \u001b[0;36m<module>\u001b[0;34m\u001b[0m\n\u001b[1;32m      1\u001b[0m \u001b[0mmodels\u001b[0m \u001b[0;34m=\u001b[0m \u001b[0;34m{\u001b[0m\u001b[0;34m}\u001b[0m\u001b[0;34m\u001b[0m\u001b[0;34m\u001b[0m\u001b[0m\n\u001b[1;32m      2\u001b[0m \u001b[0;32mfor\u001b[0m \u001b[0mmname\u001b[0m\u001b[0;34m,\u001b[0m \u001b[0ms3_kwargs\u001b[0m \u001b[0;32min\u001b[0m \u001b[0mbenchmarks\u001b[0m\u001b[0;34m.\u001b[0m\u001b[0mitems\u001b[0m\u001b[0;34m(\u001b[0m\u001b[0;34m)\u001b[0m\u001b[0;34m:\u001b[0m\u001b[0;34m\u001b[0m\u001b[0;34m\u001b[0m\u001b[0m\n\u001b[0;32m----> 3\u001b[0;31m     \u001b[0mmodels\u001b[0m\u001b[0;34m[\u001b[0m\u001b[0mmname\u001b[0m\u001b[0;34m]\u001b[0m \u001b[0;34m=\u001b[0m \u001b[0;34m{\u001b[0m\u001b[0;34m\"model\"\u001b[0m\u001b[0;34m:\u001b[0m \u001b[0mget_pickle_from_s3\u001b[0m\u001b[0;34m(\u001b[0m\u001b[0ms3_kwargs\u001b[0m\u001b[0;34m[\u001b[0m\u001b[0;34m\"bucket\"\u001b[0m\u001b[0;34m]\u001b[0m\u001b[0;34m,\u001b[0m \u001b[0ms3_kwargs\u001b[0m\u001b[0;34m[\u001b[0m\u001b[0;34m\"key\"\u001b[0m\u001b[0;34m]\u001b[0m\u001b[0;34m)\u001b[0m\u001b[0;34m}\u001b[0m\u001b[0;34m\u001b[0m\u001b[0;34m\u001b[0m\u001b[0m\n\u001b[0m",
      "\u001b[0;32m<ipython-input-22-09eba814d80a>\u001b[0m in \u001b[0;36mget_pickle_from_s3\u001b[0;34m(bucket, obj_path)\u001b[0m\n\u001b[1;32m      4\u001b[0m     \u001b[0mpickle_buffer\u001b[0m \u001b[0;34m=\u001b[0m \u001b[0mio\u001b[0m\u001b[0;34m.\u001b[0m\u001b[0mBytesIO\u001b[0m\u001b[0;34m(\u001b[0m\u001b[0;34m)\u001b[0m\u001b[0;34m\u001b[0m\u001b[0;34m\u001b[0m\u001b[0m\n\u001b[1;32m      5\u001b[0m \u001b[0;34m\u001b[0m\u001b[0m\n\u001b[0;32m----> 6\u001b[0;31m     \u001b[0mmodel\u001b[0m \u001b[0;34m=\u001b[0m \u001b[0mpkl\u001b[0m\u001b[0;34m.\u001b[0m\u001b[0mloads\u001b[0m\u001b[0;34m(\u001b[0m\u001b[0ms3\u001b[0m\u001b[0;34m.\u001b[0m\u001b[0mget_object\u001b[0m\u001b[0;34m(\u001b[0m\u001b[0mBucket\u001b[0m\u001b[0;34m=\u001b[0m\u001b[0mbucket\u001b[0m\u001b[0;34m,\u001b[0m \u001b[0mKey\u001b[0m\u001b[0;34m=\u001b[0m\u001b[0mobj_path\u001b[0m\u001b[0;34m)\u001b[0m\u001b[0;34m[\u001b[0m\u001b[0;34m\"Body\"\u001b[0m\u001b[0;34m]\u001b[0m\u001b[0;34m.\u001b[0m\u001b[0mread\u001b[0m\u001b[0;34m(\u001b[0m\u001b[0;34m)\u001b[0m\u001b[0;34m)\u001b[0m\u001b[0;34m\u001b[0m\u001b[0;34m\u001b[0m\u001b[0m\n\u001b[0m\u001b[1;32m      7\u001b[0m     \u001b[0;32mreturn\u001b[0m \u001b[0mmodel\u001b[0m\u001b[0;34m\u001b[0m\u001b[0;34m\u001b[0m\u001b[0m\n",
      "\u001b[0;32m~/anaconda3/envs/deposit_v2/lib/python3.7/site-packages/botocore/client.py\u001b[0m in \u001b[0;36m_api_call\u001b[0;34m(self, *args, **kwargs)\u001b[0m\n\u001b[1;32m    355\u001b[0m                     \"%s() only accepts keyword arguments.\" % py_operation_name)\n\u001b[1;32m    356\u001b[0m             \u001b[0;31m# The \"self\" in this scope is referring to the BaseClient.\u001b[0m\u001b[0;34m\u001b[0m\u001b[0;34m\u001b[0m\u001b[0;34m\u001b[0m\u001b[0m\n\u001b[0;32m--> 357\u001b[0;31m             \u001b[0;32mreturn\u001b[0m \u001b[0mself\u001b[0m\u001b[0;34m.\u001b[0m\u001b[0m_make_api_call\u001b[0m\u001b[0;34m(\u001b[0m\u001b[0moperation_name\u001b[0m\u001b[0;34m,\u001b[0m \u001b[0mkwargs\u001b[0m\u001b[0;34m)\u001b[0m\u001b[0;34m\u001b[0m\u001b[0;34m\u001b[0m\u001b[0m\n\u001b[0m\u001b[1;32m    358\u001b[0m \u001b[0;34m\u001b[0m\u001b[0m\n\u001b[1;32m    359\u001b[0m         \u001b[0m_api_call\u001b[0m\u001b[0;34m.\u001b[0m\u001b[0m__name__\u001b[0m \u001b[0;34m=\u001b[0m \u001b[0mstr\u001b[0m\u001b[0;34m(\u001b[0m\u001b[0mpy_operation_name\u001b[0m\u001b[0;34m)\u001b[0m\u001b[0;34m\u001b[0m\u001b[0;34m\u001b[0m\u001b[0m\n",
      "\u001b[0;32m~/anaconda3/envs/deposit_v2/lib/python3.7/site-packages/botocore/client.py\u001b[0m in \u001b[0;36m_make_api_call\u001b[0;34m(self, operation_name, api_params)\u001b[0m\n\u001b[1;32m    661\u001b[0m         \u001b[0;32melse\u001b[0m\u001b[0;34m:\u001b[0m\u001b[0;34m\u001b[0m\u001b[0;34m\u001b[0m\u001b[0m\n\u001b[1;32m    662\u001b[0m             http, parsed_response = self._make_request(\n\u001b[0;32m--> 663\u001b[0;31m                 operation_model, request_dict, request_context)\n\u001b[0m\u001b[1;32m    664\u001b[0m \u001b[0;34m\u001b[0m\u001b[0m\n\u001b[1;32m    665\u001b[0m         self.meta.events.emit(\n",
      "\u001b[0;32m~/anaconda3/envs/deposit_v2/lib/python3.7/site-packages/botocore/client.py\u001b[0m in \u001b[0;36m_make_request\u001b[0;34m(self, operation_model, request_dict, request_context)\u001b[0m\n\u001b[1;32m    680\u001b[0m     \u001b[0;32mdef\u001b[0m \u001b[0m_make_request\u001b[0m\u001b[0;34m(\u001b[0m\u001b[0mself\u001b[0m\u001b[0;34m,\u001b[0m \u001b[0moperation_model\u001b[0m\u001b[0;34m,\u001b[0m \u001b[0mrequest_dict\u001b[0m\u001b[0;34m,\u001b[0m \u001b[0mrequest_context\u001b[0m\u001b[0;34m)\u001b[0m\u001b[0;34m:\u001b[0m\u001b[0;34m\u001b[0m\u001b[0;34m\u001b[0m\u001b[0m\n\u001b[1;32m    681\u001b[0m         \u001b[0;32mtry\u001b[0m\u001b[0;34m:\u001b[0m\u001b[0;34m\u001b[0m\u001b[0;34m\u001b[0m\u001b[0m\n\u001b[0;32m--> 682\u001b[0;31m             \u001b[0;32mreturn\u001b[0m \u001b[0mself\u001b[0m\u001b[0;34m.\u001b[0m\u001b[0m_endpoint\u001b[0m\u001b[0;34m.\u001b[0m\u001b[0mmake_request\u001b[0m\u001b[0;34m(\u001b[0m\u001b[0moperation_model\u001b[0m\u001b[0;34m,\u001b[0m \u001b[0mrequest_dict\u001b[0m\u001b[0;34m)\u001b[0m\u001b[0;34m\u001b[0m\u001b[0;34m\u001b[0m\u001b[0m\n\u001b[0m\u001b[1;32m    683\u001b[0m         \u001b[0;32mexcept\u001b[0m \u001b[0mException\u001b[0m \u001b[0;32mas\u001b[0m \u001b[0me\u001b[0m\u001b[0;34m:\u001b[0m\u001b[0;34m\u001b[0m\u001b[0;34m\u001b[0m\u001b[0m\n\u001b[1;32m    684\u001b[0m             self.meta.events.emit(\n",
      "\u001b[0;32m~/anaconda3/envs/deposit_v2/lib/python3.7/site-packages/botocore/endpoint.py\u001b[0m in \u001b[0;36mmake_request\u001b[0;34m(self, operation_model, request_dict)\u001b[0m\n\u001b[1;32m    100\u001b[0m         logger.debug(\"Making request for %s with params: %s\",\n\u001b[1;32m    101\u001b[0m                      operation_model, request_dict)\n\u001b[0;32m--> 102\u001b[0;31m         \u001b[0;32mreturn\u001b[0m \u001b[0mself\u001b[0m\u001b[0;34m.\u001b[0m\u001b[0m_send_request\u001b[0m\u001b[0;34m(\u001b[0m\u001b[0mrequest_dict\u001b[0m\u001b[0;34m,\u001b[0m \u001b[0moperation_model\u001b[0m\u001b[0;34m)\u001b[0m\u001b[0;34m\u001b[0m\u001b[0;34m\u001b[0m\u001b[0m\n\u001b[0m\u001b[1;32m    103\u001b[0m \u001b[0;34m\u001b[0m\u001b[0m\n\u001b[1;32m    104\u001b[0m     \u001b[0;32mdef\u001b[0m \u001b[0mcreate_request\u001b[0m\u001b[0;34m(\u001b[0m\u001b[0mself\u001b[0m\u001b[0;34m,\u001b[0m \u001b[0mparams\u001b[0m\u001b[0;34m,\u001b[0m \u001b[0moperation_model\u001b[0m\u001b[0;34m=\u001b[0m\u001b[0;32mNone\u001b[0m\u001b[0;34m)\u001b[0m\u001b[0;34m:\u001b[0m\u001b[0;34m\u001b[0m\u001b[0;34m\u001b[0m\u001b[0m\n",
      "\u001b[0;32m~/anaconda3/envs/deposit_v2/lib/python3.7/site-packages/botocore/endpoint.py\u001b[0m in \u001b[0;36m_send_request\u001b[0;34m(self, request_dict, operation_model)\u001b[0m\n\u001b[1;32m    130\u001b[0m     \u001b[0;32mdef\u001b[0m \u001b[0m_send_request\u001b[0m\u001b[0;34m(\u001b[0m\u001b[0mself\u001b[0m\u001b[0;34m,\u001b[0m \u001b[0mrequest_dict\u001b[0m\u001b[0;34m,\u001b[0m \u001b[0moperation_model\u001b[0m\u001b[0;34m)\u001b[0m\u001b[0;34m:\u001b[0m\u001b[0;34m\u001b[0m\u001b[0;34m\u001b[0m\u001b[0m\n\u001b[1;32m    131\u001b[0m         \u001b[0mattempts\u001b[0m \u001b[0;34m=\u001b[0m \u001b[0;36m1\u001b[0m\u001b[0;34m\u001b[0m\u001b[0;34m\u001b[0m\u001b[0m\n\u001b[0;32m--> 132\u001b[0;31m         \u001b[0mrequest\u001b[0m \u001b[0;34m=\u001b[0m \u001b[0mself\u001b[0m\u001b[0;34m.\u001b[0m\u001b[0mcreate_request\u001b[0m\u001b[0;34m(\u001b[0m\u001b[0mrequest_dict\u001b[0m\u001b[0;34m,\u001b[0m \u001b[0moperation_model\u001b[0m\u001b[0;34m)\u001b[0m\u001b[0;34m\u001b[0m\u001b[0;34m\u001b[0m\u001b[0m\n\u001b[0m\u001b[1;32m    133\u001b[0m         \u001b[0mcontext\u001b[0m \u001b[0;34m=\u001b[0m \u001b[0mrequest_dict\u001b[0m\u001b[0;34m[\u001b[0m\u001b[0;34m'context'\u001b[0m\u001b[0;34m]\u001b[0m\u001b[0;34m\u001b[0m\u001b[0;34m\u001b[0m\u001b[0m\n\u001b[1;32m    134\u001b[0m         success_response, exception = self._get_response(\n",
      "\u001b[0;32m~/anaconda3/envs/deposit_v2/lib/python3.7/site-packages/botocore/endpoint.py\u001b[0m in \u001b[0;36mcreate_request\u001b[0;34m(self, params, operation_model)\u001b[0m\n\u001b[1;32m    114\u001b[0m                 op_name=operation_model.name)\n\u001b[1;32m    115\u001b[0m             self._event_emitter.emit(event_name, request=request,\n\u001b[0;32m--> 116\u001b[0;31m                                      operation_name=operation_model.name)\n\u001b[0m\u001b[1;32m    117\u001b[0m         \u001b[0mprepared_request\u001b[0m \u001b[0;34m=\u001b[0m \u001b[0mself\u001b[0m\u001b[0;34m.\u001b[0m\u001b[0mprepare_request\u001b[0m\u001b[0;34m(\u001b[0m\u001b[0mrequest\u001b[0m\u001b[0;34m)\u001b[0m\u001b[0;34m\u001b[0m\u001b[0;34m\u001b[0m\u001b[0m\n\u001b[1;32m    118\u001b[0m         \u001b[0;32mreturn\u001b[0m \u001b[0mprepared_request\u001b[0m\u001b[0;34m\u001b[0m\u001b[0;34m\u001b[0m\u001b[0m\n",
      "\u001b[0;32m~/anaconda3/envs/deposit_v2/lib/python3.7/site-packages/botocore/hooks.py\u001b[0m in \u001b[0;36memit\u001b[0;34m(self, event_name, **kwargs)\u001b[0m\n\u001b[1;32m    354\u001b[0m     \u001b[0;32mdef\u001b[0m \u001b[0memit\u001b[0m\u001b[0;34m(\u001b[0m\u001b[0mself\u001b[0m\u001b[0;34m,\u001b[0m \u001b[0mevent_name\u001b[0m\u001b[0;34m,\u001b[0m \u001b[0;34m**\u001b[0m\u001b[0mkwargs\u001b[0m\u001b[0;34m)\u001b[0m\u001b[0;34m:\u001b[0m\u001b[0;34m\u001b[0m\u001b[0;34m\u001b[0m\u001b[0m\n\u001b[1;32m    355\u001b[0m         \u001b[0maliased_event_name\u001b[0m \u001b[0;34m=\u001b[0m \u001b[0mself\u001b[0m\u001b[0;34m.\u001b[0m\u001b[0m_alias_event_name\u001b[0m\u001b[0;34m(\u001b[0m\u001b[0mevent_name\u001b[0m\u001b[0;34m)\u001b[0m\u001b[0;34m\u001b[0m\u001b[0;34m\u001b[0m\u001b[0m\n\u001b[0;32m--> 356\u001b[0;31m         \u001b[0;32mreturn\u001b[0m \u001b[0mself\u001b[0m\u001b[0;34m.\u001b[0m\u001b[0m_emitter\u001b[0m\u001b[0;34m.\u001b[0m\u001b[0memit\u001b[0m\u001b[0;34m(\u001b[0m\u001b[0maliased_event_name\u001b[0m\u001b[0;34m,\u001b[0m \u001b[0;34m**\u001b[0m\u001b[0mkwargs\u001b[0m\u001b[0;34m)\u001b[0m\u001b[0;34m\u001b[0m\u001b[0;34m\u001b[0m\u001b[0m\n\u001b[0m\u001b[1;32m    357\u001b[0m \u001b[0;34m\u001b[0m\u001b[0m\n\u001b[1;32m    358\u001b[0m     \u001b[0;32mdef\u001b[0m \u001b[0memit_until_response\u001b[0m\u001b[0;34m(\u001b[0m\u001b[0mself\u001b[0m\u001b[0;34m,\u001b[0m \u001b[0mevent_name\u001b[0m\u001b[0;34m,\u001b[0m \u001b[0;34m**\u001b[0m\u001b[0mkwargs\u001b[0m\u001b[0;34m)\u001b[0m\u001b[0;34m:\u001b[0m\u001b[0;34m\u001b[0m\u001b[0;34m\u001b[0m\u001b[0m\n",
      "\u001b[0;32m~/anaconda3/envs/deposit_v2/lib/python3.7/site-packages/botocore/hooks.py\u001b[0m in \u001b[0;36memit\u001b[0;34m(self, event_name, **kwargs)\u001b[0m\n\u001b[1;32m    226\u001b[0m                  \u001b[0mhandlers\u001b[0m\u001b[0;34m.\u001b[0m\u001b[0;34m\u001b[0m\u001b[0;34m\u001b[0m\u001b[0m\n\u001b[1;32m    227\u001b[0m         \"\"\"\n\u001b[0;32m--> 228\u001b[0;31m         \u001b[0;32mreturn\u001b[0m \u001b[0mself\u001b[0m\u001b[0;34m.\u001b[0m\u001b[0m_emit\u001b[0m\u001b[0;34m(\u001b[0m\u001b[0mevent_name\u001b[0m\u001b[0;34m,\u001b[0m \u001b[0mkwargs\u001b[0m\u001b[0;34m)\u001b[0m\u001b[0;34m\u001b[0m\u001b[0;34m\u001b[0m\u001b[0m\n\u001b[0m\u001b[1;32m    229\u001b[0m \u001b[0;34m\u001b[0m\u001b[0m\n\u001b[1;32m    230\u001b[0m     \u001b[0;32mdef\u001b[0m \u001b[0memit_until_response\u001b[0m\u001b[0;34m(\u001b[0m\u001b[0mself\u001b[0m\u001b[0;34m,\u001b[0m \u001b[0mevent_name\u001b[0m\u001b[0;34m,\u001b[0m \u001b[0;34m**\u001b[0m\u001b[0mkwargs\u001b[0m\u001b[0;34m)\u001b[0m\u001b[0;34m:\u001b[0m\u001b[0;34m\u001b[0m\u001b[0;34m\u001b[0m\u001b[0m\n",
      "\u001b[0;32m~/anaconda3/envs/deposit_v2/lib/python3.7/site-packages/botocore/hooks.py\u001b[0m in \u001b[0;36m_emit\u001b[0;34m(self, event_name, kwargs, stop_on_response)\u001b[0m\n\u001b[1;32m    209\u001b[0m         \u001b[0;32mfor\u001b[0m \u001b[0mhandler\u001b[0m \u001b[0;32min\u001b[0m \u001b[0mhandlers_to_call\u001b[0m\u001b[0;34m:\u001b[0m\u001b[0;34m\u001b[0m\u001b[0;34m\u001b[0m\u001b[0m\n\u001b[1;32m    210\u001b[0m             \u001b[0mlogger\u001b[0m\u001b[0;34m.\u001b[0m\u001b[0mdebug\u001b[0m\u001b[0;34m(\u001b[0m\u001b[0;34m'Event %s: calling handler %s'\u001b[0m\u001b[0;34m,\u001b[0m \u001b[0mevent_name\u001b[0m\u001b[0;34m,\u001b[0m \u001b[0mhandler\u001b[0m\u001b[0;34m)\u001b[0m\u001b[0;34m\u001b[0m\u001b[0;34m\u001b[0m\u001b[0m\n\u001b[0;32m--> 211\u001b[0;31m             \u001b[0mresponse\u001b[0m \u001b[0;34m=\u001b[0m \u001b[0mhandler\u001b[0m\u001b[0;34m(\u001b[0m\u001b[0;34m**\u001b[0m\u001b[0mkwargs\u001b[0m\u001b[0;34m)\u001b[0m\u001b[0;34m\u001b[0m\u001b[0;34m\u001b[0m\u001b[0m\n\u001b[0m\u001b[1;32m    212\u001b[0m             \u001b[0mresponses\u001b[0m\u001b[0;34m.\u001b[0m\u001b[0mappend\u001b[0m\u001b[0;34m(\u001b[0m\u001b[0;34m(\u001b[0m\u001b[0mhandler\u001b[0m\u001b[0;34m,\u001b[0m \u001b[0mresponse\u001b[0m\u001b[0;34m)\u001b[0m\u001b[0;34m)\u001b[0m\u001b[0;34m\u001b[0m\u001b[0;34m\u001b[0m\u001b[0m\n\u001b[1;32m    213\u001b[0m             \u001b[0;32mif\u001b[0m \u001b[0mstop_on_response\u001b[0m \u001b[0;32mand\u001b[0m \u001b[0mresponse\u001b[0m \u001b[0;32mis\u001b[0m \u001b[0;32mnot\u001b[0m \u001b[0;32mNone\u001b[0m\u001b[0;34m:\u001b[0m\u001b[0;34m\u001b[0m\u001b[0;34m\u001b[0m\u001b[0m\n",
      "\u001b[0;32m~/anaconda3/envs/deposit_v2/lib/python3.7/site-packages/botocore/signers.py\u001b[0m in \u001b[0;36mhandler\u001b[0;34m(self, operation_name, request, **kwargs)\u001b[0m\n\u001b[1;32m     88\u001b[0m         \u001b[0;31m# this method is invoked to sign the request.\u001b[0m\u001b[0;34m\u001b[0m\u001b[0;34m\u001b[0m\u001b[0;34m\u001b[0m\u001b[0m\n\u001b[1;32m     89\u001b[0m         \u001b[0;31m# Don't call this method directly.\u001b[0m\u001b[0;34m\u001b[0m\u001b[0;34m\u001b[0m\u001b[0;34m\u001b[0m\u001b[0m\n\u001b[0;32m---> 90\u001b[0;31m         \u001b[0;32mreturn\u001b[0m \u001b[0mself\u001b[0m\u001b[0;34m.\u001b[0m\u001b[0msign\u001b[0m\u001b[0;34m(\u001b[0m\u001b[0moperation_name\u001b[0m\u001b[0;34m,\u001b[0m \u001b[0mrequest\u001b[0m\u001b[0;34m)\u001b[0m\u001b[0;34m\u001b[0m\u001b[0;34m\u001b[0m\u001b[0m\n\u001b[0m\u001b[1;32m     91\u001b[0m \u001b[0;34m\u001b[0m\u001b[0m\n\u001b[1;32m     92\u001b[0m     def sign(self, operation_name, request, region_name=None,\n",
      "\u001b[0;32m~/anaconda3/envs/deposit_v2/lib/python3.7/site-packages/botocore/signers.py\u001b[0m in \u001b[0;36msign\u001b[0;34m(self, operation_name, request, region_name, signing_type, expires_in, signing_name)\u001b[0m\n\u001b[1;32m    152\u001b[0m                 \u001b[0mkwargs\u001b[0m\u001b[0;34m[\u001b[0m\u001b[0;34m'signing_name'\u001b[0m\u001b[0;34m]\u001b[0m \u001b[0;34m=\u001b[0m \u001b[0msigning_context\u001b[0m\u001b[0;34m[\u001b[0m\u001b[0;34m'signing_name'\u001b[0m\u001b[0;34m]\u001b[0m\u001b[0;34m\u001b[0m\u001b[0;34m\u001b[0m\u001b[0m\n\u001b[1;32m    153\u001b[0m             \u001b[0;32mtry\u001b[0m\u001b[0;34m:\u001b[0m\u001b[0;34m\u001b[0m\u001b[0;34m\u001b[0m\u001b[0m\n\u001b[0;32m--> 154\u001b[0;31m                 \u001b[0mauth\u001b[0m \u001b[0;34m=\u001b[0m \u001b[0mself\u001b[0m\u001b[0;34m.\u001b[0m\u001b[0mget_auth_instance\u001b[0m\u001b[0;34m(\u001b[0m\u001b[0;34m**\u001b[0m\u001b[0mkwargs\u001b[0m\u001b[0;34m)\u001b[0m\u001b[0;34m\u001b[0m\u001b[0;34m\u001b[0m\u001b[0m\n\u001b[0m\u001b[1;32m    155\u001b[0m             \u001b[0;32mexcept\u001b[0m \u001b[0mUnknownSignatureVersionError\u001b[0m \u001b[0;32mas\u001b[0m \u001b[0me\u001b[0m\u001b[0;34m:\u001b[0m\u001b[0;34m\u001b[0m\u001b[0;34m\u001b[0m\u001b[0m\n\u001b[1;32m    156\u001b[0m                 \u001b[0;32mif\u001b[0m \u001b[0msigning_type\u001b[0m \u001b[0;34m!=\u001b[0m \u001b[0;34m'standard'\u001b[0m\u001b[0;34m:\u001b[0m\u001b[0;34m\u001b[0m\u001b[0;34m\u001b[0m\u001b[0m\n",
      "\u001b[0;32m~/anaconda3/envs/deposit_v2/lib/python3.7/site-packages/botocore/signers.py\u001b[0m in \u001b[0;36mget_auth_instance\u001b[0;34m(self, signing_name, region_name, signature_version, **kwargs)\u001b[0m\n\u001b[1;32m    232\u001b[0m         \u001b[0mfrozen_credentials\u001b[0m \u001b[0;34m=\u001b[0m \u001b[0;32mNone\u001b[0m\u001b[0;34m\u001b[0m\u001b[0;34m\u001b[0m\u001b[0m\n\u001b[1;32m    233\u001b[0m         \u001b[0;32mif\u001b[0m \u001b[0mself\u001b[0m\u001b[0;34m.\u001b[0m\u001b[0m_credentials\u001b[0m \u001b[0;32mis\u001b[0m \u001b[0;32mnot\u001b[0m \u001b[0;32mNone\u001b[0m\u001b[0;34m:\u001b[0m\u001b[0;34m\u001b[0m\u001b[0;34m\u001b[0m\u001b[0m\n\u001b[0;32m--> 234\u001b[0;31m             \u001b[0mfrozen_credentials\u001b[0m \u001b[0;34m=\u001b[0m \u001b[0mself\u001b[0m\u001b[0;34m.\u001b[0m\u001b[0m_credentials\u001b[0m\u001b[0;34m.\u001b[0m\u001b[0mget_frozen_credentials\u001b[0m\u001b[0;34m(\u001b[0m\u001b[0;34m)\u001b[0m\u001b[0;34m\u001b[0m\u001b[0;34m\u001b[0m\u001b[0m\n\u001b[0m\u001b[1;32m    235\u001b[0m         \u001b[0mkwargs\u001b[0m\u001b[0;34m[\u001b[0m\u001b[0;34m'credentials'\u001b[0m\u001b[0;34m]\u001b[0m \u001b[0;34m=\u001b[0m \u001b[0mfrozen_credentials\u001b[0m\u001b[0;34m\u001b[0m\u001b[0;34m\u001b[0m\u001b[0m\n\u001b[1;32m    236\u001b[0m         \u001b[0;32mif\u001b[0m \u001b[0mcls\u001b[0m\u001b[0;34m.\u001b[0m\u001b[0mREQUIRES_REGION\u001b[0m\u001b[0;34m:\u001b[0m\u001b[0;34m\u001b[0m\u001b[0;34m\u001b[0m\u001b[0m\n",
      "\u001b[0;32m~/anaconda3/envs/deposit_v2/lib/python3.7/site-packages/botocore/credentials.py\u001b[0m in \u001b[0;36mget_frozen_credentials\u001b[0;34m(self)\u001b[0m\n\u001b[1;32m    616\u001b[0m \u001b[0;34m\u001b[0m\u001b[0m\n\u001b[1;32m    617\u001b[0m         \"\"\"\n\u001b[0;32m--> 618\u001b[0;31m         \u001b[0mself\u001b[0m\u001b[0;34m.\u001b[0m\u001b[0m_refresh\u001b[0m\u001b[0;34m(\u001b[0m\u001b[0;34m)\u001b[0m\u001b[0;34m\u001b[0m\u001b[0;34m\u001b[0m\u001b[0m\n\u001b[0m\u001b[1;32m    619\u001b[0m         \u001b[0;32mreturn\u001b[0m \u001b[0mself\u001b[0m\u001b[0;34m.\u001b[0m\u001b[0m_frozen_credentials\u001b[0m\u001b[0;34m\u001b[0m\u001b[0;34m\u001b[0m\u001b[0m\n\u001b[1;32m    620\u001b[0m \u001b[0;34m\u001b[0m\u001b[0m\n",
      "\u001b[0;32m~/anaconda3/envs/deposit_v2/lib/python3.7/site-packages/botocore/credentials.py\u001b[0m in \u001b[0;36m_refresh\u001b[0;34m(self)\u001b[0m\n\u001b[1;32m    511\u001b[0m                 is_mandatory_refresh = self.refresh_needed(\n\u001b[1;32m    512\u001b[0m                     self._mandatory_refresh_timeout)\n\u001b[0;32m--> 513\u001b[0;31m                 \u001b[0mself\u001b[0m\u001b[0;34m.\u001b[0m\u001b[0m_protected_refresh\u001b[0m\u001b[0;34m(\u001b[0m\u001b[0mis_mandatory\u001b[0m\u001b[0;34m=\u001b[0m\u001b[0mis_mandatory_refresh\u001b[0m\u001b[0;34m)\u001b[0m\u001b[0;34m\u001b[0m\u001b[0;34m\u001b[0m\u001b[0m\n\u001b[0m\u001b[1;32m    514\u001b[0m                 \u001b[0;32mreturn\u001b[0m\u001b[0;34m\u001b[0m\u001b[0;34m\u001b[0m\u001b[0m\n\u001b[1;32m    515\u001b[0m             \u001b[0;32mfinally\u001b[0m\u001b[0;34m:\u001b[0m\u001b[0;34m\u001b[0m\u001b[0;34m\u001b[0m\u001b[0m\n",
      "\u001b[0;32m~/anaconda3/envs/deposit_v2/lib/python3.7/site-packages/botocore/credentials.py\u001b[0m in \u001b[0;36m_protected_refresh\u001b[0;34m(self, is_mandatory)\u001b[0m\n\u001b[1;32m    542\u001b[0m             \u001b[0;31m# set of temporary credentials we have.\u001b[0m\u001b[0;34m\u001b[0m\u001b[0;34m\u001b[0m\u001b[0;34m\u001b[0m\u001b[0m\n\u001b[1;32m    543\u001b[0m             \u001b[0;32mreturn\u001b[0m\u001b[0;34m\u001b[0m\u001b[0;34m\u001b[0m\u001b[0m\n\u001b[0;32m--> 544\u001b[0;31m         \u001b[0mself\u001b[0m\u001b[0;34m.\u001b[0m\u001b[0m_set_from_data\u001b[0m\u001b[0;34m(\u001b[0m\u001b[0mmetadata\u001b[0m\u001b[0;34m)\u001b[0m\u001b[0;34m\u001b[0m\u001b[0;34m\u001b[0m\u001b[0m\n\u001b[0m\u001b[1;32m    545\u001b[0m         self._frozen_credentials = ReadOnlyCredentials(\n\u001b[1;32m    546\u001b[0m             self._access_key, self._secret_key, self._token)\n",
      "\u001b[0;32m~/anaconda3/envs/deposit_v2/lib/python3.7/site-packages/botocore/credentials.py\u001b[0m in \u001b[0;36m_set_from_data\u001b[0;34m(self, data)\u001b[0m\n\u001b[1;32m    571\u001b[0m             raise CredentialRetrievalError(\n\u001b[1;32m    572\u001b[0m                 \u001b[0mprovider\u001b[0m\u001b[0;34m=\u001b[0m\u001b[0mself\u001b[0m\u001b[0;34m.\u001b[0m\u001b[0mmethod\u001b[0m\u001b[0;34m,\u001b[0m\u001b[0;34m\u001b[0m\u001b[0;34m\u001b[0m\u001b[0m\n\u001b[0;32m--> 573\u001b[0;31m                 \u001b[0merror_msg\u001b[0m\u001b[0;34m=\u001b[0m\u001b[0mmessage\u001b[0m \u001b[0;34m%\u001b[0m \u001b[0;34m', '\u001b[0m\u001b[0;34m.\u001b[0m\u001b[0mjoin\u001b[0m\u001b[0;34m(\u001b[0m\u001b[0mmissing_keys\u001b[0m\u001b[0;34m)\u001b[0m\u001b[0;34m,\u001b[0m\u001b[0;34m\u001b[0m\u001b[0;34m\u001b[0m\u001b[0m\n\u001b[0m\u001b[1;32m    574\u001b[0m             )\n\u001b[1;32m    575\u001b[0m \u001b[0;34m\u001b[0m\u001b[0m\n",
      "\u001b[0;31mCredentialRetrievalError\u001b[0m: Error when retrieving credentials from iam-role: Credential refresh failed, response did not contain: access_key, secret_key, token, expiry_time"
     ]
    }
   ],
   "source": [
    "models = {}\n",
    "for mname, s3_kwargs in benchmarks.items():\n",
    "    models[mname] = {\"model\": get_pickle_from_s3(s3_kwargs[\"bucket\"], s3_kwargs[\"key\"])}"
   ]
  },
  {
   "cell_type": "code",
   "execution_count": 6,
   "id": "b6f04257",
   "metadata": {},
   "outputs": [],
   "source": [
    "features = []\n",
    "for mname, obj in models.items():\n",
    "    features.extend(obj[\"model\"].feature_name_)\n",
    "features = sorted(list(set(features)))"
   ]
  },
  {
   "cell_type": "code",
   "execution_count": 7,
   "id": "d9270471",
   "metadata": {},
   "outputs": [
    {
     "name": "stdout",
     "output_type": "stream",
     "text": [
      "71\n",
      "['account_ending_balance', 'address_risk_score', 'age_money_account', 'all7120', 'all7120_default_encoded']\n"
     ]
    }
   ],
   "source": [
    "print(len(features))\n",
    "print(features[:5])"
   ]
  },
  {
   "cell_type": "code",
   "execution_count": 8,
   "id": "d7523963",
   "metadata": {},
   "outputs": [],
   "source": [
    "def features_startswith(prefix):\n",
    "    fn = lambda s: s[:len(prefix)] == prefix\n",
    "    return [s for s in features if fn(s)]"
   ]
  },
  {
   "cell_type": "code",
   "execution_count": 9,
   "id": "a3932a6e",
   "metadata": {},
   "outputs": [
    {
     "data": {
      "text/plain": [
       "['nr_direct_deposits',\n",
       " 'nr_past_deposits',\n",
       " 'nr_past_returns',\n",
       " 'nr_past_transactions',\n",
       " 'nr_returns_30d',\n",
       " 'nr_trans_ratio',\n",
       " 'nr_transactions_30d_div_nr_past_transactions',\n",
       " 'nr_transactions_per_day']"
      ]
     },
     "execution_count": 9,
     "metadata": {},
     "output_type": "execute_result"
    }
   ],
   "source": [
    "features_startswith(\"nr\")"
   ]
  },
  {
   "cell_type": "markdown",
   "id": "9ae84453",
   "metadata": {},
   "source": [
    "### Load Data and Eval\n",
    "---"
   ]
  },
  {
   "cell_type": "code",
   "execution_count": 10,
   "id": "da7f0e0c",
   "metadata": {},
   "outputs": [],
   "source": [
    "data_path = os.path.join(\"s3://sofi-data-science/jxu/money-risk-models/deposit-risk-v2-ach/data/\", \"2021-04-08\", \"tdf_2021-04-08.parquet\")\n",
    "tdf = pd.read_parquet(data_path)"
   ]
  },
  {
   "cell_type": "code",
   "execution_count": 11,
   "id": "184e9256",
   "metadata": {},
   "outputs": [],
   "source": [
    "def check_prefix(s):\n",
    "    prefixes = [\"trnx_\", \"banking_\", \"ecp_\", \"giact_\", \n",
    "                \"plaid_\", \"socure_\", \"bk_acct_rstr\"]\n",
    "    for p in prefixes:\n",
    "        if p == s[:len(p)]:\n",
    "            return True\n",
    "    return False\n",
    "    \n",
    "def get_updated_feature_name(fname, features):\n",
    "    \"\"\"\n",
    "    in the new pipeline we prefixed feature names with its source\n",
    "    e.g. is_return -> trnx_is_return, bcc7120 -> ecp_bcc7120\n",
    "    \n",
    "    let's find the updated feature name using this model\n",
    "    currently it can return both a list of features or a single feature\n",
    "    \"\"\"\n",
    "    result = [f for f in features if f.endswith(fname) and check_prefix(f)]\n",
    "    if len(result) == 1:\n",
    "        return result[0]\n",
    "    elif len(result) == 0:\n",
    "        print(f\"missing {fname}\")\n",
    "    else: \n",
    "        print(\"multiple options: \", result)\n",
    "    return result\n",
    "    \n",
    "def get_rename_mapper(missing_features):\n",
    "    m = dict([(f, get_updated_feature_name(f, tdf.columns)) \n",
    "              for f in missing_features])\n",
    "    return m"
   ]
  },
  {
   "cell_type": "code",
   "execution_count": 12,
   "id": "553edd17",
   "metadata": {},
   "outputs": [],
   "source": [
    "def get_df_w_renamed_cols(df, features):\n",
    "    missing_features = set(features) - set(df.columns)\n",
    "    kept_cols = list(set(df.columns) - set(features))\n",
    "    mapper = get_rename_mapper(missing_features)\n",
    "\n",
    "    features_renamed = [f if f not in mapper else mapper[f]\n",
    "                        for f in features]\n",
    "    features_renamed = [f for f in features_renamed if isinstance(f, str)]\n",
    "    \n",
    "    mdf = df[features_renamed + kept_cols]\n",
    "    mdf.columns = features + kept_cols\n",
    "    return mdf"
   ]
  },
  {
   "cell_type": "code",
   "execution_count": 13,
   "id": "ac151d86",
   "metadata": {},
   "outputs": [
    {
     "data": {
      "text/plain": [
       "{'bcc7120': 'ecp_bcc7120',\n",
       " 'bcc2800': 'ecp_bcc2800',\n",
       " 'iln5520': 'ecp_iln5520',\n",
       " 'vantage_score': 'ecp_vantage_score',\n",
       " 'mtf5820': 'ecp_mtf5820',\n",
       " 'phone_risk_score': 'socure_phone_risk_score',\n",
       " 'fraud_score_2': 'socure_fraud_score_2',\n",
       " 'stu5031': 'ecp_stu5031',\n",
       " 'iqt9415': 'ecp_iqt9415',\n",
       " 'email_risk_score': 'socure_email_risk_score',\n",
       " 'fraud_score_1': 'socure_fraud_score_1',\n",
       " 'fico_score': 'ecp_fico_score',\n",
       " 'transaction_amount': 'trnx_transaction_amount',\n",
       " 'bcx3423': 'ecp_bcx3423',\n",
       " 'all8220': 'ecp_all8220',\n",
       " 'all7120': 'ecp_all7120'}"
      ]
     },
     "execution_count": 13,
     "metadata": {},
     "output_type": "execute_result"
    }
   ],
   "source": [
    "missing_features = [\n",
    "    \"bcc7120\",\n",
    "    \"bcc2800\",\n",
    "    \"iln5520\",\n",
    "    \"vantage_score\",\n",
    "    \"mtf5820\",\n",
    "    \"phone_risk_score\",\n",
    "    \"fraud_score_2\",\n",
    "    \"stu5031\",\n",
    "    \"iqt9415\",\n",
    "    \"email_risk_score\",\n",
    "    \"fraud_score_1\",\n",
    "    \"fico_score\",\n",
    "    \"transaction_amount\",\n",
    "    \"bcx3423\",\n",
    "    \"all8220\",\n",
    "    \"all7120\",\n",
    "]\n",
    "mapper = get_rename_mapper(missing_features)\n",
    "mapper"
   ]
  },
  {
   "cell_type": "code",
   "execution_count": 14,
   "id": "34f55923",
   "metadata": {},
   "outputs": [],
   "source": [
    "model_ = models[\"deposit_v1\"][\"model\"]\n",
    "mdf = get_df_w_renamed_cols(tdf, model_.feature_name_)\n",
    "tdf[\"pred_deposit_v1\"] = model_.predict_proba(mdf[model_.feature_name_])[:, 1]"
   ]
  },
  {
   "cell_type": "code",
   "execution_count": 15,
   "id": "e5cb8565",
   "metadata": {},
   "outputs": [
    {
     "data": {
      "text/html": [
       "<div>\n",
       "<style scoped>\n",
       "    .dataframe tbody tr th:only-of-type {\n",
       "        vertical-align: middle;\n",
       "    }\n",
       "\n",
       "    .dataframe tbody tr th {\n",
       "        vertical-align: top;\n",
       "    }\n",
       "\n",
       "    .dataframe thead th {\n",
       "        text-align: right;\n",
       "    }\n",
       "</style>\n",
       "<table border=\"1\" class=\"dataframe\">\n",
       "  <thead>\n",
       "    <tr style=\"text-align: right;\">\n",
       "      <th></th>\n",
       "      <th>first_deposit_amount</th>\n",
       "      <th>vantage_score</th>\n",
       "      <th>bcc7120</th>\n",
       "      <th>email_risk_score</th>\n",
       "      <th>fraud_score_2</th>\n",
       "      <th>name_email_correlation</th>\n",
       "      <th>transaction_as_pct_of_balance</th>\n",
       "      <th>mean_account_balance_30d</th>\n",
       "      <th>phone_risk_score</th>\n",
       "      <th>name_address_correlation</th>\n",
       "      <th>...</th>\n",
       "      <th>ecp_iqt9415</th>\n",
       "      <th>nr_transactions_30d_div_nr_past_transactions</th>\n",
       "      <th>indeterminate_30d</th>\n",
       "      <th>days_since_first_transaction</th>\n",
       "      <th>ecp_iln5520</th>\n",
       "      <th>sum_deposits_3d</th>\n",
       "      <th>mean_deposits_10d_div_mean_deposits</th>\n",
       "      <th>max_deposits_10d_div_mean_account_balance_30d</th>\n",
       "      <th>trnx_time</th>\n",
       "      <th>ecp_stu5031</th>\n",
       "    </tr>\n",
       "  </thead>\n",
       "  <tbody>\n",
       "    <tr>\n",
       "      <th>0</th>\n",
       "      <td>500.0</td>\n",
       "      <td>NaN</td>\n",
       "      <td>NaN</td>\n",
       "      <td>0.0098</td>\n",
       "      <td>NaN</td>\n",
       "      <td>0.9999</td>\n",
       "      <td>inf</td>\n",
       "      <td>500.000000</td>\n",
       "      <td>0.0</td>\n",
       "      <td>0.9916</td>\n",
       "      <td>...</td>\n",
       "      <td>NaN</td>\n",
       "      <td>inf</td>\n",
       "      <td>False</td>\n",
       "      <td>0</td>\n",
       "      <td>NaN</td>\n",
       "      <td>500.00</td>\n",
       "      <td>1.000000</td>\n",
       "      <td>1.000000</td>\n",
       "      <td>00:36:29</td>\n",
       "      <td>NaN</td>\n",
       "    </tr>\n",
       "    <tr>\n",
       "      <th>1</th>\n",
       "      <td>500.0</td>\n",
       "      <td>NaN</td>\n",
       "      <td>NaN</td>\n",
       "      <td>0.0098</td>\n",
       "      <td>NaN</td>\n",
       "      <td>0.9999</td>\n",
       "      <td>1.577962</td>\n",
       "      <td>894.555000</td>\n",
       "      <td>0.0</td>\n",
       "      <td>0.9916</td>\n",
       "      <td>...</td>\n",
       "      <td>NaN</td>\n",
       "      <td>2.00</td>\n",
       "      <td>False</td>\n",
       "      <td>10</td>\n",
       "      <td>NaN</td>\n",
       "      <td>789.06</td>\n",
       "      <td>1.224241</td>\n",
       "      <td>0.882070</td>\n",
       "      <td>05:45:58</td>\n",
       "      <td>NaN</td>\n",
       "    </tr>\n",
       "    <tr>\n",
       "      <th>2</th>\n",
       "      <td>500.0</td>\n",
       "      <td>NaN</td>\n",
       "      <td>NaN</td>\n",
       "      <td>0.0098</td>\n",
       "      <td>NaN</td>\n",
       "      <td>0.9999</td>\n",
       "      <td>0.077573</td>\n",
       "      <td>1059.406667</td>\n",
       "      <td>0.0</td>\n",
       "      <td>0.9916</td>\n",
       "      <td>...</td>\n",
       "      <td>NaN</td>\n",
       "      <td>1.00</td>\n",
       "      <td>False</td>\n",
       "      <td>15</td>\n",
       "      <td>NaN</td>\n",
       "      <td>0.00</td>\n",
       "      <td>0.918181</td>\n",
       "      <td>0.744813</td>\n",
       "      <td>11:33:43</td>\n",
       "      <td>NaN</td>\n",
       "    </tr>\n",
       "    <tr>\n",
       "      <th>3</th>\n",
       "      <td>500.0</td>\n",
       "      <td>NaN</td>\n",
       "      <td>NaN</td>\n",
       "      <td>0.0098</td>\n",
       "      <td>NaN</td>\n",
       "      <td>0.9999</td>\n",
       "      <td>0.568033</td>\n",
       "      <td>1339.097500</td>\n",
       "      <td>0.0</td>\n",
       "      <td>0.9916</td>\n",
       "      <td>...</td>\n",
       "      <td>NaN</td>\n",
       "      <td>1.00</td>\n",
       "      <td>False</td>\n",
       "      <td>24</td>\n",
       "      <td>NaN</td>\n",
       "      <td>789.06</td>\n",
       "      <td>0.759398</td>\n",
       "      <td>0.589248</td>\n",
       "      <td>06:47:05</td>\n",
       "      <td>NaN</td>\n",
       "    </tr>\n",
       "    <tr>\n",
       "      <th>4</th>\n",
       "      <td>500.0</td>\n",
       "      <td>NaN</td>\n",
       "      <td>NaN</td>\n",
       "      <td>0.0098</td>\n",
       "      <td>NaN</td>\n",
       "      <td>0.9999</td>\n",
       "      <td>0.362059</td>\n",
       "      <td>1956.205000</td>\n",
       "      <td>0.0</td>\n",
       "      <td>0.9916</td>\n",
       "      <td>...</td>\n",
       "      <td>NaN</td>\n",
       "      <td>0.75</td>\n",
       "      <td>False</td>\n",
       "      <td>38</td>\n",
       "      <td>NaN</td>\n",
       "      <td>789.06</td>\n",
       "      <td>1.376021</td>\n",
       "      <td>0.403363</td>\n",
       "      <td>05:45:57</td>\n",
       "      <td>NaN</td>\n",
       "    </tr>\n",
       "  </tbody>\n",
       "</table>\n",
       "<p>5 rows × 232 columns</p>\n",
       "</div>"
      ],
      "text/plain": [
       "   first_deposit_amount  vantage_score  bcc7120  email_risk_score  \\\n",
       "0                 500.0            NaN      NaN            0.0098   \n",
       "1                 500.0            NaN      NaN            0.0098   \n",
       "2                 500.0            NaN      NaN            0.0098   \n",
       "3                 500.0            NaN      NaN            0.0098   \n",
       "4                 500.0            NaN      NaN            0.0098   \n",
       "\n",
       "   fraud_score_2  name_email_correlation  transaction_as_pct_of_balance  \\\n",
       "0            NaN                  0.9999                            inf   \n",
       "1            NaN                  0.9999                       1.577962   \n",
       "2            NaN                  0.9999                       0.077573   \n",
       "3            NaN                  0.9999                       0.568033   \n",
       "4            NaN                  0.9999                       0.362059   \n",
       "\n",
       "   mean_account_balance_30d  phone_risk_score  name_address_correlation  ...  \\\n",
       "0                500.000000               0.0                    0.9916  ...   \n",
       "1                894.555000               0.0                    0.9916  ...   \n",
       "2               1059.406667               0.0                    0.9916  ...   \n",
       "3               1339.097500               0.0                    0.9916  ...   \n",
       "4               1956.205000               0.0                    0.9916  ...   \n",
       "\n",
       "   ecp_iqt9415  nr_transactions_30d_div_nr_past_transactions  \\\n",
       "0          NaN                                           inf   \n",
       "1          NaN                                          2.00   \n",
       "2          NaN                                          1.00   \n",
       "3          NaN                                          1.00   \n",
       "4          NaN                                          0.75   \n",
       "\n",
       "   indeterminate_30d  days_since_first_transaction  ecp_iln5520  \\\n",
       "0              False                             0          NaN   \n",
       "1              False                            10          NaN   \n",
       "2              False                            15          NaN   \n",
       "3              False                            24          NaN   \n",
       "4              False                            38          NaN   \n",
       "\n",
       "   sum_deposits_3d  mean_deposits_10d_div_mean_deposits  \\\n",
       "0           500.00                             1.000000   \n",
       "1           789.06                             1.224241   \n",
       "2             0.00                             0.918181   \n",
       "3           789.06                             0.759398   \n",
       "4           789.06                             1.376021   \n",
       "\n",
       "   max_deposits_10d_div_mean_account_balance_30d  trnx_time  ecp_stu5031  \n",
       "0                                       1.000000   00:36:29          NaN  \n",
       "1                                       0.882070   05:45:58          NaN  \n",
       "2                                       0.744813   11:33:43          NaN  \n",
       "3                                       0.589248   06:47:05          NaN  \n",
       "4                                       0.403363   05:45:57          NaN  \n",
       "\n",
       "[5 rows x 232 columns]"
      ]
     },
     "execution_count": 15,
     "metadata": {},
     "output_type": "execute_result"
    }
   ],
   "source": [
    "model_ = models[\"customer\"][\"model\"]\n",
    "features_ = [f for f in model_.feature_name_ if \"_encoded\" not in f]\n",
    "mdf = get_df_w_renamed_cols(tdf, features_)\n",
    "mdf.head()"
   ]
  },
  {
   "cell_type": "code",
   "execution_count": 16,
   "id": "de1d03c9",
   "metadata": {},
   "outputs": [],
   "source": [
    "mdf[\"transaction_code\"] = mdf[\"trnx_transaction_code\"]\n",
    "mdf = cu.preprocess(mdf)\n",
    "mdf = get_df_w_renamed_cols(mdf, model_.feature_name_)\n",
    "tdf[\"pred_customer\"] = model_.predict_proba(mdf[model_.feature_name_])[:, 1]"
   ]
  },
  {
   "cell_type": "code",
   "execution_count": 17,
   "id": "fa3f35da",
   "metadata": {},
   "outputs": [
    {
     "data": {
      "text/plain": [
       "Index(['pred_deposit_v1', 'pred_customer'], dtype='object')"
      ]
     },
     "execution_count": 17,
     "metadata": {},
     "output_type": "execute_result"
    }
   ],
   "source": [
    "tdf.columns[tdf.columns.str.contains(\"pred\")]"
   ]
  },
  {
   "cell_type": "code",
   "execution_count": 19,
   "id": "58dea35c",
   "metadata": {},
   "outputs": [
    {
     "data": {
      "image/png": "[encoded data removed]",
      "text/plain": [
       "<Figure size 576x396 with 1 Axes>"
      ]
     },
     "metadata": {},
     "output_type": "display_data"
    }
   ],
   "source": [
    "plt.style.use(\"seaborn\")\n",
    "for p in tdf.columns[tdf.columns.str.contains(\"pred\")]:\n",
    "    tdf[p].hist(bins=100, alpha=0.4)"
   ]
  },
  {
   "cell_type": "code",
   "execution_count": null,
   "id": "42559f7e",
   "metadata": {},
   "outputs": [],
   "source": []
  },
  {
   "cell_type": "code",
   "execution_count": null,
   "id": "07bca27c",
   "metadata": {},
   "outputs": [],
   "source": []
  },
  {
   "cell_type": "code",
   "execution_count": null,
   "id": "4696b240",
   "metadata": {},
   "outputs": [],
   "source": []
  }
 ],
 "metadata": {
  "kernelspec": {
   "display_name": "conda_deposit_v2",
   "language": "python",
   "name": "conda_deposit_v2"
  },
  "language_info": {
   "codemirror_mode": {
    "name": "ipython",
    "version": 3
   },
   "file_extension": ".py",
   "mimetype": "text/x-python",
   "name": "python",
   "nbconvert_exporter": "python",
   "pygments_lexer": "ipython3",
   "version": "3.7.10"
  }
 },
 "nbformat": 4,
 "nbformat_minor": 5
}
