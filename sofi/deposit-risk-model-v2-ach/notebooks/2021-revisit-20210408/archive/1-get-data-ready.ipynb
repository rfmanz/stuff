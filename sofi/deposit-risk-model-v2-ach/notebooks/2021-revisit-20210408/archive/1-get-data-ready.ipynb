{
 "cells": [
  {
   "cell_type": "markdown",
   "id": "d056ebe7",
   "metadata": {},
   "source": [
    "### Get Data Ready\n",
    "---"
   ]
  },
  {
   "cell_type": "code",
   "execution_count": 2,
   "id": "6a49e69e",
   "metadata": {},
   "outputs": [],
   "source": [
    "import json, sys, os\n",
    "sys.path.insert(1, \"../..\")\n",
    "import numpy as np\n",
    "import pandas as pd\n",
    "from rdsutils.datasets import DataLoader\n",
    "from src.utils import get_data_dir\n",
    "\n",
    "import matplotlib.pyplot as plt\n",
    "import seaborn as sns\n",
    "\n",
    "plt.style.use('ggplot')\n",
    "%load_ext autoreload\n",
    "%autoreload 2"
   ]
  },
  {
   "cell_type": "code",
   "execution_count": 14,
   "id": "53c3a574",
   "metadata": {},
   "outputs": [],
   "source": [
    "with open(\"../../config.json\", \"r\") as f:\n",
    "    config = json.load(f)"
   ]
  },
  {
   "cell_type": "code",
   "execution_count": 15,
   "id": "9e05ba99",
   "metadata": {},
   "outputs": [
    {
     "data": {
      "text/plain": [
       "(1135376, 212)"
      ]
     },
     "execution_count": 15,
     "metadata": {},
     "output_type": "execute_result"
    }
   ],
   "source": [
    "# the last stage for the ETL is \"features\", for this task\n",
    "# labeling was carried out in \"features\" stage for technical debt reasons\n",
    "\n",
    "base_path = os.path.join(\"../..\", config[\"base_path\"])\n",
    "data_dir = get_data_dir(config, base_path, \"labeled\")\n",
    "\n",
    "# modify the columns\n",
    "dl = DataLoader(data_dir)\n",
    "df = dl.get_full()\n",
    "df.shape"
   ]
  },
  {
   "cell_type": "code",
   "execution_count": 17,
   "id": "332caa11",
   "metadata": {},
   "outputs": [
    {
     "data": {
      "text/plain": [
       "<AxesSubplot:>"
      ]
     },
     "execution_count": 17,
     "metadata": {},
     "output_type": "execute_result"
    },
    {
     "data": {
      "image/png": "[encoded data removed]",
      "text/plain": [
       "<Figure size 432x288 with 1 Axes>"
      ]
     },
     "metadata": {},
     "output_type": "display_data"
    }
   ],
   "source": [
    "df.transaction_datetime.hist(bins=100)"
   ]
  },
  {
   "cell_type": "code",
   "execution_count": null,
   "id": "30c130b9",
   "metadata": {},
   "outputs": [],
   "source": []
  }
 ],
 "metadata": {
  "kernelspec": {
   "display_name": "conda_deposit_v2",
   "language": "python",
   "name": "conda_deposit_v2"
  },
  "language_info": {
   "codemirror_mode": {
    "name": "ipython",
    "version": 3
   },
   "file_extension": ".py",
   "mimetype": "text/x-python",
   "name": "python",
   "nbconvert_exporter": "python",
   "pygments_lexer": "ipython3",
   "version": "3.7.10"
  }
 },
 "nbformat": 4,
 "nbformat_minor": 5
}
