{
 "cells": [
  {
   "cell_type": "markdown",
   "id": "fad6351e",
   "metadata": {},
   "source": [
    "# Build ACH Model\n",
    "---"
   ]
  },
  {
   "cell_type": "code",
   "execution_count": 1,
   "id": "f9c0d691",
   "metadata": {},
   "outputs": [],
   "source": [
    "## first merge modeling_df and test_df with the newly created features\n",
    "\n",
    "import json, os, sys\n",
    "sys.path.insert(1, \"../..\")\n",
    "from src.utils import remove_prefixs, _to_parquet\n",
    "import pandas as pd\n",
    "import numpy as np\n",
    "import pickle as pkl\n",
    "from rdsutils.aws import download_s3 #, python_object_to_s3\n",
    "from rdsutils.lightgbm_helpers import train_lgb_baseline_grouped\n",
    "import rdsutils.plot as rdsplot\n",
    "\n",
    "import matplotlib.pyplot as plt\n",
    "import seaborn as sns\n",
    "\n",
    "plt.style.use('ggplot')\n",
    "%load_ext autoreload\n",
    "%autoreload 2"
   ]
  },
  {
   "cell_type": "code",
   "execution_count": 2,
   "id": "9a7cbe8f",
   "metadata": {},
   "outputs": [],
   "source": [
    "with open(\"../../config.json\", \"r\") as f:\n",
    "    config = json.load(f)\n",
    "    \n",
    "\n",
    "path = config[\"data\"][\"labeled\"][\"labeled\"]\n",
    "df = pd.read_parquet(os.path.join(\"../../data\", path))"
   ]
  },
  {
   "cell_type": "code",
   "execution_count": 3,
   "id": "2c003825",
   "metadata": {},
   "outputs": [],
   "source": [
    "modeling_df = df[df[\"transaction_datetime\"].between(pd.to_datetime('2020-05-01'),\n",
    "                                                    pd.to_datetime('2020-07-31'))]\n",
    "test_df = df[df[\"transaction_datetime\"].between(pd.to_datetime('2020-08-01'),\n",
    "                                                pd.to_datetime('2021-04-30'))]"
   ]
  },
  {
   "cell_type": "code",
   "execution_count": 4,
   "id": "413fe0cc",
   "metadata": {},
   "outputs": [
    {
     "data": {
      "text/plain": [
       "Index(['trnx_is_return', 'is_return', 'is_returned'], dtype='object')"
      ]
     },
     "execution_count": 4,
     "metadata": {},
     "output_type": "execute_result"
    }
   ],
   "source": [
    "modeling_df.columns[modeling_df.columns.str.contains(\"is_return\")]"
   ]
  },
  {
   "cell_type": "markdown",
   "id": "d1c81482",
   "metadata": {},
   "source": [
    "### Data Statistics"
   ]
  },
  {
   "cell_type": "code",
   "execution_count": 5,
   "id": "89cf05bd",
   "metadata": {},
   "outputs": [
    {
     "data": {
      "text/plain": [
       "(False    108825\n",
       " True       3774\n",
       " Name: is_returned, dtype: int64,\n",
       " False    0.966483\n",
       " True     0.033517\n",
       " Name: is_returned, dtype: float64)"
      ]
     },
     "execution_count": 5,
     "metadata": {},
     "output_type": "execute_result"
    }
   ],
   "source": [
    "modeling_df.is_returned.value_counts(), modeling_df.is_returned.value_counts(normalize=True)"
   ]
  },
  {
   "cell_type": "code",
   "execution_count": 6,
   "id": "e13b7401",
   "metadata": {},
   "outputs": [
    {
     "data": {
      "text/plain": [
       "(False    499670\n",
       " True      23423\n",
       " Name: is_returned, dtype: int64,\n",
       " False    0.955222\n",
       " True     0.044778\n",
       " Name: is_returned, dtype: float64)"
      ]
     },
     "execution_count": 6,
     "metadata": {},
     "output_type": "execute_result"
    }
   ],
   "source": [
    "test_df.is_returned.value_counts(), test_df.is_returned.value_counts(normalize=True)"
   ]
  },
  {
   "cell_type": "code",
   "execution_count": 7,
   "id": "7104746a",
   "metadata": {},
   "outputs": [],
   "source": [
    "modeling_df.columns = remove_prefixs(modeling_df.columns)\n",
    "test_df.columns = remove_prefixs(test_df.columns)"
   ]
  },
  {
   "cell_type": "code",
   "execution_count": 8,
   "id": "bc3b3a9d",
   "metadata": {},
   "outputs": [
    {
     "data": {
      "text/plain": [
       "28.835453100158983"
      ]
     },
     "execution_count": 8,
     "metadata": {},
     "output_type": "execute_result"
    }
   ],
   "source": [
    "1/modeling_df.is_returned.value_counts(normalize=True).loc[True]-1"
   ]
  },
  {
   "cell_type": "code",
   "execution_count": 9,
   "id": "18549d5f",
   "metadata": {},
   "outputs": [],
   "source": [
    "modeling_df.reset_index(drop=True, inplace=True)\n",
    "test_df.reset_index(drop=True, inplace=True)"
   ]
  },
  {
   "cell_type": "code",
   "execution_count": 10,
   "id": "08a4e0ca",
   "metadata": {},
   "outputs": [],
   "source": [
    "_to_parquet(modeling_df.reset_index(), 's3://sofi-data-science/jxu/money-risk-models/deposit-risk-v2-ach/data/2021-05-19/modeling_df.parquet')\n",
    "_to_parquet(test_df.reset_index(), 's3://sofi-data-science/jxu/money-risk-models/deposit-risk-v2-ach/data/2021-05-19/test_df.parquet')"
   ]
  },
  {
   "cell_type": "code",
   "execution_count": 11,
   "id": "9f9829ab",
   "metadata": {},
   "outputs": [],
   "source": [
    "_to_parquet(modeling_df.reset_index(), 's3://sofi-data-science/jxu/money-risk-models/deposit-risk-v2-mcd/data/2021-05-19/modeling_df.parquet')\n",
    "_to_parquet(test_df.reset_index(), 's3://sofi-data-science/jxu/money-risk-models/deposit-risk-v2-mcd/data/2021-05-19/test_df.parquet')"
   ]
  }
 ],
 "metadata": {
  "kernelspec": {
   "display_name": "conda_deposit_v2",
   "language": "python",
   "name": "conda_deposit_v2"
  },
  "language_info": {
   "codemirror_mode": {
    "name": "ipython",
    "version": 3
   },
   "file_extension": ".py",
   "mimetype": "text/x-python",
   "name": "python",
   "nbconvert_exporter": "python",
   "pygments_lexer": "ipython3",
   "version": "3.7.10"
  }
 },
 "nbformat": 4,
 "nbformat_minor": 5
}
