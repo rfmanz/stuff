{
 "cells": [
  {
   "cell_type": "code",
   "execution_count": 1,
   "id": "056291cb",
   "metadata": {},
   "outputs": [],
   "source": [
    "## first merge modeling_df and test_df with the newly created features\n",
    "\n",
    "import json, os, sys\n",
    "sys.path.insert(1, \"../..\")\n",
    "from src.utils import remove_prefixs, _to_parquet\n",
    "import pandas as pd\n",
    "import numpy as np\n",
    "import pickle as pkl\n",
    "from rdsutils.aws import download_s3 #, python_object_to_s3\n",
    "from rdsutils.lightgbm_helpers import train_lgb_baseline_grouped\n",
    "import rdsutils.plot as rdsplot\n",
    "\n",
    "import matplotlib.pyplot as plt\n",
    "import seaborn as sns\n",
    "\n",
    "plt.style.use('ggplot')\n",
    "%load_ext autoreload\n",
    "%autoreload 2"
   ]
  },
  {
   "cell_type": "code",
   "execution_count": 11,
   "id": "3f4304b4",
   "metadata": {},
   "outputs": [],
   "source": [
    "with open(\"../../config.json\", \"r\") as f:\n",
    "    config = json.load(f)\n",
    "    "
   ]
  },
  {
   "cell_type": "code",
   "execution_count": 12,
   "id": "00d571da",
   "metadata": {},
   "outputs": [],
   "source": [
    "f = config[\"features\"]\n",
    "mc = config[\"model_params\"][\"monotone_constraints\"]"
   ]
  },
  {
   "cell_type": "code",
   "execution_count": 13,
   "id": "4b089341",
   "metadata": {},
   "outputs": [
    {
     "data": {
      "text/plain": [
       "(['vantage_score',\n",
       "  'first_deposit_amount',\n",
       "  'bcc7120',\n",
       "  'credit_card_loan_amount',\n",
       "  'plaid_max_avail_bal',\n",
       "  'total_tradelines_open',\n",
       "  'plaid_days_since_first_link',\n",
       "  'nr_transactions_30d_div_nr_past_transactions',\n",
       "  'plaid_min_avail_bal',\n",
       "  'nr_transactions_per_day',\n",
       "  'max_deposits_10d_div_mean_account_balance_30d',\n",
       "  'fico_score',\n",
       "  'sum_deposits_10d',\n",
       "  'total_outstanding_balance',\n",
       "  'rolling_trns_as_pct_of_bal',\n",
       "  'phone_risk_score',\n",
       "  'email_risk_score',\n",
       "  'deposits_ratio',\n",
       "  'fraud_score_1',\n",
       "  'mean_deposits_10d_div_mean_deposits',\n",
       "  'fraud_score_2',\n",
       "  'nr_past_deposits',\n",
       "  'address_risk_score'],\n",
       " [-1,\n",
       "  -1,\n",
       "  -1,\n",
       "  -1,\n",
       "  -1,\n",
       "  -1,\n",
       "  1,\n",
       "  1,\n",
       "  -1,\n",
       "  1,\n",
       "  1,\n",
       "  -1,\n",
       "  -1,\n",
       "  -1,\n",
       "  1,\n",
       "  1,\n",
       "  1,\n",
       "  1,\n",
       "  1,\n",
       "  -1,\n",
       "  1,\n",
       "  -1,\n",
       "  1])"
      ]
     },
     "execution_count": 13,
     "metadata": {},
     "output_type": "execute_result"
    }
   ],
   "source": [
    "f, mc"
   ]
  },
  {
   "cell_type": "code",
   "execution_count": null,
   "id": "7b9ff00b",
   "metadata": {},
   "outputs": [],
   "source": []
  }
 ],
 "metadata": {
  "kernelspec": {
   "display_name": "conda_deposit_v2",
   "language": "python",
   "name": "conda_deposit_v2"
  },
  "language_info": {
   "codemirror_mode": {
    "name": "ipython",
    "version": 3
   },
   "file_extension": ".py",
   "mimetype": "text/x-python",
   "name": "python",
   "nbconvert_exporter": "python",
   "pygments_lexer": "ipython3",
   "version": "3.7.10"
  }
 },
 "nbformat": 4,
 "nbformat_minor": 5
}
