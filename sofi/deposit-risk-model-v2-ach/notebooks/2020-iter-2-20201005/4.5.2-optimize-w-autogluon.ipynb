{
 "cells": [
  {
   "cell_type": "markdown",
   "metadata": {},
   "source": [
    "### Optimize ACH with AutoGluon\n",
    "---\n",
    "- See example [here](https://github.com/aws/amazon-sagemaker-examples/tree/master/advanced_functionality/autogluon-tabular).\n",
    "- [Quick Start](https://autogluon.mxnet.io/tutorials/tabular_prediction/tabular-quickstart.html)\n",
    "- [In-Depth](https://autogluon.mxnet.io/tutorials/tabular_prediction/tabular-indepth.html#model-distillation)\n",
    "- [Tabular-fit api](https://autogluon.mxnet.io/api/autogluon.task.html#autogluon.task.TabularPrediction.fit)"
   ]
  },
  {
   "cell_type": "code",
   "execution_count": null,
   "metadata": {},
   "outputs": [],
   "source": [
    "# !pip uninstall rdsutils --yes\n",
    "# !pip install -i https://repository.sofi.com/artifactory/api/pypi/pypi/simple rdsutils --no-cache-dir"
   ]
  },
  {
   "cell_type": "markdown",
   "metadata": {},
   "source": [
    "#### Installation"
   ]
  },
  {
   "cell_type": "code",
   "execution_count": null,
   "metadata": {
    "local_metadata": {},
    "remote_metadata": {
     "collapsed": true,
     "jupyter": {
      "outputs_hidden": true
     }
    }
   },
   "outputs": [],
   "source": [
    "# !python3 -m pip install --upgrade pip\n",
    "# !python3 -m pip install --upgrade \"mxnet<2.0.0\"\n",
    "# !python3 -m pip install autogluon\n",
    "# !pip install bokeh==2.0.1"
   ]
  },
  {
   "cell_type": "markdown",
   "metadata": {},
   "source": [
    "#### Import modules"
   ]
  },
  {
   "cell_type": "code",
   "execution_count": null,
   "metadata": {},
   "outputs": [],
   "source": [
    "import os, sys\n",
    "import pickle as pkl\n",
    "import pandas as pd\n",
    "import autogluon as ag\n",
    "from autogluon import TabularPrediction as task\n",
    "\n",
    "from rdsutils import datagen\n",
    "from rdsutils import plot\n",
    "\n",
    "%load_ext autoreload\n",
    "%autoreload 2\n",
    "\n",
    "import warnings\n",
    "warnings.filterwarnings(action='ignore')"
   ]
  },
  {
   "cell_type": "markdown",
   "metadata": {},
   "source": [
    "#### Load and Clean data"
   ]
  },
  {
   "cell_type": "code",
   "execution_count": null,
   "metadata": {},
   "outputs": [],
   "source": [
    "modeling_df = pd.read_parquet('../../artifacts/20201005/modeling_df_w_baseline_preds.parquet')\n",
    "modeling_df['account_ending_balance'] = modeling_df['real_ending_balance']\n",
    "modeling_df['days_since_first_transaction'] = modeling_df['days_since_first_deposit']\n",
    "modeling_df['ach_target'] = modeling_df['is_returned']"
   ]
  },
  {
   "cell_type": "code",
   "execution_count": null,
   "metadata": {},
   "outputs": [],
   "source": [
    "# get boruta features\n",
    "boruta_features = pkl.load(open('../../artifacts/20201005/boruta_features.pkl', 'rb'))"
   ]
  },
  {
   "cell_type": "markdown",
   "metadata": {},
   "source": [
    "#### Train Test Split"
   ]
  },
  {
   "cell_type": "code",
   "execution_count": null,
   "metadata": {},
   "outputs": [],
   "source": [
    "modeling_dfs = datagen.GroupKFoldGenerator(modeling_df, 5, \n",
    "                              strategize_by='ach_target', \n",
    "                              groupby='business_account_number')\n",
    "train, test = next(modeling_dfs)"
   ]
  },
  {
   "cell_type": "code",
   "execution_count": null,
   "metadata": {},
   "outputs": [],
   "source": [
    "modeling_dfs_ = datagen.GroupKFoldGenerator(train, 4, \n",
    "                              strategize_by='ach_target', \n",
    "                              groupby='business_account_number')\n",
    "train, valid = next(modeling_dfs_)"
   ]
  },
  {
   "cell_type": "code",
   "execution_count": null,
   "metadata": {},
   "outputs": [],
   "source": [
    "train.shape, valid.shape, test.shape, modeling_df.shape"
   ]
  },
  {
   "cell_type": "markdown",
   "metadata": {},
   "source": [
    "#### Set AutoGluon Datasets"
   ]
  },
  {
   "cell_type": "code",
   "execution_count": null,
   "metadata": {},
   "outputs": [],
   "source": [
    "target_col = 'ach_target'\n",
    "features = boruta_features\n",
    "id_col = 'business_account_number'\n",
    "pos_wgt_scaling_factor = datagen.get_positive_label_weight(train[target_col])\n",
    "\n",
    "train_data = task.Dataset(df=train[features+[target_col]+[id_col]])\n",
    "valid_data = task.Dataset(df=valid[features+[target_col]+[id_col]])\n",
    "test_data = task.Dataset(df=test[features+[target_col]+[id_col]])"
   ]
  },
  {
   "cell_type": "code",
   "execution_count": null,
   "metadata": {},
   "outputs": [],
   "source": [
    "train_data.head()"
   ]
  },
  {
   "cell_type": "markdown",
   "metadata": {},
   "source": [
    "#### Train Models"
   ]
  },
  {
   "cell_type": "markdown",
   "metadata": {},
   "source": [
    "`fit` documentations: [here](https://autogluon.mxnet.io/api/autogluon.task.html#autogluon.task.TabularPrediction.fit)"
   ]
  },
  {
   "cell_type": "code",
   "execution_count": null,
   "metadata": {},
   "outputs": [],
   "source": [
    "metric = 'f1'   # 'roc_auc', 'f1', 'average_precision'\n",
    "path = '../../artifacts/autogluon-ach'\n",
    "os.makedirs(path, exist_ok=True)\n",
    "\n",
    "\n",
    "hp_tune = True\n",
    "time_limits = 10*60  # 2mins\n",
    "cat_options = {  # specifies non-default hyperparameter values for lightGBM gradient boosted trees\n",
    "    'l2_leaf_reg': ag.space.Real(lower=0, upper=20, default=5),\n",
    "    'min_data_in_leaf': ag.space.Int(lower=10, upper=50, default=30),\n",
    "    'depth' : ag.space.Int(lower=2, upper=5, default=3),\n",
    "    'learning_rate': ag.space.Real(1e-3, 1e-1, default=1e-2),\n",
    "    'bagging_temperature' : ag.space.Real(0, 100, default=0.5),\n",
    "    'scale_pos_weight': pos_wgt_scaling_factor,\n",
    "}\n",
    "\n",
    "gbm_options = {  # specifies non-default hyperparameter values for lightGBM gradient boosted trees\n",
    "    'num_leaves' : ag.space.Int(lower=5, upper=20, default=10),\n",
    "    'lambda_l1': ag.space.Real(lower=0, upper=20, default=5),\n",
    "    'lambda_l2': ag.space.Real(lower=0, upper=20, default=5),\n",
    "    'min_data_in_leaf': ag.space.Int(lower=10, upper=50, default=30),\n",
    "    'max_depth' : ag.space.Int(lower=2, upper=5, default=3),\n",
    "    'num_boost_round': ag.space.Int(lower=100, upper=2000, default=500),\n",
    "    'learning_rate': ag.space.Real(1e-3, 1e-1, default=1e-2),\n",
    "    'feature_fraction' : ag.space.Real(0.1, 0.8, default=0.5),\n",
    "    'scale_pos_weight': pos_wgt_scaling_factor,\n",
    "}\n",
    "\n",
    "predictor = task.fit(train_data=train_data, \n",
    "                     tuning_data=valid_data,\n",
    "                     label=target_col, \n",
    "                     output_directory=path, \n",
    "                     eval_metric=metric,\n",
    "                     time_limits=time_limits,\n",
    "                     hyperparameter_tune=hp_tune,\n",
    "                     hyperparameters={'CAT':cat_options,\n",
    "                                      'GBM':gbm_options},\n",
    "                     search_strategy='skopt') "
   ]
  },
  {
   "cell_type": "code",
   "execution_count": null,
   "metadata": {},
   "outputs": [],
   "source": [
    "try:\n",
    "    y_true = test_data[target_col]\n",
    "    test_data = test_data.drop(labels=[target_col], axis=1)\n",
    "except:\n",
    "    pass\n",
    "test_data.head()"
   ]
  },
  {
   "cell_type": "code",
   "execution_count": null,
   "metadata": {},
   "outputs": [],
   "source": [
    "predictor = task.load(path)\n",
    "y_pred = predictor.predict(test_data)\n",
    "perf = predictor.evaluate_predictions(y_true=y_true, y_pred=y_pred, auxiliary_metrics=True, )"
   ]
  },
  {
   "cell_type": "code",
   "execution_count": null,
   "metadata": {},
   "outputs": [],
   "source": [
    "perf"
   ]
  },
  {
   "cell_type": "code",
   "execution_count": null,
   "metadata": {},
   "outputs": [],
   "source": [
    "model = None  # 'LightGBMClassifier', 'CatboostClassifier', 'weighted_ensemble_k0_l1'\n",
    "predictor = task.load(path)\n",
    "y_pred = predictor.predict_proba(test_data, model=model)\n",
    "test['autogluon_pred_1005'] = y_pred"
   ]
  },
  {
   "cell_type": "code",
   "execution_count": null,
   "metadata": {},
   "outputs": [],
   "source": [
    "predictor.fit_summary(3);"
   ]
  },
  {
   "cell_type": "code",
   "execution_count": null,
   "metadata": {},
   "outputs": [],
   "source": [
    "model = 'LightGBMClassifier/trial_18'  # 'LightGBMClassifier', 'CatboostClassifier', 'weighted_ensemble_k0_l1'\n",
    "predictor = task.load(path)\n",
    "y_pred = predictor.predict_proba(test_data, model=model)\n",
    "test['autogluon_pred_1005'] = y_pred"
   ]
  },
  {
   "cell_type": "code",
   "execution_count": null,
   "metadata": {},
   "outputs": [],
   "source": [
    "lb = predictor.leaderboard(test, silent=True, extra_info=True)"
   ]
  },
  {
   "cell_type": "code",
   "execution_count": null,
   "metadata": {},
   "outputs": [],
   "source": [
    "preds = [(test['deposit_v1_pred'], 'deposit_v1_pred'), \n",
    "         (test['boruta_pred_1005'], 'boruta_pred_1005'), \n",
    "         (test['autogluon_pred_1005'], 'autogluon_pred_1005')]\n",
    "title = 'Precision-Recall curve: Baseline Comparison'\n",
    "plot.plot_pr_curve_mult(test[target_col], preds,\n",
    "                   title=title, colors = ['r', 'g', 'b'])"
   ]
  },
  {
   "cell_type": "code",
   "execution_count": null,
   "metadata": {},
   "outputs": [],
   "source": [
    "plot.plot_auc_curve_mult(test[target_col], preds,\n",
    "                   title=title, colors = ['r', 'g', 'b'])"
   ]
  },
  {
   "cell_type": "code",
   "execution_count": null,
   "metadata": {},
   "outputs": [],
   "source": [
    "def get_best_hyperparams(predictor, model_type, leader_board=None):\n",
    "    \"\"\"\n",
    "    Get the hyperparams of the best model of <model_type> from AutoGluon predictor\n",
    "    \n",
    "    @returns model rank, model_params\n",
    "    \"\"\"\n",
    "    import numpy as np\n",
    "    \n",
    "    if leader_board is None:\n",
    "        leader_board = predictor.leaderboard(extra_info=True, silent=True)\n",
    "    \n",
    "    for rank, row in lb.iterrows():\n",
    "        if model_type in row['model']:\n",
    "            return (rank, row['hyperparameters'])\n",
    "    return (np.nan, \"No such model found\")"
   ]
  },
  {
   "cell_type": "code",
   "execution_count": null,
   "metadata": {},
   "outputs": [],
   "source": [
    "model_rank, lgbm_params = get_best_hyperparams(predictor, model_type='LightGBM', leader_board=lb)\n",
    "lgbm_params"
   ]
  },
  {
   "cell_type": "code",
   "execution_count": null,
   "metadata": {},
   "outputs": [],
   "source": []
  },
  {
   "cell_type": "code",
   "execution_count": null,
   "metadata": {},
   "outputs": [],
   "source": []
  }
 ],
 "metadata": {
  "kernelspec": {
   "display_name": "conda_ml_basic_py37",
   "language": "python",
   "name": "conda_ml_basic_py37"
  },
  "language_info": {
   "codemirror_mode": {
    "name": "ipython",
    "version": 3
   },
   "file_extension": ".py",
   "mimetype": "text/x-python",
   "name": "python",
   "nbconvert_exporter": "python",
   "pygments_lexer": "ipython3",
   "version": "3.7.8"
  }
 },
 "nbformat": 4,
 "nbformat_minor": 4
}
