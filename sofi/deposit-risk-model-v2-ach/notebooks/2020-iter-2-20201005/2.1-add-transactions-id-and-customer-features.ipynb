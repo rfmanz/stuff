{
 "cells": [
  {
   "cell_type": "markdown",
   "metadata": {},
   "source": [
    "## Generate unique for each transactions for identification\n"
   ]
  },
  {
   "cell_type": "code",
   "execution_count": 1,
   "metadata": {},
   "outputs": [],
   "source": [
    "import pandas as pd\n",
    "import numpy as np\n",
    "import category_encoders\n",
    "import matplotlib.pyplot as plt\n",
    "import seaborn as sns\n",
    "from IPython.display import display\n",
    "\n",
    "%load_ext autoreload\n",
    "%autoreload 2"
   ]
  },
  {
   "cell_type": "code",
   "execution_count": 2,
   "metadata": {},
   "outputs": [],
   "source": [
    "transactions_df = pd.read_parquet('../../artifacts/20201005/transactions_df_unlabeled_with_tmx.parquet')"
   ]
  },
  {
   "cell_type": "markdown",
   "metadata": {},
   "source": [
    "### Add ID"
   ]
  },
  {
   "cell_type": "code",
   "execution_count": 5,
   "metadata": {},
   "outputs": [],
   "source": [
    "transactions_df.sort_values(by=['business_account_number', \n",
    "                                'transaction_datetime'],\n",
    "                            inplace=True)"
   ]
  },
  {
   "cell_type": "code",
   "execution_count": 22,
   "metadata": {},
   "outputs": [
    {
     "data": {
      "text/plain": [
       "0    1513182391\n",
       "1    1513727720\n",
       "2    1513727720\n",
       "3    1513727720\n",
       "4    1513727720\n",
       "Name: transaction_datetime, dtype: object"
      ]
     },
     "execution_count": 22,
     "metadata": {},
     "output_type": "execute_result"
    }
   ],
   "source": [
    "transactions_df.head()['transaction_datetime'].apply(lambda x: str(int(x.timestamp())))"
   ]
  },
  {
   "cell_type": "code",
   "execution_count": 37,
   "metadata": {},
   "outputs": [],
   "source": [
    "transactions_df['group_rank'] = transactions_df.groupby('business_account_number')['transaction_datetime'].rank('first').astype(int)"
   ]
  },
  {
   "cell_type": "code",
   "execution_count": 39,
   "metadata": {},
   "outputs": [],
   "source": [
    "transactions_df['transaction_id'] = (transactions_df['business_account_number'].astype(str) \n",
    "                                     + '-' + transactions_df['transaction_datetime'].apply(lambda x: str(int(x.timestamp())))\n",
    "                                     + '-' + transactions_df['group_rank'].astype(str))"
   ]
  },
  {
   "cell_type": "code",
   "execution_count": 40,
   "metadata": {},
   "outputs": [
    {
     "data": {
      "text/plain": [
       "0    410000007044-1513182391-1\n",
       "1    410000007044-1513727720-2\n",
       "2    410000007044-1513727720-3\n",
       "3    410000007044-1513727720-4\n",
       "4    410000007044-1513727720-5\n",
       "Name: transaction_id, dtype: object"
      ]
     },
     "execution_count": 40,
     "metadata": {},
     "output_type": "execute_result"
    }
   ],
   "source": [
    "transactions_df['transaction_id'].head()"
   ]
  },
  {
   "cell_type": "code",
   "execution_count": 41,
   "metadata": {},
   "outputs": [
    {
     "data": {
      "text/plain": [
       "(15295228, (15295228, 201))"
      ]
     },
     "execution_count": 41,
     "metadata": {},
     "output_type": "execute_result"
    }
   ],
   "source": [
    "transactions_df['transaction_id'].nunique(), transactions_df.shape"
   ]
  },
  {
   "cell_type": "markdown",
   "metadata": {},
   "source": [
    "### Add Features"
   ]
  },
  {
   "cell_type": "code",
   "execution_count": 42,
   "metadata": {},
   "outputs": [],
   "source": [
    "# 'max_withdrawals_30d', 'dollar_val_returns_3d', 'max_deposits_30d', 'dollar_val_returns'"
   ]
  },
  {
   "cell_type": "code",
   "execution_count": null,
   "metadata": {},
   "outputs": [],
   "source": [
    "transactions_df['max_withdrawals_30d'] = transactions_df.groupby('business_account_number') \\\n",
    "                                                        .rolling('30d', min_periods=1, \n",
    "                                                                 on='transaction_datetime') \\\n",
    "                                                        ['withdrawal_transaction_amount'].min().values\n",
    "transactions_df['max_deposits_30d'] = transactions_df.groupby('business_account_number') \\\n",
    "                                                     .rolling('30d', min_periods=1, \n",
    "                                                              on='transaction_datetime') \\\n",
    "                                                     ['deposit_transaction_amount'].max().values\n"
   ]
  },
  {
   "cell_type": "code",
   "execution_count": 44,
   "metadata": {},
   "outputs": [],
   "source": [
    "transactions_df['return_dollar_amount'] = transactions_df['is_return'] * transactions_df['tamt_adjusted']\n",
    "transactions_df['dollar_val_returns'] = transactions_df.groupby('business_account_number')['return_dollar_amount'].cumsum()\n",
    "transactions_df['dollar_val_returns_3d'] = transactions_df.groupby('business_account_number') \\\n",
    "                                                          .rolling('3d', min_periods=1, \n",
    "                                                                   on='transaction_datetime') \\\n",
    "                                                          ['return_dollar_amount'].sum().values"
   ]
  },
  {
   "cell_type": "code",
   "execution_count": null,
   "metadata": {},
   "outputs": [],
   "source": [
    "transactions_df.to_parquet('../../artifacts/20201005/transactions_df_unlabeled_with_tmx_n_id.parquet')"
   ]
  },
  {
   "cell_type": "code",
   "execution_count": null,
   "metadata": {},
   "outputs": [],
   "source": []
  },
  {
   "cell_type": "code",
   "execution_count": null,
   "metadata": {},
   "outputs": [],
   "source": []
  }
 ],
 "metadata": {
  "kernelspec": {
   "display_name": "conda_ml_basic_py37",
   "language": "python",
   "name": "conda_ml_basic_py37"
  },
  "language_info": {
   "codemirror_mode": {
    "name": "ipython",
    "version": 3
   },
   "file_extension": ".py",
   "mimetype": "text/x-python",
   "name": "python",
   "nbconvert_exporter": "python",
   "pygments_lexer": "ipython3",
   "version": "3.7.8"
  }
 },
 "nbformat": 4,
 "nbformat_minor": 4
}
