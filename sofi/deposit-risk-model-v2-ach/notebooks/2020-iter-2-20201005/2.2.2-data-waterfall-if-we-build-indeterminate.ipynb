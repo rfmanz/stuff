{
 "cells": [
  {
   "cell_type": "markdown",
   "metadata": {},
   "source": [
    "### Create features without filtering things out\n",
    "---\n",
    "\n",
    "* Model Design Feedback:\n",
    "    * Make the target less restrictive\n",
    "        * ACH return in 3 days\n",
    "        * Consider Indeterminate...this is what essentially make model look better\n",
    "    * Candidates: \n",
    "        * Account balance < 0\n",
    "        * Closed by risk, write off, charged off\n",
    "    * Use more recent data, when Plaid is available.\n",
    "        * Check availability of Plaid features\n",
    "    * Drop Giact features\n",
    "\n"
   ]
  },
  {
   "cell_type": "code",
   "execution_count": 1,
   "metadata": {},
   "outputs": [],
   "source": [
    "import pandas as pd\n",
    "import numpy as np\n",
    "import category_encoders\n",
    "import matplotlib.pyplot as plt\n",
    "import seaborn as sns\n",
    "from IPython.display import display\n",
    "\n",
    "%load_ext autoreload\n",
    "%autoreload 2"
   ]
  },
  {
   "cell_type": "code",
   "execution_count": 2,
   "metadata": {},
   "outputs": [],
   "source": [
    "transactions_df = pd.read_parquet('../../artifacts/20201005/transactions_df_unlabeled_with_tmx.parquet')"
   ]
  },
  {
   "cell_type": "code",
   "execution_count": 3,
   "metadata": {},
   "outputs": [
    {
     "data": {
      "text/plain": [
       "<AxesSubplot:>"
      ]
     },
     "execution_count": 3,
     "metadata": {},
     "output_type": "execute_result"
    },
    {
     "data": {
      "image/png": "[encoded data removed]",
      "text/plain": [
       "<Figure size 432x288 with 1 Axes>"
      ]
     },
     "metadata": {
      "needs_background": "light"
     },
     "output_type": "display_data"
    }
   ],
   "source": [
    "transactions_df.transaction_datetime.hist(bins=100)"
   ]
  },
  {
   "cell_type": "markdown",
   "metadata": {},
   "source": [
    "### Build Indeterminate"
   ]
  },
  {
   "cell_type": "code",
   "execution_count": 6,
   "metadata": {},
   "outputs": [
    {
     "data": {
      "text/plain": [
       "321"
      ]
     },
     "execution_count": 6,
     "metadata": {},
     "output_type": "execute_result"
    }
   ],
   "source": [
    "features = ['fico_score', \n",
    "            'vantage_score', 'all7120', 'all8220', 'bcc2800', 'bcc7120', \n",
    "            'bcx3423', 'iln5520', 'iqt9413', 'iqt9415', 'mtf5820', 'stu5031', \n",
    "            'credit_card_loan_amount', 'delinquencies_90_days', 'education_loan_amount',\n",
    "            'mortgage_loan_amount', 'secured_loan_amount', 'total_outstanding_balance', \n",
    "            'total_tradelines_open', 'unsecured_loan_amount', 'giact_is_pass', \n",
    "            'giact_is_decline', 'giact_is_other', 'giact_nr_pass', 'giact_nr_decline',\n",
    "            'giact_nr_other', 'fraud_score_1', 'fraud_score_2', 'address_risk_score', \n",
    "            'email_risk_score', 'phone_risk_score', 'name_address_correlation', \n",
    "            'name_email_correlation', 'name_phone_correlation', 'nr_social_profiles_found', \n",
    "            'days_since_first_deposit', 'lag_acc_open_first_transaction', 'first_deposit_amount', \n",
    "            'giact_time_since_first_link', 'giact_time_since_last_link', 'transaction_as_pct_of_balance', \n",
    "            'time_since_last_transaction', 'nr_past_returns', 'nr_returns_30d', 'nr_past_deposits',\n",
    "            'nr_deposits_3d', 'nr_deposits_30d', 'nr_past_transactions', 'nr_transactions_3d',\n",
    "            'nr_transactions_30d', 'pct_returned_deposits', 'pct_returned_deposits_30d',\n",
    "            'nr_transactions_30d_div_nr_past_transactions', 'mean_account_balance_3d',\n",
    "            'mean_account_balance_30d', 'std_account_balance_3d', 'std_account_balance_30d', \n",
    "            'sum_deposits_3d', 'sum_deposits_10d', 'sum_deposits_30d', 'sum_withdrawals_3d', \n",
    "            'sum_withdrawals_10d', 'sum_withdrawals_30d', 'mean_deposits_10d', \n",
    "            'mean_deposits', 'mean_deposits_10d_div_mean_deposits', 'mean_withdrawals_10d', \n",
    "            'mean_withdrawals', 'mean_withdrawals_10d_div_mean_withdrawals', 'max_deposits_3d', \n",
    "            'max_deposits_10d', 'max_deposits_10d_div_mean_deposits',\n",
    "            'max_deposits_10d_div_mean_account_balance_30d', 'max_withdrawals', \n",
    "            'max_withdrawals_3d', 'max_withdrawals_10d', 'max_withdrawals_10d_div_mean_withdrawals',\n",
    "            'nr_trans_ratio', 'bal_ratio', 'deposits_ratio', 'nr_direct_deposits', 'dollar_val_dd']\n",
    "\n",
    "def get_typed_features(df, typed):\n",
    "    return list(df.columns[df.columns.str.contains(typed)])\n",
    "\n",
    "# make sure to include plaid and quovo features\n",
    "quovo_cols = get_typed_features(transactions_df, 'quovo')\n",
    "plaid_cols = get_typed_features(transactions_df, 'plaid')\n",
    "giact_cols = get_typed_features(transactions_df, 'giact')\n",
    "tmx_cols = get_typed_features(transactions_df, 'tmx')\n",
    "features = features + quovo_cols + plaid_cols + giact_cols + tmx_cols\n",
    "\n",
    "features = sorted(list(set(features)))\n",
    "\n",
    "# remove a lot of features\n",
    "cols = transactions_df.columns[~transactions_df.columns.isin(features)]\n",
    "transactions_df = transactions_df[cols]\n",
    "\n",
    "import gc\n",
    "gc.collect()"
   ]
  },
  {
   "cell_type": "code",
   "execution_count": 9,
   "metadata": {},
   "outputs": [
    {
     "data": {
      "text/plain": [
       "(15295228, 69)"
      ]
     },
     "execution_count": 9,
     "metadata": {},
     "output_type": "execute_result"
    }
   ],
   "source": [
    "transactions_df.shape"
   ]
  },
  {
   "cell_type": "code",
   "execution_count": 10,
   "metadata": {},
   "outputs": [],
   "source": [
    "from pandas.tseries.offsets import BDay\n",
    "from tqdm import tqdm\n",
    "\n",
    "def reverse_df(df):\n",
    "    \"\"\" Helper for forward looking rolling function \"\"\"\n",
    "    # reverse dataset\n",
    "    reverse_df = df.iloc[::-1]\n",
    "    ri = reverse_df.index\n",
    "\n",
    "    # re-reverse index\n",
    "    reverse_df.index = ri[0] - ri + ri[-1]\n",
    "\n",
    "    return reverse_df\n",
    "\n",
    "NDAYS = 90\n",
    "\n",
    "def get_nr_returns_nd(df):\n",
    "    global NDAYS\n",
    "    return reverse_df(reverse_df(df).rolling(f'{NDAYS}d', min_periods=1)['is_return'].sum())\n",
    "\n",
    "def get_bal_after_nd(df):\n",
    "    global NDAYS\n",
    "    return reverse_df(reverse_df(df).rolling(f'{NDAYS}d', min_periods=1)['real_ending_balance'].apply(lambda a: a[0], raw=True))\n",
    "\n",
    "def applyParallel(dfGrouped, func):\n",
    "    \"\"\" Helper to parallelize apply over groupby \"\"\"\n",
    "    with Pool(cpu_count()) as p:\n",
    "        ret_list = p.map(func, [group for name, group in dfGrouped])\n",
    "    return pd.concat(ret_list)"
   ]
  },
  {
   "cell_type": "code",
   "execution_count": 14,
   "metadata": {},
   "outputs": [],
   "source": [
    "from multiprocessing import Pool, cpu_count\n",
    "\n",
    "def get_labels_nd(df, n_days=15):\n",
    "    \"\"\"\n",
    "    Get add labels to processed data.\n",
    "    \"\"\"\n",
    "    # sort data for roll-ups\n",
    "    global NDAYS\n",
    "    NDAYS = n_days\n",
    "    print(f'Ndays = {NDAYS}')\n",
    "    \n",
    "    # sort data for roll-ups\n",
    "    \n",
    "        \n",
    "\n",
    "#     df['days_to_acc_close'] = (pd.to_datetime(df['dtc']) - df['transaction_datetime']).dt.days\n",
    "    df[f'account_closed_by_risk_in_next_{n_days}d'] = df['closed_reason'].isin(['Closed by SoFi - Risk Request', \n",
    "                                                                         'Closed by SoFi - Charge-Off / Write-Off']) &\\\n",
    "                                               (df['days_to_acc_close'] <= n_days)\n",
    "    \n",
    "#     df['last_unrestricted_date_in_next_90d'] = (df['last_unrestricted_date'] - df['transaction_datetime']).dt.days.between(0, 90)\n",
    "    \n",
    "    # get most recent account balance\n",
    "    df = pd.merge(df, \n",
    "                  df.groupby('business_account_number')['real_ending_balance'].last().rename('latest_acc_bal').reset_index(),\n",
    "                  how='left', on='business_account_number')\n",
    "\n",
    "    # does account chg/wrt off in next n days?\n",
    "    df[f'is_chg_wrt_off_in_{n_days}d'] = (df['chg_wrt_off_date'] - df['transaction_datetime']).dt.days <= n_days\n",
    "\n",
    "    # Set index to transaction datetime.\n",
    "    df = df.set_index('transaction_datetime')\n",
    "\n",
    "    df[f'bal_after_{n_days}d'] = applyParallel(df[['business_account_number', \n",
    "                                           'real_ending_balance']].groupby('business_account_number'), \n",
    "                                                     get_bal_after_nd).values\n",
    "    df[f'nr_returns_in_next_{n_days}d'] = applyParallel(df[['business_account_number', \n",
    "                                                    'is_return']].groupby('business_account_number'), \n",
    "                                                 get_nr_returns_nd).values\n",
    "    df = df.reset_index()\n",
    "                \n",
    "    # drop non check types\n",
    "    \n",
    "    \n",
    "    def get_target(df):\n",
    "        \"\"\"\n",
    "        \"\"\"\n",
    "        df[f'target_{n_days}d'] = df['is_returned'].fillna(False)\n",
    "        \n",
    "        df[f'indeterminate_{n_days}d'] = (df[f'target_{n_days}d'] & (df[f'bal_after_{n_days}d'] > 0)) | \\\n",
    "                              (~df[f'target_{n_days}d'] & (df[f'bal_after_{n_days}d'] <= 0))\n",
    "        \n",
    "        return df\n",
    "\n",
    "    df = get_target(df)\n",
    "\n",
    "    return df #.reset_index()\n"
   ]
  },
  {
   "cell_type": "code",
   "execution_count": 15,
   "metadata": {},
   "outputs": [],
   "source": [
    "def sort_dfs(df):\n",
    "    df.sort_values(by=['business_account_number', 'transaction_datetime', 'transaction_amount'], inplace=True)"
   ]
  },
  {
   "cell_type": "code",
   "execution_count": 16,
   "metadata": {},
   "outputs": [
    {
     "name": "stderr",
     "output_type": "stream",
     "text": [
      "/home/ec2-user/anaconda3/envs/ml_basic_py37/lib/python3.7/site-packages/ipykernel/__main__.py:2: SettingWithCopyWarning: \n",
      "A value is trying to be set on a copy of a slice from a DataFrame\n",
      "\n",
      "See the caveats in the documentation: https://pandas.pydata.org/pandas-docs/stable/user_guide/indexing.html#returning-a-view-versus-a-copy\n",
      "  from ipykernel import kernelapp as app\n",
      "  0%|          | 0/3 [00:00<?, ?it/s]"
     ]
    },
    {
     "name": "stdout",
     "output_type": "stream",
     "text": [
      "Ndays = 10\n"
     ]
    },
    {
     "name": "stderr",
     "output_type": "stream",
     "text": [
      "/home/ec2-user/anaconda3/envs/ml_basic_py37/lib/python3.7/site-packages/ipykernel/__main__.py:19: SettingWithCopyWarning: \n",
      "A value is trying to be set on a copy of a slice from a DataFrame.\n",
      "Try using .loc[row_indexer,col_indexer] = value instead\n",
      "\n",
      "See the caveats in the documentation: https://pandas.pydata.org/pandas-docs/stable/user_guide/indexing.html#returning-a-view-versus-a-copy\n",
      " 33%|███▎      | 1/3 [03:39<07:19, 219.91s/it]"
     ]
    },
    {
     "name": "stdout",
     "output_type": "stream",
     "text": [
      "Ndays = 15\n"
     ]
    },
    {
     "name": "stderr",
     "output_type": "stream",
     "text": [
      " 67%|██████▋   | 2/3 [07:20<03:40, 220.11s/it]"
     ]
    },
    {
     "name": "stdout",
     "output_type": "stream",
     "text": [
      "Ndays = 60\n"
     ]
    },
    {
     "name": "stderr",
     "output_type": "stream",
     "text": [
      "100%|██████████| 3/3 [10:59<00:00, 219.96s/it]\n"
     ]
    }
   ],
   "source": [
    "sort_dfs(transactions_df)\n",
    "\n",
    "for n in tqdm([10, 15, 60]):\n",
    "    transactions_df = get_labels_nd(transactions_df, n_days=n)"
   ]
  },
  {
   "cell_type": "code",
   "execution_count": 17,
   "metadata": {},
   "outputs": [],
   "source": [
    "transactions_df.to_parquet('../../artifacts/20201005/transactions_df_w_indeterminate.parquet')"
   ]
  },
  {
   "cell_type": "markdown",
   "metadata": {},
   "source": [
    "### Check behavior"
   ]
  },
  {
   "cell_type": "code",
   "execution_count": 18,
   "metadata": {},
   "outputs": [
    {
     "data": {
      "text/plain": [
       "Index(['target_10d', 'indeterminate_10d', 'target_15d', 'indeterminate_15d',\n",
       "       'target_60d', 'indeterminate_60d'],\n",
       "      dtype='object')"
      ]
     },
     "execution_count": 18,
     "metadata": {},
     "output_type": "execute_result"
    }
   ],
   "source": [
    "transactions_df.columns[(transactions_df.columns.str.contains('target') |\n",
    "                        (transactions_df.columns.str.contains('indeterminate')))]"
   ]
  },
  {
   "cell_type": "code",
   "execution_count": 19,
   "metadata": {},
   "outputs": [
    {
     "data": {
      "text/plain": [
       "((15295228, 90), False    15252339\n",
       " True        42889\n",
       " Name: target_60d, dtype: int64)"
      ]
     },
     "execution_count": 19,
     "metadata": {},
     "output_type": "execute_result"
    }
   ],
   "source": [
    "transactions_df.shape, transactions_df.target_60d.value_counts()"
   ]
  },
  {
   "cell_type": "markdown",
   "metadata": {},
   "source": [
    "### Drop non ACH\n",
    "---"
   ]
  },
  {
   "cell_type": "code",
   "execution_count": null,
   "metadata": {},
   "outputs": [],
   "source": [
    "transactions_df = pd.read_parquet('../../artifacts/20201005/transactions_df_w_indeterminate.parquet')"
   ]
  },
  {
   "cell_type": "code",
   "execution_count": 20,
   "metadata": {},
   "outputs": [],
   "source": [
    "# drop non ACH types\n",
    "def drop_non_ach(df):\n",
    "    df = df[df['transaction_code'].isin(['ACHDD']) & (df['transaction_amount'] > 0)]\n",
    "    return df"
   ]
  },
  {
   "cell_type": "code",
   "execution_count": 21,
   "metadata": {},
   "outputs": [],
   "source": [
    "transactions_df = drop_non_ach(transactions_df)"
   ]
  },
  {
   "cell_type": "code",
   "execution_count": 22,
   "metadata": {},
   "outputs": [
    {
     "data": {
      "text/plain": [
       "((664067, 90), False    644290\n",
       " True      19777\n",
       " Name: target_60d, dtype: int64)"
      ]
     },
     "execution_count": 22,
     "metadata": {},
     "output_type": "execute_result"
    }
   ],
   "source": [
    "transactions_df.shape, transactions_df.target_60d.value_counts()"
   ]
  },
  {
   "cell_type": "markdown",
   "metadata": {},
   "source": [
    "### Train and OOT dev\n",
    "---"
   ]
  },
  {
   "cell_type": "code",
   "execution_count": 68,
   "metadata": {},
   "outputs": [],
   "source": [
    "modeling_df = transactions_df[transactions_df[\"transaction_datetime\"].between(pd.to_datetime('2020-05-01'),\n",
    "                                                    pd.to_datetime('2020-07-31'))]\n",
    "test_df = transactions_df[transactions_df[\"transaction_datetime\"] > pd.to_datetime('2020-08-01')]"
   ]
  },
  {
   "cell_type": "code",
   "execution_count": 69,
   "metadata": {},
   "outputs": [
    {
     "data": {
      "text/plain": [
       "((112599, 90), (88890, 90))"
      ]
     },
     "execution_count": 69,
     "metadata": {},
     "output_type": "execute_result"
    }
   ],
   "source": [
    "modeling_df.shape,  test_df.shape"
   ]
  },
  {
   "cell_type": "code",
   "execution_count": 70,
   "metadata": {},
   "outputs": [
    {
     "data": {
      "text/plain": [
       "False    108825\n",
       "True       3774\n",
       "Name: target_60d, dtype: int64"
      ]
     },
     "execution_count": 70,
     "metadata": {},
     "output_type": "execute_result"
    }
   ],
   "source": [
    "modeling_df.target_60d.value_counts()"
   ]
  },
  {
   "cell_type": "code",
   "execution_count": 29,
   "metadata": {},
   "outputs": [],
   "source": [
    "n_remain = len(modeling_df)\n",
    "label_counts = modeling_df.target_60d.value_counts()\n",
    "n_good = label_counts.loc[False]\n",
    "n_bad = label_counts.loc[True]"
   ]
  },
  {
   "cell_type": "code",
   "execution_count": 30,
   "metadata": {},
   "outputs": [
    {
     "data": {
      "text/plain": [
       "(3346012, 3342438, 3574)"
      ]
     },
     "execution_count": 30,
     "metadata": {},
     "output_type": "execute_result"
    }
   ],
   "source": [
    "n_remain, n_good, n_bad"
   ]
  },
  {
   "cell_type": "code",
   "execution_count": 31,
   "metadata": {},
   "outputs": [
    {
     "data": {
      "text/plain": [
       "False    2244995\n",
       "True        8731\n",
       "Name: target_60d, dtype: int64"
      ]
     },
     "execution_count": 31,
     "metadata": {},
     "output_type": "execute_result"
    }
   ],
   "source": [
    "test_df.target_60d.value_counts()"
   ]
  },
  {
   "cell_type": "code",
   "execution_count": null,
   "metadata": {},
   "outputs": [],
   "source": []
  },
  {
   "cell_type": "markdown",
   "metadata": {},
   "source": [
    "### Drop indeterminate criterias one by one\n",
    "---"
   ]
  },
  {
   "cell_type": "code",
   "execution_count": 32,
   "metadata": {},
   "outputs": [],
   "source": [
    "# target definitions\n",
    "# df[f'is_chg_wrt_off_in_60d'] \n",
    "# df[f'account_closed_by_risk_in_next_60d'] \n",
    "# (df[f'nr_returns_in_next_60d'] > 0) \n",
    "# (df[f'bal_after_60d'] < 0)"
   ]
  },
  {
   "cell_type": "code",
   "execution_count": 33,
   "metadata": {},
   "outputs": [],
   "source": [
    "# indeterminate definitions\n",
    "# (df[f'target_60d'] & (df[f'bal_after_60d'] > 0)) \n",
    "# (~df[f'target_60d'] & (df[f'bal_after_60d'] <= 0))"
   ]
  },
  {
   "cell_type": "code",
   "execution_count": null,
   "metadata": {},
   "outputs": [],
   "source": []
  },
  {
   "cell_type": "code",
   "execution_count": 44,
   "metadata": {},
   "outputs": [],
   "source": [
    "def drop_bad_but_pos_balance(df):\n",
    "    return df[~(df[f'target_10d'] & (df[f'bal_after_10d'] > 0))]"
   ]
  },
  {
   "cell_type": "code",
   "execution_count": 45,
   "metadata": {},
   "outputs": [
    {
     "name": "stdout",
     "output_type": "stream",
     "text": [
      "0, 3304682, 3301108, 3574\n"
     ]
    }
   ],
   "source": [
    "modeling_df = drop_bad_but_pos_balance(modeling_df)\n",
    "n_excluded = n_remain - len(modeling_df)\n",
    "n_remain = len(modeling_df)\n",
    "label_counts = modeling_df.target_60d.value_counts()\n",
    "n_good = label_counts.loc[False]\n",
    "n_bad = label_counts.loc[True]\n",
    "print(f'{n_excluded}, {n_remain}, {n_good}, {n_bad}')"
   ]
  },
  {
   "cell_type": "code",
   "execution_count": 46,
   "metadata": {},
   "outputs": [],
   "source": [
    "def drop_good_but_has_returns(df):\n",
    "    condition = (~df['target_10d'] & (df[f'nr_returns_in_next_10d'] > 0))\n",
    "    return df[~condition]"
   ]
  },
  {
   "cell_type": "code",
   "execution_count": 47,
   "metadata": {},
   "outputs": [
    {
     "name": "stdout",
     "output_type": "stream",
     "text": [
      "0, 3304682, 3301108, 3574\n"
     ]
    }
   ],
   "source": [
    "modeling_df = drop_good_but_has_returns(modeling_df)\n",
    "n_excluded = n_remain - len(modeling_df)\n",
    "n_remain = len(modeling_df)\n",
    "label_counts = modeling_df.target_60d.value_counts()\n",
    "n_good = label_counts.loc[False]\n",
    "n_bad = label_counts.loc[True]\n",
    "print(f'{n_excluded}, {n_remain}, {n_good}, {n_bad}')"
   ]
  },
  {
   "cell_type": "code",
   "execution_count": 38,
   "metadata": {},
   "outputs": [],
   "source": [
    "def drop_good_but_chg_wrt_off(df):\n",
    "    return df[~(df[f'is_chg_wrt_off_in_10d'] & ~df['target_10d'])]"
   ]
  },
  {
   "cell_type": "code",
   "execution_count": 39,
   "metadata": {},
   "outputs": [
    {
     "name": "stdout",
     "output_type": "stream",
     "text": [
      "525, 3326082, 3322508, 3574\n"
     ]
    }
   ],
   "source": [
    "modeling_df = drop_good_but_chg_wrt_off(modeling_df)\n",
    "n_excluded = n_remain - len(modeling_df)\n",
    "n_remain = len(modeling_df)\n",
    "label_counts = modeling_df.target_60d.value_counts()\n",
    "n_good = label_counts.loc[False]\n",
    "n_bad = label_counts.loc[True]\n",
    "print(f'{n_excluded}, {n_remain}, {n_good}, {n_bad}')"
   ]
  },
  {
   "cell_type": "code",
   "execution_count": 40,
   "metadata": {},
   "outputs": [],
   "source": [
    "def drop_good_but_neg_balance(df):\n",
    "    return df[~(~df['target_10d'] & (df[f'bal_after_10d'] < 0))]"
   ]
  },
  {
   "cell_type": "code",
   "execution_count": 41,
   "metadata": {},
   "outputs": [
    {
     "name": "stdout",
     "output_type": "stream",
     "text": [
      "20388, 3305694, 3302120, 3574\n"
     ]
    }
   ],
   "source": [
    "modeling_df = drop_good_but_neg_balance(modeling_df)\n",
    "n_excluded = n_remain - len(modeling_df)\n",
    "n_remain = len(modeling_df)\n",
    "label_counts = modeling_df.target_60d.value_counts()\n",
    "n_good = label_counts.loc[False]\n",
    "n_bad = label_counts.loc[True]\n",
    "print(f'{n_excluded}, {n_remain}, {n_good}, {n_bad}')"
   ]
  },
  {
   "cell_type": "code",
   "execution_count": 42,
   "metadata": {},
   "outputs": [],
   "source": [
    "def drop_good_but_closed_by_risk(df):\n",
    "    condition = (~df['target_10d'] & df[f'account_closed_by_risk_in_next_10d'])\n",
    "    return df[~condition]"
   ]
  },
  {
   "cell_type": "code",
   "execution_count": 43,
   "metadata": {},
   "outputs": [
    {
     "name": "stdout",
     "output_type": "stream",
     "text": [
      "drop_good_but_closed_by_risk: 1012, 3304682, 3301108, 3574\n"
     ]
    }
   ],
   "source": [
    "fn = drop_good_but_closed_by_risk\n",
    "modeling_df = fn(modeling_df)\n",
    "n_excluded = n_remain - len(modeling_df)\n",
    "n_remain = len(modeling_df)\n",
    "label_counts = modeling_df.target_60d.value_counts()\n",
    "n_good = label_counts.loc[False]\n",
    "n_bad = label_counts.loc[True]\n",
    "print(f'{fn.__name__}: {n_excluded}, {n_remain}, {n_good}, {n_bad}')"
   ]
  },
  {
   "cell_type": "code",
   "execution_count": null,
   "metadata": {},
   "outputs": [],
   "source": []
  },
  {
   "cell_type": "markdown",
   "metadata": {},
   "source": [
    "### Class Object"
   ]
  },
  {
   "cell_type": "code",
   "execution_count": null,
   "metadata": {},
   "outputs": [],
   "source": [
    "transactions_df = pd.read_parquet('../../artifacts/20201005/transactions_df_w_indeterminate.parquet')"
   ]
  },
  {
   "cell_type": "code",
   "execution_count": 186,
   "metadata": {},
   "outputs": [],
   "source": [
    "import gc\n",
    "\n",
    "class DataWaterfallReport:\n",
    "    \n",
    "    def __init__(self, df, function_sequence, \n",
    "                 col_to_expand=None, dropna=False,\n",
    "                 index_formatter=None, column_formatter=None):\n",
    "        \"\"\"\n",
    "        generate data waterfall for binary classification task\n",
    "        \n",
    "        @params df: dataframe \n",
    "                    - df of starting population\n",
    "        @params function_sequence: list of functions\n",
    "                    - each function takes in single argument: df\n",
    "                      and returns a single df with remaining rows for next round\n",
    "                    - Note: function name will be used as report index\n",
    "        @params col_to_expand: str \n",
    "                    - categorical columns to expend into columns\n",
    "                    - with each column recording a count for each categorical value\n",
    "        @params dropna: bool\n",
    "                    - whether to count NaN\n",
    "        @params inplace: bool\n",
    "                    - df will be modified if inplace=True, will save memory\n",
    "        \"\"\"\n",
    "        \n",
    "        self.df = df\n",
    "        self.functions = function_sequence\n",
    "        self.col_to_expand = col_to_expand\n",
    "        if col_to_expand is not None:\n",
    "            col_order = df[col_to_expand].value_counts(dropna=dropna)\n",
    "            col_order = col_order.index.to_list()\n",
    "        else:\n",
    "            col_order = []\n",
    "        self.dropna = dropna\n",
    "\n",
    "        # reporting data\n",
    "        # dictionary: \n",
    "        # key - function\n",
    "        # values - (#excluded, #remaining, #good, #bad)\n",
    "        self.record_index = []\n",
    "        self.record_cols = ['Excluded', 'Remain'] + col_order\n",
    "        self.record = []  \n",
    "        self.waterfall = None\n",
    "        \n",
    "        # formatting\n",
    "        if index_formatter is None:\n",
    "            self.index_formatter = self.default_index_formatter\n",
    "        else:\n",
    "            self.index_formatter = index_formatter\n",
    "            \n",
    "        if column_formatter is None:\n",
    "            self.column_formatter = self.default_column_formatter\n",
    "        else:\n",
    "            self.column_formatter = column_formatter   \n",
    "                \n",
    "    \n",
    "    def default_column_formatter(self, col_name):\n",
    "        return f'# {col_name}'\n",
    "    \n",
    "    \n",
    "    def default_index_formatter(self, index):\n",
    "        return ' '.join(index.split('_')).title()\n",
    "    \n",
    "    \n",
    "    def format_report(self, records, index, columns, \n",
    "                      index_formatter, column_formatter, present_ready):\n",
    "        \n",
    "        record_index = [index_formatter(idx) for idx in index]\n",
    "        record_cols = [column_formatter(col) for col in columns]\n",
    "        \n",
    "        if present_ready:\n",
    "            # convert every cell to string format\n",
    "            records_ = []\n",
    "            for row in range(len(records)):\n",
    "                record_ = []\n",
    "                for col in range(len(records[0])):\n",
    "                    elem = records[row][col]\n",
    "                    record_.append('' if pd.isna(elem) else int(elem))\n",
    "                records_.append(record_)\n",
    "            records = records_\n",
    "            \n",
    "        result = pd.DataFrame(records, \n",
    "                              index=record_index,\n",
    "                              columns=record_cols)\n",
    "            \n",
    "        return result\n",
    "    \n",
    "    \n",
    "    def get_report(self, present_ready=False):\n",
    "        \n",
    "        df = self.df.copy()\n",
    "        \n",
    "        col2xp = self.col_to_expand\n",
    "        dropna = self.dropna\n",
    "        \n",
    "        # starter row\n",
    "        row = []\n",
    "        n_excluded = None\n",
    "        n_remain = len(df)\n",
    "        row.extend([n_excluded, n_remain])\n",
    "        \n",
    "        if col2xp is not None:\n",
    "            row.extend(df[col2xp].value_counts(dropna=dropna).values.tolist())\n",
    "        \n",
    "        record_index = [\"Starting Population\"]\n",
    "        records = [row]\n",
    "        \n",
    "        for fn in self.functions:\n",
    "            row = []\n",
    "            \n",
    "            # build another row\n",
    "            record_index.append(fn.__name__)\n",
    "            df = fn(df)\n",
    "            n_excluded = n_remain - len(df)\n",
    "            n_remain = len(df)\n",
    "            row.extend([n_excluded, n_remain])\n",
    "            \n",
    "            if col2xp is not None:\n",
    "                row.extend(df[col2xp].value_counts(\n",
    "                    dropna=dropna).values.tolist())\n",
    "            \n",
    "            records.append(row)\n",
    "        \n",
    "        self.record_index = record_index\n",
    "        self.records = records\n",
    "        \n",
    "        self.waterfall = self.format_report(records, record_index,\n",
    "                                            self.record_cols,\n",
    "                                            self.index_formatter,\n",
    "                                            self.column_formatter,\n",
    "                                            present_ready)\n",
    "        \n",
    "        return self.waterfall\n",
    "            "
   ]
  },
  {
   "cell_type": "code",
   "execution_count": 156,
   "metadata": {},
   "outputs": [],
   "source": [
    "modeling_df = transactions_df[transactions_df[\"transaction_datetime\"].between(pd.to_datetime('2020-05-01'),\n",
    "                                                    pd.to_datetime('2020-07-31'))]\n",
    "test_df = transactions_df[transactions_df[\"transaction_datetime\"] > pd.to_datetime('2020-08-01')]"
   ]
  },
  {
   "cell_type": "code",
   "execution_count": 195,
   "metadata": {},
   "outputs": [],
   "source": [
    "modeling_df.to_parquet('../../../../rdsutils/examples/artifact/ach_modeling_data.parquet')"
   ]
  },
  {
   "cell_type": "code",
   "execution_count": 187,
   "metadata": {},
   "outputs": [],
   "source": [
    "# drop non ACH types\n",
    "def drop_non_ach(df):\n",
    "    df = df[df['transaction_code'].isin(['ACHDD']) & (df['transaction_amount'] > 0)]\n",
    "    return df\n",
    "\n",
    "def drop_bad_but_pos_balance(df):\n",
    "    return df[~(df[f'target_10d'] & (df[f'bal_after_10d'] > 0))]\n",
    "\n",
    "def drop_good_but_has_returns(df):\n",
    "    condition = (~df['target_10d'] & (df[f'nr_returns_in_next_10d'] > 0))\n",
    "    return df[~condition]\n",
    "\n",
    "def drop_good_but_chg_wrt_off(df):\n",
    "    return df[~(df[f'target_10d'] & ~df['target_10d'])]\n",
    "\n",
    "def drop_good_but_neg_balance(df):\n",
    "    return df[~(~df['target_10d'] & (df[f'bal_after_10d'] < 0))]\n",
    "\n",
    "def drop_good_but_closed_by_risk(df):\n",
    "    condition = (~df['target_10d'] & df[f'account_closed_by_risk_in_next_10d'])\n",
    "    return df[~condition]"
   ]
  },
  {
   "cell_type": "code",
   "execution_count": 192,
   "metadata": {},
   "outputs": [],
   "source": [
    "fns = [drop_non_ach,\n",
    "       drop_bad_but_pos_balance, \n",
    "       drop_good_but_has_returns,\n",
    "       drop_good_but_chg_wrt_off,\n",
    "       drop_good_but_neg_balance,\n",
    "       drop_good_but_closed_by_risk]\n",
    "wf = DataWaterfallReport(modeling_df, fns, 'target_10d')"
   ]
  },
  {
   "cell_type": "code",
   "execution_count": 193,
   "metadata": {},
   "outputs": [
    {
     "data": {
      "text/html": [
       "<div>\n",
       "<style scoped>\n",
       "    .dataframe tbody tr th:only-of-type {\n",
       "        vertical-align: middle;\n",
       "    }\n",
       "\n",
       "    .dataframe tbody tr th {\n",
       "        vertical-align: top;\n",
       "    }\n",
       "\n",
       "    .dataframe thead th {\n",
       "        text-align: right;\n",
       "    }\n",
       "</style>\n",
       "<table border=\"1\" class=\"dataframe\">\n",
       "  <thead>\n",
       "    <tr style=\"text-align: right;\">\n",
       "      <th></th>\n",
       "      <th># Excluded</th>\n",
       "      <th># Remain</th>\n",
       "      <th># False</th>\n",
       "      <th># True</th>\n",
       "    </tr>\n",
       "  </thead>\n",
       "  <tbody>\n",
       "    <tr>\n",
       "      <th>Starting Population</th>\n",
       "      <td>NaN</td>\n",
       "      <td>3349862</td>\n",
       "      <td>3342438</td>\n",
       "      <td>7424</td>\n",
       "    </tr>\n",
       "    <tr>\n",
       "      <th>Drop Non Ach</th>\n",
       "      <td>3237263.0</td>\n",
       "      <td>112599</td>\n",
       "      <td>108825</td>\n",
       "      <td>3774</td>\n",
       "    </tr>\n",
       "    <tr>\n",
       "      <th>Drop Bad But Pos Balance</th>\n",
       "      <td>1961.0</td>\n",
       "      <td>110638</td>\n",
       "      <td>108825</td>\n",
       "      <td>1813</td>\n",
       "    </tr>\n",
       "    <tr>\n",
       "      <th>Drop Good But Has Returns</th>\n",
       "      <td>667.0</td>\n",
       "      <td>109971</td>\n",
       "      <td>108158</td>\n",
       "      <td>1813</td>\n",
       "    </tr>\n",
       "    <tr>\n",
       "      <th>Drop Good But Chg Wrt Off</th>\n",
       "      <td>0.0</td>\n",
       "      <td>109971</td>\n",
       "      <td>108158</td>\n",
       "      <td>1813</td>\n",
       "    </tr>\n",
       "    <tr>\n",
       "      <th>Drop Good But Neg Balance</th>\n",
       "      <td>74.0</td>\n",
       "      <td>109897</td>\n",
       "      <td>108084</td>\n",
       "      <td>1813</td>\n",
       "    </tr>\n",
       "    <tr>\n",
       "      <th>Drop Good But Closed By Risk</th>\n",
       "      <td>11.0</td>\n",
       "      <td>109886</td>\n",
       "      <td>108073</td>\n",
       "      <td>1813</td>\n",
       "    </tr>\n",
       "  </tbody>\n",
       "</table>\n",
       "</div>"
      ],
      "text/plain": [
       "                              # Excluded  # Remain  # False  # True\n",
       "Starting Population                  NaN   3349862  3342438    7424\n",
       "Drop Non Ach                   3237263.0    112599   108825    3774\n",
       "Drop Bad But Pos Balance          1961.0    110638   108825    1813\n",
       "Drop Good But Has Returns          667.0    109971   108158    1813\n",
       "Drop Good But Chg Wrt Off            0.0    109971   108158    1813\n",
       "Drop Good But Neg Balance           74.0    109897   108084    1813\n",
       "Drop Good But Closed By Risk        11.0    109886   108073    1813"
      ]
     },
     "execution_count": 193,
     "metadata": {},
     "output_type": "execute_result"
    }
   ],
   "source": [
    "waterfall = wf.get_report(False)\n",
    "waterfall"
   ]
  },
  {
   "cell_type": "code",
   "execution_count": 194,
   "metadata": {},
   "outputs": [
    {
     "data": {
      "text/html": [
       "<div>\n",
       "<style scoped>\n",
       "    .dataframe tbody tr th:only-of-type {\n",
       "        vertical-align: middle;\n",
       "    }\n",
       "\n",
       "    .dataframe tbody tr th {\n",
       "        vertical-align: top;\n",
       "    }\n",
       "\n",
       "    .dataframe thead th {\n",
       "        text-align: right;\n",
       "    }\n",
       "</style>\n",
       "<table border=\"1\" class=\"dataframe\">\n",
       "  <thead>\n",
       "    <tr style=\"text-align: right;\">\n",
       "      <th></th>\n",
       "      <th># Excluded</th>\n",
       "      <th># Remain</th>\n",
       "      <th># False</th>\n",
       "      <th># True</th>\n",
       "    </tr>\n",
       "  </thead>\n",
       "  <tbody>\n",
       "    <tr>\n",
       "      <th>Starting Population</th>\n",
       "      <td></td>\n",
       "      <td>3349862</td>\n",
       "      <td>3342438</td>\n",
       "      <td>7424</td>\n",
       "    </tr>\n",
       "    <tr>\n",
       "      <th>Drop Non Ach</th>\n",
       "      <td>3237263</td>\n",
       "      <td>112599</td>\n",
       "      <td>108825</td>\n",
       "      <td>3774</td>\n",
       "    </tr>\n",
       "    <tr>\n",
       "      <th>Drop Bad But Pos Balance</th>\n",
       "      <td>1961</td>\n",
       "      <td>110638</td>\n",
       "      <td>108825</td>\n",
       "      <td>1813</td>\n",
       "    </tr>\n",
       "    <tr>\n",
       "      <th>Drop Good But Has Returns</th>\n",
       "      <td>667</td>\n",
       "      <td>109971</td>\n",
       "      <td>108158</td>\n",
       "      <td>1813</td>\n",
       "    </tr>\n",
       "    <tr>\n",
       "      <th>Drop Good But Chg Wrt Off</th>\n",
       "      <td>0</td>\n",
       "      <td>109971</td>\n",
       "      <td>108158</td>\n",
       "      <td>1813</td>\n",
       "    </tr>\n",
       "    <tr>\n",
       "      <th>Drop Good But Neg Balance</th>\n",
       "      <td>74</td>\n",
       "      <td>109897</td>\n",
       "      <td>108084</td>\n",
       "      <td>1813</td>\n",
       "    </tr>\n",
       "    <tr>\n",
       "      <th>Drop Good But Closed By Risk</th>\n",
       "      <td>11</td>\n",
       "      <td>109886</td>\n",
       "      <td>108073</td>\n",
       "      <td>1813</td>\n",
       "    </tr>\n",
       "  </tbody>\n",
       "</table>\n",
       "</div>"
      ],
      "text/plain": [
       "                             # Excluded  # Remain  # False  # True\n",
       "Starting Population                       3349862  3342438    7424\n",
       "Drop Non Ach                    3237263    112599   108825    3774\n",
       "Drop Bad But Pos Balance           1961    110638   108825    1813\n",
       "Drop Good But Has Returns           667    109971   108158    1813\n",
       "Drop Good But Chg Wrt Off             0    109971   108158    1813\n",
       "Drop Good But Neg Balance            74    109897   108084    1813\n",
       "Drop Good But Closed By Risk         11    109886   108073    1813"
      ]
     },
     "execution_count": 194,
     "metadata": {},
     "output_type": "execute_result"
    }
   ],
   "source": [
    "waterfall = wf.get_report(True)\n",
    "waterfall"
   ]
  },
  {
   "cell_type": "code",
   "execution_count": null,
   "metadata": {},
   "outputs": [],
   "source": []
  },
  {
   "cell_type": "code",
   "execution_count": null,
   "metadata": {},
   "outputs": [],
   "source": []
  },
  {
   "cell_type": "code",
   "execution_count": null,
   "metadata": {},
   "outputs": [],
   "source": []
  },
  {
   "cell_type": "code",
   "execution_count": null,
   "metadata": {},
   "outputs": [],
   "source": []
  },
  {
   "cell_type": "code",
   "execution_count": null,
   "metadata": {},
   "outputs": [],
   "source": []
  }
 ],
 "metadata": {
  "kernelspec": {
   "display_name": "conda_ml_basic_py37",
   "language": "python",
   "name": "conda_ml_basic_py37"
  },
  "language_info": {
   "codemirror_mode": {
    "name": "ipython",
    "version": 3
   },
   "file_extension": ".py",
   "mimetype": "text/x-python",
   "name": "python",
   "nbconvert_exporter": "python",
   "pygments_lexer": "ipython3",
   "version": "3.7.9"
  }
 },
 "nbformat": 4,
 "nbformat_minor": 4
}
