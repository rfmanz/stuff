{
 "cells": [
  {
   "cell_type": "code",
   "execution_count": 1,
   "metadata": {},
   "outputs": [],
   "source": [
    "import pandas as pd\n",
    "import numpy as np\n",
    "import matplotlib.pyplot as plt\n",
    "import datetime as dt\n",
    "\n",
    "%matplotlib inline\n",
    "plt.style.use('ggplot')\n",
    "\n",
    "from sqlalchemy import create_engine\n",
    "from tqdm import tqdm\n",
    "from rdsutils.aws import download_s3 #, python_object_to_s3\n",
    "from rdsutils.feature_selection import FeatureSelector\n",
    "\n",
    "%load_ext autoreload\n",
    "%autoreload 2"
   ]
  },
  {
   "cell_type": "code",
   "execution_count": 2,
   "metadata": {},
   "outputs": [
    {
     "data": {
      "text/plain": [
       "((112599, 201), (88890, 201))"
      ]
     },
     "execution_count": 2,
     "metadata": {},
     "output_type": "execute_result"
    }
   ],
   "source": [
    "# modeling_df_w_pred = pd.read_parquet('../../artifacts/20200920/modeling_df_w_baseline_preds.parquet')\n",
    "modeling_df = pd.read_parquet('../../artifacts/20201005/modeling_df.parquet')\n",
    "test_df = pd.read_parquet('../../artifacts/20201005/test_df.parquet')\n",
    "modeling_df.shape, test_df.shape "
   ]
  },
  {
   "cell_type": "code",
   "execution_count": 6,
   "metadata": {},
   "outputs": [],
   "source": [
    "if 'nr_past_tmx' in modeling_df.columns:\n",
    "    modeling_df.drop('nr_past_tmx', axis=1, inplace=True)\n",
    "    test_df.drop('nr_past_tmx', axis=1, inplace=True)"
   ]
  },
  {
   "cell_type": "code",
   "execution_count": 7,
   "metadata": {},
   "outputs": [],
   "source": [
    "v1_features = ['transaction_amount', 'fico_score', 'vantage_score',\n",
    "            'fraud_score_1', 'fraud_score_2', 'email_risk_score', 'phone_risk_score',  'all8220', \n",
    "            'iqt9415', 'all7120', 'mtf5820', 'bcc7120', 'bcc2800', 'iln5520', 'bcx3423', 'stu5031',\n",
    "            'nr_direct_deposits', 'nr_past_returns', 'rolling_trns_as_pct_of_bal', \n",
    "            'nr_transactions_per_day', 'transaction_as_pct_of_balance', \n",
    "            'transaction_as_pct_of_bal_min', 'rolling_mean_acc_bal', \n",
    "              'real_ending_balance', # old 'account_ending_balance'\n",
    "              'days_since_first_deposit' # old 'days_since_first_transaction'\n",
    "              ]\n",
    "\n",
    "features = ['transaction_amount', 'real_ending_balance', 'fico_score', \n",
    "            'vantage_score', 'all7120', 'all8220', 'bcc2800', 'bcc7120', \n",
    "            'bcx3423', 'iln5520', 'iqt9413', 'iqt9415', 'mtf5820', 'stu5031', \n",
    "            'credit_card_loan_amount', 'delinquencies_90_days', 'education_loan_amount',\n",
    "            'mortgage_loan_amount', 'secured_loan_amount', 'total_outstanding_balance', \n",
    "            'total_tradelines_open', 'unsecured_loan_amount', 'giact_is_pass', \n",
    "            'giact_is_decline', 'giact_is_other', 'giact_nr_pass', 'giact_nr_decline',\n",
    "            'giact_nr_other', 'fraud_score_1', 'fraud_score_2', 'address_risk_score', \n",
    "            'email_risk_score', 'phone_risk_score', 'name_address_correlation', \n",
    "            'name_email_correlation', 'name_phone_correlation', 'nr_social_profiles_found', \n",
    "            'days_since_first_deposit', 'lag_acc_open_first_transaction', 'first_deposit_amount', \n",
    "            'giact_time_since_first_link', 'giact_time_since_last_link', 'transaction_as_pct_of_balance', \n",
    "            'time_since_last_transaction', 'nr_past_returns', 'nr_returns_30d', 'nr_past_deposits',\n",
    "            'nr_deposits_3d', 'nr_deposits_30d', 'nr_past_transactions', 'nr_transactions_3d',\n",
    "            'nr_transactions_30d', 'pct_returned_deposits', 'pct_returned_deposits_30d',\n",
    "            'nr_transactions_30d_div_nr_past_transactions', 'mean_account_balance_3d',\n",
    "            'mean_account_balance_30d', 'std_account_balance_3d', 'std_account_balance_30d', \n",
    "            'sum_deposits_3d', 'sum_deposits_10d', 'sum_deposits_30d', 'sum_withdrawals_3d', \n",
    "            'sum_withdrawals_10d', 'sum_withdrawals_30d', 'mean_deposits_10d', \n",
    "            'mean_deposits', 'mean_deposits_10d_div_mean_deposits', 'mean_withdrawals_10d', \n",
    "            'mean_withdrawals', 'mean_withdrawals_10d_div_mean_withdrawals', 'max_deposits_3d', \n",
    "            'max_deposits_10d', 'max_deposits_10d_div_mean_deposits',\n",
    "            'max_deposits_10d_div_mean_account_balance_30d', 'max_withdrawals', \n",
    "            'max_withdrawals_3d', 'max_withdrawals_10d', 'max_withdrawals_10d_div_mean_withdrawals',\n",
    "            'nr_trans_ratio', 'bal_ratio', 'deposits_ratio', 'nr_direct_deposits', 'dollar_val_dd']\n",
    "\n",
    "def remove_giact(features):\n",
    "    return list(filter(lambda x: 'giact' not in x, features))\n",
    "\n",
    "def get_typed_features(df, typed):\n",
    "    return list(df.columns[df.columns.str.contains(typed)])\n",
    "\n",
    "# make sure to include plaid and quovo features\n",
    "quovo_cols = get_typed_features(modeling_df, 'quovo')\n",
    "plaid_cols = get_typed_features(modeling_df, 'plaid')\n",
    "tmx_cols = get_typed_features(modeling_df, 'tmx')\n",
    "features = features + v1_features + quovo_cols + plaid_cols + tmx_cols\n",
    "\n",
    "features = sorted(list(set(features)))\n",
    "features = remove_giact(features)"
   ]
  },
  {
   "cell_type": "code",
   "execution_count": 9,
   "metadata": {},
   "outputs": [
    {
     "name": "stdout",
     "output_type": "stream",
     "text": [
      "feature plaid_first_link_date: is type datetime64[ns]\n",
      "feature plaid_last_link_date: is type datetime64[ns]\n",
      "feature quovo_first_link_date: is type datetime64[ns]\n",
      "feature quovo_last_link_date: is type datetime64[ns]\n",
      "feature tmx_created_dt: is type datetime64[ns]\n",
      "feature tmx_digital_id_trust_score_reason_code: is type object\n",
      "feature tmx_first_link_dt: is type datetime64[ns]\n",
      "feature tmx_last_link_dt: is type datetime64[ns]\n"
     ]
    }
   ],
   "source": [
    "to_remove = []\n",
    "for f in features:\n",
    "    try:\n",
    "        modeling_df[f] = modeling_df[f].astype(float)\n",
    "    except:\n",
    "        print(f'feature {f}: is type {modeling_df[f].dtype}')\n",
    "        to_remove.append(f)\n",
    "\n",
    "features = [f for f in features if f not in to_remove]"
   ]
  },
  {
   "cell_type": "code",
   "execution_count": null,
   "metadata": {},
   "outputs": [],
   "source": []
  },
  {
   "cell_type": "markdown",
   "metadata": {},
   "source": [
    "### Apply our `FeatureSelector` Class\n",
    "---"
   ]
  },
  {
   "cell_type": "code",
   "execution_count": 12,
   "metadata": {},
   "outputs": [],
   "source": [
    "fsel = FeatureSelector(modeling_df, label_cols='is_returned', feature_cols=features)"
   ]
  },
  {
   "cell_type": "markdown",
   "metadata": {},
   "source": [
    "#### WOE"
   ]
  },
  {
   "cell_type": "code",
   "execution_count": 13,
   "metadata": {},
   "outputs": [
    {
     "name": "stdout",
     "output_type": "stream",
     "text": [
      "producing WOE for all columns with numerical dtype\n",
      "\u001b[32mAttrs removed--missing pct>99%:  \u001b[0m ['plaid_largest_checking_or_savings_balance']\n"
     ]
    },
    {
     "name": "stderr",
     "output_type": "stream",
     "text": [
      "/home/ec2-user/anaconda3/envs/ml_basic_py37/lib/python3.7/site-packages/pandas/core/algorithms.py:1086: RuntimeWarning: invalid value encountered in double_scalars\n",
      "  return a + (b - a) * fraction\n",
      "/home/ec2-user/anaconda3/envs/ml_basic_py37/lib/python3.7/site-packages/pandas/core/algorithms.py:1086: RuntimeWarning: invalid value encountered in double_scalars\n",
      "  return a + (b - a) * fraction\n",
      "/home/ec2-user/anaconda3/envs/ml_basic_py37/lib/python3.7/site-packages/pandas/core/algorithms.py:1086: RuntimeWarning: invalid value encountered in double_scalars\n",
      "  return a + (b - a) * fraction\n"
     ]
    },
    {
     "name": "stdout",
     "output_type": "stream",
     "text": [
      "processed  116  num attributes\n",
      "\n",
      "WOE fitted\n",
      "IV produced\n"
     ]
    },
    {
     "data": {
      "text/html": [
       "<div>\n",
       "<style scoped>\n",
       "    .dataframe tbody tr th:only-of-type {\n",
       "        vertical-align: middle;\n",
       "    }\n",
       "\n",
       "    .dataframe tbody tr th {\n",
       "        vertical-align: top;\n",
       "    }\n",
       "\n",
       "    .dataframe thead th {\n",
       "        text-align: right;\n",
       "    }\n",
       "</style>\n",
       "<table border=\"1\" class=\"dataframe\">\n",
       "  <thead>\n",
       "    <tr style=\"text-align: right;\">\n",
       "      <th></th>\n",
       "      <th>attr</th>\n",
       "      <th>iv</th>\n",
       "    </tr>\n",
       "  </thead>\n",
       "  <tbody>\n",
       "    <tr>\n",
       "      <th>115</th>\n",
       "      <td>vantage_score</td>\n",
       "      <td>1.8953</td>\n",
       "    </tr>\n",
       "    <tr>\n",
       "      <th>5</th>\n",
       "      <td>bcc7120</td>\n",
       "      <td>1.5681</td>\n",
       "    </tr>\n",
       "    <tr>\n",
       "      <th>110</th>\n",
       "      <td>total_tradelines_open</td>\n",
       "      <td>1.3604</td>\n",
       "    </tr>\n",
       "    <tr>\n",
       "      <th>7</th>\n",
       "      <td>credit_card_loan_amount</td>\n",
       "      <td>1.2676</td>\n",
       "    </tr>\n",
       "    <tr>\n",
       "      <th>8</th>\n",
       "      <td>days_since_first_deposit</td>\n",
       "      <td>1.1937</td>\n",
       "    </tr>\n",
       "    <tr>\n",
       "      <th>...</th>\n",
       "      <td>...</td>\n",
       "      <td>...</td>\n",
       "    </tr>\n",
       "    <tr>\n",
       "      <th>56</th>\n",
       "      <td>pct_returned_deposits</td>\n",
       "      <td>0.0000</td>\n",
       "    </tr>\n",
       "    <tr>\n",
       "      <th>57</th>\n",
       "      <td>pct_returned_deposits_30d</td>\n",
       "      <td>0.0000</td>\n",
       "    </tr>\n",
       "    <tr>\n",
       "      <th>26</th>\n",
       "      <td>max_withdrawals</td>\n",
       "      <td>0.0000</td>\n",
       "    </tr>\n",
       "    <tr>\n",
       "      <th>47</th>\n",
       "      <td>nr_past_returns</td>\n",
       "      <td>0.0000</td>\n",
       "    </tr>\n",
       "    <tr>\n",
       "      <th>49</th>\n",
       "      <td>nr_returns_30d</td>\n",
       "      <td>0.0000</td>\n",
       "    </tr>\n",
       "  </tbody>\n",
       "</table>\n",
       "<p>116 rows × 2 columns</p>\n",
       "</div>"
      ],
      "text/plain": [
       "                          attr      iv\n",
       "115              vantage_score  1.8953\n",
       "5                      bcc7120  1.5681\n",
       "110      total_tradelines_open  1.3604\n",
       "7      credit_card_loan_amount  1.2676\n",
       "8     days_since_first_deposit  1.1937\n",
       "..                         ...     ...\n",
       "56       pct_returned_deposits  0.0000\n",
       "57   pct_returned_deposits_30d  0.0000\n",
       "26             max_withdrawals  0.0000\n",
       "47             nr_past_returns  0.0000\n",
       "49              nr_returns_30d  0.0000\n",
       "\n",
       "[116 rows x 2 columns]"
      ]
     },
     "execution_count": 13,
     "metadata": {},
     "output_type": "execute_result"
    }
   ],
   "source": [
    "fsel.get_woe(method='equal', num_bin_start=10, min_iv=0.02, min_samples_leaf=100, display=0) \n",
    "fsel.get_iv(method='equal', num_bin_start=10, min_iv=0.02, min_samples_leaf=100, display=0)\n",
    "fsel.record_iv"
   ]
  },
  {
   "cell_type": "markdown",
   "metadata": {},
   "source": [
    "#### Correlation"
   ]
  },
  {
   "cell_type": "code",
   "execution_count": 14,
   "metadata": {},
   "outputs": [
    {
     "name": "stdout",
     "output_type": "stream",
     "text": [
      "correlation lowerbound: -0.6\n",
      "correlation upperbound: 0.6\n",
      "101 features have correlationbeyond bounds provided\n"
     ]
    }
   ],
   "source": [
    "corr = fsel.get_collinear(-0.6, 0.6)"
   ]
  },
  {
   "cell_type": "code",
   "execution_count": 15,
   "metadata": {},
   "outputs": [
    {
     "data": {
      "text/plain": [
       "[('all7120', 'bcc7120', 0.660112214763305),\n",
       " ('all8220', 'fico_score', 0.6614249034603694),\n",
       " ('bal_ratio',\n",
       "  'max_deposits_10d_div_mean_account_balance_30d',\n",
       "  -0.999999999996565),\n",
       " ('bcc2800', 'bcc7120', 0.6828297637147865),\n",
       " ('bcc2800', 'bcx3423', 0.7890034610722224),\n",
       " ('bcc7120', 'bcx3423', 0.7063580852753578),\n",
       " ('days_since_first_deposit',\n",
       "  'nr_transactions_30d_div_nr_past_transactions',\n",
       "  -0.6561824281527142),\n",
       " ('days_since_first_deposit',\n",
       "  'quovo_days_since_first_link',\n",
       "  0.6889005837861103),\n",
       " ('days_since_first_deposit', 'tmx_days_since_first_link', 0.963250072144644),\n",
       " ('deposits_ratio', 'nr_trans_ratio', 0.7897540442931811)]"
      ]
     },
     "execution_count": 15,
     "metadata": {},
     "output_type": "execute_result"
    }
   ],
   "source": [
    "fsel.record_collinear_pairs[:10]"
   ]
  },
  {
   "cell_type": "markdown",
   "metadata": {},
   "source": [
    "#### Missing Value"
   ]
  },
  {
   "cell_type": "code",
   "execution_count": 16,
   "metadata": {},
   "outputs": [
    {
     "name": "stdout",
     "output_type": "stream",
     "text": [
      "57 features with greater than                 0.1 missing values\n"
     ]
    },
    {
     "data": {
      "text/html": [
       "<div>\n",
       "<style scoped>\n",
       "    .dataframe tbody tr th:only-of-type {\n",
       "        vertical-align: middle;\n",
       "    }\n",
       "\n",
       "    .dataframe tbody tr th {\n",
       "        vertical-align: top;\n",
       "    }\n",
       "\n",
       "    .dataframe thead th {\n",
       "        text-align: right;\n",
       "    }\n",
       "</style>\n",
       "<table border=\"1\" class=\"dataframe\">\n",
       "  <thead>\n",
       "    <tr style=\"text-align: right;\">\n",
       "      <th></th>\n",
       "      <th>feature</th>\n",
       "      <th>missing_frac</th>\n",
       "    </tr>\n",
       "  </thead>\n",
       "  <tbody>\n",
       "    <tr>\n",
       "      <th>61</th>\n",
       "      <td>plaid_largest_checking_or_savings_balance</td>\n",
       "      <td>1.000000</td>\n",
       "    </tr>\n",
       "    <tr>\n",
       "      <th>108</th>\n",
       "      <td>tmx_shipping_address_worst_score</td>\n",
       "      <td>0.836775</td>\n",
       "    </tr>\n",
       "    <tr>\n",
       "      <th>107</th>\n",
       "      <td>tmx_shipping_address_score</td>\n",
       "      <td>0.836775</td>\n",
       "    </tr>\n",
       "    <tr>\n",
       "      <th>59</th>\n",
       "      <td>plaid_available_bal</td>\n",
       "      <td>0.778266</td>\n",
       "    </tr>\n",
       "    <tr>\n",
       "      <th>64</th>\n",
       "      <td>plaid_total_neg_bal</td>\n",
       "      <td>0.778266</td>\n",
       "    </tr>\n",
       "  </tbody>\n",
       "</table>\n",
       "</div>"
      ],
      "text/plain": [
       "                                       feature  missing_frac\n",
       "61   plaid_largest_checking_or_savings_balance      1.000000\n",
       "108           tmx_shipping_address_worst_score      0.836775\n",
       "107                 tmx_shipping_address_score      0.836775\n",
       "59                         plaid_available_bal      0.778266\n",
       "64                         plaid_total_neg_bal      0.778266"
      ]
     },
     "execution_count": 16,
     "metadata": {},
     "output_type": "execute_result"
    }
   ],
   "source": [
    "fsel.get_missing(0.1).head()"
   ]
  },
  {
   "cell_type": "markdown",
   "metadata": {},
   "source": [
    "#### Single Unique Value"
   ]
  },
  {
   "cell_type": "code",
   "execution_count": 17,
   "metadata": {},
   "outputs": [
    {
     "name": "stdout",
     "output_type": "stream",
     "text": [
      "2 features with a single unique value.\n"
     ]
    },
    {
     "data": {
      "text/html": [
       "<div>\n",
       "<style scoped>\n",
       "    .dataframe tbody tr th:only-of-type {\n",
       "        vertical-align: middle;\n",
       "    }\n",
       "\n",
       "    .dataframe tbody tr th {\n",
       "        vertical-align: top;\n",
       "    }\n",
       "\n",
       "    .dataframe thead th {\n",
       "        text-align: right;\n",
       "    }\n",
       "</style>\n",
       "<table border=\"1\" class=\"dataframe\">\n",
       "  <thead>\n",
       "    <tr style=\"text-align: right;\">\n",
       "      <th></th>\n",
       "      <th>feature</th>\n",
       "      <th>nr_unique</th>\n",
       "    </tr>\n",
       "  </thead>\n",
       "  <tbody>\n",
       "    <tr>\n",
       "      <th>26</th>\n",
       "      <td>max_withdrawals</td>\n",
       "      <td>1</td>\n",
       "    </tr>\n",
       "    <tr>\n",
       "      <th>107</th>\n",
       "      <td>tmx_shipping_address_score</td>\n",
       "      <td>1</td>\n",
       "    </tr>\n",
       "  </tbody>\n",
       "</table>\n",
       "</div>"
      ],
      "text/plain": [
       "                        feature  nr_unique\n",
       "26              max_withdrawals          1\n",
       "107  tmx_shipping_address_score          1"
      ]
     },
     "execution_count": 17,
     "metadata": {},
     "output_type": "execute_result"
    }
   ],
   "source": [
    "fsel.get_single_unique()"
   ]
  },
  {
   "cell_type": "code",
   "execution_count": 18,
   "metadata": {},
   "outputs": [
    {
     "data": {
      "text/html": [
       "<div>\n",
       "<style scoped>\n",
       "    .dataframe tbody tr th:only-of-type {\n",
       "        vertical-align: middle;\n",
       "    }\n",
       "\n",
       "    .dataframe tbody tr th {\n",
       "        vertical-align: top;\n",
       "    }\n",
       "\n",
       "    .dataframe thead th {\n",
       "        text-align: right;\n",
       "    }\n",
       "</style>\n",
       "<table border=\"1\" class=\"dataframe\">\n",
       "  <thead>\n",
       "    <tr style=\"text-align: right;\">\n",
       "      <th></th>\n",
       "      <th>feature</th>\n",
       "      <th>nr_unique</th>\n",
       "    </tr>\n",
       "  </thead>\n",
       "  <tbody>\n",
       "    <tr>\n",
       "      <th>26</th>\n",
       "      <td>max_withdrawals</td>\n",
       "      <td>1</td>\n",
       "    </tr>\n",
       "    <tr>\n",
       "      <th>107</th>\n",
       "      <td>tmx_shipping_address_score</td>\n",
       "      <td>1</td>\n",
       "    </tr>\n",
       "  </tbody>\n",
       "</table>\n",
       "</div>"
      ],
      "text/plain": [
       "                        feature  nr_unique\n",
       "26              max_withdrawals          1\n",
       "107  tmx_shipping_address_score          1"
      ]
     },
     "execution_count": 18,
     "metadata": {},
     "output_type": "execute_result"
    }
   ],
   "source": [
    "fsel.record_single_unique"
   ]
  },
  {
   "cell_type": "markdown",
   "metadata": {},
   "source": [
    "#### Boruta"
   ]
  },
  {
   "cell_type": "code",
   "execution_count": 19,
   "metadata": {},
   "outputs": [],
   "source": [
    "import lightgbm as lgb\n",
    "count_pos = modeling_df['is_returned'].sum()\n",
    "count_neg = (~modeling_df['is_returned']).sum()\n",
    "pos_wgt_scaling_factor = count_neg / count_pos"
   ]
  },
  {
   "cell_type": "code",
   "execution_count": 20,
   "metadata": {},
   "outputs": [
    {
     "name": "stdout",
     "output_type": "stream",
     "text": [
      "[LightGBM] [Warning] min_data_in_leaf is set=50, min_child_samples=20 will be ignored. Current value: min_data_in_leaf=50\n",
      "CPU times: user 27min 38s, sys: 1.97 s, total: 27min 40s\n",
      "Wall time: 2min 8s\n"
     ]
    },
    {
     "data": {
      "text/html": [
       "<div>\n",
       "<style scoped>\n",
       "    .dataframe tbody tr th:only-of-type {\n",
       "        vertical-align: middle;\n",
       "    }\n",
       "\n",
       "    .dataframe tbody tr th {\n",
       "        vertical-align: top;\n",
       "    }\n",
       "\n",
       "    .dataframe thead th {\n",
       "        text-align: right;\n",
       "    }\n",
       "</style>\n",
       "<table border=\"1\" class=\"dataframe\">\n",
       "  <thead>\n",
       "    <tr style=\"text-align: right;\">\n",
       "      <th></th>\n",
       "      <th>feature</th>\n",
       "      <th>score</th>\n",
       "      <th>mean_importance</th>\n",
       "    </tr>\n",
       "  </thead>\n",
       "  <tbody>\n",
       "    <tr>\n",
       "      <th>15</th>\n",
       "      <td>first_deposit_amount</td>\n",
       "      <td>50.0</td>\n",
       "      <td>4.948260</td>\n",
       "    </tr>\n",
       "    <tr>\n",
       "      <th>116</th>\n",
       "      <td>vantage_score</td>\n",
       "      <td>50.0</td>\n",
       "      <td>3.943385</td>\n",
       "    </tr>\n",
       "    <tr>\n",
       "      <th>13</th>\n",
       "      <td>email_risk_score</td>\n",
       "      <td>45.0</td>\n",
       "      <td>3.008638</td>\n",
       "    </tr>\n",
       "    <tr>\n",
       "      <th>114</th>\n",
       "      <td>transaction_as_pct_of_balance</td>\n",
       "      <td>40.0</td>\n",
       "      <td>2.832464</td>\n",
       "    </tr>\n",
       "    <tr>\n",
       "      <th>55</th>\n",
       "      <td>nr_transactions_per_day</td>\n",
       "      <td>33.0</td>\n",
       "      <td>2.764047</td>\n",
       "    </tr>\n",
       "    <tr>\n",
       "      <th>...</th>\n",
       "      <td>...</td>\n",
       "      <td>...</td>\n",
       "      <td>...</td>\n",
       "    </tr>\n",
       "    <tr>\n",
       "      <th>88</th>\n",
       "      <td>tmx_account_address_worst_score</td>\n",
       "      <td>-15.0</td>\n",
       "      <td>0.002566</td>\n",
       "    </tr>\n",
       "    <tr>\n",
       "      <th>95</th>\n",
       "      <td>tmx_bb_bot_score</td>\n",
       "      <td>-15.0</td>\n",
       "      <td>0.000855</td>\n",
       "    </tr>\n",
       "    <tr>\n",
       "      <th>26</th>\n",
       "      <td>max_withdrawals</td>\n",
       "      <td>-15.0</td>\n",
       "      <td>0.000000</td>\n",
       "    </tr>\n",
       "    <tr>\n",
       "      <th>61</th>\n",
       "      <td>plaid_largest_checking_or_savings_balance</td>\n",
       "      <td>-15.0</td>\n",
       "      <td>0.000000</td>\n",
       "    </tr>\n",
       "    <tr>\n",
       "      <th>96</th>\n",
       "      <td>tmx_bb_fraud_score</td>\n",
       "      <td>-15.0</td>\n",
       "      <td>0.000000</td>\n",
       "    </tr>\n",
       "  </tbody>\n",
       "</table>\n",
       "<p>117 rows × 3 columns</p>\n",
       "</div>"
      ],
      "text/plain": [
       "                                       feature  score  mean_importance\n",
       "15                        first_deposit_amount   50.0         4.948260\n",
       "116                              vantage_score   50.0         3.943385\n",
       "13                            email_risk_score   45.0         3.008638\n",
       "114              transaction_as_pct_of_balance   40.0         2.832464\n",
       "55                     nr_transactions_per_day   33.0         2.764047\n",
       "..                                         ...    ...              ...\n",
       "88             tmx_account_address_worst_score  -15.0         0.002566\n",
       "95                            tmx_bb_bot_score  -15.0         0.000855\n",
       "26                             max_withdrawals  -15.0         0.000000\n",
       "61   plaid_largest_checking_or_savings_balance  -15.0         0.000000\n",
       "96                          tmx_bb_fraud_score  -15.0         0.000000\n",
       "\n",
       "[117 rows x 3 columns]"
      ]
     },
     "execution_count": 20,
     "metadata": {},
     "output_type": "execute_result"
    }
   ],
   "source": [
    "model = lgb.LGBMClassifier(boosting_type='gbdt', metric='auc', max_depth=4, \n",
    "                         n_estimators=250, colsample_bytree=0.6, \n",
    "                         learning_rate=0.1, reg_alpha=10, scale_pos_weight=pos_wgt_scaling_factor, \n",
    "                         min_data_in_leaf=50, random_state=222)\n",
    "boruta_params = {\n",
    "    'features': features,\n",
    "    'drop_at': -15,\n",
    "    'max_iter': 50,\n",
    "    'random_state': 42, \n",
    "    'thresh': 0.3,\n",
    "    'verbose': 1\n",
    "}\n",
    "%time fsel.get_boruta_importance(model, **boruta_params)"
   ]
  },
  {
   "cell_type": "code",
   "execution_count": 21,
   "metadata": {},
   "outputs": [
    {
     "data": {
      "text/html": [
       "<div>\n",
       "<style scoped>\n",
       "    .dataframe tbody tr th:only-of-type {\n",
       "        vertical-align: middle;\n",
       "    }\n",
       "\n",
       "    .dataframe tbody tr th {\n",
       "        vertical-align: top;\n",
       "    }\n",
       "\n",
       "    .dataframe thead th {\n",
       "        text-align: right;\n",
       "    }\n",
       "</style>\n",
       "<table border=\"1\" class=\"dataframe\">\n",
       "  <thead>\n",
       "    <tr style=\"text-align: right;\">\n",
       "      <th></th>\n",
       "      <th>feature</th>\n",
       "      <th>score</th>\n",
       "      <th>mean_importance</th>\n",
       "    </tr>\n",
       "  </thead>\n",
       "  <tbody>\n",
       "    <tr>\n",
       "      <th>15</th>\n",
       "      <td>first_deposit_amount</td>\n",
       "      <td>50.0</td>\n",
       "      <td>4.948260</td>\n",
       "    </tr>\n",
       "    <tr>\n",
       "      <th>116</th>\n",
       "      <td>vantage_score</td>\n",
       "      <td>50.0</td>\n",
       "      <td>3.943385</td>\n",
       "    </tr>\n",
       "    <tr>\n",
       "      <th>13</th>\n",
       "      <td>email_risk_score</td>\n",
       "      <td>45.0</td>\n",
       "      <td>3.008638</td>\n",
       "    </tr>\n",
       "    <tr>\n",
       "      <th>114</th>\n",
       "      <td>transaction_as_pct_of_balance</td>\n",
       "      <td>40.0</td>\n",
       "      <td>2.832464</td>\n",
       "    </tr>\n",
       "    <tr>\n",
       "      <th>55</th>\n",
       "      <td>nr_transactions_per_day</td>\n",
       "      <td>33.0</td>\n",
       "      <td>2.764047</td>\n",
       "    </tr>\n",
       "    <tr>\n",
       "      <th>...</th>\n",
       "      <td>...</td>\n",
       "      <td>...</td>\n",
       "      <td>...</td>\n",
       "    </tr>\n",
       "    <tr>\n",
       "      <th>88</th>\n",
       "      <td>tmx_account_address_worst_score</td>\n",
       "      <td>-15.0</td>\n",
       "      <td>0.002566</td>\n",
       "    </tr>\n",
       "    <tr>\n",
       "      <th>95</th>\n",
       "      <td>tmx_bb_bot_score</td>\n",
       "      <td>-15.0</td>\n",
       "      <td>0.000855</td>\n",
       "    </tr>\n",
       "    <tr>\n",
       "      <th>26</th>\n",
       "      <td>max_withdrawals</td>\n",
       "      <td>-15.0</td>\n",
       "      <td>0.000000</td>\n",
       "    </tr>\n",
       "    <tr>\n",
       "      <th>61</th>\n",
       "      <td>plaid_largest_checking_or_savings_balance</td>\n",
       "      <td>-15.0</td>\n",
       "      <td>0.000000</td>\n",
       "    </tr>\n",
       "    <tr>\n",
       "      <th>96</th>\n",
       "      <td>tmx_bb_fraud_score</td>\n",
       "      <td>-15.0</td>\n",
       "      <td>0.000000</td>\n",
       "    </tr>\n",
       "  </tbody>\n",
       "</table>\n",
       "<p>117 rows × 3 columns</p>\n",
       "</div>"
      ],
      "text/plain": [
       "                                       feature  score  mean_importance\n",
       "15                        first_deposit_amount   50.0         4.948260\n",
       "116                              vantage_score   50.0         3.943385\n",
       "13                            email_risk_score   45.0         3.008638\n",
       "114              transaction_as_pct_of_balance   40.0         2.832464\n",
       "55                     nr_transactions_per_day   33.0         2.764047\n",
       "..                                         ...    ...              ...\n",
       "88             tmx_account_address_worst_score  -15.0         0.002566\n",
       "95                            tmx_bb_bot_score  -15.0         0.000855\n",
       "26                             max_withdrawals  -15.0         0.000000\n",
       "61   plaid_largest_checking_or_savings_balance  -15.0         0.000000\n",
       "96                          tmx_bb_fraud_score  -15.0         0.000000\n",
       "\n",
       "[117 rows x 3 columns]"
      ]
     },
     "execution_count": 21,
     "metadata": {},
     "output_type": "execute_result"
    }
   ],
   "source": [
    "fsel.record_boruta_importance"
   ]
  },
  {
   "cell_type": "code",
   "execution_count": 22,
   "metadata": {},
   "outputs": [],
   "source": [
    "fsel.record_boruta_importance.to_csv('../../artifacts/20201005/boruta_importance_iter0.csv')"
   ]
  },
  {
   "cell_type": "code",
   "execution_count": 23,
   "metadata": {},
   "outputs": [
    {
     "data": {
      "text/plain": [
       "<AxesSubplot:>"
      ]
     },
     "execution_count": 23,
     "metadata": {},
     "output_type": "execute_result"
    },
    {
     "data": {
      "image/png": "[encoded data removed]",
      "text/plain": [
       "<Figure size 432x288 with 1 Axes>"
      ]
     },
     "metadata": {
      "needs_background": "light"
     },
     "output_type": "display_data"
    }
   ],
   "source": [
    "fimp = fsel.record_boruta_importance\n",
    "fimp.score.hist()"
   ]
  },
  {
   "cell_type": "code",
   "execution_count": 24,
   "metadata": {},
   "outputs": [],
   "source": [
    "boruta_features_iter0 = fimp[fimp.score>-10].feature.tolist()"
   ]
  },
  {
   "cell_type": "markdown",
   "metadata": {},
   "source": [
    "#### Remove Highly Correlated Features from Boruta features"
   ]
  },
  {
   "cell_type": "code",
   "execution_count": 25,
   "metadata": {},
   "outputs": [
    {
     "name": "stdout",
     "output_type": "stream",
     "text": [
      "correlation lowerbound: -0.6\n",
      "correlation upperbound: 0.6\n",
      "8 features have correlationbeyond bounds provided\n"
     ]
    }
   ],
   "source": [
    "corr_ = fsel.get_collinear(-0.6, 0.6, boruta_features_iter0)"
   ]
  },
  {
   "cell_type": "code",
   "execution_count": 26,
   "metadata": {},
   "outputs": [
    {
     "data": {
      "text/plain": [
       "[('transaction_as_pct_of_balance',\n",
       "  'rolling_trns_as_pct_of_bal',\n",
       "  0.9743327345547994),\n",
       " ('transaction_as_pct_of_balance',\n",
       "  'transaction_as_pct_of_bal_min',\n",
       "  0.9338571154141426),\n",
       " ('bcc7120', 'all7120', 0.660112214763305),\n",
       " ('rolling_trns_as_pct_of_bal',\n",
       "  'transaction_as_pct_of_bal_min',\n",
       "  0.9740042281758967),\n",
       " ('plaid_max_avail_bal', 'plaid_total_pos_bal', 0.9133281804725447),\n",
       " ('fico_score', 'all8220', 0.6614249034603694),\n",
       " ('sum_deposits_10d', 'sum_deposits_30d', 0.8402045161558781),\n",
       " ('sum_deposits_10d', 'mean_deposits_10d', 0.6733882003174134)]"
      ]
     },
     "execution_count": 26,
     "metadata": {},
     "output_type": "execute_result"
    }
   ],
   "source": [
    "fsel.record_collinear_pairs"
   ]
  },
  {
   "cell_type": "code",
   "execution_count": 27,
   "metadata": {},
   "outputs": [
    {
     "data": {
      "image/png": "[encoded data removed]",
      "text/plain": [
       "<Figure size 720x432 with 2 Axes>"
      ]
     },
     "metadata": {
      "needs_background": "light"
     },
     "output_type": "display_data"
    },
    {
     "data": {
      "text/plain": [
       "(<Figure size 720x432 with 2 Axes>,\n",
       " <AxesSubplot:title={'center':'Correlation Matrix of Highly Correlated Features'}>)"
      ]
     },
     "execution_count": 27,
     "metadata": {},
     "output_type": "execute_result"
    }
   ],
   "source": [
    "fsel.plot_collinear()"
   ]
  },
  {
   "cell_type": "code",
   "execution_count": null,
   "metadata": {},
   "outputs": [],
   "source": []
  },
  {
   "cell_type": "markdown",
   "metadata": {},
   "source": [
    "### Save the states of the feature selector "
   ]
  },
  {
   "cell_type": "code",
   "execution_count": 28,
   "metadata": {},
   "outputs": [
    {
     "name": "stdout",
     "output_type": "stream",
     "text": [
      "state dictionary saved!\n"
     ]
    }
   ],
   "source": [
    "path = '../../artifacts/20201005/feature_selector_dict.pkl'\n",
    "fsel.save(path)"
   ]
  },
  {
   "cell_type": "code",
   "execution_count": null,
   "metadata": {},
   "outputs": [],
   "source": []
  },
  {
   "cell_type": "code",
   "execution_count": null,
   "metadata": {},
   "outputs": [],
   "source": []
  },
  {
   "cell_type": "code",
   "execution_count": null,
   "metadata": {},
   "outputs": [],
   "source": []
  }
 ],
 "metadata": {
  "kernelspec": {
   "display_name": "conda_ml_basic_py37",
   "language": "python",
   "name": "conda_ml_basic_py37"
  },
  "language_info": {
   "codemirror_mode": {
    "name": "ipython",
    "version": 3
   },
   "file_extension": ".py",
   "mimetype": "text/x-python",
   "name": "python",
   "nbconvert_exporter": "python",
   "pygments_lexer": "ipython3",
   "version": "3.7.8"
  }
 },
 "nbformat": 4,
 "nbformat_minor": 4
}
