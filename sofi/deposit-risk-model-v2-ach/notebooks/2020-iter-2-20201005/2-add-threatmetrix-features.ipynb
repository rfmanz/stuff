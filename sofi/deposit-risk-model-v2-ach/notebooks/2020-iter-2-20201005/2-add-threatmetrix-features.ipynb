{
 "cells": [
  {
   "cell_type": "markdown",
   "metadata": {},
   "source": [
    "### Add ThreatMetrix features to the transactions dataframe"
   ]
  },
  {
   "cell_type": "code",
   "execution_count": 2,
   "metadata": {},
   "outputs": [],
   "source": [
    "import pandas as pd\n",
    "import numpy as np\n",
    "import category_encoders\n",
    "import matplotlib.pyplot as plt\n",
    "import seaborn as sns\n",
    "from IPython.display import display\n",
    "\n",
    "%load_ext autoreload\n",
    "%autoreload 2"
   ]
  },
  {
   "cell_type": "markdown",
   "metadata": {},
   "source": [
    "### Load and Clean TMX"
   ]
  },
  {
   "cell_type": "code",
   "execution_count": 2,
   "metadata": {},
   "outputs": [
    {
     "name": "stdout",
     "output_type": "stream",
     "text": [
      "<class 'pandas.core.frame.DataFrame'>\n",
      "RangeIndex: 709924 entries, 0 to 709923\n",
      "Data columns (total 24 columns):\n",
      " #   Column                              Non-Null Count   Dtype              \n",
      "---  ------                              --------------   -----              \n",
      " 0   user_id                             709924 non-null  object             \n",
      " 1   created_dt                          709924 non-null  datetime64[ns, UTC]\n",
      " 2   bb_bot_score                        500402 non-null  object             \n",
      " 3   policy_score                        681025 non-null  object             \n",
      " 4   bb_fraud_score                      500402 non-null  object             \n",
      " 5   input_ip_score                      638267 non-null  object             \n",
      " 6   account_name_score                  561643 non-null  object             \n",
      " 7   summary_risk_score                  681025 non-null  object             \n",
      " 8   account_email_score                 596566 non-null  object             \n",
      " 9   account_number_score                465733 non-null  object             \n",
      " 10  input_ip_worst_score                632885 non-null  object             \n",
      " 11  account_address_score               253073 non-null  object             \n",
      " 12  digital_id_trust_score              537994 non-null  object             \n",
      " 13  shipping_address_score              201093 non-null  object             \n",
      " 14  challenger_policy_score             488067 non-null  object             \n",
      " 15  account_name_worst_score            561643 non-null  object             \n",
      " 16  account_email_worst_score           596567 non-null  object             \n",
      " 17  account_number_worst_score          465733 non-null  object             \n",
      " 18  account_address_worst_score         253074 non-null  object             \n",
      " 19  shipping_address_worst_score        201093 non-null  object             \n",
      " 20  digital_id_trust_score_rating       679747 non-null  object             \n",
      " 21  digital_id_trust_score_reason_code  679747 non-null  object             \n",
      " 22  digital_id_confidence               681025 non-null  object             \n",
      " 23  digital_id_confidence_rating        681025 non-null  object             \n",
      "dtypes: datetime64[ns, UTC](1), object(23)\n",
      "memory usage: 130.0+ MB\n"
     ]
    }
   ],
   "source": [
    "transactions_df = pd.read_parquet('../../artifacts/20200920/transactions_df_unlabeled.parquet')\n",
    "tmx_df = pd.read_parquet('../../../ach-risk/data/TMX_scores.parquet')\n",
    "tmx_df.info()"
   ]
  },
  {
   "cell_type": "code",
   "execution_count": 3,
   "metadata": {},
   "outputs": [
    {
     "data": {
      "text/plain": [
       "0    False\n",
       "1     None\n",
       "2     None\n",
       "3     None\n",
       "4     None\n",
       "Name: is_returned, dtype: object"
      ]
     },
     "execution_count": 3,
     "metadata": {},
     "output_type": "execute_result"
    }
   ],
   "source": [
    "transactions_df.is_returned.head()"
   ]
  },
  {
   "cell_type": "code",
   "execution_count": 4,
   "metadata": {},
   "outputs": [],
   "source": [
    "def parse_str_obj(s, cast_type=str):\n",
    "    if isinstance(s, str):\n",
    "        s = s.lstrip('[\"').rstrip('\"]')\n",
    "        s = cast_type(s)\n",
    "    return s"
   ]
  },
  {
   "cell_type": "code",
   "execution_count": 5,
   "metadata": {},
   "outputs": [
    {
     "data": {
      "text/plain": [
       "Index(['user_id', 'created_dt', 'bb_bot_score', 'policy_score',\n",
       "       'bb_fraud_score', 'input_ip_score', 'account_name_score',\n",
       "       'summary_risk_score', 'account_email_score', 'account_number_score',\n",
       "       'input_ip_worst_score', 'account_address_score',\n",
       "       'digital_id_trust_score', 'shipping_address_score',\n",
       "       'challenger_policy_score', 'account_name_worst_score',\n",
       "       'account_email_worst_score', 'account_number_worst_score',\n",
       "       'account_address_worst_score', 'shipping_address_worst_score',\n",
       "       'digital_id_trust_score_rating', 'digital_id_trust_score_reason_code',\n",
       "       'digital_id_confidence', 'digital_id_confidence_rating'],\n",
       "      dtype='object')"
      ]
     },
     "execution_count": 5,
     "metadata": {},
     "output_type": "execute_result"
    }
   ],
   "source": [
    "tmx_df.columns"
   ]
  },
  {
   "cell_type": "code",
   "execution_count": 6,
   "metadata": {},
   "outputs": [],
   "source": [
    "columns = ['bb_bot_score', 'policy_score',\n",
    "       'bb_fraud_score', 'input_ip_score', 'account_name_score',\n",
    "       'summary_risk_score', 'account_email_score', 'account_number_score',\n",
    "       'input_ip_worst_score', 'account_address_score',\n",
    "       'digital_id_trust_score', 'shipping_address_score',\n",
    "       'challenger_policy_score', 'account_name_worst_score',\n",
    "       'account_email_worst_score', 'account_number_worst_score',\n",
    "       'account_address_worst_score', 'shipping_address_worst_score',\n",
    "       'digital_id_trust_score_rating', 'digital_id_trust_score_reason_code',\n",
    "       'digital_id_confidence', 'digital_id_confidence_rating']\n",
    "\n",
    "for col in columns:\n",
    "    tmx_df[col] = tmx_df[col].apply(parse_str_obj)\n",
    "    \n",
    "    # if we ccan cast the data as float\n",
    "    if 'score' in col:\n",
    "        try:\n",
    "            tmx_df[col] = tmx_df[col].astype(float)\n",
    "        except:\n",
    "            pass\n",
    "        "
   ]
  },
  {
   "cell_type": "code",
   "execution_count": 7,
   "metadata": {},
   "outputs": [
    {
     "data": {
      "text/html": [
       "<div>\n",
       "<style scoped>\n",
       "    .dataframe tbody tr th:only-of-type {\n",
       "        vertical-align: middle;\n",
       "    }\n",
       "\n",
       "    .dataframe tbody tr th {\n",
       "        vertical-align: top;\n",
       "    }\n",
       "\n",
       "    .dataframe thead th {\n",
       "        text-align: right;\n",
       "    }\n",
       "</style>\n",
       "<table border=\"1\" class=\"dataframe\">\n",
       "  <thead>\n",
       "    <tr style=\"text-align: right;\">\n",
       "      <th></th>\n",
       "      <th>user_id</th>\n",
       "      <th>created_dt</th>\n",
       "      <th>bb_bot_score</th>\n",
       "      <th>policy_score</th>\n",
       "      <th>bb_fraud_score</th>\n",
       "      <th>input_ip_score</th>\n",
       "      <th>account_name_score</th>\n",
       "      <th>summary_risk_score</th>\n",
       "      <th>account_email_score</th>\n",
       "      <th>account_number_score</th>\n",
       "      <th>...</th>\n",
       "      <th>challenger_policy_score</th>\n",
       "      <th>account_name_worst_score</th>\n",
       "      <th>account_email_worst_score</th>\n",
       "      <th>account_number_worst_score</th>\n",
       "      <th>account_address_worst_score</th>\n",
       "      <th>shipping_address_worst_score</th>\n",
       "      <th>digital_id_trust_score_rating</th>\n",
       "      <th>digital_id_trust_score_reason_code</th>\n",
       "      <th>digital_id_confidence</th>\n",
       "      <th>digital_id_confidence_rating</th>\n",
       "    </tr>\n",
       "  </thead>\n",
       "  <tbody>\n",
       "    <tr>\n",
       "      <th>0</th>\n",
       "      <td>15153418</td>\n",
       "      <td>2019-12-11 18:05:59.111383+00:00</td>\n",
       "      <td>500.0</td>\n",
       "      <td>-10.0</td>\n",
       "      <td>500.0</td>\n",
       "      <td>2.0</td>\n",
       "      <td>0.0</td>\n",
       "      <td>-10.0</td>\n",
       "      <td>NaN</td>\n",
       "      <td>0.0</td>\n",
       "      <td>...</td>\n",
       "      <td>-13.0</td>\n",
       "      <td>-61.0</td>\n",
       "      <td>NaN</td>\n",
       "      <td>0.0</td>\n",
       "      <td>0.0</td>\n",
       "      <td>NaN</td>\n",
       "      <td>very_high</td>\n",
       "      <td>_ts_conf_avg_zero\", \"_ts_very_low_conf_score\",...</td>\n",
       "      <td>0</td>\n",
       "      <td>very_low</td>\n",
       "    </tr>\n",
       "    <tr>\n",
       "      <th>1</th>\n",
       "      <td>16341196</td>\n",
       "      <td>2020-07-21 01:19:16.583709+00:00</td>\n",
       "      <td>500.0</td>\n",
       "      <td>0.0</td>\n",
       "      <td>500.0</td>\n",
       "      <td>0.0</td>\n",
       "      <td>0.0</td>\n",
       "      <td>0.0</td>\n",
       "      <td>0.0</td>\n",
       "      <td>NaN</td>\n",
       "      <td>...</td>\n",
       "      <td>5.0</td>\n",
       "      <td>0.0</td>\n",
       "      <td>0.0</td>\n",
       "      <td>NaN</td>\n",
       "      <td>0.0</td>\n",
       "      <td>0.0</td>\n",
       "      <td>very_high</td>\n",
       "      <td>_ts_very_low_conf_score\", \"_ts_low_entity_age_...</td>\n",
       "      <td>2952</td>\n",
       "      <td>medium</td>\n",
       "    </tr>\n",
       "    <tr>\n",
       "      <th>2</th>\n",
       "      <td>16525856</td>\n",
       "      <td>2020-08-11 10:58:36.753718+00:00</td>\n",
       "      <td>500.0</td>\n",
       "      <td>0.0</td>\n",
       "      <td>500.0</td>\n",
       "      <td>1.0</td>\n",
       "      <td>0.0</td>\n",
       "      <td>0.0</td>\n",
       "      <td>0.0</td>\n",
       "      <td>0.0</td>\n",
       "      <td>...</td>\n",
       "      <td>-13.0</td>\n",
       "      <td>0.0</td>\n",
       "      <td>0.0</td>\n",
       "      <td>0.0</td>\n",
       "      <td>0.0</td>\n",
       "      <td>NaN</td>\n",
       "      <td>low</td>\n",
       "      <td>_ts_low_conf_score\", \"_ts_gbl_ip_black\", \"_ts_...</td>\n",
       "      <td>7566</td>\n",
       "      <td>high</td>\n",
       "    </tr>\n",
       "    <tr>\n",
       "      <th>3</th>\n",
       "      <td>16499250</td>\n",
       "      <td>2020-08-08 14:46:18.598669+00:00</td>\n",
       "      <td>500.0</td>\n",
       "      <td>0.0</td>\n",
       "      <td>500.0</td>\n",
       "      <td>0.0</td>\n",
       "      <td>2.0</td>\n",
       "      <td>0.0</td>\n",
       "      <td>0.0</td>\n",
       "      <td>0.0</td>\n",
       "      <td>...</td>\n",
       "      <td>5.0</td>\n",
       "      <td>-24.0</td>\n",
       "      <td>0.0</td>\n",
       "      <td>0.0</td>\n",
       "      <td>NaN</td>\n",
       "      <td>NaN</td>\n",
       "      <td>very_high</td>\n",
       "      <td>_ts_conf_avg_zero\", \"_ts_very_low_conf_score\",...</td>\n",
       "      <td>0</td>\n",
       "      <td>very_low</td>\n",
       "    </tr>\n",
       "    <tr>\n",
       "      <th>4</th>\n",
       "      <td>15498831</td>\n",
       "      <td>2020-02-20 21:55:52.867000+00:00</td>\n",
       "      <td>500.0</td>\n",
       "      <td>0.0</td>\n",
       "      <td>500.0</td>\n",
       "      <td>0.0</td>\n",
       "      <td>NaN</td>\n",
       "      <td>0.0</td>\n",
       "      <td>0.0</td>\n",
       "      <td>NaN</td>\n",
       "      <td>...</td>\n",
       "      <td>5.0</td>\n",
       "      <td>NaN</td>\n",
       "      <td>0.0</td>\n",
       "      <td>NaN</td>\n",
       "      <td>NaN</td>\n",
       "      <td>NaN</td>\n",
       "      <td>very_low</td>\n",
       "      <td>_ts_conf_avg_zero\", \"_ts_very_low_conf_score\",...</td>\n",
       "      <td>0</td>\n",
       "      <td>very_low</td>\n",
       "    </tr>\n",
       "  </tbody>\n",
       "</table>\n",
       "<p>5 rows × 24 columns</p>\n",
       "</div>"
      ],
      "text/plain": [
       "    user_id                       created_dt  bb_bot_score  policy_score  \\\n",
       "0  15153418 2019-12-11 18:05:59.111383+00:00         500.0         -10.0   \n",
       "1  16341196 2020-07-21 01:19:16.583709+00:00         500.0           0.0   \n",
       "2  16525856 2020-08-11 10:58:36.753718+00:00         500.0           0.0   \n",
       "3  16499250 2020-08-08 14:46:18.598669+00:00         500.0           0.0   \n",
       "4  15498831 2020-02-20 21:55:52.867000+00:00         500.0           0.0   \n",
       "\n",
       "   bb_fraud_score  input_ip_score  account_name_score  summary_risk_score  \\\n",
       "0           500.0             2.0                 0.0               -10.0   \n",
       "1           500.0             0.0                 0.0                 0.0   \n",
       "2           500.0             1.0                 0.0                 0.0   \n",
       "3           500.0             0.0                 2.0                 0.0   \n",
       "4           500.0             0.0                 NaN                 0.0   \n",
       "\n",
       "   account_email_score  account_number_score  ...  challenger_policy_score  \\\n",
       "0                  NaN                   0.0  ...                    -13.0   \n",
       "1                  0.0                   NaN  ...                      5.0   \n",
       "2                  0.0                   0.0  ...                    -13.0   \n",
       "3                  0.0                   0.0  ...                      5.0   \n",
       "4                  0.0                   NaN  ...                      5.0   \n",
       "\n",
       "   account_name_worst_score  account_email_worst_score  \\\n",
       "0                     -61.0                        NaN   \n",
       "1                       0.0                        0.0   \n",
       "2                       0.0                        0.0   \n",
       "3                     -24.0                        0.0   \n",
       "4                       NaN                        0.0   \n",
       "\n",
       "   account_number_worst_score  account_address_worst_score  \\\n",
       "0                         0.0                          0.0   \n",
       "1                         NaN                          0.0   \n",
       "2                         0.0                          0.0   \n",
       "3                         0.0                          NaN   \n",
       "4                         NaN                          NaN   \n",
       "\n",
       "   shipping_address_worst_score  digital_id_trust_score_rating  \\\n",
       "0                           NaN                      very_high   \n",
       "1                           0.0                      very_high   \n",
       "2                           NaN                            low   \n",
       "3                           NaN                      very_high   \n",
       "4                           NaN                       very_low   \n",
       "\n",
       "                  digital_id_trust_score_reason_code  digital_id_confidence  \\\n",
       "0  _ts_conf_avg_zero\", \"_ts_very_low_conf_score\",...                      0   \n",
       "1  _ts_very_low_conf_score\", \"_ts_low_entity_age_...                   2952   \n",
       "2  _ts_low_conf_score\", \"_ts_gbl_ip_black\", \"_ts_...                   7566   \n",
       "3  _ts_conf_avg_zero\", \"_ts_very_low_conf_score\",...                      0   \n",
       "4  _ts_conf_avg_zero\", \"_ts_very_low_conf_score\",...                      0   \n",
       "\n",
       "   digital_id_confidence_rating  \n",
       "0                      very_low  \n",
       "1                        medium  \n",
       "2                          high  \n",
       "3                      very_low  \n",
       "4                      very_low  \n",
       "\n",
       "[5 rows x 24 columns]"
      ]
     },
     "execution_count": 7,
     "metadata": {},
     "output_type": "execute_result"
    }
   ],
   "source": [
    "tmx_df.head()"
   ]
  },
  {
   "cell_type": "markdown",
   "metadata": {},
   "source": [
    "#### Check out features we will first consider"
   ]
  },
  {
   "cell_type": "code",
   "execution_count": 8,
   "metadata": {},
   "outputs": [
    {
     "data": {
      "image/png": "[encoded data removed]",
      "text/plain": [
       "<Figure size 432x288 with 1 Axes>"
      ]
     },
     "metadata": {
      "needs_background": "light"
     },
     "output_type": "display_data"
    },
    {
     "data": {
      "image/png": "[encoded data removed]",
      "text/plain": [
       "<Figure size 432x288 with 1 Axes>"
      ]
     },
     "metadata": {
      "needs_background": "light"
     },
     "output_type": "display_data"
    },
    {
     "data": {
      "image/png": "[encoded data removed]",
      "text/plain": [
       "<Figure size 432x288 with 1 Axes>"
      ]
     },
     "metadata": {
      "needs_background": "light"
     },
     "output_type": "display_data"
    },
    {
     "data": {
      "image/png": "[encoded data removed]",
      "text/plain": [
       "<Figure size 432x288 with 1 Axes>"
      ]
     },
     "metadata": {
      "needs_background": "light"
     },
     "output_type": "display_data"
    },
    {
     "data": {
      "image/png": "[encoded data removed]",
      "text/plain": [
       "<Figure size 432x288 with 1 Axes>"
      ]
     },
     "metadata": {
      "needs_background": "light"
     },
     "output_type": "display_data"
    },
    {
     "data": {
      "image/png": "[encoded data removed]",
      "text/plain": [
       "<Figure size 432x288 with 1 Axes>"
      ]
     },
     "metadata": {
      "needs_background": "light"
     },
     "output_type": "display_data"
    }
   ],
   "source": [
    "features = ['policy_score', 'challenger_policy_score', \n",
    "            'summary_risk_score', 'input_ip_score', \n",
    "            'digital_id_trust_score_rating', 'digital_id_confidence_rating']\n",
    "\n",
    "for f in features:\n",
    "    tmx_df[f].hist()\n",
    "    plt.title(f)\n",
    "    plt.show()"
   ]
  },
  {
   "cell_type": "code",
   "execution_count": 9,
   "metadata": {},
   "outputs": [
    {
     "data": {
      "text/plain": [
       "0   2019-12-11 18:05:59.111383+00:00\n",
       "1   2020-07-21 01:19:16.583709+00:00\n",
       "2   2020-08-11 10:58:36.753718+00:00\n",
       "3   2020-08-08 14:46:18.598669+00:00\n",
       "4   2020-02-20 21:55:52.867000+00:00\n",
       "Name: created_dt, dtype: datetime64[ns, UTC]"
      ]
     },
     "execution_count": 9,
     "metadata": {},
     "output_type": "execute_result"
    }
   ],
   "source": [
    "tmx_df.created_dt.head()"
   ]
  },
  {
   "cell_type": "markdown",
   "metadata": {},
   "source": [
    "#### Create some TMX features\n",
    "---"
   ]
  },
  {
   "cell_type": "code",
   "execution_count": 10,
   "metadata": {},
   "outputs": [],
   "source": [
    "cols = tmx_df.columns.to_list()\n",
    "cols = cols[:1] + list(map(lambda x: 'tmx_'+x, cols[1:]))\n",
    "tmx_df.columns = cols"
   ]
  },
  {
   "cell_type": "code",
   "execution_count": 11,
   "metadata": {},
   "outputs": [],
   "source": [
    "tmx_df['user_id'] = tmx_df['user_id'].astype(int)\n",
    "tmx_df['tmx_created_dt'] = pd.to_datetime(tmx_df['tmx_created_dt']).dt.tz_localize(None)"
   ]
  },
  {
   "cell_type": "code",
   "execution_count": 12,
   "metadata": {},
   "outputs": [
    {
     "data": {
      "text/plain": [
       "very_high    412644\n",
       "very_low     152508\n",
       "low           79256\n",
       "neutral       19935\n",
       "high          15404\n",
       "Name: tmx_digital_id_trust_score_rating, dtype: int64"
      ]
     },
     "execution_count": 12,
     "metadata": {},
     "output_type": "execute_result"
    }
   ],
   "source": [
    "tmx_df['tmx_digital_id_trust_score_rating'].value_counts()"
   ]
  },
  {
   "cell_type": "code",
   "execution_count": 13,
   "metadata": {},
   "outputs": [
    {
     "data": {
      "text/plain": [
       "very_low     390284\n",
       "medium       174533\n",
       "high          73151\n",
       "very_high     23569\n",
       "low           19488\n",
       "Name: tmx_digital_id_confidence_rating, dtype: int64"
      ]
     },
     "execution_count": 13,
     "metadata": {},
     "output_type": "execute_result"
    }
   ],
   "source": [
    "tmx_df['tmx_digital_id_confidence_rating'].value_counts()"
   ]
  },
  {
   "cell_type": "code",
   "execution_count": 14,
   "metadata": {},
   "outputs": [],
   "source": [
    "tmx_rating_map = {'very_low': -2, \n",
    "                  'low': -1, \n",
    "                  'neutral': 0,\n",
    "                  'medium': 0,\n",
    "                  'high': 1,\n",
    "                  'very_high': 2}\n",
    "tmx_df['tmx_digital_id_trust_score_rating'] = tmx_df['tmx_digital_id_trust_score_rating'].replace(tmx_rating_map)\n",
    "tmx_df['tmx_digital_id_confidence_rating'] = tmx_df['tmx_digital_id_confidence_rating'].replace(tmx_rating_map)"
   ]
  },
  {
   "cell_type": "code",
   "execution_count": 15,
   "metadata": {},
   "outputs": [],
   "source": [
    "tmx_df['tmx_digital_id_confidence'].fillna(np.nan, inplace=True)\n",
    "tmx_df['tmx_digital_id_confidence'] = tmx_df['tmx_digital_id_confidence'].astype(float)"
   ]
  },
  {
   "cell_type": "code",
   "execution_count": 16,
   "metadata": {},
   "outputs": [
    {
     "data": {
      "text/plain": [
       "<AxesSubplot:>"
      ]
     },
     "execution_count": 16,
     "metadata": {},
     "output_type": "execute_result"
    },
    {
     "data": {
      "image/png": "[encoded data removed]",
      "text/plain": [
       "<Figure size 432x288 with 1 Axes>"
      ]
     },
     "metadata": {
      "needs_background": "light"
     },
     "output_type": "display_data"
    }
   ],
   "source": [
    "tmx_df['tmx_digital_id_confidence_rating'].hist()"
   ]
  },
  {
   "cell_type": "code",
   "execution_count": 17,
   "metadata": {},
   "outputs": [
    {
     "name": "stdout",
     "output_type": "stream",
     "text": [
      "<class 'pandas.core.frame.DataFrame'>\n",
      "RangeIndex: 709924 entries, 0 to 709923\n",
      "Data columns (total 24 columns):\n",
      " #   Column                                  Non-Null Count   Dtype         \n",
      "---  ------                                  --------------   -----         \n",
      " 0   user_id                                 709924 non-null  int64         \n",
      " 1   tmx_created_dt                          709924 non-null  datetime64[ns]\n",
      " 2   tmx_bb_bot_score                        500402 non-null  float64       \n",
      " 3   tmx_policy_score                        681025 non-null  float64       \n",
      " 4   tmx_bb_fraud_score                      500402 non-null  float64       \n",
      " 5   tmx_input_ip_score                      638267 non-null  float64       \n",
      " 6   tmx_account_name_score                  561643 non-null  float64       \n",
      " 7   tmx_summary_risk_score                  681025 non-null  float64       \n",
      " 8   tmx_account_email_score                 596566 non-null  float64       \n",
      " 9   tmx_account_number_score                465733 non-null  float64       \n",
      " 10  tmx_input_ip_worst_score                632885 non-null  float64       \n",
      " 11  tmx_account_address_score               253073 non-null  float64       \n",
      " 12  tmx_digital_id_trust_score              537994 non-null  float64       \n",
      " 13  tmx_shipping_address_score              201093 non-null  float64       \n",
      " 14  tmx_challenger_policy_score             488067 non-null  float64       \n",
      " 15  tmx_account_name_worst_score            561643 non-null  float64       \n",
      " 16  tmx_account_email_worst_score           596567 non-null  float64       \n",
      " 17  tmx_account_number_worst_score          465733 non-null  float64       \n",
      " 18  tmx_account_address_worst_score         253074 non-null  float64       \n",
      " 19  tmx_shipping_address_worst_score        201093 non-null  float64       \n",
      " 20  tmx_digital_id_trust_score_rating       679747 non-null  float64       \n",
      " 21  tmx_digital_id_trust_score_reason_code  679747 non-null  object        \n",
      " 22  tmx_digital_id_confidence               681025 non-null  float64       \n",
      " 23  tmx_digital_id_confidence_rating        681025 non-null  float64       \n",
      "dtypes: datetime64[ns](1), float64(21), int64(1), object(1)\n",
      "memory usage: 130.0+ MB\n"
     ]
    }
   ],
   "source": [
    "tmx_df.info()"
   ]
  },
  {
   "cell_type": "code",
   "execution_count": 18,
   "metadata": {},
   "outputs": [],
   "source": [
    "tmx_df = tmx_df.sort_values(by=['tmx_created_dt', 'user_id'], ascending=True)"
   ]
  },
  {
   "cell_type": "code",
   "execution_count": 19,
   "metadata": {},
   "outputs": [],
   "source": [
    "tmx_df['tmx_first_link_dt'] = tmx_df.groupby('user_id')['tmx_created_dt'].cummin()\n",
    "tmx_df['tmx_last_link_dt'] = tmx_df.groupby('user_id')['tmx_created_dt'].cummax()"
   ]
  },
  {
   "cell_type": "code",
   "execution_count": 20,
   "metadata": {},
   "outputs": [],
   "source": [
    "tmx_df['tmx_nr_past_tmx'] = tmx_df.groupby('user_id')['user_id'].cumcount()"
   ]
  },
  {
   "cell_type": "code",
   "execution_count": 21,
   "metadata": {},
   "outputs": [],
   "source": [
    "transactions_df = transactions_df.sort_values(by=['transaction_datetime', 'user_id'], ascending=True)"
   ]
  },
  {
   "cell_type": "markdown",
   "metadata": {},
   "source": [
    "#### Cleaning Done, Merge with transactions"
   ]
  },
  {
   "cell_type": "code",
   "execution_count": 22,
   "metadata": {},
   "outputs": [
    {
     "data": {
      "text/plain": [
       "[11010052,\n",
       " 14680070,\n",
       " 15204359,\n",
       " 12582918,\n",
       " 13107209,\n",
       " 16777226,\n",
       " 15204363,\n",
       " 16252940,\n",
       " 16777229,\n",
       " 14680083]"
      ]
     },
     "execution_count": 22,
     "metadata": {},
     "output_type": "execute_result"
    }
   ],
   "source": [
    "uid = list(set(tmx_df.user_id).intersection(set(transactions_df.user_id)))[:10]\n",
    "uid"
   ]
  },
  {
   "cell_type": "code",
   "execution_count": 23,
   "metadata": {},
   "outputs": [],
   "source": [
    "tmxdf_ = tmx_df[tmx_df.user_id.isin(uid)]\n",
    "transdf_ = transactions_df[transactions_df.user_id.isin(uid)]"
   ]
  },
  {
   "cell_type": "code",
   "execution_count": 24,
   "metadata": {},
   "outputs": [
    {
     "data": {
      "text/plain": [
       "((10, 27), (901, 170))"
      ]
     },
     "execution_count": 24,
     "metadata": {},
     "output_type": "execute_result"
    }
   ],
   "source": [
    "tmxdf_.shape, transdf_.shape"
   ]
  },
  {
   "cell_type": "code",
   "execution_count": 25,
   "metadata": {},
   "outputs": [],
   "source": [
    "# debug\n",
    "# base_df = pd.merge_asof(transdf_, tmxdf_, left_on='transaction_datetime',\n",
    "#                         right_on='created_dt', by='user_id')\n",
    "base_df = pd.merge_asof(transactions_df, tmx_df, \n",
    "                        left_on='transaction_datetime', \n",
    "                        right_on='tmx_created_dt', by='user_id')"
   ]
  },
  {
   "cell_type": "code",
   "execution_count": 26,
   "metadata": {},
   "outputs": [
    {
     "data": {
      "text/plain": [
       "Index(['user_id', 'business_account_number', 'transaction_datetime',\n",
       "       'transaction_code', 'is_return', 'transaction_amount', 'endbal',\n",
       "       'external_account_number', 'real_ending_balance',\n",
       "       'external_institution_id',\n",
       "       ...\n",
       "       'tmx_account_number_worst_score', 'tmx_account_address_worst_score',\n",
       "       'tmx_shipping_address_worst_score', 'tmx_digital_id_trust_score_rating',\n",
       "       'tmx_digital_id_trust_score_reason_code', 'tmx_digital_id_confidence',\n",
       "       'tmx_digital_id_confidence_rating', 'tmx_first_link_dt',\n",
       "       'tmx_last_link_dt', 'nr_past_tmx'],\n",
       "      dtype='object', length=196)"
      ]
     },
     "execution_count": 26,
     "metadata": {},
     "output_type": "execute_result"
    }
   ],
   "source": [
    "base_df.columns"
   ]
  },
  {
   "cell_type": "code",
   "execution_count": 27,
   "metadata": {},
   "outputs": [],
   "source": [
    "base_df.to_parquet('../../artifacts/20201005/transactions_df_unlabeled_with_tmx.parquet')"
   ]
  },
  {
   "cell_type": "markdown",
   "metadata": {},
   "source": [
    "### Add some more features\n",
    "---"
   ]
  },
  {
   "cell_type": "code",
   "execution_count": 3,
   "metadata": {},
   "outputs": [],
   "source": [
    "transactions_df = pd.read_parquet('../../artifacts/20201005/transactions_df_unlabeled_with_tmx.parquet')"
   ]
  },
  {
   "cell_type": "code",
   "execution_count": 4,
   "metadata": {},
   "outputs": [],
   "source": [
    "transactions_df['plaid_days_since_first_link'] = (transactions_df['transaction_datetime'] - \\\n",
    "                                                  transactions_df['plaid_first_link_date']).dt.days\n",
    "transactions_df['quovo_days_since_first_link'] = (transactions_df['transaction_datetime'] - \\\n",
    "                                                  transactions_df['quovo_first_link_date']).dt.days\n",
    "transactions_df['tmx_days_since_first_link'] = (transactions_df['transaction_datetime'] - \\\n",
    "                                                  transactions_df['tmx_first_link_dt']).dt.days"
   ]
  },
  {
   "cell_type": "code",
   "execution_count": 5,
   "metadata": {},
   "outputs": [],
   "source": [
    "transactions_df.to_parquet('../../artifacts/20201005/transactions_df_unlabeled_with_tmx.parquet')"
   ]
  },
  {
   "cell_type": "code",
   "execution_count": null,
   "metadata": {},
   "outputs": [],
   "source": []
  }
 ],
 "metadata": {
  "kernelspec": {
   "display_name": "conda_ml_basic_py37",
   "language": "python",
   "name": "conda_ml_basic_py37"
  },
  "language_info": {
   "codemirror_mode": {
    "name": "ipython",
    "version": 3
   },
   "file_extension": ".py",
   "mimetype": "text/x-python",
   "name": "python",
   "nbconvert_exporter": "python",
   "pygments_lexer": "ipython3",
   "version": "3.7.8"
  }
 },
 "nbformat": 4,
 "nbformat_minor": 4
}
