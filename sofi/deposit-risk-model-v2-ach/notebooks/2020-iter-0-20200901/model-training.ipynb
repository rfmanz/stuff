{
 "cells": [
  {
   "cell_type": "markdown",
   "metadata": {},
   "source": [
    "### George's Voyage into Thomas's Code\n",
    "---"
   ]
  },
  {
   "cell_type": "code",
   "execution_count": 1,
   "metadata": {},
   "outputs": [],
   "source": [
    "%load_ext autoreload\n",
    "%autoreload 2\n",
    "\n",
    "import pandas as pd\n",
    "import numpy as np\n",
    "import seaborn as sns\n",
    "import datetime as dt \n",
    "\n",
    "pd.set_option('display.max_rows', 500)"
   ]
  },
  {
   "cell_type": "markdown",
   "metadata": {},
   "source": [
    "---\n",
    "#### test if data pipeline works for deposit v1 features"
   ]
  },
  {
   "cell_type": "code",
   "execution_count": 2,
   "metadata": {},
   "outputs": [],
   "source": [
    "v1_features = ['transaction_amount', 'fico_score', 'vantage_score',\n",
    "            'fraud_score_1', 'fraud_score_2', 'email_risk_score', 'phone_risk_score',  'all8220', \n",
    "            'iqt9415', 'all7120', 'mtf5820', 'bcc7120', 'bcc2800', 'iln5520', 'bcx3423', 'stu5031',\n",
    "            'nr_direct_deposits', 'nr_past_returns', 'rolling_trns_as_pct_of_bal', \n",
    "            'nr_transactions_per_day', 'transaction_as_pct_of_balance', \n",
    "            'transaction_as_pct_of_bal_min', 'rolling_mean_acc_bal', \n",
    "              'real_ending_balance', # old 'account_ending_balance'\n",
    "              'days_since_first_deposit' # old 'days_since_first_transaction'\n",
    "              ]"
   ]
  },
  {
   "cell_type": "code",
   "execution_count": 3,
   "metadata": {},
   "outputs": [
    {
     "data": {
      "text/html": [
       "<div>\n",
       "<style scoped>\n",
       "    .dataframe tbody tr th:only-of-type {\n",
       "        vertical-align: middle;\n",
       "    }\n",
       "\n",
       "    .dataframe tbody tr th {\n",
       "        vertical-align: top;\n",
       "    }\n",
       "\n",
       "    .dataframe thead th {\n",
       "        text-align: right;\n",
       "    }\n",
       "</style>\n",
       "<table border=\"1\" class=\"dataframe\">\n",
       "  <thead>\n",
       "    <tr style=\"text-align: right;\">\n",
       "      <th></th>\n",
       "      <th>transaction_amount</th>\n",
       "      <th>fico_score</th>\n",
       "      <th>vantage_score</th>\n",
       "      <th>fraud_score_1</th>\n",
       "      <th>fraud_score_2</th>\n",
       "      <th>email_risk_score</th>\n",
       "      <th>phone_risk_score</th>\n",
       "      <th>all8220</th>\n",
       "      <th>iqt9415</th>\n",
       "      <th>all7120</th>\n",
       "      <th>...</th>\n",
       "      <th>stu5031</th>\n",
       "      <th>nr_direct_deposits</th>\n",
       "      <th>nr_past_returns</th>\n",
       "      <th>rolling_trns_as_pct_of_bal</th>\n",
       "      <th>nr_transactions_per_day</th>\n",
       "      <th>transaction_as_pct_of_balance</th>\n",
       "      <th>transaction_as_pct_of_bal_min</th>\n",
       "      <th>rolling_mean_acc_bal</th>\n",
       "      <th>real_ending_balance</th>\n",
       "      <th>days_since_first_deposit</th>\n",
       "    </tr>\n",
       "  </thead>\n",
       "  <tbody>\n",
       "    <tr>\n",
       "      <th>0</th>\n",
       "      <td>500.0</td>\n",
       "      <td>NaN</td>\n",
       "      <td>NaN</td>\n",
       "      <td>NaN</td>\n",
       "      <td>NaN</td>\n",
       "      <td>NaN</td>\n",
       "      <td>NaN</td>\n",
       "      <td>NaN</td>\n",
       "      <td>NaN</td>\n",
       "      <td>NaN</td>\n",
       "      <td>...</td>\n",
       "      <td>NaN</td>\n",
       "      <td>0</td>\n",
       "      <td>0</td>\n",
       "      <td>NaN</td>\n",
       "      <td>NaN</td>\n",
       "      <td>inf</td>\n",
       "      <td>NaN</td>\n",
       "      <td>500.000000</td>\n",
       "      <td>500.00</td>\n",
       "      <td>0</td>\n",
       "    </tr>\n",
       "    <tr>\n",
       "      <th>1</th>\n",
       "      <td>75.0</td>\n",
       "      <td>NaN</td>\n",
       "      <td>NaN</td>\n",
       "      <td>NaN</td>\n",
       "      <td>NaN</td>\n",
       "      <td>NaN</td>\n",
       "      <td>NaN</td>\n",
       "      <td>NaN</td>\n",
       "      <td>NaN</td>\n",
       "      <td>NaN</td>\n",
       "      <td>...</td>\n",
       "      <td>NaN</td>\n",
       "      <td>0</td>\n",
       "      <td>0</td>\n",
       "      <td>0.019838</td>\n",
       "      <td>1.409091</td>\n",
       "      <td>0.155186</td>\n",
       "      <td>-0.000972</td>\n",
       "      <td>489.379412</td>\n",
       "      <td>558.29</td>\n",
       "      <td>22</td>\n",
       "    </tr>\n",
       "    <tr>\n",
       "      <th>2</th>\n",
       "      <td>100.0</td>\n",
       "      <td>NaN</td>\n",
       "      <td>NaN</td>\n",
       "      <td>NaN</td>\n",
       "      <td>NaN</td>\n",
       "      <td>NaN</td>\n",
       "      <td>NaN</td>\n",
       "      <td>NaN</td>\n",
       "      <td>NaN</td>\n",
       "      <td>NaN</td>\n",
       "      <td>...</td>\n",
       "      <td>NaN</td>\n",
       "      <td>0</td>\n",
       "      <td>1</td>\n",
       "      <td>0.073134</td>\n",
       "      <td>1.095238</td>\n",
       "      <td>0.237942</td>\n",
       "      <td>-0.093423</td>\n",
       "      <td>470.270000</td>\n",
       "      <td>520.27</td>\n",
       "      <td>42</td>\n",
       "    </tr>\n",
       "    <tr>\n",
       "      <th>3</th>\n",
       "      <td>125.0</td>\n",
       "      <td>NaN</td>\n",
       "      <td>NaN</td>\n",
       "      <td>NaN</td>\n",
       "      <td>NaN</td>\n",
       "      <td>NaN</td>\n",
       "      <td>NaN</td>\n",
       "      <td>NaN</td>\n",
       "      <td>NaN</td>\n",
       "      <td>NaN</td>\n",
       "      <td>...</td>\n",
       "      <td>NaN</td>\n",
       "      <td>0</td>\n",
       "      <td>1</td>\n",
       "      <td>0.088327</td>\n",
       "      <td>1.093023</td>\n",
       "      <td>0.240260</td>\n",
       "      <td>-0.093423</td>\n",
       "      <td>483.731538</td>\n",
       "      <td>645.27</td>\n",
       "      <td>43</td>\n",
       "    </tr>\n",
       "    <tr>\n",
       "      <th>4</th>\n",
       "      <td>150.0</td>\n",
       "      <td>NaN</td>\n",
       "      <td>NaN</td>\n",
       "      <td>NaN</td>\n",
       "      <td>NaN</td>\n",
       "      <td>NaN</td>\n",
       "      <td>NaN</td>\n",
       "      <td>NaN</td>\n",
       "      <td>NaN</td>\n",
       "      <td>NaN</td>\n",
       "      <td>...</td>\n",
       "      <td>NaN</td>\n",
       "      <td>0</td>\n",
       "      <td>1</td>\n",
       "      <td>0.092693</td>\n",
       "      <td>1.113636</td>\n",
       "      <td>0.232641</td>\n",
       "      <td>-0.093423</td>\n",
       "      <td>512.270000</td>\n",
       "      <td>794.77</td>\n",
       "      <td>44</td>\n",
       "    </tr>\n",
       "  </tbody>\n",
       "</table>\n",
       "<p>5 rows × 25 columns</p>\n",
       "</div>"
      ],
      "text/plain": [
       "   transaction_amount  fico_score  vantage_score  fraud_score_1  \\\n",
       "0               500.0         NaN            NaN            NaN   \n",
       "1                75.0         NaN            NaN            NaN   \n",
       "2               100.0         NaN            NaN            NaN   \n",
       "3               125.0         NaN            NaN            NaN   \n",
       "4               150.0         NaN            NaN            NaN   \n",
       "\n",
       "   fraud_score_2  email_risk_score  phone_risk_score  all8220  iqt9415  \\\n",
       "0            NaN               NaN               NaN      NaN      NaN   \n",
       "1            NaN               NaN               NaN      NaN      NaN   \n",
       "2            NaN               NaN               NaN      NaN      NaN   \n",
       "3            NaN               NaN               NaN      NaN      NaN   \n",
       "4            NaN               NaN               NaN      NaN      NaN   \n",
       "\n",
       "   all7120  ...  stu5031  nr_direct_deposits  nr_past_returns  \\\n",
       "0      NaN  ...      NaN                   0                0   \n",
       "1      NaN  ...      NaN                   0                0   \n",
       "2      NaN  ...      NaN                   0                1   \n",
       "3      NaN  ...      NaN                   0                1   \n",
       "4      NaN  ...      NaN                   0                1   \n",
       "\n",
       "   rolling_trns_as_pct_of_bal  nr_transactions_per_day  \\\n",
       "0                         NaN                      NaN   \n",
       "1                    0.019838                 1.409091   \n",
       "2                    0.073134                 1.095238   \n",
       "3                    0.088327                 1.093023   \n",
       "4                    0.092693                 1.113636   \n",
       "\n",
       "   transaction_as_pct_of_balance  transaction_as_pct_of_bal_min  \\\n",
       "0                            inf                            NaN   \n",
       "1                       0.155186                      -0.000972   \n",
       "2                       0.237942                      -0.093423   \n",
       "3                       0.240260                      -0.093423   \n",
       "4                       0.232641                      -0.093423   \n",
       "\n",
       "   rolling_mean_acc_bal  real_ending_balance  days_since_first_deposit  \n",
       "0            500.000000               500.00                         0  \n",
       "1            489.379412               558.29                        22  \n",
       "2            470.270000               520.27                        42  \n",
       "3            483.731538               645.27                        43  \n",
       "4            512.270000               794.77                        44  \n",
       "\n",
       "[5 rows x 25 columns]"
      ]
     },
     "metadata": {},
     "output_type": "display_data"
    },
    {
     "data": {
      "text/plain": [
       "(559465, 173)"
      ]
     },
     "execution_count": 3,
     "metadata": {},
     "output_type": "execute_result"
    }
   ],
   "source": [
    "df = pd.read_feather('../data/labeled/labeled_1597354481.feather')\n",
    "display(df[v1_features].head())\n",
    "df.shape"
   ]
  },
  {
   "cell_type": "code",
   "execution_count": 4,
   "metadata": {},
   "outputs": [],
   "source": [
    "# # load data built using the data script\n",
    "# df = pd.read_feather('../data/labeled_new_features/label_new_features_1596581849.feather')"
   ]
  },
  {
   "cell_type": "code",
   "execution_count": 5,
   "metadata": {},
   "outputs": [
    {
     "data": {
      "text/html": [
       "<div>\n",
       "<style scoped>\n",
       "    .dataframe tbody tr th:only-of-type {\n",
       "        vertical-align: middle;\n",
       "    }\n",
       "\n",
       "    .dataframe tbody tr th {\n",
       "        vertical-align: top;\n",
       "    }\n",
       "\n",
       "    .dataframe thead th {\n",
       "        text-align: right;\n",
       "    }\n",
       "</style>\n",
       "<table border=\"1\" class=\"dataframe\">\n",
       "  <thead>\n",
       "    <tr style=\"text-align: right;\">\n",
       "      <th></th>\n",
       "      <th>index</th>\n",
       "      <th>transaction_datetime</th>\n",
       "      <th>user_id</th>\n",
       "      <th>business_account_number</th>\n",
       "      <th>transaction_code</th>\n",
       "      <th>is_return</th>\n",
       "      <th>transaction_amount</th>\n",
       "      <th>endbal</th>\n",
       "      <th>external_account_number</th>\n",
       "      <th>real_ending_balance</th>\n",
       "      <th>...</th>\n",
       "      <th>nr_returns_all_time</th>\n",
       "      <th>days_to_acc_close</th>\n",
       "      <th>account_closed_by_risk_in_next_90d</th>\n",
       "      <th>is_chg_wrt_off_in_90d</th>\n",
       "      <th>nr_returns_in_next_90d</th>\n",
       "      <th>bal_after_90d</th>\n",
       "      <th>tamt_abs</th>\n",
       "      <th>is_returned</th>\n",
       "      <th>target</th>\n",
       "      <th>indeterminate</th>\n",
       "    </tr>\n",
       "  </thead>\n",
       "  <tbody>\n",
       "    <tr>\n",
       "      <th>0</th>\n",
       "      <td>0</td>\n",
       "      <td>2017-12-13 16:26:31</td>\n",
       "      <td>65740</td>\n",
       "      <td>410000007044</td>\n",
       "      <td>ACHDD</td>\n",
       "      <td>False</td>\n",
       "      <td>500.0</td>\n",
       "      <td>500.00</td>\n",
       "      <td>80001475699</td>\n",
       "      <td>500.00</td>\n",
       "      <td>...</td>\n",
       "      <td>1</td>\n",
       "      <td>NaN</td>\n",
       "      <td>False</td>\n",
       "      <td>False</td>\n",
       "      <td>1.0</td>\n",
       "      <td>2386.24</td>\n",
       "      <td>500.0</td>\n",
       "      <td>False</td>\n",
       "      <td>False</td>\n",
       "      <td>False</td>\n",
       "    </tr>\n",
       "    <tr>\n",
       "      <th>1</th>\n",
       "      <td>1</td>\n",
       "      <td>2018-01-04 18:43:31</td>\n",
       "      <td>65740</td>\n",
       "      <td>410000007044</td>\n",
       "      <td>ACHDD</td>\n",
       "      <td>False</td>\n",
       "      <td>75.0</td>\n",
       "      <td>558.29</td>\n",
       "      <td>80001475699</td>\n",
       "      <td>558.29</td>\n",
       "      <td>...</td>\n",
       "      <td>1</td>\n",
       "      <td>NaN</td>\n",
       "      <td>False</td>\n",
       "      <td>False</td>\n",
       "      <td>1.0</td>\n",
       "      <td>3887.73</td>\n",
       "      <td>75.0</td>\n",
       "      <td>False</td>\n",
       "      <td>False</td>\n",
       "      <td>False</td>\n",
       "    </tr>\n",
       "    <tr>\n",
       "      <th>2</th>\n",
       "      <td>3</td>\n",
       "      <td>2018-01-24 20:14:12</td>\n",
       "      <td>65740</td>\n",
       "      <td>410000007044</td>\n",
       "      <td>ACHDD</td>\n",
       "      <td>False</td>\n",
       "      <td>100.0</td>\n",
       "      <td>520.27</td>\n",
       "      <td>80001475699</td>\n",
       "      <td>520.27</td>\n",
       "      <td>...</td>\n",
       "      <td>1</td>\n",
       "      <td>NaN</td>\n",
       "      <td>False</td>\n",
       "      <td>False</td>\n",
       "      <td>0.0</td>\n",
       "      <td>903.40</td>\n",
       "      <td>100.0</td>\n",
       "      <td>False</td>\n",
       "      <td>False</td>\n",
       "      <td>False</td>\n",
       "    </tr>\n",
       "    <tr>\n",
       "      <th>3</th>\n",
       "      <td>4</td>\n",
       "      <td>2018-01-26 10:53:36</td>\n",
       "      <td>65740</td>\n",
       "      <td>410000007044</td>\n",
       "      <td>ACHDD</td>\n",
       "      <td>False</td>\n",
       "      <td>125.0</td>\n",
       "      <td>645.27</td>\n",
       "      <td>80001475699</td>\n",
       "      <td>645.27</td>\n",
       "      <td>...</td>\n",
       "      <td>1</td>\n",
       "      <td>NaN</td>\n",
       "      <td>False</td>\n",
       "      <td>False</td>\n",
       "      <td>0.0</td>\n",
       "      <td>903.40</td>\n",
       "      <td>125.0</td>\n",
       "      <td>False</td>\n",
       "      <td>False</td>\n",
       "      <td>False</td>\n",
       "    </tr>\n",
       "    <tr>\n",
       "      <th>4</th>\n",
       "      <td>5</td>\n",
       "      <td>2018-01-27 12:10:55</td>\n",
       "      <td>65740</td>\n",
       "      <td>410000007044</td>\n",
       "      <td>ACHDD</td>\n",
       "      <td>False</td>\n",
       "      <td>150.0</td>\n",
       "      <td>794.77</td>\n",
       "      <td>80001475699</td>\n",
       "      <td>794.77</td>\n",
       "      <td>...</td>\n",
       "      <td>1</td>\n",
       "      <td>NaN</td>\n",
       "      <td>False</td>\n",
       "      <td>False</td>\n",
       "      <td>0.0</td>\n",
       "      <td>1400.27</td>\n",
       "      <td>150.0</td>\n",
       "      <td>False</td>\n",
       "      <td>False</td>\n",
       "      <td>False</td>\n",
       "    </tr>\n",
       "  </tbody>\n",
       "</table>\n",
       "<p>5 rows × 173 columns</p>\n",
       "</div>"
      ],
      "text/plain": [
       "   index transaction_datetime  user_id  business_account_number  \\\n",
       "0      0  2017-12-13 16:26:31    65740             410000007044   \n",
       "1      1  2018-01-04 18:43:31    65740             410000007044   \n",
       "2      3  2018-01-24 20:14:12    65740             410000007044   \n",
       "3      4  2018-01-26 10:53:36    65740             410000007044   \n",
       "4      5  2018-01-27 12:10:55    65740             410000007044   \n",
       "\n",
       "  transaction_code  is_return  transaction_amount  endbal  \\\n",
       "0            ACHDD      False               500.0  500.00   \n",
       "1            ACHDD      False                75.0  558.29   \n",
       "2            ACHDD      False               100.0  520.27   \n",
       "3            ACHDD      False               125.0  645.27   \n",
       "4            ACHDD      False               150.0  794.77   \n",
       "\n",
       "  external_account_number  real_ending_balance  ... nr_returns_all_time  \\\n",
       "0             80001475699               500.00  ...                   1   \n",
       "1             80001475699               558.29  ...                   1   \n",
       "2             80001475699               520.27  ...                   1   \n",
       "3             80001475699               645.27  ...                   1   \n",
       "4             80001475699               794.77  ...                   1   \n",
       "\n",
       "  days_to_acc_close account_closed_by_risk_in_next_90d is_chg_wrt_off_in_90d  \\\n",
       "0               NaN                              False                 False   \n",
       "1               NaN                              False                 False   \n",
       "2               NaN                              False                 False   \n",
       "3               NaN                              False                 False   \n",
       "4               NaN                              False                 False   \n",
       "\n",
       "   nr_returns_in_next_90d  bal_after_90d tamt_abs is_returned  target  \\\n",
       "0                     1.0        2386.24    500.0       False   False   \n",
       "1                     1.0        3887.73     75.0       False   False   \n",
       "2                     0.0         903.40    100.0       False   False   \n",
       "3                     0.0         903.40    125.0       False   False   \n",
       "4                     0.0        1400.27    150.0       False   False   \n",
       "\n",
       "   indeterminate  \n",
       "0          False  \n",
       "1          False  \n",
       "2          False  \n",
       "3          False  \n",
       "4          False  \n",
       "\n",
       "[5 rows x 173 columns]"
      ]
     },
     "execution_count": 5,
     "metadata": {},
     "output_type": "execute_result"
    }
   ],
   "source": [
    "df.head()"
   ]
  },
  {
   "cell_type": "code",
   "execution_count": 6,
   "metadata": {},
   "outputs": [
    {
     "data": {
      "text/html": [
       "<div>\n",
       "<style scoped>\n",
       "    .dataframe tbody tr th:only-of-type {\n",
       "        vertical-align: middle;\n",
       "    }\n",
       "\n",
       "    .dataframe tbody tr th {\n",
       "        vertical-align: top;\n",
       "    }\n",
       "\n",
       "    .dataframe thead th {\n",
       "        text-align: right;\n",
       "    }\n",
       "</style>\n",
       "<table border=\"1\" class=\"dataframe\">\n",
       "  <thead>\n",
       "    <tr style=\"text-align: right;\">\n",
       "      <th></th>\n",
       "      <th>index</th>\n",
       "      <th>user_id</th>\n",
       "      <th>business_account_number</th>\n",
       "      <th>transaction_amount</th>\n",
       "      <th>endbal</th>\n",
       "      <th>real_ending_balance</th>\n",
       "      <th>borrower_id</th>\n",
       "      <th>bal</th>\n",
       "      <th>afdep</th>\n",
       "      <th>fico_score</th>\n",
       "      <th>...</th>\n",
       "      <th>nr_transactions_per_day</th>\n",
       "      <th>transaction_as_pct_of_balance_abs</th>\n",
       "      <th>rolling_trns_as_pct_of_bal</th>\n",
       "      <th>transaction_as_pct_of_bal_min</th>\n",
       "      <th>nr_transactions_all_time</th>\n",
       "      <th>nr_returns_all_time</th>\n",
       "      <th>days_to_acc_close</th>\n",
       "      <th>nr_returns_in_next_90d</th>\n",
       "      <th>bal_after_90d</th>\n",
       "      <th>tamt_abs</th>\n",
       "    </tr>\n",
       "  </thead>\n",
       "  <tbody>\n",
       "    <tr>\n",
       "      <th>count</th>\n",
       "      <td>559465.000000</td>\n",
       "      <td>5.594650e+05</td>\n",
       "      <td>5.594650e+05</td>\n",
       "      <td>559465.000000</td>\n",
       "      <td>5.594650e+05</td>\n",
       "      <td>5.594650e+05</td>\n",
       "      <td>5.594650e+05</td>\n",
       "      <td>5.594650e+05</td>\n",
       "      <td>559465.000000</td>\n",
       "      <td>460756.000000</td>\n",
       "      <td>...</td>\n",
       "      <td>4.360230e+05</td>\n",
       "      <td>5.594650e+05</td>\n",
       "      <td>4.352110e+05</td>\n",
       "      <td>4.352110e+05</td>\n",
       "      <td>559465.000000</td>\n",
       "      <td>559465.000000</td>\n",
       "      <td>24797.000000</td>\n",
       "      <td>559465.000000</td>\n",
       "      <td>5.594650e+05</td>\n",
       "      <td>559465.000000</td>\n",
       "    </tr>\n",
       "    <tr>\n",
       "      <th>mean</th>\n",
       "      <td>287422.005419</td>\n",
       "      <td>1.102539e+07</td>\n",
       "      <td>4.100021e+11</td>\n",
       "      <td>1726.013743</td>\n",
       "      <td>6.764787e+03</td>\n",
       "      <td>7.721934e+03</td>\n",
       "      <td>6.264583e+06</td>\n",
       "      <td>5.368865e+03</td>\n",
       "      <td>1694.257143</td>\n",
       "      <td>937.351837</td>\n",
       "      <td>...</td>\n",
       "      <td>inf</td>\n",
       "      <td>inf</td>\n",
       "      <td>3.179543e+02</td>\n",
       "      <td>2.514124e+02</td>\n",
       "      <td>155.607967</td>\n",
       "      <td>0.202810</td>\n",
       "      <td>126.874864</td>\n",
       "      <td>0.112273</td>\n",
       "      <td>8.726441e+03</td>\n",
       "      <td>1726.013743</td>\n",
       "    </tr>\n",
       "    <tr>\n",
       "      <th>std</th>\n",
       "      <td>166207.341350</td>\n",
       "      <td>5.317987e+06</td>\n",
       "      <td>1.447335e+06</td>\n",
       "      <td>6036.923293</td>\n",
       "      <td>2.298736e+04</td>\n",
       "      <td>2.429341e+04</td>\n",
       "      <td>2.881614e+06</td>\n",
       "      <td>2.153421e+04</td>\n",
       "      <td>5669.611026</td>\n",
       "      <td>1306.261356</td>\n",
       "      <td>...</td>\n",
       "      <td>NaN</td>\n",
       "      <td>NaN</td>\n",
       "      <td>1.716441e+04</td>\n",
       "      <td>1.643359e+04</td>\n",
       "      <td>250.284310</td>\n",
       "      <td>1.532451</td>\n",
       "      <td>122.123808</td>\n",
       "      <td>1.276792</td>\n",
       "      <td>2.903319e+04</td>\n",
       "      <td>6036.923293</td>\n",
       "    </tr>\n",
       "    <tr>\n",
       "      <th>min</th>\n",
       "      <td>0.000000</td>\n",
       "      <td>1.880000e+02</td>\n",
       "      <td>4.100000e+11</td>\n",
       "      <td>1.000000</td>\n",
       "      <td>-3.532104e+04</td>\n",
       "      <td>-3.532104e+04</td>\n",
       "      <td>4.000000e+01</td>\n",
       "      <td>-6.398120e+04</td>\n",
       "      <td>0.000000</td>\n",
       "      <td>388.000000</td>\n",
       "      <td>...</td>\n",
       "      <td>1.492537e-03</td>\n",
       "      <td>4.043487e-06</td>\n",
       "      <td>0.000000e+00</td>\n",
       "      <td>-3.333333e+04</td>\n",
       "      <td>1.000000</td>\n",
       "      <td>0.000000</td>\n",
       "      <td>-1.000000</td>\n",
       "      <td>0.000000</td>\n",
       "      <td>-6.398120e+04</td>\n",
       "      <td>1.000000</td>\n",
       "    </tr>\n",
       "    <tr>\n",
       "      <th>25%</th>\n",
       "      <td>142800.000000</td>\n",
       "      <td>1.044316e+07</td>\n",
       "      <td>4.100008e+11</td>\n",
       "      <td>100.000000</td>\n",
       "      <td>1.300000e+02</td>\n",
       "      <td>1.500000e+02</td>\n",
       "      <td>4.295197e+06</td>\n",
       "      <td>8.060000e+00</td>\n",
       "      <td>86.800000</td>\n",
       "      <td>683.000000</td>\n",
       "      <td>...</td>\n",
       "      <td>1.046512e-01</td>\n",
       "      <td>1.296059e-01</td>\n",
       "      <td>8.172199e-02</td>\n",
       "      <td>-1.557771e-01</td>\n",
       "      <td>19.000000</td>\n",
       "      <td>0.000000</td>\n",
       "      <td>41.000000</td>\n",
       "      <td>0.000000</td>\n",
       "      <td>7.895000e+01</td>\n",
       "      <td>100.000000</td>\n",
       "    </tr>\n",
       "    <tr>\n",
       "      <th>50%</th>\n",
       "      <td>288494.000000</td>\n",
       "      <td>1.352323e+07</td>\n",
       "      <td>4.100019e+11</td>\n",
       "      <td>200.000000</td>\n",
       "      <td>8.752100e+02</td>\n",
       "      <td>1.000670e+03</td>\n",
       "      <td>7.340138e+06</td>\n",
       "      <td>3.032100e+02</td>\n",
       "      <td>100.000000</td>\n",
       "      <td>747.000000</td>\n",
       "      <td>...</td>\n",
       "      <td>2.352941e-01</td>\n",
       "      <td>7.595573e-01</td>\n",
       "      <td>2.850578e-01</td>\n",
       "      <td>1.153910e-04</td>\n",
       "      <td>60.000000</td>\n",
       "      <td>0.000000</td>\n",
       "      <td>78.000000</td>\n",
       "      <td>0.000000</td>\n",
       "      <td>1.000040e+03</td>\n",
       "      <td>200.000000</td>\n",
       "    </tr>\n",
       "    <tr>\n",
       "      <th>75%</th>\n",
       "      <td>430069.000000</td>\n",
       "      <td>1.460878e+07</td>\n",
       "      <td>4.100030e+11</td>\n",
       "      <td>1000.000000</td>\n",
       "      <td>4.748820e+03</td>\n",
       "      <td>5.702880e+03</td>\n",
       "      <td>8.424548e+06</td>\n",
       "      <td>3.053720e+03</td>\n",
       "      <td>650.000000</td>\n",
       "      <td>789.000000</td>\n",
       "      <td>...</td>\n",
       "      <td>5.555556e-01</td>\n",
       "      <td>2.500000e+02</td>\n",
       "      <td>1.041339e+00</td>\n",
       "      <td>3.113277e-01</td>\n",
       "      <td>185.000000</td>\n",
       "      <td>0.000000</td>\n",
       "      <td>186.000000</td>\n",
       "      <td>0.000000</td>\n",
       "      <td>6.492710e+03</td>\n",
       "      <td>1000.000000</td>\n",
       "    </tr>\n",
       "    <tr>\n",
       "      <th>max</th>\n",
       "      <td>577274.000000</td>\n",
       "      <td>1.635652e+07</td>\n",
       "      <td>4.100059e+11</td>\n",
       "      <td>1000000.000000</td>\n",
       "      <td>1.391851e+06</td>\n",
       "      <td>1.391851e+06</td>\n",
       "      <td>1.018133e+07</td>\n",
       "      <td>1.146741e+06</td>\n",
       "      <td>442500.000000</td>\n",
       "      <td>9003.000000</td>\n",
       "      <td>...</td>\n",
       "      <td>inf</td>\n",
       "      <td>inf</td>\n",
       "      <td>5.000000e+06</td>\n",
       "      <td>5.000000e+06</td>\n",
       "      <td>3567.000000</td>\n",
       "      <td>79.000000</td>\n",
       "      <td>854.000000</td>\n",
       "      <td>79.000000</td>\n",
       "      <td>3.375345e+06</td>\n",
       "      <td>1000000.000000</td>\n",
       "    </tr>\n",
       "  </tbody>\n",
       "</table>\n",
       "<p>8 rows × 125 columns</p>\n",
       "</div>"
      ],
      "text/plain": [
       "               index       user_id  business_account_number  \\\n",
       "count  559465.000000  5.594650e+05             5.594650e+05   \n",
       "mean   287422.005419  1.102539e+07             4.100021e+11   \n",
       "std    166207.341350  5.317987e+06             1.447335e+06   \n",
       "min         0.000000  1.880000e+02             4.100000e+11   \n",
       "25%    142800.000000  1.044316e+07             4.100008e+11   \n",
       "50%    288494.000000  1.352323e+07             4.100019e+11   \n",
       "75%    430069.000000  1.460878e+07             4.100030e+11   \n",
       "max    577274.000000  1.635652e+07             4.100059e+11   \n",
       "\n",
       "       transaction_amount        endbal  real_ending_balance   borrower_id  \\\n",
       "count       559465.000000  5.594650e+05         5.594650e+05  5.594650e+05   \n",
       "mean          1726.013743  6.764787e+03         7.721934e+03  6.264583e+06   \n",
       "std           6036.923293  2.298736e+04         2.429341e+04  2.881614e+06   \n",
       "min              1.000000 -3.532104e+04        -3.532104e+04  4.000000e+01   \n",
       "25%            100.000000  1.300000e+02         1.500000e+02  4.295197e+06   \n",
       "50%            200.000000  8.752100e+02         1.000670e+03  7.340138e+06   \n",
       "75%           1000.000000  4.748820e+03         5.702880e+03  8.424548e+06   \n",
       "max        1000000.000000  1.391851e+06         1.391851e+06  1.018133e+07   \n",
       "\n",
       "                bal          afdep     fico_score  ...  \\\n",
       "count  5.594650e+05  559465.000000  460756.000000  ...   \n",
       "mean   5.368865e+03    1694.257143     937.351837  ...   \n",
       "std    2.153421e+04    5669.611026    1306.261356  ...   \n",
       "min   -6.398120e+04       0.000000     388.000000  ...   \n",
       "25%    8.060000e+00      86.800000     683.000000  ...   \n",
       "50%    3.032100e+02     100.000000     747.000000  ...   \n",
       "75%    3.053720e+03     650.000000     789.000000  ...   \n",
       "max    1.146741e+06  442500.000000    9003.000000  ...   \n",
       "\n",
       "       nr_transactions_per_day  transaction_as_pct_of_balance_abs  \\\n",
       "count             4.360230e+05                       5.594650e+05   \n",
       "mean                       inf                                inf   \n",
       "std                        NaN                                NaN   \n",
       "min               1.492537e-03                       4.043487e-06   \n",
       "25%               1.046512e-01                       1.296059e-01   \n",
       "50%               2.352941e-01                       7.595573e-01   \n",
       "75%               5.555556e-01                       2.500000e+02   \n",
       "max                        inf                                inf   \n",
       "\n",
       "       rolling_trns_as_pct_of_bal  transaction_as_pct_of_bal_min  \\\n",
       "count                4.352110e+05                   4.352110e+05   \n",
       "mean                 3.179543e+02                   2.514124e+02   \n",
       "std                  1.716441e+04                   1.643359e+04   \n",
       "min                  0.000000e+00                  -3.333333e+04   \n",
       "25%                  8.172199e-02                  -1.557771e-01   \n",
       "50%                  2.850578e-01                   1.153910e-04   \n",
       "75%                  1.041339e+00                   3.113277e-01   \n",
       "max                  5.000000e+06                   5.000000e+06   \n",
       "\n",
       "       nr_transactions_all_time  nr_returns_all_time  days_to_acc_close  \\\n",
       "count             559465.000000        559465.000000       24797.000000   \n",
       "mean                 155.607967             0.202810         126.874864   \n",
       "std                  250.284310             1.532451         122.123808   \n",
       "min                    1.000000             0.000000          -1.000000   \n",
       "25%                   19.000000             0.000000          41.000000   \n",
       "50%                   60.000000             0.000000          78.000000   \n",
       "75%                  185.000000             0.000000         186.000000   \n",
       "max                 3567.000000            79.000000         854.000000   \n",
       "\n",
       "       nr_returns_in_next_90d  bal_after_90d        tamt_abs  \n",
       "count           559465.000000   5.594650e+05   559465.000000  \n",
       "mean                 0.112273   8.726441e+03     1726.013743  \n",
       "std                  1.276792   2.903319e+04     6036.923293  \n",
       "min                  0.000000  -6.398120e+04        1.000000  \n",
       "25%                  0.000000   7.895000e+01      100.000000  \n",
       "50%                  0.000000   1.000040e+03      200.000000  \n",
       "75%                  0.000000   6.492710e+03     1000.000000  \n",
       "max                 79.000000   3.375345e+06  1000000.000000  \n",
       "\n",
       "[8 rows x 125 columns]"
      ]
     },
     "execution_count": 6,
     "metadata": {},
     "output_type": "execute_result"
    }
   ],
   "source": [
    "df.describe()"
   ]
  },
  {
   "cell_type": "code",
   "execution_count": 7,
   "metadata": {},
   "outputs": [
    {
     "name": "stdout",
     "output_type": "stream",
     "text": [
      "Index(['index', 'transaction_datetime', 'user_id', 'business_account_number',\n",
      "       'transaction_code', 'is_return', 'transaction_amount', 'endbal',\n",
      "       'external_account_number', 'real_ending_balance',\n",
      "       ...\n",
      "       'nr_returns_all_time', 'days_to_acc_close',\n",
      "       'account_closed_by_risk_in_next_90d', 'is_chg_wrt_off_in_90d',\n",
      "       'nr_returns_in_next_90d', 'bal_after_90d', 'tamt_abs', 'is_returned',\n",
      "       'target', 'indeterminate'],\n",
      "      dtype='object', length=173)\n"
     ]
    }
   ],
   "source": [
    "print(df.columns)"
   ]
  },
  {
   "cell_type": "code",
   "execution_count": 8,
   "metadata": {},
   "outputs": [
    {
     "data": {
      "text/plain": [
       "<AxesSubplot:>"
      ]
     },
     "execution_count": 8,
     "metadata": {},
     "output_type": "execute_result"
    },
    {
     "data": {
      "image/png": "[encoded data removed]",
      "text/plain": [
       "<Figure size 432x288 with 1 Axes>"
      ]
     },
     "metadata": {
      "needs_background": "light"
     },
     "output_type": "display_data"
    }
   ],
   "source": [
    "df.transaction_datetime.hist(bins=30)"
   ]
  },
  {
   "cell_type": "code",
   "execution_count": 9,
   "metadata": {},
   "outputs": [],
   "source": [
    "modeling_df = df[df[\"transaction_datetime\"].between(pd.to_datetime('2019-01-16'),\n",
    "                                                    pd.to_datetime('2020-02-14'))]"
   ]
  },
  {
   "cell_type": "code",
   "execution_count": 10,
   "metadata": {},
   "outputs": [],
   "source": [
    "test_df1 = df[df[\"transaction_datetime\"].between(pd.to_datetime('2020-03-01'),\n",
    "                                                 pd.to_datetime('2020-04-01'))]\n",
    "test_df2 = df[df[\"transaction_datetime\"].between(pd.to_datetime('2020-04-01'),\n",
    "                                                 pd.to_datetime('2020-05-01'))]"
   ]
  },
  {
   "cell_type": "code",
   "execution_count": 11,
   "metadata": {},
   "outputs": [
    {
     "data": {
      "text/plain": [
       "<AxesSubplot:>"
      ]
     },
     "execution_count": 11,
     "metadata": {},
     "output_type": "execute_result"
    },
    {
     "data": {
      "image/png": "[encoded data removed]",
      "text/plain": [
       "<Figure size 432x288 with 1 Axes>"
      ]
     },
     "metadata": {
      "needs_background": "light"
     },
     "output_type": "display_data"
    }
   ],
   "source": [
    "modeling_df.transaction_datetime.hist(bins=100)"
   ]
  },
  {
   "cell_type": "code",
   "execution_count": 12,
   "metadata": {},
   "outputs": [
    {
     "data": {
      "text/plain": [
       "target  indeterminate\n",
       "False   False            336115\n",
       "True    False              5896\n",
       "        True               4190\n",
       "False   True               3412\n",
       "dtype: int64"
      ]
     },
     "execution_count": 12,
     "metadata": {},
     "output_type": "execute_result"
    }
   ],
   "source": [
    "modeling_df[['target', 'indeterminate']].value_counts()"
   ]
  },
  {
   "cell_type": "code",
   "execution_count": 14,
   "metadata": {},
   "outputs": [
    {
     "name": "stderr",
     "output_type": "stream",
     "text": [
      "/home/ec2-user/anaconda3/envs/ml_basic_py37/lib/python3.7/site-packages/ipykernel/__main__.py:2: SettingWithCopyWarning: \n",
      "A value is trying to be set on a copy of a slice from a DataFrame.\n",
      "Try using .loc[row_indexer,col_indexer] = value instead\n",
      "\n",
      "See the caveats in the documentation: https://pandas.pydata.org/pandas-docs/stable/user_guide/indexing.html#returning-a-view-versus-a-copy\n",
      "  from ipykernel import kernelapp as app\n"
     ]
    }
   ],
   "source": [
    "# one way to remove indeterminate\n",
    "modeling_df['target_noind'] = modeling_df['target'] & ~modeling_df['indeterminate']"
   ]
  },
  {
   "cell_type": "code",
   "execution_count": 15,
   "metadata": {},
   "outputs": [
    {
     "data": {
      "text/plain": [
       "False    343717\n",
       "True       5896\n",
       "Name: target_noind, dtype: int64"
      ]
     },
     "execution_count": 15,
     "metadata": {},
     "output_type": "execute_result"
    }
   ],
   "source": [
    "modeling_df['target_noind'].value_counts()"
   ]
  },
  {
   "cell_type": "code",
   "execution_count": 16,
   "metadata": {},
   "outputs": [
    {
     "data": {
      "text/plain": [
       "<AxesSubplot:>"
      ]
     },
     "execution_count": 16,
     "metadata": {},
     "output_type": "execute_result"
    },
    {
     "data": {
      "image/png": "[encoded data removed]",
      "text/plain": [
       "<Figure size 432x288 with 1 Axes>"
      ]
     },
     "metadata": {
      "needs_background": "light"
     },
     "output_type": "display_data"
    }
   ],
   "source": [
    "test_df1.transaction_datetime.hist(bins=30)"
   ]
  },
  {
   "cell_type": "code",
   "execution_count": 17,
   "metadata": {},
   "outputs": [],
   "source": [
    "features = ['transaction_amount', 'real_ending_balance', 'fico_score', \n",
    "            'vantage_score', 'all7120', 'all8220', 'bcc2800', 'bcc7120', \n",
    "            'bcx3423', 'iln5520', 'iqt9413', 'iqt9415', 'mtf5820', 'stu5031', \n",
    "            'credit_card_loan_amount', 'delinquencies_90_days', 'education_loan_amount',\n",
    "            'mortgage_loan_amount', 'secured_loan_amount', 'total_outstanding_balance', \n",
    "            'total_tradelines_open', 'unsecured_loan_amount', 'giact_is_pass', \n",
    "            'giact_is_decline', 'giact_is_other', 'giact_nr_pass', 'giact_nr_decline',\n",
    "            'giact_nr_other', 'fraud_score_1', 'fraud_score_2', 'address_risk_score', \n",
    "            'email_risk_score', 'phone_risk_score', 'name_address_correlation', \n",
    "            'name_email_correlation', 'name_phone_correlation', 'nr_social_profiles_found', \n",
    "            'days_since_first_deposit', 'lag_acc_open_first_transaction', 'first_deposit_amount', \n",
    "            'giact_time_since_first_link', 'giact_time_since_last_link', 'transaction_as_pct_of_balance', \n",
    "            'time_since_last_transaction', 'nr_past_returns', 'nr_returns_30d', 'nr_past_deposits',\n",
    "            'nr_deposits_3d', 'nr_deposits_30d', 'nr_past_transactions', 'nr_transactions_3d',\n",
    "            'nr_transactions_30d', 'pct_returned_deposits', 'pct_returned_deposits_30d',\n",
    "            'nr_transactions_30d_div_nr_past_transactions', 'mean_account_balance_3d',\n",
    "            'mean_account_balance_30d', 'std_account_balance_3d', 'std_account_balance_30d', \n",
    "            'sum_deposits_3d', 'sum_deposits_10d', 'sum_deposits_30d', 'sum_withdrawals_3d', \n",
    "            'sum_withdrawals_10d', 'sum_withdrawals_30d', 'mean_deposits_10d', \n",
    "            'mean_deposits', 'mean_deposits_10d_div_mean_deposits', 'mean_withdrawals_10d', \n",
    "            'mean_withdrawals', 'mean_withdrawals_10d_div_mean_withdrawals', 'max_deposits_3d', \n",
    "            'max_deposits_10d', 'max_deposits_10d_div_mean_deposits',\n",
    "            'max_deposits_10d_div_mean_account_balance_30d', 'max_withdrawals', \n",
    "            'max_withdrawals_3d', 'max_withdrawals_10d', 'max_withdrawals_10d_div_mean_withdrawals',\n",
    "            'nr_trans_ratio', 'bal_ratio', 'deposits_ratio', 'nr_direct_deposits', 'dollar_val_dd']"
   ]
  },
  {
   "cell_type": "code",
   "execution_count": 18,
   "metadata": {},
   "outputs": [
    {
     "data": {
      "text/plain": [
       "84"
      ]
     },
     "execution_count": 18,
     "metadata": {},
     "output_type": "execute_result"
    }
   ],
   "source": [
    "len(features)"
   ]
  },
  {
   "cell_type": "code",
   "execution_count": 19,
   "metadata": {},
   "outputs": [
    {
     "data": {
      "text/plain": [
       "0         410000007044\n",
       "1         410000007044\n",
       "2         410000007044\n",
       "3         410000007044\n",
       "4         410000007044\n",
       "              ...     \n",
       "559460    410005924452\n",
       "559461    410005924564\n",
       "559462    410005924591\n",
       "559463    410005924602\n",
       "559464    410005924704\n",
       "Name: business_account_number, Length: 559465, dtype: int64"
      ]
     },
     "execution_count": 19,
     "metadata": {},
     "output_type": "execute_result"
    }
   ],
   "source": [
    "df['business_account_number']"
   ]
  },
  {
   "cell_type": "code",
   "execution_count": 18,
   "metadata": {},
   "outputs": [],
   "source": [
    "cat_features = ['mzip', 'mstate', 'external_institution_id', 'external_account_number']"
   ]
  },
  {
   "cell_type": "code",
   "execution_count": 24,
   "metadata": {},
   "outputs": [],
   "source": [
    "import lightgbm as lgb\n",
    "from sklearn.model_selection import GroupKFold\n",
    "from sklearn.metrics import roc_auc_score\n",
    "\n",
    "def train_lgb_baseline_grouped(df, features, params, target_col_name='target', group_col_name='business_account_number', num_folds=5, seed=12345, \n",
    "                               n_boost_rounds=100000, early_stopping_rounds=1000, verbose_eval=500, weight_col_name=None, cat_features=None, prepro=None):\n",
    "    \"\"\"\n",
    "    Train LightGBM models over 5 folds, return OOF predictions, trained models, and average AUC over 5 folds.\n",
    "    \"\"\"\n",
    "    kf = GroupKFold(num_folds)\n",
    "    split = kf.split(X=df, y=df[target_col_name], groups=df[group_col_name])\n",
    "\n",
    "    train_pred = np.zeros(len(df))\n",
    "    feature_importance_df = pd.DataFrame()\n",
    "\n",
    "    models = []\n",
    "\n",
    "    for i, (train_idx, test_idx) in enumerate(split):\n",
    "        train = df.iloc[train_idx].copy()\n",
    "        test = df.iloc[test_idx].copy()\n",
    "\n",
    "        if weight_col_name:\n",
    "            wtr = train[weight_col_name]\n",
    "            wts = test[weight_col_name]\n",
    "        else:\n",
    "            wtr = None\n",
    "            wts = None\n",
    "            \n",
    "        if prepro is not None:\n",
    "            preprocessor = prepro\n",
    "            train[cat_features] = prepro.fit_transform(X=train[cat_features], y=train[target_col_name])\n",
    "            test[cat_features] = prepro.transform(test[cat_features])\n",
    "\n",
    "        lgb_train = lgb.Dataset(train[features],\n",
    "                                label=train[target_col_name],\n",
    "                                free_raw_data=False,\n",
    "                                weight=wtr)\n",
    "        lgb_test = lgb.Dataset(test[features],\n",
    "                               label=test[target_col_name],\n",
    "                               free_raw_data=False,\n",
    "                               weight=wts)\n",
    "\n",
    "        model = lgb.train(params,\n",
    "                          lgb_train,\n",
    "                          valid_sets=[lgb_train, lgb_test],\n",
    "                          valid_names=['train', 'test'],\n",
    "                          num_boost_round=n_boost_rounds,\n",
    "                          early_stopping_rounds= early_stopping_rounds,\n",
    "                          verbose_eval=verbose_eval)\n",
    "        models.append(model)\n",
    "\n",
    "        train_pred[test_idx] = model.predict(test[features], num_iteration=model.best_iteration)\n",
    "\n",
    "        fold_importance_df = pd.DataFrame()\n",
    "        fold_importance_df[\"feature\"] = features\n",
    "        fold_importance_df[\"importance\"] = model.feature_importance(importance_type='gain', \n",
    "                                                                    iteration=model.best_iteration)\n",
    "        fold_importance_df[\"fold\"] = i + 1\n",
    "        feature_importance_df = pd.concat([feature_importance_df, fold_importance_df], axis=0)\n",
    "\n",
    "    auc = roc_auc_score(y_true=df[target_col_name].values, y_score=train_pred)\n",
    "\n",
    "    return train_pred, feature_importance_df, models, auc"
   ]
  },
  {
   "cell_type": "code",
   "execution_count": 25,
   "metadata": {},
   "outputs": [
    {
     "data": {
      "text/plain": [
       "Index(['days_to_acc_close', 'account_closed_by_risk_in_next_90d',\n",
       "       'is_chg_wrt_off_in_90d', 'nr_returns_in_next_90d', 'bal_after_90d',\n",
       "       'tamt_abs', 'is_returned', 'target', 'indeterminate', 'target_noind'],\n",
       "      dtype='object')"
      ]
     },
     "execution_count": 25,
     "metadata": {},
     "output_type": "execute_result"
    }
   ],
   "source": [
    "modeling_df.columns[-10:]"
   ]
  },
  {
   "cell_type": "code",
   "execution_count": 26,
   "metadata": {},
   "outputs": [
    {
     "data": {
      "text/plain": [
       "False    343717\n",
       "True       5896\n",
       "Name: target_noind, dtype: int64"
      ]
     },
     "execution_count": 26,
     "metadata": {},
     "output_type": "execute_result"
    }
   ],
   "source": [
    "modeling_df.target_noind.value_counts()"
   ]
  },
  {
   "cell_type": "code",
   "execution_count": 27,
   "metadata": {},
   "outputs": [
    {
     "data": {
      "text/plain": [
       "133365"
      ]
     },
     "execution_count": 27,
     "metadata": {},
     "output_type": "execute_result"
    }
   ],
   "source": [
    "df.business_account_number.nunique()"
   ]
  },
  {
   "cell_type": "code",
   "execution_count": 28,
   "metadata": {},
   "outputs": [],
   "source": [
    "# sbusiness_account_numbere we have imbalanced data we scale our data so that the positive class has equal weight to negative class\n",
    "count_pos = modeling_df['target_noind'].sum()\n",
    "count_neg = (~modeling_df['target_noind']).sum()\n",
    "pos_wgt_scaling_factor = (count_neg + count_pos) / count_pos\n",
    "\n",
    "# Increase weight of accounts that are bad and have no returns (yet)\n",
    "#modeling_df['sample_weight'] = np.where((modeling_df['nr_returns_30d'] == 0) & modeling_df['target'], 4, 1) * np.where(modeling_df['sample_date'] < pd.to_datetime('2019-04-15'), 0.75, 1)"
   ]
  },
  {
   "cell_type": "code",
   "execution_count": 29,
   "metadata": {},
   "outputs": [
    {
     "data": {
      "text/plain": [
       "59.29664179104478"
      ]
     },
     "execution_count": 29,
     "metadata": {},
     "output_type": "execute_result"
    }
   ],
   "source": [
    "pos_wgt_scaling_factor"
   ]
  },
  {
   "cell_type": "code",
   "execution_count": 30,
   "metadata": {},
   "outputs": [],
   "source": [
    "modeling_df[['giact_is_pass', 'giact_is_decline', 'giact_is_other']] = modeling_df[['giact_is_pass', 'giact_is_decline', 'giact_is_other']].astype(bool)"
   ]
  },
  {
   "cell_type": "code",
   "execution_count": 31,
   "metadata": {},
   "outputs": [
    {
     "name": "stderr",
     "output_type": "stream",
     "text": [
      "/home/ec2-user/anaconda3/envs/ml_basic_py37/lib/python3.7/site-packages/category_encoders/utils.py:21: FutureWarning: is_categorical is deprecated and will be removed in a future version.  Use is_categorical_dtype instead\n",
      "  elif pd.api.types.is_categorical(cols):\n"
     ]
    },
    {
     "data": {
      "text/html": [
       "<div>\n",
       "<style scoped>\n",
       "    .dataframe tbody tr th:only-of-type {\n",
       "        vertical-align: middle;\n",
       "    }\n",
       "\n",
       "    .dataframe tbody tr th {\n",
       "        vertical-align: top;\n",
       "    }\n",
       "\n",
       "    .dataframe thead th {\n",
       "        text-align: right;\n",
       "    }\n",
       "</style>\n",
       "<table border=\"1\" class=\"dataframe\">\n",
       "  <thead>\n",
       "    <tr style=\"text-align: right;\">\n",
       "      <th></th>\n",
       "      <th>mzip</th>\n",
       "      <th>mstate</th>\n",
       "      <th>external_institution_id</th>\n",
       "      <th>external_account_number</th>\n",
       "    </tr>\n",
       "  </thead>\n",
       "  <tbody>\n",
       "    <tr>\n",
       "      <th>215</th>\n",
       "      <td>0.027778</td>\n",
       "      <td>0.028427</td>\n",
       "      <td>0.023517</td>\n",
       "      <td>0.028849</td>\n",
       "    </tr>\n",
       "    <tr>\n",
       "      <th>225</th>\n",
       "      <td>0.000193</td>\n",
       "      <td>0.030814</td>\n",
       "      <td>0.023517</td>\n",
       "      <td>0.007759</td>\n",
       "    </tr>\n",
       "    <tr>\n",
       "      <th>226</th>\n",
       "      <td>0.000193</td>\n",
       "      <td>0.030814</td>\n",
       "      <td>0.023517</td>\n",
       "      <td>0.007759</td>\n",
       "    </tr>\n",
       "    <tr>\n",
       "      <th>244</th>\n",
       "      <td>0.032558</td>\n",
       "      <td>0.018391</td>\n",
       "      <td>0.026613</td>\n",
       "      <td>0.035714</td>\n",
       "    </tr>\n",
       "    <tr>\n",
       "      <th>245</th>\n",
       "      <td>0.032558</td>\n",
       "      <td>0.018391</td>\n",
       "      <td>0.026613</td>\n",
       "      <td>0.035714</td>\n",
       "    </tr>\n",
       "  </tbody>\n",
       "</table>\n",
       "</div>"
      ],
      "text/plain": [
       "         mzip    mstate  external_institution_id  external_account_number\n",
       "215  0.027778  0.028427                 0.023517                 0.028849\n",
       "225  0.000193  0.030814                 0.023517                 0.007759\n",
       "226  0.000193  0.030814                 0.023517                 0.007759\n",
       "244  0.032558  0.018391                 0.026613                 0.035714\n",
       "245  0.032558  0.018391                 0.026613                 0.035714"
      ]
     },
     "execution_count": 31,
     "metadata": {},
     "output_type": "execute_result"
    }
   ],
   "source": [
    "from category_encoders import TargetEncoder\n",
    "\n",
    "tgt = TargetEncoder().fit_transform(modeling_df[cat_features], modeling_df.target)\n",
    "tgt.head()"
   ]
  },
  {
   "cell_type": "markdown",
   "metadata": {},
   "source": [
    "#### With TargetEncoder"
   ]
  },
  {
   "cell_type": "code",
   "execution_count": 32,
   "metadata": {},
   "outputs": [
    {
     "name": "stderr",
     "output_type": "stream",
     "text": [
      "/home/ec2-user/anaconda3/envs/ml_basic_py37/lib/python3.7/site-packages/category_encoders/utils.py:21: FutureWarning: is_categorical is deprecated and will be removed in a future version.  Use is_categorical_dtype instead\n",
      "  elif pd.api.types.is_categorical(cols):\n"
     ]
    },
    {
     "name": "stdout",
     "output_type": "stream",
     "text": [
      "Training until validation scores don't improve for 250 rounds\n",
      "[500]\ttrain's auc: 0.991825\ttest's auc: 0.977003\n",
      "Early stopping, best iteration is:\n",
      "[610]\ttrain's auc: 0.992658\ttest's auc: 0.977207\n"
     ]
    },
    {
     "name": "stderr",
     "output_type": "stream",
     "text": [
      "/home/ec2-user/anaconda3/envs/ml_basic_py37/lib/python3.7/site-packages/category_encoders/utils.py:21: FutureWarning: is_categorical is deprecated and will be removed in a future version.  Use is_categorical_dtype instead\n",
      "  elif pd.api.types.is_categorical(cols):\n"
     ]
    },
    {
     "name": "stdout",
     "output_type": "stream",
     "text": [
      "Training until validation scores don't improve for 250 rounds\n",
      "[500]\ttrain's auc: 0.990982\ttest's auc: 0.984055\n",
      "Early stopping, best iteration is:\n",
      "[591]\ttrain's auc: 0.991657\ttest's auc: 0.984092\n"
     ]
    },
    {
     "name": "stderr",
     "output_type": "stream",
     "text": [
      "/home/ec2-user/anaconda3/envs/ml_basic_py37/lib/python3.7/site-packages/category_encoders/utils.py:21: FutureWarning: is_categorical is deprecated and will be removed in a future version.  Use is_categorical_dtype instead\n",
      "  elif pd.api.types.is_categorical(cols):\n"
     ]
    },
    {
     "name": "stdout",
     "output_type": "stream",
     "text": [
      "Training until validation scores don't improve for 250 rounds\n",
      "[500]\ttrain's auc: 0.991418\ttest's auc: 0.982804\n",
      "[1000]\ttrain's auc: 0.994365\ttest's auc: 0.983027\n",
      "Early stopping, best iteration is:\n",
      "[775]\ttrain's auc: 0.993425\ttest's auc: 0.983174\n"
     ]
    },
    {
     "name": "stderr",
     "output_type": "stream",
     "text": [
      "/home/ec2-user/anaconda3/envs/ml_basic_py37/lib/python3.7/site-packages/category_encoders/utils.py:21: FutureWarning: is_categorical is deprecated and will be removed in a future version.  Use is_categorical_dtype instead\n",
      "  elif pd.api.types.is_categorical(cols):\n"
     ]
    },
    {
     "name": "stdout",
     "output_type": "stream",
     "text": [
      "Training until validation scores don't improve for 250 rounds\n",
      "[500]\ttrain's auc: 0.991238\ttest's auc: 0.983371\n",
      "[1000]\ttrain's auc: 0.994127\ttest's auc: 0.983454\n",
      "Early stopping, best iteration is:\n",
      "[859]\ttrain's auc: 0.993491\ttest's auc: 0.983576\n"
     ]
    },
    {
     "name": "stderr",
     "output_type": "stream",
     "text": [
      "/home/ec2-user/anaconda3/envs/ml_basic_py37/lib/python3.7/site-packages/category_encoders/utils.py:21: FutureWarning: is_categorical is deprecated and will be removed in a future version.  Use is_categorical_dtype instead\n",
      "  elif pd.api.types.is_categorical(cols):\n"
     ]
    },
    {
     "name": "stdout",
     "output_type": "stream",
     "text": [
      "Training until validation scores don't improve for 250 rounds\n",
      "[500]\ttrain's auc: 0.991727\ttest's auc: 0.981249\n",
      "Early stopping, best iteration is:\n",
      "[700]\ttrain's auc: 0.993028\ttest's auc: 0.981319\n"
     ]
    }
   ],
   "source": [
    "from category_encoders import TargetEncoder\n",
    "\n",
    "seed = 12345\n",
    "params = {\n",
    "    \"objective\" : \"binary\",\n",
    "    \"metric\" : \"auc\",\n",
    "    \"boosting\": 'gbdt',\n",
    "    \"max_depth\" : 4,\n",
    "    \"num_leaves\" : 16,\n",
    "    \"learning_rate\" : 0.03,\n",
    "    \"feature_fraction\" : 0.8,\n",
    "    \"lambda_l1\": 14,\n",
    "    \"lambda_l2\": 14,\n",
    "    \"min_data_in_leaf\": 50,\n",
    "    \"scale_pos_weight\": pos_wgt_scaling_factor,\n",
    "    \"tree_learner\": \"serial\",\n",
    "    \"boost_from_average\": \"false\",\n",
    "    \"bagging_seed\" : seed,\n",
    "    \"verbosity\" : 1,\n",
    "    \"seed\": seed\n",
    "}\n",
    "\n",
    "pred, feature_importance_df, models, auc = train_lgb_baseline_grouped(modeling_df, features, params, target_col_name='target_noind', \n",
    "                                                                      group_col_name='business_account_number', seed=seed, \n",
    "                                                                      n_boost_rounds=5000, early_stopping_rounds=250, verbose_eval=500, \n",
    "                                                                      weight_col_name=None, cat_features=cat_features, prepro=TargetEncoder())"
   ]
  },
  {
   "cell_type": "code",
   "execution_count": 33,
   "metadata": {},
   "outputs": [],
   "source": [
    "import matplotlib.pyplot as plt\n",
    "import seaborn as sns\n",
    "\n",
    "def display_importances(feature_importance_df_, save_file_path=None):\n",
    "    cols = feature_importance_df_[[\"feature\", \"importance\"]].groupby(\"feature\").mean().sort_values(by=\"importance\", ascending=False)[:40].index\n",
    "    best_features = feature_importance_df_.loc[feature_importance_df_.feature.isin(cols)]\n",
    "\n",
    "    fig = plt.figure(figsize=(14, 12))\n",
    "\n",
    "    sns.barplot(x=\"importance\", y=\"feature\", data=best_features.sort_values(by=\"importance\", ascending=False))\n",
    "    plt.title('LightGBM Features (avg over folds)')\n",
    "    plt.tight_layout()\n",
    "    if save_file_path:\n",
    "        plt.savefig(save_file_path)"
   ]
  },
  {
   "cell_type": "code",
   "execution_count": 34,
   "metadata": {},
   "outputs": [
    {
     "data": {
      "image/png": "[encoded data removed]",
      "text/plain": [
       "<Figure size 1008x864 with 1 Axes>"
      ]
     },
     "metadata": {
      "needs_background": "light"
     },
     "output_type": "display_data"
    }
   ],
   "source": [
    "display_importances(feature_importance_df)"
   ]
  },
  {
   "cell_type": "code",
   "execution_count": 35,
   "metadata": {},
   "outputs": [
    {
     "name": "stderr",
     "output_type": "stream",
     "text": [
      "/home/ec2-user/anaconda3/envs/ml_basic_py37/lib/python3.7/site-packages/ipykernel/__main__.py:1: SettingWithCopyWarning: \n",
      "A value is trying to be set on a copy of a slice from a DataFrame.\n",
      "Try using .loc[row_indexer,col_indexer] = value instead\n",
      "\n",
      "See the caveats in the documentation: https://pandas.pydata.org/pandas-docs/stable/user_guide/indexing.html#returning-a-view-versus-a-copy\n",
      "  if __name__ == '__main__':\n"
     ]
    },
    {
     "data": {
      "text/plain": [
       "target_noind\n",
       "False    AxesSubplot(0.125,0.125;0.775x0.755)\n",
       "True     AxesSubplot(0.125,0.125;0.775x0.755)\n",
       "Name: pred, dtype: object"
      ]
     },
     "execution_count": 35,
     "metadata": {},
     "output_type": "execute_result"
    },
    {
     "data": {
      "image/png": "[encoded data removed]",
      "text/plain": [
       "<Figure size 432x288 with 1 Axes>"
      ]
     },
     "metadata": {
      "needs_background": "light"
     },
     "output_type": "display_data"
    }
   ],
   "source": [
    "modeling_df['pred'] = pred\n",
    "modeling_df.groupby('target_noind')['pred'].hist(bins=30, alpha=0.6)"
   ]
  },
  {
   "cell_type": "code",
   "execution_count": 36,
   "metadata": {},
   "outputs": [
    {
     "data": {
      "text/plain": [
       "(<Figure size 432x288 with 1 Axes>,\n",
       " <AxesSubplot:title={'center':'2-class Precision-Recall curve: AP = 0.6451788645994349'}, xlabel='Recall', ylabel='Precision'>)"
      ]
     },
     "execution_count": 36,
     "metadata": {},
     "output_type": "execute_result"
    },
    {
     "data": {
      "image/png": "[encoded data removed]",
      "text/plain": [
       "<Figure size 432x288 with 1 Axes>"
      ]
     },
     "metadata": {
      "needs_background": "light"
     },
     "output_type": "display_data"
    }
   ],
   "source": [
    "from rdsutils.plot import plot_pr_curve\n",
    "\n",
    "plot_pr_curve(y_true = modeling_df['target_noind'], y_score=pred)"
   ]
  },
  {
   "cell_type": "code",
   "execution_count": 37,
   "metadata": {},
   "outputs": [],
   "source": [
    "def get_best_features(feature_importance_df_):\n",
    "    return feature_importance_df_[[\"feature\", \"importance\"]].groupby(\"feature\").mean().sort_values(by=\"importance\", ascending=False)[:40]\n",
    "\n",
    "best_features_v2 = get_best_features(feature_importance_df)"
   ]
  },
  {
   "cell_type": "code",
   "execution_count": 38,
   "metadata": {},
   "outputs": [
    {
     "data": {
      "text/html": [
       "<div>\n",
       "<style scoped>\n",
       "    .dataframe tbody tr th:only-of-type {\n",
       "        vertical-align: middle;\n",
       "    }\n",
       "\n",
       "    .dataframe tbody tr th {\n",
       "        vertical-align: top;\n",
       "    }\n",
       "\n",
       "    .dataframe thead th {\n",
       "        text-align: right;\n",
       "    }\n",
       "</style>\n",
       "<table border=\"1\" class=\"dataframe\">\n",
       "  <thead>\n",
       "    <tr style=\"text-align: right;\">\n",
       "      <th></th>\n",
       "      <th>importance</th>\n",
       "    </tr>\n",
       "    <tr>\n",
       "      <th>feature</th>\n",
       "      <th></th>\n",
       "    </tr>\n",
       "  </thead>\n",
       "  <tbody>\n",
       "    <tr>\n",
       "      <th>bcc7120</th>\n",
       "      <td>2.969065e+06</td>\n",
       "    </tr>\n",
       "    <tr>\n",
       "      <th>vantage_score</th>\n",
       "      <td>1.874522e+06</td>\n",
       "    </tr>\n",
       "    <tr>\n",
       "      <th>credit_card_loan_amount</th>\n",
       "      <td>1.165976e+06</td>\n",
       "    </tr>\n",
       "    <tr>\n",
       "      <th>days_since_first_deposit</th>\n",
       "      <td>5.046954e+05</td>\n",
       "    </tr>\n",
       "    <tr>\n",
       "      <th>first_deposit_amount</th>\n",
       "      <td>4.679522e+05</td>\n",
       "    </tr>\n",
       "    <tr>\n",
       "      <th>fico_score</th>\n",
       "      <td>3.947268e+05</td>\n",
       "    </tr>\n",
       "    <tr>\n",
       "      <th>pct_returned_deposits</th>\n",
       "      <td>3.860474e+05</td>\n",
       "    </tr>\n",
       "    <tr>\n",
       "      <th>total_tradelines_open</th>\n",
       "      <td>3.481685e+05</td>\n",
       "    </tr>\n",
       "    <tr>\n",
       "      <th>giact_time_since_last_link</th>\n",
       "      <td>3.358214e+05</td>\n",
       "    </tr>\n",
       "    <tr>\n",
       "      <th>giact_nr_pass</th>\n",
       "      <td>3.241146e+05</td>\n",
       "    </tr>\n",
       "    <tr>\n",
       "      <th>email_risk_score</th>\n",
       "      <td>2.184412e+05</td>\n",
       "    </tr>\n",
       "    <tr>\n",
       "      <th>giact_nr_decline</th>\n",
       "      <td>1.602853e+05</td>\n",
       "    </tr>\n",
       "    <tr>\n",
       "      <th>phone_risk_score</th>\n",
       "      <td>1.253872e+05</td>\n",
       "    </tr>\n",
       "    <tr>\n",
       "      <th>fraud_score_2</th>\n",
       "      <td>1.244551e+05</td>\n",
       "    </tr>\n",
       "    <tr>\n",
       "      <th>max_deposits_10d_div_mean_account_balance_30d</th>\n",
       "      <td>1.086720e+05</td>\n",
       "    </tr>\n",
       "    <tr>\n",
       "      <th>giact_nr_other</th>\n",
       "      <td>1.043425e+05</td>\n",
       "    </tr>\n",
       "    <tr>\n",
       "      <th>fraud_score_1</th>\n",
       "      <td>8.328283e+04</td>\n",
       "    </tr>\n",
       "    <tr>\n",
       "      <th>transaction_as_pct_of_balance</th>\n",
       "      <td>7.763470e+04</td>\n",
       "    </tr>\n",
       "    <tr>\n",
       "      <th>lag_acc_open_first_transaction</th>\n",
       "      <td>6.561453e+04</td>\n",
       "    </tr>\n",
       "    <tr>\n",
       "      <th>sum_withdrawals_30d</th>\n",
       "      <td>6.023423e+04</td>\n",
       "    </tr>\n",
       "    <tr>\n",
       "      <th>sum_deposits_3d</th>\n",
       "      <td>5.659929e+04</td>\n",
       "    </tr>\n",
       "    <tr>\n",
       "      <th>total_outstanding_balance</th>\n",
       "      <td>5.352454e+04</td>\n",
       "    </tr>\n",
       "    <tr>\n",
       "      <th>giact_is_pass</th>\n",
       "      <td>5.254240e+04</td>\n",
       "    </tr>\n",
       "    <tr>\n",
       "      <th>iqt9415</th>\n",
       "      <td>5.234437e+04</td>\n",
       "    </tr>\n",
       "    <tr>\n",
       "      <th>sum_withdrawals_10d</th>\n",
       "      <td>5.173503e+04</td>\n",
       "    </tr>\n",
       "    <tr>\n",
       "      <th>sum_withdrawals_3d</th>\n",
       "      <td>4.242284e+04</td>\n",
       "    </tr>\n",
       "    <tr>\n",
       "      <th>name_address_correlation</th>\n",
       "      <td>4.018003e+04</td>\n",
       "    </tr>\n",
       "    <tr>\n",
       "      <th>deposits_ratio</th>\n",
       "      <td>3.998257e+04</td>\n",
       "    </tr>\n",
       "    <tr>\n",
       "      <th>pct_returned_deposits_30d</th>\n",
       "      <td>3.882991e+04</td>\n",
       "    </tr>\n",
       "    <tr>\n",
       "      <th>nr_transactions_30d_div_nr_past_transactions</th>\n",
       "      <td>3.702100e+04</td>\n",
       "    </tr>\n",
       "    <tr>\n",
       "      <th>name_phone_correlation</th>\n",
       "      <td>3.542720e+04</td>\n",
       "    </tr>\n",
       "    <tr>\n",
       "      <th>giact_time_since_first_link</th>\n",
       "      <td>3.329540e+04</td>\n",
       "    </tr>\n",
       "    <tr>\n",
       "      <th>bcx3423</th>\n",
       "      <td>3.225401e+04</td>\n",
       "    </tr>\n",
       "    <tr>\n",
       "      <th>mean_account_balance_30d</th>\n",
       "      <td>2.959569e+04</td>\n",
       "    </tr>\n",
       "    <tr>\n",
       "      <th>mean_withdrawals_10d</th>\n",
       "      <td>2.913131e+04</td>\n",
       "    </tr>\n",
       "    <tr>\n",
       "      <th>all7120</th>\n",
       "      <td>2.870946e+04</td>\n",
       "    </tr>\n",
       "    <tr>\n",
       "      <th>all8220</th>\n",
       "      <td>2.761729e+04</td>\n",
       "    </tr>\n",
       "    <tr>\n",
       "      <th>bal_ratio</th>\n",
       "      <td>2.711356e+04</td>\n",
       "    </tr>\n",
       "    <tr>\n",
       "      <th>name_email_correlation</th>\n",
       "      <td>2.553560e+04</td>\n",
       "    </tr>\n",
       "    <tr>\n",
       "      <th>mean_withdrawals</th>\n",
       "      <td>2.388457e+04</td>\n",
       "    </tr>\n",
       "  </tbody>\n",
       "</table>\n",
       "</div>"
      ],
      "text/plain": [
       "                                                 importance\n",
       "feature                                                    \n",
       "bcc7120                                        2.969065e+06\n",
       "vantage_score                                  1.874522e+06\n",
       "credit_card_loan_amount                        1.165976e+06\n",
       "days_since_first_deposit                       5.046954e+05\n",
       "first_deposit_amount                           4.679522e+05\n",
       "fico_score                                     3.947268e+05\n",
       "pct_returned_deposits                          3.860474e+05\n",
       "total_tradelines_open                          3.481685e+05\n",
       "giact_time_since_last_link                     3.358214e+05\n",
       "giact_nr_pass                                  3.241146e+05\n",
       "email_risk_score                               2.184412e+05\n",
       "giact_nr_decline                               1.602853e+05\n",
       "phone_risk_score                               1.253872e+05\n",
       "fraud_score_2                                  1.244551e+05\n",
       "max_deposits_10d_div_mean_account_balance_30d  1.086720e+05\n",
       "giact_nr_other                                 1.043425e+05\n",
       "fraud_score_1                                  8.328283e+04\n",
       "transaction_as_pct_of_balance                  7.763470e+04\n",
       "lag_acc_open_first_transaction                 6.561453e+04\n",
       "sum_withdrawals_30d                            6.023423e+04\n",
       "sum_deposits_3d                                5.659929e+04\n",
       "total_outstanding_balance                      5.352454e+04\n",
       "giact_is_pass                                  5.254240e+04\n",
       "iqt9415                                        5.234437e+04\n",
       "sum_withdrawals_10d                            5.173503e+04\n",
       "sum_withdrawals_3d                             4.242284e+04\n",
       "name_address_correlation                       4.018003e+04\n",
       "deposits_ratio                                 3.998257e+04\n",
       "pct_returned_deposits_30d                      3.882991e+04\n",
       "nr_transactions_30d_div_nr_past_transactions   3.702100e+04\n",
       "name_phone_correlation                         3.542720e+04\n",
       "giact_time_since_first_link                    3.329540e+04\n",
       "bcx3423                                        3.225401e+04\n",
       "mean_account_balance_30d                       2.959569e+04\n",
       "mean_withdrawals_10d                           2.913131e+04\n",
       "all7120                                        2.870946e+04\n",
       "all8220                                        2.761729e+04\n",
       "bal_ratio                                      2.711356e+04\n",
       "name_email_correlation                         2.553560e+04\n",
       "mean_withdrawals                               2.388457e+04"
      ]
     },
     "execution_count": 38,
     "metadata": {},
     "output_type": "execute_result"
    }
   ],
   "source": [
    "best_features_v2"
   ]
  },
  {
   "cell_type": "markdown",
   "metadata": {},
   "source": [
    "#### Deposit V1 model\n",
    "---\n",
    "Build a baseline using the deposit v1 model features"
   ]
  },
  {
   "cell_type": "code",
   "execution_count": 39,
   "metadata": {},
   "outputs": [],
   "source": [
    "v1_features = ['transaction_amount', 'fico_score', 'vantage_score',\n",
    "            'fraud_score_1', 'fraud_score_2', 'email_risk_score', 'phone_risk_score',  'all8220', \n",
    "            'iqt9415', 'all7120', 'mtf5820', 'bcc7120', 'bcc2800', 'iln5520', 'bcx3423', 'stu5031',\n",
    "            'nr_direct_deposits', 'nr_past_returns', 'rolling_trns_as_pct_of_bal', \n",
    "            'nr_transactions_per_day', 'transaction_as_pct_of_balance', \n",
    "            'transaction_as_pct_of_bal_min', 'rolling_mean_acc_bal', \n",
    "              'real_ending_balance', # old 'account_ending_balance'\n",
    "              'days_since_first_deposit' # old 'days_since_first_transaction'\n",
    "              ]"
   ]
  },
  {
   "cell_type": "code",
   "execution_count": 40,
   "metadata": {},
   "outputs": [
    {
     "name": "stdout",
     "output_type": "stream",
     "text": [
      "Training until validation scores don't improve for 250 rounds\n",
      "[500]\ttrain's auc: 0.986602\ttest's auc: 0.970568\n",
      "Early stopping, best iteration is:\n",
      "[397]\ttrain's auc: 0.985094\ttest's auc: 0.970642\n",
      "Training until validation scores don't improve for 250 rounds\n",
      "[500]\ttrain's auc: 0.98579\ttest's auc: 0.975985\n",
      "Early stopping, best iteration is:\n",
      "[410]\ttrain's auc: 0.984601\ttest's auc: 0.976179\n",
      "Training until validation scores don't improve for 250 rounds\n",
      "[500]\ttrain's auc: 0.98599\ttest's auc: 0.97495\n",
      "[1000]\ttrain's auc: 0.990106\ttest's auc: 0.97523\n",
      "Early stopping, best iteration is:\n",
      "[938]\ttrain's auc: 0.989789\ttest's auc: 0.975329\n",
      "Training until validation scores don't improve for 250 rounds\n",
      "[500]\ttrain's auc: 0.985522\ttest's auc: 0.978157\n",
      "Early stopping, best iteration is:\n",
      "[624]\ttrain's auc: 0.986924\ttest's auc: 0.97831\n",
      "Training until validation scores don't improve for 250 rounds\n",
      "[500]\ttrain's auc: 0.986042\ttest's auc: 0.974275\n",
      "Early stopping, best iteration is:\n",
      "[547]\ttrain's auc: 0.986676\ttest's auc: 0.974291\n"
     ]
    }
   ],
   "source": [
    "from category_encoders import TargetEncoder\n",
    "\n",
    "seed = 12345\n",
    "params = {\n",
    "    \"objective\" : \"binary\",\n",
    "    \"metric\" : \"auc\",\n",
    "    \"boosting\": 'gbdt',\n",
    "    \"max_depth\" : 4,\n",
    "    \"num_leaves\" : 16,\n",
    "    \"learning_rate\" : 0.03,\n",
    "    \"feature_fraction\" : 0.8,\n",
    "    \"lambda_l1\": 14,\n",
    "    \"lambda_l2\": 14,\n",
    "    \"min_data_in_leaf\": 50,\n",
    "    \"scale_pos_weight\": pos_wgt_scaling_factor,\n",
    "    \"tree_learner\": \"serial\",\n",
    "    \"boost_from_average\": \"false\",\n",
    "    \"bagging_seed\" : seed,\n",
    "    \"verbosity\" : 1,\n",
    "    \"seed\": seed\n",
    "}\n",
    "\n",
    "pred_v1, feature_importance_df_v1, models_v1, auc_v1 = train_lgb_baseline_grouped(modeling_df, v1_features, params, target_col_name='target_noind', \n",
    "                                                                      group_col_name='business_account_number', seed=seed, \n",
    "                                                                      n_boost_rounds=5000, early_stopping_rounds=250, verbose_eval=500, \n",
    "                                                                      weight_col_name=None)"
   ]
  },
  {
   "cell_type": "code",
   "execution_count": 41,
   "metadata": {},
   "outputs": [
    {
     "data": {
      "image/png": "[encoded data removed]",
      "text/plain": [
       "<Figure size 1008x864 with 1 Axes>"
      ]
     },
     "metadata": {
      "needs_background": "light"
     },
     "output_type": "display_data"
    }
   ],
   "source": [
    "# why don't we use nr_past_returns anymore\n",
    "display_importances(feature_importance_df_v1)"
   ]
  },
  {
   "cell_type": "code",
   "execution_count": 42,
   "metadata": {},
   "outputs": [
    {
     "data": {
      "text/plain": [
       "(<Figure size 432x288 with 1 Axes>,\n",
       " <AxesSubplot:title={'center':'2-class Precision-Recall curve: AP = 0.507015418086608'}, xlabel='Recall', ylabel='Precision'>)"
      ]
     },
     "execution_count": 42,
     "metadata": {},
     "output_type": "execute_result"
    },
    {
     "data": {
      "image/png": "[encoded data removed]",
      "text/plain": [
       "<Figure size 432x288 with 1 Axes>"
      ]
     },
     "metadata": {
      "needs_background": "light"
     },
     "output_type": "display_data"
    }
   ],
   "source": [
    "from rdsutils.plot import plot_pr_curve\n",
    "\n",
    "plot_pr_curve(y_true = modeling_df['target_noind'], y_score=pred_v1)"
   ]
  },
  {
   "cell_type": "markdown",
   "metadata": {},
   "source": [
    "#### Cross-model study\n",
    "---"
   ]
  },
  {
   "cell_type": "code",
   "execution_count": 43,
   "metadata": {},
   "outputs": [],
   "source": [
    "def get_best_features(feature_importance_df_):\n",
    "    return feature_importance_df_[[\"feature\", \"importance\"]].groupby(\"feature\").mean().sort_values(by=\"importance\", ascending=False)[:40]\n",
    "\n",
    "best_features_v2 = get_best_features(feature_importance_df)\n",
    "best_features_v1 = get_best_features(feature_importance_df_v1)"
   ]
  },
  {
   "cell_type": "code",
   "execution_count": 44,
   "metadata": {},
   "outputs": [],
   "source": [
    "best_features_v1['rank'] = np.arange(len(best_features_v1))\n",
    "best_features_v2['rank'] = np.arange(len(best_features_v2))"
   ]
  },
  {
   "cell_type": "code",
   "execution_count": 45,
   "metadata": {},
   "outputs": [
    {
     "data": {
      "text/html": [
       "<div>\n",
       "<style scoped>\n",
       "    .dataframe tbody tr th:only-of-type {\n",
       "        vertical-align: middle;\n",
       "    }\n",
       "\n",
       "    .dataframe tbody tr th {\n",
       "        vertical-align: top;\n",
       "    }\n",
       "\n",
       "    .dataframe thead th {\n",
       "        text-align: right;\n",
       "    }\n",
       "</style>\n",
       "<table border=\"1\" class=\"dataframe\">\n",
       "  <thead>\n",
       "    <tr style=\"text-align: right;\">\n",
       "      <th></th>\n",
       "      <th>importance</th>\n",
       "      <th>rank</th>\n",
       "    </tr>\n",
       "    <tr>\n",
       "      <th>feature</th>\n",
       "      <th></th>\n",
       "      <th></th>\n",
       "    </tr>\n",
       "  </thead>\n",
       "  <tbody>\n",
       "    <tr>\n",
       "      <th>bcc7120</th>\n",
       "      <td>3.415868e+06</td>\n",
       "      <td>0.0</td>\n",
       "    </tr>\n",
       "    <tr>\n",
       "      <th>vantage_score</th>\n",
       "      <td>1.924147e+06</td>\n",
       "      <td>1.0</td>\n",
       "    </tr>\n",
       "    <tr>\n",
       "      <th>credit_card_loan_amount</th>\n",
       "      <td>1.165976e+06</td>\n",
       "      <td>2.0</td>\n",
       "    </tr>\n",
       "    <tr>\n",
       "      <th>days_since_first_deposit</th>\n",
       "      <td>7.441558e+05</td>\n",
       "      <td>2.5</td>\n",
       "    </tr>\n",
       "    <tr>\n",
       "      <th>first_deposit_amount</th>\n",
       "      <td>4.679522e+05</td>\n",
       "      <td>4.0</td>\n",
       "    </tr>\n",
       "    <tr>\n",
       "      <th>fico_score</th>\n",
       "      <td>4.582783e+05</td>\n",
       "      <td>4.0</td>\n",
       "    </tr>\n",
       "    <tr>\n",
       "      <th>pct_returned_deposits</th>\n",
       "      <td>3.860474e+05</td>\n",
       "      <td>6.0</td>\n",
       "    </tr>\n",
       "    <tr>\n",
       "      <th>nr_past_returns</th>\n",
       "      <td>3.275239e+05</td>\n",
       "      <td>6.0</td>\n",
       "    </tr>\n",
       "    <tr>\n",
       "      <th>total_tradelines_open</th>\n",
       "      <td>3.481685e+05</td>\n",
       "      <td>7.0</td>\n",
       "    </tr>\n",
       "    <tr>\n",
       "      <th>email_risk_score</th>\n",
       "      <td>2.922728e+05</td>\n",
       "      <td>7.5</td>\n",
       "    </tr>\n",
       "  </tbody>\n",
       "</table>\n",
       "</div>"
      ],
      "text/plain": [
       "                            importance  rank\n",
       "feature                                     \n",
       "bcc7120                   3.415868e+06   0.0\n",
       "vantage_score             1.924147e+06   1.0\n",
       "credit_card_loan_amount   1.165976e+06   2.0\n",
       "days_since_first_deposit  7.441558e+05   2.5\n",
       "first_deposit_amount      4.679522e+05   4.0\n",
       "fico_score                4.582783e+05   4.0\n",
       "pct_returned_deposits     3.860474e+05   6.0\n",
       "nr_past_returns           3.275239e+05   6.0\n",
       "total_tradelines_open     3.481685e+05   7.0\n",
       "email_risk_score          2.922728e+05   7.5"
      ]
     },
     "execution_count": 45,
     "metadata": {},
     "output_type": "execute_result"
    }
   ],
   "source": [
    "best_features = pd.concat([best_features_v1, best_features_v2])\n",
    "best_features = best_features.groupby('feature').mean().sort_values('rank', ascending=True)\n",
    "best_features.head(10)"
   ]
  },
  {
   "cell_type": "code",
   "execution_count": 46,
   "metadata": {},
   "outputs": [
    {
     "name": "stdout",
     "output_type": "stream",
     "text": [
      "['nr_past_returns', 'transaction_as_pct_of_bal_min', 'rolling_trns_as_pct_of_bal', 'transaction_amount', 'nr_transactions_per_day', 'rolling_mean_acc_bal', 'real_ending_balance', 'bcc2800', 'mtf5820', 'iln5520', 'stu5031', 'nr_direct_deposits']\n"
     ]
    }
   ],
   "source": [
    "def diff(seq1, seq2):\n",
    "    # we want to ensure order...\n",
    "    return [e1 for e1 in seq1 if e1 not in seq2]\n",
    "\n",
    "print(diff(best_features_v1.index,\n",
    "           best_features_v2.index))"
   ]
  },
  {
   "cell_type": "code",
   "execution_count": 47,
   "metadata": {},
   "outputs": [
    {
     "data": {
      "image/png": "[encoded data removed]",
      "text/plain": [
       "<Figure size 1008x864 with 1 Axes>"
      ]
     },
     "metadata": {
      "needs_background": "light"
     },
     "output_type": "display_data"
    }
   ],
   "source": [
    "display_importances(best_features.reset_index())"
   ]
  },
  {
   "cell_type": "code",
   "execution_count": 48,
   "metadata": {},
   "outputs": [],
   "source": [
    "best_feature_cols = best_features.index.tolist()"
   ]
  },
  {
   "cell_type": "code",
   "execution_count": 49,
   "metadata": {},
   "outputs": [
    {
     "name": "stderr",
     "output_type": "stream",
     "text": [
      "/home/ec2-user/anaconda3/envs/ml_basic_py37/lib/python3.7/site-packages/category_encoders/utils.py:21: FutureWarning: is_categorical is deprecated and will be removed in a future version.  Use is_categorical_dtype instead\n",
      "  elif pd.api.types.is_categorical(cols):\n"
     ]
    },
    {
     "name": "stdout",
     "output_type": "stream",
     "text": [
      "Training until validation scores don't improve for 250 rounds\n",
      "[500]\ttrain's auc: 0.991909\ttest's auc: 0.978132\n",
      "Early stopping, best iteration is:\n",
      "[572]\ttrain's auc: 0.992464\ttest's auc: 0.978211\n"
     ]
    },
    {
     "name": "stderr",
     "output_type": "stream",
     "text": [
      "/home/ec2-user/anaconda3/envs/ml_basic_py37/lib/python3.7/site-packages/category_encoders/utils.py:21: FutureWarning: is_categorical is deprecated and will be removed in a future version.  Use is_categorical_dtype instead\n",
      "  elif pd.api.types.is_categorical(cols):\n"
     ]
    },
    {
     "name": "stdout",
     "output_type": "stream",
     "text": [
      "Training until validation scores don't improve for 250 rounds\n",
      "[500]\ttrain's auc: 0.990901\ttest's auc: 0.984208\n",
      "Early stopping, best iteration is:\n",
      "[596]\ttrain's auc: 0.991751\ttest's auc: 0.98434\n"
     ]
    },
    {
     "name": "stderr",
     "output_type": "stream",
     "text": [
      "/home/ec2-user/anaconda3/envs/ml_basic_py37/lib/python3.7/site-packages/category_encoders/utils.py:21: FutureWarning: is_categorical is deprecated and will be removed in a future version.  Use is_categorical_dtype instead\n",
      "  elif pd.api.types.is_categorical(cols):\n"
     ]
    },
    {
     "name": "stdout",
     "output_type": "stream",
     "text": [
      "Training until validation scores don't improve for 250 rounds\n",
      "[500]\ttrain's auc: 0.991579\ttest's auc: 0.982505\n",
      "Early stopping, best iteration is:\n",
      "[685]\ttrain's auc: 0.99306\ttest's auc: 0.982739\n"
     ]
    },
    {
     "name": "stderr",
     "output_type": "stream",
     "text": [
      "/home/ec2-user/anaconda3/envs/ml_basic_py37/lib/python3.7/site-packages/category_encoders/utils.py:21: FutureWarning: is_categorical is deprecated and will be removed in a future version.  Use is_categorical_dtype instead\n",
      "  elif pd.api.types.is_categorical(cols):\n"
     ]
    },
    {
     "name": "stdout",
     "output_type": "stream",
     "text": [
      "Training until validation scores don't improve for 250 rounds\n",
      "[500]\ttrain's auc: 0.991395\ttest's auc: 0.98352\n",
      "[1000]\ttrain's auc: 0.99423\ttest's auc: 0.983951\n",
      "Early stopping, best iteration is:\n",
      "[951]\ttrain's auc: 0.994057\ttest's auc: 0.983976\n"
     ]
    },
    {
     "name": "stderr",
     "output_type": "stream",
     "text": [
      "/home/ec2-user/anaconda3/envs/ml_basic_py37/lib/python3.7/site-packages/category_encoders/utils.py:21: FutureWarning: is_categorical is deprecated and will be removed in a future version.  Use is_categorical_dtype instead\n",
      "  elif pd.api.types.is_categorical(cols):\n"
     ]
    },
    {
     "name": "stdout",
     "output_type": "stream",
     "text": [
      "Training until validation scores don't improve for 250 rounds\n",
      "[500]\ttrain's auc: 0.991712\ttest's auc: 0.981366\n",
      "[1000]\ttrain's auc: 0.994384\ttest's auc: 0.981568\n",
      "Early stopping, best iteration is:\n",
      "[824]\ttrain's auc: 0.99368\ttest's auc: 0.981796\n"
     ]
    }
   ],
   "source": [
    "from category_encoders import TargetEncoder\n",
    "\n",
    "seed = 12345\n",
    "params = {\n",
    "    \"objective\" : \"binary\",\n",
    "    \"metric\" : \"auc\",\n",
    "    \"boosting\": 'gbdt',\n",
    "    \"max_depth\" : 4,\n",
    "    \"num_leaves\" : 16,\n",
    "    \"learning_rate\" : 0.03,\n",
    "    \"feature_fraction\" : 0.8,\n",
    "    \"lambda_l1\": 14,\n",
    "    \"lambda_l2\": 14,\n",
    "    \"min_data_in_leaf\": 50,\n",
    "    \"scale_pos_weight\": pos_wgt_scaling_factor,\n",
    "    \"tree_learner\": \"serial\",\n",
    "    \"boost_from_average\": \"false\",\n",
    "    \"bagging_seed\" : seed,\n",
    "    \"verbosity\" : 1,\n",
    "    \"seed\": seed\n",
    "}\n",
    "\n",
    "pred, feature_importance_df, models, auc = train_lgb_baseline_grouped(modeling_df, best_feature_cols, params, target_col_name='target_noind', \n",
    "                                                                      group_col_name='business_account_number', seed=seed, \n",
    "                                                                      n_boost_rounds=5000, early_stopping_rounds=250, verbose_eval=500, \n",
    "                                                                      weight_col_name=None, cat_features=cat_features, prepro=TargetEncoder())"
   ]
  },
  {
   "cell_type": "code",
   "execution_count": 50,
   "metadata": {},
   "outputs": [
    {
     "data": {
      "text/plain": [
       "(<Figure size 432x288 with 1 Axes>,\n",
       " <AxesSubplot:title={'center':'2-class Precision-Recall curve: AP = 0.6470492110281215'}, xlabel='Recall', ylabel='Precision'>)"
      ]
     },
     "execution_count": 50,
     "metadata": {},
     "output_type": "execute_result"
    },
    {
     "data": {
      "image/png": "[encoded data removed]",
      "text/plain": [
       "<Figure size 432x288 with 1 Axes>"
      ]
     },
     "metadata": {
      "needs_background": "light"
     },
     "output_type": "display_data"
    }
   ],
   "source": [
    "from rdsutils.plot import plot_pr_curve\n",
    "\n",
    "plot_pr_curve(y_true = modeling_df['target_noind'], y_score=pred)"
   ]
  },
  {
   "cell_type": "markdown",
   "metadata": {},
   "source": [
    "#### Difference in features\n",
    "---"
   ]
  },
  {
   "cell_type": "code",
   "execution_count": 51,
   "metadata": {},
   "outputs": [
    {
     "data": {
      "text/plain": [
       "(                                 importance  rank\n",
       " feature                                          \n",
       " bcc7120                        3.862672e+06     0\n",
       " vantage_score                  1.973772e+06     1\n",
       " days_since_first_deposit       9.836163e+05     2\n",
       " fico_score                     5.218298e+05     3\n",
       " phone_risk_score               4.138316e+05     4\n",
       " email_risk_score               3.661043e+05     5\n",
       " nr_past_returns                3.275239e+05     6\n",
       " bcx3423                        3.004338e+05     7\n",
       " transaction_as_pct_of_bal_min  2.521945e+05     8\n",
       " rolling_trns_as_pct_of_bal     1.968795e+05     9\n",
       " fraud_score_2                  1.373607e+05    10\n",
       " transaction_amount             1.371255e+05    11\n",
       " fraud_score_1                  1.224862e+05    12\n",
       " nr_transactions_per_day        1.100283e+05    13\n",
       " rolling_mean_acc_bal           7.961709e+04    14\n",
       " iqt9415                        7.383084e+04    15\n",
       " real_ending_balance            6.852482e+04    16\n",
       " bcc2800                        6.346979e+04    17\n",
       " all8220                        5.600471e+04    18\n",
       " mtf5820                        5.342840e+04    19\n",
       " iln5520                        5.052738e+04    20\n",
       " all7120                        4.514721e+04    21\n",
       " transaction_as_pct_of_balance  4.082379e+04    22\n",
       " stu5031                        3.643958e+04    23\n",
       " nr_direct_deposits             8.314005e+03    24,\n",
       "                                                  importance  rank\n",
       " feature                                                          \n",
       " bcc7120                                        2.969065e+06     0\n",
       " vantage_score                                  1.874522e+06     1\n",
       " credit_card_loan_amount                        1.165976e+06     2\n",
       " days_since_first_deposit                       5.046954e+05     3\n",
       " first_deposit_amount                           4.679522e+05     4\n",
       " fico_score                                     3.947268e+05     5\n",
       " pct_returned_deposits                          3.860474e+05     6\n",
       " total_tradelines_open                          3.481685e+05     7\n",
       " giact_time_since_last_link                     3.358214e+05     8\n",
       " giact_nr_pass                                  3.241146e+05     9\n",
       " email_risk_score                               2.184412e+05    10\n",
       " giact_nr_decline                               1.602853e+05    11\n",
       " phone_risk_score                               1.253872e+05    12\n",
       " fraud_score_2                                  1.244551e+05    13\n",
       " max_deposits_10d_div_mean_account_balance_30d  1.086720e+05    14\n",
       " giact_nr_other                                 1.043425e+05    15\n",
       " fraud_score_1                                  8.328283e+04    16\n",
       " transaction_as_pct_of_balance                  7.763470e+04    17\n",
       " lag_acc_open_first_transaction                 6.561453e+04    18\n",
       " sum_withdrawals_30d                            6.023423e+04    19\n",
       " sum_deposits_3d                                5.659929e+04    20\n",
       " total_outstanding_balance                      5.352454e+04    21\n",
       " giact_is_pass                                  5.254240e+04    22\n",
       " iqt9415                                        5.234437e+04    23\n",
       " sum_withdrawals_10d                            5.173503e+04    24\n",
       " sum_withdrawals_3d                             4.242284e+04    25\n",
       " name_address_correlation                       4.018003e+04    26\n",
       " deposits_ratio                                 3.998257e+04    27\n",
       " pct_returned_deposits_30d                      3.882991e+04    28\n",
       " nr_transactions_30d_div_nr_past_transactions   3.702100e+04    29\n",
       " name_phone_correlation                         3.542720e+04    30\n",
       " giact_time_since_first_link                    3.329540e+04    31\n",
       " bcx3423                                        3.225401e+04    32\n",
       " mean_account_balance_30d                       2.959569e+04    33\n",
       " mean_withdrawals_10d                           2.913131e+04    34\n",
       " all7120                                        2.870946e+04    35\n",
       " all8220                                        2.761729e+04    36\n",
       " bal_ratio                                      2.711356e+04    37\n",
       " name_email_correlation                         2.553560e+04    38\n",
       " mean_withdrawals                               2.388457e+04    39,\n",
       " ['bcc7120',\n",
       "  'vantage_score',\n",
       "  'credit_card_loan_amount',\n",
       "  'days_since_first_deposit',\n",
       "  'first_deposit_amount',\n",
       "  'fico_score',\n",
       "  'pct_returned_deposits',\n",
       "  'nr_past_returns',\n",
       "  'total_tradelines_open',\n",
       "  'email_risk_score',\n",
       "  'giact_time_since_last_link',\n",
       "  'transaction_as_pct_of_bal_min',\n",
       "  'phone_risk_score',\n",
       "  'rolling_trns_as_pct_of_bal',\n",
       "  'giact_nr_pass',\n",
       "  'transaction_amount',\n",
       "  'giact_nr_decline',\n",
       "  'fraud_score_2',\n",
       "  'nr_transactions_per_day',\n",
       "  'fraud_score_1',\n",
       "  'max_deposits_10d_div_mean_account_balance_30d',\n",
       "  'rolling_mean_acc_bal',\n",
       "  'giact_nr_other',\n",
       "  'real_ending_balance',\n",
       "  'bcc2800',\n",
       "  'lag_acc_open_first_transaction',\n",
       "  'sum_withdrawals_30d',\n",
       "  'iqt9415',\n",
       "  'mtf5820',\n",
       "  'bcx3423',\n",
       "  'transaction_as_pct_of_balance',\n",
       "  'sum_deposits_3d',\n",
       "  'iln5520',\n",
       "  'total_outstanding_balance',\n",
       "  'giact_is_pass',\n",
       "  'stu5031',\n",
       "  'sum_withdrawals_10d',\n",
       "  'nr_direct_deposits',\n",
       "  'sum_withdrawals_3d',\n",
       "  'name_address_correlation',\n",
       "  'deposits_ratio',\n",
       "  'all8220',\n",
       "  'all7120',\n",
       "  'pct_returned_deposits_30d',\n",
       "  'nr_transactions_30d_div_nr_past_transactions',\n",
       "  'name_phone_correlation',\n",
       "  'giact_time_since_first_link',\n",
       "  'mean_account_balance_30d',\n",
       "  'mean_withdrawals_10d',\n",
       "  'bal_ratio',\n",
       "  'name_email_correlation',\n",
       "  'mean_withdrawals'])"
      ]
     },
     "execution_count": 51,
     "metadata": {},
     "output_type": "execute_result"
    }
   ],
   "source": [
    "best_features_v1, best_features_v2, best_feature_cols"
   ]
  },
  {
   "cell_type": "code",
   "execution_count": null,
   "metadata": {},
   "outputs": [],
   "source": []
  },
  {
   "cell_type": "markdown",
   "metadata": {},
   "source": [
    "#### Testing"
   ]
  },
  {
   "cell_type": "code",
   "execution_count": 52,
   "metadata": {},
   "outputs": [],
   "source": [
    "def train_validate_lgb(df_train, df_test, features, params, target_col_name='target', seed=12345, \n",
    "                       n_boost_rounds=100000, early_stopping_rounds=500, verbose_eval=500):\n",
    "    \"\"\"\n",
    "    Train a LightGBM model and return the OOF predictions\n",
    "    \n",
    "    Train on df_train and test on df_test\n",
    "    \"\"\"\n",
    "\n",
    "    feature_importance_df = pd.DataFrame()\n",
    "\n",
    "    train = df_train.copy()\n",
    "    test = df_test.copy()\n",
    "\n",
    "    lgb_train = lgb.Dataset(train[features],\n",
    "                            label=train[target_col_name],\n",
    "                            free_raw_data=False)\n",
    "    lgb_test = lgb.Dataset(test[features],\n",
    "                           label=test[target_col_name],\n",
    "                           free_raw_data=False)\n",
    "\n",
    "    model = lgb.train(params,\n",
    "                      lgb_train,\n",
    "                      valid_sets=[lgb_train, lgb_test],\n",
    "                      valid_names=['train', 'test'],\n",
    "                      num_boost_round=n_boost_rounds,\n",
    "                      early_stopping_rounds= early_stopping_rounds,\n",
    "                      verbose_eval=verbose_eval)\n",
    "\n",
    "    test['pred'] = model.predict(test[features], num_iteration=model.best_iteration)\n",
    "\n",
    "    fold_importance_df = pd.DataFrame()\n",
    "    fold_importance_df[\"feature\"] = features\n",
    "    fold_importance_df[\"importance\"] = model.feature_importance(importance_type='gain', \n",
    "                                                                iteration=model.best_iteration)\n",
    "    fold_importance_df[\"fold\"] = 1\n",
    "    feature_importance_df = pd.concat([feature_importance_df, fold_importance_df], axis=0)\n",
    "\n",
    "    auc = roc_auc_score(y_true=test[target_col_name].values, y_score=test.pred)\n",
    "    \n",
    "    return test.pred, feature_importance_df, model, auc\n"
   ]
  },
  {
   "cell_type": "code",
   "execution_count": 53,
   "metadata": {},
   "outputs": [
    {
     "ename": "TypeError",
     "evalue": "train_validate_lgb() got an unexpected keyword argument 'group_col_name'",
     "output_type": "error",
     "traceback": [
      "\u001b[0;31m---------------------------------------------------------------------------\u001b[0m",
      "\u001b[0;31mTypeError\u001b[0m                                 Traceback (most recent call last)",
      "\u001b[0;32m<ipython-input-53-e6ad38c0dce4>\u001b[0m in \u001b[0;36m<module>\u001b[0;34m\u001b[0m\n\u001b[1;32m     24\u001b[0m                                                                       \u001b[0mgroup_col_name\u001b[0m\u001b[0;34m=\u001b[0m\u001b[0;34m'business_account_number'\u001b[0m\u001b[0;34m,\u001b[0m \u001b[0mseed\u001b[0m\u001b[0;34m=\u001b[0m\u001b[0mseed\u001b[0m\u001b[0;34m,\u001b[0m\u001b[0;34m\u001b[0m\u001b[0;34m\u001b[0m\u001b[0m\n\u001b[1;32m     25\u001b[0m                                                                       \u001b[0mn_boost_rounds\u001b[0m\u001b[0;34m=\u001b[0m\u001b[0;36m5000\u001b[0m\u001b[0;34m,\u001b[0m \u001b[0mearly_stopping_rounds\u001b[0m\u001b[0;34m=\u001b[0m\u001b[0;36m250\u001b[0m\u001b[0;34m,\u001b[0m \u001b[0mverbose_eval\u001b[0m\u001b[0;34m=\u001b[0m\u001b[0;36m500\u001b[0m\u001b[0;34m,\u001b[0m\u001b[0;34m\u001b[0m\u001b[0;34m\u001b[0m\u001b[0m\n\u001b[0;32m---> 26\u001b[0;31m                                                                       weight_col_name=None, cat_features=cat_features, prepro=TargetEncoder())\n\u001b[0m",
      "\u001b[0;31mTypeError\u001b[0m: train_validate_lgb() got an unexpected keyword argument 'group_col_name'"
     ]
    }
   ],
   "source": [
    "from category_encoders import TargetEncoder\n",
    "\n",
    "seed = 12345\n",
    "params = {\n",
    "    \"objective\" : \"binary\",\n",
    "    \"metric\" : \"auc\",\n",
    "    \"boosting\": 'gbdt',\n",
    "    \"max_depth\" : 4,\n",
    "    \"num_leaves\" : 16,\n",
    "    \"learning_rate\" : 0.03,\n",
    "    \"feature_fraction\" : 0.8,\n",
    "    \"lambda_l1\": 14,\n",
    "    \"lambda_l2\": 14,\n",
    "    \"min_data_in_leaf\": 50,\n",
    "    \"scale_pos_weight\": pos_wgt_scaling_factor,\n",
    "    \"tree_learner\": \"serial\",\n",
    "    \"boost_from_average\": \"false\",\n",
    "    \"bagging_seed\" : seed,\n",
    "    \"verbosity\" : 1,\n",
    "    \"seed\": seed\n",
    "}\n",
    "\n",
    "pred, feature_importance_df, models, auc = train_validate_lgb(modeling_df, features, params, target_col_name='target', \n",
    "                                                                      group_col_name='business_account_number', seed=seed, \n",
    "                                                                      n_boost_rounds=5000, early_stopping_rounds=250, verbose_eval=500, \n",
    "                                                                      weight_col_name=None, cat_features=cat_features, prepro=TargetEncoder())"
   ]
  },
  {
   "cell_type": "markdown",
   "metadata": {},
   "source": [
    "#### AutoGluon from TB"
   ]
  },
  {
   "cell_type": "code",
   "execution_count": 25,
   "metadata": {
    "collapsed": true,
    "jupyter": {
     "outputs_hidden": true
    }
   },
   "outputs": [
    {
     "name": "stdout",
     "output_type": "stream",
     "text": [
      "Collecting autogluon\n",
      "  Using cached autogluon-0.0.12-py3-none-any.whl (515 kB)\n",
      "Collecting mxnet\n",
      "  Using cached mxnet-1.6.0-py2.py3-none-any.whl (68.7 MB)\n",
      "Requirement already satisfied: dask>=2.6.0 in /home/ec2-user/anaconda3/envs/amazonei_mxnet_p36/lib/python3.6/site-packages (from autogluon) (2.14.0)\n",
      "Requirement already satisfied: requests in /home/ec2-user/anaconda3/envs/amazonei_mxnet_p36/lib/python3.6/site-packages (from autogluon) (2.23.0)\n",
      "Requirement already satisfied: distributed>=2.6.0 in /home/ec2-user/anaconda3/envs/amazonei_mxnet_p36/lib/python3.6/site-packages (from autogluon) (2.14.0)\n",
      "Requirement already satisfied: tornado>=5.0.1 in /home/ec2-user/anaconda3/envs/amazonei_mxnet_p36/lib/python3.6/site-packages (from autogluon) (6.0.4)\n",
      "Requirement already satisfied: scipy>=1.3.3 in /home/ec2-user/anaconda3/envs/amazonei_mxnet_p36/lib/python3.6/site-packages (from autogluon) (1.4.1)\n",
      "Requirement already satisfied: graphviz in /home/ec2-user/anaconda3/envs/amazonei_mxnet_p36/lib/python3.6/site-packages (from autogluon) (0.8.4)\n",
      "Requirement already satisfied: lightgbm<3.0,>=2.3.0 in /home/ec2-user/anaconda3/envs/amazonei_mxnet_p36/lib/python3.6/site-packages (from autogluon) (2.3.1)\n",
      "Collecting Pillow<=6.2.1\n",
      "  Downloading Pillow-6.2.1-cp36-cp36m-manylinux1_x86_64.whl (2.1 MB)\n",
      "\u001b[K     |████████████████████████████████| 2.1 MB 4.3 MB/s eta 0:00:01\n",
      "\u001b[?25hCollecting gluoncv<1.0,>=0.5.0\n",
      "  Using cached gluoncv-0.7.0-py2.py3-none-any.whl (752 kB)\n",
      "Requirement already satisfied: matplotlib in /home/ec2-user/anaconda3/envs/amazonei_mxnet_p36/lib/python3.6/site-packages (from autogluon) (3.1.3)\n",
      "Collecting ConfigSpace<=0.4.10\n",
      "  Using cached ConfigSpace-0.4.10.tar.gz (882 kB)\n",
      "Collecting scikit-optimize\n",
      "  Using cached scikit_optimize-0.7.4-py2.py3-none-any.whl (80 kB)\n",
      "Requirement already satisfied: scikit-learn<0.23,>=0.22.0 in /home/ec2-user/anaconda3/envs/amazonei_mxnet_p36/lib/python3.6/site-packages (from autogluon) (0.22.1)\n",
      "Collecting openml\n",
      "  Using cached openml-0.10.2.tar.gz (158 kB)\n",
      "Requirement already satisfied: psutil>=5.0.0 in /home/ec2-user/anaconda3/envs/amazonei_mxnet_p36/lib/python3.6/site-packages (from autogluon) (5.7.0)\n",
      "Requirement already satisfied: cryptography>=2.8 in /home/ec2-user/anaconda3/envs/amazonei_mxnet_p36/lib/python3.6/site-packages (from autogluon) (2.8)\n",
      "Requirement already satisfied: networkx<3.0,>=2.3 in /home/ec2-user/anaconda3/envs/amazonei_mxnet_p36/lib/python3.6/site-packages (from autogluon) (2.4)\n",
      "Requirement already satisfied: pytest in /home/ec2-user/anaconda3/envs/amazonei_mxnet_p36/lib/python3.6/site-packages (from autogluon) (5.4.1)\n",
      "Requirement already satisfied: cython in /home/ec2-user/anaconda3/envs/amazonei_mxnet_p36/lib/python3.6/site-packages (from autogluon) (0.29.15)\n",
      "Requirement already satisfied: tqdm>=4.38.0 in /home/ec2-user/anaconda3/envs/amazonei_mxnet_p36/lib/python3.6/site-packages (from autogluon) (4.44.1)\n",
      "Requirement already satisfied: numpy>=1.16.0 in /home/ec2-user/anaconda3/envs/amazonei_mxnet_p36/lib/python3.6/site-packages (from autogluon) (1.18.1)\n",
      "Requirement already satisfied: paramiko>=2.4 in /home/ec2-user/anaconda3/envs/amazonei_mxnet_p36/lib/python3.6/site-packages (from autogluon) (2.7.1)\n",
      "Collecting catboost<0.24\n",
      "  Downloading catboost-0.23.2-cp36-none-manylinux1_x86_64.whl (64.8 MB)\n",
      "\u001b[K     |████████████████████████████████| 64.8 MB 58.6 MB/s eta 0:00:01     |████████████▋                   | 25.6 MB 38.3 MB/s eta 0:00:02     |███████████████▋                | 31.6 MB 38.3 MB/s eta 0:00:01     |████████████████████            | 40.4 MB 38.3 MB/s eta 0:00:01\n",
      "\u001b[?25hCollecting pandas<1.0,>=0.24.0\n",
      "  Downloading pandas-0.25.3-cp36-cp36m-manylinux1_x86_64.whl (10.4 MB)\n",
      "\u001b[K     |████████████████████████████████| 10.4 MB 50.1 MB/s eta 0:00:01\n",
      "\u001b[?25hRequirement already satisfied: boto3 in /home/ec2-user/anaconda3/envs/amazonei_mxnet_p36/lib/python3.6/site-packages (from autogluon) (1.14.27)\n",
      "Requirement already satisfied: chardet<4,>=3.0.2 in /home/ec2-user/anaconda3/envs/amazonei_mxnet_p36/lib/python3.6/site-packages (from requests->autogluon) (3.0.4)\n",
      "Requirement already satisfied: urllib3!=1.25.0,!=1.25.1,<1.26,>=1.21.1 in /home/ec2-user/anaconda3/envs/amazonei_mxnet_p36/lib/python3.6/site-packages (from requests->autogluon) (1.25.8)\n",
      "Requirement already satisfied: certifi>=2017.4.17 in /home/ec2-user/anaconda3/envs/amazonei_mxnet_p36/lib/python3.6/site-packages (from requests->autogluon) (2020.4.5.2)\n",
      "Requirement already satisfied: idna<3,>=2.5 in /home/ec2-user/anaconda3/envs/amazonei_mxnet_p36/lib/python3.6/site-packages (from requests->autogluon) (2.9)\n",
      "Requirement already satisfied: pyyaml in /home/ec2-user/anaconda3/envs/amazonei_mxnet_p36/lib/python3.6/site-packages (from distributed>=2.6.0->autogluon) (5.3.1)\n",
      "Requirement already satisfied: zict>=0.1.3 in /home/ec2-user/anaconda3/envs/amazonei_mxnet_p36/lib/python3.6/site-packages (from distributed>=2.6.0->autogluon) (2.0.0)\n",
      "Requirement already satisfied: tblib>=1.6.0 in /home/ec2-user/anaconda3/envs/amazonei_mxnet_p36/lib/python3.6/site-packages (from distributed>=2.6.0->autogluon) (1.6.0)\n",
      "Requirement already satisfied: setuptools in /home/ec2-user/anaconda3/envs/amazonei_mxnet_p36/lib/python3.6/site-packages (from distributed>=2.6.0->autogluon) (46.1.3.post20200330)\n",
      "Requirement already satisfied: cloudpickle>=0.2.2 in /home/ec2-user/anaconda3/envs/amazonei_mxnet_p36/lib/python3.6/site-packages (from distributed>=2.6.0->autogluon) (1.3.0)\n",
      "Requirement already satisfied: toolz>=0.8.2 in /home/ec2-user/anaconda3/envs/amazonei_mxnet_p36/lib/python3.6/site-packages (from distributed>=2.6.0->autogluon) (0.10.0)\n",
      "Requirement already satisfied: click>=6.6 in /home/ec2-user/anaconda3/envs/amazonei_mxnet_p36/lib/python3.6/site-packages (from distributed>=2.6.0->autogluon) (7.1.1)\n",
      "Requirement already satisfied: sortedcontainers!=2.0.0,!=2.0.1 in /home/ec2-user/anaconda3/envs/amazonei_mxnet_p36/lib/python3.6/site-packages (from distributed>=2.6.0->autogluon) (2.1.0)\n",
      "Requirement already satisfied: msgpack>=0.6.0 in /home/ec2-user/anaconda3/envs/amazonei_mxnet_p36/lib/python3.6/site-packages (from distributed>=2.6.0->autogluon) (1.0.0)\n",
      "Collecting portalocker\n",
      "  Using cached portalocker-2.0.0-py2.py3-none-any.whl (11 kB)\n",
      "Requirement already satisfied: python-dateutil>=2.1 in /home/ec2-user/anaconda3/envs/amazonei_mxnet_p36/lib/python3.6/site-packages (from matplotlib->autogluon) (2.8.1)\n",
      "Requirement already satisfied: pyparsing!=2.0.4,!=2.1.2,!=2.1.6,>=2.0.1 in /home/ec2-user/anaconda3/envs/amazonei_mxnet_p36/lib/python3.6/site-packages (from matplotlib->autogluon) (2.4.6)\n",
      "Requirement already satisfied: kiwisolver>=1.0.1 in /home/ec2-user/anaconda3/envs/amazonei_mxnet_p36/lib/python3.6/site-packages (from matplotlib->autogluon) (1.1.0)\n",
      "Requirement already satisfied: cycler>=0.10 in /home/ec2-user/anaconda3/envs/amazonei_mxnet_p36/lib/python3.6/site-packages (from matplotlib->autogluon) (0.10.0)\n",
      "Requirement already satisfied: typing in /home/ec2-user/anaconda3/envs/amazonei_mxnet_p36/lib/python3.6/site-packages (from ConfigSpace<=0.4.10->autogluon) (3.7.4.1)\n",
      "Requirement already satisfied: joblib>=0.11 in /home/ec2-user/anaconda3/envs/amazonei_mxnet_p36/lib/python3.6/site-packages (from scikit-optimize->autogluon) (0.14.1)\n",
      "Collecting pyaml>=16.9\n",
      "  Using cached pyaml-20.4.0-py2.py3-none-any.whl (17 kB)\n",
      "Collecting liac-arff>=2.4.0\n",
      "  Using cached liac-arff-2.4.0.tar.gz (15 kB)\n",
      "Collecting xmltodict\n",
      "  Using cached xmltodict-0.12.0-py2.py3-none-any.whl (9.2 kB)\n",
      "Requirement already satisfied: cffi!=1.11.3,>=1.8 in /home/ec2-user/anaconda3/envs/amazonei_mxnet_p36/lib/python3.6/site-packages (from cryptography>=2.8->autogluon) (1.14.0)\n",
      "Requirement already satisfied: six>=1.4.1 in /home/ec2-user/anaconda3/envs/amazonei_mxnet_p36/lib/python3.6/site-packages (from cryptography>=2.8->autogluon) (1.14.0)\n",
      "Requirement already satisfied: decorator>=4.3.0 in /home/ec2-user/anaconda3/envs/amazonei_mxnet_p36/lib/python3.6/site-packages (from networkx<3.0,>=2.3->autogluon) (4.4.2)\n",
      "Requirement already satisfied: py>=1.5.0 in /home/ec2-user/anaconda3/envs/amazonei_mxnet_p36/lib/python3.6/site-packages (from pytest->autogluon) (1.8.1)\n",
      "Requirement already satisfied: packaging in /home/ec2-user/anaconda3/envs/amazonei_mxnet_p36/lib/python3.6/site-packages (from pytest->autogluon) (20.3)\n",
      "Requirement already satisfied: attrs>=17.4.0 in /home/ec2-user/anaconda3/envs/amazonei_mxnet_p36/lib/python3.6/site-packages (from pytest->autogluon) (19.3.0)\n",
      "Requirement already satisfied: more-itertools>=4.0.0 in /home/ec2-user/anaconda3/envs/amazonei_mxnet_p36/lib/python3.6/site-packages (from pytest->autogluon) (8.2.0)\n",
      "Requirement already satisfied: pluggy<1.0,>=0.12 in /home/ec2-user/anaconda3/envs/amazonei_mxnet_p36/lib/python3.6/site-packages (from pytest->autogluon) (0.13.1)\n",
      "Requirement already satisfied: wcwidth in /home/ec2-user/anaconda3/envs/amazonei_mxnet_p36/lib/python3.6/site-packages (from pytest->autogluon) (0.1.9)\n",
      "Requirement already satisfied: importlib-metadata>=0.12 in /home/ec2-user/anaconda3/envs/amazonei_mxnet_p36/lib/python3.6/site-packages (from pytest->autogluon) (1.5.0)\n",
      "Requirement already satisfied: pynacl>=1.0.1 in /home/ec2-user/anaconda3/envs/amazonei_mxnet_p36/lib/python3.6/site-packages (from paramiko>=2.4->autogluon) (1.4.0)\n",
      "Requirement already satisfied: bcrypt>=3.1.3 in /home/ec2-user/anaconda3/envs/amazonei_mxnet_p36/lib/python3.6/site-packages (from paramiko>=2.4->autogluon) (3.1.7)\n",
      "Requirement already satisfied: plotly in /home/ec2-user/anaconda3/envs/amazonei_mxnet_p36/lib/python3.6/site-packages (from catboost<0.24->autogluon) (4.8.1)\n",
      "Requirement already satisfied: pytz>=2017.2 in /home/ec2-user/anaconda3/envs/amazonei_mxnet_p36/lib/python3.6/site-packages (from pandas<1.0,>=0.24.0->autogluon) (2019.3)\n",
      "Requirement already satisfied: s3transfer<0.4.0,>=0.3.0 in /home/ec2-user/anaconda3/envs/amazonei_mxnet_p36/lib/python3.6/site-packages (from boto3->autogluon) (0.3.3)\n",
      "Requirement already satisfied: botocore<1.18.0,>=1.17.27 in /home/ec2-user/anaconda3/envs/amazonei_mxnet_p36/lib/python3.6/site-packages (from boto3->autogluon) (1.17.27)\n",
      "Requirement already satisfied: jmespath<1.0.0,>=0.7.1 in /home/ec2-user/anaconda3/envs/amazonei_mxnet_p36/lib/python3.6/site-packages (from boto3->autogluon) (0.9.4)\n",
      "Requirement already satisfied: heapdict in /home/ec2-user/anaconda3/envs/amazonei_mxnet_p36/lib/python3.6/site-packages (from zict>=0.1.3->distributed>=2.6.0->autogluon) (1.0.1)\n",
      "Requirement already satisfied: pycparser in /home/ec2-user/anaconda3/envs/amazonei_mxnet_p36/lib/python3.6/site-packages (from cffi!=1.11.3,>=1.8->cryptography>=2.8->autogluon) (2.20)\n",
      "Requirement already satisfied: zipp>=0.5 in /home/ec2-user/anaconda3/envs/amazonei_mxnet_p36/lib/python3.6/site-packages (from importlib-metadata>=0.12->pytest->autogluon) (2.2.0)\n",
      "Requirement already satisfied: retrying>=1.3.3 in /home/ec2-user/anaconda3/envs/amazonei_mxnet_p36/lib/python3.6/site-packages (from plotly->catboost<0.24->autogluon) (1.3.3)\n",
      "Requirement already satisfied: docutils<0.16,>=0.10 in /home/ec2-user/anaconda3/envs/amazonei_mxnet_p36/lib/python3.6/site-packages (from botocore<1.18.0,>=1.17.27->boto3->autogluon) (0.15.2)\n",
      "Building wheels for collected packages: ConfigSpace, openml, liac-arff\n",
      "  Building wheel for ConfigSpace (setup.py) ... \u001b[?25ldone\n",
      "\u001b[?25h  Created wheel for ConfigSpace: filename=ConfigSpace-0.4.10-cp36-cp36m-linux_x86_64.whl size=3001115 sha256=e9c5da369e85d833aa7324fee0dc2645014453ad442831e04d08a2a6a69a0c8e\n",
      "  Stored in directory: /home/ec2-user/.cache/pip/wheels/70/71/a2/00ca7cb0f71294d73e8791d6fe5cd0c7401066ec3b7e1026db\n",
      "  Building wheel for openml (setup.py) ... \u001b[?25ldone\n",
      "\u001b[?25h  Created wheel for openml: filename=openml-0.10.2-py3-none-any.whl size=190318 sha256=a1378b4012c9ef29c1aa5d63593a99b6851cc01bb3d69ddf9f194ab598127eac\n",
      "  Stored in directory: /home/ec2-user/.cache/pip/wheels/45/83/27/a45cc845ff2497e34bfc17403e649249e5e717adb08698903d\n",
      "  Building wheel for liac-arff (setup.py) ... \u001b[?25ldone\n",
      "\u001b[?25h  Created wheel for liac-arff: filename=liac_arff-2.4.0-py3-none-any.whl size=13333 sha256=aa567a7c6fd81944dfa45878bd9bea671d2c492bc00b3fa376cbf7ed70b58e02\n",
      "  Stored in directory: /home/ec2-user/.cache/pip/wheels/ba/2a/e1/6f7be2e2ea150e2486bff64fd6f0670f4f35f4c8f31c819fb8\n",
      "Successfully built ConfigSpace openml liac-arff\n",
      "Installing collected packages: Pillow, portalocker, gluoncv, ConfigSpace, pyaml, scikit-optimize, liac-arff, xmltodict, pandas, openml, catboost, autogluon, mxnet\n",
      "  Attempting uninstall: Pillow\n",
      "    Found existing installation: Pillow 7.0.0\n",
      "    Uninstalling Pillow-7.0.0:\n",
      "      Successfully uninstalled Pillow-7.0.0\n",
      "  Attempting uninstall: pandas\n",
      "    Found existing installation: pandas 1.0.3\n",
      "    Uninstalling pandas-1.0.3:\n",
      "      Successfully uninstalled pandas-1.0.3\n",
      "Successfully installed ConfigSpace-0.4.10 Pillow-6.2.1 autogluon-0.0.12 catboost-0.23.2 gluoncv-0.7.0 liac-arff-2.4.0 mxnet-1.6.0 openml-0.10.2 pandas-0.25.3 portalocker-2.0.0 pyaml-20.4.0 scikit-optimize-0.7.4 xmltodict-0.12.0\n",
      "\u001b[33mWARNING: You are using pip version 20.0.2; however, version 20.2 is available.\n",
      "You should consider upgrading via the '/home/ec2-user/anaconda3/envs/amazonei_mxnet_p36/bin/python -m pip install --upgrade pip' command.\u001b[0m\n"
     ]
    }
   ],
   "source": [
    "!pip install autogluon"
   ]
  },
  {
   "cell_type": "code",
   "execution_count": 28,
   "metadata": {},
   "outputs": [],
   "source": [
    "import pickle"
   ]
  },
  {
   "cell_type": "code",
   "execution_count": 29,
   "metadata": {},
   "outputs": [],
   "source": [
    "with open('../../autogluon/models/learner.pkl', 'rb') as f:\n",
    "    m = pickle.load(f)"
   ]
  },
  {
   "cell_type": "code",
   "execution_count": 34,
   "metadata": {},
   "outputs": [
    {
     "data": {
      "text/plain": [
       "{'path': '/opt/ml/model/',\n",
       " 'model_context': '/opt/ml/model/models/',\n",
       " 'latest_model_checkpoint': '/opt/ml/model/models/model_checkpoint_latest.pointer',\n",
       " 'eval_result_path': '/opt/ml/model/models/eval_result.pkl',\n",
       " 'pred_cache_path': '/opt/ml/model/predictions.csv',\n",
       " 'save_path': '/opt/ml/model/learner.pkl',\n",
       " 'label': 'target',\n",
       " 'submission_columns': [],\n",
       " 'threshold': 10,\n",
       " 'problem_type': 'binary',\n",
       " 'trainer_problem_type': 'binary',\n",
       " 'eval_metric': average_precision,\n",
       " 'stopping_metric': average_precision,\n",
       " 'is_trainer_present': False,\n",
       " 'random_seed': 0,\n",
       " 'cleaner': <autogluon.utils.tabular.data.cleaner.CleanerDummy at 0x7fabc9e94c88>,\n",
       " 'label_cleaner': <autogluon.utils.tabular.data.label_cleaner.LabelCleanerBinary at 0x7fabc9e94da0>,\n",
       " 'feature_generator': <autogluon.utils.tabular.features.auto_ml_feature_generator.AutoMLFeatureGenerator at 0x7fabc9e94ef0>,\n",
       " 'feature_generators': [<autogluon.utils.tabular.features.auto_ml_feature_generator.AutoMLFeatureGenerator at 0x7fabc9e94ef0>],\n",
       " 'trainer': None,\n",
       " 'trainer_type': autogluon.utils.tabular.ml.trainer.auto_trainer.AutoTrainer,\n",
       " 'trainer_path': '/opt/ml/model/models/',\n",
       " 'reset_paths': False,\n",
       " 'time_fit_total': None,\n",
       " 'time_fit_preprocessing': 3.5293385982513428,\n",
       " 'time_fit_training': None,\n",
       " 'time_limit': 10000000.0,\n",
       " 'version': '0.0.12'}"
      ]
     },
     "execution_count": 34,
     "metadata": {},
     "output_type": "execute_result"
    }
   ],
   "source": [
    "vars(m)"
   ]
  },
  {
   "cell_type": "code",
   "execution_count": 99,
   "metadata": {},
   "outputs": [
    {
     "data": {
      "text/plain": [
       "1"
      ]
     },
     "execution_count": 99,
     "metadata": {},
     "output_type": "execute_result"
    }
   ],
   "source": [
    "1"
   ]
  },
  {
   "cell_type": "code",
   "execution_count": 100,
   "metadata": {},
   "outputs": [
    {
     "data": {
      "text/plain": [
       "2"
      ]
     },
     "execution_count": 100,
     "metadata": {},
     "output_type": "execute_result"
    }
   ],
   "source": [
    "2"
   ]
  },
  {
   "cell_type": "code",
   "execution_count": null,
   "metadata": {},
   "outputs": [],
   "source": []
  }
 ],
 "metadata": {
  "kernelspec": {
   "display_name": "conda_ml_basic_py37",
   "language": "python",
   "name": "conda_ml_basic_py37"
  },
  "language_info": {
   "codemirror_mode": {
    "name": "ipython",
    "version": 3
   },
   "file_extension": ".py",
   "mimetype": "text/x-python",
   "name": "python",
   "nbconvert_exporter": "python",
   "pygments_lexer": "ipython3",
   "version": "3.7.7"
  }
 },
 "nbformat": 4,
 "nbformat_minor": 4
}
