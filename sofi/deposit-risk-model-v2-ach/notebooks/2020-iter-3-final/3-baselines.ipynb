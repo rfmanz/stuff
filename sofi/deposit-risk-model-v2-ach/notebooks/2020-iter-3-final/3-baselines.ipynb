{
 "cells": [
  {
   "cell_type": "markdown",
   "metadata": {},
   "source": [
    "## Baselines ACH\n",
    "---\n",
    "\n",
    "* fico\n",
    "* deposit v1\n",
    "* customer"
   ]
  },
  {
   "cell_type": "code",
   "execution_count": 1,
   "metadata": {},
   "outputs": [],
   "source": [
    "import json\n",
    "import pandas as pd\n",
    "import numpy as np\n",
    "import pickle as pkl\n",
    "from rdsutils.aws import download_s3 #, python_object_to_s3\n",
    "from rdsutils.lightgbm_helpers import train_lgb_baseline_grouped\n",
    "import rdsutils.plot as rdsplot\n",
    "\n",
    "import matplotlib.pyplot as plt\n",
    "import seaborn as sns\n",
    "\n",
    "plt.style.use('ggplot')\n",
    "%load_ext autoreload\n",
    "%autoreload 2"
   ]
  },
  {
   "cell_type": "markdown",
   "metadata": {},
   "source": [
    "### Load data and some preprocessing\n",
    "---"
   ]
  },
  {
   "cell_type": "code",
   "execution_count": 2,
   "metadata": {},
   "outputs": [
    {
     "data": {
      "text/plain": [
       "((112599, 229), (152951, 229))"
      ]
     },
     "execution_count": 2,
     "metadata": {},
     "output_type": "execute_result"
    }
   ],
   "source": [
    "# using data from ach pipeline\n",
    "modeling_df = pd.read_parquet('../../artifacts/final/modeling_df.parquet')\n",
    "test_df = pd.read_parquet('../../artifacts/final/test_df.parquet')\n",
    "modeling_df.shape, test_df.shape"
   ]
  },
  {
   "cell_type": "code",
   "execution_count": 3,
   "metadata": {},
   "outputs": [],
   "source": [
    "seed = 12345\n",
    "target_col = 'ach_target'\n",
    "modeling_df[target_col] = modeling_df['is_returned']\n",
    "test_df[target_col] = test_df['is_returned']\n",
    "\n",
    "modeling_df['account_ending_balance'] = modeling_df['real_ending_balance']\n",
    "modeling_df['days_since_first_transaction'] = modeling_df['days_since_first_deposit']\n",
    "\n",
    "test_df['account_ending_balance'] = test_df['real_ending_balance']\n",
    "test_df['days_since_first_transaction'] = test_df['days_since_first_deposit']"
   ]
  },
  {
   "cell_type": "code",
   "execution_count": 4,
   "metadata": {},
   "outputs": [
    {
     "data": {
      "text/plain": [
       "False    108825\n",
       "True       3774\n",
       "Name: ach_target, dtype: int64"
      ]
     },
     "metadata": {},
     "output_type": "display_data"
    },
    {
     "data": {
      "text/plain": [
       "False    145410\n",
       "True       7541\n",
       "Name: ach_target, dtype: int64"
      ]
     },
     "metadata": {},
     "output_type": "display_data"
    }
   ],
   "source": [
    "display(modeling_df[target_col].value_counts(), test_df[target_col].value_counts())"
   ]
  },
  {
   "cell_type": "markdown",
   "metadata": {},
   "source": [
    "#### Models\n",
    "---\n",
    "* fico\n",
    "* deposit-v1\n",
    "* customer"
   ]
  },
  {
   "cell_type": "code",
   "execution_count": 5,
   "metadata": {},
   "outputs": [],
   "source": [
    "modeling_df['fico_pred'] = -modeling_df['fico_score']"
   ]
  },
  {
   "cell_type": "code",
   "execution_count": 6,
   "metadata": {},
   "outputs": [],
   "source": [
    "test_df['fico_pred'] = -test_df['fico_score']"
   ]
  },
  {
   "cell_type": "markdown",
   "metadata": {},
   "source": [
    "#### Deposit-v1"
   ]
  },
  {
   "cell_type": "code",
   "execution_count": 7,
   "metadata": {},
   "outputs": [
    {
     "name": "stderr",
     "output_type": "stream",
     "text": [
      "/home/ec2-user/anaconda3/envs/ml_basic_py37/lib/python3.7/site-packages/sklearn/utils/deprecation.py:143: FutureWarning: The sklearn.preprocessing.label module is  deprecated in version 0.22 and will be removed in version 0.24. The corresponding classes / functions should instead be imported from sklearn.preprocessing. Anything that cannot be imported from sklearn.preprocessing is now part of the private API.\n",
      "  warnings.warn(message, FutureWarning)\n",
      "/home/ec2-user/anaconda3/envs/ml_basic_py37/lib/python3.7/site-packages/sklearn/base.py:334: UserWarning: Trying to unpickle estimator LabelEncoder from version 0.20.3 when using version 0.23.2. This might lead to breaking code or invalid results. Use at your own risk.\n",
      "  UserWarning)\n"
     ]
    }
   ],
   "source": [
    "model_v1 = pkl.load(open('../../models/deposit-v1/money-deposit-risk-1567033961.pkl', 'rb'))"
   ]
  },
  {
   "cell_type": "code",
   "execution_count": 8,
   "metadata": {},
   "outputs": [
    {
     "data": {
      "text/html": [
       "<div>\n",
       "<style scoped>\n",
       "    .dataframe tbody tr th:only-of-type {\n",
       "        vertical-align: middle;\n",
       "    }\n",
       "\n",
       "    .dataframe tbody tr th {\n",
       "        vertical-align: top;\n",
       "    }\n",
       "\n",
       "    .dataframe thead th {\n",
       "        text-align: right;\n",
       "    }\n",
       "</style>\n",
       "<table border=\"1\" class=\"dataframe\">\n",
       "  <thead>\n",
       "    <tr style=\"text-align: right;\">\n",
       "      <th></th>\n",
       "      <th>transaction_amount</th>\n",
       "      <th>account_ending_balance</th>\n",
       "      <th>fico_score</th>\n",
       "      <th>vantage_score</th>\n",
       "      <th>fraud_score_1</th>\n",
       "      <th>fraud_score_2</th>\n",
       "      <th>email_risk_score</th>\n",
       "      <th>phone_risk_score</th>\n",
       "      <th>all8220</th>\n",
       "      <th>iqt9415</th>\n",
       "      <th>...</th>\n",
       "      <th>bcx3423</th>\n",
       "      <th>stu5031</th>\n",
       "      <th>nr_direct_deposits</th>\n",
       "      <th>nr_past_returns</th>\n",
       "      <th>days_since_first_transaction</th>\n",
       "      <th>nr_transactions_per_day</th>\n",
       "      <th>transaction_as_pct_of_balance</th>\n",
       "      <th>rolling_trns_as_pct_of_bal</th>\n",
       "      <th>transaction_as_pct_of_bal_min</th>\n",
       "      <th>rolling_mean_acc_bal</th>\n",
       "    </tr>\n",
       "  </thead>\n",
       "  <tbody>\n",
       "    <tr>\n",
       "      <th>6013</th>\n",
       "      <td>88.0</td>\n",
       "      <td>35259.43</td>\n",
       "      <td>NaN</td>\n",
       "      <td>NaN</td>\n",
       "      <td>0.0163</td>\n",
       "      <td>0.428</td>\n",
       "      <td>0.197</td>\n",
       "      <td>0.005</td>\n",
       "      <td>NaN</td>\n",
       "      <td>NaN</td>\n",
       "      <td>...</td>\n",
       "      <td>NaN</td>\n",
       "      <td>NaN</td>\n",
       "      <td>51</td>\n",
       "      <td>0</td>\n",
       "      <td>847</td>\n",
       "      <td>0.773318</td>\n",
       "      <td>0.002502</td>\n",
       "      <td>0.010872</td>\n",
       "      <td>-0.085234</td>\n",
       "      <td>37835.792174</td>\n",
       "    </tr>\n",
       "    <tr>\n",
       "      <th>6452</th>\n",
       "      <td>120.0</td>\n",
       "      <td>6439.15</td>\n",
       "      <td>NaN</td>\n",
       "      <td>NaN</td>\n",
       "      <td>0.1072</td>\n",
       "      <td>0.493</td>\n",
       "      <td>0.001</td>\n",
       "      <td>0.102</td>\n",
       "      <td>NaN</td>\n",
       "      <td>NaN</td>\n",
       "      <td>...</td>\n",
       "      <td>NaN</td>\n",
       "      <td>NaN</td>\n",
       "      <td>0</td>\n",
       "      <td>1</td>\n",
       "      <td>785</td>\n",
       "      <td>0.442038</td>\n",
       "      <td>0.018990</td>\n",
       "      <td>0.018990</td>\n",
       "      <td>0.018990</td>\n",
       "      <td>6359.090000</td>\n",
       "    </tr>\n",
       "    <tr>\n",
       "      <th>6457</th>\n",
       "      <td>120.0</td>\n",
       "      <td>6472.36</td>\n",
       "      <td>NaN</td>\n",
       "      <td>NaN</td>\n",
       "      <td>0.1072</td>\n",
       "      <td>0.493</td>\n",
       "      <td>0.001</td>\n",
       "      <td>0.102</td>\n",
       "      <td>NaN</td>\n",
       "      <td>NaN</td>\n",
       "      <td>...</td>\n",
       "      <td>NaN</td>\n",
       "      <td>NaN</td>\n",
       "      <td>0</td>\n",
       "      <td>1</td>\n",
       "      <td>799</td>\n",
       "      <td>0.440551</td>\n",
       "      <td>0.018891</td>\n",
       "      <td>0.018891</td>\n",
       "      <td>0.018891</td>\n",
       "      <td>6938.360000</td>\n",
       "    </tr>\n",
       "    <tr>\n",
       "      <th>6458</th>\n",
       "      <td>120.0</td>\n",
       "      <td>6592.44</td>\n",
       "      <td>NaN</td>\n",
       "      <td>NaN</td>\n",
       "      <td>0.1072</td>\n",
       "      <td>0.493</td>\n",
       "      <td>0.001</td>\n",
       "      <td>0.102</td>\n",
       "      <td>NaN</td>\n",
       "      <td>NaN</td>\n",
       "      <td>...</td>\n",
       "      <td>NaN</td>\n",
       "      <td>NaN</td>\n",
       "      <td>0</td>\n",
       "      <td>1</td>\n",
       "      <td>812</td>\n",
       "      <td>0.434729</td>\n",
       "      <td>0.018540</td>\n",
       "      <td>0.018540</td>\n",
       "      <td>0.018540</td>\n",
       "      <td>6532.400000</td>\n",
       "    </tr>\n",
       "    <tr>\n",
       "      <th>6460</th>\n",
       "      <td>120.0</td>\n",
       "      <td>6712.44</td>\n",
       "      <td>NaN</td>\n",
       "      <td>NaN</td>\n",
       "      <td>0.1072</td>\n",
       "      <td>0.493</td>\n",
       "      <td>0.001</td>\n",
       "      <td>0.102</td>\n",
       "      <td>NaN</td>\n",
       "      <td>NaN</td>\n",
       "      <td>...</td>\n",
       "      <td>NaN</td>\n",
       "      <td>NaN</td>\n",
       "      <td>0</td>\n",
       "      <td>1</td>\n",
       "      <td>827</td>\n",
       "      <td>0.429262</td>\n",
       "      <td>0.018203</td>\n",
       "      <td>0.018203</td>\n",
       "      <td>0.018203</td>\n",
       "      <td>6652.440000</td>\n",
       "    </tr>\n",
       "  </tbody>\n",
       "</table>\n",
       "<p>5 rows × 25 columns</p>\n",
       "</div>"
      ],
      "text/plain": [
       "      transaction_amount  account_ending_balance  fico_score  vantage_score  \\\n",
       "6013                88.0                35259.43         NaN            NaN   \n",
       "6452               120.0                 6439.15         NaN            NaN   \n",
       "6457               120.0                 6472.36         NaN            NaN   \n",
       "6458               120.0                 6592.44         NaN            NaN   \n",
       "6460               120.0                 6712.44         NaN            NaN   \n",
       "\n",
       "      fraud_score_1  fraud_score_2  email_risk_score  phone_risk_score  \\\n",
       "6013         0.0163          0.428             0.197             0.005   \n",
       "6452         0.1072          0.493             0.001             0.102   \n",
       "6457         0.1072          0.493             0.001             0.102   \n",
       "6458         0.1072          0.493             0.001             0.102   \n",
       "6460         0.1072          0.493             0.001             0.102   \n",
       "\n",
       "      all8220  iqt9415  ...  bcx3423  stu5031  nr_direct_deposits  \\\n",
       "6013      NaN      NaN  ...      NaN      NaN                  51   \n",
       "6452      NaN      NaN  ...      NaN      NaN                   0   \n",
       "6457      NaN      NaN  ...      NaN      NaN                   0   \n",
       "6458      NaN      NaN  ...      NaN      NaN                   0   \n",
       "6460      NaN      NaN  ...      NaN      NaN                   0   \n",
       "\n",
       "      nr_past_returns  days_since_first_transaction  nr_transactions_per_day  \\\n",
       "6013                0                           847                 0.773318   \n",
       "6452                1                           785                 0.442038   \n",
       "6457                1                           799                 0.440551   \n",
       "6458                1                           812                 0.434729   \n",
       "6460                1                           827                 0.429262   \n",
       "\n",
       "      transaction_as_pct_of_balance  rolling_trns_as_pct_of_bal  \\\n",
       "6013                       0.002502                    0.010872   \n",
       "6452                       0.018990                    0.018990   \n",
       "6457                       0.018891                    0.018891   \n",
       "6458                       0.018540                    0.018540   \n",
       "6460                       0.018203                    0.018203   \n",
       "\n",
       "      transaction_as_pct_of_bal_min  rolling_mean_acc_bal  \n",
       "6013                      -0.085234          37835.792174  \n",
       "6452                       0.018990           6359.090000  \n",
       "6457                       0.018891           6938.360000  \n",
       "6458                       0.018540           6532.400000  \n",
       "6460                       0.018203           6652.440000  \n",
       "\n",
       "[5 rows x 25 columns]"
      ]
     },
     "execution_count": 8,
     "metadata": {},
     "output_type": "execute_result"
    }
   ],
   "source": [
    "modeling_df[model_v1.feature_name_].head()"
   ]
  },
  {
   "cell_type": "code",
   "execution_count": 9,
   "metadata": {},
   "outputs": [
    {
     "data": {
      "text/plain": [
       "<AxesSubplot:>"
      ]
     },
     "execution_count": 9,
     "metadata": {},
     "output_type": "execute_result"
    },
    {
     "data": {
      "image/png": "[encoded data removed]",
      "text/plain": [
       "<Figure size 432x288 with 1 Axes>"
      ]
     },
     "metadata": {
      "needs_background": "light"
     },
     "output_type": "display_data"
    }
   ],
   "source": [
    "for feature in model_v1.feature_name_:\n",
    "    modeling_df[feature] = modeling_df[feature].astype(float)\n",
    "    \n",
    "pred = model_v1.predict_proba(modeling_df[model_v1.feature_name_],\n",
    "                              num_iteration=model_v1.best_iteration_)[:,1]\n",
    "modeling_df['deposit_v1_pred'] = pred\n",
    "modeling_df['deposit_v1_pred'].hist(bins=100)"
   ]
  },
  {
   "cell_type": "code",
   "execution_count": 10,
   "metadata": {},
   "outputs": [
    {
     "data": {
      "text/plain": [
       "<AxesSubplot:>"
      ]
     },
     "execution_count": 10,
     "metadata": {},
     "output_type": "execute_result"
    },
    {
     "data": {
      "image/png": "[encoded data removed]",
      "text/plain": [
       "<Figure size 432x288 with 1 Axes>"
      ]
     },
     "metadata": {
      "needs_background": "light"
     },
     "output_type": "display_data"
    }
   ],
   "source": [
    "for feature in model_v1.feature_name_:\n",
    "    test_df[feature] = test_df[feature].astype(float)\n",
    "    \n",
    "pred = model_v1.predict_proba(test_df[model_v1.feature_name_],\n",
    "                              num_iteration=model_v1.best_iteration_)[:,1]\n",
    "test_df['deposit_v1_pred'] = pred\n",
    "test_df['deposit_v1_pred'].hist(bins=100)"
   ]
  },
  {
   "cell_type": "markdown",
   "metadata": {},
   "source": [
    "#### Customer Model"
   ]
  },
  {
   "cell_type": "code",
   "execution_count": 11,
   "metadata": {},
   "outputs": [],
   "source": [
    "from customer_utils import preprocess"
   ]
  },
  {
   "cell_type": "code",
   "execution_count": 12,
   "metadata": {},
   "outputs": [],
   "source": [
    "customer_risk = pkl.load(open('../../models/customer-risk/customer_risk_target_no_giact_time_since_last_link.pkl', 'rb'))"
   ]
  },
  {
   "cell_type": "code",
   "execution_count": 13,
   "metadata": {},
   "outputs": [
    {
     "data": {
      "text/html": [
       "<div>\n",
       "<style scoped>\n",
       "    .dataframe tbody tr th:only-of-type {\n",
       "        vertical-align: middle;\n",
       "    }\n",
       "\n",
       "    .dataframe tbody tr th {\n",
       "        vertical-align: top;\n",
       "    }\n",
       "\n",
       "    .dataframe thead th {\n",
       "        text-align: right;\n",
       "    }\n",
       "</style>\n",
       "<table border=\"1\" class=\"dataframe\">\n",
       "  <thead>\n",
       "    <tr style=\"text-align: right;\">\n",
       "      <th></th>\n",
       "      <th>first_deposit_amount</th>\n",
       "      <th>vantage_score</th>\n",
       "      <th>bcc7120</th>\n",
       "      <th>email_risk_score</th>\n",
       "      <th>fraud_score_2</th>\n",
       "      <th>name_email_correlation</th>\n",
       "      <th>transaction_as_pct_of_balance</th>\n",
       "      <th>mean_account_balance_30d</th>\n",
       "      <th>phone_risk_score</th>\n",
       "      <th>name_address_correlation</th>\n",
       "      <th>...</th>\n",
       "      <th>nr_trans_ratio</th>\n",
       "      <th>iqt9413</th>\n",
       "      <th>dollar_val_returns_3d</th>\n",
       "      <th>nr_returns_30d</th>\n",
       "      <th>credit_card_loan_amount</th>\n",
       "      <th>fraud_score_1</th>\n",
       "      <th>age_money_account</th>\n",
       "      <th>transaction_code_encoded</th>\n",
       "      <th>all7120_default_encoded</th>\n",
       "      <th>bcc7120_default_encoded</th>\n",
       "    </tr>\n",
       "  </thead>\n",
       "  <tbody>\n",
       "    <tr>\n",
       "      <th>6013</th>\n",
       "      <td>100.0</td>\n",
       "      <td>NaN</td>\n",
       "      <td>NaN</td>\n",
       "      <td>0.197</td>\n",
       "      <td>0.428</td>\n",
       "      <td>0.9959</td>\n",
       "      <td>0.002502</td>\n",
       "      <td>37490.369268</td>\n",
       "      <td>0.005</td>\n",
       "      <td>0.9096</td>\n",
       "      <td>...</td>\n",
       "      <td>0.075000</td>\n",
       "      <td>NaN</td>\n",
       "      <td>0.0</td>\n",
       "      <td>0.0</td>\n",
       "      <td>NaN</td>\n",
       "      <td>0.0163</td>\n",
       "      <td>848</td>\n",
       "      <td>2</td>\n",
       "      <td>-1.0</td>\n",
       "      <td>-1.0</td>\n",
       "    </tr>\n",
       "    <tr>\n",
       "      <th>6452</th>\n",
       "      <td>500.0</td>\n",
       "      <td>NaN</td>\n",
       "      <td>NaN</td>\n",
       "      <td>0.001</td>\n",
       "      <td>0.493</td>\n",
       "      <td>0.9954</td>\n",
       "      <td>0.018990</td>\n",
       "      <td>6295.078000</td>\n",
       "      <td>0.102</td>\n",
       "      <td>0.9096</td>\n",
       "      <td>...</td>\n",
       "      <td>0.200000</td>\n",
       "      <td>NaN</td>\n",
       "      <td>0.0</td>\n",
       "      <td>0.0</td>\n",
       "      <td>NaN</td>\n",
       "      <td>0.1072</td>\n",
       "      <td>837</td>\n",
       "      <td>2</td>\n",
       "      <td>-1.0</td>\n",
       "      <td>-1.0</td>\n",
       "    </tr>\n",
       "    <tr>\n",
       "      <th>6457</th>\n",
       "      <td>500.0</td>\n",
       "      <td>NaN</td>\n",
       "      <td>NaN</td>\n",
       "      <td>0.001</td>\n",
       "      <td>0.493</td>\n",
       "      <td>0.9954</td>\n",
       "      <td>0.018891</td>\n",
       "      <td>6721.133750</td>\n",
       "      <td>0.102</td>\n",
       "      <td>0.9096</td>\n",
       "      <td>...</td>\n",
       "      <td>0.125000</td>\n",
       "      <td>NaN</td>\n",
       "      <td>0.0</td>\n",
       "      <td>0.0</td>\n",
       "      <td>NaN</td>\n",
       "      <td>0.1072</td>\n",
       "      <td>851</td>\n",
       "      <td>2</td>\n",
       "      <td>-1.0</td>\n",
       "      <td>-1.0</td>\n",
       "    </tr>\n",
       "    <tr>\n",
       "      <th>6458</th>\n",
       "      <td>500.0</td>\n",
       "      <td>NaN</td>\n",
       "      <td>NaN</td>\n",
       "      <td>0.001</td>\n",
       "      <td>0.493</td>\n",
       "      <td>0.9954</td>\n",
       "      <td>0.018540</td>\n",
       "      <td>6817.627143</td>\n",
       "      <td>0.102</td>\n",
       "      <td>0.9096</td>\n",
       "      <td>...</td>\n",
       "      <td>0.142857</td>\n",
       "      <td>NaN</td>\n",
       "      <td>0.0</td>\n",
       "      <td>0.0</td>\n",
       "      <td>NaN</td>\n",
       "      <td>0.1072</td>\n",
       "      <td>864</td>\n",
       "      <td>2</td>\n",
       "      <td>-1.0</td>\n",
       "      <td>-1.0</td>\n",
       "    </tr>\n",
       "    <tr>\n",
       "      <th>6460</th>\n",
       "      <td>500.0</td>\n",
       "      <td>NaN</td>\n",
       "      <td>NaN</td>\n",
       "      <td>0.001</td>\n",
       "      <td>0.493</td>\n",
       "      <td>0.9954</td>\n",
       "      <td>0.018203</td>\n",
       "      <td>6592.420000</td>\n",
       "      <td>0.102</td>\n",
       "      <td>0.9096</td>\n",
       "      <td>...</td>\n",
       "      <td>0.250000</td>\n",
       "      <td>NaN</td>\n",
       "      <td>0.0</td>\n",
       "      <td>0.0</td>\n",
       "      <td>NaN</td>\n",
       "      <td>0.1072</td>\n",
       "      <td>879</td>\n",
       "      <td>2</td>\n",
       "      <td>-1.0</td>\n",
       "      <td>-1.0</td>\n",
       "    </tr>\n",
       "  </tbody>\n",
       "</table>\n",
       "<p>5 rows × 41 columns</p>\n",
       "</div>"
      ],
      "text/plain": [
       "      first_deposit_amount  vantage_score  bcc7120  email_risk_score  \\\n",
       "6013                 100.0            NaN      NaN             0.197   \n",
       "6452                 500.0            NaN      NaN             0.001   \n",
       "6457                 500.0            NaN      NaN             0.001   \n",
       "6458                 500.0            NaN      NaN             0.001   \n",
       "6460                 500.0            NaN      NaN             0.001   \n",
       "\n",
       "      fraud_score_2  name_email_correlation  transaction_as_pct_of_balance  \\\n",
       "6013          0.428                  0.9959                       0.002502   \n",
       "6452          0.493                  0.9954                       0.018990   \n",
       "6457          0.493                  0.9954                       0.018891   \n",
       "6458          0.493                  0.9954                       0.018540   \n",
       "6460          0.493                  0.9954                       0.018203   \n",
       "\n",
       "      mean_account_balance_30d  phone_risk_score  name_address_correlation  \\\n",
       "6013              37490.369268             0.005                    0.9096   \n",
       "6452               6295.078000             0.102                    0.9096   \n",
       "6457               6721.133750             0.102                    0.9096   \n",
       "6458               6817.627143             0.102                    0.9096   \n",
       "6460               6592.420000             0.102                    0.9096   \n",
       "\n",
       "      ...  nr_trans_ratio  iqt9413  dollar_val_returns_3d  nr_returns_30d  \\\n",
       "6013  ...        0.075000      NaN                    0.0             0.0   \n",
       "6452  ...        0.200000      NaN                    0.0             0.0   \n",
       "6457  ...        0.125000      NaN                    0.0             0.0   \n",
       "6458  ...        0.142857      NaN                    0.0             0.0   \n",
       "6460  ...        0.250000      NaN                    0.0             0.0   \n",
       "\n",
       "      credit_card_loan_amount  fraud_score_1  age_money_account  \\\n",
       "6013                      NaN         0.0163                848   \n",
       "6452                      NaN         0.1072                837   \n",
       "6457                      NaN         0.1072                851   \n",
       "6458                      NaN         0.1072                864   \n",
       "6460                      NaN         0.1072                879   \n",
       "\n",
       "      transaction_code_encoded  all7120_default_encoded  \\\n",
       "6013                         2                     -1.0   \n",
       "6452                         2                     -1.0   \n",
       "6457                         2                     -1.0   \n",
       "6458                         2                     -1.0   \n",
       "6460                         2                     -1.0   \n",
       "\n",
       "      bcc7120_default_encoded  \n",
       "6013                     -1.0  \n",
       "6452                     -1.0  \n",
       "6457                     -1.0  \n",
       "6458                     -1.0  \n",
       "6460                     -1.0  \n",
       "\n",
       "[5 rows x 41 columns]"
      ]
     },
     "execution_count": 13,
     "metadata": {},
     "output_type": "execute_result"
    }
   ],
   "source": [
    "modeling_df_customer = modeling_df.copy()\n",
    "modeling_df_customer = preprocess(modeling_df_customer)\n",
    "modeling_df_customer[customer_risk.feature_name_].head()"
   ]
  },
  {
   "cell_type": "code",
   "execution_count": 14,
   "metadata": {},
   "outputs": [
    {
     "data": {
      "text/html": [
       "<div>\n",
       "<style scoped>\n",
       "    .dataframe tbody tr th:only-of-type {\n",
       "        vertical-align: middle;\n",
       "    }\n",
       "\n",
       "    .dataframe tbody tr th {\n",
       "        vertical-align: top;\n",
       "    }\n",
       "\n",
       "    .dataframe thead th {\n",
       "        text-align: right;\n",
       "    }\n",
       "</style>\n",
       "<table border=\"1\" class=\"dataframe\">\n",
       "  <thead>\n",
       "    <tr style=\"text-align: right;\">\n",
       "      <th></th>\n",
       "      <th>first_deposit_amount</th>\n",
       "      <th>vantage_score</th>\n",
       "      <th>bcc7120</th>\n",
       "      <th>email_risk_score</th>\n",
       "      <th>fraud_score_2</th>\n",
       "      <th>name_email_correlation</th>\n",
       "      <th>transaction_as_pct_of_balance</th>\n",
       "      <th>mean_account_balance_30d</th>\n",
       "      <th>phone_risk_score</th>\n",
       "      <th>name_address_correlation</th>\n",
       "      <th>...</th>\n",
       "      <th>nr_trans_ratio</th>\n",
       "      <th>iqt9413</th>\n",
       "      <th>dollar_val_returns_3d</th>\n",
       "      <th>nr_returns_30d</th>\n",
       "      <th>credit_card_loan_amount</th>\n",
       "      <th>fraud_score_1</th>\n",
       "      <th>age_money_account</th>\n",
       "      <th>transaction_code_encoded</th>\n",
       "      <th>all7120_default_encoded</th>\n",
       "      <th>bcc7120_default_encoded</th>\n",
       "    </tr>\n",
       "  </thead>\n",
       "  <tbody>\n",
       "    <tr>\n",
       "      <th>6470</th>\n",
       "      <td>500.0</td>\n",
       "      <td>NaN</td>\n",
       "      <td>NaN</td>\n",
       "      <td>0.001</td>\n",
       "      <td>0.493</td>\n",
       "      <td>0.9954</td>\n",
       "      <td>0.016047</td>\n",
       "      <td>7301.787778</td>\n",
       "      <td>0.102</td>\n",
       "      <td>0.9096</td>\n",
       "      <td>...</td>\n",
       "      <td>0.125000</td>\n",
       "      <td>NaN</td>\n",
       "      <td>0.0</td>\n",
       "      <td>0.0</td>\n",
       "      <td>NaN</td>\n",
       "      <td>0.1072</td>\n",
       "      <td>931</td>\n",
       "      <td>2</td>\n",
       "      <td>-1.0</td>\n",
       "      <td>-1.0</td>\n",
       "    </tr>\n",
       "    <tr>\n",
       "      <th>6472</th>\n",
       "      <td>500.0</td>\n",
       "      <td>NaN</td>\n",
       "      <td>NaN</td>\n",
       "      <td>0.001</td>\n",
       "      <td>0.493</td>\n",
       "      <td>0.9954</td>\n",
       "      <td>0.014129</td>\n",
       "      <td>7529.284545</td>\n",
       "      <td>0.102</td>\n",
       "      <td>0.9096</td>\n",
       "      <td>...</td>\n",
       "      <td>0.111111</td>\n",
       "      <td>NaN</td>\n",
       "      <td>0.0</td>\n",
       "      <td>0.0</td>\n",
       "      <td>NaN</td>\n",
       "      <td>0.1072</td>\n",
       "      <td>935</td>\n",
       "      <td>2</td>\n",
       "      <td>-1.0</td>\n",
       "      <td>-1.0</td>\n",
       "    </tr>\n",
       "    <tr>\n",
       "      <th>6474</th>\n",
       "      <td>500.0</td>\n",
       "      <td>NaN</td>\n",
       "      <td>NaN</td>\n",
       "      <td>0.001</td>\n",
       "      <td>0.493</td>\n",
       "      <td>0.9954</td>\n",
       "      <td>0.016047</td>\n",
       "      <td>7761.750000</td>\n",
       "      <td>0.102</td>\n",
       "      <td>0.9096</td>\n",
       "      <td>...</td>\n",
       "      <td>0.142857</td>\n",
       "      <td>NaN</td>\n",
       "      <td>0.0</td>\n",
       "      <td>0.0</td>\n",
       "      <td>NaN</td>\n",
       "      <td>0.1072</td>\n",
       "      <td>949</td>\n",
       "      <td>2</td>\n",
       "      <td>-1.0</td>\n",
       "      <td>-1.0</td>\n",
       "    </tr>\n",
       "    <tr>\n",
       "      <th>6477</th>\n",
       "      <td>500.0</td>\n",
       "      <td>NaN</td>\n",
       "      <td>NaN</td>\n",
       "      <td>0.001</td>\n",
       "      <td>0.493</td>\n",
       "      <td>0.9954</td>\n",
       "      <td>0.015793</td>\n",
       "      <td>7870.945714</td>\n",
       "      <td>0.102</td>\n",
       "      <td>0.9096</td>\n",
       "      <td>...</td>\n",
       "      <td>0.166667</td>\n",
       "      <td>NaN</td>\n",
       "      <td>0.0</td>\n",
       "      <td>0.0</td>\n",
       "      <td>NaN</td>\n",
       "      <td>0.1072</td>\n",
       "      <td>963</td>\n",
       "      <td>2</td>\n",
       "      <td>-1.0</td>\n",
       "      <td>-1.0</td>\n",
       "    </tr>\n",
       "    <tr>\n",
       "      <th>6483</th>\n",
       "      <td>500.0</td>\n",
       "      <td>NaN</td>\n",
       "      <td>NaN</td>\n",
       "      <td>0.001</td>\n",
       "      <td>0.493</td>\n",
       "      <td>0.9954</td>\n",
       "      <td>0.016671</td>\n",
       "      <td>7469.954000</td>\n",
       "      <td>0.102</td>\n",
       "      <td>0.9096</td>\n",
       "      <td>...</td>\n",
       "      <td>0.142857</td>\n",
       "      <td>NaN</td>\n",
       "      <td>0.0</td>\n",
       "      <td>0.0</td>\n",
       "      <td>NaN</td>\n",
       "      <td>0.1072</td>\n",
       "      <td>977</td>\n",
       "      <td>2</td>\n",
       "      <td>-1.0</td>\n",
       "      <td>-1.0</td>\n",
       "    </tr>\n",
       "  </tbody>\n",
       "</table>\n",
       "<p>5 rows × 41 columns</p>\n",
       "</div>"
      ],
      "text/plain": [
       "      first_deposit_amount  vantage_score  bcc7120  email_risk_score  \\\n",
       "6470                 500.0            NaN      NaN             0.001   \n",
       "6472                 500.0            NaN      NaN             0.001   \n",
       "6474                 500.0            NaN      NaN             0.001   \n",
       "6477                 500.0            NaN      NaN             0.001   \n",
       "6483                 500.0            NaN      NaN             0.001   \n",
       "\n",
       "      fraud_score_2  name_email_correlation  transaction_as_pct_of_balance  \\\n",
       "6470          0.493                  0.9954                       0.016047   \n",
       "6472          0.493                  0.9954                       0.014129   \n",
       "6474          0.493                  0.9954                       0.016047   \n",
       "6477          0.493                  0.9954                       0.015793   \n",
       "6483          0.493                  0.9954                       0.016671   \n",
       "\n",
       "      mean_account_balance_30d  phone_risk_score  name_address_correlation  \\\n",
       "6470               7301.787778             0.102                    0.9096   \n",
       "6472               7529.284545             0.102                    0.9096   \n",
       "6474               7761.750000             0.102                    0.9096   \n",
       "6477               7870.945714             0.102                    0.9096   \n",
       "6483               7469.954000             0.102                    0.9096   \n",
       "\n",
       "      ...  nr_trans_ratio  iqt9413  dollar_val_returns_3d  nr_returns_30d  \\\n",
       "6470  ...        0.125000      NaN                    0.0             0.0   \n",
       "6472  ...        0.111111      NaN                    0.0             0.0   \n",
       "6474  ...        0.142857      NaN                    0.0             0.0   \n",
       "6477  ...        0.166667      NaN                    0.0             0.0   \n",
       "6483  ...        0.142857      NaN                    0.0             0.0   \n",
       "\n",
       "      credit_card_loan_amount  fraud_score_1  age_money_account  \\\n",
       "6470                      NaN         0.1072                931   \n",
       "6472                      NaN         0.1072                935   \n",
       "6474                      NaN         0.1072                949   \n",
       "6477                      NaN         0.1072                963   \n",
       "6483                      NaN         0.1072                977   \n",
       "\n",
       "      transaction_code_encoded  all7120_default_encoded  \\\n",
       "6470                         2                     -1.0   \n",
       "6472                         2                     -1.0   \n",
       "6474                         2                     -1.0   \n",
       "6477                         2                     -1.0   \n",
       "6483                         2                     -1.0   \n",
       "\n",
       "      bcc7120_default_encoded  \n",
       "6470                     -1.0  \n",
       "6472                     -1.0  \n",
       "6474                     -1.0  \n",
       "6477                     -1.0  \n",
       "6483                     -1.0  \n",
       "\n",
       "[5 rows x 41 columns]"
      ]
     },
     "execution_count": 14,
     "metadata": {},
     "output_type": "execute_result"
    }
   ],
   "source": [
    "test_df_customer = test_df.copy()\n",
    "test_df_customer = preprocess(test_df_customer)\n",
    "test_df_customer[customer_risk.feature_name_].head()"
   ]
  },
  {
   "cell_type": "code",
   "execution_count": 15,
   "metadata": {},
   "outputs": [
    {
     "data": {
      "text/plain": [
       "<AxesSubplot:>"
      ]
     },
     "execution_count": 15,
     "metadata": {},
     "output_type": "execute_result"
    },
    {
     "data": {
      "image/png": "[encoded data removed]",
      "text/plain": [
       "<Figure size 432x288 with 1 Axes>"
      ]
     },
     "metadata": {
      "needs_background": "light"
     },
     "output_type": "display_data"
    }
   ],
   "source": [
    "pred = customer_risk.predict_proba(modeling_df_customer[customer_risk.feature_name_],\n",
    "                                   num_iteration=customer_risk.best_iteration_)[:,1]\n",
    "modeling_df['customer_pred'] = pred\n",
    "modeling_df['customer_pred'].hist(bins=100)"
   ]
  },
  {
   "cell_type": "code",
   "execution_count": 16,
   "metadata": {},
   "outputs": [
    {
     "data": {
      "text/plain": [
       "<AxesSubplot:>"
      ]
     },
     "execution_count": 16,
     "metadata": {},
     "output_type": "execute_result"
    },
    {
     "data": {
      "image/png": "[encoded data removed]",
      "text/plain": [
       "<Figure size 432x288 with 1 Axes>"
      ]
     },
     "metadata": {
      "needs_background": "light"
     },
     "output_type": "display_data"
    }
   ],
   "source": [
    "pred = customer_risk.predict_proba(test_df_customer[customer_risk.feature_name_],\n",
    "                                   num_iteration=customer_risk.best_iteration_)[:,1]\n",
    "test_df['customer_pred'] = pred\n",
    "test_df['customer_pred'].hist(bins=100)"
   ]
  },
  {
   "cell_type": "markdown",
   "metadata": {},
   "source": [
    "### Refit Customer\n",
    "---"
   ]
  },
  {
   "cell_type": "code",
   "execution_count": 17,
   "metadata": {},
   "outputs": [],
   "source": [
    "customer_params = customer_risk.get_params()\n",
    "features_c = customer_risk.feature_name_\n",
    "\n",
    "customer_params['verbosity'] = -1\n",
    "# customer_params['scale_pos_weight'] *= 2  # TEST THIS!!!"
   ]
  },
  {
   "cell_type": "code",
   "execution_count": 18,
   "metadata": {},
   "outputs": [],
   "source": [
    "params_ = {'num_boost_round': 1372,\n",
    " 'num_threads': -1,\n",
    " 'objective': 'binary',\n",
    " 'verbose': -1,\n",
    " 'boosting_type': 'gbdt',\n",
    " 'two_round': True,\n",
    " 'metric': 'auc',\n",
    " 'boosting': 'gbdt',\n",
    " 'tree_learner': 'feature',\n",
    " 'boost_from_average': 'false',\n",
    " 'num_leaves': 17,\n",
    " 'lambda_l1': 25.397477554931353,\n",
    " 'lambda_l2': 22.580936083946675,\n",
    " 'min_data_in_leaf': 28,\n",
    " 'max_depth': 5,\n",
    " 'learning_rate': 0.09170176135638021,\n",
    " 'feature_fraction': 0.2513960815698203,\n",
    " 'scale_pos_weight': 55.219917012448136,\n",
    " 'early_stopping_round': 300,\n",
    " 'seed': 12345,\n",
    " 'seed_value': 12345}\n",
    "\n",
    "for p in params_:\n",
    "    customer_params[p] = params_[p]"
   ]
  },
  {
   "cell_type": "code",
   "execution_count": 19,
   "metadata": {},
   "outputs": [
    {
     "name": "stderr",
     "output_type": "stream",
     "text": [
      "/home/ec2-user/anaconda3/envs/ml_basic_py37/lib/python3.7/site-packages/lightgbm/engine.py:151: UserWarning: Found `num_iterations` in params. Will use it instead of argument\n",
      "  warnings.warn(\"Found `{}` in params. Will use it instead of argument\".format(alias))\n",
      "/home/ec2-user/anaconda3/envs/ml_basic_py37/lib/python3.7/site-packages/lightgbm/engine.py:151: UserWarning: Found `num_boost_round` in params. Will use it instead of argument\n",
      "  warnings.warn(\"Found `{}` in params. Will use it instead of argument\".format(alias))\n",
      "/home/ec2-user/anaconda3/envs/ml_basic_py37/lib/python3.7/site-packages/lightgbm/engine.py:151: UserWarning: Found `n_estimators` in params. Will use it instead of argument\n",
      "  warnings.warn(\"Found `{}` in params. Will use it instead of argument\".format(alias))\n",
      "/home/ec2-user/anaconda3/envs/ml_basic_py37/lib/python3.7/site-packages/lightgbm/engine.py:156: UserWarning: Found `early_stopping_round` in params. Will use it instead of argument\n",
      "  warnings.warn(\"Found `{}` in params. Will use it instead of argument\".format(alias))\n",
      "/home/ec2-user/anaconda3/envs/ml_basic_py37/lib/python3.7/site-packages/lightgbm/basic.py:1077: UserWarning: silent keyword has been found in `params` and will be ignored.\n",
      "Please use silent argument of the Dataset constructor to pass this parameter.\n",
      "  .format(key))\n",
      "/home/ec2-user/anaconda3/envs/ml_basic_py37/lib/python3.7/site-packages/lightgbm/basic.py:1077: UserWarning: categorical_feature keyword has been found in `params` and will be ignored.\n",
      "Please use categorical_feature argument of the Dataset constructor to pass this parameter.\n",
      "  .format(key))\n"
     ]
    },
    {
     "name": "stdout",
     "output_type": "stream",
     "text": [
      "[LightGBM] [Warning] Unknown parameter: importance_type\n",
      "[LightGBM] [Warning] Unknown parameter: silent\n",
      "[LightGBM] [Warning] Unknown parameter: seed_value\n",
      "[LightGBM] [Warning] verbosity is set=-1, verbose=-1 will be ignored. Current value: verbosity=-1\n",
      "[LightGBM] [Warning] boosting is set=gbdt, boosting_type=gbdt will be ignored. Current value: boosting=gbdt\n",
      "[LightGBM] [Warning] feature_fraction is set=0.2513960815698203, colsample_bytree=1.0 will be ignored. Current value: feature_fraction=0.2513960815698203\n",
      "[LightGBM] [Warning] num_threads is set=-1, n_jobs=-1 will be ignored. Current value: num_threads=-1\n",
      "[LightGBM] [Warning] lambda_l1 is set=25.397477554931353, reg_alpha=0.0 will be ignored. Current value: lambda_l1=25.397477554931353\n",
      "[LightGBM] [Warning] min_data_in_leaf is set=28, min_child_samples=20 will be ignored. Current value: min_data_in_leaf=28\n",
      "[LightGBM] [Warning] lambda_l2 is set=22.580936083946675, reg_lambda=0.0 will be ignored. Current value: lambda_l2=22.580936083946675\n",
      "Training until validation scores don't improve for 300 rounds\n",
      "Did not meet early stopping. Best iteration is:\n",
      "[100]\ttrain's auc: 0.959\ttest's auc: 0.91842\n",
      "[LightGBM] [Warning] Unknown parameter: importance_type\n",
      "[LightGBM] [Warning] Unknown parameter: silent\n",
      "[LightGBM] [Warning] Unknown parameter: seed_value\n",
      "[LightGBM] [Warning] verbosity is set=-1, verbose=-1 will be ignored. Current value: verbosity=-1\n",
      "[LightGBM] [Warning] boosting is set=gbdt, boosting_type=gbdt will be ignored. Current value: boosting=gbdt\n",
      "[LightGBM] [Warning] feature_fraction is set=0.2513960815698203, colsample_bytree=1.0 will be ignored. Current value: feature_fraction=0.2513960815698203\n",
      "[LightGBM] [Warning] num_threads is set=-1, n_jobs=-1 will be ignored. Current value: num_threads=-1\n",
      "[LightGBM] [Warning] lambda_l1 is set=25.397477554931353, reg_alpha=0.0 will be ignored. Current value: lambda_l1=25.397477554931353\n",
      "[LightGBM] [Warning] min_data_in_leaf is set=28, min_child_samples=20 will be ignored. Current value: min_data_in_leaf=28\n",
      "[LightGBM] [Warning] lambda_l2 is set=22.580936083946675, reg_lambda=0.0 will be ignored. Current value: lambda_l2=22.580936083946675\n",
      "Training until validation scores don't improve for 300 rounds\n",
      "Did not meet early stopping. Best iteration is:\n",
      "[100]\ttrain's auc: 0.95672\ttest's auc: 0.928038\n",
      "[LightGBM] [Warning] Unknown parameter: importance_type\n",
      "[LightGBM] [Warning] Unknown parameter: silent\n",
      "[LightGBM] [Warning] Unknown parameter: seed_value\n",
      "[LightGBM] [Warning] verbosity is set=-1, verbose=-1 will be ignored. Current value: verbosity=-1\n",
      "[LightGBM] [Warning] boosting is set=gbdt, boosting_type=gbdt will be ignored. Current value: boosting=gbdt\n",
      "[LightGBM] [Warning] feature_fraction is set=0.2513960815698203, colsample_bytree=1.0 will be ignored. Current value: feature_fraction=0.2513960815698203\n",
      "[LightGBM] [Warning] num_threads is set=-1, n_jobs=-1 will be ignored. Current value: num_threads=-1\n",
      "[LightGBM] [Warning] lambda_l1 is set=25.397477554931353, reg_alpha=0.0 will be ignored. Current value: lambda_l1=25.397477554931353\n",
      "[LightGBM] [Warning] min_data_in_leaf is set=28, min_child_samples=20 will be ignored. Current value: min_data_in_leaf=28\n",
      "[LightGBM] [Warning] lambda_l2 is set=22.580936083946675, reg_lambda=0.0 will be ignored. Current value: lambda_l2=22.580936083946675\n",
      "Training until validation scores don't improve for 300 rounds\n",
      "Did not meet early stopping. Best iteration is:\n",
      "[100]\ttrain's auc: 0.957302\ttest's auc: 0.930372\n",
      "[LightGBM] [Warning] Unknown parameter: importance_type\n",
      "[LightGBM] [Warning] Unknown parameter: silent\n",
      "[LightGBM] [Warning] Unknown parameter: seed_value\n",
      "[LightGBM] [Warning] verbosity is set=-1, verbose=-1 will be ignored. Current value: verbosity=-1\n",
      "[LightGBM] [Warning] boosting is set=gbdt, boosting_type=gbdt will be ignored. Current value: boosting=gbdt\n",
      "[LightGBM] [Warning] feature_fraction is set=0.2513960815698203, colsample_bytree=1.0 will be ignored. Current value: feature_fraction=0.2513960815698203\n",
      "[LightGBM] [Warning] num_threads is set=-1, n_jobs=-1 will be ignored. Current value: num_threads=-1\n",
      "[LightGBM] [Warning] lambda_l1 is set=25.397477554931353, reg_alpha=0.0 will be ignored. Current value: lambda_l1=25.397477554931353\n",
      "[LightGBM] [Warning] min_data_in_leaf is set=28, min_child_samples=20 will be ignored. Current value: min_data_in_leaf=28\n",
      "[LightGBM] [Warning] lambda_l2 is set=22.580936083946675, reg_lambda=0.0 will be ignored. Current value: lambda_l2=22.580936083946675\n",
      "Training until validation scores don't improve for 300 rounds\n",
      "Did not meet early stopping. Best iteration is:\n",
      "[100]\ttrain's auc: 0.957282\ttest's auc: 0.929731\n",
      "[LightGBM] [Warning] Unknown parameter: importance_type\n",
      "[LightGBM] [Warning] Unknown parameter: silent\n",
      "[LightGBM] [Warning] Unknown parameter: seed_value\n",
      "[LightGBM] [Warning] verbosity is set=-1, verbose=-1 will be ignored. Current value: verbosity=-1\n",
      "[LightGBM] [Warning] boosting is set=gbdt, boosting_type=gbdt will be ignored. Current value: boosting=gbdt\n",
      "[LightGBM] [Warning] feature_fraction is set=0.2513960815698203, colsample_bytree=1.0 will be ignored. Current value: feature_fraction=0.2513960815698203\n",
      "[LightGBM] [Warning] num_threads is set=-1, n_jobs=-1 will be ignored. Current value: num_threads=-1\n",
      "[LightGBM] [Warning] lambda_l1 is set=25.397477554931353, reg_alpha=0.0 will be ignored. Current value: lambda_l1=25.397477554931353\n",
      "[LightGBM] [Warning] min_data_in_leaf is set=28, min_child_samples=20 will be ignored. Current value: min_data_in_leaf=28\n",
      "[LightGBM] [Warning] lambda_l2 is set=22.580936083946675, reg_lambda=0.0 will be ignored. Current value: lambda_l2=22.580936083946675\n",
      "Training until validation scores don't improve for 300 rounds\n",
      "Did not meet early stopping. Best iteration is:\n",
      "[100]\ttrain's auc: 0.956909\ttest's auc: 0.924929\n"
     ]
    }
   ],
   "source": [
    "result = train_lgb_baseline_grouped(modeling_df_customer, features_c, \n",
    "                                    customer_params, target_col, seed=seed)\n",
    "pred_c, fimp_c, models_c, auc_c = result\n",
    "\n",
    "# evaluate on modeling_df\n",
    "modeling_df['refitted_customer_pred'] = pred_c"
   ]
  },
  {
   "cell_type": "code",
   "execution_count": 20,
   "metadata": {},
   "outputs": [],
   "source": [
    "test_df_customer = test_df.copy()\n",
    "test_df_customer = preprocess(test_df_customer)"
   ]
  },
  {
   "cell_type": "code",
   "execution_count": 21,
   "metadata": {},
   "outputs": [
    {
     "name": "stderr",
     "output_type": "stream",
     "text": [
      "/home/ec2-user/anaconda3/envs/ml_basic_py37/lib/python3.7/site-packages/lightgbm/engine.py:151: UserWarning: Found `num_iterations` in params. Will use it instead of argument\n",
      "  warnings.warn(\"Found `{}` in params. Will use it instead of argument\".format(alias))\n",
      "/home/ec2-user/anaconda3/envs/ml_basic_py37/lib/python3.7/site-packages/lightgbm/engine.py:151: UserWarning: Found `num_boost_round` in params. Will use it instead of argument\n",
      "  warnings.warn(\"Found `{}` in params. Will use it instead of argument\".format(alias))\n",
      "/home/ec2-user/anaconda3/envs/ml_basic_py37/lib/python3.7/site-packages/lightgbm/engine.py:156: UserWarning: Found `early_stopping_round` in params. Will use it instead of argument\n",
      "  warnings.warn(\"Found `{}` in params. Will use it instead of argument\".format(alias))\n",
      "/home/ec2-user/anaconda3/envs/ml_basic_py37/lib/python3.7/site-packages/lightgbm/basic.py:1077: UserWarning: categorical_feature keyword has been found in `params` and will be ignored.\n",
      "Please use categorical_feature argument of the Dataset constructor to pass this parameter.\n",
      "  .format(key))\n"
     ]
    },
    {
     "name": "stdout",
     "output_type": "stream",
     "text": [
      "[LightGBM] [Warning] Unknown parameter: seed_value\n",
      "[LightGBM] [Warning] verbosity is set=-1, verbose=-1 will be ignored. Current value: verbosity=-1\n",
      "[LightGBM] [Warning] num_iterations is set=1372, num_boost_round=1372 will be ignored. Current value: num_iterations=1372\n",
      "[LightGBM] [Warning] lambda_l1 is set=25.397477554931353, reg_alpha=0.0 will be ignored. Current value: lambda_l1=25.397477554931353\n",
      "[LightGBM] [Warning] num_threads is set=-1, n_jobs=-1 will be ignored. Current value: num_threads=-1\n",
      "[LightGBM] [Warning] min_data_in_leaf is set=28, min_child_samples=20 will be ignored. Current value: min_data_in_leaf=28\n",
      "[LightGBM] [Warning] lambda_l2 is set=22.580936083946675, reg_lambda=0.0 will be ignored. Current value: lambda_l2=22.580936083946675\n",
      "[LightGBM] [Warning] boosting is set=gbdt, boosting_type=gbdt will be ignored. Current value: boosting=gbdt\n",
      "[LightGBM] [Warning] feature_fraction is set=0.2513960815698203, colsample_bytree=1.0 will be ignored. Current value: feature_fraction=0.2513960815698203\n"
     ]
    }
   ],
   "source": [
    "# genereate OOT preds\n",
    "import lightgbm as lgb\n",
    "\n",
    "customer_params['early_stopping_round'] = None\n",
    "\n",
    "clf = lgb.LGBMClassifier(**customer_params)\n",
    "X = modeling_df_customer[features_c]\n",
    "y = modeling_df_customer[target_col]\n",
    "\n",
    "clf.fit(X, y)\n",
    "test_df['refitted_customer_pred'] = clf.predict_proba(test_df_customer[features_c])[:,1]"
   ]
  },
  {
   "cell_type": "code",
   "execution_count": null,
   "metadata": {},
   "outputs": [],
   "source": []
  },
  {
   "cell_type": "markdown",
   "metadata": {},
   "source": [
    "#### Compare Results\n",
    "---"
   ]
  },
  {
   "cell_type": "code",
   "execution_count": 22,
   "metadata": {},
   "outputs": [],
   "source": [
    "import scikitplot as skplt\n",
    "import matplotlib.pyplot as plt\n",
    "from rdsutils.plot import plot_auc_curve_mult, plot_pr_curve_mult, plot_feature_over_time\n",
    "\n",
    "plt.style.use('seaborn')\n",
    "\n",
    "def get_binary_metrics(y_true, y_pred):\n",
    "    from sklearn.metrics import roc_auc_score, average_precision_score\n",
    "    from scikitplot.helpers import binary_ks_curve\n",
    "    \n",
    "    auc = round(roc_auc_score(y_true=y_true,\n",
    "                              y_score=y_pred)*100, 2)\n",
    "    ap = round(average_precision_score(y_true=y_true,\n",
    "                                       y_score=y_pred)*100, 2)\n",
    "    _, _, _, ks, _, _ = binary_ks_curve(y_true=y_true, y_probas=y_pred)\n",
    "    ks = round(ks*100, 2) \n",
    "    \n",
    "    metrics = {'auc': auc,\n",
    "               'ap': ap,\n",
    "               'ks': ks}\n",
    "\n",
    "    return metrics\n",
    "\n",
    "\n",
    "def get_pred_reports(df, target_col, pred_cols):\n",
    "    import pandas as pd\n",
    "    result = {}\n",
    "    for col in pred_cols:\n",
    "        metrics = get_binary_metrics(df[target_col], df[col])\n",
    "        result[col] = metrics\n",
    "    return pd.DataFrame(result).T"
   ]
  },
  {
   "cell_type": "markdown",
   "metadata": {},
   "source": [
    "### Comparison\n",
    "---\n",
    "\n",
    "#### without FICO"
   ]
  },
  {
   "cell_type": "code",
   "execution_count": 23,
   "metadata": {},
   "outputs": [],
   "source": [
    "target_col = 'ach_target'"
   ]
  },
  {
   "cell_type": "code",
   "execution_count": 24,
   "metadata": {},
   "outputs": [
    {
     "data": {
      "text/html": [
       "<div>\n",
       "<style scoped>\n",
       "    .dataframe tbody tr th:only-of-type {\n",
       "        vertical-align: middle;\n",
       "    }\n",
       "\n",
       "    .dataframe tbody tr th {\n",
       "        vertical-align: top;\n",
       "    }\n",
       "\n",
       "    .dataframe thead th {\n",
       "        text-align: right;\n",
       "    }\n",
       "</style>\n",
       "<table border=\"1\" class=\"dataframe\">\n",
       "  <thead>\n",
       "    <tr style=\"text-align: right;\">\n",
       "      <th></th>\n",
       "      <th>auc</th>\n",
       "      <th>ap</th>\n",
       "      <th>ks</th>\n",
       "    </tr>\n",
       "  </thead>\n",
       "  <tbody>\n",
       "    <tr>\n",
       "      <th>deposit_v1_pred</th>\n",
       "      <td>85.06</td>\n",
       "      <td>27.62</td>\n",
       "      <td>56.89</td>\n",
       "    </tr>\n",
       "    <tr>\n",
       "      <th>refitted_customer_pred</th>\n",
       "      <td>92.60</td>\n",
       "      <td>61.75</td>\n",
       "      <td>70.73</td>\n",
       "    </tr>\n",
       "  </tbody>\n",
       "</table>\n",
       "</div>"
      ],
      "text/plain": [
       "                          auc     ap     ks\n",
       "deposit_v1_pred         85.06  27.62  56.89\n",
       "refitted_customer_pred  92.60  61.75  70.73"
      ]
     },
     "execution_count": 24,
     "metadata": {},
     "output_type": "execute_result"
    }
   ],
   "source": [
    "# for slides\n",
    "metrics = get_pred_reports(modeling_df, target_col, \n",
    "                           ['deposit_v1_pred', \n",
    "                            'refitted_customer_pred'])\n",
    "metrics"
   ]
  },
  {
   "cell_type": "code",
   "execution_count": 25,
   "metadata": {},
   "outputs": [
    {
     "data": {
      "text/html": [
       "<div>\n",
       "<style scoped>\n",
       "    .dataframe tbody tr th:only-of-type {\n",
       "        vertical-align: middle;\n",
       "    }\n",
       "\n",
       "    .dataframe tbody tr th {\n",
       "        vertical-align: top;\n",
       "    }\n",
       "\n",
       "    .dataframe thead th {\n",
       "        text-align: right;\n",
       "    }\n",
       "</style>\n",
       "<table border=\"1\" class=\"dataframe\">\n",
       "  <thead>\n",
       "    <tr style=\"text-align: right;\">\n",
       "      <th></th>\n",
       "      <th>auc</th>\n",
       "      <th>ap</th>\n",
       "      <th>ks</th>\n",
       "    </tr>\n",
       "  </thead>\n",
       "  <tbody>\n",
       "    <tr>\n",
       "      <th>deposit_v1_pred</th>\n",
       "      <td>85.06</td>\n",
       "      <td>27.62</td>\n",
       "      <td>56.89</td>\n",
       "    </tr>\n",
       "    <tr>\n",
       "      <th>refitted_customer_pred</th>\n",
       "      <td>92.60</td>\n",
       "      <td>61.75</td>\n",
       "      <td>70.73</td>\n",
       "    </tr>\n",
       "  </tbody>\n",
       "</table>\n",
       "</div>"
      ],
      "text/plain": [
       "                          auc     ap     ks\n",
       "deposit_v1_pred         85.06  27.62  56.89\n",
       "refitted_customer_pred  92.60  61.75  70.73"
      ]
     },
     "execution_count": 25,
     "metadata": {},
     "output_type": "execute_result"
    }
   ],
   "source": [
    "# for slides\n",
    "metrics = get_pred_reports(modeling_df, target_col, \n",
    "                           ['deposit_v1_pred', \n",
    "                            'refitted_customer_pred'])\n",
    "metrics"
   ]
  },
  {
   "cell_type": "code",
   "execution_count": 26,
   "metadata": {},
   "outputs": [
    {
     "data": {
      "text/plain": [
       "(<Figure size 576x396 with 1 Axes>,\n",
       " <AxesSubplot:title={'center':'Precision-Recall curve: Baseline Comparison'}, xlabel='Recall', ylabel='Precision'>)"
      ]
     },
     "execution_count": 26,
     "metadata": {},
     "output_type": "execute_result"
    },
    {
     "data": {
      "image/png": "[encoded data removed]",
      "text/plain": [
       "<Figure size 576x396 with 1 Axes>"
      ]
     },
     "metadata": {},
     "output_type": "display_data"
    }
   ],
   "source": [
    "preds = [(modeling_df['deposit_v1_pred'], 'deposit_v1_pred'), \n",
    "         (modeling_df['refitted_customer_pred'], 'refitted_customer_pred')]\n",
    "title = 'Precision-Recall curve: Baseline Comparison'\n",
    "plot_pr_curve_mult(modeling_df[target_col], preds,\n",
    "                   title=title, colors = ['r', 'b'])"
   ]
  },
  {
   "cell_type": "code",
   "execution_count": 27,
   "metadata": {},
   "outputs": [
    {
     "data": {
      "text/plain": [
       "(<Figure size 576x396 with 1 Axes>,\n",
       " <AxesSubplot:title={'center':'AUC-ROC curve: Baseline Comparison'}, xlabel='False Positive Rate', ylabel='True Positive Rate'>)"
      ]
     },
     "execution_count": 27,
     "metadata": {},
     "output_type": "execute_result"
    },
    {
     "data": {
      "image/png": "[encoded data removed]",
      "text/plain": [
       "<Figure size 576x396 with 1 Axes>"
      ]
     },
     "metadata": {},
     "output_type": "display_data"
    }
   ],
   "source": [
    "title = 'AUC-ROC curve: Baseline Comparison'\n",
    "plot_auc_curve_mult(modeling_df[target_col], preds,\n",
    "                   title=title, colors = ['r', 'b'])"
   ]
  },
  {
   "cell_type": "markdown",
   "metadata": {},
   "source": [
    "#### with FICO"
   ]
  },
  {
   "cell_type": "code",
   "execution_count": 28,
   "metadata": {},
   "outputs": [
    {
     "data": {
      "text/html": [
       "<div>\n",
       "<style scoped>\n",
       "    .dataframe tbody tr th:only-of-type {\n",
       "        vertical-align: middle;\n",
       "    }\n",
       "\n",
       "    .dataframe tbody tr th {\n",
       "        vertical-align: top;\n",
       "    }\n",
       "\n",
       "    .dataframe thead th {\n",
       "        text-align: right;\n",
       "    }\n",
       "</style>\n",
       "<table border=\"1\" class=\"dataframe\">\n",
       "  <thead>\n",
       "    <tr style=\"text-align: right;\">\n",
       "      <th></th>\n",
       "      <th>auc</th>\n",
       "      <th>ap</th>\n",
       "      <th>ks</th>\n",
       "    </tr>\n",
       "  </thead>\n",
       "  <tbody>\n",
       "    <tr>\n",
       "      <th>fico_pred</th>\n",
       "      <td>85.43</td>\n",
       "      <td>18.12</td>\n",
       "      <td>60.65</td>\n",
       "    </tr>\n",
       "    <tr>\n",
       "      <th>deposit_v1_pred</th>\n",
       "      <td>83.74</td>\n",
       "      <td>23.36</td>\n",
       "      <td>54.39</td>\n",
       "    </tr>\n",
       "    <tr>\n",
       "      <th>refitted_customer_pred</th>\n",
       "      <td>91.84</td>\n",
       "      <td>58.37</td>\n",
       "      <td>69.03</td>\n",
       "    </tr>\n",
       "  </tbody>\n",
       "</table>\n",
       "</div>"
      ],
      "text/plain": [
       "                          auc     ap     ks\n",
       "fico_pred               85.43  18.12  60.65\n",
       "deposit_v1_pred         83.74  23.36  54.39\n",
       "refitted_customer_pred  91.84  58.37  69.03"
      ]
     },
     "execution_count": 28,
     "metadata": {},
     "output_type": "execute_result"
    }
   ],
   "source": [
    "df_w_fico = modeling_df[(~modeling_df.fico_score.isna()) \n",
    "                        & (modeling_df.fico_score <= 850)]\n",
    "# logically good fico score -> lower fraud prob\n",
    "# flip the direction to match with target \n",
    "\n",
    "metrics = get_pred_reports(df_w_fico, target_col, \n",
    "                           ['fico_pred', \n",
    "                            'deposit_v1_pred', \n",
    "                            'refitted_customer_pred'])\n",
    "metrics"
   ]
  },
  {
   "cell_type": "code",
   "execution_count": 29,
   "metadata": {},
   "outputs": [
    {
     "data": {
      "text/plain": [
       "(<Figure size 576x396 with 1 Axes>,\n",
       " <AxesSubplot:title={'center':'Precision-Recall curve: Baseline Comparison'}, xlabel='Recall', ylabel='Precision'>)"
      ]
     },
     "execution_count": 29,
     "metadata": {},
     "output_type": "execute_result"
    },
    {
     "data": {
      "image/png": "[encoded data removed]",
      "text/plain": [
       "<Figure size 576x396 with 1 Axes>"
      ]
     },
     "metadata": {},
     "output_type": "display_data"
    }
   ],
   "source": [
    "preds = [(df_w_fico['fico_pred'], 'fico_pred'),\n",
    "         (df_w_fico['deposit_v1_pred'], 'deposit_v1_pred'), \n",
    "         (df_w_fico['refitted_customer_pred'], 'refitted_customer_pred')]\n",
    "title = 'Precision-Recall curve: Baseline Comparison'\n",
    "rdsplot.plot_pr_curve_mult(df_w_fico[target_col], preds,\n",
    "                           title=title, colors = ['r', 'g', 'b'])"
   ]
  },
  {
   "cell_type": "code",
   "execution_count": 30,
   "metadata": {},
   "outputs": [
    {
     "data": {
      "text/plain": [
       "(<Figure size 576x396 with 1 Axes>,\n",
       " <AxesSubplot:title={'center':'AUC-ROC curve: Baseline Comparison'}, xlabel='False Positive Rate', ylabel='True Positive Rate'>)"
      ]
     },
     "execution_count": 30,
     "metadata": {},
     "output_type": "execute_result"
    },
    {
     "data": {
      "image/png": "[encoded data removed]",
      "text/plain": [
       "<Figure size 576x396 with 1 Axes>"
      ]
     },
     "metadata": {},
     "output_type": "display_data"
    }
   ],
   "source": [
    "title = 'AUC-ROC curve: Baseline Comparison'\n",
    "plot_auc_curve_mult(df_w_fico[target_col], preds,\n",
    "                   title=title, colors = ['r', 'g', 'b'])"
   ]
  },
  {
   "cell_type": "markdown",
   "metadata": {},
   "source": [
    "### Check result and output to artifacts\n",
    "---"
   ]
  },
  {
   "cell_type": "code",
   "execution_count": 31,
   "metadata": {},
   "outputs": [
    {
     "data": {
      "text/html": [
       "<div>\n",
       "<style scoped>\n",
       "    .dataframe tbody tr th:only-of-type {\n",
       "        vertical-align: middle;\n",
       "    }\n",
       "\n",
       "    .dataframe tbody tr th {\n",
       "        vertical-align: top;\n",
       "    }\n",
       "\n",
       "    .dataframe thead th {\n",
       "        text-align: right;\n",
       "    }\n",
       "</style>\n",
       "<table border=\"1\" class=\"dataframe\">\n",
       "  <thead>\n",
       "    <tr style=\"text-align: right;\">\n",
       "      <th></th>\n",
       "      <th>fico_pred</th>\n",
       "      <th>deposit_v1_pred</th>\n",
       "      <th>refitted_customer_pred</th>\n",
       "    </tr>\n",
       "  </thead>\n",
       "  <tbody>\n",
       "    <tr>\n",
       "      <th>6013</th>\n",
       "      <td>NaN</td>\n",
       "      <td>0.004101</td>\n",
       "      <td>0.084913</td>\n",
       "    </tr>\n",
       "    <tr>\n",
       "      <th>6452</th>\n",
       "      <td>NaN</td>\n",
       "      <td>0.094721</td>\n",
       "      <td>0.297537</td>\n",
       "    </tr>\n",
       "    <tr>\n",
       "      <th>6457</th>\n",
       "      <td>NaN</td>\n",
       "      <td>0.087164</td>\n",
       "      <td>0.281424</td>\n",
       "    </tr>\n",
       "    <tr>\n",
       "      <th>6458</th>\n",
       "      <td>NaN</td>\n",
       "      <td>0.087164</td>\n",
       "      <td>0.302244</td>\n",
       "    </tr>\n",
       "    <tr>\n",
       "      <th>6460</th>\n",
       "      <td>NaN</td>\n",
       "      <td>0.087164</td>\n",
       "      <td>0.333705</td>\n",
       "    </tr>\n",
       "  </tbody>\n",
       "</table>\n",
       "</div>"
      ],
      "text/plain": [
       "      fico_pred  deposit_v1_pred  refitted_customer_pred\n",
       "6013        NaN         0.004101                0.084913\n",
       "6452        NaN         0.094721                0.297537\n",
       "6457        NaN         0.087164                0.281424\n",
       "6458        NaN         0.087164                0.302244\n",
       "6460        NaN         0.087164                0.333705"
      ]
     },
     "execution_count": 31,
     "metadata": {},
     "output_type": "execute_result"
    }
   ],
   "source": [
    "modeling_df[['fico_pred', 'deposit_v1_pred', 'refitted_customer_pred']].head()"
   ]
  },
  {
   "cell_type": "code",
   "execution_count": 32,
   "metadata": {},
   "outputs": [
    {
     "data": {
      "text/html": [
       "<div>\n",
       "<style scoped>\n",
       "    .dataframe tbody tr th:only-of-type {\n",
       "        vertical-align: middle;\n",
       "    }\n",
       "\n",
       "    .dataframe tbody tr th {\n",
       "        vertical-align: top;\n",
       "    }\n",
       "\n",
       "    .dataframe thead th {\n",
       "        text-align: right;\n",
       "    }\n",
       "</style>\n",
       "<table border=\"1\" class=\"dataframe\">\n",
       "  <thead>\n",
       "    <tr style=\"text-align: right;\">\n",
       "      <th></th>\n",
       "      <th>fico_pred</th>\n",
       "      <th>deposit_v1_pred</th>\n",
       "      <th>refitted_customer_pred</th>\n",
       "    </tr>\n",
       "  </thead>\n",
       "  <tbody>\n",
       "    <tr>\n",
       "      <th>6470</th>\n",
       "      <td>NaN</td>\n",
       "      <td>0.034147</td>\n",
       "      <td>0.011054</td>\n",
       "    </tr>\n",
       "    <tr>\n",
       "      <th>6472</th>\n",
       "      <td>NaN</td>\n",
       "      <td>0.063482</td>\n",
       "      <td>0.006616</td>\n",
       "    </tr>\n",
       "    <tr>\n",
       "      <th>6474</th>\n",
       "      <td>NaN</td>\n",
       "      <td>0.067192</td>\n",
       "      <td>0.024017</td>\n",
       "    </tr>\n",
       "    <tr>\n",
       "      <th>6477</th>\n",
       "      <td>NaN</td>\n",
       "      <td>0.066098</td>\n",
       "      <td>0.014138</td>\n",
       "    </tr>\n",
       "    <tr>\n",
       "      <th>6483</th>\n",
       "      <td>NaN</td>\n",
       "      <td>0.041774</td>\n",
       "      <td>0.015245</td>\n",
       "    </tr>\n",
       "  </tbody>\n",
       "</table>\n",
       "</div>"
      ],
      "text/plain": [
       "      fico_pred  deposit_v1_pred  refitted_customer_pred\n",
       "6470        NaN         0.034147                0.011054\n",
       "6472        NaN         0.063482                0.006616\n",
       "6474        NaN         0.067192                0.024017\n",
       "6477        NaN         0.066098                0.014138\n",
       "6483        NaN         0.041774                0.015245"
      ]
     },
     "execution_count": 32,
     "metadata": {},
     "output_type": "execute_result"
    }
   ],
   "source": [
    "test_df[['fico_pred', 'deposit_v1_pred', 'refitted_customer_pred']].head()"
   ]
  },
  {
   "cell_type": "code",
   "execution_count": 33,
   "metadata": {},
   "outputs": [],
   "source": [
    "modeling_df.to_parquet('../../artifacts/final/modeling_df_w_baselines.parquet')\n",
    "test_df.to_parquet('../../artifacts/final/test_df_w_baselines.parquet')"
   ]
  },
  {
   "cell_type": "code",
   "execution_count": null,
   "metadata": {},
   "outputs": [],
   "source": []
  }
 ],
 "metadata": {
  "kernelspec": {
   "display_name": "conda_deposit_v2",
   "language": "python",
   "name": "conda_deposit_v2"
  },
  "language_info": {
   "codemirror_mode": {
    "name": "ipython",
    "version": 3
   },
   "file_extension": ".py",
   "mimetype": "text/x-python",
   "name": "python",
   "nbconvert_exporter": "python",
   "pygments_lexer": "ipython3",
   "version": "3.7.10"
  }
 },
 "nbformat": 4,
 "nbformat_minor": 4
}
