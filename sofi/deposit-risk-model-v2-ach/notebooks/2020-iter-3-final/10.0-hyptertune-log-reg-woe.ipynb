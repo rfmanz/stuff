{
 "cells": [
  {
   "cell_type": "markdown",
   "metadata": {},
   "source": [
    "## Build Alternative Model With WOE transform\n",
    "---\n",
    "\n",
    "Build models\n",
    "* with WOE applied after feature clipping\n",
    "* log reg\n",
    "* rf"
   ]
  },
  {
   "cell_type": "code",
   "execution_count": 1,
   "metadata": {},
   "outputs": [],
   "source": [
    "# try:\n",
    "#     import autogluon\n",
    "# except:\n",
    "#     !python3 -m pip install --upgrade pip\n",
    "#     !python3 -m pip install --upgrade \"mxnet<2.0.0\"\n",
    "#     !python3 -m pip install autogluon\n",
    "#     !pip install bokeh==2.0.1"
   ]
  },
  {
   "cell_type": "code",
   "execution_count": 2,
   "metadata": {},
   "outputs": [],
   "source": [
    "import os, sys\n",
    "import json\n",
    "import pickle as pkl\n",
    "import pandas as pd\n",
    "# import autogluon as ag\n",
    "# from autogluon import TabularPrediction as task\n",
    "\n",
    "from rdsutils import datagen\n",
    "from rdsutils import plot\n",
    "from utils import preprocess\n",
    "\n",
    "%load_ext autoreload\n",
    "%autoreload 2\n",
    "\n",
    "import warnings\n",
    "warnings.filterwarnings(action='ignore')"
   ]
  },
  {
   "cell_type": "code",
   "execution_count": 3,
   "metadata": {},
   "outputs": [
    {
     "data": {
      "text/plain": [
       "((112599, 241), (152951, 241))"
      ]
     },
     "execution_count": 3,
     "metadata": {},
     "output_type": "execute_result"
    }
   ],
   "source": [
    "modeling_df = pd.read_parquet('../../artifacts/final/modeling_df_w_preds.parquet')\n",
    "test_df = pd.read_parquet('../../artifacts/final/test_df_w_preds.parquet')\n",
    "modeling_df.shape, test_df.shape"
   ]
  },
  {
   "cell_type": "code",
   "execution_count": 4,
   "metadata": {},
   "outputs": [],
   "source": [
    "# # should have been processed in previous iterations\n",
    "modeling_df = preprocess(modeling_df)\n",
    "test_df = preprocess(test_df)"
   ]
  },
  {
   "cell_type": "code",
   "execution_count": 5,
   "metadata": {},
   "outputs": [],
   "source": [
    "seed = 12345\n",
    "target_col = 'ach_target'"
   ]
  },
  {
   "cell_type": "code",
   "execution_count": 6,
   "metadata": {},
   "outputs": [
    {
     "data": {
      "text/plain": [
       "False    108825\n",
       "True       3774\n",
       "Name: ach_target, dtype: int64"
      ]
     },
     "metadata": {},
     "output_type": "display_data"
    },
    {
     "data": {
      "text/plain": [
       "False    145410\n",
       "True       7541\n",
       "Name: ach_target, dtype: int64"
      ]
     },
     "metadata": {},
     "output_type": "display_data"
    }
   ],
   "source": [
    "display(modeling_df[target_col].value_counts(), \n",
    "        test_df[target_col].value_counts())"
   ]
  },
  {
   "cell_type": "markdown",
   "metadata": {},
   "source": [
    "#### Load params and features"
   ]
  },
  {
   "cell_type": "code",
   "execution_count": 7,
   "metadata": {},
   "outputs": [],
   "source": [
    "with open('../../models/ach-model.pkl', 'rb') as f:\n",
    "    model = pkl.load(f)"
   ]
  },
  {
   "cell_type": "code",
   "execution_count": 8,
   "metadata": {},
   "outputs": [],
   "source": [
    "id_col = 'business_account_number'\n",
    "params = model.get_params()\n",
    "features = model.feature_name_"
   ]
  },
  {
   "cell_type": "markdown",
   "metadata": {},
   "source": [
    "#### WOE Transform"
   ]
  },
  {
   "cell_type": "code",
   "execution_count": 9,
   "metadata": {},
   "outputs": [],
   "source": [
    "import numpy as np\n",
    "from rdsutils.woe import WOE_Transform"
   ]
  },
  {
   "cell_type": "code",
   "execution_count": 10,
   "metadata": {},
   "outputs": [
    {
     "name": "stdout",
     "output_type": "stream",
     "text": [
      "processed  26  num attributes\n",
      "\n",
      "transformed num 20\n",
      "\n",
      "CPU times: user 8.07 s, sys: 687 ms, total: 8.76 s\n",
      "Wall time: 8.67 s\n"
     ]
    }
   ],
   "source": [
    "%%time \n",
    "\n",
    "# fit woe\n",
    "woe = WOE_Transform(min_iv=-np.inf)\n",
    "woe.fit(modeling_df[features], modeling_df[target_col].astype(int), display=-1)\n",
    "df = woe.transform(modeling_df[features], train_data=1, keep=False)\n",
    "\n",
    "# merge transformed data and record features\n",
    "modeling_df = modeling_df.merge(df, how='inner', left_index=True, right_index=True)\n",
    "features_woe = modeling_df.columns[modeling_df.columns.str.contains(\"woe\")]"
   ]
  },
  {
   "cell_type": "code",
   "execution_count": 11,
   "metadata": {},
   "outputs": [
    {
     "name": "stdout",
     "output_type": "stream",
     "text": [
      "transformed num 20\n",
      "\n"
     ]
    }
   ],
   "source": [
    "df = woe.transform(test_df[features], train_data=0, keep=False)\n",
    "test_df = test_df.merge(df, how='inner', left_index=True, right_index=True)"
   ]
  },
  {
   "cell_type": "code",
   "execution_count": 12,
   "metadata": {},
   "outputs": [
    {
     "data": {
      "text/html": [
       "<div>\n",
       "<style scoped>\n",
       "    .dataframe tbody tr th:only-of-type {\n",
       "        vertical-align: middle;\n",
       "    }\n",
       "\n",
       "    .dataframe tbody tr th {\n",
       "        vertical-align: top;\n",
       "    }\n",
       "\n",
       "    .dataframe thead th {\n",
       "        text-align: right;\n",
       "    }\n",
       "</style>\n",
       "<table border=\"1\" class=\"dataframe\">\n",
       "  <thead>\n",
       "    <tr style=\"text-align: right;\">\n",
       "      <th></th>\n",
       "      <th>vantage_score_woe</th>\n",
       "      <th>first_deposit_amount_woe</th>\n",
       "      <th>bcc7120_woe</th>\n",
       "      <th>credit_card_loan_amount_woe</th>\n",
       "      <th>plaid_max_avail_bal_woe</th>\n",
       "      <th>total_tradelines_open_woe</th>\n",
       "      <th>plaid_days_since_first_link_woe</th>\n",
       "      <th>nr_transactions_30d_div_nr_past_transactions_woe</th>\n",
       "      <th>plaid_min_avail_bal_woe</th>\n",
       "      <th>nr_transactions_per_day_woe</th>\n",
       "      <th>...</th>\n",
       "      <th>phone_risk_score_woe</th>\n",
       "      <th>quovo_available_bal_woe</th>\n",
       "      <th>email_risk_score_woe</th>\n",
       "      <th>deposits_ratio_woe</th>\n",
       "      <th>fraud_score_1_woe</th>\n",
       "      <th>mean_deposits_10d_div_mean_deposits_woe</th>\n",
       "      <th>fraud_score_2_woe</th>\n",
       "      <th>nr_past_deposits_woe</th>\n",
       "      <th>quovo_min_avail_bal_woe</th>\n",
       "      <th>address_risk_score_woe</th>\n",
       "    </tr>\n",
       "  </thead>\n",
       "  <tbody>\n",
       "    <tr>\n",
       "      <th>6013</th>\n",
       "      <td>-0.619</td>\n",
       "      <td>-0.7765</td>\n",
       "      <td>1.0849</td>\n",
       "      <td>0.9454</td>\n",
       "      <td>-0.2405</td>\n",
       "      <td>1.0071</td>\n",
       "      <td>-0.9554</td>\n",
       "      <td>-1.4264</td>\n",
       "      <td>-0.2405</td>\n",
       "      <td>-0.1264</td>\n",
       "      <td>...</td>\n",
       "      <td>-1.2295</td>\n",
       "      <td>0.5332</td>\n",
       "      <td>-0.6591</td>\n",
       "      <td>-0.9281</td>\n",
       "      <td>-1.2511</td>\n",
       "      <td>0.3065</td>\n",
       "      <td>-0.5257</td>\n",
       "      <td>-1.6798</td>\n",
       "      <td>0.5332</td>\n",
       "      <td>-0.8118</td>\n",
       "    </tr>\n",
       "    <tr>\n",
       "      <th>6452</th>\n",
       "      <td>-0.619</td>\n",
       "      <td>-0.7765</td>\n",
       "      <td>1.0849</td>\n",
       "      <td>0.9454</td>\n",
       "      <td>-0.2405</td>\n",
       "      <td>1.0071</td>\n",
       "      <td>-0.9554</td>\n",
       "      <td>-1.4264</td>\n",
       "      <td>-0.2405</td>\n",
       "      <td>-0.1264</td>\n",
       "      <td>...</td>\n",
       "      <td>-1.2295</td>\n",
       "      <td>0.1177</td>\n",
       "      <td>-0.6591</td>\n",
       "      <td>-0.8447</td>\n",
       "      <td>0.3229</td>\n",
       "      <td>-0.6188</td>\n",
       "      <td>-0.5257</td>\n",
       "      <td>-1.3427</td>\n",
       "      <td>-0.2041</td>\n",
       "      <td>0.0362</td>\n",
       "    </tr>\n",
       "    <tr>\n",
       "      <th>6457</th>\n",
       "      <td>-0.619</td>\n",
       "      <td>-0.7765</td>\n",
       "      <td>1.0849</td>\n",
       "      <td>0.9454</td>\n",
       "      <td>-0.2405</td>\n",
       "      <td>1.0071</td>\n",
       "      <td>-0.9554</td>\n",
       "      <td>-1.4264</td>\n",
       "      <td>-0.2405</td>\n",
       "      <td>-0.1264</td>\n",
       "      <td>...</td>\n",
       "      <td>-1.2295</td>\n",
       "      <td>0.1177</td>\n",
       "      <td>-0.6591</td>\n",
       "      <td>-0.9281</td>\n",
       "      <td>0.3229</td>\n",
       "      <td>-0.6188</td>\n",
       "      <td>-0.5257</td>\n",
       "      <td>-1.3427</td>\n",
       "      <td>-0.2041</td>\n",
       "      <td>0.0362</td>\n",
       "    </tr>\n",
       "    <tr>\n",
       "      <th>6458</th>\n",
       "      <td>-0.619</td>\n",
       "      <td>-0.7765</td>\n",
       "      <td>1.0849</td>\n",
       "      <td>0.9454</td>\n",
       "      <td>-0.2405</td>\n",
       "      <td>1.0071</td>\n",
       "      <td>-0.9554</td>\n",
       "      <td>-1.4264</td>\n",
       "      <td>-0.2405</td>\n",
       "      <td>-0.1264</td>\n",
       "      <td>...</td>\n",
       "      <td>-1.2295</td>\n",
       "      <td>0.1177</td>\n",
       "      <td>-0.6591</td>\n",
       "      <td>-0.9281</td>\n",
       "      <td>0.3229</td>\n",
       "      <td>-0.6188</td>\n",
       "      <td>-0.5257</td>\n",
       "      <td>-1.3427</td>\n",
       "      <td>-0.2041</td>\n",
       "      <td>0.0362</td>\n",
       "    </tr>\n",
       "    <tr>\n",
       "      <th>6460</th>\n",
       "      <td>-0.619</td>\n",
       "      <td>-0.7765</td>\n",
       "      <td>1.0849</td>\n",
       "      <td>0.9454</td>\n",
       "      <td>-0.2405</td>\n",
       "      <td>1.0071</td>\n",
       "      <td>-0.9554</td>\n",
       "      <td>-1.4264</td>\n",
       "      <td>-0.2405</td>\n",
       "      <td>-0.1264</td>\n",
       "      <td>...</td>\n",
       "      <td>-1.2295</td>\n",
       "      <td>0.1177</td>\n",
       "      <td>-0.6591</td>\n",
       "      <td>-0.8447</td>\n",
       "      <td>0.3229</td>\n",
       "      <td>-0.6188</td>\n",
       "      <td>-0.5257</td>\n",
       "      <td>-1.3427</td>\n",
       "      <td>-0.2041</td>\n",
       "      <td>0.0362</td>\n",
       "    </tr>\n",
       "  </tbody>\n",
       "</table>\n",
       "<p>5 rows × 26 columns</p>\n",
       "</div>"
      ],
      "text/plain": [
       "      vantage_score_woe  first_deposit_amount_woe  bcc7120_woe  \\\n",
       "6013             -0.619                   -0.7765       1.0849   \n",
       "6452             -0.619                   -0.7765       1.0849   \n",
       "6457             -0.619                   -0.7765       1.0849   \n",
       "6458             -0.619                   -0.7765       1.0849   \n",
       "6460             -0.619                   -0.7765       1.0849   \n",
       "\n",
       "      credit_card_loan_amount_woe  plaid_max_avail_bal_woe  \\\n",
       "6013                       0.9454                  -0.2405   \n",
       "6452                       0.9454                  -0.2405   \n",
       "6457                       0.9454                  -0.2405   \n",
       "6458                       0.9454                  -0.2405   \n",
       "6460                       0.9454                  -0.2405   \n",
       "\n",
       "      total_tradelines_open_woe  plaid_days_since_first_link_woe  \\\n",
       "6013                     1.0071                          -0.9554   \n",
       "6452                     1.0071                          -0.9554   \n",
       "6457                     1.0071                          -0.9554   \n",
       "6458                     1.0071                          -0.9554   \n",
       "6460                     1.0071                          -0.9554   \n",
       "\n",
       "      nr_transactions_30d_div_nr_past_transactions_woe  \\\n",
       "6013                                           -1.4264   \n",
       "6452                                           -1.4264   \n",
       "6457                                           -1.4264   \n",
       "6458                                           -1.4264   \n",
       "6460                                           -1.4264   \n",
       "\n",
       "      plaid_min_avail_bal_woe  nr_transactions_per_day_woe  ...  \\\n",
       "6013                  -0.2405                      -0.1264  ...   \n",
       "6452                  -0.2405                      -0.1264  ...   \n",
       "6457                  -0.2405                      -0.1264  ...   \n",
       "6458                  -0.2405                      -0.1264  ...   \n",
       "6460                  -0.2405                      -0.1264  ...   \n",
       "\n",
       "      phone_risk_score_woe  quovo_available_bal_woe  email_risk_score_woe  \\\n",
       "6013               -1.2295                   0.5332               -0.6591   \n",
       "6452               -1.2295                   0.1177               -0.6591   \n",
       "6457               -1.2295                   0.1177               -0.6591   \n",
       "6458               -1.2295                   0.1177               -0.6591   \n",
       "6460               -1.2295                   0.1177               -0.6591   \n",
       "\n",
       "      deposits_ratio_woe  fraud_score_1_woe  \\\n",
       "6013             -0.9281            -1.2511   \n",
       "6452             -0.8447             0.3229   \n",
       "6457             -0.9281             0.3229   \n",
       "6458             -0.9281             0.3229   \n",
       "6460             -0.8447             0.3229   \n",
       "\n",
       "      mean_deposits_10d_div_mean_deposits_woe  fraud_score_2_woe  \\\n",
       "6013                                   0.3065            -0.5257   \n",
       "6452                                  -0.6188            -0.5257   \n",
       "6457                                  -0.6188            -0.5257   \n",
       "6458                                  -0.6188            -0.5257   \n",
       "6460                                  -0.6188            -0.5257   \n",
       "\n",
       "      nr_past_deposits_woe  quovo_min_avail_bal_woe  address_risk_score_woe  \n",
       "6013               -1.6798                   0.5332                 -0.8118  \n",
       "6452               -1.3427                  -0.2041                  0.0362  \n",
       "6457               -1.3427                  -0.2041                  0.0362  \n",
       "6458               -1.3427                  -0.2041                  0.0362  \n",
       "6460               -1.3427                  -0.2041                  0.0362  \n",
       "\n",
       "[5 rows x 26 columns]"
      ]
     },
     "execution_count": 12,
     "metadata": {},
     "output_type": "execute_result"
    }
   ],
   "source": [
    "features = [f+'_woe' for f in features]\n",
    "modeling_df[features].head()"
   ]
  },
  {
   "cell_type": "markdown",
   "metadata": {},
   "source": [
    "### Train-test-split\n",
    "---"
   ]
  },
  {
   "cell_type": "code",
   "execution_count": 13,
   "metadata": {},
   "outputs": [],
   "source": [
    "modeling_dfs = datagen.GroupKFoldGenerator(modeling_df, 5, seed=seed,\n",
    "                              strategize_by='ach_target', \n",
    "                              groupby='business_account_number')\n",
    "train, test = next(modeling_dfs)"
   ]
  },
  {
   "cell_type": "code",
   "execution_count": 14,
   "metadata": {},
   "outputs": [],
   "source": [
    "modeling_dfs_ = datagen.GroupKFoldGenerator(train, 4, seed=seed,\n",
    "                              strategize_by='ach_target', \n",
    "                              groupby='business_account_number')\n",
    "train, valid = next(modeling_dfs_)"
   ]
  },
  {
   "cell_type": "code",
   "execution_count": 15,
   "metadata": {},
   "outputs": [
    {
     "data": {
      "text/plain": [
       "((67559, 269), (22520, 269), (22520, 269), (112599, 269))"
      ]
     },
     "execution_count": 15,
     "metadata": {},
     "output_type": "execute_result"
    }
   ],
   "source": [
    "train.shape, valid.shape, test.shape, modeling_df.shape"
   ]
  },
  {
   "cell_type": "markdown",
   "metadata": {},
   "source": [
    "### AutoGluon Data\n",
    "---"
   ]
  },
  {
   "cell_type": "code",
   "execution_count": 16,
   "metadata": {},
   "outputs": [],
   "source": [
    "pos_wgt_scaling_factor = datagen.get_positive_label_weight(modeling_df[target_col])\n",
    "\n",
    "# train_data = task.Dataset(df=train[features+[target_col]+[id_col]])\n",
    "# valid_data = task.Dataset(df=valid[features+[target_col]+[id_col]])\n",
    "# test_data = task.Dataset(df=test[features+[target_col]+[id_col]])"
   ]
  },
  {
   "cell_type": "code",
   "execution_count": 17,
   "metadata": {},
   "outputs": [],
   "source": [
    "# train_data.head()"
   ]
  },
  {
   "cell_type": "markdown",
   "metadata": {},
   "source": [
    "### LR Train Models\n",
    "---"
   ]
  },
  {
   "cell_type": "code",
   "execution_count": 18,
   "metadata": {},
   "outputs": [],
   "source": [
    "# Just use sklearn\n",
    "\n",
    "from scipy.stats import uniform\n",
    "from sklearn import linear_model, datasets\n",
    "from sklearn.model_selection import RandomizedSearchCV"
   ]
  },
  {
   "cell_type": "code",
   "execution_count": 19,
   "metadata": {},
   "outputs": [],
   "source": [
    "logistic = linear_model.LogisticRegression(class_weight={True: 28.835453100158983, False: 1})\n",
    "\n",
    "# Create regularization penalty space\n",
    "penalty = ['l1', 'l2']\n",
    "\n",
    "# Create regularization hyperparameter distribution using uniform distribution\n",
    "C = uniform(loc=0, scale=10)\n",
    "\n",
    "# Create hyperparameter options\n",
    "hyperparameters = dict(C=C, penalty=penalty)"
   ]
  },
  {
   "cell_type": "code",
   "execution_count": 20,
   "metadata": {},
   "outputs": [],
   "source": [
    "# Create randomized search 5-fold cross validation and 100 iterations\n",
    "clf = RandomizedSearchCV(logistic, hyperparameters, random_state=1, n_iter=20, cv=5, verbose=0, n_jobs=-1)"
   ]
  },
  {
   "cell_type": "code",
   "execution_count": 21,
   "metadata": {},
   "outputs": [
    {
     "name": "stdout",
     "output_type": "stream",
     "text": [
      "CPU times: user 3.73 s, sys: 3.13 s, total: 6.86 s\n",
      "Wall time: 4.2 s\n"
     ]
    }
   ],
   "source": [
    "%%time\n",
    "\n",
    "# Fit randomized search\n",
    "X = train[features_woe]\n",
    "y = train[target_col]\n",
    "best_model = clf.fit(X, y, groups=train[id_col])"
   ]
  },
  {
   "cell_type": "code",
   "execution_count": 22,
   "metadata": {},
   "outputs": [
    {
     "data": {
      "text/plain": [
       "{'C': 9.325573593386588,\n",
       " 'class_weight': {True: 28.835453100158983, False: 1},\n",
       " 'dual': False,\n",
       " 'fit_intercept': True,\n",
       " 'intercept_scaling': 1,\n",
       " 'l1_ratio': None,\n",
       " 'max_iter': 100,\n",
       " 'multi_class': 'auto',\n",
       " 'n_jobs': None,\n",
       " 'penalty': 'l2',\n",
       " 'random_state': None,\n",
       " 'solver': 'lbfgs',\n",
       " 'tol': 0.0001,\n",
       " 'verbose': 0,\n",
       " 'warm_start': False}"
      ]
     },
     "execution_count": 22,
     "metadata": {},
     "output_type": "execute_result"
    }
   ],
   "source": [
    "best_model.best_estimator_.get_params()"
   ]
  },
  {
   "cell_type": "code",
   "execution_count": 23,
   "metadata": {},
   "outputs": [
    {
     "data": {
      "text/plain": [
       "LogisticRegression(C=9.325573593386588,\n",
       "                   class_weight={False: 1, True: 28.835453100158983})"
      ]
     },
     "execution_count": 23,
     "metadata": {},
     "output_type": "execute_result"
    }
   ],
   "source": [
    "best_model.best_estimator_"
   ]
  },
  {
   "cell_type": "code",
   "execution_count": 24,
   "metadata": {},
   "outputs": [],
   "source": [
    "import pickle as pkl\n",
    "\n",
    "with open(\"../../artifacts/final/log-reg.pkl\", \"wb\") as f:\n",
    "    pkl.dump(best_model.best_estimator_, f)"
   ]
  },
  {
   "cell_type": "code",
   "execution_count": null,
   "metadata": {},
   "outputs": [],
   "source": []
  },
  {
   "cell_type": "markdown",
   "metadata": {},
   "source": [
    "### RF\n",
    "---"
   ]
  },
  {
   "cell_type": "code",
   "execution_count": 25,
   "metadata": {},
   "outputs": [
    {
     "name": "stdout",
     "output_type": "stream",
     "text": [
      "Parameters currently in use:\n",
      "\n",
      "{'bootstrap': True,\n",
      " 'ccp_alpha': 0.0,\n",
      " 'class_weight': {False: 1, True: 28.835453100158983},\n",
      " 'criterion': 'gini',\n",
      " 'max_depth': None,\n",
      " 'max_features': 'auto',\n",
      " 'max_leaf_nodes': None,\n",
      " 'max_samples': None,\n",
      " 'min_impurity_decrease': 0.0,\n",
      " 'min_impurity_split': None,\n",
      " 'min_samples_leaf': 1,\n",
      " 'min_samples_split': 2,\n",
      " 'min_weight_fraction_leaf': 0.0,\n",
      " 'n_estimators': 100,\n",
      " 'n_jobs': None,\n",
      " 'oob_score': False,\n",
      " 'random_state': 42,\n",
      " 'verbose': 0,\n",
      " 'warm_start': False}\n"
     ]
    }
   ],
   "source": [
    "from sklearn.ensemble import RandomForestClassifier\n",
    "from scipy.stats import uniform, truncnorm, randint\n",
    "\n",
    "rf = RandomForestClassifier(random_state=42, \n",
    "                            class_weight={True: 28.835453100158983, False: 1})\n",
    "from pprint import pprint\n",
    "\n",
    "# Look at parameters used by our current forest\n",
    "print('Parameters currently in use:\\n')\n",
    "pprint(rf.get_params())\n"
   ]
  },
  {
   "cell_type": "code",
   "execution_count": 26,
   "metadata": {},
   "outputs": [],
   "source": [
    "model_params = {\n",
    "    'n_estimators': randint(4,500),\n",
    "    'max_features': truncnorm(a=0, b=1, loc=0.25, scale=0.1),\n",
    "    'min_samples_split': uniform(0.01, 0.199),\n",
    "    'max_depth': uniform(3, 3)\n",
    "}"
   ]
  },
  {
   "cell_type": "code",
   "execution_count": 27,
   "metadata": {},
   "outputs": [],
   "source": [
    "# Create randomized search 5-fold cross validation and 100 iterations\n",
    "clf = RandomizedSearchCV(rf, model_params, random_state=1, n_iter=20, cv=5, verbose=0, n_jobs=-1)"
   ]
  },
  {
   "cell_type": "code",
   "execution_count": 28,
   "metadata": {},
   "outputs": [
    {
     "name": "stdout",
     "output_type": "stream",
     "text": [
      "CPU times: user 7.54 s, sys: 52.4 ms, total: 7.59 s\n",
      "Wall time: 59 s\n"
     ]
    }
   ],
   "source": [
    "%%time\n",
    "\n",
    "# Fit randomized search\n",
    "X = train[features_woe]\n",
    "y = train[target_col]\n",
    "best_model = clf.fit(X, y, groups=train[id_col])"
   ]
  },
  {
   "cell_type": "code",
   "execution_count": 29,
   "metadata": {},
   "outputs": [
    {
     "data": {
      "text/plain": [
       "{'bootstrap': True,\n",
       " 'ccp_alpha': 0.0,\n",
       " 'class_weight': {True: 28.835453100158983, False: 1},\n",
       " 'criterion': 'gini',\n",
       " 'max_depth': 4.251066014107722,\n",
       " 'max_features': 0.3161577490440254,\n",
       " 'max_leaf_nodes': None,\n",
       " 'max_samples': None,\n",
       " 'min_impurity_decrease': 0.0,\n",
       " 'min_impurity_split': None,\n",
       " 'min_samples_leaf': 1,\n",
       " 'min_samples_split': 0.010022760588651633,\n",
       " 'min_weight_fraction_leaf': 0.0,\n",
       " 'n_estimators': 207,\n",
       " 'n_jobs': None,\n",
       " 'oob_score': False,\n",
       " 'random_state': 42,\n",
       " 'verbose': 0,\n",
       " 'warm_start': False}"
      ]
     },
     "execution_count": 29,
     "metadata": {},
     "output_type": "execute_result"
    }
   ],
   "source": [
    "best_model.best_estimator_.get_params()"
   ]
  },
  {
   "cell_type": "code",
   "execution_count": 30,
   "metadata": {},
   "outputs": [],
   "source": [
    "import pickle as pkl\n",
    "\n",
    "with open(\"../../artifacts/final/random-forest.pkl\", \"wb\") as f:\n",
    "    pkl.dump(best_model.best_estimator_, f)"
   ]
  },
  {
   "cell_type": "code",
   "execution_count": null,
   "metadata": {},
   "outputs": [],
   "source": []
  }
 ],
 "metadata": {
  "kernelspec": {
   "display_name": "conda_ml_basic_py37",
   "language": "python",
   "name": "conda_ml_basic_py37"
  },
  "language_info": {
   "codemirror_mode": {
    "name": "ipython",
    "version": 3
   },
   "file_extension": ".py",
   "mimetype": "text/x-python",
   "name": "python",
   "nbconvert_exporter": "python",
   "pygments_lexer": "ipython3",
   "version": "3.7.8"
  }
 },
 "nbformat": 4,
 "nbformat_minor": 4
}
