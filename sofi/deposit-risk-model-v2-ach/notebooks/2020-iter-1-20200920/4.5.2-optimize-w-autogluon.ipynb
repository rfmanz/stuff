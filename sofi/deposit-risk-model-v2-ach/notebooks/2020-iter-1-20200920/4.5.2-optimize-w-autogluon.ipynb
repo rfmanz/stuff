{
 "cells": [
  {
   "cell_type": "markdown",
   "metadata": {},
   "source": [
    "### Optimize ACH with AutoGluon\n",
    "---\n",
    "- See example [here](https://github.com/aws/amazon-sagemaker-examples/tree/master/advanced_functionality/autogluon-tabular).\n",
    "- [Quick Start](https://autogluon.mxnet.io/tutorials/tabular_prediction/tabular-quickstart.html)\n",
    "- [In-Depth](https://autogluon.mxnet.io/tutorials/tabular_prediction/tabular-indepth.html#model-distillation)\n",
    "- [Tabular-fit api](https://autogluon.mxnet.io/api/autogluon.task.html#autogluon.task.TabularPrediction.fit)"
   ]
  },
  {
   "cell_type": "code",
   "execution_count": 1,
   "metadata": {},
   "outputs": [],
   "source": [
    "# !pip uninstall rdsutils --yes\n",
    "# !pip install -i https://repository.sofi.com/artifactory/api/pypi/pypi/simple rdsutils --no-cache-dir"
   ]
  },
  {
   "cell_type": "markdown",
   "metadata": {},
   "source": [
    "#### Installation"
   ]
  },
  {
   "cell_type": "code",
   "execution_count": 2,
   "metadata": {},
   "outputs": [],
   "source": [
    "# !python3 -m pip install --upgrade pip\n",
    "# !python3 -m pip install --upgrade \"mxnet<2.0.0\"\n",
    "# !python3 -m pip install autogluon\n",
    "# !pip install bokeh==2.0.1"
   ]
  },
  {
   "cell_type": "markdown",
   "metadata": {},
   "source": [
    "#### Import modules"
   ]
  },
  {
   "cell_type": "code",
   "execution_count": 3,
   "metadata": {},
   "outputs": [],
   "source": [
    "import os, sys\n",
    "import pickle as pkl\n",
    "import pandas as pd\n",
    "import autogluon as ag\n",
    "from autogluon import TabularPrediction as task\n",
    "\n",
    "from rdsutils import datagen\n",
    "from rdsutils import plot\n",
    "\n",
    "%load_ext autoreload\n",
    "%autoreload 2\n",
    "\n",
    "import warnings\n",
    "warnings.filterwarnings(action='ignore')"
   ]
  },
  {
   "cell_type": "markdown",
   "metadata": {},
   "source": [
    "#### Load and Clean data"
   ]
  },
  {
   "cell_type": "code",
   "execution_count": 4,
   "metadata": {},
   "outputs": [],
   "source": [
    "modeling_df = pd.read_parquet('../../artifacts/20200920/modeling_df_w_baseline_preds.parquet')\n",
    "modeling_df['account_ending_balance'] = modeling_df['real_ending_balance']\n",
    "modeling_df['days_since_first_transaction'] = modeling_df['days_since_first_deposit']\n",
    "modeling_df['ach_target'] = modeling_df['is_returned']"
   ]
  },
  {
   "cell_type": "code",
   "execution_count": 5,
   "metadata": {},
   "outputs": [
    {
     "data": {
      "text/plain": [
       "dict_keys(['features', 'label_cols', 'base_features', 'record_missing', 'record_single_unique', 'record_collinear', 'record_boruta_importance', 'record_iv', 'ops', 'woe', 'acceptable_corr_range', 'record_collinear_pairs', 'missing_threshold'])"
      ]
     },
     "metadata": {},
     "output_type": "display_data"
    }
   ],
   "source": [
    "# get boruta features\n",
    "fsel = pkl.load(open('../../artifacts/20200920/feature_selector_dict.pkl', 'rb'))\n",
    "display(fsel.keys())\n",
    "boruta_fimp = fsel['record_boruta_importance']\n",
    "boruta_features = boruta_fimp[boruta_fimp.score>40].feature.to_list()"
   ]
  },
  {
   "cell_type": "code",
   "execution_count": 6,
   "metadata": {},
   "outputs": [],
   "source": [
    "# remove indeterminates\n"
   ]
  },
  {
   "cell_type": "markdown",
   "metadata": {},
   "source": [
    "#### Train Test Split"
   ]
  },
  {
   "cell_type": "code",
   "execution_count": 9,
   "metadata": {},
   "outputs": [],
   "source": [
    "modeling_dfs = datagen.GroupKFoldGenerator(modeling_df, 5, \n",
    "                              strategize_by='ach_target', \n",
    "                              groupby='business_account_number')\n",
    "train, test = next(modeling_dfs)"
   ]
  },
  {
   "cell_type": "code",
   "execution_count": 10,
   "metadata": {},
   "outputs": [],
   "source": [
    "modeling_dfs_ = datagen.GroupKFoldGenerator(train, 4, \n",
    "                              strategize_by='ach_target', \n",
    "                              groupby='business_account_number')\n",
    "train, valid = next(modeling_dfs_)"
   ]
  },
  {
   "cell_type": "code",
   "execution_count": 11,
   "metadata": {},
   "outputs": [
    {
     "data": {
      "text/plain": [
       "((67559, 177), (22520, 177), (22520, 177), (112599, 177))"
      ]
     },
     "execution_count": 11,
     "metadata": {},
     "output_type": "execute_result"
    }
   ],
   "source": [
    "train.shape, valid.shape, test.shape, modeling_df.shape"
   ]
  },
  {
   "cell_type": "markdown",
   "metadata": {},
   "source": [
    "#### Set AutoGluon Datasets"
   ]
  },
  {
   "cell_type": "code",
   "execution_count": 12,
   "metadata": {},
   "outputs": [],
   "source": [
    "target_col = 'ach_target'\n",
    "features = boruta_features\n",
    "id_col = 'business_account_number'\n",
    "pos_wgt_scaling_factor = datagen.get_positive_label_weight(train[target_col])\n",
    "\n",
    "train_data = task.Dataset(df=train[features+[target_col]+[id_col]])\n",
    "valid_data = task.Dataset(df=valid[features+[target_col]+[id_col]])\n",
    "test_data = task.Dataset(df=test[features+[target_col]+[id_col]])"
   ]
  },
  {
   "cell_type": "code",
   "execution_count": 13,
   "metadata": {},
   "outputs": [
    {
     "data": {
      "text/html": [
       "<div>\n",
       "<style scoped>\n",
       "    .dataframe tbody tr th:only-of-type {\n",
       "        vertical-align: middle;\n",
       "    }\n",
       "\n",
       "    .dataframe tbody tr th {\n",
       "        vertical-align: top;\n",
       "    }\n",
       "\n",
       "    .dataframe thead th {\n",
       "        text-align: right;\n",
       "    }\n",
       "</style>\n",
       "<table border=\"1\" class=\"dataframe\">\n",
       "  <thead>\n",
       "    <tr style=\"text-align: right;\">\n",
       "      <th></th>\n",
       "      <th>first_deposit_amount</th>\n",
       "      <th>vantage_score</th>\n",
       "      <th>ach_target</th>\n",
       "      <th>business_account_number</th>\n",
       "    </tr>\n",
       "  </thead>\n",
       "  <tbody>\n",
       "    <tr>\n",
       "      <th>5859</th>\n",
       "      <td>100.0</td>\n",
       "      <td>NaN</td>\n",
       "      <td>False</td>\n",
       "      <td>410000070632</td>\n",
       "    </tr>\n",
       "    <tr>\n",
       "      <th>7761</th>\n",
       "      <td>10.0</td>\n",
       "      <td>NaN</td>\n",
       "      <td>False</td>\n",
       "      <td>410000070650</td>\n",
       "    </tr>\n",
       "    <tr>\n",
       "      <th>7784</th>\n",
       "      <td>10.0</td>\n",
       "      <td>NaN</td>\n",
       "      <td>False</td>\n",
       "      <td>410000070650</td>\n",
       "    </tr>\n",
       "    <tr>\n",
       "      <th>7789</th>\n",
       "      <td>10.0</td>\n",
       "      <td>NaN</td>\n",
       "      <td>False</td>\n",
       "      <td>410000070650</td>\n",
       "    </tr>\n",
       "    <tr>\n",
       "      <th>7796</th>\n",
       "      <td>10.0</td>\n",
       "      <td>NaN</td>\n",
       "      <td>False</td>\n",
       "      <td>410000070650</td>\n",
       "    </tr>\n",
       "  </tbody>\n",
       "</table>\n",
       "</div>"
      ],
      "text/plain": [
       "      first_deposit_amount  vantage_score  ach_target  business_account_number\n",
       "5859                 100.0            NaN       False             410000070632\n",
       "7761                  10.0            NaN       False             410000070650\n",
       "7784                  10.0            NaN       False             410000070650\n",
       "7789                  10.0            NaN       False             410000070650\n",
       "7796                  10.0            NaN       False             410000070650"
      ]
     },
     "execution_count": 13,
     "metadata": {},
     "output_type": "execute_result"
    }
   ],
   "source": [
    "train_data.head()"
   ]
  },
  {
   "cell_type": "markdown",
   "metadata": {},
   "source": [
    "#### Train Models"
   ]
  },
  {
   "cell_type": "markdown",
   "metadata": {},
   "source": [
    "`fit` documentations: [here](https://autogluon.mxnet.io/api/autogluon.task.html#autogluon.task.TabularPrediction.fit)"
   ]
  },
  {
   "cell_type": "code",
   "execution_count": 14,
   "metadata": {},
   "outputs": [
    {
     "name": "stderr",
     "output_type": "stream",
     "text": [
      "Warning: `hyperparameter_tune=True` is currently experimental and may cause the process to hang. Setting `auto_stack=True` instead is recommended to achieve maximum quality models.\n",
      "Beginning AutoGluon training ... Time limit = 600s\n",
      "AutoGluon will save models to ../../artifacts/autogluon-ach/\n",
      "AutoGluon Version:  0.0.14\n",
      "Train Data Rows:    67559\n",
      "Train Data Columns: 3\n",
      "Tuning Data Rows:    22520\n",
      "Tuning Data Columns: 3\n",
      "Preprocessing data ...\n",
      "AutoGluon infers your prediction problem is: 'binary' (because only two unique label-values observed).\n",
      "\t2 unique label values:  [False, True]\n",
      "\tIf 'binary' is not the correct problem_type, please manually specify the problem_type argument in fit() (You may specify problem_type as one of: ['binary', 'multiclass', 'regression'])\n",
      "Selected class <--> label mapping:  class 1 = True, class 0 = False\n",
      "Using Feature Generators to preprocess the data ...\n",
      "Fitting AutoMLPipelineFeatureGenerator...\n",
      "\tAvailable Memory:                    60277.73 MB\n",
      "\tTrain Data (Original)  Memory Usage: 2.16 MB (0.0% of available memory)\n",
      "\tInferring data type of each feature based on column values. Set feature_metadata_in to manually specify special dtypes of the features.\n",
      "\tStage 1 Generators:\n",
      "\t\tFitting AsTypeFeatureGenerator...\n",
      "\tStage 2 Generators:\n",
      "\t\tFitting FillNaFeatureGenerator...\n",
      "\tStage 3 Generators:\n",
      "\t\tFitting IdentityFeatureGenerator...\n",
      "\tStage 4 Generators:\n",
      "\t\tFitting DropUniqueFeatureGenerator...\n",
      "\tTypes of features in original data (raw dtype, special dtypes):\n",
      "\t\t('float', []) : 2 | ['first_deposit_amount', 'vantage_score']\n",
      "\t\t('int', [])   : 1 | ['business_account_number']\n",
      "\tTypes of features in processed data (raw dtype, special dtypes):\n",
      "\t\t('float', []) : 2 | ['first_deposit_amount', 'vantage_score']\n",
      "\t\t('int', [])   : 1 | ['business_account_number']\n",
      "\t0.0s = Fit runtime\n",
      "\t3 features in original data used to generate 3 features in processed data.\n",
      "\tTrain Data (Processed) Memory Usage: 2.16 MB (0.0% of available memory)\n",
      "Data preprocessing and feature engineering runtime = 0.15s ...\n",
      "AutoGluon will gauge predictive performance using evaluation metric: 'f1'\n",
      "\tTo change this, specify the eval_metric argument of fit()\n",
      "AutoGluon will early stop models using evaluation metric: 'f1'\n",
      "scheduler_options: Key 'training_history_callback_delta_secs': Imputing default value 60\n",
      "scheduler_options: Key 'delay_get_config': Imputing default value True\n",
      "\n",
      "Starting Experiments\n",
      "Num of Finished Tasks is 0\n",
      "Num of Pending Tasks is 1000\n"
     ]
    },
    {
     "data": {
      "application/vnd.jupyter.widget-view+json": {
       "model_id": "5d5865c3d9f7457699bfbd0a4149241c",
       "version_major": 2,
       "version_minor": 0
      },
      "text/plain": [
       "HBox(children=(HTML(value=''), FloatProgress(value=0.0, max=1000.0), HTML(value='')))"
      ]
     },
     "metadata": {},
     "output_type": "display_data"
    },
    {
     "name": "stderr",
     "output_type": "stream",
     "text": [
      "Time out (secs) is 270.0\n",
      "\tRan out of time, early stopping on iteration 37. Best iteration is:\n",
      "\t[7]\ttrain_set's binary_logloss: 0.238279\ttrain_set's f1: 0.446898\tvalid_set's binary_logloss: 0.233729\tvalid_set's f1: 0.479735\n"
     ]
    },
    {
     "name": "stdout",
     "output_type": "stream",
     "text": [
      "\n"
     ]
    },
    {
     "name": "stderr",
     "output_type": "stream",
     "text": [
      "\t0.4666\t = Validation f1 score\n",
      "\t12.02s\t = Training runtime\n",
      "\t0.01s\t = Validation runtime\n",
      "\t0.4808\t = Validation f1 score\n",
      "\t7.99s\t = Training runtime\n",
      "\t0.0s\t = Validation runtime\n",
      "\t0.4748\t = Validation f1 score\n",
      "\t9.16s\t = Training runtime\n",
      "\t0.01s\t = Validation runtime\n",
      "\t0.4797\t = Validation f1 score\n",
      "\t7.9s\t = Training runtime\n",
      "\t0.01s\t = Validation runtime\n",
      "\t0.4665\t = Validation f1 score\n",
      "\t11.25s\t = Training runtime\n",
      "\t0.01s\t = Validation runtime\n",
      "\t0.4806\t = Validation f1 score\n",
      "\t8.39s\t = Training runtime\n",
      "\t0.01s\t = Validation runtime\n",
      "\t0.4817\t = Validation f1 score\n",
      "\t8.11s\t = Training runtime\n",
      "\t0.01s\t = Validation runtime\n",
      "\t0.0\t = Validation f1 score\n",
      "\t5.11s\t = Training runtime\n",
      "\t0.0s\t = Validation runtime\n",
      "\t0.46\t = Validation f1 score\n",
      "\t7.85s\t = Training runtime\n",
      "\t0.0s\t = Validation runtime\n",
      "\t0.4801\t = Validation f1 score\n",
      "\t7.64s\t = Training runtime\n",
      "\t0.0s\t = Validation runtime\n",
      "\t0.4797\t = Validation f1 score\n",
      "\t7.96s\t = Training runtime\n",
      "\t0.0s\t = Validation runtime\n",
      "\t0.4801\t = Validation f1 score\n",
      "\t7.58s\t = Training runtime\n",
      "\t0.01s\t = Validation runtime\n",
      "\t0.4896\t = Validation f1 score\n",
      "\t7.96s\t = Training runtime\n",
      "\t0.0s\t = Validation runtime\n",
      "\t0.4797\t = Validation f1 score\n",
      "\t8.04s\t = Training runtime\n",
      "\t0.01s\t = Validation runtime\n",
      "\t0.0\t = Validation f1 score\n",
      "\t7.08s\t = Training runtime\n",
      "\t0.0s\t = Validation runtime\n",
      "\t0.4721\t = Validation f1 score\n",
      "\t9.42s\t = Training runtime\n",
      "\t0.01s\t = Validation runtime\n",
      "\t0.4651\t = Validation f1 score\n",
      "\t7.97s\t = Training runtime\n",
      "\t0.01s\t = Validation runtime\n",
      "\t0.4797\t = Validation f1 score\n",
      "\t7.78s\t = Training runtime\n",
      "\t0.0s\t = Validation runtime\n",
      "\t0.4796\t = Validation f1 score\n",
      "\t8.73s\t = Training runtime\n",
      "\t0.01s\t = Validation runtime\n",
      "\t0.4803\t = Validation f1 score\n",
      "\t8.17s\t = Training runtime\n",
      "\t0.01s\t = Validation runtime\n",
      "\t0.4797\t = Validation f1 score\n",
      "\t1.95s\t = Training runtime\n",
      "\t0.0s\t = Validation runtime\n",
      "\t0.4797\t = Validation f1 score\n",
      "\t8.48s\t = Training runtime\n",
      "\t0.01s\t = Validation runtime\n",
      "\t0.4615\t = Validation f1 score\n",
      "\t8.8s\t = Training runtime\n",
      "\t0.01s\t = Validation runtime\n",
      "\t0.46\t = Validation f1 score\n",
      "\t8.29s\t = Training runtime\n",
      "\t0.0s\t = Validation runtime\n",
      "\t0.4812\t = Validation f1 score\n",
      "\t8.14s\t = Training runtime\n",
      "\t0.01s\t = Validation runtime\n",
      "\t0.46\t = Validation f1 score\n",
      "\t8.13s\t = Training runtime\n",
      "\t0.01s\t = Validation runtime\n",
      "\t0.4828\t = Validation f1 score\n",
      "\t8.05s\t = Training runtime\n",
      "\t0.0s\t = Validation runtime\n",
      "\t0.46\t = Validation f1 score\n",
      "\t7.88s\t = Training runtime\n",
      "\t0.0s\t = Validation runtime\n",
      "scheduler_options: Key 'training_history_callback_delta_secs': Imputing default value 60\n",
      "scheduler_options: Key 'delay_get_config': Imputing default value True\n",
      "\n",
      "Starting Experiments\n",
      "Num of Finished Tasks is 0\n",
      "Num of Pending Tasks is 1000\n"
     ]
    },
    {
     "data": {
      "application/vnd.jupyter.widget-view+json": {
       "model_id": "f855775232a24a7f8b71aef80c45d91e",
       "version_major": 2,
       "version_minor": 0
      },
      "text/plain": [
       "HBox(children=(HTML(value=''), FloatProgress(value=0.0, max=1000.0), HTML(value='')))"
      ]
     },
     "metadata": {},
     "output_type": "display_data"
    },
    {
     "name": "stderr",
     "output_type": "stream",
     "text": [
      "Time out (secs) is 270.0\n",
      "used random search instead of skopt to produce new hyperparameter configuration in this trial\n",
      "used random search instead of skopt to produce new hyperparameter configuration in this trial\n",
      "used random search instead of skopt to produce new hyperparameter configuration in this trial\n",
      "used random search instead of skopt to produce new hyperparameter configuration in this trial\n",
      "used random search instead of skopt to produce new hyperparameter configuration in this trial\n",
      "used random search instead of skopt to produce new hyperparameter configuration in this trial\n",
      "used random search instead of skopt to produce new hyperparameter configuration in this trial\n"
     ]
    },
    {
     "name": "stdout",
     "output_type": "stream",
     "text": [
      "\n"
     ]
    },
    {
     "name": "stderr",
     "output_type": "stream",
     "text": [
      "\t0.2458\t = Validation f1 score\n",
      "\t0.95s\t = Training runtime\n",
      "\t0.0s\t = Validation runtime\n",
      "\t0.2485\t = Validation f1 score\n",
      "\t0.72s\t = Training runtime\n",
      "\t0.0s\t = Validation runtime\n",
      "\t0.2423\t = Validation f1 score\n",
      "\t0.66s\t = Training runtime\n",
      "\t0.0s\t = Validation runtime\n",
      "\t0.2199\t = Validation f1 score\n",
      "\t0.59s\t = Training runtime\n",
      "\t0.0s\t = Validation runtime\n",
      "\t0.2408\t = Validation f1 score\n",
      "\t0.69s\t = Training runtime\n",
      "\t0.0s\t = Validation runtime\n",
      "\t0.2536\t = Validation f1 score\n",
      "\t0.79s\t = Training runtime\n",
      "\t0.0s\t = Validation runtime\n",
      "\t0.2455\t = Validation f1 score\n",
      "\t0.88s\t = Training runtime\n",
      "\t0.0s\t = Validation runtime\n",
      "\t0.2583\t = Validation f1 score\n",
      "\t1.15s\t = Training runtime\n",
      "\t0.0s\t = Validation runtime\n",
      "\t0.2168\t = Validation f1 score\n",
      "\t0.66s\t = Training runtime\n",
      "\t0.0s\t = Validation runtime\n",
      "\t0.2373\t = Validation f1 score\n",
      "\t0.77s\t = Training runtime\n",
      "\t0.0s\t = Validation runtime\n",
      "\t0.2181\t = Validation f1 score\n",
      "\t0.8s\t = Training runtime\n",
      "\t0.0s\t = Validation runtime\n",
      "\t0.2538\t = Validation f1 score\n",
      "\t1.05s\t = Training runtime\n",
      "\t0.0s\t = Validation runtime\n",
      "\t0.2261\t = Validation f1 score\n",
      "\t1.31s\t = Training runtime\n",
      "\t0.0s\t = Validation runtime\n",
      "\t0.223\t = Validation f1 score\n",
      "\t0.7s\t = Training runtime\n",
      "\t0.0s\t = Validation runtime\n",
      "\t0.2421\t = Validation f1 score\n",
      "\t1.45s\t = Training runtime\n",
      "\t0.0s\t = Validation runtime\n",
      "\t0.244\t = Validation f1 score\n",
      "\t0.66s\t = Training runtime\n",
      "\t0.01s\t = Validation runtime\n",
      "\t0.2193\t = Validation f1 score\n",
      "\t0.58s\t = Training runtime\n",
      "\t0.0s\t = Validation runtime\n",
      "\t0.2456\t = Validation f1 score\n",
      "\t0.83s\t = Training runtime\n",
      "\t0.0s\t = Validation runtime\n",
      "\t0.2208\t = Validation f1 score\n",
      "\t0.61s\t = Training runtime\n",
      "\t0.0s\t = Validation runtime\n",
      "\t0.2167\t = Validation f1 score\n",
      "\t0.51s\t = Training runtime\n",
      "\t0.0s\t = Validation runtime\n",
      "\t0.239\t = Validation f1 score\n",
      "\t0.58s\t = Training runtime\n",
      "\t0.0s\t = Validation runtime\n",
      "\t0.2372\t = Validation f1 score\n",
      "\t0.64s\t = Training runtime\n",
      "\t0.0s\t = Validation runtime\n",
      "\t0.2422\t = Validation f1 score\n",
      "\t0.88s\t = Training runtime\n",
      "\t0.0s\t = Validation runtime\n",
      "\t0.2461\t = Validation f1 score\n",
      "\t0.75s\t = Training runtime\n",
      "\t0.0s\t = Validation runtime\n",
      "\t0.2438\t = Validation f1 score\n",
      "\t0.58s\t = Training runtime\n",
      "\t0.0s\t = Validation runtime\n",
      "\t0.2566\t = Validation f1 score\n",
      "\t1.1s\t = Training runtime\n",
      "\t0.0s\t = Validation runtime\n",
      "\t0.2542\t = Validation f1 score\n",
      "\t0.85s\t = Training runtime\n",
      "\t0.0s\t = Validation runtime\n",
      "\t0.2469\t = Validation f1 score\n",
      "\t0.89s\t = Training runtime\n",
      "\t0.0s\t = Validation runtime\n",
      "\t0.2514\t = Validation f1 score\n",
      "\t0.78s\t = Training runtime\n",
      "\t0.0s\t = Validation runtime\n",
      "\t0.2468\t = Validation f1 score\n",
      "\t0.79s\t = Training runtime\n",
      "\t0.0s\t = Validation runtime\n",
      "\t0.2571\t = Validation f1 score\n",
      "\t0.96s\t = Training runtime\n",
      "\t0.0s\t = Validation runtime\n",
      "\t0.2575\t = Validation f1 score\n",
      "\t1.17s\t = Training runtime\n",
      "\t0.0s\t = Validation runtime\n",
      "\t0.2427\t = Validation f1 score\n",
      "\t0.65s\t = Training runtime\n",
      "\t0.0s\t = Validation runtime\n",
      "\t0.246\t = Validation f1 score\n",
      "\t0.7s\t = Training runtime\n",
      "\t0.0s\t = Validation runtime\n",
      "\t0.2484\t = Validation f1 score\n",
      "\t0.8s\t = Training runtime\n",
      "\t0.0s\t = Validation runtime\n",
      "\t0.2526\t = Validation f1 score\n",
      "\t0.9s\t = Training runtime\n",
      "\t0.0s\t = Validation runtime\n",
      "\t0.2505\t = Validation f1 score\n",
      "\t0.78s\t = Training runtime\n",
      "\t0.0s\t = Validation runtime\n",
      "\t0.2297\t = Validation f1 score\n",
      "\t0.69s\t = Training runtime\n",
      "\t0.0s\t = Validation runtime\n",
      "\t0.2569\t = Validation f1 score\n",
      "\t1.67s\t = Training runtime\n",
      "\t0.0s\t = Validation runtime\n",
      "\t0.2587\t = Validation f1 score\n",
      "\t1.44s\t = Training runtime\n",
      "\t0.0s\t = Validation runtime\n",
      "\t0.24\t = Validation f1 score\n",
      "\t0.67s\t = Training runtime\n",
      "\t0.01s\t = Validation runtime\n",
      "\t0.2542\t = Validation f1 score\n",
      "\t0.8s\t = Training runtime\n",
      "\t0.0s\t = Validation runtime\n",
      "\t0.2542\t = Validation f1 score\n",
      "\t0.82s\t = Training runtime\n",
      "\t0.0s\t = Validation runtime\n",
      "\t0.2542\t = Validation f1 score\n",
      "\t0.81s\t = Training runtime\n",
      "\t0.0s\t = Validation runtime\n",
      "\t0.2527\t = Validation f1 score\n",
      "\t0.83s\t = Training runtime\n",
      "\t0.0s\t = Validation runtime\n",
      "\t0.2457\t = Validation f1 score\n",
      "\t0.62s\t = Training runtime\n",
      "\t0.0s\t = Validation runtime\n",
      "\t0.2542\t = Validation f1 score\n",
      "\t0.83s\t = Training runtime\n",
      "\t0.0s\t = Validation runtime\n",
      "\t0.2542\t = Validation f1 score\n",
      "\t0.79s\t = Training runtime\n",
      "\t0.0s\t = Validation runtime\n",
      "\t0.245\t = Validation f1 score\n",
      "\t0.84s\t = Training runtime\n",
      "\t0.0s\t = Validation runtime\n",
      "\t0.2421\t = Validation f1 score\n",
      "\t0.62s\t = Training runtime\n",
      "\t0.0s\t = Validation runtime\n",
      "\t0.1972\t = Validation f1 score\n",
      "\t0.56s\t = Training runtime\n",
      "\t0.0s\t = Validation runtime\n",
      "\t0.2514\t = Validation f1 score\n",
      "\t0.98s\t = Training runtime\n",
      "\t0.0s\t = Validation runtime\n",
      "\t0.2572\t = Validation f1 score\n",
      "\t1.32s\t = Training runtime\n",
      "\t0.0s\t = Validation runtime\n",
      "\t0.2462\t = Validation f1 score\n",
      "\t0.73s\t = Training runtime\n",
      "\t0.0s\t = Validation runtime\n",
      "\t0.2605\t = Validation f1 score\n",
      "\t1.85s\t = Training runtime\n",
      "\t0.0s\t = Validation runtime\n",
      "\t0.2531\t = Validation f1 score\n",
      "\t0.83s\t = Training runtime\n",
      "\t0.0s\t = Validation runtime\n",
      "\t0.2468\t = Validation f1 score\n",
      "\t0.73s\t = Training runtime\n",
      "\t0.0s\t = Validation runtime\n",
      "\t0.2401\t = Validation f1 score\n",
      "\t0.69s\t = Training runtime\n",
      "\t0.0s\t = Validation runtime\n",
      "\t0.2317\t = Validation f1 score\n",
      "\t0.61s\t = Training runtime\n",
      "\t0.0s\t = Validation runtime\n",
      "\t0.2581\t = Validation f1 score\n",
      "\t1.25s\t = Training runtime\n",
      "\t0.01s\t = Validation runtime\n",
      "\t0.2105\t = Validation f1 score\n",
      "\t0.54s\t = Training runtime\n",
      "\t0.0s\t = Validation runtime\n",
      "\t0.2349\t = Validation f1 score\n",
      "\t1.82s\t = Training runtime\n",
      "\t0.0s\t = Validation runtime\n",
      "\t0.223\t = Validation f1 score\n",
      "\t0.61s\t = Training runtime\n",
      "\t0.0s\t = Validation runtime\n",
      "\t0.223\t = Validation f1 score\n",
      "\t0.64s\t = Training runtime\n",
      "\t0.0s\t = Validation runtime\n",
      "\t0.2542\t = Validation f1 score\n",
      "\t0.79s\t = Training runtime\n",
      "\t0.01s\t = Validation runtime\n",
      "\t0.2542\t = Validation f1 score\n",
      "\t0.82s\t = Training runtime\n",
      "\t0.0s\t = Validation runtime\n",
      "\t0.2531\t = Validation f1 score\n",
      "\t1.07s\t = Training runtime\n",
      "\t0.0s\t = Validation runtime\n",
      "\t0.2016\t = Validation f1 score\n",
      "\t1.24s\t = Training runtime\n",
      "\t0.0s\t = Validation runtime\n",
      "\t0.2476\t = Validation f1 score\n",
      "\t0.72s\t = Training runtime\n",
      "\t0.01s\t = Validation runtime\n",
      "\t0.2594\t = Validation f1 score\n",
      "\t1.6s\t = Training runtime\n",
      "\t0.0s\t = Validation runtime\n",
      "\t0.223\t = Validation f1 score\n",
      "\t0.67s\t = Training runtime\n",
      "\t0.0s\t = Validation runtime\n",
      "\t0.2421\t = Validation f1 score\n",
      "\t0.86s\t = Training runtime\n",
      "\t0.0s\t = Validation runtime\n",
      "\t0.2392\t = Validation f1 score\n",
      "\t0.65s\t = Training runtime\n",
      "\t0.0s\t = Validation runtime\n",
      "\t0.2476\t = Validation f1 score\n",
      "\t0.7s\t = Training runtime\n",
      "\t0.01s\t = Validation runtime\n",
      "\t0.24\t = Validation f1 score\n",
      "\t0.58s\t = Training runtime\n",
      "\t0.0s\t = Validation runtime\n",
      "\t0.2614\t = Validation f1 score\n",
      "\t1.29s\t = Training runtime\n",
      "\t0.0s\t = Validation runtime\n",
      "\t0.2241\t = Validation f1 score\n",
      "\t0.79s\t = Training runtime\n",
      "\t0.0s\t = Validation runtime\n",
      "\t0.2423\t = Validation f1 score\n",
      "\t0.68s\t = Training runtime\n",
      "\t0.0s\t = Validation runtime\n",
      "\t0.2606\t = Validation f1 score\n",
      "\t1.43s\t = Training runtime\n",
      "\t0.0s\t = Validation runtime\n",
      "\t0.2542\t = Validation f1 score\n",
      "\t0.8s\t = Training runtime\n",
      "\t0.0s\t = Validation runtime\n",
      "Fitting model: weighted_ensemble_k0_l1 ... Training model for up to 360.0s of the 54.7s of remaining time.\n",
      "\t0.4914\t = Validation f1 score\n",
      "\t11.1s\t = Training runtime\n",
      "\t0.04s\t = Validation runtime\n",
      "AutoGluon training complete, total runtime = 556.61s ...\n"
     ]
    }
   ],
   "source": [
    "metric = 'f1'   # 'roc_auc', 'f1', 'average_precision'\n",
    "path = '../../artifacts/autogluon-ach'\n",
    "os.makedirs(path, exist_ok=True)\n",
    "\n",
    "\n",
    "hp_tune = True\n",
    "time_limits = 10*60  # 2mins\n",
    "cat_options = {  # specifies non-default hyperparameter values for lightGBM gradient boosted trees\n",
    "    'l2_leaf_reg': ag.space.Real(lower=0, upper=20, default=5),\n",
    "    'min_data_in_leaf': ag.space.Int(lower=10, upper=50, default=30),\n",
    "    'depth' : ag.space.Int(lower=2, upper=5, default=3),\n",
    "    'learning_rate': ag.space.Real(1e-3, 1e-1, default=1e-2),\n",
    "    'bagging_temperature' : ag.space.Real(0, 100, default=0.5),\n",
    "    'scale_pos_weight': pos_wgt_scaling_factor,\n",
    "}\n",
    "\n",
    "gbm_options = {  # specifies non-default hyperparameter values for lightGBM gradient boosted trees\n",
    "    'num_leaves' : ag.space.Int(lower=5, upper=20, default=10),\n",
    "    'lambda_l1': ag.space.Real(lower=0, upper=20, default=5),\n",
    "    'lambda_l2': ag.space.Real(lower=0, upper=20, default=5),\n",
    "    'min_data_in_leaf': ag.space.Int(lower=10, upper=50, default=30),\n",
    "    'max_depth' : ag.space.Int(lower=2, upper=5, default=3),\n",
    "    'num_boost_round': ag.space.Int(lower=100, upper=2000, default=500),\n",
    "    'learning_rate': ag.space.Real(1e-3, 1e-1, default=1e-2),\n",
    "    'feature_fraction' : ag.space.Real(0.1, 0.8, default=0.5),\n",
    "    'scale_pos_weight': pos_wgt_scaling_factor,\n",
    "}\n",
    "\n",
    "predictor = task.fit(train_data=train_data, \n",
    "                     tuning_data=valid_data,\n",
    "                     label=target_col, \n",
    "                     output_directory=path, \n",
    "                     eval_metric=metric,\n",
    "                     time_limits=time_limits,\n",
    "                     hyperparameter_tune=hp_tune,\n",
    "                     hyperparameters={'CAT':cat_options,\n",
    "                                      'GBM':gbm_options},\n",
    "                     search_strategy='skopt')"
   ]
  },
  {
   "cell_type": "code",
   "execution_count": 15,
   "metadata": {},
   "outputs": [
    {
     "data": {
      "text/html": [
       "<div>\n",
       "<style scoped>\n",
       "    .dataframe tbody tr th:only-of-type {\n",
       "        vertical-align: middle;\n",
       "    }\n",
       "\n",
       "    .dataframe tbody tr th {\n",
       "        vertical-align: top;\n",
       "    }\n",
       "\n",
       "    .dataframe thead th {\n",
       "        text-align: right;\n",
       "    }\n",
       "</style>\n",
       "<table border=\"1\" class=\"dataframe\">\n",
       "  <thead>\n",
       "    <tr style=\"text-align: right;\">\n",
       "      <th></th>\n",
       "      <th>first_deposit_amount</th>\n",
       "      <th>vantage_score</th>\n",
       "      <th>business_account_number</th>\n",
       "    </tr>\n",
       "  </thead>\n",
       "  <tbody>\n",
       "    <tr>\n",
       "      <th>12804</th>\n",
       "      <td>5.00</td>\n",
       "      <td>NaN</td>\n",
       "      <td>410000070984</td>\n",
       "    </tr>\n",
       "    <tr>\n",
       "      <th>14332</th>\n",
       "      <td>0.47</td>\n",
       "      <td>NaN</td>\n",
       "      <td>410000071044</td>\n",
       "    </tr>\n",
       "    <tr>\n",
       "      <th>14340</th>\n",
       "      <td>0.47</td>\n",
       "      <td>NaN</td>\n",
       "      <td>410000071044</td>\n",
       "    </tr>\n",
       "    <tr>\n",
       "      <th>15690</th>\n",
       "      <td>20.00</td>\n",
       "      <td>NaN</td>\n",
       "      <td>410000071129</td>\n",
       "    </tr>\n",
       "    <tr>\n",
       "      <th>15717</th>\n",
       "      <td>20.00</td>\n",
       "      <td>NaN</td>\n",
       "      <td>410000071129</td>\n",
       "    </tr>\n",
       "  </tbody>\n",
       "</table>\n",
       "</div>"
      ],
      "text/plain": [
       "       first_deposit_amount  vantage_score  business_account_number\n",
       "12804                  5.00            NaN             410000070984\n",
       "14332                  0.47            NaN             410000071044\n",
       "14340                  0.47            NaN             410000071044\n",
       "15690                 20.00            NaN             410000071129\n",
       "15717                 20.00            NaN             410000071129"
      ]
     },
     "execution_count": 15,
     "metadata": {},
     "output_type": "execute_result"
    }
   ],
   "source": [
    "try:\n",
    "    y_true = test_data[target_col]\n",
    "    test_data = test_data.drop(labels=[target_col], axis=1)\n",
    "except:\n",
    "    pass\n",
    "test_data.head()"
   ]
  },
  {
   "cell_type": "code",
   "execution_count": 16,
   "metadata": {},
   "outputs": [
    {
     "name": "stderr",
     "output_type": "stream",
     "text": [
      "Evaluation: f1 on test data: 0.4606557377049181\n",
      "Evaluations on test data:\n",
      "{\n",
      "    \"f1\": 0.4606557377049181,\n",
      "    \"accuracy_score\": 0.9707815275310835,\n",
      "    \"balanced_accuracy_score\": 0.675643670239535,\n",
      "    \"matthews_corrcoef\": 0.4673349156504239,\n",
      "    \"f1_score\": 0.9707815275310835\n",
      "}\n",
      "Detailed (per-class) classification report:\n",
      "{\n",
      "    \"False\": {\n",
      "        \"precision\": 0.9772233291070458,\n",
      "        \"recall\": 0.9928689731321311,\n",
      "        \"f1-score\": 0.9849840255591054,\n",
      "        \"support\": 21736\n",
      "    },\n",
      "    \"True\": {\n",
      "        \"precision\": 0.6444954128440367,\n",
      "        \"recall\": 0.35841836734693877,\n",
      "        \"f1-score\": 0.4606557377049181,\n",
      "        \"support\": 784\n",
      "    },\n",
      "    \"accuracy\": 0.9707815275310835,\n",
      "    \"macro avg\": {\n",
      "        \"precision\": 0.8108593709755412,\n",
      "        \"recall\": 0.675643670239535,\n",
      "        \"f1-score\": 0.7228198816320117,\n",
      "        \"support\": 22520\n",
      "    },\n",
      "    \"weighted avg\": {\n",
      "        \"precision\": 0.965639906089719,\n",
      "        \"recall\": 0.9707815275310835,\n",
      "        \"f1-score\": 0.9667303231755493,\n",
      "        \"support\": 22520\n",
      "    }\n",
      "}\n"
     ]
    }
   ],
   "source": [
    "predictor = task.load(path)\n",
    "y_pred = predictor.predict(test_data)\n",
    "perf = predictor.evaluate_predictions(y_true=y_true, y_pred=y_pred, auxiliary_metrics=True, )"
   ]
  },
  {
   "cell_type": "code",
   "execution_count": 17,
   "metadata": {},
   "outputs": [],
   "source": [
    "model = None  # 'LightGBMClassifier', 'CatboostClassifier', 'weighted_ensemble_k0_l1'\n",
    "predictor = task.load(path)\n",
    "y_pred = predictor.predict_proba(test_data, model=model)\n",
    "test['autogluon_untuned_pred'] = y_pred"
   ]
  },
  {
   "cell_type": "code",
   "execution_count": 18,
   "metadata": {},
   "outputs": [
    {
     "name": "stdout",
     "output_type": "stream",
     "text": [
      "*** Summary of fit() ***\n",
      "Estimated performance of each model:\n",
      "                            model  score_val  pred_time_val   fit_time  pred_time_val_marginal  fit_time_marginal  stack_level  can_infer  fit_order\n",
      "0         weighted_ensemble_k0_l1   0.491409       0.053161  27.201848                0.042704          11.102202            1       True        109\n",
      "1      LightGBMClassifier/trial_2   0.489619       0.004532   7.956147                0.004532           7.956147            0       True         13\n",
      "2      LightGBMClassifier/trial_8   0.482759       0.004411   8.046947                0.004411           8.046947            0       True         27\n",
      "3     LightGBMClassifier/trial_14   0.481685       0.005566   8.112255                0.005566           8.112255            0       True          7\n",
      "4      LightGBMClassifier/trial_6   0.481244       0.005925   8.143499                0.005925           8.143499            0       True         25\n",
      "5      LightGBMClassifier/trial_1   0.480804       0.004995   7.993272                0.004995           7.993272            0       True          2\n",
      "6     LightGBMClassifier/trial_13   0.480648       0.005414   8.394465                0.005414           8.394465            0       True          6\n",
      "7     LightGBMClassifier/trial_26   0.480293       0.005508   8.165687                0.005508           8.165687            0       True         20\n",
      "8     LightGBMClassifier/trial_17   0.480132       0.004771   7.642154                0.004771           7.642154            0       True         10\n",
      "9     LightGBMClassifier/trial_19   0.480132       0.005068   7.581020                0.005068           7.581020            0       True         12\n",
      "10    LightGBMClassifier/trial_27   0.479735       0.004751   1.954918                0.004751           1.954918            0       True         21\n",
      "11    LightGBMClassifier/trial_24   0.479705       0.004650   7.782139                0.004650           7.782139            0       True         18\n",
      "12    LightGBMClassifier/trial_18   0.479705       0.004752   7.959070                0.004752           7.959070            0       True         11\n",
      "13    LightGBMClassifier/trial_20   0.479705       0.005253   8.044995                0.005253           8.044995            0       True         14\n",
      "14    LightGBMClassifier/trial_11   0.479705       0.005717   7.898006                0.005717           7.898006            0       True          4\n",
      "15     LightGBMClassifier/trial_3   0.479705       0.005820   8.482327                0.005820           8.482327            0       True         22\n",
      "16    LightGBMClassifier/trial_25   0.479554       0.005830   8.729731                0.005830           8.729731            0       True         19\n",
      "17    LightGBMClassifier/trial_10   0.474846       0.006543   9.155186                0.006543           9.155186            0       True          3\n",
      "18    LightGBMClassifier/trial_22   0.472072       0.008180   9.417790                0.008180           9.417790            0       True         16\n",
      "19     LightGBMClassifier/trial_0   0.466561       0.013101  12.018055                0.013101          12.018055            0       True          1\n",
      "20    LightGBMClassifier/trial_12   0.466454       0.011377  11.249780                0.011377          11.249780            0       True          5\n",
      "21    LightGBMClassifier/trial_23   0.465116       0.005149   7.968992                0.005149           7.968992            0       True         17\n",
      "22     LightGBMClassifier/trial_4   0.461538       0.006118   8.797283                0.006118           8.797283            0       True         23\n",
      "23     LightGBMClassifier/trial_5   0.460048       0.004627   8.290817                0.004627           8.290817            0       True         24\n",
      "24    LightGBMClassifier/trial_16   0.460048       0.004705   7.853621                0.004705           7.853621            0       True          9\n",
      "25     LightGBMClassifier/trial_9   0.460048       0.004886   7.879007                0.004886           7.879007            0       True         28\n",
      "26     LightGBMClassifier/trial_7   0.460048       0.005045   8.129098                0.005045           8.129098            0       True         26\n",
      "27    CatboostClassifier/trial_95   0.261389       0.004655   1.293877                0.004655           1.293877            0       True        104\n",
      "28    CatboostClassifier/trial_98   0.260562       0.004572   1.431627                0.004572           1.431627            0       True        107\n",
      "29    CatboostClassifier/trial_74   0.260521       0.004541   1.850763                0.004541           1.850763            0       True         83\n",
      "30    CatboostClassifier/trial_89   0.259431       0.004773   1.601987                0.004773           1.601987            0       True         98\n",
      "31    CatboostClassifier/trial_59   0.258731       0.004638   1.437532                0.004638           1.437532            0       True         68\n",
      "32   CatboostClassifier/trial_107   0.258262       0.004501   1.154768                0.004501           1.154768            0       True         36\n",
      "33    CatboostClassifier/trial_79   0.258149       0.006482   1.245786                0.006482           1.245786            0       True         88\n",
      "34    CatboostClassifier/trial_51   0.257516       0.004524   1.172298                0.004524           1.172298            0       True         60\n",
      "35    CatboostClassifier/trial_72   0.257205       0.004812   1.316642                0.004812           1.316642            0       True         81\n",
      "36    CatboostClassifier/trial_50   0.257137       0.004195   0.964573                0.004195           0.964573            0       True         59\n",
      "37    CatboostClassifier/trial_58   0.256949       0.004751   1.666584                0.004751           1.666584            0       True         67\n",
      "38    CatboostClassifier/trial_45   0.256556       0.004515   1.100260                0.004515           1.100260            0       True         54\n",
      "39    CatboostClassifier/trial_61   0.254186       0.004083   0.798498                0.004083           0.798498            0       True         70\n",
      "40    CatboostClassifier/trial_62   0.254186       0.004086   0.816128                0.004086           0.816128            0       True         71\n",
      "41    CatboostClassifier/trial_66   0.254186       0.004094   0.832097                0.004094           0.832097            0       True         75\n",
      "42    CatboostClassifier/trial_63   0.254186       0.004132   0.806480                0.004132           0.806480            0       True         72\n",
      "43    CatboostClassifier/trial_99   0.254186       0.004342   0.799429                0.004342           0.799429            0       True        108\n",
      "44    CatboostClassifier/trial_67   0.254186       0.004380   0.792349                0.004380           0.792349            0       True         76\n",
      "45    CatboostClassifier/trial_46   0.254186       0.004455   0.847386                0.004455           0.847386            0       True         55\n",
      "46    CatboostClassifier/trial_85   0.254186       0.004460   0.824102                0.004460           0.824102            0       True         94\n",
      "47    CatboostClassifier/trial_84   0.254186       0.005932   0.787822                0.005932           0.787822            0       True         93\n",
      "48    CatboostClassifier/trial_31   0.253840       0.004182   1.050937                0.004182           1.050937            0       True         40\n",
      "49   CatboostClassifier/trial_105   0.253600       0.003926   0.794849                0.003926           0.794849            0       True         34\n",
      "50    CatboostClassifier/trial_86   0.253105       0.004442   1.068774                0.004442           1.068774            0       True         95\n",
      "51    CatboostClassifier/trial_75   0.253056       0.003917   0.830212                0.003917           0.830212            0       True         84\n",
      "52    CatboostClassifier/trial_64   0.252703       0.004444   0.829437                0.004444           0.829437            0       True         73\n",
      "53    CatboostClassifier/trial_55   0.252551       0.004400   0.900647                0.004400           0.900647            0       True         64\n",
      "54    CatboostClassifier/trial_71   0.251431       0.004172   0.976867                0.004172           0.976867            0       True         80\n",
      "55    CatboostClassifier/trial_48   0.251382       0.004220   0.779031                0.004220           0.779031            0       True         57\n",
      "56    CatboostClassifier/trial_56   0.250529       0.003941   0.777361                0.003941           0.777361            0       True         65\n",
      "57   CatboostClassifier/trial_101   0.248540       0.003956   0.716050                0.003956           0.716050            0       True         30\n",
      "58    CatboostClassifier/trial_54   0.248374       0.004357   0.795131                0.004357           0.795131            0       True         63\n",
      "59    CatboostClassifier/trial_88   0.247552       0.005223   0.719615                0.005223           0.719615            0       True         97\n",
      "60    CatboostClassifier/trial_93   0.247552       0.005330   0.703553                0.005330           0.703553            0       True        102\n",
      "61    CatboostClassifier/trial_47   0.246929       0.003993   0.889087                0.003993           0.889087            0       True         56\n",
      "62    CatboostClassifier/trial_76   0.246837       0.003952   0.725710                0.003952           0.725710            0       True         85\n",
      "63    CatboostClassifier/trial_49   0.246759       0.003932   0.785651                0.003932           0.785651            0       True         58\n",
      "64    CatboostClassifier/trial_73   0.246198       0.003974   0.728918                0.003974           0.728918            0       True         82\n",
      "65    CatboostClassifier/trial_43   0.246053       0.004525   0.745146                0.004525           0.745146            0       True         52\n",
      "66    CatboostClassifier/trial_53   0.245976       0.004067   0.704262                0.004067           0.704262            0       True         62\n",
      "67   CatboostClassifier/trial_100   0.245833       0.004139   0.951077                0.004139           0.951077            0       True         29\n",
      "68    CatboostClassifier/trial_65   0.245687       0.003976   0.621074                0.003976           0.621074            0       True         74\n",
      "69    CatboostClassifier/trial_37   0.245614       0.003937   0.833705                0.003937           0.833705            0       True         46\n",
      "70   CatboostClassifier/trial_106   0.245455       0.004219   0.884460                0.004219           0.884460            0       True         35\n",
      "71    CatboostClassifier/trial_68   0.245041       0.003927   0.837516                0.003927           0.837516            0       True         77\n",
      "72    CatboostClassifier/trial_35   0.244031       0.005519   0.656019                0.005519           0.656019            0       True         44\n",
      "73    CatboostClassifier/trial_44   0.243754       0.003834   0.575891                0.003834           0.575891            0       True         53\n",
      "74    CatboostClassifier/trial_52   0.242720       0.004227   0.653010                0.004227           0.653010            0       True         61\n",
      "75    CatboostClassifier/trial_97   0.242277       0.003866   0.676434                0.003866           0.676434            0       True        106\n",
      "76   CatboostClassifier/trial_102   0.242277       0.003985   0.660910                0.003985           0.660910            0       True         31\n",
      "77    CatboostClassifier/trial_42   0.242165       0.004106   0.877646                0.004106           0.877646            0       True         51\n",
      "78    CatboostClassifier/trial_69   0.242105       0.004023   0.623945                0.004023           0.623945            0       True         78\n",
      "79    CatboostClassifier/trial_91   0.242105       0.004034   0.861675                0.004034           0.861675            0       True        100\n",
      "80    CatboostClassifier/trial_34   0.242054       0.004564   1.452672                0.004564           1.452672            0       True         43\n",
      "81   CatboostClassifier/trial_104   0.240785       0.003800   0.688151                0.003800           0.688151            0       True         33\n",
      "82    CatboostClassifier/trial_77   0.240081       0.004151   0.693307                0.004151           0.693307            0       True         86\n",
      "83    CatboostClassifier/trial_94   0.240032       0.003710   0.582201                0.003710           0.582201            0       True        103\n",
      "84    CatboostClassifier/trial_60   0.239984       0.005477   0.665741                0.005477           0.665741            0       True         69\n",
      "85    CatboostClassifier/trial_92   0.239217       0.004062   0.653715                0.004062           0.653715            0       True        101\n",
      "86    CatboostClassifier/trial_40   0.238968       0.003562   0.581572                0.003562           0.581572            0       True         49\n",
      "87    CatboostClassifier/trial_29   0.237322       0.004215   0.772680                0.004215           0.772680            0       True         38\n",
      "88    CatboostClassifier/trial_41   0.237194       0.003597   0.638577                0.003597           0.638577            0       True         50\n",
      "89    CatboostClassifier/trial_81   0.234902       0.004658   1.820750                0.004658           1.820750            0       True         90\n",
      "90    CatboostClassifier/trial_78   0.231719       0.003633   0.608692                0.003633           0.608692            0       True         87\n",
      "91    CatboostClassifier/trial_57   0.229740       0.003598   0.690867                0.003598           0.690867            0       True         66\n",
      "92    CatboostClassifier/trial_32   0.226057       0.004599   1.306144                0.004599           1.306144            0       True         41\n",
      "93    CatboostClassifier/trial_96   0.224105       0.003968   0.785757                0.003968           0.785757            0       True        105\n",
      "94    CatboostClassifier/trial_33   0.222964       0.003613   0.696390                0.003613           0.696390            0       True         42\n",
      "95    CatboostClassifier/trial_83   0.222964       0.003655   0.636344                0.003655           0.636344            0       True         92\n",
      "96    CatboostClassifier/trial_82   0.222964       0.003675   0.610669                0.003675           0.610669            0       True         91\n",
      "97    CatboostClassifier/trial_90   0.222964       0.004403   0.666375                0.004403           0.666375            0       True         99\n",
      "98    CatboostClassifier/trial_38   0.220808       0.004050   0.606264                0.004050           0.606264            0       True         47\n",
      "99   CatboostClassifier/trial_103   0.219931       0.003693   0.589840                0.003693           0.589840            0       True         32\n",
      "100   CatboostClassifier/trial_36   0.219325       0.003811   0.584257                0.003811           0.584257            0       True         45\n",
      "101   CatboostClassifier/trial_30   0.218065       0.004187   0.796597                0.004187           0.796597            0       True         39\n",
      "102  CatboostClassifier/trial_108   0.216824       0.004309   0.657032                0.004309           0.657032            0       True         37\n",
      "103   CatboostClassifier/trial_39   0.216679       0.003667   0.513669                0.003667           0.513669            0       True         48\n",
      "104   CatboostClassifier/trial_80   0.210490       0.003648   0.538722                0.003648           0.538722            0       True         89\n",
      "105   CatboostClassifier/trial_87   0.201630       0.004726   1.244910                0.004726           1.244910            0       True         96\n",
      "106   CatboostClassifier/trial_70   0.197205       0.003678   0.557236                0.003678           0.557236            0       True         79\n",
      "107   LightGBMClassifier/trial_15   0.000000       0.004406   5.111030                0.004406           5.111030            0       True          8\n",
      "108   LightGBMClassifier/trial_21   0.000000       0.004444   7.082435                0.004444           7.082435            0       True         15\n",
      "Number of models trained: 109\n",
      "Types of models trained:\n",
      "{'WeightedEnsembleModel', 'LGBModel', 'CatboostModel'}\n",
      "Bagging used: False \n",
      "Stack-ensembling used: False \n",
      "Hyperparameter-tuning used: True \n",
      "User-specified hyperparameters:\n",
      "{'default': {'CAT': [{'l2_leaf_reg': Real: lower=0, upper=20, 'min_data_in_leaf': Int: lower=10, upper=50, 'depth': Int: lower=2, upper=5, 'learning_rate': Real: lower=0.001, upper=0.1, 'bagging_temperature': Real: lower=0, upper=100, 'scale_pos_weight': 28.893362831858408}], 'GBM': [{'num_leaves': Int: lower=5, upper=20, 'lambda_l1': Real: lower=0, upper=20, 'lambda_l2': Real: lower=0, upper=20, 'min_data_in_leaf': Int: lower=10, upper=50, 'max_depth': Int: lower=2, upper=5, 'num_boost_round': Int: lower=100, upper=2000, 'learning_rate': Real: lower=0.001, upper=0.1, 'feature_fraction': Real: lower=0.1, upper=0.8, 'scale_pos_weight': 28.893362831858408}]}}\n",
      "Feature Metadata (Processed):\n",
      "(raw dtype, special dtypes):\n",
      "('float', []) : 2 | ['first_deposit_amount', 'vantage_score']\n",
      "('int', [])   : 1 | ['business_account_number']\n",
      "Plot summary of models saved to file: ../../artifacts/autogluon-ach/SummaryOfModels.html\n",
      "Plot summary of models saved to file: ../../artifacts/autogluon-ach/LightGBMClassifier_HPOmodelsummary.html\n",
      "Plot summary of models saved to file: LightGBMClassifier_HPOmodelsummary.html\n",
      "Plot of HPO performance saved to file: ../../artifacts/autogluon-ach/LightGBMClassifier_HPOperformanceVStrials.png\n"
     ]
    },
    {
     "data": {
      "image/png": "[encoded data removed]",
      "text/plain": [
       "<Figure size 432x288 with 1 Axes>"
      ]
     },
     "metadata": {
      "needs_background": "light"
     },
     "output_type": "display_data"
    },
    {
     "name": "stdout",
     "output_type": "stream",
     "text": [
      "Plot summary of models saved to file: ../../artifacts/autogluon-ach/CatboostClassifier_HPOmodelsummary.html\n",
      "Plot summary of models saved to file: CatboostClassifier_HPOmodelsummary.html\n",
      "Plot of HPO performance saved to file: ../../artifacts/autogluon-ach/CatboostClassifier_HPOperformanceVStrials.png\n"
     ]
    },
    {
     "data": {
      "image/png": "[encoded data removed]",
      "text/plain": [
       "<Figure size 432x288 with 1 Axes>"
      ]
     },
     "metadata": {
      "needs_background": "light"
     },
     "output_type": "display_data"
    },
    {
     "name": "stdout",
     "output_type": "stream",
     "text": [
      "*** Details of Hyperparameter optimization ***\n",
      "HPO for LightGBMClassifier model:  Num. configurations tried = 28, Time spent = 272.38644528388977s, Search strategy = skopt\n",
      "Best hyperparameter-configuration (validation-performance: f1 = 0.27011630666983144):\n",
      "{'feature_fraction': 0.361955253584467, 'lambda_l1': 17.620997660991137, 'lambda_l2': 6.817153595130293, 'learning_rate': 0.09432285091125954, 'max_depth': 3, 'min_data_in_leaf': 41, 'num_boost_round': 1759, 'num_leaves': 11}\n",
      "HPO for CatboostClassifier model:  Num. configurations tried = 80, Time spent = 271.66373658180237s, Search strategy = skopt\n",
      "Best hyperparameter-configuration (validation-performance: f1 = 0.26138876603272887):\n",
      "{'bagging_temperature': 0.0, 'depth': 4, 'l2_leaf_reg': 0.0, 'learning_rate': 0.1, 'min_data_in_leaf': 50}\n",
      "*** End of fit() summary ***\n"
     ]
    }
   ],
   "source": [
    "predictor.fit_summary();"
   ]
  },
  {
   "cell_type": "code",
   "execution_count": 21,
   "metadata": {},
   "outputs": [
    {
     "name": "stderr",
     "output_type": "stream",
     "text": [
      "/home/ec2-user/anaconda3/envs/ml_basic_py37/lib/python3.7/site-packages/ipykernel/ipkernel.py:287: DeprecationWarning: `should_run_async` will not call `transform_cell` automatically in the future. Please pass the result to `transformed_cell` argument and any exception that happen during thetransform in `preprocessing_exc_tuple` in IPython 7.17 and above.\n",
      "  and should_run_async(code)\n"
     ]
    },
    {
     "data": {
      "text/plain": [
       "(<Figure size 432x288 with 1 Axes>,\n",
       " <AxesSubplot:title={'center':'Precision-Recall curve: Baseline Comparison'}, xlabel='Recall', ylabel='Precision'>)"
      ]
     },
     "execution_count": 21,
     "metadata": {},
     "output_type": "execute_result"
    },
    {
     "data": {
      "image/png": "[encoded data removed]",
      "text/plain": [
       "<Figure size 432x288 with 1 Axes>"
      ]
     },
     "metadata": {
      "needs_background": "light"
     },
     "output_type": "display_data"
    }
   ],
   "source": [
    "preds = [(test['deposit_v1_pred'], 'deposit_v1_pred'), \n",
    "         (test['boruta_pred'], 'boruta_pred'), \n",
    "         (test['autogluon_untuned_pred'], 'autogluon_untuned_pred')]\n",
    "title = 'Precision-Recall curve: Baseline Comparison'\n",
    "plot.plot_pr_curve_mult(test[target_col], preds,\n",
    "                   title=title, colors = ['r', 'g', 'b'])"
   ]
  },
  {
   "cell_type": "code",
   "execution_count": 22,
   "metadata": {},
   "outputs": [
    {
     "name": "stderr",
     "output_type": "stream",
     "text": [
      "/home/ec2-user/anaconda3/envs/ml_basic_py37/lib/python3.7/site-packages/ipykernel/ipkernel.py:287: DeprecationWarning: `should_run_async` will not call `transform_cell` automatically in the future. Please pass the result to `transformed_cell` argument and any exception that happen during thetransform in `preprocessing_exc_tuple` in IPython 7.17 and above.\n",
      "  and should_run_async(code)\n"
     ]
    },
    {
     "data": {
      "text/plain": [
       "(<Figure size 432x288 with 1 Axes>,\n",
       " <AxesSubplot:title={'center':'Precision-Recall curve: Baseline Comparison'}, xlabel='False Positive Rate', ylabel='True Positive Rate'>)"
      ]
     },
     "execution_count": 22,
     "metadata": {},
     "output_type": "execute_result"
    },
    {
     "data": {
      "image/png": "[encoded data removed]",
      "text/plain": [
       "<Figure size 432x288 with 1 Axes>"
      ]
     },
     "metadata": {
      "needs_background": "light"
     },
     "output_type": "display_data"
    }
   ],
   "source": [
    "plot.plot_auc_curve_mult(test[target_col], preds,\n",
    "                   title=title, colors = ['r', 'g', 'b'])"
   ]
  },
  {
   "cell_type": "code",
   "execution_count": null,
   "metadata": {},
   "outputs": [],
   "source": []
  },
  {
   "cell_type": "code",
   "execution_count": null,
   "metadata": {},
   "outputs": [],
   "source": []
  }
 ],
 "metadata": {
  "kernelspec": {
   "display_name": "conda_ml_basic_py37",
   "language": "python",
   "name": "conda_ml_basic_py37"
  },
  "language_info": {
   "codemirror_mode": {
    "name": "ipython",
    "version": 3
   },
   "file_extension": ".py",
   "mimetype": "text/x-python",
   "name": "python",
   "nbconvert_exporter": "python",
   "pygments_lexer": "ipython3",
   "version": "3.7.9"
  }
 },
 "nbformat": 4,
 "nbformat_minor": 4
}
