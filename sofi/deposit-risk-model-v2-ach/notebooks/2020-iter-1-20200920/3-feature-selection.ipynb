{
 "cells": [
  {
   "cell_type": "code",
   "execution_count": 1,
   "metadata": {},
   "outputs": [],
   "source": [
    "import pandas as pd\n",
    "import numpy as np\n",
    "import matplotlib.pyplot as plt\n",
    "import datetime as dt\n",
    "\n",
    "%matplotlib inline\n",
    "plt.style.use('ggplot')\n",
    "\n",
    "from sqlalchemy import create_engine\n",
    "from tqdm import tqdm\n",
    "from rdsutils.aws import download_s3 #, python_object_to_s3\n",
    "from rdsutils.feature_selection import FeatureSelector\n",
    "\n",
    "%load_ext autoreload\n",
    "%autoreload 2"
   ]
  },
  {
   "cell_type": "code",
   "execution_count": 2,
   "metadata": {},
   "outputs": [
    {
     "data": {
      "text/plain": [
       "((112599, 171), (88890, 171))"
      ]
     },
     "execution_count": 2,
     "metadata": {},
     "output_type": "execute_result"
    }
   ],
   "source": [
    "modeling_df = pd.read_parquet('../../artifacts/20200920/modeling_df.parquet')\n",
    "test_df = pd.read_parquet('../../artifacts/20200920/test_df.parquet')\n",
    "modeling_df.shape, test_df.shape"
   ]
  },
  {
   "cell_type": "code",
   "execution_count": 3,
   "metadata": {},
   "outputs": [],
   "source": [
    "v1_features = ['transaction_amount', 'fico_score', 'vantage_score',\n",
    "            'fraud_score_1', 'fraud_score_2', 'email_risk_score', 'phone_risk_score',  'all8220', \n",
    "            'iqt9415', 'all7120', 'mtf5820', 'bcc7120', 'bcc2800', 'iln5520', 'bcx3423', 'stu5031',\n",
    "            'nr_direct_deposits', 'nr_past_returns', 'rolling_trns_as_pct_of_bal', \n",
    "            'nr_transactions_per_day', 'transaction_as_pct_of_balance', \n",
    "            'transaction_as_pct_of_bal_min', 'rolling_mean_acc_bal', \n",
    "              'real_ending_balance', # old 'account_ending_balance'\n",
    "              'days_since_first_deposit' # old 'days_since_first_transaction'\n",
    "              ]\n",
    "\n",
    "features = ['transaction_amount', 'real_ending_balance', 'fico_score', \n",
    "            'vantage_score', 'all7120', 'all8220', 'bcc2800', 'bcc7120', \n",
    "            'bcx3423', 'iln5520', 'iqt9413', 'iqt9415', 'mtf5820', 'stu5031', \n",
    "            'credit_card_loan_amount', 'delinquencies_90_days', 'education_loan_amount',\n",
    "            'mortgage_loan_amount', 'secured_loan_amount', 'total_outstanding_balance', \n",
    "            'total_tradelines_open', 'unsecured_loan_amount', 'giact_is_pass', \n",
    "            'giact_is_decline', 'giact_is_other', 'giact_nr_pass', 'giact_nr_decline',\n",
    "            'giact_nr_other', 'fraud_score_1', 'fraud_score_2', 'address_risk_score', \n",
    "            'email_risk_score', 'phone_risk_score', 'name_address_correlation', \n",
    "            'name_email_correlation', 'name_phone_correlation', 'nr_social_profiles_found', \n",
    "            'days_since_first_deposit', 'lag_acc_open_first_transaction', 'first_deposit_amount', \n",
    "            'giact_time_since_first_link', 'giact_time_since_last_link', 'transaction_as_pct_of_balance', \n",
    "            'time_since_last_transaction', 'nr_past_returns', 'nr_returns_30d', 'nr_past_deposits',\n",
    "            'nr_deposits_3d', 'nr_deposits_30d', 'nr_past_transactions', 'nr_transactions_3d',\n",
    "            'nr_transactions_30d', 'pct_returned_deposits', 'pct_returned_deposits_30d',\n",
    "            'nr_transactions_30d_div_nr_past_transactions', 'mean_account_balance_3d',\n",
    "            'mean_account_balance_30d', 'std_account_balance_3d', 'std_account_balance_30d', \n",
    "            'sum_deposits_3d', 'sum_deposits_10d', 'sum_deposits_30d', 'sum_withdrawals_3d', \n",
    "            'sum_withdrawals_10d', 'sum_withdrawals_30d', 'mean_deposits_10d', \n",
    "            'mean_deposits', 'mean_deposits_10d_div_mean_deposits', 'mean_withdrawals_10d', \n",
    "            'mean_withdrawals', 'mean_withdrawals_10d_div_mean_withdrawals', 'max_deposits_3d', \n",
    "            'max_deposits_10d', 'max_deposits_10d_div_mean_deposits',\n",
    "            'max_deposits_10d_div_mean_account_balance_30d', 'max_withdrawals', \n",
    "            'max_withdrawals_3d', 'max_withdrawals_10d', 'max_withdrawals_10d_div_mean_withdrawals',\n",
    "            'nr_trans_ratio', 'bal_ratio', 'deposits_ratio', 'nr_direct_deposits', 'dollar_val_dd'] + v1_features\n",
    "\n",
    "def remove_giact(features):\n",
    "    return list(filter(lambda x: 'giact' not in x, features))\n",
    "\n",
    "features = sorted(list(set(features)))\n",
    "features = remove_giact(features)"
   ]
  },
  {
   "cell_type": "code",
   "execution_count": null,
   "metadata": {},
   "outputs": [],
   "source": []
  },
  {
   "cell_type": "markdown",
   "metadata": {},
   "source": [
    "### Apply our `FeatureSelector` Class\n",
    "---"
   ]
  },
  {
   "cell_type": "code",
   "execution_count": 4,
   "metadata": {},
   "outputs": [],
   "source": [
    "fsel = FeatureSelector(modeling_df, label_cols='is_returned', feature_cols=features)"
   ]
  },
  {
   "cell_type": "markdown",
   "metadata": {},
   "source": [
    "#### WOE"
   ]
  },
  {
   "cell_type": "code",
   "execution_count": 5,
   "metadata": {},
   "outputs": [
    {
     "name": "stdout",
     "output_type": "stream",
     "text": [
      "producing WOE for all columns with numerical dtype\n"
     ]
    },
    {
     "name": "stderr",
     "output_type": "stream",
     "text": [
      "/home/ec2-user/anaconda3/envs/ml_basic_py37/lib/python3.7/site-packages/pandas/core/algorithms.py:1081: RuntimeWarning: invalid value encountered in double_scalars\n",
      "  return a + (b - a) * fraction\n",
      "/home/ec2-user/anaconda3/envs/ml_basic_py37/lib/python3.7/site-packages/pandas/core/algorithms.py:1081: RuntimeWarning: invalid value encountered in double_scalars\n",
      "  return a + (b - a) * fraction\n",
      "/home/ec2-user/anaconda3/envs/ml_basic_py37/lib/python3.7/site-packages/pandas/core/algorithms.py:1081: RuntimeWarning: invalid value encountered in double_scalars\n",
      "  return a + (b - a) * fraction\n"
     ]
    },
    {
     "name": "stdout",
     "output_type": "stream",
     "text": [
      "processed  80  num attributes\n",
      "\n",
      "WOE fitted\n",
      "IV produced\n"
     ]
    },
    {
     "data": {
      "text/html": [
       "<div>\n",
       "<style scoped>\n",
       "    .dataframe tbody tr th:only-of-type {\n",
       "        vertical-align: middle;\n",
       "    }\n",
       "\n",
       "    .dataframe tbody tr th {\n",
       "        vertical-align: top;\n",
       "    }\n",
       "\n",
       "    .dataframe thead th {\n",
       "        text-align: right;\n",
       "    }\n",
       "</style>\n",
       "<table border=\"1\" class=\"dataframe\">\n",
       "  <thead>\n",
       "    <tr style=\"text-align: right;\">\n",
       "      <th></th>\n",
       "      <th>attr</th>\n",
       "      <th>iv</th>\n",
       "    </tr>\n",
       "  </thead>\n",
       "  <tbody>\n",
       "    <tr>\n",
       "      <th>79</th>\n",
       "      <td>vantage_score</td>\n",
       "      <td>1.8953</td>\n",
       "    </tr>\n",
       "    <tr>\n",
       "      <th>5</th>\n",
       "      <td>bcc7120</td>\n",
       "      <td>1.5681</td>\n",
       "    </tr>\n",
       "    <tr>\n",
       "      <th>74</th>\n",
       "      <td>total_tradelines_open</td>\n",
       "      <td>1.3604</td>\n",
       "    </tr>\n",
       "    <tr>\n",
       "      <th>7</th>\n",
       "      <td>credit_card_loan_amount</td>\n",
       "      <td>1.2676</td>\n",
       "    </tr>\n",
       "    <tr>\n",
       "      <th>8</th>\n",
       "      <td>days_since_first_deposit</td>\n",
       "      <td>1.1937</td>\n",
       "    </tr>\n",
       "    <tr>\n",
       "      <th>...</th>\n",
       "      <td>...</td>\n",
       "      <td>...</td>\n",
       "    </tr>\n",
       "    <tr>\n",
       "      <th>56</th>\n",
       "      <td>pct_returned_deposits</td>\n",
       "      <td>0.0000</td>\n",
       "    </tr>\n",
       "    <tr>\n",
       "      <th>26</th>\n",
       "      <td>max_withdrawals</td>\n",
       "      <td>0.0000</td>\n",
       "    </tr>\n",
       "    <tr>\n",
       "      <th>47</th>\n",
       "      <td>nr_past_returns</td>\n",
       "      <td>0.0000</td>\n",
       "    </tr>\n",
       "    <tr>\n",
       "      <th>49</th>\n",
       "      <td>nr_returns_30d</td>\n",
       "      <td>0.0000</td>\n",
       "    </tr>\n",
       "    <tr>\n",
       "      <th>57</th>\n",
       "      <td>pct_returned_deposits_30d</td>\n",
       "      <td>0.0000</td>\n",
       "    </tr>\n",
       "  </tbody>\n",
       "</table>\n",
       "<p>80 rows × 2 columns</p>\n",
       "</div>"
      ],
      "text/plain": [
       "                         attr      iv\n",
       "79              vantage_score  1.8953\n",
       "5                     bcc7120  1.5681\n",
       "74      total_tradelines_open  1.3604\n",
       "7     credit_card_loan_amount  1.2676\n",
       "8    days_since_first_deposit  1.1937\n",
       "..                        ...     ...\n",
       "56      pct_returned_deposits  0.0000\n",
       "26            max_withdrawals  0.0000\n",
       "47            nr_past_returns  0.0000\n",
       "49             nr_returns_30d  0.0000\n",
       "57  pct_returned_deposits_30d  0.0000\n",
       "\n",
       "[80 rows x 2 columns]"
      ]
     },
     "execution_count": 5,
     "metadata": {},
     "output_type": "execute_result"
    }
   ],
   "source": [
    "fsel.get_woe(method='equal', num_bin_start=10, min_iv=0.02, min_samples_leaf=100, display=0) \n",
    "fsel.get_iv(method='equal', num_bin_start=10, min_iv=0.02, min_samples_leaf=100, display=0)\n",
    "fsel.record_iv"
   ]
  },
  {
   "cell_type": "markdown",
   "metadata": {},
   "source": [
    "#### Correlation"
   ]
  },
  {
   "cell_type": "code",
   "execution_count": 6,
   "metadata": {},
   "outputs": [
    {
     "name": "stdout",
     "output_type": "stream",
     "text": [
      "correlation lowerbound: -0.6\n",
      "correlation upperbound: 0.6\n",
      "84 features have correlationbeyond bounds provided\n"
     ]
    }
   ],
   "source": [
    "corr = fsel.get_collinear(-0.6, 0.6)"
   ]
  },
  {
   "cell_type": "code",
   "execution_count": 7,
   "metadata": {},
   "outputs": [
    {
     "data": {
      "text/plain": [
       "[('all7120', 'bcc7120', 0.6601122147633398),\n",
       " ('all8220', 'fico_score', 0.6614249034603576),\n",
       " ('bal_ratio',\n",
       "  'max_deposits_10d_div_mean_account_balance_30d',\n",
       "  -0.999999999996758),\n",
       " ('bcc2800', 'bcc7120', 0.6828297637148093),\n",
       " ('bcc2800', 'bcx3423', 0.7890034610727087),\n",
       " ('bcc7120', 'bcx3423', 0.7063580852755199),\n",
       " ('days_since_first_deposit',\n",
       "  'nr_transactions_30d_div_nr_past_transactions',\n",
       "  -0.6561824281526911),\n",
       " ('deposits_ratio', 'nr_trans_ratio', 0.7897540442932123),\n",
       " ('dollar_val_dd', 'nr_direct_deposits', 0.6487163808739115),\n",
       " ('iqt9413', 'iqt9415', 0.6419049614123314)]"
      ]
     },
     "execution_count": 7,
     "metadata": {},
     "output_type": "execute_result"
    }
   ],
   "source": [
    "fsel.record_collinear_pairs[:10]"
   ]
  },
  {
   "cell_type": "markdown",
   "metadata": {},
   "source": [
    "#### Missing Value"
   ]
  },
  {
   "cell_type": "code",
   "execution_count": 8,
   "metadata": {},
   "outputs": [
    {
     "name": "stdout",
     "output_type": "stream",
     "text": [
      "27 features with greater than                 0.1 missing values\n"
     ]
    },
    {
     "data": {
      "text/html": [
       "<div>\n",
       "<style scoped>\n",
       "    .dataframe tbody tr th:only-of-type {\n",
       "        vertical-align: middle;\n",
       "    }\n",
       "\n",
       "    .dataframe tbody tr th {\n",
       "        vertical-align: top;\n",
       "    }\n",
       "\n",
       "    .dataframe thead th {\n",
       "        text-align: right;\n",
       "    }\n",
       "</style>\n",
       "<table border=\"1\" class=\"dataframe\">\n",
       "  <thead>\n",
       "    <tr style=\"text-align: right;\">\n",
       "      <th></th>\n",
       "      <th>feature</th>\n",
       "      <th>missing_frac</th>\n",
       "    </tr>\n",
       "  </thead>\n",
       "  <tbody>\n",
       "    <tr>\n",
       "      <th>64</th>\n",
       "      <td>std_account_balance_3d</td>\n",
       "      <td>0.579979</td>\n",
       "    </tr>\n",
       "    <tr>\n",
       "      <th>28</th>\n",
       "      <td>max_withdrawals_10d_div_mean_withdrawals</td>\n",
       "      <td>0.279692</td>\n",
       "    </tr>\n",
       "    <tr>\n",
       "      <th>63</th>\n",
       "      <td>std_account_balance_30d</td>\n",
       "      <td>0.233066</td>\n",
       "    </tr>\n",
       "    <tr>\n",
       "      <th>76</th>\n",
       "      <td>transaction_as_pct_of_bal_min</td>\n",
       "      <td>0.183749</td>\n",
       "    </tr>\n",
       "    <tr>\n",
       "      <th>61</th>\n",
       "      <td>rolling_trns_as_pct_of_bal</td>\n",
       "      <td>0.183749</td>\n",
       "    </tr>\n",
       "  </tbody>\n",
       "</table>\n",
       "</div>"
      ],
      "text/plain": [
       "                                     feature  missing_frac\n",
       "64                    std_account_balance_3d      0.579979\n",
       "28  max_withdrawals_10d_div_mean_withdrawals      0.279692\n",
       "63                   std_account_balance_30d      0.233066\n",
       "76             transaction_as_pct_of_bal_min      0.183749\n",
       "61                rolling_trns_as_pct_of_bal      0.183749"
      ]
     },
     "execution_count": 8,
     "metadata": {},
     "output_type": "execute_result"
    }
   ],
   "source": [
    "fsel.get_missing(0.1).head()"
   ]
  },
  {
   "cell_type": "markdown",
   "metadata": {},
   "source": [
    "#### Single Unique Value"
   ]
  },
  {
   "cell_type": "code",
   "execution_count": 9,
   "metadata": {},
   "outputs": [
    {
     "name": "stdout",
     "output_type": "stream",
     "text": [
      "1 features with a single unique value.\n"
     ]
    },
    {
     "data": {
      "text/html": [
       "<div>\n",
       "<style scoped>\n",
       "    .dataframe tbody tr th:only-of-type {\n",
       "        vertical-align: middle;\n",
       "    }\n",
       "\n",
       "    .dataframe tbody tr th {\n",
       "        vertical-align: top;\n",
       "    }\n",
       "\n",
       "    .dataframe thead th {\n",
       "        text-align: right;\n",
       "    }\n",
       "</style>\n",
       "<table border=\"1\" class=\"dataframe\">\n",
       "  <thead>\n",
       "    <tr style=\"text-align: right;\">\n",
       "      <th></th>\n",
       "      <th>feature</th>\n",
       "      <th>nr_unique</th>\n",
       "    </tr>\n",
       "  </thead>\n",
       "  <tbody>\n",
       "    <tr>\n",
       "      <th>26</th>\n",
       "      <td>max_withdrawals</td>\n",
       "      <td>1</td>\n",
       "    </tr>\n",
       "  </tbody>\n",
       "</table>\n",
       "</div>"
      ],
      "text/plain": [
       "            feature  nr_unique\n",
       "26  max_withdrawals          1"
      ]
     },
     "execution_count": 9,
     "metadata": {},
     "output_type": "execute_result"
    }
   ],
   "source": [
    "fsel.get_single_unique()"
   ]
  },
  {
   "cell_type": "code",
   "execution_count": 10,
   "metadata": {},
   "outputs": [
    {
     "data": {
      "text/html": [
       "<div>\n",
       "<style scoped>\n",
       "    .dataframe tbody tr th:only-of-type {\n",
       "        vertical-align: middle;\n",
       "    }\n",
       "\n",
       "    .dataframe tbody tr th {\n",
       "        vertical-align: top;\n",
       "    }\n",
       "\n",
       "    .dataframe thead th {\n",
       "        text-align: right;\n",
       "    }\n",
       "</style>\n",
       "<table border=\"1\" class=\"dataframe\">\n",
       "  <thead>\n",
       "    <tr style=\"text-align: right;\">\n",
       "      <th></th>\n",
       "      <th>feature</th>\n",
       "      <th>nr_unique</th>\n",
       "    </tr>\n",
       "  </thead>\n",
       "  <tbody>\n",
       "    <tr>\n",
       "      <th>26</th>\n",
       "      <td>max_withdrawals</td>\n",
       "      <td>1</td>\n",
       "    </tr>\n",
       "  </tbody>\n",
       "</table>\n",
       "</div>"
      ],
      "text/plain": [
       "            feature  nr_unique\n",
       "26  max_withdrawals          1"
      ]
     },
     "execution_count": 10,
     "metadata": {},
     "output_type": "execute_result"
    }
   ],
   "source": [
    "fsel.record_single_unique"
   ]
  },
  {
   "cell_type": "markdown",
   "metadata": {},
   "source": [
    "#### Boruta"
   ]
  },
  {
   "cell_type": "code",
   "execution_count": 11,
   "metadata": {},
   "outputs": [],
   "source": [
    "import lightgbm as lgb\n",
    "count_pos = modeling_df['is_returned'].sum()\n",
    "count_neg = (~modeling_df['is_returned']).sum()\n",
    "pos_wgt_scaling_factor = count_neg / count_pos"
   ]
  },
  {
   "cell_type": "code",
   "execution_count": null,
   "metadata": {},
   "outputs": [
    {
     "name": "stdout",
     "output_type": "stream",
     "text": [
      "[LightGBM] [Warning] min_data_in_leaf is set=50, min_child_samples=20 will be ignored. Current value: min_data_in_leaf=50\n",
      "CPU times: user 1d 14h 20min 21s, sys: 9.65 s, total: 1d 14h 20min 31s\n",
      "Wall time: 4h 48min 13s\n"
     ]
    },
    {
     "data": {
      "text/html": [
       "<div>\n",
       "<style scoped>\n",
       "    .dataframe tbody tr th:only-of-type {\n",
       "        vertical-align: middle;\n",
       "    }\n",
       "\n",
       "    .dataframe tbody tr th {\n",
       "        vertical-align: top;\n",
       "    }\n",
       "\n",
       "    .dataframe thead th {\n",
       "        text-align: right;\n",
       "    }\n",
       "</style>\n",
       "<table border=\"1\" class=\"dataframe\">\n",
       "  <thead>\n",
       "    <tr style=\"text-align: right;\">\n",
       "      <th></th>\n",
       "      <th>feature</th>\n",
       "      <th>score</th>\n",
       "      <th>mean_importance</th>\n",
       "    </tr>\n",
       "  </thead>\n",
       "  <tbody>\n",
       "    <tr>\n",
       "      <th>15</th>\n",
       "      <td>first_deposit_amount</td>\n",
       "      <td>50.0</td>\n",
       "      <td>5.933170</td>\n",
       "    </tr>\n",
       "    <tr>\n",
       "      <th>79</th>\n",
       "      <td>vantage_score</td>\n",
       "      <td>50.0</td>\n",
       "      <td>5.410654</td>\n",
       "    </tr>\n",
       "    <tr>\n",
       "      <th>13</th>\n",
       "      <td>email_risk_score</td>\n",
       "      <td>37.0</td>\n",
       "      <td>3.720315</td>\n",
       "    </tr>\n",
       "    <tr>\n",
       "      <th>7</th>\n",
       "      <td>credit_card_loan_amount</td>\n",
       "      <td>33.0</td>\n",
       "      <td>3.479086</td>\n",
       "    </tr>\n",
       "    <tr>\n",
       "      <th>58</th>\n",
       "      <td>phone_risk_score</td>\n",
       "      <td>31.0</td>\n",
       "      <td>3.501729</td>\n",
       "    </tr>\n",
       "    <tr>\n",
       "      <th>...</th>\n",
       "      <td>...</td>\n",
       "      <td>...</td>\n",
       "      <td>...</td>\n",
       "    </tr>\n",
       "    <tr>\n",
       "      <th>42</th>\n",
       "      <td>name_phone_correlation</td>\n",
       "      <td>-15.0</td>\n",
       "      <td>0.044414</td>\n",
       "    </tr>\n",
       "    <tr>\n",
       "      <th>19</th>\n",
       "      <td>iqt9413</td>\n",
       "      <td>-15.0</td>\n",
       "      <td>0.039189</td>\n",
       "    </tr>\n",
       "    <tr>\n",
       "      <th>40</th>\n",
       "      <td>name_address_correlation</td>\n",
       "      <td>-15.0</td>\n",
       "      <td>0.033964</td>\n",
       "    </tr>\n",
       "    <tr>\n",
       "      <th>9</th>\n",
       "      <td>delinquencies_90_days</td>\n",
       "      <td>-15.0</td>\n",
       "      <td>0.016546</td>\n",
       "    </tr>\n",
       "    <tr>\n",
       "      <th>26</th>\n",
       "      <td>max_withdrawals</td>\n",
       "      <td>-15.0</td>\n",
       "      <td>0.000000</td>\n",
       "    </tr>\n",
       "  </tbody>\n",
       "</table>\n",
       "<p>80 rows × 3 columns</p>\n",
       "</div>"
      ],
      "text/plain": [
       "                     feature  score  mean_importance\n",
       "15      first_deposit_amount   50.0         5.933170\n",
       "79             vantage_score   50.0         5.410654\n",
       "13          email_risk_score   37.0         3.720315\n",
       "7    credit_card_loan_amount   33.0         3.479086\n",
       "58          phone_risk_score   31.0         3.501729\n",
       "..                       ...    ...              ...\n",
       "42    name_phone_correlation  -15.0         0.044414\n",
       "19                   iqt9413  -15.0         0.039189\n",
       "40  name_address_correlation  -15.0         0.033964\n",
       "9      delinquencies_90_days  -15.0         0.016546\n",
       "26           max_withdrawals  -15.0         0.000000\n",
       "\n",
       "[80 rows x 3 columns]"
      ]
     },
     "execution_count": 12,
     "metadata": {},
     "output_type": "execute_result"
    }
   ],
   "source": [
    "model = lgb.LGBMClassifier(boosting_type='gbdt', metric='auc', max_depth=4, \n",
    "                         n_estimators=250, colsample_bytree=0.6, \n",
    "                         learning_rate=0.1, reg_alpha=10, scale_pos_weight=pos_wgt_scaling_factor, \n",
    "                         min_data_in_leaf=50, random_state=222)\n",
    "boruta_params = {\n",
    "    'features': features,\n",
    "    'drop_at': -15,\n",
    "    'max_iter': 50,\n",
    "    'random_state': 42, \n",
    "    'thresh': 0.3,\n",
    "    'verbose': 1\n",
    "}\n",
    "%time fsel.get_boruta_importance(model, **boruta_params)"
   ]
  },
  {
   "cell_type": "code",
   "execution_count": null,
   "metadata": {},
   "outputs": [
    {
     "data": {
      "text/html": [
       "<div>\n",
       "<style scoped>\n",
       "    .dataframe tbody tr th:only-of-type {\n",
       "        vertical-align: middle;\n",
       "    }\n",
       "\n",
       "    .dataframe tbody tr th {\n",
       "        vertical-align: top;\n",
       "    }\n",
       "\n",
       "    .dataframe thead th {\n",
       "        text-align: right;\n",
       "    }\n",
       "</style>\n",
       "<table border=\"1\" class=\"dataframe\">\n",
       "  <thead>\n",
       "    <tr style=\"text-align: right;\">\n",
       "      <th></th>\n",
       "      <th>feature</th>\n",
       "      <th>score</th>\n",
       "      <th>mean_importance</th>\n",
       "    </tr>\n",
       "  </thead>\n",
       "  <tbody>\n",
       "    <tr>\n",
       "      <th>15</th>\n",
       "      <td>first_deposit_amount</td>\n",
       "      <td>50.0</td>\n",
       "      <td>5.933170</td>\n",
       "    </tr>\n",
       "    <tr>\n",
       "      <th>79</th>\n",
       "      <td>vantage_score</td>\n",
       "      <td>50.0</td>\n",
       "      <td>5.410654</td>\n",
       "    </tr>\n",
       "    <tr>\n",
       "      <th>13</th>\n",
       "      <td>email_risk_score</td>\n",
       "      <td>37.0</td>\n",
       "      <td>3.720315</td>\n",
       "    </tr>\n",
       "    <tr>\n",
       "      <th>7</th>\n",
       "      <td>credit_card_loan_amount</td>\n",
       "      <td>33.0</td>\n",
       "      <td>3.479086</td>\n",
       "    </tr>\n",
       "    <tr>\n",
       "      <th>58</th>\n",
       "      <td>phone_risk_score</td>\n",
       "      <td>31.0</td>\n",
       "      <td>3.501729</td>\n",
       "    </tr>\n",
       "    <tr>\n",
       "      <th>...</th>\n",
       "      <td>...</td>\n",
       "      <td>...</td>\n",
       "      <td>...</td>\n",
       "    </tr>\n",
       "    <tr>\n",
       "      <th>42</th>\n",
       "      <td>name_phone_correlation</td>\n",
       "      <td>-15.0</td>\n",
       "      <td>0.044414</td>\n",
       "    </tr>\n",
       "    <tr>\n",
       "      <th>19</th>\n",
       "      <td>iqt9413</td>\n",
       "      <td>-15.0</td>\n",
       "      <td>0.039189</td>\n",
       "    </tr>\n",
       "    <tr>\n",
       "      <th>40</th>\n",
       "      <td>name_address_correlation</td>\n",
       "      <td>-15.0</td>\n",
       "      <td>0.033964</td>\n",
       "    </tr>\n",
       "    <tr>\n",
       "      <th>9</th>\n",
       "      <td>delinquencies_90_days</td>\n",
       "      <td>-15.0</td>\n",
       "      <td>0.016546</td>\n",
       "    </tr>\n",
       "    <tr>\n",
       "      <th>26</th>\n",
       "      <td>max_withdrawals</td>\n",
       "      <td>-15.0</td>\n",
       "      <td>0.000000</td>\n",
       "    </tr>\n",
       "  </tbody>\n",
       "</table>\n",
       "<p>80 rows × 3 columns</p>\n",
       "</div>"
      ],
      "text/plain": [
       "                     feature  score  mean_importance\n",
       "15      first_deposit_amount   50.0         5.933170\n",
       "79             vantage_score   50.0         5.410654\n",
       "13          email_risk_score   37.0         3.720315\n",
       "7    credit_card_loan_amount   33.0         3.479086\n",
       "58          phone_risk_score   31.0         3.501729\n",
       "..                       ...    ...              ...\n",
       "42    name_phone_correlation  -15.0         0.044414\n",
       "19                   iqt9413  -15.0         0.039189\n",
       "40  name_address_correlation  -15.0         0.033964\n",
       "9      delinquencies_90_days  -15.0         0.016546\n",
       "26           max_withdrawals  -15.0         0.000000\n",
       "\n",
       "[80 rows x 3 columns]"
      ]
     },
     "execution_count": 13,
     "metadata": {},
     "output_type": "execute_result"
    }
   ],
   "source": [
    "fsel.record_boruta_importance"
   ]
  },
  {
   "cell_type": "code",
   "execution_count": null,
   "metadata": {},
   "outputs": [],
   "source": [
    "fsel.record_boruta_importance.to_csv('../../artifacts/20200920/boruta_importance_iter1.csv')"
   ]
  },
  {
   "cell_type": "code",
   "execution_count": null,
   "metadata": {},
   "outputs": [
    {
     "data": {
      "text/plain": [
       "<AxesSubplot:>"
      ]
     },
     "execution_count": 15,
     "metadata": {},
     "output_type": "execute_result"
    },
    {
     "data": {
      "image/png": "[encoded data removed]",
      "text/plain": [
       "<Figure size 432x288 with 1 Axes>"
      ]
     },
     "metadata": {},
     "output_type": "display_data"
    }
   ],
   "source": [
    "fimp = fsel.record_boruta_importance\n",
    "fimp.score.hist()"
   ]
  },
  {
   "cell_type": "code",
   "execution_count": null,
   "metadata": {},
   "outputs": [],
   "source": [
    "boruta_features_iter1 = fimp[fimp.score>-10].feature.tolist()"
   ]
  },
  {
   "cell_type": "markdown",
   "metadata": {},
   "source": [
    "#### Remove Highly Correlated Features from Boruta features"
   ]
  },
  {
   "cell_type": "code",
   "execution_count": null,
   "metadata": {},
   "outputs": [
    {
     "name": "stdout",
     "output_type": "stream",
     "text": [
      "correlation lowerbound: -0.6\n",
      "correlation upperbound: 0.6\n",
      "9 features have correlationbeyond bounds provided\n"
     ]
    }
   ],
   "source": [
    "corr_ = fsel.get_collinear(-0.6, 0.6, boruta_features_iter1)"
   ]
  },
  {
   "cell_type": "code",
   "execution_count": null,
   "metadata": {},
   "outputs": [
    {
     "data": {
      "text/plain": [
       "[('rolling_trns_as_pct_of_bal',\n",
       "  'transaction_as_pct_of_balance',\n",
       "  0.9743327345547994),\n",
       " ('rolling_trns_as_pct_of_bal',\n",
       "  'transaction_as_pct_of_bal_min',\n",
       "  0.9740042281759871),\n",
       " ('transaction_as_pct_of_balance',\n",
       "  'transaction_as_pct_of_bal_min',\n",
       "  0.9338571154141151),\n",
       " ('nr_transactions_30d_div_nr_past_transactions',\n",
       "  'days_since_first_deposit',\n",
       "  -0.6561824281526911),\n",
       " ('all7120', 'bcc7120', 0.6601122147633398),\n",
       " ('all8220', 'fico_score', 0.6614249034603576),\n",
       " ('sum_deposits_10d', 'std_account_balance_30d', 0.7401518754594796),\n",
       " ('sum_deposits_10d', 'mean_deposits_10d', 0.6733882003174857),\n",
       " ('std_account_balance_30d', 'mean_deposits_10d', 0.6400847218662203)]"
      ]
     },
     "execution_count": 18,
     "metadata": {},
     "output_type": "execute_result"
    }
   ],
   "source": [
    "fsel.record_collinear_pairs"
   ]
  },
  {
   "cell_type": "code",
   "execution_count": null,
   "metadata": {},
   "outputs": [
    {
     "data": {
      "image/png": "[encoded data removed]",
      "text/plain": [
       "<Figure size 720x720 with 2 Axes>"
      ]
     },
     "metadata": {},
     "output_type": "display_data"
    },
    {
     "data": {
      "text/plain": [
       "(<Figure size 720x720 with 2 Axes>,\n",
       " <AxesSubplot:title={'center':'Correlation Matrix of Highly Correlated Features'}>)"
      ]
     },
     "execution_count": 19,
     "metadata": {},
     "output_type": "execute_result"
    }
   ],
   "source": [
    "fsel.plot_collinear()"
   ]
  },
  {
   "cell_type": "markdown",
   "metadata": {},
   "source": [
    "### Save the states of the feature selector "
   ]
  },
  {
   "cell_type": "code",
   "execution_count": null,
   "metadata": {},
   "outputs": [],
   "source": [
    "path = '../../artifacts/20200920/feature_selector_dict.pkl'\n",
    "fsel.save(path)"
   ]
  },
  {
   "cell_type": "code",
   "execution_count": null,
   "metadata": {},
   "outputs": [],
   "source": []
  },
  {
   "cell_type": "code",
   "execution_count": null,
   "metadata": {},
   "outputs": [],
   "source": []
  },
  {
   "cell_type": "code",
   "execution_count": null,
   "metadata": {},
   "outputs": [],
   "source": []
  }
 ],
 "metadata": {
  "kernelspec": {
   "display_name": "conda_ml_basic_py37",
   "language": "python",
   "name": "conda_ml_basic_py37"
  },
  "language_info": {
   "codemirror_mode": {
    "name": "ipython",
    "version": 3
   },
   "file_extension": ".py",
   "mimetype": "text/x-python",
   "name": "python",
   "nbconvert_exporter": "python",
   "pygments_lexer": "ipython3",
   "version": "3.7.8"
  }
 },
 "nbformat": 4,
 "nbformat_minor": 4
}
