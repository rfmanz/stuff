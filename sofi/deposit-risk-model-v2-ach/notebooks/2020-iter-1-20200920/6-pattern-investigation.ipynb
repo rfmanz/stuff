{
 "cells": [
  {
   "cell_type": "markdown",
   "metadata": {},
   "source": [
    "### Investigate Patterns for important misclassfied transactions\n",
    "---\n",
    "\n",
    "We produce the group of transactions the current model perform weakly on in `5-investigate-misclassified`. In this notebook we study the pattern them to build better features."
   ]
  },
  {
   "cell_type": "code",
   "execution_count": 1,
   "metadata": {},
   "outputs": [],
   "source": [
    "# !pip uninstall rdsutils --yes\n",
    "# !pip install -i https://repository.sofi.com/artifactory/api/pypi/pypi/simple rdsutils --no-cache-dir"
   ]
  },
  {
   "cell_type": "code",
   "execution_count": 2,
   "metadata": {},
   "outputs": [],
   "source": [
    "import pandas as pd\n",
    "import numpy as np\n",
    "import matplotlib.pyplot as plt\n",
    "\n",
    "%matplotlib inline\n",
    "plt.style.use('ggplot')\n",
    "\n",
    "from sqlalchemy import create_engine\n",
    "from tqdm import tqdm\n",
    "from rdsutils.aws import download_s3, python_object_to_s3\n",
    "from rdsutils.analysis import get_misclassified_high_risk_rows, build_summary\n",
    "from rdsutils.plot import hist_by_target, TransactionsVisualizer\n",
    "\n",
    "%load_ext autoreload\n",
    "%autoreload 2"
   ]
  },
  {
   "cell_type": "code",
   "execution_count": 3,
   "metadata": {},
   "outputs": [],
   "source": [
    "modeling_df = pd.read_parquet('../../artifacts/20200920/modeling_df_w_baseline_preds.parquet')\n",
    "transactions_df = pd.read_parquet('../../artifacts/20200920/transactions_df_unlabeled.parquet')"
   ]
  },
  {
   "cell_type": "code",
   "execution_count": 4,
   "metadata": {},
   "outputs": [],
   "source": [
    "deposit_transaction_codes = ['POSDD', 'ACHDD', 'ACHDDIN', 'ACHINDD', 'DDCK', 'DDMBR', 'DD']\n",
    "withdrawal_transaction_codes = ['POSDW', 'ACHDW', 'ACHDWIN', 'DWATM', 'DWATMI', 'DWCK', 'DWBILLPAY',\n",
    "                                'DWCRDBILLPAY', 'DWMBR', 'ACHDWP2P', 'DWWIRE', 'DBDWWIRE', \n",
    "                                'DWTRF', 'DBDW', 'DWSLROTP', 'DW']\n",
    "modeling_df['ach_target'] = modeling_df['is_returned']\n",
    "transactions_df['ach_target'] = transactions_df['is_returned']\n",
    "transactions_df['ach_target'].fillna(False, inplace=True)"
   ]
  },
  {
   "cell_type": "code",
   "execution_count": 5,
   "metadata": {},
   "outputs": [
    {
     "data": {
      "text/plain": [
       "False    15252339\n",
       "True        42889\n",
       "Name: ach_target, dtype: int64"
      ]
     },
     "execution_count": 5,
     "metadata": {},
     "output_type": "execute_result"
    }
   ],
   "source": [
    "transactions_df['ach_target'].value_counts(dropna=False)"
   ]
  },
  {
   "cell_type": "markdown",
   "metadata": {},
   "source": [
    "#### Look at Highly Confident Ones\n",
    "---"
   ]
  },
  {
   "cell_type": "code",
   "execution_count": 19,
   "metadata": {},
   "outputs": [],
   "source": [
    "def get_high_conf_trajectory_info(df):\n",
    "    target_stats = ['ach_target']\n",
    "    meta_cols = ['borrower_id', 'business_account_number', \n",
    "                 'boruta_pred', 'deposit_v1_pred', 'deposit_v1_updated_pred', \n",
    "                 'real_ending_balance', 'transaction_amount']+target_stats\n",
    "    df = modeling_df[meta_cols]  # no indeterminate here\n",
    "    df = df.loc[df['ach_target']]  # only look at targets\n",
    "    df = df.sort_values(by=['boruta_pred', 'transaction_amount'], \n",
    "                        ascending=False)\n",
    "    correctly_classified_df = df\n",
    "    \n",
    "    focus_on_df = df.sort_values('boruta_pred', ascending=False)\n",
    "    focus_on_df['ach_target'] = focus_on_df['ach_target'].astype(float)\n",
    "    df_by_account = focus_on_df.groupby(['business_account_number'])['ach_target', 'boruta_pred', \n",
    "                                                                     'transaction_amount'].agg(['mean', 'count', 'sum'])\n",
    "    \n",
    "    # df_by_account = df_by_account.sort_values(by=[('transaction_amount', 'mean')], ascending=False)\n",
    "    df_by_account = df_by_account.sort_values(by=[('boruta_pred', 'mean')], ascending=False)\n",
    "    df_by_account = df_by_account[[('ach_target', 'mean'), \n",
    "                                   ('boruta_pred', 'mean'), \n",
    "                                   ('boruta_pred', 'count'),\n",
    "                                   ('transaction_amount', 'sum')]]\n",
    "\n",
    "    df_by_account_ = focus_on_df.groupby(['business_account_number'])[target_stats].agg(['count'])\n",
    "    df_by_account = pd.merge(df_by_account, df_by_account_, left_index=True, right_index=True)\n",
    "    return correctly_classified_df, df_by_account"
   ]
  },
  {
   "cell_type": "code",
   "execution_count": 24,
   "metadata": {},
   "outputs": [
    {
     "name": "stderr",
     "output_type": "stream",
     "text": [
      "/home/ec2-user/anaconda3/envs/ml_basic_py37/lib/python3.7/site-packages/ipykernel/__main__.py:14: FutureWarning: Indexing with multiple keys (implicitly converted to a tuple of keys) will be deprecated, use a list instead.\n"
     ]
    }
   ],
   "source": [
    "correct_df, cor_df_by_account = get_high_conf_trajectory_info(modeling_df)"
   ]
  },
  {
   "cell_type": "code",
   "execution_count": 25,
   "metadata": {},
   "outputs": [],
   "source": [
    "def drop_non_ach(df):\n",
    "    return df[df['transaction_code'].isin(['ACHDD']) & (df['transaction_amount'] > 0)]"
   ]
  },
  {
   "cell_type": "code",
   "execution_count": 26,
   "metadata": {},
   "outputs": [
    {
     "name": "stderr",
     "output_type": "stream",
     "text": [
      "1000it [07:56,  2.10it/s]\n"
     ]
    }
   ],
   "source": [
    "path = '../../artifacts/20200920/ach-correctly-classified-trajectory.html'\n",
    "visualizer = TransactionsVisualizer(path,\n",
    "                                    cor_df_by_account, transactions_df, \n",
    "                                    'business_account_number', \n",
    "                                    target_col='ach_target',\n",
    "                                    scatter_filter=drop_non_ach)\n",
    "visualizer.run(n_samples=1000)"
   ]
  },
  {
   "cell_type": "markdown",
   "metadata": {},
   "source": [
    "#### Group 1: low boruta_pred\n",
    "---\n",
    "Compare with `5-investigate-missclassification` side-by-side."
   ]
  },
  {
   "cell_type": "code",
   "execution_count": 6,
   "metadata": {},
   "outputs": [],
   "source": [
    "def get_trajectory_info(df):\n",
    "#     n_days = 60\n",
    "#     target_stats = [f'target_{n_days}d',\n",
    "#                    f'is_chg_wrt_off_in_{n_days}d',\n",
    "#                    f'account_closed_by_risk_in_next_{n_days}d',\n",
    "#                    f'nr_returns_in_next_{n_days}d',\n",
    "#                    f'bal_after_{n_days}d']\n",
    "    target_stats = ['ach_target']\n",
    "    meta_cols = ['borrower_id', 'business_account_number', \n",
    "                 'boruta_pred', 'deposit_v1_pred', 'deposit_v1_updated_pred', \n",
    "                 'real_ending_balance', 'transaction_amount']+target_stats\n",
    "    df = modeling_df[meta_cols]  # no indeterminate here\n",
    "    df = df.loc[df['ach_target']]  # only look at targets\n",
    "    df = get_misclassified_high_risk_rows(df, 'transaction_amount', 'boruta_pred')\n",
    "    misclassified_df = df\n",
    "    \n",
    "    focus_on_df = df.sort_values('boruta_pred', ascending=True)\n",
    "    focus_on_df['ach_target'] = focus_on_df['ach_target'].astype(float)\n",
    "    df_by_account = focus_on_df.groupby(['business_account_number'])['ach_target', 'boruta_pred', \n",
    "                                                                     'transaction_amount'].agg(['mean', 'count', 'sum'])\n",
    "    \n",
    "    # df_by_account = df_by_account.sort_values(by=[('transaction_amount', 'mean')], ascending=False)\n",
    "    df_by_account = df_by_account.sort_values(by=[('boruta_pred', 'mean')], ascending=True)\n",
    "    df_by_account = df_by_account[[('ach_target', 'mean'), \n",
    "                                   ('boruta_pred', 'mean'), \n",
    "                                   ('boruta_pred', 'count'),\n",
    "                                   ('transaction_amount', 'sum')]]\n",
    "\n",
    "    df_by_account_ = focus_on_df.groupby(['business_account_number'])[target_stats].agg(['count'])\n",
    "    df_by_account = pd.merge(df_by_account, df_by_account_, left_index=True, right_index=True)\n",
    "    return misclassified_df, df_by_account"
   ]
  },
  {
   "cell_type": "code",
   "execution_count": 7,
   "metadata": {},
   "outputs": [
    {
     "name": "stderr",
     "output_type": "stream",
     "text": [
      "/home/ec2-user/anaconda3/envs/ml_basic_py37/lib/python3.7/site-packages/ipykernel/__main__.py:19: FutureWarning: Indexing with multiple keys (implicitly converted to a tuple of keys) will be deprecated, use a list instead.\n"
     ]
    }
   ],
   "source": [
    "mis_df, df_by_account = get_trajectory_info(modeling_df)"
   ]
  },
  {
   "cell_type": "code",
   "execution_count": 8,
   "metadata": {},
   "outputs": [
    {
     "data": {
      "text/html": [
       "<div>\n",
       "<style scoped>\n",
       "    .dataframe tbody tr th:only-of-type {\n",
       "        vertical-align: middle;\n",
       "    }\n",
       "\n",
       "    .dataframe tbody tr th {\n",
       "        vertical-align: top;\n",
       "    }\n",
       "\n",
       "    .dataframe thead th {\n",
       "        text-align: right;\n",
       "    }\n",
       "</style>\n",
       "<table border=\"1\" class=\"dataframe\">\n",
       "  <thead>\n",
       "    <tr style=\"text-align: right;\">\n",
       "      <th></th>\n",
       "      <th>borrower_id</th>\n",
       "      <th>business_account_number</th>\n",
       "      <th>boruta_pred</th>\n",
       "      <th>deposit_v1_pred</th>\n",
       "      <th>deposit_v1_updated_pred</th>\n",
       "      <th>real_ending_balance</th>\n",
       "      <th>transaction_amount</th>\n",
       "      <th>ach_target</th>\n",
       "    </tr>\n",
       "  </thead>\n",
       "  <tbody>\n",
       "    <tr>\n",
       "      <th>7753876</th>\n",
       "      <td>38704</td>\n",
       "      <td>410001743824</td>\n",
       "      <td>0.109560</td>\n",
       "      <td>0.005263</td>\n",
       "      <td>0.120669</td>\n",
       "      <td>61011.73</td>\n",
       "      <td>50000.0</td>\n",
       "      <td>True</td>\n",
       "    </tr>\n",
       "    <tr>\n",
       "      <th>8747931</th>\n",
       "      <td>7877594</td>\n",
       "      <td>410001959615</td>\n",
       "      <td>0.182500</td>\n",
       "      <td>0.001513</td>\n",
       "      <td>0.285454</td>\n",
       "      <td>75709.75</td>\n",
       "      <td>50000.0</td>\n",
       "      <td>True</td>\n",
       "    </tr>\n",
       "    <tr>\n",
       "      <th>7972827</th>\n",
       "      <td>7734122</td>\n",
       "      <td>410001789737</td>\n",
       "      <td>0.216921</td>\n",
       "      <td>0.053258</td>\n",
       "      <td>0.296705</td>\n",
       "      <td>50135.85</td>\n",
       "      <td>50000.0</td>\n",
       "      <td>True</td>\n",
       "    </tr>\n",
       "    <tr>\n",
       "      <th>8441021</th>\n",
       "      <td>4674252</td>\n",
       "      <td>410001884084</td>\n",
       "      <td>0.250612</td>\n",
       "      <td>0.004313</td>\n",
       "      <td>0.240452</td>\n",
       "      <td>156225.75</td>\n",
       "      <td>50000.0</td>\n",
       "      <td>True</td>\n",
       "    </tr>\n",
       "    <tr>\n",
       "      <th>73917</th>\n",
       "      <td>3116972</td>\n",
       "      <td>410000074416</td>\n",
       "      <td>0.441121</td>\n",
       "      <td>0.013160</td>\n",
       "      <td>0.240653</td>\n",
       "      <td>50919.34</td>\n",
       "      <td>50000.0</td>\n",
       "      <td>True</td>\n",
       "    </tr>\n",
       "  </tbody>\n",
       "</table>\n",
       "</div>"
      ],
      "text/plain": [
       "         borrower_id  business_account_number  boruta_pred  deposit_v1_pred  \\\n",
       "7753876        38704             410001743824     0.109560         0.005263   \n",
       "8747931      7877594             410001959615     0.182500         0.001513   \n",
       "7972827      7734122             410001789737     0.216921         0.053258   \n",
       "8441021      4674252             410001884084     0.250612         0.004313   \n",
       "73917        3116972             410000074416     0.441121         0.013160   \n",
       "\n",
       "         deposit_v1_updated_pred  real_ending_balance  transaction_amount  \\\n",
       "7753876                 0.120669             61011.73             50000.0   \n",
       "8747931                 0.285454             75709.75             50000.0   \n",
       "7972827                 0.296705             50135.85             50000.0   \n",
       "8441021                 0.240452            156225.75             50000.0   \n",
       "73917                   0.240653             50919.34             50000.0   \n",
       "\n",
       "         ach_target  \n",
       "7753876        True  \n",
       "8747931        True  \n",
       "7972827        True  \n",
       "8441021        True  \n",
       "73917          True  "
      ]
     },
     "execution_count": 8,
     "metadata": {},
     "output_type": "execute_result"
    }
   ],
   "source": [
    "mis_df.head()"
   ]
  },
  {
   "cell_type": "code",
   "execution_count": 9,
   "metadata": {},
   "outputs": [
    {
     "data": {
      "text/html": [
       "<div>\n",
       "<style scoped>\n",
       "    .dataframe tbody tr th:only-of-type {\n",
       "        vertical-align: middle;\n",
       "    }\n",
       "\n",
       "    .dataframe tbody tr th {\n",
       "        vertical-align: top;\n",
       "    }\n",
       "\n",
       "    .dataframe thead tr th {\n",
       "        text-align: left;\n",
       "    }\n",
       "\n",
       "    .dataframe thead tr:last-of-type th {\n",
       "        text-align: right;\n",
       "    }\n",
       "</style>\n",
       "<table border=\"1\" class=\"dataframe\">\n",
       "  <thead>\n",
       "    <tr>\n",
       "      <th></th>\n",
       "      <th>ach_target</th>\n",
       "      <th colspan=\"2\" halign=\"left\">boruta_pred</th>\n",
       "      <th>transaction_amount</th>\n",
       "      <th>ach_target</th>\n",
       "    </tr>\n",
       "    <tr>\n",
       "      <th></th>\n",
       "      <th>mean</th>\n",
       "      <th>mean</th>\n",
       "      <th>count</th>\n",
       "      <th>sum</th>\n",
       "      <th>count</th>\n",
       "    </tr>\n",
       "    <tr>\n",
       "      <th>business_account_number</th>\n",
       "      <th></th>\n",
       "      <th></th>\n",
       "      <th></th>\n",
       "      <th></th>\n",
       "      <th></th>\n",
       "    </tr>\n",
       "  </thead>\n",
       "  <tbody>\n",
       "    <tr>\n",
       "      <th>410000889900</th>\n",
       "      <td>1.0</td>\n",
       "      <td>0.007645</td>\n",
       "      <td>1</td>\n",
       "      <td>1100.0</td>\n",
       "      <td>1</td>\n",
       "    </tr>\n",
       "    <tr>\n",
       "      <th>410002006160</th>\n",
       "      <td>1.0</td>\n",
       "      <td>0.012066</td>\n",
       "      <td>1</td>\n",
       "      <td>1000.0</td>\n",
       "      <td>1</td>\n",
       "    </tr>\n",
       "    <tr>\n",
       "      <th>410004175867</th>\n",
       "      <td>1.0</td>\n",
       "      <td>0.012528</td>\n",
       "      <td>1</td>\n",
       "      <td>300.0</td>\n",
       "      <td>1</td>\n",
       "    </tr>\n",
       "    <tr>\n",
       "      <th>410004891725</th>\n",
       "      <td>1.0</td>\n",
       "      <td>0.012878</td>\n",
       "      <td>1</td>\n",
       "      <td>50.0</td>\n",
       "      <td>1</td>\n",
       "    </tr>\n",
       "    <tr>\n",
       "      <th>410002296417</th>\n",
       "      <td>1.0</td>\n",
       "      <td>0.015322</td>\n",
       "      <td>1</td>\n",
       "      <td>650.0</td>\n",
       "      <td>1</td>\n",
       "    </tr>\n",
       "  </tbody>\n",
       "</table>\n",
       "</div>"
      ],
      "text/plain": [
       "                        ach_target boruta_pred       transaction_amount  \\\n",
       "                              mean        mean count                sum   \n",
       "business_account_number                                                   \n",
       "410000889900                   1.0    0.007645     1             1100.0   \n",
       "410002006160                   1.0    0.012066     1             1000.0   \n",
       "410004175867                   1.0    0.012528     1              300.0   \n",
       "410004891725                   1.0    0.012878     1               50.0   \n",
       "410002296417                   1.0    0.015322     1              650.0   \n",
       "\n",
       "                        ach_target  \n",
       "                             count  \n",
       "business_account_number             \n",
       "410000889900                     1  \n",
       "410002006160                     1  \n",
       "410004175867                     1  \n",
       "410004891725                     1  \n",
       "410002296417                     1  "
      ]
     },
     "execution_count": 9,
     "metadata": {},
     "output_type": "execute_result"
    }
   ],
   "source": [
    "# account level dataframe, with index being the id\n",
    "df_by_account.head()"
   ]
  },
  {
   "cell_type": "code",
   "execution_count": 10,
   "metadata": {},
   "outputs": [],
   "source": [
    "def drop_non_ach(df):\n",
    "    return df[df['transaction_code'].isin(['ACHDD']) & (df['transaction_amount'] > 0)]"
   ]
  },
  {
   "cell_type": "code",
   "execution_count": 12,
   "metadata": {},
   "outputs": [
    {
     "name": "stderr",
     "output_type": "stream",
     "text": [
      "2923it [23:24,  2.08it/s]\n"
     ]
    }
   ],
   "source": [
    "# path = '../../artifacts/20200920/ach-trajectory.html'\n",
    "path = '../../artifacts/20200920/ach-trajectory-full.html'\n",
    "visualizer = TransactionsVisualizer(path,\n",
    "                                    df_by_account, transactions_df, \n",
    "                                    'business_account_number', \n",
    "                                    target_col='ach_target',\n",
    "                                    scatter_filter=drop_non_ach)\n",
    "# visualizer.run(n_samples=100)\n",
    "visualizer.run()"
   ]
  },
  {
   "cell_type": "markdown",
   "metadata": {},
   "source": [
    "#### Look at individual ids"
   ]
  },
  {
   "cell_type": "code",
   "execution_count": 9,
   "metadata": {},
   "outputs": [
    {
     "data": {
      "text/html": [
       "<div>\n",
       "<style scoped>\n",
       "    .dataframe tbody tr th:only-of-type {\n",
       "        vertical-align: middle;\n",
       "    }\n",
       "\n",
       "    .dataframe tbody tr th {\n",
       "        vertical-align: top;\n",
       "    }\n",
       "\n",
       "    .dataframe thead th {\n",
       "        text-align: right;\n",
       "    }\n",
       "</style>\n",
       "<table border=\"1\" class=\"dataframe\">\n",
       "  <thead>\n",
       "    <tr style=\"text-align: right;\">\n",
       "      <th></th>\n",
       "      <th>transaction_datetime</th>\n",
       "      <th>user_id</th>\n",
       "      <th>business_account_number</th>\n",
       "      <th>transaction_code</th>\n",
       "      <th>is_return</th>\n",
       "      <th>transaction_amount</th>\n",
       "      <th>endbal</th>\n",
       "      <th>external_account_number</th>\n",
       "      <th>real_ending_balance</th>\n",
       "      <th>external_institution_id</th>\n",
       "      <th>...</th>\n",
       "      <th>nr_returns_in_next_30d</th>\n",
       "      <th>target_30d</th>\n",
       "      <th>indeterminate_30d</th>\n",
       "      <th>account_closed_by_risk_in_next_60d</th>\n",
       "      <th>latest_acc_bal</th>\n",
       "      <th>is_chg_wrt_off_in_60d</th>\n",
       "      <th>bal_after_60d</th>\n",
       "      <th>nr_returns_in_next_60d</th>\n",
       "      <th>target_60d</th>\n",
       "      <th>indeterminate_60d</th>\n",
       "    </tr>\n",
       "  </thead>\n",
       "  <tbody>\n",
       "    <tr>\n",
       "      <th>10566333</th>\n",
       "      <td>2019-09-12 18:01:10</td>\n",
       "      <td>14532591</td>\n",
       "      <td>410002532273</td>\n",
       "      <td>ACHDD</td>\n",
       "      <td>False</td>\n",
       "      <td>100.0</td>\n",
       "      <td>100.00</td>\n",
       "      <td>165838997</td>\n",
       "      <td>100.00</td>\n",
       "      <td>031176110</td>\n",
       "      <td>...</td>\n",
       "      <td>0.0</td>\n",
       "      <td>False</td>\n",
       "      <td>False</td>\n",
       "      <td>False</td>\n",
       "      <td>0.0</td>\n",
       "      <td>False</td>\n",
       "      <td>200.15</td>\n",
       "      <td>0.0</td>\n",
       "      <td>False</td>\n",
       "      <td>False</td>\n",
       "    </tr>\n",
       "    <tr>\n",
       "      <th>10566334</th>\n",
       "      <td>2019-09-12 18:01:37</td>\n",
       "      <td>14532591</td>\n",
       "      <td>410002532273</td>\n",
       "      <td>DDRAFNEW</td>\n",
       "      <td>False</td>\n",
       "      <td>50.0</td>\n",
       "      <td>150.00</td>\n",
       "      <td></td>\n",
       "      <td>150.00</td>\n",
       "      <td></td>\n",
       "      <td>...</td>\n",
       "      <td>0.0</td>\n",
       "      <td>False</td>\n",
       "      <td>False</td>\n",
       "      <td>False</td>\n",
       "      <td>0.0</td>\n",
       "      <td>False</td>\n",
       "      <td>200.15</td>\n",
       "      <td>0.0</td>\n",
       "      <td>False</td>\n",
       "      <td>False</td>\n",
       "    </tr>\n",
       "    <tr>\n",
       "      <th>10566335</th>\n",
       "      <td>2019-10-09 18:01:08</td>\n",
       "      <td>14532591</td>\n",
       "      <td>410002532273</td>\n",
       "      <td>ACHDD</td>\n",
       "      <td>False</td>\n",
       "      <td>50.0</td>\n",
       "      <td>200.15</td>\n",
       "      <td>165838997</td>\n",
       "      <td>200.15</td>\n",
       "      <td>031176110</td>\n",
       "      <td>...</td>\n",
       "      <td>0.0</td>\n",
       "      <td>False</td>\n",
       "      <td>False</td>\n",
       "      <td>False</td>\n",
       "      <td>0.0</td>\n",
       "      <td>False</td>\n",
       "      <td>276.43</td>\n",
       "      <td>0.0</td>\n",
       "      <td>False</td>\n",
       "      <td>False</td>\n",
       "    </tr>\n",
       "    <tr>\n",
       "      <th>10566336</th>\n",
       "      <td>2019-11-18 18:04:39</td>\n",
       "      <td>14532591</td>\n",
       "      <td>410002532273</td>\n",
       "      <td>DDRAFCUS</td>\n",
       "      <td>False</td>\n",
       "      <td>50.0</td>\n",
       "      <td>250.43</td>\n",
       "      <td></td>\n",
       "      <td>250.43</td>\n",
       "      <td></td>\n",
       "      <td>...</td>\n",
       "      <td>0.0</td>\n",
       "      <td>False</td>\n",
       "      <td>False</td>\n",
       "      <td>False</td>\n",
       "      <td>0.0</td>\n",
       "      <td>False</td>\n",
       "      <td>374.33</td>\n",
       "      <td>0.0</td>\n",
       "      <td>False</td>\n",
       "      <td>False</td>\n",
       "    </tr>\n",
       "    <tr>\n",
       "      <th>10566337</th>\n",
       "      <td>2019-11-25 18:01:10</td>\n",
       "      <td>14532591</td>\n",
       "      <td>410002532273</td>\n",
       "      <td>ACHDD</td>\n",
       "      <td>False</td>\n",
       "      <td>26.0</td>\n",
       "      <td>276.43</td>\n",
       "      <td>165838997</td>\n",
       "      <td>276.43</td>\n",
       "      <td>031176110</td>\n",
       "      <td>...</td>\n",
       "      <td>0.0</td>\n",
       "      <td>False</td>\n",
       "      <td>False</td>\n",
       "      <td>False</td>\n",
       "      <td>0.0</td>\n",
       "      <td>False</td>\n",
       "      <td>189.66</td>\n",
       "      <td>0.0</td>\n",
       "      <td>False</td>\n",
       "      <td>False</td>\n",
       "    </tr>\n",
       "  </tbody>\n",
       "</table>\n",
       "<p>5 rows × 192 columns</p>\n",
       "</div>"
      ],
      "text/plain": [
       "         transaction_datetime   user_id  business_account_number  \\\n",
       "10566333  2019-09-12 18:01:10  14532591             410002532273   \n",
       "10566334  2019-09-12 18:01:37  14532591             410002532273   \n",
       "10566335  2019-10-09 18:01:08  14532591             410002532273   \n",
       "10566336  2019-11-18 18:04:39  14532591             410002532273   \n",
       "10566337  2019-11-25 18:01:10  14532591             410002532273   \n",
       "\n",
       "         transaction_code  is_return  transaction_amount  endbal  \\\n",
       "10566333            ACHDD      False               100.0  100.00   \n",
       "10566334         DDRAFNEW      False                50.0  150.00   \n",
       "10566335            ACHDD      False                50.0  200.15   \n",
       "10566336         DDRAFCUS      False                50.0  250.43   \n",
       "10566337            ACHDD      False                26.0  276.43   \n",
       "\n",
       "         external_account_number  real_ending_balance external_institution_id  \\\n",
       "10566333               165838997               100.00               031176110   \n",
       "10566334                                       150.00                           \n",
       "10566335               165838997               200.15               031176110   \n",
       "10566336                                       250.43                           \n",
       "10566337               165838997               276.43               031176110   \n",
       "\n",
       "          ... nr_returns_in_next_30d target_30d indeterminate_30d  \\\n",
       "10566333  ...                    0.0      False             False   \n",
       "10566334  ...                    0.0      False             False   \n",
       "10566335  ...                    0.0      False             False   \n",
       "10566336  ...                    0.0      False             False   \n",
       "10566337  ...                    0.0      False             False   \n",
       "\n",
       "          account_closed_by_risk_in_next_60d  latest_acc_bal  \\\n",
       "10566333                               False             0.0   \n",
       "10566334                               False             0.0   \n",
       "10566335                               False             0.0   \n",
       "10566336                               False             0.0   \n",
       "10566337                               False             0.0   \n",
       "\n",
       "         is_chg_wrt_off_in_60d bal_after_60d  nr_returns_in_next_60d  \\\n",
       "10566333                 False        200.15                     0.0   \n",
       "10566334                 False        200.15                     0.0   \n",
       "10566335                 False        276.43                     0.0   \n",
       "10566336                 False        374.33                     0.0   \n",
       "10566337                 False        189.66                     0.0   \n",
       "\n",
       "          target_60d indeterminate_60d  \n",
       "10566333       False             False  \n",
       "10566334       False             False  \n",
       "10566335       False             False  \n",
       "10566336       False             False  \n",
       "10566337       False             False  \n",
       "\n",
       "[5 rows x 192 columns]"
      ]
     },
     "execution_count": 9,
     "metadata": {},
     "output_type": "execute_result"
    }
   ],
   "source": [
    "bid = 410002532273\n",
    "df = transactions_df[transactions_df.business_account_number == bid].copy()\n",
    "df.sort_values(by=['transaction_datetime'], ascending=True, inplace=True)\n",
    "df.head()"
   ]
  },
  {
   "cell_type": "markdown",
   "metadata": {},
   "source": [
    "* does having an external account id affect the result? \n",
    "* how about having multiple external account ids?"
   ]
  },
  {
   "cell_type": "code",
   "execution_count": 10,
   "metadata": {},
   "outputs": [
    {
     "data": {
      "image/png": "[encoded data removed]",
      "text/plain": [
       "<Figure size 432x288 with 1 Axes>"
      ]
     },
     "metadata": {},
     "output_type": "display_data"
    }
   ],
   "source": [
    "import seaborn as sns\n",
    "\n",
    "palette = sns.color_palette(\"mako_r\", df.business_account_number.nunique())\n",
    "sns.lineplot(y='real_ending_balance', x='transaction_datetime', \n",
    "             data=df, hue='business_account_number', \n",
    "             palette=palette, alpha=0.6, legend=None)\n",
    "# label target deposits\n",
    "sns.scatterplot(y='real_ending_balance', x='transaction_datetime', \n",
    "                data=df[df.target_60d], label='target')\n",
    "# label non target deposits\n",
    "sns.scatterplot(y='real_ending_balance', x='transaction_datetime', \n",
    "                data=df[~df.target_60d], label='not target')\n",
    "plt.xticks(rotation=90)\n",
    "plt.show()"
   ]
  },
  {
   "cell_type": "code",
   "execution_count": null,
   "metadata": {},
   "outputs": [],
   "source": []
  }
 ],
 "metadata": {
  "kernelspec": {
   "display_name": "conda_deposit_v2",
   "language": "python",
   "name": "conda_deposit_v2"
  },
  "language_info": {
   "codemirror_mode": {
    "name": "ipython",
    "version": 3
   },
   "file_extension": ".py",
   "mimetype": "text/x-python",
   "name": "python",
   "nbconvert_exporter": "python",
   "pygments_lexer": "ipython3",
   "version": "3.7.10"
  }
 },
 "nbformat": 4,
 "nbformat_minor": 4
}
