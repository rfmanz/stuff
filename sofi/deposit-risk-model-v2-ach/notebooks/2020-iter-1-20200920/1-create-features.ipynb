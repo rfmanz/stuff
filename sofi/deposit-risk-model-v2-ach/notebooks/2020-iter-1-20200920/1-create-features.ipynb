{
 "cells": [
  {
   "cell_type": "markdown",
   "metadata": {},
   "source": [
    "### Create features without filtering things out\n",
    "---\n",
    "\n",
    "* Model Design Feedback:\n",
    "    * Make the target less restrictive\n",
    "        * ACH return in 3 days\n",
    "        * Consider Indeterminate...this is what essentially make model look better\n",
    "    * Candidates: \n",
    "        * Account balance < 0\n",
    "        * Closed by risk, write off, charged off\n",
    "    * Use more recent data, when Plaid is available.\n",
    "        * Check availability of Plaid features\n",
    "    * Drop Giact features\n",
    "\n"
   ]
  },
  {
   "cell_type": "code",
   "execution_count": 1,
   "metadata": {},
   "outputs": [],
   "source": [
    "import pandas as pd\n",
    "import numpy as np\n",
    "import category_encoders\n",
    "import matplotlib.pyplot as plt\n",
    "import seaborn as sns\n",
    "from IPython.display import display\n",
    "\n",
    "%load_ext autoreload\n",
    "%autoreload 2"
   ]
  },
  {
   "cell_type": "code",
   "execution_count": 2,
   "metadata": {},
   "outputs": [
    {
     "name": "stdout",
     "output_type": "stream",
     "text": [
      "CPU times: user 20.5 s, sys: 20.2 s, total: 40.7 s\n",
      "Wall time: 7.05 s\n"
     ]
    }
   ],
   "source": [
    "%time transactions_df = pd.read_feather('../../data/features/features_1600938572.feather')"
   ]
  },
  {
   "cell_type": "code",
   "execution_count": 3,
   "metadata": {},
   "outputs": [
    {
     "data": {
      "text/plain": [
       "<AxesSubplot:>"
      ]
     },
     "execution_count": 3,
     "metadata": {},
     "output_type": "execute_result"
    },
    {
     "data": {
      "image/png": "[encoded data removed]",
      "text/plain": [
       "<Figure size 432x288 with 1 Axes>"
      ]
     },
     "metadata": {
      "needs_background": "light"
     },
     "output_type": "display_data"
    }
   ],
   "source": [
    "transactions_df.transaction_datetime.hist(bins=100)"
   ]
  },
  {
   "cell_type": "code",
   "execution_count": 4,
   "metadata": {},
   "outputs": [
    {
     "data": {
      "text/plain": [
       "Timestamp('2020-09-22 02:51:45')"
      ]
     },
     "execution_count": 4,
     "metadata": {},
     "output_type": "execute_result"
    }
   ],
   "source": [
    "transactions_df.transaction_datetime.max()"
   ]
  },
  {
   "cell_type": "markdown",
   "metadata": {},
   "source": [
    "### Calc labels\n",
    "---"
   ]
  },
  {
   "cell_type": "code",
   "execution_count": 5,
   "metadata": {},
   "outputs": [],
   "source": [
    "from tqdm import tqdm \n",
    "from pandas.tseries.offsets import BDay\n",
    "from multiprocessing import Pool, cpu_count\n",
    "\n",
    "\n",
    "### Helper functions\n",
    "def reverse_df(df):\n",
    "    \"\"\" Helper for forward looking rolling function \"\"\"\n",
    "    # reverse dataset\n",
    "    reverse_df = df.iloc[::-1]\n",
    "    ri = reverse_df.index\n",
    "\n",
    "    # re-reverse index\n",
    "    reverse_df.index = ri[0] - ri + ri[-1]\n",
    "\n",
    "    return reverse_df\n",
    "\n",
    "## Need to define forward looking roll-ups at top level to parallelize.\n",
    "def get_nr_returns_5d(df):\n",
    "    return reverse_df(reverse_df(df).rolling('5d', min_periods=1)['is_return'].sum())\n",
    "\n",
    "def get_bal_after_5d(df):\n",
    "    return reverse_df(reverse_df(df).rolling('5d', min_periods=1)['real_ending_balance'].apply(lambda a: a[0], raw=True))\n",
    "\n",
    "def applyParallel(dfGrouped, func):\n",
    "    \"\"\" Helper to parallelize apply over groupby \"\"\"\n",
    "    with Pool(cpu_count()) as p:\n",
    "        ret_list = p.map(func, [group for name, group in dfGrouped])\n",
    "    return pd.concat(ret_list)\n",
    "\n",
    "def stupid_hack(x):\n",
    "    try:\n",
    "        return x[-1]\n",
    "    except:\n",
    "        return x\n",
    "\n",
    "\n",
    "def match_ach_returns(df, timedelta=BDay(3)):\n",
    "    \"\"\"\n",
    "    Check if ACH transactions are returned with some timeframe.\n",
    "    \"\"\"\n",
    "    #For performance purposes...\n",
    "    df = df[df['transaction_code'].isin(['ACHDD', 'DWACHRET'])]\n",
    "    \n",
    "    # df = df.reset_index(drop=True)\n",
    "\n",
    "    df['tamt_abs'] = df['transaction_amount'].abs()\n",
    "    df['is_returned'] = False\n",
    "    \n",
    "    for act_n, transaction in tqdm(df[df['is_return'] == 1].iterrows()):\n",
    "        \n",
    "        tdt_hi = transaction['transaction_datetime']\n",
    "        tdt_lo = tdt_hi - timedelta\n",
    "\n",
    "        dcandidate = df[df['business_account_number'] == transaction['business_account_number']]\n",
    "\n",
    "        dret = dcandidate[(dcandidate['transaction_datetime'].between(tdt_lo, tdt_hi)) & \\\n",
    "                          (dcandidate['tamt_abs'] == transaction['tamt_abs'])]\n",
    "        \n",
    "        df.loc[dret.index, 'is_returned'] = True\n",
    "\n",
    "#     df = df.reset_index(drop=True)\n",
    "    return df\n",
    "\n",
    "def get_labels(df):\n",
    "    \"\"\"\n",
    "    Get add labels to processed data.\n",
    "    \"\"\"    \n",
    "    # sort data for roll-ups\n",
    "    df = df.sort_values(by=['business_account_number', 'transaction_datetime'])\n",
    "\n",
    "    df['days_to_acc_close'] = (pd.to_datetime(df['dtc']) - df['transaction_datetime']).dt.days\n",
    "    df['account_closed_by_risk_in_next_90d'] = df['closed_reason'].isin(['Closed by SoFi - Risk Request', \n",
    "                                                                         'Closed by SoFi - Charge-Off / Write-Off']) &\\\n",
    "                                               (df['days_to_acc_close'] <= 90)\n",
    "    \n",
    "    # does account chg/wrt off in next 90 days?\n",
    "    df['is_chg_wrt_off_in_90d'] = (df['chg_wrt_off_date'] - df['transaction_datetime']).dt.days <= 90\n",
    "\n",
    "    # Set index to transaction datetime.\n",
    "    df = df.set_index('transaction_datetime')\n",
    "\n",
    "    # get num returns by borrower in the next 90 days\n",
    "    df['nr_returns_in_next_5d'] = applyParallel(df[['business_account_number', 'is_return']].groupby('business_account_number'), get_nr_returns_5d).values\n",
    "    \n",
    "    # get this borrower's account balance after 90 days\n",
    "    df['bal_after_5d'] = applyParallel(df[['business_account_number', 'real_ending_balance']].groupby('business_account_number'), get_bal_after_5d).values\n",
    "\n",
    "    df = df.reset_index()\n",
    "\n",
    "#     df = match_ach_returns(df)\n",
    "    \n",
    "#     def get_target(df):\n",
    "#         \"\"\"\n",
    "#         for now: bad if this transaction is returned in next 3 business days, good otherwise.\n",
    "        \n",
    "#         Note: want to exclude/indeterminate R10 returns* -- Notex2 - decided not to do this since it's too imprecise.\n",
    "\n",
    "#         BAD - this specific ACH transaction returns within the next 3 business days.\n",
    "#         Consider indeterminating accounts with ++ balance that have returns, not closed off by risk\n",
    "#         and accounts with no ach return but closed off by risk.\n",
    "#         \"\"\"\n",
    "#         df['target'] = df['is_returned']\n",
    "        \n",
    "#         df['indeterminate'] = (df['target'] & ((df['bal_after_90d'] > 0) & \n",
    "#                                              (~df['account_closed_by_risk_in_next_90d']))) \\\n",
    "#                               | (~df['target'] & df['account_closed_by_risk_in_next_90d'])\n",
    "        \n",
    "#         return df\n",
    "\n",
    "#     df = get_target(df)\n",
    "    \n",
    "    if 'level_0' in df.columns:\n",
    "        df = df.drop('level_0', axis=1)\n",
    "    \n",
    "    return df  "
   ]
  },
  {
   "cell_type": "code",
   "execution_count": 6,
   "metadata": {},
   "outputs": [],
   "source": [
    "# drop non ACH types\n",
    "def drop_non_ach(df):\n",
    "    df = df[df['transaction_code'].isin(['ACHDD']) & (df['transaction_amount'] > 0)]\n",
    "    return df"
   ]
  },
  {
   "cell_type": "code",
   "execution_count": 7,
   "metadata": {},
   "outputs": [],
   "source": [
    "# transaction_amount may be + or - based on whether it is a deposit or expense"
   ]
  },
  {
   "cell_type": "code",
   "execution_count": 20,
   "metadata": {},
   "outputs": [],
   "source": [
    "cols = \"\"\"\n",
    "business_account_number\n",
    "transaction_datetime\n",
    "dtc\n",
    "closed_reason\n",
    "chg_wrt_off_date\n",
    "is_return\n",
    "real_ending_balance\n",
    "transaction_code\n",
    "transaction_amount\n",
    "\"\"\".split()"
   ]
  },
  {
   "cell_type": "code",
   "execution_count": 21,
   "metadata": {},
   "outputs": [
    {
     "name": "stdout",
     "output_type": "stream",
     "text": [
      "CPU times: user 3min 22s, sys: 13.4 s, total: 3min 36s\n",
      "Wall time: 3min 45s\n"
     ]
    }
   ],
   "source": [
    "%time transactions_df_ = get_labels(transactions_df[cols])"
   ]
  },
  {
   "cell_type": "code",
   "execution_count": 22,
   "metadata": {},
   "outputs": [],
   "source": [
    "# transactions_df.to_parquet('../../artifacts/20200920/transactions_df_unlabeled.parquet')"
   ]
  },
  {
   "cell_type": "markdown",
   "metadata": {},
   "source": [
    "### To match_ach rmatch_ach_returns"
   ]
  },
  {
   "cell_type": "code",
   "execution_count": 23,
   "metadata": {},
   "outputs": [],
   "source": [
    "# transactions_df = pd.read_parquet('../../artifacts/20200920/transactions_df_unlabeled.parquet')"
   ]
  },
  {
   "cell_type": "code",
   "execution_count": 24,
   "metadata": {},
   "outputs": [
    {
     "data": {
      "text/plain": [
       "Index(['transaction_datetime', 'business_account_number', 'dtc',\n",
       "       'closed_reason', 'chg_wrt_off_date', 'is_return', 'real_ending_balance',\n",
       "       'transaction_code', 'transaction_amount', 'days_to_acc_close',\n",
       "       'account_closed_by_risk_in_next_90d', 'is_chg_wrt_off_in_90d',\n",
       "       'nr_returns_in_next_5d', 'bal_after_5d'],\n",
       "      dtype='object')"
      ]
     },
     "execution_count": 24,
     "metadata": {},
     "output_type": "execute_result"
    }
   ],
   "source": [
    "transactions_df_.columns"
   ]
  },
  {
   "cell_type": "code",
   "execution_count": 25,
   "metadata": {},
   "outputs": [
    {
     "name": "stderr",
     "output_type": "stream",
     "text": [
      "23112it [01:15, 307.58it/s]\n"
     ]
    }
   ],
   "source": [
    "import warnings\n",
    "warnings.filterwarnings(action='ignore')\n",
    "\n",
    "transactions_df__ = match_ach_returns(transactions_df_)"
   ]
  },
  {
   "cell_type": "code",
   "execution_count": 26,
   "metadata": {},
   "outputs": [
    {
     "data": {
      "text/plain": [
       "((15295228, 163), (15295228, 14), (687179, 16))"
      ]
     },
     "execution_count": 26,
     "metadata": {},
     "output_type": "execute_result"
    }
   ],
   "source": [
    "transactions_df.shape, transactions_df_.shape, transactions_df__.shape"
   ]
  },
  {
   "cell_type": "code",
   "execution_count": 30,
   "metadata": {},
   "outputs": [
    {
     "data": {
      "text/plain": [
       "(15295227, 15295227, 15295227)"
      ]
     },
     "execution_count": 30,
     "metadata": {},
     "output_type": "execute_result"
    }
   ],
   "source": [
    "transactions_df.index.max(), transactions_df_.index.max(), transactions_df__.index.max()"
   ]
  },
  {
   "cell_type": "markdown",
   "metadata": {},
   "source": [
    "### Check columns and assign values"
   ]
  },
  {
   "cell_type": "code",
   "execution_count": 39,
   "metadata": {},
   "outputs": [],
   "source": [
    "# for col in transactions_df_.columns:\n",
    "#     if col in transaction_df.columns:\n",
    "#         print(f\"column {col} equals? {transactions_df[col].equals(transactions_df_[col])}\")\n",
    "#     else:\n",
    "#         transaction_df[col] = np.nan\n",
    "#         idx = transactions_df_.index\n",
    "#         transactions_df.loc[idx, col] = transactions_df_[col]"
   ]
  },
  {
   "cell_type": "code",
   "execution_count": 48,
   "metadata": {},
   "outputs": [],
   "source": [
    "def combine_df_by_idx(df1, df2):\n",
    "    for col in df2.columns:\n",
    "        idx = df2.index\n",
    "        if col in df1.columns:\n",
    "            print(f\"column {col} equals? {df1.loc[idx, col].equals(df2[col])}\")\n",
    "        else:\n",
    "            print(f\"adding column {col}\")\n",
    "            df1[col] = np.nan\n",
    "            df1.loc[idx, col] = df2[col]\n",
    "    return df1"
   ]
  },
  {
   "cell_type": "code",
   "execution_count": 49,
   "metadata": {},
   "outputs": [
    {
     "data": {
      "text/plain": [
       "(21544, 14)"
      ]
     },
     "metadata": {},
     "output_type": "display_data"
    },
    {
     "data": {
      "text/plain": [
       "(1000, 16)"
      ]
     },
     "metadata": {},
     "output_type": "display_data"
    },
    {
     "name": "stdout",
     "output_type": "stream",
     "text": [
      "column transaction_datetime equals? True\n",
      "column business_account_number equals? True\n",
      "column dtc equals? True\n",
      "column closed_reason equals? True\n",
      "column chg_wrt_off_date equals? True\n",
      "column is_return equals? True\n",
      "column real_ending_balance equals? True\n",
      "column transaction_code equals? True\n",
      "column transaction_amount equals? True\n",
      "column days_to_acc_close equals? True\n",
      "column account_closed_by_risk_in_next_90d equals? True\n",
      "column is_chg_wrt_off_in_90d equals? True\n",
      "column nr_returns_in_next_5d equals? True\n",
      "column bal_after_5d equals? True\n",
      "adding column tamt_abs\n",
      "adding column is_returned\n"
     ]
    }
   ],
   "source": [
    "# debug_df__ = transactions_df__.head(1000).copy()\n",
    "# debug_df_ = transactions_df_.head(debug_df_.index.max()+1)\n",
    "# display(debug_df_.shape, debug_df__.shape)\n",
    "# debug_df_ = combine_df_by_idx(debug_df_, debug_df__)"
   ]
  },
  {
   "cell_type": "code",
   "execution_count": 56,
   "metadata": {},
   "outputs": [
    {
     "name": "stdout",
     "output_type": "stream",
     "text": [
      "column transaction_datetime equals? True\n",
      "column business_account_number equals? True\n",
      "column dtc equals? True\n",
      "column closed_reason equals? True\n",
      "column chg_wrt_off_date equals? True\n",
      "column is_return equals? True\n",
      "column real_ending_balance equals? True\n",
      "column transaction_code equals? True\n",
      "column transaction_amount equals? True\n",
      "adding column days_to_acc_close\n",
      "adding column account_closed_by_risk_in_next_90d\n",
      "adding column is_chg_wrt_off_in_90d\n",
      "adding column nr_returns_in_next_5d\n",
      "adding column bal_after_5d\n",
      "column transaction_datetime equals? True\n",
      "column business_account_number equals? True\n",
      "column dtc equals? True\n",
      "column closed_reason equals? True\n",
      "column chg_wrt_off_date equals? True\n",
      "column is_return equals? True\n",
      "column real_ending_balance equals? True\n",
      "column transaction_code equals? True\n",
      "column transaction_amount equals? True\n",
      "column days_to_acc_close equals? True\n",
      "column account_closed_by_risk_in_next_90d equals? True\n",
      "column is_chg_wrt_off_in_90d equals? True\n",
      "column nr_returns_in_next_5d equals? True\n",
      "column bal_after_5d equals? True\n",
      "adding column tamt_abs\n",
      "adding column is_returned\n"
     ]
    }
   ],
   "source": [
    "transactions_df = combine_df_by_idx(transactions_df, transactions_df_)\n",
    "transactions_df = combine_df_by_idx(transactions_df, transactions_df__)"
   ]
  },
  {
   "cell_type": "code",
   "execution_count": 60,
   "metadata": {},
   "outputs": [],
   "source": [
    "# transactions_df['tamt_abs'] = transactions_df['transaction_amount'].abs()\n",
    "# transactions_df['is_returned'] = False\n",
    "# idx = transactions_df_[transactions_df_.is_returned].index\n",
    "# transactions_df.loc[idx, 'is_returned'] = True"
   ]
  },
  {
   "cell_type": "code",
   "execution_count": 61,
   "metadata": {},
   "outputs": [],
   "source": [
    "transactions_df.to_parquet('../../artifacts/20200920/transactions_df_unlabeled.parquet')"
   ]
  },
  {
   "cell_type": "code",
   "execution_count": null,
   "metadata": {},
   "outputs": [],
   "source": []
  },
  {
   "cell_type": "code",
   "execution_count": null,
   "metadata": {},
   "outputs": [],
   "source": []
  }
 ],
 "metadata": {
  "kernelspec": {
   "display_name": "conda_ml_basic_py37",
   "language": "python",
   "name": "conda_ml_basic_py37"
  },
  "language_info": {
   "codemirror_mode": {
    "name": "ipython",
    "version": 3
   },
   "file_extension": ".py",
   "mimetype": "text/x-python",
   "name": "python",
   "nbconvert_exporter": "python",
   "pygments_lexer": "ipython3",
   "version": "3.7.8"
  }
 },
 "nbformat": 4,
 "nbformat_minor": 4
}
