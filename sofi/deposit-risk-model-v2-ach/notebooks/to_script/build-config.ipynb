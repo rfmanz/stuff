{
 "cells": [
  {
   "cell_type": "code",
   "execution_count": 8,
   "metadata": {},
   "outputs": [],
   "source": [
    "import json\n",
    "import copy"
   ]
  },
  {
   "cell_type": "code",
   "execution_count": 6,
   "metadata": {},
   "outputs": [],
   "source": [
    "with open(\"../../config.json\", \"r\") as f:\n",
    "    ach_mc_config = json.load(f)"
   ]
  },
  {
   "cell_type": "code",
   "execution_count": 9,
   "metadata": {},
   "outputs": [],
   "source": [
    "ach_config = copy.deepcopy(ach_mc_config)"
   ]
  },
  {
   "cell_type": "markdown",
   "metadata": {},
   "source": [
    "### What to Modify:\n",
    "---\n",
    "- [ ] model_name\n",
    "- [ ] model_params\n",
    "- [ ] features\n",
    "- [ ] artifact_path"
   ]
  },
  {
   "cell_type": "code",
   "execution_count": 24,
   "metadata": {},
   "outputs": [
    {
     "name": "stderr",
     "output_type": "stream",
     "text": [
      "/home/ec2-user/anaconda3/envs/ml_basic_py37/lib/python3.7/site-packages/sklearn/base.py:315: UserWarning: Trying to unpickle estimator LabelEncoder from version 0.23.2 when using version 0.24.0. This might lead to breaking code or invalid results. Use at your own risk.\n",
      "  UserWarning)\n"
     ]
    },
    {
     "data": {
      "text/plain": [
       "LGBMClassifier(boost_from_average='false', boosting='gbdt',\n",
       "               early_stopping_round=None, feature_fraction=0.8, lambda_l1=30.0,\n",
       "               lambda_l2=50.0, max_depth=5, metric='auc', min_data_in_leaf=121,\n",
       "               num_boost_round=215, num_leaves=52, num_threads=16,\n",
       "               objective='binary', scale_pos_weight=28.835453100158983,\n",
       "               seed=12345, seed_value=12345, tree_learner='feature',\n",
       "               two_round=True, verbose=-1)"
      ]
     },
     "execution_count": 24,
     "metadata": {},
     "output_type": "execute_result"
    }
   ],
   "source": [
    "# load a model instance for data\n",
    "import pickle as pkl\n",
    "\n",
    "with open(\"../../../money-risk-models/ach-risk/models/ach-model.pkl\", \"rb\") as f:\n",
    "    model = pkl.load(f)\n",
    "    \n",
    "model"
   ]
  },
  {
   "cell_type": "code",
   "execution_count": 28,
   "metadata": {},
   "outputs": [],
   "source": [
    "params = model.get_params()\n",
    "params[\"early_stopping_round\"] = 300"
   ]
  },
  {
   "cell_type": "code",
   "execution_count": 29,
   "metadata": {},
   "outputs": [],
   "source": [
    "ach_config[\"model_name\"] = 'ach_deposit_v2'"
   ]
  },
  {
   "cell_type": "code",
   "execution_count": 30,
   "metadata": {},
   "outputs": [],
   "source": [
    "ach_config[\"model_params\"] = params"
   ]
  },
  {
   "cell_type": "code",
   "execution_count": 33,
   "metadata": {},
   "outputs": [],
   "source": [
    "ach_config[\"features\"] = model.feature_name_"
   ]
  },
  {
   "cell_type": "code",
   "execution_count": 34,
   "metadata": {},
   "outputs": [],
   "source": [
    "ach_config[\"artifact_path\"] = \"artifacts/ach-no-mc\""
   ]
  },
  {
   "cell_type": "code",
   "execution_count": 36,
   "metadata": {},
   "outputs": [],
   "source": [
    "with open(\"../../ach_no_mc_config.json\", \"w\") as f:\n",
    "    json.dump(ach_config, f, indent=4)"
   ]
  },
  {
   "cell_type": "code",
   "execution_count": 35,
   "metadata": {},
   "outputs": [
    {
     "data": {
      "text/plain": [
       "{'model_name': 'ach_deposit_v2',\n",
       " 'data': {'raw': {'banking': 'raw/raw_1605487999/banking_1605487999.parquet',\n",
       "   'experian_credit_pull': 'raw/raw_1605487999/experian_credit_pull_1605487999.parquet',\n",
       "   'giact': 'raw/raw_1605487999/giact_1605487999.parquet',\n",
       "   'socure': 'raw/raw_1605487999/socure_1605487999.parquet',\n",
       "   'transactions': 'raw/raw_1605487999/transactions_1605487999.parquet',\n",
       "   'user_metadata_dw': 'raw/raw_1605487999/user_metadata_dw_1605487999.parquet',\n",
       "   'banking_account_restrictions': 'raw/raw_1605487999/banking_account_restrictions_1605487999.parquet',\n",
       "   'plaid': 'raw/raw_1605487999/plaid_1605487999.parquet',\n",
       "   'quovo': 'raw/raw_1605487999/quovo_1605487999.parquet'},\n",
       "  'processed': {'banking': 'processed/banking_1605490833.parquet',\n",
       "   'experian_credit_pull': 'processed/experian_credit_pull_1605490833.parquet',\n",
       "   'giact': 'processed/giact_1605490833.parquet',\n",
       "   'socure': 'processed/socure_1605490833.parquet',\n",
       "   'transactions': 'processed/transactions_1605490833.parquet',\n",
       "   'user_metadata_dw': 'processed/user_metadata_dw_1605490833.parquet',\n",
       "   'banking_account_restrictions': 'processed/banking_account_restrictions_1605490833.parquet',\n",
       "   'plaid': 'processed/plaid_1605490833.parquet',\n",
       "   'quovo': 'processed/quovo_1605490833.parquet'},\n",
       "  'joined': {'joined': 'joined/joined_1605490986/joined_1605490986.parquet'},\n",
       "  'features': {'features': 'features/features_1605487483/features_1605487483.parquet'}},\n",
       " 'data_pull_date': '2020-11-16',\n",
       " 's3_base_path': None,\n",
       " 's3_bucket': None,\n",
       " 'base_path': 'data',\n",
       " 'log_path': 'log',\n",
       " 'debug_ids_path': 'debug_ids.csv',\n",
       " 'sql_query_files': {'banking': {'database': 'sofi_profile_reporting',\n",
       "   'port': 15556,\n",
       "   'query': 'sql/banking.sql',\n",
       "   'query_by_id': 'sql-by-id/banking.sql'},\n",
       "  'experian_credit_pull': {'database': 'sofi_dw',\n",
       "   'port': 15501,\n",
       "   'query': 'sql/experian_credit_pull.sql',\n",
       "   'query_by_id': 'sql-by-id/experian_credit_pull.sql'},\n",
       "  'giact': {'database': 'sofi_fraud',\n",
       "   'port': 15722,\n",
       "   'query': 'sql/giact.sql',\n",
       "   'query_by_id': 'sql-by-id/giact.sql'},\n",
       "  'socure': {'database': 'sofi_fraud',\n",
       "   'port': 15722,\n",
       "   'query': 'sql/socure.sql',\n",
       "   'query_by_id': 'sql-by-id/socure.sql'},\n",
       "  'transactions': {'database': 'sofi_profile_reporting',\n",
       "   'port': 15556,\n",
       "   'query': 'sql/transactions.sql',\n",
       "   'query_by_id': 'sql-by-id/transactions.sql'},\n",
       "  'user_metadata_dw': {'database': 'sofi_dw',\n",
       "   'port': 15501,\n",
       "   'query': 'sql/user_metadata_dw.sql',\n",
       "   'query_by_id': 'sql-by-id/user_metadata_dw.sql'},\n",
       "  'banking_account_restrictions': {'database': 'sofi_dw',\n",
       "   'port': 15501,\n",
       "   'query': 'sql/banking_account_restrictions.sql',\n",
       "   'query_by_id': 'sql-by-id/banking_account_restrictions.sql'},\n",
       "  'plaid': {'database': 'sofi_tartan',\n",
       "   'port': 15524,\n",
       "   'query': 'sql/plaid.sql',\n",
       "   'query_by_id': 'sql-by-id/plaid.sql'},\n",
       "  'quovo': {'database': 'sofi_quovov3',\n",
       "   'port': 15731,\n",
       "   'query': 'sql/quovo.sql',\n",
       "   'query_by_id': 'sql-by-id/quovo.sql'}},\n",
       " 'modeling_data_path': 's3://sofi-data-science/jxu/money-risk-models/deposit-risk-v2-ach/data/2020-11-09/modeling_df.parquet',\n",
       " 'validation_data_paths': {'test_df': 's3://sofi-data-science/jxu/money-risk-models/deposit-risk-v2-ach/data/2020-11-09/test_df.parquet'},\n",
       " 'inference_data_paths': {'test_df': 's3://sofi-data-science/jxu/money-risk-models/deposit-risk-v2-ach/data/2020-11-09/test_df.parquet'},\n",
       " 'model_params': {'boosting_type': 'gbdt',\n",
       "  'class_weight': None,\n",
       "  'colsample_bytree': 1.0,\n",
       "  'importance_type': 'split',\n",
       "  'learning_rate': 0.1,\n",
       "  'max_depth': 5,\n",
       "  'min_child_samples': 20,\n",
       "  'min_child_weight': 0.001,\n",
       "  'min_split_gain': 0.0,\n",
       "  'n_estimators': 100,\n",
       "  'n_jobs': -1,\n",
       "  'num_leaves': 52,\n",
       "  'objective': 'binary',\n",
       "  'random_state': None,\n",
       "  'reg_alpha': 0.0,\n",
       "  'reg_lambda': 0.0,\n",
       "  'silent': True,\n",
       "  'subsample': 1.0,\n",
       "  'subsample_for_bin': 200000,\n",
       "  'subsample_freq': 0,\n",
       "  'num_boost_round': 215,\n",
       "  'num_threads': 16,\n",
       "  'verbose': -1,\n",
       "  'two_round': True,\n",
       "  'metric': 'auc',\n",
       "  'boosting': 'gbdt',\n",
       "  'tree_learner': 'feature',\n",
       "  'boost_from_average': 'false',\n",
       "  'lambda_l1': 30.0,\n",
       "  'lambda_l2': 50.0,\n",
       "  'min_data_in_leaf': 121,\n",
       "  'feature_fraction': 0.8,\n",
       "  'scale_pos_weight': 28.835453100158983,\n",
       "  'early_stopping_round': 300,\n",
       "  'seed': 12345,\n",
       "  'seed_value': 12345},\n",
       " 'features': ['vantage_score',\n",
       "  'first_deposit_amount',\n",
       "  'bcc7120',\n",
       "  'credit_card_loan_amount',\n",
       "  'plaid_max_avail_bal',\n",
       "  'total_tradelines_open',\n",
       "  'plaid_days_since_first_link',\n",
       "  'nr_transactions_30d_div_nr_past_transactions',\n",
       "  'plaid_min_avail_bal',\n",
       "  'nr_transactions_per_day',\n",
       "  'max_deposits_10d_div_mean_account_balance_30d',\n",
       "  'fico_score',\n",
       "  'sum_deposits_10d',\n",
       "  'quovo_largest_checking_or_savings_balance',\n",
       "  'total_outstanding_balance',\n",
       "  'rolling_trns_as_pct_of_bal',\n",
       "  'phone_risk_score',\n",
       "  'quovo_available_bal',\n",
       "  'email_risk_score',\n",
       "  'deposits_ratio',\n",
       "  'fraud_score_1',\n",
       "  'mean_deposits_10d_div_mean_deposits',\n",
       "  'fraud_score_2',\n",
       "  'nr_past_deposits',\n",
       "  'quovo_min_avail_bal',\n",
       "  'address_risk_score'],\n",
       " 'target_col': 'is_returned',\n",
       " 'indeterminate_col': None,\n",
       " 'meta_cols': ['business_account_number',\n",
       "  'borrower_id',\n",
       "  'user_id',\n",
       "  'transaction_datetime'],\n",
       " 'models_base_path': 'models',\n",
       " 'time_id': '1609914555',\n",
       " 'baseline_models': {'deposit_v1': {'bucket': 'sofi-data-science',\n",
       "   'key': 'jxu/money-risk-models/models/money-deposit-risk-1567033961.pkl'},\n",
       "  'customer': {'bucket': 'sofi-data-science',\n",
       "   'key': 'jxu/money-risk-models/models/customer_risk_target_no_giact_time_since_last_link.pkl'}},\n",
       " 'base_dir': '/home/ec2-user/SageMaker/projects-model/deposit-risk-model-v2-ach',\n",
       " 'artifact_path': 'artifacts/ach-no-mc'}"
      ]
     },
     "execution_count": 35,
     "metadata": {},
     "output_type": "execute_result"
    }
   ],
   "source": []
  },
  {
   "cell_type": "code",
   "execution_count": null,
   "metadata": {},
   "outputs": [],
   "source": []
  }
 ],
 "metadata": {
  "kernelspec": {
   "display_name": "conda_ml_basic_py37",
   "language": "python",
   "name": "conda_ml_basic_py37"
  },
  "language_info": {
   "codemirror_mode": {
    "name": "ipython",
    "version": 3
   },
   "file_extension": ".py",
   "mimetype": "text/x-python",
   "name": "python",
   "nbconvert_exporter": "python",
   "pygments_lexer": "ipython3",
   "version": "3.7.9"
  }
 },
 "nbformat": 4,
 "nbformat_minor": 4
}
