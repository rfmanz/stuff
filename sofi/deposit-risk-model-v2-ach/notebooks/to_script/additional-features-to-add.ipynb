{
 "cells": [
  {
   "cell_type": "markdown",
   "metadata": {},
   "source": [
    "### Add these following additional features\n",
    "---\n",
    "\n",
    "- [x] data statistics\n",
    "- [ ] output final df with predictions\n",
    "- [ ] add score scaler"
   ]
  },
  {
   "cell_type": "code",
   "execution_count": 1,
   "metadata": {},
   "outputs": [],
   "source": [
    "import sys, os\n",
    "sys.path.insert(1, \"../..\")\n",
    "\n",
    "import pandas as pd\n",
    "import json\n",
    "\n",
    "%load_ext autoreload\n",
    "%autoreload 2"
   ]
  },
  {
   "cell_type": "code",
   "execution_count": 92,
   "metadata": {},
   "outputs": [],
   "source": [
    "with open(\"../../config.json\",\"r\") as f:\n",
    "    config = json.load(f)\n",
    "    \n",
    "SEED = config[\"model_params\"][\"seed\"]\n",
    "TARGET_COL = \"target\"\n",
    "INDETERMINATE_COL = config[\"indeterminate_col\"]"
   ]
  },
  {
   "cell_type": "code",
   "execution_count": 93,
   "metadata": {},
   "outputs": [],
   "source": [
    "from src import train\n",
    "modeling_df, valid_dfs, test_dfs = train.prep_data(config)"
   ]
  },
  {
   "cell_type": "markdown",
   "metadata": {},
   "source": [
    "### Code\n",
    "---"
   ]
  },
  {
   "cell_type": "code",
   "execution_count": 94,
   "metadata": {},
   "outputs": [],
   "source": [
    "### data statistics\n",
    "\n",
    "def get_data_statistics(config, modeling_df, \n",
    "                        valid_dfs=None, test_dfs=None, \n",
    "                        target_col=\"target\", date_col=\"transaction_datetime\",\n",
    "                        output_json_path=None):\n",
    "    \"\"\"\n",
    "    get df.shape, date_col info, target_col counts\n",
    "    \"\"\"\n",
    "    \n",
    "    stats = {}\n",
    "    \n",
    "    modeling_dfs = {\"modeling_df\": modeling_df}\n",
    "    dfs = {}\n",
    "    for dfs_ in [modeling_dfs, valid_dfs, test_dfs]:\n",
    "        if dfs_:\n",
    "            dfs = {**dfs, **dfs_}\n",
    "    \n",
    "    for fname, df in dfs.items():\n",
    "        stats[fname] = {}\n",
    "        stats[fname][target_col] = df[target_col].value_counts()\n",
    "        if date_col:\n",
    "            stats[fname][date_col] = df[date_col].describe()\n",
    "        \n",
    "    if output_json_path:\n",
    "        import json\n",
    "        stats_ = {}\n",
    "        for fname, meta in stats.items():\n",
    "            stats_[fname] = {}\n",
    "            for col, df in meta.items():\n",
    "                stats_[fname][col] = df.astype(str).to_dict()\n",
    "                \n",
    "        with open(output_json_path, \"w\") as f:\n",
    "            json.dump(stats_, f, indent=4)\n",
    "    return stats\n",
    "    "
   ]
  },
  {
   "cell_type": "code",
   "execution_count": 95,
   "metadata": {},
   "outputs": [
    {
     "data": {
      "text/plain": [
       "{'modeling_df': {'target': False    108825\n",
       "  True       3774\n",
       "  Name: target, dtype: int64,\n",
       "  'transaction_datetime': count                  112599\n",
       "  unique                    490\n",
       "  top       2020-07-20 18:01:31\n",
       "  freq                      692\n",
       "  first     2020-05-01 18:01:06\n",
       "  last      2020-07-30 18:01:11\n",
       "  Name: transaction_datetime, dtype: object},\n",
       " 'test_df': {'target': False    243591\n",
       "  True      13307\n",
       "  Name: target, dtype: int64,\n",
       "  'transaction_datetime': count                  256898\n",
       "  unique                    866\n",
       "  top       2020-08-10 18:01:13\n",
       "  freq                     1034\n",
       "  first     2020-08-03 18:01:06\n",
       "  last      2020-12-30 18:01:16\n",
       "  Name: transaction_datetime, dtype: object}}"
      ]
     },
     "execution_count": 95,
     "metadata": {},
     "output_type": "execute_result"
    }
   ],
   "source": [
    "get_data_statistics(config, modeling_df, valid_dfs=valid_dfs,\n",
    "                    output_json_path=\"statistics.json\")"
   ]
  },
  {
   "cell_type": "code",
   "execution_count": null,
   "metadata": {},
   "outputs": [],
   "source": []
  },
  {
   "cell_type": "markdown",
   "metadata": {},
   "source": [
    "### Check everything is correct\n",
    "- [ ] output df have right scores and statistics\n",
    "- [ ] plots are right\n",
    "- [ ] performances make sense"
   ]
  },
  {
   "cell_type": "code",
   "execution_count": 78,
   "metadata": {},
   "outputs": [],
   "source": [
    "modeling_df = pd.read_parquet(\"s3://sofi-data-science/jxu/money-risk-models/deposit-risk-v2-ach/data/2021-01-04/SCORED_modeling_df.parquet\")"
   ]
  },
  {
   "cell_type": "code",
   "execution_count": 79,
   "metadata": {},
   "outputs": [
    {
     "data": {
      "text/html": [
       "<div>\n",
       "<style scoped>\n",
       "    .dataframe tbody tr th:only-of-type {\n",
       "        vertical-align: middle;\n",
       "    }\n",
       "\n",
       "    .dataframe tbody tr th {\n",
       "        vertical-align: top;\n",
       "    }\n",
       "\n",
       "    .dataframe thead th {\n",
       "        text-align: right;\n",
       "    }\n",
       "</style>\n",
       "<table border=\"1\" class=\"dataframe\">\n",
       "  <thead>\n",
       "    <tr style=\"text-align: right;\">\n",
       "      <th></th>\n",
       "      <th>pred</th>\n",
       "      <th>score</th>\n",
       "    </tr>\n",
       "  </thead>\n",
       "  <tbody>\n",
       "    <tr>\n",
       "      <th>6297</th>\n",
       "      <td>0.017570</td>\n",
       "      <td>1.757007</td>\n",
       "    </tr>\n",
       "    <tr>\n",
       "      <th>6738</th>\n",
       "      <td>0.044302</td>\n",
       "      <td>4.430153</td>\n",
       "    </tr>\n",
       "    <tr>\n",
       "      <th>6743</th>\n",
       "      <td>0.040228</td>\n",
       "      <td>4.022762</td>\n",
       "    </tr>\n",
       "    <tr>\n",
       "      <th>6744</th>\n",
       "      <td>0.039678</td>\n",
       "      <td>3.967833</td>\n",
       "    </tr>\n",
       "    <tr>\n",
       "      <th>6746</th>\n",
       "      <td>0.039484</td>\n",
       "      <td>3.948361</td>\n",
       "    </tr>\n",
       "    <tr>\n",
       "      <th>...</th>\n",
       "      <td>...</td>\n",
       "      <td>...</td>\n",
       "    </tr>\n",
       "    <tr>\n",
       "      <th>19400215</th>\n",
       "      <td>0.362113</td>\n",
       "      <td>36.211324</td>\n",
       "    </tr>\n",
       "    <tr>\n",
       "      <th>19400253</th>\n",
       "      <td>0.157581</td>\n",
       "      <td>15.758125</td>\n",
       "    </tr>\n",
       "    <tr>\n",
       "      <th>19400261</th>\n",
       "      <td>0.210347</td>\n",
       "      <td>21.034682</td>\n",
       "    </tr>\n",
       "    <tr>\n",
       "      <th>19400287</th>\n",
       "      <td>0.162670</td>\n",
       "      <td>16.267019</td>\n",
       "    </tr>\n",
       "    <tr>\n",
       "      <th>19400295</th>\n",
       "      <td>0.131567</td>\n",
       "      <td>13.156684</td>\n",
       "    </tr>\n",
       "  </tbody>\n",
       "</table>\n",
       "<p>112599 rows × 2 columns</p>\n",
       "</div>"
      ],
      "text/plain": [
       "              pred      score\n",
       "6297      0.017570   1.757007\n",
       "6738      0.044302   4.430153\n",
       "6743      0.040228   4.022762\n",
       "6744      0.039678   3.967833\n",
       "6746      0.039484   3.948361\n",
       "...            ...        ...\n",
       "19400215  0.362113  36.211324\n",
       "19400253  0.157581  15.758125\n",
       "19400261  0.210347  21.034682\n",
       "19400287  0.162670  16.267019\n",
       "19400295  0.131567  13.156684\n",
       "\n",
       "[112599 rows x 2 columns]"
      ]
     },
     "execution_count": 79,
     "metadata": {},
     "output_type": "execute_result"
    }
   ],
   "source": [
    "modeling_df[[\"pred\", \"score\"]]"
   ]
  },
  {
   "cell_type": "code",
   "execution_count": 86,
   "metadata": {},
   "outputs": [
    {
     "data": {
      "text/plain": [
       "target\n",
       "False    AxesSubplot(0.125,0.125;0.775x0.755)\n",
       "True     AxesSubplot(0.125,0.125;0.775x0.755)\n",
       "Name: pred, dtype: object"
      ]
     },
     "execution_count": 86,
     "metadata": {},
     "output_type": "execute_result"
    },
    {
     "data": {
      "image/png": "[encoded data removed]",
      "text/plain": [
       "<Figure size 576x396 with 1 Axes>"
      ]
     },
     "metadata": {},
     "output_type": "display_data"
    }
   ],
   "source": [
    "modeling_df[[\"target\", \"pred\"]].groupby(\"target\")[\"pred\"].hist(alpha=0.5, density=1)"
   ]
  },
  {
   "cell_type": "code",
   "execution_count": 85,
   "metadata": {},
   "outputs": [
    {
     "data": {
      "text/plain": [
       "target\n",
       "False    AxesSubplot(0.125,0.125;0.775x0.755)\n",
       "True     AxesSubplot(0.125,0.125;0.775x0.755)\n",
       "Name: score, dtype: object"
      ]
     },
     "execution_count": 85,
     "metadata": {},
     "output_type": "execute_result"
    },
    {
     "data": {
      "image/png": "[encoded data removed]",
      "text/plain": [
       "<Figure size 576x396 with 1 Axes>"
      ]
     },
     "metadata": {},
     "output_type": "display_data"
    }
   ],
   "source": [
    "modeling_df[[\"target\", \"score\"]].groupby(\"target\")[\"score\"].hist(alpha=0.5, density=1)"
   ]
  },
  {
   "cell_type": "code",
   "execution_count": 88,
   "metadata": {},
   "outputs": [
    {
     "data": {
      "text/plain": [
       "is_returned\n",
       "False    AxesSubplot(0.125,0.125;0.775x0.755)\n",
       "True     AxesSubplot(0.125,0.125;0.775x0.755)\n",
       "Name: score, dtype: object"
      ]
     },
     "execution_count": 88,
     "metadata": {},
     "output_type": "execute_result"
    },
    {
     "data": {
      "image/png": "[encoded data removed]",
      "text/plain": [
       "<Figure size 576x396 with 1 Axes>"
      ]
     },
     "metadata": {},
     "output_type": "display_data"
    }
   ],
   "source": [
    "test_df = pd.read_parquet(\"s3://sofi-data-science/jxu/money-risk-models/deposit-risk-v2-ach/data/2021-01-04/SCORED_test_df.parquet\")\n",
    "test_df[[\"is_returned\", \"score\"]].groupby(\"is_returned\")[\"score\"].hist(alpha=0.5, density=1)"
   ]
  },
  {
   "cell_type": "code",
   "execution_count": 89,
   "metadata": {},
   "outputs": [
    {
     "data": {
      "text/plain": [
       "count                  112599\n",
       "unique                    490\n",
       "top       2020-07-20 18:01:31\n",
       "freq                      692\n",
       "first     2020-05-01 18:01:06\n",
       "last      2020-07-30 18:01:11\n",
       "Name: transaction_datetime, dtype: object"
      ]
     },
     "execution_count": 89,
     "metadata": {},
     "output_type": "execute_result"
    }
   ],
   "source": [
    "modeling_df.transaction_datetime.describe()"
   ]
  },
  {
   "cell_type": "code",
   "execution_count": 90,
   "metadata": {},
   "outputs": [
    {
     "data": {
      "text/plain": [
       "count                  256898\n",
       "unique                    866\n",
       "top       2020-08-10 18:01:13\n",
       "freq                     1034\n",
       "first     2020-08-03 18:01:06\n",
       "last      2020-12-30 18:01:16\n",
       "Name: transaction_datetime, dtype: object"
      ]
     },
     "execution_count": 90,
     "metadata": {},
     "output_type": "execute_result"
    }
   ],
   "source": [
    "test_df.transaction_datetime.describe()"
   ]
  },
  {
   "cell_type": "code",
   "execution_count": null,
   "metadata": {},
   "outputs": [],
   "source": []
  }
 ],
 "metadata": {
  "kernelspec": {
   "display_name": "ml_basic_py37",
   "language": "python",
   "name": "ml_basic_py37"
  },
  "language_info": {
   "codemirror_mode": {
    "name": "ipython",
    "version": 3
   },
   "file_extension": ".py",
   "mimetype": "text/x-python",
   "name": "python",
   "nbconvert_exporter": "python",
   "pygments_lexer": "ipython3",
   "version": "3.6.11"
  }
 },
 "nbformat": 4,
 "nbformat_minor": 4
}
