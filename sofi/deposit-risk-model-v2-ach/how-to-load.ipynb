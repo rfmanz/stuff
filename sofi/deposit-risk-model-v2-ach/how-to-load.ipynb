{
 "cells": [
  {
   "cell_type": "code",
   "execution_count": 1,
   "id": "383b25e7",
   "metadata": {},
   "outputs": [],
   "source": [
    "import json\n",
    "import numpy as np\n",
    "import pandas as pd\n",
    "from rdsutils.datasets import DataLoader\n",
    "from src.utils import get_data_dir"
   ]
  },
  {
   "cell_type": "code",
   "execution_count": 2,
   "id": "1eb37770",
   "metadata": {},
   "outputs": [],
   "source": [
    "with open(\"config.json\", \"r\") as f:\n",
    "    config = json.load(f)"
   ]
  },
  {
   "cell_type": "markdown",
   "id": "a62123cd",
   "metadata": {},
   "source": [
    "Dataset processed currently has 4 chunks as of May 2021. To change the number of chunks, please modify the `chunk_size` field in the `config.json` file. The dataloader will group the data by id:`business_account_number`, process them, and make sure each group has in total of less than `chunk_size` transactions.\n",
    "\n",
    "chunk_size is currently set to 10,000,000 with a m5.25xlarge machine"
   ]
  },
  {
   "cell_type": "code",
   "execution_count": 3,
   "id": "e44372d9",
   "metadata": {},
   "outputs": [
    {
     "data": {
      "text/plain": [
       "{'features_0': 'features/features_1621625938/features_0_1621625938.parquet',\n",
       " 'features_1': 'features/features_1621625938/features_1_1621625938.parquet',\n",
       " 'features_2': 'features/features_1621625938/features_2_1621625938.parquet',\n",
       " 'features_3': 'features/features_1621625938/features_3_1621625938.parquet'}"
      ]
     },
     "execution_count": 3,
     "metadata": {},
     "output_type": "execute_result"
    }
   ],
   "source": [
    "config[\"data\"][\"features\"]"
   ]
  },
  {
   "cell_type": "markdown",
   "id": "780e4cbd",
   "metadata": {},
   "source": [
    "### Load selected columns\n",
    "---"
   ]
  },
  {
   "cell_type": "code",
   "execution_count": 4,
   "id": "14789121",
   "metadata": {},
   "outputs": [
    {
     "data": {
      "text/plain": [
       "(31774405, 5)"
      ]
     },
     "execution_count": 4,
     "metadata": {},
     "output_type": "execute_result"
    }
   ],
   "source": [
    "# the last stage for the ETL is \"features\", for this task\n",
    "# labeling was carried out in \"features\" stage for technical debt reasons\n",
    "\n",
    "data_dir = get_data_dir(config, config[\"base_path\"], \"features\")\n",
    "\n",
    "# modify the columns\n",
    "cols = [\"transaction_id\", \"business_account_number\", \"transaction_datetime\", \n",
    "        \"is_returned\", \"target_60d\"]\n",
    "\n",
    "dl = DataLoader(data_dir, columns=cols)\n",
    "df = dl.get_full()\n",
    "df.shape"
   ]
  },
  {
   "cell_type": "code",
   "execution_count": 5,
   "id": "2c101626",
   "metadata": {},
   "outputs": [
    {
     "name": "stdout",
     "output_type": "stream",
     "text": [
      "<class 'pandas.core.frame.DataFrame'>\n",
      "Int64Index: 31774405 entries, 0 to 7939833\n",
      "Data columns (total 5 columns):\n",
      " #   Column                   Dtype         \n",
      "---  ------                   -----         \n",
      " 0   transaction_id           object        \n",
      " 1   business_account_number  int64         \n",
      " 2   transaction_datetime     datetime64[ns]\n",
      " 3   is_returned              object        \n",
      " 4   target_60d               bool          \n",
      "dtypes: bool(1), datetime64[ns](1), int64(1), object(2)\n",
      "memory usage: 3.9 GB\n"
     ]
    }
   ],
   "source": [
    "df.info(memory_usage=\"deep\")"
   ]
  },
  {
   "cell_type": "code",
   "execution_count": 6,
   "id": "6af9efeb",
   "metadata": {},
   "outputs": [
    {
     "data": {
      "text/html": [
       "<div>\n",
       "<style scoped>\n",
       "    .dataframe tbody tr th:only-of-type {\n",
       "        vertical-align: middle;\n",
       "    }\n",
       "\n",
       "    .dataframe tbody tr th {\n",
       "        vertical-align: top;\n",
       "    }\n",
       "\n",
       "    .dataframe thead th {\n",
       "        text-align: right;\n",
       "    }\n",
       "</style>\n",
       "<table border=\"1\" class=\"dataframe\">\n",
       "  <thead>\n",
       "    <tr style=\"text-align: right;\">\n",
       "      <th></th>\n",
       "      <th>transaction_id</th>\n",
       "      <th>business_account_number</th>\n",
       "      <th>transaction_datetime</th>\n",
       "      <th>is_returned</th>\n",
       "      <th>target_60d</th>\n",
       "    </tr>\n",
       "  </thead>\n",
       "  <tbody>\n",
       "    <tr>\n",
       "      <th>0</th>\n",
       "      <td>410000070530-1513784213-1</td>\n",
       "      <td>410000070530</td>\n",
       "      <td>2017-12-20 15:36:53</td>\n",
       "      <td>None</td>\n",
       "      <td>False</td>\n",
       "    </tr>\n",
       "    <tr>\n",
       "      <th>1</th>\n",
       "      <td>410000070530-1513784715-2</td>\n",
       "      <td>410000070530</td>\n",
       "      <td>2017-12-20 15:45:15</td>\n",
       "      <td>None</td>\n",
       "      <td>False</td>\n",
       "    </tr>\n",
       "    <tr>\n",
       "      <th>2</th>\n",
       "      <td>410000070530-1514549936-3</td>\n",
       "      <td>410000070530</td>\n",
       "      <td>2017-12-29 12:18:56</td>\n",
       "      <td>False</td>\n",
       "      <td>False</td>\n",
       "    </tr>\n",
       "    <tr>\n",
       "      <th>3</th>\n",
       "      <td>410000070530-1514566560-5</td>\n",
       "      <td>410000070530</td>\n",
       "      <td>2017-12-29 16:56:00</td>\n",
       "      <td>None</td>\n",
       "      <td>False</td>\n",
       "    </tr>\n",
       "    <tr>\n",
       "      <th>4</th>\n",
       "      <td>410000070530-1514566560-4</td>\n",
       "      <td>410000070530</td>\n",
       "      <td>2017-12-29 16:56:00</td>\n",
       "      <td>None</td>\n",
       "      <td>False</td>\n",
       "    </tr>\n",
       "  </tbody>\n",
       "</table>\n",
       "</div>"
      ],
      "text/plain": [
       "              transaction_id  business_account_number transaction_datetime  \\\n",
       "0  410000070530-1513784213-1             410000070530  2017-12-20 15:36:53   \n",
       "1  410000070530-1513784715-2             410000070530  2017-12-20 15:45:15   \n",
       "2  410000070530-1514549936-3             410000070530  2017-12-29 12:18:56   \n",
       "3  410000070530-1514566560-5             410000070530  2017-12-29 16:56:00   \n",
       "4  410000070530-1514566560-4             410000070530  2017-12-29 16:56:00   \n",
       "\n",
       "  is_returned  target_60d  \n",
       "0        None       False  \n",
       "1        None       False  \n",
       "2       False       False  \n",
       "3        None       False  \n",
       "4        None       False  "
      ]
     },
     "execution_count": 6,
     "metadata": {},
     "output_type": "execute_result"
    }
   ],
   "source": [
    "df.head()"
   ]
  },
  {
   "cell_type": "code",
   "execution_count": 7,
   "id": "2f625f1f",
   "metadata": {},
   "outputs": [
    {
     "data": {
      "text/plain": [
       "True"
      ]
     },
     "execution_count": 7,
     "metadata": {},
     "output_type": "execute_result"
    }
   ],
   "source": [
    "(df.transaction_id.value_counts() == 1).all() # ensure the rows are unique"
   ]
  },
  {
   "cell_type": "markdown",
   "id": "c3adfb84",
   "metadata": {},
   "source": [
    "### Load Full Data\n",
    "---\n",
    "\n",
    "Due to the size of our data, this is not adviced"
   ]
  },
  {
   "cell_type": "code",
   "execution_count": 8,
   "id": "04a96999",
   "metadata": {},
   "outputs": [
    {
     "data": {
      "text/plain": [
       "(31774405, 253)"
      ]
     },
     "execution_count": 8,
     "metadata": {},
     "output_type": "execute_result"
    }
   ],
   "source": [
    "data_dir = get_data_dir(config, config[\"base_path\"], \"features\")\n",
    "dl = DataLoader(data_dir)\n",
    "df = dl.get_full()\n",
    "df.shape"
   ]
  },
  {
   "cell_type": "code",
   "execution_count": 9,
   "id": "5023609a",
   "metadata": {},
   "outputs": [
    {
     "name": "stdout",
     "output_type": "stream",
     "text": [
      "<class 'pandas.core.frame.DataFrame'>\n",
      "Int64Index: 31774405 entries, 0 to 7939833\n",
      "Columns: 253 entries, transaction_datetime to indeterminate_60d\n",
      "dtypes: bool(24), datetime64[ns, UTC](1), datetime64[ns](19), float64(148), int64(22), object(39)\n",
      "memory usage: 102.3 GB\n"
     ]
    }
   ],
   "source": [
    "df.info(memory_usage=\"deep\")"
   ]
  }
 ],
 "metadata": {
  "kernelspec": {
   "display_name": "conda_amazonei_mxnet_p27",
   "language": "python",
   "name": "conda_amazonei_mxnet_p27"
  },
  "language_info": {
   "codemirror_mode": {
    "name": "ipython",
    "version": 2
   },
   "file_extension": ".py",
   "mimetype": "text/x-python",
   "name": "python",
   "nbconvert_exporter": "python",
   "pygments_lexer": "ipython2",
   "version": "2.7.16"
  }
 },
 "nbformat": 4,
 "nbformat_minor": 5
}
