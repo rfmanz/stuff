{
 "cells": [
  {
   "cell_type": "code",
   "execution_count": 32,
   "id": "ff95498d",
   "metadata": {},
   "outputs": [],
   "source": [
    "import pandas as pd\n",
    "import numpy as np\n",
    "import matplotlib.pyplot as plt\n",
    "import seaborn as sns\n",
    "import mdsutils"
   ]
  },
  {
   "cell_type": "code",
   "execution_count": 2,
   "id": "24a5e71b",
   "metadata": {},
   "outputs": [],
   "source": [
    "athena = mdsutils.AthenaClient(\"datalake_production_kafka_raw\")"
   ]
  },
  {
   "cell_type": "code",
   "execution_count": null,
   "id": "148762a9",
   "metadata": {},
   "outputs": [],
   "source": [
    "%%time\n",
    "\n",
    "trnx_query = \"\"\"\n",
    "select k.value,\n",
    "       k.offset,\n",
    "       k.partition\n",
    "from \"datalake_production_kafka_raw\".\"com_sofi_banking_schemas_bankingtransactionoccurred\" k\n",
    "\"\"\"\n",
    "\n",
    "trnx = athena.query_to_df(trnx_query)\n",
    "trnx.to_parquet(\"../../artifacts/data-dump/kafka-trnx-01102022.parquet\")"
   ]
  },
  {
   "cell_type": "code",
   "execution_count": 31,
   "id": "49770cd2",
   "metadata": {},
   "outputs": [
    {
     "data": {
      "text/plain": [
       "(71290593, 3)"
      ]
     },
     "execution_count": 31,
     "metadata": {},
     "output_type": "execute_result"
    }
   ],
   "source": [
    "trnx.shape"
   ]
  },
  {
   "cell_type": "code",
   "execution_count": 32,
   "id": "8aeb381e",
   "metadata": {},
   "outputs": [
    {
     "data": {
      "text/html": [
       "<div>\n",
       "<style scoped>\n",
       "    .dataframe tbody tr th:only-of-type {\n",
       "        vertical-align: middle;\n",
       "    }\n",
       "\n",
       "    .dataframe tbody tr th {\n",
       "        vertical-align: top;\n",
       "    }\n",
       "\n",
       "    .dataframe thead th {\n",
       "        text-align: right;\n",
       "    }\n",
       "</style>\n",
       "<table border=\"1\" class=\"dataframe\">\n",
       "  <thead>\n",
       "    <tr style=\"text-align: right;\">\n",
       "      <th></th>\n",
       "      <th>value</th>\n",
       "      <th>offset</th>\n",
       "      <th>partition</th>\n",
       "    </tr>\n",
       "  </thead>\n",
       "  <tbody>\n",
       "    <tr>\n",
       "      <th>0</th>\n",
       "      <td>{partyid=14442340, amount=10.00, accountbalanc...</td>\n",
       "      <td>465419</td>\n",
       "      <td>15</td>\n",
       "    </tr>\n",
       "    <tr>\n",
       "      <th>1</th>\n",
       "      <td>{partyid=2925293, amount=269.91, accountbalanc...</td>\n",
       "      <td>465420</td>\n",
       "      <td>15</td>\n",
       "    </tr>\n",
       "    <tr>\n",
       "      <th>2</th>\n",
       "      <td>{partyid=63884, amount=23.50, accountbalance=2...</td>\n",
       "      <td>465421</td>\n",
       "      <td>15</td>\n",
       "    </tr>\n",
       "    <tr>\n",
       "      <th>3</th>\n",
       "      <td>{partyid=244364, amount=61.18, accountbalance=...</td>\n",
       "      <td>465422</td>\n",
       "      <td>15</td>\n",
       "    </tr>\n",
       "    <tr>\n",
       "      <th>4</th>\n",
       "      <td>{partyid=14395863, amount=74.75, accountbalanc...</td>\n",
       "      <td>465423</td>\n",
       "      <td>15</td>\n",
       "    </tr>\n",
       "  </tbody>\n",
       "</table>\n",
       "</div>"
      ],
      "text/plain": [
       "                                               value  offset  partition\n",
       "0  {partyid=14442340, amount=10.00, accountbalanc...  465419         15\n",
       "1  {partyid=2925293, amount=269.91, accountbalanc...  465420         15\n",
       "2  {partyid=63884, amount=23.50, accountbalance=2...  465421         15\n",
       "3  {partyid=244364, amount=61.18, accountbalance=...  465422         15\n",
       "4  {partyid=14395863, amount=74.75, accountbalanc...  465423         15"
      ]
     },
     "execution_count": 32,
     "metadata": {},
     "output_type": "execute_result"
    }
   ],
   "source": [
    "trnx.head()"
   ]
  },
  {
   "cell_type": "code",
   "execution_count": 33,
   "id": "59ebb959",
   "metadata": {},
   "outputs": [
    {
     "data": {
      "text/plain": [
       "'{partyid=15046897, amount=0.30, accountbalance=9.86, hostdate=1579978147000, effectivedate=null, systemdate=1579910400000, holdexpires=null, transactioncode=POSDW, transactioncategory=purchasefromchecking, histseq=30, transeq=12073001, reverseseq=null, accountnum=410003813061, recipient=null, sender=null, externalbankname=null, externalbankaccountnumber=null, achdetails=null, billpay=null, comment=null, isdebit=true, sourcedata={ZCRDN=1000001775360003, ZMCC=5541}, eft={authcode=010122, authid=A1579996147351505014467, cardpointer=null, trantype=POS, merchanttradename=7-ELEVEN, isforeigntransaction=false, currency=null, conversionrate=null, foreignamount=null, foreignfeeamount=null, foreigntotalamount=null}, source={deviceid=00MUSI01, messageid=A1579996147351505014467, localdate=2020-01-25, receipt=null, address=null, authdate=null}, primarypartyid=15046897, secondarypartyid=null, merchantname=7-ELEVEN, transactiontype=Debit Card, isvault=false, transactiondescription=7-ELEVEN, transactionid=null, isroundup=null, tovaultid=null, primarytransactionid=null, vaultendbalance=null, vaultid=null, accountdetails=null, settlementdate=null, more=null}'"
      ]
     },
     "execution_count": 33,
     "metadata": {},
     "output_type": "execute_result"
    }
   ],
   "source": [
    "i"
   ]
  },
  {
   "cell_type": "code",
   "execution_count": 38,
   "id": "3229141b",
   "metadata": {},
   "outputs": [
    {
     "name": "stdout",
     "output_type": "stream",
     "text": [
      "[^a-zA-Z0-9]amount=([a-zA-Z0-9.]+)\n"
     ]
    },
    {
     "data": {
      "text/plain": [
       "['0.30']"
      ]
     },
     "metadata": {},
     "output_type": "display_data"
    },
    {
     "name": "stdout",
     "output_type": "stream",
     "text": [
      "[^a-zA-Z0-9]partyid=([a-zA-Z0-9.]+)\n"
     ]
    },
    {
     "data": {
      "text/plain": [
       "['15046897']"
      ]
     },
     "metadata": {},
     "output_type": "display_data"
    },
    {
     "name": "stdout",
     "output_type": "stream",
     "text": [
      "[^a-zA-Z0-9]transactioncode=([a-zA-Z0-9.]+)\n"
     ]
    },
    {
     "data": {
      "text/plain": [
       "['POSDW']"
      ]
     },
     "metadata": {},
     "output_type": "display_data"
    },
    {
     "name": "stdout",
     "output_type": "stream",
     "text": [
      "[^a-zA-Z0-9]transeq=([a-zA-Z0-9.]+)\n"
     ]
    },
    {
     "data": {
      "text/plain": [
       "['12073001']"
      ]
     },
     "metadata": {},
     "output_type": "display_data"
    },
    {
     "name": "stdout",
     "output_type": "stream",
     "text": [
      "[^a-zA-Z0-9]isdebit=([a-zA-Z0-9.]+)\n"
     ]
    },
    {
     "data": {
      "text/plain": [
       "['true']"
      ]
     },
     "metadata": {},
     "output_type": "display_data"
    },
    {
     "name": "stdout",
     "output_type": "stream",
     "text": [
      "[^a-zA-Z0-9]localdate=([a-zA-Z0-9.]+)\n"
     ]
    },
    {
     "data": {
      "text/plain": [
       "['2020']"
      ]
     },
     "metadata": {},
     "output_type": "display_data"
    },
    {
     "name": "stdout",
     "output_type": "stream",
     "text": [
      "[^a-zA-Z0-9]primarypartyid=([a-zA-Z0-9.]+)\n"
     ]
    },
    {
     "data": {
      "text/plain": [
       "['15046897']"
      ]
     },
     "metadata": {},
     "output_type": "display_data"
    },
    {
     "name": "stdout",
     "output_type": "stream",
     "text": [
      "[^a-zA-Z0-9]accountnum=([a-zA-Z0-9.]+)\n"
     ]
    },
    {
     "data": {
      "text/plain": [
       "['410003813061']"
      ]
     },
     "metadata": {},
     "output_type": "display_data"
    },
    {
     "name": "stdout",
     "output_type": "stream",
     "text": [
      "[^a-zA-Z0-9]accountbalance=([a-zA-Z0-9.]+)\n"
     ]
    },
    {
     "data": {
      "text/plain": [
       "['9.86']"
      ]
     },
     "metadata": {},
     "output_type": "display_data"
    },
    {
     "name": "stdout",
     "output_type": "stream",
     "text": [
      "[^a-zA-Z0-9]transactiontype=([a-zA-Z0-9.]+)\n"
     ]
    },
    {
     "data": {
      "text/plain": [
       "['Debit']"
      ]
     },
     "metadata": {},
     "output_type": "display_data"
    },
    {
     "name": "stdout",
     "output_type": "stream",
     "text": [
      "[^a-zA-Z0-9]isvault=([a-zA-Z0-9.]+)\n"
     ]
    },
    {
     "data": {
      "text/plain": [
       "['false']"
      ]
     },
     "metadata": {},
     "output_type": "display_data"
    },
    {
     "name": "stdout",
     "output_type": "stream",
     "text": [
      "[^a-zA-Z0-9]vaultendbalance=([a-zA-Z0-9.]+)\n"
     ]
    },
    {
     "data": {
      "text/plain": [
       "['null']"
      ]
     },
     "metadata": {},
     "output_type": "display_data"
    },
    {
     "name": "stdout",
     "output_type": "stream",
     "text": [
      "[^a-zA-Z0-9]authid=([a-zA-Z0-9.]+)\n"
     ]
    },
    {
     "data": {
      "text/plain": [
       "['A1579996147351505014467']"
      ]
     },
     "metadata": {},
     "output_type": "display_data"
    }
   ],
   "source": [
    "import re\n",
    "\n",
    "# amount pattern\n",
    "fields = [\"amount\", \"partyid\", \"transactioncode\", \"transeq\", \"isdebit\", \n",
    "         \"localdate\", \"primarypartyid\", \"accountnum\", \"accountbalance\",\n",
    "          \"transactiontype\", \"isvault\", \"vaultendbalance\", \"authid\"]\n",
    "\n",
    "for f in fields:\n",
    "    p = f\"[^a-zA-Z0-9]{f}=([a-zA-Z0-9.]+)\"\n",
    "    print(p)\n",
    "\n",
    "    pattern = re.compile(p)\n",
    "    display(re.findall(pattern, i))"
   ]
  },
  {
   "cell_type": "code",
   "execution_count": null,
   "id": "4f1a9e1b",
   "metadata": {},
   "outputs": [
    {
     "name": "stdout",
     "output_type": "stream",
     "text": [
      "amount [^a-zA-Z0-9]amount=([a-zA-Z0-9.]+)\n",
      "partyid [^a-zA-Z0-9]partyid=([a-zA-Z0-9.]+)\n",
      "transactioncode [^a-zA-Z0-9]transactioncode=([a-zA-Z0-9.]+)\n",
      "transeq [^a-zA-Z0-9]transeq=([a-zA-Z0-9.]+)\n",
      "isdebit [^a-zA-Z0-9]isdebit=([a-zA-Z0-9.]+)\n"
     ]
    }
   ],
   "source": [
    "%%time\n",
    "df = trnx\n",
    "\n",
    "for f in fields:\n",
    "    p = f\"[^a-zA-Z0-9]{f}=([a-zA-Z0-9.-]+)\"\n",
    "    print(f, p)\n",
    "\n",
    "    pattern = re.compile(p)\n",
    "    df[f] = df[\"value\"].str.extract(fr'{p}')\n",
    "    \n",
    "df.to_parquet(\"../../artifacts/data-dump/kafka-trnx-01102022-processed.parquet\")"
   ]
  },
  {
   "cell_type": "code",
   "execution_count": 52,
   "id": "8f0ebf25",
   "metadata": {},
   "outputs": [
    {
     "data": {
      "text/html": [
       "<div>\n",
       "<style scoped>\n",
       "    .dataframe tbody tr th:only-of-type {\n",
       "        vertical-align: middle;\n",
       "    }\n",
       "\n",
       "    .dataframe tbody tr th {\n",
       "        vertical-align: top;\n",
       "    }\n",
       "\n",
       "    .dataframe thead th {\n",
       "        text-align: right;\n",
       "    }\n",
       "</style>\n",
       "<table border=\"1\" class=\"dataframe\">\n",
       "  <thead>\n",
       "    <tr style=\"text-align: right;\">\n",
       "      <th></th>\n",
       "      <th>value</th>\n",
       "      <th>offset</th>\n",
       "      <th>partition</th>\n",
       "      <th>amount</th>\n",
       "      <th>partyid</th>\n",
       "      <th>transactioncode</th>\n",
       "      <th>transeq</th>\n",
       "      <th>isdebit</th>\n",
       "      <th>localdate</th>\n",
       "      <th>primarypartyid</th>\n",
       "      <th>accountnum</th>\n",
       "      <th>accountbalance</th>\n",
       "      <th>transactiontype</th>\n",
       "      <th>isvault</th>\n",
       "      <th>vaultendbalance</th>\n",
       "      <th>authid</th>\n",
       "    </tr>\n",
       "  </thead>\n",
       "  <tbody>\n",
       "    <tr>\n",
       "      <th>0</th>\n",
       "      <td>{partyid=14442340, amount=10.00, accountbalanc...</td>\n",
       "      <td>465419</td>\n",
       "      <td>15</td>\n",
       "      <td>10.00</td>\n",
       "      <td>14442340</td>\n",
       "      <td>POSDW</td>\n",
       "      <td>347001</td>\n",
       "      <td>true</td>\n",
       "      <td>2020</td>\n",
       "      <td>14442340</td>\n",
       "      <td>410002450376</td>\n",
       "      <td>581.8</td>\n",
       "      <td>Debit</td>\n",
       "      <td>false</td>\n",
       "      <td>null</td>\n",
       "      <td>A1579876665856642014467</td>\n",
       "    </tr>\n",
       "    <tr>\n",
       "      <th>1</th>\n",
       "      <td>{partyid=2925293, amount=269.91, accountbalanc...</td>\n",
       "      <td>465420</td>\n",
       "      <td>15</td>\n",
       "      <td>269.91</td>\n",
       "      <td>2925293</td>\n",
       "      <td>POSDW</td>\n",
       "      <td>363001</td>\n",
       "      <td>true</td>\n",
       "      <td>2020</td>\n",
       "      <td>2925293</td>\n",
       "      <td>410002216284</td>\n",
       "      <td>2442.29</td>\n",
       "      <td>Debit</td>\n",
       "      <td>false</td>\n",
       "      <td>null</td>\n",
       "      <td>A1579895742486154014467</td>\n",
       "    </tr>\n",
       "    <tr>\n",
       "      <th>2</th>\n",
       "      <td>{partyid=63884, amount=23.50, accountbalance=2...</td>\n",
       "      <td>465421</td>\n",
       "      <td>15</td>\n",
       "      <td>23.50</td>\n",
       "      <td>63884</td>\n",
       "      <td>DWATM</td>\n",
       "      <td>378001</td>\n",
       "      <td>true</td>\n",
       "      <td>2020</td>\n",
       "      <td>63884</td>\n",
       "      <td>410000317473</td>\n",
       "      <td>263445.72</td>\n",
       "      <td>ATM</td>\n",
       "      <td>false</td>\n",
       "      <td>null</td>\n",
       "      <td>A1579930677798430014467</td>\n",
       "    </tr>\n",
       "    <tr>\n",
       "      <th>3</th>\n",
       "      <td>{partyid=244364, amount=61.18, accountbalance=...</td>\n",
       "      <td>465422</td>\n",
       "      <td>15</td>\n",
       "      <td>61.18</td>\n",
       "      <td>244364</td>\n",
       "      <td>POSDW</td>\n",
       "      <td>393001</td>\n",
       "      <td>true</td>\n",
       "      <td>2020</td>\n",
       "      <td>244364</td>\n",
       "      <td>410000378586</td>\n",
       "      <td>1805.1</td>\n",
       "      <td>Debit</td>\n",
       "      <td>false</td>\n",
       "      <td>null</td>\n",
       "      <td>A1579842411797425014467</td>\n",
       "    </tr>\n",
       "    <tr>\n",
       "      <th>4</th>\n",
       "      <td>{partyid=14395863, amount=74.75, accountbalanc...</td>\n",
       "      <td>465423</td>\n",
       "      <td>15</td>\n",
       "      <td>74.75</td>\n",
       "      <td>14395863</td>\n",
       "      <td>DWCRDBILLPAY</td>\n",
       "      <td>400001</td>\n",
       "      <td>true</td>\n",
       "      <td>2020</td>\n",
       "      <td>14395863</td>\n",
       "      <td>410002407897</td>\n",
       "      <td>770.34</td>\n",
       "      <td>Debit</td>\n",
       "      <td>false</td>\n",
       "      <td>null</td>\n",
       "      <td>A1579899938642529014467</td>\n",
       "    </tr>\n",
       "  </tbody>\n",
       "</table>\n",
       "</div>"
      ],
      "text/plain": [
       "                                               value  offset  partition  \\\n",
       "0  {partyid=14442340, amount=10.00, accountbalanc...  465419         15   \n",
       "1  {partyid=2925293, amount=269.91, accountbalanc...  465420         15   \n",
       "2  {partyid=63884, amount=23.50, accountbalance=2...  465421         15   \n",
       "3  {partyid=244364, amount=61.18, accountbalance=...  465422         15   \n",
       "4  {partyid=14395863, amount=74.75, accountbalanc...  465423         15   \n",
       "\n",
       "   amount   partyid transactioncode transeq isdebit localdate primarypartyid  \\\n",
       "0   10.00  14442340           POSDW  347001    true      2020       14442340   \n",
       "1  269.91   2925293           POSDW  363001    true      2020        2925293   \n",
       "2   23.50     63884           DWATM  378001    true      2020          63884   \n",
       "3   61.18    244364           POSDW  393001    true      2020         244364   \n",
       "4   74.75  14395863    DWCRDBILLPAY  400001    true      2020       14395863   \n",
       "\n",
       "     accountnum accountbalance transactiontype isvault vaultendbalance  \\\n",
       "0  410002450376          581.8           Debit   false            null   \n",
       "1  410002216284        2442.29           Debit   false            null   \n",
       "2  410000317473      263445.72             ATM   false            null   \n",
       "3  410000378586         1805.1           Debit   false            null   \n",
       "4  410002407897         770.34           Debit   false            null   \n",
       "\n",
       "                    authid  \n",
       "0  A1579876665856642014467  \n",
       "1  A1579895742486154014467  \n",
       "2  A1579930677798430014467  \n",
       "3  A1579842411797425014467  \n",
       "4  A1579899938642529014467  "
      ]
     },
     "execution_count": 52,
     "metadata": {},
     "output_type": "execute_result"
    }
   ],
   "source": [
    "df.head()"
   ]
  },
  {
   "cell_type": "code",
   "execution_count": 54,
   "id": "9f84cd49",
   "metadata": {},
   "outputs": [
    {
     "data": {
      "text/plain": [
       "(71290593, 16)"
      ]
     },
     "execution_count": 54,
     "metadata": {},
     "output_type": "execute_result"
    }
   ],
   "source": [
    "df.to_parquet(\"../../artifacts/data-dump/kafka-trnx-01102022-processed.parquet\")\n",
    "df.shape"
   ]
  },
  {
   "cell_type": "markdown",
   "id": "0dbe7197",
   "metadata": {},
   "source": [
    "### Get DW transactions data with authid\n",
    "---"
   ]
  },
  {
   "cell_type": "code",
   "execution_count": 32,
   "id": "560f43fc",
   "metadata": {},
   "outputs": [
    {
     "name": "stdout",
     "output_type": "stream",
     "text": [
      "CPU times: user 6min 27s, sys: 42.8 s, total: 7min 9s\n",
      "Wall time: 14min 10s\n"
     ]
    }
   ],
   "source": [
    "%%time\n",
    "\n",
    "from rdsutils.query import query_postgres\n",
    "\n",
    "query = \"\"\"\n",
    "-- banking transactions by business account.\n",
    "SELECT tjd,\n",
    "       dtj.time,\n",
    "       dtj.cid AS business_account_number,\n",
    "       cdt AS created_dt,\n",
    "       endbal,\n",
    "       dtj.etc AS transaction_code,\n",
    "       tamt AS amount,\n",
    "       split_part(split_part(dtj.tso, 'AUTHID#', 2), '~', 1) AS authid,\n",
    "       trn.dc as is_credit,\n",
    "       cif.zsofiid as user_id\n",
    "FROM dtj\n",
    "JOIN profile_reporting.dep ON dep.cid = dtj.cid\n",
    "JOIN cif ON cif.acn = dep.acn\n",
    "LEFT JOIN trn on dtj.etc = trn.etc;\n",
    "\"\"\"\n",
    "\n",
    "df_dw = query_postgres(query=query, port=15556, database=\"sofi_profile_reporting\")\n",
    "df_dw.to_parquet(\"../../artifacts/data-dump/dw-trnx-01102022.parquet\")"
   ]
  },
  {
   "cell_type": "code",
   "execution_count": 33,
   "id": "a88d97e1",
   "metadata": {},
   "outputs": [
    {
     "data": {
      "text/html": [
       "<div>\n",
       "<style scoped>\n",
       "    .dataframe tbody tr th:only-of-type {\n",
       "        vertical-align: middle;\n",
       "    }\n",
       "\n",
       "    .dataframe tbody tr th {\n",
       "        vertical-align: top;\n",
       "    }\n",
       "\n",
       "    .dataframe thead th {\n",
       "        text-align: right;\n",
       "    }\n",
       "</style>\n",
       "<table border=\"1\" class=\"dataframe\">\n",
       "  <thead>\n",
       "    <tr style=\"text-align: right;\">\n",
       "      <th></th>\n",
       "      <th>tjd</th>\n",
       "      <th>time</th>\n",
       "      <th>business_account_number</th>\n",
       "      <th>created_dt</th>\n",
       "      <th>endbal</th>\n",
       "      <th>transaction_code</th>\n",
       "      <th>amount</th>\n",
       "      <th>authid</th>\n",
       "      <th>is_credit</th>\n",
       "      <th>user_id</th>\n",
       "    </tr>\n",
       "  </thead>\n",
       "  <tbody>\n",
       "    <tr>\n",
       "      <th>0</th>\n",
       "      <td>2022-01-06</td>\n",
       "      <td>19:08:31</td>\n",
       "      <td>450019197849</td>\n",
       "      <td>2022-01-06</td>\n",
       "      <td>2476.91</td>\n",
       "      <td>OTOD</td>\n",
       "      <td>42.03</td>\n",
       "      <td></td>\n",
       "      <td>0</td>\n",
       "      <td>13051072</td>\n",
       "    </tr>\n",
       "    <tr>\n",
       "      <th>1</th>\n",
       "      <td>2022-01-06</td>\n",
       "      <td>19:08:29</td>\n",
       "      <td>450019748019</td>\n",
       "      <td>2022-01-06</td>\n",
       "      <td>143.97</td>\n",
       "      <td>DDTRF</td>\n",
       "      <td>.19</td>\n",
       "      <td></td>\n",
       "      <td>1</td>\n",
       "      <td>14963677</td>\n",
       "    </tr>\n",
       "    <tr>\n",
       "      <th>2</th>\n",
       "      <td>2022-01-06</td>\n",
       "      <td>19:08:36</td>\n",
       "      <td>410000404421</td>\n",
       "      <td>2022-01-06</td>\n",
       "      <td>1803.15</td>\n",
       "      <td>POSDW</td>\n",
       "      <td>32.01</td>\n",
       "      <td>A1641514116983312019199</td>\n",
       "      <td>0</td>\n",
       "      <td>12396371</td>\n",
       "    </tr>\n",
       "    <tr>\n",
       "      <th>3</th>\n",
       "      <td>2022-01-06</td>\n",
       "      <td>19:08:50</td>\n",
       "      <td>410023034827</td>\n",
       "      <td>2022-01-06</td>\n",
       "      <td>0.20</td>\n",
       "      <td>DDREWARDS</td>\n",
       "      <td>0.10</td>\n",
       "      <td></td>\n",
       "      <td>1</td>\n",
       "      <td>21476525</td>\n",
       "    </tr>\n",
       "    <tr>\n",
       "      <th>4</th>\n",
       "      <td>2022-01-06</td>\n",
       "      <td>19:08:50</td>\n",
       "      <td>410000404421</td>\n",
       "      <td>2022-01-06</td>\n",
       "      <td>1802.16</td>\n",
       "      <td>DWTRF</td>\n",
       "      <td>.99</td>\n",
       "      <td></td>\n",
       "      <td>0</td>\n",
       "      <td>12396371</td>\n",
       "    </tr>\n",
       "    <tr>\n",
       "      <th>...</th>\n",
       "      <td>...</td>\n",
       "      <td>...</td>\n",
       "      <td>...</td>\n",
       "      <td>...</td>\n",
       "      <td>...</td>\n",
       "      <td>...</td>\n",
       "      <td>...</td>\n",
       "      <td>...</td>\n",
       "      <td>...</td>\n",
       "      <td>...</td>\n",
       "    </tr>\n",
       "    <tr>\n",
       "      <th>71632160</th>\n",
       "      <td>2022-01-06</td>\n",
       "      <td>19:08:05</td>\n",
       "      <td>410019395965</td>\n",
       "      <td>2022-01-06</td>\n",
       "      <td>284.07</td>\n",
       "      <td>DWATM</td>\n",
       "      <td>360.00</td>\n",
       "      <td>A1641514085980359018848</td>\n",
       "      <td>0</td>\n",
       "      <td>20228604</td>\n",
       "    </tr>\n",
       "    <tr>\n",
       "      <th>71632161</th>\n",
       "      <td>2022-01-06</td>\n",
       "      <td>19:08:09</td>\n",
       "      <td>450015883564</td>\n",
       "      <td>2022-01-06</td>\n",
       "      <td>2131.11</td>\n",
       "      <td>DDTRF</td>\n",
       "      <td>.84</td>\n",
       "      <td></td>\n",
       "      <td>1</td>\n",
       "      <td>14209526</td>\n",
       "    </tr>\n",
       "    <tr>\n",
       "      <th>71632162</th>\n",
       "      <td>2022-01-06</td>\n",
       "      <td>19:08:05</td>\n",
       "      <td>410016954752</td>\n",
       "      <td>2022-01-06</td>\n",
       "      <td>394.55</td>\n",
       "      <td>POSDD</td>\n",
       "      <td>394.00</td>\n",
       "      <td>A1641514085580813019199</td>\n",
       "      <td>1</td>\n",
       "      <td>19423930</td>\n",
       "    </tr>\n",
       "    <tr>\n",
       "      <th>71632163</th>\n",
       "      <td>2022-01-06</td>\n",
       "      <td>19:08:06</td>\n",
       "      <td>410001996909</td>\n",
       "      <td>2022-01-06</td>\n",
       "      <td>975.21</td>\n",
       "      <td>POSDW</td>\n",
       "      <td>58.18</td>\n",
       "      <td>A1641513936089890019521</td>\n",
       "      <td>0</td>\n",
       "      <td>14092843</td>\n",
       "    </tr>\n",
       "    <tr>\n",
       "      <th>71632164</th>\n",
       "      <td>2022-01-06</td>\n",
       "      <td>19:08:14</td>\n",
       "      <td>410001996909</td>\n",
       "      <td>2022-01-06</td>\n",
       "      <td>974.39</td>\n",
       "      <td>DWTRF</td>\n",
       "      <td>.82</td>\n",
       "      <td></td>\n",
       "      <td>0</td>\n",
       "      <td>14092843</td>\n",
       "    </tr>\n",
       "  </tbody>\n",
       "</table>\n",
       "<p>71632165 rows × 10 columns</p>\n",
       "</div>"
      ],
      "text/plain": [
       "                 tjd      time  business_account_number  created_dt   endbal  \\\n",
       "0         2022-01-06  19:08:31             450019197849  2022-01-06  2476.91   \n",
       "1         2022-01-06  19:08:29             450019748019  2022-01-06   143.97   \n",
       "2         2022-01-06  19:08:36             410000404421  2022-01-06  1803.15   \n",
       "3         2022-01-06  19:08:50             410023034827  2022-01-06     0.20   \n",
       "4         2022-01-06  19:08:50             410000404421  2022-01-06  1802.16   \n",
       "...              ...       ...                      ...         ...      ...   \n",
       "71632160  2022-01-06  19:08:05             410019395965  2022-01-06   284.07   \n",
       "71632161  2022-01-06  19:08:09             450015883564  2022-01-06  2131.11   \n",
       "71632162  2022-01-06  19:08:05             410016954752  2022-01-06   394.55   \n",
       "71632163  2022-01-06  19:08:06             410001996909  2022-01-06   975.21   \n",
       "71632164  2022-01-06  19:08:14             410001996909  2022-01-06   974.39   \n",
       "\n",
       "         transaction_code  amount                   authid  is_credit  \\\n",
       "0                    OTOD   42.03                                   0   \n",
       "1                   DDTRF     .19                                   1   \n",
       "2                   POSDW   32.01  A1641514116983312019199          0   \n",
       "3               DDREWARDS    0.10                                   1   \n",
       "4                   DWTRF     .99                                   0   \n",
       "...                   ...     ...                      ...        ...   \n",
       "71632160            DWATM  360.00  A1641514085980359018848          0   \n",
       "71632161            DDTRF     .84                                   1   \n",
       "71632162            POSDD  394.00  A1641514085580813019199          1   \n",
       "71632163            POSDW   58.18  A1641513936089890019521          0   \n",
       "71632164            DWTRF     .82                                   0   \n",
       "\n",
       "           user_id  \n",
       "0         13051072  \n",
       "1         14963677  \n",
       "2         12396371  \n",
       "3         21476525  \n",
       "4         12396371  \n",
       "...            ...  \n",
       "71632160  20228604  \n",
       "71632161  14209526  \n",
       "71632162  19423930  \n",
       "71632163  14092843  \n",
       "71632164  14092843  \n",
       "\n",
       "[71632165 rows x 10 columns]"
      ]
     },
     "execution_count": 33,
     "metadata": {},
     "output_type": "execute_result"
    }
   ],
   "source": [
    "df_dw"
   ]
  },
  {
   "cell_type": "code",
   "execution_count": null,
   "id": "c2a9d62f",
   "metadata": {},
   "outputs": [],
   "source": []
  },
  {
   "cell_type": "code",
   "execution_count": null,
   "id": "6f8b4038",
   "metadata": {},
   "outputs": [],
   "source": []
  },
  {
   "cell_type": "code",
   "execution_count": null,
   "id": "c6ef1e56",
   "metadata": {},
   "outputs": [],
   "source": []
  },
  {
   "cell_type": "markdown",
   "id": "2552775d",
   "metadata": {},
   "source": [
    "#### Checkpoint - next: load back important columns and process\n",
    "---"
   ]
  },
  {
   "cell_type": "code",
   "execution_count": 34,
   "id": "bb5d5154",
   "metadata": {},
   "outputs": [
    {
     "name": "stdout",
     "output_type": "stream",
     "text": [
      "CPU times: user 2min 2s, sys: 28.2 s, total: 2min 30s\n",
      "Wall time: 1min 40s\n"
     ]
    }
   ],
   "source": [
    "%%time\n",
    "columns = [\"amount\", \"partyid\", \"transactioncode\", \"transeq\", \"isdebit\", \n",
    "         \"localdate\", \"primarypartyid\", \"accountnum\", \"accountbalance\",\n",
    "          \"transactiontype\", \"isvault\", \"vaultendbalance\", \"authid\", \"offset\", \"partition\"]\n",
    "df_kafka = pd.read_parquet(\"../../artifacts/data-dump/kafka-trnx-01102022-processed.parquet\", columns=columns)\n",
    "df_dw = pd.read_parquet(\"../../artifacts/data-dump/dw-trnx-01102022.parquet\")"
   ]
  },
  {
   "cell_type": "code",
   "execution_count": 35,
   "id": "c7b1e247",
   "metadata": {},
   "outputs": [
    {
     "data": {
      "text/plain": [
       "176"
      ]
     },
     "execution_count": 35,
     "metadata": {},
     "output_type": "execute_result"
    }
   ],
   "source": [
    "import gc\n",
    "gc.collect()"
   ]
  },
  {
   "cell_type": "code",
   "execution_count": 36,
   "id": "7a4bf50e",
   "metadata": {},
   "outputs": [
    {
     "data": {
      "text/plain": [
       "((71290593, 15), (71632165, 10))"
      ]
     },
     "execution_count": 36,
     "metadata": {},
     "output_type": "execute_result"
    }
   ],
   "source": [
    "df_kafka.shape, df_dw.shape"
   ]
  },
  {
   "cell_type": "code",
   "execution_count": 99,
   "id": "7688782f",
   "metadata": {},
   "outputs": [],
   "source": [
    "rename_dict = {\"partyid\": \"user_id\", \n",
    "               \"localdate\": \"transaction_date\",\n",
    "               \"accountnum\": \"business_account_number\",  #?\n",
    "               \"transactiontype\": \"transaction_type\",\n",
    "               \"accountbalance\": \"account_balance\",\n",
    "               \"transactioncode\": \"transaction_code\"\n",
    "               }\n",
    "df_kafka.rename(columns=rename_dict, inplace=True)"
   ]
  },
  {
   "cell_type": "code",
   "execution_count": 64,
   "id": "7cf911c7",
   "metadata": {},
   "outputs": [],
   "source": [
    "df_kafka[df_kafka==\"null\"] = np.nan\n",
    "df_kafka = df_kafka[~(df_kafka[\"account_balance\"].isna() | df_kafka[\"amount\"].isna())]"
   ]
  },
  {
   "cell_type": "code",
   "execution_count": 65,
   "id": "dbfe31e3",
   "metadata": {},
   "outputs": [],
   "source": [
    "rename_dict = {\"tjd\": \"transaction_date\",\n",
    "               \"endbal\": \"account_balance\",\n",
    "               }\n",
    "df_dw.rename(columns=rename_dict, inplace=True)"
   ]
  },
  {
   "cell_type": "code",
   "execution_count": 66,
   "id": "54ba9b16",
   "metadata": {},
   "outputs": [],
   "source": [
    "def preprocess(df):\n",
    "    df = df[~df[\"authid\"].isna()]\n",
    "    df = df.drop_duplicates([\"user_id\", \"transaction_date\", \"authid\", \"business_account_number\", \"account_balance\"])\n",
    "    \n",
    "    df[\"user_id\"] = df[\"user_id\"].astype(int)\n",
    "    df[\"transaction_date\"] = pd.to_datetime(df[\"transaction_date\"])\n",
    "    df[\"business_account_number\"] = df[\"business_account_number\"].astype(int)\n",
    "    df[\"account_balance\"] = df[\"account_balance\"].astype(float)\n",
    "    df[\"amount\"] = df[\"amount\"].astype(float)\n",
    "    return df"
   ]
  },
  {
   "cell_type": "code",
   "execution_count": 74,
   "id": "036699e6",
   "metadata": {},
   "outputs": [],
   "source": [
    "fn = lambda x: x.split(\"#\")[0]\n",
    "idx = df_dw[\"amount\"].str.contains(\"#\")\n",
    "df_dw.loc[idx, \"amount\"] = df_dw.loc[idx, \"amount\"].apply(fn)"
   ]
  },
  {
   "cell_type": "code",
   "execution_count": 85,
   "id": "7a0f09ec",
   "metadata": {},
   "outputs": [],
   "source": [
    "idx = df_dw[\"authid\"] == \"\"\n",
    "df_dw.loc[idx, \"authid\"] = np.nan"
   ]
  },
  {
   "cell_type": "code",
   "execution_count": 86,
   "id": "9995e9fc",
   "metadata": {},
   "outputs": [
    {
     "name": "stdout",
     "output_type": "stream",
     "text": [
      "CPU times: user 1min 53s, sys: 8.17 s, total: 2min 1s\n",
      "Wall time: 2min 1s\n"
     ]
    }
   ],
   "source": [
    "%%time\n",
    "df_kafka = preprocess(df_kafka)\n",
    "df_dw = preprocess(df_dw)"
   ]
  },
  {
   "cell_type": "code",
   "execution_count": 87,
   "id": "387fae64",
   "metadata": {},
   "outputs": [
    {
     "data": {
      "text/plain": [
       "((29772651, 15), (30032594, 10))"
      ]
     },
     "execution_count": 87,
     "metadata": {},
     "output_type": "execute_result"
    }
   ],
   "source": [
    "df_kafka.shape, df_dw.shape"
   ]
  },
  {
   "cell_type": "code",
   "execution_count": 88,
   "id": "01566e18",
   "metadata": {},
   "outputs": [
    {
     "data": {
      "text/plain": [
       "<matplotlib.legend.Legend at 0x7f1d0945f750>"
      ]
     },
     "execution_count": 88,
     "metadata": {},
     "output_type": "execute_result"
    },
    {
     "data": {
      "image/png": "[encoded data removed]",
      "text/plain": [
       "<Figure size 432x288 with 1 Axes>"
      ]
     },
     "metadata": {
      "needs_background": "light"
     },
     "output_type": "display_data"
    }
   ],
   "source": [
    "df_kafka.transaction_date.hist(bins=100, alpha=0.4, label=\"kafka\")\n",
    "df_dw.transaction_date.hist(bins=100, alpha=0.4, label=\"dw\")\n",
    "plt.legend()"
   ]
  },
  {
   "cell_type": "code",
   "execution_count": 123,
   "id": "40fec524",
   "metadata": {},
   "outputs": [],
   "source": [
    "df_kafka.to_parquet(\"../../artifacts/data-dump/kafka-trnx-01102022-cleaned.parquet\")\n",
    "df_dw.to_parquet(\"../../artifacts/data-dump/dw-trnx-01102022-cleaned.parquet\")"
   ]
  },
  {
   "cell_type": "markdown",
   "id": "9d3da43b",
   "metadata": {},
   "source": [
    "### looks promising!!!"
   ]
  },
  {
   "cell_type": "code",
   "execution_count": 3,
   "id": "9c4662c1",
   "metadata": {},
   "outputs": [],
   "source": [
    "df_kafka = pd.read_parquet(\"../../artifacts/data-dump/kafka-trnx-01102022-cleaned.parquet\")\n",
    "df_dw = pd.read_parquet(\"../../artifacts/data-dump/dw-trnx-01102022-cleaned.parquet\")"
   ]
  },
  {
   "cell_type": "code",
   "execution_count": 4,
   "id": "1c7a1ba9",
   "metadata": {},
   "outputs": [
    {
     "data": {
      "text/plain": [
       "22"
      ]
     },
     "execution_count": 4,
     "metadata": {},
     "output_type": "execute_result"
    }
   ],
   "source": [
    "import gc\n",
    "gc.collect()"
   ]
  },
  {
   "cell_type": "code",
   "execution_count": 5,
   "id": "703f1ff4",
   "metadata": {},
   "outputs": [
    {
     "data": {
      "text/plain": [
       "(28611883, 29142539, (29451092, 15), (30032594, 10))"
      ]
     },
     "execution_count": 5,
     "metadata": {},
     "output_type": "execute_result"
    }
   ],
   "source": [
    "df_kafka.authid.nunique(), df_dw.authid.nunique(), df_kafka.shape, df_dw.shape"
   ]
  },
  {
   "cell_type": "code",
   "execution_count": 6,
   "id": "e4d0aafb",
   "metadata": {},
   "outputs": [
    {
     "data": {
      "text/plain": [
       "A1568869120276758006129    12\n",
       "A1579391247789047014467    10\n",
       "A1579578636462344014467    10\n",
       "A1562894043842591005065    10\n",
       "A1576790761220155014467     9\n",
       "Name: authid, dtype: int64"
      ]
     },
     "execution_count": 6,
     "metadata": {},
     "output_type": "execute_result"
    }
   ],
   "source": [
    "df_kafka.authid.value_counts().head()"
   ]
  },
  {
   "cell_type": "code",
   "execution_count": 7,
   "id": "d699bc3a",
   "metadata": {},
   "outputs": [
    {
     "data": {
      "text/html": [
       "<div>\n",
       "<style scoped>\n",
       "    .dataframe tbody tr th:only-of-type {\n",
       "        vertical-align: middle;\n",
       "    }\n",
       "\n",
       "    .dataframe tbody tr th {\n",
       "        vertical-align: top;\n",
       "    }\n",
       "\n",
       "    .dataframe thead th {\n",
       "        text-align: right;\n",
       "    }\n",
       "</style>\n",
       "<table border=\"1\" class=\"dataframe\">\n",
       "  <thead>\n",
       "    <tr style=\"text-align: right;\">\n",
       "      <th></th>\n",
       "      <th>amount</th>\n",
       "      <th>user_id</th>\n",
       "      <th>transaction_code</th>\n",
       "      <th>transeq</th>\n",
       "      <th>isdebit</th>\n",
       "      <th>transaction_date</th>\n",
       "      <th>primarypartyid</th>\n",
       "      <th>business_account_number</th>\n",
       "      <th>account_balance</th>\n",
       "      <th>transaction_type</th>\n",
       "      <th>isvault</th>\n",
       "      <th>vaultendbalance</th>\n",
       "      <th>authid</th>\n",
       "      <th>offset</th>\n",
       "      <th>partition</th>\n",
       "    </tr>\n",
       "  </thead>\n",
       "  <tbody>\n",
       "    <tr>\n",
       "      <th>375848</th>\n",
       "      <td>29.0</td>\n",
       "      <td>11459522</td>\n",
       "      <td>POSDW</td>\n",
       "      <td>4287001</td>\n",
       "      <td>true</td>\n",
       "      <td>2019-09-19</td>\n",
       "      <td>11459522</td>\n",
       "      <td>410001984867</td>\n",
       "      <td>11634.62</td>\n",
       "      <td>Debit</td>\n",
       "      <td>None</td>\n",
       "      <td>None</td>\n",
       "      <td>A1568869120276758006129</td>\n",
       "      <td>233033</td>\n",
       "      <td>7</td>\n",
       "    </tr>\n",
       "    <tr>\n",
       "      <th>943293</th>\n",
       "      <td>79.0</td>\n",
       "      <td>11459522</td>\n",
       "      <td>POSDW</td>\n",
       "      <td>4282001</td>\n",
       "      <td>true</td>\n",
       "      <td>2019-09-19</td>\n",
       "      <td>11459522</td>\n",
       "      <td>410001984867</td>\n",
       "      <td>11900.62</td>\n",
       "      <td>Debit</td>\n",
       "      <td>None</td>\n",
       "      <td>None</td>\n",
       "      <td>A1568869120276758006129</td>\n",
       "      <td>233079</td>\n",
       "      <td>9</td>\n",
       "    </tr>\n",
       "    <tr>\n",
       "      <th>2639894</th>\n",
       "      <td>26.0</td>\n",
       "      <td>11459522</td>\n",
       "      <td>POSDW</td>\n",
       "      <td>4283001</td>\n",
       "      <td>true</td>\n",
       "      <td>2019-09-19</td>\n",
       "      <td>11459522</td>\n",
       "      <td>410001984867</td>\n",
       "      <td>11874.62</td>\n",
       "      <td>Debit</td>\n",
       "      <td>None</td>\n",
       "      <td>None</td>\n",
       "      <td>A1568869120276758006129</td>\n",
       "      <td>233060</td>\n",
       "      <td>11</td>\n",
       "    </tr>\n",
       "    <tr>\n",
       "      <th>3188176</th>\n",
       "      <td>66.0</td>\n",
       "      <td>11459522</td>\n",
       "      <td>POSDW</td>\n",
       "      <td>4284001</td>\n",
       "      <td>true</td>\n",
       "      <td>2019-09-19</td>\n",
       "      <td>11459522</td>\n",
       "      <td>410001984867</td>\n",
       "      <td>11808.62</td>\n",
       "      <td>Debit</td>\n",
       "      <td>None</td>\n",
       "      <td>None</td>\n",
       "      <td>A1568869120276758006129</td>\n",
       "      <td>233057</td>\n",
       "      <td>4</td>\n",
       "    </tr>\n",
       "    <tr>\n",
       "      <th>3767723</th>\n",
       "      <td>79.0</td>\n",
       "      <td>11459522</td>\n",
       "      <td>POSDW</td>\n",
       "      <td>4288001</td>\n",
       "      <td>true</td>\n",
       "      <td>2019-09-19</td>\n",
       "      <td>11459522</td>\n",
       "      <td>410001984867</td>\n",
       "      <td>11555.62</td>\n",
       "      <td>Debit</td>\n",
       "      <td>None</td>\n",
       "      <td>None</td>\n",
       "      <td>A1568869120276758006129</td>\n",
       "      <td>233086</td>\n",
       "      <td>3</td>\n",
       "    </tr>\n",
       "    <tr>\n",
       "      <th>4109918</th>\n",
       "      <td>76.0</td>\n",
       "      <td>11459522</td>\n",
       "      <td>POSDW</td>\n",
       "      <td>4285001</td>\n",
       "      <td>true</td>\n",
       "      <td>2019-09-19</td>\n",
       "      <td>11459522</td>\n",
       "      <td>410001984867</td>\n",
       "      <td>11732.62</td>\n",
       "      <td>Debit</td>\n",
       "      <td>None</td>\n",
       "      <td>None</td>\n",
       "      <td>A1568869120276758006129</td>\n",
       "      <td>233063</td>\n",
       "      <td>1</td>\n",
       "    </tr>\n",
       "    <tr>\n",
       "      <th>4337319</th>\n",
       "      <td>29.0</td>\n",
       "      <td>11459522</td>\n",
       "      <td>POSDW</td>\n",
       "      <td>4276001</td>\n",
       "      <td>true</td>\n",
       "      <td>2019-09-19</td>\n",
       "      <td>11459522</td>\n",
       "      <td>410001984867</td>\n",
       "      <td>13150.62</td>\n",
       "      <td>Debit</td>\n",
       "      <td>None</td>\n",
       "      <td>None</td>\n",
       "      <td>A1568869120276758006129</td>\n",
       "      <td>233081</td>\n",
       "      <td>8</td>\n",
       "    </tr>\n",
       "    <tr>\n",
       "      <th>5103333</th>\n",
       "      <td>551.0</td>\n",
       "      <td>11459522</td>\n",
       "      <td>POSDW</td>\n",
       "      <td>4281001</td>\n",
       "      <td>true</td>\n",
       "      <td>2019-09-19</td>\n",
       "      <td>11459522</td>\n",
       "      <td>410001984867</td>\n",
       "      <td>11979.62</td>\n",
       "      <td>Debit</td>\n",
       "      <td>None</td>\n",
       "      <td>None</td>\n",
       "      <td>A1568869120276758006129</td>\n",
       "      <td>233045</td>\n",
       "      <td>14</td>\n",
       "    </tr>\n",
       "    <tr>\n",
       "      <th>5453141</th>\n",
       "      <td>69.0</td>\n",
       "      <td>11459522</td>\n",
       "      <td>POSDW</td>\n",
       "      <td>4280001</td>\n",
       "      <td>true</td>\n",
       "      <td>2019-09-19</td>\n",
       "      <td>11459522</td>\n",
       "      <td>410001984867</td>\n",
       "      <td>12530.62</td>\n",
       "      <td>Debit</td>\n",
       "      <td>None</td>\n",
       "      <td>None</td>\n",
       "      <td>A1568869120276758006129</td>\n",
       "      <td>233080</td>\n",
       "      <td>12</td>\n",
       "    </tr>\n",
       "    <tr>\n",
       "      <th>6185906</th>\n",
       "      <td>551.0</td>\n",
       "      <td>11459522</td>\n",
       "      <td>POSDW</td>\n",
       "      <td>4279001</td>\n",
       "      <td>true</td>\n",
       "      <td>2019-09-19</td>\n",
       "      <td>11459522</td>\n",
       "      <td>410001984867</td>\n",
       "      <td>12599.62</td>\n",
       "      <td>Debit</td>\n",
       "      <td>None</td>\n",
       "      <td>None</td>\n",
       "      <td>A1568869120276758006129</td>\n",
       "      <td>233062</td>\n",
       "      <td>2</td>\n",
       "    </tr>\n",
       "    <tr>\n",
       "      <th>6703402</th>\n",
       "      <td>69.0</td>\n",
       "      <td>11459522</td>\n",
       "      <td>POSDW</td>\n",
       "      <td>4286001</td>\n",
       "      <td>true</td>\n",
       "      <td>2019-09-19</td>\n",
       "      <td>11459522</td>\n",
       "      <td>410001984867</td>\n",
       "      <td>11663.62</td>\n",
       "      <td>Debit</td>\n",
       "      <td>None</td>\n",
       "      <td>None</td>\n",
       "      <td>A1568869120276758006129</td>\n",
       "      <td>233086</td>\n",
       "      <td>6</td>\n",
       "    </tr>\n",
       "    <tr>\n",
       "      <th>7248708</th>\n",
       "      <td>551.0</td>\n",
       "      <td>11459522</td>\n",
       "      <td>POSDW</td>\n",
       "      <td>4275001</td>\n",
       "      <td>true</td>\n",
       "      <td>2019-09-19</td>\n",
       "      <td>11459522</td>\n",
       "      <td>410001984867</td>\n",
       "      <td>13179.62</td>\n",
       "      <td>Debit</td>\n",
       "      <td>None</td>\n",
       "      <td>None</td>\n",
       "      <td>A1568869120276758006129</td>\n",
       "      <td>233057</td>\n",
       "      <td>13</td>\n",
       "    </tr>\n",
       "  </tbody>\n",
       "</table>\n",
       "</div>"
      ],
      "text/plain": [
       "         amount   user_id transaction_code  transeq isdebit transaction_date  \\\n",
       "375848     29.0  11459522            POSDW  4287001    true       2019-09-19   \n",
       "943293     79.0  11459522            POSDW  4282001    true       2019-09-19   \n",
       "2639894    26.0  11459522            POSDW  4283001    true       2019-09-19   \n",
       "3188176    66.0  11459522            POSDW  4284001    true       2019-09-19   \n",
       "3767723    79.0  11459522            POSDW  4288001    true       2019-09-19   \n",
       "4109918    76.0  11459522            POSDW  4285001    true       2019-09-19   \n",
       "4337319    29.0  11459522            POSDW  4276001    true       2019-09-19   \n",
       "5103333   551.0  11459522            POSDW  4281001    true       2019-09-19   \n",
       "5453141    69.0  11459522            POSDW  4280001    true       2019-09-19   \n",
       "6185906   551.0  11459522            POSDW  4279001    true       2019-09-19   \n",
       "6703402    69.0  11459522            POSDW  4286001    true       2019-09-19   \n",
       "7248708   551.0  11459522            POSDW  4275001    true       2019-09-19   \n",
       "\n",
       "        primarypartyid  business_account_number  account_balance  \\\n",
       "375848        11459522             410001984867         11634.62   \n",
       "943293        11459522             410001984867         11900.62   \n",
       "2639894       11459522             410001984867         11874.62   \n",
       "3188176       11459522             410001984867         11808.62   \n",
       "3767723       11459522             410001984867         11555.62   \n",
       "4109918       11459522             410001984867         11732.62   \n",
       "4337319       11459522             410001984867         13150.62   \n",
       "5103333       11459522             410001984867         11979.62   \n",
       "5453141       11459522             410001984867         12530.62   \n",
       "6185906       11459522             410001984867         12599.62   \n",
       "6703402       11459522             410001984867         11663.62   \n",
       "7248708       11459522             410001984867         13179.62   \n",
       "\n",
       "        transaction_type isvault vaultendbalance                   authid  \\\n",
       "375848             Debit    None            None  A1568869120276758006129   \n",
       "943293             Debit    None            None  A1568869120276758006129   \n",
       "2639894            Debit    None            None  A1568869120276758006129   \n",
       "3188176            Debit    None            None  A1568869120276758006129   \n",
       "3767723            Debit    None            None  A1568869120276758006129   \n",
       "4109918            Debit    None            None  A1568869120276758006129   \n",
       "4337319            Debit    None            None  A1568869120276758006129   \n",
       "5103333            Debit    None            None  A1568869120276758006129   \n",
       "5453141            Debit    None            None  A1568869120276758006129   \n",
       "6185906            Debit    None            None  A1568869120276758006129   \n",
       "6703402            Debit    None            None  A1568869120276758006129   \n",
       "7248708            Debit    None            None  A1568869120276758006129   \n",
       "\n",
       "         offset  partition  \n",
       "375848   233033          7  \n",
       "943293   233079          9  \n",
       "2639894  233060         11  \n",
       "3188176  233057          4  \n",
       "3767723  233086          3  \n",
       "4109918  233063          1  \n",
       "4337319  233081          8  \n",
       "5103333  233045         14  \n",
       "5453141  233080         12  \n",
       "6185906  233062          2  \n",
       "6703402  233086          6  \n",
       "7248708  233057         13  "
      ]
     },
     "execution_count": 7,
     "metadata": {},
     "output_type": "execute_result"
    }
   ],
   "source": [
    "df_kafka[df_kafka.authid == \"A1568869120276758006129\"]"
   ]
  },
  {
   "cell_type": "code",
   "execution_count": 8,
   "id": "9a6f775f",
   "metadata": {},
   "outputs": [
    {
     "data": {
      "text/html": [
       "<div>\n",
       "<style scoped>\n",
       "    .dataframe tbody tr th:only-of-type {\n",
       "        vertical-align: middle;\n",
       "    }\n",
       "\n",
       "    .dataframe tbody tr th {\n",
       "        vertical-align: top;\n",
       "    }\n",
       "\n",
       "    .dataframe thead th {\n",
       "        text-align: right;\n",
       "    }\n",
       "</style>\n",
       "<table border=\"1\" class=\"dataframe\">\n",
       "  <thead>\n",
       "    <tr style=\"text-align: right;\">\n",
       "      <th></th>\n",
       "      <th>transaction_date</th>\n",
       "      <th>time</th>\n",
       "      <th>business_account_number</th>\n",
       "      <th>created_dt</th>\n",
       "      <th>account_balance</th>\n",
       "      <th>transaction_code</th>\n",
       "      <th>amount</th>\n",
       "      <th>authid</th>\n",
       "      <th>is_credit</th>\n",
       "      <th>user_id</th>\n",
       "    </tr>\n",
       "  </thead>\n",
       "  <tbody>\n",
       "    <tr>\n",
       "      <th>27381954</th>\n",
       "      <td>2019-09-19</td>\n",
       "      <td>12:45:54</td>\n",
       "      <td>410001984867</td>\n",
       "      <td>2019-09-19</td>\n",
       "      <td>13179.62</td>\n",
       "      <td>POSDW</td>\n",
       "      <td>551.0</td>\n",
       "      <td>A1568869120276758006129</td>\n",
       "      <td>0</td>\n",
       "      <td>11459522</td>\n",
       "    </tr>\n",
       "    <tr>\n",
       "      <th>27381955</th>\n",
       "      <td>2019-09-19</td>\n",
       "      <td>12:45:54</td>\n",
       "      <td>410001984867</td>\n",
       "      <td>2019-09-19</td>\n",
       "      <td>13150.62</td>\n",
       "      <td>POSDW</td>\n",
       "      <td>29.0</td>\n",
       "      <td>A1568869120276758006129</td>\n",
       "      <td>0</td>\n",
       "      <td>11459522</td>\n",
       "    </tr>\n",
       "    <tr>\n",
       "      <th>27381956</th>\n",
       "      <td>2019-09-19</td>\n",
       "      <td>12:45:54</td>\n",
       "      <td>410001984867</td>\n",
       "      <td>2019-09-19</td>\n",
       "      <td>12599.62</td>\n",
       "      <td>POSDW</td>\n",
       "      <td>551.0</td>\n",
       "      <td>A1568869120276758006129</td>\n",
       "      <td>0</td>\n",
       "      <td>11459522</td>\n",
       "    </tr>\n",
       "    <tr>\n",
       "      <th>27381957</th>\n",
       "      <td>2019-09-19</td>\n",
       "      <td>12:45:54</td>\n",
       "      <td>410001984867</td>\n",
       "      <td>2019-09-19</td>\n",
       "      <td>12530.62</td>\n",
       "      <td>POSDW</td>\n",
       "      <td>69.0</td>\n",
       "      <td>A1568869120276758006129</td>\n",
       "      <td>0</td>\n",
       "      <td>11459522</td>\n",
       "    </tr>\n",
       "    <tr>\n",
       "      <th>27381958</th>\n",
       "      <td>2019-09-19</td>\n",
       "      <td>12:45:54</td>\n",
       "      <td>410001984867</td>\n",
       "      <td>2019-09-19</td>\n",
       "      <td>11979.62</td>\n",
       "      <td>POSDW</td>\n",
       "      <td>551.0</td>\n",
       "      <td>A1568869120276758006129</td>\n",
       "      <td>0</td>\n",
       "      <td>11459522</td>\n",
       "    </tr>\n",
       "    <tr>\n",
       "      <th>27381959</th>\n",
       "      <td>2019-09-19</td>\n",
       "      <td>12:45:54</td>\n",
       "      <td>410001984867</td>\n",
       "      <td>2019-09-19</td>\n",
       "      <td>11900.62</td>\n",
       "      <td>POSDW</td>\n",
       "      <td>79.0</td>\n",
       "      <td>A1568869120276758006129</td>\n",
       "      <td>0</td>\n",
       "      <td>11459522</td>\n",
       "    </tr>\n",
       "    <tr>\n",
       "      <th>27381960</th>\n",
       "      <td>2019-09-19</td>\n",
       "      <td>12:45:54</td>\n",
       "      <td>410001984867</td>\n",
       "      <td>2019-09-19</td>\n",
       "      <td>11874.62</td>\n",
       "      <td>POSDW</td>\n",
       "      <td>26.0</td>\n",
       "      <td>A1568869120276758006129</td>\n",
       "      <td>0</td>\n",
       "      <td>11459522</td>\n",
       "    </tr>\n",
       "    <tr>\n",
       "      <th>27381961</th>\n",
       "      <td>2019-09-19</td>\n",
       "      <td>12:45:54</td>\n",
       "      <td>410001984867</td>\n",
       "      <td>2019-09-19</td>\n",
       "      <td>11808.62</td>\n",
       "      <td>POSDW</td>\n",
       "      <td>66.0</td>\n",
       "      <td>A1568869120276758006129</td>\n",
       "      <td>0</td>\n",
       "      <td>11459522</td>\n",
       "    </tr>\n",
       "    <tr>\n",
       "      <th>27381962</th>\n",
       "      <td>2019-09-19</td>\n",
       "      <td>12:45:54</td>\n",
       "      <td>410001984867</td>\n",
       "      <td>2019-09-19</td>\n",
       "      <td>11732.62</td>\n",
       "      <td>POSDW</td>\n",
       "      <td>76.0</td>\n",
       "      <td>A1568869120276758006129</td>\n",
       "      <td>0</td>\n",
       "      <td>11459522</td>\n",
       "    </tr>\n",
       "    <tr>\n",
       "      <th>27381963</th>\n",
       "      <td>2019-09-19</td>\n",
       "      <td>12:45:54</td>\n",
       "      <td>410001984867</td>\n",
       "      <td>2019-09-19</td>\n",
       "      <td>11663.62</td>\n",
       "      <td>POSDW</td>\n",
       "      <td>69.0</td>\n",
       "      <td>A1568869120276758006129</td>\n",
       "      <td>0</td>\n",
       "      <td>11459522</td>\n",
       "    </tr>\n",
       "    <tr>\n",
       "      <th>27381964</th>\n",
       "      <td>2019-09-19</td>\n",
       "      <td>12:45:54</td>\n",
       "      <td>410001984867</td>\n",
       "      <td>2019-09-19</td>\n",
       "      <td>11634.62</td>\n",
       "      <td>POSDW</td>\n",
       "      <td>29.0</td>\n",
       "      <td>A1568869120276758006129</td>\n",
       "      <td>0</td>\n",
       "      <td>11459522</td>\n",
       "    </tr>\n",
       "    <tr>\n",
       "      <th>27381965</th>\n",
       "      <td>2019-09-19</td>\n",
       "      <td>12:45:54</td>\n",
       "      <td>410001984867</td>\n",
       "      <td>2019-09-19</td>\n",
       "      <td>11555.62</td>\n",
       "      <td>POSDW</td>\n",
       "      <td>79.0</td>\n",
       "      <td>A1568869120276758006129</td>\n",
       "      <td>0</td>\n",
       "      <td>11459522</td>\n",
       "    </tr>\n",
       "  </tbody>\n",
       "</table>\n",
       "</div>"
      ],
      "text/plain": [
       "         transaction_date      time  business_account_number  created_dt  \\\n",
       "27381954       2019-09-19  12:45:54             410001984867  2019-09-19   \n",
       "27381955       2019-09-19  12:45:54             410001984867  2019-09-19   \n",
       "27381956       2019-09-19  12:45:54             410001984867  2019-09-19   \n",
       "27381957       2019-09-19  12:45:54             410001984867  2019-09-19   \n",
       "27381958       2019-09-19  12:45:54             410001984867  2019-09-19   \n",
       "27381959       2019-09-19  12:45:54             410001984867  2019-09-19   \n",
       "27381960       2019-09-19  12:45:54             410001984867  2019-09-19   \n",
       "27381961       2019-09-19  12:45:54             410001984867  2019-09-19   \n",
       "27381962       2019-09-19  12:45:54             410001984867  2019-09-19   \n",
       "27381963       2019-09-19  12:45:54             410001984867  2019-09-19   \n",
       "27381964       2019-09-19  12:45:54             410001984867  2019-09-19   \n",
       "27381965       2019-09-19  12:45:54             410001984867  2019-09-19   \n",
       "\n",
       "          account_balance transaction_code  amount                   authid  \\\n",
       "27381954         13179.62            POSDW   551.0  A1568869120276758006129   \n",
       "27381955         13150.62            POSDW    29.0  A1568869120276758006129   \n",
       "27381956         12599.62            POSDW   551.0  A1568869120276758006129   \n",
       "27381957         12530.62            POSDW    69.0  A1568869120276758006129   \n",
       "27381958         11979.62            POSDW   551.0  A1568869120276758006129   \n",
       "27381959         11900.62            POSDW    79.0  A1568869120276758006129   \n",
       "27381960         11874.62            POSDW    26.0  A1568869120276758006129   \n",
       "27381961         11808.62            POSDW    66.0  A1568869120276758006129   \n",
       "27381962         11732.62            POSDW    76.0  A1568869120276758006129   \n",
       "27381963         11663.62            POSDW    69.0  A1568869120276758006129   \n",
       "27381964         11634.62            POSDW    29.0  A1568869120276758006129   \n",
       "27381965         11555.62            POSDW    79.0  A1568869120276758006129   \n",
       "\n",
       "          is_credit   user_id  \n",
       "27381954          0  11459522  \n",
       "27381955          0  11459522  \n",
       "27381956          0  11459522  \n",
       "27381957          0  11459522  \n",
       "27381958          0  11459522  \n",
       "27381959          0  11459522  \n",
       "27381960          0  11459522  \n",
       "27381961          0  11459522  \n",
       "27381962          0  11459522  \n",
       "27381963          0  11459522  \n",
       "27381964          0  11459522  \n",
       "27381965          0  11459522  "
      ]
     },
     "execution_count": 8,
     "metadata": {},
     "output_type": "execute_result"
    }
   ],
   "source": [
    "df_dw[df_dw.authid == \"A1568869120276758006129\"]"
   ]
  },
  {
   "cell_type": "markdown",
   "id": "0f6791e1",
   "metadata": {},
   "source": [
    "#### Select authids that exist in one but not the other"
   ]
  },
  {
   "cell_type": "code",
   "execution_count": null,
   "id": "71b02a35",
   "metadata": {},
   "outputs": [],
   "source": [
    "%%time\n",
    "kafka_authids = set(df_kafka[\"authid\"].unique())\n",
    "dw_authids = set(df_dw[\"authid\"].unique())\n",
    "shared_authids = kafka_authids.intersection(dw_authids)\n",
    "unshared_authids = kafka_authids.union(dw_authids) - shared_authids"
   ]
  },
  {
   "cell_type": "code",
   "execution_count": 31,
   "id": "102655cd",
   "metadata": {},
   "outputs": [
    {
     "name": "stdout",
     "output_type": "stream",
     "text": [
      "kafka only:  0 0\n",
      "dw only:  530656\n"
     ]
    }
   ],
   "source": [
    "# all of the differences are records missing in kafka\n",
    "print(\"kafka only: \", len(kafka_authids - dw_authids), len(kafka_authids - shared_authids))\n",
    "print(\"dw only: \", len(dw_authids - kafka_authids))"
   ]
  },
  {
   "cell_type": "code",
   "execution_count": 33,
   "id": "e33a9204",
   "metadata": {},
   "outputs": [
    {
     "data": {
      "text/plain": [
       "(28611883, 530656)"
      ]
     },
     "execution_count": 33,
     "metadata": {},
     "output_type": "execute_result"
    }
   ],
   "source": [
    "len(shared_authids), len(unshared_authids)"
   ]
  },
  {
   "cell_type": "code",
   "execution_count": 34,
   "id": "d1132fa0",
   "metadata": {},
   "outputs": [
    {
     "data": {
      "text/plain": [
       "(False, False, False, False)"
      ]
     },
     "execution_count": 34,
     "metadata": {},
     "output_type": "execute_result"
    }
   ],
   "source": [
    "df_kafka[\"account_balance\"].isna().any(), df_kafka[\"amount\"].isna().any(), df_dw[\"account_balance\"].isna().any(), df_dw[\"amount\"].isna().any()"
   ]
  },
  {
   "cell_type": "code",
   "execution_count": 35,
   "id": "07ae7185",
   "metadata": {},
   "outputs": [],
   "source": [
    "sel_cols = [\"transaction_date\", \"business_account_number\", \"authid\", \"account_balance\", \"amount\", \"transaction_code\"]\n",
    "# shared_rows\n",
    "shared_df = pd.concat([df_kafka[df_kafka.authid.isin(shared_authids)][sel_cols],\n",
    "                       df_dw[df_dw.authid.isin(shared_authids)][sel_cols]])\n",
    "\n",
    "# unshared_rows\n",
    "unshared_df = pd.concat([df_kafka[df_kafka.authid.isin(unshared_authids)][sel_cols],\n",
    "                       df_dw[df_dw.authid.isin(unshared_authids)][sel_cols]])\n"
   ]
  },
  {
   "cell_type": "code",
   "execution_count": 36,
   "id": "2fc0441b",
   "metadata": {},
   "outputs": [
    {
     "data": {
      "text/plain": [
       "((58944957, 6), (538729, 6))"
      ]
     },
     "execution_count": 36,
     "metadata": {},
     "output_type": "execute_result"
    }
   ],
   "source": [
    "shared_df.shape, unshared_df.shape"
   ]
  },
  {
   "cell_type": "code",
   "execution_count": 55,
   "id": "018fa1c3",
   "metadata": {},
   "outputs": [],
   "source": [
    "# there is a record with date in the future - drop it\n",
    "shared_df = shared_df[shared_df[\"transaction_date\"] < pd.to_datetime(\"2022-02-01\")] \n",
    "unshared_df = unshared_df[unshared_df[\"transaction_date\"] < pd.to_datetime(\"2022-02-01\")] "
   ]
  },
  {
   "cell_type": "code",
   "execution_count": 72,
   "id": "21b43fcb",
   "metadata": {},
   "outputs": [],
   "source": [
    "# plt.style.use(\"seaborn\")\n",
    "# unshared_df[\"transaction_date\"].hist(bins=100, alpha=0.4, label=\"not matched\")\n",
    "# shared_df[\"transaction_date\"].hist(bins=100, alpha=0.4, label=\"matched records\")\n",
    "# plt.legend()\n",
    "# plt.title(\"Nr records: w. matched authid vs. not matched\")\n",
    "# plt.show()"
   ]
  },
  {
   "cell_type": "code",
   "execution_count": 73,
   "id": "05d89bc6",
   "metadata": {},
   "outputs": [],
   "source": [
    "# unshared_df[\"transaction_date\"].hist(bins=100, label=\"in dw not in kafka\")\n",
    "# plt.title(\"Records with authid missing in DW not in Kafka\")\n",
    "# plt.legend()\n",
    "# plt.show()"
   ]
  },
  {
   "cell_type": "code",
   "execution_count": 74,
   "id": "38879d46",
   "metadata": {},
   "outputs": [],
   "source": [
    "# shared_df[\"transaction_date\"].hist(bins=100)\n",
    "# plt.title(\"Records appeared in both\")\n",
    "# plt.show()"
   ]
  },
  {
   "cell_type": "code",
   "execution_count": 42,
   "id": "11ecfcba",
   "metadata": {},
   "outputs": [],
   "source": [
    "# compute the ratio of shared and unshared records by month\n",
    "\n",
    "shared_df[\"transaction_month\"] = pd.PeriodIndex(data=shared_df[\"transaction_date\"], freq=\"M\")\n",
    "unshared_df[\"transaction_month\"] = pd.PeriodIndex(data=unshared_df[\"transaction_date\"], freq=\"M\")"
   ]
  },
  {
   "cell_type": "code",
   "execution_count": 43,
   "id": "fbe496ca",
   "metadata": {},
   "outputs": [],
   "source": [
    "nr_shared = shared_df[[\"transaction_month\",\n",
    "           \"authid\"]].groupby(\"transaction_month\")[\"authid\"].count().rename(\"nr_shared\")\n",
    "nr_unshared = unshared_df[[\"transaction_month\",\n",
    "           \"authid\"]].groupby(\"transaction_month\")[\"authid\"].count().rename(\"nr_unshared\")"
   ]
  },
  {
   "cell_type": "code",
   "execution_count": 44,
   "id": "e75f0d12",
   "metadata": {},
   "outputs": [
    {
     "data": {
      "text/plain": [
       "transaction_month\n",
       "2018-07        1\n",
       "2018-10        1\n",
       "2018-11    42486\n",
       "2018-12    48396\n",
       "2019-01    96438\n",
       "Freq: M, Name: nr_shared, dtype: int64"
      ]
     },
     "execution_count": 44,
     "metadata": {},
     "output_type": "execute_result"
    }
   ],
   "source": [
    "nr_shared.head()"
   ]
  },
  {
   "cell_type": "code",
   "execution_count": 45,
   "id": "0e547c44",
   "metadata": {},
   "outputs": [
    {
     "data": {
      "text/plain": [
       "transaction_month\n",
       "2018-01     107\n",
       "2018-02     236\n",
       "2018-03     428\n",
       "2018-04    3074\n",
       "2018-05    5202\n",
       "Freq: M, Name: nr_unshared, dtype: int64"
      ]
     },
     "execution_count": 45,
     "metadata": {},
     "output_type": "execute_result"
    }
   ],
   "source": [
    "nr_unshared.head()"
   ]
  },
  {
   "cell_type": "code",
   "execution_count": 63,
   "id": "f0d7d5b6",
   "metadata": {},
   "outputs": [],
   "source": [
    "nr_records = pd.merge(nr_shared, nr_unshared, left_index=True, right_index=True)"
   ]
  },
  {
   "cell_type": "code",
   "execution_count": 64,
   "id": "95f84279",
   "metadata": {},
   "outputs": [
    {
     "data": {
      "text/html": [
       "<div>\n",
       "<style scoped>\n",
       "    .dataframe tbody tr th:only-of-type {\n",
       "        vertical-align: middle;\n",
       "    }\n",
       "\n",
       "    .dataframe tbody tr th {\n",
       "        vertical-align: top;\n",
       "    }\n",
       "\n",
       "    .dataframe thead th {\n",
       "        text-align: right;\n",
       "    }\n",
       "</style>\n",
       "<table border=\"1\" class=\"dataframe\">\n",
       "  <thead>\n",
       "    <tr style=\"text-align: right;\">\n",
       "      <th></th>\n",
       "      <th>nr_shared</th>\n",
       "      <th>nr_unshared</th>\n",
       "      <th>pct_unshared</th>\n",
       "    </tr>\n",
       "    <tr>\n",
       "      <th>transaction_month</th>\n",
       "      <th></th>\n",
       "      <th></th>\n",
       "      <th></th>\n",
       "    </tr>\n",
       "  </thead>\n",
       "  <tbody>\n",
       "    <tr>\n",
       "      <th>2019-01</th>\n",
       "      <td>96438</td>\n",
       "      <td>7390</td>\n",
       "      <td>0.071175</td>\n",
       "    </tr>\n",
       "    <tr>\n",
       "      <th>2019-02</th>\n",
       "      <td>154591</td>\n",
       "      <td>4630</td>\n",
       "      <td>0.029079</td>\n",
       "    </tr>\n",
       "    <tr>\n",
       "      <th>2019-03</th>\n",
       "      <td>267210</td>\n",
       "      <td>7885</td>\n",
       "      <td>0.028663</td>\n",
       "    </tr>\n",
       "    <tr>\n",
       "      <th>2019-04</th>\n",
       "      <td>323916</td>\n",
       "      <td>9555</td>\n",
       "      <td>0.028653</td>\n",
       "    </tr>\n",
       "    <tr>\n",
       "      <th>2019-05</th>\n",
       "      <td>387454</td>\n",
       "      <td>11552</td>\n",
       "      <td>0.028952</td>\n",
       "    </tr>\n",
       "  </tbody>\n",
       "</table>\n",
       "</div>"
      ],
      "text/plain": [
       "                   nr_shared  nr_unshared  pct_unshared\n",
       "transaction_month                                      \n",
       "2019-01                96438         7390      0.071175\n",
       "2019-02               154591         4630      0.029079\n",
       "2019-03               267210         7885      0.028663\n",
       "2019-04               323916         9555      0.028653\n",
       "2019-05               387454        11552      0.028952"
      ]
     },
     "execution_count": 64,
     "metadata": {},
     "output_type": "execute_result"
    }
   ],
   "source": [
    "nr_records = nr_records[(nr_records.index >= pd.Period(\"2019-01\")) \n",
    "                       & (nr_records.index < pd.Period(\"2022-01\"))]\n",
    "nr_records[\"pct_unshared\"] = nr_records[\"nr_unshared\"] / (nr_records[\"nr_shared\"] \n",
    "                                                          + nr_records[\"nr_unshared\"])\n",
    "nr_records.head()"
   ]
  },
  {
   "cell_type": "code",
   "execution_count": 65,
   "id": "79c6a7cc",
   "metadata": {},
   "outputs": [
    {
     "data": {
      "text/html": [
       "<div>\n",
       "<style scoped>\n",
       "    .dataframe tbody tr th:only-of-type {\n",
       "        vertical-align: middle;\n",
       "    }\n",
       "\n",
       "    .dataframe tbody tr th {\n",
       "        vertical-align: top;\n",
       "    }\n",
       "\n",
       "    .dataframe thead th {\n",
       "        text-align: right;\n",
       "    }\n",
       "</style>\n",
       "<table border=\"1\" class=\"dataframe\">\n",
       "  <thead>\n",
       "    <tr style=\"text-align: right;\">\n",
       "      <th></th>\n",
       "      <th>nr_shared</th>\n",
       "      <th>nr_unshared</th>\n",
       "      <th>pct_unshared</th>\n",
       "    </tr>\n",
       "    <tr>\n",
       "      <th>transaction_month</th>\n",
       "      <th></th>\n",
       "      <th></th>\n",
       "      <th></th>\n",
       "    </tr>\n",
       "  </thead>\n",
       "  <tbody>\n",
       "    <tr>\n",
       "      <th>2021-08</th>\n",
       "      <td>3426149</td>\n",
       "      <td>26182</td>\n",
       "      <td>0.007584</td>\n",
       "    </tr>\n",
       "    <tr>\n",
       "      <th>2021-09</th>\n",
       "      <td>3443796</td>\n",
       "      <td>28309</td>\n",
       "      <td>0.008153</td>\n",
       "    </tr>\n",
       "    <tr>\n",
       "      <th>2021-10</th>\n",
       "      <td>3729983</td>\n",
       "      <td>32395</td>\n",
       "      <td>0.008610</td>\n",
       "    </tr>\n",
       "    <tr>\n",
       "      <th>2021-11</th>\n",
       "      <td>3783596</td>\n",
       "      <td>33804</td>\n",
       "      <td>0.008855</td>\n",
       "    </tr>\n",
       "    <tr>\n",
       "      <th>2021-12</th>\n",
       "      <td>4103041</td>\n",
       "      <td>36094</td>\n",
       "      <td>0.008720</td>\n",
       "    </tr>\n",
       "  </tbody>\n",
       "</table>\n",
       "</div>"
      ],
      "text/plain": [
       "                   nr_shared  nr_unshared  pct_unshared\n",
       "transaction_month                                      \n",
       "2021-08              3426149        26182      0.007584\n",
       "2021-09              3443796        28309      0.008153\n",
       "2021-10              3729983        32395      0.008610\n",
       "2021-11              3783596        33804      0.008855\n",
       "2021-12              4103041        36094      0.008720"
      ]
     },
     "execution_count": 65,
     "metadata": {},
     "output_type": "execute_result"
    }
   ],
   "source": [
    "nr_records.tail()"
   ]
  },
  {
   "cell_type": "code",
   "execution_count": 71,
   "id": "8efbae49",
   "metadata": {},
   "outputs": [
    {
     "data": {
      "text/html": [
       "<div>\n",
       "<style scoped>\n",
       "    .dataframe tbody tr th:only-of-type {\n",
       "        vertical-align: middle;\n",
       "    }\n",
       "\n",
       "    .dataframe tbody tr th {\n",
       "        vertical-align: top;\n",
       "    }\n",
       "\n",
       "    .dataframe thead th {\n",
       "        text-align: right;\n",
       "    }\n",
       "</style>\n",
       "<table border=\"1\" class=\"dataframe\">\n",
       "  <thead>\n",
       "    <tr style=\"text-align: right;\">\n",
       "      <th></th>\n",
       "      <th>nr_shared</th>\n",
       "      <th>nr_unshared</th>\n",
       "      <th>pct_unshared</th>\n",
       "    </tr>\n",
       "    <tr>\n",
       "      <th>transaction_month</th>\n",
       "      <th></th>\n",
       "      <th></th>\n",
       "      <th></th>\n",
       "    </tr>\n",
       "  </thead>\n",
       "  <tbody>\n",
       "    <tr>\n",
       "      <th>2019-01</th>\n",
       "      <td>96438</td>\n",
       "      <td>7390</td>\n",
       "      <td>0.071175</td>\n",
       "    </tr>\n",
       "    <tr>\n",
       "      <th>2019-02</th>\n",
       "      <td>154591</td>\n",
       "      <td>4630</td>\n",
       "      <td>0.029079</td>\n",
       "    </tr>\n",
       "    <tr>\n",
       "      <th>2019-03</th>\n",
       "      <td>267210</td>\n",
       "      <td>7885</td>\n",
       "      <td>0.028663</td>\n",
       "    </tr>\n",
       "    <tr>\n",
       "      <th>2019-04</th>\n",
       "      <td>323916</td>\n",
       "      <td>9555</td>\n",
       "      <td>0.028653</td>\n",
       "    </tr>\n",
       "    <tr>\n",
       "      <th>2019-05</th>\n",
       "      <td>387454</td>\n",
       "      <td>11552</td>\n",
       "      <td>0.028952</td>\n",
       "    </tr>\n",
       "    <tr>\n",
       "      <th>2019-06</th>\n",
       "      <td>422082</td>\n",
       "      <td>12382</td>\n",
       "      <td>0.028499</td>\n",
       "    </tr>\n",
       "    <tr>\n",
       "      <th>2019-07</th>\n",
       "      <td>491195</td>\n",
       "      <td>14563</td>\n",
       "      <td>0.028794</td>\n",
       "    </tr>\n",
       "    <tr>\n",
       "      <th>2019-08</th>\n",
       "      <td>597428</td>\n",
       "      <td>8735</td>\n",
       "      <td>0.014410</td>\n",
       "    </tr>\n",
       "    <tr>\n",
       "      <th>2019-09</th>\n",
       "      <td>632888</td>\n",
       "      <td>1123</td>\n",
       "      <td>0.001771</td>\n",
       "    </tr>\n",
       "    <tr>\n",
       "      <th>2019-10</th>\n",
       "      <td>712343</td>\n",
       "      <td>1833</td>\n",
       "      <td>0.002567</td>\n",
       "    </tr>\n",
       "    <tr>\n",
       "      <th>2019-11</th>\n",
       "      <td>775639</td>\n",
       "      <td>2073</td>\n",
       "      <td>0.002666</td>\n",
       "    </tr>\n",
       "    <tr>\n",
       "      <th>2019-12</th>\n",
       "      <td>885722</td>\n",
       "      <td>2586</td>\n",
       "      <td>0.002911</td>\n",
       "    </tr>\n",
       "    <tr>\n",
       "      <th>2020-01</th>\n",
       "      <td>892493</td>\n",
       "      <td>2828</td>\n",
       "      <td>0.003159</td>\n",
       "    </tr>\n",
       "    <tr>\n",
       "      <th>2020-02</th>\n",
       "      <td>941516</td>\n",
       "      <td>11493</td>\n",
       "      <td>0.012060</td>\n",
       "    </tr>\n",
       "    <tr>\n",
       "      <th>2020-03</th>\n",
       "      <td>873290</td>\n",
       "      <td>3416</td>\n",
       "      <td>0.003896</td>\n",
       "    </tr>\n",
       "    <tr>\n",
       "      <th>2020-04</th>\n",
       "      <td>780830</td>\n",
       "      <td>2081</td>\n",
       "      <td>0.002658</td>\n",
       "    </tr>\n",
       "    <tr>\n",
       "      <th>2020-05</th>\n",
       "      <td>1066455</td>\n",
       "      <td>2894</td>\n",
       "      <td>0.002706</td>\n",
       "    </tr>\n",
       "    <tr>\n",
       "      <th>2020-06</th>\n",
       "      <td>1175778</td>\n",
       "      <td>14717</td>\n",
       "      <td>0.012362</td>\n",
       "    </tr>\n",
       "    <tr>\n",
       "      <th>2020-07</th>\n",
       "      <td>1298094</td>\n",
       "      <td>3116</td>\n",
       "      <td>0.002395</td>\n",
       "    </tr>\n",
       "    <tr>\n",
       "      <th>2020-08</th>\n",
       "      <td>1421877</td>\n",
       "      <td>4025</td>\n",
       "      <td>0.002823</td>\n",
       "    </tr>\n",
       "    <tr>\n",
       "      <th>2020-09</th>\n",
       "      <td>1554120</td>\n",
       "      <td>4957</td>\n",
       "      <td>0.003179</td>\n",
       "    </tr>\n",
       "    <tr>\n",
       "      <th>2020-10</th>\n",
       "      <td>1732225</td>\n",
       "      <td>3354</td>\n",
       "      <td>0.001932</td>\n",
       "    </tr>\n",
       "    <tr>\n",
       "      <th>2020-11</th>\n",
       "      <td>1701171</td>\n",
       "      <td>2798</td>\n",
       "      <td>0.001642</td>\n",
       "    </tr>\n",
       "    <tr>\n",
       "      <th>2020-12</th>\n",
       "      <td>2052457</td>\n",
       "      <td>4615</td>\n",
       "      <td>0.002243</td>\n",
       "    </tr>\n",
       "    <tr>\n",
       "      <th>2021-01</th>\n",
       "      <td>2064827</td>\n",
       "      <td>3922</td>\n",
       "      <td>0.001896</td>\n",
       "    </tr>\n",
       "    <tr>\n",
       "      <th>2021-02</th>\n",
       "      <td>1956427</td>\n",
       "      <td>3833</td>\n",
       "      <td>0.001955</td>\n",
       "    </tr>\n",
       "    <tr>\n",
       "      <th>2021-03</th>\n",
       "      <td>2548592</td>\n",
       "      <td>7226</td>\n",
       "      <td>0.002827</td>\n",
       "    </tr>\n",
       "    <tr>\n",
       "      <th>2021-04</th>\n",
       "      <td>2568858</td>\n",
       "      <td>11510</td>\n",
       "      <td>0.004461</td>\n",
       "    </tr>\n",
       "    <tr>\n",
       "      <th>2021-05</th>\n",
       "      <td>2794930</td>\n",
       "      <td>14988</td>\n",
       "      <td>0.005334</td>\n",
       "    </tr>\n",
       "    <tr>\n",
       "      <th>2021-06</th>\n",
       "      <td>2911710</td>\n",
       "      <td>19161</td>\n",
       "      <td>0.006538</td>\n",
       "    </tr>\n",
       "    <tr>\n",
       "      <th>2021-07</th>\n",
       "      <td>3198046</td>\n",
       "      <td>22430</td>\n",
       "      <td>0.006965</td>\n",
       "    </tr>\n",
       "    <tr>\n",
       "      <th>2021-08</th>\n",
       "      <td>3426149</td>\n",
       "      <td>26182</td>\n",
       "      <td>0.007584</td>\n",
       "    </tr>\n",
       "    <tr>\n",
       "      <th>2021-09</th>\n",
       "      <td>3443796</td>\n",
       "      <td>28309</td>\n",
       "      <td>0.008153</td>\n",
       "    </tr>\n",
       "    <tr>\n",
       "      <th>2021-10</th>\n",
       "      <td>3729983</td>\n",
       "      <td>32395</td>\n",
       "      <td>0.008610</td>\n",
       "    </tr>\n",
       "    <tr>\n",
       "      <th>2021-11</th>\n",
       "      <td>3783596</td>\n",
       "      <td>33804</td>\n",
       "      <td>0.008855</td>\n",
       "    </tr>\n",
       "    <tr>\n",
       "      <th>2021-12</th>\n",
       "      <td>4103041</td>\n",
       "      <td>36094</td>\n",
       "      <td>0.008720</td>\n",
       "    </tr>\n",
       "  </tbody>\n",
       "</table>\n",
       "</div>"
      ],
      "text/plain": [
       "                   nr_shared  nr_unshared  pct_unshared\n",
       "transaction_month                                      \n",
       "2019-01                96438         7390      0.071175\n",
       "2019-02               154591         4630      0.029079\n",
       "2019-03               267210         7885      0.028663\n",
       "2019-04               323916         9555      0.028653\n",
       "2019-05               387454        11552      0.028952\n",
       "2019-06               422082        12382      0.028499\n",
       "2019-07               491195        14563      0.028794\n",
       "2019-08               597428         8735      0.014410\n",
       "2019-09               632888         1123      0.001771\n",
       "2019-10               712343         1833      0.002567\n",
       "2019-11               775639         2073      0.002666\n",
       "2019-12               885722         2586      0.002911\n",
       "2020-01               892493         2828      0.003159\n",
       "2020-02               941516        11493      0.012060\n",
       "2020-03               873290         3416      0.003896\n",
       "2020-04               780830         2081      0.002658\n",
       "2020-05              1066455         2894      0.002706\n",
       "2020-06              1175778        14717      0.012362\n",
       "2020-07              1298094         3116      0.002395\n",
       "2020-08              1421877         4025      0.002823\n",
       "2020-09              1554120         4957      0.003179\n",
       "2020-10              1732225         3354      0.001932\n",
       "2020-11              1701171         2798      0.001642\n",
       "2020-12              2052457         4615      0.002243\n",
       "2021-01              2064827         3922      0.001896\n",
       "2021-02              1956427         3833      0.001955\n",
       "2021-03              2548592         7226      0.002827\n",
       "2021-04              2568858        11510      0.004461\n",
       "2021-05              2794930        14988      0.005334\n",
       "2021-06              2911710        19161      0.006538\n",
       "2021-07              3198046        22430      0.006965\n",
       "2021-08              3426149        26182      0.007584\n",
       "2021-09              3443796        28309      0.008153\n",
       "2021-10              3729983        32395      0.008610\n",
       "2021-11              3783596        33804      0.008855\n",
       "2021-12              4103041        36094      0.008720"
      ]
     },
     "execution_count": 71,
     "metadata": {},
     "output_type": "execute_result"
    }
   ],
   "source": [
    "nr_records"
   ]
  },
  {
   "cell_type": "code",
   "execution_count": 69,
   "id": "756d5f44",
   "metadata": {},
   "outputs": [
    {
     "data": {
      "image/png": "[encoded data removed]",
      "text/plain": [
       "<Figure size 800x550 with 1 Axes>"
      ]
     },
     "metadata": {},
     "output_type": "display_data"
    }
   ],
   "source": [
    "nr_records.nr_shared.plot(label=\"matched records\")\n",
    "nr_records.nr_unshared.plot(label=\"missing in kafka\")\n",
    "plt.title(\"Nr records w. matched authid vs. missing in kafka\")\n",
    "plt.show()"
   ]
  },
  {
   "cell_type": "code",
   "execution_count": 70,
   "id": "e49edf84",
   "metadata": {},
   "outputs": [
    {
     "data": {
      "image/png": "[encoded data removed]",
      "text/plain": [
       "<Figure size 800x550 with 1 Axes>"
      ]
     },
     "metadata": {},
     "output_type": "display_data"
    }
   ],
   "source": [
    "nr_records.nr_unshared.plot(label=\"missing in kafka\")\n",
    "plt.title(\"Nr Records missing in kafka\")\n",
    "plt.show()"
   ]
  },
  {
   "cell_type": "code",
   "execution_count": 53,
   "id": "d6c833bb",
   "metadata": {},
   "outputs": [
    {
     "data": {
      "image/png": "[encoded data removed]",
      "text/plain": [
       "<Figure size 800x550 with 1 Axes>"
      ]
     },
     "metadata": {},
     "output_type": "display_data"
    }
   ],
   "source": [
    "nr_records[\"pct_unshared\"].plot()\n",
    "plt.title(\"percent of records with authid missing in kafka vs. shared\")  # measured by appearance of authid\n",
    "plt.show()"
   ]
  },
  {
   "cell_type": "code",
   "execution_count": 49,
   "id": "ca0f43fe",
   "metadata": {},
   "outputs": [
    {
     "data": {
      "text/html": [
       "<div>\n",
       "<style scoped>\n",
       "    .dataframe tbody tr th:only-of-type {\n",
       "        vertical-align: middle;\n",
       "    }\n",
       "\n",
       "    .dataframe tbody tr th {\n",
       "        vertical-align: top;\n",
       "    }\n",
       "\n",
       "    .dataframe thead th {\n",
       "        text-align: right;\n",
       "    }\n",
       "</style>\n",
       "<table border=\"1\" class=\"dataframe\">\n",
       "  <thead>\n",
       "    <tr style=\"text-align: right;\">\n",
       "      <th></th>\n",
       "      <th>transaction_date</th>\n",
       "      <th>time</th>\n",
       "      <th>business_account_number</th>\n",
       "      <th>created_dt</th>\n",
       "      <th>account_balance</th>\n",
       "      <th>transaction_code</th>\n",
       "      <th>amount</th>\n",
       "      <th>authid</th>\n",
       "      <th>is_credit</th>\n",
       "      <th>user_id</th>\n",
       "    </tr>\n",
       "  </thead>\n",
       "  <tbody>\n",
       "    <tr>\n",
       "      <th>30</th>\n",
       "      <td>2022-01-06</td>\n",
       "      <td>19:15:03</td>\n",
       "      <td>410007903202</td>\n",
       "      <td>2022-01-06</td>\n",
       "      <td>-64.24</td>\n",
       "      <td>DWATM</td>\n",
       "      <td>193.50</td>\n",
       "      <td>A1641514503057492019199</td>\n",
       "      <td>0</td>\n",
       "      <td>16852407</td>\n",
       "    </tr>\n",
       "    <tr>\n",
       "      <th>222</th>\n",
       "      <td>2022-01-06</td>\n",
       "      <td>19:46:37</td>\n",
       "      <td>410016674780</td>\n",
       "      <td>2022-01-06</td>\n",
       "      <td>-34.09</td>\n",
       "      <td>POSDW</td>\n",
       "      <td>50.00</td>\n",
       "      <td>A1641516188956761019521</td>\n",
       "      <td>0</td>\n",
       "      <td>19353580</td>\n",
       "    </tr>\n",
       "    <tr>\n",
       "      <th>233</th>\n",
       "      <td>2022-01-06</td>\n",
       "      <td>19:48:57</td>\n",
       "      <td>410016275947</td>\n",
       "      <td>2022-01-06</td>\n",
       "      <td>-12.60</td>\n",
       "      <td>POSDW</td>\n",
       "      <td>5.00</td>\n",
       "      <td>A1641516537743233019199</td>\n",
       "      <td>0</td>\n",
       "      <td>15209384</td>\n",
       "    </tr>\n",
       "    <tr>\n",
       "      <th>407</th>\n",
       "      <td>2022-01-06</td>\n",
       "      <td>20:11:48</td>\n",
       "      <td>410007672385</td>\n",
       "      <td>2022-01-06</td>\n",
       "      <td>-2.05</td>\n",
       "      <td>POSDW</td>\n",
       "      <td>2.05</td>\n",
       "      <td>A1641517908445102018848</td>\n",
       "      <td>0</td>\n",
       "      <td>16744163</td>\n",
       "    </tr>\n",
       "    <tr>\n",
       "      <th>1638</th>\n",
       "      <td>2022-01-06</td>\n",
       "      <td>21:34:51</td>\n",
       "      <td>410023764403</td>\n",
       "      <td>2022-01-06</td>\n",
       "      <td>-0.43</td>\n",
       "      <td>POSDW</td>\n",
       "      <td>2.71</td>\n",
       "      <td>A1641522891623721019199</td>\n",
       "      <td>0</td>\n",
       "      <td>21181149</td>\n",
       "    </tr>\n",
       "    <tr>\n",
       "      <th>...</th>\n",
       "      <td>...</td>\n",
       "      <td>...</td>\n",
       "      <td>...</td>\n",
       "      <td>...</td>\n",
       "      <td>...</td>\n",
       "      <td>...</td>\n",
       "      <td>...</td>\n",
       "      <td>...</td>\n",
       "      <td>...</td>\n",
       "      <td>...</td>\n",
       "    </tr>\n",
       "    <tr>\n",
       "      <th>71630647</th>\n",
       "      <td>2022-01-06</td>\n",
       "      <td>17:46:37</td>\n",
       "      <td>410004129359</td>\n",
       "      <td>2022-01-06</td>\n",
       "      <td>-5.95</td>\n",
       "      <td>POSDW</td>\n",
       "      <td>9.48</td>\n",
       "      <td>A1641509197594628018848</td>\n",
       "      <td>0</td>\n",
       "      <td>15364180</td>\n",
       "    </tr>\n",
       "    <tr>\n",
       "      <th>71630669</th>\n",
       "      <td>2022-01-06</td>\n",
       "      <td>17:49:15</td>\n",
       "      <td>410004864884</td>\n",
       "      <td>2022-01-06</td>\n",
       "      <td>-5.23</td>\n",
       "      <td>POSDD</td>\n",
       "      <td>10.71</td>\n",
       "      <td>A1641509355148828018848</td>\n",
       "      <td>1</td>\n",
       "      <td>15878769</td>\n",
       "    </tr>\n",
       "    <tr>\n",
       "      <th>71631626</th>\n",
       "      <td>2022-01-06</td>\n",
       "      <td>18:02:32</td>\n",
       "      <td>410016949599</td>\n",
       "      <td>2022-01-06</td>\n",
       "      <td>-45.40</td>\n",
       "      <td>POSDW</td>\n",
       "      <td>12.55</td>\n",
       "      <td>A1641510152632458019521</td>\n",
       "      <td>0</td>\n",
       "      <td>19422309</td>\n",
       "    </tr>\n",
       "    <tr>\n",
       "      <th>71631821</th>\n",
       "      <td>2022-01-06</td>\n",
       "      <td>18:23:55</td>\n",
       "      <td>410011974135</td>\n",
       "      <td>2022-01-06</td>\n",
       "      <td>-22.75</td>\n",
       "      <td>POSDW</td>\n",
       "      <td>9.36</td>\n",
       "      <td>A1641511435020874018848</td>\n",
       "      <td>0</td>\n",
       "      <td>17772285</td>\n",
       "    </tr>\n",
       "    <tr>\n",
       "      <th>71632128</th>\n",
       "      <td>2022-01-06</td>\n",
       "      <td>19:03:03</td>\n",
       "      <td>410004764522</td>\n",
       "      <td>2022-01-06</td>\n",
       "      <td>-18.70</td>\n",
       "      <td>POSDD</td>\n",
       "      <td>10.81</td>\n",
       "      <td>A1641513783427360019199</td>\n",
       "      <td>1</td>\n",
       "      <td>15835623</td>\n",
       "    </tr>\n",
       "  </tbody>\n",
       "</table>\n",
       "<p>538729 rows × 10 columns</p>\n",
       "</div>"
      ],
      "text/plain": [
       "         transaction_date      time  business_account_number  created_dt  \\\n",
       "30             2022-01-06  19:15:03             410007903202  2022-01-06   \n",
       "222            2022-01-06  19:46:37             410016674780  2022-01-06   \n",
       "233            2022-01-06  19:48:57             410016275947  2022-01-06   \n",
       "407            2022-01-06  20:11:48             410007672385  2022-01-06   \n",
       "1638           2022-01-06  21:34:51             410023764403  2022-01-06   \n",
       "...                   ...       ...                      ...         ...   \n",
       "71630647       2022-01-06  17:46:37             410004129359  2022-01-06   \n",
       "71630669       2022-01-06  17:49:15             410004864884  2022-01-06   \n",
       "71631626       2022-01-06  18:02:32             410016949599  2022-01-06   \n",
       "71631821       2022-01-06  18:23:55             410011974135  2022-01-06   \n",
       "71632128       2022-01-06  19:03:03             410004764522  2022-01-06   \n",
       "\n",
       "          account_balance transaction_code  amount                   authid  \\\n",
       "30                 -64.24            DWATM  193.50  A1641514503057492019199   \n",
       "222                -34.09            POSDW   50.00  A1641516188956761019521   \n",
       "233                -12.60            POSDW    5.00  A1641516537743233019199   \n",
       "407                 -2.05            POSDW    2.05  A1641517908445102018848   \n",
       "1638                -0.43            POSDW    2.71  A1641522891623721019199   \n",
       "...                   ...              ...     ...                      ...   \n",
       "71630647            -5.95            POSDW    9.48  A1641509197594628018848   \n",
       "71630669            -5.23            POSDD   10.71  A1641509355148828018848   \n",
       "71631626           -45.40            POSDW   12.55  A1641510152632458019521   \n",
       "71631821           -22.75            POSDW    9.36  A1641511435020874018848   \n",
       "71632128           -18.70            POSDD   10.81  A1641513783427360019199   \n",
       "\n",
       "          is_credit   user_id  \n",
       "30                0  16852407  \n",
       "222               0  19353580  \n",
       "233               0  15209384  \n",
       "407               0  16744163  \n",
       "1638              0  21181149  \n",
       "...             ...       ...  \n",
       "71630647          0  15364180  \n",
       "71630669          1  15878769  \n",
       "71631626          0  19422309  \n",
       "71631821          0  17772285  \n",
       "71632128          1  15835623  \n",
       "\n",
       "[538729 rows x 10 columns]"
      ]
     },
     "execution_count": 49,
     "metadata": {},
     "output_type": "execute_result"
    }
   ],
   "source": [
    "df_dw[df_dw.authid.isin(unshared_authids)]"
   ]
  },
  {
   "cell_type": "code",
   "execution_count": 50,
   "id": "97e4b8d1",
   "metadata": {},
   "outputs": [
    {
     "data": {
      "text/html": [
       "<div>\n",
       "<style scoped>\n",
       "    .dataframe tbody tr th:only-of-type {\n",
       "        vertical-align: middle;\n",
       "    }\n",
       "\n",
       "    .dataframe tbody tr th {\n",
       "        vertical-align: top;\n",
       "    }\n",
       "\n",
       "    .dataframe thead th {\n",
       "        text-align: right;\n",
       "    }\n",
       "</style>\n",
       "<table border=\"1\" class=\"dataframe\">\n",
       "  <thead>\n",
       "    <tr style=\"text-align: right;\">\n",
       "      <th></th>\n",
       "      <th>amount</th>\n",
       "      <th>user_id</th>\n",
       "      <th>transaction_code</th>\n",
       "      <th>transeq</th>\n",
       "      <th>isdebit</th>\n",
       "      <th>transaction_date</th>\n",
       "      <th>primarypartyid</th>\n",
       "      <th>business_account_number</th>\n",
       "      <th>account_balance</th>\n",
       "      <th>transaction_type</th>\n",
       "      <th>isvault</th>\n",
       "      <th>vaultendbalance</th>\n",
       "      <th>authid</th>\n",
       "      <th>offset</th>\n",
       "      <th>partition</th>\n",
       "    </tr>\n",
       "  </thead>\n",
       "  <tbody>\n",
       "  </tbody>\n",
       "</table>\n",
       "</div>"
      ],
      "text/plain": [
       "Empty DataFrame\n",
       "Columns: [amount, user_id, transaction_code, transeq, isdebit, transaction_date, primarypartyid, business_account_number, account_balance, transaction_type, isvault, vaultendbalance, authid, offset, partition]\n",
       "Index: []"
      ]
     },
     "execution_count": 50,
     "metadata": {},
     "output_type": "execute_result"
    }
   ],
   "source": [
    "df_kafka[df_kafka.authid.isin(unshared_authids)]"
   ]
  },
  {
   "cell_type": "markdown",
   "id": "1a008eaf",
   "metadata": {},
   "source": [
    "#### What does the missing records look like"
   ]
  },
  {
   "cell_type": "code",
   "execution_count": 51,
   "id": "795df373",
   "metadata": {},
   "outputs": [
    {
     "data": {
      "text/plain": [
       "57775"
      ]
     },
     "metadata": {},
     "output_type": "display_data"
    },
    {
     "data": {
      "text/plain": [
       "POSDW           491004\n",
       "POSDD            15349\n",
       "DWATM            12559\n",
       "DDATMREFUND       7753\n",
       "DWCRDBILLPAY      5931\n",
       "DDCRDBILLREF      2850\n",
       "DDA2ATXFR         1925\n",
       "DWATMI            1111\n",
       "DW                 212\n",
       "DD                  34\n",
       "DIPD                 1\n",
       "Name: transaction_code, dtype: int64"
      ]
     },
     "metadata": {},
     "output_type": "display_data"
    }
   ],
   "source": [
    "display(unshared_df.business_account_number.nunique())\n",
    "display(unshared_df.transaction_code.value_counts())"
   ]
  },
  {
   "cell_type": "code",
   "execution_count": 54,
   "id": "0975a662",
   "metadata": {},
   "outputs": [
    {
     "data": {
      "image/png": "[encoded data removed]",
      "text/plain": [
       "<Figure size 800x550 with 1 Axes>"
      ]
     },
     "metadata": {},
     "output_type": "display_data"
    }
   ],
   "source": [
    "unshared_df.amount.hist(bins=100)\n",
    "plt.show()"
   ]
  },
  {
   "cell_type": "code",
   "execution_count": null,
   "id": "2d4a5319",
   "metadata": {},
   "outputs": [],
   "source": []
  },
  {
   "cell_type": "code",
   "execution_count": null,
   "id": "1f57614e",
   "metadata": {},
   "outputs": [],
   "source": []
  }
 ],
 "metadata": {
  "kernelspec": {
   "display_name": "customer_risk",
   "language": "python",
   "name": "customer_risk"
  },
  "language_info": {
   "codemirror_mode": {
    "name": "ipython",
    "version": 3
   },
   "file_extension": ".py",
   "mimetype": "text/x-python",
   "name": "python",
   "nbconvert_exporter": "python",
   "pygments_lexer": "ipython3",
   "version": "3.7.12"
  }
 },
 "nbformat": 4,
 "nbformat_minor": 5
}
