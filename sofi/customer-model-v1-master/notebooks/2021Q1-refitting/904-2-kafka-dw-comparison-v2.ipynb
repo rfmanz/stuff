{
 "cells": [
  {
   "cell_type": "markdown",
   "id": "7b8431bc",
   "metadata": {},
   "source": [
    "## additional analysis between kafka and data warehouse\n",
    "---\n",
    "\n",
    "Two goals:\n",
    "* fix time, and find nr of differences between two dbs\n",
    "* see if there is pattern to the differences\""
   ]
  },
  {
   "cell_type": "code",
   "execution_count": 1,
   "id": "5624079f",
   "metadata": {},
   "outputs": [],
   "source": [
    "import pandas as pd\n",
    "import numpy as np\n",
    "import matplotlib.pyplot as plt\n",
    "import seaborn as sns\n",
    "import mdsutils"
   ]
  },
  {
   "cell_type": "markdown",
   "id": "2d864623",
   "metadata": {},
   "source": [
    "### Fix datetime\n",
    "---\n",
    "\n",
    "Since we had already queried all available kafka transactions, let's just use this.\n",
    "\n",
    "The following query was carried out in notebook 904-1. Simply load it back!\n",
    "\n",
    "```python\n",
    "athena = mdsutils.AthenaClient(\"datalake_production_kafka_raw\")\n",
    "\n",
    "trnx_query = \"\"\"\n",
    "select k.value,\n",
    "       k.offset,\n",
    "       k.partition\n",
    "from \"datalake_production_kafka_raw\".\"com_sofi_banking_schemas_bankingtransactionoccurred\" k\n",
    "\"\"\"\n",
    "\n",
    "trnx = athena.query_to_df(trnx_query)\n",
    "\n",
    "\n",
    "import re\n",
    "\n",
    "# amount pattern\n",
    "fields = [\"amount\", \"partyid\", \"transactioncode\", \"transeq\", \"isdebit\", \n",
    "         \"localdate\", \"primarypartyid\", \"accountnum\", \"accountbalance\",\n",
    "          \"transactiontype\", \"isvault\", \"vaultendbalance\", \"authid\"]\n",
    "\n",
    "df = trnx\n",
    "\n",
    "for f in fields:\n",
    "    p = f\"[^a-zA-Z0-9]{f}=([a-zA-Z0-9.-]+)\"\n",
    "    print(f, p)\n",
    "\n",
    "    pattern = re.compile(p)\n",
    "    df[f] = df[\"value\"].str.extract(fr'{p}')\n",
    "    \n",
    "df.to_parquet(\"../../artifacts/data-dump/kafka-trnx-01102022-processed.parquet\")\n",
    "```"
   ]
  },
  {
   "cell_type": "code",
   "execution_count": 3,
   "id": "da1504f0",
   "metadata": {},
   "outputs": [],
   "source": [
    "kafka_path = \"../../artifacts/data-dump/kafka-trnx-01102022-processed.parquet\"\n",
    "kafka_df = pd.read_parquet(kafka_path)"
   ]
  },
  {
   "cell_type": "code",
   "execution_count": 5,
   "id": "aa967cef",
   "metadata": {},
   "outputs": [
    {
     "name": "stdout",
     "output_type": "stream",
     "text": [
      "histseq [^a-zA-Z0-9]histseq=([a-zA-Z0-9.-]+)\n"
     ]
    }
   ],
   "source": [
    "# lets extract transeq and histseq as well!\n",
    "import re\n",
    "\n",
    "fields = [\"histseq\"]\n",
    "\n",
    "for f in fields:\n",
    "    p = f\"[^a-zA-Z0-9]{f}=([a-zA-Z0-9.-]+)\"\n",
    "    print(f, p)\n",
    "\n",
    "    pattern = re.compile(p)\n",
    "    kafka_df[f] = kafka_df[\"value\"].str.extract(fr'{p}')\n",
    "\n",
    "kafka_df.to_parquet(\"../../artifacts/data-dump/kafka-trnx-01172022-processed.parquet\")"
   ]
  },
  {
   "cell_type": "code",
   "execution_count": 6,
   "id": "7d877327",
   "metadata": {},
   "outputs": [
    {
     "data": {
      "text/plain": [
       "False    71290593\n",
       "Name: transeq, dtype: int64"
      ]
     },
     "execution_count": 6,
     "metadata": {},
     "output_type": "execute_result"
    }
   ],
   "source": [
    "kafka_df[\"transeq\"].isna().value_counts()"
   ]
  },
  {
   "cell_type": "code",
   "execution_count": 7,
   "id": "41f851a0",
   "metadata": {},
   "outputs": [
    {
     "data": {
      "text/plain": [
       "False    71290593\n",
       "Name: histseq, dtype: int64"
      ]
     },
     "execution_count": 7,
     "metadata": {},
     "output_type": "execute_result"
    }
   ],
   "source": [
    "kafka_df[\"histseq\"].isna().value_counts()"
   ]
  },
  {
   "cell_type": "markdown",
   "id": "dfc3bbbb",
   "metadata": {},
   "source": [
    "#### get dw data"
   ]
  },
  {
   "cell_type": "code",
   "execution_count": 40,
   "id": "63324e35",
   "metadata": {},
   "outputs": [
    {
     "name": "stdout",
     "output_type": "stream",
     "text": [
      "CPU times: user 12min 23s, sys: 1min 43s, total: 14min 7s\n",
      "Wall time: 24min 17s\n"
     ]
    }
   ],
   "source": [
    "%%time\n",
    "\n",
    "from rdsutils.query import query_postgres\n",
    "\n",
    "query = \"\"\"\n",
    "-- banking transactions by business account.\n",
    "SELECT tjd,\n",
    "       dtj.time,\n",
    "       dtj.cid AS business_account_number,\n",
    "       cdt AS created_dt,\n",
    "       endbal,\n",
    "       dtj.etc AS transaction_code,\n",
    "       tamt AS amount,\n",
    "       split_part(split_part(dtj.tso, 'AUTHID#', 2), '~', 1) AS authid,\n",
    "       trn.dc as is_credit,\n",
    "       cif.zsofiid as user_id,\n",
    "       dtj.tso,\n",
    "       tseq as transeq\n",
    "FROM dtj\n",
    "LEFT JOIN profile_reporting.dep ON dep.cid = dtj.cid\n",
    "LEFT JOIN cif ON cif.acn = dep.acn\n",
    "LEFT JOIN trn on dtj.etc = trn.etc;\n",
    "\"\"\"\n",
    "\n",
    "df_dw = query_postgres(query=query, port=15556, database=\"sofi_profile_reporting\")\n",
    "df_dw.to_parquet(\"../../artifacts/data-dump/dw-trnx-01172022.parquet\")"
   ]
  },
  {
   "cell_type": "markdown",
   "id": "194a22a2",
   "metadata": {},
   "source": [
    "### Load everything back and analyize!"
   ]
  },
  {
   "cell_type": "code",
   "execution_count": 2,
   "id": "3af8b809",
   "metadata": {},
   "outputs": [],
   "source": [
    "df_kafka = pd.read_parquet(\"../../artifacts/data-dump/kafka-trnx-01172022-processed.parquet\")\n",
    "df_dw = pd.read_parquet(\"../../artifacts/data-dump/dw-trnx-01172022.parquet\")"
   ]
  },
  {
   "cell_type": "code",
   "execution_count": 3,
   "id": "9b6f5b19",
   "metadata": {},
   "outputs": [
    {
     "data": {
      "text/plain": [
       "23"
      ]
     },
     "execution_count": 3,
     "metadata": {},
     "output_type": "execute_result"
    }
   ],
   "source": [
    "import gc\n",
    "gc.collect()"
   ]
  },
  {
   "cell_type": "code",
   "execution_count": 4,
   "id": "3b430dd7",
   "metadata": {},
   "outputs": [
    {
     "data": {
      "text/plain": [
       "((71290593, 17), (72634226, 12))"
      ]
     },
     "execution_count": 4,
     "metadata": {},
     "output_type": "execute_result"
    }
   ],
   "source": [
    "df_kafka.shape, df_dw.shape"
   ]
  },
  {
   "cell_type": "code",
   "execution_count": 5,
   "id": "03e779ab",
   "metadata": {},
   "outputs": [],
   "source": [
    "rename_dict = {\"partyid\": \"user_id\", \n",
    "               \"localdate\": \"transaction_date\",\n",
    "               \"accountnum\": \"business_account_number\",  #?\n",
    "               \"transactiontype\": \"transaction_type\",\n",
    "               \"accountbalance\": \"account_balance\",\n",
    "               \"transactioncode\": \"transaction_code\"\n",
    "               }\n",
    "df_kafka.rename(columns=rename_dict, inplace=True)\n",
    "\n",
    "df_kafka[df_kafka==\"null\"] = np.nan\n",
    "# df_kafka = df_kafka[~(df_kafka[\"account_balance\"].isna() | df_kafka[\"amount\"].isna())]"
   ]
  },
  {
   "cell_type": "code",
   "execution_count": 6,
   "id": "d1d7dcd6",
   "metadata": {},
   "outputs": [],
   "source": [
    "def preprocess(df):\n",
    "    df = df[~df[\"authid\"].isna()]\n",
    "    df = df.drop_duplicates([\"user_id\", \"transaction_date\", \"authid\", \"business_account_number\", \"account_balance\", \"transeq\"])\n",
    "    print(\"drop duplicates!\")\n",
    "    \n",
    "    df[\"user_id\"] = df[\"user_id\"].astype(int)\n",
    "    df[\"transaction_date\"] = pd.to_datetime(df[\"transaction_date\"])\n",
    "    df[\"business_account_number\"] = df[\"business_account_number\"].astype(int)\n",
    "    df[\"account_balance\"] = df[\"account_balance\"].astype(float)\n",
    "    df[\"amount\"] = df[\"amount\"].astype(float)\n",
    "    return df"
   ]
  },
  {
   "cell_type": "code",
   "execution_count": 7,
   "id": "ef55d2bb",
   "metadata": {},
   "outputs": [],
   "source": [
    "rename_dict = {\"tjd\": \"transaction_date\",\n",
    "               \"endbal\": \"account_balance\",\n",
    "               }\n",
    "df_dw.rename(columns=rename_dict, inplace=True)\n",
    "\n",
    "fn = lambda x: x.split(\"#\")[0]\n",
    "idx = df_dw[\"amount\"].str.contains(\"#\")\n",
    "df_dw.loc[idx, \"amount\"] = df_dw.loc[idx, \"amount\"].apply(fn)\n",
    "\n",
    "idx = df_dw[\"authid\"] == \"\"\n",
    "df_dw.loc[idx, \"authid\"] = np.nan"
   ]
  },
  {
   "cell_type": "code",
   "execution_count": 8,
   "id": "17e7cadd",
   "metadata": {},
   "outputs": [
    {
     "name": "stdout",
     "output_type": "stream",
     "text": [
      "drop duplicates!\n",
      "drop duplicates!\n",
      "CPU times: user 3min 52s, sys: 24.7 s, total: 4min 16s\n",
      "Wall time: 4min 15s\n"
     ]
    }
   ],
   "source": [
    "%%time\n",
    "df_kafka = preprocess(df_kafka)\n",
    "df_dw = preprocess(df_dw)"
   ]
  },
  {
   "cell_type": "code",
   "execution_count": 9,
   "id": "77404dd2",
   "metadata": {},
   "outputs": [
    {
     "data": {
      "text/plain": [
       "((29773811, 17), (30472841, 12))"
      ]
     },
     "execution_count": 9,
     "metadata": {},
     "output_type": "execute_result"
    }
   ],
   "source": [
    "df_kafka.shape, df_dw.shape"
   ]
  },
  {
   "cell_type": "code",
   "execution_count": 10,
   "id": "59b22113",
   "metadata": {},
   "outputs": [
    {
     "data": {
      "text/plain": [
       "<matplotlib.legend.Legend at 0x7f09a128eed0>"
      ]
     },
     "execution_count": 10,
     "metadata": {},
     "output_type": "execute_result"
    },
    {
     "data": {
      "image/png": "[encoded data removed]",
      "text/plain": [
       "<Figure size 432x288 with 1 Axes>"
      ]
     },
     "metadata": {
      "needs_background": "light"
     },
     "output_type": "display_data"
    }
   ],
   "source": [
    "df_kafka.transaction_date.hist(bins=100, alpha=0.4, label=\"kafka\")\n",
    "df_dw.transaction_date.hist(bins=100, alpha=0.4, label=\"dw\")\n",
    "plt.legend()"
   ]
  },
  {
   "cell_type": "markdown",
   "id": "50029d64",
   "metadata": {},
   "source": [
    "#### slice by time"
   ]
  },
  {
   "cell_type": "code",
   "execution_count": 11,
   "id": "7b9b60c0",
   "metadata": {},
   "outputs": [
    {
     "data": {
      "text/plain": [
       "(Timestamp('2022-11-16 00:00:00'), Timestamp('2022-01-18 00:00:00'))"
      ]
     },
     "execution_count": 11,
     "metadata": {},
     "output_type": "execute_result"
    }
   ],
   "source": [
    "df_kafka.transaction_date.max(), df_dw.transaction_date.max()"
   ]
  },
  {
   "cell_type": "code",
   "execution_count": 39,
   "id": "68ca9ae9",
   "metadata": {},
   "outputs": [
    {
     "name": "stdout",
     "output_type": "stream",
     "text": [
      "2022-01-05 00:00:00\n",
      "CPU times: user 9.09 s, sys: 2.15 s, total: 11.2 s\n",
      "Wall time: 11.2 s\n"
     ]
    }
   ],
   "source": [
    "%%time\n",
    "# cutoff_date = min(df_kafka.transaction_date.max(), df_dw.transaction_date.max())\n",
    "cutoff_date = pd.to_datetime(\"2022-01-05\")  # already queried data wasn't available for one of the previous date\n",
    "print(cutoff_date)\n",
    "df_kafka_sliced = df_kafka[df_kafka.transaction_date <= cutoff_date]\n",
    "df_dw_sliced = df_dw[df_dw.transaction_date <= cutoff_date]"
   ]
  },
  {
   "cell_type": "code",
   "execution_count": 40,
   "id": "ed7f90ca",
   "metadata": {},
   "outputs": [
    {
     "data": {
      "text/plain": [
       "((29560034, 17), (29722515, 12))"
      ]
     },
     "execution_count": 40,
     "metadata": {},
     "output_type": "execute_result"
    }
   ],
   "source": [
    "df_kafka_sliced.shape, df_dw_sliced.shape"
   ]
  },
  {
   "cell_type": "markdown",
   "id": "569e4b36",
   "metadata": {},
   "source": [
    "#### build unique ids"
   ]
  },
  {
   "cell_type": "code",
   "execution_count": 41,
   "id": "4ba63a44",
   "metadata": {},
   "outputs": [
    {
     "data": {
      "text/plain": [
       "False    29560034\n",
       "Name: transeq, dtype: int64"
      ]
     },
     "execution_count": 41,
     "metadata": {},
     "output_type": "execute_result"
    }
   ],
   "source": [
    "df_kafka_sliced[\"transeq\"].isna().value_counts()"
   ]
  },
  {
   "cell_type": "code",
   "execution_count": 42,
   "id": "2fdf25e7",
   "metadata": {},
   "outputs": [
    {
     "data": {
      "text/plain": [
       "False    29722515\n",
       "Name: transeq, dtype: int64"
      ]
     },
     "execution_count": 42,
     "metadata": {},
     "output_type": "execute_result"
    }
   ],
   "source": [
    "df_dw_sliced[\"transeq\"].isna().value_counts()"
   ]
  },
  {
   "cell_type": "code",
   "execution_count": 43,
   "id": "43e14710",
   "metadata": {},
   "outputs": [
    {
     "data": {
      "text/plain": [
       "(False, False)"
      ]
     },
     "execution_count": 43,
     "metadata": {},
     "output_type": "execute_result"
    }
   ],
   "source": [
    "\"id\" in df_kafka_sliced.columns, \"id\" in df_dw_sliced.columns"
   ]
  },
  {
   "cell_type": "code",
   "execution_count": 44,
   "id": "8254bcb2",
   "metadata": {},
   "outputs": [
    {
     "name": "stderr",
     "output_type": "stream",
     "text": [
      "/home/ec2-user/anaconda3/envs/customer_risk/lib/python3.7/site-packages/ipykernel/__main__.py:5: SettingWithCopyWarning: \n",
      "A value is trying to be set on a copy of a slice from a DataFrame.\n",
      "Try using .loc[row_indexer,col_indexer] = value instead\n",
      "\n",
      "See the caveats in the documentation: https://pandas.pydata.org/pandas-docs/stable/user_guide/indexing.html#returning-a-view-versus-a-copy\n",
      "/home/ec2-user/anaconda3/envs/customer_risk/lib/python3.7/site-packages/ipykernel/__main__.py:6: SettingWithCopyWarning: \n",
      "A value is trying to be set on a copy of a slice from a DataFrame.\n",
      "Try using .loc[row_indexer,col_indexer] = value instead\n",
      "\n",
      "See the caveats in the documentation: https://pandas.pydata.org/pandas-docs/stable/user_guide/indexing.html#returning-a-view-versus-a-copy\n"
     ]
    }
   ],
   "source": [
    "def get_id(df):\n",
    "    id_series = df[\"business_account_number\"].astype(int).astype(str) + \"-\" + df[\"transeq\"].astype(int).astype(str)\n",
    "    return id_series\n",
    "\n",
    "df_kafka_sliced[\"id\"] = get_id(df_kafka_sliced)\n",
    "df_dw_sliced[\"id\"] = get_id(df_dw_sliced)"
   ]
  },
  {
   "cell_type": "code",
   "execution_count": 45,
   "id": "c8590c34",
   "metadata": {},
   "outputs": [
    {
     "data": {
      "text/plain": [
       "(28990022, (29560034, 18))"
      ]
     },
     "execution_count": 45,
     "metadata": {},
     "output_type": "execute_result"
    }
   ],
   "source": [
    "df_kafka_sliced[\"id\"].nunique(), df_kafka_sliced.shape"
   ]
  },
  {
   "cell_type": "code",
   "execution_count": 46,
   "id": "ea2f93dc",
   "metadata": {},
   "outputs": [
    {
     "data": {
      "text/plain": [
       "(29722515, (29722515, 13))"
      ]
     },
     "execution_count": 46,
     "metadata": {},
     "output_type": "execute_result"
    }
   ],
   "source": [
    "df_dw_sliced[\"id\"].nunique(), df_dw_sliced.shape"
   ]
  },
  {
   "cell_type": "code",
   "execution_count": 47,
   "id": "02874888",
   "metadata": {},
   "outputs": [
    {
     "name": "stdout",
     "output_type": "stream",
     "text": [
      "2000\n",
      "58710537\n"
     ]
    }
   ],
   "source": [
    "kafka_ids = set(df_kafka_sliced[\"id\"].unique())\n",
    "dw_ids = set(df_dw_sliced[\"id\"].unique())\n",
    "print(len(kafka_ids.intersection(dw_ids)))\n",
    "print(len(kafka_ids.union(dw_ids)))"
   ]
  },
  {
   "cell_type": "code",
   "execution_count": 48,
   "id": "cb1e7b96",
   "metadata": {},
   "outputs": [
    {
     "name": "stdout",
     "output_type": "stream",
     "text": [
      "307436\n",
      "308683\n"
     ]
    }
   ],
   "source": [
    "kafka_ban = set(df_kafka_sliced[\"business_account_number\"].unique())\n",
    "df_ban = set(df_dw_sliced[\"business_account_number\"].unique())\n",
    "print(len(kafka_ban.intersection(df_ban)))\n",
    "print(len(kafka_ban.union(df_ban)))"
   ]
  },
  {
   "cell_type": "code",
   "execution_count": 49,
   "id": "0a9ffd8d",
   "metadata": {},
   "outputs": [
    {
     "data": {
      "text/plain": [
       "['410007605968-803001',\n",
       " '410000215989-11017001',\n",
       " '410014314293-4040002',\n",
       " '410000198349-10264001',\n",
       " '410003819415-4083001']"
      ]
     },
     "execution_count": 49,
     "metadata": {},
     "output_type": "execute_result"
    }
   ],
   "source": [
    "list(kafka_ids)[:5]"
   ]
  },
  {
   "cell_type": "code",
   "execution_count": 50,
   "id": "9f13ba38",
   "metadata": {},
   "outputs": [
    {
     "data": {
      "text/plain": [
       "['410010785982-58',\n",
       " '410000220836-884',\n",
       " '410003967065-2385',\n",
       " '410004142648-967',\n",
       " '410012034803-122']"
      ]
     },
     "execution_count": 50,
     "metadata": {},
     "output_type": "execute_result"
    }
   ],
   "source": [
    "list(dw_ids)[:5]"
   ]
  },
  {
   "cell_type": "code",
   "execution_count": 51,
   "id": "63b0c11a",
   "metadata": {},
   "outputs": [],
   "source": [
    "df_kafka_sliced.to_parquet(\"../../artifacts/data-dump/kafka-trnx-sliced-til-20220105.parquet\")\n",
    "df_dw_sliced.to_parquet(\"../../artifacts/data-dump/dw-trnx-sliced-til-20220105.parquet\")"
   ]
  },
  {
   "cell_type": "code",
   "execution_count": null,
   "id": "68f12f68",
   "metadata": {},
   "outputs": [],
   "source": []
  },
  {
   "cell_type": "code",
   "execution_count": null,
   "id": "b3b50404",
   "metadata": {},
   "outputs": [],
   "source": []
  }
 ],
 "metadata": {
  "kernelspec": {
   "display_name": "conda_customer_risk",
   "language": "python",
   "name": "conda_customer_risk"
  },
  "language_info": {
   "codemirror_mode": {
    "name": "ipython",
    "version": 3
   },
   "file_extension": ".py",
   "mimetype": "text/x-python",
   "name": "python",
   "nbconvert_exporter": "python",
   "pygments_lexer": "ipython3",
   "version": "3.7.12"
  }
 },
 "nbformat": 4,
 "nbformat_minor": 5
}
