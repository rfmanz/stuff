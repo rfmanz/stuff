{
 "cells": [
  {
   "cell_type": "markdown",
   "id": "b0048141",
   "metadata": {},
   "source": [
    "## Customer Model Behavior Analysis\n",
    "---\n",
    "\n",
    "* customer model behavior\n",
    "    * [force plot](https://docs.google.com/document/d/1_xQoyimEkDi-Guoml2MxS6wXQATmy8D27iSsQ4LIAzY/edit) for missing fraud_score_1\n",
    "    * [detailed feature importance](https://docs.google.com/spreadsheets/d/1YZEXwaCuxTTXL5skdSz_ZdIZujr2kUhQaK076Sy4KK4/edit#gid=0)\n",
    "    \n",
    "  OOT samples in 2021 from dropping fraud_score_1 entirely and changing missing name_address_correlation to 1"
   ]
  },
  {
   "cell_type": "code",
   "execution_count": 1,
   "id": "5be44e8a",
   "metadata": {},
   "outputs": [],
   "source": [
    "import sys, os, json\n",
    "sys.path.append('../..')\n",
    "import warnings\n",
    "warnings.filterwarnings(action='ignore')\n",
    "import pandas as pd\n",
    "import numpy as np\n",
    "import pickle\n",
    "import seaborn as sns\n",
    "import matplotlib.pyplot as plt\n",
    "import lightgbm as lgb\n",
    "from tqdm import tqdm\n",
    "import copy\n",
    "\n",
    "from smart_open import open\n",
    "import pickle as pkl\n",
    "import src.monitoring.utils as mu\n",
    "\n",
    "from src.utils import scale_scores\n",
    "from rdsutils.lightgbm_helpers import train_lgb_baseline_grouped\n",
    "from rdsutils.post_implementation_testing import plot_score_dist, get_psi, get_overlap_and_diff\n",
    "from rdsutils.post_implementation_testing import plot_difference, get_combined_dfs, get_feature_comparison_report\n",
    "\n",
    "plt.style.use(\"seaborn\")"
   ]
  },
  {
   "cell_type": "code",
   "execution_count": 2,
   "id": "13be8312",
   "metadata": {},
   "outputs": [],
   "source": [
    "# load models\n",
    "\n",
    "with open(\"../../config.json\", \"r\") as f:\n",
    "    config = json.load(f)\n",
    "    mpaths = config[\"monitoring_config\"][\"model_paths\"]\n",
    "    \n",
    "with open(mpaths[\"incumbent_model\"], \"rb\") as f:\n",
    "    incumbent_model = pkl.load(f)\n",
    "    \n",
    "with open(mpaths[\"customer_refitted_2021Q1\"], \"rb\") as f:\n",
    "    refitted_model = pkl.load(f)"
   ]
  },
  {
   "cell_type": "code",
   "execution_count": 9,
   "id": "8c969f24",
   "metadata": {},
   "outputs": [],
   "source": [
    "df = pd.read_feather(\"../../data/combined_all_features/combined_1629343029.feather\")\n",
    "df = df[df.is_static]"
   ]
  },
  {
   "cell_type": "code",
   "execution_count": 10,
   "id": "a8b97857",
   "metadata": {},
   "outputs": [
    {
     "data": {
      "text/plain": [
       "(1867207, 91)"
      ]
     },
     "execution_count": 10,
     "metadata": {},
     "output_type": "execute_result"
    }
   ],
   "source": [
    "df.shape"
   ]
  },
  {
   "cell_type": "code",
   "execution_count": 11,
   "id": "402018c6",
   "metadata": {},
   "outputs": [],
   "source": [
    "def get_risk_groups(serie):\n",
    "    return pd.cut(serie.round(), [300, 474, 510, 560, 600, 850], \n",
    "                  right=True, labels=[f'RG{i}' for i in range(1, 6)],\n",
    "                  include_lowest=True)\n",
    "\n",
    "def get_risk_groups_refitted(serie):\n",
    "    return pd.cut(serie.round(), [300, 520, 550, 570, 590, 850], \n",
    "                  right=True, labels=[f'RG{i}' for i in range(1, 6)],\n",
    "                  include_lowest=True)"
   ]
  },
  {
   "cell_type": "code",
   "execution_count": 12,
   "id": "403521dc",
   "metadata": {},
   "outputs": [
    {
     "name": "stdout",
     "output_type": "stream",
     "text": [
      "sample_date  is_active\n",
      "2021-07-01   False        794889\n",
      "2021-06-01   False        757037\n",
      "2021-07-01   True         163346\n",
      "2021-06-01   True         151935\n",
      "dtype: int64\n"
     ]
    }
   ],
   "source": [
    "# other setups\n",
    "features = incumbent_model.feature_name_\n",
    "\n",
    "df = mu.prep_customer_data(df)  # get is_active here\n",
    "print(df[[\"sample_date\", \"is_active\"]].value_counts())\n",
    "\n",
    "df[\"pred_incumbent\"] = incumbent_model.predict_proba(df[features])[:,1]\n",
    "df[\"pred_refitted\"] = refitted_model.predict_proba(df[features])[:,1]\n",
    "\n",
    "df[\"score_incumbent\"] = mu.scale_scores(df[\"pred_incumbent\"])\n",
    "df[\"score_refitted\"] = mu.scale_scores(df[\"pred_refitted\"])\n",
    "\n",
    "df[\"rg_incumbent\"] = get_risk_groups(df[\"score_incumbent\"])\n",
    "df[\"rg_refitted\"] = get_risk_groups_refitted(df[\"score_refitted\"])"
   ]
  },
  {
   "cell_type": "code",
   "execution_count": 13,
   "id": "c30d8ae6",
   "metadata": {},
   "outputs": [],
   "source": [
    "june_df = df[df.sample_date==pd.to_datetime(\"2021-06-01\")]\n",
    "july_df = df[df.sample_date==pd.to_datetime(\"2021-07-01\")]"
   ]
  },
  {
   "cell_type": "code",
   "execution_count": 19,
   "id": "8e860bb1",
   "metadata": {},
   "outputs": [
    {
     "data": {
      "text/plain": [
       "<AxesSubplot:>"
      ]
     },
     "execution_count": 19,
     "metadata": {},
     "output_type": "execute_result"
    },
    {
     "data": {
      "image/png": "[encoded data removed]",
      "text/plain": [
       "<Figure size 576x396 with 1 Axes>"
      ]
     },
     "metadata": {},
     "output_type": "display_data"
    }
   ],
   "source": [
    "june_df.score_incumbent.hist(bins=100, alpha=0.4)\n",
    "june_df.score_refitted.hist(bins=100, alpha=0.4)"
   ]
  },
  {
   "cell_type": "code",
   "execution_count": 20,
   "id": "4479789f",
   "metadata": {},
   "outputs": [
    {
     "data": {
      "text/plain": [
       "<AxesSubplot:>"
      ]
     },
     "execution_count": 20,
     "metadata": {},
     "output_type": "execute_result"
    },
    {
     "data": {
      "image/png": "[encoded data removed]",
      "text/plain": [
       "<Figure size 576x396 with 1 Axes>"
      ]
     },
     "metadata": {},
     "output_type": "display_data"
    }
   ],
   "source": [
    "july_df.score_incumbent.hist(bins=100, alpha=0.4)\n",
    "july_df.score_refitted.hist(bins=100, alpha=0.4)"
   ]
  },
  {
   "cell_type": "code",
   "execution_count": 16,
   "id": "c3925b81",
   "metadata": {},
   "outputs": [
    {
     "data": {
      "text/plain": [
       "((908972, 104), (958235, 104))"
      ]
     },
     "execution_count": 16,
     "metadata": {},
     "output_type": "execute_result"
    }
   ],
   "source": [
    "june_df.shape, july_df.shape"
   ]
  },
  {
   "cell_type": "code",
   "execution_count": 15,
   "id": "cffaf513",
   "metadata": {},
   "outputs": [],
   "source": [
    "cols = [\"business_account_number\", \"borrower_id\", \"sample_date\", \n",
    "        \"pred_incumbent\", \"pred_refitted\", \"score_incumbent\", \"score_refitted\",\n",
    "        \"rg_incumbent\", \"rg_refitted\"]\n",
    "june_df[cols].to_csv(\"s3://sofi-data-science/jxu/data_dump/money_customer_risk/202106-scores.csv\")\n",
    "july_df[cols].to_csv(\"s3://sofi-data-science/jxu/data_dump/money_customer_risk/202107-scores.csv\")"
   ]
  },
  {
   "cell_type": "code",
   "execution_count": null,
   "id": "49169157",
   "metadata": {},
   "outputs": [],
   "source": []
  }
 ],
 "metadata": {
  "kernelspec": {
   "display_name": "conda_customer_risk",
   "language": "python",
   "name": "conda_customer_risk"
  },
  "language_info": {
   "codemirror_mode": {
    "name": "ipython",
    "version": 3
   },
   "file_extension": ".py",
   "mimetype": "text/x-python",
   "name": "python",
   "nbconvert_exporter": "python",
   "pygments_lexer": "ipython3",
   "version": "3.7.10"
  }
 },
 "nbformat": 4,
 "nbformat_minor": 5
}
