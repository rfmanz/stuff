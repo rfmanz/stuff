{
 "cells": [
  {
   "cell_type": "markdown",
   "id": "75d373ab",
   "metadata": {},
   "source": [
    "## Initial Setup Before Monitoring\n",
    "---\n",
    "\n",
    "## We will run this notebook twice.\n",
    "\n",
    "* [ ] Update config\n",
    "    * \"static_sample_dates\", \"date_sample_start\", \"date_sample_end\", \"number_periods_in_sample\"\n",
    "* [ ] Query data\n",
    "    * [ ] Production\n",
    "    * [ ] Development\n",
    "    * [ ] Previous refitting/validation data"
   ]
  },
  {
   "cell_type": "code",
   "execution_count": 1,
   "id": "ca79c300",
   "metadata": {
    "execution": {
     "iopub.execute_input": "2021-09-30T22:11:51.605941Z",
     "iopub.status.busy": "2021-09-30T22:11:51.605476Z",
     "iopub.status.idle": "2021-09-30T22:12:00.280870Z",
     "shell.execute_reply": "2021-09-30T22:12:00.280390Z"
    }
   },
   "outputs": [],
   "source": [
    "# Helper 1 - get sample_dates\n",
    "import numpy as np\n",
    "import pandas as pd\n",
    "import matplotlib.pyplot as plt\n",
    "import seaborn as sns\n",
    "import json\n",
    "\n",
    "from smart_open import open"
   ]
  },
  {
   "cell_type": "code",
   "execution_count": 2,
   "id": "7b1da187",
   "metadata": {
    "execution": {
     "iopub.execute_input": "2021-09-30T22:12:00.285348Z",
     "iopub.status.busy": "2021-09-30T22:12:00.284904Z",
     "iopub.status.idle": "2021-09-30T22:12:00.285777Z",
     "shell.execute_reply": "2021-09-30T22:12:00.286093Z"
    }
   },
   "outputs": [],
   "source": [
    "mmonth = \"2021-09\"  # monitoring month  03-06-09-12\n",
    "prev_test_df_path = \"s3://sofi-data-science/jxu/monitoring/customer-risk-v1/2021-06/test_df_2020-01-01.parquet\"  # only change after a model refit\n",
    "date_sample_start = \"2019-01-16\"   # refit \n",
    "date_sample_end = \"2020-12-31\"   # refit\n",
    "monitor_start_date = \"2021-04-01\" \n",
    "monitor_end_date = \"2021-09-30\"   # 2021-04-01, 02-01, ..., 09-01\n",
    "prod_data_dates = [\"2021-09-30\"]   # correction: insert current date\n",
    "data_output_path = f\"s3://sofi-data-science/jxu/monitoring/customer-risk-v1/{mmonth}/\"\n",
    "artifact_path = f\"../../artifacts/monitoring-2021Q3/\"  # where the monitoring result is stored locally\n",
    "\n",
    "model_paths = {\"incumbent_model\": \"s3://sofi-data-science/jxu/money-risk-models/customer-risk-model/models/customer_risk_target_no_giact_time_since_last_link.pkl\",\n",
    "               \"customer_refitted_2021Q1\": \"s3://sofi-data-science/jxu/money-risk-models/models/customer_risk_refit_20201231_wo_ind.pkl\"}"
   ]
  },
  {
   "cell_type": "code",
   "execution_count": 3,
   "id": "29f2c93a",
   "metadata": {
    "execution": {
     "iopub.execute_input": "2021-09-30T22:12:00.288964Z",
     "iopub.status.busy": "2021-09-30T22:12:00.288586Z",
     "iopub.status.idle": "2021-09-30T22:12:00.290082Z",
     "shell.execute_reply": "2021-09-30T22:12:00.289699Z"
    }
   },
   "outputs": [],
   "source": [
    "dev_df_path = \"../../data/combined_all_features/combined_1633038321.feather\"  # produce using the data pipeline"
   ]
  },
  {
   "cell_type": "markdown",
   "id": "6e4f1434",
   "metadata": {},
   "source": [
    "### config[\"static_sample_dates\"]"
   ]
  },
  {
   "cell_type": "code",
   "execution_count": 4,
   "id": "61d2beaf",
   "metadata": {
    "execution": {
     "iopub.execute_input": "2021-09-30T22:12:00.294473Z",
     "iopub.status.busy": "2021-09-30T22:12:00.293041Z",
     "iopub.status.idle": "2021-09-30T22:12:00.296253Z",
     "shell.execute_reply": "2021-09-30T22:12:00.296549Z"
    }
   },
   "outputs": [
    {
     "data": {
      "text/plain": [
       "['2019-03-15',\n",
       " '2019-05-27',\n",
       " '2019-08-08',\n",
       " '2019-10-20',\n",
       " '2020-01-01',\n",
       " '2020-03-14',\n",
       " '2020-05-26',\n",
       " '2020-08-07',\n",
       " '2020-10-19',\n",
       " '2020-12-31',\n",
       " '2021-04-01',\n",
       " '2021-05-01',\n",
       " '2021-06-01',\n",
       " '2021-07-01',\n",
       " '2021-08-01',\n",
       " '2021-09-01']"
      ]
     },
     "execution_count": 1,
     "metadata": {},
     "output_type": "execute_result"
    }
   ],
   "source": [
    "with open(\"../../config.json\", \"r\") as f:\n",
    "    config = json.load(f)\n",
    "    \n",
    "config[\"static_sample_dates\"]"
   ]
  },
  {
   "cell_type": "code",
   "execution_count": 5,
   "id": "f755ec61",
   "metadata": {
    "execution": {
     "iopub.execute_input": "2021-09-30T22:12:00.299262Z",
     "iopub.status.busy": "2021-09-30T22:12:00.298866Z",
     "iopub.status.idle": "2021-09-30T22:12:00.300342Z",
     "shell.execute_reply": "2021-09-30T22:12:00.299961Z"
    }
   },
   "outputs": [],
   "source": [
    "dates = config[\"static_sample_dates\"]"
   ]
  },
  {
   "cell_type": "code",
   "execution_count": 6,
   "id": "2a0b0136",
   "metadata": {
    "execution": {
     "iopub.execute_input": "2021-09-30T22:12:00.305835Z",
     "iopub.status.busy": "2021-09-30T22:12:00.305449Z",
     "iopub.status.idle": "2021-09-30T22:12:00.306866Z",
     "shell.execute_reply": "2021-09-30T22:12:00.306529Z"
    }
   },
   "outputs": [],
   "source": [
    "def get_spacing(dates):\n",
    "    \"\"\" Use this to find the spacing of previous sampling methods \"\"\"\n",
    "    dates = pd.to_datetime(dates)\n",
    "    dates = pd.Series(dates).diff().value_counts()\n",
    "    return dates\n",
    "\n",
    "def get_sampling_dates(start, end, freq):\n",
    "    \"\"\" Get static sampling dates from start to end with period in between \"\"\"\n",
    "    start = pd.to_datetime(start)\n",
    "    end = pd.to_datetime(end).normalize()\n",
    "    \n",
    "    result = list(pd.date_range(start, end, freq=freq))\n",
    "    result = list(map(lambda d: str(d).split(\" \")[0], result))\n",
    "    return result\n",
    "\n",
    "def get_monitoring_dates(start, end=\"today\"):\n",
    "    \"\"\" We get monitoring dfs by looking at first day of every month \"\"\" \n",
    "    start = pd.to_datetime(start)\n",
    "    end = pd.to_datetime(end).normalize()\n",
    "    \n",
    "    # 365/28 about 13, so set 15 to include every month\n",
    "    dates = pd.date_range(start, end, freq=\"15D\")\n",
    "    dates = sorted(list(set(map(lambda d: d.replace(day=1), dates))))\n",
    "    dates = list(map(lambda d: str(d).split(\" \")[0], dates))\n",
    "    \n",
    "    return dates"
   ]
  },
  {
   "cell_type": "code",
   "execution_count": 7,
   "id": "4dac34a7",
   "metadata": {
    "execution": {
     "iopub.execute_input": "2021-09-30T22:12:00.313338Z",
     "iopub.status.busy": "2021-09-30T22:12:00.312908Z",
     "iopub.status.idle": "2021-09-30T22:12:00.314335Z",
     "shell.execute_reply": "2021-09-30T22:12:00.314656Z"
    }
   },
   "outputs": [
    {
     "data": {
      "text/plain": [
       "73 days    9\n",
       "31 days    3\n",
       "30 days    2\n",
       "91 days    1\n",
       "dtype: int64"
      ]
     },
     "execution_count": 1,
     "metadata": {},
     "output_type": "execute_result"
    }
   ],
   "source": [
    "dates = config[\"static_sample_dates\"]\n",
    "get_spacing(dates)"
   ]
  },
  {
   "cell_type": "code",
   "execution_count": 8,
   "id": "6919d1cf",
   "metadata": {
    "execution": {
     "iopub.execute_input": "2021-09-30T22:12:00.319253Z",
     "iopub.status.busy": "2021-09-30T22:12:00.318859Z",
     "iopub.status.idle": "2021-09-30T22:12:00.319664Z",
     "shell.execute_reply": "2021-09-30T22:12:00.319973Z"
    }
   },
   "outputs": [],
   "source": [
    "sample_dates = get_sampling_dates(\"2019-03-15\", date_sample_end, \"73D\")\n",
    "monitoring_dates = get_monitoring_dates(monitor_start_date, monitor_end_date)\n",
    "static_sample_dates = sorted(list(set(sample_dates + monitoring_dates)))"
   ]
  },
  {
   "cell_type": "code",
   "execution_count": 9,
   "id": "60556b5b",
   "metadata": {
    "execution": {
     "iopub.execute_input": "2021-09-30T22:12:00.323449Z",
     "iopub.status.busy": "2021-09-30T22:12:00.323054Z",
     "iopub.status.idle": "2021-09-30T22:12:00.324385Z",
     "shell.execute_reply": "2021-09-30T22:12:00.324704Z"
    }
   },
   "outputs": [
    {
     "data": {
      "text/plain": [
       "['2019-03-15',\n",
       " '2019-05-27',\n",
       " '2019-08-08',\n",
       " '2019-10-20',\n",
       " '2020-01-01',\n",
       " '2020-03-14',\n",
       " '2020-05-26',\n",
       " '2020-08-07',\n",
       " '2020-10-19',\n",
       " '2020-12-31']"
      ]
     },
     "execution_count": 1,
     "metadata": {},
     "output_type": "execute_result"
    }
   ],
   "source": [
    "sample_dates"
   ]
  },
  {
   "cell_type": "code",
   "execution_count": 10,
   "id": "0470841c",
   "metadata": {
    "execution": {
     "iopub.execute_input": "2021-09-30T22:12:00.327685Z",
     "iopub.status.busy": "2021-09-30T22:12:00.327286Z",
     "iopub.status.idle": "2021-09-30T22:12:00.329053Z",
     "shell.execute_reply": "2021-09-30T22:12:00.328705Z"
    }
   },
   "outputs": [
    {
     "data": {
      "text/plain": [
       "['2021-04-01',\n",
       " '2021-05-01',\n",
       " '2021-06-01',\n",
       " '2021-07-01',\n",
       " '2021-08-01',\n",
       " '2021-09-01']"
      ]
     },
     "execution_count": 1,
     "metadata": {},
     "output_type": "execute_result"
    }
   ],
   "source": [
    "# for monitoring , double check this \n",
    "monitoring_dates"
   ]
  },
  {
   "cell_type": "code",
   "execution_count": 11,
   "id": "4c3291e1",
   "metadata": {
    "execution": {
     "iopub.execute_input": "2021-09-30T22:12:00.332224Z",
     "iopub.status.busy": "2021-09-30T22:12:00.331843Z",
     "iopub.status.idle": "2021-09-30T22:12:00.333154Z",
     "shell.execute_reply": "2021-09-30T22:12:00.333490Z"
    }
   },
   "outputs": [
    {
     "data": {
      "text/plain": [
       "['2019-03-15',\n",
       " '2019-05-27',\n",
       " '2019-08-08',\n",
       " '2019-10-20',\n",
       " '2020-01-01',\n",
       " '2020-03-14',\n",
       " '2020-05-26',\n",
       " '2020-08-07',\n",
       " '2020-10-19',\n",
       " '2020-12-31',\n",
       " '2021-04-01',\n",
       " '2021-05-01',\n",
       " '2021-06-01',\n",
       " '2021-07-01',\n",
       " '2021-08-01',\n",
       " '2021-09-01']"
      ]
     },
     "execution_count": 1,
     "metadata": {},
     "output_type": "execute_result"
    }
   ],
   "source": [
    "static_sample_dates"
   ]
  },
  {
   "cell_type": "markdown",
   "id": "fde8eba4",
   "metadata": {},
   "source": [
    "### config[\"number_periods_in_sample\"]\n",
    "---\n",
    "during development we sampled about 15 records for dynamic sampling over one year worth of data.\n",
    "\n",
    "If we'd like to main the same ratio, config[\"number_periods_in_sample\"] needs to be scaled."
   ]
  },
  {
   "cell_type": "code",
   "execution_count": 12,
   "id": "fb3c00e6",
   "metadata": {
    "execution": {
     "iopub.execute_input": "2021-09-30T22:12:00.336533Z",
     "iopub.status.busy": "2021-09-30T22:12:00.336138Z",
     "iopub.status.idle": "2021-09-30T22:12:00.338028Z",
     "shell.execute_reply": "2021-09-30T22:12:00.337698Z"
    }
   },
   "outputs": [],
   "source": [
    "def get_updated_number_periods_in_sample(start, end, n_start):\n",
    "    ndays = (pd.to_datetime(end) - pd.to_datetime(start)).days / 365 * n_start\n",
    "    return int(ndays)"
   ]
  },
  {
   "cell_type": "code",
   "execution_count": 13,
   "id": "3a4df7d4",
   "metadata": {
    "execution": {
     "iopub.execute_input": "2021-09-30T22:12:00.341462Z",
     "iopub.status.busy": "2021-09-30T22:12:00.341011Z",
     "iopub.status.idle": "2021-09-30T22:12:00.343116Z",
     "shell.execute_reply": "2021-09-30T22:12:00.343413Z"
    }
   },
   "outputs": [
    {
     "data": {
      "text/plain": [
       "'2019-01-16'"
      ]
     },
     "metadata": {},
     "output_type": "display_data"
    },
    {
     "data": {
      "text/plain": [
       "'2020-12-31'"
      ]
     },
     "metadata": {},
     "output_type": "display_data"
    }
   ],
   "source": [
    "display(date_sample_start, date_sample_end)\n",
    "\n",
    "\n",
    "n_start = 15\n",
    "ndays = get_updated_number_periods_in_sample(date_sample_start, date_sample_end, n_start)"
   ]
  },
  {
   "cell_type": "code",
   "execution_count": 14,
   "id": "c5337ca9",
   "metadata": {
    "execution": {
     "iopub.execute_input": "2021-09-30T22:12:00.346314Z",
     "iopub.status.busy": "2021-09-30T22:12:00.345918Z",
     "iopub.status.idle": "2021-09-30T22:12:00.346870Z",
     "shell.execute_reply": "2021-09-30T22:12:00.347188Z"
    }
   },
   "outputs": [],
   "source": [
    "config[\"date_sample_end\"] = date_sample_end\n",
    "config[\"number_periods_in_sample\"] = ndays"
   ]
  },
  {
   "cell_type": "code",
   "execution_count": 15,
   "id": "3867b690",
   "metadata": {
    "execution": {
     "iopub.execute_input": "2021-09-30T22:12:00.350614Z",
     "iopub.status.busy": "2021-09-30T22:12:00.350181Z",
     "iopub.status.idle": "2021-09-30T22:12:00.351495Z",
     "shell.execute_reply": "2021-09-30T22:12:00.351132Z"
    }
   },
   "outputs": [],
   "source": [
    "# monitoring config file. Will be used in later nbs\n",
    "mconfig = {\"mmonth\": mmonth,\n",
    "           \"dev_df_path\": dev_df_path,\n",
    "           \"monitoring_dates\": monitoring_dates,\n",
    "           \"prod_data_dates\": prod_data_dates,\n",
    "           \"data_output_path\": data_output_path,\n",
    "           \"artifact_path\": artifact_path,\n",
    "           \"date_sample_start\": date_sample_start,\n",
    "           \"date_sample_end\": date_sample_end,\n",
    "           \"model_paths\": model_paths,\n",
    "           \"prev_test_df_path\": prev_test_df_path\n",
    "          }  \n"
   ]
  },
  {
   "cell_type": "code",
   "execution_count": 16,
   "id": "d2bd17b5",
   "metadata": {
    "execution": {
     "iopub.execute_input": "2021-09-30T22:12:00.354354Z",
     "iopub.status.busy": "2021-09-30T22:12:00.353968Z",
     "iopub.status.idle": "2021-09-30T22:12:00.354759Z",
     "shell.execute_reply": "2021-09-30T22:12:00.355082Z"
    }
   },
   "outputs": [],
   "source": [
    "config[\"monitoring_config\"] = mconfig"
   ]
  },
  {
   "cell_type": "markdown",
   "id": "8d39e90b",
   "metadata": {},
   "source": [
    "### Output to Config\n",
    "---\n",
    "\n",
    "Last check the important values"
   ]
  },
  {
   "cell_type": "code",
   "execution_count": 17,
   "id": "037f8d6c",
   "metadata": {
    "execution": {
     "iopub.execute_input": "2021-09-30T22:12:00.358144Z",
     "iopub.status.busy": "2021-09-30T22:12:00.357764Z",
     "iopub.status.idle": "2021-09-30T22:12:00.360931Z",
     "shell.execute_reply": "2021-09-30T22:12:00.360515Z"
    }
   },
   "outputs": [
    {
     "name": "stdout",
     "output_type": "stream",
     "text": [
      "('static_sample_dates',\n",
      " ['2019-03-15',\n",
      "  '2019-05-27',\n",
      "  '2019-08-08',\n",
      "  '2019-10-20',\n",
      "  '2020-01-01',\n",
      "  '2020-03-14',\n",
      "  '2020-05-26',\n",
      "  '2020-08-07',\n",
      "  '2020-10-19',\n",
      "  '2020-12-31',\n",
      "  '2021-04-01',\n",
      "  '2021-05-01',\n",
      "  '2021-06-01',\n",
      "  '2021-07-01',\n",
      "  '2021-08-01',\n",
      "  '2021-09-01'])\n",
      "('date_sample_start', '2019-01-16')\n",
      "('date_sample_end', '2020-12-31')\n",
      "('number_periods_in_sample', 29)\n"
     ]
    }
   ],
   "source": [
    "from pprint import pprint\n",
    "for c in [\"static_sample_dates\", \"date_sample_start\", \"date_sample_end\", \"number_periods_in_sample\"]:\n",
    "    \n",
    "    pprint((c, config[c]))"
   ]
  },
  {
   "cell_type": "code",
   "execution_count": 18,
   "id": "7eb92f71",
   "metadata": {
    "execution": {
     "iopub.execute_input": "2021-09-30T22:12:00.364243Z",
     "iopub.status.busy": "2021-09-30T22:12:00.363826Z",
     "iopub.status.idle": "2021-09-30T22:12:00.366153Z",
     "shell.execute_reply": "2021-09-30T22:12:00.365835Z"
    }
   },
   "outputs": [],
   "source": [
    "# if sampling dates makes sense, output to config\n",
    "\n",
    "config[\"static_sample_dates\"] = static_sample_dates\n",
    "with open(\"../../config.json\", \"w\") as f:\n",
    "    json.dump(config, f, indent=4)"
   ]
  },
  {
   "cell_type": "markdown",
   "id": "79ddf0b7",
   "metadata": {},
   "source": [
    "### Install the following packages to get production data"
   ]
  },
  {
   "cell_type": "code",
   "execution_count": 19,
   "id": "714f1fac",
   "metadata": {
    "execution": {
     "iopub.execute_input": "2021-09-30T22:12:00.373649Z",
     "iopub.status.busy": "2021-09-30T22:12:00.369821Z",
     "iopub.status.idle": "2021-09-30T22:12:03.668760Z",
     "shell.execute_reply": "2021-09-30T22:12:03.669062Z"
    }
   },
   "outputs": [
    {
     "name": "stdout",
     "output_type": "stream",
     "text": [
      "Looking in indexes: https://build.sofi.com/artifactory/api/pypi/pypi/simple\n",
      "Requirement already satisfied: sofiproto==release-1703 in /home/ec2-user/anaconda3/lib/python3.7/site-packages (release-1703)\n",
      "Requirement already satisfied: protobuf>=3.8.0 in /home/ec2-user/anaconda3/lib/python3.7/site-packages (from sofiproto==release-1703) (3.15.2)\n",
      "Requirement already satisfied: six>=1.9 in /home/ec2-user/anaconda3/lib/python3.7/site-packages (from protobuf>=3.8.0->sofiproto==release-1703) (1.14.0)\n",
      "Requirement already satisfied: read_protobuf in /home/ec2-user/anaconda3/lib/python3.7/site-packages (0.1.1)\n",
      "Requirement already satisfied: pandas>=0.16 in /home/ec2-user/anaconda3/lib/python3.7/site-packages (from read_protobuf) (1.2.2)\n",
      "Requirement already satisfied: protobuf>=3.5 in /home/ec2-user/anaconda3/lib/python3.7/site-packages (from read_protobuf) (3.15.2)\n",
      "Requirement already satisfied: python-dateutil>=2.7.3 in /home/ec2-user/anaconda3/lib/python3.7/site-packages (from pandas>=0.16->read_protobuf) (2.8.1)\n",
      "Requirement already satisfied: pytz>=2017.3 in /home/ec2-user/anaconda3/lib/python3.7/site-packages (from pandas>=0.16->read_protobuf) (2021.1)\n",
      "Requirement already satisfied: numpy>=1.16.5 in /home/ec2-user/anaconda3/lib/python3.7/site-packages (from pandas>=0.16->read_protobuf) (1.19.2)\n",
      "Requirement already satisfied: six>=1.9 in /home/ec2-user/anaconda3/lib/python3.7/site-packages (from protobuf>=3.5->read_protobuf) (1.14.0)\n"
     ]
    }
   ],
   "source": [
    "!pip install --index-url https://build.sofi.com/artifactory/api/pypi/pypi/simple sofiproto==release-1703\n",
    "!pip install read_protobuf"
   ]
  },
  {
   "cell_type": "code",
   "execution_count": null,
   "id": "9a7431ba",
   "metadata": {},
   "outputs": [],
   "source": []
  }
 ],
 "metadata": {
  "kernelspec": {
   "display_name": "conda_python3",
   "language": "python",
   "name": "conda_python3"
  },
  "language_info": {
   "codemirror_mode": {
    "name": "ipython",
    "version": 3
   },
   "file_extension": ".py",
   "mimetype": "text/x-python",
   "name": "python",
   "nbconvert_exporter": "python",
   "pygments_lexer": "ipython3",
   "version": "3.6.13"
  }
 },
 "nbformat": 4,
 "nbformat_minor": 5
}
