{
 "cells": [
  {
   "cell_type": "markdown",
   "id": "8fbae3a3",
   "metadata": {},
   "source": [
    "## Initial Setup Before Monitoring\n",
    "---\n",
    "\n",
    "## We will run this notebook twice.\n",
    "\n",
    "* [ ] Update config\n",
    "    * \"static_sample_dates\", \"date_sample_start\", \"date_sample_end\", \"number_periods_in_sample\"\n",
    "* [ ] Query data\n",
    "    * [ ] Production\n",
    "    * [ ] Development\n",
    "    * [ ] Previous refitting/validation data"
   ]
  },
  {
   "cell_type": "code",
   "execution_count": 1,
   "id": "99d88dea",
   "metadata": {
    "execution": {
     "iopub.execute_input": "2021-12-30T16:54:12.911793Z",
     "iopub.status.busy": "2021-12-30T16:54:12.911325Z",
     "iopub.status.idle": "2021-12-30T16:54:13.608776Z",
     "shell.execute_reply": "2021-12-30T16:54:13.608401Z"
    }
   },
   "outputs": [],
   "source": [
    "# Helper 1 - get sample_dates\n",
    "import numpy as np\n",
    "import pandas as pd\n",
    "import matplotlib.pyplot as plt\n",
    "import seaborn as sns\n",
    "import json\n",
    "\n",
    "from smart_open import open"
   ]
  },
  {
   "cell_type": "code",
   "execution_count": 2,
   "id": "b9d6b1cb",
   "metadata": {
    "execution": {
     "iopub.execute_input": "2021-12-30T16:54:13.612648Z",
     "iopub.status.busy": "2021-12-30T16:54:13.612218Z",
     "iopub.status.idle": "2021-12-30T16:54:13.613640Z",
     "shell.execute_reply": "2021-12-30T16:54:13.613221Z"
    }
   },
   "outputs": [],
   "source": [
    "mmonth = \"2021-12\"  # monitoring month  03-06-09-12\n",
    "prev_test_df_path = \"s3://sofi-data-science/jxu/monitoring/customer-risk-v1/2021-06/test_df_2020-01-01.parquet\"  # only change after a model refit\n",
    "date_sample_start = \"2019-01-16\"   # refit \n",
    "date_sample_end = \"2020-12-31\"   # refit\n",
    "monitor_start_date = \"2021-07-01\" \n",
    "monitor_end_date = \"2021-12-31\"   # 2021-04-01, 02-01, ..., 09-01\n",
    "prod_data_dates = [\"2021-12-31\"]   # correction: insert current date\n",
    "data_output_path = f\"s3://sofi-data-science/jxu/monitoring/customer-risk-v1/{mmonth}/\"\n",
    "artifact_path = f\"../../artifacts/monitoring-2021Q4/\"  # where the monitoring result is stored locally\n",
    "\n",
    "model_paths = {\"incumbent_model\": \"s3://sofi-data-science/jxu/money-risk-models/customer-risk-model/models/customer_risk_target_no_giact_time_since_last_link.pkl\",\n",
    "               \"customer_refitted_2021Q1\": \"s3://sofi-data-science/jxu/money-risk-models/models/customer_risk_refit_20201231_wo_ind.pkl\"}"
   ]
  },
  {
   "cell_type": "code",
   "execution_count": 3,
   "id": "fc58a0e1",
   "metadata": {
    "execution": {
     "iopub.execute_input": "2021-12-30T16:54:13.616610Z",
     "iopub.status.busy": "2021-12-30T16:54:13.616175Z",
     "iopub.status.idle": "2021-12-30T16:54:13.617009Z",
     "shell.execute_reply": "2021-12-30T16:54:13.617310Z"
    }
   },
   "outputs": [],
   "source": [
    "dev_df_path = \"../../data/combined_all_features/combined_1640842189.feather\"  # produce using the data pipeline"
   ]
  },
  {
   "cell_type": "markdown",
   "id": "e578bea6",
   "metadata": {},
   "source": [
    "### config[\"static_sample_dates\"]"
   ]
  },
  {
   "cell_type": "code",
   "execution_count": 4,
   "id": "a87ed6f3",
   "metadata": {
    "execution": {
     "iopub.execute_input": "2021-12-30T16:54:13.620255Z",
     "iopub.status.busy": "2021-12-30T16:54:13.619854Z",
     "iopub.status.idle": "2021-12-30T16:54:13.624236Z",
     "shell.execute_reply": "2021-12-30T16:54:13.623807Z"
    }
   },
   "outputs": [
    {
     "data": {
      "text/plain": [
       "['2019-03-15',\n",
       " '2019-05-27',\n",
       " '2019-08-08',\n",
       " '2019-10-20',\n",
       " '2020-01-01',\n",
       " '2020-03-14',\n",
       " '2020-05-26',\n",
       " '2020-08-07',\n",
       " '2020-10-19',\n",
       " '2020-12-31',\n",
       " '2021-07-01',\n",
       " '2021-08-01',\n",
       " '2021-09-01',\n",
       " '2021-10-01',\n",
       " '2021-11-01',\n",
       " '2021-12-01']"
      ]
     },
     "execution_count": 1,
     "metadata": {},
     "output_type": "execute_result"
    }
   ],
   "source": [
    "with open(\"../../config.json\", \"r\") as f:\n",
    "    config = json.load(f)\n",
    "    \n",
    "config[\"static_sample_dates\"]"
   ]
  },
  {
   "cell_type": "code",
   "execution_count": 5,
   "id": "073fa75f",
   "metadata": {
    "execution": {
     "iopub.execute_input": "2021-12-30T16:54:13.626776Z",
     "iopub.status.busy": "2021-12-30T16:54:13.626393Z",
     "iopub.status.idle": "2021-12-30T16:54:13.627837Z",
     "shell.execute_reply": "2021-12-30T16:54:13.627512Z"
    }
   },
   "outputs": [],
   "source": [
    "dates = config[\"static_sample_dates\"]"
   ]
  },
  {
   "cell_type": "code",
   "execution_count": 6,
   "id": "e5611a6c",
   "metadata": {
    "execution": {
     "iopub.execute_input": "2021-12-30T16:54:13.633273Z",
     "iopub.status.busy": "2021-12-30T16:54:13.632897Z",
     "iopub.status.idle": "2021-12-30T16:54:13.634246Z",
     "shell.execute_reply": "2021-12-30T16:54:13.633874Z"
    }
   },
   "outputs": [],
   "source": [
    "def get_spacing(dates):\n",
    "    \"\"\" Use this to find the spacing of previous sampling methods \"\"\"\n",
    "    dates = pd.to_datetime(dates)\n",
    "    dates = pd.Series(dates).diff().value_counts()\n",
    "    return dates\n",
    "\n",
    "def get_sampling_dates(start, end, freq):\n",
    "    \"\"\" Get static sampling dates from start to end with period in between \"\"\"\n",
    "    start = pd.to_datetime(start)\n",
    "    end = pd.to_datetime(end).normalize()\n",
    "    \n",
    "    result = list(pd.date_range(start, end, freq=freq))\n",
    "    result = list(map(lambda d: str(d).split(\" \")[0], result))\n",
    "    return result\n",
    "\n",
    "def get_monitoring_dates(start, end=\"today\"):\n",
    "    \"\"\" We get monitoring dfs by looking at first day of every month \"\"\" \n",
    "    start = pd.to_datetime(start)\n",
    "    end = pd.to_datetime(end).normalize()\n",
    "    \n",
    "    # 365/28 about 13, so set 15 to include every month\n",
    "    dates = pd.date_range(start, end, freq=\"15D\")\n",
    "    dates = sorted(list(set(map(lambda d: d.replace(day=1), dates))))\n",
    "    dates = list(map(lambda d: str(d).split(\" \")[0], dates))\n",
    "    \n",
    "    return dates"
   ]
  },
  {
   "cell_type": "code",
   "execution_count": 7,
   "id": "3af27e6a",
   "metadata": {
    "execution": {
     "iopub.execute_input": "2021-12-30T16:54:13.639445Z",
     "iopub.status.busy": "2021-12-30T16:54:13.639036Z",
     "iopub.status.idle": "2021-12-30T16:54:13.640399Z",
     "shell.execute_reply": "2021-12-30T16:54:13.640705Z"
    }
   },
   "outputs": [
    {
     "data": {
      "text/plain": [
       "73 days     9\n",
       "31 days     3\n",
       "30 days     2\n",
       "182 days    1\n",
       "dtype: int64"
      ]
     },
     "execution_count": 1,
     "metadata": {},
     "output_type": "execute_result"
    }
   ],
   "source": [
    "dates = config[\"static_sample_dates\"]\n",
    "get_spacing(dates)"
   ]
  },
  {
   "cell_type": "code",
   "execution_count": 8,
   "id": "71ff9c14",
   "metadata": {
    "execution": {
     "iopub.execute_input": "2021-12-30T16:54:13.644817Z",
     "iopub.status.busy": "2021-12-30T16:54:13.644455Z",
     "iopub.status.idle": "2021-12-30T16:54:13.645852Z",
     "shell.execute_reply": "2021-12-30T16:54:13.645527Z"
    }
   },
   "outputs": [],
   "source": [
    "sample_dates = get_sampling_dates(\"2019-03-15\", date_sample_end, \"73D\")\n",
    "monitoring_dates = get_monitoring_dates(monitor_start_date, monitor_end_date)\n",
    "static_sample_dates = sorted(list(set(sample_dates + monitoring_dates)))"
   ]
  },
  {
   "cell_type": "code",
   "execution_count": 9,
   "id": "fbfdb59e",
   "metadata": {
    "execution": {
     "iopub.execute_input": "2021-12-30T16:54:13.649320Z",
     "iopub.status.busy": "2021-12-30T16:54:13.648898Z",
     "iopub.status.idle": "2021-12-30T16:54:13.650550Z",
     "shell.execute_reply": "2021-12-30T16:54:13.650218Z"
    }
   },
   "outputs": [
    {
     "data": {
      "text/plain": [
       "['2019-03-15',\n",
       " '2019-05-27',\n",
       " '2019-08-08',\n",
       " '2019-10-20',\n",
       " '2020-01-01',\n",
       " '2020-03-14',\n",
       " '2020-05-26',\n",
       " '2020-08-07',\n",
       " '2020-10-19',\n",
       " '2020-12-31']"
      ]
     },
     "execution_count": 1,
     "metadata": {},
     "output_type": "execute_result"
    }
   ],
   "source": [
    "sample_dates"
   ]
  },
  {
   "cell_type": "code",
   "execution_count": 10,
   "id": "ec2e4c1d",
   "metadata": {
    "execution": {
     "iopub.execute_input": "2021-12-30T16:54:13.653212Z",
     "iopub.status.busy": "2021-12-30T16:54:13.652810Z",
     "iopub.status.idle": "2021-12-30T16:54:13.654598Z",
     "shell.execute_reply": "2021-12-30T16:54:13.654259Z"
    }
   },
   "outputs": [
    {
     "data": {
      "text/plain": [
       "['2021-07-01',\n",
       " '2021-08-01',\n",
       " '2021-09-01',\n",
       " '2021-10-01',\n",
       " '2021-11-01',\n",
       " '2021-12-01']"
      ]
     },
     "execution_count": 1,
     "metadata": {},
     "output_type": "execute_result"
    }
   ],
   "source": [
    "# for monitoring , double check this \n",
    "monitoring_dates"
   ]
  },
  {
   "cell_type": "code",
   "execution_count": 11,
   "id": "a52ae03a",
   "metadata": {
    "execution": {
     "iopub.execute_input": "2021-12-30T16:54:13.657537Z",
     "iopub.status.busy": "2021-12-30T16:54:13.657162Z",
     "iopub.status.idle": "2021-12-30T16:54:13.658809Z",
     "shell.execute_reply": "2021-12-30T16:54:13.658475Z"
    }
   },
   "outputs": [
    {
     "data": {
      "text/plain": [
       "['2019-03-15',\n",
       " '2019-05-27',\n",
       " '2019-08-08',\n",
       " '2019-10-20',\n",
       " '2020-01-01',\n",
       " '2020-03-14',\n",
       " '2020-05-26',\n",
       " '2020-08-07',\n",
       " '2020-10-19',\n",
       " '2020-12-31',\n",
       " '2021-07-01',\n",
       " '2021-08-01',\n",
       " '2021-09-01',\n",
       " '2021-10-01',\n",
       " '2021-11-01',\n",
       " '2021-12-01']"
      ]
     },
     "execution_count": 1,
     "metadata": {},
     "output_type": "execute_result"
    }
   ],
   "source": [
    "static_sample_dates"
   ]
  },
  {
   "cell_type": "markdown",
   "id": "ed9fa719",
   "metadata": {},
   "source": [
    "### config[\"number_periods_in_sample\"]\n",
    "---\n",
    "during development we sampled about 15 records for dynamic sampling over one year worth of data.\n",
    "\n",
    "If we'd like to main the same ratio, config[\"number_periods_in_sample\"] needs to be scaled."
   ]
  },
  {
   "cell_type": "code",
   "execution_count": 12,
   "id": "669e327b",
   "metadata": {
    "execution": {
     "iopub.execute_input": "2021-12-30T16:54:13.661611Z",
     "iopub.status.busy": "2021-12-30T16:54:13.661232Z",
     "iopub.status.idle": "2021-12-30T16:54:13.662521Z",
     "shell.execute_reply": "2021-12-30T16:54:13.662848Z"
    }
   },
   "outputs": [],
   "source": [
    "def get_updated_number_periods_in_sample(start, end, n_start):\n",
    "    ndays = (pd.to_datetime(end) - pd.to_datetime(start)).days / 365 * n_start\n",
    "    return int(ndays)"
   ]
  },
  {
   "cell_type": "code",
   "execution_count": 13,
   "id": "f1be8bc8",
   "metadata": {
    "execution": {
     "iopub.execute_input": "2021-12-30T16:54:13.665712Z",
     "iopub.status.busy": "2021-12-30T16:54:13.665181Z",
     "iopub.status.idle": "2021-12-30T16:54:13.667573Z",
     "shell.execute_reply": "2021-12-30T16:54:13.667859Z"
    }
   },
   "outputs": [
    {
     "data": {
      "text/plain": [
       "'2019-01-16'"
      ]
     },
     "metadata": {},
     "output_type": "display_data"
    },
    {
     "data": {
      "text/plain": [
       "'2020-12-31'"
      ]
     },
     "metadata": {},
     "output_type": "display_data"
    }
   ],
   "source": [
    "display(date_sample_start, date_sample_end)\n",
    "\n",
    "\n",
    "n_start = 15\n",
    "ndays = get_updated_number_periods_in_sample(date_sample_start, date_sample_end, n_start)"
   ]
  },
  {
   "cell_type": "code",
   "execution_count": 14,
   "id": "b3f25325",
   "metadata": {
    "execution": {
     "iopub.execute_input": "2021-12-30T16:54:13.670545Z",
     "iopub.status.busy": "2021-12-30T16:54:13.670155Z",
     "iopub.status.idle": "2021-12-30T16:54:13.671484Z",
     "shell.execute_reply": "2021-12-30T16:54:13.671155Z"
    }
   },
   "outputs": [],
   "source": [
    "config[\"date_sample_end\"] = date_sample_end\n",
    "config[\"number_periods_in_sample\"] = ndays"
   ]
  },
  {
   "cell_type": "code",
   "execution_count": 15,
   "id": "f3276898",
   "metadata": {
    "execution": {
     "iopub.execute_input": "2021-12-30T16:54:13.674524Z",
     "iopub.status.busy": "2021-12-30T16:54:13.674133Z",
     "iopub.status.idle": "2021-12-30T16:54:13.675500Z",
     "shell.execute_reply": "2021-12-30T16:54:13.675117Z"
    }
   },
   "outputs": [],
   "source": [
    "# monitoring config file. Will be used in later nbs\n",
    "mconfig = {\"mmonth\": mmonth,\n",
    "           \"dev_df_path\": dev_df_path,\n",
    "           \"monitoring_dates\": monitoring_dates,\n",
    "           \"prod_data_dates\": prod_data_dates,\n",
    "           \"data_output_path\": data_output_path,\n",
    "           \"artifact_path\": artifact_path,\n",
    "           \"date_sample_start\": date_sample_start,\n",
    "           \"date_sample_end\": date_sample_end,\n",
    "           \"model_paths\": model_paths,\n",
    "           \"prev_test_df_path\": prev_test_df_path\n",
    "          }  \n"
   ]
  },
  {
   "cell_type": "code",
   "execution_count": 16,
   "id": "fa718c76",
   "metadata": {
    "execution": {
     "iopub.execute_input": "2021-12-30T16:54:13.678242Z",
     "iopub.status.busy": "2021-12-30T16:54:13.677851Z",
     "iopub.status.idle": "2021-12-30T16:54:13.678990Z",
     "shell.execute_reply": "2021-12-30T16:54:13.678660Z"
    }
   },
   "outputs": [],
   "source": [
    "config[\"monitoring_config\"] = mconfig"
   ]
  },
  {
   "cell_type": "markdown",
   "id": "9d84e52f",
   "metadata": {},
   "source": [
    "### Output to Config\n",
    "---\n",
    "\n",
    "Last check the important values"
   ]
  },
  {
   "cell_type": "code",
   "execution_count": 17,
   "id": "6959aa36",
   "metadata": {
    "execution": {
     "iopub.execute_input": "2021-12-30T16:54:13.682222Z",
     "iopub.status.busy": "2021-12-30T16:54:13.681844Z",
     "iopub.status.idle": "2021-12-30T16:54:13.685076Z",
     "shell.execute_reply": "2021-12-30T16:54:13.684763Z"
    }
   },
   "outputs": [
    {
     "name": "stdout",
     "output_type": "stream",
     "text": [
      "('static_sample_dates',\n",
      " ['2019-03-15',\n",
      "  '2019-05-27',\n",
      "  '2019-08-08',\n",
      "  '2019-10-20',\n",
      "  '2020-01-01',\n",
      "  '2020-03-14',\n",
      "  '2020-05-26',\n",
      "  '2020-08-07',\n",
      "  '2020-10-19',\n",
      "  '2020-12-31',\n",
      "  '2021-07-01',\n",
      "  '2021-08-01',\n",
      "  '2021-09-01',\n",
      "  '2021-10-01',\n",
      "  '2021-11-01',\n",
      "  '2021-12-01'])\n",
      "('date_sample_start', '2019-01-16')\n",
      "('date_sample_end', '2020-12-31')\n",
      "('number_periods_in_sample', 29)\n"
     ]
    }
   ],
   "source": [
    "from pprint import pprint\n",
    "for c in [\"static_sample_dates\", \"date_sample_start\", \"date_sample_end\", \"number_periods_in_sample\"]:\n",
    "    \n",
    "    pprint((c, config[c]))"
   ]
  },
  {
   "cell_type": "code",
   "execution_count": 18,
   "id": "8ec0280f",
   "metadata": {
    "execution": {
     "iopub.execute_input": "2021-12-30T16:54:13.687806Z",
     "iopub.status.busy": "2021-12-30T16:54:13.687443Z",
     "iopub.status.idle": "2021-12-30T16:54:13.691324Z",
     "shell.execute_reply": "2021-12-30T16:54:13.691633Z"
    }
   },
   "outputs": [],
   "source": [
    "# if sampling dates makes sense, output to config\n",
    "\n",
    "config[\"static_sample_dates\"] = static_sample_dates\n",
    "with open(\"../../config.json\", \"w\") as f:\n",
    "    json.dump(config, f, indent=4)"
   ]
  },
  {
   "cell_type": "markdown",
   "id": "ef665c38",
   "metadata": {},
   "source": [
    "### Install the following packages to get production data"
   ]
  },
  {
   "cell_type": "code",
   "execution_count": 19,
   "id": "6af7cf3b",
   "metadata": {
    "execution": {
     "iopub.execute_input": "2021-12-30T16:54:13.695483Z",
     "iopub.status.busy": "2021-12-30T16:54:13.695082Z",
     "iopub.status.idle": "2021-12-30T16:54:16.920220Z",
     "shell.execute_reply": "2021-12-30T16:54:16.920514Z"
    }
   },
   "outputs": [
    {
     "name": "stdout",
     "output_type": "stream",
     "text": [
      "Looking in indexes: https://build.sofi.com/artifactory/api/pypi/pypi/simple\r\n",
      "Requirement already satisfied: sofiproto==release-1703 in /home/ec2-user/anaconda3/lib/python3.7/site-packages (release-1703)\r\n",
      "Requirement already satisfied: protobuf>=3.8.0 in /home/ec2-user/anaconda3/lib/python3.7/site-packages (from sofiproto==release-1703) (3.15.2)\r\n",
      "Requirement already satisfied: six>=1.9 in /home/ec2-user/anaconda3/lib/python3.7/site-packages (from protobuf>=3.8.0->sofiproto==release-1703) (1.14.0)\r\n",
      "Requirement already satisfied: read_protobuf in /home/ec2-user/anaconda3/lib/python3.7/site-packages (0.1.1)\r\n",
      "Requirement already satisfied: pandas>=0.16 in /home/ec2-user/anaconda3/lib/python3.7/site-packages (from read_protobuf) (1.2.2)\r\n",
      "Requirement already satisfied: protobuf>=3.5 in /home/ec2-user/anaconda3/lib/python3.7/site-packages (from read_protobuf) (3.15.2)\r\n",
      "Requirement already satisfied: python-dateutil>=2.7.3 in /home/ec2-user/anaconda3/lib/python3.7/site-packages (from pandas>=0.16->read_protobuf) (2.8.1)\r\n",
      "Requirement already satisfied: pytz>=2017.3 in /home/ec2-user/anaconda3/lib/python3.7/site-packages (from pandas>=0.16->read_protobuf) (2021.1)\r\n",
      "Requirement already satisfied: numpy>=1.16.5 in /home/ec2-user/anaconda3/lib/python3.7/site-packages (from pandas>=0.16->read_protobuf) (1.19.2)\r\n",
      "Requirement already satisfied: six>=1.9 in /home/ec2-user/anaconda3/lib/python3.7/site-packages (from protobuf>=3.5->read_protobuf) (1.14.0)\r\n"
     ]
    }
   ],
   "source": [
    "!pip install --index-url https://build.sofi.com/artifactory/api/pypi/pypi/simple sofiproto==release-1703\n",
    "!pip install read_protobuf"
   ]
  },
  {
   "cell_type": "code",
   "execution_count": null,
   "id": "07e3977b",
   "metadata": {},
   "outputs": [],
   "source": []
  }
 ],
 "metadata": {
  "kernelspec": {
   "display_name": "conda_customer_risk",
   "language": "python",
   "name": "conda_customer_risk"
  },
  "language_info": {
   "codemirror_mode": {
    "name": "ipython",
    "version": 3
   },
   "file_extension": ".py",
   "mimetype": "text/x-python",
   "name": "python",
   "nbconvert_exporter": "python",
   "pygments_lexer": "ipython3",
   "version": "3.7.10"
  }
 },
 "nbformat": 4,
 "nbformat_minor": 5
}
