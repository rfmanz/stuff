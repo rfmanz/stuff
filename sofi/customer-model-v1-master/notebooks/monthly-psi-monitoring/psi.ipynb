{
 "cells": [
  {
   "cell_type": "markdown",
   "id": "232188e5",
   "metadata": {},
   "source": [
    "### Monthly PSI Monitoring\n",
    "---"
   ]
  },
  {
   "cell_type": "code",
   "execution_count": 1,
   "id": "803f527b",
   "metadata": {},
   "outputs": [],
   "source": [
    "import sys, os, json\n",
    "sys.path.insert(1, \"../../\")\n",
    "from src.combine import combine_data\n",
    "import pandas as pd\n",
    "import numpy as np\n",
    "from tqdm import tqdm\n",
    "import matplotlib.pyplot as plt\n",
    "from smart_open import open\n",
    "import pickle as pkl\n",
    "import datetime as dt\n",
    "\n",
    "import src.monitoring.refit as refit\n",
    "import src.monitoring.monitoring as mntr\n",
    "import src.monitoring.utils as mu\n",
    "\n",
    "%matplotlib inline\n",
    "plt.style.use('seaborn')\n",
    "\n",
    "%load_ext autoreload\n",
    "%autoreload 2\n",
    "\n",
    "import warnings\n",
    "warnings.filterwarnings(\"ignore\")"
   ]
  },
  {
   "cell_type": "code",
   "execution_count": 28,
   "id": "571aa1b3",
   "metadata": {},
   "outputs": [],
   "source": [
    "# modify this whenever we modify the model\n",
    "prod_df_path_prev = \"s3://sofi-data-science/jxu/monitoring/customer-risk-v1/2021-09/prev_test_df.parquet\"\n",
    "model_path = \"s3://sofi-data-science/jxu/money-risk-models/customer-risk-model/models/customer_risk_target_no_giact_time_since_last_link.pkl\""
   ]
  },
  {
   "cell_type": "code",
   "execution_count": 20,
   "id": "3bd88cd5",
   "metadata": {},
   "outputs": [],
   "source": [
    "today_str = str(dt.date.today())\n",
    "YYYYMM = \"-\".join(today_str.split(\"-\")[:2])\n",
    "output_dir = f\"s3://sofi-data-science/jxu/monitoring/customer-risk-v1/{YYYYMM}\"\n",
    "prod_df_path = os.path.join(output_dir, f\"prod-data-{today_str}.parquet\")"
   ]
  },
  {
   "cell_type": "markdown",
   "id": "83d5cccf",
   "metadata": {},
   "source": [
    "#### load previous data"
   ]
  },
  {
   "cell_type": "code",
   "execution_count": 22,
   "id": "cec410d6",
   "metadata": {},
   "outputs": [],
   "source": [
    "prod_df_prev = pd.read_parquet(prod_df_path_prev)"
   ]
  },
  {
   "cell_type": "code",
   "execution_count": 25,
   "id": "4558353d",
   "metadata": {},
   "outputs": [
    {
     "name": "stdout",
     "output_type": "stream",
     "text": [
      "2020-01-01    167293\n",
      "Name: sample_date, dtype: int64\n"
     ]
    },
    {
     "data": {
      "image/png": "[encoded data removed]",
      "text/plain": [
       "<Figure size 576x396 with 1 Axes>"
      ]
     },
     "metadata": {},
     "output_type": "display_data"
    }
   ],
   "source": [
    "prod_df_prev.sample_date.hist()\n",
    "print(prod_df_prev.sample_date.value_counts())"
   ]
  },
  {
   "cell_type": "markdown",
   "id": "6adcc023",
   "metadata": {},
   "source": [
    "#### load current data"
   ]
  },
  {
   "cell_type": "code",
   "execution_count": 4,
   "id": "378f8829",
   "metadata": {},
   "outputs": [
    {
     "name": "stdout",
     "output_type": "stream",
     "text": [
      "Looking in indexes: https://build.sofi.com/artifactory/api/pypi/pypi/simple\n",
      "Requirement already satisfied: sofiproto==release-1703 in /home/ec2-user/anaconda3/envs/customer_risk/lib/python3.7/site-packages (release-1703)\n",
      "Requirement already satisfied: protobuf>=3.8.0 in /home/ec2-user/anaconda3/envs/customer_risk/lib/python3.7/site-packages (from sofiproto==release-1703) (3.18.1)\n",
      "Requirement already satisfied: read_protobuf in /home/ec2-user/anaconda3/envs/customer_risk/lib/python3.7/site-packages (0.1.1)\n",
      "Requirement already satisfied: pandas>=0.16 in /home/ec2-user/anaconda3/envs/customer_risk/lib/python3.7/site-packages (from read_protobuf) (1.3.4)\n",
      "Requirement already satisfied: protobuf>=3.5 in /home/ec2-user/anaconda3/envs/customer_risk/lib/python3.7/site-packages (from read_protobuf) (3.18.1)\n",
      "Requirement already satisfied: numpy>=1.17.3 in /home/ec2-user/anaconda3/envs/customer_risk/lib/python3.7/site-packages (from pandas>=0.16->read_protobuf) (1.21.2)\n",
      "Requirement already satisfied: python-dateutil>=2.7.3 in /home/ec2-user/anaconda3/envs/customer_risk/lib/python3.7/site-packages (from pandas>=0.16->read_protobuf) (2.8.2)\n",
      "Requirement already satisfied: pytz>=2017.3 in /home/ec2-user/anaconda3/envs/customer_risk/lib/python3.7/site-packages (from pandas>=0.16->read_protobuf) (2021.3)\n",
      "Requirement already satisfied: six>=1.5 in /home/ec2-user/anaconda3/envs/customer_risk/lib/python3.7/site-packages (from python-dateutil>=2.7.3->pandas>=0.16->read_protobuf) (1.16.0)\n"
     ]
    }
   ],
   "source": [
    "!pip install --index-url https://build.sofi.com/artifactory/api/pypi/pypi/simple sofiproto==release-1703\n",
    "!pip install read_protobuf"
   ]
  },
  {
   "cell_type": "markdown",
   "id": "68d7bdd3",
   "metadata": {},
   "source": [
    "#### Load Prev Prod data from S3"
   ]
  },
  {
   "cell_type": "markdown",
   "id": "0e26ad14",
   "metadata": {},
   "source": [
    "#### Query Current Prod Data"
   ]
  },
  {
   "cell_type": "code",
   "execution_count": 26,
   "id": "b1902f3b",
   "metadata": {},
   "outputs": [
    {
     "name": "stdout",
     "output_type": "stream",
     "text": [
      "querying money user data...\n",
      "some data processing...\n"
     ]
    }
   ],
   "source": [
    "sys.path.insert(1, \"../..\")\n",
    "from src.monitoring.download_customer_prod import download_customer_prod_data\n",
    "\n",
    "download_customer_prod_data(prod_df_path)"
   ]
  },
  {
   "cell_type": "code",
   "execution_count": 27,
   "id": "241e38c6",
   "metadata": {},
   "outputs": [],
   "source": [
    "prod_df = pd.read_parquet(prod_df_path)"
   ]
  },
  {
   "cell_type": "code",
   "execution_count": null,
   "id": "1a9dcea1",
   "metadata": {},
   "outputs": [],
   "source": [
    "# process prod df, and jog down some stats to make sure things are correct\n"
   ]
  },
  {
   "cell_type": "markdown",
   "id": "e4651bf8",
   "metadata": {},
   "source": [
    "#### preprocess and generate model score"
   ]
  },
  {
   "cell_type": "code",
   "execution_count": 30,
   "id": "ffc83b19",
   "metadata": {},
   "outputs": [],
   "source": [
    "with open(model_path, \"rb\") as f:\n",
    "    customer_model = pkl.load(f)"
   ]
  },
  {
   "cell_type": "code",
   "execution_count": 3,
   "id": "0e62770e",
   "metadata": {},
   "outputs": [
    {
     "name": "stdout",
     "output_type": "stream",
     "text": [
      "Found existing installation: numpy 1.19.0\n",
      "Uninstalling numpy-1.19.0:\n",
      "  Successfully uninstalled numpy-1.19.0\n",
      "Collecting numpy==1.20.0\n",
      "  Downloading numpy-1.20.0-cp37-cp37m-manylinux2010_x86_64.whl (15.3 MB)\n",
      "     |████████████████████████████████| 15.3 MB 3.1 MB/s            \n",
      "\u001b[?25hInstalling collected packages: numpy\n",
      "Successfully installed numpy-1.20.0\n"
     ]
    }
   ],
   "source": [
    "!pip uninstall numpy -y\n",
    "!pip install numpy==1.20.0 --no-cache-dir"
   ]
  },
  {
   "cell_type": "code",
   "execution_count": null,
   "id": "69fc08d5",
   "metadata": {},
   "outputs": [],
   "source": []
  },
  {
   "cell_type": "code",
   "execution_count": null,
   "id": "9f533469",
   "metadata": {},
   "outputs": [],
   "source": []
  },
  {
   "cell_type": "markdown",
   "id": "0d9eb85a",
   "metadata": {},
   "source": [
    "#### save to s3"
   ]
  },
  {
   "cell_type": "code",
   "execution_count": null,
   "id": "91683a0b",
   "metadata": {},
   "outputs": [],
   "source": [
    "prod_df_prev.to_parquet(os.path.join(output_dir, f\"prev_test_df.parquet\"))\n",
    "prod_df.to_parquet(prod_df_path)"
   ]
  }
 ],
 "metadata": {
  "kernelspec": {
   "display_name": "conda_customer_risk",
   "language": "python",
   "name": "conda_customer_risk"
  },
  "language_info": {
   "codemirror_mode": {
    "name": "ipython",
    "version": 3
   },
   "file_extension": ".py",
   "mimetype": "text/x-python",
   "name": "python",
   "nbconvert_exporter": "python",
   "pygments_lexer": "ipython3",
   "version": "3.7.10"
  }
 },
 "nbformat": 4,
 "nbformat_minor": 5
}
