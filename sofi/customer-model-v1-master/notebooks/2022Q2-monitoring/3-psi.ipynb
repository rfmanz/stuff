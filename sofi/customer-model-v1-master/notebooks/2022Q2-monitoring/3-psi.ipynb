{
 "cells": [
  {
   "cell_type": "markdown",
   "id": "5d3687c9",
   "metadata": {},
   "source": [
    "### Measure PSI with current prod data and past dev\n",
    "---"
   ]
  },
  {
   "cell_type": "code",
   "execution_count": null,
   "id": "c35f00a6",
   "metadata": {
    "execution": {
     "iopub.execute_input": "2021-09-30T22:43:42.291807Z",
     "iopub.status.busy": "2021-09-30T22:43:42.291323Z",
     "iopub.status.idle": "2021-09-30T22:43:43.627944Z",
     "shell.execute_reply": "2021-09-30T22:43:43.627484Z"
    }
   },
   "outputs": [],
   "source": [
    "import sys, os, json\n",
    "sys.path.insert(1, \"../../\")\n",
    "from src.combine import combine_data\n",
    "import pandas as pd\n",
    "import numpy as np\n",
    "from tqdm import tqdm\n",
    "import matplotlib.pyplot as plt\n",
    "from collections import OrderedDict\n",
    "import src.monitoring.refit as refit\n",
    "import src.monitoring.governance as gvrn\n",
    "import src.monitoring.monitoring as mntr\n",
    "import src.monitoring.utils as mu\n",
    "from smart_open import open\n",
    "import pickle as pkl\n",
    "\n",
    "%matplotlib inline\n",
    "plt.style.use('seaborn')\n",
    "\n",
    "%load_ext autoreload\n",
    "%autoreload 2\n",
    "\n",
    "import warnings\n",
    "warnings.filterwarnings(\"ignore\")"
   ]
  },
  {
   "cell_type": "code",
   "execution_count": 2,
   "id": "d78d3727",
   "metadata": {
    "execution": {
     "iopub.execute_input": "2021-09-30T22:43:43.631340Z",
     "iopub.status.busy": "2021-09-30T22:43:43.630936Z",
     "iopub.status.idle": "2021-09-30T22:43:43.647747Z",
     "shell.execute_reply": "2021-09-30T22:43:43.648028Z"
    }
   },
   "outputs": [
    {
     "name": "stdout",
     "output_type": "stream",
     "text": [
      "dict_keys(['mmonth', 'dev_df_path', 'monitoring_dates', 'prod_data_dates', 'data_output_path', 'artifact_path', 'date_sample_start', 'date_sample_end', 'model_paths', 'prev_test_df_path', 'modeling_df_path', 'test_df_path', 'prod_dfs_path'])\n"
     ]
    }
   ],
   "source": [
    "# load config and set local variables with config[\"mconfig\"]\n",
    "with open(\"../../config.json\", \"r\") as f:\n",
    "    config = json.load(f)\n",
    "    \n",
    "mconfig = config[\"monitoring_config\"]\n",
    "locals().update(mconfig)   # this would set k-v pairs in mconfig as local variables\n",
    "print(mconfig.keys())"
   ]
  },
  {
   "cell_type": "code",
   "execution_count": null,
   "id": "55df57ed",
   "metadata": {
    "execution": {
     "iopub.execute_input": "2021-09-30T22:43:43.651197Z",
     "iopub.status.busy": "2021-09-30T22:43:43.650810Z",
     "iopub.status.idle": "2021-09-30T22:43:58.191625Z",
     "shell.execute_reply": "2021-09-30T22:43:58.191975Z"
    }
   },
   "outputs": [],
   "source": [
    "# load data\n",
    "\n",
    "prev_df = pd.read_parquet(prev_test_df_path)\n",
    "prev_df = mu.preprocess(prev_df)\n",
    "prev_date = str(prev_df.sample_date.min()).split(\" \")[0]\n",
    "\n",
    "assert(len(prod_dfs_path)) == 1\n",
    "for cur_date, pdf_path in prod_dfs_path.items():\n",
    "    prod_df = pd.read_parquet(pdf_path)"
   ]
  },
  {
   "cell_type": "code",
   "execution_count": null,
   "id": "9e6a80cf",
   "metadata": {
    "execution": {
     "iopub.execute_input": "2021-09-30T22:43:58.195855Z",
     "iopub.status.busy": "2021-09-30T22:43:58.195466Z",
     "iopub.status.idle": "2021-09-30T22:43:58.957272Z",
     "shell.execute_reply": "2021-09-30T22:43:58.957784Z"
    }
   },
   "outputs": [],
   "source": [
    "# load models\n",
    "models = {}\n",
    "for mname, mpath in model_paths.items():\n",
    "    with open(mpath, \"rb\") as f:\n",
    "        models[mname] = pkl.load(f)"
   ]
  },
  {
   "cell_type": "code",
   "execution_count": null,
   "id": "944b856f",
   "metadata": {
    "execution": {
     "iopub.execute_input": "2021-09-30T22:43:58.960416Z",
     "iopub.status.busy": "2021-09-30T22:43:58.959861Z",
     "iopub.status.idle": "2021-09-30T22:44:00.965854Z",
     "shell.execute_reply": "2021-09-30T22:44:00.965459Z"
    }
   },
   "outputs": [],
   "source": [
    "# get all the snapshots\n",
    "for mname, model in models.items(): \n",
    "    # set folder:\n",
    "    mntr_path = os.path.join(artifact_path, \"psi\", f\"psi_{mname}_{prev_date}-{cur_date}\")\n",
    "    os.makedirs(mntr_path, exist_ok=True)\n",
    "\n",
    "\n",
    "    prev_df[\"model_pred\"] = model.predict_proba(prev_df[model.feature_name_])[:,1]\n",
    "    prev_df[\"model_score\"] = mu.scale_scores(prev_df[\"model_pred\"])\n",
    "\n",
    "    # save plot\n",
    "    fig = plt.figure()\n",
    "    prod_df.model_score.hist(bins=10, alpha=0.4, density=True, label=\"production\")\n",
    "    prev_df.model_score.hist(bins=10, alpha=0.4, density=True, label=\"development\")\n",
    "    plt.legend()\n",
    "    plt.show()\n",
    "    fig.savefig(os.path.join(mntr_path, \"score_psi.png\"))\n",
    "    \n",
    "    # save psi df\n",
    "    psi_df = mntr.get_psi(prev_df.model_score.to_frame(), \n",
    "                          prod_df.model_score.to_frame()).round(5)\n",
    "    psi_df.to_csv(os.path.join(mntr_path, f\"psi.csv\"), index=False)\n",
    "    display(psi_df)"
   ]
  },
  {
   "cell_type": "markdown",
   "id": "5a3c838b",
   "metadata": {},
   "source": [
    "### Monthly PSI\n",
    "---"
   ]
  },
  {
   "cell_type": "code",
   "execution_count": 29,
   "id": "f5fe40d3",
   "metadata": {
    "execution": {
     "iopub.execute_input": "2021-09-30T22:43:42.291807Z",
     "iopub.status.busy": "2021-09-30T22:43:42.291323Z",
     "iopub.status.idle": "2021-09-30T22:43:43.627944Z",
     "shell.execute_reply": "2021-09-30T22:43:43.627484Z"
    }
   },
   "outputs": [
    {
     "name": "stdout",
     "output_type": "stream",
     "text": [
      "The autoreload extension is already loaded. To reload it, use:\n",
      "  %reload_ext autoreload\n"
     ]
    }
   ],
   "source": [
    "import sys, os, json\n",
    "sys.path.insert(1, \"../../\")\n",
    "from src.combine import combine_data\n",
    "import pandas as pd\n",
    "import numpy as np\n",
    "from tqdm import tqdm\n",
    "import matplotlib.pyplot as plt\n",
    "from collections import OrderedDict\n",
    "import src.monitoring.refit as refit\n",
    "import src.monitoring.governance as gvrn\n",
    "import src.monitoring.monitoring as mntr\n",
    "import src.monitoring.utils as mu\n",
    "from smart_open import open\n",
    "import pickle as pkl\n",
    "\n",
    "%matplotlib inline\n",
    "plt.style.use('seaborn')\n",
    "\n",
    "%load_ext autoreload\n",
    "%autoreload 2\n",
    "\n",
    "import warnings\n",
    "warnings.filterwarnings(\"ignore\")"
   ]
  },
  {
   "cell_type": "code",
   "execution_count": 30,
   "id": "13ce00b8",
   "metadata": {
    "execution": {
     "iopub.execute_input": "2021-09-30T22:43:43.631340Z",
     "iopub.status.busy": "2021-09-30T22:43:43.630936Z",
     "iopub.status.idle": "2021-09-30T22:43:43.647747Z",
     "shell.execute_reply": "2021-09-30T22:43:43.648028Z"
    }
   },
   "outputs": [
    {
     "name": "stdout",
     "output_type": "stream",
     "text": [
      "dict_keys(['mmonth', 'dev_df_path', 'monitoring_dates', 'prod_data_dates', 'data_output_path', 'artifact_path', 'date_sample_start', 'date_sample_end', 'model_paths', 'prev_test_df_path', 'modeling_df_path', 'test_df_path', 'prod_dfs_path'])\n"
     ]
    }
   ],
   "source": [
    "# load config and set local variables with config[\"mconfig\"]\n",
    "with open(\"../../config.json\", \"r\") as f:\n",
    "    config = json.load(f)\n",
    "    \n",
    "mconfig = config[\"monitoring_config\"]\n",
    "locals().update(mconfig)   # this would set k-v pairs in mconfig as local variables\n",
    "print(mconfig.keys())"
   ]
  },
  {
   "cell_type": "code",
   "execution_count": 31,
   "id": "109843dc",
   "metadata": {
    "execution": {
     "iopub.execute_input": "2021-09-30T22:43:43.651197Z",
     "iopub.status.busy": "2021-09-30T22:43:43.650810Z",
     "iopub.status.idle": "2021-09-30T22:43:58.191625Z",
     "shell.execute_reply": "2021-09-30T22:43:58.191975Z"
    }
   },
   "outputs": [],
   "source": [
    "# load data\n",
    "\n",
    "prev_df = pd.read_parquet(prev_test_df_path)\n",
    "prev_df = mu.preprocess(prev_df)\n",
    "prev_date = str(prev_df.sample_date.min()).split(\" \")[0]\n",
    "\n",
    "assert(len(prod_dfs_path)) == 1\n",
    "for cur_date, pdf_path in prod_dfs_path.items():\n",
    "    prod_df = pd.read_parquet(pdf_path)"
   ]
  },
  {
   "cell_type": "code",
   "execution_count": 32,
   "id": "ac6becd6",
   "metadata": {
    "execution": {
     "iopub.execute_input": "2021-09-30T22:43:58.195855Z",
     "iopub.status.busy": "2021-09-30T22:43:58.195466Z",
     "iopub.status.idle": "2021-09-30T22:43:58.957272Z",
     "shell.execute_reply": "2021-09-30T22:43:58.957784Z"
    }
   },
   "outputs": [],
   "source": [
    "# load models\n",
    "models = {}\n",
    "for mname, mpath in model_paths.items():\n",
    "    with open(mpath, \"rb\") as f:\n",
    "        models[mname] = pkl.load(f)"
   ]
  },
  {
   "cell_type": "code",
   "execution_count": 33,
   "id": "ab5a12a8",
   "metadata": {},
   "outputs": [],
   "source": [
    "# read data\n",
    "df = pd.read_parquet(test_df_path)"
   ]
  },
  {
   "cell_type": "code",
   "execution_count": 34,
   "id": "42faf5af",
   "metadata": {},
   "outputs": [
    {
     "data": {
      "text/plain": [
       "array(['2020-01-01T00:00:00.000000000'], dtype='datetime64[ns]')"
      ]
     },
     "execution_count": 34,
     "metadata": {},
     "output_type": "execute_result"
    }
   ],
   "source": [
    "prev_df.sample_date.unique()"
   ]
  },
  {
   "cell_type": "code",
   "execution_count": 35,
   "id": "7340230e",
   "metadata": {},
   "outputs": [
    {
     "name": "stderr",
     "output_type": "stream",
     "text": [
      "  0%|          | 0/6 [00:05<?, ?it/s]\n"
     ]
    },
    {
     "ename": "AttributeError",
     "evalue": "'DataFrame' object has no attribute 'model_score'",
     "output_type": "error",
     "traceback": [
      "\u001b[0;31m---------------------------------------------------------------------------\u001b[0m",
      "\u001b[0;31mAttributeError\u001b[0m                            Traceback (most recent call last)",
      "\u001b[0;32m/tmp/ipykernel_82947/102411957.py\u001b[0m in \u001b[0;36m<module>\u001b[0;34m\u001b[0m\n\u001b[1;32m     23\u001b[0m         \u001b[0;31m# plotting\u001b[0m\u001b[0;34m\u001b[0m\u001b[0;34m\u001b[0m\u001b[0;34m\u001b[0m\u001b[0m\n\u001b[1;32m     24\u001b[0m         \u001b[0mdf_\u001b[0m\u001b[0;34m.\u001b[0m\u001b[0mmodel_score\u001b[0m\u001b[0;34m.\u001b[0m\u001b[0mhist\u001b[0m\u001b[0;34m(\u001b[0m\u001b[0mbins\u001b[0m\u001b[0;34m=\u001b[0m\u001b[0;36m10\u001b[0m\u001b[0;34m,\u001b[0m \u001b[0malpha\u001b[0m\u001b[0;34m=\u001b[0m\u001b[0;36m0.4\u001b[0m\u001b[0;34m,\u001b[0m \u001b[0mdensity\u001b[0m\u001b[0;34m=\u001b[0m\u001b[0;32mTrue\u001b[0m\u001b[0;34m,\u001b[0m \u001b[0mlabel\u001b[0m\u001b[0;34m=\u001b[0m\u001b[0mdt_str\u001b[0m\u001b[0;34m)\u001b[0m\u001b[0;34m\u001b[0m\u001b[0;34m\u001b[0m\u001b[0m\n\u001b[0;32m---> 25\u001b[0;31m         \u001b[0mprev_df\u001b[0m\u001b[0;34m.\u001b[0m\u001b[0mmodel_score\u001b[0m\u001b[0;34m.\u001b[0m\u001b[0mhist\u001b[0m\u001b[0;34m(\u001b[0m\u001b[0mbins\u001b[0m\u001b[0;34m=\u001b[0m\u001b[0;36m10\u001b[0m\u001b[0;34m,\u001b[0m \u001b[0malpha\u001b[0m\u001b[0;34m=\u001b[0m\u001b[0;36m0.4\u001b[0m\u001b[0;34m,\u001b[0m \u001b[0mdensity\u001b[0m\u001b[0;34m=\u001b[0m\u001b[0;32mTrue\u001b[0m\u001b[0;34m,\u001b[0m \u001b[0mlabel\u001b[0m\u001b[0;34m=\u001b[0m\u001b[0;34m\"development\"\u001b[0m\u001b[0;34m)\u001b[0m\u001b[0;34m\u001b[0m\u001b[0;34m\u001b[0m\u001b[0m\n\u001b[0m\u001b[1;32m     26\u001b[0m \u001b[0;34m\u001b[0m\u001b[0m\n\u001b[1;32m     27\u001b[0m         \u001b[0mplt\u001b[0m\u001b[0;34m.\u001b[0m\u001b[0mlegend\u001b[0m\u001b[0;34m(\u001b[0m\u001b[0;34m)\u001b[0m\u001b[0;34m\u001b[0m\u001b[0;34m\u001b[0m\u001b[0m\n",
      "\u001b[0;32m~/anaconda3/envs/customer_risk/lib/python3.7/site-packages/pandas/core/generic.py\u001b[0m in \u001b[0;36m__getattr__\u001b[0;34m(self, name)\u001b[0m\n\u001b[1;32m   5485\u001b[0m         ):\n\u001b[1;32m   5486\u001b[0m             \u001b[0;32mreturn\u001b[0m \u001b[0mself\u001b[0m\u001b[0;34m[\u001b[0m\u001b[0mname\u001b[0m\u001b[0;34m]\u001b[0m\u001b[0;34m\u001b[0m\u001b[0;34m\u001b[0m\u001b[0m\n\u001b[0;32m-> 5487\u001b[0;31m         \u001b[0;32mreturn\u001b[0m \u001b[0mobject\u001b[0m\u001b[0;34m.\u001b[0m\u001b[0m__getattribute__\u001b[0m\u001b[0;34m(\u001b[0m\u001b[0mself\u001b[0m\u001b[0;34m,\u001b[0m \u001b[0mname\u001b[0m\u001b[0;34m)\u001b[0m\u001b[0;34m\u001b[0m\u001b[0;34m\u001b[0m\u001b[0m\n\u001b[0m\u001b[1;32m   5488\u001b[0m \u001b[0;34m\u001b[0m\u001b[0m\n\u001b[1;32m   5489\u001b[0m     \u001b[0;32mdef\u001b[0m \u001b[0m__setattr__\u001b[0m\u001b[0;34m(\u001b[0m\u001b[0mself\u001b[0m\u001b[0;34m,\u001b[0m \u001b[0mname\u001b[0m\u001b[0;34m:\u001b[0m \u001b[0mstr\u001b[0m\u001b[0;34m,\u001b[0m \u001b[0mvalue\u001b[0m\u001b[0;34m)\u001b[0m \u001b[0;34m->\u001b[0m \u001b[0;32mNone\u001b[0m\u001b[0;34m:\u001b[0m\u001b[0;34m\u001b[0m\u001b[0;34m\u001b[0m\u001b[0m\n",
      "\u001b[0;31mAttributeError\u001b[0m: 'DataFrame' object has no attribute 'model_score'"
     ]
    },
    {
     "data": {
      "image/png": "[encoded data removed]",
      "text/plain": [
       "<Figure size 576x396 with 1 Axes>"
      ]
     },
     "metadata": {},
     "output_type": "display_data"
    }
   ],
   "source": [
    "# get all the snapshots\n",
    "for dt_str in tqdm(monitoring_dates):\n",
    "    for mname, model in models.items(): \n",
    "\n",
    "        if mname != \"incumbent_model\":\n",
    "            continue\n",
    "        \n",
    "        dt = pd.to_datetime(dt_str)\n",
    "\n",
    "        # set folder:\n",
    "        mntr_path = os.path.join(artifact_path, \"psi\", f\"psi_{mname}_{prev_date}-{dt_str}\")\n",
    "        os.makedirs(mntr_path, exist_ok=True)\n",
    "        \n",
    "        # get data on that date\n",
    "        df_ = df[df.is_static \n",
    "                 & (df.sample_date == dt)]\n",
    "        \n",
    "        # preprocess data and get scores\n",
    "        df_ = mu.prep_customer_data(df_)  # add is_active flag here\n",
    "        df_[\"model_pred\"] = model.predict_proba(df_[model.feature_name_])[:,1]\n",
    "        df_[\"model_score\"] = mu.scale_scores(df_[\"model_pred\"])\n",
    "        \n",
    "        # plotting \n",
    "        df_.model_score.hist(bins=10, alpha=0.4, density=True, label=dt_str)\n",
    "        prev_df.model_score.hist(bins=10, alpha=0.4, density=True, label=\"development\")\n",
    "        \n",
    "        plt.legend()\n",
    "        plt.show()\n",
    "        fig.savefig(os.path.join(mntr_path, \"score_psi.png\"))\n",
    "        \n",
    "        # save psi df\n",
    "        psi_df = mntr.get_psi(prev_df.model_score.to_frame(), \n",
    "                              df_.model_score.to_frame()).round(5)\n",
    "        psi_df.to_csv(os.path.join(mntr_path, f\"psi.csv\"), index=False)\n",
    "        display(psi_df)"
   ]
  },
  {
   "cell_type": "code",
   "execution_count": null,
   "id": "e7617333",
   "metadata": {},
   "outputs": [],
   "source": []
  },
  {
   "cell_type": "markdown",
   "id": "6bbb089b",
   "metadata": {},
   "source": [
    "### Additional Analysis, if required"
   ]
  },
  {
   "cell_type": "code",
   "execution_count": null,
   "id": "3b65834e",
   "metadata": {
    "execution": {
     "iopub.execute_input": "2021-09-30T22:44:00.972795Z",
     "iopub.status.busy": "2021-09-30T22:44:00.972354Z",
     "iopub.status.idle": "2021-09-30T22:44:39.885901Z",
     "shell.execute_reply": "2021-09-30T22:44:39.885414Z"
    }
   },
   "outputs": [],
   "source": [
    "prev_df = pd.read_parquet(test_df_path)\n",
    "prev_df = mu.preprocess(prev_df)\n",
    "prev_date = \"2021-01-01\"\n",
    "\n",
    "assert(len(prod_dfs_path)) == 1\n",
    "for cur_date, pdf_path in prod_dfs_path.items():\n",
    "    prod_df = pd.read_parquet(pdf_path)"
   ]
  },
  {
   "cell_type": "code",
   "execution_count": null,
   "id": "f5d568c8",
   "metadata": {
    "execution": {
     "iopub.execute_input": "2021-09-30T22:44:39.889530Z",
     "iopub.status.busy": "2021-09-30T22:44:39.889128Z",
     "iopub.status.idle": "2021-09-30T22:44:39.910452Z",
     "shell.execute_reply": "2021-09-30T22:44:39.910110Z"
    }
   },
   "outputs": [],
   "source": [
    "prev_df.shape"
   ]
  },
  {
   "cell_type": "code",
   "execution_count": null,
   "id": "565dd090",
   "metadata": {
    "execution": {
     "iopub.execute_input": "2021-09-30T22:44:39.913755Z",
     "iopub.status.busy": "2021-09-30T22:44:39.913337Z",
     "iopub.status.idle": "2021-09-30T22:44:40.482855Z",
     "shell.execute_reply": "2021-09-30T22:44:40.483978Z"
    }
   },
   "outputs": [],
   "source": [
    "# load models\n",
    "models = {}\n",
    "for mname, mpath in model_paths.items():\n",
    "    with open(mpath, \"rb\") as f:\n",
    "        models[mname] = pkl.load(f)"
   ]
  },
  {
   "cell_type": "code",
   "execution_count": null,
   "id": "b50a6c2a",
   "metadata": {
    "execution": {
     "iopub.execute_input": "2021-09-30T22:44:40.519246Z",
     "iopub.status.busy": "2021-09-30T22:44:40.518477Z",
     "iopub.status.idle": "2021-09-30T22:44:40.545215Z",
     "shell.execute_reply": "2021-09-30T22:44:40.546073Z"
    }
   },
   "outputs": [],
   "source": [
    "del models[\"incumbent_model\"]  # we only want to look at customer_refitted_2021Q1 here"
   ]
  },
  {
   "cell_type": "code",
   "execution_count": null,
   "id": "43786fc1",
   "metadata": {
    "execution": {
     "iopub.execute_input": "2021-09-30T22:44:40.549815Z",
     "iopub.status.busy": "2021-09-30T22:44:40.548852Z",
     "iopub.status.idle": "2021-09-30T22:44:57.490667Z",
     "shell.execute_reply": "2021-09-30T22:44:57.491009Z"
    }
   },
   "outputs": [],
   "source": [
    "mntr_path = os.path.join(artifact_path, \"psi\", f\"psi_{mname}_{prev_date}-{cur_date}\")\n",
    "os.makedirs(mntr_path, exist_ok=True)\n",
    "\n",
    "\n",
    "prev_df[\"model_pred\"] = model.predict_proba(prev_df[model.feature_name_])[:,1]\n",
    "prev_df[\"model_score\"] = mu.scale_scores(prev_df[\"model_pred\"])\n",
    "\n",
    "# save plot\n",
    "fig = plt.figure()\n",
    "prod_df.model_score.hist(bins=10, alpha=0.4, density=True, label=\"production\")\n",
    "prev_df.model_score.hist(bins=10, alpha=0.4, density=True, label=\"development\")\n",
    "plt.legend()\n",
    "plt.show()\n",
    "fig.savefig(os.path.join(mntr_path, \"score_psi.png\"))\n",
    "\n",
    "# save psi df\n",
    "psi_df = mntr.get_psi(prev_df.model_score.to_frame(), \n",
    "                      prod_df.model_score.to_frame()).round(5)\n",
    "psi_df.to_csv(os.path.join(mntr_path, f\"psi.csv\"), index=False)\n",
    "psi_df"
   ]
  },
  {
   "cell_type": "code",
   "execution_count": null,
   "id": "d29283ec",
   "metadata": {},
   "outputs": [],
   "source": []
  },
  {
   "cell_type": "code",
   "execution_count": null,
   "id": "9328487e",
   "metadata": {},
   "outputs": [],
   "source": []
  }
 ],
 "metadata": {
  "kernelspec": {
   "display_name": "conda_customer_risk",
   "language": "python",
   "name": "conda_customer_risk"
  },
  "language_info": {
   "codemirror_mode": {
    "name": "ipython",
    "version": 3
   },
   "file_extension": ".py",
   "mimetype": "text/x-python",
   "name": "python",
   "nbconvert_exporter": "python",
   "pygments_lexer": "ipython3",
   "version": "3.7.12"
  }
 },
 "nbformat": 4,
 "nbformat_minor": 5
}
