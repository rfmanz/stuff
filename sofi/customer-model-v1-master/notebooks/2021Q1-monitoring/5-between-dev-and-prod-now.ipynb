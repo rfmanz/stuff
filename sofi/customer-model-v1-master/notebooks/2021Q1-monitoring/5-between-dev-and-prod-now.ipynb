{
 "cells": [
  {
   "cell_type": "markdown",
   "id": "intimate-armor",
   "metadata": {},
   "source": [
    "### Alignment b/w Prod and Dev on 2/19/2021\n",
    "---"
   ]
  },
  {
   "cell_type": "code",
   "execution_count": 1,
   "id": "interstate-forestry",
   "metadata": {},
   "outputs": [],
   "source": [
    "import sys, os, json\n",
    "sys.path.insert(1, \"../../\")\n",
    "from src.combine import combine_data\n",
    "import pandas as pd\n",
    "import numpy as np\n",
    "from tqdm import tqdm\n",
    "import matplotlib.pyplot as plt\n",
    "from collections import OrderedDict\n",
    "import src.monitoring.refit as refit\n",
    "import src.monitoring.governance as gvrn\n",
    "import src.monitoring.monitoring as mntr\n",
    "import src.monitoring.utils as mu\n",
    "\n",
    "%matplotlib inline\n",
    "plt.style.use('seaborn')\n",
    "\n",
    "%load_ext autoreload\n",
    "%autoreload 2\n",
    "\n",
    "import warnings\n",
    "warnings.filterwarnings(\"ignore\")"
   ]
  },
  {
   "cell_type": "code",
   "execution_count": 2,
   "id": "resistant-demand",
   "metadata": {},
   "outputs": [
    {
     "data": {
      "text/plain": [
       "(2021-02-19    740625\n",
       " Name: sample_date, dtype: int64,\n",
       " (740625, 98))"
      ]
     },
     "execution_count": 2,
     "metadata": {},
     "output_type": "execute_result"
    }
   ],
   "source": [
    "# load final data computed locally\n",
    "# df = pd.read_feather(\"../../data/combined_all_features/combined_1613851268.feather\") \n",
    "# we've previous sent combined_1613851268.feather to s3, let's download it\n",
    "dev_path = \"s3://sofi-data-science/jxu/monitoring/customer-risk-v1/2021-02/dev-data.parquet\"\n",
    "df = pd.read_parquet(dev_path)\n",
    "df = mu.prep_customer_data(df)\n",
    "df_dev = df[df.is_static & (df.sample_date == df.sample_date.max())]\n",
    "df_dev.sample_date.value_counts(), df_dev.shape"
   ]
  },
  {
   "cell_type": "code",
   "execution_count": 3,
   "id": "silent-quilt",
   "metadata": {},
   "outputs": [],
   "source": [
    "# get production data\n",
    "df_prod = pd.read_parquet('s3://sofi-data-science/jxu/monitoring/customer-risk-v1/2021-02/prod-data-2021-02-19.parquet')"
   ]
  },
  {
   "cell_type": "code",
   "execution_count": 4,
   "id": "respective-participant",
   "metadata": {},
   "outputs": [
    {
     "data": {
      "text/plain": [
       "<AxesSubplot:>"
      ]
     },
     "execution_count": 4,
     "metadata": {},
     "output_type": "execute_result"
    },
    {
     "data": {
      "image/png": "[encoded data removed]",
      "text/plain": [
       "<Figure size 576x396 with 1 Axes>"
      ]
     },
     "metadata": {},
     "output_type": "display_data"
    }
   ],
   "source": [
    "df_prod[\"last_checked_dt\"] = pd.to_datetime(df_prod.last_checked_date.apply(lambda s: s.split()[0]))\n",
    "df_prod[\"last_checked_dt\"].hist(bins=100)"
   ]
  },
  {
   "cell_type": "code",
   "execution_count": 5,
   "id": "given-connectivity",
   "metadata": {},
   "outputs": [
    {
     "data": {
      "text/plain": [
       "<AxesSubplot:>"
      ]
     },
     "execution_count": 5,
     "metadata": {},
     "output_type": "execute_result"
    },
    {
     "data": {
      "image/png": "[encoded data removed]",
      "text/plain": [
       "<Figure size 576x396 with 1 Axes>"
      ]
     },
     "metadata": {},
     "output_type": "display_data"
    }
   ],
   "source": [
    "df_dev.sample_date.hist(bins=100)"
   ]
  },
  {
   "cell_type": "markdown",
   "id": "together-boost",
   "metadata": {},
   "source": [
    "### Repeated party_ids...\n",
    "---\n",
    "\n",
    "* \"updated_dt will be later than last_checked_date if they get a new row\"\n",
    "* \"they get a new row when they are assigned a new risk group\"\n",
    "\n",
    "Probably just some bug in the prod system.."
   ]
  },
  {
   "cell_type": "code",
   "execution_count": 7,
   "id": "palestinian-turner",
   "metadata": {},
   "outputs": [],
   "source": [
    "# load meta data for debugging\n",
    "# meta = pd.read_feather(\"../../data/raw/raw_1613955411/user_metadata_dw_1613955411.feather\")"
   ]
  },
  {
   "cell_type": "code",
   "execution_count": 8,
   "id": "urban-extraction",
   "metadata": {},
   "outputs": [],
   "source": [
    "s = df_prod.party_id.value_counts()\n",
    "mult_ids = s[s > 1].index\n",
    "df_tmp = df_prod[df_prod.party_id.isin(mult_ids)]"
   ]
  },
  {
   "cell_type": "code",
   "execution_count": 9,
   "id": "utility-macintosh",
   "metadata": {},
   "outputs": [
    {
     "data": {
      "text/plain": [
       "6138"
      ]
     },
     "execution_count": 9,
     "metadata": {},
     "output_type": "execute_result"
    }
   ],
   "source": [
    "len(mult_ids)"
   ]
  },
  {
   "cell_type": "code",
   "execution_count": 10,
   "id": "northern-december",
   "metadata": {},
   "outputs": [
    {
     "data": {
      "text/html": [
       "<div>\n",
       "<style scoped>\n",
       "    .dataframe tbody tr th:only-of-type {\n",
       "        vertical-align: middle;\n",
       "    }\n",
       "\n",
       "    .dataframe tbody tr th {\n",
       "        vertical-align: top;\n",
       "    }\n",
       "\n",
       "    .dataframe thead th {\n",
       "        text-align: right;\n",
       "    }\n",
       "</style>\n",
       "<table border=\"1\" class=\"dataframe\">\n",
       "  <thead>\n",
       "    <tr style=\"text-align: right;\">\n",
       "      <th></th>\n",
       "      <th>party_id</th>\n",
       "      <th>created_dt</th>\n",
       "      <th>updated_dt</th>\n",
       "      <th>last_checked_date</th>\n",
       "      <th>last_checked_date_max</th>\n",
       "      <th>risk_group</th>\n",
       "      <th>request_source</th>\n",
       "      <th>model_score</th>\n",
       "      <th>model_decision_rule_details</th>\n",
       "      <th>mcustomer_model_risk_groupodel_score</th>\n",
       "      <th>...</th>\n",
       "      <th>total_tradelines_open</th>\n",
       "      <th>education_loan_amount</th>\n",
       "      <th>iqt9415</th>\n",
       "      <th>iln5520</th>\n",
       "      <th>iqt9413</th>\n",
       "      <th>credit_card_loan_amount</th>\n",
       "      <th>transaction_code_encoded</th>\n",
       "      <th>all7120_default_encoded</th>\n",
       "      <th>bcc7120_default_encoded</th>\n",
       "      <th>last_checked_dt</th>\n",
       "    </tr>\n",
       "  </thead>\n",
       "  <tbody>\n",
       "    <tr>\n",
       "      <th>600</th>\n",
       "      <td>12976160</td>\n",
       "      <td>2020-08-07 23:13:32.284</td>\n",
       "      <td>2020-09-02 06:03:11.086</td>\n",
       "      <td>2020-08-07 23:13:32.261</td>\n",
       "      <td>2020-08-07 23:13:32.261</td>\n",
       "      <td>\"RG5\"</td>\n",
       "      <td>\"onboarding\"</td>\n",
       "      <td>681.562354</td>\n",
       "      <td>[{\"ruleName\":\"isMember\",\"rulePassed\":false,\"ri...</td>\n",
       "      <td>\"RG5\"</td>\n",
       "      <td>...</td>\n",
       "      <td>NaN</td>\n",
       "      <td>NaN</td>\n",
       "      <td>NaN</td>\n",
       "      <td>NaN</td>\n",
       "      <td>NaN</td>\n",
       "      <td>NaN</td>\n",
       "      <td>0</td>\n",
       "      <td>-1.0</td>\n",
       "      <td>-1.0</td>\n",
       "      <td>2020-08-07</td>\n",
       "    </tr>\n",
       "    <tr>\n",
       "      <th>601</th>\n",
       "      <td>12976160</td>\n",
       "      <td>2020-08-07 23:13:25.665</td>\n",
       "      <td>2020-08-07 23:13:32.261</td>\n",
       "      <td>2020-08-07 23:13:32.261</td>\n",
       "      <td>2020-08-07 23:13:32.261</td>\n",
       "      <td>\"RG5\"</td>\n",
       "      <td>\"onboarding\"</td>\n",
       "      <td>661.184667</td>\n",
       "      <td>[{\"ruleName\":\"isMember\",\"rulePassed\":false,\"ri...</td>\n",
       "      <td>\"RG5\"</td>\n",
       "      <td>...</td>\n",
       "      <td>NaN</td>\n",
       "      <td>NaN</td>\n",
       "      <td>NaN</td>\n",
       "      <td>NaN</td>\n",
       "      <td>NaN</td>\n",
       "      <td>NaN</td>\n",
       "      <td>0</td>\n",
       "      <td>-1.0</td>\n",
       "      <td>-1.0</td>\n",
       "      <td>2020-08-07</td>\n",
       "    </tr>\n",
       "    <tr>\n",
       "      <th>1343</th>\n",
       "      <td>13259309</td>\n",
       "      <td>2020-08-05 07:11:44.400</td>\n",
       "      <td>2020-09-02 06:19:39.727</td>\n",
       "      <td>2020-08-05 07:11:44.384</td>\n",
       "      <td>2020-08-05 07:11:44.384</td>\n",
       "      <td>\"RG5\"</td>\n",
       "      <td>\"scheduled\"</td>\n",
       "      <td>590.904183</td>\n",
       "      <td>[{\"ruleName\":\"isMember\",\"rulePassed\":false,\"ri...</td>\n",
       "      <td>\"RG4\"</td>\n",
       "      <td>...</td>\n",
       "      <td>NaN</td>\n",
       "      <td>NaN</td>\n",
       "      <td>NaN</td>\n",
       "      <td>NaN</td>\n",
       "      <td>NaN</td>\n",
       "      <td>NaN</td>\n",
       "      <td>0</td>\n",
       "      <td>-1.0</td>\n",
       "      <td>-1.0</td>\n",
       "      <td>2020-08-05</td>\n",
       "    </tr>\n",
       "    <tr>\n",
       "      <th>1344</th>\n",
       "      <td>13259309</td>\n",
       "      <td>2020-08-04 06:30:15.866</td>\n",
       "      <td>2020-08-05 07:11:44.384</td>\n",
       "      <td>2020-08-05 07:11:44.384</td>\n",
       "      <td>2020-08-05 07:11:44.384</td>\n",
       "      <td>\"RG5\"</td>\n",
       "      <td>\"return\"</td>\n",
       "      <td>592.942016</td>\n",
       "      <td>[{\"ruleName\":\"isMember\",\"rulePassed\":false,\"ri...</td>\n",
       "      <td>\"RG4\"</td>\n",
       "      <td>...</td>\n",
       "      <td>NaN</td>\n",
       "      <td>NaN</td>\n",
       "      <td>NaN</td>\n",
       "      <td>NaN</td>\n",
       "      <td>NaN</td>\n",
       "      <td>NaN</td>\n",
       "      <td>0</td>\n",
       "      <td>-1.0</td>\n",
       "      <td>-1.0</td>\n",
       "      <td>2020-08-05</td>\n",
       "    </tr>\n",
       "    <tr>\n",
       "      <th>1815</th>\n",
       "      <td>11799555</td>\n",
       "      <td>2020-08-04 22:16:02.343</td>\n",
       "      <td>2020-08-05 07:15:46.571</td>\n",
       "      <td>2020-08-04 22:16:02.334</td>\n",
       "      <td>2020-08-04 22:16:02.334</td>\n",
       "      <td>\"RG5\"</td>\n",
       "      <td>\"onboarding\"</td>\n",
       "      <td>673.758389</td>\n",
       "      <td>[{\"ruleName\":\"isMember\",\"rulePassed\":false,\"ri...</td>\n",
       "      <td>\"RG5\"</td>\n",
       "      <td>...</td>\n",
       "      <td>NaN</td>\n",
       "      <td>NaN</td>\n",
       "      <td>NaN</td>\n",
       "      <td>NaN</td>\n",
       "      <td>NaN</td>\n",
       "      <td>NaN</td>\n",
       "      <td>0</td>\n",
       "      <td>-1.0</td>\n",
       "      <td>-1.0</td>\n",
       "      <td>2020-08-04</td>\n",
       "    </tr>\n",
       "    <tr>\n",
       "      <th>1816</th>\n",
       "      <td>11799555</td>\n",
       "      <td>2020-08-04 22:13:15.595</td>\n",
       "      <td>2020-08-04 22:16:02.334</td>\n",
       "      <td>2020-08-04 22:16:02.334</td>\n",
       "      <td>2020-08-04 22:16:02.334</td>\n",
       "      <td>\"RG5\"</td>\n",
       "      <td>\"onboarding\"</td>\n",
       "      <td>661.184667</td>\n",
       "      <td>[{\"ruleName\":\"isMember\",\"rulePassed\":false,\"ri...</td>\n",
       "      <td>\"RG5\"</td>\n",
       "      <td>...</td>\n",
       "      <td>NaN</td>\n",
       "      <td>NaN</td>\n",
       "      <td>NaN</td>\n",
       "      <td>NaN</td>\n",
       "      <td>NaN</td>\n",
       "      <td>NaN</td>\n",
       "      <td>0</td>\n",
       "      <td>-1.0</td>\n",
       "      <td>-1.0</td>\n",
       "      <td>2020-08-04</td>\n",
       "    </tr>\n",
       "  </tbody>\n",
       "</table>\n",
       "<p>6 rows × 57 columns</p>\n",
       "</div>"
      ],
      "text/plain": [
       "      party_id               created_dt               updated_dt  \\\n",
       "600   12976160  2020-08-07 23:13:32.284  2020-09-02 06:03:11.086   \n",
       "601   12976160  2020-08-07 23:13:25.665  2020-08-07 23:13:32.261   \n",
       "1343  13259309  2020-08-05 07:11:44.400  2020-09-02 06:19:39.727   \n",
       "1344  13259309  2020-08-04 06:30:15.866  2020-08-05 07:11:44.384   \n",
       "1815  11799555  2020-08-04 22:16:02.343  2020-08-05 07:15:46.571   \n",
       "1816  11799555  2020-08-04 22:13:15.595  2020-08-04 22:16:02.334   \n",
       "\n",
       "            last_checked_date    last_checked_date_max risk_group  \\\n",
       "600   2020-08-07 23:13:32.261  2020-08-07 23:13:32.261      \"RG5\"   \n",
       "601   2020-08-07 23:13:32.261  2020-08-07 23:13:32.261      \"RG5\"   \n",
       "1343  2020-08-05 07:11:44.384  2020-08-05 07:11:44.384      \"RG5\"   \n",
       "1344  2020-08-05 07:11:44.384  2020-08-05 07:11:44.384      \"RG5\"   \n",
       "1815  2020-08-04 22:16:02.334  2020-08-04 22:16:02.334      \"RG5\"   \n",
       "1816  2020-08-04 22:16:02.334  2020-08-04 22:16:02.334      \"RG5\"   \n",
       "\n",
       "     request_source  model_score  \\\n",
       "600    \"onboarding\"   681.562354   \n",
       "601    \"onboarding\"   661.184667   \n",
       "1343    \"scheduled\"   590.904183   \n",
       "1344       \"return\"   592.942016   \n",
       "1815   \"onboarding\"   673.758389   \n",
       "1816   \"onboarding\"   661.184667   \n",
       "\n",
       "                            model_decision_rule_details  \\\n",
       "600   [{\"ruleName\":\"isMember\",\"rulePassed\":false,\"ri...   \n",
       "601   [{\"ruleName\":\"isMember\",\"rulePassed\":false,\"ri...   \n",
       "1343  [{\"ruleName\":\"isMember\",\"rulePassed\":false,\"ri...   \n",
       "1344  [{\"ruleName\":\"isMember\",\"rulePassed\":false,\"ri...   \n",
       "1815  [{\"ruleName\":\"isMember\",\"rulePassed\":false,\"ri...   \n",
       "1816  [{\"ruleName\":\"isMember\",\"rulePassed\":false,\"ri...   \n",
       "\n",
       "     mcustomer_model_risk_groupodel_score  ... total_tradelines_open  \\\n",
       "600                                 \"RG5\"  ...                   NaN   \n",
       "601                                 \"RG5\"  ...                   NaN   \n",
       "1343                                \"RG4\"  ...                   NaN   \n",
       "1344                                \"RG4\"  ...                   NaN   \n",
       "1815                                \"RG5\"  ...                   NaN   \n",
       "1816                                \"RG5\"  ...                   NaN   \n",
       "\n",
       "     education_loan_amount iqt9415  iln5520  iqt9413  credit_card_loan_amount  \\\n",
       "600                    NaN     NaN      NaN      NaN                      NaN   \n",
       "601                    NaN     NaN      NaN      NaN                      NaN   \n",
       "1343                   NaN     NaN      NaN      NaN                      NaN   \n",
       "1344                   NaN     NaN      NaN      NaN                      NaN   \n",
       "1815                   NaN     NaN      NaN      NaN                      NaN   \n",
       "1816                   NaN     NaN      NaN      NaN                      NaN   \n",
       "\n",
       "      transaction_code_encoded  all7120_default_encoded  \\\n",
       "600                          0                     -1.0   \n",
       "601                          0                     -1.0   \n",
       "1343                         0                     -1.0   \n",
       "1344                         0                     -1.0   \n",
       "1815                         0                     -1.0   \n",
       "1816                         0                     -1.0   \n",
       "\n",
       "      bcc7120_default_encoded  last_checked_dt  \n",
       "600                      -1.0       2020-08-07  \n",
       "601                      -1.0       2020-08-07  \n",
       "1343                     -1.0       2020-08-05  \n",
       "1344                     -1.0       2020-08-05  \n",
       "1815                     -1.0       2020-08-04  \n",
       "1816                     -1.0       2020-08-04  \n",
       "\n",
       "[6 rows x 57 columns]"
      ]
     },
     "execution_count": 10,
     "metadata": {},
     "output_type": "execute_result"
    }
   ],
   "source": [
    "df_tmp.head(6)  "
   ]
  },
  {
   "cell_type": "code",
   "execution_count": 12,
   "id": "center-gnome",
   "metadata": {},
   "outputs": [
    {
     "data": {
      "image/png": "[encoded data removed]",
      "text/plain": [
       "<Figure size 576x396 with 1 Axes>"
      ]
     },
     "metadata": {},
     "output_type": "display_data"
    }
   ],
   "source": [
    "import matplotlib.pyplot as plt\n",
    "df_tmp[\"updated_dt\"] = pd.to_datetime(df_tmp.updated_dt.apply(lambda s: s.split()[0]))\n",
    "\n",
    "fig = plt.figure()\n",
    "df_tmp[\"updated_dt\"].hist(label=\"updated_dt\", alpha=0.5)\n",
    "df_tmp.last_checked_dt.hist(label=\"last_checked_date\", alpha=0.5)\n",
    "\n",
    "plt.legend()\n",
    "plt.show()"
   ]
  },
  {
   "cell_type": "code",
   "execution_count": null,
   "id": "constant-order",
   "metadata": {},
   "outputs": [],
   "source": []
  },
  {
   "cell_type": "markdown",
   "id": "understood-equity",
   "metadata": {},
   "source": [
    "### Misalignment between Prod and Dev\n",
    "---"
   ]
  },
  {
   "cell_type": "code",
   "execution_count": 13,
   "id": "controlling-grounds",
   "metadata": {},
   "outputs": [],
   "source": [
    "# drop duplicated last_checked_date based on updated_dt\n",
    "# keep the last one\n",
    "df_prod = df_prod.sort_values([\"party_id\", \"updated_dt\"])\n",
    "df_prod = df_prod.drop_duplicates([\"party_id\"], keep=\"last\")"
   ]
  },
  {
   "cell_type": "code",
   "execution_count": 14,
   "id": "sonic-russia",
   "metadata": {},
   "outputs": [
    {
     "data": {
      "text/plain": [
       "((740625, 98), (898814, 57))"
      ]
     },
     "execution_count": 14,
     "metadata": {},
     "output_type": "execute_result"
    }
   ],
   "source": [
    "df_dev.shape, df_prod.shape"
   ]
  },
  {
   "cell_type": "code",
   "execution_count": 15,
   "id": "offshore-perfume",
   "metadata": {},
   "outputs": [
    {
     "data": {
      "text/plain": [
       "(738187, 2438, 160627)"
      ]
     },
     "execution_count": 15,
     "metadata": {},
     "output_type": "execute_result"
    }
   ],
   "source": [
    "dev_ids = set(df_dev.party_id)\n",
    "prod_ids = set(df_prod.party_id)\n",
    "shared_ids = dev_ids.intersection(prod_ids)\n",
    "id_dev_only = dev_ids - prod_ids\n",
    "id_prod_only = prod_ids - dev_ids\n",
    "len(shared_ids), len(id_dev_only), len(id_prod_only)"
   ]
  },
  {
   "cell_type": "markdown",
   "id": "quantitative-causing",
   "metadata": {},
   "source": [
    "Dev side missing is negligible comparing to the prod side. Where are those data from?"
   ]
  },
  {
   "cell_type": "code",
   "execution_count": null,
   "id": "guided-seating",
   "metadata": {},
   "outputs": [],
   "source": []
  },
  {
   "cell_type": "code",
   "execution_count": null,
   "id": "careful-status",
   "metadata": {},
   "outputs": [],
   "source": [
    "16518816， 18159873"
   ]
  },
  {
   "cell_type": "code",
   "execution_count": null,
   "id": "entire-alaska",
   "metadata": {},
   "outputs": [],
   "source": [
    "# print meta of dev only ids\n",
    "meta[meta.user_id.isin(id_dev_only)].head(2)"
   ]
  },
  {
   "cell_type": "code",
   "execution_count": null,
   "id": "annoying-ranking",
   "metadata": {},
   "outputs": [],
   "source": [
    "# print meta of prod only ids\n",
    "meta[meta.user_id.isin(id_prod_only)].head(2)"
   ]
  },
  {
   "cell_type": "code",
   "execution_count": 48,
   "id": "caring-cotton",
   "metadata": {},
   "outputs": [
    {
     "data": {
      "text/plain": [
       "[16777221,\n",
       " 16777225,\n",
       " 16777232,\n",
       " 17825812,\n",
       " 17825814,\n",
       " 17825815,\n",
       " 16777257,\n",
       " 16777258,\n",
       " 16777261,\n",
       " 16777262]"
      ]
     },
     "execution_count": 48,
     "metadata": {},
     "output_type": "execute_result"
    }
   ],
   "source": [
    "list(id_prod_only)[:10]"
   ]
  },
  {
   "cell_type": "code",
   "execution_count": 49,
   "id": "patent-guatemala",
   "metadata": {},
   "outputs": [
    {
     "data": {
      "text/plain": [
       "(16777221,\n",
       " 16777225,\n",
       " 16777232,\n",
       " 17825812,\n",
       " 17825814,\n",
       " 17825815,\n",
       " 16777257,\n",
       " 16777258,\n",
       " 16777261,\n",
       " 16777262)"
      ]
     },
     "execution_count": 49,
     "metadata": {},
     "output_type": "execute_result"
    }
   ],
   "source": [
    "tuple(id_prod_only)[:10]"
   ]
  },
  {
   "cell_type": "code",
   "execution_count": 51,
   "id": "minute-remove",
   "metadata": {},
   "outputs": [
    {
     "name": "stdout",
     "output_type": "stream",
     "text": [
      "['10602605', '10602609', '10602616', '10602641', '10602642', '10602645', '10602646', '11648640', '11648642', '11648643']\n"
     ]
    }
   ],
   "source": [
    "print(\"\"\"10602605\n",
    "10602609\n",
    "10602616\n",
    "10602641\n",
    "10602642\n",
    "10602645\n",
    "10602646\n",
    "11648640\n",
    "11648642\n",
    "11648643\n",
    "\"\"\".split())"
   ]
  },
  {
   "cell_type": "markdown",
   "id": "presidential-indication",
   "metadata": {},
   "source": [
    "#### Get some ids that `was` active in dev"
   ]
  },
  {
   "cell_type": "code",
   "execution_count": 54,
   "id": "realistic-vaccine",
   "metadata": {},
   "outputs": [],
   "source": [
    "dev_path = \"s3://sofi-data-science/jxu/monitoring/customer-risk-v1/2021-02/dev-data.parquet\"\n",
    "df_dy = pd.read_parquet(dev_path)\n",
    "df_dy = df_dy[~df_dy.is_static]"
   ]
  },
  {
   "cell_type": "code",
   "execution_count": 55,
   "id": "accompanied-reward",
   "metadata": {},
   "outputs": [
    {
     "data": {
      "text/plain": [
       "<AxesSubplot:>"
      ]
     },
     "execution_count": 55,
     "metadata": {},
     "output_type": "execute_result"
    },
    {
     "data": {
      "image/png": "[encoded data removed]",
      "text/plain": [
       "<Figure size 576x396 with 1 Axes>"
      ]
     },
     "metadata": {},
     "output_type": "display_data"
    }
   ],
   "source": [
    "df_dy.sample_date.hist()"
   ]
  },
  {
   "cell_type": "code",
   "execution_count": 56,
   "id": "green-diabetes",
   "metadata": {},
   "outputs": [],
   "source": [
    "import rdsutils.query as query"
   ]
  },
  {
   "cell_type": "markdown",
   "id": "interim-destination",
   "metadata": {},
   "source": [
    "#### get all banking accounts along with their ids and active flag on 2/22/2021"
   ]
  },
  {
   "cell_type": "code",
   "execution_count": 117,
   "id": "worth-shift",
   "metadata": {},
   "outputs": [
    {
     "name": "stdout",
     "output_type": "stream",
     "text": [
      "CPU times: user 18.4 s, sys: 2.43 s, total: 20.8 s\n",
      "Wall time: 7min 17s\n"
     ]
    }
   ],
   "source": [
    "q = \"\"\"\n",
    "SELECT DISTINCT badf.borrower_id, ba.active_flag, b.user_id,\n",
    "                b.updated_date as b_updated_dt,\n",
    "                ba.updated_date as ba_updated_dt\n",
    " FROM banking_account_daily_facts badf\n",
    " JOIN banking_accounts ba ON badf.banking_account_id = ba.banking_account_id\n",
    " JOIN borrowers b ON b.borrower_id = badf.borrower_id\n",
    "\"\"\" # WHERE product_type='SoFi Money Cash Account'\n",
    "%time bid_df = query.query_postgres(q, port = 15501)"
   ]
  },
  {
   "cell_type": "code",
   "execution_count": 118,
   "id": "alone-tyler",
   "metadata": {},
   "outputs": [
    {
     "data": {
      "text/plain": [
       "((5687306, 5),\n",
       " False    4854309\n",
       " True      832997\n",
       " Name: active_flag, dtype: int64)"
      ]
     },
     "execution_count": 118,
     "metadata": {},
     "output_type": "execute_result"
    }
   ],
   "source": [
    "bid_df.shape, bid_df.active_flag.value_counts()"
   ]
  },
  {
   "cell_type": "code",
   "execution_count": 119,
   "id": "collectible-disposition",
   "metadata": {},
   "outputs": [
    {
     "ename": "AttributeError",
     "evalue": "'DataFrame' object has no attribute 'badf_updated_dt'",
     "output_type": "error",
     "traceback": [
      "\u001b[0;31m---------------------------------------------------------------------------\u001b[0m",
      "\u001b[0;31mAttributeError\u001b[0m                            Traceback (most recent call last)",
      "\u001b[0;32m<ipython-input-119-f8201ab8e551>\u001b[0m in \u001b[0;36m<module>\u001b[0;34m\u001b[0m\n\u001b[1;32m      1\u001b[0m \u001b[0mdf_tmp\u001b[0m \u001b[0;34m=\u001b[0m \u001b[0mbid_df\u001b[0m\u001b[0;34m[\u001b[0m\u001b[0mbid_df\u001b[0m\u001b[0;34m.\u001b[0m\u001b[0mborrower_id\u001b[0m \u001b[0;34m==\u001b[0m \u001b[0;36m5410623\u001b[0m\u001b[0;34m]\u001b[0m\u001b[0;34m\u001b[0m\u001b[0;34m\u001b[0m\u001b[0m\n\u001b[0;32m----> 2\u001b[0;31m \u001b[0mdf_tmp\u001b[0m\u001b[0;34m.\u001b[0m\u001b[0mb_updated_dt\u001b[0m\u001b[0;34m.\u001b[0m\u001b[0mnunique\u001b[0m\u001b[0;34m(\u001b[0m\u001b[0;34m)\u001b[0m\u001b[0;34m,\u001b[0m \u001b[0mdf_tmp\u001b[0m\u001b[0;34m.\u001b[0m\u001b[0mba_updated_dt\u001b[0m\u001b[0;34m.\u001b[0m\u001b[0mnunique\u001b[0m\u001b[0;34m(\u001b[0m\u001b[0;34m)\u001b[0m\u001b[0;34m,\u001b[0m \u001b[0mdf_tmp\u001b[0m\u001b[0;34m.\u001b[0m\u001b[0mbadf_updated_dt\u001b[0m\u001b[0;34m.\u001b[0m\u001b[0mnunique\u001b[0m\u001b[0;34m(\u001b[0m\u001b[0;34m)\u001b[0m\u001b[0;34m\u001b[0m\u001b[0;34m\u001b[0m\u001b[0m\n\u001b[0m",
      "\u001b[0;32m~/anaconda3/envs/customer_risk/lib/python3.7/site-packages/pandas/core/generic.py\u001b[0m in \u001b[0;36m__getattr__\u001b[0;34m(self, name)\u001b[0m\n\u001b[1;32m   5460\u001b[0m             \u001b[0;32mif\u001b[0m \u001b[0mself\u001b[0m\u001b[0;34m.\u001b[0m\u001b[0m_info_axis\u001b[0m\u001b[0;34m.\u001b[0m\u001b[0m_can_hold_identifiers_and_holds_name\u001b[0m\u001b[0;34m(\u001b[0m\u001b[0mname\u001b[0m\u001b[0;34m)\u001b[0m\u001b[0;34m:\u001b[0m\u001b[0;34m\u001b[0m\u001b[0;34m\u001b[0m\u001b[0m\n\u001b[1;32m   5461\u001b[0m                 \u001b[0;32mreturn\u001b[0m \u001b[0mself\u001b[0m\u001b[0;34m[\u001b[0m\u001b[0mname\u001b[0m\u001b[0;34m]\u001b[0m\u001b[0;34m\u001b[0m\u001b[0;34m\u001b[0m\u001b[0m\n\u001b[0;32m-> 5462\u001b[0;31m             \u001b[0;32mreturn\u001b[0m \u001b[0mobject\u001b[0m\u001b[0;34m.\u001b[0m\u001b[0m__getattribute__\u001b[0m\u001b[0;34m(\u001b[0m\u001b[0mself\u001b[0m\u001b[0;34m,\u001b[0m \u001b[0mname\u001b[0m\u001b[0;34m)\u001b[0m\u001b[0;34m\u001b[0m\u001b[0;34m\u001b[0m\u001b[0m\n\u001b[0m\u001b[1;32m   5463\u001b[0m \u001b[0;34m\u001b[0m\u001b[0m\n\u001b[1;32m   5464\u001b[0m     \u001b[0;32mdef\u001b[0m \u001b[0m__setattr__\u001b[0m\u001b[0;34m(\u001b[0m\u001b[0mself\u001b[0m\u001b[0;34m,\u001b[0m \u001b[0mname\u001b[0m\u001b[0;34m:\u001b[0m \u001b[0mstr\u001b[0m\u001b[0;34m,\u001b[0m \u001b[0mvalue\u001b[0m\u001b[0;34m)\u001b[0m \u001b[0;34m->\u001b[0m \u001b[0;32mNone\u001b[0m\u001b[0;34m:\u001b[0m\u001b[0;34m\u001b[0m\u001b[0;34m\u001b[0m\u001b[0m\n",
      "\u001b[0;31mAttributeError\u001b[0m: 'DataFrame' object has no attribute 'badf_updated_dt'"
     ]
    }
   ],
   "source": [
    "df_tmp = bid_df[bid_df.borrower_id == 5410623]\n",
    "df_tmp.b_updated_dt.nunique(), df_tmp.ba_updated_dt.nunique(), df_tmp.badf_updated_dt.nunique()"
   ]
  },
  {
   "cell_type": "code",
   "execution_count": null,
   "id": "sublime-pillow",
   "metadata": {},
   "outputs": [],
   "source": [
    "bid_df[bid_df.borrower_id == 5410623]"
   ]
  },
  {
   "cell_type": "code",
   "execution_count": null,
   "id": "genetic-binary",
   "metadata": {},
   "outputs": [],
   "source": [
    "bid_df.to_parquet(\"../../artifacts/bid_active_flag_20210222.parquet\")"
   ]
  },
  {
   "cell_type": "code",
   "execution_count": null,
   "id": "suburban-keeping",
   "metadata": {},
   "outputs": [],
   "source": [
    "len(id_prod_only), len(id_dev_only)"
   ]
  },
  {
   "cell_type": "code",
   "execution_count": null,
   "id": "naked-counter",
   "metadata": {},
   "outputs": [],
   "source": [
    "# dev only accounts on 2/21/2021\n",
    "inactive_in_dev = bid_df[(~bid_df.active_flag) & (bid_df.user_id.isin(id_dev_only))]\n",
    "active_in_dev = bid_df[(bid_df.active_flag) & (bid_df.user_id.isin(id_dev_only))]\n",
    "print(\"num inactive accounts in dev only ids\")\n",
    "print(\"num active accounts in dev only ids\")\n",
    "inactive_in_dev.shape, active_in_dev.shape"
   ]
  },
  {
   "cell_type": "code",
   "execution_count": null,
   "id": "afraid-lesbian",
   "metadata": {},
   "outputs": [],
   "source": [
    "# prod only accounts on 2/21/2021\n",
    "inactive_in_prod = bid_df[(~bid_df.active_flag) & (bid_df.user_id.isin(id_prod_only))]\n",
    "active_in_prod = bid_df[(bid_df.active_flag) & (bid_df.user_id.isin(id_prod_only))]\n",
    "print(\"num inactive accounts in prod only ids\")\n",
    "print(\"num active accounts in prod only ids\")\n",
    "print(\"\"\"there are 160k prod only ids in total, meaning a\n",
    "         meaning 130k \"\"\")\n",
    "inactive_in_prod.shape, active_in_prod.shape"
   ]
  },
  {
   "cell_type": "code",
   "execution_count": null,
   "id": "former-eating",
   "metadata": {},
   "outputs": [],
   "source": [
    "bid_df.user_id.value_counts().sort_values(\"\")"
   ]
  },
  {
   "cell_type": "code",
   "execution_count": null,
   "id": "unable-southwest",
   "metadata": {},
   "outputs": [],
   "source": [
    "bid_df.shape, bid_df.user_id.nunique(), bid_df.borrower_id.nunique()"
   ]
  },
  {
   "cell_type": "code",
   "execution_count": null,
   "id": "seven-boutique",
   "metadata": {},
   "outputs": [],
   "source": [
    "len(id_prod_only), len(set(bid_df.user_id.unique()))"
   ]
  },
  {
   "cell_type": "code",
   "execution_count": null,
   "id": "joint-afghanistan",
   "metadata": {},
   "outputs": [],
   "source": [
    "print(\"party_ids that showed up in the production env but not in dev db\")\n",
    "len(id_prod_only - set(bid_df.user_id.unique()))"
   ]
  },
  {
   "cell_type": "code",
   "execution_count": 67,
   "id": "exposed-romance",
   "metadata": {},
   "outputs": [],
   "source": [
    "# inactive accounts on the entire dev data\n",
    "dev_path = \"s3://sofi-data-science/jxu/monitoring/customer-risk-v1/2021-02/dev-data.parquet\"\n",
    "df_dev_full = pd.read_parquet(dev_path)\n",
    "\n",
    "df_dev_full[\"party_id\"] = df_dev_full[\"user_id\"]\n",
    "id_dev_full_only = set(df_dev_full.party_id) - set(df_prod.party_id)"
   ]
  },
  {
   "cell_type": "code",
   "execution_count": 82,
   "id": "verbal-ordinance",
   "metadata": {},
   "outputs": [
    {
     "data": {
      "text/plain": [
       "(47753, 3)"
      ]
     },
     "execution_count": 82,
     "metadata": {},
     "output_type": "execute_result"
    }
   ],
   "source": [
    "inactive_in_dev = bid_df[(~bid_df.active_flag) & (bid_df.user_id.isin(id_dev_full_only))]\n",
    "inactive_in_dev.shape"
   ]
  },
  {
   "cell_type": "code",
   "execution_count": 83,
   "id": "determined-diabetes",
   "metadata": {},
   "outputs": [
    {
     "data": {
      "text/html": [
       "<div>\n",
       "<style scoped>\n",
       "    .dataframe tbody tr th:only-of-type {\n",
       "        vertical-align: middle;\n",
       "    }\n",
       "\n",
       "    .dataframe tbody tr th {\n",
       "        vertical-align: top;\n",
       "    }\n",
       "\n",
       "    .dataframe thead th {\n",
       "        text-align: right;\n",
       "    }\n",
       "</style>\n",
       "<table border=\"1\" class=\"dataframe\">\n",
       "  <thead>\n",
       "    <tr style=\"text-align: right;\">\n",
       "      <th></th>\n",
       "      <th>borrower_id</th>\n",
       "      <th>active_flag</th>\n",
       "      <th>user_id</th>\n",
       "    </tr>\n",
       "  </thead>\n",
       "  <tbody>\n",
       "    <tr>\n",
       "      <th>12</th>\n",
       "      <td>138</td>\n",
       "      <td>False</td>\n",
       "      <td>378</td>\n",
       "    </tr>\n",
       "    <tr>\n",
       "      <th>14</th>\n",
       "      <td>149</td>\n",
       "      <td>False</td>\n",
       "      <td>402</td>\n",
       "    </tr>\n",
       "    <tr>\n",
       "      <th>44</th>\n",
       "      <td>555</td>\n",
       "      <td>False</td>\n",
       "      <td>1940</td>\n",
       "    </tr>\n",
       "    <tr>\n",
       "      <th>92</th>\n",
       "      <td>1184</td>\n",
       "      <td>False</td>\n",
       "      <td>1853</td>\n",
       "    </tr>\n",
       "    <tr>\n",
       "      <th>138</th>\n",
       "      <td>1676</td>\n",
       "      <td>False</td>\n",
       "      <td>5532</td>\n",
       "    </tr>\n",
       "  </tbody>\n",
       "</table>\n",
       "</div>"
      ],
      "text/plain": [
       "     borrower_id  active_flag  user_id\n",
       "12           138        False      378\n",
       "14           149        False      402\n",
       "44           555        False     1940\n",
       "92          1184        False     1853\n",
       "138         1676        False     5532"
      ]
     },
     "execution_count": 83,
     "metadata": {},
     "output_type": "execute_result"
    }
   ],
   "source": [
    "inactive_in_dev.head()"
   ]
  },
  {
   "cell_type": "code",
   "execution_count": null,
   "id": "flush-sleeping",
   "metadata": {},
   "outputs": [],
   "source": []
  },
  {
   "cell_type": "markdown",
   "id": "loose-furniture",
   "metadata": {},
   "source": [
    "### Compute Shifted PSI\n",
    "---"
   ]
  },
  {
   "cell_type": "code",
   "execution_count": 16,
   "id": "athletic-prize",
   "metadata": {},
   "outputs": [],
   "source": [
    "# align ids \n",
    "df_dev = df_dev[df_dev.party_id.isin(shared_ids)]\n",
    "df_prod = df_prod[df_prod.party_id.isin(shared_ids)]"
   ]
  },
  {
   "cell_type": "code",
   "execution_count": 17,
   "id": "distinguished-current",
   "metadata": {},
   "outputs": [],
   "source": [
    "# preprocess\n",
    "df_dev = mu.prep_customer_data(df_dev)"
   ]
  },
  {
   "cell_type": "code",
   "execution_count": 18,
   "id": "intellectual-adelaide",
   "metadata": {},
   "outputs": [],
   "source": [
    "# load model from s3\n",
    "prev_model_s3_key = \"jxu/money-risk-models/customer-risk-model/models/customer_risk_target_no_giact_time_since_last_link.pkl\"\n",
    "model = mu.read_pickle_from_s3(\"sofi-data-science\", prev_model_s3_key)"
   ]
  },
  {
   "cell_type": "code",
   "execution_count": 46,
   "id": "furnished-liabilities",
   "metadata": {},
   "outputs": [
    {
     "data": {
      "text/html": [
       "<div>\n",
       "<style scoped>\n",
       "    .dataframe tbody tr th:only-of-type {\n",
       "        vertical-align: middle;\n",
       "    }\n",
       "\n",
       "    .dataframe tbody tr th {\n",
       "        vertical-align: top;\n",
       "    }\n",
       "\n",
       "    .dataframe thead th {\n",
       "        text-align: right;\n",
       "    }\n",
       "</style>\n",
       "<table border=\"1\" class=\"dataframe\">\n",
       "  <thead>\n",
       "    <tr style=\"text-align: right;\">\n",
       "      <th></th>\n",
       "      <th>feature</th>\n",
       "      <th>psi</th>\n",
       "    </tr>\n",
       "  </thead>\n",
       "  <tbody>\n",
       "    <tr>\n",
       "      <th>6</th>\n",
       "      <td>transaction_as_pct_of_balance</td>\n",
       "      <td>0.08423</td>\n",
       "    </tr>\n",
       "    <tr>\n",
       "      <th>37</th>\n",
       "      <td>age_money_account</td>\n",
       "      <td>0.05081</td>\n",
       "    </tr>\n",
       "    <tr>\n",
       "      <th>26</th>\n",
       "      <td>time_since_last_transaction</td>\n",
       "      <td>0.05066</td>\n",
       "    </tr>\n",
       "    <tr>\n",
       "      <th>38</th>\n",
       "      <td>transaction_code_encoded</td>\n",
       "      <td>0.04003</td>\n",
       "    </tr>\n",
       "    <tr>\n",
       "      <th>31</th>\n",
       "      <td>nr_trans_ratio</td>\n",
       "      <td>0.02150</td>\n",
       "    </tr>\n",
       "    <tr>\n",
       "      <th>9</th>\n",
       "      <td>name_address_correlation</td>\n",
       "      <td>0.01134</td>\n",
       "    </tr>\n",
       "    <tr>\n",
       "      <th>28</th>\n",
       "      <td>name_phone_correlation</td>\n",
       "      <td>0.01026</td>\n",
       "    </tr>\n",
       "    <tr>\n",
       "      <th>5</th>\n",
       "      <td>name_email_correlation</td>\n",
       "      <td>0.00983</td>\n",
       "    </tr>\n",
       "    <tr>\n",
       "      <th>32</th>\n",
       "      <td>iqt9413</td>\n",
       "      <td>0.00797</td>\n",
       "    </tr>\n",
       "    <tr>\n",
       "      <th>24</th>\n",
       "      <td>giact_nr_decline</td>\n",
       "      <td>0.00616</td>\n",
       "    </tr>\n",
       "    <tr>\n",
       "      <th>35</th>\n",
       "      <td>credit_card_loan_amount</td>\n",
       "      <td>0.00551</td>\n",
       "    </tr>\n",
       "    <tr>\n",
       "      <th>18</th>\n",
       "      <td>address_risk_score</td>\n",
       "      <td>0.00304</td>\n",
       "    </tr>\n",
       "    <tr>\n",
       "      <th>36</th>\n",
       "      <td>fraud_score_1</td>\n",
       "      <td>0.00275</td>\n",
       "    </tr>\n",
       "    <tr>\n",
       "      <th>14</th>\n",
       "      <td>sum_deposits_10d</td>\n",
       "      <td>0.00271</td>\n",
       "    </tr>\n",
       "    <tr>\n",
       "      <th>8</th>\n",
       "      <td>phone_risk_score</td>\n",
       "      <td>0.00234</td>\n",
       "    </tr>\n",
       "    <tr>\n",
       "      <th>16</th>\n",
       "      <td>total_tradelines_open</td>\n",
       "      <td>0.00226</td>\n",
       "    </tr>\n",
       "    <tr>\n",
       "      <th>17</th>\n",
       "      <td>education_loan_amount</td>\n",
       "      <td>0.00226</td>\n",
       "    </tr>\n",
       "    <tr>\n",
       "      <th>25</th>\n",
       "      <td>nr_direct_deposits</td>\n",
       "      <td>0.00209</td>\n",
       "    </tr>\n",
       "    <tr>\n",
       "      <th>3</th>\n",
       "      <td>email_risk_score</td>\n",
       "      <td>0.00189</td>\n",
       "    </tr>\n",
       "    <tr>\n",
       "      <th>15</th>\n",
       "      <td>nr_past_transactions</td>\n",
       "      <td>0.00183</td>\n",
       "    </tr>\n",
       "    <tr>\n",
       "      <th>4</th>\n",
       "      <td>fraud_score_2</td>\n",
       "      <td>0.00167</td>\n",
       "    </tr>\n",
       "    <tr>\n",
       "      <th>30</th>\n",
       "      <td>dollar_val_returns</td>\n",
       "      <td>0.00164</td>\n",
       "    </tr>\n",
       "    <tr>\n",
       "      <th>27</th>\n",
       "      <td>bal_ratio</td>\n",
       "      <td>0.00121</td>\n",
       "    </tr>\n",
       "    <tr>\n",
       "      <th>7</th>\n",
       "      <td>mean_account_balance_30d</td>\n",
       "      <td>0.00107</td>\n",
       "    </tr>\n",
       "    <tr>\n",
       "      <th>29</th>\n",
       "      <td>giact_nr_other</td>\n",
       "      <td>0.00097</td>\n",
       "    </tr>\n",
       "    <tr>\n",
       "      <th>1</th>\n",
       "      <td>vantage_score</td>\n",
       "      <td>0.00083</td>\n",
       "    </tr>\n",
       "    <tr>\n",
       "      <th>19</th>\n",
       "      <td>iqt9415</td>\n",
       "      <td>0.00080</td>\n",
       "    </tr>\n",
       "    <tr>\n",
       "      <th>10</th>\n",
       "      <td>all8220</td>\n",
       "      <td>0.00075</td>\n",
       "    </tr>\n",
       "    <tr>\n",
       "      <th>13</th>\n",
       "      <td>all7120</td>\n",
       "      <td>0.00066</td>\n",
       "    </tr>\n",
       "    <tr>\n",
       "      <th>2</th>\n",
       "      <td>bcc7120</td>\n",
       "      <td>0.00059</td>\n",
       "    </tr>\n",
       "    <tr>\n",
       "      <th>21</th>\n",
       "      <td>iln5520</td>\n",
       "      <td>0.00053</td>\n",
       "    </tr>\n",
       "    <tr>\n",
       "      <th>0</th>\n",
       "      <td>first_deposit_amount</td>\n",
       "      <td>0.00043</td>\n",
       "    </tr>\n",
       "    <tr>\n",
       "      <th>40</th>\n",
       "      <td>bcc7120_default_encoded</td>\n",
       "      <td>0.00035</td>\n",
       "    </tr>\n",
       "    <tr>\n",
       "      <th>39</th>\n",
       "      <td>all7120_default_encoded</td>\n",
       "      <td>0.00017</td>\n",
       "    </tr>\n",
       "    <tr>\n",
       "      <th>34</th>\n",
       "      <td>nr_returns_30d</td>\n",
       "      <td>0.00007</td>\n",
       "    </tr>\n",
       "    <tr>\n",
       "      <th>11</th>\n",
       "      <td>lag_acc_open_first_transaction</td>\n",
       "      <td>0.00007</td>\n",
       "    </tr>\n",
       "    <tr>\n",
       "      <th>22</th>\n",
       "      <td>max_deposits_30d</td>\n",
       "      <td>0.00001</td>\n",
       "    </tr>\n",
       "    <tr>\n",
       "      <th>12</th>\n",
       "      <td>dollar_val_dd</td>\n",
       "      <td>0.00000</td>\n",
       "    </tr>\n",
       "    <tr>\n",
       "      <th>23</th>\n",
       "      <td>pct_returned_deposits</td>\n",
       "      <td>0.00000</td>\n",
       "    </tr>\n",
       "    <tr>\n",
       "      <th>33</th>\n",
       "      <td>dollar_val_returns_3d</td>\n",
       "      <td>0.00000</td>\n",
       "    </tr>\n",
       "    <tr>\n",
       "      <th>20</th>\n",
       "      <td>max_withdrawals_30d</td>\n",
       "      <td>0.00000</td>\n",
       "    </tr>\n",
       "  </tbody>\n",
       "</table>\n",
       "</div>"
      ],
      "text/plain": [
       "                           feature      psi\n",
       "6    transaction_as_pct_of_balance  0.08423\n",
       "37               age_money_account  0.05081\n",
       "26     time_since_last_transaction  0.05066\n",
       "38        transaction_code_encoded  0.04003\n",
       "31                  nr_trans_ratio  0.02150\n",
       "9         name_address_correlation  0.01134\n",
       "28          name_phone_correlation  0.01026\n",
       "5           name_email_correlation  0.00983\n",
       "32                         iqt9413  0.00797\n",
       "24                giact_nr_decline  0.00616\n",
       "35         credit_card_loan_amount  0.00551\n",
       "18              address_risk_score  0.00304\n",
       "36                   fraud_score_1  0.00275\n",
       "14                sum_deposits_10d  0.00271\n",
       "8                 phone_risk_score  0.00234\n",
       "16           total_tradelines_open  0.00226\n",
       "17           education_loan_amount  0.00226\n",
       "25              nr_direct_deposits  0.00209\n",
       "3                 email_risk_score  0.00189\n",
       "15            nr_past_transactions  0.00183\n",
       "4                    fraud_score_2  0.00167\n",
       "30              dollar_val_returns  0.00164\n",
       "27                       bal_ratio  0.00121\n",
       "7         mean_account_balance_30d  0.00107\n",
       "29                  giact_nr_other  0.00097\n",
       "1                    vantage_score  0.00083\n",
       "19                         iqt9415  0.00080\n",
       "10                         all8220  0.00075\n",
       "13                         all7120  0.00066\n",
       "2                          bcc7120  0.00059\n",
       "21                         iln5520  0.00053\n",
       "0             first_deposit_amount  0.00043\n",
       "40         bcc7120_default_encoded  0.00035\n",
       "39         all7120_default_encoded  0.00017\n",
       "34                  nr_returns_30d  0.00007\n",
       "11  lag_acc_open_first_transaction  0.00007\n",
       "22                max_deposits_30d  0.00001\n",
       "12                   dollar_val_dd  0.00000\n",
       "23           pct_returned_deposits  0.00000\n",
       "33           dollar_val_returns_3d  0.00000\n",
       "20             max_withdrawals_30d  0.00000"
      ]
     },
     "execution_count": 46,
     "metadata": {},
     "output_type": "execute_result"
    }
   ],
   "source": [
    "features = model.feature_name_\n",
    "psi_df = mntr.get_psi(df_dev[features], df_prod[features], buckets=10).round(5)\n",
    "# psi_df.to_csv(os.path.join(artifact_dir, f\"{snapshot_date}_psi.csv\"), index=False)\n",
    "psi_df"
   ]
  },
  {
   "cell_type": "markdown",
   "id": "according-delay",
   "metadata": {},
   "source": [
    "### Look at Feature Level"
   ]
  },
  {
   "cell_type": "code",
   "execution_count": 32,
   "id": "consolidated-grammar",
   "metadata": {},
   "outputs": [],
   "source": [
    "from rdsutils.post_implementation_testing import plot_score_dist, get_psi, get_overlap_and_diff\n",
    "from rdsutils.post_implementation_testing import plot_difference, get_combined_dfs, get_feature_comparison_report"
   ]
  },
  {
   "cell_type": "code",
   "execution_count": 42,
   "id": "bottom-seventh",
   "metadata": {},
   "outputs": [
    {
     "data": {
      "image/png": "[encoded data removed]",
      "text/plain": [
       "<Figure size 576x396 with 1 Axes>"
      ]
     },
     "metadata": {},
     "output_type": "display_data"
    }
   ],
   "source": [
    "import matplotlib.pyplot as plt\n",
    "\n",
    "feature = \"transaction_as_pct_of_balance\" # psi_df.feature.iloc[4]\n",
    "fig = plt.figure()\n",
    "\n",
    "df_dev[feature].hist(bins=100, alpha=0.5, label=\"dev\", density=True)\n",
    "df_prod[feature].hist(bins=100, alpha=0.5, label=\"prod\", density=True)\n",
    "\n",
    "plt.title(feature)\n",
    "plt.legend()\n",
    "plt.show()"
   ]
  },
  {
   "cell_type": "code",
   "execution_count": 43,
   "id": "senior-rabbit",
   "metadata": {},
   "outputs": [
    {
     "data": {
      "image/png": "[encoded data removed]",
      "text/plain": [
       "<Figure size 576x396 with 1 Axes>"
      ]
     },
     "metadata": {},
     "output_type": "display_data"
    }
   ],
   "source": [
    "import matplotlib.pyplot as plt\n",
    "\n",
    "fig = plt.figure()\n",
    "\n",
    "lower, upper = -1,1\n",
    "df_dev[feature][df_dev[feature].between(lower,upper)].hist(bins=100, alpha=0.5, label=\"dev\")\n",
    "df_prod[feature][df_prod[feature].between(lower,upper)].hist(bins=100, alpha=0.5, label=\"prod\")\n",
    "\n",
    "plt.title(feature)\n",
    "plt.legend()\n",
    "plt.show()"
   ]
  },
  {
   "cell_type": "code",
   "execution_count": 44,
   "id": "joint-regression",
   "metadata": {},
   "outputs": [
    {
     "data": {
      "image/png": "[encoded data removed]",
      "text/plain": [
       "<Figure size 648x504 with 1 Axes>"
      ]
     },
     "metadata": {},
     "output_type": "display_data"
    }
   ],
   "source": [
    "_ = plot_difference(df_dev[feature], df_prod[feature], bins=100)"
   ]
  },
  {
   "cell_type": "code",
   "execution_count": null,
   "id": "lovely-electric",
   "metadata": {},
   "outputs": [],
   "source": []
  },
  {
   "cell_type": "code",
   "execution_count": null,
   "id": "frequent-edgar",
   "metadata": {},
   "outputs": [],
   "source": []
  }
 ],
 "metadata": {
  "kernelspec": {
   "display_name": "conda_ml_basic_py37",
   "language": "python",
   "name": "conda_ml_basic_py37"
  },
  "language_info": {
   "codemirror_mode": {
    "name": "ipython",
    "version": 3
   },
   "file_extension": ".py",
   "mimetype": "text/x-python",
   "name": "python",
   "nbconvert_exporter": "python",
   "pygments_lexer": "ipython3",
   "version": "3.7.10"
  }
 },
 "nbformat": 4,
 "nbformat_minor": 5
}
