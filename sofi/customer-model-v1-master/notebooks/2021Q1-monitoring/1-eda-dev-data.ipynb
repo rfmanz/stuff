{
 "cells": [
  {
   "cell_type": "markdown",
   "id": "labeled-celtic",
   "metadata": {},
   "source": [
    "### EDA on data\n",
    "--- \n",
    "\n",
    "We migrated customer monitoring code from `money-risk-models` to this repo, of which we have already queried data there. To replicate building data, please check out `0-eda-dev-data.ipynb` in this folder."
   ]
  },
  {
   "cell_type": "code",
   "execution_count": 1,
   "id": "coastal-administration",
   "metadata": {},
   "outputs": [],
   "source": [
    "import sys\n",
    "sys.path.insert(1, \"../../\")\n",
    "from src.combine import combine_data\n",
    "import pandas as pd\n",
    "import numpy as np\n",
    "import matplotlib.pyplot as plt\n",
    "from collections import OrderedDict\n",
    "import src.monitoring.refit as refit\n",
    "import src.monitoring.governance as gvrn\n",
    "import src.monitoring.monitoring as mntr\n",
    "import src.monitoring.utils as mu\n",
    "\n",
    "%matplotlib inline\n",
    "plt.style.use('seaborn')\n",
    "\n",
    "%load_ext autoreload\n",
    "%autoreload 2\n",
    "\n",
    "import warnings\n",
    "warnings.filterwarnings(\"ignore\")"
   ]
  },
  {
   "cell_type": "code",
   "execution_count": 86,
   "id": "gorgeous-therapy",
   "metadata": {},
   "outputs": [],
   "source": [
    "# load final data computed locally\n",
    "# df = pd.read_feather(\"../../data/combined_all_features/combined_1613851268.feather\") \n",
    "# we've previous sent combined_1613851268.feather to s3, let's download it\n",
    "dev_path = \"s3://sofi-data-science/jxu/monitoring/customer-risk-v1/2021-02/dev-data.parquet\"\n",
    "df = pd.read_parquet(dev_path)\n",
    "df = mu.prep_customer_data(df)"
   ]
  },
  {
   "cell_type": "code",
   "execution_count": 87,
   "id": "incorporate-childhood",
   "metadata": {},
   "outputs": [
    {
     "data": {
      "text/plain": [
       "(7384288, 96)"
      ]
     },
     "execution_count": 87,
     "metadata": {},
     "output_type": "execute_result"
    }
   ],
   "source": [
    "df.shape "
   ]
  },
  {
   "cell_type": "code",
   "execution_count": 32,
   "id": "composite-respondent",
   "metadata": {},
   "outputs": [
    {
     "data": {
      "text/plain": [
       "<AxesSubplot:>"
      ]
     },
     "execution_count": 32,
     "metadata": {},
     "output_type": "execute_result"
    },
    {
     "data": {
      "image/png": "[encoded data removed]",
      "text/plain": [
       "<Figure size 432x288 with 1 Axes>"
      ]
     },
     "metadata": {},
     "output_type": "display_data"
    }
   ],
   "source": [
    "fig = plt.figure(figsize=(6,4))\n",
    "df.sample_date.hist(bins=100)"
   ]
  },
  {
   "cell_type": "code",
   "execution_count": 33,
   "id": "medium-abraham",
   "metadata": {},
   "outputs": [
    {
     "data": {
      "text/plain": [
       "indeterminate  is_static\n",
       "True           True         4353769\n",
       "False          False        1863348\n",
       "               True         1030010\n",
       "True           False         137161\n",
       "dtype: int64"
      ]
     },
     "execution_count": 33,
     "metadata": {},
     "output_type": "execute_result"
    }
   ],
   "source": [
    "df[[\"indeterminate\", \"is_static\"]].value_counts()"
   ]
  },
  {
   "cell_type": "code",
   "execution_count": 34,
   "id": "distributed-summit",
   "metadata": {},
   "outputs": [
    {
     "data": {
      "text/plain": [
       "indeterminate  target\n",
       "True           False     4344218\n",
       "False          False     2879123\n",
       "True           True       146712\n",
       "False          True        14235\n",
       "dtype: int64"
      ]
     },
     "execution_count": 34,
     "metadata": {},
     "output_type": "execute_result"
    }
   ],
   "source": [
    "df[[\"indeterminate\", \"target\"]].value_counts()"
   ]
  },
  {
   "cell_type": "code",
   "execution_count": 13,
   "id": "surgical-metabolism",
   "metadata": {},
   "outputs": [],
   "source": [
    "## data thomas built\n",
    "\n",
    "df_tb = pd.read_feather(\"s3://sofi-data-science/jxu/money-risk-models/customer-risk-model/data/dev_data/modeling_df_final_2020-05-14.feather\")\n",
    "df_jxu = pd.read_feather(\"s3://sofi-data-science/jxu/money-risk-models/customer-risk-model/data/dev_data/modeling_df_replication_for_governance.feather\")"
   ]
  },
  {
   "cell_type": "code",
   "execution_count": 17,
   "id": "alive-frequency",
   "metadata": {},
   "outputs": [
    {
     "name": "stdout",
     "output_type": "stream",
     "text": [
      "False\n",
      "True\n"
     ]
    }
   ],
   "source": [
    "print(\"indeterminate\" in df_tb.columns)\n",
    "print(\"indeterminate\" in df_jxu.columns)"
   ]
  },
  {
   "cell_type": "code",
   "execution_count": null,
   "id": "owned-consistency",
   "metadata": {},
   "outputs": [],
   "source": []
  },
  {
   "cell_type": "markdown",
   "id": "viral-airplane",
   "metadata": {},
   "source": [
    "### Sampling Methods\n",
    "---\n",
    "\n",
    "In production, the model will be evaluated on the entire group users at a given snapshot time, but we cannot simply take this approach when building training data due to the nature of customer level frauds. Explainations can be found [here](https://docs.google.com/presentation/d/1oAsBXqkIpkjSqFkpmajQaD-Km_oySRJfjuejj2S_AsY/edit#slide=id.g7786316f26_1_0).\n",
    "\n",
    "As the solution, we combine records obtains from both static and dynamic sampling. Static sampling is simple: just choose a time and take available data from all users. Dynamic sampling is carried out by taking multiple (15 in this case) records from each user's account before every snapshot dates. \n",
    "\n",
    "* `src/data.py`: contains code for static sampling\n",
    "    * see function `sample_on_date_range`\n",
    "    * Recipe: assign sample date to multiple copies of banking account-level data, combine them, and then remove the records that doesn't exist on the sampling dates...good logic but tbh quite memory inefficient. Then merge with other attributes.\n",
    "    ```python\n",
    "        for date in dates:\n",
    "            df[\"sample_date\"] = date\n",
    "            dfs.append(df.copy())\n",
    "\n",
    "        sampled_df = pd.concat(dfs, ignore_index=True)\n",
    "        sampled_df = sampled_df[\n",
    "            sampled_df[\"sample_date\"] >= sampled_df[\"date_account_opened\"]\n",
    "        ]\n",
    "        sampled_df = sampled_df[\n",
    "            (sampled_df[\"sample_date\"] < sampled_df[\"date_account_closed\"])\n",
    "            | sampled_df[\"date_account_closed\"].isna()\n",
    "        ]\n",
    "    ```\n",
    "* `src/transactional`: contains data for dynamic sampling. For dynamic sampling we first build data from transactions perspective, which gives us a time-based history for each user. Then be merge account level data toward the transactions. Then as recorded in `src/combine.py` \n",
    "    * then for each user, we sample up to 15 records. We do that by first randomly sort the data, then take first 15 transactions made by each user. "
   ]
  },
  {
   "cell_type": "code",
   "execution_count": 8,
   "id": "final-rocket",
   "metadata": {},
   "outputs": [
    {
     "data": {
      "text/plain": [
       "True     5383779\n",
       "False    2000509\n",
       "Name: is_static, dtype: int64"
      ]
     },
     "execution_count": 8,
     "metadata": {},
     "output_type": "execute_result"
    }
   ],
   "source": [
    "# num static data, num dynamic data\n",
    "df[\"is_static\"].value_counts()"
   ]
  },
  {
   "cell_type": "code",
   "execution_count": 39,
   "id": "gorgeous-advocacy",
   "metadata": {},
   "outputs": [
    {
     "data": {
      "text/plain": [
       "(2021-02-19    740625\n",
       " Name: sample_date, dtype: int64,\n",
       " (740625, 91))"
      ]
     },
     "execution_count": 39,
     "metadata": {},
     "output_type": "execute_result"
    }
   ],
   "source": [
    "# get the last dev snapshot to measure PSI with prod data\n",
    "df_last = df[df.is_static & (df.sample_date == df.sample_date.max())]\n",
    "df_last.sample_date.value_counts(), df_last.shape"
   ]
  },
  {
   "cell_type": "code",
   "execution_count": 41,
   "id": "neutral-switch",
   "metadata": {},
   "outputs": [],
   "source": [
    "# get production data\n",
    "df_prod = pd.read_parquet('s3://sofi-data-science/jxu/monitoring/customer-risk-v1/2021-02/prod-data-2021-02-19.parquet')"
   ]
  },
  {
   "cell_type": "code",
   "execution_count": null,
   "id": "rocky-retirement",
   "metadata": {},
   "outputs": [],
   "source": []
  },
  {
   "cell_type": "code",
   "execution_count": null,
   "id": "intimate-cannon",
   "metadata": {},
   "outputs": [],
   "source": []
  },
  {
   "cell_type": "code",
   "execution_count": null,
   "id": "threatened-instrumentation",
   "metadata": {},
   "outputs": [],
   "source": []
  },
  {
   "cell_type": "code",
   "execution_count": null,
   "id": "together-allen",
   "metadata": {},
   "outputs": [],
   "source": []
  }
 ],
 "metadata": {
  "kernelspec": {
   "display_name": "conda_customer_risk",
   "language": "python",
   "name": "conda_customer_risk"
  },
  "language_info": {
   "codemirror_mode": {
    "name": "ipython",
    "version": 3
   },
   "file_extension": ".py",
   "mimetype": "text/x-python",
   "name": "python",
   "nbconvert_exporter": "python",
   "pygments_lexer": "ipython3",
   "version": "3.7.10"
  }
 },
 "nbformat": 4,
 "nbformat_minor": 5
}
