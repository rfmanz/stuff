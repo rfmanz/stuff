{
 "cells": [
  {
   "cell_type": "markdown",
   "id": "9211c747",
   "metadata": {},
   "source": [
    "## Optimization\n",
    "---"
   ]
  },
  {
   "cell_type": "code",
   "execution_count": 20,
   "id": "56d6bf0e",
   "metadata": {},
   "outputs": [],
   "source": [
    "from scipy.optimize import minimize"
   ]
  },
  {
   "cell_type": "code",
   "execution_count": 21,
   "id": "7e854133",
   "metadata": {},
   "outputs": [],
   "source": [
    "a = 631.9455383610933\n",
    "b = 30.812519272450654\n",
    "    \n",
    "def fn(arg):\n",
    "    \"\"\" distance between the original score distribution and the newly rescaled score distribution \"\"\"\n",
    "    alpha, beta = arg\n",
    "    valid_df_dec[\"score_rescaled\"] =  scale_scores_(\n",
    "        valid_df_dec.pred_20201130, alpha, beta)\n",
    "    return calculate_psi(valid_df_dec.score_20200101, \n",
    "               valid_df_dec.score_rescaled, buckets=100)"
   ]
  },
  {
   "cell_type": "code",
   "execution_count": 22,
   "id": "7b42cba4",
   "metadata": {},
   "outputs": [
    {
     "name": "stdout",
     "output_type": "stream",
     "text": [
      "CPU times: user 34.9 s, sys: 0 ns, total: 34.9 s\n",
      "Wall time: 34.9 s\n"
     ]
    },
    {
     "data": {
      "text/plain": [
       "   direc: array([[ 5.22462989e+01,  1.49471616e+01],\n",
       "       [-1.75223974e-15, -2.38522824e-07]])\n",
       "     fun: 0.3941464915916215\n",
       " message: 'Optimization terminated successfully.'\n",
       "    nfev: 280\n",
       "     nit: 4\n",
       "  status: 0\n",
       " success: True\n",
       "       x: array([743.17590331,  59.30207539])"
      ]
     },
     "execution_count": 22,
     "metadata": {},
     "output_type": "execute_result"
    }
   ],
   "source": [
    "%%time\n",
    "minimize(fn, x0=(a, b), method=\"Powell\", tol=1e-6)"
   ]
  },
  {
   "cell_type": "code",
   "execution_count": 23,
   "id": "36e168c7",
   "metadata": {},
   "outputs": [
    {
     "name": "stdout",
     "output_type": "stream",
     "text": [
      "CPU times: user 21.3 s, sys: 0 ns, total: 21.3 s\n",
      "Wall time: 21.3 s\n"
     ]
    },
    {
     "data": {
      "text/plain": [
       "     fun: 0.395636838381729\n",
       "   maxcv: 0.0\n",
       " message: 'Optimization terminated successfully.'\n",
       "    nfev: 169\n",
       "  status: 1\n",
       " success: True\n",
       "       x: array([739.14735889,  57.87249742])"
      ]
     },
     "execution_count": 23,
     "metadata": {},
     "output_type": "execute_result"
    }
   ],
   "source": [
    "%%time\n",
    "minimize(fn, x0=(a, b), method=\"COBYLA\", tol=1e-6)"
   ]
  },
  {
   "cell_type": "code",
   "execution_count": 24,
   "id": "f71ed68e",
   "metadata": {},
   "outputs": [],
   "source": [
    "# results\n",
    "x = [743.17590331,  59.30207539]\n",
    "\n",
    "alpha, beta = x"
   ]
  },
  {
   "cell_type": "code",
   "execution_count": null,
   "id": "61cbdd52",
   "metadata": {},
   "outputs": [],
   "source": []
  }
 ],
 "metadata": {
  "kernelspec": {
   "display_name": "conda_ml4risk",
   "language": "python",
   "name": "conda_ml4risk"
  },
  "language_info": {
   "codemirror_mode": {
    "name": "ipython",
    "version": 3
   },
   "file_extension": ".py",
   "mimetype": "text/x-python",
   "name": "python",
   "nbconvert_exporter": "python",
   "pygments_lexer": "ipython3",
   "version": "3.7.10"
  }
 },
 "nbformat": 4,
 "nbformat_minor": 5
}
