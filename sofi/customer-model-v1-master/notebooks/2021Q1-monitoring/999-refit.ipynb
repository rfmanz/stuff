{
 "cells": [
  {
   "cell_type": "markdown",
   "id": "drawn-blues",
   "metadata": {},
   "source": [
    "### Refit and produce result"
   ]
  },
  {
   "cell_type": "code",
   "execution_count": 1,
   "id": "sealed-payment",
   "metadata": {},
   "outputs": [],
   "source": [
    "import sys, os, json\n",
    "sys.path.insert(1, \"../../\")\n",
    "from src.combine import combine_data\n",
    "import pandas as pd\n",
    "import numpy as np\n",
    "from tqdm import tqdm\n",
    "import matplotlib.pyplot as plt\n",
    "from collections import OrderedDict\n",
    "import src.monitoring.refit as refit\n",
    "import src.monitoring.governance as gvrn\n",
    "import src.monitoring.monitoring as mntr\n",
    "import src.monitoring.utils as mu\n",
    "\n",
    "%matplotlib inline\n",
    "plt.style.use('seaborn')\n",
    "\n",
    "%load_ext autoreload\n",
    "%autoreload 2\n",
    "\n",
    "import warnings\n",
    "warnings.filterwarnings(\"ignore\")"
   ]
  },
  {
   "cell_type": "code",
   "execution_count": 3,
   "id": "behavioral-lawrence",
   "metadata": {},
   "outputs": [],
   "source": [
    "# load modeling_df\n",
    "dev_path = \"s3://sofi-data-science/jxu/money-risk-models/customer-risk-model/monitor/202103/dev_df_full.parquet\"\n",
    "modeling_df = pd.read_parquet(dev_path)\n",
    "modeling_df = mu.preprocess(modeling_df)"
   ]
  },
  {
   "cell_type": "code",
   "execution_count": 4,
   "id": "authentic-yellow",
   "metadata": {},
   "outputs": [
    {
     "data": {
      "text/plain": [
       "(Timestamp('2019-02-01 00:00:00'), Timestamp('2021-03-12 00:00:00'))"
      ]
     },
     "execution_count": 4,
     "metadata": {},
     "output_type": "execute_result"
    }
   ],
   "source": [
    "modeling_df.sample_date.min(), modeling_df.sample_date.max()"
   ]
  },
  {
   "cell_type": "code",
   "execution_count": 6,
   "id": "molecular-screening",
   "metadata": {},
   "outputs": [
    {
     "data": {
      "text/plain": [
       "<AxesSubplot:>"
      ]
     },
     "execution_count": 6,
     "metadata": {},
     "output_type": "execute_result"
    },
    {
     "data": {
      "image/png": "[encoded data removed]",
      "text/plain": [
       "<Figure size 576x396 with 1 Axes>"
      ]
     },
     "metadata": {},
     "output_type": "display_data"
    }
   ],
   "source": [
    "modeling_df.sample_date.hist(bins=100)"
   ]
  },
  {
   "cell_type": "code",
   "execution_count": 7,
   "id": "assigned-cream",
   "metadata": {},
   "outputs": [
    {
     "data": {
      "text/plain": [
       "Timestamp('2020-10-31 00:00:00')"
      ]
     },
     "execution_count": 7,
     "metadata": {},
     "output_type": "execute_result"
    }
   ],
   "source": [
    "modeling_df[~modeling_df.is_static].sample_date.max()"
   ]
  },
  {
   "cell_type": "code",
   "execution_count": null,
   "id": "hungry-harbor",
   "metadata": {},
   "outputs": [],
   "source": []
  },
  {
   "cell_type": "code",
   "execution_count": null,
   "id": "alpine-yorkshire",
   "metadata": {},
   "outputs": [],
   "source": []
  },
  {
   "cell_type": "code",
   "execution_count": null,
   "id": "behavioral-guard",
   "metadata": {},
   "outputs": [],
   "source": []
  },
  {
   "cell_type": "markdown",
   "id": "shared-computer",
   "metadata": {},
   "source": [
    "### Pasted over"
   ]
  },
  {
   "cell_type": "code",
   "execution_count": null,
   "id": "boolean-scoop",
   "metadata": {},
   "outputs": [],
   "source": []
  },
  {
   "cell_type": "markdown",
   "id": "conceptual-diameter",
   "metadata": {},
   "source": [
    "### Feature Importance\n",
    "---"
   ]
  },
  {
   "cell_type": "code",
   "execution_count": 43,
   "id": "encouraging-efficiency",
   "metadata": {},
   "outputs": [],
   "source": [
    "# model_ = old_model\n",
    "# gvrn.save_feature_importance_plot(model_.feature_name_, model_.feature_importances_, \n",
    "#                              \"artifacts/old_model_fimp.png\")\n",
    "\n",
    "# model_ = model_v1\n",
    "# gvrn.save_feature_importance_plot(model_.feature_name_, model_.feature_importances_, \n",
    "#                              \"artifacts/model_v1_fimp.png\")\n",
    "\n",
    "# model_ = model_v2\n",
    "# gvrn.save_feature_importance_plot(model_.feature_name_, model_.feature_importances_, \n",
    "#                              \"artifacts/model_v2_fimp.png\")"
   ]
  },
  {
   "cell_type": "markdown",
   "id": "superior-entity",
   "metadata": {},
   "source": [
    "### Shap\n",
    "---"
   ]
  },
  {
   "cell_type": "code",
   "execution_count": 42,
   "id": "worthy-owner",
   "metadata": {},
   "outputs": [],
   "source": [
    "# gvrn.save_shap_dependence(old_model, modeling_df_old, old_model.feature_name_, \"artifacts/shap_old\")\n",
    "# gvrn.save_shap_dependence(model_v1, modeling_df_v1, model_v1.feature_name_, \"artifacts/shap_v1\")\n",
    "# gvrn.save_shap_dependence(model_v2, modeling_df_v2, model_v2.feature_name_, \"artifacts/shap_v2\")"
   ]
  }
 ],
 "metadata": {
  "kernelspec": {
   "display_name": "conda_customer_risk",
   "language": "python",
   "name": "conda_customer_risk"
  },
  "language_info": {
   "codemirror_mode": {
    "name": "ipython",
    "version": 3
   },
   "file_extension": ".py",
   "mimetype": "text/x-python",
   "name": "python",
   "nbconvert_exporter": "python",
   "pygments_lexer": "ipython3",
   "version": "3.7.10"
  }
 },
 "nbformat": 4,
 "nbformat_minor": 5
}
