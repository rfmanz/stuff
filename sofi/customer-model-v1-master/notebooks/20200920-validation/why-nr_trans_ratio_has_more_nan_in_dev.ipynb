{
 "cells": [
  {
   "cell_type": "code",
   "execution_count": 1,
   "metadata": {},
   "outputs": [],
   "source": [
    "import pickle as pkl\n",
    "import numpy as np\n",
    "import pandas as pd\n",
    "\n",
    "import sys\n",
    "sys.path.append('../..')\n",
    "import warnings\n",
    "warnings.filterwarnings(action='ignore')\n",
    "# from train import features, preprocess, encode_defaults, default_values\n",
    "from src.utils import scale_scores\n",
    "import math"
   ]
  },
  {
   "cell_type": "code",
   "execution_count": 4,
   "metadata": {},
   "outputs": [],
   "source": [
    "modeling_df = pd.read_feather('../../data/combined_all_features/combined_1600654492.feather')\n",
    "# transactions_df = pd.read_feather('../../data-transactional/labeled/labeled_1600730035.feather')"
   ]
  },
  {
   "cell_type": "code",
   "execution_count": 5,
   "metadata": {},
   "outputs": [],
   "source": [
    "modeling_df = pd.read_feather('../../data/combined_all_features/combined_1600654492.feather')\n",
    "modeling_df = modeling_df[modeling_df.sample_date == pd.to_datetime('2020-09-18')]\n",
    "active_accounts = modeling_df[(modeling_df.nr_past_transactions > 0) & (modeling_df.nr_transactions_30d > 0)].borrower_id.unique()\n",
    "active_accounts = active_accounts.astype(int)\n",
    "modeling_df['is_active'] = modeling_df.borrower_id.isin(active_accounts)"
   ]
  },
  {
   "cell_type": "code",
   "execution_count": 5,
   "metadata": {},
   "outputs": [],
   "source": [
    "# bids = modeling_df[modeling_df.nr_trans_ratio.isna()]['borrower_id'].unique().astype(int)\n",
    "# bids = set(bids).intersection(active_accounts)"
   ]
  },
  {
   "cell_type": "code",
   "execution_count": 6,
   "metadata": {},
   "outputs": [
    {
     "data": {
      "text/plain": [
       "(60513, 107)"
      ]
     },
     "execution_count": 6,
     "metadata": {},
     "output_type": "execute_result"
    }
   ],
   "source": [
    "modeling_df[modeling_df.is_active].shape"
   ]
  },
  {
   "cell_type": "code",
   "execution_count": 42,
   "metadata": {},
   "outputs": [
    {
     "data": {
      "text/plain": [
       "array([ 2285411,      657,       40, ..., 10509437, 10508672, 10511990])"
      ]
     },
     "execution_count": 42,
     "metadata": {},
     "output_type": "execute_result"
    }
   ],
   "source": [
    "active_accounts.astype(int)"
   ]
  },
  {
   "cell_type": "code",
   "execution_count": 56,
   "metadata": {},
   "outputs": [
    {
     "data": {
      "text/plain": [
       "<AxesSubplot:>"
      ]
     },
     "execution_count": 56,
     "metadata": {},
     "output_type": "execute_result"
    },
    {
     "data": {
      "image/png": "[encoded data removed]",
      "text/plain": [
       "<Figure size 432x288 with 1 Axes>"
      ]
     },
     "metadata": {
      "needs_background": "light"
     },
     "output_type": "display_data"
    }
   ],
   "source": [
    "modeling_df = pd.read_feather('../../data/combined/combined_1600728877.feather')\n",
    "modeling_df.sample_date.hist(bins=100)"
   ]
  },
  {
   "cell_type": "markdown",
   "metadata": {},
   "source": [
    "### Look at transactional data"
   ]
  },
  {
   "cell_type": "code",
   "execution_count": 6,
   "metadata": {},
   "outputs": [],
   "source": [
    "transactions_df = pd.read_feather('../../data-transactional/labeled/labeled_1600730035.feather')"
   ]
  },
  {
   "cell_type": "code",
   "execution_count": 7,
   "metadata": {},
   "outputs": [],
   "source": [
    "transactions_df['is_active'] = transactions_df.borrower_id.isin(active_accounts)\n",
    "transactions_df = transactions_df[transactions_df.is_active]"
   ]
  },
  {
   "cell_type": "code",
   "execution_count": 8,
   "metadata": {},
   "outputs": [
    {
     "data": {
      "text/html": [
       "<div>\n",
       "<style scoped>\n",
       "    .dataframe tbody tr th:only-of-type {\n",
       "        vertical-align: middle;\n",
       "    }\n",
       "\n",
       "    .dataframe tbody tr th {\n",
       "        vertical-align: top;\n",
       "    }\n",
       "\n",
       "    .dataframe thead th {\n",
       "        text-align: right;\n",
       "    }\n",
       "</style>\n",
       "<table border=\"1\" class=\"dataframe\">\n",
       "  <thead>\n",
       "    <tr style=\"text-align: right;\">\n",
       "      <th></th>\n",
       "      <th>index</th>\n",
       "      <th>transaction_datetime</th>\n",
       "      <th>borrower_id</th>\n",
       "      <th>business_account_number</th>\n",
       "      <th>transaction_code</th>\n",
       "      <th>transaction_comment</th>\n",
       "      <th>is_return</th>\n",
       "      <th>transaction_amount</th>\n",
       "      <th>account_ending_balance</th>\n",
       "      <th>card_present_ind</th>\n",
       "      <th>...</th>\n",
       "      <th>account_closed_by_risk_in_next_90d</th>\n",
       "      <th>last_unrestricted_date_in_next_90d</th>\n",
       "      <th>latest_acc_bal</th>\n",
       "      <th>is_chg_wrt_off_in_90d</th>\n",
       "      <th>nr_returns_in_next_90d</th>\n",
       "      <th>bal_after_90d</th>\n",
       "      <th>target</th>\n",
       "      <th>target_with_restriction</th>\n",
       "      <th>indeterminate</th>\n",
       "      <th>is_active</th>\n",
       "    </tr>\n",
       "  </thead>\n",
       "  <tbody>\n",
       "    <tr>\n",
       "      <th>0</th>\n",
       "      <td>0</td>\n",
       "      <td>2017-12-13 16:26:35</td>\n",
       "      <td>37722</td>\n",
       "      <td>410000007044</td>\n",
       "      <td>ACHDD</td>\n",
       "      <td>CO</td>\n",
       "      <td>False</td>\n",
       "      <td>500.00</td>\n",
       "      <td>500.00</td>\n",
       "      <td>False</td>\n",
       "      <td>...</td>\n",
       "      <td>False</td>\n",
       "      <td>False</td>\n",
       "      <td>13261.09</td>\n",
       "      <td>False</td>\n",
       "      <td>1.0</td>\n",
       "      <td>2453.03</td>\n",
       "      <td>False</td>\n",
       "      <td>False</td>\n",
       "      <td>False</td>\n",
       "      <td>True</td>\n",
       "    </tr>\n",
       "    <tr>\n",
       "      <th>1</th>\n",
       "      <td>1</td>\n",
       "      <td>2017-12-19 23:55:21</td>\n",
       "      <td>37722</td>\n",
       "      <td>410000007044</td>\n",
       "      <td>ACHDWIN</td>\n",
       "      <td>PAYPAL VERIFYBANK</td>\n",
       "      <td>False</td>\n",
       "      <td>-0.12</td>\n",
       "      <td>500.00</td>\n",
       "      <td>False</td>\n",
       "      <td>...</td>\n",
       "      <td>False</td>\n",
       "      <td>False</td>\n",
       "      <td>13261.09</td>\n",
       "      <td>False</td>\n",
       "      <td>1.0</td>\n",
       "      <td>2363.09</td>\n",
       "      <td>False</td>\n",
       "      <td>False</td>\n",
       "      <td>False</td>\n",
       "      <td>True</td>\n",
       "    </tr>\n",
       "    <tr>\n",
       "      <th>2</th>\n",
       "      <td>2</td>\n",
       "      <td>2017-12-19 23:55:21</td>\n",
       "      <td>37722</td>\n",
       "      <td>410000007044</td>\n",
       "      <td>ACHDDIN</td>\n",
       "      <td>PAYPAL VERIFYBANK</td>\n",
       "      <td>False</td>\n",
       "      <td>0.10</td>\n",
       "      <td>500.14</td>\n",
       "      <td>False</td>\n",
       "      <td>...</td>\n",
       "      <td>False</td>\n",
       "      <td>False</td>\n",
       "      <td>13261.09</td>\n",
       "      <td>False</td>\n",
       "      <td>1.0</td>\n",
       "      <td>2363.09</td>\n",
       "      <td>False</td>\n",
       "      <td>False</td>\n",
       "      <td>False</td>\n",
       "      <td>True</td>\n",
       "    </tr>\n",
       "    <tr>\n",
       "      <th>3</th>\n",
       "      <td>3</td>\n",
       "      <td>2017-12-19 23:55:21</td>\n",
       "      <td>37722</td>\n",
       "      <td>410000007044</td>\n",
       "      <td>ACHDDIN</td>\n",
       "      <td>PAYPAL VERIFYBANK</td>\n",
       "      <td>False</td>\n",
       "      <td>0.10</td>\n",
       "      <td>500.24</td>\n",
       "      <td>False</td>\n",
       "      <td>...</td>\n",
       "      <td>False</td>\n",
       "      <td>False</td>\n",
       "      <td>13261.09</td>\n",
       "      <td>False</td>\n",
       "      <td>1.0</td>\n",
       "      <td>2363.09</td>\n",
       "      <td>False</td>\n",
       "      <td>False</td>\n",
       "      <td>False</td>\n",
       "      <td>True</td>\n",
       "    </tr>\n",
       "    <tr>\n",
       "      <th>4</th>\n",
       "      <td>4</td>\n",
       "      <td>2017-12-19 23:55:21</td>\n",
       "      <td>37722</td>\n",
       "      <td>410000007044</td>\n",
       "      <td>ACHDWIN</td>\n",
       "      <td>PAYPAL VERIFYBANK</td>\n",
       "      <td>False</td>\n",
       "      <td>-0.14</td>\n",
       "      <td>500.12</td>\n",
       "      <td>False</td>\n",
       "      <td>...</td>\n",
       "      <td>False</td>\n",
       "      <td>False</td>\n",
       "      <td>13261.09</td>\n",
       "      <td>False</td>\n",
       "      <td>1.0</td>\n",
       "      <td>2363.09</td>\n",
       "      <td>False</td>\n",
       "      <td>False</td>\n",
       "      <td>False</td>\n",
       "      <td>True</td>\n",
       "    </tr>\n",
       "  </tbody>\n",
       "</table>\n",
       "<p>5 rows × 165 columns</p>\n",
       "</div>"
      ],
      "text/plain": [
       "   index transaction_datetime  borrower_id  business_account_number  \\\n",
       "0      0  2017-12-13 16:26:35        37722             410000007044   \n",
       "1      1  2017-12-19 23:55:21        37722             410000007044   \n",
       "2      2  2017-12-19 23:55:21        37722             410000007044   \n",
       "3      3  2017-12-19 23:55:21        37722             410000007044   \n",
       "4      4  2017-12-19 23:55:21        37722             410000007044   \n",
       "\n",
       "  transaction_code transaction_comment  is_return  transaction_amount  \\\n",
       "0            ACHDD                  CO      False              500.00   \n",
       "1          ACHDWIN   PAYPAL VERIFYBANK      False               -0.12   \n",
       "2          ACHDDIN   PAYPAL VERIFYBANK      False                0.10   \n",
       "3          ACHDDIN   PAYPAL VERIFYBANK      False                0.10   \n",
       "4          ACHDWIN   PAYPAL VERIFYBANK      False               -0.14   \n",
       "\n",
       "   account_ending_balance  card_present_ind  ...  \\\n",
       "0                  500.00             False  ...   \n",
       "1                  500.00             False  ...   \n",
       "2                  500.14             False  ...   \n",
       "3                  500.24             False  ...   \n",
       "4                  500.12             False  ...   \n",
       "\n",
       "  account_closed_by_risk_in_next_90d  last_unrestricted_date_in_next_90d  \\\n",
       "0                              False                               False   \n",
       "1                              False                               False   \n",
       "2                              False                               False   \n",
       "3                              False                               False   \n",
       "4                              False                               False   \n",
       "\n",
       "   latest_acc_bal  is_chg_wrt_off_in_90d nr_returns_in_next_90d bal_after_90d  \\\n",
       "0        13261.09                  False                    1.0       2453.03   \n",
       "1        13261.09                  False                    1.0       2363.09   \n",
       "2        13261.09                  False                    1.0       2363.09   \n",
       "3        13261.09                  False                    1.0       2363.09   \n",
       "4        13261.09                  False                    1.0       2363.09   \n",
       "\n",
       "   target  target_with_restriction indeterminate is_active  \n",
       "0   False                    False         False      True  \n",
       "1   False                    False         False      True  \n",
       "2   False                    False         False      True  \n",
       "3   False                    False         False      True  \n",
       "4   False                    False         False      True  \n",
       "\n",
       "[5 rows x 165 columns]"
      ]
     },
     "execution_count": 8,
     "metadata": {},
     "output_type": "execute_result"
    }
   ],
   "source": [
    "transactions_df.head()"
   ]
  },
  {
   "cell_type": "code",
   "execution_count": 9,
   "metadata": {},
   "outputs": [
    {
     "data": {
      "text/plain": [
       "60512"
      ]
     },
     "execution_count": 9,
     "metadata": {},
     "output_type": "execute_result"
    }
   ],
   "source": [
    "transactions_df.borrower_id.nunique()"
   ]
  },
  {
   "cell_type": "code",
   "execution_count": 11,
   "metadata": {},
   "outputs": [
    {
     "data": {
      "text/plain": [
       "array([   37722,  4834950,  3411668, ..., 10509437, 10508672, 10511990])"
      ]
     },
     "execution_count": 11,
     "metadata": {},
     "output_type": "execute_result"
    }
   ],
   "source": [
    "transactions_df.borrower_id.unique()"
   ]
  },
  {
   "cell_type": "code",
   "execution_count": 12,
   "metadata": {},
   "outputs": [
    {
     "data": {
      "text/plain": [
       "4209991     5261\n",
       "1465248     3820\n",
       "1185989     3752\n",
       "4673803     3732\n",
       "6312724     3726\n",
       "            ... \n",
       "10414457       2\n",
       "10271241       2\n",
       "10198094       2\n",
       "2248376        1\n",
       "10153942       1\n",
       "Name: borrower_id, Length: 60512, dtype: int64"
      ]
     },
     "execution_count": 12,
     "metadata": {},
     "output_type": "execute_result"
    }
   ],
   "source": [
    "transactions_df.borrower_id.value_counts().sort_values(ascending=False)"
   ]
  },
  {
   "cell_type": "code",
   "execution_count": 16,
   "metadata": {},
   "outputs": [],
   "source": [
    "debug_df = transactions_df[transactions_df.borrower_id==1185989]"
   ]
  },
  {
   "cell_type": "code",
   "execution_count": 17,
   "metadata": {},
   "outputs": [
    {
     "data": {
      "text/plain": [
       "1150413    1.000000\n",
       "1150414    0.500000\n",
       "1150415    0.666667\n",
       "1150416    0.750000\n",
       "1150417    0.800000\n",
       "             ...   \n",
       "1154160    0.094595\n",
       "1154161    0.100671\n",
       "1154162    0.093333\n",
       "1154163    0.079470\n",
       "1154164    0.041096\n",
       "Length: 3752, dtype: float64"
      ]
     },
     "execution_count": 17,
     "metadata": {},
     "output_type": "execute_result"
    }
   ],
   "source": [
    "debug_df['nr_transactions_3d'] / debug_df['nr_transactions_30d']"
   ]
  },
  {
   "cell_type": "code",
   "execution_count": 21,
   "metadata": {},
   "outputs": [
    {
     "data": {
      "text/html": [
       "<div>\n",
       "<style scoped>\n",
       "    .dataframe tbody tr th:only-of-type {\n",
       "        vertical-align: middle;\n",
       "    }\n",
       "\n",
       "    .dataframe tbody tr th {\n",
       "        vertical-align: top;\n",
       "    }\n",
       "\n",
       "    .dataframe thead th {\n",
       "        text-align: right;\n",
       "    }\n",
       "</style>\n",
       "<table border=\"1\" class=\"dataframe\">\n",
       "  <thead>\n",
       "    <tr style=\"text-align: right;\">\n",
       "      <th></th>\n",
       "      <th>index</th>\n",
       "      <th>transaction_datetime</th>\n",
       "      <th>borrower_id</th>\n",
       "      <th>business_account_number</th>\n",
       "      <th>transaction_code</th>\n",
       "      <th>transaction_comment</th>\n",
       "      <th>is_return</th>\n",
       "      <th>transaction_amount</th>\n",
       "      <th>account_ending_balance</th>\n",
       "      <th>card_present_ind</th>\n",
       "      <th>...</th>\n",
       "      <th>account_closed_by_risk_in_next_90d</th>\n",
       "      <th>last_unrestricted_date_in_next_90d</th>\n",
       "      <th>latest_acc_bal</th>\n",
       "      <th>is_chg_wrt_off_in_90d</th>\n",
       "      <th>nr_returns_in_next_90d</th>\n",
       "      <th>bal_after_90d</th>\n",
       "      <th>target</th>\n",
       "      <th>target_with_restriction</th>\n",
       "      <th>indeterminate</th>\n",
       "      <th>is_active</th>\n",
       "    </tr>\n",
       "  </thead>\n",
       "  <tbody>\n",
       "    <tr>\n",
       "      <th>1150413</th>\n",
       "      <td>1150413</td>\n",
       "      <td>2018-09-02 14:52:19</td>\n",
       "      <td>1185989</td>\n",
       "      <td>410000158103</td>\n",
       "      <td>ACHDD</td>\n",
       "      <td>CO</td>\n",
       "      <td>False</td>\n",
       "      <td>500.00</td>\n",
       "      <td>500.00</td>\n",
       "      <td>False</td>\n",
       "      <td>...</td>\n",
       "      <td>False</td>\n",
       "      <td>False</td>\n",
       "      <td>6908.32</td>\n",
       "      <td>False</td>\n",
       "      <td>0.0</td>\n",
       "      <td>18981.55</td>\n",
       "      <td>False</td>\n",
       "      <td>False</td>\n",
       "      <td>False</td>\n",
       "      <td>True</td>\n",
       "    </tr>\n",
       "    <tr>\n",
       "      <th>1150414</th>\n",
       "      <td>1150414</td>\n",
       "      <td>2018-09-06 12:05:48</td>\n",
       "      <td>1185989</td>\n",
       "      <td>410000158103</td>\n",
       "      <td>POSDW</td>\n",
       "      <td>MOBY DICK HOUSE OF KAB WASHINGTON, DC, US</td>\n",
       "      <td>False</td>\n",
       "      <td>-12.09</td>\n",
       "      <td>484.15</td>\n",
       "      <td>True</td>\n",
       "      <td>...</td>\n",
       "      <td>False</td>\n",
       "      <td>False</td>\n",
       "      <td>6908.32</td>\n",
       "      <td>False</td>\n",
       "      <td>0.0</td>\n",
       "      <td>14906.87</td>\n",
       "      <td>False</td>\n",
       "      <td>False</td>\n",
       "      <td>False</td>\n",
       "      <td>True</td>\n",
       "    </tr>\n",
       "    <tr>\n",
       "      <th>1150415</th>\n",
       "      <td>1150415</td>\n",
       "      <td>2018-09-06 20:53:50</td>\n",
       "      <td>1185989</td>\n",
       "      <td>410000158103</td>\n",
       "      <td>POSDW</td>\n",
       "      <td>HARRIS TEETER #0 12960 HIGHLAND CROS HERNDON, ...</td>\n",
       "      <td>False</td>\n",
       "      <td>-3.76</td>\n",
       "      <td>496.24</td>\n",
       "      <td>True</td>\n",
       "      <td>...</td>\n",
       "      <td>False</td>\n",
       "      <td>False</td>\n",
       "      <td>6908.32</td>\n",
       "      <td>False</td>\n",
       "      <td>0.0</td>\n",
       "      <td>14926.87</td>\n",
       "      <td>False</td>\n",
       "      <td>False</td>\n",
       "      <td>False</td>\n",
       "      <td>True</td>\n",
       "    </tr>\n",
       "    <tr>\n",
       "      <th>1150416</th>\n",
       "      <td>1150416</td>\n",
       "      <td>2018-09-07 12:09:23</td>\n",
       "      <td>1185989</td>\n",
       "      <td>410000158103</td>\n",
       "      <td>POSDW</td>\n",
       "      <td>CHOPT - DUPONT WASHINGTON, DC, US</td>\n",
       "      <td>False</td>\n",
       "      <td>-12.09</td>\n",
       "      <td>472.06</td>\n",
       "      <td>True</td>\n",
       "      <td>...</td>\n",
       "      <td>False</td>\n",
       "      <td>False</td>\n",
       "      <td>6908.32</td>\n",
       "      <td>False</td>\n",
       "      <td>0.0</td>\n",
       "      <td>14926.87</td>\n",
       "      <td>False</td>\n",
       "      <td>False</td>\n",
       "      <td>False</td>\n",
       "      <td>True</td>\n",
       "    </tr>\n",
       "    <tr>\n",
       "      <th>1150417</th>\n",
       "      <td>1150417</td>\n",
       "      <td>2018-09-07 20:49:14</td>\n",
       "      <td>1185989</td>\n",
       "      <td>410000158103</td>\n",
       "      <td>POSDW</td>\n",
       "      <td>KORA RESTAURANT ARLINGTON, VA, US</td>\n",
       "      <td>False</td>\n",
       "      <td>-15.00</td>\n",
       "      <td>457.06</td>\n",
       "      <td>True</td>\n",
       "      <td>...</td>\n",
       "      <td>False</td>\n",
       "      <td>False</td>\n",
       "      <td>6908.32</td>\n",
       "      <td>False</td>\n",
       "      <td>0.0</td>\n",
       "      <td>14789.86</td>\n",
       "      <td>False</td>\n",
       "      <td>False</td>\n",
       "      <td>False</td>\n",
       "      <td>True</td>\n",
       "    </tr>\n",
       "    <tr>\n",
       "      <th>...</th>\n",
       "      <td>...</td>\n",
       "      <td>...</td>\n",
       "      <td>...</td>\n",
       "      <td>...</td>\n",
       "      <td>...</td>\n",
       "      <td>...</td>\n",
       "      <td>...</td>\n",
       "      <td>...</td>\n",
       "      <td>...</td>\n",
       "      <td>...</td>\n",
       "      <td>...</td>\n",
       "      <td>...</td>\n",
       "      <td>...</td>\n",
       "      <td>...</td>\n",
       "      <td>...</td>\n",
       "      <td>...</td>\n",
       "      <td>...</td>\n",
       "      <td>...</td>\n",
       "      <td>...</td>\n",
       "      <td>...</td>\n",
       "      <td>...</td>\n",
       "    </tr>\n",
       "    <tr>\n",
       "      <th>1154160</th>\n",
       "      <td>1154160</td>\n",
       "      <td>2020-08-27 19:43:55</td>\n",
       "      <td>1185989</td>\n",
       "      <td>410000158103</td>\n",
       "      <td>POSDW</td>\n",
       "      <td>Dacha Navy Yard 202-9193800, DC</td>\n",
       "      <td>False</td>\n",
       "      <td>-12.56</td>\n",
       "      <td>1048.46</td>\n",
       "      <td>False</td>\n",
       "      <td>...</td>\n",
       "      <td>False</td>\n",
       "      <td>False</td>\n",
       "      <td>6908.32</td>\n",
       "      <td>False</td>\n",
       "      <td>0.0</td>\n",
       "      <td>6908.32</td>\n",
       "      <td>False</td>\n",
       "      <td>False</td>\n",
       "      <td>False</td>\n",
       "      <td>True</td>\n",
       "    </tr>\n",
       "    <tr>\n",
       "      <th>1154161</th>\n",
       "      <td>1154161</td>\n",
       "      <td>2020-08-27 19:44:44</td>\n",
       "      <td>1185989</td>\n",
       "      <td>410000158103</td>\n",
       "      <td>POSDW</td>\n",
       "      <td>Bardo Brewery Washinton, DC</td>\n",
       "      <td>False</td>\n",
       "      <td>-17.00</td>\n",
       "      <td>949.51</td>\n",
       "      <td>False</td>\n",
       "      <td>...</td>\n",
       "      <td>False</td>\n",
       "      <td>False</td>\n",
       "      <td>6908.32</td>\n",
       "      <td>False</td>\n",
       "      <td>0.0</td>\n",
       "      <td>6908.32</td>\n",
       "      <td>False</td>\n",
       "      <td>False</td>\n",
       "      <td>False</td>\n",
       "      <td>True</td>\n",
       "    </tr>\n",
       "    <tr>\n",
       "      <th>1154162</th>\n",
       "      <td>1154162</td>\n",
       "      <td>2020-08-27 20:45:30</td>\n",
       "      <td>1185989</td>\n",
       "      <td>410000158103</td>\n",
       "      <td>POSDW</td>\n",
       "      <td>DUE SOUTH DOCKSIDE WASHINGTON, DC</td>\n",
       "      <td>False</td>\n",
       "      <td>-23.38</td>\n",
       "      <td>966.51</td>\n",
       "      <td>False</td>\n",
       "      <td>...</td>\n",
       "      <td>False</td>\n",
       "      <td>False</td>\n",
       "      <td>6908.32</td>\n",
       "      <td>False</td>\n",
       "      <td>0.0</td>\n",
       "      <td>6908.32</td>\n",
       "      <td>False</td>\n",
       "      <td>False</td>\n",
       "      <td>False</td>\n",
       "      <td>True</td>\n",
       "    </tr>\n",
       "    <tr>\n",
       "      <th>1154163</th>\n",
       "      <td>1154163</td>\n",
       "      <td>2020-08-28 05:17:03</td>\n",
       "      <td>1185989</td>\n",
       "      <td>410000158103</td>\n",
       "      <td>POSDW</td>\n",
       "      <td>APPLE.COM/BILL 866-712-7753, CA</td>\n",
       "      <td>False</td>\n",
       "      <td>-0.99</td>\n",
       "      <td>1061.02</td>\n",
       "      <td>False</td>\n",
       "      <td>...</td>\n",
       "      <td>False</td>\n",
       "      <td>False</td>\n",
       "      <td>6908.32</td>\n",
       "      <td>False</td>\n",
       "      <td>0.0</td>\n",
       "      <td>6908.32</td>\n",
       "      <td>False</td>\n",
       "      <td>False</td>\n",
       "      <td>False</td>\n",
       "      <td>True</td>\n",
       "    </tr>\n",
       "    <tr>\n",
       "      <th>1154164</th>\n",
       "      <td>1154164</td>\n",
       "      <td>2020-08-30 13:25:58</td>\n",
       "      <td>1185989</td>\n",
       "      <td>410000158103</td>\n",
       "      <td>POSDW</td>\n",
       "      <td>7-ELEVEN Annapolis, MD</td>\n",
       "      <td>False</td>\n",
       "      <td>-41.19</td>\n",
       "      <td>908.32</td>\n",
       "      <td>False</td>\n",
       "      <td>...</td>\n",
       "      <td>False</td>\n",
       "      <td>False</td>\n",
       "      <td>6908.32</td>\n",
       "      <td>False</td>\n",
       "      <td>0.0</td>\n",
       "      <td>6908.32</td>\n",
       "      <td>False</td>\n",
       "      <td>False</td>\n",
       "      <td>False</td>\n",
       "      <td>True</td>\n",
       "    </tr>\n",
       "  </tbody>\n",
       "</table>\n",
       "<p>3752 rows × 165 columns</p>\n",
       "</div>"
      ],
      "text/plain": [
       "           index transaction_datetime  borrower_id  business_account_number  \\\n",
       "1150413  1150413  2018-09-02 14:52:19      1185989             410000158103   \n",
       "1150414  1150414  2018-09-06 12:05:48      1185989             410000158103   \n",
       "1150415  1150415  2018-09-06 20:53:50      1185989             410000158103   \n",
       "1150416  1150416  2018-09-07 12:09:23      1185989             410000158103   \n",
       "1150417  1150417  2018-09-07 20:49:14      1185989             410000158103   \n",
       "...          ...                  ...          ...                      ...   \n",
       "1154160  1154160  2020-08-27 19:43:55      1185989             410000158103   \n",
       "1154161  1154161  2020-08-27 19:44:44      1185989             410000158103   \n",
       "1154162  1154162  2020-08-27 20:45:30      1185989             410000158103   \n",
       "1154163  1154163  2020-08-28 05:17:03      1185989             410000158103   \n",
       "1154164  1154164  2020-08-30 13:25:58      1185989             410000158103   \n",
       "\n",
       "        transaction_code                                transaction_comment  \\\n",
       "1150413            ACHDD                                                 CO   \n",
       "1150414            POSDW         MOBY DICK HOUSE OF KAB WASHINGTON, DC, US    \n",
       "1150415            POSDW  HARRIS TEETER #0 12960 HIGHLAND CROS HERNDON, ...   \n",
       "1150416            POSDW                 CHOPT - DUPONT WASHINGTON, DC, US    \n",
       "1150417            POSDW                 KORA RESTAURANT ARLINGTON, VA, US    \n",
       "...                  ...                                                ...   \n",
       "1154160            POSDW                    Dacha Navy Yard 202-9193800, DC   \n",
       "1154161            POSDW                        Bardo Brewery Washinton, DC   \n",
       "1154162            POSDW                  DUE SOUTH DOCKSIDE WASHINGTON, DC   \n",
       "1154163            POSDW                    APPLE.COM/BILL 866-712-7753, CA   \n",
       "1154164            POSDW                             7-ELEVEN Annapolis, MD   \n",
       "\n",
       "         is_return  transaction_amount  account_ending_balance  \\\n",
       "1150413      False              500.00                  500.00   \n",
       "1150414      False              -12.09                  484.15   \n",
       "1150415      False               -3.76                  496.24   \n",
       "1150416      False              -12.09                  472.06   \n",
       "1150417      False              -15.00                  457.06   \n",
       "...            ...                 ...                     ...   \n",
       "1154160      False              -12.56                 1048.46   \n",
       "1154161      False              -17.00                  949.51   \n",
       "1154162      False              -23.38                  966.51   \n",
       "1154163      False               -0.99                 1061.02   \n",
       "1154164      False              -41.19                  908.32   \n",
       "\n",
       "         card_present_ind  ... account_closed_by_risk_in_next_90d  \\\n",
       "1150413             False  ...                              False   \n",
       "1150414              True  ...                              False   \n",
       "1150415              True  ...                              False   \n",
       "1150416              True  ...                              False   \n",
       "1150417              True  ...                              False   \n",
       "...                   ...  ...                                ...   \n",
       "1154160             False  ...                              False   \n",
       "1154161             False  ...                              False   \n",
       "1154162             False  ...                              False   \n",
       "1154163             False  ...                              False   \n",
       "1154164             False  ...                              False   \n",
       "\n",
       "         last_unrestricted_date_in_next_90d  latest_acc_bal  \\\n",
       "1150413                               False         6908.32   \n",
       "1150414                               False         6908.32   \n",
       "1150415                               False         6908.32   \n",
       "1150416                               False         6908.32   \n",
       "1150417                               False         6908.32   \n",
       "...                                     ...             ...   \n",
       "1154160                               False         6908.32   \n",
       "1154161                               False         6908.32   \n",
       "1154162                               False         6908.32   \n",
       "1154163                               False         6908.32   \n",
       "1154164                               False         6908.32   \n",
       "\n",
       "         is_chg_wrt_off_in_90d nr_returns_in_next_90d bal_after_90d  target  \\\n",
       "1150413                  False                    0.0      18981.55   False   \n",
       "1150414                  False                    0.0      14906.87   False   \n",
       "1150415                  False                    0.0      14926.87   False   \n",
       "1150416                  False                    0.0      14926.87   False   \n",
       "1150417                  False                    0.0      14789.86   False   \n",
       "...                        ...                    ...           ...     ...   \n",
       "1154160                  False                    0.0       6908.32   False   \n",
       "1154161                  False                    0.0       6908.32   False   \n",
       "1154162                  False                    0.0       6908.32   False   \n",
       "1154163                  False                    0.0       6908.32   False   \n",
       "1154164                  False                    0.0       6908.32   False   \n",
       "\n",
       "         target_with_restriction indeterminate is_active  \n",
       "1150413                    False         False      True  \n",
       "1150414                    False         False      True  \n",
       "1150415                    False         False      True  \n",
       "1150416                    False         False      True  \n",
       "1150417                    False         False      True  \n",
       "...                          ...           ...       ...  \n",
       "1154160                    False         False      True  \n",
       "1154161                    False         False      True  \n",
       "1154162                    False         False      True  \n",
       "1154163                    False         False      True  \n",
       "1154164                    False         False      True  \n",
       "\n",
       "[3752 rows x 165 columns]"
      ]
     },
     "execution_count": 21,
     "metadata": {},
     "output_type": "execute_result"
    }
   ],
   "source": [
    "debug_df.sort_values(by=['transaction_datetime'])"
   ]
  },
  {
   "cell_type": "code",
   "execution_count": 23,
   "metadata": {},
   "outputs": [],
   "source": [
    "active_df = transactions_df[transactions_df.is_active]"
   ]
  },
  {
   "cell_type": "code",
   "execution_count": 24,
   "metadata": {},
   "outputs": [
    {
     "data": {
      "text/plain": [
       "<AxesSubplot:>"
      ]
     },
     "execution_count": 24,
     "metadata": {},
     "output_type": "execute_result"
    },
    {
     "data": {
      "image/png": "[encoded data removed]",
      "text/plain": [
       "<Figure size 432x288 with 1 Axes>"
      ]
     },
     "metadata": {
      "needs_background": "light"
     },
     "output_type": "display_data"
    }
   ],
   "source": [
    "active_df.transaction_datetime.hist()"
   ]
  },
  {
   "cell_type": "code",
   "execution_count": 25,
   "metadata": {},
   "outputs": [
    {
     "data": {
      "text/plain": [
       "Timestamp('2020-08-30 23:59:49')"
      ]
     },
     "execution_count": 25,
     "metadata": {},
     "output_type": "execute_result"
    }
   ],
   "source": [
    "active_df.transaction_datetime.max()"
   ]
  },
  {
   "cell_type": "code",
   "execution_count": 26,
   "metadata": {},
   "outputs": [
    {
     "data": {
      "text/plain": [
       "Timestamp('2020-08-30 23:59:49')"
      ]
     },
     "execution_count": 26,
     "metadata": {},
     "output_type": "execute_result"
    }
   ],
   "source": [
    "transactions_df.transaction_datetime.max()"
   ]
  },
  {
   "cell_type": "code",
   "execution_count": null,
   "metadata": {},
   "outputs": [],
   "source": [
    "query = \"\"\"\n",
    "SELECT tjd,\n",
    "       dtj.time,\n",
    "       dtj.cid AS business_account_number,\n",
    "       cdt AS created_dt,\n",
    "       endbal,\n",
    "       dtj.etc AS transaction_code,\n",
    "       tamt AS transaction_amount,\n",
    "       trn.dc as is_credit,\n",
    "       cif.zsofiid as user_id,\n",
    "       split_part(split_part(tso, 'RCID#', 2), '~', 1) AS external_account_number,\n",
    "       split_part(split_part(dtj.tso, 'RINS#', 2), '~', 1) AS external_institution_id,\n",
    "       split_part(split_part(dtj.tso, 'ACHCOID#', 2), '~', 1) AS originating_company_id,\n",
    "       split_part(split_part(dtj.tso, 'ACHID#', 2), '~', 1) AS external_institution_trans_id,\n",
    "       split_part(split_part(dtj.tso, 'ACHODFI#', 2), '~', 1) AS originator_dfi_id,\n",
    "       auth.merchnm AS merchant_name\n",
    "FROM dtj\n",
    "LEFT JOIN authdtl auth ON auth.authid = split_part(split_part(dtj.tso, 'AUTHID#', 2), '~', 1) AND dtj.tso LIKE '%%AUTHID#%%'\n",
    "JOIN profile_reporting.dep ON dep.cid = dtj.cid\n",
    "JOIN cif ON cif.acn = dep.acn\n",
    "LEFT JOIN trn on dtj.etc = trn.etc\n",
    "WHERE endbal IS NOT NULL\n",
    "      and tamt IS NOT NULL\n",
    "      and tamt NOT LIKE '%%#%%'\n",
    "LIMIT 10;\n",
    "\"\"\""
   ]
  },
  {
   "cell_type": "code",
   "execution_count": null,
   "metadata": {},
   "outputs": [],
   "source": [
    "from rdsutils.query import query_postgres\n",
    "\n",
    "df = query_postgres(query=query,\n",
    "                    port=15556,\n",
    "                    database='sofi_profile_reporting')"
   ]
  },
  {
   "cell_type": "code",
   "execution_count": 2,
   "metadata": {},
   "outputs": [],
   "source": [
    "modeling_df = pd.read_feather('../../data/combined/combined_1600752894.feather')"
   ]
  },
  {
   "cell_type": "code",
   "execution_count": 7,
   "metadata": {},
   "outputs": [
    {
     "data": {
      "text/plain": [
       "Timestamp('2020-09-18 00:00:00')"
      ]
     },
     "execution_count": 7,
     "metadata": {},
     "output_type": "execute_result"
    }
   ],
   "source": [
    "modeling_df.sample_date.max()"
   ]
  },
  {
   "cell_type": "code",
   "execution_count": null,
   "metadata": {},
   "outputs": [],
   "source": []
  }
 ],
 "metadata": {
  "kernelspec": {
   "display_name": "conda_ml_basic_py37",
   "language": "python",
   "name": "conda_ml_basic_py37"
  },
  "language_info": {
   "codemirror_mode": {
    "name": "ipython",
    "version": 3
   },
   "file_extension": ".py",
   "mimetype": "text/x-python",
   "name": "python",
   "nbconvert_exporter": "python",
   "pygments_lexer": "ipython3",
   "version": "3.7.9"
  }
 },
 "nbformat": 4,
 "nbformat_minor": 4
}
