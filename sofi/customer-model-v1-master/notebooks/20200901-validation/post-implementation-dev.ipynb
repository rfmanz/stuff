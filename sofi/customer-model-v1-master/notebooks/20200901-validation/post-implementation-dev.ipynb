{
 "cells": [
  {
   "cell_type": "markdown",
   "metadata": {},
   "source": [
    "### Validation for 2020-08-28 onboarding customer score run\n",
    "---"
   ]
  },
  {
   "cell_type": "code",
   "execution_count": 1,
   "metadata": {},
   "outputs": [],
   "source": [
    "import pickle as pkl\n",
    "import numpy as np\n",
    "import pandas as pd\n",
    "\n",
    "import sys\n",
    "sys.path.append('../..')\n",
    "import warnings\n",
    "warnings.filterwarnings(action='ignore')\n",
    "# from train import features, preprocess, encode_defaults, default_values\n",
    "from src.utils import scale_scores\n",
    "import math\n",
    "from sklearn.metrics import mean_squared_error, mean_absolute_error\n",
    "\n",
    "import matplotlib.pyplot as plt\n",
    "plt.style.use('seaborn-poster')\n",
    "from rdsutils.post_implementation_testing import plot_score_dist, get_psi, get_overlap_and_diff\n",
    "from rdsutils.post_implementation_testing import plot_difference, get_combined_dfs, get_feature_comparison_report"
   ]
  },
  {
   "cell_type": "markdown",
   "metadata": {},
   "source": [
    "### Data Preprocessing"
   ]
  },
  {
   "cell_type": "code",
   "execution_count": 2,
   "metadata": {},
   "outputs": [],
   "source": [
    "from collections import defaultdict\n",
    "\n",
    "def encode_defaults(df, default_values):\n",
    "    \"\"\"Replace default values with NaN, int encode them\"\"\"\n",
    "    default_encoded_cols = []\n",
    "    for k, (v, encode) in default_values.items():\n",
    "        cname = k + '_default_encoded'\n",
    "\n",
    "        if isinstance(v, pd.Interval):\n",
    "            is_default = ~df[k].between(v.left, v.right) & ~df[k].isna()\n",
    "        elif isinstance(v, list):\n",
    "            is_default = df[k].isin(k)\n",
    "        else:\n",
    "            raise RuntimeError('Data type {} not supported'.format(str(type(v))))\n",
    "        \n",
    "        if ~is_default.isna().all():\n",
    "            if encode:\n",
    "                default_encoded_cols.append(cname)\n",
    "                df.loc[is_default, cname] = is_default * df[k]\n",
    "            df.loc[is_default, k] = np.nan #set default values to NaN\n",
    "        \n",
    "    return df, default_encoded_cols\n",
    "\n",
    "\n",
    "cols_raw = ['first_deposit_amount', 'vantage_score', 'bcc7120', 'email_risk_score', \n",
    "            'fraud_score_2', 'name_email_correlation', 'transaction_as_pct_of_balance', \n",
    "            'mean_account_balance_30d', 'phone_risk_score', 'giact_time_since_last_link', \n",
    "            'name_address_correlation', 'all8220', 'lag_acc_open_first_transaction', \n",
    "            'dollar_val_dd', 'all7120', 'sum_deposits_10d', 'nr_past_transactions', \n",
    "            'total_tradelines_open', 'education_loan_amount', 'address_risk_score',\n",
    "            'iqt9415', 'max_withdrawals_30d', 'iln5520', 'max_deposits_30d', \n",
    "            'pct_returned_deposits', 'giact_nr_decline', 'nr_direct_deposits', \n",
    "            'time_since_last_transaction', 'bal_ratio', 'name_phone_correlation', \n",
    "            'giact_nr_other', 'dollar_val_returns', 'nr_trans_ratio', 'iqt9413', \n",
    "            'dollar_val_returns_3d', 'nr_returns_30d', 'credit_card_loan_amount',\n",
    "            'fraud_score_1', 'age_money_account']\n",
    "\n",
    "cols_raw_ni = ['transaction_code']\n",
    "\n",
    "cols_encoded = ['transaction_code_encoded', 'all7120_default_encoded', 'bcc7120_default_encoded']\n",
    "\n",
    "features = cols_raw + cols_encoded\n",
    "\n",
    "default_values = {\n",
    "    'vantage_score': [pd.Interval(300, 850), False],\n",
    "    'all7120': [pd.Interval(0, 990), True],\n",
    "    'all8220': [pd.Interval(0, 9990), False],\n",
    "    'bcc7120': [pd.Interval(0, 990), True],\n",
    "    'iln5520': [pd.Interval(0, 999999990), False],\n",
    "    'iqt9413': [pd.Interval(0, 90), False]\n",
    "}\n",
    "\n",
    "def preprocess(df):\n",
    "    \"\"\"\n",
    "    Code to preprocess model.\n",
    "    \"\"\"\n",
    "    # mapping from transaction code to integer\n",
    "    tcode_map = defaultdict(int,\n",
    "                            {'POSDW': 1,\n",
    "                             'ACHDD': 2,\n",
    "                             'ACHDWIN': 3,\n",
    "                             'ACHDDIN': 4,\n",
    "                             'ACHDW': 5,\n",
    "                             'ACHINDD': 6,\n",
    "                             'DDATMREFUND': 7,\n",
    "                             'DWATM': 8,\n",
    "                             'DDRAFNEW':9,\n",
    "                             'DDCK': 10})\n",
    "\n",
    "    df['transaction_code_encoded'] = df['transaction_code'].map(tcode_map)\n",
    "    \n",
    "    # clip to handle infinite values and outliers\n",
    "    df['transaction_as_pct_of_balance'] = df['transaction_as_pct_of_balance'].clip(-750, 750)\n",
    "    df['bal_ratio'] = df['bal_ratio'].clip(-750, 750)\n",
    "    df['pct_returned_deposits'] = df['pct_returned_deposits'].clip(0, 100)\n",
    "\n",
    "    # fill na here with 0, can't be NaN just indicates lack of data\n",
    "    df['transaction_as_pct_of_balance'] = df['transaction_as_pct_of_balance'].fillna(0)\n",
    "    df['max_withdrawals_30d'] = df['max_withdrawals_30d'].fillna(0)\n",
    "    df['max_deposits_30d'] = df['max_deposits_30d'].fillna(0)\n",
    "    df['pct_returned_deposits'] = df['pct_returned_deposits'].fillna(0)\n",
    "    df['bal_ratio'] = df['bal_ratio'].fillna(0)\n",
    "    df['sum_deposits_10d'] = df['sum_deposits_10d'].fillna(0)\n",
    "    df['mean_account_balance_30d'] = df['mean_account_balance_30d'].fillna(0)\n",
    "    df['dollar_val_dd'] = df['dollar_val_dd'].fillna(0) \n",
    "    df['nr_direct_deposits'] = df['nr_direct_deposits'].fillna(0)\n",
    "    df['nr_past_transactions'] = df['nr_past_transactions'].fillna(0)\n",
    "    df['dollar_val_returns'] = df['dollar_val_returns'].fillna(0)\n",
    "    df['dollar_val_returns_3d'] = df['dollar_val_returns_3d'].fillna(0)\n",
    "    df['nr_returns_30d'] = df['nr_returns_30d'].fillna(0)\n",
    "\n",
    "    # fill na here with -1 indicating that this is the first ever transaction/giact never linked\n",
    "    df['time_since_last_transaction'] = df['time_since_last_transaction'].fillna(-1)\n",
    "    df['giact_time_since_last_link'] = df['giact_time_since_last_link'].fillna(-1)\n",
    "    df['giact_nr_decline'] = df['giact_nr_decline'].fillna(-1)\n",
    "    df['giact_nr_other'] = df['giact_nr_other'].fillna(-1)\n",
    "    df['nr_trans_ratio'] = df['nr_trans_ratio'].fillna(-1)\n",
    "    df['first_deposit_amount'] = df['first_deposit_amount'].fillna(-1)\n",
    "    df['lag_acc_open_first_transaction'] = df['lag_acc_open_first_transaction'].fillna(-1)\n",
    "    \n",
    "    df, _ = encode_defaults(df, default_values)\n",
    "    \n",
    "    df['all7120_default_encoded'] = df['all7120_default_encoded'].fillna(-1)\n",
    "    df['bcc7120_default_encoded'] = df['bcc7120_default_encoded'].fillna(-1)\n",
    "    \n",
    "    return df"
   ]
  },
  {
   "cell_type": "code",
   "execution_count": 3,
   "metadata": {},
   "outputs": [],
   "source": [
    "# get scores\n",
    "model = pkl.load(open('../../models/customer_risk_target_from_gitlab.pkl', 'rb'))"
   ]
  },
  {
   "cell_type": "code",
   "execution_count": 4,
   "metadata": {},
   "outputs": [],
   "source": [
    "# production data\n",
    "# prod_path = '../../data-production/2020-08-28_onboarding-customer-model-data.csv'\n",
    "# prod_path = '../../data-production/2020'\n",
    "# prod_df = pd.read_csv(prod_path, index_col=0)\n",
    "prod_df = pkl.load(open('../../data-production/2020-09-01_full-customer-model-data.pickle', 'rb'))\n",
    "prod_df['model_score'] = prod_df.model_score.astype(float)\n",
    "prod_df['created_dt'] = pd.to_datetime(prod_df.created_dt)\n",
    "\n",
    "# pred and scores get from dev model\n",
    "prod_df['dev_pred'] = model.predict_proba(prod_df[features])[:, 1]\n",
    "prod_df['dev_score'] = scale_scores(prod_df['dev_pred'])"
   ]
  },
  {
   "cell_type": "code",
   "execution_count": 5,
   "metadata": {},
   "outputs": [],
   "source": [
    "# # dev data from dw\n",
    "modeling_df = pd.read_feather('../../data/combined_all_features/combined_1599599721.feather')\n",
    "modeling_df, _ = encode_defaults(modeling_df, default_values)\n",
    "modeling_df = modeling_df[modeling_df.is_static]\n",
    "modeling_df.loc[:, 'party_id'] = modeling_df['user_id']\n",
    "modeling_df = modeling_df[modeling_df.sample_date == pd.to_datetime('2020-08-31')]\n",
    "modeling_df = preprocess(modeling_df)\n",
    "modeling_df['pred'] = model.predict_proba(modeling_df[features])[:, 1]\n",
    "modeling_df['score'] = scale_scores(modeling_df['pred'])"
   ]
  },
  {
   "cell_type": "markdown",
   "metadata": {},
   "source": [
    "### EDA on dfs"
   ]
  },
  {
   "cell_type": "code",
   "execution_count": 6,
   "metadata": {},
   "outputs": [],
   "source": [
    "# trim dfs\n",
    "id_dict = get_overlap_and_diff(modeling_df.party_id, prod_df.party_id)\n",
    "shared_id = id_dict['shared']"
   ]
  },
  {
   "cell_type": "code",
   "execution_count": 7,
   "metadata": {},
   "outputs": [
    {
     "data": {
      "text/plain": [
       "<AxesSubplot:>"
      ]
     },
     "execution_count": 7,
     "metadata": {},
     "output_type": "execute_result"
    },
    {
     "data": {
      "image/png": "[encoded data removed]",
      "text/plain": [
       "<Figure size 921.6x633.6 with 1 Axes>"
      ]
     },
     "metadata": {
      "needs_background": "light"
     },
     "output_type": "display_data"
    }
   ],
   "source": [
    "prod_df.dev_score.hist(bins=100)"
   ]
  },
  {
   "cell_type": "code",
   "execution_count": 8,
   "metadata": {},
   "outputs": [
    {
     "data": {
      "text/plain": [
       "<AxesSubplot:>"
      ]
     },
     "execution_count": 8,
     "metadata": {},
     "output_type": "execute_result"
    },
    {
     "data": {
      "image/png": "[encoded data removed]",
      "text/plain": [
       "<Figure size 921.6x633.6 with 1 Axes>"
      ]
     },
     "metadata": {
      "needs_background": "light"
     },
     "output_type": "display_data"
    }
   ],
   "source": [
    "prod_df.model_score.hist(bins=100)"
   ]
  },
  {
   "cell_type": "markdown",
   "metadata": {},
   "source": [
    "### Template\n",
    "---"
   ]
  },
  {
   "cell_type": "code",
   "execution_count": 9,
   "metadata": {},
   "outputs": [],
   "source": [
    "# get data\n",
    "# prod_df = pkl.load(open('../../data/production-results/2020-08-05_full-customer-model-data.pickle', 'rb'))\n",
    "prod_df = pkl.load(open('../../data-production/2020-09-01_full-customer-model-data.pickle', 'rb'))\n",
    "prod_df['score'] = prod_df.model_score.astype(float)\n",
    "prod_df['created_dt'] = pd.to_datetime(prod_df.created_dt)\n",
    "prod_df = preprocess(prod_df)\n",
    "\n",
    "modeling_df = pd.read_feather('../../data/combined_all_features/combined_1599599721.feather')\n",
    "modeling_df = modeling_df[modeling_df.sample_date == pd.to_datetime('2020-08-31')]\n",
    "modeling_df, _ = encode_defaults(modeling_df, default_values)\n",
    "modeling_df.loc[:, 'party_id'] = modeling_df['user_id']"
   ]
  },
  {
   "cell_type": "code",
   "execution_count": 10,
   "metadata": {},
   "outputs": [],
   "source": [
    "# produce scores\n",
    "model = pkl.load(open('../../models/customer_risk_target_from_gitlab.pkl', 'rb'))"
   ]
  },
  {
   "cell_type": "code",
   "execution_count": 11,
   "metadata": {},
   "outputs": [],
   "source": [
    "modeling_df = preprocess(modeling_df)\n",
    "modeling_df['pred'] = model.predict_proba(modeling_df[features])[:, 1]\n",
    "modeling_df['score'] = scale_scores(modeling_df['pred'])"
   ]
  },
  {
   "cell_type": "code",
   "execution_count": 12,
   "metadata": {},
   "outputs": [],
   "source": [
    "# include active inactive accounts\n",
    "active_accounts = modeling_df[(modeling_df.nr_past_transactions > 0) & (modeling_df.nr_transactions_30d > 0)].party_id.unique()\n",
    "modeling_df['is_active'] = modeling_df.party_id.isin(active_accounts)\n",
    "prod_df['is_active'] = prod_df.party_id.isin(active_accounts)"
   ]
  },
  {
   "cell_type": "code",
   "execution_count": 13,
   "metadata": {},
   "outputs": [],
   "source": [
    "# pkl.dump(modeling_df, open('../../data-production/2020-08-31-customer-model-data-dev.pickle', 'wb'))"
   ]
  },
  {
   "cell_type": "code",
   "execution_count": 14,
   "metadata": {},
   "outputs": [],
   "source": [
    "# trimming dfs\n",
    "id_dict = get_overlap_and_diff(prod_df.party_id, modeling_df.party_id)\n",
    "shared_id = id_dict['shared']\n",
    "shared_cols = modeling_df.columns.intersection(prod_df.columns)\n",
    "modeling_df = modeling_df[modeling_df.party_id.isin(shared_id)].drop_duplicates(subset='party_id')\n",
    "prod_df = prod_df[prod_df.party_id.isin(shared_id)].drop_duplicates(subset='party_id')"
   ]
  },
  {
   "cell_type": "code",
   "execution_count": 15,
   "metadata": {},
   "outputs": [
    {
     "data": {
      "text/html": [
       "<div>\n",
       "<style scoped>\n",
       "    .dataframe tbody tr th:only-of-type {\n",
       "        vertical-align: middle;\n",
       "    }\n",
       "\n",
       "    .dataframe tbody tr th {\n",
       "        vertical-align: top;\n",
       "    }\n",
       "\n",
       "    .dataframe thead th {\n",
       "        text-align: right;\n",
       "    }\n",
       "</style>\n",
       "<table border=\"1\" class=\"dataframe\">\n",
       "  <thead>\n",
       "    <tr style=\"text-align: right;\">\n",
       "      <th></th>\n",
       "      <th>transaction_datetime</th>\n",
       "      <th>borrower_id</th>\n",
       "      <th>business_account_number</th>\n",
       "      <th>transaction_code</th>\n",
       "      <th>transaction_amount</th>\n",
       "      <th>external_account_number</th>\n",
       "      <th>real_ending_balance</th>\n",
       "      <th>user_id</th>\n",
       "      <th>sofi_employee_ind</th>\n",
       "      <th>dtc</th>\n",
       "      <th>...</th>\n",
       "      <th>indeterminate</th>\n",
       "      <th>sample_date</th>\n",
       "      <th>is_static</th>\n",
       "      <th>all7120_default_encoded</th>\n",
       "      <th>bcc7120_default_encoded</th>\n",
       "      <th>party_id</th>\n",
       "      <th>transaction_code_encoded</th>\n",
       "      <th>pred</th>\n",
       "      <th>score</th>\n",
       "      <th>is_active</th>\n",
       "    </tr>\n",
       "  </thead>\n",
       "  <tbody>\n",
       "    <tr>\n",
       "      <th>957302</th>\n",
       "      <td>2019-06-17 18:01:13</td>\n",
       "      <td>44.0</td>\n",
       "      <td>410000434669</td>\n",
       "      <td>ACHDW</td>\n",
       "      <td>-10.09</td>\n",
       "      <td>1023025883</td>\n",
       "      <td>0.00</td>\n",
       "      <td>188</td>\n",
       "      <td>False</td>\n",
       "      <td>None</td>\n",
       "      <td>...</td>\n",
       "      <td>True</td>\n",
       "      <td>2020-08-31</td>\n",
       "      <td>True</td>\n",
       "      <td>-1.0</td>\n",
       "      <td>-1.0</td>\n",
       "      <td>188</td>\n",
       "      <td>5</td>\n",
       "      <td>0.003421</td>\n",
       "      <td>457.104096</td>\n",
       "      <td>False</td>\n",
       "    </tr>\n",
       "    <tr>\n",
       "      <th>957303</th>\n",
       "      <td>2020-08-28 18:01:12</td>\n",
       "      <td>247.0</td>\n",
       "      <td>410001046039</td>\n",
       "      <td>ACHDW</td>\n",
       "      <td>-3000.00</td>\n",
       "      <td>3225849957</td>\n",
       "      <td>389.27</td>\n",
       "      <td>774</td>\n",
       "      <td>False</td>\n",
       "      <td>None</td>\n",
       "      <td>...</td>\n",
       "      <td>True</td>\n",
       "      <td>2020-08-31</td>\n",
       "      <td>True</td>\n",
       "      <td>-1.0</td>\n",
       "      <td>-1.0</td>\n",
       "      <td>774</td>\n",
       "      <td>5</td>\n",
       "      <td>0.000347</td>\n",
       "      <td>386.500541</td>\n",
       "      <td>True</td>\n",
       "    </tr>\n",
       "    <tr>\n",
       "      <th>957304</th>\n",
       "      <td>2020-08-28 11:24:03</td>\n",
       "      <td>40.0</td>\n",
       "      <td>410000178332</td>\n",
       "      <td>DWATM</td>\n",
       "      <td>-177.75</td>\n",
       "      <td></td>\n",
       "      <td>4892.95</td>\n",
       "      <td>195</td>\n",
       "      <td>False</td>\n",
       "      <td>None</td>\n",
       "      <td>...</td>\n",
       "      <td>True</td>\n",
       "      <td>2020-08-31</td>\n",
       "      <td>True</td>\n",
       "      <td>-1.0</td>\n",
       "      <td>-1.0</td>\n",
       "      <td>195</td>\n",
       "      <td>8</td>\n",
       "      <td>0.000676</td>\n",
       "      <td>407.051938</td>\n",
       "      <td>True</td>\n",
       "    </tr>\n",
       "    <tr>\n",
       "      <th>957305</th>\n",
       "      <td>2020-08-30 22:59:36</td>\n",
       "      <td>90.0</td>\n",
       "      <td>410001537288</td>\n",
       "      <td>DDTRF</td>\n",
       "      <td>220.00</td>\n",
       "      <td></td>\n",
       "      <td>139721.13</td>\n",
       "      <td>273</td>\n",
       "      <td>False</td>\n",
       "      <td>None</td>\n",
       "      <td>...</td>\n",
       "      <td>True</td>\n",
       "      <td>2020-08-31</td>\n",
       "      <td>True</td>\n",
       "      <td>-1.0</td>\n",
       "      <td>-1.0</td>\n",
       "      <td>273</td>\n",
       "      <td>0</td>\n",
       "      <td>0.007243</td>\n",
       "      <td>480.335678</td>\n",
       "      <td>True</td>\n",
       "    </tr>\n",
       "    <tr>\n",
       "      <th>957306</th>\n",
       "      <td>2020-04-28 04:46:22</td>\n",
       "      <td>103.0</td>\n",
       "      <td>410002729647</td>\n",
       "      <td>ACHDWIN</td>\n",
       "      <td>-0.65</td>\n",
       "      <td></td>\n",
       "      <td>1106.44</td>\n",
       "      <td>299</td>\n",
       "      <td>False</td>\n",
       "      <td>None</td>\n",
       "      <td>...</td>\n",
       "      <td>True</td>\n",
       "      <td>2020-08-31</td>\n",
       "      <td>True</td>\n",
       "      <td>-1.0</td>\n",
       "      <td>-1.0</td>\n",
       "      <td>299</td>\n",
       "      <td>3</td>\n",
       "      <td>0.007125</td>\n",
       "      <td>479.822406</td>\n",
       "      <td>False</td>\n",
       "    </tr>\n",
       "  </tbody>\n",
       "</table>\n",
       "<p>5 rows × 113 columns</p>\n",
       "</div>"
      ],
      "text/plain": [
       "       transaction_datetime  borrower_id  business_account_number  \\\n",
       "957302  2019-06-17 18:01:13         44.0             410000434669   \n",
       "957303  2020-08-28 18:01:12        247.0             410001046039   \n",
       "957304  2020-08-28 11:24:03         40.0             410000178332   \n",
       "957305  2020-08-30 22:59:36         90.0             410001537288   \n",
       "957306  2020-04-28 04:46:22        103.0             410002729647   \n",
       "\n",
       "       transaction_code  transaction_amount external_account_number  \\\n",
       "957302            ACHDW              -10.09              1023025883   \n",
       "957303            ACHDW            -3000.00              3225849957   \n",
       "957304            DWATM             -177.75                           \n",
       "957305            DDTRF              220.00                           \n",
       "957306          ACHDWIN               -0.65                           \n",
       "\n",
       "        real_ending_balance  user_id sofi_employee_ind   dtc  ...  \\\n",
       "957302                 0.00      188             False  None  ...   \n",
       "957303               389.27      774             False  None  ...   \n",
       "957304              4892.95      195             False  None  ...   \n",
       "957305            139721.13      273             False  None  ...   \n",
       "957306              1106.44      299             False  None  ...   \n",
       "\n",
       "       indeterminate sample_date is_static  all7120_default_encoded  \\\n",
       "957302          True  2020-08-31      True                     -1.0   \n",
       "957303          True  2020-08-31      True                     -1.0   \n",
       "957304          True  2020-08-31      True                     -1.0   \n",
       "957305          True  2020-08-31      True                     -1.0   \n",
       "957306          True  2020-08-31      True                     -1.0   \n",
       "\n",
       "        bcc7120_default_encoded  party_id  transaction_code_encoded      pred  \\\n",
       "957302                     -1.0       188                         5  0.003421   \n",
       "957303                     -1.0       774                         5  0.000347   \n",
       "957304                     -1.0       195                         8  0.000676   \n",
       "957305                     -1.0       273                         0  0.007243   \n",
       "957306                     -1.0       299                         3  0.007125   \n",
       "\n",
       "             score  is_active  \n",
       "957302  457.104096      False  \n",
       "957303  386.500541       True  \n",
       "957304  407.051938       True  \n",
       "957305  480.335678       True  \n",
       "957306  479.822406      False  \n",
       "\n",
       "[5 rows x 113 columns]"
      ]
     },
     "execution_count": 15,
     "metadata": {},
     "output_type": "execute_result"
    }
   ],
   "source": [
    "# remove inactive accounts\n",
    "\n",
    "modeling_df.head()"
   ]
  },
  {
   "cell_type": "code",
   "execution_count": 16,
   "metadata": {},
   "outputs": [],
   "source": [
    "# # remove inactive accounts\n",
    "\n",
    "# null_df = prod_df[prod_df.score == prod_df.score.value_counts().index[0]]\n",
    "# null_accounts = null_df.party_id\n",
    "# dormant_shared_ids = modeling_df.party_id.isin(null_accounts)\n",
    "# modeling_df = modeling_df[~modeling_df.party_id.isin(dormant_shared_ids)].drop_duplicates(subset='party_id')\n",
    "# prod_df = prod_df[~prod_df.party_id.isin(dormant_shared_ids)].drop_duplicates(subset='party_id')"
   ]
  },
  {
   "cell_type": "markdown",
   "metadata": {},
   "source": [
    "#### Functionalities\n",
    "---"
   ]
  },
  {
   "cell_type": "code",
   "execution_count": 17,
   "metadata": {},
   "outputs": [],
   "source": [
    "combined_df = get_combined_dfs(modeling_df, prod_df, 'party_id')"
   ]
  },
  {
   "cell_type": "code",
   "execution_count": 18,
   "metadata": {},
   "outputs": [
    {
     "data": {
      "text/plain": [
       "((351135, 113), (351135, 55))"
      ]
     },
     "execution_count": 18,
     "metadata": {},
     "output_type": "execute_result"
    },
    {
     "data": {
      "image/png": "[encoded data removed]",
      "text/plain": [
       "<Figure size 648x504 with 1 Axes>"
      ]
     },
     "metadata": {
      "needs_background": "light"
     },
     "output_type": "display_data"
    },
    {
     "data": {
      "image/png": "[encoded data removed]",
      "text/plain": [
       "<Figure size 648x504 with 1 Axes>"
      ]
     },
     "metadata": {
      "needs_background": "light"
     },
     "output_type": "display_data"
    }
   ],
   "source": [
    "_ = plot_score_dist(modeling_df.score, prod_df.score, bins=100)\n",
    "psi_df = get_psi(modeling_df[features], prod_df[features])\n",
    "\n",
    "_ = plot_difference(modeling_df.score, prod_df.score, bins=100)\n",
    "modeling_df.shape, prod_df.shape"
   ]
  },
  {
   "cell_type": "code",
   "execution_count": 19,
   "metadata": {},
   "outputs": [
    {
     "data": {
      "text/html": [
       "<div>\n",
       "<style scoped>\n",
       "    .dataframe tbody tr th:only-of-type {\n",
       "        vertical-align: middle;\n",
       "    }\n",
       "\n",
       "    .dataframe tbody tr th {\n",
       "        vertical-align: top;\n",
       "    }\n",
       "\n",
       "    .dataframe thead th {\n",
       "        text-align: right;\n",
       "    }\n",
       "</style>\n",
       "<table border=\"1\" class=\"dataframe\">\n",
       "  <thead>\n",
       "    <tr style=\"text-align: right;\">\n",
       "      <th></th>\n",
       "      <th>feature</th>\n",
       "      <th>psi</th>\n",
       "    </tr>\n",
       "  </thead>\n",
       "  <tbody>\n",
       "    <tr>\n",
       "      <th>32</th>\n",
       "      <td>nr_trans_ratio</td>\n",
       "      <td>1.071267</td>\n",
       "    </tr>\n",
       "    <tr>\n",
       "      <th>9</th>\n",
       "      <td>giact_time_since_last_link</td>\n",
       "      <td>0.302687</td>\n",
       "    </tr>\n",
       "    <tr>\n",
       "      <th>6</th>\n",
       "      <td>transaction_as_pct_of_balance</td>\n",
       "      <td>0.112358</td>\n",
       "    </tr>\n",
       "    <tr>\n",
       "      <th>38</th>\n",
       "      <td>age_money_account</td>\n",
       "      <td>0.104129</td>\n",
       "    </tr>\n",
       "    <tr>\n",
       "      <th>27</th>\n",
       "      <td>time_since_last_transaction</td>\n",
       "      <td>0.098790</td>\n",
       "    </tr>\n",
       "    <tr>\n",
       "      <th>39</th>\n",
       "      <td>transaction_code_encoded</td>\n",
       "      <td>0.055040</td>\n",
       "    </tr>\n",
       "    <tr>\n",
       "      <th>10</th>\n",
       "      <td>name_address_correlation</td>\n",
       "      <td>0.053878</td>\n",
       "    </tr>\n",
       "    <tr>\n",
       "      <th>29</th>\n",
       "      <td>name_phone_correlation</td>\n",
       "      <td>0.053825</td>\n",
       "    </tr>\n",
       "    <tr>\n",
       "      <th>5</th>\n",
       "      <td>name_email_correlation</td>\n",
       "      <td>0.052726</td>\n",
       "    </tr>\n",
       "    <tr>\n",
       "      <th>33</th>\n",
       "      <td>iqt9413</td>\n",
       "      <td>0.046384</td>\n",
       "    </tr>\n",
       "  </tbody>\n",
       "</table>\n",
       "</div>"
      ],
      "text/plain": [
       "                          feature       psi\n",
       "32                 nr_trans_ratio  1.071267\n",
       "9      giact_time_since_last_link  0.302687\n",
       "6   transaction_as_pct_of_balance  0.112358\n",
       "38              age_money_account  0.104129\n",
       "27    time_since_last_transaction  0.098790\n",
       "39       transaction_code_encoded  0.055040\n",
       "10       name_address_correlation  0.053878\n",
       "29         name_phone_correlation  0.053825\n",
       "5          name_email_correlation  0.052726\n",
       "33                        iqt9413  0.046384"
      ]
     },
     "execution_count": 19,
     "metadata": {},
     "output_type": "execute_result"
    }
   ],
   "source": [
    "psi_df.head(10)"
   ]
  },
  {
   "cell_type": "code",
   "execution_count": 20,
   "metadata": {},
   "outputs": [],
   "source": [
    "# report = get_feature_comparison_report(modeling_df, prod_df, \n",
    "#                                        'party_id', title='post-imp-report', \n",
    "#                                        cols=psi_df.head(6).feature.tolist(),\n",
    "#                                        save_path='./feature-comparison-report')"
   ]
  },
  {
   "cell_type": "code",
   "execution_count": null,
   "metadata": {},
   "outputs": [],
   "source": []
  },
  {
   "cell_type": "markdown",
   "metadata": {},
   "source": [
    "### Look into troublesome features\n",
    "---"
   ]
  },
  {
   "cell_type": "code",
   "execution_count": 21,
   "metadata": {},
   "outputs": [],
   "source": [
    "# first filter out inactive accounts\n",
    "modeling_df = modeling_df[modeling_df.is_active]\n",
    "prod_df = prod_df[prod_df.is_active]"
   ]
  },
  {
   "cell_type": "code",
   "execution_count": 22,
   "metadata": {},
   "outputs": [
    {
     "data": {
      "text/html": [
       "<div>\n",
       "<style scoped>\n",
       "    .dataframe tbody tr th:only-of-type {\n",
       "        vertical-align: middle;\n",
       "    }\n",
       "\n",
       "    .dataframe tbody tr th {\n",
       "        vertical-align: top;\n",
       "    }\n",
       "\n",
       "    .dataframe thead th {\n",
       "        text-align: right;\n",
       "    }\n",
       "</style>\n",
       "<table border=\"1\" class=\"dataframe\">\n",
       "  <thead>\n",
       "    <tr style=\"text-align: right;\">\n",
       "      <th></th>\n",
       "      <th>feature</th>\n",
       "      <th>psi</th>\n",
       "    </tr>\n",
       "  </thead>\n",
       "  <tbody>\n",
       "    <tr>\n",
       "      <th>9</th>\n",
       "      <td>giact_time_since_last_link</td>\n",
       "      <td>0.695403</td>\n",
       "    </tr>\n",
       "    <tr>\n",
       "      <th>32</th>\n",
       "      <td>nr_trans_ratio</td>\n",
       "      <td>0.354631</td>\n",
       "    </tr>\n",
       "    <tr>\n",
       "      <th>24</th>\n",
       "      <td>pct_returned_deposits</td>\n",
       "      <td>0.073706</td>\n",
       "    </tr>\n",
       "    <tr>\n",
       "      <th>16</th>\n",
       "      <td>nr_past_transactions</td>\n",
       "      <td>0.003072</td>\n",
       "    </tr>\n",
       "    <tr>\n",
       "      <th>27</th>\n",
       "      <td>time_since_last_transaction</td>\n",
       "      <td>0.002209</td>\n",
       "    </tr>\n",
       "  </tbody>\n",
       "</table>\n",
       "</div>"
      ],
      "text/plain": [
       "                        feature       psi\n",
       "9    giact_time_since_last_link  0.695403\n",
       "32               nr_trans_ratio  0.354631\n",
       "24        pct_returned_deposits  0.073706\n",
       "16         nr_past_transactions  0.003072\n",
       "27  time_since_last_transaction  0.002209"
      ]
     },
     "execution_count": 22,
     "metadata": {},
     "output_type": "execute_result"
    }
   ],
   "source": [
    "psi_df = get_psi(modeling_df[features], prod_df[features], buckets=2)\n",
    "psi_df.head()"
   ]
  },
  {
   "cell_type": "code",
   "execution_count": 23,
   "metadata": {},
   "outputs": [
    {
     "data": {
      "text/plain": [
       "((84097, 113), (84097, 55))"
      ]
     },
     "execution_count": 23,
     "metadata": {},
     "output_type": "execute_result"
    },
    {
     "data": {
      "image/png": "[encoded data removed]",
      "text/plain": [
       "<Figure size 648x504 with 1 Axes>"
      ]
     },
     "metadata": {
      "needs_background": "light"
     },
     "output_type": "display_data"
    },
    {
     "data": {
      "image/png": "[encoded data removed]",
      "text/plain": [
       "<Figure size 648x504 with 1 Axes>"
      ]
     },
     "metadata": {
      "needs_background": "light"
     },
     "output_type": "display_data"
    }
   ],
   "source": [
    "_ = plot_score_dist(modeling_df.score, prod_df.score, bins=100)\n",
    "psi_df = get_psi(modeling_df[features], prod_df[features], buckets=2)\n",
    "\n",
    "_ = plot_difference(modeling_df.score, prod_df.score, bins=100)\n",
    "modeling_df.shape, prod_df.shape"
   ]
  },
  {
   "cell_type": "code",
   "execution_count": 29,
   "metadata": {},
   "outputs": [
    {
     "data": {
      "text/plain": [
       "84309"
      ]
     },
     "execution_count": 29,
     "metadata": {},
     "output_type": "execute_result"
    }
   ],
   "source": [
    "len(active_accounts)"
   ]
  },
  {
   "cell_type": "code",
   "execution_count": null,
   "metadata": {},
   "outputs": [],
   "source": []
  },
  {
   "cell_type": "code",
   "execution_count": 23,
   "metadata": {},
   "outputs": [
    {
     "data": {
      "text/html": [
       "<div>\n",
       "<style scoped>\n",
       "    .dataframe tbody tr th:only-of-type {\n",
       "        vertical-align: middle;\n",
       "    }\n",
       "\n",
       "    .dataframe tbody tr th {\n",
       "        vertical-align: top;\n",
       "    }\n",
       "\n",
       "    .dataframe thead th {\n",
       "        text-align: right;\n",
       "    }\n",
       "</style>\n",
       "<table border=\"1\" class=\"dataframe\">\n",
       "  <thead>\n",
       "    <tr style=\"text-align: right;\">\n",
       "      <th></th>\n",
       "      <th>feature</th>\n",
       "      <th>psi</th>\n",
       "    </tr>\n",
       "  </thead>\n",
       "  <tbody>\n",
       "    <tr>\n",
       "      <th>32</th>\n",
       "      <td>nr_trans_ratio</td>\n",
       "      <td>2.583664</td>\n",
       "    </tr>\n",
       "    <tr>\n",
       "      <th>9</th>\n",
       "      <td>giact_time_since_last_link</td>\n",
       "      <td>1.363008</td>\n",
       "    </tr>\n",
       "    <tr>\n",
       "      <th>24</th>\n",
       "      <td>pct_returned_deposits</td>\n",
       "      <td>0.119460</td>\n",
       "    </tr>\n",
       "    <tr>\n",
       "      <th>27</th>\n",
       "      <td>time_since_last_transaction</td>\n",
       "      <td>0.049876</td>\n",
       "    </tr>\n",
       "    <tr>\n",
       "      <th>26</th>\n",
       "      <td>nr_direct_deposits</td>\n",
       "      <td>0.017378</td>\n",
       "    </tr>\n",
       "  </tbody>\n",
       "</table>\n",
       "</div>"
      ],
      "text/plain": [
       "                        feature       psi\n",
       "32               nr_trans_ratio  2.583664\n",
       "9    giact_time_since_last_link  1.363008\n",
       "24        pct_returned_deposits  0.119460\n",
       "27  time_since_last_transaction  0.049876\n",
       "26           nr_direct_deposits  0.017378"
      ]
     },
     "execution_count": 23,
     "metadata": {},
     "output_type": "execute_result"
    }
   ],
   "source": [
    "psi_df.head()"
   ]
  },
  {
   "cell_type": "code",
   "execution_count": 24,
   "metadata": {},
   "outputs": [
    {
     "data": {
      "image/png": "[encoded data removed]",
      "text/plain": [
       "<Figure size 648x504 with 1 Axes>"
      ]
     },
     "metadata": {
      "needs_background": "light"
     },
     "output_type": "display_data"
    }
   ],
   "source": [
    "f = 'nr_trans_ratio'\n",
    "_ = plot_score_dist(modeling_df[f], prod_df[f], bins=100)"
   ]
  },
  {
   "cell_type": "code",
   "execution_count": 25,
   "metadata": {},
   "outputs": [
    {
     "data": {
      "image/png": "[encoded data removed]",
      "text/plain": [
       "<Figure size 648x504 with 1 Axes>"
      ]
     },
     "metadata": {
      "needs_background": "light"
     },
     "output_type": "display_data"
    }
   ],
   "source": [
    "f = 'giact_time_since_last_link'\n",
    "_ = plot_score_dist(modeling_df[f], prod_df[f], bins=100)"
   ]
  },
  {
   "cell_type": "code",
   "execution_count": 26,
   "metadata": {},
   "outputs": [
    {
     "data": {
      "image/png": "[encoded data removed]",
      "text/plain": [
       "<Figure size 648x504 with 1 Axes>"
      ]
     },
     "metadata": {
      "needs_background": "light"
     },
     "output_type": "display_data"
    }
   ],
   "source": [
    "_ = plot_difference(modeling_df.giact_time_since_last_link, \n",
    "                    prod_df.giact_time_since_last_link, bins=100)"
   ]
  },
  {
   "cell_type": "code",
   "execution_count": 27,
   "metadata": {},
   "outputs": [],
   "source": [
    "# grab party_id with most diff 'giact_time_since_last_link'\n",
    "\n",
    "modeling_df.sort_values(by='party_id', inplace=True)\n",
    "prod_df.sort_values(by='party_id', inplace=True)"
   ]
  },
  {
   "cell_type": "code",
   "execution_count": 28,
   "metadata": {},
   "outputs": [],
   "source": [
    "debug_features = ['party_id', 'giact_time_since_last_link']\n",
    "m_df = modeling_df[debug_features]\n",
    "m_df.columns = ['party_id', 'dev_giact_time_since_last_link']\n",
    "p_df = prod_df[debug_features]\n",
    "p_df.columns = ['party_id', 'prod_giact_time_since_last_link']\n",
    "debug_df = pd.merge(m_df, p_df, left_on='party_id', right_on='party_id')"
   ]
  },
  {
   "cell_type": "code",
   "execution_count": 29,
   "metadata": {},
   "outputs": [
    {
     "data": {
      "text/plain": [
       "dev_default  prod_default\n",
       "False        False           28112\n",
       "             True            22066\n",
       "True         False           21112\n",
       "             True            12807\n",
       "dtype: int64"
      ]
     },
     "execution_count": 29,
     "metadata": {},
     "output_type": "execute_result"
    }
   ],
   "source": [
    "debug_df['dev_default'] = debug_df.dev_giact_time_since_last_link == -1\n",
    "debug_df['prod_default'] = debug_df.prod_giact_time_since_last_link == -1\n",
    "debug_df['non_default'] = ~debug_df.dev_default & ~debug_df.prod_default\n",
    "debug_df[['dev_default', 'prod_default']].value_counts()"
   ]
  },
  {
   "cell_type": "code",
   "execution_count": 30,
   "metadata": {},
   "outputs": [
    {
     "data": {
      "text/html": [
       "<div>\n",
       "<style scoped>\n",
       "    .dataframe tbody tr th:only-of-type {\n",
       "        vertical-align: middle;\n",
       "    }\n",
       "\n",
       "    .dataframe tbody tr th {\n",
       "        vertical-align: top;\n",
       "    }\n",
       "\n",
       "    .dataframe thead th {\n",
       "        text-align: right;\n",
       "    }\n",
       "</style>\n",
       "<table border=\"1\" class=\"dataframe\">\n",
       "  <thead>\n",
       "    <tr style=\"text-align: right;\">\n",
       "      <th></th>\n",
       "      <th>party_id</th>\n",
       "      <th>dev_giact_time_since_last_link</th>\n",
       "      <th>prod_giact_time_since_last_link</th>\n",
       "      <th>dev_default</th>\n",
       "      <th>prod_default</th>\n",
       "      <th>non_default</th>\n",
       "      <th>diff_giact_time</th>\n",
       "    </tr>\n",
       "  </thead>\n",
       "  <tbody>\n",
       "    <tr>\n",
       "      <th>44319</th>\n",
       "      <td>14869981</td>\n",
       "      <td>283.0</td>\n",
       "      <td>-1.0</td>\n",
       "      <td>False</td>\n",
       "      <td>True</td>\n",
       "      <td>False</td>\n",
       "      <td>284.0</td>\n",
       "    </tr>\n",
       "    <tr>\n",
       "      <th>37072</th>\n",
       "      <td>14353351</td>\n",
       "      <td>340.0</td>\n",
       "      <td>-1.0</td>\n",
       "      <td>False</td>\n",
       "      <td>True</td>\n",
       "      <td>False</td>\n",
       "      <td>341.0</td>\n",
       "    </tr>\n",
       "    <tr>\n",
       "      <th>16641</th>\n",
       "      <td>11783834</td>\n",
       "      <td>375.0</td>\n",
       "      <td>-1.0</td>\n",
       "      <td>False</td>\n",
       "      <td>True</td>\n",
       "      <td>False</td>\n",
       "      <td>376.0</td>\n",
       "    </tr>\n",
       "    <tr>\n",
       "      <th>28066</th>\n",
       "      <td>13744064</td>\n",
       "      <td>468.0</td>\n",
       "      <td>-1.0</td>\n",
       "      <td>False</td>\n",
       "      <td>True</td>\n",
       "      <td>False</td>\n",
       "      <td>469.0</td>\n",
       "    </tr>\n",
       "    <tr>\n",
       "      <th>14674</th>\n",
       "      <td>11051088</td>\n",
       "      <td>486.0</td>\n",
       "      <td>-1.0</td>\n",
       "      <td>False</td>\n",
       "      <td>True</td>\n",
       "      <td>False</td>\n",
       "      <td>487.0</td>\n",
       "    </tr>\n",
       "    <tr>\n",
       "      <th>22467</th>\n",
       "      <td>13253294</td>\n",
       "      <td>495.0</td>\n",
       "      <td>-1.0</td>\n",
       "      <td>False</td>\n",
       "      <td>True</td>\n",
       "      <td>False</td>\n",
       "      <td>496.0</td>\n",
       "    </tr>\n",
       "    <tr>\n",
       "      <th>19811</th>\n",
       "      <td>12951209</td>\n",
       "      <td>550.0</td>\n",
       "      <td>-1.0</td>\n",
       "      <td>False</td>\n",
       "      <td>True</td>\n",
       "      <td>False</td>\n",
       "      <td>551.0</td>\n",
       "    </tr>\n",
       "    <tr>\n",
       "      <th>11826</th>\n",
       "      <td>3755801</td>\n",
       "      <td>555.0</td>\n",
       "      <td>-1.0</td>\n",
       "      <td>False</td>\n",
       "      <td>True</td>\n",
       "      <td>False</td>\n",
       "      <td>556.0</td>\n",
       "    </tr>\n",
       "    <tr>\n",
       "      <th>5970</th>\n",
       "      <td>1402305</td>\n",
       "      <td>575.0</td>\n",
       "      <td>-1.0</td>\n",
       "      <td>False</td>\n",
       "      <td>True</td>\n",
       "      <td>False</td>\n",
       "      <td>576.0</td>\n",
       "    </tr>\n",
       "    <tr>\n",
       "      <th>3522</th>\n",
       "      <td>655384</td>\n",
       "      <td>584.0</td>\n",
       "      <td>-1.0</td>\n",
       "      <td>False</td>\n",
       "      <td>True</td>\n",
       "      <td>False</td>\n",
       "      <td>585.0</td>\n",
       "    </tr>\n",
       "  </tbody>\n",
       "</table>\n",
       "</div>"
      ],
      "text/plain": [
       "       party_id  dev_giact_time_since_last_link  \\\n",
       "44319  14869981                           283.0   \n",
       "37072  14353351                           340.0   \n",
       "16641  11783834                           375.0   \n",
       "28066  13744064                           468.0   \n",
       "14674  11051088                           486.0   \n",
       "22467  13253294                           495.0   \n",
       "19811  12951209                           550.0   \n",
       "11826   3755801                           555.0   \n",
       "5970    1402305                           575.0   \n",
       "3522     655384                           584.0   \n",
       "\n",
       "       prod_giact_time_since_last_link  dev_default  prod_default  \\\n",
       "44319                             -1.0        False          True   \n",
       "37072                             -1.0        False          True   \n",
       "16641                             -1.0        False          True   \n",
       "28066                             -1.0        False          True   \n",
       "14674                             -1.0        False          True   \n",
       "22467                             -1.0        False          True   \n",
       "19811                             -1.0        False          True   \n",
       "11826                             -1.0        False          True   \n",
       "5970                              -1.0        False          True   \n",
       "3522                              -1.0        False          True   \n",
       "\n",
       "       non_default  diff_giact_time  \n",
       "44319        False            284.0  \n",
       "37072        False            341.0  \n",
       "16641        False            376.0  \n",
       "28066        False            469.0  \n",
       "14674        False            487.0  \n",
       "22467        False            496.0  \n",
       "19811        False            551.0  \n",
       "11826        False            556.0  \n",
       "5970         False            576.0  \n",
       "3522         False            585.0  "
      ]
     },
     "metadata": {},
     "output_type": "display_data"
    },
    {
     "name": "stdout",
     "output_type": "stream",
     "text": [
      "[11783834, 3755801, 1402305, 13253294, 14869981, 13744064, 655384, 12951209, 14353351, 11051088]\n"
     ]
    }
   ],
   "source": [
    "# sample from each groups\n",
    "# T, F\n",
    "# F, T\n",
    "# T, T\n",
    "np.random.seed(100)\n",
    "debug_df['diff_giact_time'] = debug_df.dev_giact_time_since_last_link - debug_df.prod_giact_time_since_last_link\n",
    "debug_df = debug_df[debug_df.diff_giact_time.abs() > 200].sample(10)\n",
    "display(debug_df.sort_values(by='diff_giact_time', ascending=True))\n",
    "giact_ids = debug_df.party_id.tolist()\n",
    "print(giact_ids)"
   ]
  },
  {
   "cell_type": "code",
   "execution_count": 32,
   "metadata": {},
   "outputs": [],
   "source": [
    "# report = get_feature_comparison_report(modeling_df, prod_df, \n",
    "#                                        'party_id', title='post-imp-report', \n",
    "#                                        cols=psi_df.head(3).feature.tolist(),\n",
    "#                                        save_path='./feature-comparison-report-active-accts')"
   ]
  },
  {
   "cell_type": "markdown",
   "metadata": {},
   "source": [
    "### Drill into Features\n",
    "---\n",
    "### giact_time_since_last_link"
   ]
  },
  {
   "cell_type": "code",
   "execution_count": 33,
   "metadata": {},
   "outputs": [
    {
     "data": {
      "image/png": "[encoded data removed]",
      "text/plain": [
       "<Figure size 648x504 with 1 Axes>"
      ]
     },
     "metadata": {
      "needs_background": "light"
     },
     "output_type": "display_data"
    }
   ],
   "source": [
    "# first filter out inactive accounts\n",
    "# modeling_df = modeling_df[modeling_df.is_active]\n",
    "# prod_df = prod_df[prod_df.is_active]\n",
    "\n",
    "f = 'giact_time_since_last_link'\n",
    "_ = plot_score_dist(modeling_df[f], prod_df[f], bins=100)"
   ]
  },
  {
   "cell_type": "code",
   "execution_count": 52,
   "metadata": {},
   "outputs": [
    {
     "data": {
      "text/plain": [
       "Index(['giact_time_since_last_link', 'giact_nr_decline', 'giact_nr_other'], dtype='object')"
      ]
     },
     "execution_count": 52,
     "metadata": {},
     "output_type": "execute_result"
    }
   ],
   "source": [
    "giact_cols = modeling_df[features].columns[modeling_df[features].columns.str.contains('giact')]\n",
    "giact_cols"
   ]
  },
  {
   "cell_type": "code",
   "execution_count": 60,
   "metadata": {},
   "outputs": [
    {
     "data": {
      "text/plain": [
       "dev_default  prod_default  is_close\n",
       "False        False         False       28096\n",
       "             True          False       22066\n",
       "True         False         False       21112\n",
       "             True          True        12807\n",
       "False        False         True           16\n",
       "dtype: int64"
      ]
     },
     "execution_count": 60,
     "metadata": {},
     "output_type": "execute_result"
    }
   ],
   "source": [
    "# grab party_id with most diff 'giact_time_since_last_link'\n",
    "\n",
    "modeling_df.sort_values(by='party_id', inplace=True)\n",
    "prod_df.sort_values(by='party_id', inplace=True)\n",
    "\n",
    "f = 'giact_time_since_last_link'\n",
    "dev_f = f'dev_{f}'\n",
    "prod_f = f'prod_{f}'\n",
    "debug_features = ['party_id', f]\n",
    "m_df = modeling_df[debug_features]\n",
    "m_df.columns = ['party_id', dev_f]\n",
    "p_df = prod_df[debug_features]\n",
    "p_df.columns = ['party_id', prod_f]\n",
    "debug_df = pd.merge(m_df, p_df, left_on='party_id', right_on='party_id')\n",
    "\n",
    "debug_df['diff'] = debug_df[dev_f] - debug_df[prod_f]\n",
    "\n",
    "debug_df['dev_default'] = debug_df[dev_f] == -1\n",
    "debug_df['prod_default'] = debug_df[prod_f] == -1\n",
    "debug_df['non_default'] = ~debug_df.dev_default & ~debug_df.prod_default\n",
    "debug_df['is_close'] = (debug_df[dev_f] - debug_df[prod_f]).abs() < 1\n",
    "debug_df[['dev_default', 'prod_default', 'is_close']].value_counts()"
   ]
  },
  {
   "cell_type": "code",
   "execution_count": 61,
   "metadata": {},
   "outputs": [
    {
     "data": {
      "image/png": "[encoded data removed]",
      "text/plain": [
       "<Figure size 648x504 with 1 Axes>"
      ]
     },
     "metadata": {
      "needs_background": "light"
     },
     "output_type": "display_data"
    }
   ],
   "source": [
    "_ = plot_difference(modeling_df[f], \n",
    "                    prod_df[f], bins=100)"
   ]
  },
  {
   "cell_type": "code",
   "execution_count": 62,
   "metadata": {},
   "outputs": [
    {
     "name": "stdout",
     "output_type": "stream",
     "text": [
      "dev_default: True, prod_default: False\n"
     ]
    },
    {
     "data": {
      "text/html": [
       "<div>\n",
       "<style scoped>\n",
       "    .dataframe tbody tr th:only-of-type {\n",
       "        vertical-align: middle;\n",
       "    }\n",
       "\n",
       "    .dataframe tbody tr th {\n",
       "        vertical-align: top;\n",
       "    }\n",
       "\n",
       "    .dataframe thead th {\n",
       "        text-align: right;\n",
       "    }\n",
       "</style>\n",
       "<table border=\"1\" class=\"dataframe\">\n",
       "  <thead>\n",
       "    <tr style=\"text-align: right;\">\n",
       "      <th></th>\n",
       "      <th>party_id</th>\n",
       "      <th>dev_giact_time_since_last_link</th>\n",
       "      <th>prod_giact_time_since_last_link</th>\n",
       "      <th>diff</th>\n",
       "      <th>dev_default</th>\n",
       "      <th>prod_default</th>\n",
       "      <th>non_default</th>\n",
       "      <th>is_close</th>\n",
       "    </tr>\n",
       "  </thead>\n",
       "  <tbody>\n",
       "    <tr>\n",
       "      <th>18129</th>\n",
       "      <td>12355017</td>\n",
       "      <td>-1.0</td>\n",
       "      <td>99.0</td>\n",
       "      <td>100.0</td>\n",
       "      <td>True</td>\n",
       "      <td>False</td>\n",
       "      <td>False</td>\n",
       "      <td>False</td>\n",
       "    </tr>\n",
       "    <tr>\n",
       "      <th>15516</th>\n",
       "      <td>11384768</td>\n",
       "      <td>-1.0</td>\n",
       "      <td>86.0</td>\n",
       "      <td>87.0</td>\n",
       "      <td>True</td>\n",
       "      <td>False</td>\n",
       "      <td>False</td>\n",
       "      <td>False</td>\n",
       "    </tr>\n",
       "    <tr>\n",
       "      <th>581</th>\n",
       "      <td>68501</td>\n",
       "      <td>-1.0</td>\n",
       "      <td>104.0</td>\n",
       "      <td>105.0</td>\n",
       "      <td>True</td>\n",
       "      <td>False</td>\n",
       "      <td>False</td>\n",
       "      <td>False</td>\n",
       "    </tr>\n",
       "    <tr>\n",
       "      <th>21823</th>\n",
       "      <td>13216351</td>\n",
       "      <td>-1.0</td>\n",
       "      <td>98.0</td>\n",
       "      <td>99.0</td>\n",
       "      <td>True</td>\n",
       "      <td>False</td>\n",
       "      <td>False</td>\n",
       "      <td>False</td>\n",
       "    </tr>\n",
       "    <tr>\n",
       "      <th>13506</th>\n",
       "      <td>10542415</td>\n",
       "      <td>-1.0</td>\n",
       "      <td>100.0</td>\n",
       "      <td>101.0</td>\n",
       "      <td>True</td>\n",
       "      <td>False</td>\n",
       "      <td>False</td>\n",
       "      <td>False</td>\n",
       "    </tr>\n",
       "    <tr>\n",
       "      <th>10695</th>\n",
       "      <td>3311144</td>\n",
       "      <td>-1.0</td>\n",
       "      <td>105.0</td>\n",
       "      <td>106.0</td>\n",
       "      <td>True</td>\n",
       "      <td>False</td>\n",
       "      <td>False</td>\n",
       "      <td>False</td>\n",
       "    </tr>\n",
       "    <tr>\n",
       "      <th>16666</th>\n",
       "      <td>11792646</td>\n",
       "      <td>-1.0</td>\n",
       "      <td>99.0</td>\n",
       "      <td>100.0</td>\n",
       "      <td>True</td>\n",
       "      <td>False</td>\n",
       "      <td>False</td>\n",
       "      <td>False</td>\n",
       "    </tr>\n",
       "    <tr>\n",
       "      <th>36107</th>\n",
       "      <td>14292987</td>\n",
       "      <td>-1.0</td>\n",
       "      <td>102.0</td>\n",
       "      <td>103.0</td>\n",
       "      <td>True</td>\n",
       "      <td>False</td>\n",
       "      <td>False</td>\n",
       "      <td>False</td>\n",
       "    </tr>\n",
       "    <tr>\n",
       "      <th>15411</th>\n",
       "      <td>11341433</td>\n",
       "      <td>-1.0</td>\n",
       "      <td>82.0</td>\n",
       "      <td>83.0</td>\n",
       "      <td>True</td>\n",
       "      <td>False</td>\n",
       "      <td>False</td>\n",
       "      <td>False</td>\n",
       "    </tr>\n",
       "    <tr>\n",
       "      <th>2850</th>\n",
       "      <td>496398</td>\n",
       "      <td>-1.0</td>\n",
       "      <td>107.0</td>\n",
       "      <td>108.0</td>\n",
       "      <td>True</td>\n",
       "      <td>False</td>\n",
       "      <td>False</td>\n",
       "      <td>False</td>\n",
       "    </tr>\n",
       "  </tbody>\n",
       "</table>\n",
       "</div>"
      ],
      "text/plain": [
       "       party_id  dev_giact_time_since_last_link  \\\n",
       "18129  12355017                            -1.0   \n",
       "15516  11384768                            -1.0   \n",
       "581       68501                            -1.0   \n",
       "21823  13216351                            -1.0   \n",
       "13506  10542415                            -1.0   \n",
       "10695   3311144                            -1.0   \n",
       "16666  11792646                            -1.0   \n",
       "36107  14292987                            -1.0   \n",
       "15411  11341433                            -1.0   \n",
       "2850     496398                            -1.0   \n",
       "\n",
       "       prod_giact_time_since_last_link   diff  dev_default  prod_default  \\\n",
       "18129                             99.0  100.0         True         False   \n",
       "15516                             86.0   87.0         True         False   \n",
       "581                              104.0  105.0         True         False   \n",
       "21823                             98.0   99.0         True         False   \n",
       "13506                            100.0  101.0         True         False   \n",
       "10695                            105.0  106.0         True         False   \n",
       "16666                             99.0  100.0         True         False   \n",
       "36107                            102.0  103.0         True         False   \n",
       "15411                             82.0   83.0         True         False   \n",
       "2850                             107.0  108.0         True         False   \n",
       "\n",
       "       non_default  is_close  \n",
       "18129        False     False  \n",
       "15516        False     False  \n",
       "581          False     False  \n",
       "21823        False     False  \n",
       "13506        False     False  \n",
       "10695        False     False  \n",
       "16666        False     False  \n",
       "36107        False     False  \n",
       "15411        False     False  \n",
       "2850         False     False  "
      ]
     },
     "metadata": {},
     "output_type": "display_data"
    },
    {
     "name": "stdout",
     "output_type": "stream",
     "text": [
      "[12355017, 11384768, 68501, 13216351, 10542415, 3311144, 11792646, 14292987, 11341433, 496398]\n",
      "dev_default: False, prod_default: True\n"
     ]
    },
    {
     "data": {
      "text/html": [
       "<div>\n",
       "<style scoped>\n",
       "    .dataframe tbody tr th:only-of-type {\n",
       "        vertical-align: middle;\n",
       "    }\n",
       "\n",
       "    .dataframe tbody tr th {\n",
       "        vertical-align: top;\n",
       "    }\n",
       "\n",
       "    .dataframe thead th {\n",
       "        text-align: right;\n",
       "    }\n",
       "</style>\n",
       "<table border=\"1\" class=\"dataframe\">\n",
       "  <thead>\n",
       "    <tr style=\"text-align: right;\">\n",
       "      <th></th>\n",
       "      <th>party_id</th>\n",
       "      <th>dev_giact_time_since_last_link</th>\n",
       "      <th>prod_giact_time_since_last_link</th>\n",
       "      <th>diff</th>\n",
       "      <th>dev_default</th>\n",
       "      <th>prod_default</th>\n",
       "      <th>non_default</th>\n",
       "      <th>is_close</th>\n",
       "    </tr>\n",
       "  </thead>\n",
       "  <tbody>\n",
       "    <tr>\n",
       "      <th>20020</th>\n",
       "      <td>13013022</td>\n",
       "      <td>588.0</td>\n",
       "      <td>-1.0</td>\n",
       "      <td>589.0</td>\n",
       "      <td>False</td>\n",
       "      <td>True</td>\n",
       "      <td>False</td>\n",
       "      <td>False</td>\n",
       "    </tr>\n",
       "    <tr>\n",
       "      <th>398</th>\n",
       "      <td>46113</td>\n",
       "      <td>586.0</td>\n",
       "      <td>-1.0</td>\n",
       "      <td>587.0</td>\n",
       "      <td>False</td>\n",
       "      <td>True</td>\n",
       "      <td>False</td>\n",
       "      <td>False</td>\n",
       "    </tr>\n",
       "    <tr>\n",
       "      <th>14667</th>\n",
       "      <td>11048814</td>\n",
       "      <td>588.0</td>\n",
       "      <td>-1.0</td>\n",
       "      <td>589.0</td>\n",
       "      <td>False</td>\n",
       "      <td>True</td>\n",
       "      <td>False</td>\n",
       "      <td>False</td>\n",
       "    </tr>\n",
       "    <tr>\n",
       "      <th>8530</th>\n",
       "      <td>2424664</td>\n",
       "      <td>587.0</td>\n",
       "      <td>-1.0</td>\n",
       "      <td>588.0</td>\n",
       "      <td>False</td>\n",
       "      <td>True</td>\n",
       "      <td>False</td>\n",
       "      <td>False</td>\n",
       "    </tr>\n",
       "    <tr>\n",
       "      <th>20637</th>\n",
       "      <td>13100061</td>\n",
       "      <td>588.0</td>\n",
       "      <td>-1.0</td>\n",
       "      <td>589.0</td>\n",
       "      <td>False</td>\n",
       "      <td>True</td>\n",
       "      <td>False</td>\n",
       "      <td>False</td>\n",
       "    </tr>\n",
       "    <tr>\n",
       "      <th>1368</th>\n",
       "      <td>188296</td>\n",
       "      <td>588.0</td>\n",
       "      <td>-1.0</td>\n",
       "      <td>589.0</td>\n",
       "      <td>False</td>\n",
       "      <td>True</td>\n",
       "      <td>False</td>\n",
       "      <td>False</td>\n",
       "    </tr>\n",
       "    <tr>\n",
       "      <th>1774</th>\n",
       "      <td>258168</td>\n",
       "      <td>588.0</td>\n",
       "      <td>-1.0</td>\n",
       "      <td>589.0</td>\n",
       "      <td>False</td>\n",
       "      <td>True</td>\n",
       "      <td>False</td>\n",
       "      <td>False</td>\n",
       "    </tr>\n",
       "    <tr>\n",
       "      <th>8294</th>\n",
       "      <td>2315800</td>\n",
       "      <td>588.0</td>\n",
       "      <td>-1.0</td>\n",
       "      <td>589.0</td>\n",
       "      <td>False</td>\n",
       "      <td>True</td>\n",
       "      <td>False</td>\n",
       "      <td>False</td>\n",
       "    </tr>\n",
       "    <tr>\n",
       "      <th>12492</th>\n",
       "      <td>10149941</td>\n",
       "      <td>585.0</td>\n",
       "      <td>-1.0</td>\n",
       "      <td>586.0</td>\n",
       "      <td>False</td>\n",
       "      <td>True</td>\n",
       "      <td>False</td>\n",
       "      <td>False</td>\n",
       "    </tr>\n",
       "    <tr>\n",
       "      <th>6563</th>\n",
       "      <td>1612003</td>\n",
       "      <td>589.0</td>\n",
       "      <td>-1.0</td>\n",
       "      <td>590.0</td>\n",
       "      <td>False</td>\n",
       "      <td>True</td>\n",
       "      <td>False</td>\n",
       "      <td>False</td>\n",
       "    </tr>\n",
       "  </tbody>\n",
       "</table>\n",
       "</div>"
      ],
      "text/plain": [
       "       party_id  dev_giact_time_since_last_link  \\\n",
       "20020  13013022                           588.0   \n",
       "398       46113                           586.0   \n",
       "14667  11048814                           588.0   \n",
       "8530    2424664                           587.0   \n",
       "20637  13100061                           588.0   \n",
       "1368     188296                           588.0   \n",
       "1774     258168                           588.0   \n",
       "8294    2315800                           588.0   \n",
       "12492  10149941                           585.0   \n",
       "6563    1612003                           589.0   \n",
       "\n",
       "       prod_giact_time_since_last_link   diff  dev_default  prod_default  \\\n",
       "20020                             -1.0  589.0        False          True   \n",
       "398                               -1.0  587.0        False          True   \n",
       "14667                             -1.0  589.0        False          True   \n",
       "8530                              -1.0  588.0        False          True   \n",
       "20637                             -1.0  589.0        False          True   \n",
       "1368                              -1.0  589.0        False          True   \n",
       "1774                              -1.0  589.0        False          True   \n",
       "8294                              -1.0  589.0        False          True   \n",
       "12492                             -1.0  586.0        False          True   \n",
       "6563                              -1.0  590.0        False          True   \n",
       "\n",
       "       non_default  is_close  \n",
       "20020        False     False  \n",
       "398          False     False  \n",
       "14667        False     False  \n",
       "8530         False     False  \n",
       "20637        False     False  \n",
       "1368         False     False  \n",
       "1774         False     False  \n",
       "8294         False     False  \n",
       "12492        False     False  \n",
       "6563         False     False  "
      ]
     },
     "metadata": {},
     "output_type": "display_data"
    },
    {
     "name": "stdout",
     "output_type": "stream",
     "text": [
      "[13013022, 46113, 11048814, 2424664, 13100061, 188296, 258168, 2315800, 10149941, 1612003]\n",
      "dev_default: False, prod_default: False\n"
     ]
    },
    {
     "data": {
      "text/html": [
       "<div>\n",
       "<style scoped>\n",
       "    .dataframe tbody tr th:only-of-type {\n",
       "        vertical-align: middle;\n",
       "    }\n",
       "\n",
       "    .dataframe tbody tr th {\n",
       "        vertical-align: top;\n",
       "    }\n",
       "\n",
       "    .dataframe thead th {\n",
       "        text-align: right;\n",
       "    }\n",
       "</style>\n",
       "<table border=\"1\" class=\"dataframe\">\n",
       "  <thead>\n",
       "    <tr style=\"text-align: right;\">\n",
       "      <th></th>\n",
       "      <th>party_id</th>\n",
       "      <th>dev_giact_time_since_last_link</th>\n",
       "      <th>prod_giact_time_since_last_link</th>\n",
       "      <th>diff</th>\n",
       "      <th>dev_default</th>\n",
       "      <th>prod_default</th>\n",
       "      <th>non_default</th>\n",
       "      <th>is_close</th>\n",
       "    </tr>\n",
       "  </thead>\n",
       "  <tbody>\n",
       "    <tr>\n",
       "      <th>21682</th>\n",
       "      <td>13205177</td>\n",
       "      <td>542.0</td>\n",
       "      <td>20.0</td>\n",
       "      <td>522.0</td>\n",
       "      <td>False</td>\n",
       "      <td>False</td>\n",
       "      <td>True</td>\n",
       "      <td>False</td>\n",
       "    </tr>\n",
       "    <tr>\n",
       "      <th>26318</th>\n",
       "      <td>13561222</td>\n",
       "      <td>510.0</td>\n",
       "      <td>2.0</td>\n",
       "      <td>508.0</td>\n",
       "      <td>False</td>\n",
       "      <td>False</td>\n",
       "      <td>True</td>\n",
       "      <td>False</td>\n",
       "    </tr>\n",
       "    <tr>\n",
       "      <th>23382</th>\n",
       "      <td>13312830</td>\n",
       "      <td>544.0</td>\n",
       "      <td>8.0</td>\n",
       "      <td>536.0</td>\n",
       "      <td>False</td>\n",
       "      <td>False</td>\n",
       "      <td>True</td>\n",
       "      <td>False</td>\n",
       "    </tr>\n",
       "    <tr>\n",
       "      <th>1979</th>\n",
       "      <td>295713</td>\n",
       "      <td>519.0</td>\n",
       "      <td>2.0</td>\n",
       "      <td>517.0</td>\n",
       "      <td>False</td>\n",
       "      <td>False</td>\n",
       "      <td>True</td>\n",
       "      <td>False</td>\n",
       "    </tr>\n",
       "    <tr>\n",
       "      <th>6923</th>\n",
       "      <td>1749468</td>\n",
       "      <td>568.0</td>\n",
       "      <td>44.0</td>\n",
       "      <td>524.0</td>\n",
       "      <td>False</td>\n",
       "      <td>False</td>\n",
       "      <td>True</td>\n",
       "      <td>False</td>\n",
       "    </tr>\n",
       "    <tr>\n",
       "      <th>5330</th>\n",
       "      <td>1180417</td>\n",
       "      <td>574.0</td>\n",
       "      <td>37.0</td>\n",
       "      <td>537.0</td>\n",
       "      <td>False</td>\n",
       "      <td>False</td>\n",
       "      <td>True</td>\n",
       "      <td>False</td>\n",
       "    </tr>\n",
       "    <tr>\n",
       "      <th>23251</th>\n",
       "      <td>13302051</td>\n",
       "      <td>543.0</td>\n",
       "      <td>20.0</td>\n",
       "      <td>523.0</td>\n",
       "      <td>False</td>\n",
       "      <td>False</td>\n",
       "      <td>True</td>\n",
       "      <td>False</td>\n",
       "    </tr>\n",
       "    <tr>\n",
       "      <th>1117</th>\n",
       "      <td>147650</td>\n",
       "      <td>529.0</td>\n",
       "      <td>2.0</td>\n",
       "      <td>527.0</td>\n",
       "      <td>False</td>\n",
       "      <td>False</td>\n",
       "      <td>True</td>\n",
       "      <td>False</td>\n",
       "    </tr>\n",
       "    <tr>\n",
       "      <th>25269</th>\n",
       "      <td>13473585</td>\n",
       "      <td>514.0</td>\n",
       "      <td>16.0</td>\n",
       "      <td>498.0</td>\n",
       "      <td>False</td>\n",
       "      <td>False</td>\n",
       "      <td>True</td>\n",
       "      <td>False</td>\n",
       "    </tr>\n",
       "    <tr>\n",
       "      <th>22064</th>\n",
       "      <td>13232272</td>\n",
       "      <td>541.0</td>\n",
       "      <td>2.0</td>\n",
       "      <td>539.0</td>\n",
       "      <td>False</td>\n",
       "      <td>False</td>\n",
       "      <td>True</td>\n",
       "      <td>False</td>\n",
       "    </tr>\n",
       "  </tbody>\n",
       "</table>\n",
       "</div>"
      ],
      "text/plain": [
       "       party_id  dev_giact_time_since_last_link  \\\n",
       "21682  13205177                           542.0   \n",
       "26318  13561222                           510.0   \n",
       "23382  13312830                           544.0   \n",
       "1979     295713                           519.0   \n",
       "6923    1749468                           568.0   \n",
       "5330    1180417                           574.0   \n",
       "23251  13302051                           543.0   \n",
       "1117     147650                           529.0   \n",
       "25269  13473585                           514.0   \n",
       "22064  13232272                           541.0   \n",
       "\n",
       "       prod_giact_time_since_last_link   diff  dev_default  prod_default  \\\n",
       "21682                             20.0  522.0        False         False   \n",
       "26318                              2.0  508.0        False         False   \n",
       "23382                              8.0  536.0        False         False   \n",
       "1979                               2.0  517.0        False         False   \n",
       "6923                              44.0  524.0        False         False   \n",
       "5330                              37.0  537.0        False         False   \n",
       "23251                             20.0  523.0        False         False   \n",
       "1117                               2.0  527.0        False         False   \n",
       "25269                             16.0  498.0        False         False   \n",
       "22064                              2.0  539.0        False         False   \n",
       "\n",
       "       non_default  is_close  \n",
       "21682         True     False  \n",
       "26318         True     False  \n",
       "23382         True     False  \n",
       "1979          True     False  \n",
       "6923          True     False  \n",
       "5330          True     False  \n",
       "23251         True     False  \n",
       "1117          True     False  \n",
       "25269         True     False  \n",
       "22064         True     False  "
      ]
     },
     "metadata": {},
     "output_type": "display_data"
    },
    {
     "name": "stdout",
     "output_type": "stream",
     "text": [
      "[13205177, 13561222, 13312830, 295713, 1749468, 1180417, 13302051, 147650, 13473585, 13232272]\n"
     ]
    }
   ],
   "source": [
    "# sample from each groups\n",
    "# T, F\n",
    "# F, T\n",
    "# T, T\n",
    "\n",
    "for v1, v2 in [(True, False), (False, True), (False, False)]:\n",
    "    print(f'dev_default: {v1}, prod_default: {v2}')\n",
    "    np.random.seed(100)\n",
    "    debug_df_ = debug_df[(debug_df.dev_default == v1) & (debug_df.prod_default == v2)]\n",
    "    debug_df_['diff'] = debug_df_['diff'].abs()\n",
    "    debug_df_ = debug_df_.sort_values(by='diff', ascending=False).head(100).sample(10)\n",
    "    display(debug_df_)\n",
    "    giact_ids = debug_df_.party_id.tolist()\n",
    "    print(giact_ids)"
   ]
  },
  {
   "cell_type": "code",
   "execution_count": 36,
   "metadata": {},
   "outputs": [
    {
     "data": {
      "text/html": [
       "<div>\n",
       "<style scoped>\n",
       "    .dataframe tbody tr th:only-of-type {\n",
       "        vertical-align: middle;\n",
       "    }\n",
       "\n",
       "    .dataframe tbody tr th {\n",
       "        vertical-align: top;\n",
       "    }\n",
       "\n",
       "    .dataframe thead th {\n",
       "        text-align: right;\n",
       "    }\n",
       "</style>\n",
       "<table border=\"1\" class=\"dataframe\">\n",
       "  <thead>\n",
       "    <tr style=\"text-align: right;\">\n",
       "      <th></th>\n",
       "      <th>party_id</th>\n",
       "      <th>dev_giact_time_since_last_link</th>\n",
       "      <th>prod_giact_time_since_last_link</th>\n",
       "      <th>diff</th>\n",
       "      <th>dev_default</th>\n",
       "      <th>prod_default</th>\n",
       "      <th>non_default</th>\n",
       "      <th>is_close</th>\n",
       "    </tr>\n",
       "  </thead>\n",
       "  <tbody>\n",
       "    <tr>\n",
       "      <th>66594</th>\n",
       "      <td>16297903</td>\n",
       "      <td>-1.0</td>\n",
       "      <td>49.0</td>\n",
       "      <td>-50.0</td>\n",
       "      <td>True</td>\n",
       "      <td>False</td>\n",
       "      <td>False</td>\n",
       "      <td>False</td>\n",
       "    </tr>\n",
       "  </tbody>\n",
       "</table>\n",
       "</div>"
      ],
      "text/plain": [
       "       party_id  dev_giact_time_since_last_link  \\\n",
       "66594  16297903                            -1.0   \n",
       "\n",
       "       prod_giact_time_since_last_link  diff  dev_default  prod_default  \\\n",
       "66594                             49.0 -50.0         True         False   \n",
       "\n",
       "       non_default  is_close  \n",
       "66594        False     False  "
      ]
     },
     "execution_count": 36,
     "metadata": {},
     "output_type": "execute_result"
    }
   ],
   "source": [
    "# not in dev, but in prod\n",
    "debug_df[debug_df.party_id == 16297903]  "
   ]
  },
  {
   "cell_type": "code",
   "execution_count": 37,
   "metadata": {},
   "outputs": [
    {
     "data": {
      "text/html": [
       "<div>\n",
       "<style scoped>\n",
       "    .dataframe tbody tr th:only-of-type {\n",
       "        vertical-align: middle;\n",
       "    }\n",
       "\n",
       "    .dataframe tbody tr th {\n",
       "        vertical-align: top;\n",
       "    }\n",
       "\n",
       "    .dataframe thead th {\n",
       "        text-align: right;\n",
       "    }\n",
       "</style>\n",
       "<table border=\"1\" class=\"dataframe\">\n",
       "  <thead>\n",
       "    <tr style=\"text-align: right;\">\n",
       "      <th></th>\n",
       "      <th>party_id</th>\n",
       "      <th>dev_giact_time_since_last_link</th>\n",
       "      <th>prod_giact_time_since_last_link</th>\n",
       "      <th>diff</th>\n",
       "      <th>dev_default</th>\n",
       "      <th>prod_default</th>\n",
       "      <th>non_default</th>\n",
       "      <th>is_close</th>\n",
       "    </tr>\n",
       "  </thead>\n",
       "  <tbody>\n",
       "    <tr>\n",
       "      <th>20020</th>\n",
       "      <td>13013022</td>\n",
       "      <td>588.0</td>\n",
       "      <td>-1.0</td>\n",
       "      <td>589.0</td>\n",
       "      <td>False</td>\n",
       "      <td>True</td>\n",
       "      <td>False</td>\n",
       "      <td>False</td>\n",
       "    </tr>\n",
       "  </tbody>\n",
       "</table>\n",
       "</div>"
      ],
      "text/plain": [
       "       party_id  dev_giact_time_since_last_link  \\\n",
       "20020  13013022                           588.0   \n",
       "\n",
       "       prod_giact_time_since_last_link   diff  dev_default  prod_default  \\\n",
       "20020                             -1.0  589.0        False          True   \n",
       "\n",
       "       non_default  is_close  \n",
       "20020        False     False  "
      ]
     },
     "execution_count": 37,
     "metadata": {},
     "output_type": "execute_result"
    }
   ],
   "source": [
    "# not in prod but in dev \n",
    "debug_df[debug_df.party_id == 13013022]  "
   ]
  },
  {
   "cell_type": "code",
   "execution_count": 38,
   "metadata": {},
   "outputs": [
    {
     "data": {
      "text/html": [
       "<div>\n",
       "<style scoped>\n",
       "    .dataframe tbody tr th:only-of-type {\n",
       "        vertical-align: middle;\n",
       "    }\n",
       "\n",
       "    .dataframe tbody tr th {\n",
       "        vertical-align: top;\n",
       "    }\n",
       "\n",
       "    .dataframe thead th {\n",
       "        text-align: right;\n",
       "    }\n",
       "</style>\n",
       "<table border=\"1\" class=\"dataframe\">\n",
       "  <thead>\n",
       "    <tr style=\"text-align: right;\">\n",
       "      <th></th>\n",
       "      <th>party_id</th>\n",
       "      <th>dev_giact_time_since_last_link</th>\n",
       "      <th>prod_giact_time_since_last_link</th>\n",
       "      <th>diff</th>\n",
       "      <th>dev_default</th>\n",
       "      <th>prod_default</th>\n",
       "      <th>non_default</th>\n",
       "      <th>is_close</th>\n",
       "    </tr>\n",
       "  </thead>\n",
       "  <tbody>\n",
       "    <tr>\n",
       "      <th>21682</th>\n",
       "      <td>13205177</td>\n",
       "      <td>542.0</td>\n",
       "      <td>20.0</td>\n",
       "      <td>522.0</td>\n",
       "      <td>False</td>\n",
       "      <td>False</td>\n",
       "      <td>True</td>\n",
       "      <td>False</td>\n",
       "    </tr>\n",
       "  </tbody>\n",
       "</table>\n",
       "</div>"
      ],
      "text/plain": [
       "       party_id  dev_giact_time_since_last_link  \\\n",
       "21682  13205177                           542.0   \n",
       "\n",
       "       prod_giact_time_since_last_link   diff  dev_default  prod_default  \\\n",
       "21682                             20.0  522.0        False         False   \n",
       "\n",
       "       non_default  is_close  \n",
       "21682         True     False  "
      ]
     },
     "execution_count": 38,
     "metadata": {},
     "output_type": "execute_result"
    }
   ],
   "source": [
    "# in both\n",
    "debug_df[debug_df.party_id == 13205177]"
   ]
  },
  {
   "cell_type": "code",
   "execution_count": 39,
   "metadata": {},
   "outputs": [],
   "source": [
    "giact_FF = pd.read_csv('giact-data-F-F.csv')\n",
    "giact_FT = pd.read_csv('giact-data-F-T.csv')\n",
    "giact_TF = pd.read_csv('giact-data-T-F.csv')"
   ]
  },
  {
   "cell_type": "code",
   "execution_count": 40,
   "metadata": {},
   "outputs": [],
   "source": [
    "import json\n",
    "\n",
    "\n",
    "def get_giact_data(string, path):\n",
    "    # convert string to json and get giact data\n",
    "    data = json.loads(string)\n",
    "    for p in path:\n",
    "        data = data[p]\n",
    "    return data\n",
    "\n",
    "def get_giact_details(string, cell):\n",
    "    try: \n",
    "        return get_giact_data(string, ['giactData', 'giactAccountDetails', 0, cell])\n",
    "    except:\n",
    "        return None\n",
    "\n",
    "def get_giact_last_mod_date(string):\n",
    "    return get_giact_data(string, ['giactData', 'lastModifiedDate'])\n",
    "\n"
   ]
  },
  {
   "cell_type": "code",
   "execution_count": 41,
   "metadata": {},
   "outputs": [
    {
     "data": {
      "text/plain": [
       "[{'@type': 'GiactAccountDetailsV3',\n",
       "  'decisionDate': '2020-08-31T15:20:05.038876',\n",
       "  'moneyAccountId': 410001482788,\n",
       "  'linkedAccountId': '2186487274',\n",
       "  'linkingDecision': 'PASS',\n",
       "  'linkingResultId': '2ab12f8e-f48b-4fee-8e47-d6098842cfd2',\n",
       "  'giactDetailsSource': {'@type': '.GiactDetailsSource$MoneyLinking',\n",
       "   'linkingResultId': '2ab12f8e-f48b-4fee-8e47-d6098842cfd2'},\n",
       "  'giactResponseCreatedDt': '2020-08-31T15:20:05.038876Z',\n",
       "  'thirdPartyAuthResponseV2': {'customerName': 'JOE LEWIS',\n",
       "   'thirdPartyId': '1f64b58f-496e-4582-8dec-88471d5fd8c9',\n",
       "   'thirdPartyType': 'PLAID_INSTANT',\n",
       "   'thirdPartyNames': ['Joseph Lewis'],\n",
       "   'nameMatchingPercent': 100,\n",
       "   'firstNameWasNormalized': True,\n",
       "   'thirdPartyConnectionId': '916713a1-b4ad-44b4-a8a4-0479344be6d5',\n",
       "   'externalNameMatchResult': 'MATCH',\n",
       "   'internalNameMatchResult': 'EXACT'},\n",
       "  'linkedAccountRoutingNumber': '124003116'}]"
      ]
     },
     "execution_count": 41,
     "metadata": {},
     "output_type": "execute_result"
    }
   ],
   "source": [
    "json.loads(giact_FF.cache[0])['giactData']['giactAccountDetails']"
   ]
  },
  {
   "cell_type": "code",
   "execution_count": 42,
   "metadata": {},
   "outputs": [],
   "source": [
    "detail_cols = ['decisionDate', 'linkedAccountRoutingNumber', 'giactResponseCreatedDt']\n",
    "for df in [giact_FF, giact_FT, giact_TF]:\n",
    "    df['giactData'] = df.cache.apply(lambda x: json.loads(x)['giactData'])\n",
    "    for col in detail_cols:\n",
    "        df[col] = df.cache.apply(lambda x: get_giact_details(x, col))\n",
    "    df['lastModifiedDate'] = df.cache.apply(get_giact_last_mod_date)"
   ]
  },
  {
   "cell_type": "code",
   "execution_count": 43,
   "metadata": {},
   "outputs": [],
   "source": [
    "prod_giacts = {'giact_FF': giact_FF, \n",
    "               'giact_FT': giact_FT,\n",
    "               'giact_TF': giact_TF}"
   ]
  },
  {
   "cell_type": "code",
   "execution_count": 44,
   "metadata": {},
   "outputs": [
    {
     "data": {
      "text/html": [
       "<div>\n",
       "<style scoped>\n",
       "    .dataframe tbody tr th:only-of-type {\n",
       "        vertical-align: middle;\n",
       "    }\n",
       "\n",
       "    .dataframe tbody tr th {\n",
       "        vertical-align: top;\n",
       "    }\n",
       "\n",
       "    .dataframe thead th {\n",
       "        text-align: right;\n",
       "    }\n",
       "</style>\n",
       "<table border=\"1\" class=\"dataframe\">\n",
       "  <thead>\n",
       "    <tr style=\"text-align: right;\">\n",
       "      <th></th>\n",
       "      <th>dms_export_timestamp</th>\n",
       "      <th>money_cache_id</th>\n",
       "      <th>party_id</th>\n",
       "      <th>cache</th>\n",
       "      <th>created_by</th>\n",
       "      <th>created_dt</th>\n",
       "      <th>updated_by</th>\n",
       "      <th>updated_dt</th>\n",
       "      <th>giactData</th>\n",
       "      <th>decisionDate</th>\n",
       "      <th>linkedAccountRoutingNumber</th>\n",
       "      <th>giactResponseCreatedDt</th>\n",
       "      <th>lastModifiedDate</th>\n",
       "    </tr>\n",
       "  </thead>\n",
       "  <tbody>\n",
       "    <tr>\n",
       "      <th>0</th>\n",
       "      <td>2020-09-08 04:19:28.219843</td>\n",
       "      <td>bf9ed869-2c00-42e8-b0fc-4550bcbe0ce8</td>\n",
       "      <td>13561222</td>\n",
       "      <td>{\"@type\": \"MoneyCacheData\", \"tmxData\": {\"versi...</td>\n",
       "      <td>automation@sofi.org</td>\n",
       "      <td>2019-08-03 02:33:26.424</td>\n",
       "      <td>automation@sofi.org</td>\n",
       "      <td>2020-09-08 00:01:20.310</td>\n",
       "      <td>{'version': ''BdYkbaRD703boqpzHrNeTRfvii/CV2R7...</td>\n",
       "      <td>2020-08-31T15:20:05.038876</td>\n",
       "      <td>124003116</td>\n",
       "      <td>2020-08-31T15:20:05.038876Z</td>\n",
       "      <td>2020-08-31T15:20:05.057251Z</td>\n",
       "    </tr>\n",
       "    <tr>\n",
       "      <th>1</th>\n",
       "      <td>2020-09-08 04:17:45.878267</td>\n",
       "      <td>b8421ee7-e601-4ad5-9cfa-9ebcd93b2323</td>\n",
       "      <td>13205177</td>\n",
       "      <td>{\"@type\": \"MoneyCacheData\", \"tmxData\": {\"versi...</td>\n",
       "      <td>automation@sofi.org</td>\n",
       "      <td>2019-08-02 22:07:44.409</td>\n",
       "      <td>automation@sofi.org</td>\n",
       "      <td>2020-09-08 00:03:47.459</td>\n",
       "      <td>{'version': ''BdYkbaRD703boqpzHrNeTRfvii/CV2R7...</td>\n",
       "      <td>2020-08-13T12:44:24.362591</td>\n",
       "      <td>091000022</td>\n",
       "      <td>2020-08-13T12:44:24.362591Z</td>\n",
       "      <td>2020-08-24T20:31:45.195926Z</td>\n",
       "    </tr>\n",
       "    <tr>\n",
       "      <th>2</th>\n",
       "      <td>2020-09-08 04:18:56.512192</td>\n",
       "      <td>745f7a01-7dbc-4849-ad4e-d5ac44edf07e</td>\n",
       "      <td>13232272</td>\n",
       "      <td>{\"@type\": \"MoneyCacheData\", \"tmxData\": {\"versi...</td>\n",
       "      <td>automation@sofi.org</td>\n",
       "      <td>2019-08-02 22:24:44.577</td>\n",
       "      <td>automation@sofi.org</td>\n",
       "      <td>2020-09-08 00:01:14.806</td>\n",
       "      <td>{'version': ''BdYkbaRD703boqpzHrNeTRfvii/CV2R7...</td>\n",
       "      <td>2020-08-31T16:43:34.661739</td>\n",
       "      <td>044000804</td>\n",
       "      <td>2020-08-31T16:43:34.661739Z</td>\n",
       "      <td>2020-08-31T16:43:34.69844Z</td>\n",
       "    </tr>\n",
       "    <tr>\n",
       "      <th>3</th>\n",
       "      <td>2020-09-08 04:19:37.627642</td>\n",
       "      <td>176f272d-5e8f-4ead-9258-67ca3e41a62d</td>\n",
       "      <td>13302051</td>\n",
       "      <td>{\"@type\": \"MoneyCacheData\", \"tmxData\": {\"versi...</td>\n",
       "      <td>automation@sofi.org</td>\n",
       "      <td>2019-08-02 21:58:12.838</td>\n",
       "      <td>automation@sofi.org</td>\n",
       "      <td>2020-09-08 00:01:52.979</td>\n",
       "      <td>{'version': ''BdYkbaRD703boqpzHrNeTRfvii/CV2R7...</td>\n",
       "      <td>2020-08-13T13:12:39.012907</td>\n",
       "      <td>121202211</td>\n",
       "      <td>2020-08-13T13:12:39.012907Z</td>\n",
       "      <td>2020-08-14T02:57:14.908678Z</td>\n",
       "    </tr>\n",
       "    <tr>\n",
       "      <th>4</th>\n",
       "      <td>2020-09-08 04:18:34.206363</td>\n",
       "      <td>8f20f236-0ed1-4d9e-bd03-32232dc341a4</td>\n",
       "      <td>1180417</td>\n",
       "      <td>{\"@type\": \"MoneyCacheData\", \"tmxData\": {\"versi...</td>\n",
       "      <td>automation@sofi.org</td>\n",
       "      <td>2019-11-05 22:43:01.247</td>\n",
       "      <td>automation@sofi.org</td>\n",
       "      <td>2020-09-08 00:00:30.329</td>\n",
       "      <td>{'version': ''BdYkbaRD703boqpzHrNeTRfvii/CV2R7...</td>\n",
       "      <td>2020-07-27T14:31:02.488706</td>\n",
       "      <td>061000104</td>\n",
       "      <td>2020-07-27T14:31:02.488706Z</td>\n",
       "      <td>2020-07-27T14:31:02.503864Z</td>\n",
       "    </tr>\n",
       "  </tbody>\n",
       "</table>\n",
       "</div>"
      ],
      "text/plain": [
       "         dms_export_timestamp                        money_cache_id  party_id  \\\n",
       "0  2020-09-08 04:19:28.219843  bf9ed869-2c00-42e8-b0fc-4550bcbe0ce8  13561222   \n",
       "1  2020-09-08 04:17:45.878267  b8421ee7-e601-4ad5-9cfa-9ebcd93b2323  13205177   \n",
       "2  2020-09-08 04:18:56.512192  745f7a01-7dbc-4849-ad4e-d5ac44edf07e  13232272   \n",
       "3  2020-09-08 04:19:37.627642  176f272d-5e8f-4ead-9258-67ca3e41a62d  13302051   \n",
       "4  2020-09-08 04:18:34.206363  8f20f236-0ed1-4d9e-bd03-32232dc341a4   1180417   \n",
       "\n",
       "                                               cache           created_by  \\\n",
       "0  {\"@type\": \"MoneyCacheData\", \"tmxData\": {\"versi...  automation@sofi.org   \n",
       "1  {\"@type\": \"MoneyCacheData\", \"tmxData\": {\"versi...  automation@sofi.org   \n",
       "2  {\"@type\": \"MoneyCacheData\", \"tmxData\": {\"versi...  automation@sofi.org   \n",
       "3  {\"@type\": \"MoneyCacheData\", \"tmxData\": {\"versi...  automation@sofi.org   \n",
       "4  {\"@type\": \"MoneyCacheData\", \"tmxData\": {\"versi...  automation@sofi.org   \n",
       "\n",
       "                created_dt           updated_by               updated_dt  \\\n",
       "0  2019-08-03 02:33:26.424  automation@sofi.org  2020-09-08 00:01:20.310   \n",
       "1  2019-08-02 22:07:44.409  automation@sofi.org  2020-09-08 00:03:47.459   \n",
       "2  2019-08-02 22:24:44.577  automation@sofi.org  2020-09-08 00:01:14.806   \n",
       "3  2019-08-02 21:58:12.838  automation@sofi.org  2020-09-08 00:01:52.979   \n",
       "4  2019-11-05 22:43:01.247  automation@sofi.org  2020-09-08 00:00:30.329   \n",
       "\n",
       "                                           giactData  \\\n",
       "0  {'version': ''BdYkbaRD703boqpzHrNeTRfvii/CV2R7...   \n",
       "1  {'version': ''BdYkbaRD703boqpzHrNeTRfvii/CV2R7...   \n",
       "2  {'version': ''BdYkbaRD703boqpzHrNeTRfvii/CV2R7...   \n",
       "3  {'version': ''BdYkbaRD703boqpzHrNeTRfvii/CV2R7...   \n",
       "4  {'version': ''BdYkbaRD703boqpzHrNeTRfvii/CV2R7...   \n",
       "\n",
       "                 decisionDate linkedAccountRoutingNumber  \\\n",
       "0  2020-08-31T15:20:05.038876                  124003116   \n",
       "1  2020-08-13T12:44:24.362591                  091000022   \n",
       "2  2020-08-31T16:43:34.661739                  044000804   \n",
       "3  2020-08-13T13:12:39.012907                  121202211   \n",
       "4  2020-07-27T14:31:02.488706                  061000104   \n",
       "\n",
       "        giactResponseCreatedDt             lastModifiedDate  \n",
       "0  2020-08-31T15:20:05.038876Z  2020-08-31T15:20:05.057251Z  \n",
       "1  2020-08-13T12:44:24.362591Z  2020-08-24T20:31:45.195926Z  \n",
       "2  2020-08-31T16:43:34.661739Z   2020-08-31T16:43:34.69844Z  \n",
       "3  2020-08-13T13:12:39.012907Z  2020-08-14T02:57:14.908678Z  \n",
       "4  2020-07-27T14:31:02.488706Z  2020-07-27T14:31:02.503864Z  "
      ]
     },
     "execution_count": 44,
     "metadata": {},
     "output_type": "execute_result"
    }
   ],
   "source": [
    "giact_FF.head()"
   ]
  },
  {
   "cell_type": "code",
   "execution_count": null,
   "metadata": {},
   "outputs": [
    {
     "name": "stderr",
     "output_type": "stream",
     "text": [
      "Exception in thread Thread-45:\n",
      "Traceback (most recent call last):\n",
      "  File \"/home/ec2-user/anaconda3/envs/ml_basic_py37/lib/python3.7/threading.py\", line 926, in _bootstrap_inner\n",
      "    self.run()\n",
      "  File \"/home/ec2-user/anaconda3/envs/ml_basic_py37/lib/python3.7/site-packages/joblib/externals/loky/process_executor.py\", line 558, in run\n",
      "    self.terminate_broken(bpe)\n",
      "  File \"/home/ec2-user/anaconda3/envs/ml_basic_py37/lib/python3.7/site-packages/joblib/externals/loky/process_executor.py\", line 736, in terminate_broken\n",
      "    self.kill_workers()\n",
      "  File \"/home/ec2-user/anaconda3/envs/ml_basic_py37/lib/python3.7/site-packages/joblib/externals/loky/process_executor.py\", line 766, in kill_workers\n",
      "    recursive_terminate(p)\n",
      "  File \"/home/ec2-user/anaconda3/envs/ml_basic_py37/lib/python3.7/site-packages/joblib/externals/loky/backend/utils.py\", line 28, in recursive_terminate\n",
      "    _recursive_terminate_without_psutil(process)\n",
      "  File \"/home/ec2-user/anaconda3/envs/ml_basic_py37/lib/python3.7/site-packages/joblib/externals/loky/backend/utils.py\", line 53, in _recursive_terminate_without_psutil\n",
      "    _recursive_terminate(process.pid)\n",
      "  File \"/home/ec2-user/anaconda3/envs/ml_basic_py37/lib/python3.7/site-packages/joblib/externals/loky/backend/utils.py\", line 94, in _recursive_terminate\n",
      "    stderr=None\n",
      "  File \"/home/ec2-user/anaconda3/envs/ml_basic_py37/lib/python3.7/subprocess.py\", line 411, in check_output\n",
      "    **kwargs).stdout\n",
      "  File \"/home/ec2-user/anaconda3/envs/ml_basic_py37/lib/python3.7/subprocess.py\", line 512, in run\n",
      "    output=stdout, stderr=stderr)\n",
      "subprocess.CalledProcessError: Command '['pgrep', '-P', '14294']' died with <Signals.SIGINT: 2>.\n",
      "\n"
     ]
    }
   ],
   "source": [
    "modeling_giact = modeling_df[modeling_df.party_id.isin(giact_FF.party_id)]"
   ]
  },
  {
   "cell_type": "code",
   "execution_count": null,
   "metadata": {},
   "outputs": [],
   "source": []
  }
 ],
 "metadata": {
  "kernelspec": {
   "display_name": "conda_customer_risk",
   "language": "python",
   "name": "conda_customer_risk"
  },
  "language_info": {
   "codemirror_mode": {
    "name": "ipython",
    "version": 3
   },
   "file_extension": ".py",
   "mimetype": "text/x-python",
   "name": "python",
   "nbconvert_exporter": "python",
   "pygments_lexer": "ipython3",
   "version": "3.7.10"
  }
 },
 "nbformat": 4,
 "nbformat_minor": 4
}
