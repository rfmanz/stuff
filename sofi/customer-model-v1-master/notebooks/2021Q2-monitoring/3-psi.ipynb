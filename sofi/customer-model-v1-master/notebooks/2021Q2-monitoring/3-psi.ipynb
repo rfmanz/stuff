{
 "cells": [
  {
   "cell_type": "markdown",
   "id": "028d8b20",
   "metadata": {},
   "source": [
    "### Measure PSI with current prod data and past dev\n",
    "---"
   ]
  },
  {
   "cell_type": "code",
   "execution_count": 1,
   "id": "aea8f55c",
   "metadata": {
    "execution": {
     "iopub.execute_input": "2021-06-29T16:34:55.635032Z",
     "iopub.status.busy": "2021-06-29T16:34:55.634556Z",
     "iopub.status.idle": "2021-06-29T16:34:56.958959Z",
     "shell.execute_reply": "2021-06-29T16:34:56.958491Z"
    }
   },
   "outputs": [
    {
     "ename": "RuntimeError",
     "evalue": "module compiled against API version 0xe but this version of numpy is 0xd",
     "output_type": "error",
     "traceback": [
      "\u001b[0;31m---------------------------------------------------------------------------\u001b[0m",
      "\u001b[0;31mRuntimeError\u001b[0m                              Traceback (most recent call last)",
      "\u001b[0;31mRuntimeError\u001b[0m: module compiled against API version 0xe but this version of numpy is 0xd"
     ]
    }
   ],
   "source": [
    "import sys, os, json\n",
    "sys.path.insert(1, \"../../\")\n",
    "from src.combine import combine_data\n",
    "import pandas as pd\n",
    "import numpy as np\n",
    "from tqdm import tqdm\n",
    "import matplotlib.pyplot as plt\n",
    "from collections import OrderedDict\n",
    "import src.monitoring.refit as refit\n",
    "import src.monitoring.governance as gvrn\n",
    "import src.monitoring.monitoring as mntr\n",
    "import src.monitoring.utils as mu\n",
    "from smart_open import open\n",
    "import pickle as pkl\n",
    "\n",
    "%matplotlib inline\n",
    "plt.style.use('seaborn')\n",
    "\n",
    "%load_ext autoreload\n",
    "%autoreload 2\n",
    "\n",
    "import warnings\n",
    "warnings.filterwarnings(\"ignore\")"
   ]
  },
  {
   "cell_type": "code",
   "execution_count": 2,
   "id": "4d2d0e4a",
   "metadata": {
    "execution": {
     "iopub.execute_input": "2021-06-29T16:34:56.962714Z",
     "iopub.status.busy": "2021-06-29T16:34:56.962335Z",
     "iopub.status.idle": "2021-06-29T16:34:56.977196Z",
     "shell.execute_reply": "2021-06-29T16:34:56.976851Z"
    }
   },
   "outputs": [
    {
     "name": "stdout",
     "output_type": "stream",
     "text": [
      "dict_keys(['mmonth', 'dev_df_path', 'monitoring_dates', 'prod_data_dates', 'data_output_path', 'artifact_path', 'date_sample_start', 'date_sample_end', 'model_paths', 'prev_test_df_path', 'modeling_df_path', 'test_df_path', 'prod_dfs_path'])\n"
     ]
    }
   ],
   "source": [
    "# load config and set local variables with config[\"mconfig\"]\n",
    "with open(\"../../config.json\", \"r\") as f:\n",
    "    config = json.load(f)\n",
    "    \n",
    "mconfig = config[\"monitoring_config\"]\n",
    "locals().update(mconfig)   # this would set k-v pairs in mconfig as local variables\n",
    "print(mconfig.keys())"
   ]
  },
  {
   "cell_type": "code",
   "execution_count": 3,
   "id": "24639194",
   "metadata": {
    "execution": {
     "iopub.execute_input": "2021-06-29T16:34:56.980491Z",
     "iopub.status.busy": "2021-06-29T16:34:56.980100Z",
     "iopub.status.idle": "2021-06-29T16:35:11.368662Z",
     "shell.execute_reply": "2021-06-29T16:35:11.368199Z"
    }
   },
   "outputs": [],
   "source": [
    "# load data\n",
    "\n",
    "prev_df = pd.read_parquet(prev_test_df_path)\n",
    "prev_df = mu.preprocess(prev_df)\n",
    "prev_date = str(prev_df.sample_date.min()).split(\" \")[0]\n",
    "\n",
    "assert(len(prod_dfs_path)) == 1\n",
    "for cur_date, pdf_path in prod_dfs_path.items():\n",
    "    prod_df = pd.read_parquet(pdf_path)"
   ]
  },
  {
   "cell_type": "code",
   "execution_count": 4,
   "id": "29d88eb0",
   "metadata": {
    "execution": {
     "iopub.execute_input": "2021-06-29T16:35:11.372913Z",
     "iopub.status.busy": "2021-06-29T16:35:11.372427Z",
     "iopub.status.idle": "2021-06-29T16:35:12.382269Z",
     "shell.execute_reply": "2021-06-29T16:35:12.382781Z"
    }
   },
   "outputs": [],
   "source": [
    "# load models\n",
    "models = {}\n",
    "for mname, mpath in model_paths.items():\n",
    "    with open(mpath, \"rb\") as f:\n",
    "        models[mname] = pkl.load(f)"
   ]
  },
  {
   "cell_type": "code",
   "execution_count": 5,
   "id": "842fdfa0",
   "metadata": {
    "execution": {
     "iopub.execute_input": "2021-06-29T16:35:12.389643Z",
     "iopub.status.busy": "2021-06-29T16:35:12.389044Z",
     "iopub.status.idle": "2021-06-29T16:35:14.142615Z",
     "shell.execute_reply": "2021-06-29T16:35:14.142277Z"
    }
   },
   "outputs": [
    {
     "data": {
      "image/png": "[encoded data removed]",
      "text/plain": [
       "<Figure size 576x396 with 1 Axes>"
      ]
     },
     "metadata": {},
     "output_type": "display_data"
    },
    {
     "data": {
      "image/png": "[encoded data removed]",
      "text/plain": [
       "<Figure size 576x396 with 1 Axes>"
      ]
     },
     "metadata": {},
     "output_type": "display_data"
    }
   ],
   "source": [
    "# get all the snapshots\n",
    "for mname, model in models.items(): \n",
    "    # set folder:\n",
    "    mntr_path = os.path.join(artifact_path, \"psi\", f\"psi_{mname}_{prev_date}-{cur_date}\")\n",
    "    os.makedirs(mntr_path, exist_ok=True)\n",
    "\n",
    "\n",
    "    prev_df[\"model_pred\"] = model.predict_proba(prev_df[model.feature_name_])[:,1]\n",
    "    prev_df[\"model_score\"] = mu.scale_scores(prev_df[\"model_pred\"])\n",
    "\n",
    "    # save plot\n",
    "    fig = plt.figure()\n",
    "    prod_df.model_score.hist(bins=10, alpha=0.4, density=True, label=\"production\")\n",
    "    prev_df.model_score.hist(bins=10, alpha=0.4, density=True, label=\"development\")\n",
    "    plt.legend()\n",
    "    plt.show()\n",
    "    fig.savefig(os.path.join(mntr_path, \"score_psi.png\"))\n",
    "    \n",
    "    # save psi df\n",
    "    psi_df = mntr.get_psi(prev_df.model_score.to_frame(), \n",
    "                          prod_df.model_score.to_frame()).round(5)\n",
    "    psi_df.to_csv(os.path.join(mntr_path, f\"psi.csv\"), index=False)\n",
    "    psi_df"
   ]
  },
  {
   "cell_type": "code",
   "execution_count": null,
   "id": "7312b3c7",
   "metadata": {},
   "outputs": [],
   "source": []
  },
  {
   "cell_type": "markdown",
   "id": "789ce7ee",
   "metadata": {},
   "source": [
    "### Additional Analysis, if required"
   ]
  },
  {
   "cell_type": "code",
   "execution_count": 6,
   "id": "e17f5164",
   "metadata": {
    "execution": {
     "iopub.execute_input": "2021-06-29T16:35:14.147438Z",
     "iopub.status.busy": "2021-06-29T16:35:14.147047Z",
     "iopub.status.idle": "2021-06-29T16:35:50.343017Z",
     "shell.execute_reply": "2021-06-29T16:35:50.342554Z"
    }
   },
   "outputs": [],
   "source": [
    "prev_df = pd.read_parquet(test_df_path)\n",
    "prev_df = mu.preprocess(prev_df)\n",
    "prev_date = \"2021-01-01\"\n",
    "\n",
    "assert(len(prod_dfs_path)) == 1\n",
    "for cur_date, pdf_path in prod_dfs_path.items():\n",
    "    prod_df = pd.read_parquet(pdf_path)"
   ]
  },
  {
   "cell_type": "code",
   "execution_count": 7,
   "id": "2842d89e",
   "metadata": {
    "execution": {
     "iopub.execute_input": "2021-06-29T16:35:50.346900Z",
     "iopub.status.busy": "2021-06-29T16:35:50.346505Z",
     "iopub.status.idle": "2021-06-29T16:35:50.367022Z",
     "shell.execute_reply": "2021-06-29T16:35:50.366626Z"
    }
   },
   "outputs": [
    {
     "data": {
      "text/plain": [
       "(4762099, 94)"
      ]
     },
     "execution_count": 1,
     "metadata": {},
     "output_type": "execute_result"
    }
   ],
   "source": [
    "prev_df.shape"
   ]
  },
  {
   "cell_type": "code",
   "execution_count": 8,
   "id": "f2b8d3e4",
   "metadata": {
    "execution": {
     "iopub.execute_input": "2021-06-29T16:35:50.370210Z",
     "iopub.status.busy": "2021-06-29T16:35:50.369788Z",
     "iopub.status.idle": "2021-06-29T16:35:50.844554Z",
     "shell.execute_reply": "2021-06-29T16:35:50.845670Z"
    }
   },
   "outputs": [],
   "source": [
    "# load models\n",
    "models = {}\n",
    "for mname, mpath in model_paths.items():\n",
    "    with open(mpath, \"rb\") as f:\n",
    "        models[mname] = pkl.load(f)"
   ]
  },
  {
   "cell_type": "code",
   "execution_count": 9,
   "id": "2923eb8a",
   "metadata": {
    "execution": {
     "iopub.execute_input": "2021-06-29T16:35:50.850685Z",
     "iopub.status.busy": "2021-06-29T16:35:50.849190Z",
     "iopub.status.idle": "2021-06-29T16:35:50.889479Z",
     "shell.execute_reply": "2021-06-29T16:35:50.890452Z"
    }
   },
   "outputs": [],
   "source": [
    "del models[\"incumbent_model\"]  # we only want to look at customer_refitted_2021Q1 here"
   ]
  },
  {
   "cell_type": "code",
   "execution_count": 10,
   "id": "afba9a8a",
   "metadata": {
    "execution": {
     "iopub.execute_input": "2021-06-29T16:35:50.895117Z",
     "iopub.status.busy": "2021-06-29T16:35:50.893649Z",
     "iopub.status.idle": "2021-06-29T16:36:03.855638Z",
     "shell.execute_reply": "2021-06-29T16:36:03.855249Z"
    }
   },
   "outputs": [
    {
     "data": {
      "image/png": "[encoded data removed]",
      "text/plain": [
       "<Figure size 576x396 with 1 Axes>"
      ]
     },
     "metadata": {},
     "output_type": "display_data"
    },
    {
     "data": {
      "text/html": [
       "<div>\n",
       "<style scoped>\n",
       "    .dataframe tbody tr th:only-of-type {\n",
       "        vertical-align: middle;\n",
       "    }\n",
       "\n",
       "    .dataframe tbody tr th {\n",
       "        vertical-align: top;\n",
       "    }\n",
       "\n",
       "    .dataframe thead th {\n",
       "        text-align: right;\n",
       "    }\n",
       "</style>\n",
       "<table border=\"1\" class=\"dataframe\">\n",
       "  <thead>\n",
       "    <tr style=\"text-align: right;\">\n",
       "      <th></th>\n",
       "      <th>feature</th>\n",
       "      <th>psi</th>\n",
       "    </tr>\n",
       "  </thead>\n",
       "  <tbody>\n",
       "    <tr>\n",
       "      <th>0</th>\n",
       "      <td>model_score</td>\n",
       "      <td>0.12548</td>\n",
       "    </tr>\n",
       "  </tbody>\n",
       "</table>\n",
       "</div>"
      ],
      "text/plain": [
       "       feature      psi\n",
       "0  model_score  0.12548"
      ]
     },
     "execution_count": 1,
     "metadata": {},
     "output_type": "execute_result"
    }
   ],
   "source": [
    "mntr_path = os.path.join(artifact_path, \"psi\", f\"psi_{mname}_{prev_date}-{cur_date}\")\n",
    "os.makedirs(mntr_path, exist_ok=True)\n",
    "\n",
    "\n",
    "prev_df[\"model_pred\"] = model.predict_proba(prev_df[model.feature_name_])[:,1]\n",
    "prev_df[\"model_score\"] = mu.scale_scores(prev_df[\"model_pred\"])\n",
    "\n",
    "# save plot\n",
    "fig = plt.figure()\n",
    "prod_df.model_score.hist(bins=10, alpha=0.4, density=True, label=\"production\")\n",
    "prev_df.model_score.hist(bins=10, alpha=0.4, density=True, label=\"development\")\n",
    "plt.legend()\n",
    "plt.show()\n",
    "fig.savefig(os.path.join(mntr_path, \"score_psi.png\"))\n",
    "\n",
    "# save psi df\n",
    "psi_df = mntr.get_psi(prev_df.model_score.to_frame(), \n",
    "                      prod_df.model_score.to_frame()).round(5)\n",
    "psi_df.to_csv(os.path.join(mntr_path, f\"psi.csv\"), index=False)\n",
    "psi_df"
   ]
  },
  {
   "cell_type": "code",
   "execution_count": null,
   "id": "f7f073fe",
   "metadata": {},
   "outputs": [],
   "source": []
  }
 ],
 "metadata": {
  "kernelspec": {
   "display_name": "conda_customer_risk",
   "language": "python",
   "name": "conda_customer_risk"
  },
  "language_info": {
   "codemirror_mode": {
    "name": "ipython",
    "version": 3
   },
   "file_extension": ".py",
   "mimetype": "text/x-python",
   "name": "python",
   "nbconvert_exporter": "python",
   "pygments_lexer": "ipython3",
   "version": "3.7.10"
  }
 },
 "nbformat": 4,
 "nbformat_minor": 5
}
