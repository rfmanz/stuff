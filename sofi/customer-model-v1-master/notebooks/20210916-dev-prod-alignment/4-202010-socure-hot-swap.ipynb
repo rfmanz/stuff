{
 "cells": [
  {
   "cell_type": "markdown",
   "id": "47ce44c9",
   "metadata": {},
   "source": [
    "### Fraud Score 2\n",
    "---\n",
    "\n",
    "Was the high missing ratio caused by Socure hot swap occurred last October?\n",
    "\n",
    "2020/10/13 - would be great if we can look at production data then..."
   ]
  },
  {
   "cell_type": "code",
   "execution_count": 2,
   "id": "c12f4688",
   "metadata": {},
   "outputs": [],
   "source": [
    "import sys, os, json, s3fs\n",
    "import numpy as np\n",
    "import pandas as pd\n",
    "import matplotlib.pyplot as plt"
   ]
  },
  {
   "cell_type": "code",
   "execution_count": 3,
   "id": "45e22539",
   "metadata": {},
   "outputs": [],
   "source": [
    "df = pd.read_feather(\"../../data/combined_all_features/combined_1632358942.feather\")\n",
    "df = df[df.is_static]"
   ]
  },
  {
   "cell_type": "code",
   "execution_count": 7,
   "id": "97734320",
   "metadata": {},
   "outputs": [
    {
     "data": {
      "text/plain": [
       "<AxesSubplot:>"
      ]
     },
     "execution_count": 7,
     "metadata": {},
     "output_type": "execute_result"
    },
    {
     "data": {
      "image/png": "[encoded data removed]",
      "text/plain": [
       "<Figure size 432x288 with 1 Axes>"
      ]
     },
     "metadata": {
      "needs_background": "light"
     },
     "output_type": "display_data"
    }
   ],
   "source": [
    "df.sample_date.hist(bins=100)"
   ]
  },
  {
   "cell_type": "code",
   "execution_count": 11,
   "id": "a168a768",
   "metadata": {},
   "outputs": [],
   "source": [
    "df_202009 = df[df.sample_date==pd.to_datetime(\"2020-09-01\")]\n",
    "df_202010 = df[df.sample_date==pd.to_datetime(\"2020-10-01\")]"
   ]
  },
  {
   "cell_type": "code",
   "execution_count": 12,
   "id": "74804f62",
   "metadata": {},
   "outputs": [
    {
     "data": {
      "text/plain": [
       "((370433, 91), (438552, 91))"
      ]
     },
     "execution_count": 12,
     "metadata": {},
     "output_type": "execute_result"
    }
   ],
   "source": [
    "df_202009.shape, df_202010.shape"
   ]
  },
  {
   "cell_type": "code",
   "execution_count": 13,
   "id": "81a9fe1c",
   "metadata": {},
   "outputs": [
    {
     "data": {
      "text/plain": [
       "False    354270\n",
       "True      16163\n",
       "Name: fraud_score_2, dtype: int64"
      ]
     },
     "execution_count": 13,
     "metadata": {},
     "output_type": "execute_result"
    }
   ],
   "source": [
    "df_202009.fraud_score_2.isna().value_counts()"
   ]
  },
  {
   "cell_type": "code",
   "execution_count": 14,
   "id": "fa56ad73",
   "metadata": {},
   "outputs": [
    {
     "data": {
      "text/plain": [
       "False    419676\n",
       "True      18876\n",
       "Name: fraud_score_2, dtype: int64"
      ]
     },
     "execution_count": 14,
     "metadata": {},
     "output_type": "execute_result"
    }
   ],
   "source": [
    "df_202010.fraud_score_2.isna().value_counts()"
   ]
  },
  {
   "cell_type": "code",
   "execution_count": 20,
   "id": "958ecf0a",
   "metadata": {},
   "outputs": [
    {
     "data": {
      "text/html": [
       "<div>\n",
       "<style scoped>\n",
       "    .dataframe tbody tr th:only-of-type {\n",
       "        vertical-align: middle;\n",
       "    }\n",
       "\n",
       "    .dataframe tbody tr th {\n",
       "        vertical-align: top;\n",
       "    }\n",
       "\n",
       "    .dataframe thead th {\n",
       "        text-align: right;\n",
       "    }\n",
       "</style>\n",
       "<table border=\"1\" class=\"dataframe\">\n",
       "  <thead>\n",
       "    <tr style=\"text-align: right;\">\n",
       "      <th></th>\n",
       "      <th>fraud_score_2</th>\n",
       "    </tr>\n",
       "    <tr>\n",
       "      <th>sample_date</th>\n",
       "      <th></th>\n",
       "    </tr>\n",
       "  </thead>\n",
       "  <tbody>\n",
       "    <tr>\n",
       "      <th>2020-09-01</th>\n",
       "      <td>0.043633</td>\n",
       "    </tr>\n",
       "    <tr>\n",
       "      <th>2020-10-01</th>\n",
       "      <td>0.043042</td>\n",
       "    </tr>\n",
       "    <tr>\n",
       "      <th>2020-11-01</th>\n",
       "      <td>0.031258</td>\n",
       "    </tr>\n",
       "    <tr>\n",
       "      <th>2021-01-01</th>\n",
       "      <td>0.023219</td>\n",
       "    </tr>\n",
       "    <tr>\n",
       "      <th>2021-03-01</th>\n",
       "      <td>0.016678</td>\n",
       "    </tr>\n",
       "    <tr>\n",
       "      <th>2021-05-01</th>\n",
       "      <td>0.127392</td>\n",
       "    </tr>\n",
       "    <tr>\n",
       "      <th>2021-07-01</th>\n",
       "      <td>0.226198</td>\n",
       "    </tr>\n",
       "    <tr>\n",
       "      <th>2021-09-01</th>\n",
       "      <td>0.346355</td>\n",
       "    </tr>\n",
       "    <tr>\n",
       "      <th>2021-09-15</th>\n",
       "      <td>0.367143</td>\n",
       "    </tr>\n",
       "  </tbody>\n",
       "</table>\n",
       "</div>"
      ],
      "text/plain": [
       "             fraud_score_2\n",
       "sample_date               \n",
       "2020-09-01        0.043633\n",
       "2020-10-01        0.043042\n",
       "2020-11-01        0.031258\n",
       "2021-01-01        0.023219\n",
       "2021-03-01        0.016678\n",
       "2021-05-01        0.127392\n",
       "2021-07-01        0.226198\n",
       "2021-09-01        0.346355\n",
       "2021-09-15        0.367143"
      ]
     },
     "execution_count": 20,
     "metadata": {},
     "output_type": "execute_result"
    }
   ],
   "source": [
    "df.groupby(\"sample_date\")[\"fraud_score_2\"].apply(lambda s: s.isna().mean()).to_frame()"
   ]
  },
  {
   "cell_type": "code",
   "execution_count": 27,
   "id": "5ff2e35f",
   "metadata": {},
   "outputs": [
    {
     "data": {
      "text/plain": [
       "<AxesSubplot:>"
      ]
     },
     "execution_count": 27,
     "metadata": {},
     "output_type": "execute_result"
    },
    {
     "data": {
      "image/png": "[encoded data removed]",
      "text/plain": [
       "<Figure size 432x288 with 1 Axes>"
      ]
     },
     "metadata": {
      "needs_background": "light"
     },
     "output_type": "display_data"
    }
   ],
   "source": [
    "dt1 = \"2020-09-01\"\n",
    "dt2 = \"2020-10-01\"\n",
    "df1 = df[df.sample_date == pd.to_datetime(dt1)]\n",
    "df2 = df[df.sample_date == pd.to_datetime(dt2)]\n",
    "df1.fraud_score_2.hist(bins=100, alpha=0.4)\n",
    "df2.fraud_score_2.hist(bins=100, alpha=0.4)"
   ]
  },
  {
   "cell_type": "code",
   "execution_count": 22,
   "id": "298bfa7d",
   "metadata": {},
   "outputs": [],
   "source": [
    "modeling_df = pd.read_parquet(\"s3://sofi-data-science/jxu/monitoring/customer-risk-v1/2021-06/modeling_df_2020-12-31_scored.parquet\")"
   ]
  },
  {
   "cell_type": "code",
   "execution_count": 23,
   "id": "c65ec5ab",
   "metadata": {},
   "outputs": [
    {
     "data": {
      "text/plain": [
       "<AxesSubplot:>"
      ]
     },
     "execution_count": 23,
     "metadata": {},
     "output_type": "execute_result"
    },
    {
     "data": {
      "image/png": "[encoded data removed]",
      "text/plain": [
       "<Figure size 432x288 with 1 Axes>"
      ]
     },
     "metadata": {
      "needs_background": "light"
     },
     "output_type": "display_data"
    }
   ],
   "source": [
    "modeling_df[modeling_df.is_static].sample_date.hist(bins=100)"
   ]
  },
  {
   "cell_type": "code",
   "execution_count": 25,
   "id": "6cfc43e3",
   "metadata": {},
   "outputs": [
    {
     "data": {
      "text/html": [
       "<div>\n",
       "<style scoped>\n",
       "    .dataframe tbody tr th:only-of-type {\n",
       "        vertical-align: middle;\n",
       "    }\n",
       "\n",
       "    .dataframe tbody tr th {\n",
       "        vertical-align: top;\n",
       "    }\n",
       "\n",
       "    .dataframe thead th {\n",
       "        text-align: right;\n",
       "    }\n",
       "</style>\n",
       "<table border=\"1\" class=\"dataframe\">\n",
       "  <thead>\n",
       "    <tr style=\"text-align: right;\">\n",
       "      <th></th>\n",
       "      <th>fraud_score_2</th>\n",
       "    </tr>\n",
       "    <tr>\n",
       "      <th>sample_date</th>\n",
       "      <th></th>\n",
       "    </tr>\n",
       "  </thead>\n",
       "  <tbody>\n",
       "    <tr>\n",
       "      <th>2019-03-15</th>\n",
       "      <td>0.577148</td>\n",
       "    </tr>\n",
       "    <tr>\n",
       "      <th>2019-05-27</th>\n",
       "      <td>0.465753</td>\n",
       "    </tr>\n",
       "    <tr>\n",
       "      <th>2019-08-08</th>\n",
       "      <td>0.314596</td>\n",
       "    </tr>\n",
       "    <tr>\n",
       "      <th>2019-10-20</th>\n",
       "      <td>0.246717</td>\n",
       "    </tr>\n",
       "    <tr>\n",
       "      <th>2020-01-01</th>\n",
       "      <td>0.135349</td>\n",
       "    </tr>\n",
       "    <tr>\n",
       "      <th>2020-03-14</th>\n",
       "      <td>0.102678</td>\n",
       "    </tr>\n",
       "    <tr>\n",
       "      <th>2020-05-26</th>\n",
       "      <td>0.075745</td>\n",
       "    </tr>\n",
       "    <tr>\n",
       "      <th>2020-08-07</th>\n",
       "      <td>0.062703</td>\n",
       "    </tr>\n",
       "    <tr>\n",
       "      <th>2020-10-19</th>\n",
       "      <td>0.031994</td>\n",
       "    </tr>\n",
       "    <tr>\n",
       "      <th>2020-12-31</th>\n",
       "      <td>0.023506</td>\n",
       "    </tr>\n",
       "  </tbody>\n",
       "</table>\n",
       "</div>"
      ],
      "text/plain": [
       "             fraud_score_2\n",
       "sample_date               \n",
       "2019-03-15        0.577148\n",
       "2019-05-27        0.465753\n",
       "2019-08-08        0.314596\n",
       "2019-10-20        0.246717\n",
       "2020-01-01        0.135349\n",
       "2020-03-14        0.102678\n",
       "2020-05-26        0.075745\n",
       "2020-08-07        0.062703\n",
       "2020-10-19        0.031994\n",
       "2020-12-31        0.023506"
      ]
     },
     "execution_count": 25,
     "metadata": {},
     "output_type": "execute_result"
    }
   ],
   "source": [
    "df_tmp = modeling_df[modeling_df.is_static]\n",
    "df_tmp.groupby(\"sample_date\")[\"fraud_score_2\"].apply(lambda s: s.isna().mean()).to_frame()"
   ]
  },
  {
   "cell_type": "code",
   "execution_count": null,
   "id": "bce45ec8",
   "metadata": {},
   "outputs": [],
   "source": [
    "# "
   ]
  }
 ],
 "metadata": {
  "kernelspec": {
   "display_name": "conda_customer_risk",
   "language": "python",
   "name": "conda_customer_risk"
  },
  "language_info": {
   "codemirror_mode": {
    "name": "ipython",
    "version": 3
   },
   "file_extension": ".py",
   "mimetype": "text/x-python",
   "name": "python",
   "nbconvert_exporter": "python",
   "pygments_lexer": "ipython3",
   "version": "3.7.10"
  }
 },
 "nbformat": 4,
 "nbformat_minor": 5
}
