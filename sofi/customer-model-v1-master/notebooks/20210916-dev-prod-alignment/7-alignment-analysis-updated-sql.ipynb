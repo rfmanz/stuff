{
 "cells": [
  {
   "cell_type": "markdown",
   "id": "71076c37",
   "metadata": {},
   "source": [
    "### Alignment analysis\n",
    "---"
   ]
  },
  {
   "cell_type": "code",
   "execution_count": 1,
   "id": "6628bd96",
   "metadata": {},
   "outputs": [],
   "source": [
    "import pandas as pd\n",
    "import sys, os, json, s3fs\n",
    "import matplotlib.pyplot as plt\n",
    "plt.style.use(\"seaborn\")\n",
    "sys.path.insert(1, \"../../\")\n",
    "\n",
    "import src.monitoring.utils as mu\n",
    "\n",
    "%load_ext autoreload\n",
    "%autoreload 2"
   ]
  },
  {
   "cell_type": "code",
   "execution_count": 2,
   "id": "39ebf8e8",
   "metadata": {},
   "outputs": [],
   "source": [
    "prod_path = f\"s3://sofi-data-science/jxu/data_dump/money_customer_risk/20210916-dev-prod-alignment/prod.parquet\"\n",
    "dev_path = \"../../data/combined_all_features/combined_1632521410.feather\"\n",
    "\n",
    "prod_df = pd.read_parquet(prod_path)\n",
    "dev_df = pd.read_feather(dev_path)"
   ]
  },
  {
   "cell_type": "code",
   "execution_count": 3,
   "id": "a055ac3b",
   "metadata": {},
   "outputs": [],
   "source": [
    "s3_path = \"s3://sofi-data-science/jxu/data_dump/money_customer_risk/20210916-dev-prod-alignment/\"\n",
    "# dev_df.to_parquet(os.path.join(s3_path, \"dev.parquet\"))"
   ]
  },
  {
   "cell_type": "markdown",
   "id": "b1aff0c7",
   "metadata": {},
   "source": [
    "#### Preprocessing"
   ]
  },
  {
   "cell_type": "code",
   "execution_count": 4,
   "id": "d8ad1119",
   "metadata": {},
   "outputs": [
    {
     "name": "stderr",
     "output_type": "stream",
     "text": [
      "/home/ec2-user/anaconda3/envs/customer_risk/lib/python3.7/site-packages/pandas/core/ops/array_ops.py:73: FutureWarning: Comparison of Timestamp with datetime.date is deprecated in order to match the standard library behavior.  In a future version these will be considered non-comparable.Use 'ts == pd.Timestamp(date)' or 'ts.date() == date' instead.\n",
      "  result = libops.scalar_compare(x.ravel(), y, op)\n"
     ]
    }
   ],
   "source": [
    "sample_date = \"2021-09-15\"\n",
    "dev_df = dev_df[dev_df.sample_date==pd.Timestamp(sample_date)]\n",
    "\n",
    "prod_df[\"last_checked_date\"] = pd.to_datetime(prod_df[\"last_checked_date\"])\n",
    "prod_df[\"sample_date\"] = prod_df[\"last_checked_date\"].dt.date\n",
    "prod_df = prod_df[prod_df[\"sample_date\"]==pd.Timestamp(sample_date)]"
   ]
  },
  {
   "cell_type": "code",
   "execution_count": 5,
   "id": "09962c86",
   "metadata": {},
   "outputs": [],
   "source": [
    "dev_df = mu.prep_customer_data(dev_df)\n",
    "\n",
    "prod_df[\"user_id\"] = prod_df[\"party_id\"]"
   ]
  },
  {
   "cell_type": "code",
   "execution_count": 6,
   "id": "a848a961",
   "metadata": {},
   "outputs": [
    {
     "data": {
      "text/plain": [
       "((1129952, 58), (1119646, 98))"
      ]
     },
     "execution_count": 6,
     "metadata": {},
     "output_type": "execute_result"
    }
   ],
   "source": [
    "prod_df.shape, dev_df.shape"
   ]
  },
  {
   "cell_type": "code",
   "execution_count": 7,
   "id": "f8119acc",
   "metadata": {},
   "outputs": [
    {
     "data": {
      "text/html": [
       "<div>\n",
       "<style scoped>\n",
       "    .dataframe tbody tr th:only-of-type {\n",
       "        vertical-align: middle;\n",
       "    }\n",
       "\n",
       "    .dataframe tbody tr th {\n",
       "        vertical-align: top;\n",
       "    }\n",
       "\n",
       "    .dataframe thead th {\n",
       "        text-align: right;\n",
       "    }\n",
       "</style>\n",
       "<table border=\"1\" class=\"dataframe\">\n",
       "  <thead>\n",
       "    <tr style=\"text-align: right;\">\n",
       "      <th></th>\n",
       "      <th>party_id</th>\n",
       "      <th>created_dt</th>\n",
       "      <th>updated_dt</th>\n",
       "      <th>last_checked_date</th>\n",
       "      <th>last_checked_date_max</th>\n",
       "      <th>risk_group</th>\n",
       "      <th>request_source</th>\n",
       "      <th>model_score</th>\n",
       "      <th>model_decision_rule_details</th>\n",
       "      <th>mcustomer_model_risk_groupodel_score</th>\n",
       "      <th>...</th>\n",
       "      <th>nr_returns_30d</th>\n",
       "      <th>credit_card_loan_amount</th>\n",
       "      <th>transaction_code</th>\n",
       "      <th>age_money_account</th>\n",
       "      <th>fraud_score_1</th>\n",
       "      <th>transaction_code_encoded</th>\n",
       "      <th>all7120_default_encoded</th>\n",
       "      <th>bcc7120_default_encoded</th>\n",
       "      <th>sample_date</th>\n",
       "      <th>user_id</th>\n",
       "    </tr>\n",
       "  </thead>\n",
       "  <tbody>\n",
       "    <tr>\n",
       "      <th>0</th>\n",
       "      <td>3749</td>\n",
       "      <td>2021-08-25 03:36:51.838</td>\n",
       "      <td>2021-09-15 03:47:17.171</td>\n",
       "      <td>2021-09-15 03:47:17.170</td>\n",
       "      <td>2021-09-15 03:47:17.170</td>\n",
       "      <td>\"RG1\"</td>\n",
       "      <td>\"scheduled\"</td>\n",
       "      <td>415.193050</td>\n",
       "      <td>[{\"ruleName\":\"isMember\",\"rulePassed\":true,\"ris...</td>\n",
       "      <td>\"RG1\"</td>\n",
       "      <td>...</td>\n",
       "      <td>0.0</td>\n",
       "      <td>4199.0</td>\n",
       "      <td>ACHDW</td>\n",
       "      <td>30.0</td>\n",
       "      <td>NaN</td>\n",
       "      <td>5</td>\n",
       "      <td>-1.0</td>\n",
       "      <td>-1.0</td>\n",
       "      <td>2021-09-15</td>\n",
       "      <td>3749</td>\n",
       "    </tr>\n",
       "    <tr>\n",
       "      <th>1</th>\n",
       "      <td>13317</td>\n",
       "      <td>2021-06-09 02:28:21.787</td>\n",
       "      <td>2021-09-15 02:28:10.880</td>\n",
       "      <td>2021-09-15 02:28:10.879</td>\n",
       "      <td>2021-09-15 02:28:10.879</td>\n",
       "      <td>\"RG1\"</td>\n",
       "      <td>\"scheduled\"</td>\n",
       "      <td>404.635070</td>\n",
       "      <td>[{\"ruleName\":\"isMember\",\"rulePassed\":true,\"ris...</td>\n",
       "      <td>\"RG1\"</td>\n",
       "      <td>...</td>\n",
       "      <td>0.0</td>\n",
       "      <td>NaN</td>\n",
       "      <td>ACHDW</td>\n",
       "      <td>449.0</td>\n",
       "      <td>0.0300</td>\n",
       "      <td>5</td>\n",
       "      <td>-1.0</td>\n",
       "      <td>-1.0</td>\n",
       "      <td>2021-09-15</td>\n",
       "      <td>13317</td>\n",
       "    </tr>\n",
       "    <tr>\n",
       "      <th>2</th>\n",
       "      <td>14192</td>\n",
       "      <td>2020-12-16 03:23:56.753</td>\n",
       "      <td>2021-09-15 02:14:11.971</td>\n",
       "      <td>2021-09-15 02:14:11.970</td>\n",
       "      <td>2021-09-15 02:14:11.970</td>\n",
       "      <td>\"RG2B\"</td>\n",
       "      <td>\"scheduled\"</td>\n",
       "      <td>499.297733</td>\n",
       "      <td>[{\"ruleName\":\"isMember\",\"rulePassed\":false,\"ri...</td>\n",
       "      <td>\"RG2B\"</td>\n",
       "      <td>...</td>\n",
       "      <td>0.0</td>\n",
       "      <td>19353.0</td>\n",
       "      <td>NONE</td>\n",
       "      <td>686.0</td>\n",
       "      <td>0.1243</td>\n",
       "      <td>0</td>\n",
       "      <td>-1.0</td>\n",
       "      <td>-1.0</td>\n",
       "      <td>2021-09-15</td>\n",
       "      <td>14192</td>\n",
       "    </tr>\n",
       "    <tr>\n",
       "      <th>4</th>\n",
       "      <td>32516</td>\n",
       "      <td>2020-11-11 03:46:29.313</td>\n",
       "      <td>2021-09-15 02:16:28.784</td>\n",
       "      <td>2021-09-15 02:16:28.783</td>\n",
       "      <td>2021-09-15 02:16:28.783</td>\n",
       "      <td>\"RG1\"</td>\n",
       "      <td>\"scheduled\"</td>\n",
       "      <td>507.394183</td>\n",
       "      <td>[{\"ruleName\":\"isMember\",\"rulePassed\":true,\"ris...</td>\n",
       "      <td>\"RG1\"</td>\n",
       "      <td>...</td>\n",
       "      <td>0.0</td>\n",
       "      <td>673.0</td>\n",
       "      <td>NONE</td>\n",
       "      <td>745.0</td>\n",
       "      <td>0.0708</td>\n",
       "      <td>0</td>\n",
       "      <td>-1.0</td>\n",
       "      <td>-1.0</td>\n",
       "      <td>2021-09-15</td>\n",
       "      <td>32516</td>\n",
       "    </tr>\n",
       "    <tr>\n",
       "      <th>5</th>\n",
       "      <td>33224</td>\n",
       "      <td>2021-08-18 02:05:15.900</td>\n",
       "      <td>2021-09-15 02:07:07.008</td>\n",
       "      <td>2021-09-15 02:07:07.007</td>\n",
       "      <td>2021-09-15 02:07:07.007</td>\n",
       "      <td>\"RG3A\"</td>\n",
       "      <td>\"scheduled\"</td>\n",
       "      <td>576.250640</td>\n",
       "      <td>[{\"ruleName\":\"isMember\",\"rulePassed\":true,\"ris...</td>\n",
       "      <td>\"RG3A\"</td>\n",
       "      <td>...</td>\n",
       "      <td>0.0</td>\n",
       "      <td>NaN</td>\n",
       "      <td>NONE</td>\n",
       "      <td>1065.0</td>\n",
       "      <td>0.0468</td>\n",
       "      <td>0</td>\n",
       "      <td>-1.0</td>\n",
       "      <td>-1.0</td>\n",
       "      <td>2021-09-15</td>\n",
       "      <td>33224</td>\n",
       "    </tr>\n",
       "  </tbody>\n",
       "</table>\n",
       "<p>5 rows × 58 columns</p>\n",
       "</div>"
      ],
      "text/plain": [
       "   party_id               created_dt               updated_dt  \\\n",
       "0      3749  2021-08-25 03:36:51.838  2021-09-15 03:47:17.171   \n",
       "1     13317  2021-06-09 02:28:21.787  2021-09-15 02:28:10.880   \n",
       "2     14192  2020-12-16 03:23:56.753  2021-09-15 02:14:11.971   \n",
       "4     32516  2020-11-11 03:46:29.313  2021-09-15 02:16:28.784   \n",
       "5     33224  2021-08-18 02:05:15.900  2021-09-15 02:07:07.008   \n",
       "\n",
       "        last_checked_date    last_checked_date_max risk_group request_source  \\\n",
       "0 2021-09-15 03:47:17.170  2021-09-15 03:47:17.170      \"RG1\"    \"scheduled\"   \n",
       "1 2021-09-15 02:28:10.879  2021-09-15 02:28:10.879      \"RG1\"    \"scheduled\"   \n",
       "2 2021-09-15 02:14:11.970  2021-09-15 02:14:11.970     \"RG2B\"    \"scheduled\"   \n",
       "4 2021-09-15 02:16:28.783  2021-09-15 02:16:28.783      \"RG1\"    \"scheduled\"   \n",
       "5 2021-09-15 02:07:07.007  2021-09-15 02:07:07.007     \"RG3A\"    \"scheduled\"   \n",
       "\n",
       "   model_score                        model_decision_rule_details  \\\n",
       "0   415.193050  [{\"ruleName\":\"isMember\",\"rulePassed\":true,\"ris...   \n",
       "1   404.635070  [{\"ruleName\":\"isMember\",\"rulePassed\":true,\"ris...   \n",
       "2   499.297733  [{\"ruleName\":\"isMember\",\"rulePassed\":false,\"ri...   \n",
       "4   507.394183  [{\"ruleName\":\"isMember\",\"rulePassed\":true,\"ris...   \n",
       "5   576.250640  [{\"ruleName\":\"isMember\",\"rulePassed\":true,\"ris...   \n",
       "\n",
       "  mcustomer_model_risk_groupodel_score  ... nr_returns_30d  \\\n",
       "0                                \"RG1\"  ...            0.0   \n",
       "1                                \"RG1\"  ...            0.0   \n",
       "2                               \"RG2B\"  ...            0.0   \n",
       "4                                \"RG1\"  ...            0.0   \n",
       "5                               \"RG3A\"  ...            0.0   \n",
       "\n",
       "  credit_card_loan_amount transaction_code  age_money_account  fraud_score_1  \\\n",
       "0                  4199.0            ACHDW               30.0            NaN   \n",
       "1                     NaN            ACHDW              449.0         0.0300   \n",
       "2                 19353.0             NONE              686.0         0.1243   \n",
       "4                   673.0             NONE              745.0         0.0708   \n",
       "5                     NaN             NONE             1065.0         0.0468   \n",
       "\n",
       "   transaction_code_encoded  all7120_default_encoded  bcc7120_default_encoded  \\\n",
       "0                         5                     -1.0                     -1.0   \n",
       "1                         5                     -1.0                     -1.0   \n",
       "2                         0                     -1.0                     -1.0   \n",
       "4                         0                     -1.0                     -1.0   \n",
       "5                         0                     -1.0                     -1.0   \n",
       "\n",
       "   sample_date  user_id  \n",
       "0   2021-09-15     3749  \n",
       "1   2021-09-15    13317  \n",
       "2   2021-09-15    14192  \n",
       "4   2021-09-15    32516  \n",
       "5   2021-09-15    33224  \n",
       "\n",
       "[5 rows x 58 columns]"
      ]
     },
     "execution_count": 7,
     "metadata": {},
     "output_type": "execute_result"
    }
   ],
   "source": [
    "prod_df.head()"
   ]
  },
  {
   "cell_type": "code",
   "execution_count": 8,
   "id": "9fc49636",
   "metadata": {},
   "outputs": [
    {
     "data": {
      "text/html": [
       "<div>\n",
       "<style scoped>\n",
       "    .dataframe tbody tr th:only-of-type {\n",
       "        vertical-align: middle;\n",
       "    }\n",
       "\n",
       "    .dataframe tbody tr th {\n",
       "        vertical-align: top;\n",
       "    }\n",
       "\n",
       "    .dataframe thead th {\n",
       "        text-align: right;\n",
       "    }\n",
       "</style>\n",
       "<table border=\"1\" class=\"dataframe\">\n",
       "  <thead>\n",
       "    <tr style=\"text-align: right;\">\n",
       "      <th></th>\n",
       "      <th>transaction_datetime</th>\n",
       "      <th>borrower_id</th>\n",
       "      <th>business_account_number</th>\n",
       "      <th>transaction_code</th>\n",
       "      <th>transaction_amount</th>\n",
       "      <th>external_account_number</th>\n",
       "      <th>real_ending_balance</th>\n",
       "      <th>user_id</th>\n",
       "      <th>sofi_employee_ind</th>\n",
       "      <th>dtc</th>\n",
       "      <th>...</th>\n",
       "      <th>sample_date</th>\n",
       "      <th>is_static</th>\n",
       "      <th>nr_transactions_next_60d</th>\n",
       "      <th>transaction_code_encoded</th>\n",
       "      <th>all7120_default_encoded</th>\n",
       "      <th>bcc7120_default_encoded</th>\n",
       "      <th>party_id</th>\n",
       "      <th>is_active</th>\n",
       "      <th>fico_adjusted</th>\n",
       "      <th>fico_adjusted_pred</th>\n",
       "    </tr>\n",
       "  </thead>\n",
       "  <tbody>\n",
       "    <tr>\n",
       "      <th>8925451</th>\n",
       "      <td>NaT</td>\n",
       "      <td>107.0</td>\n",
       "      <td>410000276182</td>\n",
       "      <td>None</td>\n",
       "      <td>NaN</td>\n",
       "      <td>None</td>\n",
       "      <td>NaN</td>\n",
       "      <td>305</td>\n",
       "      <td>False</td>\n",
       "      <td>None</td>\n",
       "      <td>...</td>\n",
       "      <td>2021-09-15</td>\n",
       "      <td>True</td>\n",
       "      <td>0.0</td>\n",
       "      <td>0</td>\n",
       "      <td>-1.0</td>\n",
       "      <td>-1.0</td>\n",
       "      <td>305</td>\n",
       "      <td>False</td>\n",
       "      <td>NaN</td>\n",
       "      <td>NaN</td>\n",
       "    </tr>\n",
       "    <tr>\n",
       "      <th>8925452</th>\n",
       "      <td>2021-09-02 04:31:10</td>\n",
       "      <td>135.0</td>\n",
       "      <td>410000345005</td>\n",
       "      <td>ACHDWIN</td>\n",
       "      <td>-5.0</td>\n",
       "      <td></td>\n",
       "      <td>3622.78</td>\n",
       "      <td>361</td>\n",
       "      <td>False</td>\n",
       "      <td>None</td>\n",
       "      <td>...</td>\n",
       "      <td>2021-09-15</td>\n",
       "      <td>True</td>\n",
       "      <td>3.0</td>\n",
       "      <td>3</td>\n",
       "      <td>-1.0</td>\n",
       "      <td>-1.0</td>\n",
       "      <td>361</td>\n",
       "      <td>True</td>\n",
       "      <td>NaN</td>\n",
       "      <td>NaN</td>\n",
       "    </tr>\n",
       "    <tr>\n",
       "      <th>8925453</th>\n",
       "      <td>2021-09-14 22:34:05</td>\n",
       "      <td>1183.0</td>\n",
       "      <td>410000300440</td>\n",
       "      <td>DWATM</td>\n",
       "      <td>-153.0</td>\n",
       "      <td></td>\n",
       "      <td>2444.88</td>\n",
       "      <td>637</td>\n",
       "      <td>False</td>\n",
       "      <td>None</td>\n",
       "      <td>...</td>\n",
       "      <td>2021-09-15</td>\n",
       "      <td>True</td>\n",
       "      <td>1.0</td>\n",
       "      <td>8</td>\n",
       "      <td>-1.0</td>\n",
       "      <td>-1.0</td>\n",
       "      <td>637</td>\n",
       "      <td>True</td>\n",
       "      <td>NaN</td>\n",
       "      <td>NaN</td>\n",
       "    </tr>\n",
       "    <tr>\n",
       "      <th>8925454</th>\n",
       "      <td>NaT</td>\n",
       "      <td>141364.0</td>\n",
       "      <td>410011645378</td>\n",
       "      <td>None</td>\n",
       "      <td>NaN</td>\n",
       "      <td>None</td>\n",
       "      <td>NaN</td>\n",
       "      <td>457</td>\n",
       "      <td>False</td>\n",
       "      <td>None</td>\n",
       "      <td>...</td>\n",
       "      <td>2021-09-15</td>\n",
       "      <td>True</td>\n",
       "      <td>0.0</td>\n",
       "      <td>0</td>\n",
       "      <td>-1.0</td>\n",
       "      <td>-1.0</td>\n",
       "      <td>457</td>\n",
       "      <td>False</td>\n",
       "      <td>809.0</td>\n",
       "      <td>-809.0</td>\n",
       "    </tr>\n",
       "    <tr>\n",
       "      <th>8925455</th>\n",
       "      <td>2019-06-12 23:17:11</td>\n",
       "      <td>8421.0</td>\n",
       "      <td>410000331898</td>\n",
       "      <td>DWMBR</td>\n",
       "      <td>-250.0</td>\n",
       "      <td></td>\n",
       "      <td>34.11</td>\n",
       "      <td>468</td>\n",
       "      <td>False</td>\n",
       "      <td>None</td>\n",
       "      <td>...</td>\n",
       "      <td>2021-09-15</td>\n",
       "      <td>True</td>\n",
       "      <td>0.0</td>\n",
       "      <td>0</td>\n",
       "      <td>-1.0</td>\n",
       "      <td>-1.0</td>\n",
       "      <td>468</td>\n",
       "      <td>False</td>\n",
       "      <td>NaN</td>\n",
       "      <td>NaN</td>\n",
       "    </tr>\n",
       "  </tbody>\n",
       "</table>\n",
       "<p>5 rows × 98 columns</p>\n",
       "</div>"
      ],
      "text/plain": [
       "        transaction_datetime  borrower_id  business_account_number  \\\n",
       "8925451                  NaT        107.0             410000276182   \n",
       "8925452  2021-09-02 04:31:10        135.0             410000345005   \n",
       "8925453  2021-09-14 22:34:05       1183.0             410000300440   \n",
       "8925454                  NaT     141364.0             410011645378   \n",
       "8925455  2019-06-12 23:17:11       8421.0             410000331898   \n",
       "\n",
       "        transaction_code  transaction_amount external_account_number  \\\n",
       "8925451             None                 NaN                    None   \n",
       "8925452          ACHDWIN                -5.0                           \n",
       "8925453            DWATM              -153.0                           \n",
       "8925454             None                 NaN                    None   \n",
       "8925455            DWMBR              -250.0                           \n",
       "\n",
       "         real_ending_balance  user_id sofi_employee_ind   dtc  ...  \\\n",
       "8925451                  NaN      305             False  None  ...   \n",
       "8925452              3622.78      361             False  None  ...   \n",
       "8925453              2444.88      637             False  None  ...   \n",
       "8925454                  NaN      457             False  None  ...   \n",
       "8925455                34.11      468             False  None  ...   \n",
       "\n",
       "        sample_date is_static nr_transactions_next_60d  \\\n",
       "8925451  2021-09-15      True                      0.0   \n",
       "8925452  2021-09-15      True                      3.0   \n",
       "8925453  2021-09-15      True                      1.0   \n",
       "8925454  2021-09-15      True                      0.0   \n",
       "8925455  2021-09-15      True                      0.0   \n",
       "\n",
       "         transaction_code_encoded  all7120_default_encoded  \\\n",
       "8925451                         0                     -1.0   \n",
       "8925452                         3                     -1.0   \n",
       "8925453                         8                     -1.0   \n",
       "8925454                         0                     -1.0   \n",
       "8925455                         0                     -1.0   \n",
       "\n",
       "         bcc7120_default_encoded  party_id  is_active  fico_adjusted  \\\n",
       "8925451                     -1.0       305      False            NaN   \n",
       "8925452                     -1.0       361       True            NaN   \n",
       "8925453                     -1.0       637       True            NaN   \n",
       "8925454                     -1.0       457      False          809.0   \n",
       "8925455                     -1.0       468      False            NaN   \n",
       "\n",
       "         fico_adjusted_pred  \n",
       "8925451                 NaN  \n",
       "8925452                 NaN  \n",
       "8925453                 NaN  \n",
       "8925454              -809.0  \n",
       "8925455                 NaN  \n",
       "\n",
       "[5 rows x 98 columns]"
      ]
     },
     "execution_count": 8,
     "metadata": {},
     "output_type": "execute_result"
    }
   ],
   "source": [
    "dev_df.head()"
   ]
  },
  {
   "cell_type": "markdown",
   "id": "511a51ae",
   "metadata": {},
   "source": [
    "#### Alignment of IDs\n",
    "---\n",
    "\n",
    "Overall population"
   ]
  },
  {
   "cell_type": "code",
   "execution_count": 9,
   "id": "711a450e",
   "metadata": {},
   "outputs": [],
   "source": [
    "dev_uids = dev_df[\"user_id\"].unique()\n",
    "prod_uids = prod_df[\"user_id\"].unique()"
   ]
  },
  {
   "cell_type": "code",
   "execution_count": 10,
   "id": "5db9619b",
   "metadata": {},
   "outputs": [],
   "source": [
    "dev_only = set(dev_uids) - set(prod_uids)\n",
    "prod_only = set(prod_uids) - set(dev_uids)\n",
    "shared_uids = set(dev_uids).intersection(set(prod_uids))"
   ]
  },
  {
   "cell_type": "code",
   "execution_count": 11,
   "id": "68653137",
   "metadata": {},
   "outputs": [
    {
     "data": {
      "text/plain": [
       "(9711, 20061, 1109891)"
      ]
     },
     "execution_count": 11,
     "metadata": {},
     "output_type": "execute_result"
    }
   ],
   "source": [
    "len(dev_only), len(prod_only), len(shared_uids)"
   ]
  },
  {
   "cell_type": "markdown",
   "id": "99a9f0b6",
   "metadata": {},
   "source": [
    "How about the active users? - Nope"
   ]
  },
  {
   "cell_type": "code",
   "execution_count": 12,
   "id": "ed7150cf",
   "metadata": {},
   "outputs": [
    {
     "data": {
      "text/plain": [
       "False    953129\n",
       "True     166517\n",
       "Name: is_active, dtype: int64"
      ]
     },
     "execution_count": 12,
     "metadata": {},
     "output_type": "execute_result"
    }
   ],
   "source": [
    "dev_df.is_active.value_counts()"
   ]
  },
  {
   "cell_type": "code",
   "execution_count": 13,
   "id": "afc1122d",
   "metadata": {},
   "outputs": [
    {
     "name": "stdout",
     "output_type": "stream",
     "text": [
      "num active ids: 166495\n",
      "active ids shared across platforms: 161970\n",
      "active ids in prod only: 0\n"
     ]
    }
   ],
   "source": [
    "active_ids = set(dev_df[dev_df.is_active].user_id.unique())\n",
    "print(f\"num active ids: {len(active_ids)}\")\n",
    "print(f\"active ids shared across platforms: {len(active_ids.intersection(shared_uids))}\")\n",
    "print(f\"active ids in prod only: {len(active_ids.intersection(prod_only))}\")"
   ]
  },
  {
   "cell_type": "markdown",
   "id": "68dc85fd",
   "metadata": {},
   "source": [
    "#### Distribution Comparison\n",
    "---"
   ]
  },
  {
   "cell_type": "code",
   "execution_count": 14,
   "id": "c83af4e4",
   "metadata": {},
   "outputs": [],
   "source": [
    "from smart_open import open\n",
    "import pickle as pkl\n",
    "from rdsutils.post_implementation_testing import plot_score_dist, get_psi, get_overlap_and_diff\n",
    "from rdsutils.post_implementation_testing import plot_difference, get_combined_dfs, get_feature_comparison_report"
   ]
  },
  {
   "cell_type": "code",
   "execution_count": 15,
   "id": "a37afdc3",
   "metadata": {},
   "outputs": [
    {
     "name": "stderr",
     "output_type": "stream",
     "text": [
      "/home/ec2-user/anaconda3/envs/customer_risk/lib/python3.7/site-packages/sklearn/base.py:333: UserWarning: Trying to unpickle estimator LabelEncoder from version 0.23.2 when using version 1.0. This might lead to breaking code or invalid results. Use at your own risk. For more info please refer to:\n",
      "https://scikit-learn.org/stable/modules/model_persistence.html#security-maintainability-limitations\n",
      "  UserWarning,\n"
     ]
    }
   ],
   "source": [
    "incumbent_model_path = \"s3://sofi-data-science/jxu/money-risk-models/models/customer_risk_target_no_giact_time_since_last_link.pkl\"\n",
    "with open(incumbent_model_path, \"rb\") as f:\n",
    "    incumbent_model = pkl.load(f)"
   ]
  },
  {
   "cell_type": "code",
   "execution_count": 16,
   "id": "b977fdcc",
   "metadata": {},
   "outputs": [],
   "source": [
    "def get_risk_groups(serie):\n",
    "    return pd.cut(serie.round(), [300, 474, 510, 560, 600, 850], \n",
    "                  right=True, labels=[f'RG{i}' for i in range(1, 6)],\n",
    "                  include_lowest=True)"
   ]
  },
  {
   "cell_type": "code",
   "execution_count": 17,
   "id": "ce213d26",
   "metadata": {},
   "outputs": [],
   "source": [
    "dev_df = mu.prep_customer_data(dev_df)  # get is_active here\n",
    "features = incumbent_model.feature_name_\n",
    "dev_df[\"model_score\"] = incumbent_model.predict_proba(dev_df[features])[:,1]\n",
    "dev_df[\"model_score\"] = mu.scale_scores(dev_df[\"model_score\"])\n",
    "\n",
    "# get risk groups for the dev env\n",
    "dev_df[\"risk_group_dev\"] = get_risk_groups(dev_df[\"model_score\"])\n",
    "prod_df[\"risk_group_dev\"] = get_risk_groups(prod_df[\"model_score\"])"
   ]
  },
  {
   "cell_type": "markdown",
   "id": "579f9913",
   "metadata": {},
   "source": [
    "#### Full Population"
   ]
  },
  {
   "cell_type": "code",
   "execution_count": 18,
   "id": "99ffd04d",
   "metadata": {},
   "outputs": [],
   "source": [
    "# exact match percentage?\n",
    "combined_df = get_combined_dfs(dev_df, prod_df, index_col=\"user_id\")"
   ]
  },
  {
   "cell_type": "code",
   "execution_count": 19,
   "id": "d2a1c517",
   "metadata": {},
   "outputs": [],
   "source": [
    "df_ = combined_df[[\"user_id\", \"business_account_number_exp\", \"model_score_exp\", \"model_score_act\"]]"
   ]
  },
  {
   "cell_type": "code",
   "execution_count": 20,
   "id": "9d06bb52",
   "metadata": {},
   "outputs": [
    {
     "data": {
      "text/html": [
       "<div>\n",
       "<style scoped>\n",
       "    .dataframe tbody tr th:only-of-type {\n",
       "        vertical-align: middle;\n",
       "    }\n",
       "\n",
       "    .dataframe tbody tr th {\n",
       "        vertical-align: top;\n",
       "    }\n",
       "\n",
       "    .dataframe thead th {\n",
       "        text-align: right;\n",
       "    }\n",
       "</style>\n",
       "<table border=\"1\" class=\"dataframe\">\n",
       "  <thead>\n",
       "    <tr style=\"text-align: right;\">\n",
       "      <th></th>\n",
       "      <th>user_id</th>\n",
       "      <th>business_account_number_exp</th>\n",
       "      <th>model_score_exp</th>\n",
       "      <th>model_score_act</th>\n",
       "    </tr>\n",
       "  </thead>\n",
       "  <tbody>\n",
       "    <tr>\n",
       "      <th>108877</th>\n",
       "      <td>13834008</td>\n",
       "      <td>410018816324</td>\n",
       "      <td>523.210422</td>\n",
       "      <td>537.370873</td>\n",
       "    </tr>\n",
       "    <tr>\n",
       "      <th>108878</th>\n",
       "      <td>13834008</td>\n",
       "      <td>410001722493</td>\n",
       "      <td>446.313428</td>\n",
       "      <td>537.370873</td>\n",
       "    </tr>\n",
       "    <tr>\n",
       "      <th>224452</th>\n",
       "      <td>15504149</td>\n",
       "      <td>410014348707</td>\n",
       "      <td>601.132936</td>\n",
       "      <td>687.783278</td>\n",
       "    </tr>\n",
       "    <tr>\n",
       "      <th>224453</th>\n",
       "      <td>15504149</td>\n",
       "      <td>410014348716</td>\n",
       "      <td>611.670026</td>\n",
       "      <td>687.783278</td>\n",
       "    </tr>\n",
       "  </tbody>\n",
       "</table>\n",
       "</div>"
      ],
      "text/plain": [
       "         user_id  business_account_number_exp  model_score_exp  \\\n",
       "108877  13834008                 410018816324       523.210422   \n",
       "108878  13834008                 410001722493       446.313428   \n",
       "224452  15504149                 410014348707       601.132936   \n",
       "224453  15504149                 410014348716       611.670026   \n",
       "\n",
       "        model_score_act  \n",
       "108877       537.370873  \n",
       "108878       537.370873  \n",
       "224452       687.783278  \n",
       "224453       687.783278  "
      ]
     },
     "metadata": {},
     "output_type": "display_data"
    },
    {
     "data": {
      "text/html": [
       "<div>\n",
       "<style scoped>\n",
       "    .dataframe tbody tr th:only-of-type {\n",
       "        vertical-align: middle;\n",
       "    }\n",
       "\n",
       "    .dataframe tbody tr th {\n",
       "        vertical-align: top;\n",
       "    }\n",
       "\n",
       "    .dataframe thead th {\n",
       "        text-align: right;\n",
       "    }\n",
       "</style>\n",
       "<table border=\"1\" class=\"dataframe\">\n",
       "  <thead>\n",
       "    <tr style=\"text-align: right;\">\n",
       "      <th></th>\n",
       "      <th>user_id</th>\n",
       "      <th>business_account_number_exp</th>\n",
       "      <th>model_score_exp</th>\n",
       "      <th>model_score_act</th>\n",
       "    </tr>\n",
       "  </thead>\n",
       "  <tbody>\n",
       "    <tr>\n",
       "      <th>108877</th>\n",
       "      <td>13834008</td>\n",
       "      <td>410018816324</td>\n",
       "      <td>523.210422</td>\n",
       "      <td>537.370873</td>\n",
       "    </tr>\n",
       "    <tr>\n",
       "      <th>224453</th>\n",
       "      <td>15504149</td>\n",
       "      <td>410014348716</td>\n",
       "      <td>611.670026</td>\n",
       "      <td>687.783278</td>\n",
       "    </tr>\n",
       "  </tbody>\n",
       "</table>\n",
       "</div>"
      ],
      "text/plain": [
       "         user_id  business_account_number_exp  model_score_exp  \\\n",
       "108877  13834008                 410018816324       523.210422   \n",
       "224453  15504149                 410014348716       611.670026   \n",
       "\n",
       "        model_score_act  \n",
       "108877       537.370873  \n",
       "224453       687.783278  "
      ]
     },
     "metadata": {},
     "output_type": "display_data"
    }
   ],
   "source": [
    "# 15504149, 13834008  occured twice\n",
    "display(df_[df_.user_id.isin([15504149, 13834008])])\n",
    "\n",
    "# why two business account number?\n",
    "# we dropped primary account owners \n",
    "df_ = df_[~df_.business_account_number_exp.isin([410001722493, 410014348707])]\n",
    "display(df_[df_.user_id.isin([15504149, 13834008])])"
   ]
  },
  {
   "cell_type": "code",
   "execution_count": 21,
   "id": "0e8e85a5",
   "metadata": {},
   "outputs": [
    {
     "data": {
      "text/plain": [
       "False    0.988374\n",
       "True     0.011626\n",
       "dtype: float64"
      ]
     },
     "metadata": {},
     "output_type": "display_data"
    }
   ],
   "source": [
    "# this is the exact alignment arpit is talking about\n",
    "display((df_.model_score_exp == df_.model_score_act).value_counts(normalize=True))"
   ]
  },
  {
   "cell_type": "code",
   "execution_count": 22,
   "id": "74871cb5",
   "metadata": {},
   "outputs": [
    {
     "data": {
      "image/png": "[encoded data removed]",
      "text/plain": [
       "<Figure size 648x504 with 1 Axes>"
      ]
     },
     "metadata": {},
     "output_type": "display_data"
    }
   ],
   "source": [
    "fig = plot_difference(df_.model_score_exp, df_.model_score_act, bins=1000)\n",
    "plt.show()"
   ]
  },
  {
   "cell_type": "code",
   "execution_count": 23,
   "id": "100e3218",
   "metadata": {},
   "outputs": [
    {
     "name": "stdout",
     "output_type": "stream",
     "text": [
      "0.05 0.95\n",
      "-32.88 15.11 47.98\n"
     ]
    }
   ],
   "source": [
    "score_diff = df_.model_score_exp - df_.model_score_act\n",
    "# find quantile range\n",
    "quantile_range = 0.9\n",
    "lower = (1 - quantile_range) / 2\n",
    "upper = (1 - quantile_range) / 2 + quantile_range\n",
    "print(round(lower, 2), round(upper, 2))\n",
    "\n",
    "# find score range\n",
    "lower = score_diff.quantile(lower)\n",
    "upper = score_diff.quantile(upper)\n",
    "diff_range = upper - lower\n",
    "print(round(lower, 2), round(upper, 2), round(diff_range, 2))"
   ]
  },
  {
   "cell_type": "code",
   "execution_count": 24,
   "id": "76fca255",
   "metadata": {},
   "outputs": [
    {
     "data": {
      "text/plain": [
       "17.90524981089665"
      ]
     },
     "execution_count": 24,
     "metadata": {},
     "output_type": "execute_result"
    }
   ],
   "source": [
    "# rmse \n",
    "import math\n",
    "math.sqrt(((df_.model_score_exp - df_.model_score_act)**2).mean()) "
   ]
  },
  {
   "cell_type": "code",
   "execution_count": 25,
   "id": "6a3e413b",
   "metadata": {},
   "outputs": [
    {
     "name": "stdout",
     "output_type": "stream",
     "text": [
      "       feature       psi\n",
      "0  model_score  0.003089\n"
     ]
    },
    {
     "data": {
      "image/png": "[encoded data removed]",
      "text/plain": [
       "<Figure size 648x504 with 1 Axes>"
      ]
     },
     "metadata": {},
     "output_type": "display_data"
    }
   ],
   "source": [
    "# full population\n",
    "_ = plot_score_dist(dev_df.model_score, prod_df.model_score, bins=500)\n",
    "print(get_psi(dev_df.model_score.to_frame(), \n",
    "              prod_df.model_score.to_frame()))"
   ]
  },
  {
   "cell_type": "code",
   "execution_count": 26,
   "id": "032f24a4",
   "metadata": {},
   "outputs": [
    {
     "data": {
      "image/png": "[encoded data removed]",
      "text/plain": [
       "<Figure size 648x504 with 1 Axes>"
      ]
     },
     "metadata": {},
     "output_type": "display_data"
    }
   ],
   "source": [
    "_ = plot_score_dist(dev_df.risk_group_dev, prod_df.risk_group_dev)"
   ]
  },
  {
   "cell_type": "markdown",
   "id": "96935519",
   "metadata": {},
   "source": [
    "#### Active Population"
   ]
  },
  {
   "cell_type": "code",
   "execution_count": 27,
   "id": "ab16d922",
   "metadata": {},
   "outputs": [
    {
     "name": "stdout",
     "output_type": "stream",
     "text": [
      "166495\n",
      "       feature       psi\n",
      "0  model_score  0.015968\n"
     ]
    },
    {
     "data": {
      "image/png": "[encoded data removed]",
      "text/plain": [
       "<Figure size 648x504 with 1 Axes>"
      ]
     },
     "metadata": {},
     "output_type": "display_data"
    }
   ],
   "source": [
    "# active population \n",
    "print(len(active_ids))\n",
    "dev_active = dev_df[dev_df.user_id.isin(active_ids)]\n",
    "prod_active = prod_df[prod_df.user_id.isin(active_ids)]\n",
    "_ = plot_score_dist(dev_active.model_score, \n",
    "                    prod_active.model_score, bins=300)\n",
    "print(get_psi(dev_active.model_score.to_frame(), \n",
    "              prod_active.model_score.to_frame()))"
   ]
  },
  {
   "cell_type": "code",
   "execution_count": 28,
   "id": "06f0330d",
   "metadata": {},
   "outputs": [
    {
     "data": {
      "image/png": "[encoded data removed]",
      "text/plain": [
       "<Figure size 648x504 with 1 Axes>"
      ]
     },
     "metadata": {},
     "output_type": "display_data"
    }
   ],
   "source": [
    "# combined df - active population\n",
    "df_active = df_[df_.user_id.isin(active_ids)]\n",
    "fig = plot_difference(df_active.model_score_exp, df_active.model_score_act, bins=500)\n",
    "plt.show()"
   ]
  },
  {
   "cell_type": "code",
   "execution_count": 29,
   "id": "dc13b8a8",
   "metadata": {},
   "outputs": [
    {
     "name": "stdout",
     "output_type": "stream",
     "text": [
      "0.05 0.95\n",
      "-57.59 20.58 78.16\n"
     ]
    }
   ],
   "source": [
    "score_diff = df_active.model_score_exp - df_active.model_score_act\n",
    "# find quantile range\n",
    "quantile_range = 0.9\n",
    "lower = (1 - quantile_range) / 2\n",
    "upper = (1 - quantile_range) / 2 + quantile_range\n",
    "print(round(lower, 2), round(upper, 2))\n",
    "\n",
    "# find score range\n",
    "lower = score_diff.quantile(lower)\n",
    "upper = score_diff.quantile(upper)\n",
    "diff_range = upper - lower\n",
    "print(round(lower, 2), round(upper, 2), round(diff_range, 2))"
   ]
  },
  {
   "cell_type": "code",
   "execution_count": 30,
   "id": "a8cc8e9c",
   "metadata": {},
   "outputs": [
    {
     "data": {
      "text/plain": [
       "0.07007276045443706"
      ]
     },
     "execution_count": 30,
     "metadata": {},
     "output_type": "execute_result"
    }
   ],
   "source": [
    "# rmse \n",
    "import math\n",
    "math.sqrt(((df_active.model_score_exp - df_active.model_score_act)**2).sum()) / len(df_active)"
   ]
  },
  {
   "cell_type": "markdown",
   "id": "9c404801",
   "metadata": {},
   "source": [
    "#### Look at feature behavior comparing the two env\n",
    "---\n",
    "\n",
    "columns in the combined df."
   ]
  },
  {
   "cell_type": "code",
   "execution_count": 31,
   "id": "7205066d",
   "metadata": {},
   "outputs": [
    {
     "data": {
      "text/plain": [
       "(1109923, 4)"
      ]
     },
     "execution_count": 31,
     "metadata": {},
     "output_type": "execute_result"
    }
   ],
   "source": [
    "df_.shape"
   ]
  },
  {
   "cell_type": "code",
   "execution_count": 32,
   "id": "480a8c32",
   "metadata": {},
   "outputs": [],
   "source": [
    "features = incumbent_model.feature_name_"
   ]
  },
  {
   "cell_type": "code",
   "execution_count": 33,
   "id": "0a3d1020",
   "metadata": {},
   "outputs": [],
   "source": [
    "# psi combined_df\n",
    "combined_df[[\"model_score_exp\", \"model_score_act\"]]\n",
    "columns = features + [\"model_score\"]\n",
    "columns = [\"user_id\"] + list(map(lambda col: col+\"_exp\", columns))\n",
    "dev_df_shared_id = combined_df[columns]\n",
    "\n",
    "\n",
    "columns = features + [\"model_score\"]\n",
    "columns = [\"user_id\"] + list(map(lambda col: col+\"_act\", columns))\n",
    "prod_df_shared_id = combined_df[columns]\n",
    "\n",
    "dev_df_shared_id.columns = [\"user_id\"] + features + [\"model_score\"]\n",
    "prod_df_shared_id.columns = [\"user_id\"] + features + [\"model_score\"]"
   ]
  },
  {
   "cell_type": "code",
   "execution_count": 34,
   "id": "2716a7d3",
   "metadata": {},
   "outputs": [
    {
     "data": {
      "text/html": [
       "<div>\n",
       "<style scoped>\n",
       "    .dataframe tbody tr th:only-of-type {\n",
       "        vertical-align: middle;\n",
       "    }\n",
       "\n",
       "    .dataframe tbody tr th {\n",
       "        vertical-align: top;\n",
       "    }\n",
       "\n",
       "    .dataframe thead th {\n",
       "        text-align: right;\n",
       "    }\n",
       "</style>\n",
       "<table border=\"1\" class=\"dataframe\">\n",
       "  <thead>\n",
       "    <tr style=\"text-align: right;\">\n",
       "      <th></th>\n",
       "      <th>feature</th>\n",
       "      <th>psi</th>\n",
       "    </tr>\n",
       "  </thead>\n",
       "  <tbody>\n",
       "    <tr>\n",
       "      <th>15</th>\n",
       "      <td>nr_past_transactions</td>\n",
       "      <td>0.56</td>\n",
       "    </tr>\n",
       "    <tr>\n",
       "      <th>6</th>\n",
       "      <td>transaction_as_pct_of_balance</td>\n",
       "      <td>0.11</td>\n",
       "    </tr>\n",
       "    <tr>\n",
       "      <th>38</th>\n",
       "      <td>transaction_code_encoded</td>\n",
       "      <td>0.06</td>\n",
       "    </tr>\n",
       "    <tr>\n",
       "      <th>26</th>\n",
       "      <td>time_since_last_transaction</td>\n",
       "      <td>0.03</td>\n",
       "    </tr>\n",
       "    <tr>\n",
       "      <th>18</th>\n",
       "      <td>address_risk_score</td>\n",
       "      <td>0.02</td>\n",
       "    </tr>\n",
       "  </tbody>\n",
       "</table>\n",
       "</div>"
      ],
      "text/plain": [
       "                          feature   psi\n",
       "15           nr_past_transactions  0.56\n",
       "6   transaction_as_pct_of_balance  0.11\n",
       "38       transaction_code_encoded  0.06\n",
       "26    time_since_last_transaction  0.03\n",
       "18             address_risk_score  0.02"
      ]
     },
     "execution_count": 34,
     "metadata": {},
     "output_type": "execute_result"
    }
   ],
   "source": [
    "# all accounts\n",
    "get_psi(dev_df[features], prod_df[features]).round(2).head()"
   ]
  },
  {
   "cell_type": "code",
   "execution_count": 35,
   "id": "418d49ba",
   "metadata": {},
   "outputs": [],
   "source": [
    "import numpy as np\n",
    "import pandas as pd\n",
    "import matplotlib.pyplot as plt\n",
    "plt.style.use(\"seaborn\")\n",
    "\n",
    "\n",
    "def plot_difference(expected_sequence, actual_sequence, \n",
    "                    figsize=(9,7), bins=10, title='', fig=None, ax=None):\n",
    "    \"\"\" Plot the distr of difference of two sequences \n",
    "    Two sequences should have the same size\n",
    "    \"\"\"\n",
    "    assert(len(expected_sequence) == len(actual_sequence))\n",
    "    if ax is None:\n",
    "        fig, ax = plt.subplots(figsize=figsize)\n",
    "        \n",
    "    seq = np.array(expected_sequence) - np.array(actual_sequence)\n",
    "    ax.hist(seq, alpha=0.6, bins=bins, label='exp - actual')\n",
    "    ax.set_title(title)\n",
    "    ax.legend()\n",
    "    return fig, ax\n",
    "\n",
    "def plot_score_dist(dev_score, prod_score, figsize=(9,7), \n",
    "                    dev_label='development', prod_label='production',\n",
    "                    bins=10, title='', fig=None, ax=None):\n",
    "    \"\"\" Compare distributions of two scores\n",
    "    @params dev_score: sequence of scores\n",
    "    @params prod_score: sequence of scores\n",
    "    @params figsize: tuple\n",
    "    @returns fig: plt.figure object\n",
    "    \"\"\"\n",
    "    if ax is None:\n",
    "        fig, ax = plt.subplots(figsize=figsize)\n",
    "    ax.hist(dev_score, alpha=0.5, bins=bins, label=dev_label)\n",
    "    ax.hist(prod_score, alpha=0.5, bins=bins, label=prod_label)\n",
    "    ax.set_title(title)\n",
    "    ax.legend()\n",
    "    return fig, ax"
   ]
  },
  {
   "cell_type": "code",
   "execution_count": 36,
   "id": "51e0d732",
   "metadata": {},
   "outputs": [
    {
     "data": {
      "text/plain": [
       "(<Figure size 864x360 with 2 Axes>,\n",
       " <AxesSubplot:title={'center':'nr_past_transactions: differences'}>)"
      ]
     },
     "execution_count": 36,
     "metadata": {},
     "output_type": "execute_result"
    },
    {
     "data": {
      "image/png": "[encoded data removed]",
      "text/plain": [
       "<Figure size 864x360 with 2 Axes>"
      ]
     },
     "metadata": {},
     "output_type": "display_data"
    }
   ],
   "source": [
    "ft = \"nr_past_transactions\"\n",
    "ft_dev = ft + \"_exp\"\n",
    "ft_prod = ft + \"_act\"\n",
    "\n",
    "psi = get_psi(combined_df[ft_dev].rename().to_frame(), \n",
    "                         combined_df[ft_prod].rename().to_frame()).loc[0, \"psi\"]\n",
    "fig, axs = plt.subplots(1, 2, figsize=(12, 5))\n",
    "plot_score_dist(combined_df[ft_dev], combined_df[ft_prod], bins=100, fig=fig, ax=axs[0], title=f\"{ft}: distributions - PSI: {round(psi, 2)}\")\n",
    "plot_difference(combined_df[ft_dev], combined_df[ft_prod], bins=100, fig=fig, ax=axs[1], title=f\"{ft}: differences\") "
   ]
  },
  {
   "cell_type": "code",
   "execution_count": 37,
   "id": "5537f32b",
   "metadata": {},
   "outputs": [
    {
     "data": {
      "text/plain": [
       "(<Figure size 864x360 with 2 Axes>,\n",
       " <AxesSubplot:title={'center':'fraud_score_2: differences'}>)"
      ]
     },
     "execution_count": 37,
     "metadata": {},
     "output_type": "execute_result"
    },
    {
     "data": {
      "image/png": "[encoded data removed]",
      "text/plain": [
       "<Figure size 864x360 with 2 Axes>"
      ]
     },
     "metadata": {},
     "output_type": "display_data"
    }
   ],
   "source": [
    "ft = \"fraud_score_2\"\n",
    "ft_dev = ft + \"_exp\"\n",
    "ft_prod = ft + \"_act\"\n",
    "\n",
    "psi = get_psi(combined_df[ft_dev].rename().to_frame(), \n",
    "                         combined_df[ft_prod].rename().to_frame()).loc[0, \"psi\"]\n",
    "fig, axs = plt.subplots(1, 2, figsize=(12, 5))\n",
    "plot_score_dist(combined_df[ft_dev], combined_df[ft_prod], bins=100, fig=fig, ax=axs[0], title=f\"{ft}: distributions - PSI: {round(psi, 2)}\")\n",
    "plot_difference(combined_df[ft_dev], combined_df[ft_prod], bins=100, fig=fig, ax=axs[1], title=f\"{ft}: differences\") "
   ]
  },
  {
   "cell_type": "code",
   "execution_count": 38,
   "id": "24852fcd",
   "metadata": {},
   "outputs": [
    {
     "data": {
      "text/plain": [
       "(<Figure size 864x360 with 2 Axes>,\n",
       " <AxesSubplot:title={'center':'transaction_as_pct_of_balance: differences'}>)"
      ]
     },
     "execution_count": 38,
     "metadata": {},
     "output_type": "execute_result"
    },
    {
     "data": {
      "image/png": "[encoded data removed]",
      "text/plain": [
       "<Figure size 864x360 with 2 Axes>"
      ]
     },
     "metadata": {},
     "output_type": "display_data"
    }
   ],
   "source": [
    "ft = \"transaction_as_pct_of_balance\"\n",
    "ft_dev = ft + \"_exp\"\n",
    "ft_prod = ft + \"_act\"\n",
    "\n",
    "psi = get_psi(combined_df[ft_dev].rename().to_frame(), \n",
    "                         combined_df[ft_prod].rename().to_frame()).loc[0, \"psi\"]\n",
    "fig, axs = plt.subplots(1, 2, figsize=(12, 5))\n",
    "plot_score_dist(combined_df[ft_dev], combined_df[ft_prod], bins=100, fig=fig, ax=axs[0], title=f\"{ft}: distributions - PSI: {round(psi, 2)}\")\n",
    "plot_difference(combined_df[ft_dev], combined_df[ft_prod], bins=100, fig=fig, ax=axs[1], title=f\"{ft}: differences\") "
   ]
  },
  {
   "cell_type": "code",
   "execution_count": 39,
   "id": "0ab51084",
   "metadata": {},
   "outputs": [
    {
     "data": {
      "text/plain": [
       "fraud_score_2_exp\n",
       "False                0.991693\n",
       "True                 0.008307\n",
       "dtype: float64"
      ]
     },
     "metadata": {},
     "output_type": "display_data"
    },
    {
     "data": {
      "text/plain": [
       "fraud_score_2_act\n",
       "False                0.988825\n",
       "True                 0.011175\n",
       "dtype: float64"
      ]
     },
     "metadata": {},
     "output_type": "display_data"
    },
    {
     "data": {
      "text/html": [
       "<div>\n",
       "<style scoped>\n",
       "    .dataframe tbody tr th:only-of-type {\n",
       "        vertical-align: middle;\n",
       "    }\n",
       "\n",
       "    .dataframe tbody tr th {\n",
       "        vertical-align: top;\n",
       "    }\n",
       "\n",
       "    .dataframe thead th {\n",
       "        text-align: right;\n",
       "    }\n",
       "</style>\n",
       "<table border=\"1\" class=\"dataframe\">\n",
       "  <thead>\n",
       "    <tr style=\"text-align: right;\">\n",
       "      <th></th>\n",
       "      <th>fraud_score_2_exp</th>\n",
       "      <th>fraud_score_2_act</th>\n",
       "    </tr>\n",
       "  </thead>\n",
       "  <tbody>\n",
       "    <tr>\n",
       "      <th>count</th>\n",
       "      <td>1100705.00</td>\n",
       "      <td>1097522.00</td>\n",
       "    </tr>\n",
       "    <tr>\n",
       "      <th>mean</th>\n",
       "      <td>0.42</td>\n",
       "      <td>0.43</td>\n",
       "    </tr>\n",
       "    <tr>\n",
       "      <th>std</th>\n",
       "      <td>0.25</td>\n",
       "      <td>0.25</td>\n",
       "    </tr>\n",
       "    <tr>\n",
       "      <th>min</th>\n",
       "      <td>0.00</td>\n",
       "      <td>0.00</td>\n",
       "    </tr>\n",
       "    <tr>\n",
       "      <th>25%</th>\n",
       "      <td>0.21</td>\n",
       "      <td>0.22</td>\n",
       "    </tr>\n",
       "    <tr>\n",
       "      <th>50%</th>\n",
       "      <td>0.40</td>\n",
       "      <td>0.41</td>\n",
       "    </tr>\n",
       "    <tr>\n",
       "      <th>75%</th>\n",
       "      <td>0.61</td>\n",
       "      <td>0.62</td>\n",
       "    </tr>\n",
       "    <tr>\n",
       "      <th>max</th>\n",
       "      <td>1.00</td>\n",
       "      <td>1.00</td>\n",
       "    </tr>\n",
       "  </tbody>\n",
       "</table>\n",
       "</div>"
      ],
      "text/plain": [
       "       fraud_score_2_exp  fraud_score_2_act\n",
       "count         1100705.00         1097522.00\n",
       "mean                0.42               0.43\n",
       "std                 0.25               0.25\n",
       "min                 0.00               0.00\n",
       "25%                 0.21               0.22\n",
       "50%                 0.40               0.41\n",
       "75%                 0.61               0.62\n",
       "max                 1.00               1.00"
      ]
     },
     "metadata": {},
     "output_type": "display_data"
    }
   ],
   "source": [
    "# 2021/9 \n",
    "# hot swap @ 2020/10/13 a snapshot before and after to look\n",
    "#         - dev vs. prod\n",
    "# - 2020/12/31 -> training\n",
    "ft = \"fraud_score_2\"\n",
    "ft_dev = ft + \"_exp\"\n",
    "ft_prod = ft + \"_act\"\n",
    "display(combined_df[[ft_dev]].isna().value_counts(normalize=True))\n",
    "display(combined_df[[ft_prod]].isna().value_counts(normalize=True))\n",
    "display(combined_df[[ft_dev, ft_prod]].describe().round(2))"
   ]
  },
  {
   "cell_type": "code",
   "execution_count": null,
   "id": "89e6e69d",
   "metadata": {},
   "outputs": [],
   "source": []
  },
  {
   "cell_type": "code",
   "execution_count": null,
   "id": "0e32fe39",
   "metadata": {},
   "outputs": [],
   "source": []
  },
  {
   "cell_type": "markdown",
   "id": "7693bde4",
   "metadata": {},
   "source": [
    "#### Produce scores and send to Arpit\n",
    "---"
   ]
  },
  {
   "cell_type": "code",
   "execution_count": 41,
   "id": "15b0f043",
   "metadata": {},
   "outputs": [
    {
     "data": {
      "text/plain": [
       "'s3://sofi-data-science/jxu/data_dump/money_customer_risk/20210916-dev-prod-alignment/prod.parquet'"
      ]
     },
     "metadata": {},
     "output_type": "display_data"
    },
    {
     "data": {
      "text/plain": [
       "'../../data/combined_all_features/combined_1632521410.feather'"
      ]
     },
     "metadata": {},
     "output_type": "display_data"
    }
   ],
   "source": [
    "display(prod_path)\n",
    "display(dev_path)\n",
    "\n",
    "prod_df = pd.read_parquet(prod_path)\n",
    "dev_df = pd.read_feather(dev_path)"
   ]
  },
  {
   "cell_type": "code",
   "execution_count": 42,
   "id": "abf82e3c",
   "metadata": {},
   "outputs": [
    {
     "name": "stderr",
     "output_type": "stream",
     "text": [
      "/home/ec2-user/anaconda3/envs/customer_risk/lib/python3.7/site-packages/pandas/core/ops/array_ops.py:73: FutureWarning: Comparison of Timestamp with datetime.date is deprecated in order to match the standard library behavior.  In a future version these will be considered non-comparable.Use 'ts == pd.Timestamp(date)' or 'ts.date() == date' instead.\n",
      "  result = libops.scalar_compare(x.ravel(), y, op)\n"
     ]
    }
   ],
   "source": [
    "sample_date = \"2021-09-15\"\n",
    "dev_df = dev_df[dev_df.sample_date==pd.Timestamp(sample_date)]\n",
    "\n",
    "prod_df[\"last_checked_date\"] = pd.to_datetime(prod_df[\"last_checked_date\"])\n",
    "prod_df[\"sample_date\"] = prod_df[\"last_checked_date\"].dt.date\n",
    "prod_df = prod_df[prod_df[\"sample_date\"]==pd.Timestamp(sample_date)]"
   ]
  },
  {
   "cell_type": "code",
   "execution_count": 43,
   "id": "d6ec2566",
   "metadata": {},
   "outputs": [],
   "source": [
    "dev_df = mu.preprocess(dev_df)"
   ]
  },
  {
   "cell_type": "code",
   "execution_count": 44,
   "id": "8802f92e",
   "metadata": {},
   "outputs": [],
   "source": [
    "dev_df = mu.prep_customer_data(dev_df)  # get is_active here\n",
    "features = incumbent_model.feature_name_\n",
    "\n",
    "dev_df[\"pred\"] = incumbent_model.predict_proba(dev_df[features])[:,1]\n",
    "dev_df[\"score\"] = mu.scale_scores(dev_df[\"pred\"])\n",
    "\n",
    "prod_df[\"pred\"] = incumbent_model.predict_proba(prod_df[features])[:,1]\n",
    "prod_df[\"score\"] = mu.scale_scores(prod_df[\"pred\"])"
   ]
  },
  {
   "cell_type": "code",
   "execution_count": 45,
   "id": "c955278f",
   "metadata": {},
   "outputs": [],
   "source": [
    "columns = [\"party_id\", \"sample_date\", \"pred\", \"score\"]\n",
    "\n",
    "dev_df[columns].to_csv(os.path.join(s3_path, \"dev_scores_updated.csv\"))\n",
    "prod_df[columns].to_csv(os.path.join(s3_path, \"prod_scores_updated.csv\"))"
   ]
  },
  {
   "cell_type": "code",
   "execution_count": null,
   "id": "1bc78a30",
   "metadata": {},
   "outputs": [],
   "source": []
  },
  {
   "cell_type": "code",
   "execution_count": null,
   "id": "43639f76",
   "metadata": {},
   "outputs": [],
   "source": []
  },
  {
   "cell_type": "code",
   "execution_count": null,
   "id": "eb91f2ff",
   "metadata": {},
   "outputs": [],
   "source": []
  }
 ],
 "metadata": {
  "kernelspec": {
   "display_name": "conda_customer_risk",
   "language": "python",
   "name": "conda_customer_risk"
  },
  "language_info": {
   "codemirror_mode": {
    "name": "ipython",
    "version": 3
   },
   "file_extension": ".py",
   "mimetype": "text/x-python",
   "name": "python",
   "nbconvert_exporter": "python",
   "pygments_lexer": "ipython3",
   "version": "3.7.12"
  }
 },
 "nbformat": 4,
 "nbformat_minor": 5
}
