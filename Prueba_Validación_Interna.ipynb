{
  "nbformat": 4,
  "nbformat_minor": 0,
  "metadata": {
    "kernelspec": {
      "display_name": "d1-spark2python3",
      "language": "python",
      "name": "spark-python-d1-spark2python3"
    },
    "language_info": {
      "codemirror_mode": {
        "name": "ipython",
        "version": 3
      },
      "file_extension": ".py",
      "mimetype": "text/x-python",
      "name": "python",
      "nbconvert_exporter": "python",
      "pygments_lexer": "ipython3",
      "version": "3.6.12"
    },
    "colab": {
      "name": "Prueba_Validación_Interna.ipynb",
      "provenance": [],
      "collapsed_sections": [],
      "include_colab_link": true
    }
  },
  "cells": [
    {
      "cell_type": "markdown",
      "metadata": {
        "id": "view-in-github",
        "colab_type": "text"
      },
      "source": [
        "<a href=\"https://colab.research.google.com/github/rfmanz/pyutils/blob/main/Prueba_Validaci%C3%B3n_Interna.ipynb\" target=\"_parent\"><img src=\"https://colab.research.google.com/assets/colab-badge.svg\" alt=\"Open In Colab\"/></a>"
      ]
    },
    {
      "cell_type": "code",
      "metadata": {
        "id": "dgon72fDJQ1L"
      },
      "source": [
        "#sandbox = 'fper' \n",
        "#PATH_DATA = '/data/sandboxes/'+sandbox+'/data/data/'"
      ],
      "execution_count": null,
      "outputs": []
    },
    {
      "cell_type": "code",
      "metadata": {
        "id": "Z6G5ZFHnI3oZ"
      },
      "source": [
        "!apt-get install openjdk-8-jdk-headless -qq > /dev/null\n",
        "!wget -q https://downloads.apache.org/spark/spark-3.2.0/spark-3.2.0-bin-hadoop2.7.tgz\n",
        "!tar -xvf spark-3.2.0-bin-hadoop2.7.tgz"
      ],
      "execution_count": null,
      "outputs": []
    },
    {
      "cell_type": "code",
      "metadata": {
        "id": "fdOCfjIcJpjd"
      },
      "source": [
        "!pip install -q findspark\n",
        "import os\n",
        "os.environ[\"JAVA_HOME\"] = \"/usr/lib/jvm/java-8-openjdk-amd64\"\n",
        "os.environ[\"SPARK_HOME\"] = \"/content/spark-3.2.0-bin-hadoop2.7\""
      ],
      "execution_count": null,
      "outputs": []
    },
    {
      "cell_type": "markdown",
      "metadata": {
        "id": "L9G8QxPqJQ1L"
      },
      "source": [
        "\n",
        "\n",
        "# Prueba de Spark\n",
        "\n",
        "Cargamos un dataset con información de una campaña de marketing portuguesa para la venta de un préstamo bancario. El objetivo es predecir si un cliente en cuestión comprará el producto o no."
      ]
    },
    {
      "cell_type": "markdown",
      "metadata": {
        "id": "05adLsCOJQ1L"
      },
      "source": [
        "\n",
        "\n",
        "## Información sobre las variables del dataset\n",
        "\n",
        "### Datos del cliente bancario\n",
        "1. age\n",
        "2. job: tipo de trabajo\n",
        "3. marital: estado civil (nota: \"divorced\" implica tanto divorciado como viudo)\n",
        "4. education\n",
        "5. default: ¿no ha pagado alguna cuota de un crédito?\n",
        "6. balance: saldo medio anual, en euros\n",
        "7. housing: ¿tiene una hipoteca?\n",
        "8. loan: ¿tiene un crédito?\n",
        "\n",
        "### Relacionado con el último contacto con el cliente en la campaña actual\n",
        "9. contact: tipo de comunicación del último contacto \n",
        "10. day: día de la fecha de último contacto\n",
        "11. month: mes de la fecha de último contacto\n",
        "12. duration: duración del último contacto, en segundos\n",
        "\n",
        "### Otros atributos:\n",
        "13. campaign: número de contactos llevados a cabo durante esta campaña y para este cliente (incluye el último contacto)\n",
        "14. pdays: número de dias que han pasado desde que el cliente fue contactado por última vez durante la pasada campaña (-1 significa que el cliente no fue contactado)\n",
        "15. previous: número de contactos que se han llevado a cabo antes de esta campaña y para este cliente \n",
        "16. poutcome: resultado de la última campaña de marketing\n",
        "\n",
        "### Variable de salida (target):\n",
        "17. y: ¿tiene el cliente contratado un depósito a plazo fijo?"
      ]
    },
    {
      "cell_type": "code",
      "metadata": {
        "id": "FK6uNUunKvDa"
      },
      "source": [
        "import findspark\n",
        "findspark.init()\n",
        "\n",
        "findspark.find()\n",
        "\n",
        "from pyspark.sql import SparkSession\n",
        "spark = SparkSession.builder.master(\"local[*]\").getOrCreate()"
      ],
      "execution_count": null,
      "outputs": []
    },
    {
      "cell_type": "markdown",
      "metadata": {
        "id": "tXpdb5xMJQ1L"
      },
      "source": [
        "# Librerías:"
      ]
    },
    {
      "cell_type": "code",
      "metadata": {
        "id": "y7rLFnPwJQ1L"
      },
      "source": [
        "from pyspark.sql import functions as F\n",
        "from pyspark.sql.types import StringType, IntegerType, DoubleType, DateType\n",
        "from pyspark.mllib.linalg import Vectors\n",
        "from pyspark.mllib.stat import Statistics\n",
        "import pandas as pd\n",
        "import numpy as np\n",
        "import matplotlib.pyplot as plt\n",
        "import seaborn as sns\n",
        "from scipy.stats import kstest\n",
        "sns.set(color_codes=True)\n",
        "\n",
        "from pyspark.sql.types import StringType, DoubleType, IntegerType, ArrayType, DateType\n",
        "from pyspark.ml import Pipeline\n",
        "from pyspark.ml.feature import OneHotEncoder, StringIndexer, VectorAssembler, MinMaxScaler\n",
        "from pyspark.ml.classification import RandomForestClassifier, GBTClassifier, LogisticRegression\n",
        "from pyspark.ml.evaluation import BinaryClassificationEvaluator, MulticlassClassificationEvaluator\n",
        "from pyspark.ml.evaluation import RegressionEvaluator\n",
        "from pyspark.ml.tuning import CrossValidator, ParamGridBuilder\n",
        "\n",
        "import re"
      ],
      "execution_count": null,
      "outputs": []
    },
    {
      "cell_type": "markdown",
      "metadata": {
        "id": "0eRhK9VMJQ1L"
      },
      "source": [
        "#Lectura de datos"
      ]
    },
    {
      "cell_type": "code",
      "metadata": {
        "id": "veuNEqmEJQ1L",
        "colab": {
          "base_uri": "https://localhost:8080/"
        },
        "outputId": "2c9456a6-4b4e-45b8-c1c9-559ce43dcde8"
      },
      "source": [
        "from pyspark.sql import SparkSession\n",
        "spark = SparkSession.builder.getOrCreate()\n",
        "from pyspark import SQLContext\n",
        "from pyspark import SparkContext\n",
        "sc = SparkContext.getOrCreate()\n",
        "sql = SQLContext(sc)"
      ],
      "execution_count": null,
      "outputs": [
        {
          "output_type": "stream",
          "name": "stderr",
          "text": [
            "/content/spark-3.2.0-bin-hadoop2.7/python/pyspark/sql/context.py:79: FutureWarning: Deprecated in 3.0.0. Use SparkSession.builder.getOrCreate() instead.\n",
            "  FutureWarning\n"
          ]
        }
      ]
    },
    {
      "cell_type": "markdown",
      "metadata": {
        "id": "kc4Br65vRdx5"
      },
      "source": [
        "#Cargar data compartida"
      ]
    },
    {
      "cell_type": "code",
      "metadata": {
        "id": "O-6p6f_DJQ1M"
      },
      "source": [
        "bank_df = spark.read.csv('bank-full.csv', sep=';', header=True, inferSchema=True)"
      ],
      "execution_count": null,
      "outputs": []
    },
    {
      "cell_type": "markdown",
      "metadata": {
        "id": "2QpcKXfYQ2th"
      },
      "source": [
        "#Instrucciones\n",
        "Se pide realizar las siguientes acciones, dejando la descripción del paso a paso que se sigue en cada punto solicitado:\n",
        "\n",
        "\n",
        "*   Vista de los primeros 10 datos de la data cargada junto con mensajes que muestren el número de datos y de variables\n",
        "\n",
        "*   Identificar las variables cualitativas y cuantitativas\n",
        "\n",
        "*   Validar si hay registros duplicados\n",
        "\n",
        "*   Obtener estadísticos de las variables\n",
        "\n",
        "*   Evaluar valores perdidos en las variables y proponer que hacer con esos casos\n",
        "\n",
        "*   Hacer un estudio de las variables categóricas encontradas en la data\n",
        "\n",
        "*   Análisis de valores outliers en las variables y que se propone realizar con dichos casos\n",
        "\n",
        "*   Proponer y aplicar tratamiento de variables para maximizar su contribución a los modelos propuestos\n",
        "\n",
        "*   Análisis Bivariante con respecto a la variable target\n",
        "\n",
        "*   Proponer dos modelos, justificando su uso, presentado sus principales métricas, así como los supuestos aplicados y limitaciones\n",
        "\n",
        "*   Colocar los resultados y conclusiones en una ppt\n",
        "\n",
        "*   El entregable final es la ppt y el notebook\n",
        "\n",
        "\n",
        "Suerte!!\n",
        "\n",
        "\n",
        "\n",
        "\n",
        "\n",
        "\n",
        "\n",
        "\n",
        "\n",
        "\n",
        "\n",
        "\n"
      ]
    },
    {
      "cell_type": "code",
      "metadata": {
        "colab": {
          "base_uri": "https://localhost:8080/"
        },
        "id": "_UtLAD89eC8H",
        "outputId": "f0b703cf-e445-49ea-d270-34a6dd90e716"
      },
      "source": [
        "bank_df.show(10)"
      ],
      "execution_count": null,
      "outputs": [
        {
          "output_type": "stream",
          "name": "stdout",
          "text": [
            "+---+------------+--------+---------+-------+-------+-------+----+-------+---+-----+--------+--------+-----+--------+--------+---+\n",
            "|age|         job| marital|education|default|balance|housing|loan|contact|day|month|duration|campaign|pdays|previous|poutcome|  y|\n",
            "+---+------------+--------+---------+-------+-------+-------+----+-------+---+-----+--------+--------+-----+--------+--------+---+\n",
            "| 58|  management| married| tertiary|     no|   2143|    yes|  no|unknown|  5|  may|     261|       1|   -1|       0| unknown| no|\n",
            "| 44|  technician|  single|secondary|     no|     29|    yes|  no|unknown|  5|  may|     151|       1|   -1|       0| unknown| no|\n",
            "| 33|entrepreneur| married|secondary|     no|      2|    yes| yes|unknown|  5|  may|      76|       1|   -1|       0| unknown| no|\n",
            "| 47| blue-collar| married|  unknown|     no|   1506|    yes|  no|unknown|  5|  may|      92|       1|   -1|       0| unknown| no|\n",
            "| 33|     unknown|  single|  unknown|     no|      1|     no|  no|unknown|  5|  may|     198|       1|   -1|       0| unknown| no|\n",
            "| 35|  management| married| tertiary|     no|    231|    yes|  no|unknown|  5|  may|     139|       1|   -1|       0| unknown| no|\n",
            "| 28|  management|  single| tertiary|     no|    447|    yes| yes|unknown|  5|  may|     217|       1|   -1|       0| unknown| no|\n",
            "| 42|entrepreneur|divorced| tertiary|    yes|      2|    yes|  no|unknown|  5|  may|     380|       1|   -1|       0| unknown| no|\n",
            "| 58|     retired| married|  primary|     no|    121|    yes|  no|unknown|  5|  may|      50|       1|   -1|       0| unknown| no|\n",
            "| 43|  technician|  single|secondary|     no|    593|    yes|  no|unknown|  5|  may|      55|       1|   -1|       0| unknown| no|\n",
            "+---+------------+--------+---------+-------+-------+-------+----+-------+---+-----+--------+--------+-----+--------+--------+---+\n",
            "only showing top 10 rows\n",
            "\n"
          ]
        }
      ]
    },
    {
      "cell_type": "code",
      "metadata": {
        "colab": {
          "base_uri": "https://localhost:8080/"
        },
        "id": "fFWK9_hyfW87",
        "outputId": "2fd120e0-1365-46db-d664-b4778e0c8e86"
      },
      "source": [
        "print((bank_df.count(), len(bank_df.columns)))"
      ],
      "execution_count": null,
      "outputs": [
        {
          "output_type": "stream",
          "name": "stdout",
          "text": [
            "(45211, 17)\n"
          ]
        }
      ]
    },
    {
      "cell_type": "code",
      "metadata": {
        "colab": {
          "base_uri": "https://localhost:8080/"
        },
        "id": "ZwkkZdZxfWt5",
        "outputId": "6cbf8df8-e7ad-456b-a44c-9590930679b7"
      },
      "source": [
        "bank_df.printSchema()"
      ],
      "execution_count": null,
      "outputs": [
        {
          "output_type": "stream",
          "name": "stdout",
          "text": [
            "root\n",
            " |-- age: integer (nullable = true)\n",
            " |-- job: string (nullable = true)\n",
            " |-- marital: string (nullable = true)\n",
            " |-- education: string (nullable = true)\n",
            " |-- default: string (nullable = true)\n",
            " |-- balance: integer (nullable = true)\n",
            " |-- housing: string (nullable = true)\n",
            " |-- loan: string (nullable = true)\n",
            " |-- contact: string (nullable = true)\n",
            " |-- day: integer (nullable = true)\n",
            " |-- month: string (nullable = true)\n",
            " |-- duration: integer (nullable = true)\n",
            " |-- campaign: integer (nullable = true)\n",
            " |-- pdays: integer (nullable = true)\n",
            " |-- previous: integer (nullable = true)\n",
            " |-- poutcome: string (nullable = true)\n",
            " |-- y: string (nullable = true)\n",
            "\n"
          ]
        }
      ]
    },
    {
      "cell_type": "code",
      "metadata": {
        "colab": {
          "base_uri": "https://localhost:8080/"
        },
        "id": "pingRvF_fXAS",
        "outputId": "8e158146-6e15-4c16-834e-1bbfc2371566"
      },
      "source": [
        "if bank_df.count() > bank_df.dropDuplicates(bank_df.columns).count():\n",
        "    raise ValueError('Data has duplicates')\n",
        "else:\n",
        "  print('Data has no duplicates')"
      ],
      "execution_count": null,
      "outputs": [
        {
          "output_type": "stream",
          "name": "stdout",
          "text": [
            "Data has no duplicates\n"
          ]
        }
      ]
    },
    {
      "cell_type": "code",
      "metadata": {
        "id": "bE_HsjWefXM4",
        "colab": {
          "base_uri": "https://localhost:8080/"
        },
        "outputId": "0deb03e1-ba13-405b-ee37-01b0d64b42ed"
      },
      "source": [
        "bank_df.summary().show()"
      ],
      "execution_count": null,
      "outputs": [
        {
          "output_type": "stream",
          "name": "stdout",
          "text": [
            "+-------+------------------+-------+--------+---------+-------+------------------+-------+-----+--------+-----------------+-----+------------------+-----------------+------------------+------------------+--------+-----+\n",
            "|summary|               age|    job| marital|education|default|           balance|housing| loan| contact|              day|month|          duration|         campaign|             pdays|          previous|poutcome|    y|\n",
            "+-------+------------------+-------+--------+---------+-------+------------------+-------+-----+--------+-----------------+-----+------------------+-----------------+------------------+------------------+--------+-----+\n",
            "|  count|             45211|  45211|   45211|    45211|  45211|             45211|  45211|45211|   45211|            45211|45211|             45211|            45211|             45211|             45211|   45211|45211|\n",
            "|   mean| 40.93621021432837|   null|    null|     null|   null|1362.2720576850766|   null| null|    null|15.80641879188693| null| 258.1630797814691|2.763840658246887| 40.19782796222158|0.5803233726305546|    null| null|\n",
            "| stddev|10.618762040975408|   null|    null|     null|   null|3044.7658291685243|   null| null|    null|8.322476153044596| null|257.52781226517095|3.098020883279184|100.12874599059813|2.3034410449312204|    null| null|\n",
            "|    min|                18| admin.|divorced|  primary|     no|             -8019|     no|   no|cellular|                1|  apr|                 0|                1|                -1|                 0| failure|   no|\n",
            "|    25%|                33|   null|    null|     null|   null|                72|   null| null|    null|                8| null|               103|                1|                -1|                 0|    null| null|\n",
            "|    50%|                39|   null|    null|     null|   null|               448|   null| null|    null|               16| null|               180|                2|                -1|                 0|    null| null|\n",
            "|    75%|                48|   null|    null|     null|   null|              1427|   null| null|    null|               21| null|               319|                3|                -1|                 0|    null| null|\n",
            "|    max|                95|unknown|  single|  unknown|    yes|            102127|    yes|  yes| unknown|               31|  sep|              4918|               63|               871|               275| unknown|  yes|\n",
            "+-------+------------------+-------+--------+---------+-------+------------------+-------+-----+--------+-----------------+-----+------------------+-----------------+------------------+------------------+--------+-----+\n",
            "\n"
          ]
        }
      ]
    },
    {
      "cell_type": "code",
      "metadata": {
        "colab": {
          "base_uri": "https://localhost:8080/"
        },
        "id": "OVYcUlyxBwer",
        "outputId": "e7d1aaaf-e4cf-4b1b-c0e9-6f313fe9dbff"
      },
      "source": [
        "print(\"Unknown/Nulls:\")\n",
        "print()\n",
        "print( 'job',  bank_df.where(bank_df.job.like('unknown')).count())\n",
        "print('education', bank_df.where(bank_df.education.like('unknown')).count())\n",
        "print('contact', bank_df.where(bank_df.contact.like('unknown')).count())\n",
        "print('poutcome', bank_df.where(bank_df.poutcome.like('unknown')).count())\n"
      ],
      "execution_count": null,
      "outputs": [
        {
          "output_type": "stream",
          "name": "stdout",
          "text": [
            "Unknown/Nulls:\n",
            "\n",
            "job 288\n",
            "education 1857\n",
            "contact 13020\n",
            "poutcome 36959\n"
          ]
        }
      ]
    },
    {
      "cell_type": "markdown",
      "metadata": {
        "id": "drcOCq-Pn5g0"
      },
      "source": [
        "Valores nulos :\n",
        "- Considerarlos como otra categoría\n",
        "- Imputar usando promedio or mediana \n",
        "- Imputar usando metodologías mas avanzadas por ejemplo: \n",
        "\n",
        "https://github.com/AnotherSamWilson/miceforest"
      ]
    },
    {
      "cell_type": "code",
      "metadata": {
        "id": "pd9agZ8o4-d4"
      },
      "source": [
        "def ordered_barplot_h(df, variable_name, rotate=0):\n",
        "    s = df[~pd.isnull(df[[variable_name]])][variable_name]\n",
        "    chart = pd.value_counts(s).to_frame(name='data')\n",
        "    chart.index.name = 'labels'\n",
        "    chart = chart.reset_index().sort_values(['data', 'labels'], ascending=[False, True])\n",
        "\n",
        "    plt.figure(figsize=(12, 8))\n",
        "    ax = sns.barplot(y=\"labels\", x=\"data\", data=chart)\n",
        "    ncount = len(df[[variable_name]])\n",
        "    # plt.title('Distribution of Truck Configurations')\n",
        "    # ax.set_xticklabels(labels=tr.state, rotation=90)\n",
        "\n",
        "    plt.xticks(rotation=rotate)\n",
        "\n",
        "    # # Switch so count axis is on right, frequency on left\n",
        "    ax.yaxis.tick_left()\n",
        "    # ax2.yaxis.tick_right()\n",
        "\n",
        "    # Also switch the labels over\n",
        "    ax.yaxis.set_label_position('right')\n",
        "    # ax2.yaxis.set_label_position('left')\n",
        "\n",
        "    # ax.set_ylabel('%', rotation=180, fontsize=10, va='bottom', ha='right')\n",
        "    ax.set_ylabel(\"\")\n",
        "\n",
        "    for p in ax.patches:\n",
        "        percentage = '{:.1f}%'.format(p.get_width() / ncount * 100)\n",
        "        width, height = p.get_width(), p.get_height()\n",
        "        x = p.get_x() + width + 0.02\n",
        "        y = p.get_y() + height / 2\n",
        "        ax.annotate(percentage, (x, y), ha='left', va='center')\n",
        "\n",
        "    return plt.show()"
      ],
      "execution_count": null,
      "outputs": []
    },
    {
      "cell_type": "code",
      "metadata": {
        "id": "6byjrD4Oook9"
      },
      "source": [
        "def ordered_barplot(df, variable_name, rotate=0):\n",
        "    s = df[~pd.isnull(df[[variable_name]])][variable_name]\n",
        "    chart = pd.value_counts(s).to_frame(name='data')\n",
        "    chart.index.name = 'labels'\n",
        "    chart = chart.reset_index().sort_values(['data', 'labels'], ascending=[False, True])\n",
        "    plt.figure(figsize=(12, 8))\n",
        "    ax = sns.barplot(x=\"labels\", y=\"data\", data=chart)\n",
        "    ncount = len(df[[variable_name]])\n",
        "    # plt.title('Distribution of Truck Configurations')\n",
        "    # ax.set_xticklabels(labels=tr.state, rotation=90)\n",
        "    plt.xlabel(variable_name)\n",
        "    plt.xticks(rotation=rotate)\n",
        "\n",
        "    # Make twin axis\n",
        "    ax2 = ax.twinx()\n",
        "\n",
        "    # Switch so count axis is on right, frequency on left\n",
        "    ax2.yaxis.tick_left()\n",
        "    ax.yaxis.tick_right()\n",
        "\n",
        "    # Also switch the labels over\n",
        "    ax.yaxis.set_label_position('right')\n",
        "    ax2.yaxis.set_label_position('left')\n",
        "\n",
        "    ax2.set_ylabel('Frequency [%]')\n",
        "\n",
        "    for p in ax.patches:\n",
        "        x = p.get_bbox().get_points()[:, 0]\n",
        "        y = p.get_bbox().get_points()[1, 1]\n",
        "        ax.annotate('{:.1f}%'.format(100. * y / ncount), (x.mean(), y), ha='center',\n",
        "                    va='bottom')  # set the alignment of the text\n",
        "\n",
        "    # Use a LinearLocator to ensure the correct number of ticks\n",
        "    ax.yaxis.set_major_locator(ticker.LinearLocator(11))\n",
        "\n",
        "    # Fix the frequency range to 0-100\n",
        "    ax2.set_ylim(0, 100)\n",
        "    ax.set_ylim(0, ncount)\n",
        "\n",
        "    # And use a MultipleLocator to ensure a tick spacing of 10\n",
        "    ax2.yaxis.set_major_locator(ticker.MultipleLocator(10))\n",
        "\n",
        "    # Need to turn the grid on ax2 off, otherwise the gridlines end up on top of the bars\n",
        "    ax2.grid(None)\n",
        "    ax2.grid(False)\n",
        "\n",
        "    return plt.show()"
      ],
      "execution_count": null,
      "outputs": []
    },
    {
      "cell_type": "code",
      "metadata": {
        "id": "bH1D92dMCfRI"
      },
      "source": [
        "def box_plot_classification(df, target_name):\n",
        "    df[target_name] = df[target_name].astype('object')\n",
        "    continuous_cols = list(df.select_dtypes(\"number\").columns)\n",
        "    data = pd.DataFrame(StandardScaler().fit_transform(df[continuous_cols]), columns=df[continuous_cols].columns,\n",
        "                        index=df[continuous_cols].index)\n",
        "    data = pd.concat([data, df[[target_name]]], axis=1)\n",
        "    data = pd.melt(data, id_vars=target_name,\n",
        "                   var_name=\"features\",\n",
        "                   value_name='value')\n",
        "\n",
        "    plt.figure(figsize=(10, 10))\n",
        "    ax = sns.boxplot(x=\"features\", y=\"value\", hue=target_name, data=data)\n",
        "    for i in range(len(np.unique(data[\"features\"])) - 1):\n",
        "        ax.axvline(i + 0.5, color='grey', lw=1)\n",
        "    plt.xticks(rotation=20)\n",
        "    return plt.show()"
      ],
      "execution_count": null,
      "outputs": []
    },
    {
      "cell_type": "code",
      "metadata": {
        "id": "kF-Ra_m5Csou"
      },
      "source": [
        "bank_df_pandas = bank_df.toPandas()"
      ],
      "execution_count": null,
      "outputs": []
    },
    {
      "cell_type": "code",
      "metadata": {
        "colab": {
          "base_uri": "https://localhost:8080/",
          "height": 502
        },
        "id": "mfuOG5PazzZk",
        "outputId": "6125b83e-8a8c-4b40-dfd2-de5614be917d"
      },
      "source": [
        "ordered_barplot_h(bank_df_pandas, \"job\")"
      ],
      "execution_count": null,
      "outputs": [
        {
          "output_type": "display_data",
          "data": {
            "image/png": "[encoded data removed]",
            "text/plain": [
              "<Figure size 864x576 with 1 Axes>"
            ]
          },
          "metadata": {}
        }
      ]
    },
    {
      "cell_type": "code",
      "metadata": {
        "colab": {
          "base_uri": "https://localhost:8080/",
          "height": 506
        },
        "id": "SPnOF8o_5dnn",
        "outputId": "1397e98c-f9f5-4a00-93e0-c5b07750142e"
      },
      "source": [
        "import matplotlib.ticker as ticker\n",
        "ordered_barplot(bank_df_pandas, \"poutcome\")"
      ],
      "execution_count": null,
      "outputs": [
        {
          "output_type": "display_data",
          "data": {
            "image/png": "[encoded data removed]",
            "text/plain": [
              "<Figure size 864x576 with 2 Axes>"
            ]
          },
          "metadata": {}
        }
      ]
    },
    {
      "cell_type": "code",
      "metadata": {
        "colab": {
          "base_uri": "https://localhost:8080/",
          "height": 506
        },
        "id": "KYFPjhF78htP",
        "outputId": "2f2d0359-affa-4e68-b31a-5a053d3581a6"
      },
      "source": [
        "ordered_barplot(bank_df_pandas, \"contact\")"
      ],
      "execution_count": null,
      "outputs": [
        {
          "output_type": "display_data",
          "data": {
            "image/png": "[encoded data removed]",
            "text/plain": [
              "<Figure size 864x576 with 2 Axes>"
            ]
          },
          "metadata": {}
        }
      ]
    },
    {
      "cell_type": "code",
      "metadata": {
        "colab": {
          "base_uri": "https://localhost:8080/",
          "height": 506
        },
        "id": "XFKo4zI58n6P",
        "outputId": "6c206f49-68cf-4a12-bbe5-13e6c7fcbd85"
      },
      "source": [
        "ordered_barplot(bank_df_pandas, \"education\")"
      ],
      "execution_count": null,
      "outputs": [
        {
          "output_type": "display_data",
          "data": {
            "image/png": "[encoded data removed]",
            "text/plain": [
              "<Figure size 864x576 with 2 Axes>"
            ]
          },
          "metadata": {}
        }
      ]
    },
    {
      "cell_type": "code",
      "metadata": {
        "colab": {
          "base_uri": "https://localhost:8080/",
          "height": 507
        },
        "id": "-U9qTYa370G3",
        "outputId": "0b305aab-1e39-4c7e-816a-cabee2397bab"
      },
      "source": [
        "ordered_barplot(bank_df_pandas, \"default\")"
      ],
      "execution_count": null,
      "outputs": [
        {
          "output_type": "display_data",
          "data": {
            "image/png": "[encoded data removed]",
            "text/plain": [
              "<Figure size 864x576 with 2 Axes>"
            ]
          },
          "metadata": {}
        }
      ]
    },
    {
      "cell_type": "code",
      "metadata": {
        "colab": {
          "base_uri": "https://localhost:8080/",
          "height": 506
        },
        "id": "Je_QL5qu70Mn",
        "outputId": "6365b2fe-7a9c-47bf-edbc-9a474ff48b42"
      },
      "source": [
        "ordered_barplot(bank_df_pandas, \"housing\")"
      ],
      "execution_count": null,
      "outputs": [
        {
          "output_type": "display_data",
          "data": {
            "image/png": "[encoded data removed]",
            "text/plain": [
              "<Figure size 864x576 with 2 Axes>"
            ]
          },
          "metadata": {}
        }
      ]
    },
    {
      "cell_type": "code",
      "metadata": {
        "colab": {
          "base_uri": "https://localhost:8080/",
          "height": 506
        },
        "id": "z4VDceYO70X8",
        "outputId": "58fd60ed-ba22-45a6-e80e-31d1133224b8"
      },
      "source": [
        "ordered_barplot(bank_df_pandas, \"loan\")"
      ],
      "execution_count": null,
      "outputs": [
        {
          "output_type": "display_data",
          "data": {
            "image/png": "[encoded data removed]",
            "text/plain": [
              "<Figure size 864x576 with 2 Axes>"
            ]
          },
          "metadata": {}
        }
      ]
    },
    {
      "cell_type": "code",
      "metadata": {
        "colab": {
          "base_uri": "https://localhost:8080/",
          "height": 506
        },
        "id": "ZpyMAIZp70gP",
        "outputId": "00393331-b646-4ac9-e816-fefd31bffdc8"
      },
      "source": [
        "ordered_barplot(bank_df_pandas, \"y\")"
      ],
      "execution_count": null,
      "outputs": [
        {
          "output_type": "display_data",
          "data": {
            "image/png": "[encoded data removed]",
            "text/plain": [
              "<Figure size 864x576 with 2 Axes>"
            ]
          },
          "metadata": {}
        }
      ]
    },
    {
      "cell_type": "code",
      "metadata": {
        "colab": {
          "base_uri": "https://localhost:8080/",
          "height": 506
        },
        "id": "__oidfGb8m6j",
        "outputId": "2e5f8fec-d958-4d1f-c827-21c0be32c82d"
      },
      "source": [
        "ordered_barplot(bank_df_pandas, \"month\")"
      ],
      "execution_count": null,
      "outputs": [
        {
          "output_type": "display_data",
          "data": {
            "image/png": "[encoded data removed]",
            "text/plain": [
              "<Figure size 864x576 with 2 Axes>"
            ]
          },
          "metadata": {}
        }
      ]
    },
    {
      "cell_type": "code",
      "metadata": {
        "id": "H0SX1ctZ8nAx"
      },
      "source": [
        ""
      ],
      "execution_count": null,
      "outputs": []
    },
    {
      "cell_type": "code",
      "metadata": {
        "id": "nWyBzrE28nCD"
      },
      "source": [
        ""
      ],
      "execution_count": null,
      "outputs": []
    },
    {
      "cell_type": "code",
      "metadata": {
        "colab": {
          "base_uri": "https://localhost:8080/",
          "height": 285
        },
        "id": "oRfzkEfv_jZi",
        "outputId": "e8f9de27-bd59-4812-bd96-69416f2a69e1"
      },
      "source": [
        "bank_df_pandas.previous.plot(style='.')"
      ],
      "execution_count": null,
      "outputs": [
        {
          "output_type": "execute_result",
          "data": {
            "text/plain": [
              "<matplotlib.axes._subplots.AxesSubplot at 0x7f33a74d9410>"
            ]
          },
          "metadata": {},
          "execution_count": 130
        },
        {
          "output_type": "display_data",
          "data": {
            "image/png": "[encoded data removed]",
            "text/plain": [
              "<Figure size 432x288 with 1 Axes>"
            ]
          },
          "metadata": {}
        }
      ]
    },
    {
      "cell_type": "code",
      "metadata": {
        "colab": {
          "base_uri": "https://localhost:8080/",
          "height": 285
        },
        "id": "o49Rg05T_t4Z",
        "outputId": "c21b6115-6bcd-4539-a577-69fb04bb77fc"
      },
      "source": [
        "bank_df_pandas.balance.plot(style='.')"
      ],
      "execution_count": null,
      "outputs": [
        {
          "output_type": "execute_result",
          "data": {
            "text/plain": [
              "<matplotlib.axes._subplots.AxesSubplot at 0x7f33a73f0b90>"
            ]
          },
          "metadata": {},
          "execution_count": 131
        },
        {
          "output_type": "display_data",
          "data": {
            "image/png": "[encoded data removed]",
            "text/plain": [
              "<Figure size 432x288 with 1 Axes>"
            ]
          },
          "metadata": {}
        }
      ]
    },
    {
      "cell_type": "markdown",
      "metadata": {
        "id": "wwHjSLbztlIl"
      },
      "source": [
        "Outliers:\n",
        "\n",
        "* Remover\n",
        "* Min max scaling \n",
        "* Standardization "
      ]
    },
    {
      "cell_type": "code",
      "metadata": {
        "id": "T3Xbv8Z85KTD"
      },
      "source": [
        "bank_df_pandas.drop(bank_df_pandas[bank_df_pandas.previous > 42].index, inplace=True)\n"
      ],
      "execution_count": null,
      "outputs": []
    },
    {
      "cell_type": "code",
      "metadata": {
        "id": "F31KXUuDCQnM"
      },
      "source": [
        "bank_df_pandas.drop(bank_df_pandas[bank_df_pandas.balance > 60000].index, inplace=True)\n"
      ],
      "execution_count": null,
      "outputs": []
    },
    {
      "cell_type": "code",
      "metadata": {
        "colab": {
          "base_uri": "https://localhost:8080/",
          "height": 285
        },
        "id": "gYbBMJA3pEMT",
        "outputId": "e4f2971c-11a5-483b-ddbe-6c3a81e3d11d"
      },
      "source": [
        "bank_df_pandas.previous.plot(style='.')"
      ],
      "execution_count": null,
      "outputs": [
        {
          "output_type": "execute_result",
          "data": {
            "text/plain": [
              "<matplotlib.axes._subplots.AxesSubplot at 0x7f33a6727dd0>"
            ]
          },
          "metadata": {},
          "execution_count": 134
        },
        {
          "output_type": "display_data",
          "data": {
            "image/png": "[encoded data removed]",
            "text/plain": [
              "<Figure size 432x288 with 1 Axes>"
            ]
          },
          "metadata": {}
        }
      ]
    },
    {
      "cell_type": "code",
      "metadata": {
        "colab": {
          "base_uri": "https://localhost:8080/",
          "height": 285
        },
        "id": "oFqMOFb1pETj",
        "outputId": "93ec76cb-a0c1-457c-f4e6-380f69af6fa5"
      },
      "source": [
        "bank_df_pandas.balance.plot(style='.')"
      ],
      "execution_count": null,
      "outputs": [
        {
          "output_type": "execute_result",
          "data": {
            "text/plain": [
              "<matplotlib.axes._subplots.AxesSubplot at 0x7f33a6a52810>"
            ]
          },
          "metadata": {},
          "execution_count": 135
        },
        {
          "output_type": "display_data",
          "data": {
            "image/png": "[encoded data removed]",
            "text/plain": [
              "<Figure size 432x288 with 1 Axes>"
            ]
          },
          "metadata": {}
        }
      ]
    },
    {
      "cell_type": "code",
      "metadata": {
        "id": "KFIecvAtCfTh",
        "colab": {
          "base_uri": "https://localhost:8080/",
          "height": 629
        },
        "outputId": "8d341be6-5883-4006-9ded-466ac00beffc"
      },
      "source": [
        "from sklearn.preprocessing import StandardScaler\n",
        "box_plot_classification(bank_df_pandas, \"y\")"
      ],
      "execution_count": null,
      "outputs": [
        {
          "output_type": "display_data",
          "data": {
            "image/png": "[encoded data removed]",
            "text/plain": [
              "<Figure size 720x720 with 1 Axes>"
            ]
          },
          "metadata": {}
        }
      ]
    },
    {
      "cell_type": "code",
      "metadata": {
        "id": "dLsYDMFjrGGx"
      },
      "source": [
        "def encode(df, method=\"dmy\"):\n",
        "    \"\"\" methods:\n",
        "        Dummy encoding = pandas get_dummies\n",
        "        Label encoding = sklearn LabelEncoders\n",
        "    \"\"\"\n",
        "    cols = df.select_dtypes('object').columns\n",
        "\n",
        "    if method == \"lbl\":\n",
        "        for i in cols:\n",
        "            df[i] = LabelEncoder().fit_transform(df[i].astype(str))\n",
        "        return df\n",
        "\n",
        "    if method == \"dmy\":\n",
        "        encoded = pd.get_dummies(df[cols])\n",
        "        df = df.drop(columns=cols, axis=1)\n",
        "        df = pd.concat([df, encoded], axis=1)\n",
        "        return df"
      ],
      "execution_count": null,
      "outputs": []
    },
    {
      "cell_type": "code",
      "metadata": {
        "colab": {
          "base_uri": "https://localhost:8080/"
        },
        "id": "xewmA6xprGoK",
        "outputId": "fd8e6dcc-4c1a-48c7-a992-f3ce94e3679a"
      },
      "source": [
        "bank_df_pandas.dtypes"
      ],
      "execution_count": null,
      "outputs": [
        {
          "output_type": "execute_result",
          "data": {
            "text/plain": [
              "age           int32\n",
              "job          object\n",
              "marital      object\n",
              "education    object\n",
              "default      object\n",
              "balance       int32\n",
              "housing      object\n",
              "loan         object\n",
              "contact      object\n",
              "day           int32\n",
              "month        object\n",
              "duration      int32\n",
              "campaign      int32\n",
              "pdays         int32\n",
              "previous      int32\n",
              "poutcome     object\n",
              "y            object\n",
              "dtype: object"
            ]
          },
          "metadata": {},
          "execution_count": 138
        }
      ]
    },
    {
      "cell_type": "code",
      "metadata": {
        "id": "syLjUpTwsF7J"
      },
      "source": [
        "from sklearn.preprocessing import LabelEncoder\n",
        "bank_df_pandas_lbl = encode(bank_df_pandas,'lbl')"
      ],
      "execution_count": null,
      "outputs": []
    },
    {
      "cell_type": "code",
      "metadata": {
        "colab": {
          "base_uri": "https://localhost:8080/"
        },
        "id": "FbcuIiZwsiHS",
        "outputId": "55f22105-879e-4ed1-c892-d3096ce4cb91"
      },
      "source": [
        "bank_df_pandas_lbl.dtypes"
      ],
      "execution_count": null,
      "outputs": [
        {
          "output_type": "execute_result",
          "data": {
            "text/plain": [
              "age          int32\n",
              "job          int64\n",
              "marital      int64\n",
              "education    int64\n",
              "default      int64\n",
              "balance      int32\n",
              "housing      int64\n",
              "loan         int64\n",
              "contact      int64\n",
              "day          int32\n",
              "month        int64\n",
              "duration     int32\n",
              "campaign     int32\n",
              "pdays        int32\n",
              "previous     int32\n",
              "poutcome     int64\n",
              "y            int64\n",
              "dtype: object"
            ]
          },
          "metadata": {},
          "execution_count": 140
        }
      ]
    },
    {
      "cell_type": "code",
      "metadata": {
        "colab": {
          "base_uri": "https://localhost:8080/",
          "height": 629
        },
        "id": "0XWA4t7Hsqml",
        "outputId": "559f1dd0-e8c8-4872-8ddf-812cba608071"
      },
      "source": [
        "from sklearn.preprocessing import StandardScaler\n",
        "box_plot_classification(bank_df_pandas, \"y\")"
      ],
      "execution_count": null,
      "outputs": [
        {
          "output_type": "display_data",
          "data": {
            "image/png": "[encoded data removed]",
            "text/plain": [
              "<Figure size 720x720 with 1 Axes>"
            ]
          },
          "metadata": {}
        }
      ]
    },
    {
      "cell_type": "code",
      "metadata": {
        "id": "NPn_Lmdi1fvy"
      },
      "source": [
        "from pyspark.sql import functions as F\n",
        "from pyspark.sql.types import StringType, IntegerType, DoubleType, DateType\n",
        "from pyspark.mllib.linalg import Vectors\n",
        "from pyspark.mllib.stat import Statistics\n",
        "import pandas as pd\n",
        "import numpy as np\n",
        "import matplotlib.pyplot as plt\n",
        "import seaborn as sns\n",
        "from scipy.stats import kstest\n",
        "sns.set(color_codes=True)\n",
        "\n",
        "from pyspark.sql.types import StringType, DoubleType, IntegerType, ArrayType, DateType\n",
        "from pyspark.ml import Pipeline\n",
        "from pyspark.ml.feature import OneHotEncoder, StringIndexer, VectorAssembler, MinMaxScaler\n",
        "from pyspark.ml.classification import RandomForestClassifier, GBTClassifier, LogisticRegression\n",
        "from pyspark.ml.evaluation import BinaryClassificationEvaluator, MulticlassClassificationEvaluator\n",
        "from pyspark.ml.evaluation import RegressionEvaluator\n",
        "from pyspark.ml.tuning import CrossValidator, ParamGridBuilder\n",
        "\n",
        "import re"
      ],
      "execution_count": null,
      "outputs": []
    },
    {
      "cell_type": "markdown",
      "metadata": {
        "id": "hDLnvpDUpvz_"
      },
      "source": [
        "•   Identificar variables altamente correlacionadas\n",
        "\n",
        "•   Label encoding/ One hot encoding \n",
        "\n",
        "•   Consolidar variables day & month \n",
        "\n",
        "  Binning de variables edades & saldos"
      ]
    },
    {
      "cell_type": "code",
      "metadata": {
        "id": "9JgFkaIz1f1f"
      },
      "source": [
        "def correlated(df, threshold, drop_columns=False, encode_type='dmy'):\n",
        "    '''Create a copy if you're viewing before deleting.\n",
        "    If deleting df= correlated(df,...)'''\n",
        "    df = df.copy()\n",
        "    if bool((df.select_dtypes('object')).size > 0):\n",
        "        df = encode(df, encode_type)\n",
        "        df_corr = df.corr()\n",
        "\n",
        "    else:\n",
        "        df_corr = df.corr()\n",
        "\n",
        "    triangle = df_corr.where(np.triu(np.ones(df_corr.shape), k=1).astype(bool))\n",
        "    to_drop = pd.Series(df_corr.iloc[:,\n",
        "                        np.where((df_corr.mask(np.tril(np.ones(df_corr.shape, dtype=bool))).abs() > threshold).any())[\n",
        "                            0]].columns)\n",
        "\n",
        "    if drop_columns:\n",
        "        df = df.drop(labels=to_drop, axis=1)\n",
        "        return df\n",
        "\n",
        "\n",
        "    else:\n",
        "\n",
        "        collinear = pd.DataFrame(columns=['drop_feature', 'corr_feature', 'corr_value'])\n",
        "\n",
        "        for i in to_drop:\n",
        "\n",
        "            # Find the correlated features\n",
        "            corr_features = list(triangle.index[triangle[i].abs() > threshold])\n",
        "\n",
        "            # Find the correlated values\n",
        "            corr_values = list(triangle[i][triangle[i].abs() > threshold])\n",
        "            drop_features = [i for _ in range(len(corr_features))]\n",
        "\n",
        "            # Record the information (need a temp df for now)\n",
        "            temp_df = pd.DataFrame.from_dict({'drop_feature': drop_features,\n",
        "                                              'corr_feature': corr_features,\n",
        "                                              'corr_value': corr_values})\n",
        "            # Add to dataframe\n",
        "            collinear = collinear.append(temp_df, ignore_index=True)\n",
        "\n",
        "\n",
        "        else:\n",
        "            print(f\"From {len(df.columns)} columns\")\n",
        "            print(f\"{len(to_drop)} highly correlated columns to drop:\")\n",
        "            print()\n",
        "            print(to_drop)\n",
        "            print(\"-----\")\n",
        "            print(\n",
        "                \"Note_to_self...drop_feature may be duplicated due to multiple, stronger than threshold, correlated pairs:\")\n",
        "            print()\n",
        "            print(collinear)"
      ],
      "execution_count": null,
      "outputs": []
    },
    {
      "cell_type": "code",
      "metadata": {
        "id": "c5oyPJbd1f5F",
        "colab": {
          "base_uri": "https://localhost:8080/"
        },
        "outputId": "32dbf7a9-35a4-4a0d-b0e9-2c7efa73eed7"
      },
      "source": [
        "correlated(bank_df_pandas, 0.85,encode_type='lbl')"
      ],
      "execution_count": null,
      "outputs": [
        {
          "output_type": "stream",
          "name": "stdout",
          "text": [
            "From 17 columns\n",
            "1 highly correlated columns to drop:\n",
            "\n",
            "0    poutcome\n",
            "dtype: object\n",
            "-----\n",
            "Note_to_self...drop_feature may be duplicated due to multiple, stronger than threshold, correlated pairs:\n",
            "\n",
            "  drop_feature corr_feature  corr_value\n",
            "0     poutcome        pdays   -0.858497\n"
          ]
        }
      ]
    },
    {
      "cell_type": "code",
      "metadata": {
        "id": "xrhceqXA1gEg",
        "colab": {
          "base_uri": "https://localhost:8080/"
        },
        "outputId": "21c3446b-abe0-4c04-ec83-0f2d1731b60c"
      },
      "source": [
        "bank_df.show(10)"
      ],
      "execution_count": null,
      "outputs": [
        {
          "output_type": "stream",
          "name": "stdout",
          "text": [
            "+---+------------+--------+---------+-------+-------+-------+----+-------+---+-----+--------+--------+-----+--------+--------+---+\n",
            "|age|         job| marital|education|default|balance|housing|loan|contact|day|month|duration|campaign|pdays|previous|poutcome|  y|\n",
            "+---+------------+--------+---------+-------+-------+-------+----+-------+---+-----+--------+--------+-----+--------+--------+---+\n",
            "| 58|  management| married| tertiary|     no|   2143|    yes|  no|unknown|  5|  may|     261|       1|   -1|       0| unknown| no|\n",
            "| 44|  technician|  single|secondary|     no|     29|    yes|  no|unknown|  5|  may|     151|       1|   -1|       0| unknown| no|\n",
            "| 33|entrepreneur| married|secondary|     no|      2|    yes| yes|unknown|  5|  may|      76|       1|   -1|       0| unknown| no|\n",
            "| 47| blue-collar| married|  unknown|     no|   1506|    yes|  no|unknown|  5|  may|      92|       1|   -1|       0| unknown| no|\n",
            "| 33|     unknown|  single|  unknown|     no|      1|     no|  no|unknown|  5|  may|     198|       1|   -1|       0| unknown| no|\n",
            "| 35|  management| married| tertiary|     no|    231|    yes|  no|unknown|  5|  may|     139|       1|   -1|       0| unknown| no|\n",
            "| 28|  management|  single| tertiary|     no|    447|    yes| yes|unknown|  5|  may|     217|       1|   -1|       0| unknown| no|\n",
            "| 42|entrepreneur|divorced| tertiary|    yes|      2|    yes|  no|unknown|  5|  may|     380|       1|   -1|       0| unknown| no|\n",
            "| 58|     retired| married|  primary|     no|    121|    yes|  no|unknown|  5|  may|      50|       1|   -1|       0| unknown| no|\n",
            "| 43|  technician|  single|secondary|     no|    593|    yes|  no|unknown|  5|  may|      55|       1|   -1|       0| unknown| no|\n",
            "+---+------------+--------+---------+-------+-------+-------+----+-------+---+-----+--------+--------+-----+--------+--------+---+\n",
            "only showing top 10 rows\n",
            "\n"
          ]
        }
      ]
    },
    {
      "cell_type": "code",
      "metadata": {
        "id": "3FWdvqI81gJx",
        "colab": {
          "base_uri": "https://localhost:8080/"
        },
        "outputId": "01f68b27-6b1d-460e-ae1f-acbf628f9726"
      },
      "source": [
        "bank_df.printSchema()"
      ],
      "execution_count": null,
      "outputs": [
        {
          "output_type": "stream",
          "name": "stdout",
          "text": [
            "root\n",
            " |-- age: integer (nullable = true)\n",
            " |-- job: string (nullable = true)\n",
            " |-- marital: string (nullable = true)\n",
            " |-- education: string (nullable = true)\n",
            " |-- default: string (nullable = true)\n",
            " |-- balance: integer (nullable = true)\n",
            " |-- housing: string (nullable = true)\n",
            " |-- loan: string (nullable = true)\n",
            " |-- contact: string (nullable = true)\n",
            " |-- day: integer (nullable = true)\n",
            " |-- month: string (nullable = true)\n",
            " |-- duration: integer (nullable = true)\n",
            " |-- campaign: integer (nullable = true)\n",
            " |-- pdays: integer (nullable = true)\n",
            " |-- previous: integer (nullable = true)\n",
            " |-- poutcome: string (nullable = true)\n",
            " |-- y: string (nullable = true)\n",
            "\n"
          ]
        }
      ]
    },
    {
      "cell_type": "code",
      "metadata": {
        "colab": {
          "base_uri": "https://localhost:8080/"
        },
        "id": "k9wLjWs8xVrb",
        "outputId": "7aba645e-641b-431f-ab4a-2d5c6d492e9a"
      },
      "source": [
        " columnList = [item[0] for item in bank_df.dtypes if item[1].startswith('string')]\n",
        " columnList"
      ],
      "execution_count": null,
      "outputs": [
        {
          "output_type": "execute_result",
          "data": {
            "text/plain": [
              "['job',\n",
              " 'marital',\n",
              " 'education',\n",
              " 'default',\n",
              " 'housing',\n",
              " 'loan',\n",
              " 'contact',\n",
              " 'month',\n",
              " 'poutcome',\n",
              " 'y']"
            ]
          },
          "metadata": {},
          "execution_count": 147
        }
      ]
    },
    {
      "cell_type": "code",
      "metadata": {
        "id": "IXzKWuji0E3U"
      },
      "source": [
        "for variable in columnList:\n",
        "    #converts string variables to numerical indices e.g. January to 1, February to 2 etc.\n",
        "    indexer = StringIndexer(inputCol=variable, outputCol=variable+\"index\")\n",
        "    logisticdata = indexer.fit(bank_df).transform(bank_df)\n",
        "    \n",
        "    #explodes the now numerical categorical variables into binary variables \n",
        "    encoder = OneHotEncoder(inputCol=variable+\"index\", outputCol=variable+\"vec\")\n",
        "    logisticdata = encoder.fit(logisticdata).transform(logisticdata)  "
      ],
      "execution_count": null,
      "outputs": []
    },
    {
      "cell_type": "code",
      "metadata": {
        "colab": {
          "base_uri": "https://localhost:8080/"
        },
        "id": "ptGyP1NjwlH2",
        "outputId": "1c337f18-a4c6-41af-8462-66932cc799da"
      },
      "source": [
        "logisticdata.show()"
      ],
      "execution_count": null,
      "outputs": [
        {
          "output_type": "stream",
          "name": "stdout",
          "text": [
            "+---+------------+--------+---------+-------+-------+-------+----+-------+---+-----+--------+--------+-----+--------+--------+---+------+-------------+\n",
            "|age|         job| marital|education|default|balance|housing|loan|contact|day|month|duration|campaign|pdays|previous|poutcome|  y|yindex|         yvec|\n",
            "+---+------------+--------+---------+-------+-------+-------+----+-------+---+-----+--------+--------+-----+--------+--------+---+------+-------------+\n",
            "| 58|  management| married| tertiary|     no|   2143|    yes|  no|unknown|  5|  may|     261|       1|   -1|       0| unknown| no|   0.0|(1,[0],[1.0])|\n",
            "| 44|  technician|  single|secondary|     no|     29|    yes|  no|unknown|  5|  may|     151|       1|   -1|       0| unknown| no|   0.0|(1,[0],[1.0])|\n",
            "| 33|entrepreneur| married|secondary|     no|      2|    yes| yes|unknown|  5|  may|      76|       1|   -1|       0| unknown| no|   0.0|(1,[0],[1.0])|\n",
            "| 47| blue-collar| married|  unknown|     no|   1506|    yes|  no|unknown|  5|  may|      92|       1|   -1|       0| unknown| no|   0.0|(1,[0],[1.0])|\n",
            "| 33|     unknown|  single|  unknown|     no|      1|     no|  no|unknown|  5|  may|     198|       1|   -1|       0| unknown| no|   0.0|(1,[0],[1.0])|\n",
            "| 35|  management| married| tertiary|     no|    231|    yes|  no|unknown|  5|  may|     139|       1|   -1|       0| unknown| no|   0.0|(1,[0],[1.0])|\n",
            "| 28|  management|  single| tertiary|     no|    447|    yes| yes|unknown|  5|  may|     217|       1|   -1|       0| unknown| no|   0.0|(1,[0],[1.0])|\n",
            "| 42|entrepreneur|divorced| tertiary|    yes|      2|    yes|  no|unknown|  5|  may|     380|       1|   -1|       0| unknown| no|   0.0|(1,[0],[1.0])|\n",
            "| 58|     retired| married|  primary|     no|    121|    yes|  no|unknown|  5|  may|      50|       1|   -1|       0| unknown| no|   0.0|(1,[0],[1.0])|\n",
            "| 43|  technician|  single|secondary|     no|    593|    yes|  no|unknown|  5|  may|      55|       1|   -1|       0| unknown| no|   0.0|(1,[0],[1.0])|\n",
            "| 41|      admin.|divorced|secondary|     no|    270|    yes|  no|unknown|  5|  may|     222|       1|   -1|       0| unknown| no|   0.0|(1,[0],[1.0])|\n",
            "| 29|      admin.|  single|secondary|     no|    390|    yes|  no|unknown|  5|  may|     137|       1|   -1|       0| unknown| no|   0.0|(1,[0],[1.0])|\n",
            "| 53|  technician| married|secondary|     no|      6|    yes|  no|unknown|  5|  may|     517|       1|   -1|       0| unknown| no|   0.0|(1,[0],[1.0])|\n",
            "| 58|  technician| married|  unknown|     no|     71|    yes|  no|unknown|  5|  may|      71|       1|   -1|       0| unknown| no|   0.0|(1,[0],[1.0])|\n",
            "| 57|    services| married|secondary|     no|    162|    yes|  no|unknown|  5|  may|     174|       1|   -1|       0| unknown| no|   0.0|(1,[0],[1.0])|\n",
            "| 51|     retired| married|  primary|     no|    229|    yes|  no|unknown|  5|  may|     353|       1|   -1|       0| unknown| no|   0.0|(1,[0],[1.0])|\n",
            "| 45|      admin.|  single|  unknown|     no|     13|    yes|  no|unknown|  5|  may|      98|       1|   -1|       0| unknown| no|   0.0|(1,[0],[1.0])|\n",
            "| 57| blue-collar| married|  primary|     no|     52|    yes|  no|unknown|  5|  may|      38|       1|   -1|       0| unknown| no|   0.0|(1,[0],[1.0])|\n",
            "| 60|     retired| married|  primary|     no|     60|    yes|  no|unknown|  5|  may|     219|       1|   -1|       0| unknown| no|   0.0|(1,[0],[1.0])|\n",
            "| 33|    services| married|secondary|     no|      0|    yes|  no|unknown|  5|  may|      54|       1|   -1|       0| unknown| no|   0.0|(1,[0],[1.0])|\n",
            "+---+------------+--------+---------+-------+-------+-------+----+-------+---+-----+--------+--------+-----+--------+--------+---+------+-------------+\n",
            "only showing top 20 rows\n",
            "\n"
          ]
        }
      ]
    },
    {
      "cell_type": "code",
      "metadata": {
        "id": "paMIpzY5wlNL"
      },
      "source": [
        "logisticdata_pandas = logisticdata.toPandas()"
      ],
      "execution_count": null,
      "outputs": []
    },
    {
      "cell_type": "code",
      "metadata": {
        "colab": {
          "base_uri": "https://localhost:8080/"
        },
        "id": "-e5aVILDwlTy",
        "outputId": "b7018a44-3695-4937-8025-0e2a717d909e"
      },
      "source": [
        "logisticdata_pandas.yindex.value_counts()"
      ],
      "execution_count": null,
      "outputs": [
        {
          "output_type": "execute_result",
          "data": {
            "text/plain": [
              "0.0    39922\n",
              "1.0     5289\n",
              "Name: yindex, dtype: int64"
            ]
          },
          "metadata": {},
          "execution_count": 151
        }
      ]
    },
    {
      "cell_type": "code",
      "metadata": {
        "colab": {
          "base_uri": "https://localhost:8080/"
        },
        "id": "n6dfeVeO2Hh9",
        "outputId": "b288d540-8495-4573-df91-cb1d0fbff0a1"
      },
      "source": [
        "from pyspark.ml import Pipeline\n",
        "from pyspark.ml.feature import StringIndexer\n",
        "\n",
        "columnList = [item[0] for item in bank_df.dtypes if item[1].startswith('string')]\n",
        "indexers = [StringIndexer(inputCol=column, outputCol=column+\"_index\") for column in columnList]\n",
        "\n",
        "pipeline = Pipeline(stages=indexers)\n",
        "df_r = pipeline.fit(bank_df).transform(bank_df)\n",
        "\n",
        "df_r.show()"
      ],
      "execution_count": null,
      "outputs": [
        {
          "output_type": "stream",
          "name": "stdout",
          "text": [
            "+---+------------+--------+---------+-------+-------+-------+----+-------+---+-----+--------+--------+-----+--------+--------+---+---------+-------------+---------------+-------------+-------------+----------+-------------+-----------+--------------+-------+\n",
            "|age|         job| marital|education|default|balance|housing|loan|contact|day|month|duration|campaign|pdays|previous|poutcome|  y|job_index|marital_index|education_index|default_index|housing_index|loan_index|contact_index|month_index|poutcome_index|y_index|\n",
            "+---+------------+--------+---------+-------+-------+-------+----+-------+---+-----+--------+--------+-----+--------+--------+---+---------+-------------+---------------+-------------+-------------+----------+-------------+-----------+--------------+-------+\n",
            "| 58|  management| married| tertiary|     no|   2143|    yes|  no|unknown|  5|  may|     261|       1|   -1|       0| unknown| no|      1.0|          0.0|            1.0|          0.0|          0.0|       0.0|          1.0|        0.0|           0.0|    0.0|\n",
            "| 44|  technician|  single|secondary|     no|     29|    yes|  no|unknown|  5|  may|     151|       1|   -1|       0| unknown| no|      2.0|          1.0|            0.0|          0.0|          0.0|       0.0|          1.0|        0.0|           0.0|    0.0|\n",
            "| 33|entrepreneur| married|secondary|     no|      2|    yes| yes|unknown|  5|  may|      76|       1|   -1|       0| unknown| no|      7.0|          0.0|            0.0|          0.0|          0.0|       1.0|          1.0|        0.0|           0.0|    0.0|\n",
            "| 47| blue-collar| married|  unknown|     no|   1506|    yes|  no|unknown|  5|  may|      92|       1|   -1|       0| unknown| no|      0.0|          0.0|            3.0|          0.0|          0.0|       0.0|          1.0|        0.0|           0.0|    0.0|\n",
            "| 33|     unknown|  single|  unknown|     no|      1|     no|  no|unknown|  5|  may|     198|       1|   -1|       0| unknown| no|     11.0|          1.0|            3.0|          0.0|          1.0|       0.0|          1.0|        0.0|           0.0|    0.0|\n",
            "| 35|  management| married| tertiary|     no|    231|    yes|  no|unknown|  5|  may|     139|       1|   -1|       0| unknown| no|      1.0|          0.0|            1.0|          0.0|          0.0|       0.0|          1.0|        0.0|           0.0|    0.0|\n",
            "| 28|  management|  single| tertiary|     no|    447|    yes| yes|unknown|  5|  may|     217|       1|   -1|       0| unknown| no|      1.0|          1.0|            1.0|          0.0|          0.0|       1.0|          1.0|        0.0|           0.0|    0.0|\n",
            "| 42|entrepreneur|divorced| tertiary|    yes|      2|    yes|  no|unknown|  5|  may|     380|       1|   -1|       0| unknown| no|      7.0|          2.0|            1.0|          1.0|          0.0|       0.0|          1.0|        0.0|           0.0|    0.0|\n",
            "| 58|     retired| married|  primary|     no|    121|    yes|  no|unknown|  5|  may|      50|       1|   -1|       0| unknown| no|      5.0|          0.0|            2.0|          0.0|          0.0|       0.0|          1.0|        0.0|           0.0|    0.0|\n",
            "| 43|  technician|  single|secondary|     no|    593|    yes|  no|unknown|  5|  may|      55|       1|   -1|       0| unknown| no|      2.0|          1.0|            0.0|          0.0|          0.0|       0.0|          1.0|        0.0|           0.0|    0.0|\n",
            "| 41|      admin.|divorced|secondary|     no|    270|    yes|  no|unknown|  5|  may|     222|       1|   -1|       0| unknown| no|      3.0|          2.0|            0.0|          0.0|          0.0|       0.0|          1.0|        0.0|           0.0|    0.0|\n",
            "| 29|      admin.|  single|secondary|     no|    390|    yes|  no|unknown|  5|  may|     137|       1|   -1|       0| unknown| no|      3.0|          1.0|            0.0|          0.0|          0.0|       0.0|          1.0|        0.0|           0.0|    0.0|\n",
            "| 53|  technician| married|secondary|     no|      6|    yes|  no|unknown|  5|  may|     517|       1|   -1|       0| unknown| no|      2.0|          0.0|            0.0|          0.0|          0.0|       0.0|          1.0|        0.0|           0.0|    0.0|\n",
            "| 58|  technician| married|  unknown|     no|     71|    yes|  no|unknown|  5|  may|      71|       1|   -1|       0| unknown| no|      2.0|          0.0|            3.0|          0.0|          0.0|       0.0|          1.0|        0.0|           0.0|    0.0|\n",
            "| 57|    services| married|secondary|     no|    162|    yes|  no|unknown|  5|  may|     174|       1|   -1|       0| unknown| no|      4.0|          0.0|            0.0|          0.0|          0.0|       0.0|          1.0|        0.0|           0.0|    0.0|\n",
            "| 51|     retired| married|  primary|     no|    229|    yes|  no|unknown|  5|  may|     353|       1|   -1|       0| unknown| no|      5.0|          0.0|            2.0|          0.0|          0.0|       0.0|          1.0|        0.0|           0.0|    0.0|\n",
            "| 45|      admin.|  single|  unknown|     no|     13|    yes|  no|unknown|  5|  may|      98|       1|   -1|       0| unknown| no|      3.0|          1.0|            3.0|          0.0|          0.0|       0.0|          1.0|        0.0|           0.0|    0.0|\n",
            "| 57| blue-collar| married|  primary|     no|     52|    yes|  no|unknown|  5|  may|      38|       1|   -1|       0| unknown| no|      0.0|          0.0|            2.0|          0.0|          0.0|       0.0|          1.0|        0.0|           0.0|    0.0|\n",
            "| 60|     retired| married|  primary|     no|     60|    yes|  no|unknown|  5|  may|     219|       1|   -1|       0| unknown| no|      5.0|          0.0|            2.0|          0.0|          0.0|       0.0|          1.0|        0.0|           0.0|    0.0|\n",
            "| 33|    services| married|secondary|     no|      0|    yes|  no|unknown|  5|  may|      54|       1|   -1|       0| unknown| no|      4.0|          0.0|            0.0|          0.0|          0.0|       0.0|          1.0|        0.0|           0.0|    0.0|\n",
            "+---+------------+--------+---------+-------+-------+-------+----+-------+---+-----+--------+--------+-----+--------+--------+---+---------+-------------+---------------+-------------+-------------+----------+-------------+-----------+--------------+-------+\n",
            "only showing top 20 rows\n",
            "\n"
          ]
        }
      ]
    },
    {
      "cell_type": "markdown",
      "metadata": {
        "id": "HvnokJrma3W8"
      },
      "source": [
        "Value_counts equivalent:"
      ]
    },
    {
      "cell_type": "code",
      "metadata": {
        "colab": {
          "base_uri": "https://localhost:8080/"
        },
        "id": "tGjaaWMS2Irq",
        "outputId": "bb2e993a-6fe0-4e97-90f0-1e7a248a854a"
      },
      "source": [
        "df_r.groupBy('month_index').count().orderBy('count',ascending=False).show()"
      ],
      "execution_count": null,
      "outputs": [
        {
          "output_type": "stream",
          "name": "stdout",
          "text": [
            "+-----------+-----+\n",
            "|month_index|count|\n",
            "+-----------+-----+\n",
            "|        0.0|13766|\n",
            "|        1.0| 6895|\n",
            "|        2.0| 6247|\n",
            "|        3.0| 5341|\n",
            "|        4.0| 3970|\n",
            "|        5.0| 2932|\n",
            "|        6.0| 2649|\n",
            "|        7.0| 1403|\n",
            "|        8.0|  738|\n",
            "|        9.0|  579|\n",
            "|       10.0|  477|\n",
            "|       11.0|  214|\n",
            "+-----------+-----+\n",
            "\n"
          ]
        }
      ]
    },
    {
      "cell_type": "markdown",
      "metadata": {
        "id": "1OiVfTMV8UDq"
      },
      "source": [
        "Mapping between label encoded & values "
      ]
    },
    {
      "cell_type": "code",
      "metadata": {
        "colab": {
          "base_uri": "https://localhost:8080/"
        },
        "id": "feuCZOla2IxC",
        "outputId": "911b95a3-ff68-4414-ce54-2a145e429f04"
      },
      "source": [
        "df_r.select('month','month_index').distinct().show()"
      ],
      "execution_count": null,
      "outputs": [
        {
          "output_type": "stream",
          "name": "stdout",
          "text": [
            "+-----+-----------+\n",
            "|month|month_index|\n",
            "+-----+-----------+\n",
            "|  jul|        1.0|\n",
            "|  jan|        7.0|\n",
            "|  apr|        5.0|\n",
            "|  sep|        9.0|\n",
            "|  mar|       10.0|\n",
            "|  dec|       11.0|\n",
            "|  oct|        8.0|\n",
            "|  nov|        4.0|\n",
            "|  aug|        2.0|\n",
            "|  jun|        3.0|\n",
            "|  feb|        6.0|\n",
            "|  may|        0.0|\n",
            "+-----+-----------+\n",
            "\n"
          ]
        }
      ]
    },
    {
      "cell_type": "code",
      "metadata": {
        "colab": {
          "base_uri": "https://localhost:8080/"
        },
        "id": "UP7Y_ypwVvHY",
        "outputId": "06f966e5-1d4f-4375-954b-0b31be746209"
      },
      "source": [
        "df_r.select('month','month_index').distinct().orderBy('month_index',ascending=False).show()"
      ],
      "execution_count": null,
      "outputs": [
        {
          "output_type": "stream",
          "name": "stdout",
          "text": [
            "+-----+-----------+\n",
            "|month|month_index|\n",
            "+-----+-----------+\n",
            "|  dec|       11.0|\n",
            "|  mar|       10.0|\n",
            "|  sep|        9.0|\n",
            "|  oct|        8.0|\n",
            "|  jan|        7.0|\n",
            "|  feb|        6.0|\n",
            "|  apr|        5.0|\n",
            "|  nov|        4.0|\n",
            "|  jun|        3.0|\n",
            "|  aug|        2.0|\n",
            "|  jul|        1.0|\n",
            "|  may|        0.0|\n",
            "+-----+-----------+\n",
            "\n"
          ]
        }
      ]
    },
    {
      "cell_type": "markdown",
      "metadata": {
        "id": "BXjMpTL9F4c9"
      },
      "source": [
        "Select all columns of type x "
      ]
    },
    {
      "cell_type": "code",
      "metadata": {
        "colab": {
          "base_uri": "https://localhost:8080/"
        },
        "id": "XbKzSbADIQvn",
        "outputId": "298cc7af-bd2d-4399-f33d-320078a25051"
      },
      "source": [
        "columnList = [item[0] for item in df_r.dtypes if item[1].startswith('double')]\n",
        "columnList"
      ],
      "execution_count": null,
      "outputs": [
        {
          "output_type": "execute_result",
          "data": {
            "text/plain": [
              "['job_index',\n",
              " 'marital_index',\n",
              " 'education_index',\n",
              " 'default_index',\n",
              " 'housing_index',\n",
              " 'loan_index',\n",
              " 'contact_index',\n",
              " 'month_index',\n",
              " 'poutcome_index',\n",
              " 'y_index']"
            ]
          },
          "metadata": {},
          "execution_count": 156
        }
      ]
    },
    {
      "cell_type": "markdown",
      "metadata": {
        "id": "wTwMYrK3IF-I"
      },
      "source": [
        "Cast multiple columns to desired type"
      ]
    },
    {
      "cell_type": "code",
      "metadata": {
        "id": "9i2FM5NV2I2n"
      },
      "source": [
        "from pyspark.sql.functions import *\n",
        "for c in columnList:\n",
        "  df_r = df_r.withColumn(c, col(c).cast('integer'))"
      ],
      "execution_count": null,
      "outputs": []
    },
    {
      "cell_type": "code",
      "metadata": {
        "colab": {
          "base_uri": "https://localhost:8080/"
        },
        "id": "cQM7uKpQIQuN",
        "outputId": "05b1e3af-6b25-48a7-8a01-48198fada214"
      },
      "source": [
        "df_r.printSchema()"
      ],
      "execution_count": null,
      "outputs": [
        {
          "output_type": "stream",
          "name": "stdout",
          "text": [
            "root\n",
            " |-- age: integer (nullable = true)\n",
            " |-- job: string (nullable = true)\n",
            " |-- marital: string (nullable = true)\n",
            " |-- education: string (nullable = true)\n",
            " |-- default: string (nullable = true)\n",
            " |-- balance: integer (nullable = true)\n",
            " |-- housing: string (nullable = true)\n",
            " |-- loan: string (nullable = true)\n",
            " |-- contact: string (nullable = true)\n",
            " |-- day: integer (nullable = true)\n",
            " |-- month: string (nullable = true)\n",
            " |-- duration: integer (nullable = true)\n",
            " |-- campaign: integer (nullable = true)\n",
            " |-- pdays: integer (nullable = true)\n",
            " |-- previous: integer (nullable = true)\n",
            " |-- poutcome: string (nullable = true)\n",
            " |-- y: string (nullable = true)\n",
            " |-- job_index: integer (nullable = true)\n",
            " |-- marital_index: integer (nullable = true)\n",
            " |-- education_index: integer (nullable = true)\n",
            " |-- default_index: integer (nullable = true)\n",
            " |-- housing_index: integer (nullable = true)\n",
            " |-- loan_index: integer (nullable = true)\n",
            " |-- contact_index: integer (nullable = true)\n",
            " |-- month_index: integer (nullable = true)\n",
            " |-- poutcome_index: integer (nullable = true)\n",
            " |-- y_index: integer (nullable = true)\n",
            "\n"
          ]
        }
      ]
    },
    {
      "cell_type": "code",
      "metadata": {
        "id": "Pgy2f2Mn2Izh"
      },
      "source": [
        "df_r = df_r.withColumn(\"day_month\",concat(col('day'),lit(\"\"),col('month_index')))"
      ],
      "execution_count": null,
      "outputs": []
    },
    {
      "cell_type": "code",
      "metadata": {
        "id": "FlpMkRJRWLEH"
      },
      "source": [
        "# Buckets: \n",
        "# from pyspark.ml.feature import Bucketizer\n",
        "# bucketizer = Bucketizer(splits=[ -8020, 0, 272, 701,12200, float('Inf') ],inputCol=\"balance\", outputCol=\"balance_bins\")\n",
        "# df_r = bucketizer.setHandleInvalid(\"keep\").transform(df_r)"
      ],
      "execution_count": null,
      "outputs": []
    },
    {
      "cell_type": "markdown",
      "metadata": {
        "id": "5uFofvNOba63"
      },
      "source": [
        "Drop columns"
      ]
    },
    {
      "cell_type": "code",
      "metadata": {
        "id": "wUp8duHWWMP6"
      },
      "source": [
        "df_r = df_r.drop('balance_bins2')\n",
        "# Drop multiple columns\n",
        "# columns_to_drop = ['id', 'id_copy']\n",
        "# df = df.drop(*columns_to_drop)"
      ],
      "execution_count": null,
      "outputs": []
    },
    {
      "cell_type": "code",
      "metadata": {
        "id": "lBY9l_Pgkpki"
      },
      "source": [
        "# Quantiles: \n",
        "from pyspark.ml.feature import QuantileDiscretizer\n",
        "discretizer = QuantileDiscretizer(numBuckets=5, inputCol=\"balance\", outputCol=\"balance_binned\", relativeError=0.01, handleInvalid=\"error\")\n",
        "df_r = discretizer.setHandleInvalid(\"keep\").fit(df_r).transform(df_r)"
      ],
      "execution_count": null,
      "outputs": []
    },
    {
      "cell_type": "code",
      "metadata": {
        "colab": {
          "base_uri": "https://localhost:8080/"
        },
        "id": "Ogf3Xn4WWMje",
        "outputId": "0034bcad-2d76-4ffa-deec-dbf80a369356"
      },
      "source": [
        "df_r.groupBy('balance_binned').count().orderBy('count',ascending=False).show()"
      ],
      "execution_count": null,
      "outputs": [
        {
          "output_type": "stream",
          "name": "stdout",
          "text": [
            "+--------------+-----+\n",
            "|balance_binned|count|\n",
            "+--------------+-----+\n",
            "|           4.0| 9478|\n",
            "|           1.0| 9226|\n",
            "|           3.0| 9020|\n",
            "|           2.0| 8882|\n",
            "|           0.0| 8605|\n",
            "+--------------+-----+\n",
            "\n"
          ]
        }
      ]
    },
    {
      "cell_type": "code",
      "metadata": {
        "colab": {
          "base_uri": "https://localhost:8080/"
        },
        "id": "cYwyDyDnWNGE",
        "outputId": "b556bc49-cf90-45e9-be92-c10cf99cf1c1"
      },
      "source": [
        "#Check ranges \n",
        "df_r.groupby('balance_binned').agg(min('balance'), max('balance')).orderBy('balance_binned', ascending =True).show()\n"
      ],
      "execution_count": null,
      "outputs": [
        {
          "output_type": "stream",
          "name": "stdout",
          "text": [
            "+--------------+------------+------------+\n",
            "|balance_binned|min(balance)|max(balance)|\n",
            "+--------------+------------+------------+\n",
            "|           0.0|       -8019|          14|\n",
            "|           1.0|          15|         262|\n",
            "|           2.0|         263|         675|\n",
            "|           3.0|         676|        1777|\n",
            "|           4.0|        1778|      102127|\n",
            "+--------------+------------+------------+\n",
            "\n"
          ]
        }
      ]
    },
    {
      "cell_type": "markdown",
      "metadata": {
        "id": "gEp4uSw_N3ai"
      },
      "source": [
        "Min Max Scaler"
      ]
    },
    {
      "cell_type": "code",
      "metadata": {
        "id": "scqFkNdiKO0H"
      },
      "source": [
        "columns_to_scale = [\"balance\", \"previous\"]\n",
        "assemblers = [VectorAssembler(inputCols=[col], outputCol=col + \"_vec\") for col in columns_to_scale]\n",
        "scalers = [MinMaxScaler(inputCol=col + \"_vec\", outputCol=col + \"_scaled\") for col in columns_to_scale]\n",
        "pipeline = Pipeline(stages=assemblers + scalers)\n",
        "scalerModel = pipeline.fit(df_r)\n",
        "scaledData = scalerModel.transform(df_r)"
      ],
      "execution_count": null,
      "outputs": []
    },
    {
      "cell_type": "code",
      "metadata": {
        "colab": {
          "base_uri": "https://localhost:8080/"
        },
        "id": "DrqzPx60Wd8M",
        "outputId": "c7ac77b2-19f2-4014-affe-8983aaf0c01c"
      },
      "source": [
        "scaledData.show()"
      ],
      "execution_count": null,
      "outputs": [
        {
          "output_type": "stream",
          "name": "stdout",
          "text": [
            "+---+------------+--------+---------+-------+-------+-------+----+-------+---+-----+--------+--------+-----+--------+--------+---+---------+-------------+---------------+-------------+-------------+----------+-------------+-----------+--------------+-------+---------+--------------+-----------+------------+--------------------+---------------+\n",
            "|age|         job| marital|education|default|balance|housing|loan|contact|day|month|duration|campaign|pdays|previous|poutcome|  y|job_index|marital_index|education_index|default_index|housing_index|loan_index|contact_index|month_index|poutcome_index|y_index|day_month|balance_binned|balance_vec|previous_vec|      balance_scaled|previous_scaled|\n",
            "+---+------------+--------+---------+-------+-------+-------+----+-------+---+-----+--------+--------+-----+--------+--------+---+---------+-------------+---------------+-------------+-------------+----------+-------------+-----------+--------------+-------+---------+--------------+-----------+------------+--------------------+---------------+\n",
            "| 58|  management| married| tertiary|     no|   2143|    yes|  no|unknown|  5|  may|     261|       1|   -1|       0| unknown| no|        1|            0|              1|            0|            0|         0|            1|          0|             0|      0|       50|           4.0|   [2143.0]|       [0.0]|[0.09225936484302...|          [0.0]|\n",
            "| 44|  technician|  single|secondary|     no|     29|    yes|  no|unknown|  5|  may|     151|       1|   -1|       0| unknown| no|        2|            1|              0|            0|            0|         0|            1|          0|             0|      0|       50|           1.0|     [29.0]|       [0.0]|[0.07306665698255...|          [0.0]|\n",
            "| 33|entrepreneur| married|secondary|     no|      2|    yes| yes|unknown|  5|  may|      76|       1|   -1|       0| unknown| no|        7|            0|              0|            0|            0|         1|            1|          0|             0|      0|       50|           0.0|      [2.0]|       [0.0]|[0.07282152779038...|          [0.0]|\n",
            "| 47| blue-collar| married|  unknown|     no|   1506|    yes|  no|unknown|  5|  may|      92|       1|   -1|       0| unknown| no|        0|            0|              3|            0|            0|         0|            1|          0|             0|      0|       50|           3.0|   [1506.0]|       [0.0]|[0.08647613167977...|          [0.0]|\n",
            "| 33|     unknown|  single|  unknown|     no|      1|     no|  no|unknown|  5|  may|     198|       1|   -1|       0| unknown| no|       11|            1|              3|            0|            1|         0|            1|          0|             0|      0|       50|           0.0|      [1.0]|       [0.0]|[0.0728124489314183]|          [0.0]|\n",
            "| 35|  management| married| tertiary|     no|    231|    yes|  no|unknown|  5|  may|     139|       1|   -1|       0| unknown| no|        1|            0|              1|            0|            0|         0|            1|          0|             0|      0|       50|           1.0|    [231.0]|       [0.0]|[0.0749005864942894]|          [0.0]|\n",
            "| 28|  management|  single| tertiary|     no|    447|    yes| yes|unknown|  5|  may|     217|       1|   -1|       0| unknown| no|        1|            1|              1|            0|            0|         1|            1|          0|             0|      0|       50|           2.0|    [447.0]|       [0.0]|[0.07686162003159...|          [0.0]|\n",
            "| 42|entrepreneur|divorced| tertiary|    yes|      2|    yes|  no|unknown|  5|  may|     380|       1|   -1|       0| unknown| no|        7|            2|              1|            1|            0|         0|            1|          0|             0|      0|       50|           0.0|      [2.0]|       [0.0]|[0.07282152779038...|          [0.0]|\n",
            "| 58|     retired| married|  primary|     no|    121|    yes|  no|unknown|  5|  may|      50|       1|   -1|       0| unknown| no|        5|            0|              2|            0|            0|         0|            1|          0|             0|      0|       50|           1.0|    [121.0]|       [0.0]|[0.07390191200769...|          [0.0]|\n",
            "| 43|  technician|  single|secondary|     no|    593|    yes|  no|unknown|  5|  may|      55|       1|   -1|       0| unknown| no|        2|            1|              0|            0|            0|         0|            1|          0|             0|      0|       50|           2.0|    [593.0]|       [0.0]|[0.07818713344106...|          [0.0]|\n",
            "| 41|      admin.|divorced|secondary|     no|    270|    yes|  no|unknown|  5|  may|     222|       1|   -1|       0| unknown| no|        3|            2|              0|            0|            0|         0|            1|          0|             0|      0|       50|           2.0|    [270.0]|       [0.0]|[0.07525466199408...|          [0.0]|\n",
            "| 29|      admin.|  single|secondary|     no|    390|    yes|  no|unknown|  5|  may|     137|       1|   -1|       0| unknown| no|        3|            1|              0|            0|            0|         0|            1|          0|             0|      0|       50|           2.0|    [390.0]|       [0.0]|[0.07634412507036...|          [0.0]|\n",
            "| 53|  technician| married|secondary|     no|      6|    yes|  no|unknown|  5|  may|     517|       1|   -1|       0| unknown| no|        2|            0|              0|            0|            0|         0|            1|          0|             0|      0|       50|           0.0|      [6.0]|       [0.0]|[0.07285784322626...|          [0.0]|\n",
            "| 58|  technician| married|  unknown|     no|     71|    yes|  no|unknown|  5|  may|      71|       1|   -1|       0| unknown| no|        2|            0|              3|            0|            0|         0|            1|          0|             0|      0|       50|           1.0|     [71.0]|       [0.0]|[0.07344796905924...|          [0.0]|\n",
            "| 57|    services| married|secondary|     no|    162|    yes|  no|unknown|  5|  may|     174|       1|   -1|       0| unknown| no|        4|            0|              0|            0|            0|         0|            1|          0|             0|      0|       50|           1.0|    [162.0]|       [0.0]|[0.07427414522542...|          [0.0]|\n",
            "| 51|     retired| married|  primary|     no|    229|    yes|  no|unknown|  5|  may|     353|       1|   -1|       0| unknown| no|        5|            0|              2|            0|            0|         0|            1|          0|             0|      0|       50|           1.0|    [229.0]|       [0.0]|[0.07488242877635...|          [0.0]|\n",
            "| 45|      admin.|  single|  unknown|     no|     13|    yes|  no|unknown|  5|  may|      98|       1|   -1|       0| unknown| no|        3|            1|              3|            0|            0|         0|            1|          0|             0|      0|       50|           0.0|     [13.0]|       [0.0]|[0.07292139523904...|          [0.0]|\n",
            "| 57| blue-collar| married|  primary|     no|     52|    yes|  no|unknown|  5|  may|      38|       1|   -1|       0| unknown| no|        0|            0|              2|            0|            0|         0|            1|          0|             0|      0|       50|           1.0|     [52.0]|       [0.0]|[0.07327547073883...|          [0.0]|\n",
            "| 60|     retired| married|  primary|     no|     60|    yes|  no|unknown|  5|  may|     219|       1|   -1|       0| unknown| no|        5|            0|              2|            0|            0|         0|            1|          0|             0|      0|       50|           1.0|     [60.0]|       [0.0]|[0.07334810161058...|          [0.0]|\n",
            "| 33|    services| married|secondary|     no|      0|    yes|  no|unknown|  5|  may|      54|       1|   -1|       0| unknown| no|        4|            0|              0|            0|            0|         0|            1|          0|             0|      0|       50|           0.0|      [0.0]|       [0.0]|[0.0728033700724493]|          [0.0]|\n",
            "+---+------------+--------+---------+-------+-------+-------+----+-------+---+-----+--------+--------+-----+--------+--------+---+---------+-------------+---------------+-------------+-------------+----------+-------------+-----------+--------------+-------+---------+--------------+-----------+------------+--------------------+---------------+\n",
            "only showing top 20 rows\n",
            "\n"
          ]
        }
      ]
    },
    {
      "cell_type": "markdown",
      "metadata": {
        "id": "1p5Q5IT6N-sv"
      },
      "source": [
        "Pipeline\n",
        "edit: too much overhead. do manually"
      ]
    },
    {
      "cell_type": "code",
      "metadata": {
        "id": "SfO5EUMJKO1v"
      },
      "source": [
        "# #indexer(label encoding)\n",
        "# columnList = [item[0] for item in bank_df.dtypes if item[1].startswith('string')]\n",
        "# indexers = [StringIndexer(inputCol=column, outputCol=column+\"_index\") for column in columnList]\n",
        "\n",
        "# #binning\n",
        "# discretizer = QuantileDiscretizer(numBuckets=5, inputCol=\"balance\", outputCol=\"balance_binned\", relativeError=0.01, handleInvalid=\"error\")\n",
        "\n",
        "# #min max scaler\n",
        "# columns_to_scale = [\"balance\", \"previous\"]\n",
        "# assemblers = [VectorAssembler(inputCols=[col], outputCol=col + \"_vec\") for col in columns_to_scale]\n",
        "# scalers = [MinMaxScaler(inputCol=col + \"_vec\", outputCol=col + \"_scaled\") for col in columns_to_scale]\n",
        "\n",
        "# #pipeline stages \n",
        "# stages = indexers\n",
        "# stages.append(discretizer)\n",
        "# stages.append([assemblers, scalers])\n",
        "# pipeline = Pipeline().setStages(stages)\n",
        "\n",
        "# #pipeline fit_transform\n",
        "# df_r_fitted = pipeline.fit(bank_df)\n",
        "# #df_r= df_r_fitted.transform()\n",
        "\n",
        "# #concat\n",
        "# df_r = df_r.withColumn(\"day_month\",concat(col('day'),lit(\"\"),col('month_index')))\n",
        "# df_r.show()"
      ],
      "execution_count": null,
      "outputs": []
    },
    {
      "cell_type": "code",
      "metadata": {
        "id": "sejsQK6NT652"
      },
      "source": [
        "#pipeline = Pipeline().setStages(indexers ,discretizer , [assemblers,scalers])"
      ],
      "execution_count": null,
      "outputs": []
    },
    {
      "cell_type": "markdown",
      "metadata": {
        "id": "YCuu2vkTm8Lc"
      },
      "source": [
        "Full"
      ]
    },
    {
      "cell_type": "code",
      "metadata": {
        "colab": {
          "base_uri": "https://localhost:8080/"
        },
        "id": "XOqm2RBOm87V",
        "outputId": "709e21a9-dd57-44a0-e562-0a8feceaca33"
      },
      "source": [
        "from pyspark.ml import Pipeline\n",
        "from pyspark.ml.feature import StringIndexer\n",
        "from pyspark.ml.feature import QuantileDiscretizer\n",
        "from pyspark.ml.feature import RobustScaler\n",
        "from pyspark.sql.functions import *\n",
        "\n",
        "\n",
        "bank_df = spark.read.csv('bank-full.csv', sep=';', header=True, inferSchema=True)\n",
        "\n",
        "\n",
        "#indexer(label encoding)\n",
        "columnList_strings = [item[0] for item in bank_df.dtypes if item[1].startswith('string')]\n",
        "indexers = [StringIndexer(inputCol=column, outputCol=column+\"_index\") for column in columnList_strings]\n",
        "\n",
        "pipeline = Pipeline(stages=indexers)\n",
        "df_r = pipeline.fit(bank_df).transform(bank_df)\n",
        "\n",
        "#outliers\n",
        "df_r= df_r.filter(df_r[\"previous\"]<42)\n",
        "df_r= df_r.filter(df_r[\"balance\"]<60000)\n",
        "#df_r= df_r.filter(df_r[\"campaign\"]<48)\n",
        "\n",
        "\n",
        "#binning\n",
        "discretizer = QuantileDiscretizer(numBuckets=5, inputCol=\"campaign\", outputCol=\"campaign_binned\", relativeError=0.01, handleInvalid=\"error\")\n",
        "df_r = discretizer.setHandleInvalid(\"keep\").fit(df_r).transform(df_r)\n",
        "\n",
        "\n",
        "#scaling\n",
        "#columns_to_scale = [\"balance\", \"previous\"]\n",
        "columns_to_scale1 = [\"balance\"]\n",
        "assemblers = [VectorAssembler(inputCols=[col], outputCol=col + \"_vec\") for col in columns_to_scale]\n",
        "#min_max scaling\n",
        "#scalers = [MinMaxScaler(inputCol=col + \"_vec\", outputCol=col + \"_scaled\") for col in columns_to_scale]\n",
        "\n",
        "#robust scaler\n",
        "scalers = [RobustScaler(inputCol=col + \"_vec\", outputCol=col + \"_scaled\", withScaling=True, withCentering=False,\n",
        "                      lower=0.25, upper=0.75) for col in columns_to_scale1]\n",
        "pipeline = Pipeline(stages=assemblers + scalers)\n",
        "df_r = pipeline.fit(df_r).transform(df_r)\n",
        "\n",
        "\n",
        "#to_integer\n",
        "columnList_double = [item[0] for item in df_r.dtypes if item[1].startswith('double')]\n",
        "for c in columnList_double:\n",
        "  df_r = df_r.withColumn(c, col(c).cast('integer'))\n",
        "\n",
        "\n",
        "#concat day & month\n",
        "df_r=df_r.withColumn(\"day_month\",concat(col('day'),lit(\"\"),col('month_index')))\n",
        "df_r = df_r.withColumn(\"day_month\", col(\"day_month\").cast('integer'))\n",
        "\n",
        "df_r.show()\n",
        "\n",
        "\n"
      ],
      "execution_count": null,
      "outputs": [
        {
          "output_type": "stream",
          "name": "stdout",
          "text": [
            "+---+------------+--------+---------+-------+-------+-------+----+-------+---+-----+--------+--------+-----+--------+--------+---+---------+-------------+---------------+-------------+-------------+----------+-------------+-----------+--------------+-------+---------------+-----------+------------+--------------------+---------+\n",
            "|age|         job| marital|education|default|balance|housing|loan|contact|day|month|duration|campaign|pdays|previous|poutcome|  y|job_index|marital_index|education_index|default_index|housing_index|loan_index|contact_index|month_index|poutcome_index|y_index|campaign_binned|balance_vec|previous_vec|      balance_scaled|day_month|\n",
            "+---+------------+--------+---------+-------+-------+-------+----+-------+---+-----+--------+--------+-----+--------+--------+---+---------+-------------+---------------+-------------+-------------+----------+-------------+-----------+--------------+-------+---------------+-----------+------------+--------------------+---------+\n",
            "| 58|  management| married| tertiary|     no|   2143|    yes|  no|unknown|  5|  may|     261|       1|   -1|       0| unknown| no|        1|            0|              1|            0|            0|         0|            1|          0|             0|      0|              1|   [2143.0]|       [0.0]|[1.5874074074074074]|       50|\n",
            "| 44|  technician|  single|secondary|     no|     29|    yes|  no|unknown|  5|  may|     151|       1|   -1|       0| unknown| no|        2|            1|              0|            0|            0|         0|            1|          0|             0|      0|              1|     [29.0]|       [0.0]|[0.02148148148148...|       50|\n",
            "| 33|entrepreneur| married|secondary|     no|      2|    yes| yes|unknown|  5|  may|      76|       1|   -1|       0| unknown| no|        7|            0|              0|            0|            0|         1|            1|          0|             0|      0|              1|      [2.0]|       [0.0]|[0.00148148148148...|       50|\n",
            "| 47| blue-collar| married|  unknown|     no|   1506|    yes|  no|unknown|  5|  may|      92|       1|   -1|       0| unknown| no|        0|            0|              3|            0|            0|         0|            1|          0|             0|      0|              1|   [1506.0]|       [0.0]|[1.1155555555555554]|       50|\n",
            "| 33|     unknown|  single|  unknown|     no|      1|     no|  no|unknown|  5|  may|     198|       1|   -1|       0| unknown| no|       11|            1|              3|            0|            1|         0|            1|          0|             0|      0|              1|      [1.0]|       [0.0]|[7.40740740740740...|       50|\n",
            "| 35|  management| married| tertiary|     no|    231|    yes|  no|unknown|  5|  may|     139|       1|   -1|       0| unknown| no|        1|            0|              1|            0|            0|         0|            1|          0|             0|      0|              1|    [231.0]|       [0.0]|[0.1711111111111111]|       50|\n",
            "| 28|  management|  single| tertiary|     no|    447|    yes| yes|unknown|  5|  may|     217|       1|   -1|       0| unknown| no|        1|            1|              1|            0|            0|         1|            1|          0|             0|      0|              1|    [447.0]|       [0.0]|[0.3311111111111111]|       50|\n",
            "| 42|entrepreneur|divorced| tertiary|    yes|      2|    yes|  no|unknown|  5|  may|     380|       1|   -1|       0| unknown| no|        7|            2|              1|            1|            0|         0|            1|          0|             0|      0|              1|      [2.0]|       [0.0]|[0.00148148148148...|       50|\n",
            "| 58|     retired| married|  primary|     no|    121|    yes|  no|unknown|  5|  may|      50|       1|   -1|       0| unknown| no|        5|            0|              2|            0|            0|         0|            1|          0|             0|      0|              1|    [121.0]|       [0.0]|[0.08962962962962...|       50|\n",
            "| 43|  technician|  single|secondary|     no|    593|    yes|  no|unknown|  5|  may|      55|       1|   -1|       0| unknown| no|        2|            1|              0|            0|            0|         0|            1|          0|             0|      0|              1|    [593.0]|       [0.0]|[0.43925925925925...|       50|\n",
            "| 41|      admin.|divorced|secondary|     no|    270|    yes|  no|unknown|  5|  may|     222|       1|   -1|       0| unknown| no|        3|            2|              0|            0|            0|         0|            1|          0|             0|      0|              1|    [270.0]|       [0.0]|[0.19999999999999...|       50|\n",
            "| 29|      admin.|  single|secondary|     no|    390|    yes|  no|unknown|  5|  may|     137|       1|   -1|       0| unknown| no|        3|            1|              0|            0|            0|         0|            1|          0|             0|      0|              1|    [390.0]|       [0.0]|[0.28888888888888...|       50|\n",
            "| 53|  technician| married|secondary|     no|      6|    yes|  no|unknown|  5|  may|     517|       1|   -1|       0| unknown| no|        2|            0|              0|            0|            0|         0|            1|          0|             0|      0|              1|      [6.0]|       [0.0]|[0.00444444444444...|       50|\n",
            "| 58|  technician| married|  unknown|     no|     71|    yes|  no|unknown|  5|  may|      71|       1|   -1|       0| unknown| no|        2|            0|              3|            0|            0|         0|            1|          0|             0|      0|              1|     [71.0]|       [0.0]|[0.05259259259259...|       50|\n",
            "| 57|    services| married|secondary|     no|    162|    yes|  no|unknown|  5|  may|     174|       1|   -1|       0| unknown| no|        4|            0|              0|            0|            0|         0|            1|          0|             0|      0|              1|    [162.0]|       [0.0]|              [0.12]|       50|\n",
            "| 51|     retired| married|  primary|     no|    229|    yes|  no|unknown|  5|  may|     353|       1|   -1|       0| unknown| no|        5|            0|              2|            0|            0|         0|            1|          0|             0|      0|              1|    [229.0]|       [0.0]|[0.16962962962962...|       50|\n",
            "| 45|      admin.|  single|  unknown|     no|     13|    yes|  no|unknown|  5|  may|      98|       1|   -1|       0| unknown| no|        3|            1|              3|            0|            0|         0|            1|          0|             0|      0|              1|     [13.0]|       [0.0]|[0.00962962962962...|       50|\n",
            "| 57| blue-collar| married|  primary|     no|     52|    yes|  no|unknown|  5|  may|      38|       1|   -1|       0| unknown| no|        0|            0|              2|            0|            0|         0|            1|          0|             0|      0|              1|     [52.0]|       [0.0]|[0.03851851851851...|       50|\n",
            "| 60|     retired| married|  primary|     no|     60|    yes|  no|unknown|  5|  may|     219|       1|   -1|       0| unknown| no|        5|            0|              2|            0|            0|         0|            1|          0|             0|      0|              1|     [60.0]|       [0.0]|[0.04444444444444...|       50|\n",
            "| 33|    services| married|secondary|     no|      0|    yes|  no|unknown|  5|  may|      54|       1|   -1|       0| unknown| no|        4|            0|              0|            0|            0|         0|            1|          0|             0|      0|              1|      [0.0]|       [0.0]|               [0.0]|       50|\n",
            "+---+------------+--------+---------+-------+-------+-------+----+-------+---+-----+--------+--------+-----+--------+--------+---+---------+-------------+---------------+-------------+-------------+----------+-------------+-----------+--------------+-------+---------------+-----------+------------+--------------------+---------+\n",
            "only showing top 20 rows\n",
            "\n"
          ]
        }
      ]
    },
    {
      "cell_type": "code",
      "metadata": {
        "id": "Qnu8ey27NLs5"
      },
      "source": [
        "index_cols = [x for x in df_r.columns if x.endswith(\"_index\")]\n",
        "numeric_cols = [item[0] for item in bank_df.dtypes if item[1].startswith('int')]"
      ],
      "execution_count": null,
      "outputs": []
    },
    {
      "cell_type": "code",
      "metadata": {
        "id": "G7e47ayjPSjU"
      },
      "source": [
        "logisticdata = df_r.select(*index_cols,*numeric_cols,\"campaign_binned\",\"balance_scaled\",\"day_month\")"
      ],
      "execution_count": null,
      "outputs": []
    },
    {
      "cell_type": "code",
      "metadata": {
        "id": "3jgQ87hJKOFd"
      },
      "source": [
        "columns_to_drop = ['month_index', 'day']\n",
        "logisticdata = logisticdata.drop(*columns_to_drop)"
      ],
      "execution_count": null,
      "outputs": []
    },
    {
      "cell_type": "code",
      "metadata": {
        "colab": {
          "base_uri": "https://localhost:8080/"
        },
        "id": "qyjJ2VBBbmSI",
        "outputId": "3928c5aa-35c1-47f3-c637-e9779041beb4"
      },
      "source": [
        "logisticdata.drop(\"y_index\").columns"
      ],
      "execution_count": null,
      "outputs": [
        {
          "output_type": "execute_result",
          "data": {
            "text/plain": [
              "['job_index',\n",
              " 'marital_index',\n",
              " 'education_index',\n",
              " 'default_index',\n",
              " 'housing_index',\n",
              " 'loan_index',\n",
              " 'contact_index',\n",
              " 'poutcome_index',\n",
              " 'age',\n",
              " 'balance',\n",
              " 'duration',\n",
              " 'campaign',\n",
              " 'pdays',\n",
              " 'previous',\n",
              " 'campaign_binned',\n",
              " 'balance_scaled',\n",
              " 'day_month']"
            ]
          },
          "metadata": {},
          "execution_count": 216
        }
      ]
    },
    {
      "cell_type": "code",
      "metadata": {
        "id": "NWaltoubUmcj"
      },
      "source": [
        "assembler = VectorAssembler(inputCols= logisticdata.drop(\"y_index\").columns, outputCol=\"features\",handleInvalid=\"keep\")\n",
        "logisticdata2 = assembler.transform(logisticdata)\n",
        "logisticdata2=logisticdata2.select(\"y_index\",\"features\")"
      ],
      "execution_count": null,
      "outputs": []
    },
    {
      "cell_type": "code",
      "metadata": {
        "colab": {
          "base_uri": "https://localhost:8080/"
        },
        "id": "CmPbCNgAUmrJ",
        "outputId": "b547b4ce-b6b0-4b8a-818c-020da93476bf"
      },
      "source": [
        "logisticdata2.show()"
      ],
      "execution_count": null,
      "outputs": [
        {
          "output_type": "stream",
          "name": "stdout",
          "text": [
            "+-------+--------------------+\n",
            "|y_index|            features|\n",
            "+-------+--------------------+\n",
            "|      0|[1.0,0.0,1.0,0.0,...|\n",
            "|      0|[2.0,1.0,0.0,0.0,...|\n",
            "|      0|[7.0,0.0,0.0,0.0,...|\n",
            "|      0|(17,[2,6,8,9,10,1...|\n",
            "|      0|[11.0,1.0,3.0,0.0...|\n",
            "|      0|[1.0,0.0,1.0,0.0,...|\n",
            "|      0|[1.0,1.0,1.0,0.0,...|\n",
            "|      0|[7.0,2.0,1.0,1.0,...|\n",
            "|      0|[5.0,0.0,2.0,0.0,...|\n",
            "|      0|[2.0,1.0,0.0,0.0,...|\n",
            "|      0|[3.0,2.0,0.0,0.0,...|\n",
            "|      0|[3.0,1.0,0.0,0.0,...|\n",
            "|      0|(17,[0,6,8,9,10,1...|\n",
            "|      0|[2.0,0.0,3.0,0.0,...|\n",
            "|      0|(17,[0,6,8,9,10,1...|\n",
            "|      0|[5.0,0.0,2.0,0.0,...|\n",
            "|      0|[3.0,1.0,3.0,0.0,...|\n",
            "|      0|(17,[2,6,8,9,10,1...|\n",
            "|      0|[5.0,0.0,2.0,0.0,...|\n",
            "|      0|(17,[0,6,8,10,11,...|\n",
            "+-------+--------------------+\n",
            "only showing top 20 rows\n",
            "\n"
          ]
        }
      ]
    },
    {
      "cell_type": "code",
      "metadata": {
        "colab": {
          "base_uri": "https://localhost:8080/",
          "height": 289
        },
        "id": "wjVXZDtccpv1",
        "outputId": "45d1e7e3-a7d6-4637-e784-1a32dd329622"
      },
      "source": [
        "predictions.select('y_index', 'features',  'rawPrediction', 'prediction', 'probability').toPandas().head(5)"
      ],
      "execution_count": null,
      "outputs": [
        {
          "output_type": "execute_result",
          "data": {
            "text/html": [
              "<div>\n",
              "<style scoped>\n",
              "    .dataframe tbody tr th:only-of-type {\n",
              "        vertical-align: middle;\n",
              "    }\n",
              "\n",
              "    .dataframe tbody tr th {\n",
              "        vertical-align: top;\n",
              "    }\n",
              "\n",
              "    .dataframe thead th {\n",
              "        text-align: right;\n",
              "    }\n",
              "</style>\n",
              "<table border=\"1\" class=\"dataframe\">\n",
              "  <thead>\n",
              "    <tr style=\"text-align: right;\">\n",
              "      <th></th>\n",
              "      <th>y_index</th>\n",
              "      <th>features</th>\n",
              "      <th>rawPrediction</th>\n",
              "      <th>prediction</th>\n",
              "      <th>probability</th>\n",
              "    </tr>\n",
              "  </thead>\n",
              "  <tbody>\n",
              "    <tr>\n",
              "      <th>0</th>\n",
              "      <td>0</td>\n",
              "      <td>(7.0, 2.0, 1.0, 1.0, 0.0, 0.0, 0.0, 0.0, 41.0,...</td>\n",
              "      <td>[1.3014739128708843, -1.3014739128708843]</td>\n",
              "      <td>0.0</td>\n",
              "      <td>[0.9310510559157359, 0.06894894408426411]</td>\n",
              "    </tr>\n",
              "    <tr>\n",
              "      <th>1</th>\n",
              "      <td>0</td>\n",
              "      <td>(1.0, 1.0, 1.0, 0.0, 1.0, 0.0, 0.0, 0.0, 30.0,...</td>\n",
              "      <td>[1.2642174923470515, -1.2642174923470515]</td>\n",
              "      <td>0.0</td>\n",
              "      <td>[0.9261113321488087, 0.0738886678511913]</td>\n",
              "    </tr>\n",
              "    <tr>\n",
              "      <th>2</th>\n",
              "      <td>0</td>\n",
              "      <td>(1.0, 1.0, 1.0, 0.0, 1.0, 0.0, 0.0, 0.0, 30.0,...</td>\n",
              "      <td>[1.2565524329774052, -1.2565524329774052]</td>\n",
              "      <td>0.0</td>\n",
              "      <td>[0.9250554285814605, 0.0749445714185395]</td>\n",
              "    </tr>\n",
              "    <tr>\n",
              "      <th>3</th>\n",
              "      <td>0</td>\n",
              "      <td>(1.0, 1.0, 1.0, 0.0, 1.0, 0.0, 0.0, 0.0, 30.0,...</td>\n",
              "      <td>[1.112771579943493, -1.112771579943493]</td>\n",
              "      <td>0.0</td>\n",
              "      <td>[0.9025199593558737, 0.0974800406441263]</td>\n",
              "    </tr>\n",
              "    <tr>\n",
              "      <th>4</th>\n",
              "      <td>0</td>\n",
              "      <td>(1.0, 1.0, 1.0, 0.0, 1.0, 0.0, 0.0, 0.0, 31.0,...</td>\n",
              "      <td>[1.3014739128708843, -1.3014739128708843]</td>\n",
              "      <td>0.0</td>\n",
              "      <td>[0.9310510559157359, 0.06894894408426411]</td>\n",
              "    </tr>\n",
              "  </tbody>\n",
              "</table>\n",
              "</div>"
            ],
            "text/plain": [
              "   y_index  ...                                probability\n",
              "0        0  ...  [0.9310510559157359, 0.06894894408426411]\n",
              "1        0  ...   [0.9261113321488087, 0.0738886678511913]\n",
              "2        0  ...   [0.9250554285814605, 0.0749445714185395]\n",
              "3        0  ...   [0.9025199593558737, 0.0974800406441263]\n",
              "4        0  ...  [0.9310510559157359, 0.06894894408426411]\n",
              "\n",
              "[5 rows x 5 columns]"
            ]
          },
          "metadata": {},
          "execution_count": 225
        }
      ]
    },
    {
      "cell_type": "code",
      "metadata": {
        "id": "b6BQX6MlZlZo"
      },
      "source": [
        "test, train = logisticdata2.randomSplit(weights=[0.15, 0.85],  seed=12345)\n",
        "#test, train = logisticdata2.randomSplit(weights=[0.30, 0.70],  seed=12345)"
      ],
      "execution_count": null,
      "outputs": []
    },
    {
      "cell_type": "code",
      "metadata": {
        "id": "WijnXj3JQTSL"
      },
      "source": [
        "#lr  = LogisticRegression(labelCol=\"y_index\", featuresCol=\"features\",maxIter=10, regParam=0.3, elasticNetParam=0.8, family=\"multinomial\")\n",
        "lr = LogisticRegression(labelCol=\"y_index\", featuresCol=\"features\", maxIter=100, regParam=0.001, elasticNetParam=1, standardization=True)\n",
        "\n",
        "lrModel = lr.fit(train)\n",
        "predictions = lrModel.transform(test)"
      ],
      "execution_count": null,
      "outputs": []
    },
    {
      "cell_type": "code",
      "metadata": {
        "colab": {
          "base_uri": "https://localhost:8080/"
        },
        "id": "zoInFvHgZ7Cn",
        "outputId": "a00b7f22-d346-4ee6-a2f4-173033c403f9"
      },
      "source": [
        "accuracy = trainingSummary.accuracy\n",
        "falsePositiveRate = trainingSummary.weightedFalsePositiveRate\n",
        "truePositiveRate = trainingSummary.weightedTruePositiveRate\n",
        "fMeasure = trainingSummary.weightedFMeasure()\n",
        "precision = trainingSummary.weightedPrecision\n",
        "recall = trainingSummary.weightedRecall\n",
        "print(\"Accuracy: %s\\nFPR: %s\\nTPR: %s\\nF-measure: %s\\nPrecision: %s\\nRecall: %s\"\n",
        "      % (accuracy, falsePositiveRate, truePositiveRate, fMeasure, precision, recall))"
      ],
      "execution_count": null,
      "outputs": [
        {
          "output_type": "stream",
          "name": "stdout",
          "text": [
            "Accuracy: 1.0\n",
            "FPR: 0.0\n",
            "TPR: 1.0\n",
            "F-measure: 1.0\n",
            "Precision: 1.0\n",
            "Recall: 1.0\n"
          ]
        }
      ]
    },
    {
      "cell_type": "code",
      "metadata": {
        "id": "EfUossNkZEJ7"
      },
      "source": [
        "gbt = GBTClassifier(labelCol=\"y_index\", featuresCol=\"features\", maxIter=10)\n",
        "lrModel = gbt.fit(train)\n",
        "predictions = lrModel.transform(test)"
      ],
      "execution_count": null,
      "outputs": []
    },
    {
      "cell_type": "code",
      "metadata": {
        "colab": {
          "base_uri": "https://localhost:8080/"
        },
        "id": "Xkslcrn-ZESZ",
        "outputId": "de5fb1ae-e590-4b63-a6c4-ae25e0fbc42a"
      },
      "source": [
        "accuracy = trainingSummary.accuracy\n",
        "falsePositiveRate = trainingSummary.weightedFalsePositiveRate\n",
        "truePositiveRate = trainingSummary.weightedTruePositiveRate\n",
        "fMeasure = trainingSummary.weightedFMeasure()\n",
        "precision = trainingSummary.weightedPrecision\n",
        "recall = trainingSummary.weightedRecall\n",
        "print(\"Accuracy: %s\\nFPR: %s\\nTPR: %s\\nF-measure: %s\\nPrecision: %s\\nRecall: %s\"\n",
        "      % (accuracy, falsePositiveRate, truePositiveRate, fMeasure, precision, recall))"
      ],
      "execution_count": null,
      "outputs": [
        {
          "output_type": "stream",
          "name": "stdout",
          "text": [
            "Accuracy: 1.0\n",
            "FPR: 0.0\n",
            "TPR: 1.0\n",
            "F-measure: 1.0\n",
            "Precision: 1.0\n",
            "Recall: 1.0\n"
          ]
        }
      ]
    },
    {
      "cell_type": "code",
      "metadata": {
        "colab": {
          "base_uri": "https://localhost:8080/"
        },
        "id": "hHAd8fdPXyCN",
        "outputId": "b4a3ac46-9982-4f93-a8b1-0e2dc2e1f38b"
      },
      "source": [
        "lrModel.featureImportances"
      ],
      "execution_count": null,
      "outputs": [
        {
          "output_type": "execute_result",
          "data": {
            "text/plain": [
              "SparseVector(17, {0: 0.0172, 1: 0.0085, 2: 0.0035, 4: 0.0838, 5: 0.0076, 6: 0.0897, 7: 0.0797, 8: 0.0645, 9: 0.0366, 10: 0.3858, 11: 0.0201, 12: 0.0535, 13: 0.0121, 14: 0.0236, 16: 0.1138})"
            ]
          },
          "metadata": {},
          "execution_count": 224
        }
      ]
    },
    {
      "cell_type": "code",
      "metadata": {
        "id": "zESl2NMXdO8T"
      },
      "source": [
        "def ExtractFeatureImp(featureImp, dataset, featuresCol):\n",
        "    list_extract = []\n",
        "    for i in dataset.schema[featuresCol].metadata[\"ml_attr\"][\"attrs\"]:\n",
        "        list_extract = list_extract + dataset.schema[featuresCol].metadata[\"ml_attr\"][\"attrs\"][i]\n",
        "    varlist = pd.DataFrame(list_extract)\n",
        "    varlist['score'] = varlist['idx'].apply(lambda x: featureImp[x])\n",
        "    return(varlist.sort_values('score', ascending = False))"
      ],
      "execution_count": null,
      "outputs": []
    },
    {
      "cell_type": "code",
      "metadata": {
        "colab": {
          "base_uri": "https://localhost:8080/",
          "height": 164
        },
        "id": "4eRmF_XMdaqw",
        "outputId": "08ef46dd-6690-48d8-d105-049d6cfddb8e"
      },
      "source": [
        "ExtractFeatureImp(lrModel.featureImportances, predictions, \"features\").head(10)"
      ],
      "execution_count": null,
      "outputs": [
        {
          "output_type": "error",
          "ename": "NameError",
          "evalue": "ignored",
          "traceback": [
            "\u001b[0;31m---------------------------------------------------------------------------\u001b[0m",
            "\u001b[0;31mNameError\u001b[0m                                 Traceback (most recent call last)",
            "\u001b[0;32m<ipython-input-1-89bbbdccac86>\u001b[0m in \u001b[0;36m<module>\u001b[0;34m()\u001b[0m\n\u001b[0;32m----> 1\u001b[0;31m \u001b[0mExtractFeatureImp\u001b[0m\u001b[0;34m(\u001b[0m\u001b[0mlrModel\u001b[0m\u001b[0;34m.\u001b[0m\u001b[0mfeatureImportances\u001b[0m\u001b[0;34m,\u001b[0m \u001b[0mpredictions\u001b[0m\u001b[0;34m,\u001b[0m \u001b[0;34m\"features\"\u001b[0m\u001b[0;34m)\u001b[0m\u001b[0;34m.\u001b[0m\u001b[0mhead\u001b[0m\u001b[0;34m(\u001b[0m\u001b[0;36m10\u001b[0m\u001b[0;34m)\u001b[0m\u001b[0;34m\u001b[0m\u001b[0;34m\u001b[0m\u001b[0m\n\u001b[0m",
            "\u001b[0;31mNameError\u001b[0m: name 'ExtractFeatureImp' is not defined"
          ]
        }
      ]
    },
    {
      "cell_type": "code",
      "metadata": {
        "id": "N4LFPCg4da1W"
      },
      "source": [
        ""
      ],
      "execution_count": null,
      "outputs": []
    },
    {
      "cell_type": "code",
      "metadata": {
        "id": "TQnObGqKReJk"
      },
      "source": [
        "class_names=[1.0,0.0]\n",
        "import itertools\n",
        "def plot_confusion_matrix(cm, classes,\n",
        "                          normalize=False,\n",
        "                          title='Confusion matrix',\n",
        "                          cmap=plt.cm.Blues):\n",
        "    \"\"\"\n",
        "    This function prints and plots the confusion matrix.\n",
        "    Normalization can be applied by setting `normalize=True`.\n",
        "    \"\"\"\n",
        "    if normalize:\n",
        "        cm = cm.astype('float') / cm.sum(axis=1)[:, np.newaxis]\n",
        "        print(\"Normalized confusion matrix\")\n",
        "    else:\n",
        "        print('Confusion matrix, without normalization')\n",
        "\n",
        "    print(cm)\n",
        "\n",
        "    plt.imshow(cm, interpolation='nearest', cmap=cmap)\n",
        "    plt.title(title)\n",
        "    plt.colorbar()\n",
        "    tick_marks = np.arange(len(classes))\n",
        "    plt.xticks(tick_marks, classes, rotation=45)\n",
        "    plt.yticks(tick_marks, classes)\n",
        "\n",
        "    fmt = '.2f' if normalize else 'd'\n",
        "    thresh = cm.max() / 2.\n",
        "    for i, j in itertools.product(range(cm.shape[0]), range(cm.shape[1])):\n",
        "        plt.text(j, i, format(cm[i, j], fmt),\n",
        "                 horizontalalignment=\"center\",\n",
        "                 color=\"white\" if cm[i, j] > thresh else \"black\")\n",
        "\n",
        "    plt.tight_layout()\n",
        "    plt.ylabel('True label')\n",
        "    plt.xlabel('Predicted label')"
      ],
      "execution_count": null,
      "outputs": []
    },
    {
      "cell_type": "code",
      "metadata": {
        "colab": {
          "base_uri": "https://localhost:8080/",
          "height": 361
        },
        "id": "xwZhFZRwTttQ",
        "outputId": "e0e39f41-2914-4915-82da-7d338eb094b3"
      },
      "source": [
        "from sklearn.metrics import confusion_matrix\n",
        "y_true = predictions.select(\"y_index\")\n",
        "y_true = y_true.toPandas()\n",
        "\n",
        "y_pred = predictions.select(\"prediction\")\n",
        "y_pred = y_pred.toPandas()\n",
        "\n",
        "cnf_matrix = confusion_matrix(y_true, y_pred,labels=class_names)\n",
        "#cnf_matrix\n",
        "plt.figure()\n",
        "plot_confusion_matrix(cnf_matrix, classes=class_names,\n",
        "                      title='Confusion matrix')\n",
        "plt.show()"
      ],
      "execution_count": null,
      "outputs": [
        {
          "output_type": "stream",
          "name": "stdout",
          "text": [
            "Confusion matrix, without normalization\n",
            "[[1054    0]\n",
            " [   0 8050]]\n"
          ]
        },
        {
          "output_type": "display_data",
          "data": {
            "image/png": "[encoded data removed]",
            "text/plain": [
              "<Figure size 432x288 with 2 Axes>"
            ]
          },
          "metadata": {}
        }
      ]
    },
    {
      "cell_type": "code",
      "metadata": {
        "colab": {
          "base_uri": "https://localhost:8080/",
          "height": 372
        },
        "id": "iyTiOV8sTt2T",
        "outputId": "99c308e1-25d5-466a-b428-aa3100e4adb8"
      },
      "source": [
        "trainingSummary = lrModel.summary\n",
        "roc = trainingSummary.roc.toPandas()\n",
        "plt.plot(roc['FPR'],roc['TPR'])\n",
        "plt.ylabel('False Positive Rate')\n",
        "plt.xlabel('True Positive Rate')\n",
        "plt.title('ROC Curve')\n",
        "plt.show()\n",
        "print('Training set areaUnderROC: ' + str(trainingSummary.areaUnderROC))"
      ],
      "execution_count": null,
      "outputs": [
        {
          "output_type": "stream",
          "name": "stderr",
          "text": [
            "/content/spark-3.2.0-bin-hadoop2.7/python/pyspark/sql/context.py:127: FutureWarning: Deprecated in 3.0.0. Use SparkSession.builder.getOrCreate() instead.\n",
            "  FutureWarning\n"
          ]
        },
        {
          "output_type": "display_data",
          "data": {
            "image/png": "[encoded data removed]",
            "text/plain": [
              "<Figure size 432x288 with 1 Axes>"
            ]
          },
          "metadata": {}
        },
        {
          "output_type": "stream",
          "name": "stdout",
          "text": [
            "Training set areaUnderROC: 1.0\n"
          ]
        }
      ]
    },
    {
      "cell_type": "code",
      "metadata": {
        "id": "QcqvTph4agIx"
      },
      "source": [
        "print(\"Coefficients: \\n\" + str(linearModelgen2.coefficientMatrix))\n",
        "print(\"Intercept: \" + str(linearModelgen2.interceptVector))"
      ],
      "execution_count": null,
      "outputs": []
    },
    {
      "cell_type": "code",
      "metadata": {
        "id": "HvNDh0LwaN0Z"
      },
      "source": [
        "predictions = linearModelgen.evaluate(logistictestdata)\n",
        "\n",
        "testSummary = predictions\n",
        "\n",
        "print(testSummary"
      ],
      "execution_count": null,
      "outputs": []
    },
    {
      "cell_type": "code",
      "metadata": {
        "id": "Lxqr3D6haT4V"
      },
      "source": [
        "prtest = testSummary.pr.toPandas()\n",
        "print(prtest['recall'])"
      ],
      "execution_count": null,
      "outputs": []
    },
    {
      "cell_type": "code",
      "metadata": {
        "id": "_Ku1TlCAagVY"
      },
      "source": [
        "logisticdata.groupBy('y_index').count().orderBy('count',ascending=False).show()\n",
        "#logisticdata.select(\"y_index\").count()"
      ],
      "execution_count": null,
      "outputs": []
    },
    {
      "cell_type": "code",
      "metadata": {
        "id": "AfcJMo6JagXJ"
      },
      "source": [
        ""
      ],
      "execution_count": null,
      "outputs": []
    },
    {
      "cell_type": "code",
      "metadata": {
        "id": "nkeUKuUcagZY"
      },
      "source": [
        ""
      ],
      "execution_count": null,
      "outputs": []
    },
    {
      "cell_type": "code",
      "metadata": {
        "id": "jmVgziu3m30_"
      },
      "source": [
        "df_r.printSchema()"
      ],
      "execution_count": null,
      "outputs": []
    },
    {
      "cell_type": "code",
      "metadata": {
        "id": "ST_eYP9wtRlc"
      },
      "source": [
        "df_r.select('campaign').toPandas().plot(style='.')"
      ],
      "execution_count": null,
      "outputs": []
    },
    {
      "cell_type": "code",
      "metadata": {
        "id": "5sDjf0sBw5WW"
      },
      "source": [
        "df_r.select('previous').toPandas().plot(style='.')"
      ],
      "execution_count": null,
      "outputs": []
    },
    {
      "cell_type": "code",
      "metadata": {
        "id": "GCsYXxoo64bI"
      },
      "source": [
        "bank_df.select('previous').toPandas().plot(style='.')"
      ],
      "execution_count": null,
      "outputs": []
    },
    {
      "cell_type": "code",
      "metadata": {
        "id": "uV6nwZZOm4Jf"
      },
      "source": [
        "#from pyspark.sql import function as F\n",
        "udf1 = F.udf(lambda x : int(x[0]),IntegerType())\n",
        "df_r.select('balance_scaled',udf1('balance_scaled')).toPandas().plot(style='.')"
      ],
      "execution_count": null,
      "outputs": []
    },
    {
      "cell_type": "code",
      "metadata": {
        "id": "5h1LT6QMwz_3"
      },
      "source": [
        "df_r.select('balance').toPandas().plot(style='.')"
      ],
      "execution_count": null,
      "outputs": []
    },
    {
      "cell_type": "markdown",
      "metadata": {
        "id": "efbR8fyFALvQ"
      },
      "source": [
        "# see if binned campaign is better or not and also if we want onehot encoding and also we want to scale all numerical variables "
      ]
    },
    {
      "cell_type": "code",
      "metadata": {
        "id": "at4K7tmyw0Pt"
      },
      "source": [
        "df_r.groupby('campaign_binned').agg(min('campaign'), max('campaign')).orderBy('campaign_binned', ascending =True).show()"
      ],
      "execution_count": null,
      "outputs": []
    },
    {
      "cell_type": "code",
      "metadata": {
        "id": "zhMqYnFAw0iM"
      },
      "source": [
        "df_r.groupBy('campaign_binned').count().orderBy('count',ascending=False).show()"
      ],
      "execution_count": null,
      "outputs": []
    }
  ]
}